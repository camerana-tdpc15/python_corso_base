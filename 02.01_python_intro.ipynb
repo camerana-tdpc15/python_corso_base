{
 "cells": [
  {
   "cell_type": "markdown",
   "id": "b185dd02",
   "metadata": {
    "is_toc": true
   },
   "source": [
    "**Sommario**\n",
    "- [Introduzione a Python](#introduzione-a-python)\n",
    "  - [Perché Python?](#perché-python?)\n",
    "  - [Breve storia di Python](#breve-storia-di-python)\n",
    "  - [Caratteristiche peculiari di Python: pro e contro](#caratteristiche-peculiari-di-python-pro-e-contro)\n",
    "    - [Pro](#pro)\n",
    "    - [Contro](#contro)\n",
    "    - [Linguaggi compilati e linguaggi interpretati](#linguaggi-compilati-e-linguaggi-interpretati)\n",
    "    - [Dietro le quinte di un linguaggio interpretato: Python bytecode](#dietro-le-quinte-di-un-linguaggio-interpretato-python-bytecode)\n",
    "  - [Ecosistema di Python](#ecosistema-di-python)\n",
    "      - [Web Development](#web-development)\n",
    "      - [Data Science](#data-science)\n",
    "      - [Machine Learning](#machine-learning)\n",
    "  - [Python in azione: un esempio con Odoo](#python-in-azione-un-esempio-con-odoo)\n",
    "  - [Differenze tra Python v2 e v3](#differenze-tra-python-v2-e-v3)\n",
    "  - [Installazione di Python](#installazione-di-python)\n",
    "    - [Windows](#windows)\n",
    "    - [macOS](#macos)\n",
    "    - [Linux](#linux)\n",
    "    - [Compilazione dei sorgenti](#compilazione-dei-sorgenti)\n",
    "    - [Distribuzione di Python alternativa: Anaconda](#distribuzione-di-python-alternativa-anaconda)"
   ]
  },
  {
   "cell_type": "markdown",
   "metadata": {},
   "source": [
    "# Introduzione a Python \n",
    "\n",
    "![python_logo.png](./imgs/python_logo.png)"
   ]
  },
  {
   "cell_type": "markdown",
   "metadata": {},
   "source": [
    "## Perché Python? "
   ]
  },
  {
   "cell_type": "markdown",
   "metadata": {
    "slideshow": {
     "slide_type": "fragment"
    },
    "tags": []
   },
   "source": [
    "**<u>Semplice</u>** a sufficienza per iniziare anche senza basi di programmazione (molto simile allo pseudocodice)."
   ]
  },
  {
   "cell_type": "markdown",
   "metadata": {
    "slideshow": {
     "slide_type": "fragment"
    },
    "tags": []
   },
   "source": [
    "**<u>Versatile</u>** e **<u>multipiattaforma</u>**, molto usato per scripting, applicazioni web, calcolo scientifico, intelligenza artificiale..."
   ]
  },
  {
   "cell_type": "markdown",
   "metadata": {
    "slideshow": {
     "slide_type": "fragment"
    },
    "tags": []
   },
   "source": [
    "**<u>Diffuso</u>** sia nell’industria che nella ricerca (vedi [Indice TIOBE](https://www.tiobe.com/tiobe-index/), [Popolarità su Github](https://madnight.github.io/githut), [Popolarità su Stack Overflow](https://insights.stackoverflow.com/trends?tags=java%2Cc%2Cc%2B%2B%2Cpython%2Cc%23%2Cvb.net%2Cjavascript%2Cassembly%2Cphp%2Cperl%2Cruby%2Cvb%2Cswift%2Cr%2Cobjective-c))."
   ]
  },
  {
   "cell_type": "markdown",
   "metadata": {
    "slideshow": {
     "slide_type": "fragment"
    },
    "tags": []
   },
   "source": [
    "**<u>[Open source](https://github.com/python/cpython/)</u>** & *business friendly* (potete vendere prodotti commerciali basati su Python senza pagare royalties)."
   ]
  },
  {
   "cell_type": "markdown",
   "metadata": {},
   "source": [
    "## Breve storia di Python "
   ]
  },
  {
   "cell_type": "markdown",
   "metadata": {
    "slideshow": {
     "slide_type": "fragment"
    },
    "tags": []
   },
   "source": [
    "Ideato nel 1989 dall’informatico olandese [Guido van Rossum](https://gvanrossum.github.io/) originariamente come [linguaggio di scripting](https://it.wikipedia.org/wiki/Linguaggio_di_scripting), Python si è poi evoluto in un [linguaggio completo](https://it.wikipedia.org/wiki/Linguaggio_di_programmazione)."
   ]
  },
  {
   "cell_type": "markdown",
   "metadata": {
    "slideshow": {
     "slide_type": "fragment"
    },
    "tags": []
   },
   "source": [
    "Il nome fu scelto per via della passione di van Rossum per i [Monty Python](http://www.montypython.com) e in particolare per la loro serie televisiva *Monty Python's Flying Circus*."
   ]
  },
  {
   "cell_type": "markdown",
   "metadata": {
    "slideshow": {
     "slide_type": "fragment"
    },
    "tags": []
   },
   "source": [
    "- Nel 1991 rilascia la prima versione pubblica, la 0.9 (&rarr; [curiosità](https://www.tuhs.org/Usenet/alt.sources/1991-February/001749.html)).\n",
    "- Nel 1994 esce la versione 1.0.\n",
    "- Nel 2000 esce la versione 2.0.\n",
    "- Nel 2008 esce la versione 3.0.\n",
    "    - Nel 2016 esce la versione 3.6, che introduce alcuni importanti migliorie.\n",
    "    - L'attuale versione è la 3.11, uscita nel 2022."
   ]
  },
  {
   "cell_type": "markdown",
   "metadata": {
    "slideshow": {
     "slide_type": "subslide"
    },
    "tags": []
   },
   "source": [
    "Durante questo corso possiamo usare qualunque versione dalla 3.8 in avanti."
   ]
  },
  {
   "cell_type": "markdown",
   "metadata": {
    "slideshow": {
     "slide_type": "fragment"
    },
    "tags": []
   },
   "source": [
    "[Python Timeline (support)](https://en.wikipedia.org/wiki/History_of_Python#Support)\n",
    "\n",
    "[Python Timeline (release)](https://www.mclibre.org/consultar/python/otros/historia.html)"
   ]
  },
  {
   "cell_type": "markdown",
   "metadata": {},
   "source": [
    "## Caratteristiche peculiari di Python: pro e contro "
   ]
  },
  {
   "cell_type": "markdown",
   "metadata": {},
   "source": [
    "### Pro \n",
    "- Linguaggio interpretato e di facile debug.\n",
    "- Linguaggio di alto livello.\n",
    "- Segue il paradigma orientato agli oggetti.\n",
    "- Libreria Standard molto estesa.\n",
    "- Flessibile ed estendibile con moduli di terze parti (vedi [PyPI](https://pypi.org/)) e facilmente integrabile con C/C++ e Java.\n",
    "- Con una [tipizzazione](https://it.wikipedia.org/wiki/Tipo_di_dato) dei dati [*forte* e *dinamica*](https://velog.io/@dhlee91/Static-vs.-Dynamic-Strong-vs.-Weak-typing) (e anche *statica*, se necessario).\n",
    "- Multipiattaforma: è possibile utilizzare lo stesso codice su diverse piattaforme come Windows, macOS, Unix o Linux.\n",
    "- Ben documentato e con un'ottima comunità di supporto.\n",
    "\n",
    "NOTA: La *tipizzazione statica* deve essere controllata con uno strumento di analisi di terze parti (es. [MyPy](https://github.com/python/mypy))."
   ]
  },
  {
   "cell_type": "markdown",
   "metadata": {},
   "source": [
    "### Contro \n",
    "- Più lento dei linguaggi compilati.\n",
    "- Configurazione dell'ambiente di lavoro (*environment*) alle volte complessa per un principiante.\n",
    "- Alto consumo di memoria (RAM).\n",
    "- La tipizzazione *dinamica* può portare a grossi problemi se non gestita in modo consapevole.\n",
    "- Le falle nella sicurezza sono dietro l'angolo se non si fanno adeguati test di qualità.\n",
    "- Il multithreading e il multiprocessing possono comportarsi in modi diversi su piattaforme diverse ed è talvolta necessario ricorrere a differenti implementazioni di Python (es. [PyPy](https://foss.heptapod.net/pypy/pypy)) o estensioni (es. [Cython](https://cython.org/) per avere un incremento delle prestazioni."
   ]
  },
  {
   "cell_type": "markdown",
   "metadata": {},
   "source": [
    "### Linguaggi compilati e linguaggi interpretati \n",
    "\n",
    "Per capire meglio la differenza tra linguaggi di programmazione compilati e interpretati, ricorriamo ad un esempio. Immagina di avere una ricetta di cucina che vuoi dare a un amico. "
   ]
  },
  {
   "cell_type": "markdown",
   "metadata": {
    "slideshow": {
     "slide_type": "subslide"
    },
    "tags": []
   },
   "source": [
    "1. **Linguaggio Compilato:**\n",
    "   - Immagina di scrivere la tua ricetta in italiano, ma il tuo amico capisce solo l'inglese. Quindi, prima di dargli la ricetta, devi tradurla completamente in inglese. Questo processo di traduzione è simile alla **compilazione** in programmazione, dove il codice che scrivi (come C++ o Java) viene completamente convertito (compilato) in un linguaggio che il computer può capire (linguaggio macchina) prima che il programma venga eseguito.\n",
    "   - **Vantaggio:** Una volta tradotta, la ricetta può essere data a qualsiasi amico che capisce l'inglese senza bisogno di ulteriori traduzioni.\n",
    "   - **Esempio in Programmazione:** Scrivi il codice in C++, lo compili, e poi esegui l'eseguibile su qualsiasi computer senza doverlo ricompilare."
   ]
  },
  {
   "cell_type": "markdown",
   "metadata": {
    "slideshow": {
     "slide_type": "subslide"
    },
    "tags": []
   },
   "source": [
    "2. **Linguaggio Interpretato:**\n",
    "   - Ora invece, immagina di avere un interprete, una persona che traduce ciò che dici al tuo amico in tempo reale. Tu leggi la ricetta in italiano e l'interprete la traduce in inglese man mano che vai avanti. Questo è simile a come funziona un **linguaggio interpretato** in programmazione, dove il codice che scrivi (come Python o JavaScript) viene letto e eseguito linea per linea da un interprete.\n",
    "   - **Vantaggio:** Puoi cambiare la ricetta (il codice) mentre parli, e l'interprete si adatterà alle modifiche istantaneamente.\n",
    "   - **Esempio in Programmazione:** Scrivi il codice in Python e lo esegui direttamente. L'interprete Python legge ed esegue il tuo codice istantaneamente."
   ]
  },
  {
   "cell_type": "markdown",
   "metadata": {
    "slideshow": {
     "slide_type": "subslide"
    },
    "tags": []
   },
   "source": [
    "In entrambi i casi, l'obiettivo è lo stesso: far comprendere la tua ricetta (il tuo codice) al tuo amico (il computer), ma il modo in cui ciò viene fatto è diverso."
   ]
  },
  {
   "cell_type": "markdown",
   "metadata": {},
   "source": [
    "### Dietro le quinte di un linguaggio interpretato: Python bytecode "
   ]
  },
  {
   "cell_type": "markdown",
   "metadata": {
    "slideshow": {
     "slide_type": "fragment"
    },
    "tags": []
   },
   "source": [
    "In generale, il bytecode è definibile come linguaggio intermedio (astratto) tra il linguaggio macchina e il linguaggio di programmazione."
   ]
  },
  {
   "cell_type": "markdown",
   "metadata": {
    "slideshow": {
     "slide_type": "fragment"
    },
    "tags": []
   },
   "source": [
    "![compiled_language.jpeg](./imgs/compiled_language.png)"
   ]
  },
  {
   "cell_type": "markdown",
   "metadata": {
    "slideshow": {
     "slide_type": "subslide"
    },
    "tags": []
   },
   "source": [
    "Il codice sorgente Python viene compilato in bytecode, la rappresentazione interna di un programma Python nell'interprete CPython."
   ]
  },
  {
   "cell_type": "code",
   "execution_count": 3,
   "metadata": {},
   "outputs": [
    {
     "name": "stdout",
     "output_type": "stream",
     "text": [
      "  3           0 RESUME                   0\n",
      "\n",
      "  4           2 LOAD_FAST                0 (a)\n",
      "              4 LOAD_FAST                0 (a)\n",
      "              6 BINARY_OP                5 (*)\n",
      "             10 LOAD_FAST                1 (b)\n",
      "             12 LOAD_FAST                1 (b)\n",
      "             14 BINARY_OP                5 (*)\n",
      "             18 BINARY_OP               10 (-)\n",
      "             22 RETURN_VALUE\n"
     ]
    }
   ],
   "source": [
    "import dis\n",
    "\n",
    "def foo(a, b):\n",
    "    return a*a - b*b\n",
    "\n",
    "dis.dis(foo)"
   ]
  },
  {
   "cell_type": "markdown",
   "metadata": {
    "slideshow": {
     "slide_type": "subslide"
    },
    "tags": []
   },
   "source": [
    "Il bytecode generato viene anche memorizzato (*cached*) in un file con estensione `.pyc`, in modo che l'esecuzione dello stesso file sia più veloce la seconda volta (si evita la ricompilazione dal sorgente al bytecode)."
   ]
  },
  {
   "cell_type": "markdown",
   "metadata": {
    "slideshow": {
     "slide_type": "fragment"
    },
    "tags": []
   },
   "source": [
    "Questo \"linguaggio intermedio\" viene eseguito su una macchina virtuale che esegue il codice macchina corrispondente a ciascun bytecode."
   ]
  },
  {
   "cell_type": "markdown",
   "metadata": {
    "slideshow": {
     "slide_type": "fragment"
    },
    "tags": []
   },
   "source": [
    "Per approfondire: [Playing with Python Bytecode - PyCon 2016](https://www.youtube.com/watch?v=mxjv9KqzwjI)"
   ]
  },
  {
   "cell_type": "markdown",
   "metadata": {},
   "source": [
    "## Ecosistema di Python "
   ]
  },
  {
   "cell_type": "markdown",
   "metadata": {
    "slideshow": {
     "slide_type": "fragment"
    },
    "tags": []
   },
   "source": [
    "Python è oggi utilizzato in centinaia di prodotti software. Per farti un'idea puoi guardare questa lista su Wikipedia: [List of Python software](https://en.wikipedia.org/wiki/List_of_Python_software)."
   ]
  },
  {
   "cell_type": "markdown",
   "metadata": {
    "slideshow": {
     "slide_type": "fragment"
    },
    "tags": []
   },
   "source": [
    "Ecco una panoramica specifica per settore degli strumenti Python più famosi, compresi framework, librerie o pacchetti."
   ]
  },
  {
   "cell_type": "markdown",
   "metadata": {},
   "source": [
    "#### Web Development \n",
    "| Tool        | Caratteristiche principali                                                                                                                                                    |\n",
    "| ----------- | ----------------------------------------------------------------------------------------------------------------------------------------------------------------------------- |\n",
    "| Flask       | Un micro framework web; ottimo per la realizzazione di applicazioni web leggere; estensibilità flessibile a funzionalità di terze parti.                                      |\n",
    "| Django      | Un framework web completo; ottimo per la creazione di applicazioni web basate su database; altamente scalabile come soluzione aziendale.                                      |\n",
    "| Odoo        | Un framework web completo e pronto out-of-the-box per realizzare software di gestione aziendale, produttività (lato back-end) e anche siti web (lato front-end).              |\n",
    "| FastAPI     | Framework web per la creazione di API; convalida e conversione dei dati; generazione automatica di API per interfacce web.                                                    |"
   ]
  },
  {
   "cell_type": "markdown",
   "metadata": {},
   "source": [
    "#### Data Science \n",
    "| Tool        | Caratteristiche principali                                                                                                                                                    |\n",
    "| ----------- | ----------------------------------------------------------------------------------------------------------------------------------------------------------------------------- |\n",
    "| NumPy       | Specializzato nell'elaborazione di grandi array multidimensionali; elevata efficienza computazionale; parte integrante di molte altre librerie.                               |\n",
    "| Pandas      | Un pacchetto versatile per l'elaborazione di dati bidimensionali simili a fogli di calcolo; manipolazione completa dei dati.                                                  |\n",
    "| Matplotlib  | Un paradigma orientato agli oggetti per disegnare istogrammi, grafici a dispersione, diagrammi a torta e altre figure comuni con una varietà di impostazioni personalizzabili.|\n",
    "| Seaborn     | Una libreria di visualizzazione facile da usare per disegnare grafici attraenti; API di alto livello basate su Matplotlib.                                                    |\n",
    "| Statsmodels | Un pacchetto popolare per le statistiche, come la regressione lineare, la correlazione, la modellazione bayesiana e l'analisi di sopravvivenza.                               |"
   ]
  },
  {
   "cell_type": "markdown",
   "metadata": {},
   "source": [
    "#### Machine Learning \n",
    "| Tool         | Caratteristiche principali                                                                                                                                                    |\n",
    "| ------------ | ----------------------------------------------------------------------------------------------------------------------------------------------------------------------------- |\n",
    "| TensorFlow   | Un framework con API di alto e basso livello; strumento di visualizzazione Tensor board; ottimo per costruire reti neurali complesse (by Google).                             |\n",
    "| PyTorch      | Un framework per la costruzione di reti neurali; stile di codice più intuitivi rispetto a TensorFlow; ottimo per la costruzione di reti neurali complesse (by Meta).          |\n",
    "| Scikit-learn | Un'ampia gamma di strumenti di pre-elaborazione per la costruzione di modelli ML; implementazione di algoritmi ML comuni.                                                     |\n",
    "| Keras        | API di alto livello per la costruzione di reti neurali; facile da usare; ottimo per la costruzione di modelli a basse prestazioni.                                            |\n",
    "| FastAI       | API di alto livello per la costruzione di reti neurali basato su PyTorch; facile da usare.   "
   ]
  },
  {
   "cell_type": "markdown",
   "metadata": {},
   "source": [
    "## Python in azione: un esempio con Odoo "
   ]
  },
  {
   "cell_type": "markdown",
   "metadata": {
    "slideshow": {
     "slide_type": "fragment"
    },
    "tags": []
   },
   "source": [
    "Un software che ci può faciilmente mostrare le potenzialità di Python è senza dubbio [Odoo](https://github.com/odoo/odoo) (in precedenza noto com Open ERP), che è sia un'applicazione vera e propria sia un framework completo per lo sviiluppo di \"gestionali\" aziendali (o perché no, anche personali!)."
   ]
  },
  {
   "cell_type": "markdown",
   "metadata": {
    "slideshow": {
     "slide_type": "fragment"
    },
    "tags": []
   },
   "source": [
    "![odoo-logo.png](./imgs/odoo-logo.png)"
   ]
  },
  {
   "cell_type": "markdown",
   "metadata": {
    "slideshow": {
     "slide_type": "subslide"
    },
    "tags": []
   },
   "source": [
    "**Odoo** è sviluppato all'azienda belga *Odoo S.A.* ed è rilasciato sotto la licenza libera LGPL v3, seguendo il modello di business detto \"open core\"."
   ]
  },
  {
   "cell_type": "markdown",
   "metadata": {
    "slideshow": {
     "slide_type": "fragment"
    },
    "tags": []
   },
   "source": [
    "Infatti Odoo S.A. offre anche a pagamento una suite commerciale rilasciata sotto licenza proprietaria e chiamata _**Odoo Enterptise Edition**_."
   ]
  },
  {
   "cell_type": "markdown",
   "metadata": {
    "slideshow": {
     "slide_type": "fragment"
    },
    "tags": []
   },
   "source": [
    "Tuttavia il \"core\" chiamato _**Odoo Community Edition**_, che è a tutti gli effetti l'applicazione vera e propria, è open source e completamente funzionale già \"out-of-the-box\". Inoltre, la comunità ha fondato la _**Odoo Communinty Association**_ allo scopo di offrire un ecosistema di applicazioni libere da utilizzare sul \"core\" in alternativa a Odoo Enterprise."
   ]
  },
  {
   "cell_type": "markdown",
   "metadata": {
    "slideshow": {
     "slide_type": "notes"
    },
    "tags": []
   },
   "source": [
    "Tuttavia chiunque, anche con conoscenze basilari di Python, può sviluppare una semplice applicazione per Odoo con estrema facilità."
   ]
  },
  {
   "cell_type": "markdown",
   "metadata": {
    "slideshow": {
     "slide_type": "notes"
    },
    "tags": []
   },
   "source": [
    "Odoo offre un [ORM](https://it.wikipedia.org/wiki/Object-relational_mapping) simile a quello di [Django](https://it.wikipedia.org/wiki/Django_(informatica)), ma con un ecosistema di moduli meno dispersivo, più organico e strutturato."
   ]
  },
  {
   "cell_type": "markdown",
   "metadata": {
    "slideshow": {
     "slide_type": "subslide"
    },
    "tags": []
   },
   "source": [
    "Ecco alcuni link utili:\n",
    "- [Odoo.com](https://www.odoo.com/): il sito commerciale dell'azienda che offre anche odoo come SaaS.\n",
    "- [Odoo CE repository](https://github.com/odoo/odoo): il codice sorgente ufficiale della \"Community Edition\", ovvero il \"core\".\n",
    "- [Odoo Community Association repositories](https://github.com/OCA): vari repository divisi per categoria dove trovare le applicazioni scritte dalla community e approvate dalla \"Odoo Community Association\"."
   ]
  },
  {
   "cell_type": "markdown",
   "metadata": {
    "slideshow": {
     "slide_type": "fragment"
    },
    "tags": []
   },
   "source": [
    "Per provare una versione di Odoo, puoi utilizzare il servizio di test automatico [RunBot](https://runbot.odoo.com/) e accedere ad una istanza con le credenziali di login `admin` e password `admin`."
   ]
  },
  {
   "cell_type": "markdown",
   "metadata": {
    "slideshow": {
     "slide_type": "subslide"
    },
    "tags": []
   },
   "source": [
    "Ma ora andiamo a vedere un paio di esempi di Python dentro Odoo:"
   ]
  },
  {
   "cell_type": "markdown",
   "metadata": {
    "slideshow": {
     "slide_type": "fragment"
    },
    "tags": []
   },
   "source": [
    "- [Metodo su un campo calcolato](https://github.com/odoo/odoo/blob/14eddf9fde5480d283245f4f3506bbe1aa3fa52d/addons/mail/models/mail_message.py#L196).\n",
    "- [Metodo da eseguire all'archiviazione di un record](https://github.com/odoo/odoo/blob/14eddf9fde5480d283245f4f3506bbe1aa3fa52d/addons/hr/models/hr_employee.py#L386)."
   ]
  },
  {
   "cell_type": "markdown",
   "metadata": {
    "slideshow": {
     "slide_type": "fragment"
    },
    "tags": []
   },
   "source": [
    "Riesci ad intuire quali operazioni vengono eseguite in questi esempi?"
   ]
  },
  {
   "cell_type": "markdown",
   "metadata": {
    "slideshow": {
     "slide_type": "fragment"
    },
    "tags": []
   },
   "source": [
    "Al termine di questo corso riproveremo ad aprire questi link e ne riparleremo... ma intanto, sono riuscito a stimolare ulteriormente il tuo interesse e la tua curiosità?"
   ]
  },
  {
   "cell_type": "markdown",
   "metadata": {},
   "source": [
    "## Differenze tra Python v2 e v3 "
   ]
  },
  {
   "cell_type": "markdown",
   "metadata": {
    "slideshow": {
     "slide_type": "fragment"
    },
    "tags": []
   },
   "source": [
    "IMPORTANTE: Python 3 non è retrocompatibile con Python 2!"
   ]
  },
  {
   "cell_type": "markdown",
   "metadata": {
    "slideshow": {
     "slide_type": "fragment"
    },
    "tags": []
   },
   "source": [
    "L'ultima versione di Python 2 è la v2.7. È uscita nel 2010 ed è stata dismessa nel 2020."
   ]
  },
  {
   "cell_type": "markdown",
   "metadata": {
    "slideshow": {
     "slide_type": "fragment"
    },
    "tags": []
   },
   "source": [
    "Dato che gli sviluppatori hanno avuto a disposizione 10 anni di tempo per portare tutti i loro progetti alla v3, consideriamo la v2 definitivamente defunta e non dovrebbe più essere utilizzata."
   ]
  },
  {
   "cell_type": "markdown",
   "metadata": {
    "slideshow": {
     "slide_type": "fragment"
    },
    "tags": []
   },
   "source": [
    "Oggi dunque, preoccuparsi delle differenze tra Python 2 e Python 3 non ha più molto senso, soprattutto ai fini di questo corso."
   ]
  },
  {
   "cell_type": "markdown",
   "metadata": {
    "slideshow": {
     "slide_type": "notes"
    },
    "tags": []
   },
   "source": [
    "Considera però che che potresti incontrare ancora del codice scritto per Python 2 in vecchi repository o in vecchi manuali, trovandoti così di fronte a sintassi a cui non sei abituato. Se proprio ti interessa, puoi approfondire questo argomento qua: [Python 2 vs Python 3 - considerazioni pratiche](https://www.0x90.it/python-2-vs-python-3/)."
   ]
  },
  {
   "cell_type": "markdown",
   "metadata": {
    "slideshow": {
     "slide_type": "fragment"
    },
    "tags": []
   },
   "source": [
    "IMPORTANTE: In questo corso utilizzeremo Python 3!"
   ]
  },
  {
   "cell_type": "markdown",
   "metadata": {},
   "source": [
    "## Installazione di Python "
   ]
  },
  {
   "cell_type": "markdown",
   "metadata": {
    "slideshow": {
     "slide_type": "fragment"
    },
    "tags": []
   },
   "source": [
    "Passiamo finalmente alla pratica. Scarichiamo e installiamo Python."
   ]
  },
  {
   "cell_type": "markdown",
   "metadata": {
    "slideshow": {
     "slide_type": "fragment"
    },
    "tags": []
   },
   "source": [
    "Python può essere installato su machine Windows, Linux e Mac scaricando la versione desiderata dalla [pagina ufficiale dei download](https://www.python.org/downloads/)."
   ]
  },
  {
   "cell_type": "markdown",
   "metadata": {},
   "source": [
    "### Windows "
   ]
  },
  {
   "cell_type": "markdown",
   "metadata": {
    "slideshow": {
     "slide_type": "fragment"
    },
    "tags": []
   },
   "source": [
    "Su Windows è sufficiente scaricare e installare direttamente la versione che viene proposta."
   ]
  },
  {
   "cell_type": "markdown",
   "metadata": {
    "slideshow": {
     "slide_type": "fragment"
    },
    "tags": []
   },
   "source": [
    "I file verranno installati nella posizione `C:\\Users\\<username>\\AppData\\Local\\Programs\\Python\\Python3x` (NB: il \"`3x`\" indica la versione che hai installato)."
   ]
  },
  {
   "cell_type": "markdown",
   "metadata": {
    "slideshow": {
     "slide_type": "notes"
    },
    "tags": []
   },
   "source": [
    "Tra le varie opzioni di installazione conviene spuntare quella che permette di aggiungere automaticamente i percorsi dove si trovano `python` e `pip` alle variabili d'ambiente, in modo che potremmo richiamare questi comandi da qualunqe posizione ci troviamo nel prompt dei comandi. Se vi dimenticate di farlo alla prima installazione, potete sempre avviare di nuovo l'installer e aggiungere l'opzione."
   ]
  },
  {
   "cell_type": "markdown",
   "metadata": {
    "slideshow": {
     "slide_type": "notes"
    },
    "tags": []
   },
   "source": [
    "Un'altra opzione che invece è spuntata di default è quella che permette di associare i file con estensione `.py` all'interprete di Python e quindi eseguire gli script con un semplice doppio click. Io consiglio di togliere questa spunta ed eventualmente fare questa associazione in futuro, solo se sarà necessario. I file di Python sono degli script e possono eseguire anche del codice malevolo, se li scaricate da internet da una fonte non affidabile. Di norma è sempre meglio non avere la possibilità di eseguire codice con un semplice doppio click (o invio), a meno che non sappiate cosa state facendo."
   ]
  },
  {
   "cell_type": "markdown",
   "metadata": {
    "slideshow": {
     "slide_type": "fragment"
    },
    "tags": []
   },
   "source": [
    "Al termine dell'installazione troveremo la voce \"Python\" nel menù delle applicazioni la quale ci offre i collegementi per aprire l'interprete interattivo di Python oppure avviare IDLE, l'IDE ufficiale e integrato con Python."
   ]
  },
  {
   "cell_type": "markdown",
   "metadata": {},
   "source": [
    "### macOS "
   ]
  },
  {
   "cell_type": "markdown",
   "metadata": {
    "slideshow": {
     "slide_type": "fragment"
    },
    "tags": []
   },
   "source": [
    "macOS ha una versione di Python pre-installata, che è bene non alterare se non usando gli strumenti di aggiornamento che offre il sistema operativo. Puoi provare a eseguire il comando `python3` nel terminale per vedere se e quale versione è installata (il comando risultasse non esiste, prova anche solo `python`)."
   ]
  },
  {
   "cell_type": "markdown",
   "metadata": {
    "slideshow": {
     "slide_type": "fragment"
    },
    "tags": []
   },
   "source": [
    "Su macOS, il Pyhon di sistema è situato nella directory `/usr/bin/`. Per sapere la posizione del file che viene eseguito quando lanciate il comando `python3` o `python`, potete scrivere rispettivamente `which python3` o `which python`. I pacchetti di installazione standard offerti dal sito ufficiale si preoccupano loro di installare la versione di Python scaricata nel modo corretto, senza sovrascrivere quella di sistema."
   ]
  },
  {
   "cell_type": "markdown",
   "metadata": {
    "slideshow": {
     "slide_type": "notes"
    },
    "tags": []
   },
   "source": [
    "Al termine dell'installazione troveremo la voce \"Python\" dentro Applicazioni la quale contiene le app \"Python Launcher\" per consentire di associare i file con estensione `.py` ed eseguirli con doppio click (sconsigliato per ora) e la app IDLE, l'IDE ufficiale e integrato con Python."
   ]
  },
  {
   "cell_type": "markdown",
   "metadata": {
    "slideshow": {
     "slide_type": "fragment"
    },
    "tags": []
   },
   "source": [
    "Python lo possiamo avviare da una finestra di terminale con il comando `python3`."
   ]
  },
  {
   "cell_type": "markdown",
   "metadata": {
    "slideshow": {
     "slide_type": "fragment"
    },
    "tags": []
   },
   "source": [
    "Per controllare che stia usando la versione scaricata, digita il comado `which python3`. Se è `/usr/local/bin/` o `/Library/Frameworks/Python.framework/Versions/3.x/bin/python3` allora è tutto ok (NB: `3.x` indica la versione che hai installato)."
   ]
  },
  {
   "cell_type": "markdown",
   "metadata": {
    "slideshow": {
     "slide_type": "notes"
    },
    "tags": []
   },
   "source": [
    "Se hai necessità di scaricare e compilare da te le sorgenti di Python, allora ti consiglio di cercare sul web. Un ottimo punto di partenza può essere questo: [How To Install Python 3 and Set Up a Local Programming Environment on macOS](https://www.digitalocean.com/community/tutorials/how-to-install-python-3-and-set-up-a-local-programming-environment-on-macos). Se poi hai problemi, chiedi in classe!"
   ]
  },
  {
   "cell_type": "markdown",
   "metadata": {},
   "source": [
    "### Linux "
   ]
  },
  {
   "cell_type": "markdown",
   "metadata": {
    "slideshow": {
     "slide_type": "fragment"
    },
    "tags": []
   },
   "source": [
    "Python è preinstallato sulla maggior parte delle distribuzioni Linux ed è disponibile come pacchetto su tutte le altre. Usate il vostro pakage manager e/o aggiornate il sistema per ottenere l'ultima versione di Python."
   ]
  },
  {
   "cell_type": "markdown",
   "metadata": {
    "slideshow": {
     "slide_type": "fragment"
    },
    "tags": []
   },
   "source": [
    "Tuttavia, se ci fossero alcune funzioni che vuoi utilizzare e che non sono disponibili nel pacchetto Python della tua distro o nel caso in cui Python non sia preinstallato e non sia presente nei repository della tua distro, è possibile compilare l'ultima versione di Python dai sorgenti."
   ]
  },
  {
   "cell_type": "markdown",
   "metadata": {},
   "source": [
    "### Compilazione dei sorgenti "
   ]
  },
  {
   "cell_type": "markdown",
   "metadata": {
    "slideshow": {
     "slide_type": "fragment"
    },
    "tags": []
   },
   "source": [
    "Se usi Linux (o macOS) potresti dover compilare Python dai sorgenti. È molto semplice. Ipotizzando che tu abbia Ubuntu o una qualsiasi distro basata su Debian, la procedura è la seguente:"
   ]
  },
  {
   "cell_type": "markdown",
   "metadata": {
    "slideshow": {
     "slide_type": "fragment"
    },
    "tags": []
   },
   "source": [
    "```bash\n",
    "# Aggiorna il sistema e installa pacchetti necessari alla compilazione\n",
    "    $ sudo apt update && sudo apt upgrade\n",
    "    $ sudo apt install build-essential libbz2-dev libffi-dev libgdbm-dev libncurses5-dev \\\n",
    "    > libreadline-dev libsqlite3-dev libssl-dev zlib1g-dev python3-dev wget\n",
    "\n",
    "# Scarica e decomprime i sorgenti\n",
    "    $ wget https://www.python.org/ftp/python/3.11.2/Python-3.11.2.tgz\n",
    "    $ tar -xf Python-3.11.2.tgz\n",
    "    $ cd Python-3.11.2/\n",
    "\n",
    "# Esegue la compilazione\n",
    "    $ ./configure --enable-optimizations\n",
    "    $ make -j4\n",
    "    $ sudo make altinstall\n",
    "```"
   ]
  },
  {
   "cell_type": "markdown",
   "metadata": {
    "slideshow": {
     "slide_type": "notes"
    },
    "tags": []
   },
   "source": [
    "> In `make -j4` il 4 indica il numero di thread che si vuole impiegare per la compilazione, potendo renderla più rapida."
   ]
  },
  {
   "cell_type": "markdown",
   "metadata": {},
   "source": [
    "### Distribuzione di Python alternativa: Anaconda "
   ]
  },
  {
   "cell_type": "markdown",
   "metadata": {
    "tags": []
   },
   "source": [
    "![anaconda-logo.png](./imgs/anaconda-logo.png)"
   ]
  },
  {
   "cell_type": "markdown",
   "metadata": {
    "slideshow": {
     "slide_type": "fragment"
    },
    "tags": []
   },
   "source": [
    "Se hai intenzione di usare Python per fare **data science**, analisi scientifiche o utilizzarlo in settori altamente specializzati, è consigliabile usare la distrtibuzione [Anaconda](https://www.anaconda.com/products/distribution), che include i pacchetti per applicazioni scientifiche e un [gestore dei pacchetti proprio, denominato `conda`](https://docs.conda.io/en/latest/), in alternativa a `pip`, quello ufficiale. Dispone inoltre di un'interfaccia grafica che permette di gestire i pacchetti e i *virtual environments*."
   ]
  },
  {
   "cell_type": "markdown",
   "metadata": {
    "slideshow": {
     "slide_type": "fragment"
    },
    "tags": []
   },
   "source": [
    "Anaconda è sviluppato dall'azienda [Anaconda Inc.](https://www.anaconda.com/about-us) che, assieme alla \"[The conda Organization](https://github.com/conda)\" sviluppa e mantiene anche il gestore dei pacchetti `conda`."
   ]
  },
  {
   "cell_type": "markdown",
   "metadata": {
    "slideshow": {
     "slide_type": "notes"
    },
    "tags": []
   },
   "source": [
    "Per questo corso non è necessario usare questa distribuzione in quanto useremo principalmente i moduli della Libreria Standard di Python. I pochi moduli di terze parti che dovremo scaricare sono ottenibili direttamente e facilmente anche con `pip`. Come primo approccio consiglio sempre di partire dalle soluzioni più standard e semplici, per poi via via cercare le configurazioni che meglio si adattano alle nostre esigenze."
   ]
  }
 ],
 "metadata": {
  "kernelspec": {
   "display_name": "Python 3 (ipykernel)",
   "language": "python",
   "name": "python3"
  },
  "language_info": {
   "codemirror_mode": {
    "name": "ipython",
    "version": 3
   },
   "file_extension": ".py",
   "mimetype": "text/x-python",
   "name": "python",
   "nbconvert_exporter": "python",
   "pygments_lexer": "ipython3",
   "version": "3.11.2"
  },
  "vscode": {
   "interpreter": {
    "hash": "20e40d8fc09a6690434ad602c7eb2d8de15d36ec466bfbfb0de97c7c540d7363"
   }
  }
 },
 "nbformat": 4,
 "nbformat_minor": 4
}
