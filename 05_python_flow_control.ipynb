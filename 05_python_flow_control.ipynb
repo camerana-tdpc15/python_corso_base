{
 "cells": [
  {
   "cell_type": "markdown",
   "metadata": {},
   "source": [
    "**Sommario**<a id='toc0_'></a>    \n",
    "- [`<class 'function'>`](#toc1_)    \n",
    "  - [Dichiarare una funzione](#toc1_1_)    \n",
    "  - [Chiamata di funzione](#toc1_2_)    \n",
    "  - [Funzione \"vuota\"](#toc1_3_)    \n",
    "  - [Parametri e argomenti](#toc1_4_)    \n",
    "  - [Argomenti mancanti](#toc1_5_)    \n",
    "  - [Esecuzione e ritorno](#toc1_6_)    \n",
    "  - [Ritorno multiplo](#toc1_7_)    \n",
    "  - [Riassumendo](#toc1_8_)    \n",
    "  - [Visibilità e accessibilità delle variabili (*scope*) nelle funzioni](#toc1_9_)    \n",
    "  - [Saper distinguere le funzioni](#toc1_10_)    \n",
    "    - [SIDE EFFECTS](#toc1_10_1_)    \n",
    "    - [RESTITUISCE](#toc1_10_2_)    \n",
    "    - [MODIFICA](#toc1_10_3_)    \n",
    "    - [Combinazioni: MODIFICA + RESTITUISCE](#toc1_10_4_)    \n",
    "- [`if` ... (`elif` ... `else` ...)](#toc2_)    \n",
    "  - [Riassumendo](#toc2_1_)    \n",
    "  - [Operatore ternario](#toc2_2_)    \n",
    "  - [`if` annidati](#toc2_3_)    \n",
    "  - [`if` e definizione delle variabili](#toc2_4_)    \n",
    "- [Ciclo `for`](#toc3_)    \n",
    "  - [Che cos'è l'iterazione?](#toc3_1_)    \n",
    "  - [Sintassi del ciclo `for`](#toc3_2_)    \n",
    "  - [Nomi delle variabili nei `for`](#toc3_3_)    \n",
    "  - [Funzione `range()`](#toc3_4_)    \n",
    "  - [Iterare per indici](#toc3_5_)    \n",
    "    - [`range(len(iterable))`](#toc3_5_1_)    \n",
    "    - [`enumerate(iterabile)`](#toc3_5_2_)    \n",
    "  - [Modificare durante l'iterazione (ATTENZIONE!)](#toc3_6_)    \n",
    "  - [Comandi `break` e `continue`](#toc3_7_)    \n",
    "    - [Terminare con un `break`](#toc3_7_1_)    \n",
    "    - [Proseguire con `continue`](#toc3_7_2_)    \n",
    "    - [Combinare `break` e `continue`](#toc3_7_3_)    \n",
    "  - [Cicli for annidati](#toc3_8_)    \n",
    "  - [Attenzione ai nomi di variabile](#toc3_9_)    \n",
    "  - [Riassumendo](#toc3_10_)    \n",
    "- [Ciclo `while`](#toc4_)    \n",
    "  - [Differenze rispetto al ciclo `for`](#toc4_1_)    \n",
    "  - [La condizione](#toc4_2_)    \n",
    "  - [Caso d'uso con un contatore](#toc4_3_)    \n",
    "  - [Loop infinito con `while True`](#toc4_4_)    \n",
    "  - [Istruzione `break`](#toc4_5_)    \n",
    "  - [Istruzione `continue`](#toc4_6_)    \n",
    "  - [Conclusione](#toc4_7_)    \n",
    "- [Gestione errori con `try ... except`](#toc5_)    \n",
    "  - [Uso del `try ... except`](#toc5_1_)    \n",
    "    - [Esempio pratico](#toc5_1_1_)    \n",
    "    - [Conclusione](#toc5_1_2_)    \n",
    "  - [`else` e `finally`](#toc5_2_)    \n",
    "    - [Il costrutto `else`](#toc5_2_1_)    \n",
    "    - [Il Costrutto `finally`](#toc5_2_2_)    \n",
    "    - [Conclusioni](#toc5_2_3_)    \n",
    "- [Terminare l'esecuzione esplicitamente con `sys.exit()`](#toc6_)    \n",
    "  - [Differenze rispetto a `exit()`](#toc6_1_)    \n",
    "\n",
    "<!-- vscode-jupyter-toc-config\n",
    "\tnumbering=false\n",
    "\tanchor=true\n",
    "\tflat=false\n",
    "\tminLevel=1\n",
    "\tmaxLevel=6\n",
    "\t/vscode-jupyter-toc-config -->\n",
    "<!-- THIS CELL WILL BE REPLACED ON TOC UPDATE. DO NOT WRITE YOUR TEXT IN THIS CELL -->"
   ]
  },
  {
   "cell_type": "markdown",
   "metadata": {},
   "source": [
    "# <a id='toc1_'></a>`<class 'function'>` [&#8593;](#toc0_)\n",
    "\n",
    "Le funzioni possono essere definite direttamente all'interno del nostro programma o separatamente, in moduli o librerie che possono essere utilizzate (in Python, `import`) dal nostro programma."
   ]
  },
  {
   "cell_type": "markdown",
   "metadata": {
    "slideshow": {
     "slide_type": "fragment"
    },
    "tags": []
   },
   "source": [
    "A seconda del linguaggio di programmazione e del contesto in cui ci troviamo, una *funzione* può essere chiamata *routine*, *sottoprogramma*, *subroutine*, *metodo* o *procedura*."
   ]
  },
  {
   "cell_type": "markdown",
   "metadata": {
    "slideshow": {
     "slide_type": "fragment"
    },
    "tags": []
   },
   "source": [
    "Il termine più generico potebbe essere *callable unit* (unità invocabile)."
   ]
  },
  {
   "cell_type": "markdown",
   "metadata": {},
   "source": [
    "## <a id='toc1_1_'></a>Dichiarare una funzione [&#8593;](#toc0_)"
   ]
  },
  {
   "cell_type": "markdown",
   "metadata": {
    "slideshow": {
     "slide_type": "fragment"
    },
    "tags": []
   },
   "source": [
    "Spesso le funzioni built-in non sono sufficienti, nemmeno per un principiante.\n",
    "\n",
    "In questo caso, non c'è altra scelta se non quella di creare una propria funzione utilizzando la parola chiave `def` (che sta per *define*). Vediamo la sintassi:\n",
    "\n",
    "```python\n",
    "def function_name(parameter1, parameter2):\n",
    "    # function's body\n",
    "    ...\n",
    "    return \"return value\"\n",
    "```"
   ]
  },
  {
   "cell_type": "markdown",
   "metadata": {
    "slideshow": {
     "slide_type": "subslide"
    },
    "tags": []
   },
   "source": [
    "```python\n",
    "def function_name(parameter1, parameter2):\n",
    "```\n",
    "Dopo `def`, scriviamo il nome della nostra funzione, in modo da poterla invocare in seguito.\n",
    "\n",
    "A seguire i nomi dei *parametri* che la nostra funzione può accettare, racchiusi tra parentesi tonde."
   ]
  },
  {
   "cell_type": "markdown",
   "metadata": {
    "slideshow": {
     "slide_type": "fragment"
    },
    "tags": []
   },
   "source": [
    "ATTENZIONE: Non dimenticate i due punti `:` dopo le parentesi, alla fine della prima riga."
   ]
  },
  {
   "cell_type": "markdown",
   "metadata": {
    "slideshow": {
     "slide_type": "fragment"
    },
    "tags": []
   },
   "source": [
    "I nomi di una funzione e dei suoi parametri seguono la stessa convenzione dei nomi delle variabili, cioè vanno scritti in minuscolo con l'underscore `_` tra le parole."
   ]
  },
  {
   "cell_type": "markdown",
   "metadata": {
    "slideshow": {
     "slide_type": "subslide"
    },
    "tags": []
   },
   "source": [
    "```python\n",
    "def function_name(parameter1, parameter2):\n",
    "    # INIZO corpo della funzione\n",
    "    print(\"Questo è un print eseguito all'interno della funzione.\")\n",
    "    result = parameter1 / parameter2\n",
    "    result *= 3.1415\n",
    "    return \"return value\"\n",
    "    # FINE corpo della funzione\n",
    "print(\"Questo è un print eseguito all'esterno della funzione.\")\n",
    "```\n",
    "\n",
    "Il corpo della funzione (*function body*) deve avere una indentazione (rientro) di 4 spazi. Ciò indica all'interprete dove inizia e dove finisce il codice che la funzione deve eseguire."
   ]
  },
  {
   "cell_type": "markdown",
   "metadata": {
    "slideshow": {
     "slide_type": "fragment"
    },
    "tags": []
   },
   "source": [
    "È possibile eseguire calcoli all'interno della funzione."
   ]
  },
  {
   "cell_type": "markdown",
   "metadata": {
    "slideshow": {
     "slide_type": "fragment"
    },
    "tags": []
   },
   "source": [
    "Infine è possibile utilizzare la parola chiave `return` per restituire un qualche risultato."
   ]
  },
  {
   "cell_type": "markdown",
   "metadata": {
    "slideshow": {
     "slide_type": "fragment"
    },
    "tags": []
   },
   "source": [
    "Solo quando l'indentazione è assente, la definizione della funzione termina."
   ]
  },
  {
   "cell_type": "markdown",
   "metadata": {},
   "source": [
    "## <a id='toc1_2_'></a>Chiamata di funzione [&#8593;](#toc0_)\n",
    "\n",
    "```python\n",
    "function_name(10, 40)\n",
    "```"
   ]
  },
  {
   "cell_type": "markdown",
   "metadata": {
    "slideshow": {
     "slide_type": "fragment"
    },
    "tags": []
   },
   "source": [
    "Successivamente, quando eseguiamo una *chiamata di funzione*, possiamo passare dei valori e i **parametri** della nostra funzione assumeranno quei valori.\n",
    "\n",
    "I valori che passiamo a una funzione sono noti come **argomenti**."
   ]
  },
  {
   "cell_type": "markdown",
   "metadata": {
    "slideshow": {
     "slide_type": "fragment"
    },
    "tags": []
   },
   "source": [
    "L'unica distinzione tra **parametri** e **argomenti** è che:\n",
    "- introduciamo i parametri (`params`) in una *definizione di funzione*;\n",
    "- forniamo gli argomenti (`args`), ovvero i valori specifici, in una *chiamata di funzione*."
   ]
  },
  {
   "cell_type": "markdown",
   "metadata": {
    "slideshow": {
     "slide_type": "subslide"
    },
    "tags": []
   },
   "source": [
    "Ecco un esempio meno astratto di funzione:"
   ]
  },
  {
   "cell_type": "markdown",
   "metadata": {
    "tags": []
   },
   "source": [
    "```python\n",
    "# Definizione della funzione\n",
    "def moltiplica(x, y):\n",
    "    return x * y\n",
    "\n",
    "# Chiamata di funzione\n",
    "a = moltiplica(3, 5)   # 15\n",
    "b = moltiplica(a, 10)  # 150\n",
    "```"
   ]
  },
  {
   "cell_type": "markdown",
   "metadata": {
    "slideshow": {
     "slide_type": "fragment"
    },
    "tags": []
   },
   "source": [
    "Nel caso in cui non siano necessari parametri, le parentesi tonde rimangono vuote:\n",
    "\n",
    "```python\n",
    "# Definizione della funzione\n",
    "def welcome():\n",
    "    print(\"Ciao, gente!\")\n",
    "\n",
    "# Chiamata di funzione\n",
    "welcome()\n",
    "```"
   ]
  },
  {
   "cell_type": "markdown",
   "metadata": {},
   "source": [
    "## <a id='toc1_3_'></a>Funzione \"vuota\" [&#8593;](#toc0_)\n",
    "\n",
    "Python non consente blocchi di codice vuoti, sia all'interno di una funzione sia in qualsiasi altra struttura di controllo del flusso (`if`, `for`, `while` o `match`).\n",
    "\n",
    "È però possibile dichiarare una sorta di funzione vuota con l'istruzione `pass` o `...` (*Ellipsis*):"
   ]
  },
  {
   "cell_type": "markdown",
   "metadata": {
    "slideshow": {
     "slide_type": "fragment"
    },
    "tags": []
   },
   "source": [
    "```python\n",
    "# Questa funzione non fa nulla\n",
    "# (magari disponibile per eventuale override)\n",
    "def empty_func():\n",
    "    pass\n",
    "\n",
    "# Questa funzione non fa nulla, per ora\n",
    "# (in futuro è previsto che ci sarà qualcosa qua dentro)\n",
    "def future_func(param):\n",
    "    ...\n",
    "```"
   ]
  },
  {
   "cell_type": "markdown",
   "metadata": {
    "slideshow": {
     "slide_type": "notes"
    },
    "tags": []
   },
   "source": [
    "Quando si sceglie di chiamare una delle due precedenti funzioni con un valore arbitrario come argomento, non succederà nulla. Quindi `pass` e `...` sono solo dei segnaposto, ma almeno in questo modo il codice sarà valido."
   ]
  },
  {
   "cell_type": "markdown",
   "metadata": {},
   "source": [
    "## <a id='toc1_4_'></a>Parametri e argomenti [&#8593;](#toc0_)"
   ]
  },
  {
   "cell_type": "markdown",
   "metadata": {
    "slideshow": {
     "slide_type": "fragment"
    },
    "tags": []
   },
   "source": [
    "In realtà, i parametri sono solo degli *alias* per i valori che possono essere passati a una funzione.\n",
    "\n",
    "Possiamo considerarli delle *variabili* disponibili nel corpo della funzione:"
   ]
  },
  {
   "cell_type": "code",
   "execution_count": 1,
   "metadata": {
    "slideshow": {
     "slide_type": "fragment"
    },
    "tags": []
   },
   "outputs": [
    {
     "name": "stdout",
     "output_type": "stream",
     "text": [
      "Invio di una cartolina a Hilton, 97\n",
      "Con il messaggio: Ciao zio!\n",
      "-------------------\n",
      "Invio di una cartolina a Piccadilly, London\n",
      "Con il messaggio: Saluti da Torino!\n",
      "-------------------\n"
     ]
    }
   ],
   "source": [
    "def invia_cartolina(indirizzo, messaggio):\n",
    "    print('Invio di una cartolina a', indirizzo)\n",
    "    print('Con il messaggio:', messaggio)\n",
    "    print('-------------------')\n",
    "\n",
    "\n",
    "invia_cartolina('Hilton, 97', 'Ciao zio!')\n",
    "\n",
    "invia_cartolina('Piccadilly, London', 'Saluti da Torino!')"
   ]
  },
  {
   "cell_type": "markdown",
   "metadata": {
    "slideshow": {
     "slide_type": "subslide"
    },
    "tags": []
   },
   "source": [
    "Come si può vedere, la funzione precedente è come un pezzo di codice riutilizzabile, che può essere eseguito con argomenti diversi, cioè con valori diversi passati alla funzione."
   ]
  },
  {
   "cell_type": "markdown",
   "metadata": {
    "slideshow": {
     "slide_type": "fragment"
    },
    "tags": []
   },
   "source": [
    "In questo caso, `indirizzo` e `messaggio` sono solo degli alias, con i quali la funzione riceve i valori e li elabora nel corpo."
   ]
  },
  {
   "cell_type": "markdown",
   "metadata": {
    "slideshow": {
     "slide_type": "fragment"
    },
    "tags": []
   },
   "source": [
    "> NOTA: I parametri vengono reinizializzati ogni volta che si chiama la funzione."
   ]
  },
  {
   "cell_type": "markdown",
   "metadata": {},
   "source": [
    "## <a id='toc1_5_'></a>Argomenti mancanti [&#8593;](#toc0_)\n",
    "\n",
    "E che cosa succede se non forniamo tutti gli argomenti previsti?"
   ]
  },
  {
   "cell_type": "markdown",
   "metadata": {
    "slideshow": {
     "slide_type": "fragment"
    },
    "tags": []
   },
   "source": [
    "Nel nostro esempio, la funzione `invia_cartolina` accetta esattamente 2 argomenti, quindi non sarà possibile eseguirla con più o meno di 2 argomenti:"
   ]
  },
  {
   "cell_type": "markdown",
   "metadata": {},
   "source": [
    "```python\n",
    "invia_cartolina('Musée du Louvre de Paris')\n",
    "\n",
    "TypeError: invia_cartolina() missing 1 required positional argument: 'messaggio'\n",
    "```"
   ]
  },
  {
   "cell_type": "markdown",
   "metadata": {},
   "source": [
    "## <a id='toc1_6_'></a>Esecuzione e ritorno [&#8593;](#toc0_)"
   ]
  },
  {
   "cell_type": "markdown",
   "metadata": {},
   "source": [
    "La nostra funzione precedente esegue solo alcune azioni, ma non ha alcun valore di ritorno."
   ]
  },
  {
   "cell_type": "markdown",
   "metadata": {
    "slideshow": {
     "slide_type": "fragment"
    },
    "tags": []
   },
   "source": [
    "Tuttavia, si potrebbe voler calcolare qualcosa in una funzione e restituire il risultato a un certo punto. Ad esempio:"
   ]
  },
  {
   "cell_type": "code",
   "execution_count": 2,
   "metadata": {},
   "outputs": [
    {
     "name": "stdout",
     "output_type": "stream",
     "text": [
      "212.0\n"
     ]
    }
   ],
   "source": [
    "def celsius_to_fahrenheit(temp_c):\n",
    "    temp_f = temp_c * 9 / 5 + 32\n",
    "    return round(temp_f, 2)\n",
    "\n",
    "\n",
    "# Convertire il punto di ebollizione dell'acqua\n",
    "water_bp = celsius_to_fahrenheit(100)\n",
    "print(water_bp)"
   ]
  },
  {
   "cell_type": "markdown",
   "metadata": {
    "slideshow": {
     "slide_type": "fragment"
    },
    "tags": []
   },
   "source": [
    "La parola chiave `return` viene utilizzata per indicare i valori in uscita dalla funzione. In pratica, è il risultato della chiamata alla funzione."
   ]
  },
  {
   "cell_type": "markdown",
   "metadata": {
    "slideshow": {
     "slide_type": "notes"
    },
    "tags": []
   },
   "source": [
    "Quindi, nell'esempio precedente, abbiamo memorizzato il valore restituito dalla nostra funzione nella variabile `water_bp`."
   ]
  },
  {
   "cell_type": "markdown",
   "metadata": {
    "slideshow": {
     "slide_type": "subslide"
    },
    "tags": []
   },
   "source": [
    "Un'altra cosa da dire è che le funzioni non hanno necessariamente dei valori di ritorno. La nota funzione `print()`, infatti, non restituisce nulla."
   ]
  },
  {
   "cell_type": "markdown",
   "metadata": {
    "slideshow": {
     "slide_type": "fragment"
    },
    "tags": []
   },
   "source": [
    "Esaminiamo il codice qui sotto e il suo risultato:"
   ]
  },
  {
   "cell_type": "code",
   "execution_count": 3,
   "metadata": {},
   "outputs": [
    {
     "name": "stdout",
     "output_type": "stream",
     "text": [
      "We Will Rock You\n",
      "None\n"
     ]
    }
   ],
   "source": [
    "chant = print(\"We Will Rock You\")\n",
    "print(chant)"
   ]
  },
  {
   "cell_type": "markdown",
   "metadata": {},
   "source": [
    "Abbiamo dichiarato la variabile `chant` e invocato `print()`."
   ]
  },
  {
   "cell_type": "markdown",
   "metadata": {
    "slideshow": {
     "slide_type": "fragment"
    },
    "tags": []
   },
   "source": [
    "Ovviamente la funzione è stata eseguita, ma alla variabile `chant` è stato assegnato l'oggetto `None`. Questo perché la funzione chiamata non ha restituito letteralmente nulla."
   ]
  },
  {
   "cell_type": "markdown",
   "metadata": {
    "slideshow": {
     "slide_type": "fragment"
    },
    "tags": []
   },
   "source": [
    "> IMPORTANTE: Se non viene espressamente restituito un valore tramite l'istruzione `return`, la funzione restituirà sempre il valore `None`."
   ]
  },
  {
   "cell_type": "markdown",
   "metadata": {
    "slideshow": {
     "slide_type": "subslide"
    },
    "tags": []
   },
   "source": [
    "> ATTENZIONE: L'interprete Python interrompe l'esecuzione della funzione non appena trova un `return`."
   ]
  },
  {
   "cell_type": "markdown",
   "metadata": {
    "slideshow": {
     "slide_type": "notes"
    },
    "tags": []
   },
   "source": [
    "Ma cosa succede se il corpo della funzione contiene più di una dichiarazione di `return`? In questo caso l'eventuale restante codice non sarà eseguito. Tenetelo presente!"
   ]
  },
  {
   "cell_type": "code",
   "execution_count": 4,
   "metadata": {
    "slideshow": {
     "slide_type": "fragment"
    },
    "tags": []
   },
   "outputs": [
    {
     "name": "stdout",
     "output_type": "stream",
     "text": [
      "0\n",
      "None\n"
     ]
    }
   ],
   "source": [
    "def multi_ritorno_inutile(param1, param2):\n",
    "    return param1 * param2\n",
    "    print('Questa stringa non verrà stampata')\n",
    "    return param1 / param2\n",
    "\n",
    "def multi_ritorno_esplicito(param1, param2):\n",
    "    if param2 == 0:\n",
    "        return\n",
    "    else:\n",
    "        return param1 / param2\n",
    "\n",
    "print(multi_ritorno_inutile(2, 0))\n",
    "print(multi_ritorno_esplicito(2, 0))"
   ]
  },
  {
   "cell_type": "markdown",
   "metadata": {},
   "source": [
    "## <a id='toc1_7_'></a>Ritorno multiplo [&#8593;](#toc0_)\n",
    "\n",
    "È possibile restituire più valori in una sola volta, in questo modo:"
   ]
  },
  {
   "cell_type": "code",
   "execution_count": 5,
   "metadata": {},
   "outputs": [
    {
     "name": "stdout",
     "output_type": "stream",
     "text": [
      "20 40 80\n"
     ]
    }
   ],
   "source": [
    "def ritorno_massivo(param1):\n",
    "    a = param1 * 2\n",
    "    b = param1 * 4\n",
    "    c = param1 * 8\n",
    "    return a, b, c\n",
    "\n",
    "var1, var2, var3 = ritorno_massivo(10)\n",
    "\n",
    "print(var1, var2, var3)"
   ]
  },
  {
   "cell_type": "markdown",
   "metadata": {
    "slideshow": {
     "slide_type": "fragment"
    },
    "tags": []
   },
   "source": [
    "> Notate che viene restituito un oggetto di tipo `tuple`."
   ]
  },
  {
   "cell_type": "markdown",
   "metadata": {
    "slideshow": {
     "slide_type": "subslide"
    },
    "tags": []
   },
   "source": [
    "Se i valori da restituire sono molti, forse è meglio una struttura dati più comoda, per esempio un `dict`:"
   ]
  },
  {
   "cell_type": "code",
   "execution_count": 6,
   "metadata": {
    "slideshow": {
     "slide_type": "fragment"
    },
    "tags": []
   },
   "outputs": [
    {
     "name": "stdout",
     "output_type": "stream",
     "text": [
      "{'res1': 20, 'res2': 40, 'res3': 80, 'res4': 160, 'res5': 320}\n",
      "80\n"
     ]
    }
   ],
   "source": [
    "def ritorno_massivo(param1):\n",
    "    a = param1 * 2\n",
    "    b = param1 * 4\n",
    "    c = param1 * 8\n",
    "    d = param1 * 16\n",
    "    e = param1 * 32\n",
    "    return {\n",
    "        'res1': a,\n",
    "        'res2': b,\n",
    "        'res3': c,\n",
    "        'res4': d,\n",
    "        'res5': e,\n",
    "    }\n",
    "\n",
    "risulato = ritorno_massivo(10)\n",
    "\n",
    "print(risulato)\n",
    "print(risulato['res3'])"
   ]
  },
  {
   "cell_type": "markdown",
   "metadata": {},
   "source": [
    "## <a id='toc1_8_'></a>Riassumendo [&#8593;](#toc0_)"
   ]
  },
  {
   "cell_type": "markdown",
   "metadata": {
    "tags": []
   },
   "source": [
    "Abbiamo imparato la sintassi per la dichiarazione delle funzioni. Ora sappiamo che:"
   ]
  },
  {
   "cell_type": "markdown",
   "metadata": {
    "slideshow": {
     "slide_type": "fragment"
    },
    "tags": []
   },
   "source": [
    "- I parametri di una funzione:\n",
    "    - sono semplicemente degli alias o dei segnaposto per i valori che gli verranno passati;\n",
    "    - vengono reinizializzati ogni volta che si chiama la funzione;\n",
    "    - sono disponibili nel corpo della funzione per eseguire i calcoli."
   ]
  },
  {
   "cell_type": "markdown",
   "metadata": {
    "slideshow": {
     "slide_type": "fragment"
    },
    "tags": []
   },
   "source": [
    "- Una funzione può eseguire il proprio codice e:\n",
    "    - non restituire un risultato specifico. Se la funzione non restituisce nulla, assegnando il risultato a una variabile o stampandolo si ottiene `None`.\n",
    "    - restituire uno o più valori sotto forma di tupla o qualsiasi altro contenitore utile."
   ]
  },
  {
   "cell_type": "markdown",
   "metadata": {
    "slideshow": {
     "slide_type": "fragment"
    },
    "tags": []
   },
   "source": [
    "Dichiarare le proprie funzioni rende il codice più strutturato e riutilizzabile. Ogni volta che utilizzate lo stesso pezzo di codice più di una volta, cercate di crearne una funzione!"
   ]
  },
  {
   "cell_type": "markdown",
   "metadata": {},
   "source": [
    "## <a id='toc1_9_'></a>Visibilità e accessibilità delle variabili (*scope*) nelle funzioni [&#8593;](#toc0_)\n",
    "\n",
    "Nell'esempio che segue, se volessimo provare a modificare il valore di `a` all'interno delle funzioni, otterremo in un caso un errore e nell'altro un buco nell'acqua."
   ]
  },
  {
   "cell_type": "code",
   "execution_count": 7,
   "metadata": {
    "tags": []
   },
   "outputs": [
    {
     "name": "stdout",
     "output_type": "stream",
     "text": [
      "Fuori prima: 3\n",
      "Dentro dopo: 5\n",
      "Fuori dopo: 3\n"
     ]
    }
   ],
   "source": [
    "a = 3\n",
    "print('Fuori prima:', a)\n",
    "\n",
    "def pippo_errato():\n",
    "    print('Dentro prima:', a)\n",
    "    a = 5\n",
    "    print('Dentro dopo:', a) # qua non ci arriva, si rompe prima!\n",
    "\n",
    "def pippo_inutile():\n",
    "    # qua non possiamo leggere la variabile a altrimenti sarebbe come pippo_errato()\n",
    "    a = 5\n",
    "    print('Dentro dopo:', a)\n",
    "\n",
    "# Commenta e decommenta alternativamente le due chiamate di funzione per vedere\n",
    "# il diverso comportamento:\n",
    "\n",
    "# pippo_errato()\n",
    "pippo_inutile()\n",
    "\n",
    "print('Fuori dopo:', a)"
   ]
  },
  {
   "cell_type": "markdown",
   "metadata": {
    "slideshow": {
     "slide_type": "subslide"
    },
    "tags": []
   },
   "source": [
    "Potremmo fare così, ma è sconsigliato se non espressamente necessario:"
   ]
  },
  {
   "cell_type": "code",
   "execution_count": 8,
   "metadata": {},
   "outputs": [
    {
     "name": "stdout",
     "output_type": "stream",
     "text": [
      "Fuori prima: 3\n",
      "Dentro prima: 3\n",
      "Dentro dopo: 5\n",
      "Fuori dopo: 5\n"
     ]
    }
   ],
   "source": [
    "a = 3\n",
    "print('Fuori prima:', a)\n",
    "\n",
    "def pippo_globalizzato():\n",
    "    global a # è come se importassimo la variabile \"a\" dallo strato esterno\n",
    "    print('Dentro prima:', a)\n",
    "    a = 5\n",
    "    print('Dentro dopo:', a)\n",
    "\n",
    "pippo_globalizzato()\n",
    "\n",
    "print('Fuori dopo:', a)"
   ]
  },
  {
   "cell_type": "markdown",
   "metadata": {
    "slideshow": {
     "slide_type": "subslide"
    },
    "tags": []
   },
   "source": [
    "Fare questo è ancora più insidioso:"
   ]
  },
  {
   "cell_type": "code",
   "execution_count": 9,
   "metadata": {},
   "outputs": [
    {
     "name": "stdout",
     "output_type": "stream",
     "text": [
      "fantastico\n"
     ]
    }
   ],
   "source": [
    "def pippo_globalizzatore():\n",
    "    global new_var # è come se creassimo la variabile anche nello \"strato\" esterno\n",
    "    new_var = \"fantastico\"\n",
    "\n",
    "pippo_globalizzatore()\n",
    "print(new_var)"
   ]
  },
  {
   "cell_type": "markdown",
   "metadata": {
    "slideshow": {
     "slide_type": "subslide"
    },
    "tags": []
   },
   "source": [
    "Tutti i casi precedenti sono sconsigliati. Se dovete modificare la nostra variabile `a`, fatelo in modo semplice ed esplicito:"
   ]
  },
  {
   "cell_type": "code",
   "execution_count": 10,
   "metadata": {},
   "outputs": [
    {
     "name": "stdout",
     "output_type": "stream",
     "text": [
      "Fuori prima: 3\n",
      "Fuori dopo: 5\n"
     ]
    }
   ],
   "source": [
    "a = 3\n",
    "print('Fuori prima:', a)\n",
    "\n",
    "def pippo_normale():\n",
    "    return 5\n",
    "\n",
    "a = pippo_normale()\n",
    "\n",
    "print('Fuori dopo:', a)"
   ]
  },
  {
   "cell_type": "markdown",
   "metadata": {},
   "source": [
    "## <a id='toc1_10_'></a>Saper distinguere le funzioni [&#8593;](#toc0_)"
   ]
  },
  {
   "cell_type": "markdown",
   "metadata": {
    "slideshow": {
     "slide_type": "fragment"
    },
    "tags": []
   },
   "source": [
    "Capire come possono comportarsi le funzioni, ci permette di:\n",
    "\n",
    "- usare al meglio le funzioni già disponibili;\n",
    "- scrivere le proprie funzioni in modo più consapevole."
   ]
  },
  {
   "cell_type": "markdown",
   "metadata": {
    "slideshow": {
     "slide_type": "subslide"
    },
    "tags": []
   },
   "source": [
    "Puoi trovare 3 categorie di funzioni/procedure e naturalmente tutte le loro possibili combinazioni:"
   ]
  },
  {
   "cell_type": "markdown",
   "metadata": {
    "slideshow": {
     "slide_type": "fragment"
    },
    "tags": []
   },
   "source": [
    "1. Produce dei *SIDE EFFECTS* ([effetti collaterali](https://it.wikipedia.org/wiki/Effetto_collaterale_(informatica))) che modificano l'ambiente di esecuzione in qualche modo. Ad esempio: \n",
    "    - stampare,\n",
    "    - richiedere input utente,\n",
    "    - modificare oggetti globali,\n",
    "    - leggere/scrivere sul filesystem (file e cartelle).\n"
   ]
  },
  {
   "cell_type": "markdown",
   "metadata": {
    "slideshow": {
     "slide_type": "fragment"
    },
    "tags": []
   },
   "source": [
    "2. RESTITUISCE un risultato"
   ]
  },
  {
   "cell_type": "markdown",
   "metadata": {
    "slideshow": {
     "slide_type": "fragment"
    },
    "tags": []
   },
   "source": [
    "3. MODIFICA gli argomenti ricevuti (l'input della funzione)"
   ]
  },
  {
   "cell_type": "markdown",
   "metadata": {
    "slideshow": {
     "slide_type": "fragment"
    },
    "tags": []
   },
   "source": [
    "E naturalmente anche tutti i comportamenti risultanti da combinazioni dei precedenti. Ad esempio:\n",
    "- MODIFICA gli argomenti ricevuti e ne RESTITUISCE almeno uno (permette la concatenazione di chiamate, detto _chaining_)"
   ]
  },
  {
   "cell_type": "markdown",
   "metadata": {
    "slideshow": {
     "slide_type": "notes"
    },
    "tags": []
   },
   "source": [
    "\n",
    "Proviamo ora a capire le differenze con diversi esempi."
   ]
  },
  {
   "cell_type": "markdown",
   "metadata": {},
   "source": [
    "### <a id='toc1_10_1_'></a>SIDE EFFECTS [&#8593;](#toc0_)\n",
    "\n",
    "Stampa, richiede input utente, modifica oggetti globali, legge/scrive sul filesystem ecc.\n",
    "\n",
    "- NON modifica l'input.\n",
    "- NON restituisce niente! `-> None`\n",
    "\n",
    "Esempio: "
   ]
  },
  {
   "cell_type": "code",
   "execution_count": 13,
   "metadata": {
    "slideshow": {
     "slide_type": "fragment"
    },
    "tags": []
   },
   "outputs": [
    {
     "name": "stdout",
     "output_type": "stream",
     "text": [
      "Input [8, 5, 6, 2]\n",
      "Side effect: I primi due elementi sono 8 e 5\n",
      "Output: None\n",
      "Input originale: [8, 5, 6, 2]\n"
     ]
    }
   ],
   "source": [
    "def informa_utente(lista):\n",
    "    \"\"\"STAMPA i primi due elementi della lista data\n",
    "    \"\"\"    \n",
    "    print('Side effect: I primi due elementi sono', lista[0], 'e', lista[1])\n",
    "\n",
    "mia_lista = [8,5,6,2]\n",
    "print('Input', mia_lista)\n",
    "\n",
    "risultato = informa_utente(mia_lista)\n",
    "print('Output:', risultato)\n",
    "print('Input originale:', mia_lista)"
   ]
  },
  {
   "cell_type": "markdown",
   "metadata": {},
   "source": [
    "### <a id='toc1_10_2_'></a>RESTITUISCE [&#8593;](#toc0_)\n",
    "\n",
    "RESTITUISCE qualche valore, come una NUOVA regione di memoria o un NUOVO puntatore a una regione di memoria esistente, a seconda di come è implementato il comportamento all'interno del corpo della funzione.\n",
    "\n",
    "- NON modifica l'input.\n",
    "\n",
    "Esempio:"
   ]
  },
  {
   "cell_type": "code",
   "execution_count": 16,
   "metadata": {
    "slideshow": {
     "slide_type": "subslide"
    },
    "tags": []
   },
   "outputs": [
    {
     "name": "stdout",
     "output_type": "stream",
     "text": [
      "Input: [5, 2, 6, 3]\n",
      "Output: [10, 4, 12, 6]\n",
      "Input originale: [5, 2, 6, 3]\n"
     ]
    }
   ],
   "source": [
    "def crea_nuova_lista_raddoppiata(lista):\n",
    "    \"\"\"Restituisce una nuova lista i cui elementi vengono raddoppiati\n",
    "    \"\"\"    \n",
    "    res = []\n",
    "    for elem in lista:\n",
    "        res.append(elem * 2)\n",
    "    return res   \n",
    "\n",
    "mia_lista = [5,2,6,3]\n",
    "print('Input:', mia_lista)\n",
    "\n",
    "risultato = crea_nuova_lista_raddoppiata(mia_lista)\n",
    "print(\"Output:\", risultato)\n",
    "print('Input originale:', mia_lista)\n",
    "\n",
    "# È possibile concatenare delle chiamate di metodo\n",
    "# index_12 = crea_nuova_lista_raddoppiata(mia_lista).index(12)\n",
    "# print('func(input).index(12):', index_12)\n",
    "# print('Input originale:', mia_lista)"
   ]
  },
  {
   "cell_type": "markdown",
   "metadata": {},
   "source": [
    "### <a id='toc1_10_3_'></a>MODIFICA [&#8593;](#toc0_)\n",
    "\n",
    "MODIFICA l'input \"in-place\", ovvero cambia i dati dentro regioni di memoria esistenti (limitando il più possibile la creazione di regioni nuove).\n",
    "\n",
    "- NON restituisce niente! `-> None`\n",
    "- NON crea nuove regioni di memoria accessibili dall'esterno della funzione.\n",
    "\n",
    "Esempio:"
   ]
  },
  {
   "cell_type": "code",
   "execution_count": 14,
   "metadata": {
    "slideshow": {
     "slide_type": "fragment"
    },
    "tags": []
   },
   "outputs": [
    {
     "name": "stdout",
     "output_type": "stream",
     "text": [
      "Input: [5, 2, 6, 3]\n",
      "Output: None\n",
      "Input originale: [10, 4, 12, 6]\n"
     ]
    }
   ],
   "source": [
    "def raddoppia_lista(lista):\n",
    "    for i in range(len(lista)):\n",
    "        lista[i] = lista[i] * 2    \n",
    "    \n",
    "mia_lista = [5,2,6,3]\n",
    "print('Input:', mia_lista)\n",
    "\n",
    "risultato = raddoppia_lista(mia_lista)\n",
    "print(\"Output:\", risultato)\n",
    "print('Input originale:', mia_lista)"
   ]
  },
  {
   "cell_type": "markdown",
   "metadata": {},
   "source": [
    "### <a id='toc1_10_4_'></a>Combinazioni: MODIFICA + RESTITUISCE [&#8593;](#toc0_)\n",
    "\n",
    "MODIFICA l'input \"in-place\" e RESTITUISCE un puntatore all'input stesso\n",
    "\n",
    "- NON crea nuove regioni di memoria accessibili dall'esterno della funzione."
   ]
  },
  {
   "cell_type": "code",
   "execution_count": 15,
   "metadata": {
    "slideshow": {
     "slide_type": "fragment"
    },
    "tags": []
   },
   "outputs": [
    {
     "name": "stdout",
     "output_type": "stream",
     "text": [
      "Input: [5, 2, 6, 3]\n",
      "Output: [10, 4, 12, 6]\n",
      "Input originale: [10, 4, 12, 6]\n"
     ]
    }
   ],
   "source": [
    "def raddoppia_lista_e_ritorna(lista):\n",
    "    for i in range(len(lista)):\n",
    "        lista[i] = lista[i] * 2  \n",
    "    return lista  # Se provi a commentare il return si genererà un errore!\n",
    "                  # perché si rientra nel caso precedente.\n",
    "    \n",
    "mia_lista = [5,2,6,3]\n",
    "print('Input:', mia_lista)\n",
    "\n",
    "risultato = raddoppia_lista_e_ritorna(mia_lista)\n",
    "print(\"Output:\", risultato)\n",
    "print('Input originale:', mia_lista)\n"
   ]
  },
  {
   "cell_type": "markdown",
   "metadata": {},
   "source": [
    "ATTENZIONE: Questo consente il concatenamento di chiamate \"in-place\" (detto *in-place chaining*), che non è considerata una buona pratica perché può causare comportamenti controintuivi. Normalmente questa soluzione viene evitata se non in casi particolari.\n",
    "\n",
    "Per esempio, nel caso che segue non è immediato capire cosa stia succendendo:"
   ]
  },
  {
   "cell_type": "code",
   "execution_count": 17,
   "metadata": {},
   "outputs": [
    {
     "name": "stdout",
     "output_type": "stream",
     "text": [
      "Input: [5, 2, 6, 3]\n",
      "func(input).reverse(): None\n",
      "Input originale: [6, 12, 4, 10]\n"
     ]
    }
   ],
   "source": [
    "mia_lista = [5,2,6,3]\n",
    "print('Input:', mia_lista)\n",
    "\n",
    "risultato = raddoppia_lista_e_ritorna(mia_lista).reverse()  # reverse() restituisce None\n",
    "print('func(input).reverse():', risultato)\n",
    "print('Input originale:', mia_lista)\n"
   ]
  },
  {
   "cell_type": "markdown",
   "metadata": {},
   "source": [
    "# <a id='toc2_'></a>`if` ... (`elif` ... `else` ...) [&#8593;](#toc0_)"
   ]
  },
  {
   "cell_type": "markdown",
   "metadata": {
    "tags": []
   },
   "source": [
    "`if` è una struttura di controllo del flusso di esecuzione del nostro codice."
   ]
  },
  {
   "cell_type": "markdown",
   "metadata": {
    "slideshow": {
     "slide_type": "fragment"
    },
    "tags": []
   },
   "source": [
    "Se vogliamo eseguire un pezzo di codice solo in presenza di una determinata condizione, questo deve essere inserito nel corpo di un'istruzione `if`. "
   ]
  },
  {
   "cell_type": "markdown",
   "metadata": {
    "slideshow": {
     "slide_type": "fragment"
    },
    "tags": []
   },
   "source": [
    "Oltre a `if` possiamo indicare facoltativamente ulteriori blocchi \"condizionati\" tramite i costrutti `elif` ed `else`."
   ]
  },
  {
   "cell_type": "markdown",
   "metadata": {
    "slideshow": {
     "slide_type": "fragment"
    },
    "tags": []
   },
   "source": [
    "`if` ed `elif` prevedono di valutare delle condizioni scritte sotto forma di espressioni.\n",
    "```python\n",
    "if var1 == 'pippo':\n",
    "    ...\n",
    "```"
   ]
  },
  {
   "cell_type": "markdown",
   "metadata": {
    "slideshow": {
     "slide_type": "subslide"
    },
    "tags": []
   },
   "source": [
    "Le condizioni sono scritte sotto forma di espressioni e infine valutate come *truthy* e *falsy*.\n",
    "```python\n",
    "if -5 + 5:    # -> bool(-5 + 5) -> bool(0) -> False\n",
    "    ...\n",
    "elif 'ciao':  # -> bool('ciao') -> True\n",
    "    ...\n",
    "```"
   ]
  },
  {
   "cell_type": "markdown",
   "metadata": {
    "slideshow": {
     "slide_type": "fragment"
    },
    "tags": []
   },
   "source": [
    "> IMPORTANTE: In pratica, `if` ed `elif` è come se si aspettassero di valutare un valore `bool`, ovvero `True` o `False`. Qualunque altro valore, possiamo immaginare che venga automaticamente convertito in booleano tramite una specie di `bool()` implicito."
   ]
  },
  {
   "cell_type": "markdown",
   "metadata": {
    "slideshow": {
     "slide_type": "subslide"
    },
    "tags": []
   },
   "source": [
    "Se la condizione risulta `True`, allora il blocco di codice indentato subito sotto alla condizione sarà eseguito."
   ]
  },
  {
   "cell_type": "code",
   "execution_count": 15,
   "metadata": {
    "slideshow": {
     "slide_type": "fragment"
    },
    "tags": []
   },
   "outputs": [
    {
     "name": "stdout",
     "output_type": "stream",
     "text": [
      "questo verrà eseguito\n"
     ]
    }
   ],
   "source": [
    "if True:\n",
    "    var1 = 'questo'\n",
    "    var2 = 'verrà'\n",
    "    var3 = 'eseguito'\n",
    "    print(var1, var2, var3)"
   ]
  },
  {
   "cell_type": "markdown",
   "metadata": {
    "slideshow": {
     "slide_type": "notes"
    },
    "tags": []
   },
   "source": [
    "> IMPORTANTE: In Python si usa solo l'indentazione per separare i diversi blocchi di codice, quindi solo l'indentazione mostra quali righe di codice devono essere eseguite quando l'istruzione `if` è soddisfatta e quali devono essere eseguite indipendentemente dall'istruzione `if`."
   ]
  },
  {
   "cell_type": "markdown",
   "metadata": {
    "slideshow": {
     "slide_type": "subslide"
    },
    "tags": []
   },
   "source": [
    "`elif` e `else` sono opzionali."
   ]
  },
  {
   "cell_type": "code",
   "execution_count": 16,
   "metadata": {
    "slideshow": {
     "slide_type": "fragment"
    },
    "tags": []
   },
   "outputs": [
    {
     "name": "stdout",
     "output_type": "stream",
     "text": [
      "Pippo e Pluto.\n"
     ]
    }
   ],
   "source": [
    "var1 = 'Pippo'\n",
    "# var1 = 'Paperino'\n",
    "\n",
    "if var1 == 'Pippo':\n",
    "    var1 += ' e Pluto.'\n",
    "print(var1)"
   ]
  },
  {
   "cell_type": "markdown",
   "metadata": {
    "slideshow": {
     "slide_type": "fragment"
    },
    "tags": []
   },
   "source": [
    "oppure"
   ]
  },
  {
   "cell_type": "code",
   "execution_count": 17,
   "metadata": {},
   "outputs": [
    {
     "name": "stdout",
     "output_type": "stream",
     "text": [
      "Pippo e Pluto.\n"
     ]
    }
   ],
   "source": [
    "var1 = 'Pippo'\n",
    "# var1 = 'Paperino'\n",
    "# var1 = 'Topolino'\n",
    "\n",
    "if var1 == 'Pippo':\n",
    "    var1 += ' e Pluto.'\n",
    "elif var1 == 'Paperino': \n",
    "    var1 += ' e Paperina.'\n",
    "print(var1)"
   ]
  },
  {
   "cell_type": "markdown",
   "metadata": {
    "slideshow": {
     "slide_type": "fragment"
    },
    "tags": []
   },
   "source": [
    "`elif` richiede sempre una condizione, come per `if`."
   ]
  },
  {
   "cell_type": "markdown",
   "metadata": {
    "slideshow": {
     "slide_type": "subslide"
    },
    "tags": []
   },
   "source": [
    "`else` non può avere condizioni, è sempre e solo `else`."
   ]
  },
  {
   "cell_type": "code",
   "execution_count": 18,
   "metadata": {
    "slideshow": {
     "slide_type": "fragment"
    },
    "tags": []
   },
   "outputs": [
    {
     "name": "stdout",
     "output_type": "stream",
     "text": [
      "Pippo e Pluto.\n"
     ]
    }
   ],
   "source": [
    "var1 = 'Pippo'\n",
    "# var1 = 'Paperino'\n",
    "# var1 = 'Topolino'\n",
    "\n",
    "if var1 == 'Pippo':\n",
    "    var1 += ' e Pluto.'\n",
    "else:\n",
    "    var1 += ' da solo.'\n",
    "print(var1)"
   ]
  },
  {
   "cell_type": "markdown",
   "metadata": {
    "slideshow": {
     "slide_type": "subslide"
    },
    "tags": []
   },
   "source": [
    "`elif` e `else` non possono mai esistere senza un `if`."
   ]
  },
  {
   "cell_type": "markdown",
   "metadata": {
    "slideshow": {
     "slide_type": "fragment"
    },
    "tags": []
   },
   "source": [
    "> RICORDA: Se scriviamo la struttura di controllo `if` utilizzando l'indentazione dei blocchi di codice, sono obbligatori i due punti `:` dopo le condizioni e dopo l'`else`."
   ]
  },
  {
   "cell_type": "markdown",
   "metadata": {},
   "source": [
    "## <a id='toc2_1_'></a>Riassumendo [&#8593;](#toc0_)"
   ]
  },
  {
   "cell_type": "code",
   "execution_count": 19,
   "metadata": {},
   "outputs": [
    {
     "name": "stdout",
     "output_type": "stream",
     "text": [
      "Pippo e Pluto.\n"
     ]
    }
   ],
   "source": [
    "var1 = 'Pippo'\n",
    "# var1 = 'Paperino'\n",
    "# var1 = 'Topolino'\n",
    "# var1 = 'Eta Beta'\n",
    "\n",
    "if var1 == 'Pippo':        # Prima condizione da verificare\n",
    "    var1 += ' e Pluto.'    # Questo viene eseguito se la prima condizione è True\n",
    "elif var1 == 'Paperino':   # Altra condizione, verificata se la precedente condizione è False\n",
    "    var1 += ' e Paperina.' # Questo viene eseguito se la condizione di questo elif si verifica\n",
    "elif var1 == 'Topolino':   # Altra condizione, verificata se la precedente condizione è False\n",
    "    var1 += ' e Minni.'    # Questo viene eseguito se la condizione di questo elif si verifica\n",
    "else:                      # Se tutte le precedenti condizioni non sono True\n",
    "    var1 += ' da solo.'    # Questo viene eseguito se nessuna delle precedenti condizioni si sono verificate\n",
    "\n",
    "print(var1)                # Questo viene eseguito in ogni caso, perché fuori dall'if"
   ]
  },
  {
   "cell_type": "markdown",
   "metadata": {},
   "source": [
    "## <a id='toc2_2_'></a>Operatore ternario [&#8593;](#toc0_)\n",
    "\n",
    "Come scoprirete presto, i programmatori amano ogni tipo di scorciatoia. Anche per le espressioni condizionali esiste un trucco:"
   ]
  },
  {
   "cell_type": "markdown",
   "metadata": {
    "slideshow": {
     "slide_type": "fragment"
    },
    "tags": []
   },
   "source": [
    "È possibile scrivere un'istruzione if-else in una sola riga. Si tratta di un cosiddetto _**operatore ternario**_ e si presenta in questo modo:\n",
    "\n",
    "```python\n",
    "print(\"Ora è giorno!\" if sole else \"Ora è notte!\")\n",
    "````"
   ]
  },
  {
   "cell_type": "markdown",
   "metadata": {
    "slideshow": {
     "slide_type": "fragment"
    },
    "tags": []
   },
   "source": [
    "Oppure, più in generale:\n",
    "\n",
    "```python\n",
    "prima_alternativa if condizione else seconda_alternativa\n",
    "```"
   ]
  },
  {
   "cell_type": "markdown",
   "metadata": {
    "slideshow": {
     "slide_type": "fragment"
    },
    "tags": []
   },
   "source": [
    "È una questione di comodità, ma ricordate che il codice deve rimanere comunque leggibile!"
   ]
  },
  {
   "cell_type": "markdown",
   "metadata": {},
   "source": [
    "## <a id='toc2_3_'></a>`if` annidati [&#8593;](#toc0_)\n",
    "\n",
    "A volte una condizione è troppo complicata per una semplice istruzione `if`. In questo caso, si possono usare i cosiddetti \"`if` annidati\", ovvero un `if` dentro un'altro `if`."
   ]
  },
  {
   "cell_type": "markdown",
   "metadata": {
    "slideshow": {
     "slide_type": "notes"
    },
    "tags": []
   },
   "source": [
    "Più dichiarazioni `if` sono annidate, più il codice diventa complesso, il che di solito non è una buona cosa. Tuttavia, questo non significa che si debbano evitare a tutti i costi gli if annidati. Per esempio:"
   ]
  },
  {
   "cell_type": "code",
   "execution_count": 20,
   "metadata": {
    "slideshow": {
     "slide_type": "fragment"
    },
    "tags": []
   },
   "outputs": [
    {
     "name": "stdout",
     "output_type": "stream",
     "text": [
      "Wow, il tuo colore è nell'arcobaleno!\n",
      "Oh, a proposito, è un colore caldo.\n"
     ]
    }
   ],
   "source": [
    "arcobaleno = 'rosso, arancione, giallo, verde, blu, indaco, viola'\n",
    "colori_caldi = 'rosso, giallo, arancione'\n",
    "mio_colore = \"arancione\"\n",
    "\n",
    "if mio_colore in arcobaleno:\n",
    "    print(\"Wow, il tuo colore è nell'arcobaleno!\")\n",
    "    if mio_colore in colori_caldi:\n",
    "        print(\"Oh, a proposito, è un colore caldo.\")"
   ]
  },
  {
   "cell_type": "markdown",
   "metadata": {
    "slideshow": {
     "slide_type": "notes"
    },
    "tags": []
   },
   "source": [
    "L'esempio precedente illustra un'istruzione if annidata. Se la variabile `mio_colore` è una stringa che contiene il nome di un colore dell'arcobaleno, si entra nel corpo della prima istruzione `if`. Per prima cosa, stampiamo il messaggio e poi controlliamo se il nostro colore appartiene ai `colori_caldi`. L'operatore di appartenenza `in` controlla semplicemente se `mio_colore` è una sottostringa della rispettiva stringa, `arcobaleno` o `colori_caldi` e restituisce un valore booleano."
   ]
  },
  {
   "cell_type": "markdown",
   "metadata": {
    "slideshow": {
     "slide_type": "fragment"
    },
    "tags": []
   },
   "source": [
    "> ATTENZIONE: Quando si tratta di dichiarazioni `if` annidate, la corretta indentazione è fondamentale! Ciascun blocco deve avere un'indentazione sempre crescente."
   ]
  },
  {
   "cell_type": "markdown",
   "metadata": {
    "slideshow": {
     "slide_type": "notes"
    }
   },
   "source": [
    "Naturalmente possiamo annidare anche sotto un `else` o un `elif`:"
   ]
  },
  {
   "cell_type": "code",
   "execution_count": 18,
   "metadata": {
    "slideshow": {
     "slide_type": "skip"
    }
   },
   "outputs": [
    {
     "name": "stdout",
     "output_type": "stream",
     "text": [
      "x < 100\n"
     ]
    }
   ],
   "source": [
    "x = float(input('Inserire un numero x:'))\n",
    "\n",
    "if x < 100:\n",
    "    print('x < 100')\n",
    "else:\n",
    "    if x == 100:\n",
    "        print('x = 100')\n",
    "    else:\n",
    "        print('x > 100')\n",
    "    print('This will be printed only because x >= 100')"
   ]
  },
  {
   "cell_type": "markdown",
   "metadata": {},
   "source": [
    "## <a id='toc2_4_'></a>`if` e definizione delle variabili [&#8593;](#toc0_)\n",
    "\n",
    "Se una variabile, ad es. `nuova_var`, viene definita all'interno di un `if`, `elif` o `else`, e se la condizione non si verifica, la variabile non sarà creata."
   ]
  },
  {
   "cell_type": "code",
   "execution_count": 21,
   "metadata": {
    "slideshow": {
     "slide_type": "fragment"
    },
    "tags": [
     "raises-exception"
    ]
   },
   "outputs": [
    {
     "ename": "NameError",
     "evalue": "name 'nuova_var' is not defined",
     "output_type": "error",
     "traceback": [
      "\u001b[0;31m---------------------------------------------------------------------------\u001b[0m",
      "\u001b[0;31mNameError\u001b[0m                                 Traceback (most recent call last)",
      "Cell \u001b[0;32mIn[21], line 6\u001b[0m\n\u001b[1;32m      3\u001b[0m \u001b[38;5;28;01mif\u001b[39;00m var1:\n\u001b[1;32m      4\u001b[0m     nuova_var \u001b[38;5;241m=\u001b[39m \u001b[38;5;124m'\u001b[39m\u001b[38;5;124mAttenzione!\u001b[39m\u001b[38;5;124m'\u001b[39m\n\u001b[0;32m----> 6\u001b[0m \u001b[38;5;28mprint\u001b[39m(\u001b[43mnuova_var\u001b[49m)\n",
      "\u001b[0;31mNameError\u001b[0m: name 'nuova_var' is not defined"
     ]
    }
   ],
   "source": [
    "var1 = False\n",
    "\n",
    "if var1:\n",
    "    nuova_var = 'Attenzione!'\n",
    "\n",
    "print(nuova_var)"
   ]
  },
  {
   "cell_type": "markdown",
   "metadata": {
    "slideshow": {
     "slide_type": "subslide"
    },
    "tags": []
   },
   "source": [
    "È preferibile inizializzare la variabile prima dell'`if`:"
   ]
  },
  {
   "cell_type": "code",
   "execution_count": 22,
   "metadata": {
    "slideshow": {
     "slide_type": "fragment"
    },
    "tags": []
   },
   "outputs": [
    {
     "name": "stdout",
     "output_type": "stream",
     "text": [
      "Tutto ok!\n"
     ]
    }
   ],
   "source": [
    "var1 = False\n",
    "nuova_var = 'Tutto ok!'\n",
    "\n",
    "if var1:\n",
    "    nuova_var = 'Attenzione!'\n",
    "\n",
    "print(nuova_var)"
   ]
  },
  {
   "cell_type": "markdown",
   "metadata": {
    "slideshow": {
     "slide_type": "fragment"
    },
    "tags": []
   },
   "source": [
    "Altrimenti dovete inizializzarla in ogni blocco di codice, per essere sicuri che non si verifichi un errore."
   ]
  },
  {
   "cell_type": "code",
   "execution_count": 23,
   "metadata": {
    "slideshow": {
     "slide_type": "fragment"
    },
    "tags": []
   },
   "outputs": [
    {
     "name": "stdout",
     "output_type": "stream",
     "text": [
      "Tutto ok!\n"
     ]
    }
   ],
   "source": [
    "var1 = False\n",
    "\n",
    "if var1:\n",
    "    nuova_var = 'Attenzione!'\n",
    "else:\n",
    "    nuova_var = 'Tutto ok!'\n",
    "\n",
    "print(nuova_var)"
   ]
  },
  {
   "cell_type": "markdown",
   "metadata": {},
   "source": [
    "# <a id='toc3_'></a>Ciclo `for` [&#8593;](#toc0_)"
   ]
  },
  {
   "cell_type": "markdown",
   "metadata": {},
   "source": [
    "I computer sono noti per la loro capacità di fare cose che le persone considerano noiose e logoranti. Ad esempio, ripetere compiti identici senza errori è una di queste cose."
   ]
  },
  {
   "cell_type": "markdown",
   "metadata": {
    "slideshow": {
     "slide_type": "notes"
    },
    "tags": []
   },
   "source": [
    "In questa sezione vedremo quale strumento Python può aiutarci in questo senso, come implementarlo e quali funzioni si possono usare insieme ad esso."
   ]
  },
  {
   "cell_type": "markdown",
   "metadata": {},
   "source": [
    "## <a id='toc3_1_'></a>Che cos'è l'iterazione? [&#8593;](#toc0_)\n",
    "\n",
    "In Python, il processo di esecuzione ripetuta dello stesso blocco di codice si chiama iterazione."
   ]
  },
  {
   "cell_type": "markdown",
   "metadata": {
    "slideshow": {
     "slide_type": "fragment"
    },
    "tags": []
   },
   "source": [
    "Esistono due tipi di iterazione:\n",
    "\n",
    "- Iterazione definita, in cui il numero di ripetizioni è stabilito in anticipo (ciclo `for`).\n",
    "- Iterazione indefinita, in cui un blocco di codice viene eseguito finché la condizione dichiarata in anticipo è vera (ciclo `while`)."
   ]
  },
  {
   "cell_type": "markdown",
   "metadata": {
    "slideshow": {
     "slide_type": "fragment"
    },
    "tags": []
   },
   "source": [
    "Dopo la prima iterazione, il programma torna all'inizio del corpo del codice e lo ripete, creando un cosiddetto ciclo (*cycle* o *loop*)."
   ]
  },
  {
   "cell_type": "markdown",
   "metadata": {
    "slideshow": {
     "slide_type": "fragment"
    },
    "tags": []
   },
   "source": [
    "Il più diffuso è il **ciclo for**, che prende il nome dall'operatore `for`, che prevede l'esecuzione del codice."
   ]
  },
  {
   "cell_type": "markdown",
   "metadata": {
    "slideshow": {
     "slide_type": "fragment"
    },
    "tags": []
   },
   "source": [
    "Con la parola chiave `for` è possibile creare un ciclo (loop) che itera un oggetto di tipo iterabile, iteratore o generatore."
   ]
  },
  {
   "cell_type": "markdown",
   "metadata": {},
   "source": [
    "## <a id='toc3_2_'></a>Sintassi del ciclo `for` [&#8593;](#toc0_)"
   ]
  },
  {
   "cell_type": "markdown",
   "metadata": {},
   "source": [
    "Ecco lo schema del ciclo:\n",
    "\n",
    "```python\n",
    "for variabile in iterabile:\n",
    "    istruzioni\n",
    "```"
   ]
  },
  {
   "cell_type": "markdown",
   "metadata": {
    "slideshow": {
     "slide_type": "fragment"
    },
    "tags": []
   },
   "source": [
    "Dove `istruzioni` è un blocco di operazioni eseguite per ogni elemento dell'`iterabile` cioè l'oggetto che deve essere iterato (ad esempio, una stringa o una lista).\n",
    "\n",
    "La `variabile` assume il valore dell'elemento successivo dell'iterabile dopo ogni iterazione."
   ]
  },
  {
   "cell_type": "markdown",
   "metadata": {
    "slideshow": {
     "slide_type": "subslide"
    },
    "tags": []
   },
   "source": [
    "Osserviamo ora il risultato ottenuto eseguendo il seguente pezzo di codice:"
   ]
  },
  {
   "cell_type": "code",
   "execution_count": 24,
   "metadata": {
    "tags": []
   },
   "outputs": [
    {
     "name": "stdout",
     "output_type": "stream",
     "text": [
      "pippo\n",
      "pluto\n",
      "paperino\n"
     ]
    }
   ],
   "source": [
    "lista = ['pippo', 'pluto', 'paperino']\n",
    "\n",
    "for eroe in lista:\n",
    "    print(eroe)"
   ]
  },
  {
   "cell_type": "markdown",
   "metadata": {
    "slideshow": {
     "slide_type": "fragment"
    },
    "tags": []
   },
   "source": [
    "Durante ogni iterazione, il programma prenderà un elemento dalla lista il quale verrà assegnato alla variabile `eroe` ed eseguirà le istruzioni su di esso, quindi il risultato finale sarà la stampa di ciascun elemento della lista."
   ]
  },
  {
   "cell_type": "markdown",
   "metadata": {
    "slideshow": {
     "slide_type": "subslide"
    },
    "tags": []
   },
   "source": [
    "Anche le stringhe sono iterabili, quindi è possibile fare lo spelling di una parola, ad esempio:"
   ]
  },
  {
   "cell_type": "code",
   "execution_count": 1,
   "metadata": {},
   "outputs": [
    {
     "name": "stdout",
     "output_type": "stream",
     "text": [
      "P\n",
      "y\n",
      "t\n",
      "h\n",
      "o\n",
      "n\n"
     ]
    }
   ],
   "source": [
    "for char in 'Python':\n",
    "    print(char)"
   ]
  },
  {
   "cell_type": "markdown",
   "metadata": {},
   "source": [
    "## <a id='toc3_3_'></a>Nomi delle variabili nei `for` [&#8593;](#toc0_)\n",
    "\n",
    "Come nome per la variabile possiamo scegliere quello che ci pare, per esempio questo codice è totalmente equivalente al precedente: "
   ]
  },
  {
   "cell_type": "code",
   "execution_count": 25,
   "metadata": {
    "slideshow": {
     "slide_type": "fragment"
    },
    "tags": []
   },
   "outputs": [
    {
     "name": "stdout",
     "output_type": "stream",
     "text": [
      "pallavolo\n",
      "tennis\n",
      "calcio\n",
      "nuoto\n",
      "Finito!\n"
     ]
    }
   ],
   "source": [
    "lista = ['pallavolo', 'tennis', 'calcio', 'nuoto']\n",
    "for sport in lista:\n",
    "    print(sport)\n",
    "    \n",
    "print('Finito!')    "
   ]
  },
  {
   "cell_type": "markdown",
   "metadata": {
    "slideshow": {
     "slide_type": "subslide"
    },
    "tags": []
   },
   "source": [
    "È possibile anche utilizzzre più di una variabile tramite il cosiddetto *unpacking* (spacchettamento).\n",
    "\n",
    "Per esempio possiamo fare questo con una sequenza di `tuple`:"
   ]
  },
  {
   "cell_type": "code",
   "execution_count": 26,
   "metadata": {},
   "outputs": [
    {
     "name": "stdout",
     "output_type": "stream",
     "text": [
      "Roma = 4\n",
      "Milano = 7\n",
      "Napoli = 1\n"
     ]
    }
   ],
   "source": [
    "lista = [('Roma', 4), ('Milano', 7), ('Napoli', 1)]\n",
    "\n",
    "for citta, numero in lista:\n",
    "    print(citta, '=', numero)"
   ]
  },
  {
   "cell_type": "markdown",
   "metadata": {
    "slideshow": {
     "slide_type": "subslide"
    },
    "tags": []
   },
   "source": [
    "E con i `dict`:"
   ]
  },
  {
   "cell_type": "code",
   "execution_count": 27,
   "metadata": {},
   "outputs": [
    {
     "name": "stdout",
     "output_type": "stream",
     "text": [
      "Roma = 4\n",
      "Milano = 7\n",
      "Napoli = 1\n"
     ]
    }
   ],
   "source": [
    "diz = {\n",
    "    'Roma': 4,\n",
    "    'Milano': 7,\n",
    "    'Napoli': 1\n",
    "}\n",
    "\n",
    "for citta, numero in diz.items():\n",
    "    print(citta, '=', numero)"
   ]
  },
  {
   "cell_type": "markdown",
   "metadata": {
    "slideshow": {
     "slide_type": "subslide"
    },
    "tags": []
   },
   "source": [
    "> ATTENZIONE: Quando inserisci una variabile in un ciclo `for`, questa variabile deve essere nuova!"
   ]
  },
  {
   "cell_type": "markdown",
   "metadata": {
    "slideshow": {
     "slide_type": "fragment"
    },
    "tags": []
   },
   "source": [
    "Se hai definito la variabile prima, non la reintrodurrai in un `for`, perchè ciò portebbe gran confusione.\n",
    "\n",
    "Per esempio:"
   ]
  },
  {
   "cell_type": "code",
   "execution_count": 28,
   "metadata": {
    "slideshow": {
     "slide_type": "fragment"
    },
    "tags": []
   },
   "outputs": [
    {
     "name": "stdout",
     "output_type": "stream",
     "text": [
      "pallavolo\n",
      "tennis\n",
      "calcio\n",
      "nuoto\n",
      "nuoto\n"
     ]
    }
   ],
   "source": [
    "sport = ['pallavolo', 'tennis', 'calcio', 'nuoto']\n",
    "prova = 'ciao' \n",
    "\n",
    "for prova in sport:  # perdi la variabile prova originale\n",
    "    print(prova)\n",
    "\n",
    "print(prova) # stampa 'nuoto' invece di 'ciao'"
   ]
  },
  {
   "cell_type": "markdown",
   "metadata": {},
   "source": [
    "## <a id='toc3_4_'></a>Funzione `range()` [&#8593;](#toc0_)"
   ]
  },
  {
   "cell_type": "markdown",
   "metadata": {},
   "source": [
    "La funzione `range()` può essere utilizzata nei cilci `for` per specificare il numero di iterazioni."
   ]
  },
  {
   "cell_type": "markdown",
   "metadata": {
    "slideshow": {
     "slide_type": "notes"
    },
    "tags": []
   },
   "source": [
    "Restituisce una sequenza di numeri che parte da 0 (per impostazione predefinita) e termina con un numero di iterazioni specificato. Attenzione: l'ultimo numero non sarà presente nell'output, dato che si è partiti da 0."
   ]
  },
  {
   "cell_type": "markdown",
   "metadata": {
    "slideshow": {
     "slide_type": "fragment"
    },
    "tags": []
   },
   "source": [
    "Vediamo l'esempio seguente:"
   ]
  },
  {
   "cell_type": "code",
   "execution_count": 29,
   "metadata": {
    "tags": []
   },
   "outputs": [
    {
     "name": "stdout",
     "output_type": "stream",
     "text": [
      "0\n",
      "1\n",
      "2\n",
      "3\n",
      "4\n"
     ]
    }
   ],
   "source": [
    "for i in range(5):\n",
    "    print(i)"
   ]
  },
  {
   "cell_type": "markdown",
   "metadata": {
    "slideshow": {
     "slide_type": "fragment"
    },
    "tags": []
   },
   "source": [
    "È possibile modificare il valore iniziale se non si vuole partire da 0."
   ]
  },
  {
   "cell_type": "markdown",
   "metadata": {
    "slideshow": {
     "slide_type": "subslide"
    },
    "tags": []
   },
   "source": [
    "Inoltre, è possibile configurare il valore di incremento (passo) aggiungendo un terzo parametro:"
   ]
  },
  {
   "cell_type": "code",
   "execution_count": 2,
   "metadata": {},
   "outputs": [
    {
     "name": "stdout",
     "output_type": "stream",
     "text": [
      "5\n",
      "15\n",
      "25\n",
      "35\n"
     ]
    }
   ],
   "source": [
    "for i in range(5, 45, 10):\n",
    "    print(i)"
   ]
  },
  {
   "cell_type": "markdown",
   "metadata": {
    "slideshow": {
     "slide_type": "fragment"
    },
    "tags": []
   },
   "source": [
    "In base ai parametri passati, abbiamo chiesto di stampare i numeri da 5 a 45 con un valore di incremento pari a 10.\n",
    "\n",
    "Osserviamo come l'ultimo valore non viene incluso nell'output."
   ]
  },
  {
   "cell_type": "markdown",
   "metadata": {
    "slideshow": {
     "slide_type": "subslide"
    },
    "tags": []
   },
   "source": [
    "Se non si intende utilizzare la variabile contatore nel ciclo, è possibile usare un \"segnaposto\" standard, usando l'underscore:"
   ]
  },
  {
   "cell_type": "code",
   "execution_count": 3,
   "metadata": {},
   "outputs": [
    {
     "name": "stdout",
     "output_type": "stream",
     "text": [
      "Ciao!\n",
      "Ciao!\n",
      "Ciao!\n",
      "Ciao!\n",
      "Ciao!\n"
     ]
    }
   ],
   "source": [
    "for _ in range(5):\n",
    "    print('Ciao!')"
   ]
  },
  {
   "cell_type": "markdown",
   "metadata": {
    "slideshow": {
     "slide_type": "fragment"
    },
    "tags": []
   },
   "source": [
    "Nell'esempio precedente, non abbiamo bisogno della variabile contatore in alcun modo, ma utilizziamo semplicemente il ciclo per ripetere la funzione `print()` un determinato numero di volte."
   ]
  },
  {
   "cell_type": "markdown",
   "metadata": {},
   "source": [
    "## <a id='toc3_5_'></a>Iterare per indici [&#8593;](#toc0_)\n",
    "\n",
    "Se abbiamo una sequenza (es. un lista), a volte è necessario conoscere a quale posizione si è durante l'iterazione: per farlo serve tener traccia degli indici."
   ]
  },
  {
   "cell_type": "markdown",
   "metadata": {
    "slideshow": {
     "slide_type": "fragment"
    },
    "tags": []
   },
   "source": [
    "Possiamo generare gli indici da controllare con `range`, e usarli per accedere ad una lista:"
   ]
  },
  {
   "cell_type": "markdown",
   "metadata": {},
   "source": [
    "### <a id='toc3_5_1_'></a>`range(len(iterable))` [&#8593;](#toc0_)"
   ]
  },
  {
   "cell_type": "code",
   "execution_count": 30,
   "metadata": {
    "slideshow": {
     "slide_type": "fragment"
    },
    "tags": []
   },
   "outputs": [
    {
     "name": "stdout",
     "output_type": "stream",
     "text": [
      "index 0 pallavolo\n",
      "index 1 tennis\n",
      "index 2 calcio\n",
      "index 3 nuoto\n"
     ]
    }
   ],
   "source": [
    "sport = ['pallavolo', 'tennis', 'calcio', 'nuoto']\n",
    "\n",
    "for i in range(len(sport)):\n",
    "    print('index', i, sport[i])"
   ]
  },
  {
   "cell_type": "markdown",
   "metadata": {},
   "source": [
    "Tuttavia, è molto più conveniente e pythonico iterare direttamente indici e valori assieme usando la funzione built-in `enumerate()`.\n",
    "\n",
    "### <a id='toc3_5_2_'></a>`enumerate(iterabile)` [&#8593;](#toc0_)"
   ]
  },
  {
   "cell_type": "code",
   "execution_count": 31,
   "metadata": {},
   "outputs": [
    {
     "name": "stdout",
     "output_type": "stream",
     "text": [
      "index 0 pallavolo\n",
      "index 1 tennis\n",
      "index 2 calcio\n",
      "index 3 nuoto\n"
     ]
    }
   ],
   "source": [
    "sport = ['pallavolo', 'tennis', 'calcio', 'nuoto']\n",
    "\n",
    "for idx, sport in enumerate(sport):\n",
    "    print('index', idx, sport)"
   ]
  },
  {
   "cell_type": "markdown",
   "metadata": {},
   "source": [
    "## <a id='toc3_6_'></a>Modificare durante l'iterazione (ATTENZIONE!) [&#8593;](#toc0_)\n",
    "\n",
    "Supponi di avere una lista `mia_lista` contente caratteri, e ti viene chiesto di duplicare tutti gli elementi, per esempio:\n",
    "```python\n",
    "mia_lista = ['a','b','c'] \n",
    "```"
   ]
  },
  {
   "cell_type": "markdown",
   "metadata": {
    "slideshow": {
     "slide_type": "fragment"
    },
    "tags": []
   },
   "source": [
    "dopo il tuo codice, deve risultare\n",
    "\n",
    "```python\n",
    ">>> print(mia_lista)\n",
    "['a','b','c','a','b','c'] \n",
    "```"
   ]
  },
  {
   "cell_type": "markdown",
   "metadata": {
    "slideshow": {
     "slide_type": "subslide"
    },
    "tags": []
   },
   "source": [
    "Forte delle conoscenze acquisite per l'iterazione, potrebbe venirti l'idea di scrivere qualcosa del genere:\n",
    "\n",
    "```python\n",
    "for elemento in mia_lista:\n",
    "    mia_lista.append(elemento)    # ATTENZIONE !\n",
    "```"
   ]
  },
  {
   "cell_type": "markdown",
   "metadata": {
    "slideshow": {
     "slide_type": "fragment"
    },
    "tags": []
   },
   "source": [
    "**DOMANDA**: Vedi forse un problema?"
   ]
  },
  {
   "cell_type": "markdown",
   "metadata": {
    "slideshow": {
     "slide_type": "fragment"
    },
    "tags": []
   },
   "source": [
    "**RISPOSTA**: se _mentre_ scorriamo la lista, continuiamo al contempo ad aggiungere pezzi, c'è il rischio concreto che non termineremo mai di esaminare la lista!"
   ]
  },
  {
   "cell_type": "markdown",
   "metadata": {
    "slideshow": {
     "slide_type": "fragment"
    },
    "tags": []
   },
   "source": [
    "> ATTENZIONE: Non aggiungere o togliere mai elementi da una sequenza su cui stai iterando con un `for`!"
   ]
  },
  {
   "cell_type": "markdown",
   "metadata": {
    "slideshow": {
     "slide_type": "notes"
    },
    "tags": []
   },
   "source": [
    "Abbandonarti in simil tentazioni **produrrebbe comportamenti del tutto imprevedibili** (conosci forse l'espressione _tirare il tappeto da sotto i piedi_?)"
   ]
  },
  {
   "cell_type": "markdown",
   "metadata": {
    "slideshow": {
     "slide_type": "subslide"
    },
    "tags": []
   },
   "source": [
    "**E rimuovere?** Abbiamo visto che aggiungere è pericoloso, ma lo è anche togliere. Supponi di dover eliminare tutti gli elementi di una lista, potresti essere tentato di scrivere qualcosa del genere:"
   ]
  },
  {
   "cell_type": "code",
   "execution_count": 1,
   "metadata": {
    "slideshow": {
     "slide_type": "fragment"
    },
    "tags": []
   },
   "outputs": [],
   "source": [
    "mia_lista = ['a','b','c','d','e']\n",
    "\n",
    "for elemento in mia_lista:\n",
    "    mia_lista.remove(elemento)   # PESSIMA IDEA"
   ]
  },
  {
   "cell_type": "markdown",
   "metadata": {
    "slideshow": {
     "slide_type": "fragment"
    },
    "tags": []
   },
   "source": [
    "Guarda bene il codice. Credi che abbiamo rimosso tutto, eh?"
   ]
  },
  {
   "cell_type": "code",
   "execution_count": 3,
   "metadata": {
    "slideshow": {
     "slide_type": "fragment"
    },
    "tags": []
   },
   "outputs": [
    {
     "data": {
      "text/plain": [
       "['b', 'd']"
      ]
     },
     "execution_count": 3,
     "metadata": {},
     "output_type": "execute_result"
    }
   ],
   "source": [
    "mia_lista"
   ]
  },
  {
   "cell_type": "markdown",
   "metadata": {},
   "source": [
    "## <a id='toc3_7_'></a>Comandi `break` e `continue` [&#8593;](#toc0_)\n",
    "\n",
    "Per avere ancora più controllo sull'esecuzione di un ciclo possiamo usare i comandi `break` e `continue` . "
   ]
  },
  {
   "cell_type": "markdown",
   "metadata": {
    "slideshow": {
     "slide_type": "notes"
    },
    "tags": []
   },
   "source": [
    "> NOTA: Cerca di limitarne l'uso perché quando vi è molto codice nel ciclo è facile \"dimenticarsi\" della loro presenza trovandosi con bug difficili da scovare. Quindi vanno usati con giudizio."
   ]
  },
  {
   "cell_type": "markdown",
   "metadata": {},
   "source": [
    "### <a id='toc3_7_1_'></a>Terminare con un `break` [&#8593;](#toc0_)\n",
    "\n",
    "Per uscire immediatamente da un ciclo si può usare il comando `break`:"
   ]
  },
  {
   "cell_type": "code",
   "execution_count": 34,
   "metadata": {
    "slideshow": {
     "slide_type": "fragment"
    },
    "tags": []
   },
   "outputs": [
    {
     "name": "stdout",
     "output_type": "stream",
     "text": [
      "l\n",
      "a\n",
      "v\n",
      "a\n",
      "break, esce dal ciclo!\n",
      "Ciclo finito !\n"
     ]
    }
   ],
   "source": [
    "for x in 'lavato':\n",
    "            \n",
    "    if x == 't':\n",
    "        print('break, esce dal ciclo!')\n",
    "        break\n",
    "        print('Dopo il break')\n",
    "        \n",
    "    print(x)\n",
    "    \n",
    "print('Ciclo finito !')"
   ]
  },
  {
   "cell_type": "markdown",
   "metadata": {
    "slideshow": {
     "slide_type": "fragment"
    },
    "tags": []
   },
   "source": [
    "Nota come l'istruzione che stampa `'Dopo il break'` _non_ sia stata eseguita."
   ]
  },
  {
   "cell_type": "markdown",
   "metadata": {},
   "source": [
    "### <a id='toc3_7_2_'></a>Proseguire con `continue` [&#8593;](#toc0_)\n",
    "\n",
    "E' possibile portare l'esecuzione immediatamente all'iterazione successiva chiamando `continue`, che salta subito al successivo elemento della sequenza senza eseguire le istruzioni dopo il `continue`."
   ]
  },
  {
   "cell_type": "code",
   "execution_count": 35,
   "metadata": {
    "slideshow": {
     "slide_type": "fragment"
    },
    "tags": []
   },
   "outputs": [
    {
     "name": "stdout",
     "output_type": "stream",
     "text": [
      "l\n",
      "continue, salta all'elemento successivo\n",
      "v\n",
      "continue, salta all'elemento successivo\n",
      "t\n",
      "o\n",
      "Ciclo finito !\n"
     ]
    }
   ],
   "source": [
    "i = 1\n",
    "for x in 'lavato':\n",
    "        \n",
    "    if x == 'a':\n",
    "        print(\"continue, salta all'elemento successivo\")\n",
    "        continue            \n",
    "    print(x)\n",
    "print('Ciclo finito !')"
   ]
  },
  {
   "cell_type": "markdown",
   "metadata": {},
   "source": [
    "### <a id='toc3_7_3_'></a>Combinare `break` e `continue` [&#8593;](#toc0_)\n",
    "\n",
    "Proviamo a vedere entrambi in [Python Tutor](https://pythontutor.com/render.html#code=i%20%3D%201%0Afor%20x%20in%20'lavato'%3A%20%20%20%20%0A%20%20%20%20if%20x%20%3D%3D%20'a'%3A%0A%20%20%20%20%20%20%20%20print%28%22continue,%20salta%20all'elemento%20successivo%22%29%0A%20%20%20%20%20%20%20%20continue%20%20%20%20%0A%20%20%20%20elif%20x%20%3D%3D%20't'%3A%0A%20%20%20%20%20%20%20%20print%28'break,%20esce%20dal%20ciclo!'%29%0A%20%20%20%20%20%20%20%20break%0A%20%20%20%20else%3A%0A%20%20%20%20%20%20%20%20print%28x%29%20%20%20%20%0A%20%20%20%20%0Aprint%28'Ciclo%20finito%20!'%29&cumulative=false&curInstr=0&heapPrimitives=nevernest&mode=display&origin=opt-frontend.js&py=3&rawInputLstJSON=%5B%5D&textReferences=false):"
   ]
  },
  {
   "cell_type": "code",
   "execution_count": 1,
   "metadata": {
    "slideshow": {
     "slide_type": "fragment"
    },
    "tags": []
   },
   "outputs": [
    {
     "name": "stdout",
     "output_type": "stream",
     "text": [
      "l\n",
      "continue, salta all'elemento successivo\n",
      "v\n",
      "continue, salta all'elemento successivo\n",
      "break, esce dal ciclo!\n",
      "Ciclo finito !\n"
     ]
    }
   ],
   "source": [
    "i = 1\n",
    "for x in 'lavato':    \n",
    "    if x == 'a':\n",
    "        print(\"continue, salta all'elemento successivo\")\n",
    "        continue    \n",
    "    elif x == 't':\n",
    "        print('break, esce dal ciclo!')\n",
    "        break\n",
    "    else:\n",
    "        print(x)    \n",
    "    \n",
    "print('Ciclo finito !')"
   ]
  },
  {
   "cell_type": "markdown",
   "metadata": {},
   "source": [
    "## <a id='toc3_8_'></a>Cicli for annidati [&#8593;](#toc0_)\n",
    "\n",
    "È possibile includere un `for` dentro un altro, ovvero creare un ciclo annidato."
   ]
  },
  {
   "cell_type": "markdown",
   "metadata": {
    "slideshow": {
     "slide_type": "fragment"
    },
    "tags": []
   },
   "source": [
    "In questo caso il primo a essere eseguito è il loop esterno. Ad ogni ciclo del `for` esterno, il `for` interno viene iterato completamente:"
   ]
  },
  {
   "cell_type": "code",
   "execution_count": 4,
   "metadata": {},
   "outputs": [
    {
     "name": "stdout",
     "output_type": "stream",
     "text": [
      "Paolo Rossi\n",
      "Paolo Bianchi\n",
      "Maria Rossi\n",
      "Maria Bianchi\n"
     ]
    }
   ],
   "source": [
    "nomi = ['Paolo', 'Maria']\n",
    "cognomi = ['Rossi', 'Bianchi']\n",
    "for nome in nomi:\n",
    "    for cognome in cognomi:\n",
    "         print(nome, cognome)"
   ]
  },
  {
   "cell_type": "markdown",
   "metadata": {
    "slideshow": {
     "slide_type": "fragment"
    },
    "tags": []
   },
   "source": [
    "Per una migliore comprensione del funzionamento di questo codice, ti consiglio di visualizzzarlo con [Python Tutor](https://pythontutor.com/render.html#code=nomi%20%3D%20%5B'Paolo',%20'Maria'%5D%0Acognomi%20%3D%20%5B'Rossi',%20'Bianchi'%5D%0Afor%20nome%20in%20nomi%3A%0A%20%20%20%20for%20cognome%20in%20cognomi%3A%0A%20%20%20%20%20%20%20%20%20print%28nome,%20cognome%29&cumulative=false&curInstr=0&heapPrimitives=nevernest&mode=display&origin=opt-frontend.js&py=3&rawInputLstJSON=%5B%5D&textReferences=false). Fare clic su Next> e seguire le frecce."
   ]
  },
  {
   "cell_type": "markdown",
   "metadata": {
    "slideshow": {
     "slide_type": "subslide"
    },
    "tags": []
   },
   "source": [
    "Per fare un esempio con le stringhe, potremmo iterare tutte le parole di una lista di parole e per ogni parola stampare tutti i suoi caratteri:"
   ]
  },
  {
   "cell_type": "code",
   "execution_count": 37,
   "metadata": {
    "tags": []
   },
   "outputs": [
    {
     "name": "stdout",
     "output_type": "stream",
     "text": [
      "v\n",
      "e\n",
      "d\n",
      "o\n",
      "\n",
      "u\n",
      "n\n",
      "a\n",
      "\n",
      "l\n",
      "u\n",
      "c\n",
      "e\n",
      "\n"
     ]
    }
   ],
   "source": [
    "lista = [\"vedo\",\n",
    "         \"una\",\n",
    "         \"luce\"]\n",
    "\n",
    "for stringa in lista:    \n",
    "    for carattere in stringa:\n",
    "        print(carattere)\n",
    "    print()"
   ]
  },
  {
   "cell_type": "markdown",
   "metadata": {},
   "source": [
    "> NOTA: Quello che abbiamo appena fatto è stato iterare in una *matrice*, che può essere rappresentata come una sequenza di sequenze (in questo caso una lista si stringhe)."
   ]
  },
  {
   "cell_type": "markdown",
   "metadata": {},
   "source": [
    "## <a id='toc3_9_'></a>Attenzione ai nomi di variabile [&#8593;](#toc0_)\n",
    "\n",
    "Quanto già detto in precedenza sul nome delle variabile vale ancor di più per i `for` annidati:"
   ]
  },
  {
   "cell_type": "markdown",
   "metadata": {
    "slideshow": {
     "slide_type": "fragment"
    },
    "tags": []
   },
   "source": [
    "> ATTENZIONE! Quando inserisci una variabile in un ciclo `for`, questa variabile deve essere nuova!"
   ]
  },
  {
   "cell_type": "markdown",
   "metadata": {
    "slideshow": {
     "slide_type": "fragment"
    },
    "tags": []
   },
   "source": [
    "Se hai definito una variabile in un `for` esterno, evita di reintrodurla in un `for` interno, perchè ciò portebbe gran confusione. Per esempio qua `s` è introdotta sia in quello esterno che in quello interno:"
   ]
  },
  {
   "cell_type": "code",
   "execution_count": 38,
   "metadata": {
    "slideshow": {
     "slide_type": "fragment"
    },
    "tags": []
   },
   "outputs": [
    {
     "name": "stdout",
     "output_type": "stream",
     "text": [
      "0\n",
      "1\n",
      "2\n",
      "2\n",
      "0\n",
      "1\n",
      "2\n",
      "2\n",
      "0\n",
      "1\n",
      "2\n",
      "2\n",
      "0\n",
      "1\n",
      "2\n",
      "2\n"
     ]
    }
   ],
   "source": [
    "for s in ['pallavolo', 'tennis', 'calcio', 'nuoto']:\n",
    "    \n",
    "    for s in range(3):  # inferno da debuggare, perdi la s del ciclo for esterno\n",
    "        print(s)\n",
    "        \n",
    "    print(s)  # stampa un numero invece che uno sport!"
   ]
  },
  {
   "cell_type": "markdown",
   "metadata": {},
   "source": [
    "## <a id='toc3_10_'></a>Riassumendo [&#8593;](#toc0_)\n",
    "\n",
    "In definitiva, i cicli for sono un modo efficiente per automatizzare alcune azioni ripetitive:"
   ]
  },
  {
   "cell_type": "markdown",
   "metadata": {
    "slideshow": {
     "slide_type": "fragment"
    },
    "tags": []
   },
   "source": [
    "- È possibile creare un ciclo annidato.\n",
    "- Possiamo usare l'istruzione `break` per interrompere il ciclo.\n",
    "- Possiamo usare l'istruzione `continue` per passare direttamente all'iterazione successiva.\n",
    "- Inoltre, è possibile controllare il numero di iterazioni con l'aiuto della funzione/classe `range()`."
   ]
  },
  {
   "cell_type": "markdown",
   "metadata": {
    "slideshow": {
     "slide_type": "fragment"
    },
    "tags": []
   },
   "source": [
    "Ci sono anche alcune cose a cui prestare attenzione:\n",
    "\n",
    "- È sconsigliato modifirare l'oggetto iterabile durante l'iterazione in quanto può provocare effetti imprevisti.\n",
    "- Fate attenzione alla sintassi: un'indentazione non corretta o o la mancanza dei due punti possono causare un errore!\n",
    "- È consigliabile utilizzare nomi nuovi per le variabili inizializzate dal ciclo for."
   ]
  },
  {
   "cell_type": "markdown",
   "metadata": {},
   "source": [
    "# <a id='toc4_'></a>Ciclo [`while`](https://wiki.python.org/moin/WhileLoop) [&#8593;](#toc0_)"
   ]
  },
  {
   "cell_type": "markdown",
   "metadata": {},
   "source": [
    "Il ciclo `while` in Python è una struttura iterativa che consente di eseguire un blocco di codice finché una determinata condizione è vera. \n",
    "\n",
    "## <a id='toc4_1_'></a>Differenze rispetto al ciclo `for` [&#8593;](#toc0_)\n",
    "\n",
    "Abbiamo già visto il ciclo `for`, anch'esso una struttura iterativa. I due cicli, `while` e `for` si distinguono perché:\n",
    "\n",
    "- Il ciclo `while` è un ciclo **indeterminato**, il numero di iterazioni non è noto a priori. \n",
    "- Il ciclo `for` è un ciclo **determinato**, il numero di iterazioni è definito dalla sequenza su cui si itera.\n",
    "\n",
    "## <a id='toc4_2_'></a>La condizione [&#8593;](#toc0_)\n",
    "\n",
    "- La condizione del ciclo `while` è un'espressione booleana che viene valutata prima di ogni iterazione.\n",
    "- Se la condizione è vera, il blocco di codice viene eseguito.\n",
    "- Se la condizione è falsa, il ciclo termina.\n",
    "\n",
    "L'istruzione `if` è simile al ciclo `while` in quanto entrambi valutano una condizione booleana. Tuttavia, l'istruzione `if` esegue un blocco di codice solo se la condizione è vera, mentre il ciclo `while` esegue il blocco di codice finché la condizione è vera."
   ]
  },
  {
   "cell_type": "markdown",
   "metadata": {},
   "source": [
    "## <a id='toc4_3_'></a>Caso d'uso con un contatore [&#8593;](#toc0_)\n",
    "\n",
    "Un caso d'uso comune del ciclo `while` è con un contatore. Ad esempio, il seguente codice stampa i numeri da 1 a 10:\n"
   ]
  },
  {
   "cell_type": "code",
   "execution_count": 3,
   "metadata": {},
   "outputs": [
    {
     "name": "stdout",
     "output_type": "stream",
     "text": [
      "1\n",
      "2\n",
      "3\n",
      "4\n",
      "5\n"
     ]
    }
   ],
   "source": [
    "counter = 1\n",
    "while counter <= 5:  # fintanto che questa condizione è True,\n",
    "    print(counter)       # esegui questo blocco di codice...\n",
    "    counter += 1         # ...e quando arrivi alla fine ritorni al while."
   ]
  },
  {
   "cell_type": "markdown",
   "metadata": {},
   "source": [
    "\n",
    "\n",
    "Lo stesso risultato si può ottenere con un ciclo `for` con `range()`:\n"
   ]
  },
  {
   "cell_type": "code",
   "execution_count": 4,
   "metadata": {},
   "outputs": [
    {
     "name": "stdout",
     "output_type": "stream",
     "text": [
      "1\n",
      "2\n",
      "3\n",
      "4\n",
      "5\n"
     ]
    }
   ],
   "source": [
    "for i in range(1, 6):\n",
    "  print(i)"
   ]
  },
  {
   "cell_type": "markdown",
   "metadata": {},
   "source": [
    "In questo caso, il ciclo `for` è più conciso e più facile da leggere. Tuttavia, il ciclo `while` è più flessibile perché consente di utilizzare una qualsiasi condizione booleana, non solo una sequenza numerica.\n",
    "\n",
    "## <a id='toc4_4_'></a>Loop infinito con `while True` [&#8593;](#toc0_)\n",
    "\n",
    "È possibile creare un ciclo infinito semplicemente scrivendo `while True`. Ad esempio, il seguente codice stamperebbe \"Ciao\" all'infinito:\n",
    "\n",
    "```python\n",
    "while True:\n",
    "    print(\"Ciao\")\n",
    "```\n",
    "\n",
    "Un ciclo infinito può essere utile in alcuni casi, ad esempio quando si scrive un programma che deve essere in esecuzione in modo continuo. Tuttavia, è importante fare attenzione a non creare accidentalmente un ciclo infinito.\n",
    "\n",
    "Per evitare di creare un ciclo infinito, è bene prevedere sempre una o più condizioni che consentono di interrompere il ciclo. Per interrompere il ciclo abbiamo l'istruzione `break`, che funziona come per il ciclo `for`.\n",
    "\n",
    "## <a id='toc4_5_'></a>Istruzione `break` [&#8593;](#toc0_)\n",
    "\n",
    "L'istruzione `break` consente di uscire da un ciclo `while`. Ad esempio, il seguente codice stampa i numeri da 1 a 5, quindi esce dal ciclo:"
   ]
  },
  {
   "cell_type": "code",
   "execution_count": 6,
   "metadata": {},
   "outputs": [
    {
     "name": "stdout",
     "output_type": "stream",
     "text": [
      "1\n",
      "2\n",
      "3\n",
      "4\n",
      "5\n"
     ]
    }
   ],
   "source": [
    "counter = 1\n",
    "while True:\n",
    "    print(counter)\n",
    "    counter += 1\n",
    "    if counter == 6:\n",
    "        break"
   ]
  },
  {
   "cell_type": "markdown",
   "metadata": {},
   "source": [
    "## <a id='toc4_6_'></a>Istruzione `continue` [&#8593;](#toc0_)\n",
    "\n",
    "L'istruzione `continue` consente di passare alla successiva iterazione di un ciclo `while`. Ad esempio, il seguente codice stampa solo i numeri pari da 1 a 10:"
   ]
  },
  {
   "cell_type": "code",
   "execution_count": 10,
   "metadata": {},
   "outputs": [
    {
     "name": "stdout",
     "output_type": "stream",
     "text": [
      "2\n",
      "4\n",
      "6\n",
      "8\n",
      "10\n"
     ]
    }
   ],
   "source": [
    "counter = 0\n",
    "while counter <= 10:\n",
    "    counter += 1\n",
    "    if counter % 2 == 1:  # se è dispari\n",
    "        continue          # salta il resto del ciclo\n",
    "    print(counter)"
   ]
  },
  {
   "cell_type": "markdown",
   "metadata": {},
   "source": [
    "\n",
    "\n",
    "## <a id='toc4_7_'></a>Conclusione [&#8593;](#toc0_)\n",
    "\n",
    "Il ciclo `while` è una struttura iterativa potente e flessibile che consente di eseguire un blocco di codice finché una determinata condizione è vera. È importante comprendere le differenze tra il ciclo `while` e il ciclo `for`, nonché le istruzioni `break` e `continue`, per utilizzare il ciclo `while` in modo efficace.\n"
   ]
  },
  {
   "cell_type": "markdown",
   "metadata": {},
   "source": [
    "# <a id='toc5_'></a>Gestione errori con [`try ... except`](https://docs.python.org/3/tutorial/errors.html#handling-exceptions) [&#8593;](#toc0_)\n",
    "\n",
    "Passiamo ora ad un potente strumento nel mondo della programmazione Python: il costrutto `try ... except`. Questo meccanismo ci permette di gestire in modo controllato le situazioni anomale, o eccezioni, che possono verificarsi durante l'esecuzione del nostro codice.\n",
    "\n",
    "Prima di affrontare questo argomento, voglio ricordare un principio fondamentale \"prevenire è meglio che curare\". Questo significa che, dove possibile, dovremmo cercare di evitare che si verifichino errori, attraverso una programmazione attenta e l'adozione di buone pratiche.\n",
    "\n",
    "Tuttavia, ci sono situazioni in cui gli errori possono essere difficili o impossibili da prevedere o prevenire completamente. Pensiamo, ad esempio, al networking o alla lettura di file: in questi contesti, problemi come la perdita di connessione o un file danneggiato possono sorgere inaspettatamente. È qui che entra in gioco `try ... except`.\n",
    "\n",
    "## <a id='toc5_1_'></a>Uso del `try ... except` [&#8593;](#toc0_)\n",
    "\n",
    "Quando usiamo `try ... except`, inseriamo il codice che potrebbe sollevare un'eccezione all'interno del blocco `try`. Successivamente, specificiamo come gestire l'eccezione nel blocco `except`.\n",
    "\n",
    "**ATTENZIONE:** È importante \"catturare\" solo le eccezioni specifiche che dobbiamo gestire e che sappiamo che possono verificarsi, per evitare di mascherare altri errori o problemi nel nostro codice. In caso fossimo costretti ad intercettare un errore generico, è bene riportare all'utente anche il testo originale dell'errore.\n",
    "\n",
    "### <a id='toc5_1_1_'></a>Esempio pratico [&#8593;](#toc0_)\n",
    "\n",
    "Immaginiamo di voler leggere il contenuto di un file, processarlo e gestire situazioni in cui il file potrebbe non esistere, non essere accessibile per motivi di permessi, o altri potenziali errori di I/O.\n",
    "\n",
    "```python\n",
    "mio_file = 'pippo.txt'\n",
    "try:\n",
    "    with open(mio_file, 'r') as file:\n",
    "        contenuto = file.read()\n",
    "        print(\"Contenuto del file:\")\n",
    "        print(contenuto)\n",
    "except FileNotFoundError:\n",
    "    print(f\"Il file {mio_file} non è stato trovato.\")\n",
    "except PermissionError:\n",
    "    print(f\"Permesso negato: non è possibile accedere a {mio_file}.\")\n",
    "except Exception as e:  # Intercetta qualunque altro tipo di errore\n",
    "    print(f\"Si è verificato un errore durante l'apertura del file {mio_file}: {e}\")\n",
    "\n",
    "```\n",
    "\n",
    "In questo esempio, il blocco `try` tenta di aprire e leggere il contenuto del file specificato. Il costrutto `with open` è utilizzato per aprire il file; questo costrutto garantisce che il file sia correttamente chiuso dopo il suo utilizzo, anche se si verificano eccezioni durante la lettura.\n",
    "\n",
    "- `FileNotFoundError` viene intercettato se Python non riesce a trovare il file specificato. Questo è un errore comune quando il percorso del file è errato o il file non esiste.\n",
    "- `PermissionError` viene gestito se il programma non ha i permessi necessari per accedere al file. Questo può accadere se il file ha restrizioni di accesso impostate a livello di sistema operativo.\n",
    "- Infine, un generico `Exception` viene utilizzato come rete di sicurezza per intercettare qualsiasi altro tipo di errore non specificato precedentemente. Questo garantisce che il programma possa fornire un feedback utile anche in presenza di eccezioni inaspettate.\n",
    "\n",
    "### <a id='toc5_1_2_'></a>Conclusione [&#8593;](#toc0_)\n",
    "\n",
    "L'uso di `try ... except` non sostituisce la necessità di scrivere codice sicuro e di anticipare i problemi dove possibile. Tuttavia, ci fornisce un meccanismo prezioso per gestire le situazioni impreviste in modo controllato. Imparare a utilizzarlo correttamente vi renderà sviluppatori più resilienti e i vostri programmi più robusti, specialmente quando lavorerete in contesti complessi come lo sviluppo web con Django.\n",
    "\n",
    "Ricordate: l'obiettivo è utilizzare `try ... except` con saggezza, come parte di una strategia complessiva che include la prevenzione degli errori e l'adozione di buone pratiche di programmazione.\n"
   ]
  },
  {
   "cell_type": "markdown",
   "metadata": {},
   "source": [
    "## <a id='toc5_2_'></a>`else` e `finally` [&#8593;](#toc0_)\n",
    "\n",
    "I costrutti `else` e `finally` nel contesto del trattamento delle eccezioni in Python aggiungono ulteriori strati di controllo e flessibilità alla gestione delle eccezioni con il blocco `try ... except`. Ecco come funzionano e come possono essere utilizzati efficacemente:\n",
    "\n",
    "### <a id='toc5_2_1_'></a>Il costrutto `else` [&#8593;](#toc0_)\n",
    "\n",
    "Il blocco `else` in un costrutto `try ... except` viene eseguito se il codice all'interno del blocco `try` non solleva un'eccezione. È il posto giusto per inserire il codice che vuoi che venga eseguito solo se il blocco `try` ha avuto successo, senza errori. Ciò consente di separare chiaramente la logica di gestione delle eccezioni dalla logica normale del programma che non dovrebbe essere eseguita in caso di errore.\n",
    "\n",
    "Per esempio:\n",
    "\n",
    "```python\n",
    "def dividi(a, b):\n",
    "    try:\n",
    "        risultato = a / b\n",
    "    except ZeroDivisionError:\n",
    "        print(\"Errore: tentativo di divisione per zero.\")\n",
    "    else:\n",
    "        print(f\"Il risultato della divisione è {risultato}\")\n",
    "```\n",
    "\n",
    "In questo esempio, se `b` è zero, viene sollevata un'eccezione `ZeroDivisionError` e il blocco `except` gestisce questa situazione stampando un messaggio di errore. Se non si verificano eccezioni, cioè la divisione è possibile, il blocco `else` viene eseguito, stampando il risultato della divisione.\n",
    "\n",
    "### <a id='toc5_2_2_'></a>Il Costrutto `finally` [&#8593;](#toc0_)\n",
    "\n",
    "Il blocco `finally` viene eseguito dopo che i blocchi `try`, `except` (e opzionalmente `else`) hanno terminato la loro esecuzione, indipendentemente dal fatto che un'eccezione sia stata sollevata o meno. È utilizzato per eseguire operazioni di pulizia che devono essere eseguite sotto ogni circostanza, come chiudere file o rilasciare risorse esterne.\n",
    "\n",
    "Per esempio:\n",
    "\n",
    "```python\n",
    "def apri_file(nome_file):\n",
    "    try:\n",
    "        file = open(nome_file, 'r')\n",
    "        contenuto = file.read()\n",
    "        print(contenuto)\n",
    "    except FileNotFoundError:\n",
    "        print(f\"Il file {nome_file} non è stato trovato.\")\n",
    "    else:\n",
    "        print(\"Il file è stato letto con successo.\")\n",
    "    finally:\n",
    "        try:\n",
    "            file.close()\n",
    "            print(\"Il file è stato chiuso.\")\n",
    "        except NameError:\n",
    "            # Gestisce il caso in cui 'file' non è definito perché l'apertura è fallita\n",
    "            pass\n",
    "```\n",
    "\n",
    "In questo esempio, il blocco `finally` si assicura che il file sia chiuso dopo che è stato aperto, indipendentemente dal fatto che la lettura sia stata un successo, che sia stato sollevato un errore di `FileNotFoundError`, o che il file non sia stato aperto affatto (prevenendo un `NameError` nel blocco `finally`).\n",
    "\n",
    "### <a id='toc5_2_3_'></a>Conclusioni [&#8593;](#toc0_)\n",
    "\n",
    "I costrutti `else` e `finally` offrono maggiore precisione e sicurezza nella gestione delle eccezioni, permettendoti di organizzare il tuo codice in modo più chiaro e di assicurarti che determinate operazioni vengano sempre eseguite. L'uso appropriato di questi strumenti può rendere il tuo codice più robusto, leggibile e manutenibile."
   ]
  },
  {
   "cell_type": "markdown",
   "metadata": {},
   "source": [
    "# <a id='toc6_'></a>Terminare l'esecuzione esplicitamente con `sys.exit()` [&#8593;](#toc0_)\n",
    "\n",
    "In genere uno script Python esce automaticamente quando raggiunge la fine del file. Tuttavia, vi sono vari motivi per cui gli sviluppatori possono voler esplicitare la fine dell'esecuzione.\n",
    "\n",
    "In Python, esistono principalmente due modi: `exit()` e `sys.exit()`. Essi sono entrambi utilizzati per terminare un programma, ma ci sono alcune differenze chiave tra i due.\n",
    "\n",
    "\n",
    "1. **Controllo esplicito dello stato di uscita**: `sys.exit()` termina il programma Python in esecuzione. Puoi specificare un codice di stato al momento dell'uscita, che è utile per i programmi che vengono eseguiti all'interno di altri programmi o script. Un codice di uscita `0` di solito indica che il programma è terminato con successo, mentre qualsiasi altro valore (di solito `1`) indica che si è verificato un errore. Questo è particolarmente importante in ambienti di scripting e automazione, come gli script di shell, dove il codice di uscita può essere utilizzato per determinare il flusso di controllo.\n",
    "\n",
    "2. **Terminazione ordinata in caso di errori**: `sys.exit()` può essere usato per terminare il programma in caso di condizioni di errore. Ad esempio, potresti voler uscire dal programma se non vengono soddisfatte determinate condizioni iniziali. L'uso di `sys.exit()` consente di chiudere il programma in modo pulito, inviando un messaggio di errore e un codice di stato di uscita non-zero.\n",
    "\n",
    "3. **Leggibilità e intenzione chiara**: L'uso di `sys.exit()` rende l'intenzione dello sviluppatore esplicita. Quando qualcuno legge lo script e vede `sys.exit()`, è chiaro che il punto in cui è invocato è destinato a essere un punto di uscita del programma.\n",
    "\n",
    "4. **Uscita da uno script eseguito in un ambiente più grande**: In alcuni casi, specialmente quando uno script Python è incorporato in un'applicazione più grande o in un ambiente interattivo (come una sessione di Jupyter Notebook), `sys.exit()` può essere utilizzato per assicurarsi che lo script esca dall'interprete Python corrente anziché procedere all'esecuzione delle righe successive.\n",
    "\n",
    "In sintesi, sebbene `sys.exit()` non è sempre necessario, può essere utilizzato per controllare il comportamento di uscita dello script in modo più preciso, gestire gli errori e chiarire l'intenzione dello script."
   ]
  },
  {
   "cell_type": "code",
   "execution_count": 2,
   "metadata": {},
   "outputs": [
    {
     "ename": "SystemExit",
     "evalue": "0",
     "output_type": "error",
     "traceback": [
      "An exception has occurred, use %tb to see the full traceback.\n",
      "\u001b[0;31mSystemExit\u001b[0m\u001b[0;31m:\u001b[0m 0\n"
     ]
    },
    {
     "name": "stderr",
     "output_type": "stream",
     "text": [
      "/Users/knox/Repositories/python_training/python_corso_base/.venv/lib/python3.11/site-packages/IPython/core/interactiveshell.py:3468: UserWarning: To exit: use 'exit', 'quit', or Ctrl-D.\n",
      "  warn(\"To exit: use 'exit', 'quit', or Ctrl-D.\", stacklevel=1)\n"
     ]
    }
   ],
   "source": [
    "import sys\n",
    "\n",
    "sys.exit(0)"
   ]
  },
  {
   "cell_type": "markdown",
   "metadata": {},
   "source": [
    "## <a id='toc6_1_'></a>Differenze rispetto a `exit()` [&#8593;](#toc0_)\n",
    "In precedenza abbiamo già usato la funzione built-in `exit()`. Essa è intesa principalmente per l'uso in un interprete interattivo (un REPL, come la shell Python o i notebook Jupyter). `exit()` è destinato agli utenti dell'interprete interattivo e non dovrebbe essere utilizzata in programmi di produzione. Inolte `exit()` potrebbe non essere disponibile in tutti gli ambienti di esecuzione.\n",
    "\n",
    "\n",
    "`sys.exit()` invece è una funzione inclusa nel modulo `sys`. È intesa per essere utilizzata in programmi e script. Quando `sys.exit()` viene chiamata, lancia un'eccezione `SystemExit`, che può essere intercettata per decidere quali operazioni eseguire all'uscita effettiva dello script (ad es. operazioni di pulizia). Questo è particolarmente importante in ambienti di scripting e automazione, come gli script di shell, dove il codice di uscita può essere utilizzato per determinare il flusso di controllo.\n",
    "\n",
    "Quando si utilizza `sys.exit()`, si può dunque specificare un codice di uscita. Il codice di uscita può indicare se il programma è terminato con successo o se sono stati rilevati errori.\n",
    " \n",
    "Inoltre `sys.exit()` funziona in qualsiasi ambiente, che sia l'interprete interattivo o uno script in esecuzione.\n",
    "\n",
    "\n",
    "\n",
    "In sintesi, mentre `exit()` può essere conveniente per uscire dall'interprete Python durante il testing o l'esplorazione interattiva, `sys.exit()` è la scelta appropriata per uscire da uno script Python in modo pulito e controllato, consentendo di fornire un codice di uscita al sistema operativo o all'applicazione chiamante."
   ]
  },
  {
   "cell_type": "code",
   "execution_count": 5,
   "metadata": {},
   "outputs": [
    {
     "ename": "",
     "evalue": "",
     "output_type": "error",
     "traceback": [
      "\u001b[1;31mThe Kernel crashed while executing code in the the current cell or a previous cell. Please review the code in the cell(s) to identify a possible cause of the failure. Click <a href='https://aka.ms/vscodeJupyterKernelCrash'>here</a> for more info. View Jupyter <a href='command:jupyter.viewOutput'>log</a> for further details."
     ]
    }
   ],
   "source": [
    "exit(0)"
   ]
  }
 ],
 "metadata": {
  "kernelspec": {
   "display_name": "Python 3 (ipykernel)",
   "language": "python",
   "name": "python3"
  },
  "language_info": {
   "codemirror_mode": {
    "name": "ipython",
    "version": 3
   },
   "file_extension": ".py",
   "mimetype": "text/x-python",
   "name": "python",
   "nbconvert_exporter": "python",
   "pygments_lexer": "ipython3",
   "version": "3.10.0"
  }
 },
 "nbformat": 4,
 "nbformat_minor": 4
}
