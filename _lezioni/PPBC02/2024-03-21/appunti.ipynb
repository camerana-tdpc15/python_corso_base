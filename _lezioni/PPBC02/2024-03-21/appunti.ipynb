{
 "cells": [
  {
   "cell_type": "markdown",
   "metadata": {},
   "source": [
    "## Ripasso funzioni"
   ]
  },
  {
   "cell_type": "markdown",
   "metadata": {},
   "source": [
    "[Notebook su funzioni](../../../05.03_python_flow_control_functions.ipynb)"
   ]
  },
  {
   "cell_type": "markdown",
   "metadata": {},
   "source": [
    "## Data structures\n",
    "\n",
    "[Data structures, sezione \"Accedere ai valori dentro una *data structure*\"](../../../G_type_commons.ipynb)"
   ]
  },
  {
   "cell_type": "markdown",
   "metadata": {},
   "source": [
    "\n",
    "| Tipo        | Valore vuoto     | Esempio                             | Mutabile? | Indexed?  | Ordinato?| Duplicati? |\n",
    "|-------------|------------------|-------------------------------------|:---------:|:---------:|:--------:|:----------:|\n",
    "| `str`       | `''` o `\"\"`      | `'come stai?'`                      | ❌        | ✅        | ✅        | ✅         |\n",
    "| `bytes`     | `b''`            | `b\"Buongiorno\"`                     | ❌        | ✅        | ✅        | ✅         |\n",
    "| `tuple`     | `()`             | `(5, 'x', 10, 'x')`                 | ❌        | ✅        | ✅        | ✅         |\n",
    "| `list`      | `[]`             | `[5, 'x', 10, 'x']`                 | ✅        | ✅        | ✅        | ✅         |\n",
    "| `bytearray` | `bytearray(b'')` | `bytearray(b'Buongiorno')`          | ✅        | ✅        | ✅        | ✅         |\n",
    "| `dict`      | `{}`             | `{'colore': 'rosso', 'anno': 1994}` | ✅        | ✅        | ❌        | ❌         |\n",
    "| `set`       | `set()`          | `{5, 'x', 10}`                      | ✅        | ❌        | ❌        | ❌         |\n",
    "            \n",
    "- Le tuple possono contenere tipi mutabili.\n",
    "- I `set` non consentono elementi duplicati e accettano solo elementi hashable.\n",
    "- I `dict` accettano solo chiavi uniche e hashable (ma elementi di qualsiasi tipo).\n",
    "- I tipi immutabili sono sempre hashable (ma non tutti i tipi hashable sono immutabili &rarr; vedi [`__hash__()`](https://docs.python.org/3/reference/datamodel.html#object.__hash__)).\n",
    "- Due oggetti possono avere lo stesso `hash()`, ma un `id()` diverso."
   ]
  },
  {
   "cell_type": "markdown",
   "metadata": {},
   "source": [
    "## Esercizio 09 - Nuovi Mercati\n",
    "\n",
    "[esercizio_09_set_list_dict_if_for.ipynb](../../../esercizi/esercizio_09_set_list_dict_if_for.ipynb)"
   ]
  },
  {
   "cell_type": "markdown",
   "metadata": {},
   "source": [
    "[Dict reference, sezione \"Dict comprehension\"](../../../E_dict_reference.ipynb)"
   ]
  },
  {
   "cell_type": "code",
   "execution_count": 3,
   "metadata": {},
   "outputs": [
    {
     "name": "stdout",
     "output_type": "stream",
     "text": [
      "{'Abbigliamento sportivo': 0,\n",
      " 'Alcolici': 0,\n",
      " 'Cosmetici': 0,\n",
      " 'Ferramenta': 0,\n",
      " 'Forniture Elettriche': 0,\n",
      " 'Gioielleria': 0,\n",
      " 'Ortofrutta': 0,\n",
      " 'Pesce': 0,\n",
      " 'Telefonia': 0}\n"
     ]
    }
   ],
   "source": [
    "from pprint import pprint  # Importo la funzione pretty-print dal modulo pprint\n",
    "\n",
    "categorie = {\"Ferramenta\", \"Ortofrutta\", \n",
    "             \"Abbigliamento sportivo\",\n",
    "             \"Gioielleria\", \"Cosmetici\",\n",
    "             \"Pesce\", \"Alcolici\",\n",
    "             \"Forniture Elettriche\", \"Telefonia\"\n",
    "}\n",
    "\n",
    "# Creo un dizionario con le chiavi della lista_chiavi e i valori tutti 0\n",
    "# usando il dict comprehension\n",
    "report = {key: 0 for key in categorie}\n",
    "\n",
    "pprint(report)"
   ]
  },
  {
   "cell_type": "markdown",
   "metadata": {},
   "source": [
    "Il dict comprehension che abbiamo scritto è esattamente equivalente al seguente:"
   ]
  },
  {
   "cell_type": "code",
   "execution_count": 4,
   "metadata": {},
   "outputs": [
    {
     "name": "stdout",
     "output_type": "stream",
     "text": [
      "{'Abbigliamento sportivo': 0,\n",
      " 'Alcolici': 0,\n",
      " 'Cosmetici': 0,\n",
      " 'Ferramenta': 0,\n",
      " 'Forniture Elettriche': 0,\n",
      " 'Gioielleria': 0,\n",
      " 'Ortofrutta': 0,\n",
      " 'Pesce': 0,\n",
      " 'Telefonia': 0}\n"
     ]
    }
   ],
   "source": [
    "report2 = {}\n",
    "for key in categorie:\n",
    "    report2[key] = 0\n",
    "\n",
    "pprint(report2)"
   ]
  }
 ],
 "metadata": {
  "kernelspec": {
   "display_name": ".venv",
   "language": "python",
   "name": "python3"
  },
  "language_info": {
   "codemirror_mode": {
    "name": "ipython",
    "version": 3
   },
   "file_extension": ".py",
   "mimetype": "text/x-python",
   "name": "python",
   "nbconvert_exporter": "python",
   "pygments_lexer": "ipython3",
   "version": "3.11.2"
  }
 },
 "nbformat": 4,
 "nbformat_minor": 2
}
