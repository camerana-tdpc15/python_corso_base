{
 "cells": [
  {
   "cell_type": "markdown",
   "metadata": {},
   "source": [
    "## Tabella di precedenza e associatività\n",
    "\n",
    "La tabella completa di tutti gli operatori [la puoi trovare qua](https://docs.python.org/3/reference/expressions.html#operator-precedence).\n",
    "\n",
    "| Precedenza | Operatore                                                              | Associatività | Descrizione                                              |\n",
    "| ---------- | ---------------------------------------------------------------------- | ------------- | -------------------------------------------------------- |\n",
    "| 1          | `( )`                                                                  | Sx-Dx         | Parentesi tonde                                          |\n",
    "| 2          | `**`                                                                   | Dx-Sx         | Elevamento a potenza                                     |\n",
    "| 3          | `+x, -x`                                                               | (Dx-Sx)       | Positivo e negativo unari                                |\n",
    "| 4          | `*`, `/`, `//`, `%`                                                    | Sx-Dx         | Multiplicazione, divisione, divisione intera e suo resto |\n",
    "| 5          | `+`, `-`                                                               | Sx-Dx         | Addizione e sottrazione                                  |                                              |\n",
    "| 6          | `<`, `<=`, `>`, `>=`, `!=`, `==`<br/>`in`, `not in`<br/>`is`, `is not` | Sx-Dx         | Comparazione<br/>(appartenenza)<br/>(identità)           |\n",
    "| 7          | `not x`                                                                | (Dx-Sx)       | Negazione booleana                                       |\n",
    "| 8          | `and`                                                                  | Sx-Dx         | E booleano                                               |\n",
    "| 9          | `or`                                                                   | Sx-Dx         | O booleano                                               |\n",
    "| 10         | `x if y else z`                                                        | Dx-Sx         | Operatore condizionale ternario                          |\n",
    "\n",
    "## Come Python interpreta i valori\n",
    "\n",
    "[I_expressions.ipynb](../../../I_expressions.ipynb)"
   ]
  },
  {
   "cell_type": "markdown",
   "metadata": {},
   "source": [
    "## `dict.items()`\n",
    "\n",
    "[E_dict_reference.ipynb](../../../E_dict_reference.ipynb)"
   ]
  },
  {
   "cell_type": "code",
   "execution_count": 3,
   "metadata": {},
   "outputs": [
    {
     "name": "stdout",
     "output_type": "stream",
     "text": [
      "('key1', 'value1')\n",
      "('key2', 'value2')\n",
      "('key3', 'value3')\n",
      "('key4', 'value4')\n",
      "------------------------\n",
      "key1 value1\n",
      "key2 value2\n",
      "key3 value3\n",
      "key4 value4\n"
     ]
    }
   ],
   "source": [
    "dizionario = {\n",
    "    'key1': 'value1',\n",
    "    'key2': 'value2',\n",
    "    'key3': 'value3',\n",
    "    'key4': 'value4',\n",
    "}\n",
    "\n",
    "for tupla_key_value in dizionario.items():\n",
    "    print(tupla_key_value)\n",
    "\n",
    "print('------------------------')\n",
    "\n",
    "for key, value in dizionario.items():\n",
    "    print(key, value)"
   ]
  },
  {
   "cell_type": "markdown",
   "metadata": {},
   "source": [
    "## Stampare il nome della variabile e il suo contenuto in una volta sola\n",
    "\n",
    "[A_string_reference.ipynb](../../../A_string_reference.ipynb)"
   ]
  },
  {
   "cell_type": "markdown",
   "metadata": {},
   "source": [
    "Aggiungendo semplicemente un sibolo `=` dopo una variabile all'interno delle parentesi graffe di una f-string, la variabile viene rappresentata come `nome_variabile=...` con al posto dei puntini la rappresentazione stampabile `repr(nome_variabile)` dell'oggetto a cui punta la variabile."
   ]
  },
  {
   "cell_type": "markdown",
   "metadata": {},
   "source": [
    "Questa sintassi può essere molto utile a fini di debug."
   ]
  },
  {
   "cell_type": "code",
   "execution_count": null,
   "metadata": {},
   "outputs": [
    {
     "name": "stdout",
     "output_type": "stream",
     "text": [
      "Il contenuto di my_var={'pantaloni': 4, 'maglie': 2}\n"
     ]
    }
   ],
   "source": [
    "my_var = {'pantaloni': 4, 'maglie': 2}\n",
    "\n",
    "print(f'Il contenuto di {my_var=}')"
   ]
  },
  {
   "cell_type": "markdown",
   "metadata": {},
   "source": [
    "## CSV\n",
    "\n",
    "[08_python_csv_json_xml.ipynb](../../../08_python_csv_json_xml.ipynb)\n",
    "\n",
    "`.csv` è uno dei formati più vecchi e diffusi.\n",
    "\n",
    "CSV sta per *Comma-Separated Values*, ovvero \"valori separati da virgola\". Un file CSV consente di memorizzare i dati in un formato tabellare.\n",
    "\n",
    "Si tratta in realtà di un semplice file in cui ogni riga rappresenta solitamente una serie di dati che possiamo considerare come un insieme di *entry* o meglio, utilizzando un temine tipico dei database, un *record*.\n",
    "\n",
    "Ogni riga contiene poi più elementi separati da virgole, ovvero gli *attributi* del record.\n",
    "\n",
    "I dati in formato CSV possono essere facilmente importati in un foglio di calcolo (es. LibreOffice Calc o Excel) o in un database."
   ]
  },
  {
   "cell_type": "markdown",
   "metadata": {},
   "source": [
    "#### Esempio di file CSV\n",
    "\n",
    "Qui di seguito abbiamo la prima riga contenente i nomi delle colonne (detta riga di intestazione) e altre due rige, ciascina contenente un record, ovvero un'entità, in questo caso dei siti web."
   ]
  },
  {
   "cell_type": "markdown",
   "metadata": {},
   "source": [
    "```csv\n",
    "blog title, date, author, file size\n",
    "Data Formats 101, 08-01-2017, Ben, 17kb\n",
    "\"Hello, Python!\", 23-04-2015, John \"\"Big Boy\"\" McCoy, 49kb\n",
    "```\n",
    "\n",
    "| `blog title`       | `date`       | `author`               | `file size` |\n",
    "|--------------------|--------------|------------------------|-------------|\n",
    "| `Data Formats 101` | `08-01-2017` | `Ben`                  | `17kb`      |\n",
    "| `Hello, Python!`   | `23-04-2015` | `John \"Big Boy\" McCoy` | `49kb`      |"
   ]
  },
  {
   "cell_type": "markdown",
   "metadata": {},
   "source": [
    "Per aprire il file `botteghe-storiche.csv` contenuto nella cartella `files_esercizi/` possiamo fare così:"
   ]
  },
  {
   "cell_type": "code",
   "execution_count": 4,
   "metadata": {},
   "outputs": [
    {
     "name": "stdout",
     "output_type": "stream",
     "text": [
      "ID,Ragione sociale,Indirizzo,Civico,Comune,Cap,Frazione/Località,Note\n",
      "1,BAZZANELLA RENATA,Via del Lagorai,30,Sover,38068,Piscine di Sover,\"generi misti, bar - ristorante\"\n",
      "2,CONFEZIONI MONTIBELLER S.R.L.,Corso Ausugum,48,Borgo Valsugana,38051,,esercizio commerciale\n",
      "3,FOTOGRAFICA TRINTINAGLIA UMBERTO S.N.C.,Largo Dordi,8,Borgo Valsugana,38051,,\"esercizio commerciale, attività artigianale\"\n",
      "4,BAR SERAFINI DI MINATI RENZO,Frazione Serafini,24,Grigno,38055,,esercizio commerciale\n",
      "5,COLTELLERIA S. CROCE,Via S. Croce,61,Trento,38122,,\n",
      "6,SEMBENINI GINO & FIGLI S.R.L.,Via S. Francesco,35,Riva del Garda,38066,,\n",
      "7,HOTEL RISTORANTE PIZZERIA “ALLA NAVE”,Via Nazionale,29,Lavis,38015,Nave San Felice,\n",
      "8,OBRELLI GIOIELLERIA DAL 1929 S.R.L.,Via Roma,33,Lavis,38015,,\n",
      "9,MACELLERIE TROIER S.A.S. DI TROIER DARIO E C.,Via Roma,13,Lavis,38015,,\n"
     ]
    }
   ],
   "source": [
    "with open('../../../files_esercizi/botteghe-storiche.csv', 'r') as file_in:\n",
    "    for _ in range(10):  # solo le pime 10 righe\n",
    "        linea = next(file_in)\n",
    "        print(linea, end='')"
   ]
  },
  {
   "cell_type": "markdown",
   "metadata": {},
   "source": [
    "#### Note: `_` underscore nei cicli `for` "
   ]
  },
  {
   "cell_type": "markdown",
   "metadata": {},
   "source": [
    "A volte, quando si usa `range()` per fare un ciclo `for`, può non essere necessario utilizzare la variabile che funge da contatore; in questi casi è possibile usare un \"segnaposto\" convenzionale, usando l'underscore `_` come variabile fittizia.\n",
    "\n",
    "Questo serve anche ad indicare che abbiamo esplicitamente scelto di non utilizzare la variabile nel ciclo e che dunque non è una dimenticanza."
   ]
  },
  {
   "cell_type": "code",
   "execution_count": null,
   "metadata": {},
   "outputs": [
    {
     "name": "stdout",
     "output_type": "stream",
     "text": [
      "Ciao!\n",
      "Ciao!\n",
      "Ciao!\n",
      "Ciao!\n",
      "Ciao!\n"
     ]
    }
   ],
   "source": [
    "for _ in range(5):\n",
    "    print('Ciao!')"
   ]
  },
  {
   "cell_type": "markdown",
   "metadata": {},
   "source": [
    "#### Note: `next()`"
   ]
  },
  {
   "cell_type": "markdown",
   "metadata": {},
   "source": [
    "`next()` è una funzione built-in utilizzata per restituire l'elemento successivo in un iteratore. L'oggetto deve implementare il metodo `__next__`.\n",
    "\n",
    "[Approfondisci iterabili, iteratori e generatori sul notebook: H_iterabili.ipynb](../../../H_iterabili.ipynb)"
   ]
  },
  {
   "cell_type": "code",
   "execution_count": 8,
   "metadata": {},
   "outputs": [
    {
     "name": "stdout",
     "output_type": "stream",
     "text": [
      "(0, 'A')\n",
      "(1, 'B')\n",
      "(2, 'C')\n"
     ]
    }
   ],
   "source": [
    "enum = enumerate(['A', 'B', 'C'])\n",
    "\n",
    "print(next(enum))\n",
    "print(next(enum))\n",
    "print(next(enum))"
   ]
  },
  {
   "cell_type": "code",
   "execution_count": 12,
   "metadata": {},
   "outputs": [
    {
     "name": "stdout",
     "output_type": "stream",
     "text": [
      "('key1', 'value1')\n",
      "('key2', 'value2')\n",
      "('key3', 'value3')\n"
     ]
    }
   ],
   "source": [
    "dizionario = {\n",
    "    'key1': 'value1',\n",
    "    'key2': 'value2',\n",
    "    'key3': 'value3',\n",
    "    'key4': 'value4',\n",
    "}\n",
    "\n",
    "iteratore = iter(dizionario.items())\n",
    "\n",
    "print(next(iteratore))\n",
    "print(next(iteratore))\n",
    "print(next(iteratore))"
   ]
  },
  {
   "cell_type": "markdown",
   "metadata": {},
   "source": [
    "## `DictReader` e `DictWriter`\n",
    "\n",
    "Il modulo `csv` ha anche due classi magiche: `csv.DictReader()` e `csv.DictWriter()`.\n",
    "\n",
    "`csv.DictReader()` ci rappresenta ogni riga di dati come un dizionario.\n",
    "\n",
    "Le chiavi del dizionario sono le intestazioni di colonna e i valori sono i dati corrispondenti.\n",
    "\n",
    "Trattandosi di un dizionario, è possibile accededre ai dati utilizzando la notazione a subscription con i nomi delle colonne come chiavi. "
   ]
  },
  {
   "cell_type": "code",
   "execution_count": null,
   "metadata": {},
   "outputs": [
    {
     "name": "stdout",
     "output_type": "stream",
     "text": [
      "ID: 45\n",
      "Ragione sociale: FARMACIA S. MARCO\n",
      "Cap: 38068\n",
      "----------------------------\n",
      "ID: 64\n",
      "Ragione sociale: OTTICI DEFLORIAN MARANGONI DI MARANGONI DONATELLA\n",
      "Cap: 38042\n",
      "----------------------------\n",
      "ID: 176\n",
      "Ragione sociale: LA BOTTEGA DELL’ARTIGIANO\n",
      "Cap: 38067\n",
      "----------------------------\n",
      "ID: 204\n",
      "Ragione sociale: FABBRO GENTILINI MAURIZIO\n",
      "Cap: 38028\n",
      "----------------------------\n"
     ]
    }
   ],
   "source": [
    "import csv\n",
    "\n",
    "with open('./files_esercizi/botteghe-storiche.csv', 'r', encoding='utf-8') as file_in:\n",
    "    file_reader = csv.DictReader(file_in, delimiter=\",\")\n",
    "    for linea in file_reader:\n",
    "        if linea['ID'] in ['45', '64', '176', '204']:  # filtro\n",
    "            print('ID:', linea['ID'])\n",
    "            print('Ragione sociale:', linea['Ragione sociale'])\n",
    "            print('Cap:', linea['Cap'])\n",
    "            print('----------------------------')"
   ]
  },
  {
   "cell_type": "markdown",
   "metadata": {},
   "source": [
    "Cerchiamo di rendere più \"universale\" il codice:"
   ]
  },
  {
   "cell_type": "code",
   "execution_count": 15,
   "metadata": {},
   "outputs": [
    {
     "name": "stdout",
     "output_type": "stream",
     "text": [
      "ID: 45\n",
      "Ragione sociale: FARMACIA S. MARCO\n",
      "Comune: Rovereto\n",
      "Cap: 38068\n",
      "----------------------------\n",
      "ID: 64\n",
      "Ragione sociale: OTTICI DEFLORIAN MARANGONI DI MARANGONI DONATELLA\n",
      "Comune: Baselga di Piné\n",
      "Cap: 38042\n",
      "----------------------------\n",
      "ID: 176\n",
      "Ragione sociale: LA BOTTEGA DELL’ARTIGIANO\n",
      "Comune: Ledro\n",
      "Cap: 38067\n",
      "----------------------------\n",
      "ID: 204\n",
      "Ragione sociale: FABBRO GENTILINI MAURIZIO\n",
      "Comune: Revò\n",
      "Cap: 38028\n",
      "----------------------------\n"
     ]
    }
   ],
   "source": [
    "import csv\n",
    "\n",
    "file_path = '../../../files_esercizi/botteghe-storiche.csv'  # percorso del file\n",
    "\n",
    "col_names = ['ID', 'Ragione sociale', 'Comune', 'Cap']  # colonne da estrarre\n",
    "record_ids = ['45', '64', '176', '204']                 # record da estrarre\n",
    "sep_rec = '----------------------------'                # separatore visivo da usare\n",
    "\n",
    "with open(file=file_path, mode='r', encoding='utf-8') as file_in:\n",
    "    file_reader = csv.DictReader(file_in, delimiter=\",\")\n",
    "    for linea in file_reader:\n",
    "        if linea['ID'] in record_ids:  # filtro\n",
    "            for col_name in col_names:\n",
    "                print(col_name+':', linea[col_name])\n",
    "            print(sep_rec)\n",
    "        else:\n",
    "            pass"
   ]
  },
  {
   "cell_type": "markdown",
   "metadata": {},
   "source": [
    "## Percorsi assoluti e relativi\n",
    "\n",
    "Nella programmazione e nella gestione dei file, è fondamentale comprendere i concetti di percorso assoluto e percorso relativo.\n",
    "\n",
    "### Percorso assoluto (*absolute path*)\n",
    "Un **percorso assoluto** indica la posizione di un file o di una cartella partendo dalla radice del sistema di file. È un percorso completo che contiene tutti i dettagli necessari per localizzare un file o una cartella, indipendentemente dalla directory di lavoro corrente.\n",
    "\n",
    "- **Windows:** Inizia con una lettera di unità seguita da `:\\`, per esempio, `C:\\Users\\NomeUtente\\Documents\\file.txt`.\n",
    "\n",
    "- **Unix-like (Linux, macOS):** Inizia con `/`, per esempio, `/home/nomeutente/Documents/file.txt`.\n",
    "\n",
    "### Percorso relativo (*relative path*)\n",
    "Un **percorso relativo**, invece, fa riferimento alla posizione di un file o di una cartella in relazione alla directory di lavoro corrente. Non inizia con una radice di unità o una barra slash; inizia dal punto in cui ti trovi nel sistema di file.\n",
    "\n",
    "- Se un file chiamato `esempio.txt` si trova nella stessa directory in cui stai lavorando, il percorso relativo è semplicemente `esempio.txt` o `./esempio.txt`.\n",
    "\n",
    "- Se il file si trova in una sottodirectory chiamata `docs`, il percorso relativo è `docs/esempio.txt` o `./docs/esempio.txt`.\n",
    "\n",
    "### La Differenza tra `\\` e `/`\n",
    "\n",
    "- **Windows** tradizionalmente usa il *backslash* (`\\`) come separatore di percorso. Per esempio, `C:\\Users\\NomeUtente`.\n",
    "\n",
    "- **Unix-like (Linux, macOS)** usano lo *slash* (`/`) come separatore di percorso, ad esempio, `/home/nomeutente`. Esattamente come si fa sul web con gli URL.\n",
    "\n",
    "Python cerca di semplificare la gestione dei percorsi tra i diversi sistemi operativi. Quando si usa Python, si può spesso usare lo *slash* `/` anche su Windows, e Python lo interpreterà correttamente.\n",
    "\n",
    "### Il Significato di `.` e `..` nei percorsi relativi\n",
    "\n",
    "Nella specificazione dei percorsi (solitamente relativi, ma non solo), `.` e `..` hanno significati speciali.\n",
    "\n",
    "- **`./`** Il singolo punto rappresenta la directory corrente. Ad esempio, se la tua directory di lavoro corrente è `/home/nomeutente`, il percorso `./documento.txt` si riferisce a `/home/nomeutente/documento.txt`.\n",
    "\n",
    "- **`../`** Il doppio punto rappresenta la directory genitore della directory corrente. Se ti trovi in `/home/nomeutente/documents` e vuoi riferirti alla directory `/home/nomeutente`, puoi usare il percorso `../`.\n",
    "\n",
    "#### Esempi:\n",
    "\n",
    "- Da `/home/nomeutente/documents/` a `/home/nomeutente/documents/documento.txt` trovo il file nella medesima catella in cui mi trovo:\n",
    "  - Percorso relativo: `./documento.txt` o semplicemente `documento.txt`.\n",
    "\n",
    "- Da `/home/nomeutente/documents/` a `/home/nomeutente/documents/fatture/pippo.pdf` trovo il file nella medesima catella in cui mi trovo:\n",
    "  - Percorso relativo: `./documents/fatture/pippo.pdf` o semplicemente `documents/fatture/pippo.pdf`.\n",
    "\n",
    "- Da `/home/nomeutente/documents/` a `/home/nomeutente/pictures/` devo uscire dalla cartella corrente:\n",
    "  - Percorso relativo: `../pictures/`\n",
    "\n",
    "- Da `/home/nomeutente/documents/scripts/` a `/home/nomeutente/image.jpg` devo uscire di due livelli:\n",
    "  - Percorso relativo: `../../image.jpg`\n",
    "\n",
    "- Da `C:\\Users\\NomeUtente\\Documents` a `C:\\Users\\NomeUtente\\Music`, anche su Windows il discorso è lo stesso:\n",
    "  - Percorso relativo su Windows: `..\\Music`\n"
   ]
  }
 ],
 "metadata": {
  "kernelspec": {
   "display_name": ".venv",
   "language": "python",
   "name": "python3"
  },
  "language_info": {
   "codemirror_mode": {
    "name": "ipython",
    "version": 3
   },
   "file_extension": ".py",
   "mimetype": "text/x-python",
   "name": "python",
   "nbconvert_exporter": "python",
   "pygments_lexer": "ipython3",
   "version": "3.11.2"
  }
 },
 "nbformat": 4,
 "nbformat_minor": 2
}
