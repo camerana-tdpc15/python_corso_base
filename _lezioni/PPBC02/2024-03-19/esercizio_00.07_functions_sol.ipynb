{
 "cells": [
  {
   "cell_type": "markdown",
   "metadata": {},
   "source": [
    "# Esercizi introduttivi"
   ]
  },
  {
   "cell_type": "markdown",
   "metadata": {},
   "source": [
    "TEMI TRATTATI:\n",
    "\n",
    "- Progettazione e implementazione di funzioni\n",
    "    - Passaggio dei parametri\n",
    "    - Uso della keyword `return`\n",
    "- Applicare il perfezionamento graduale (*stepwise refinement*) per scomporre operazioni complesse in operazioni più semplici\n",
    "    - Progettare più funzioni da utilizzare insieme\n",
    "    - L’ambito di visibilità (scope) di una variabile\n"
   ]
  },
  {
   "cell_type": "markdown",
   "metadata": {},
   "source": [
    "NOTE SULLO SVOLGIMENTO:\n",
    "- Puoi svolgere ed eseguire gli esercizi direttamente qua su questo notebook oppure su un normale file di script Python con estensione `.py`, eseguendolo nel terminale del sistema operativo con il comando `py mio_esercizio.py` (Windows) oppure `python3 mio_esercizio.py` (Linux o macOS)."
   ]
  },
  {
   "cell_type": "markdown",
   "metadata": {},
   "source": [
    "## Esercizio 1: Quante vocali?\n",
    "\n",
    "Scrivere la seguente funzione:\n",
    "\n",
    "```python\n",
    "def conta_vocali(testo):\n",
    "    ...\n",
    "```\n",
    "\n",
    "Questa funzione deve restituire il numero di vocali presenti nella stringa `testo`. \n",
    "\n",
    "Le vocali sono le lettere `a`, `e`, `i`, `o` e `u` e le rispettive versioni maiuscole.\n",
    "\n",
    "Ad esempio, `conta_vocali('Pippo Pluto e Paperino')` deve restituire `9`.\n",
    "\n",
    "Ricorda di testare la funzione invocandola in modo corretto e passandole la stringa da analizzare.\n",
    "\n",
    "**VARIANTE+:** Come si potrebbe estendere l’esercizio in modo da trattare correttamente delle stringhe in cui siano presenti anche le vocali accentate?"
   ]
  },
  {
   "cell_type": "code",
   "execution_count": null,
   "metadata": {},
   "outputs": [],
   "source": [
    "# Funzipne principale\n",
    "def main():\n",
    "    testo = input('Inserisci una stringa: ')\n",
    "    print('La stringa contiene', conta_vocali(testo), 'vocali')\n",
    "\n",
    "# Funzione che conta le vocali in una stringa\n",
    "def conta_vocali(stringa):\n",
    "    \"\"\"\n",
    "    Conta il numero di vocali in una stringa.\n",
    "\n",
    "    :param stringa: la stringa di caratteri da elaborare\n",
    "    :return: il numero di vocali\n",
    "    \"\"\"\n",
    "    conteggio = 0\n",
    "    for carattere in stringa:\n",
    "        if carattere.upper() in 'AEIOU':\n",
    "            conteggio += 1\n",
    "    return conteggio\n",
    "\n",
    "\n",
    "# Chiamata alla funzione principale.\n",
    "main()"
   ]
  },
  {
   "cell_type": "markdown",
   "metadata": {},
   "source": [
    "Possiamo anche fare il contrario e per ciascuna vocale, andare a contare quante volte è presente nella stringa."
   ]
  },
  {
   "cell_type": "code",
   "execution_count": 1,
   "metadata": {},
   "outputs": [],
   "source": [
    "# Versione alternativa\n",
    "\n",
    "def conta_vocali_ver2(stringa):\n",
    "    conteggio = 0\n",
    "    stringa = stringa.upper()\n",
    "    for vocale in 'AEIOU':\n",
    "        conteggio += stringa.count(vocale)\n",
    "    return conteggio\n",
    "\n",
    "testo = input('Inserisci una stringa: ')\n",
    "print('La stringa contiene', conta_vocali_ver2(testo), 'vocali')\n"
   ]
  },
  {
   "attachments": {},
   "cell_type": "markdown",
   "metadata": {},
   "source": [
    "## Esercizio 2: Quante parole?\n",
    "\n",
    "Scrivere la seguente funzione: \n",
    "\n",
    "```python\n",
    "def conta_parole(testo):\n",
    "    ...\n",
    "```\n",
    "\n",
    "Questa funzione deve restituire il numero di parole presenti nella stringa `testo`.\n",
    "\n",
    "Le parole sono sequenze di caratteri separate da spazi (si ipotizzi che tra due parole consecutive vi sia esattamente uno spazio).\n",
    "\n",
    "Ad esempio, `conta_parole('Pippo , Pluto ,e,Paperino')` deve restituire 4.\n",
    "\n",
    "**VARIANTE+:** Come si potrebbe estendere l’esercizio in modo da trattare correttamente delle stringhe in cui siano presenti più spazi tra le parole?"
   ]
  },
  {
   "cell_type": "code",
   "execution_count": 6,
   "metadata": {},
   "outputs": [
    {
     "data": {
      "text/plain": [
       "['  Pippo ', ' Pluto ', 'e', 'Paperino  ']"
      ]
     },
     "execution_count": 6,
     "metadata": {},
     "output_type": "execute_result"
    }
   ],
   "source": [
    "stringa = '  Pippo , Pluto ,e,Paperino  '\n",
    "\n",
    "lista_parole = stringa.split(',')\n",
    "\n",
    "\n",
    "\n"
   ]
  },
  {
   "cell_type": "code",
   "execution_count": 3,
   "metadata": {},
   "outputs": [
    {
     "name": "stdout",
     "output_type": "stream",
     "text": [
      "La stringa contiene 4 parole\n",
      "La stringa contiene 4 parole\n"
     ]
    }
   ],
   "source": [
    "def main():\n",
    "    stringa_input = '  Pippo , Pluto ,e,Paperino  '\n",
    "    print('La stringa contiene', conta_parole(stringa_input), 'parole')\n",
    "    print('La stringa contiene', conta_parole_usando_split(stringa_input), 'parole')\n",
    "\n",
    "\n",
    "def conta_parole(stringa):\n",
    "    \"\"\"\n",
    "    Conta il numero di parole in una stringa.\n",
    "    *Attenzione*: le parole devono essere separate da **uno** spazio soltanto.\n",
    "\n",
    "    :param stringa: la stringa di caratteri da elaborare\n",
    "    :return: il numero di parole\n",
    "    \"\"\"\n",
    "    # Docstring\n",
    "\n",
    "    # Rimuovi eventuali spazi iniziali o finali per semplificare il conteggio.\n",
    "    stringa = stringa.strip()\n",
    "\n",
    "    # Gestisci il caso speciale della stringa vuota.\n",
    "    if stringa == '':\n",
    "        return 0\n",
    "\n",
    "    # Conta gli spazi per contare il numero di parole.\n",
    "    # Parole = Spazi + 1 (quindi inizializza il conteggio a 1)\n",
    "    conteggio = 1\n",
    "    for carattere in stringa:\n",
    "        if carattere == ' ':\n",
    "            conteggio = conteggio + 1\n",
    "\n",
    "    # Soluzione alternativa utilizzando il metodo .count() per le stringhe:\n",
    "    # conteggio = stringa.count(' ') + 1\n",
    "    return conteggio\n",
    "\n",
    "def conta_parole_usando_split(stringa):\n",
    "    \"\"\"\n",
    "    Soluzione alternativa per contare il numero di parole in una stringa utilizzando split().\n",
    "    *Nota*: le parole non devono necessariamente essere separate da **uno** spazio soltanto.\n",
    "\n",
    "    :param stringa: la stringa di caratteri da elaborare\n",
    "    :return: il numero di parole\n",
    "    \"\"\"\n",
    "    # Dividi una stringa in una lista e restituisci il numero di elementi in quella lista\n",
    "    return len(stringa.split())\n",
    "\n",
    "\n",
    "# Chiama la funzione principale.\n",
    "main()"
   ]
  },
  {
   "cell_type": "code",
   "execution_count": 2,
   "metadata": {},
   "outputs": [
    {
     "data": {
      "text/plain": [
       "['ciao', 'mamma']"
      ]
     },
     "execution_count": 2,
     "metadata": {},
     "output_type": "execute_result"
    }
   ],
   "source": [
    "'ciao mamma'.split()"
   ]
  },
  {
   "cell_type": "markdown",
   "metadata": {},
   "source": [
    "## Esercizio 3: Python come Excel\n",
    "\n",
    "### Parte 1: Espressioni e variabili in Excel e Python\n",
    "\n",
    "1. Apri un nuovo foglio di calcolo Excel.\n",
    "2. In A1, inserisci il valore `10`.\n",
    "3. In A2, inserisci il valore `20`.\n",
    "4. In A3, inserisci la formula `=A1 + A2`. Questo corrisponde all'espressione `A1 + A2` che viene valutata.\n",
    "\n",
    "   In Python, questo potrebbe essere paragonato a:\n",
    "   ```python\n",
    "   A1 = 10\n",
    "   A2 = 20\n",
    "   A3 = A1 + A2\n",
    "   print(A3)\n",
    "   ```\n",
    "\n",
    "5. Ora, in A4, assegna `=A3 * 2`. Questo può essere visto come una variabile che tiene traccia di un valore calcolato in precedenza (in questo caso, `A3`) e lo utilizza in un'altra espressione.\n",
    "\n",
    "   In Python, questo sarebbe simile a:\n",
    "   ```python\n",
    "   A4 = A3 * 2\n",
    "   print(A4)\n",
    "   ```"
   ]
  },
  {
   "cell_type": "markdown",
   "metadata": {},
   "source": [
    "### Parte 2: Funzioni, argomenti e valore di ritorno in Excel e Python\n",
    "\n",
    "1. Apri il foglio di calcolo Excel usato precedentemente.\n",
    "2. In B1, inserisci il valore `10`.\n",
    "3. In B2, inserisci il valore `20`.\n",
    "4. In B3, inserisci il valore `30`.\n",
    "5. In B4, inserisci la funzione `=MEDIA(B1:B3)`. Questo calcola la media dei valori nelle celle A1 fino a A3.\n",
    "\n",
    "   In Python, la prima scrittura potrebbe essere paragonata a:\n",
    "   ```python\n",
    "   def calcola_media(numeri):\n",
    "      return sum(numeri) / len(numeri)\n",
    "\n",
    "   # Usando la funzione\n",
    "   numeri = [10, 20, 30]\n",
    "   media = calcola_media(numeri)\n",
    "   print(f\"La media è: {media}\")\n",
    "   ```\n",
    "   In Excel, l'argomento è l'**intervallo** di celle B1:B3. In Python, l'argomento è solo una lista `[10, 20, 30]`.\n",
    "\n",
    "6. In C4, inserisci la funzione `=MEDIA(B1;B2;B3)`. Questo calcola sempre la media, ma ciascuna cella è stata passate come argomento separato; si possono passare quanti argomenti si vuole.\n",
    "\n",
    "   Questa seconda modalità invece potrebbe essere resa con gli `*args`:\n",
    "   ```python\n",
    "   def calcola_media(*numeri):             # packing --> tupla\n",
    "      return sum(numeri) / len(numeri)\n",
    "\n",
    "   # Usando la funzione\n",
    "   media = calcola_media(10, 20, 30)\n",
    "   # media = calcola_media(*[10, 20, 30])  # unpacking --> argomenti\n",
    "   print(f\"La media è: {media}\")\n",
    "   ```\n",
    "   In Excel, gli argomenti sono le celle B1;B2;B3. In Python, gli argomenti sono `10, 20, 30` ma avremmo potuto inserire un numero di argomenti a piacere."
   ]
  },
  {
   "cell_type": "markdown",
   "metadata": {},
   "source": [
    "### Funzione con singolo argomento posizionale"
   ]
  },
  {
   "cell_type": "code",
   "execution_count": 1,
   "metadata": {},
   "outputs": [
    {
     "name": "stdout",
     "output_type": "stream",
     "text": [
      "<class 'list'>\n",
      "La media è: 20.0\n"
     ]
    }
   ],
   "source": [
    "def calcola_media(numeri):\n",
    "    print(type(numeri))  # Per vedere che è una lista\n",
    "    return sum(numeri) / len(numeri)\n",
    "\n",
    "numeri = [10, 20, 30]\n",
    "media = calcola_media(numeri)\n",
    "print(f\"La media è: {media}\")"
   ]
  },
  {
   "cell_type": "markdown",
   "metadata": {},
   "source": [
    "Perché se passiamo un container, ad esempio una lista, alla funzione `sum()`, questa ci restituisce la somma degli elementi, se questi sono numerici."
   ]
  },
  {
   "cell_type": "code",
   "execution_count": 4,
   "metadata": {},
   "outputs": [
    {
     "data": {
      "text/plain": [
       "14.5"
      ]
     },
     "execution_count": 4,
     "metadata": {},
     "output_type": "execute_result"
    }
   ],
   "source": [
    "sum([2, 4, 8.5])"
   ]
  },
  {
   "cell_type": "markdown",
   "metadata": {},
   "source": [
    "### Funzione con `*args` o *argument packing*"
   ]
  },
  {
   "cell_type": "code",
   "execution_count": null,
   "metadata": {},
   "outputs": [
    {
     "name": "stdout",
     "output_type": "stream",
     "text": [
      "<class 'tuple'>\n",
      "La media è: 26.25\n"
     ]
    }
   ],
   "source": [
    "def calcola_media(*numeri):  # packing --> tupla (*args)\n",
    "      print(type(numeri) )  # Per vedere che è proprio una tupla!\n",
    "      return sum(numeri) / len(numeri)\n",
    "\n",
    "# Usando la funzione\n",
    "media = calcola_media((10, 20), 30, 45)\n",
    "# media = calcola_media(*[10, 20, 30])  # unpacking --> argomenti\n",
    "print(f\"La media è: {media}\")"
   ]
  },
  {
   "cell_type": "markdown",
   "metadata": {},
   "source": [
    "Prova qua sotto ad usare la notazione `*args` per creare una funzione che accetti un numero indefinito di argomenti."
   ]
  },
  {
   "cell_type": "code",
   "execution_count": null,
   "metadata": {},
   "outputs": [],
   "source": [
    "# Scrivi qua il tuo codice\n",
    "\n",
    "def demo_function(*args):\n",
    "    for arg in args:\n",
    "        print(arg)\n",
    "\n",
    "# Esempio di utilizzo\n",
    "demo_function(1, 2, 3, 4, 5)"
   ]
  }
 ],
 "metadata": {
  "kernelspec": {
   "display_name": ".venv",
   "language": "python",
   "name": "python3"
  },
  "language_info": {
   "codemirror_mode": {
    "name": "ipython",
    "version": 3
   },
   "file_extension": ".py",
   "mimetype": "text/x-python",
   "name": "python",
   "nbconvert_exporter": "python",
   "pygments_lexer": "ipython3",
   "version": "3.11.2"
  }
 },
 "nbformat": 4,
 "nbformat_minor": 2
}
