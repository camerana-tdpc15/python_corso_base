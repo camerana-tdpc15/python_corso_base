{
 "cells": [
  {
   "cell_type": "code",
   "execution_count": 15,
   "metadata": {},
   "outputs": [
    {
     "data": {
      "text/plain": [
       "{'mia_chiave': {'3456456': [3, 5, 6, (4, 5)]}}"
      ]
     },
     "execution_count": 15,
     "metadata": {},
     "output_type": "execute_result"
    }
   ],
   "source": [
    "pippo = {}\n",
    "\n",
    "pippo['mia_chiave'] = 456\n",
    "pippo['mia_chiave'] = {'3456456': [3,5,6,(4,5)]}\n",
    "\n",
    "pippo"
   ]
  },
  {
   "attachments": {},
   "cell_type": "markdown",
   "metadata": {},
   "source": [
    "# Esercizio - La ricetta della nonna\n",
    "\n",
    "Requisiti: stringhe, liste, if, for, import, \n",
    "\n",
    "La nonna ci ha dato la sua miracolosa ricetta della pasta olive acciughe \n",
    "e capperi.\n",
    "\n",
    "<u>Variante 1:</u> Dobbiamo andare a comprare tutti gli ingredienti che appaiono nella lista più di una volta.\n",
    "\n",
    "<u>Variante 2:</u> Dobbiamo andare a comprare gli ingredienti e dobbiamo capire quanti \"**cappero**\", \"**oliva**\" e \"**pepe**\" comprare. Di pasta e altri ingredienti ne abbiamo già in quantità, quindi non ci interessano.\n",
    "\n",
    "- **ATTENZIONE:** la nonna ha la sua età ed è sempre stata pasticciona e quindi la ricetta è scritta in modo non consistente, e le parole vanno *normalizzate*    \n",
    "- **SUGGERIMENTO**: c'è un comodo metodo delle stringhe per separare le parole...\n",
    "  \n",
    "Esempio - dati:\n",
    "\n",
    "```python\n",
    "ricetta = \"oliva\\t, pepe,cappero ,\\n detersivo,\\t \\n cappero, peperone, acciuga ,oliva , pepe\\t,\\t cappero , \\noliva,pasta\\n\"\n",
    "```\n",
    "\n",
    "stampa:\n",
    "\n",
    "```\n",
    "  Servono:\n",
    "     3 oliva\n",
    "     2 pepe\n",
    "     3 cappero\n",
    "``` "
   ]
  },
  {
   "cell_type": "code",
   "execution_count": 10,
   "metadata": {},
   "outputs": [
    {
     "name": "stdout",
     "output_type": "stream",
     "text": [
      "oliva\n",
      "pepe\n",
      "cappero\n"
     ]
    },
    {
     "data": {
      "text/plain": [
       "['Ciao a', 'i miei amici', 'insieme!']"
      ]
     },
     "execution_count": 10,
     "metadata": {},
     "output_type": "execute_result"
    }
   ],
   "source": [
    "# for char in 'pippo':\n",
    "#     print(char)\n",
    "\n",
    "for elem in ['oliva', 'pepe', 'cappero']:\n",
    "    print(elem)\n",
    "\n",
    "pippo = 'Ciao a tutti i miei amici tutti insieme!'\n",
    "pippo.split(' tutti ')"
   ]
  },
  {
   "cell_type": "code",
   "execution_count": 7,
   "metadata": {},
   "outputs": [
    {
     "name": "stdout",
     "output_type": "stream",
     "text": [
      "Servono:\n",
      "     3 oliva\n",
      "     2 pepe\n",
      "     3 cappero\n"
     ]
    }
   ],
   "source": [
    "# ricetta_orig = \"oliva\\t,| pepe,|cappero ,\\n detersivo,\\t \\n cappero, peperone, acciuga ,oliva , pepe\\t,\\t cappero , \\noliva,pasta\\n\"\n",
    "ricetta = \"oliva\\t, pepe,cappero ,\\n dete\\nrsivo,\\t \\n cappero, peperone, acciuga ,oliva , pepe\\t,\\t cappero , \\noliva,pasta\\n\"\n",
    "# ricetta_orig = \"cappone , pepe,\\noliva\\n,\\n\\tpepe, acciuga \"   #  1 oliva 2 pepe 0 cappero\n",
    "\n",
    "# scrivi qui\n",
    "ricetta_list = ricetta_orig.split(',|')\n",
    "\n",
    "# print(ricetta_list)\n",
    "\n",
    "report = {}\n",
    "# report = dict()\n",
    "\n",
    "for parola_sporca in ricetta_list:\n",
    "    parola = parola_sporca.strip()\n",
    "    # se la chiave esiste dentro ricetta_list\n",
    "    if parola in report:\n",
    "        # accedo alla chiave della parola e incremento di 1 il valore attuale\n",
    "        report[parola] += 1\n",
    "    # altrimenti, se la chiave non esiste\n",
    "    else:\n",
    "        # creo la chiave e imposto subito il valore 1\n",
    "        report[parola] = 1\n",
    "\n",
    "# print(report)\n",
    "\n",
    "\n",
    "print('Servono:')\n",
    "\n",
    "for ingrediente in report:\n",
    "    conteggio = report[ingrediente]\n",
    "    if conteggio > 1:\n",
    "        print('    ', conteggio, ingrediente)\n",
    "    else:\n",
    "        pass\n",
    "        # ...  # ellipsis\n"
   ]
  },
  {
   "cell_type": "code",
   "execution_count": 11,
   "metadata": {},
   "outputs": [
    {
     "name": "stdout",
     "output_type": "stream",
     "text": [
      "Servono:\n",
      "     3 oliva\n",
      "     2 pepe\n",
      "     3 cappero\n"
     ]
    }
   ],
   "source": [
    "\n",
    "def report_ricetta_stampa(ricetta):\n",
    "    ricetta_list = ricetta.split(',')\n",
    "    report = {}\n",
    "    for parola_sporca in ricetta_list:\n",
    "        parola = parola_sporca.strip()\n",
    "        # se la chiave esiste dentro ricetta_list\n",
    "        if parola in report:\n",
    "            # accedo alla chiave della parola e incremento di 1 il valore attuale\n",
    "            report[parola] += 1\n",
    "        # altrimenti, se la chiave non esiste\n",
    "        else:\n",
    "            # creo la chiave e imposto subito il valore 1\n",
    "            report[parola] = 1\n",
    "    print('Servono:')\n",
    "    for ingrediente in report:\n",
    "        conteggio = report[ingrediente]\n",
    "        if conteggio > 1:\n",
    "            print('    ', conteggio, ingrediente)\n",
    "        else:\n",
    "            pass\n",
    "\n",
    "ricetta_orig = \"oliva\\t, pepe,cappero ,\\n detersivo,\\t \\n cappero, peperone, acciuga ,oliva , pepe\\t,\\t cappero , \\noliva,pasta\\n\"\n",
    "\n",
    "report_ricetta_stampa(ricetta_orig)\n",
    "# report_ricetta(\"oliva\\t, pepe,cappero ,\\n detersivo,\\t \\n cappero, peperone, acciuga ,oliva , pepe\\t,\\t cappero , \\noliva,pasta\\n\")"
   ]
  },
  {
   "cell_type": "code",
   "execution_count": 1,
   "metadata": {},
   "outputs": [
    {
     "name": "stdout",
     "output_type": "stream",
     "text": [
      "Servono:\n",
      "     3 oliva\n",
      "     2 pepe\n",
      "     3 cappero\n"
     ]
    }
   ],
   "source": [
    "def report_ricetta(ricetta):\n",
    "    ricetta_list = ricetta.split(',')\n",
    "    report = {}  # locale\n",
    "    for parola_sporca in ricetta_list:\n",
    "        parola = parola_sporca.strip()\n",
    "        # se la chiave esiste dentro ricetta_list\n",
    "        if parola in report:\n",
    "            # accedo alla chiave della parola e incremento di 1 il valore attuale\n",
    "            report[parola] += 1\n",
    "        # altrimenti, se la chiave non esiste\n",
    "        else:\n",
    "            # creo la chiave e imposto subito il valore 1\n",
    "            report[parola] = 1\n",
    "    return report\n",
    "\n",
    "ricetta1 = \"oliva\\t, pepe,cappero ,\\n detersivo,\\t \\n cappero, peperone, acciuga ,oliva , pepe\\t,\\t cappero , \\noliva,pasta\\n\"\n",
    "ricetta2 = \"oliva\\t, pepe,cappero ,\\n dete\\nrsivo,\\t \\n cappero, peperone, acciuga ,oliva , pepe\\t,\\t cappero , \\noliva,pasta\\n\"\n",
    "ricetta3 = \"cappone , pepe,\\noliva\\n,\\n\\tpepe, acciuga \"   #  1 oliva 2 pepe 0 cappero\n",
    "\n",
    "\n",
    "report_dict = report_ricetta(ricetta1)  # globale\n",
    "report_dict = report_ricetta(ricetta2)  # globale\n",
    "report_dict = report_ricetta(ricetta3)  # globale\n",
    "\n",
    "print('Servono:')\n",
    "for ingrediente in report_dict:\n",
    "    conteggio = report_dict[ingrediente]\n",
    "    if conteggio > 1:\n",
    "        print('    ', conteggio, ingrediente)\n",
    "    else:\n",
    "        pass"
   ]
  },
  {
   "cell_type": "code",
   "execution_count": null,
   "metadata": {},
   "outputs": [],
   "source": [
    "# for idx in range(len(ricetta_list)):\n",
    "# for idx in range(12):\n",
    "for idx in [0, 1, 2, 3, 4, 5, ..., 11]:\n",
    "    parola_sporca = ricetta_list[idx]\n",
    "    \n",
    "    parola = parola_sporca.strip()\n",
    "    # se la chiave esiste dentro ricetta_list\n",
    "    if parola in report:\n",
    "        # accedo alla chiave della parola e incremento di 1 il valore attuale\n",
    "        report[parola] += 1\n",
    "    # altrimenti, se la chiave non esiste\n",
    "    else:\n",
    "        # creo la chiave e imposto subito il valore 1\n",
    "        report[parola] = 1"
   ]
  }
 ],
 "metadata": {
  "kernelspec": {
   "display_name": "Python 3",
   "language": "python",
   "name": "python3"
  },
  "language_info": {
   "codemirror_mode": {
    "name": "ipython",
    "version": 3
   },
   "file_extension": ".py",
   "mimetype": "text/x-python",
   "name": "python",
   "nbconvert_exporter": "python",
   "pygments_lexer": "ipython3",
   "version": "3.11.2"
  },
  "orig_nbformat": 4
 },
 "nbformat": 4,
 "nbformat_minor": 2
}
