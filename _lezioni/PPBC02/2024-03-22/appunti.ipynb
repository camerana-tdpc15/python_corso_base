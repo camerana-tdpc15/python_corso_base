{
 "cells": [
  {
   "cell_type": "markdown",
   "metadata": {},
   "source": [
    "## Esercizio *data structures*\n",
    "\n",
    "[G_type_commons.ipynb - Accedere ai valori dentro una *data structure*](../../../G_type_commons.ipynb)\n",
    "\n",
    "1. Scegli un valore nella struttura dati qua sopra e prova a raggiungerlo scrivendo un'espressione.\n",
    "\n",
    "2. Scegli una delle seguenti espressioni e prova a capire a quale valore accede, osservando la struttura dati nel notebook [G_type_commons.ipynb](../../../G_type_commons.ipynb).\n",
    "```python\n",
    "data[0]['reality'][0][0]\n",
    "data[1][234]['Pupa']['1']\n",
    "data[2]['TEAM2'][0]['nome']\n",
    "data[0]['fiction'][1][2][0]['chimera']\n",
    "data[2]['TEAM2'][0]['nome'][1]\n",
    "data[1][234]['Terry'][2]\n",
    "```"
   ]
  },
  {
   "cell_type": "markdown",
   "metadata": {},
   "source": [
    "## Dict comprehension\n",
    "\n",
    "[E_dict_reference.ipynb - Dict comprehension](../../../E_dict_reference.ipynb)"
   ]
  },
  {
   "cell_type": "markdown",
   "metadata": {},
   "source": [
    "## Esercizio 9 - Nuovi Mercati\n",
    "\n",
    "[esercizio_09_set_list_dict_if_for.ipynb](esercizio_09_set_list_dict_if_for.ipynb)\n",
    "\n",
    "###  Pseudocodice:\n",
    "\n",
    "```text\n",
    "- creo un dizionario con tutte le chiavi che sono i nomi delle categorie e le\n",
    "  inizializzo tutte a 0;\n",
    "\n",
    "- per ciascun competitor:\n",
    "    - per ciascuna categoria:\n",
    "        - se la categoria è presente nel competitor corrente:\n",
    "            - incremento il contatore di quella categoria nel report;\n",
    "\n",
    "- per ciascuna chiave nel report:\n",
    "    - se il valore è 0:\n",
    "        - stampo la categoria\n",
    "\n",
    "- il report completo lo converto invece in una lista \n",
    "  [(categoria: conteggio_competitors)];\n",
    "\n",
    "- stampo i risultati\n",
    "```"
   ]
  },
  {
   "cell_type": "markdown",
   "metadata": {},
   "source": [
    "## Importazione moduli\n",
    "\n",
    "Sul [Notebook 06_python_environment.ipynb](../../../06_python_environment.ipynb) la prima sezione tratta come importare moduli.\n",
    "\n",
    "Non abbiamo visto:"
   ]
  },
  {
   "cell_type": "code",
   "execution_count": 12,
   "metadata": {},
   "outputs": [
    {
     "data": {
      "text/plain": [
       "4.0"
      ]
     },
     "execution_count": 12,
     "metadata": {},
     "output_type": "execute_result"
    }
   ],
   "source": [
    "from math import sqrt\n",
    "\n",
    "sqrt(16)"
   ]
  },
  {
   "cell_type": "markdown",
   "metadata": {},
   "source": [
    "Oppure:"
   ]
  },
  {
   "cell_type": "code",
   "execution_count": 13,
   "metadata": {},
   "outputs": [
    {
     "data": {
      "text/plain": [
       "4.0"
      ]
     },
     "execution_count": 13,
     "metadata": {},
     "output_type": "execute_result"
    }
   ],
   "source": [
    "import math\n",
    "\n",
    "math.sqrt(16)"
   ]
  },
  {
   "cell_type": "code",
   "execution_count": 11,
   "metadata": {},
   "outputs": [
    {
     "name": "stdout",
     "output_type": "stream",
     "text": [
      "{'key1': 'pippo',\n",
      " 'key2': 'pluto',\n",
      " 'key3': 'qui',\n",
      " 'key4': 'quo',\n",
      " 'key5': 'qua',\n",
      " 'key6': 'paperino'}\n"
     ]
    }
   ],
   "source": [
    "from pprint import pprint\n",
    "\n",
    "pprint({\n",
    "    'key1': 'pippo',\n",
    "    'key2': 'pluto',\n",
    "    'key3': 'qui',\n",
    "    'key4': 'quo',\n",
    "    'key5': 'qua',\n",
    "    'key6': 'paperino',\n",
    "})"
   ]
  },
  {
   "cell_type": "code",
   "execution_count": 10,
   "metadata": {},
   "outputs": [
    {
     "name": "stdout",
     "output_type": "stream",
     "text": [
      "{'key1': 'pippo',\n",
      " 'key2': 'pluto',\n",
      " 'key3': 'qui',\n",
      " 'key4': 'quo',\n",
      " 'key5': 'qua',\n",
      " 'key6': 'paperino'}\n"
     ]
    }
   ],
   "source": [
    "import pprint\n",
    "\n",
    "pprint.pprint({\n",
    "    'key1': 'pippo',\n",
    "    'key2': 'pluto',\n",
    "    'key3': 'qui',\n",
    "    'key4': 'quo',\n",
    "    'key5': 'qua',\n",
    "    'key6': 'paperino',\n",
    "})"
   ]
  }
 ],
 "metadata": {
  "kernelspec": {
   "display_name": ".venv",
   "language": "python",
   "name": "python3"
  },
  "language_info": {
   "codemirror_mode": {
    "name": "ipython",
    "version": 3
   },
   "file_extension": ".py",
   "mimetype": "text/x-python",
   "name": "python",
   "nbconvert_exporter": "python",
   "pygments_lexer": "ipython3",
   "version": "3.11.2"
  }
 },
 "nbformat": 4,
 "nbformat_minor": 2
}
