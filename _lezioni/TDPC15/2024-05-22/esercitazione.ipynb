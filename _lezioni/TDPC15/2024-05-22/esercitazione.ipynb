{
 "cells": [
  {
   "cell_type": "markdown",
   "metadata": {},
   "source": [
    "# Esercizi per casa"
   ]
  },
  {
   "cell_type": "markdown",
   "metadata": {},
   "source": [
    "### Esercizio 1 con Bootstrap\n",
    "\n",
    "Provare ad aggiungere le classi Bootstrap adatte per rendere più accattivante l'HTML dell'Esercizio 1 (range numeri):\n",
    "\n",
    "Ad esempio, potrebbe diventare così:"
   ]
  },
  {
   "cell_type": "markdown",
   "metadata": {},
   "source": [
    "\n",
    "```html\n",
    "<!DOCTYPE html>\n",
    "<html>\n",
    "<head>\n",
    "    <title>Lista range numeri</title>\n",
    "    <link rel=\"stylesheet\" href=\"https://cdn.jsdelivr.net/npm/bootstrap@5.3.0/dist/css/bootstrap.min.css\">\n",
    "</head>\n",
    "<body>\n",
    "    <div class=\"container mt-3\">\n",
    "        <h1>Lista range numeri</h1>\n",
    "        <form method=\"post\">\n",
    "            <div class=\"row g-3 mb-3\">\n",
    "                <div class=\"col\">\n",
    "                    <div class=\"input-group\">\n",
    "                        <label for=\"start\" class=\"input-group-text\">Start</label>\n",
    "                        <input type=\"number\" class=\"form-control\" id=\"start\" name=\"start\" value=\"{{ inizio }}\">\n",
    "                    </div>\n",
    "                </div>\n",
    "                <div class=\"col\">\n",
    "                    <div class=\"input-group\">\n",
    "                        <label for=\"stop\" class=\"input-group-text\">Stop</label>\n",
    "                        <input type=\"number\" class=\"form-control\" id=\"stop\" name=\"stop\" value=\"{{ fine }}\">\n",
    "                    </div>\n",
    "                </div>\n",
    "            </div>\n",
    "            <button type=\"submit\" class=\"btn btn-primary\">Genera lista</button>\n",
    "        </form>\n",
    "        <ul class=\"mt-3\">\n",
    "            {% for numero in numeri %}\n",
    "            <li>{{ numero }}</li>\n",
    "            {% endfor %}\n",
    "        </ul>\n",
    "    </div>\n",
    "</body>\n",
    "</html>\n",
    "```"
   ]
  },
  {
   "cell_type": "markdown",
   "metadata": {},
   "source": [
    "### Esercizio 2 - completamento\n",
    "\n",
    "Provare a completare l'Esercizio 2 che abbiamo iniziato durante l'ultima lezione.\n",
    "\n",
    "Inizialmente potete provare a scrivere la sola struttura HTML, senza Bootstrap.\n",
    "\n",
    "Per esempio, potrebbe diventare così:"
   ]
  },
  {
   "cell_type": "markdown",
   "metadata": {},
   "source": [
    "### Esercizio 2"
   ]
  },
  {
   "cell_type": "markdown",
   "metadata": {},
   "source": [
    "```html\n",
    "<!DOCTYPE html>\n",
    "<html>\n",
    "<head>\n",
    "    <title>TABELLA POTENZE</title>\n",
    "</head>\n",
    "<body>\n",
    "    <h1>Lista potenze</h1>\n",
    "    <form>\n",
    "        Numero: <input type=\"number\" name=\"base_number\"  value=\"{{ submitted_number }}\">\n",
    "        <button type=\"submit\">Genera potenze</button>\n",
    "    </form>\n",
    "    {% if powers %}\n",
    "    <table border=\"1\">\n",
    "        <tr>\n",
    "            <th>Potenza</th>\n",
    "            <th>Descrizione</th>\n",
    "            <th>Risultato</th>\n",
    "        </tr>\n",
    "        {% for power, result in powers.items() %}\n",
    "        <tr>\n",
    "            <td>{{ base_number }}<sup>{{ power }}</sup></td>\n",
    "            <td>{{ base_number }} elevato a {{ power }}</td>\n",
    "            <td>{{ result }}</td>\n",
    "        </tr>\n",
    "        {% endfor %}\n",
    "    </table>\n",
    "    {% endif %}\n",
    "</body>\n",
    "</html>\n",
    "\n",
    "```"
   ]
  },
  {
   "cell_type": "markdown",
   "metadata": {},
   "source": [
    "### Esercizio 2 con Bootstrap\n",
    "\n",
    "Se avete creato la vista HTML per l'Esercizio 2, ora potete provare ad aggiungervi le classi Bootstrap per rendere più bella l'interfaccia."
   ]
  }
 ],
 "metadata": {
  "language_info": {
   "name": "python"
  }
 },
 "nbformat": 4,
 "nbformat_minor": 2
}
