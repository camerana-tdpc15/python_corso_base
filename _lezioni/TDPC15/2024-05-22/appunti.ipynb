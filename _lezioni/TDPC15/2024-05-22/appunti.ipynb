{
 "cells": [
  {
   "cell_type": "markdown",
   "metadata": {},
   "source": [
    "## UUID\n",
    "\n",
    "Un [UUID (Universal Unique Identifier)](https://it.wikipedia.org/wiki/Universally_unique_identifier) è uno standard di identificazione che garantisce l'unicità globale degli identificatori generati secondo questo schema. Gli UUID sono ampiamente utilizzati in diversi contesti informatici per garantire che ogni entità, sia essa un file, un oggetto in un database o un componente di sistema, abbia un identificativo unico che non si ripete e non necessita di un'autorità centrale per la sua generazione.\n",
    "\n",
    "Un UUID è composto da 32 cifre esadecimali, divise da trattini in cinque gruppi, seguendo lo schema 8-4-4-4-12. Questa struttura consente una varietà astronomica di combinazioni (16<sup>32</sup>), riducendo al minimo la probabilità di collisioni, ovvero di due UUID identici generati indipendentemente."
   ]
  }
 ],
 "metadata": {
  "language_info": {
   "name": "python"
  }
 },
 "nbformat": 4,
 "nbformat_minor": 2
}
