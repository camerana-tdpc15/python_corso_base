{
 "cells": [
  {
   "cell_type": "markdown",
   "metadata": {},
   "source": [
    "### Uso del `<form>` con `<button type=\"submit\">` e FormData\n",
    "\n",
    "```html\n",
    "<form method=\"post\" action=\"/api/guestbook\">\n",
    "    <input type=\"text\" id=\"nome\" name=\"nome\" required>\n",
    "    <input type=\"text\" id=\"messaggio\" name=\"messaggio\" required>\n",
    "    <button type=\"submit\">Invia messaggio</button>\n",
    "</form>\n",
    "```\n",
    "\n",
    "Se usassimo il form in questo modo, con `type=\"submit\"`, il form invierebbe la richiesta automaticamente con metodo POST e all'URL indicato in `action`. La risposta da Flask dovrebbe dunque essere un redirect sulla pagina home `/` (sempre il guestbook), ma non potremmo propriamente leggere una risposta dal server.\n",
    "\n",
    "Incece noi vogliamo leggere anche l'esito dell'operazione per decidere come comportarsi a seconda che l'operazione di scrittura sia andata o meno a buon fine.\n",
    "\n",
    "Quindi in questa esercitazione decidiamo di non usare la funzione di invio \"automatico\" che usa il formato FormData, ma preferiamo fare noi fetch della richiesta con JavaScript.\n",
    "\n",
    "**ATTENZIONE**: Usando `type=\"submit\"`, quando l'utente fa click, il browser tenta di inviare il form automaticamente. Per mantenere `type=\"submit\"` e prevenire l'invio automatico dovremmo usare `event.preventDefault()` in un `eventListener`. Vedi: https://developer.mozilla.org/en-US/docs/Web/API/Event/preventDefault\n",
    "\n",
    "Quindi il form dovrebbe diventare così:\n",
    "\n",
    "```html\n",
    "<form id=\"guestbook-form\">\n",
    "    <input type=\"text\" id=\"nome\" name=\"nome\" required>\n",
    "    <input type=\"text\" id=\"messaggio\" name=\"messaggio\" required>\n",
    "    <button type=\"submit\">Invia messaggio</button>\n",
    "</form>\n",
    "```\n",
    "\n",
    "E l'event listener dovrebbe avere `event.preventDefault()`:\n",
    "\n",
    "```javascript\n",
    "document.getElementById('guestbook-form').addEventListener('submit', (event) => {\n",
    "    event.preventDefault();\n",
    "    submitMessage();\n",
    "});\n",
    "```\n",
    "\n",
    "Usando `type=\"button\"` evitiamo di dover invocare il metodo `.preventDefault()` dell'evento. \n",
    "\n",
    "\n",
    "**ATTENZIONE**: Tuttavia con `type=\"button\"` perdiamo alcune funzioni utili \"automatiche\", come il controllo dei campi obbligatori e l'invio del form premendo il tasto Invio. Dovremmo quindi re-implementarle noi con JavaScript. Valuta dunque se ti conviene usare `type=\"submit\"` e prevenire l'inivio del form oppure usare `type=\"button\"` e gestire manualmente il tutto. "
   ]
  },
  {
   "cell_type": "markdown",
   "metadata": {},
   "source": [
    "### Lettura del FormData da Flask\n",
    "\n",
    "Inoltre, vi ricordo che se usate il formato FormData per l'invio dei dati, nella route di flask dovete leggere da `request.form` anziché `request.json`."
   ]
  }
 ],
 "metadata": {
  "language_info": {
   "name": "python"
  }
 },
 "nbformat": 4,
 "nbformat_minor": 2
}
