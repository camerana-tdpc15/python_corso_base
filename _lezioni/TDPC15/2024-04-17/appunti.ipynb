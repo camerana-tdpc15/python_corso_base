{
 "cells": [
  {
   "cell_type": "markdown",
   "metadata": {},
   "source": [
    "## List comprehension"
   ]
  },
  {
   "cell_type": "markdown",
   "metadata": {},
   "source": [
    "```python\n",
    "[ ESPRESSIONE for VARIABILE in ITERABILE ] \n",
    "```\n",
    "\n",
    "- sintassi che imita le liste;\n",
    "- esegue la stessa operazione su tutti gli elementi di un iterabile."
   ]
  },
  {
   "cell_type": "code",
   "execution_count": 2,
   "metadata": {},
   "outputs": [
    {
     "data": {
      "text/plain": [
       "[0, 1, 2, 3, 4, 5, 6, 7, 8, 9]"
      ]
     },
     "execution_count": 2,
     "metadata": {},
     "output_type": "execute_result"
    }
   ],
   "source": [
    "[num for num in range(10)]"
   ]
  },
  {
   "cell_type": "code",
   "execution_count": 3,
   "metadata": {},
   "outputs": [
    {
     "data": {
      "text/plain": [
       "[0, 2, 4, 6, 8, 10, 12, 14, 16, 18]"
      ]
     },
     "execution_count": 3,
     "metadata": {},
     "output_type": "execute_result"
    }
   ],
   "source": [
    "[num * 2 for num in range(10)]"
   ]
  },
  {
   "cell_type": "markdown",
   "metadata": {},
   "source": [
    "La comprehension precedente è in tutto è per tutto equivalente alla seguente scrittura:"
   ]
  },
  {
   "cell_type": "code",
   "execution_count": 6,
   "metadata": {},
   "outputs": [
    {
     "data": {
      "text/plain": [
       "[0, 2, 4, 6, 8, 10, 12, 14, 16, 18]"
      ]
     },
     "execution_count": 6,
     "metadata": {},
     "output_type": "execute_result"
    }
   ],
   "source": [
    "lista_numeri = []\n",
    "for num in range(10):\n",
    "    lista_numeri.append(num * 2)\n",
    "\n",
    "lista_numeri"
   ]
  },
  {
   "cell_type": "code",
   "execution_count": 4,
   "metadata": {},
   "outputs": [
    {
     "data": {
      "text/plain": [
       "[(0, 'pippo'),\n",
       " (1, 'pippo'),\n",
       " (2, 'pippo'),\n",
       " (3, 'pippo'),\n",
       " (4, 'pippo'),\n",
       " (5, 'pippo'),\n",
       " (6, 'pippo'),\n",
       " (7, 'pippo'),\n",
       " (8, 'pippo'),\n",
       " (9, 'pippo')]"
      ]
     },
     "execution_count": 4,
     "metadata": {},
     "output_type": "execute_result"
    }
   ],
   "source": [
    "[(num, 'pippo') for num in range(10)]"
   ]
  },
  {
   "cell_type": "markdown",
   "metadata": {},
   "source": [
    "#### List comprehension con condizione"
   ]
  },
  {
   "cell_type": "markdown",
   "metadata": {},
   "source": [
    "- aggiungere un `if ESPRESSIONE_BOOLEANA` speciale alla fine\n",
    "\n",
    "```python\n",
    "[ ESPRESSIONE for VARIABILE in ITERABILE if ESPRESSIONE_BOOLEANA] \n",
    "```"
   ]
  },
  {
   "cell_type": "markdown",
   "metadata": {},
   "source": [
    "![list_comprehension.gif](../../../imgs/list_comprehension.gif)"
   ]
  },
  {
   "cell_type": "code",
   "execution_count": null,
   "metadata": {},
   "outputs": [
    {
     "data": {
      "text/plain": [
       "['CANI', 'ALCI']"
      ]
     },
     "metadata": {},
     "output_type": "display_data"
    }
   ],
   "source": [
    "animali = ['cani', 'gatti', 'scoiattoli', 'alci']\n",
    "\n",
    "[animale.upper() for animale in animali if len(animale) == 4]"
   ]
  },
  {
   "cell_type": "code",
   "execution_count": 8,
   "metadata": {},
   "outputs": [
    {
     "data": {
      "text/plain": [
       "['CANI', 'ALCI']"
      ]
     },
     "execution_count": 8,
     "metadata": {},
     "output_type": "execute_result"
    }
   ],
   "source": [
    "animali = ['cani', 'gatti', 'scoiattoli', 'alci']\n",
    "\n",
    "animali_upper = []\n",
    "for animale in animali:\n",
    "    if len(animale) == 4:\n",
    "        animali_upper.append(animale.upper())\n",
    "\n",
    "animali_upper"
   ]
  },
  {
   "cell_type": "markdown",
   "metadata": {},
   "source": [
    "## Dict comprehension"
   ]
  },
  {
   "cell_type": "code",
   "execution_count": 12,
   "metadata": {},
   "outputs": [
    {
     "data": {
      "text/plain": [
       "{'matematica': [], 'inglese': [], 'italiano': [], 'storia': []}"
      ]
     },
     "execution_count": 12,
     "metadata": {},
     "output_type": "execute_result"
    }
   ],
   "source": [
    "materie = ['matematica','inglese','italiano','storia']\n",
    "voti_per_materia = {materia: [] for materia in materie}\n",
    "\n",
    "voti_per_materia"
   ]
  },
  {
   "cell_type": "code",
   "execution_count": 14,
   "metadata": {},
   "outputs": [
    {
     "name": "stdout",
     "output_type": "stream",
     "text": [
      "matematica\n",
      "inglese\n",
      "italiano\n",
      "storia\n"
     ]
    }
   ],
   "source": [
    "for materia in materie:\n",
    "    print(materia)"
   ]
  },
  {
   "cell_type": "code",
   "execution_count": 13,
   "metadata": {},
   "outputs": [
    {
     "name": "stdout",
     "output_type": "stream",
     "text": [
      "matematica\n",
      "inglese\n",
      "italiano\n",
      "storia\n"
     ]
    }
   ],
   "source": [
    "for materia in voti_per_materia:\n",
    "    print(materia)"
   ]
  },
  {
   "cell_type": "markdown",
   "metadata": {},
   "source": [
    "## Modulo `datetime`"
   ]
  },
  {
   "cell_type": "markdown",
   "metadata": {},
   "source": [
    "### `datetime.date`"
   ]
  },
  {
   "cell_type": "code",
   "execution_count": null,
   "metadata": {},
   "outputs": [],
   "source": [
    "from datetime import datetime\n",
    "\n",
    "from datetime import date"
   ]
  },
  {
   "cell_type": "markdown",
   "metadata": {},
   "source": [
    "Dentro il modulo `datetime` ci sono 2 oggetti:\n",
    "\n",
    "- `datetime` &rarr; data + ora\n",
    "- `date` &rarr; data\n",
    "\n",
    "```text\n",
    "datetime.\n",
    "         .datetime\n",
    "         .date\n",
    "```"
   ]
  },
  {
   "cell_type": "code",
   "execution_count": 15,
   "metadata": {},
   "outputs": [
    {
     "name": "stdout",
     "output_type": "stream",
     "text": [
      "Data odierna: 2024-04-17\n",
      "Giorno: 17\n",
      "Mese: 4\n",
      "Anno: 2024\n"
     ]
    }
   ],
   "source": [
    "import datetime\n",
    "\n",
    "# Ottiene la data corrente\n",
    "oggi = datetime.date.today()\n",
    "\n",
    "# Estrae giorno, mese e anno\n",
    "giorno = oggi.day\n",
    "mese = oggi.month\n",
    "anno = oggi.year\n",
    "\n",
    "# Stampa i risultati\n",
    "print(\"Data odierna:\", oggi)\n",
    "print(\"Giorno:\", giorno)\n",
    "print(\"Mese:\", mese)\n",
    "print(\"Anno:\", anno)\n"
   ]
  },
  {
   "cell_type": "markdown",
   "metadata": {},
   "source": [
    "### `datetime.datetime`"
   ]
  },
  {
   "cell_type": "code",
   "execution_count": 16,
   "metadata": {},
   "outputs": [
    {
     "name": "stdout",
     "output_type": "stream",
     "text": [
      "Data e ora odierna: 2024-04-17 21:15:57.491402\n",
      "Giorno: 17\n",
      "Mese: 4\n",
      "Anno: 2024\n"
     ]
    }
   ],
   "source": [
    "import datetime\n",
    "\n",
    "# Ottiene la data e l'ora correnti\n",
    "adesso = datetime.datetime.now()\n",
    "\n",
    "# Estrae giorno, mese e anno\n",
    "giorno = adesso.day\n",
    "mese = adesso.month\n",
    "anno = adesso.year\n",
    "\n",
    "# Stampa i risultati\n",
    "print(\"Data e ora odierna:\", adesso)\n",
    "print(\"Giorno:\", giorno)\n",
    "print(\"Mese:\", mese)\n",
    "print(\"Anno:\", anno)\n"
   ]
  }
 ],
 "metadata": {
  "kernelspec": {
   "display_name": ".venv",
   "language": "python",
   "name": "python3"
  },
  "language_info": {
   "codemirror_mode": {
    "name": "ipython",
    "version": 3
   },
   "file_extension": ".py",
   "mimetype": "text/x-python",
   "name": "python",
   "nbconvert_exporter": "python",
   "pygments_lexer": "ipython3",
   "version": "3.11.2"
  }
 },
 "nbformat": 4,
 "nbformat_minor": 2
}
