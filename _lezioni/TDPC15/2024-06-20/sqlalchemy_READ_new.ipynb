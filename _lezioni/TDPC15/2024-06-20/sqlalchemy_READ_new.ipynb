{
 "cells": [
  {
   "cell_type": "markdown",
   "id": "13f2743f",
   "metadata": {
    "is_toc": true
   },
   "source": [
    "**Sommario**\n",
    "\n",
    "- [Query di selezione con Flask-SQLAlchemy](#query-di-selezione-con-flask-sqlalchemy)\n",
    "  - [Nuova API con `db.session.execute(select(...))`](#nuova-api-con-dbsessionexecuteselect)\n",
    "    - [`db.session.get()`: una riga della tabella in base alla chiave primaria](#dbsessionget-una-riga-della-tabella-in-base-alla-chiave-primaria)\n",
    "    - [`select()`: ottenere un oggetto `Select`](#select-ottenere-un-oggetto-select)\n",
    "    - [`db.session.execute(select())`: ottenere un oggetto `Result`](#dbsessionexecuteselect-ottenere-un-oggetto-result)\n",
    "    - [`Result.scalars().all()`: tutti i risultati](#resultscalarsall-tutti-i-risultati)\n",
    "    - [`Result.scalar()`: solo il primo risultato](#resultscalar-solo-il-primo-risultato)\n",
    "    - [`Result.scalar_one()`: solo un risultato](#resultscalar_one-solo-un-risultato)\n",
    "    - [`select().limit()`: numero di risultati limitato a una quantità specificata](#selectlimit-numero-di-risultati-limitato-a-una-quantit%C3%A0-specificata)\n",
    "    - [`select().filter_by()`: risultati filtrati basandosi su parametri chiave-valore](#selectfilter_by-risultati-filtrati-basandosi-su-parametri-chiave-valore)\n",
    "    - [`select().where()`: risultati filtrati basandosi su una condizione specificata](#selectwhere-risultati-filtrati-basandosi-su-una-condizione-specificata)\n",
    "    - [`select().order_by()`: risultati ordinati in base a uno o più criteri](#selectorder_by-risultati-ordinati-in-base-a-uno-o-pi%C3%B9-criteri)\n",
    "    - [`select(func.count())`: numero di risultati](#selectfunccount-numero-di-risultati)\n",
    "    - [`select().distinct()`: risultati distinti senza duplicati](#selectdistinct-risultati-distinti-senza-duplicati)\n",
    "    - [`select().join()`: INNER JOIN tra tabelle](#selectjoin-inner-join-tra-tabelle)\n",
    "    - [`select().outerjoin()`: OUTER JOIN tra tabelle](#selectouterjoin-outer-join-tra-tabelle)\n",
    "  - [Oggetti *Model*, `Row` e \"valori scalari\"](#oggetti-model-row-e-valori-scalari)\n",
    "    - [Oggetti *Model* per rappresentare un record del modello ORM](#oggetti-model-per-rappresentare-un-record-del-modello-orm)\n",
    "    - [Oggetti `Row` per rappresentare le righe di una query](#oggetti-row-per-rappresentare-le-righe-di-una-query)\n",
    "    - [`Result.scalars()` e `Result.scalar()`: risultati come valori scalari](#resultscalars-e-resultscalar-risultati-come-valori-scalari)\n",
    "    - [Scalare Vs `Row`](#scalare-vs-row)\n",
    "    - [`Row` con Model](#row-con-model)"
   ]
  },
  {
   "cell_type": "markdown",
   "metadata": {},
   "source": [
    "# Query di selezione con Flask-SQLAlchemy"
   ]
  },
  {
   "cell_type": "markdown",
   "metadata": {},
   "source": [
    "## Nuova API con `db.session.execute(select(...))`\n",
    "\n",
    "La nuova sintassi per le query è stata introdotta con SQLAlchemy 2.0.\n",
    "\n",
    "Leggi la [guida per la migrazione dalle vecchie API alle nuove](https://docs.sqlalchemy.org/en/20/changelog/migration_20.html#migration-20-query-usage).\n",
    "\n",
    "Per approfondire: [Nuove Select API nella documentazione ufficiale](https://docs.sqlalchemy.org/en/20/core/selectable.html)."
   ]
  },
  {
   "cell_type": "markdown",
   "metadata": {},
   "source": [
    "### `db.session.get()`: una riga della tabella in base alla chiave primaria\n",
    "\n",
    "```python\n",
    "from myapp import db\n",
    "from myapp.models import User\n",
    "\n",
    "user = db.session.get(User, 1)\n",
    "```\n",
    "\n",
    "OUTPUT: Restituisce l'oggetto `User` con la chiave primaria uguale a 1. Se non esiste, restituisce `None`."
   ]
  },
  {
   "cell_type": "markdown",
   "metadata": {},
   "source": [
    "### `select()`: ottenere un oggetto `Select`\n",
    "\n",
    "La funzione select() è un costruttore fornito da SQLAlchemy per creare un'istruzione SQL `SELECT`. Questa funzione viene utilizzata per costruire query che selezionano dati da una o più tabelle.\n",
    "\n",
    "OUTPUT: Restituisce un oggetto `Select` che può essere ulteriormente modificato concatenandovi altri metodi e poi eseguito con `db.session.execute()` per ottenere i risultati (`Result`) desiderati."
   ]
  },
  {
   "cell_type": "markdown",
   "metadata": {},
   "source": [
    "### `db.session.execute(select())`: ottenere un oggetto `Result`\n",
    "\n",
    "Il metodo `.execute()` di `db.session` consente di eseguire istruzioni SQL arbitrarie. Può essere utilizzato per eseguire query di selezione, aggiornamento, cancellazione e inserimento direttamente nel database. \n",
    "\n",
    "OUTPUT: Restituisce un oggetto `Result`, che è un contenitore per i risultati della query eseguita. Questo oggetto fornisce vari metodi per accedere ai risultati in modi diversi, come `.all()`, `.first()`, `.scalars()`, `.scalar()` e `.scalar_one()`.\n",
    "\n",
    "Vedi le [Session API](https://docs.sqlalchemy.org/en/20/orm/session_api.html) per approfondire."
   ]
  },
  {
   "cell_type": "markdown",
   "metadata": {},
   "source": [
    "Per eseguire query di selezione dobbiamo passare un oggetto `Select` (creato con il costruttore `select()`) a `db.session.execute()` ed ottenere così un oggetto `Result`:\n",
    "\n",
    "```python\n",
    "from sqlalchemy import select\n",
    "from myapp import db\n",
    "from myapp.models import User\n",
    "\n",
    "# Costruisce una query di selezione\n",
    "stmt = select(User).where(User.age > 18)  # Select object\n",
    "\n",
    "# Esegui la query\n",
    "result = db.session.execute(stmt)  # Result object\n",
    "```\n",
    "\n",
    "> *NOTA*: `stmt` è una abbreviazione convenzionale per \"*statement*\" (istruzione) nel contesto della programmazione SQL."
   ]
  },
  {
   "cell_type": "markdown",
   "metadata": {},
   "source": [
    "### `Result.scalars().all()`: tutti i risultati\n",
    "\n",
    "```python\n",
    "from sqlalchemy import select\n",
    "from myapp import db\n",
    "from myapp.models import User\n",
    "\n",
    "stmt = select(User)  # SELECT * FROM user\n",
    "result = db.session.execute(stmt).scalars().all()\n",
    "```\n",
    "\n",
    "OUTPUT: Restituisce una lista di oggetti `User` contenenti tutte le righe della tabella `User`."
   ]
  },
  {
   "cell_type": "markdown",
   "metadata": {},
   "source": [
    "### `Result.scalar()`: solo il primo risultato\n",
    "\n",
    "```python\n",
    "from sqlalchemy import select\n",
    "from myapp import db\n",
    "from myapp.models import User\n",
    "\n",
    "stmt = select(User)  # SELECT * FROM user\n",
    "result = db.session.execute(stmt).scalar()\n",
    "# equivalente a\n",
    "result = db.session.execute(stmt).scalars().first()\n",
    "```\n",
    "\n",
    "OUTPUT: Restituisce il primo oggetto `User` della tabella `User`. Se la tabella è vuota, restituisce `None`."
   ]
  },
  {
   "cell_type": "markdown",
   "metadata": {},
   "source": [
    "### `Result.scalar_one()`: solo un risultato\n",
    "\n",
    "```python\n",
    "from sqlalchemy import select\n",
    "from myapp import db\n",
    "from myapp.models import User\n",
    "\n",
    "stmt = select(User)  # SELECT * FROM user\n",
    "result = db.session.execute(stmt).scalar_one()\n",
    "# equivalente a\n",
    "result = db.session.execute(stmt).scalars().one()\n",
    "```\n",
    "\n",
    "OUTPUT: Se la tabella `User` contiene una sola riga la restituisce, altrimenti solleva un errore sia se ci sono più ricghe sia se non ce ne sono."
   ]
  },
  {
   "cell_type": "markdown",
   "metadata": {},
   "source": [
    "### `select().limit()`: numero di risultati limitato a una quantità specificata\n",
    "\n",
    "```python\n",
    "from sqlalchemy import select\n",
    "from myapp import db\n",
    "from myapp.models import User\n",
    "\n",
    "stmt = select(User).limit(10)\n",
    "result = db.session.execute(stmt).scalars().all()\n",
    "```\n",
    "OUTPUT: Restituisce una lista di al massimo 10 oggetti `User`."
   ]
  },
  {
   "cell_type": "markdown",
   "metadata": {},
   "source": [
    "### `select().filter_by()`: risultati filtrati basandosi su parametri chiave-valore\n",
    "\n",
    "```python\n",
    "from sqlalchemy import select\n",
    "from myapp import db\n",
    "from myapp.models import User\n",
    "\n",
    "stmt = select(User).filter_by(name='Alice')\n",
    "result = db.session.execute(stmt).scalars().all()\n",
    "```\n",
    "\n",
    "OUTPUT: Restituisce una lista di oggetti `User` che hanno il nome 'Alice'."
   ]
  },
  {
   "cell_type": "markdown",
   "metadata": {},
   "source": [
    "### `select().where()`: risultati filtrati basandosi su una condizione specificata\n",
    "\n",
    "```python\n",
    "from sqlalchemy import select\n",
    "from myapp import db\n",
    "from myapp.models import User\n",
    "\n",
    "stmt = select(User).where(User.age > 18)\n",
    "result = db.session.execute(stmt).scalars().all()\n",
    "```\n",
    "\n",
    "OUTPUT: Restituisce una lista di oggetti `User` che soddisfano la condizione specificata (in questo caso, utenti con età superiore a 18)."
   ]
  },
  {
   "cell_type": "markdown",
   "metadata": {},
   "source": [
    "### `select().order_by()`: risultati ordinati in base a uno o più criteri\n",
    "\n",
    "```python\n",
    "from sqlalchemy import select\n",
    "from myapp import db\n",
    "from myapp.models import User\n",
    "\n",
    "stmt = select(User).order_by(User.name)\n",
    "result = db.session.execute(stmt).scalars().all()\n",
    "```\n",
    "\n",
    "OUTPUT: Restituisce una lista di oggetti `User` ordinati per nome in ordine crescente."
   ]
  },
  {
   "cell_type": "markdown",
   "metadata": {},
   "source": [
    "### `select(func.count())`: numero di risultati\n",
    "\n",
    "```python\n",
    "from sqlalchemy import select, func\n",
    "from myapp import db\n",
    "from myapp.models import User\n",
    "\n",
    "stmt = select(func.count(User.id)).where(User.age > 18)\n",
    "result = db.session.execute(stmt).scalar()\n",
    "```\n",
    "\n",
    "OUTPUT: Restituisce un numero intero rappresentante il conteggio degli utenti con età superiore a 18."
   ]
  },
  {
   "cell_type": "markdown",
   "metadata": {},
   "source": [
    "### `select().distinct()`: risultati distinti senza duplicati\n",
    "\n",
    "```python\n",
    "from sqlalchemy import select\n",
    "from myapp import db\n",
    "from myapp.models import User\n",
    "\n",
    "stmt = select(User.name).distinct()\n",
    "result = db.session.execute(stmt).scalars().all()\n",
    "```\n",
    "\n",
    "OUTPUT: Restituisce una lista di nomi distinti degli utenti."
   ]
  },
  {
   "cell_type": "markdown",
   "metadata": {},
   "source": [
    "### `select().join()`: INNER JOIN tra tabelle\n",
    "\n",
    "```python\n",
    "from sqlalchemy import select\n",
    "from myapp import db\n",
    "from myapp.models import User, Post\n",
    "\n",
    "stmt = select(User, Post).join(Post, User.id == Post.user_id)\n",
    "result = db.session.execute(stmt).all()\n",
    "```\n",
    "\n",
    "OUTPUT: Restituisce una lista di tuple contenenti oggetti `User` e `Post` uniti tramite la condizione specificata."
   ]
  },
  {
   "cell_type": "markdown",
   "metadata": {},
   "source": [
    "### `select().outerjoin()`: OUTER JOIN tra tabelle\n",
    "\n",
    "```python\n",
    "from sqlalchemy import select\n",
    "from myapp import db\n",
    "from myapp.models import User, Post\n",
    "\n",
    "stmt = select(User, Post).outerjoin(Post, User.id == Post.user_id)\n",
    "result = db.session.execute(stmt).all()\n",
    "```\n",
    "\n",
    "OUTPUT: Restituisce una lista di tuple contenenti oggetti `User` e `Post` uniti tramite una `LEFT OUTER JOIN`, secondo la condizione specificata. Se un utente non ha post corrispondenti, le colonne della tabella `Post` saranno `NULL`.\n",
    "\n",
    "> **NOTA BENE**: La `LEFT OUTER JOIN` mostra tutte le righe della tabella di sinistra (`User`), e le righe corrispondenti della tabella di destra (`Post`). Se non ci sono corrispondenze, le colonne della tabella di destra saranno `NULL`."
   ]
  },
  {
   "cell_type": "markdown",
   "metadata": {},
   "source": [
    "## Oggetti *Model*, `Row` e \"valori scalari\""
   ]
  },
  {
   "cell_type": "markdown",
   "metadata": {},
   "source": [
    "### Oggetti *Model* per rappresentare un record del modello ORM\n",
    "\n",
    "Gli oggetti *Model* sono istanze delle classi definite nel modello ORM (Object-Relational Mapping) che ereditano la metaclasse `db.Model`.\n",
    "\n",
    "Queste classi mappano direttamente alle tabelle del database e forniscono un'interfaccia orientata agli oggetti per interagire con i dati. Inoltre espongono i metodi implementati nella classe.\n",
    "\n",
    "I valori delle colonne di un oggetto Model sono accessibili come attributi in dot.notation.\n",
    "\n",
    "Ideali per applicazioni che beneficiano di un'interfaccia orientata agli oggetti, logiche di business e relazioni tra tabelle."
   ]
  },
  {
   "cell_type": "markdown",
   "metadata": {},
   "source": [
    "### Oggetti `Row` per rappresentare le righe di una query\n",
    "\n",
    "Gli oggetti `Row` (di tipo `sqlalchemy.engine.row.Row`) rappresentano singole righe dei risultati di una query eseguita direttamente sul database. \n",
    "\n",
    "L'oggetto `Row` quando viene stampato è rappresentato come una tupla di valori.\n",
    "\n",
    "I valori di un oggetto `Row` sono accessibili tramite indici o attributi in dot.notation.\n",
    "\n",
    "Utili per operazioni semplici, accesso rapido ai dati e quando la performance è una priorità.\n"
   ]
  },
  {
   "cell_type": "markdown",
   "metadata": {},
   "source": [
    "### `Result.scalars()` e `Result.scalar()`: risultati come valori scalari\n",
    "\n",
    "Dopo aver eseguito la query con `db.session.execute()` otteniamo un oggetto `Result`. Solitamente volgliamo estrarre i risultati dall'oggetto `Result` ottenuto, in modo da ottenere una lista con gli oggetti o i valori richiesti.\n",
    "\n",
    "Se si desidera ottenere una lista di valori scalari (singoli) anziché una lista di tuple (oggetti `Row`) con un singolo elemento, la nuova API per le query richiede di passare i risultati attraverso il metodo `.scalars()` prima di applicare `.all()` e altri metodi simili:\n",
    "\n",
    "- `Result.all()` restituisce una lista di tuple (`Row`);\n",
    "- `Result.scalars().all()` restituisce una lista di valori scalari.\n",
    "\n",
    "Se invece si vuole ottenere la prima riga oppure `None` in caso non ci siano risultati, possiamo usare:\n",
    "\n",
    "- `Result.first()` restituisce la prima riga come singola tupla (`Row`) o `None`;\n",
    "- `Result.scalars().first()` restituisce la prima riga come singolo valore scalare o `None`;\n",
    "- `Result.scalar()` restituisce la prima riga come singolo valore scalare o `None`.\n",
    "\n",
    "Se infine si vuole ottenere e verificare la presenza di una e un sola riga, possiamo usare:\n",
    "\n",
    "- `Result.one()` restituisce una singola tupla (`Row`);\n",
    "- `Result.scalars().one()` restituisce un singolo valore scalare;\n",
    "- `Result.scalar_one()` restituisce un singolo valore scalare.\n",
    "\n",
    "> **ATTENZIONE**: `.scalars()`, `.scalar()` e `.scalar_one()` hanno senso solo se in `select()` si è selezionato l'intero modello o una singola colonna. Se in `select()` vengono passate più colonne, restituirà solamente i valori appartenenti alla prima colonna!\n",
    "\n",
    "> **NOTA**: In questo contesto, un _**valore scalare**_ si riferisce a un singolo valore/oggetto elementare estratto dai risultati di una query. Questo è in contrasto con l'oggetto `Row` che è simile a una tupla di valori (accessibili tramite indici o attributi in dot.notation), che è considerata un oggetto non scalare."
   ]
  },
  {
   "cell_type": "markdown",
   "metadata": {},
   "source": [
    "### Scalare Vs `Row`\n",
    "\n",
    "Se abbiamo questa tabella `User`:\n",
    "\n",
    "| id | name  | surname  | age |\n",
    "|----|-------|----------|-----|\n",
    "| 1  | Alice | Simpson  | 30  |\n",
    "| 2  | Bob   | Smith    | 25  |\n",
    "| 3  | Carol | Tyler    | 22  |\n",
    "\n",
    "```python\n",
    "stmt = select(User.name, User.surname, User.age)  # Select\n",
    "result = db.session.execute(stmt)  # Result\n",
    "\n",
    "result.all()         # list of Row : [('Alice', 'Simpson', 30),\n",
    "                     #                ('Bob', 'Smith', 25),\n",
    "                     #                ('Carol', 'Tyler', 22)]\n",
    "result.all()[0]      #  Row : ('Alice', 'Simpson', 30)\n",
    "result.all()[0][2]   #  int : 30\n",
    "result.all()[0].age  #  int : 30\n",
    "\n",
    "result.scalars().all()  # list of str : ['Alice', 'Bob', 'Carol']\n",
    "\n",
    "result.first()      # one Row or None : ('Alice', 'Simpson', 30)\n",
    "result.first()[2]   # int : 30\n",
    "result.first().age  # int : 30\n",
    "\n",
    "result.scalar()  # string or None : 'Alice'\n",
    "\n",
    "result.one()  # Row or error : ('Alice', 'Simpson', 30)\n",
    "\n",
    "result.scalar_one()  # string or error : 'Alice'\n",
    "```"
   ]
  },
  {
   "cell_type": "markdown",
   "metadata": {},
   "source": [
    "### `Row` con Model\n",
    "\n",
    "Se selezioniamo l'intero oggetto Model con `select(User)` anziché specificare i nomi delle colonne, i risultati conterranno direttamente gli oggetti Model all'interno delle `Row`.\n",
    "\n",
    "Veriamo alcuni esempi per provare a capire un po' meglio. Usiamo sempre la stessa tabella `User`:\n",
    "\n",
    "| id | name  | surname  | age |\n",
    "|----|-------|----------|-----|\n",
    "| 1  | Alice | Simpson  | 30  |\n",
    "| 2  | Bob   | Smith    | 25  |\n",
    "| 3  | Carol | Tyler    | 22  |\n",
    "\n",
    "```python\n",
    "stmt = select(User)  # Select\n",
    "result = db.session.execute(stmt)  # Result\n",
    "\n",
    "result.all()            # list of Row : [(<User 1>,), (<User 2>,), (<User 3>,)]\n",
    "result.all()[0]         # Row : (<User 1>,)\n",
    "result.all()[0][0]      # Model : <User 1>\n",
    "result.all()[0][0].age  # int : 30\n",
    "\n",
    "result.scalars().all()  # list of Model : [<User 1>, <User 2>, <User 3>]\n",
    "\n",
    "result.first()     # Row or None : (<User 1>,)\n",
    "result.first()[0]  # Model : <User 1>\n",
    "\n",
    "result.scalar()  # Model or None : <User 1>\n",
    "\n",
    "result.one()  # Row or error : (<User 1>,)\n",
    "\n",
    "result.scalar_one()  # Model or error : <User 1>"
   ]
  }
 ],
 "metadata": {
  "kernelspec": {
   "display_name": ".venv",
   "language": "python",
   "name": "python3"
  },
  "language_info": {
   "name": "python",
   "version": "3.10.1"
  }
 },
 "nbformat": 4,
 "nbformat_minor": 2
}
