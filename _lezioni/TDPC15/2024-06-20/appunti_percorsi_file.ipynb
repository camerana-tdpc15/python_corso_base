{
 "cells": [
  {
   "cell_type": "markdown",
   "id": "e9cb9903",
   "metadata": {
    "is_toc": true
   },
   "source": [
    "**Sommario**\n",
    "\n",
    "  - [Accesso ai file con Python](#accesso-ai-file-con-python)\n",
    "    - [Percorsi ai File](#percorsi-ai-file)\n",
    "    - [La Funzione `open()`](#la-funzione-open)\n",
    "    - [Esercitazione: accesso e gestione del file che memorizza i dati](#esercitazione-accesso-e-gestione-del-file-che-memorizza-i-dati)\n",
    "    - [Approfondimenti sui file](#approfondimenti-sui-file)\n",
    "  - [Invio delle righe del file come JSON](#invio-delle-righe-del-file-come-json)"
   ]
  },
  {
   "cell_type": "markdown",
   "metadata": {},
   "source": [
    "## Accesso ai file con Python\n",
    "\n",
    "Per affrontare l'esercitazione proposta oggi, è fondamentale che siano chiari alcuni concetti di base sull'accesso ai file con Python e sull'uso della funzione `open()`. Ecco le principali cose che devi sapere."
   ]
  },
  {
   "cell_type": "markdown",
   "metadata": {},
   "source": [
    "### Percorsi ai File\n",
    "\n",
    "1. **Percorso Assoluto**:\n",
    "   - Un percorso assoluto è l'indirizzo completo di un file sul sistema operativo, a partire dalla radice (es. `C:\\Users\\NomeUtente\\Documenti\\file.txt` su Windows o `/home/NomeUtente/Documenti/file.txt` su Linux).\n",
    "   \n",
    "2. **Percorso Relativo**:\n",
    "   - Un percorso relativo è l'indirizzo di un file relativo alla posizione corrente del programma. Ad esempio, se il tuo script si trova in `/home/NomeUtente/Progetti`, un percorso relativo come `../Documenti/file.txt` ti porterà a `/home/NomeUtente/Documenti/file.txt`.\n",
    "\n",
    "3. **Uso di `os.path`**:\n",
    "   - La libreria `os.path` di Python offre metodi per manipolare i percorsi dei file in modo cross-platform, rendendo il codice portabile tra diversi sistemi operativi.\n",
    "   - Esempio:\n",
    "     ```python\n",
    "     import os\n",
    "     BASE_DIR_PATH = os.path.abspath(os.path.dirname(__file__))\n",
    "     MIO_FILE_PATH = os.path.join(BASE_DIR_PATH, 'mio_file.txt')\n",
    "     ```\n",
    "   - `os.path.abspath()` converte un percorso in un percorso assoluto.\n",
    "   - `os.path.dirname(__file__)` restituisce la directory del file `.py` corrente.\n",
    "   - `os.path.join()` combina correttamente più parti di un percorso di file.\n",
    "\n"
   ]
  },
  {
   "cell_type": "markdown",
   "metadata": {},
   "source": [
    "### La Funzione `open()`\n",
    "\n",
    "La funzione `open()` in Python viene utilizzata per aprire un file. Ecco come usarla:\n",
    "\n",
    "```python\n",
    "open(file, mode='r', encoding='utf-8')\n",
    "```\n",
    "\n",
    "- `file`: il percorso del file da aprire.\n",
    "\n",
    "- `mode`: la modalità in cui aprire il file. Le più comuni sono:\n",
    "    - `'r'`: Lettura. Il file deve esistere.\n",
    "    - `'w'`: Scrittura. Crea un nuovo file o sovrascrive se esiste.\n",
    "    - `'a'`: Aggiunta. Aggiunge al file se esiste, altrimenti lo crea.\n",
    "\n",
    "- `encoding`: la codifica da usare per la lettura o scrittura del file. Di solito usare `'utf-0'` o `latin-1`.\n",
    "\n",
    "Ecco alcuni esempi:\n",
    "\n",
    "> **NOTA**: Usando `with open`, il file viene automaticamente chiuso quando si esce dal blocco `with`.\n",
    "\n",
    "- **Lettura**:\n",
    "    ```python\n",
    "    with open('mio_file.txt', mode='r', encoding='utf-8') as file:\n",
    "        righe = file.readlines()\n",
    "    ```\n",
    "    Usando il metodo `.readlines()` otteniamo una lista i cui elementi sono le righe del nostro file.\n",
    "\n",
    "- **Scrittura**:\n",
    "    ```python\n",
    "    with open('mio_file.txt', mode='w', encoding='utf-8') as file:\n",
    "        file.write('Nuovo messaggio\\n')\n",
    "    ```\n",
    "    La modalità `'w'` sovrascrive il contenuto precedente del file.\n",
    "\n",
    "- **Aggiunta**:\n",
    "    ```python\n",
    "    with open('guestbook.txt', mode='a', encoding='utf-8') as file:\n",
    "        file.write('Messaggio aggiuntivo\\n')\n",
    "    ```\n",
    "    La modalità `'a'` aggiunge nuovi dati al fondo del file, senza sovrascriverlo."
   ]
  },
  {
   "cell_type": "markdown",
   "metadata": {},
   "source": [
    "### Esercitazione: accesso e gestione del file che memorizza i dati\n",
    "\n",
    "Nell'esercitazione proposta è previsto l'uso delle funzioni di lettura e scrittura su file per gestire un guestbook. Ecco i passaggi rilevanti:\n",
    "\n",
    "1. **Ottenere il percorso assoluto al file**:\n",
    "\n",
    "    ```python\n",
    "    import os\n",
    "    BASE_DIR_PATH = os.path.abspath(os.path.dirname(__file__))\n",
    "    MIO_FILE_PATH = os.path.join(BASE_DIR_PATH, 'mio_file.txt')\n",
    "    ```\n",
    "   In questo modo mi assicuro che da qualunque posizione io esegua il file `app.py`, il file di testo si troverà sempre nella stessa cartella del file `app.py`.\n",
    "\n",
    "2. **Lettura dei messaggi come lista di righe**:\n",
    "    ```python\n",
    "    if os.path.exists(MIO_FILE_PATH):\n",
    "        with open(MIO_FILE_PATH, mode='r', encoding='utf-8') as file:\n",
    "            messages = file.readlines()\n",
    "    ```\n",
    "   Verifica se il file esiste e poi legge tutte le linee e le restituisce sotto forma di **lista di stringhe**.\n",
    "\n",
    "3. **Scrittura di un nuovo messaggio su una nuova riga**:\n",
    "    ```python\n",
    "    with open(MIO_FILE_PATH, mode='a', encoding='utf-8') as file:\n",
    "        file.write(f'Questa è una riga che verrà aggiunta al file.\\n')  # <<-- \\n !!\n",
    "    ```\n",
    "    Aggiunge una nuova riga al file con il testo fornito.\n",
    "    \n",
    "    **ATTENZIONE**: Bisogna ricordarsi di aggiungere `\\n` come ultimo carattere della riga, altrimenti l'inserimento successivo non sarà posizionato su una nuova riga ma continuerà sulla stessa riga.\n"
   ]
  },
  {
   "cell_type": "markdown",
   "metadata": {},
   "source": [
    "### Approfondimenti sui file\n",
    "\n",
    "- Notebook [07_python_files.ipynb](../../../07_python_files.ipynb)\n",
    "\n",
    "- Notebook [L_files.ipynb](../../../L_files.ipynb)"
   ]
  },
  {
   "cell_type": "markdown",
   "metadata": {},
   "source": [
    "## Invio delle righe del file come JSON\n",
    "\n",
    "```python\n",
    "from flask import Flask, jsonify, ...\n",
    "\n",
    "# Lettura dei messaggi da file come visto prima. Ad esempio otteniamo questa lista:\n",
    "messaggi = ['pippo: Ciao a tutti!', 'mimmo: Bel sito!', 'pluto: Grazie di tutto!']\n",
    "\n",
    "... # Inverte l'ordine della lista in modo da avere gli ultimi messaggi per primi.\n",
    "    # (cercate voi come fare!)\n",
    "\n",
    "risposta = jsonify(messages)\n",
    "\n",
    "# Ora puoi restituire al client la risposta\n",
    "```\n"
   ]
  }
 ],
 "metadata": {
  "kernelspec": {
   "display_name": ".venv",
   "language": "python",
   "name": "python3"
  },
  "language_info": {
   "name": "python",
   "version": "3.10.0"
  }
 },
 "nbformat": 4,
 "nbformat_minor": 2
}
