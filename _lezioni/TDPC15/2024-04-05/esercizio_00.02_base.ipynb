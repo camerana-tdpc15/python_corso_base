{
 "cells": [
  {
   "cell_type": "markdown",
   "metadata": {},
   "source": [
    "# Esercizi introduttivi"
   ]
  },
  {
   "cell_type": "markdown",
   "metadata": {},
   "source": [
    "TEMI TRATTATI:\n",
    "\n",
    "- Creazione ed esecuzione di semplici programmi (script).\n",
    "- Stampare a monitor."
   ]
  },
  {
   "cell_type": "markdown",
   "metadata": {},
   "source": [
    "NOTE SULLO SVOLGIMENTO:\n",
    "- Puoi svolgere ed eseguire gli esercizi direttamente qua su questo notebook oppure su un normale file di script Python con estensione `.py`, eseguendolo nel terminale del sistema operativo con il comando `py mio_esercizio.py` (Windows) oppure `python3 mio_esercizio.py` (Linux o macOS)."
   ]
  },
  {
   "cell_type": "markdown",
   "metadata": {},
   "source": [
    "## Esercizio 1: Stampare una somma\n",
    "\n",
    "Obiettivo: Scrivere un programma che stampi la somma dei primi 10 numeri interi positivi.\n",
    "\n",
    "```\n",
    "1 + 2 + ... + 10\n",
    "```\n",
    "\n",
    "Output atteso:\n",
    "\n",
    "```\n",
    "La somma dei primi 10 interi è pari a: ...\n",
    "```"
   ]
  },
  {
   "cell_type": "code",
   "execution_count": 1,
   "metadata": {},
   "outputs": [
    {
     "name": "stdout",
     "output_type": "stream",
     "text": [
      "La somma dei primi 10 interi è pari a: 55\n"
     ]
    }
   ],
   "source": [
    "# Scrivi qua il tuo codice\n",
    "\n",
    "somma = 1 + 2 + 3 + 4 + 5 + 6 + 7 + 8 + 9 + 10\n",
    "\n",
    "print('La somma dei primi 10 interi è pari a:', somma)"
   ]
  },
  {
   "cell_type": "code",
   "execution_count": 4,
   "metadata": {},
   "outputs": [
    {
     "name": "stdout",
     "output_type": "stream",
     "text": [
      "La somma dei primi 10 interi è pari a: 55\n"
     ]
    }
   ],
   "source": [
    "somma = 0\n",
    "\n",
    "for n in range(1, 11):\n",
    "    # somma = somma + n\n",
    "    somma += n\n",
    "\n",
    "print('La somma dei primi 10 interi è pari a:', somma)"
   ]
  },
  {
   "cell_type": "code",
   "execution_count": 5,
   "metadata": {},
   "outputs": [
    {
     "name": "stdout",
     "output_type": "stream",
     "text": [
      "La somma dei primi 10 interi è pari a: 55\n"
     ]
    }
   ],
   "source": [
    "numeri = [1, 2, 3, 4, 5, 6, 7, 8, 9, 10]\n",
    "# numeri = (1, 2, 3, 4, 5, 6, 7, 8, 9, 10)\n",
    "\n",
    "somma = sum(numeri)\n",
    "\n",
    "print('La somma dei primi 10 interi è pari a:', somma)"
   ]
  },
  {
   "cell_type": "code",
   "execution_count": 9,
   "metadata": {},
   "outputs": [
    {
     "name": "stdout",
     "output_type": "stream",
     "text": [
      "[0, 2, 4, 6, 8, 10]\n"
     ]
    }
   ],
   "source": [
    "print( list(range(0, 11, 2)) )"
   ]
  },
  {
   "cell_type": "code",
   "execution_count": 15,
   "metadata": {},
   "outputs": [
    {
     "name": "stdout",
     "output_type": "stream",
     "text": [
      "Il numero 33 è dispari.\n"
     ]
    }
   ],
   "source": [
    "mio_num = 33\n",
    "if mio_num % 2 == 0:\n",
    "    print(f'Il numero {mio_num} è pari.')\n",
    "else:\n",
    "    print(f'Il numero {mio_num} è dispari.')\n"
   ]
  },
  {
   "cell_type": "markdown",
   "metadata": {},
   "source": [
    "## Esercizio 2: Stampare un prodotto\n",
    "\n",
    "Obiettivo: Scrivere un programma che stampi il prodotto dei primi 10 numeri interi positivi.\n",
    "\n",
    "```\n",
    "1 * 2 * ... * 10\n",
    "```\n",
    "\n",
    "Output atteso:\n",
    "\n",
    "```\n",
    "Il prodotto dei primi 10 interi è pari a: ...\n",
    "```"
   ]
  },
  {
   "cell_type": "code",
   "execution_count": 16,
   "metadata": {},
   "outputs": [
    {
     "name": "stdout",
     "output_type": "stream",
     "text": [
      "Il prodotto dei primi 10 interi è pari a: 3628800\n"
     ]
    }
   ],
   "source": [
    "# Scrivi qua il tuo codice\n",
    "prodotto = 1\n",
    "\n",
    "for n in range(1, 11):\n",
    "    # prodotto = prodotto * n\n",
    "    prodotto *= n\n",
    "\n",
    "print('Il prodotto dei primi 10 interi è pari a:', prodotto)"
   ]
  },
  {
   "cell_type": "markdown",
   "metadata": {},
   "source": [
    "## Esercizio 3: Stampare una scritta con lettere grandi\n",
    "\n",
    "Obiettivo: Scrivere un programma che stampi una parola a propria scelta, con \"lettere grandi\". Questo genere di effetto può essere ottenuto tramite delle techiche che rientrano in quella che viene chiamata in gergo _**ASCII art**_ o _**computer text art**_.\n",
    "\n",
    "Puoi provare tu stesso a \"comporre\" una parola manualmente, oppure puoi usare un'applicazione apposita. Sul web ne potete trovare molte. Per esempio questa:\n",
    "\n",
    "[patorjk.com/software/taag](https://patorjk.com/software/taag/)\n",
    "\n",
    "> NOTA: Esistono anche implementazioni direttamente scritte in Python. Per esempio uno dei moduli più popolari è `art`:\n",
    "> \n",
    "> [pypi.org/project/art](https://pypi.org/project/art/)"
   ]
  },
  {
   "cell_type": "markdown",
   "metadata": {},
   "source": [
    "Usa la funzione `print` per stampare a monitor una parola a tua scelta.\n",
    "\n",
    "Ecco due esempi dell'output atteso:\n",
    "\n",
    "```text\n",
    " PPPPPP   Y     Y  TTTTTTT  H     H  OOOOOOO  N     N \n",
    " P     P    Y Y       T     H     H  O     O  N N   N \n",
    " PPPPPP      Y        T     HHHHHHH  O     O  N  N  N \n",
    " P           Y        T     H     H  O     O  N   N N \n",
    " P           Y        T     H     H  OOOOOOO  N     N \n",
    "\n",
    "\n",
    "########  ##    ## ######## ##     ##  #######  ##    ## \n",
    "##     ##  ##  ##     ##    ##     ## ##     ## ###   ## \n",
    "##     ##   ####      ##    ##     ## ##     ## ####  ## \n",
    "########     ##       ##    ######### ##     ## ## ## ## \n",
    "##           ##       ##    ##     ## ##     ## ##  #### \n",
    "##           ##       ##    ##     ## ##     ## ##   ### \n",
    "##           ##       ##    ##     ##  #######  ##    ## \n",
    "\n",
    "```"
   ]
  },
  {
   "cell_type": "code",
   "execution_count": 2,
   "metadata": {},
   "outputs": [
    {
     "name": "stdout",
     "output_type": "stream",
     "text": [
      "It isn`t in the section 'C:\\some\n",
      "ame_of_file'\n"
     ]
    }
   ],
   "source": [
    "print(\"It isn`t in the section 'C:\\\\some\\\\name_of_file'\")"
   ]
  },
  {
   "cell_type": "markdown",
   "metadata": {},
   "source": [
    "### Utilizzo delle stringhe multilinea"
   ]
  },
  {
   "cell_type": "code",
   "execution_count": 3,
   "metadata": {},
   "outputs": [
    {
     "name": "stdout",
     "output_type": "stream",
     "text": [
      "\n",
      " .----------------.  .----------------.  .----------------.  .----------------.  .----------------. \n",
      "| .--------------. || .--------------. || .--------------. || .--------------. || .--------------. |\n",
      "| |   ______     | || |     _____    | || |   ______     | || |   ______     | || |     ____     | |\n",
      "| |  |_   __ \\   | || |    |_   _|   | || |  |_   __ \\   | || |  |_   __ \\   | || |   .'    `.   | |\n",
      "| |    | |__) |  | || |      | |     | || |    | |__) |  | || |    | |__) |  | || |  /  .--.  \\  | |\n",
      "| |    |  ___/   | || |      | |     | || |    |  ___/   | || |    |  ___/   | || |  | |    | |  | |\n",
      "| |   _| |_      | || |     _| |_    | || |   _| |_      | || |   _| |_      | || |  \\  `--'  /  | |\n",
      "| |  |_____|     | || |    |_____|   | || |  |_____|     | || |  |_____|     | || |   `.____.'   | |\n",
      "| |              | || |              | || |              | || |              | || |              | |\n",
      "| '--------------' || '--------------' || '--------------' || '--------------' || '--------------' |\n",
      " '----------------'  '----------------'  '----------------'  '----------------'  '----------------' \n",
      "\n"
     ]
    }
   ],
   "source": [
    "# Scrivi qua il tuo codice\n",
    "\n",
    "print('''\n",
    " .----------------.  .----------------.  .----------------.  .----------------.  .----------------. \n",
    "| .--------------. || .--------------. || .--------------. || .--------------. || .--------------. |\n",
    "| |   ______     | || |     _____    | || |   ______     | || |   ______     | || |     ____     | |\n",
    "| |  |_   __ \\   | || |    |_   _|   | || |  |_   __ \\   | || |  |_   __ \\   | || |   .'    `.   | |\n",
    "| |    | |__) |  | || |      | |     | || |    | |__) |  | || |    | |__) |  | || |  /  .--.  \\  | |\n",
    "| |    |  ___/   | || |      | |     | || |    |  ___/   | || |    |  ___/   | || |  | |    | |  | |\n",
    "| |   _| |_      | || |     _| |_    | || |   _| |_      | || |   _| |_      | || |  \\  `--'  /  | |\n",
    "| |  |_____|     | || |    |_____|   | || |  |_____|     | || |  |_____|     | || |   `.____.'   | |\n",
    "| |              | || |              | || |              | || |              | || |              | |\n",
    "| '--------------' || '--------------' || '--------------' || '--------------' || '--------------' |\n",
    " '----------------'  '----------------'  '----------------'  '----------------'  '----------------' \n",
    "''')"
   ]
  },
  {
   "cell_type": "markdown",
   "metadata": {},
   "source": [
    "### Utilizzo di print multipli"
   ]
  },
  {
   "cell_type": "code",
   "execution_count": 4,
   "metadata": {},
   "outputs": [
    {
     "name": "stdout",
     "output_type": "stream",
     "text": [
      " .----------------.  .----------------.  .----------------.  .----------------.  .----------------. \n",
      "| .--------------. || .--------------. || .--------------. || .--------------. || .--------------. |\n",
      "| |   ______     | || |     _____    | || |   ______     | || |   ______     | || |     ____     | |\n",
      "| |  |_   __ \\   | || |    |_   _|   | || |  |_   __ \\   | || |  |_   __ \\   | || |   .'    `.   | |\n",
      "| |    | |__) |  | || |      | |     | || |    | |__) |  | || |    | |__) |  | || |  /  .--.  \\  | |\n",
      "| |    |  ___/   | || |      | |     | || |    |  ___/   | || |    |  ___/   | || |  | |    | |  | |\n",
      "| |   _| |_      | || |     _| |_    | || |   _| |_      | || |   _| |_      | || |  \\  `--'  /  | |\n",
      "| |  |_____|     | || |    |_____|   | || |  |_____|     | || |  |_____|     | || |   `.____.'   | |\n",
      "| |              | || |              | || |              | || |              | || |              | |\n",
      "| '--------------' || '--------------' || '--------------' || '--------------' || '--------------' |\n",
      " '----------------'  '----------------'  '----------------'  '----------------'  '----------------' \n"
     ]
    }
   ],
   "source": [
    "print(\" .----------------.  .----------------.  .----------------.  .----------------.  .----------------. \")\n",
    "print(\"| .--------------. || .--------------. || .--------------. || .--------------. || .--------------. |\")\n",
    "print(\"| |   ______     | || |     _____    | || |   ______     | || |   ______     | || |     ____     | |\")\n",
    "print(\"| |  |_   __ \\   | || |    |_   _|   | || |  |_   __ \\   | || |  |_   __ \\   | || |   .'    `.   | |\")\n",
    "print(\"| |    | |__) |  | || |      | |     | || |    | |__) |  | || |    | |__) |  | || |  /  .--.  \\  | |\")\n",
    "print(\"| |    |  ___/   | || |      | |     | || |    |  ___/   | || |    |  ___/   | || |  | |    | |  | |\")\n",
    "print(\"| |   _| |_      | || |     _| |_    | || |   _| |_      | || |   _| |_      | || |  \\  `--'  /  | |\")\n",
    "print(\"| |  |_____|     | || |    |_____|   | || |  |_____|     | || |  |_____|     | || |   `.____.'   | |\")\n",
    "print(\"| |              | || |              | || |              | || |              | || |              | |\")\n",
    "print(\"| '--------------' || '--------------' || '--------------' || '--------------' || '--------------' |\")\n",
    "print(\" '----------------'  '----------------'  '----------------'  '----------------'  '----------------' \")"
   ]
  },
  {
   "cell_type": "markdown",
   "metadata": {},
   "source": [
    "## Esercizio 4: Fare lo *spelling*\n",
    "\n",
    "Obiettivo: Scrivere un programma che stampi il vostro nome, in colonna.\n",
    "\n",
    "Esempio di output atteso:\n",
    "\n",
    "```text\n",
    "G\n",
    "U\n",
    "I\n",
    "D\n",
    "O\n",
    "```"
   ]
  },
  {
   "cell_type": "code",
   "execution_count": 2,
   "metadata": {},
   "outputs": [
    {
     "name": "stdout",
     "output_type": "stream",
     "text": [
      "G\n",
      "i\n",
      "o\n",
      "v\n",
      "a\n",
      "n\n",
      "n\n",
      "i\n"
     ]
    }
   ],
   "source": [
    "print('G')\n",
    "print('i')\n",
    "print('o')\n",
    "print('v')\n",
    "print('a')\n",
    "print('n')\n",
    "print('n')\n",
    "print('i')"
   ]
  },
  {
   "cell_type": "markdown",
   "metadata": {},
   "source": [
    "Il codice precedente potrebbe essere scritto così:"
   ]
  },
  {
   "cell_type": "code",
   "execution_count": 1,
   "metadata": {},
   "outputs": [
    {
     "name": "stdout",
     "output_type": "stream",
     "text": [
      "G\n",
      "i\n",
      "o\n",
      "v\n",
      "a\n",
      "n\n",
      "n\n",
      "i\n"
     ]
    }
   ],
   "source": [
    "# Scrivi qua il tuo codice\n",
    "\n",
    "pippo = 'Giovanni'\n",
    "\n",
    "for char in pippo:\n",
    "    print(char)\n"
   ]
  },
  {
   "cell_type": "markdown",
   "metadata": {},
   "source": [
    "Oppure possiamo usare l'argomento `sep` di `print()`."
   ]
  },
  {
   "cell_type": "code",
   "execution_count": null,
   "metadata": {},
   "outputs": [
    {
     "name": "stdout",
     "output_type": "stream",
     "text": [
      "G\n",
      "i\n",
      "o\n",
      "v\n",
      "a\n",
      "n\n",
      "n\n",
      "i\n"
     ]
    }
   ],
   "source": [
    "print('G', 'i', 'o', 'v', 'a', 'n', 'n', 'i', sep='\\n')"
   ]
  },
  {
   "cell_type": "markdown",
   "metadata": {},
   "source": [
    "Il codice precedente potrebbe essere scritto in modo più pytonico usando l'*argument unpacking*:"
   ]
  },
  {
   "cell_type": "code",
   "execution_count": 2,
   "metadata": {},
   "outputs": [
    {
     "name": "stdout",
     "output_type": "stream",
     "text": [
      "G\n",
      "i\n",
      "o\n",
      "v\n",
      "a\n",
      "n\n",
      "n\n",
      "i\n"
     ]
    }
   ],
   "source": [
    "pippo = 'Giovanni'   # Qualunque sequenza\n",
    "print(*pippo, sep='\\n')   # UNPACKING\n"
   ]
  },
  {
   "cell_type": "markdown",
   "metadata": {},
   "source": [
    "## Esercizio 5: Conto bancario\n",
    "\n",
    "Obiettivo: Scrivere un programma che calcoli il saldo di un conto bancario dopo il primo, secondo e terzo anno. Il conto ha un saldo iniziale di 1000 euro e vi vengono accreditati interessi annuali al 5%.\n",
    "\n",
    "Il programma deve stampare il saldo iniziale, e poi il saldo al termine di ciascun anno, fino al terzo.\n",
    "\n",
    "Output atteso:\n",
    "\n",
    "```text\n",
    "Il saldo iniziale è: ...\n",
    "Dopo l'anno 1 il saldo è: ...\n",
    "Dopo l'anno 2 il saldo è: ...\n",
    "Dopo l'anno 3 il saldo è: ...\n",
    "```"
   ]
  },
  {
   "cell_type": "code",
   "execution_count": 4,
   "metadata": {},
   "outputs": [
    {
     "data": {
      "text/plain": [
       "50.0"
      ]
     },
     "execution_count": 4,
     "metadata": {},
     "output_type": "execute_result"
    }
   ],
   "source": [
    "1000 * 0.05  # 5% di 1000"
   ]
  },
  {
   "cell_type": "code",
   "execution_count": 5,
   "metadata": {},
   "outputs": [
    {
     "data": {
      "text/plain": [
       "1050.0"
      ]
     },
     "execution_count": 5,
     "metadata": {},
     "output_type": "execute_result"
    }
   ],
   "source": [
    "1000 + (1000 * 0.05)  # 105% di 1000"
   ]
  },
  {
   "cell_type": "code",
   "execution_count": 6,
   "metadata": {},
   "outputs": [
    {
     "data": {
      "text/plain": [
       "1050.0"
      ]
     },
     "execution_count": 6,
     "metadata": {},
     "output_type": "execute_result"
    }
   ],
   "source": [
    "1000 * 1.05  # 105% di 1000"
   ]
  },
  {
   "cell_type": "code",
   "execution_count": 16,
   "metadata": {},
   "outputs": [
    {
     "name": "stdout",
     "output_type": "stream",
     "text": [
      "Il saldo iniziale è: 1000\n",
      "Dopo l'anno 1 il saldo è: 1050.0\n",
      "Dopo l'anno 2 il saldo è: 1102.5\n",
      "Dopo l'anno 3 il saldo è: 1157.625\n"
     ]
    }
   ],
   "source": [
    "# Scrivi qua il tuo codice\n",
    "INTERESSE = 1.05\n",
    "\n",
    "saldo = 1000\n",
    "anno1 = saldo * INTERESSE\n",
    "anno2 = anno1 * INTERESSE\n",
    "anno3 = anno2 * INTERESSE\n",
    "\n",
    "\n",
    "print(\"Il saldo iniziale è:\", saldo)\n",
    "print(\"Dopo l'anno 1 il saldo è:\", anno1)\n",
    "print(\"Dopo l'anno 2 il saldo è:\", anno2)\n",
    "print(\"Dopo l'anno 3 il saldo è:\", anno3)"
   ]
  },
  {
   "cell_type": "code",
   "execution_count": 36,
   "metadata": {},
   "outputs": [
    {
     "name": "stdout",
     "output_type": "stream",
     "text": [
      "[1050.0, 1102.5, 1157.625]\n"
     ]
    }
   ],
   "source": [
    "INTERESSE = 1.05\n",
    "\n",
    "saldo_init = 1000\n",
    "saldi = []\n",
    "saldo_corrente = saldo_init\n",
    "\n",
    "for idx in range(3):\n",
    "    saldo_corrente = saldo_corrente * INTERESSE\n",
    "    saldi.append(saldo_corrente)\n",
    "\n",
    "print(\"Il saldo iniziale è:\", saldo_init)\n",
    "print(\"Dopo l'anno 1 il saldo è:\", saldi[0])\n",
    "print(\"Dopo l'anno 2 il saldo è:\", saldi[1])\n",
    "print(\"Dopo l'anno 3 il saldo è:\", saldi[2])"
   ]
  },
  {
   "cell_type": "markdown",
   "metadata": {},
   "source": [
    "#### Cosa fa `range()` ?"
   ]
  },
  {
   "cell_type": "code",
   "execution_count": 3,
   "metadata": {},
   "outputs": [
    {
     "data": {
      "text/plain": [
       "[3, 4, 5, 6, 7, 8, 9]"
      ]
     },
     "execution_count": 3,
     "metadata": {},
     "output_type": "execute_result"
    }
   ],
   "source": [
    "list( range(3, 10) )"
   ]
  },
  {
   "cell_type": "code",
   "execution_count": null,
   "metadata": {},
   "outputs": [
    {
     "data": {
      "text/plain": [
       "[2, 4, 6, 8, 10]"
      ]
     },
     "metadata": {},
     "output_type": "display_data"
    }
   ],
   "source": [
    "list( range(2, 11, 2) )"
   ]
  },
  {
   "cell_type": "code",
   "execution_count": null,
   "metadata": {},
   "outputs": [
    {
     "name": "stdout",
     "output_type": "stream",
     "text": [
      "0\n",
      "1\n",
      "2\n"
     ]
    }
   ],
   "source": [
    "for idx in range(3):\n",
    "    print(idx)"
   ]
  },
  {
   "cell_type": "code",
   "execution_count": 58,
   "metadata": {},
   "outputs": [
    {
     "name": "stdout",
     "output_type": "stream",
     "text": [
      "Il saldo iniziale è: 1000\n",
      "Dopo l'anno 1 il saldo è: 1050.00\n",
      "Dopo l'anno 2 il saldo è: 1102.50\n",
      "Dopo l'anno 3 il saldo è: 1157.62\n",
      "Dopo l'anno 4 il saldo è: 1215.51\n",
      "Dopo l'anno 5 il saldo è: 1276.28\n"
     ]
    }
   ],
   "source": [
    "INTERESSE = 1.05\n",
    "\n",
    "num_anni = int(input('Prego, inserire numero intero di anni su cui caclcolare gli interessi:'))\n",
    "saldo_init = 1000\n",
    "# saldi = []\n",
    "saldo_corrente = saldo_init\n",
    "\n",
    "print(\"Il saldo iniziale è:\", saldo_init)\n",
    "for idx in range(num_anni):\n",
    "    saldo_corrente = saldo_corrente * INTERESSE\n",
    "    print(f\"Dopo l'anno {idx+1} il saldo è: {saldo_corrente:.2f}\")\n",
    "    # saldi.append(saldo_corrente)\n"
   ]
  },
  {
   "cell_type": "markdown",
   "metadata": {},
   "source": [
    "### Aggiunta di input delle cifre decimali"
   ]
  },
  {
   "cell_type": "code",
   "execution_count": 1,
   "metadata": {},
   "outputs": [
    {
     "name": "stdout",
     "output_type": "stream",
     "text": [
      "Il saldo iniziale è: 1000\n",
      "Dopo l'anno 1 il saldo è: 1050.000\n",
      "Dopo l'anno 2 il saldo è: 1102.500\n",
      "Dopo l'anno 3 il saldo è: 1157.625\n",
      "Dopo l'anno 4 il saldo è: 1215.506\n",
      "Dopo l'anno 5 il saldo è: 1276.282\n"
     ]
    }
   ],
   "source": [
    "INTERESSE = 1.05\n",
    "\n",
    "num_anni = int(input('Prego, inserire numero intero di anni su cui caclcolare gli interessi:'))\n",
    "dec_pos = int(input('Prego, inserire il numero di cifre decimali:'))\n",
    "saldo_init = 1000\n",
    "# saldi = []\n",
    "saldo_corrente = saldo_init\n",
    "\n",
    "print(\"Il saldo iniziale è:\", saldo_init)\n",
    "for idx in range(num_anni):\n",
    "    saldo_corrente = saldo_corrente * INTERESSE\n",
    "    print(f\"Dopo l'anno {idx+1} il saldo è: {saldo_corrente:.{dec_pos}f}\")\n",
    "    # saldi.append(saldo_corrente)"
   ]
  },
  {
   "cell_type": "markdown",
   "metadata": {},
   "source": [
    "### Come funziona `round()` ?"
   ]
  },
  {
   "cell_type": "code",
   "execution_count": 1,
   "metadata": {},
   "outputs": [
    {
     "data": {
      "text/plain": [
       "123.57"
      ]
     },
     "execution_count": 1,
     "metadata": {},
     "output_type": "execute_result"
    }
   ],
   "source": [
    "round(123.57, 2)"
   ]
  },
  {
   "cell_type": "markdown",
   "metadata": {},
   "source": [
    "## Esercizio 6: Testo incorniciato\n",
    "\n",
    "Obiettivo: Scrivere un programma che stampi il vostro nome all’interno di un rettangolo, utilizzando i caratteri: `|`, `-` e `+`.\n",
    "\n",
    "Esempio di output atteso:\n",
    "\n",
    "```text\n",
    " +--------+\n",
    " | Graham |\n",
    " +--------+\n",
    "```"
   ]
  },
  {
   "cell_type": "code",
   "execution_count": 4,
   "metadata": {},
   "outputs": [
    {
     "name": "stdout",
     "output_type": "stream",
     "text": [
      "+-------+\n",
      "| paolo |\n",
      "+-------+\n"
     ]
    }
   ],
   "source": [
    "parola = 'paolo'\n",
    "trattini = '-' * len(parola)\n",
    "print (f\"+-{trattini}-+\")\n",
    "print(f\"| {parola} |\")\n",
    "print(f\"+-{trattini}-+\")\n"
   ]
  },
  {
   "cell_type": "markdown",
   "metadata": {},
   "source": [
    "## Esercizio 7: Scacchiera 5x5\n",
    "\n",
    "Obiettivo: Scrivere un programma che stampi una \"scacchiera\" di dimensioni 5x5 in cui le caselle bianche sono rappresentate da `0`, e le caselle nere da `1`.\n",
    "\n",
    "Output atteso:\n",
    "\n",
    "```text\n",
    "0 1 0 1 0\n",
    "1 0 1 0 1\n",
    "0 1 0 1 0\n",
    "1 0 1 0 1\n",
    "0 1 0 1 0\n",
    "```"
   ]
  },
  {
   "cell_type": "markdown",
   "metadata": {},
   "source": [
    "### Creazione delle stringhe di riga e stampa manuale"
   ]
  },
  {
   "cell_type": "code",
   "execution_count": 18,
   "metadata": {},
   "outputs": [
    {
     "name": "stdout",
     "output_type": "stream",
     "text": [
      "0 1 0 1 0\n",
      "1 0 1 0 1\n",
      "0 1 0 1 0\n",
      "1 0 1 0 1\n",
      "0 1 0 1 0\n"
     ]
    }
   ],
   "source": [
    "# Scrivi qua il tuo codice\n",
    "\n",
    "riga1 = '0 1 0 1 0'\n",
    "riga2 = '1 0 1 0 1'\n",
    "\n",
    "print(riga1)\n",
    "print(riga2)\n",
    "print(riga1)\n",
    "print(riga2)\n",
    "print(riga1)"
   ]
  },
  {
   "cell_type": "markdown",
   "metadata": {},
   "source": [
    "### Stampa le righe in modo alternato con ciclo `for`"
   ]
  },
  {
   "cell_type": "code",
   "execution_count": 23,
   "metadata": {},
   "outputs": [
    {
     "name": "stdout",
     "output_type": "stream",
     "text": [
      "0 1 0 1 0\n",
      "1 0 1 0 1\n",
      "0 1 0 1 0\n",
      "1 0 1 0 1\n",
      "0 1 0 1 0\n"
     ]
    }
   ],
   "source": [
    "riga_pari = '0 1 0 1 0'\n",
    "riga_dispari = '1 0 1 0 1'\n",
    "\n",
    "# Per ogni riga\n",
    "for row in range(5):\n",
    "    # Se l'indice riga è pari\n",
    "    if row % 2 == 0:\n",
    "        print(riga_pari)\n",
    "    # Se la riga è dispari\n",
    "    else:\n",
    "        print(riga_dispari)\n"
   ]
  },
  {
   "cell_type": "markdown",
   "metadata": {},
   "source": [
    "### Stampa alternata con operatore ternario"
   ]
  },
  {
   "cell_type": "code",
   "execution_count": 32,
   "metadata": {},
   "outputs": [
    {
     "name": "stdout",
     "output_type": "stream",
     "text": [
      "0 1 0 1 0\n",
      "1 0 1 0 1\n",
      "0 1 0 1 0\n",
      "1 0 1 0 1\n",
      "0 1 0 1 0\n"
     ]
    }
   ],
   "source": [
    "riga_pari = '0 1 0 1 0'\n",
    "riga_dispari = '1 0 1 0 1'\n",
    "\n",
    "# Per ogni riga\n",
    "for row in range(5):\n",
    "    # Stampa la riga in base alla parità usando l'operatore ternario\n",
    "    print(riga_pari if row % 2 == 0 else riga_dispari)"
   ]
  },
  {
   "cell_type": "markdown",
   "metadata": {},
   "source": [
    "### Comporre le stringhe delle righe in modo dinamico"
   ]
  },
  {
   "cell_type": "code",
   "execution_count": 31,
   "metadata": {},
   "outputs": [
    {
     "name": "stdout",
     "output_type": "stream",
     "text": [
      "Q X Q X Q\n",
      "X Q X Q X\n",
      "Q X Q X Q\n",
      "X Q X Q X\n",
      "Q X Q X Q\n"
     ]
    }
   ],
   "source": [
    "# Dimensione della scacchiera\n",
    "dimensione = 5\n",
    "\n",
    "# Crea le stringhe per le righe pari e dispari\n",
    "riga_pari = ' '.join(['Q' if col % 2 == 0 else 'X' for col in range(dimensione)])\n",
    "riga_dispari = ' '.join(['X' if col % 2 == 0 else 'Q' for col in range(dimensione)])\n",
    "\n",
    "# Stampa la scacchiera alternando le righe\n",
    "for idx_riga in range(dimensione):\n",
    "    print(riga_pari if idx_riga % 2 == 0 else riga_dispari)\n"
   ]
  },
  {
   "cell_type": "markdown",
   "metadata": {},
   "source": [
    "### -----------------------------------"
   ]
  },
  {
   "cell_type": "markdown",
   "metadata": {},
   "source": [
    "### Stampa singoli caratteri con alternanza alternanza di righe e colonne (+)"
   ]
  },
  {
   "cell_type": "code",
   "execution_count": 24,
   "metadata": {},
   "outputs": [
    {
     "name": "stdout",
     "output_type": "stream",
     "text": [
      "0 1 0 1 0 \n",
      "1 0 1 0 1 \n",
      "0 1 0 1 0 \n",
      "1 0 1 0 1 \n",
      "0 1 0 1 0 \n"
     ]
    }
   ],
   "source": [
    "for row in range(5):\n",
    "    for col in range(5):\n",
    "        # Se la colonna è pari\n",
    "        if col % 2 == 0:\n",
    "            # Se la riga è pari\n",
    "            if row % 2 == 0:\n",
    "                print('0 ', end='')\n",
    "            # Se la riga è dispari\n",
    "            else:\n",
    "                print('1 ', end='')\n",
    "        # Se la colonna è dispari\n",
    "        else:\n",
    "            # Se la riga è pari\n",
    "            if row % 2 == 0:\n",
    "                print('1 ', end='')\n",
    "            # Se la riga è dispari\n",
    "            else:\n",
    "                print('0 ', end='')\n",
    "    print()\n"
   ]
  },
  {
   "cell_type": "markdown",
   "metadata": {},
   "source": [
    "### Alternanza di righe e colonne - ottimizzato (+)"
   ]
  },
  {
   "cell_type": "code",
   "execution_count": 29,
   "metadata": {},
   "outputs": [
    {
     "name": "stdout",
     "output_type": "stream",
     "text": [
      "0 1 0 1 0 \n",
      "1 0 1 0 1 \n",
      "0 1 0 1 0 \n",
      "1 0 1 0 1 \n",
      "0 1 0 1 0 \n"
     ]
    }
   ],
   "source": [
    "# Dimensione della scacchiera\n",
    "dimensione = 5\n",
    "\n",
    "# Per ogni riga\n",
    "for riga in range(dimensione):\n",
    "    # Stabilisce i primi due numeri della riga un base alla parità della riga\n",
    "    primo = riga % 2\n",
    "    secondo = int(not primo)  # Inverte il valore di primo e lo ri-converte in intero\n",
    "\n",
    "    # Per ogni colonna\n",
    "    for colonna in range(dimensione):\n",
    "        # Stampa i numeri in base alla parità della colonna\n",
    "        if colonna % 2 == 0:\n",
    "            print(primo, '', end='')\n",
    "        else:\n",
    "            print(secondo, '', end='')\n",
    "    print()\n"
   ]
  },
  {
   "cell_type": "markdown",
   "metadata": {},
   "source": [
    "### Alternanza di righe e colonne - generalizzato (+)\n",
    "\n",
    "Per renderlo universale e usabile con qualunque carattere."
   ]
  },
  {
   "cell_type": "code",
   "execution_count": 28,
   "metadata": {},
   "outputs": [
    {
     "name": "stdout",
     "output_type": "stream",
     "text": [
      "Q X Q X Q \n",
      "X Q X Q X \n",
      "Q X Q X Q \n",
      "X Q X Q X \n",
      "Q X Q X Q \n"
     ]
    }
   ],
   "source": [
    "# Dimensione della scacchiera\n",
    "dimensione = 5\n",
    "\n",
    "# Per ogni riga\n",
    "for idx_riga in range(dimensione):\n",
    "    \n",
    "    # Se la riga è pari l'inizio della riga deve essere 0, altrimenti 1\n",
    "    inizio = idx_riga % 2\n",
    "    \n",
    "    # Per ogni colonna\n",
    "    for idx_colonna in range(dimensione):\n",
    "\n",
    "        # Alternanza per ogni elemento nella riga\n",
    "        if (idx_colonna + inizio) % 2 == 0:\n",
    "            print('Q', end=' ')\n",
    "        else:\n",
    "            print('X', end=' ')\n",
    "    \n",
    "    # Vai a capo dopo ogni riga\n",
    "    print()\n"
   ]
  },
  {
   "cell_type": "markdown",
   "metadata": {},
   "source": [
    "## Esercizio 8: Una lunga linea\n",
    "\n",
    "Obiettivo: Scrivere un programma che stampi una linea composta da 100 trattini `-`.\n",
    "\n",
    "Output atteso:\n",
    "\n",
    "```text\n",
    "--------------------------------... tot. 100 trattini\n",
    "```"
   ]
  },
  {
   "cell_type": "code",
   "execution_count": 61,
   "metadata": {},
   "outputs": [
    {
     "data": {
      "text/plain": [
       "'----------------------------------------------------------------------------------------------------'"
      ]
     },
     "execution_count": 61,
     "metadata": {},
     "output_type": "execute_result"
    }
   ],
   "source": [
    "# Scrivi qua il tuo codice\n",
    "\n",
    "'-' * 100"
   ]
  },
  {
   "cell_type": "code",
   "execution_count": 62,
   "metadata": {},
   "outputs": [
    {
     "data": {
      "text/plain": [
       "'aaaaaaaaaa'"
      ]
     },
     "execution_count": 62,
     "metadata": {},
     "output_type": "execute_result"
    }
   ],
   "source": [
    "'a' * 10"
   ]
  },
  {
   "cell_type": "markdown",
   "metadata": {},
   "source": [
    "## Esercizio 9: Tanti zeri\n",
    "\n",
    "Obiettivo: Scrivere un programma che stampi una sequenza di cifre composta da 100 zeri (`0`).\n",
    "\n",
    "Output atteso:\n",
    "\n",
    "```text\n",
    "00000000000000000000000000000000... tot. 100 zeri\n",
    "```"
   ]
  },
  {
   "cell_type": "code",
   "execution_count": 64,
   "metadata": {},
   "outputs": [
    {
     "data": {
      "text/plain": [
       "'0000000000000000000000000000000000000000000000000000000000000000000000000000000000000000000000000000'"
      ]
     },
     "execution_count": 64,
     "metadata": {},
     "output_type": "execute_result"
    }
   ],
   "source": [
    "# Scrivi qua il tuo codice\n",
    "\n",
    "'0' * 100\n"
   ]
  }
 ],
 "metadata": {
  "kernelspec": {
   "display_name": ".venv",
   "language": "python",
   "name": "python3"
  },
  "language_info": {
   "codemirror_mode": {
    "name": "ipython",
    "version": 3
   },
   "file_extension": ".py",
   "mimetype": "text/x-python",
   "name": "python",
   "nbconvert_exporter": "python",
   "pygments_lexer": "ipython3",
   "version": "3.12.1"
  }
 },
 "nbformat": 4,
 "nbformat_minor": 2
}
