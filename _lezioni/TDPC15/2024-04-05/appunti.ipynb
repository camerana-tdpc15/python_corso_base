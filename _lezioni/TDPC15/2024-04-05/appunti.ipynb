{
 "cells": [
  {
   "cell_type": "markdown",
   "metadata": {},
   "source": [
    "### Argument unpacking"
   ]
  },
  {
   "cell_type": "code",
   "execution_count": null,
   "metadata": {},
   "outputs": [
    {
     "name": "stdout",
     "output_type": "stream",
     "text": [
      "W\n",
      "a\n",
      "l\n",
      "t\n",
      "e\n",
      "r\n"
     ]
    }
   ],
   "source": [
    "pippo = 'Walter'   # Qualunque sequenza\n",
    "print(*pippo, sep='\\n')   # UNPACKING\n"
   ]
  },
  {
   "cell_type": "markdown",
   "metadata": {},
   "source": [
    "### Slice"
   ]
  },
  {
   "cell_type": "code",
   "execution_count": null,
   "metadata": {},
   "outputs": [
    {
     "data": {
      "text/plain": [
       "'de'"
      ]
     },
     "metadata": {},
     "output_type": "display_data"
    }
   ],
   "source": [
    "'abcdef'[3:5] # slice"
   ]
  },
  {
   "cell_type": "code",
   "execution_count": null,
   "metadata": {},
   "outputs": [
    {
     "data": {
      "text/plain": [
       "'bdf'"
      ]
     },
     "metadata": {},
     "output_type": "display_data"
    }
   ],
   "source": [
    "'abcdef'[1::2]"
   ]
  },
  {
   "cell_type": "code",
   "execution_count": null,
   "metadata": {},
   "outputs": [
    {
     "data": {
      "text/plain": [
       "'b'"
      ]
     },
     "metadata": {},
     "output_type": "display_data"
    }
   ],
   "source": [
    "['a', 'b', 'c'][1]"
   ]
  },
  {
   "cell_type": "code",
   "execution_count": null,
   "metadata": {},
   "outputs": [
    {
     "name": "stdout",
     "output_type": "stream",
     "text": [
      "Ciao, Marco Rossi!\n",
      "Ciao, Marco Rossi!\n",
      "Ciao, Marco Rossi!\n",
      "Ciao, Marco Rossi!\n",
      "Ciao, Marco Rossi!\n",
      "Ciao, Marco Rossi!\n",
      "Ciao, Marco Rossi!\n"
     ]
    }
   ],
   "source": [
    "nome = 'Marco'\n",
    "cognome = 'Rossi'\n",
    "\n",
    "for string_test in [\n",
    "    # Concatenazione\n",
    "    'Ciao, ' + nome + ' ' + cognome + '!',\n",
    "\n",
    "    # old-style string interpolation\n",
    "    'Ciao, %s %s!' % (nome, cognome),\n",
    "    'Ciao, %(n)s %(c)s!' % {'n': nome, 'c': cognome},\n",
    "\n",
    "    # str.format()\n",
    "    'Ciao, {} {}!'.format(nome, cognome),\n",
    "    'Ciao, {0} {1}!'.format(nome, cognome),\n",
    "    'Ciao, {n} {c}!'.format(n=nome, c=cognome),\n",
    "\n",
    "    # f-strings\n",
    "    f'Ciao, {nome} {cognome}!'\n",
    "]:\n",
    "    print(string_test)\n"
   ]
  }
 ],
 "metadata": {
  "language_info": {
   "name": "python"
  }
 },
 "nbformat": 4,
 "nbformat_minor": 2
}
