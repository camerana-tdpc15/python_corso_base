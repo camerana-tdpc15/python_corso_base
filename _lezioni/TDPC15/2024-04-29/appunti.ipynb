{
 "cells": [
  {
   "cell_type": "markdown",
   "metadata": {},
   "source": [
    "# FLASK\n",
    "\n",
    "La guida ufficiale:\n",
    "- https://flask.palletsprojects.com/en/3.0.x/"
   ]
  },
  {
   "cell_type": "markdown",
   "metadata": {},
   "source": [
    "## Virtual environment\n",
    "\n",
    "Prima di installare il pacchetto \"Flask\" con il comando \"pip\" è meglio creare un virtual environment.\n",
    "\n",
    "Per facilitare l'installazione di un virtual environment, usiamo un'estensione di VS Code."
   ]
  },
  {
   "cell_type": "markdown",
   "metadata": {},
   "source": [
    "### Estensione \"Python Environment Manager\"\n",
    "\n",
    "Installare l'estensione \"Python Environment Manager\" di VS Code:\n",
    "\n",
    "- https://marketplace.visualstudio.com/items?itemName=donjayamanne.python-environment-manager"
   ]
  },
  {
   "cell_type": "markdown",
   "metadata": {},
   "source": [
    "Dato che la Power Shell di windows dà problemi con i Virtual Environment, possiamo dire a VS Code di aprire il terminale usando il buon vecchio \"Command Prompt\" (cmd.exe).\n",
    "\n",
    "- Per modificare il terminale di default esegui le seguenti operazioni:\n",
    "   1. Premi `Ctrl + Maiusc + P`\n",
    "   2. Cercare \"terminal default\" / Selezionare la voce \"Terminal: Select default profile\"\n",
    "   3. Selezionare \"Command Prompt\" (cmd.exe)"
   ]
  },
  {
   "cell_type": "markdown",
   "metadata": {},
   "source": [
    "### Creare il virtual environment\n",
    "\n",
    "- Per modificare il terminale di default esegui le seguenti operazioni:\n",
    "   1. Premi `Ctrl + Maiusc + P`\n",
    "   2. Cercare \"environment\" / Selezionare la voce \"Python: Create environment...\"\n",
    "   3. Selezionare \"Venv\"\n",
    "   4. Se abbiamo più di una cartella nel workspace, dobbiamo scegliere la cartella in cui si desidera creare il virtual environment.\n",
    "\n",
    "Verrà ora creato il virtual environment nella cartella indicata.\n",
    "\n",
    "Il virtual environment è stato creato nella cartella `.venv`."
   ]
  },
  {
   "cell_type": "markdown",
   "metadata": {},
   "source": [
    "## Entrare nel virtual environment\n",
    "\n",
    "Ora che abbiamo creato il virtual environment, quando apriremo un NUOVO terminale (ed enventualmente selezioniamo la cartella con il .venv, se ci viene richiesto) dovremmo vedere un `(.venv)` all'inizio del prompt. Per esempio:\n",
    "\n",
    "```cmd\n",
    "(.venv) C:\\...\\...\\>\n",
    "```\n",
    "\n",
    "> **BISOGNO DI AIUTO?:** Se riscontri problemi, VEDI la sezione [\"Python virtual evironment\" sul notebook: 06_python_environment.ipynb](../../../06_python_environment.ipynb)"
   ]
  },
  {
   "cell_type": "markdown",
   "metadata": {},
   "source": [
    "## Installazione di Flask\n",
    "\n",
    "Ora, se apriamo un nuovo teminale, possiamo lanciare il comando `pip install Flask`.\n",
    "\n",
    "```cmd\n",
    "(.venv) C:\\...\\...\\> pip install Flask\n",
    "```"
   ]
  },
  {
   "cell_type": "markdown",
   "metadata": {},
   "source": [
    "## Prima applicazione in Flask\n",
    "\n",
    "```python\n",
    "from flask import Flask\n",
    "\n",
    "app = Flask(__name__)\n",
    "\n",
    "@app.route(\"/\")\n",
    "def hello_world():\n",
    "    return \"<p>Hello, World!</p>\"\n",
    "\n",
    "app.run()\n",
    "```"
   ]
  },
  {
   "cell_type": "markdown",
   "metadata": {},
   "source": [
    "Nel terminale vedremo:\n",
    "\n",
    "```log\n",
    " * Serving Flask app 'app'\n",
    " * Debug mode: off\n",
    "WARNING: This is a development server. Do not use it in a production deployment. Use a production WSGI server instead.\n",
    " * Running on http://127.0.0.1:5000\n",
    "Press CTRL+C to quit\n",
    "```"
   ]
  },
  {
   "cell_type": "markdown",
   "metadata": {},
   "source": [
    "Ora, se apriamo l'indirizzo [`http://127.0.0.1:5000`](http://127.0.0.1:5000) dovremmo vedere una pagina con la scritta \"Hello, World!\"."
   ]
  },
  {
   "cell_type": "markdown",
   "metadata": {},
   "source": [
    "## Chiusura del server Flask\n",
    "\n",
    "Nel terminale, dove vediamo il log di output di Flask:\n",
    "\n",
    "- Premere `Ctrl + C`"
   ]
  },
  {
   "cell_type": "markdown",
   "metadata": {},
   "source": [
    "# APPROFONDIMENTO SU CONCETTI DI NETWORKING"
   ]
  },
  {
   "cell_type": "markdown",
   "metadata": {},
   "source": [
    "##  localhost: 127.0.0.1\n",
    "\n",
    "Il nome `localhost` o l'indirizzo IP `127.0.0.1` indicano il computer stesso su cui stiamo operando, che nel nostro caso è la stessa macchina su cui sta girando il server Flask."
   ]
  },
  {
   "cell_type": "markdown",
   "metadata": {},
   "source": [
    "- HOSTNAME (come il nome di dominio):\n",
    "    - http://localhost\n",
    "\n",
    "- IP ADDRESS:\n",
    "    - http://127.0.0.1\n",
    "\n"
   ]
  },
  {
   "cell_type": "markdown",
   "metadata": {},
   "source": [
    "## Porte TCP e UDP\n",
    "\n",
    "Vedi [Porta (reti)](https://it.wikipedia.org/wiki/Porta_(reti))\n",
    "\n",
    "Nell'ambito delle reti di computer le porte (port) consentono ad un computer di effettuare più connessioni contemporanee verso altri computer, facendo in modo che i dati contenuti nei pacchetti in arrivo vengano indirizzati al processo che li sta aspettando.\n",
    "\n",
    "Vedi [Porte TCP e UDP standard](https://it.wikipedia.org/wiki/Porte_TCP_e_UDP_standard)\n",
    "\n",
    "Apprfondisci [List of TCP and UDP port numbers](https://en.wikipedia.org/wiki/List_of_TCP_and_UDP_port_numbers)\n",
    "\n",
    "- 0-1023 (tot. 1024) \"well-known ports or system ports\" assegnate a specifici servizi dallo IANA. Vengono storicamente utilizzati servizi di sistema e/o rete ampiamente utilizzati e riconosciuti unanimemente.\n",
    "\n",
    "- 1024-49151 (tot. 48.128) \"registered ports\", assegnato da IANA per un servizio specifico su richiesta di soggetti terzi.\n",
    "\n",
    "- 49152-65535 (tot. 16.384) \"dynamic or private ports\" non sono utilizzate da applicazioni in particolare."
   ]
  },
  {
   "cell_type": "markdown",
   "metadata": {},
   "source": [
    "### Protocolli di comunicazione `http` e `https`\n",
    "\n",
    "VEDI: [Protocollo di comunicazione](https://it.wikipedia.org/wiki/Protocollo_di_comunicazione)\n",
    "\n",
    "- `http` è lo storico protocollo di comunicazione dei servizi web standard, ma non sicuro.\n",
    "- `https` è il moderno protocollo di comunicazione dei servizi web standard, più sicuro, che usa la crittografia.\n",
    "\n",
    "Per convenzione, ciascun protocollo usa una porta standard in modo automatico:\n",
    "\n",
    "- `http` usa la porta `80`\n",
    "- `https` usa la porta `443`\n",
    "\n",
    "ATTENZIONE: *protocollo* e *porta* sono due cose diverse! Queste sono solo convenzioni, nulla vieta che un protocollo venga trasmesso su una porta diversa da quella predefinita.\n",
    "\n",
    "Il nostro server Flask dice:\n",
    "```log\n",
    " * Running on http://127.0.0.1:5000\n",
    "```\n",
    "\n",
    "Infatti il nostro server Flask sta usando il protocollo `http` ma è in ascolto sulla porta `5000` anziché la `80`."
   ]
  },
  {
   "cell_type": "markdown",
   "metadata": {},
   "source": [
    "### Flask Development Webserver Port\n",
    "\n",
    "Gli sviluppatori e la comuntità di Flask hanno deciso che, in fase di sviluppo, si usi convenzionalmente la porta `5000`.\n",
    "\n",
    "Quindi mentre stiamo sviluppando la nostra applicazione, essa sarà accessibile all'indirizzo `http://127.0.0.1:5000`."
   ]
  },
  {
   "cell_type": "markdown",
   "metadata": {},
   "source": [
    "\n",
    "- http://127.0.0.1 &rarr; sottinteso porta 80\n",
    "- https://127.0.0.1 &rarr; sottinteso porta 443 (uso crittografia)\n",
    "\n",
    "- http://127.0.0.1:5000 &rarr; forza la porta 5000\n"
   ]
  },
  {
   "cell_type": "markdown",
   "metadata": {},
   "source": [
    "- http://localhost &rarr; sottinteso porta 80\n",
    "- https://localhost &rarr; sottinteso porta 443 (uso crittografia)\n",
    "\n",
    "- http://localhost:5000 &rarr; forza la porta 5000"
   ]
  },
  {
   "cell_type": "markdown",
   "metadata": {},
   "source": [
    "- http://palletsprojects.com &rarr; sottinteso porta 80\n",
    "- https://palletsprojects.com &rarr; sottinteso porta 443 (uso crittografia)\n",
    "\n",
    "- http://palletsprojects.com:5000 &rarr; forza la porta 5000"
   ]
  }
 ],
 "metadata": {
  "kernelspec": {
   "display_name": "Python 3",
   "language": "python",
   "name": "python3"
  },
  "language_info": {
   "codemirror_mode": {
    "name": "ipython",
    "version": 3
   },
   "file_extension": ".py",
   "mimetype": "text/x-python",
   "name": "python",
   "nbconvert_exporter": "python",
   "pygments_lexer": "ipython3",
   "version": "3.10.0"
  }
 },
 "nbformat": 4,
 "nbformat_minor": 2
}
