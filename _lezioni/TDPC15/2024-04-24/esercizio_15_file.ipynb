{
 "cells": [
  {
   "attachments": {},
   "cell_type": "markdown",
   "metadata": {},
   "source": [
    "# Esercizio - Le età dei nostri amici"
   ]
  },
  {
   "attachments": {},
   "cell_type": "markdown",
   "metadata": {},
   "source": [
    "Requisiti: `import`, `with ... as`, `open`, `dict`"
   ]
  },
  {
   "attachments": {},
   "cell_type": "markdown",
   "metadata": {},
   "source": [
    "E’ dato un file `nomi_data_nascita.txt` nella cartella `/files_esercizi` del nostro repository. Il file è caratterizzato dal seguente formato rappresentante delle coppie nome/età. Per esempio:\n",
    "\n",
    "```python\n",
    "Ada: 1999\n",
    "Pippo: 1980\n",
    "Felice: 1976\n",
    "Geronima: 1999\n",
    "...\n",
    "```\n",
    "\n",
    "Leggi tutto il file creando un dizionario (`dict`) le cui chiavi sono corrispondono all’età della persona alla data attuale. A ciascuna età deve essere associata una lista con i nomi di persone che hanno quell’età.\n",
    "\n",
    "Output atteso:\n",
    "\n",
    "```python\n",
    "{24: ['Ada:', 'Geronima:', 'Roberto:'], 43: ['Pippo:', 'Ciccio:'], 47: ['Felice:', 'Mimmo:'], 51: ['Luca:', 'Pluto:'], 100: ['Totò:']}\n",
    "```"
   ]
  },
  {
   "cell_type": "code",
   "execution_count": null,
   "metadata": {},
   "outputs": [],
   "source": [
    "{\n",
    "    25: [\"Ada:\", \"Geronima:\", \"Roberto:\"],\n",
    "    44: [\"Pippo:\", \"Ciccio:\"],\n",
    "    48: [\"Felice:\", \"Mimmo:\"],\n",
    "    52: [\"Luca:\", \"Pluto:\"],\n",
    "    101: [\"Totò:\"],\n",
    "}"
   ]
  },
  {
   "cell_type": "markdown",
   "metadata": {},
   "source": [
    "## 1) Leggere il contenuto del file"
   ]
  },
  {
   "cell_type": "code",
   "execution_count": 6,
   "metadata": {},
   "outputs": [
    {
     "name": "stdout",
     "output_type": "stream",
     "text": [
      "'Ada: 1999\\n'\n",
      "['Ada', ' 1999\\n']\n",
      "Ada 25\n",
      "-------------\n",
      "'Pippo: 1980\\n'\n",
      "['Pippo', ' 1980\\n']\n",
      "Pippo 44\n",
      "-------------\n",
      "'Felice: 1976\\n'\n",
      "['Felice', ' 1976\\n']\n",
      "Felice 48\n",
      "-------------\n",
      "'Geronima: 1999\\n'\n",
      "['Geronima', ' 1999\\n']\n",
      "Geronima 25\n",
      "-------------\n",
      "'Ciccio: 1980\\n'\n",
      "['Ciccio', ' 1980\\n']\n",
      "Ciccio 44\n",
      "-------------\n",
      "'Luca: 1972\\n'\n",
      "['Luca', ' 1972\\n']\n",
      "Luca 52\n",
      "-------------\n",
      "'Roberto: 1999\\n'\n",
      "['Roberto', ' 1999\\n']\n",
      "Roberto 25\n",
      "-------------\n",
      "'Pluto: 1972\\n'\n",
      "['Pluto', ' 1972\\n']\n",
      "Pluto 52\n",
      "-------------\n",
      "'Mimmo: 1976\\n'\n",
      "['Mimmo', ' 1976\\n']\n",
      "Mimmo 48\n",
      "-------------\n",
      "'Totò: 1923'\n",
      "['Totò', ' 1923']\n",
      "Totò 101\n",
      "-------------\n"
     ]
    }
   ],
   "source": [
    "from datetime import date\n",
    "\n",
    "anno_corrente = date.today().year  # int : 2024\n",
    "\n",
    "# [1] Percorso relativo a un file che si trova in una cartella differente\n",
    "# percorso_file = '../../../files_esercizi/nomi_data_nascita.txt'\n",
    "\n",
    "# [2] Percorso relativo al file che si trova nella medesima cartella in cui mi trovo io\n",
    "percorso_file = 'nomi_data_nascita.txt'\n",
    "\n",
    "# [3] Percorso assoluto al file\n",
    "# (mac e linux)\n",
    "# percorso_file = '/Users/pippo/Repositories/python_corso_base/files_esercizi/nomi_data_nascita.txt'\n",
    "# (windows)\n",
    "# percorso_file = 'C:/Users/pippo/Repositories/python_corso_base/files_esercizi/nomi_data_nascita.txt'\n",
    "# percorso_file = 'C:\\\\Users\\\\pippo\\\\Repositories\\\\python_corso_base\\\\files_esercizi\\\\nomi_data_nascita.txt'\n",
    "\n",
    "report = {}\n",
    "\n",
    "# Accedo al file\n",
    "mio_file = open(percorso_file, 'r', encoding='utf-8')\n",
    "\n",
    "# print(mio_file.read())  # Read legge tutto il file come una stringa unica\n",
    "\n",
    "# mio_file.seek(0)  # \"riavvolgo\" il file\n",
    "\n",
    "# Leggere il contenuto del file di TESTO\n",
    "# Per ciascuna riga:\n",
    "for line in mio_file:  # ATTENZIONE: funziona solo se il file è testuale\n",
    "    \n",
    "    # print(line)      # Stampo la stringa che rappresenta la linea\n",
    "    print(repr(line))  # Stampo la repr(), che mi mostra più informazioni\n",
    "    \n",
    "    lista_linea = line.split(':')\n",
    "    print(lista_linea)  # Stampo il risultato di str.split()\n",
    "    \n",
    "    nome = lista_linea[0]\n",
    "    anno_nascita = int(lista_linea[1].strip())   # Attenzione al tipo di dato!!\n",
    "    eta = anno_corrente - anno_nascita\n",
    "    \n",
    "    print(nome, eta)  # Stampo il risultato, nome e età\n",
    "    print('-------------')\n",
    "\n",
    "    # ... ora si può compilare il report ...\n",
    "    # ...\n",
    "\n",
    "mio_file.close()  # Chiudiamo il file e liberiamo la memoria!\n"
   ]
  },
  {
   "cell_type": "markdown",
   "metadata": {},
   "source": [
    "## 2) Compilare il dizionario del report"
   ]
  },
  {
   "cell_type": "markdown",
   "metadata": {},
   "source": [
    "#### Controllo con `if key in dict`"
   ]
  },
  {
   "cell_type": "code",
   "execution_count": 25,
   "metadata": {},
   "outputs": [
    {
     "name": "stdout",
     "output_type": "stream",
     "text": [
      "{25: ['Ada', 'Geronima', 'Roberto'], 44: ['Pippo', 'Ciccio'], 48: ['Felice', 'Mimmo'], 52: ['Luca', 'Pluto'], 101: ['Totò']}\n"
     ]
    }
   ],
   "source": [
    "from datetime import date\n",
    "\n",
    "anno_corrente = date.today().year  # int : 2024\n",
    "\n",
    "percorso_file = 'nomi_data_nascita.txt'\n",
    "\n",
    "report = {}\n",
    "\n",
    "mio_file = open(percorso_file, 'r', encoding='utf-8')\n",
    "\n",
    "for line in mio_file:\n",
    "    lista_linea = line.split(':')\n",
    "    nome = lista_linea[0]\n",
    "    anno_nascita = int(lista_linea[1].strip())\n",
    "    eta = anno_corrente - anno_nascita\n",
    "    \n",
    "    # Se la chiave con l'età è presente nel dizionario\n",
    "    if eta in report:\n",
    "        report[eta].append(nome)  # Posso appendere\n",
    "        # report[eta] += [nome]   # Oppure posso concatenare (ATTENZIONE: più lento!)\n",
    "    # Se la chiave con l'età NON è presente\n",
    "    else:\n",
    "        report[eta] = [nome]      # Creo una lista con il nome come unico elemento\n",
    "\n",
    "\n",
    "    # NOTA: Potremmo anche usare l'operatore ternario e scrivere in una sola riga.\n",
    "    #       In questo modo però sono costretto a concatenare:\n",
    "    # report[eta] = report[eta] + [nome] if eta in report else [nome]\n",
    "\n",
    "print(dict(report))\n",
    "\n",
    "mio_file.close()"
   ]
  },
  {
   "cell_type": "markdown",
   "metadata": {},
   "source": [
    "#### Uso di `dict.get()`"
   ]
  },
  {
   "cell_type": "code",
   "execution_count": 1,
   "metadata": {},
   "outputs": [
    {
     "name": "stdout",
     "output_type": "stream",
     "text": [
      "{25: ['Ada', 'Geronima', 'Roberto'], 44: ['Pippo', 'Ciccio'], 48: ['Felice', 'Mimmo'], 52: ['Luca', 'Pluto'], 101: ['Totò']}\n"
     ]
    }
   ],
   "source": [
    "from datetime import date\n",
    "\n",
    "anno_corrente = date.today().year  # int\n",
    "\n",
    "percorso_file = 'nomi_data_nascita.txt'\n",
    "\n",
    "report = {}\n",
    "\n",
    "mio_file = open(percorso_file, 'r', encoding='utf-8')\n",
    "\n",
    "for line in mio_file:  # ATTENZIONE: funziona solo se il file è testuale\n",
    "    lista_linea = line.split(':')\n",
    "    nome = lista_linea[0]\n",
    "    anno_nascita = int(lista_linea[1].strip())   # Attenzione al tipo di dato!!\n",
    "    eta = anno_corrente - anno_nascita\n",
    "    \n",
    "    # Assegno un valore alla chiave. Se esiste, a questo sarà concatenato il nome,\n",
    "    # altrimenti verrà restituita una lista vuota a cui comunque sarà concatenato il nome.\n",
    "    report[eta] = report.get(eta, []) + [nome]\n",
    "\n",
    "print(dict(report))\n",
    "\n",
    "mio_file.close()"
   ]
  },
  {
   "cell_type": "markdown",
   "metadata": {},
   "source": [
    "#### Uso di `defaultdict` dal modulo `collections`"
   ]
  },
  {
   "cell_type": "code",
   "execution_count": 3,
   "metadata": {},
   "outputs": [
    {
     "name": "stdout",
     "output_type": "stream",
     "text": [
      "{25: ['Ada', 'Geronima', 'Roberto'], 44: ['Pippo', 'Ciccio'], 48: ['Felice', 'Mimmo'], 52: ['Luca', 'Pluto'], 101: ['Totò']}\n"
     ]
    }
   ],
   "source": [
    "from datetime import date\n",
    "from collections import defaultdict\n",
    "\n",
    "anno_corrente = date.today().year  # int\n",
    "\n",
    "percorso_file = 'nomi_data_nascita.txt'\n",
    "\n",
    "# Inizializzo il defaultdict\n",
    "# report = defaultdict(lambda: [])  # Funzione anonima\n",
    "report = defaultdict(list)      # Classe list\n",
    "\n",
    "mio_file = open(percorso_file, 'r', encoding='utf-8')\n",
    "\n",
    "for line in mio_file:\n",
    "    lista_linea = line.split(':')\n",
    "    nome = lista_linea[0]\n",
    "    anno_nascita = int(lista_linea[1].strip())   # Attenzione al tipo di dato!!\n",
    "    eta = anno_corrente - anno_nascita\n",
    "    \n",
    "    # Tento di fare l'append in modo diretto.\n",
    "    # (se la chiave non esiste verrà creata con una lista vuota a cui appendo il nome)\n",
    "    report[eta].append(nome)\n",
    "    # report[eta] += [nome]\n",
    "\n",
    "print(dict(report))\n",
    "\n",
    "mio_file.close()"
   ]
  },
  {
   "cell_type": "markdown",
   "metadata": {},
   "source": [
    "Altro modo per ciclare sulle righe di un file:"
   ]
  },
  {
   "cell_type": "code",
   "execution_count": 2,
   "metadata": {},
   "outputs": [
    {
     "name": "stdout",
     "output_type": "stream",
     "text": [
      "Ada: 1999\n",
      "\n",
      "Pippo: 1980\n",
      "\n",
      "Felice: 1976\n",
      "\n",
      "Geronima: 1999\n",
      "\n",
      "Ciccio: 1980\n",
      "\n",
      "Luca: 1972\n",
      "\n",
      "Roberto: 1999\n",
      "\n",
      "Pluto: 1972\n",
      "\n",
      "Mimmo: 1976\n",
      "\n",
      "Totò: 1923\n"
     ]
    }
   ],
   "source": [
    "mio_file = open(percorso_file, 'r', encoding='utf-8')\n",
    "\n",
    "while True:\n",
    "    linea = mio_file.readline()  # Questo metodo restituisce una riga alla volta,\n",
    "                                 # ogni volta che viene invocato.\n",
    "    if linea != '':\n",
    "        print(linea)\n",
    "    else:\n",
    "        break\n",
    "\n",
    "mio_file.close()"
   ]
  },
  {
   "cell_type": "markdown",
   "metadata": {},
   "source": [
    "## 3) Scrivere il report su un file"
   ]
  },
  {
   "attachments": {},
   "cell_type": "markdown",
   "metadata": {},
   "source": [
    "Ora, riesci a scriverle in un file nuovo, mantenendo il seguente formato?\n",
    "\n",
    "```python\n",
    "Nome,Età\n",
    "Ada,25\n",
    "Geronim,25\n",
    "Roberto,25\n",
    "Pippo,44\n",
    "Ciccio,44\n",
    "...\n",
    "```"
   ]
  },
  {
   "cell_type": "markdown",
   "metadata": {},
   "source": [
    "Prova a scrivere un nuovo file `nomi_eta.csv` nella cartella `/files_esercizi` del nostro repository.\n",
    "\n",
    "Normalmente i file `.csv` hanno la prima linea dedicata alle \"intestazioni di colonna\". In questo caso nella prima riga del file dovremmo avere `Nome,Età`."
   ]
  },
  {
   "cell_type": "markdown",
   "metadata": {},
   "source": [
    "> NOTA: Se il nostro dizionario `report` è fatto come segue, come otteniamo il file di output?\n",
    "\n",
    "```python\n",
    "{\n",
    "    25: [\"Ada:\", \"Geronima:\", \"Roberto:\"],\n",
    "    44: [\"Pippo:\", \"Ciccio:\"],\n",
    "    48: [\"Felice:\", \"Mimmo:\"],\n",
    "    52: [\"Luca:\", \"Pluto:\"],\n",
    "    101: [\"Totò:\"],\n",
    "}\n",
    "```"
   ]
  },
  {
   "cell_type": "markdown",
   "metadata": {},
   "source": [
    "### Ciclare coppie (chiave, valore) con `dict.items()`"
   ]
  },
  {
   "cell_type": "markdown",
   "metadata": {},
   "source": [
    "Ricorda cosa fa il metodo `dict.items()`:"
   ]
  },
  {
   "cell_type": "code",
   "execution_count": 5,
   "metadata": {},
   "outputs": [
    {
     "data": {
      "text/plain": [
       "dict_items([(25, ['Ada', 'Geronima', 'Roberto']), (44, ['Pippo', 'Ciccio']), (48, ['Felice', 'Mimmo']), (52, ['Luca', 'Pluto']), (101, ['Totò'])])"
      ]
     },
     "execution_count": 5,
     "metadata": {},
     "output_type": "execute_result"
    }
   ],
   "source": [
    "report.items()"
   ]
  },
  {
   "cell_type": "code",
   "execution_count": 5,
   "metadata": {},
   "outputs": [
    {
     "name": "stdout",
     "output_type": "stream",
     "text": [
      "(25, ['Ada', 'Geronima', 'Roberto'])\n",
      "(44, ['Pippo', 'Ciccio'])\n",
      "(48, ['Felice', 'Mimmo'])\n",
      "(52, ['Luca', 'Pluto'])\n",
      "(101, ['Totò'])\n"
     ]
    }
   ],
   "source": [
    "for tupla in report.items():\n",
    "    print(tupla)"
   ]
  },
  {
   "cell_type": "markdown",
   "metadata": {},
   "source": [
    "E che possiamo assegnare valori a più variabili in questo modo:"
   ]
  },
  {
   "cell_type": "code",
   "execution_count": 1,
   "metadata": {},
   "outputs": [
    {
     "name": "stdout",
     "output_type": "stream",
     "text": [
      "25\n",
      "['Ada', 'Geronima', 'Roberto']\n"
     ]
    }
   ],
   "source": [
    "eta, lista_nomi = (25, ['Ada', 'Geronima', 'Roberto'])\n",
    "\n",
    "print(eta)\n",
    "print(lista_nomi)"
   ]
  },
  {
   "cell_type": "code",
   "execution_count": 8,
   "metadata": {},
   "outputs": [],
   "source": [
    "with open('nomi_eta.csv', 'w', encoding='utf-8') as out_file:\n",
    "    intestazione = 'Nome,Età\\n'\n",
    "    out_file.write(intestazione)\n",
    "    for eta, lista_nomi in report.items():        # Per ciascuna chiave (età) e valore (lista nomi)\n",
    "        for nome in lista_nomi:                      # Per ciascun nome\n",
    "            # riga = nome + ',' + str(eta) + '\\n'\n",
    "            riga = f'{nome},{eta}\\n'\n",
    "            out_file.write(riga)"
   ]
  },
  {
   "cell_type": "markdown",
   "metadata": {},
   "source": [
    "### Ciclare solo le chiavi"
   ]
  },
  {
   "cell_type": "code",
   "execution_count": 4,
   "metadata": {},
   "outputs": [
    {
     "name": "stdout",
     "output_type": "stream",
     "text": [
      "25\n",
      "44\n",
      "48\n",
      "52\n",
      "101\n"
     ]
    }
   ],
   "source": [
    "for eta in report:\n",
    "    print(eta)"
   ]
  },
  {
   "cell_type": "markdown",
   "metadata": {},
   "source": [
    "##### Metodo proposto da Alessandro M."
   ]
  },
  {
   "cell_type": "code",
   "execution_count": 11,
   "metadata": {},
   "outputs": [],
   "source": [
    "with open('nomi_eta.csv', 'w', encoding='utf-8') as out_file:\n",
    "    intestazione = 'Nome,Età\\n'\n",
    "    out_file.write(intestazione)\n",
    "    for eta in report:                       # Per ciascuna chiave (età) del report:\n",
    "        for idx in range(len(report[eta])):     # Per ciascun indice della lista di\n",
    "                                                # nomi corrispondente alla chiave (età):\n",
    "            nome = report[eta][idx]                # Ottiene il nome dall'indice.\n",
    "            riga = f'{nome},{eta}\\n'               # Compone la riga.\n",
    "            out_file.write(riga)"
   ]
  },
  {
   "cell_type": "markdown",
   "metadata": {},
   "source": [
    "Ciclare sugli indici per poi usare questi per accedere agli elementi di una lista è però più complicato che ciclare direttamente sugli elementi della lista:"
   ]
  },
  {
   "cell_type": "code",
   "execution_count": null,
   "metadata": {},
   "outputs": [],
   "source": [
    "with open('nomi_eta.csv', 'w', encoding='utf-8') as out_file:\n",
    "    intestazione = 'Nome,Età\\n'\n",
    "    out_file.write(intestazione)\n",
    "    for eta in report:                       # Per ciascuna chiave (età) del report:\n",
    "        lista_nomi = report[eta]                # Ottengo subito la lista dei nomi\n",
    "        for nome in lista_nomi:                 # Per ciascun nome della lista:\n",
    "            riga = f'{nome},{eta}\\n'                # Compone la riga\n",
    "            out_file.write(riga)"
   ]
  },
  {
   "cell_type": "markdown",
   "metadata": {},
   "source": [
    "## Creare uno script `.py`"
   ]
  },
  {
   "attachments": {},
   "cell_type": "markdown",
   "metadata": {},
   "source": [
    "Per finire, riusciresti a creare uno script che prende in ingresso due parametri, il file di origine `nomi_data_nascita.txt` e il file di output `nomi_eta.csv` e che esegue le conversione creando il file di output?\n",
    "\n",
    "Per lanciare il nostro script, immaginando di trovarci nella cartella `/files_esercizi`, dovremmo poter lanciare un comando come il seguente:\n",
    "\n",
    "```shell\n",
    "$ py converti_nomi_nascita.py nomi_data_nascita.txt nomi_eta.csv\n",
    "```"
   ]
  },
  {
   "attachments": {},
   "cell_type": "markdown",
   "metadata": {},
   "source": [
    "Crea un nuovo file e chiamalo `converti_nomi_nascita.py` e salvalo dove preferisci, per esempio nella tua cartella `/personale` che dovresti avrere sul tuo branch del nostro repository.\n",
    "\n",
    "Ricorda che poi i percorsi ai file devono essere compatibili con la posizione in cui eseguirai lo script, dove tu ti trovi e dove si trova il file da convertire. Prova varie combinazioni, e vedi cosa succede e dove viene generato il file di output."
   ]
  },
  {
   "cell_type": "markdown",
   "metadata": {},
   "source": [
    "Il file che abbiamo creato a lezione è questo:\n",
    "\n",
    "[converti_nomi_nascita.py](converti_nomi_nascita.py)"
   ]
  }
 ],
 "metadata": {
  "kernelspec": {
   "display_name": ".venv",
   "language": "python",
   "name": "python3"
  },
  "language_info": {
   "codemirror_mode": {
    "name": "ipython",
    "version": 3
   },
   "file_extension": ".py",
   "mimetype": "text/x-python",
   "name": "python",
   "nbconvert_exporter": "python",
   "pygments_lexer": "ipython3",
   "version": "3.11.2"
  },
  "orig_nbformat": 4
 },
 "nbformat": 4,
 "nbformat_minor": 2
}
