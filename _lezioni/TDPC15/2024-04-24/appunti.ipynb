{
 "cells": [
  {
   "cell_type": "markdown",
   "metadata": {},
   "source": [
    "## Percorsi relativi e Current Working Directory\n",
    "\n",
    "VEDI: [L_files.ipynb](../../../L_files.ipynb)\n",
    "\n",
    "Se eseguiamo uno script in questo modo:\n",
    "\n",
    "`C:\\Users> py C:\\Users\\Utente\\qualunque_cartella\\mio_script.py`\n",
    "\n",
    "Allora, in questo caso:\n",
    "\n",
    "- la working directory è `C:\\Users\\`\n",
    "- la cartella dove si trova lo script è `C:\\Users\\Utente\\qualunque_cartella\\`"
   ]
  },
  {
   "cell_type": "markdown",
   "metadata": {},
   "source": [
    "### Path della Current Working Directory (CWD)\n",
    "\n",
    "Per ottenere la CWD abbiamo due alternative:"
   ]
  },
  {
   "cell_type": "markdown",
   "metadata": {},
   "source": [
    "```python\n",
    "import os\n",
    "\n",
    "os.getcwd()\n",
    "```"
   ]
  },
  {
   "cell_type": "markdown",
   "metadata": {},
   "source": [
    "## `file.close()`\n",
    "\n",
    "Se usiamo `open()` come segue, dobbiamo ricordarci di chiudere il file."
   ]
  },
  {
   "cell_type": "code",
   "execution_count": null,
   "metadata": {},
   "outputs": [],
   "source": [
    "mio_file = open('./files_esercizi/tarantino.txt', 'r', encoding='utf-8')\n",
    "...\n",
    "mio_file.close()"
   ]
  },
  {
   "cell_type": "markdown",
   "metadata": {},
   "source": [
    "In alternativa, per evitare di dover chiudere manualmente il file, possiamo usare:"
   ]
  },
  {
   "cell_type": "markdown",
   "metadata": {},
   "source": [
    "## Context manager con `with ... as`"
   ]
  },
  {
   "cell_type": "code",
   "execution_count": null,
   "metadata": {},
   "outputs": [
    {
     "name": "stdout",
     "output_type": "stream",
     "text": [
      "Reservoir Dogs\n",
      "Pulp Fiction\n",
      "Jackie Brown\n",
      "Kill Bill: Volume 1\n",
      "Kill Bill: Volume 2\n",
      "Grindhouse: Death Proof\n",
      "Inglorious Basterds\n",
      "Django Unchained\n",
      "The Hateful Eight\n",
      "Once Upon a Time in Hollywood\n"
     ]
    }
   ],
   "source": [
    "with open('./files_esercizi/tarantino.txt', 'r', encoding='utf-8') as mio_file:\n",
    "    for line in mio_file:\n",
    "        # usiamo strip() per sbarazzarci dei simboli di newline\n",
    "        print(line.strip())\n",
    "\n",
    "# Qua, fuori dal \"with\", il file è ormai chiuso"
   ]
  },
  {
   "cell_type": "markdown",
   "metadata": {},
   "source": [
    "## Scrittura su file"
   ]
  },
  {
   "cell_type": "markdown",
   "metadata": {},
   "source": [
    "Con `file.write()` puoi scrivere una stringa della lunghezza desiderata.\n",
    "\n",
    "Per creare le righe basta inserire il carattere `\\n` quando necessario."
   ]
  },
  {
   "cell_type": "code",
   "execution_count": null,
   "metadata": {},
   "outputs": [],
   "source": [
    "with open('../../../files_esercizi/outputs/test_write_2line.txt', 'w', encoding='utf-8') as mio_file:\n",
    "    mio_file.write(\"Questa è una riga in un file di prova!\\nE questa è un'altra riga.\")\n",
    "\n",
    "# Qua, fuori dal \"with\", il file è ormai chiuso"
   ]
  },
  {
   "cell_type": "markdown",
   "metadata": {},
   "source": [
    "## Creazione di link in Markdown"
   ]
  },
  {
   "cell_type": "markdown",
   "metadata": {},
   "source": [
    "Link creato in Markdown.\n",
    "\n",
    "Scrivendo questo:\n",
    "\n",
    "```text\n",
    "[Notebook: 03.02_git.ipynb](../../../03.02_git.ipynb)\n",
    "```\n",
    "\n",
    "Si ottiene questo:\n",
    "\n",
    "[Notebook: 03.02_git.ipynb](../../../03.02_git.ipynb)\n",
    "\n"
   ]
  },
  {
   "cell_type": "markdown",
   "metadata": {},
   "source": [
    "In realtà, dietro le quinte, viene creato un link come il seguente:"
   ]
  },
  {
   "cell_type": "code",
   "execution_count": null,
   "metadata": {
    "vscode": {
     "languageId": "html"
    }
   },
   "outputs": [],
   "source": [
    "<a href=\"../../../03.02_git.ipynb\">Notebook: 03.02_git.ipynb</a>"
   ]
  },
  {
   "cell_type": "markdown",
   "metadata": {},
   "source": [
    "Link creato in HTML:\n",
    "\n",
    "<a href=\"../../../03.02_git.ipynb\">Notebook: 03.02_git.ipynb</a>"
   ]
  }
 ],
 "metadata": {
  "language_info": {
   "name": "python"
  }
 },
 "nbformat": 4,
 "nbformat_minor": 2
}
