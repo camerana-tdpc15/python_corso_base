{
 "cells": [
  {
   "cell_type": "markdown",
   "metadata": {},
   "source": [
    "## Help\n",
    "\n",
    "[Notebook 04_python_base.ipynb - Sezione \"Documentazione su una specifica funzione \"](../../../04_python_base.ipynb)"
   ]
  },
  {
   "cell_type": "markdown",
   "metadata": {},
   "source": [
    "Passando un oggetto che non necessita di essere importato. Ad esempio una funzione built-in."
   ]
  },
  {
   "cell_type": "code",
   "execution_count": null,
   "metadata": {},
   "outputs": [
    {
     "name": "stdout",
     "output_type": "stream",
     "text": [
      "Help on built-in function len in module builtins:\n",
      "\n",
      "len(obj, /)\n",
      "    Return the number of items in a container.\n",
      "\n"
     ]
    }
   ],
   "source": [
    "help(len)"
   ]
  },
  {
   "cell_type": "markdown",
   "metadata": {},
   "source": [
    "Passando una stringa che contiene il nome dell'oggetto."
   ]
  },
  {
   "cell_type": "code",
   "execution_count": null,
   "metadata": {},
   "outputs": [],
   "source": [
    "help('len')"
   ]
  },
  {
   "cell_type": "markdown",
   "metadata": {},
   "source": [
    "Per oggetti che non sono presenti nell'ambiente, dobbiamo importare il modulo o direttamente l'oggetto"
   ]
  },
  {
   "cell_type": "code",
   "execution_count": null,
   "metadata": {},
   "outputs": [],
   "source": [
    "import math\n",
    "from re import sub\n",
    "\n",
    "help(math.trunc)\n",
    "help(sub)"
   ]
  },
  {
   "cell_type": "markdown",
   "metadata": {},
   "source": [
    "Per evitare di dover importare il modulo o l'oggetto, possiamo passarlo come stringa:"
   ]
  },
  {
   "cell_type": "code",
   "execution_count": null,
   "metadata": {},
   "outputs": [
    {
     "name": "stdout",
     "output_type": "stream",
     "text": [
      "Help on built-in function trunc in math:\n",
      "\n",
      "math.trunc = trunc(x, /)\n",
      "    Truncates the Real x to the nearest Integral toward 0.\n",
      "    \n",
      "    Uses the __trunc__ magic method.\n",
      "\n"
     ]
    }
   ],
   "source": [
    "help('math.trunc')\n",
    "help('re.sub')"
   ]
  },
  {
   "cell_type": "markdown",
   "metadata": {},
   "source": [
    "## Risorse didattiche extra"
   ]
  },
  {
   "cell_type": "markdown",
   "metadata": {},
   "source": [
    "[Notebook _risorse_utili.ipynb](../../../_risorse_utili.ipynb)\n",
    "\n",
    "References\n",
    "- https://www.w3schools.com/\n",
    "- https://www.programiz.com/\n",
    "- https://www.geeksforgeeks.org/\n",
    "\n",
    "Tutorial ed esercizi\n",
    "- https://pynative.com/\n",
    "\n",
    "Answers and questions (rating system)\n",
    "- https://stackoverflow.com/\n",
    "\n",
    "Miglior blog (con guide molto dettagliate su ciascun argomento)\n",
    "- https://realpython.com/"
   ]
  },
  {
   "cell_type": "markdown",
   "metadata": {},
   "source": [
    "## Operatore ternario"
   ]
  },
  {
   "cell_type": "markdown",
   "metadata": {},
   "source": [
    "[Notebook 05.01_python_flow_control_if_else.ipynb - Sezione \"Operatore ternario\"](../../../05.01_python_flow_control_if_else.ipynb)"
   ]
  },
  {
   "cell_type": "markdown",
   "metadata": {},
   "source": [
    "```python\n",
    "prima_alternativa if condizione else seconda_alternativa\n",
    "```"
   ]
  },
  {
   "cell_type": "code",
   "execution_count": 4,
   "metadata": {},
   "outputs": [],
   "source": [
    "pippo = 'pluto' if ... else 'paperino'"
   ]
  },
  {
   "cell_type": "markdown",
   "metadata": {},
   "source": [
    "## `not` per invertire un valore"
   ]
  },
  {
   "cell_type": "markdown",
   "metadata": {},
   "source": [
    "`not x`\n",
    "- Se `x` è *truthy*, ottengo `False`.\n",
    "-  Se `x` è *falsy*, ottengo `True`."
   ]
  },
  {
   "cell_type": "markdown",
   "metadata": {},
   "source": [
    "Dato il valore booleano di un qualsiasi valore..."
   ]
  },
  {
   "cell_type": "code",
   "execution_count": 3,
   "metadata": {},
   "outputs": [
    {
     "name": "stdout",
     "output_type": "stream",
     "text": [
      "True\n",
      "False\n",
      "False\n"
     ]
    }
   ],
   "source": [
    "print(bool('pippo'))\n",
    "print(bool(''))\n",
    "print(bool([]))"
   ]
  },
  {
   "cell_type": "markdown",
   "metadata": {},
   "source": [
    "... l'operatore `not` ne inverte il valore."
   ]
  },
  {
   "cell_type": "code",
   "execution_count": 2,
   "metadata": {},
   "outputs": [
    {
     "name": "stdout",
     "output_type": "stream",
     "text": [
      "False\n",
      "True\n",
      "True\n"
     ]
    }
   ],
   "source": [
    "print(not 'pippo')\n",
    "print(not '')\n",
    "print(not [])"
   ]
  }
 ],
 "metadata": {
  "kernelspec": {
   "display_name": "Python 3",
   "language": "python",
   "name": "python3"
  },
  "language_info": {
   "codemirror_mode": {
    "name": "ipython",
    "version": 3
   },
   "file_extension": ".py",
   "mimetype": "text/x-python",
   "name": "python",
   "nbconvert_exporter": "python",
   "pygments_lexer": "ipython3",
   "version": "3.11.2"
  }
 },
 "nbformat": 4,
 "nbformat_minor": 2
}
