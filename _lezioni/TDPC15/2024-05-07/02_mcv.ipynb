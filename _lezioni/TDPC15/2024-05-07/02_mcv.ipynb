{
 "cells": [
  {
   "cell_type": "markdown",
   "metadata": {},
   "source": [
    "## MVC\n",
    "\n",
    "Il pattern architetturale Model-View-Controller (MVC) è un metodo popolare per organizzare il codice nelle applicazioni software, specialmente nelle applicazioni web. Questo modello divide l'applicazione in tre componenti interconnessi ma distinti, ciascuno responsabile per una specifica parte del processo dell'applicazione.\n",
    "\n",
    "![mvc.png](./imgs/mvc.png)\n",
    "\n",
    "Questa separazione aiuta a gestire la complessità, facilita la manutenzione del codice e supporta la scalabilità. Ecco una spiegazione dettagliata di ciascuno dei tre componenti:\n",
    "\n",
    "### 1. Model\n",
    "Il **Model** rappresenta la parte \"logica dei dati\" dell'applicazione. Gestisce i dati, la logica e le regole dell'applicazione. In un'applicazione MVC, il modello è responsabile per l'accesso ai dati persistenti (come un database), la loro elaborazione e la preparazione per essere inviati alla view. Non ha nessuna conoscenza diretta delle view o dei controller, il che significa che non sa come i dati vengono presentati all'utente o quali azioni specifiche l'utente può eseguire. \n",
    "\n",
    "Esempi di funzionalità del modello includono:\n",
    "- Recuperare i dati dal database.\n",
    "- Salvare e aggiornare record nel database.\n",
    "- Validare i dati ricevuti dal controller.\n",
    "- Eseguire calcoli necessari o altre manipolazioni dei dati.\n",
    "\n",
    "### 2. View\n",
    "La **View** è responsabile per la presentazione dei dati forniti dal modello in un formato adatto all'interazione con l'utente. In un'applicazione web, la view genera l'HTML che viene mostrato nel browser. Le view non elaborano i dati ricevuti dal modello, ma possono decidere come visualizzarli. La view è il componente che effettivamente rende l'interfaccia utente, e per questo può consistere di elementi come grafica, controlli e altri elementi di layout.\n",
    "\n",
    "Funzioni tipiche della view includono:\n",
    "- Visualizzare i dati (o parte di essi) ricevuti dal modello.\n",
    "- Inviare le azioni dell'utente al controller (ad esempio, quando un utente clicca un bottone in un form).\n",
    "- Aggiornare la presentazione quando i dati nel modello cambiano.\n",
    "\n",
    "### 3. Controller\n",
    "Il **Controller** agisce come un intermediario tra model e view. Riceve input dall'utente, tramite la view, e lavora con il modello per elaborare questi input. Dopo che il modello ha elaborato i dati, il controller riceve i dati aggiornati dal modello e li passa alla view per la presentazione. Se necessario, il controller può anche decidere di cambiare la view attuale o di invocare differenti azioni nel modello in base all'input dell'utente.\n",
    "\n",
    "Attività comuni del controller includono:\n",
    "- Interpretare le richieste dell'utente, spesso trasmesse tramite eventi generati nell'interfaccia utente.\n",
    "- Coordinare il modello per aggiornare il suo stato (ad es., salvare un record modificato).\n",
    "- Selezionare una view appropriata per la presentazione dei dati del modello."
   ]
  },
  {
   "cell_type": "markdown",
   "metadata": {},
   "source": [
    "In sintesi, il pattern MVC è un modo per separare le parti dell'applicazione in modo funzionale, rendendo il codice più organizzato, facile da gestire e adattabile ai cambiamenti, sia nella logica dell'applicazione che nella sua interfaccia utente."
   ]
  }
 ],
 "metadata": {
  "language_info": {
   "name": "python"
  }
 },
 "nbformat": 4,
 "nbformat_minor": 2
}
