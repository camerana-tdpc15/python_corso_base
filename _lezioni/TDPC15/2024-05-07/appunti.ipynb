{
 "cells": [
  {
   "cell_type": "markdown",
   "metadata": {},
   "source": [
    "## Creazione di un'istanza Flask\n",
    "\n",
    "Innanzitutto importiamo la classe `Flask`.\n",
    "```python\n",
    "from flask import Flask\n",
    "```\n",
    "\n",
    "E poi usiamo questa classe per creare un oggetto `app` che rappresenta la nostra applicazione.\n",
    "```python\n",
    "app = Flask(__name__)\n",
    "```"
   ]
  },
  {
   "cell_type": "markdown",
   "metadata": {},
   "source": [
    "## Routing / Controllers\n",
    "\n",
    "Poi possiamo iniziare a definire le \"route\", ovvero i path (percorsi) a cui vogliamo che la nostra applicazione risponda.\n",
    "\n",
    "```python\n",
    "@app.route(\"/\")\n",
    "def hello_world():\n",
    "    return  'Hello, World!\"'\n",
    "```\n",
    "\n",
    "In questo caso, `\"/\"` indica la *root* del sito.\n",
    "Quindi se il nostro sito attualmente risponde all'URL `http://127.0.0.1:5000`, il singolo slash `/` indica la \"pagina principale\" o la root del sito: `http://127.0.0.1:5000/`."
   ]
  },
  {
   "cell_type": "markdown",
   "metadata": {},
   "source": [
    "Possiamo naturalmente definire un qualunque altro percorso:\n",
    "\n",
    "```python\n",
    "@app.route('/hello')\n",
    "def hello():\n",
    "    return 'Ciao, utente!'\n",
    "```\n",
    "Questa route risponderà all'URL `http://127.0.0.1:5000/hello`"
   ]
  },
  {
   "cell_type": "markdown",
   "metadata": {},
   "source": [
    "## Route con variabili\n",
    "\n",
    "Puoi aggiungere parti variabili a un URL contrassegnando le sezioni con `<nome_variabile>`. La tua funzione riceve quindi `variable_name` come argomento di una parola chiave.\n",
    "\n",
    "```python\n",
    "@app.route(\"/saluta/<name>\")\n",
    "def hello_name(name):\n",
    "    return f\"Hello, {escape(name)}!\"\n",
    "```\n",
    "\n",
    "Facoltativamente, puoi utilizzare un convertitore per specificare il tipo di argomento come `<converter:variable_name>`.\n",
    "\n",
    "```python\n",
    "@app.route('/post/<int:post_id>')\n",
    "def show_post(post_id):\n",
    "    return f'Il post richiesto è {post_id} che è di tipo {escape(type(post_id))}'\n",
    "```\n",
    "\n",
    "### Converter disponibili\n",
    "\n",
    "| Convertitore | Descrizione                                       |\n",
    "| ------------ | ------------------------------------------------- |\n",
    "| `string`     | (default) accetta qualsiasi testo senza slash `/` |\n",
    "| `int`        | accetta solo numeri interi positivi               |\n",
    "| `float`      | accetta solo valori in virgola mobile positivi    |\n",
    "| `path`       | come stringa ma accetta anche gli slash `/`       |\n",
    "| `uuid`       | accetta stringhe in formato UUID                  |"
   ]
  },
  {
   "cell_type": "markdown",
   "metadata": {},
   "source": [
    "## Escaping\n",
    "\n",
    "Bisogna sempre prestare attenzione ai dati che arrivano dal mondo esterno, come quelli inseriti dagli utenti. Se non opportunamente trattati, questi dati potrebbero contenere codice HTML e/o Javascript. Dobbiamo dunque evitare che tali codici vengano \"iniettati\" nelle nostre pagine, perché potrebbero essere veicolo di codici malevoli.\n",
    "\n",
    "Innanzitutto dobbiamo importare la funzione che ci consente di fare l'escape:\n",
    "```python\n",
    "from markupsafe import escape\n",
    "```\n",
    "\n",
    "Il seguente codice gestisce in modo corretto l'input proveniente dall'URL:\n",
    "```python\n",
    "@app.route('/path/<path:subpath>')\n",
    "def show_subpath(subpath):\n",
    "    # Ora abbiamo ciò che l'utente ha scritto dopo /path/\n",
    "    return f'Il subpath è: {escape(subpath)}' \n",
    "```\n",
    "\n",
    "Invece quest'altro non fa l'escape della stringa provenienete dall'URL, esponendo il sito a possibili attacchi:\n",
    "\n",
    "```python\n",
    "@app.route('/path_no_escape/<path:subpath>')\n",
    "def show_subpath_not_escaped(subpath):\n",
    "    return f'Il subpath è: {subpath}'\n",
    "```\n",
    "\n",
    "In questo caso, nel quale non viene utilizzato l'escape, se provassimo ad aprire i seguenti URL, otterremmo una iniezione di codice Javascript:\n",
    "\n",
    "[`http://127.0.0.1:5000/path_no_escape/<script>alert(\"Hacked!\")</script>`](http://127.0.0.1:5000/path_no_escape/<script>alert(\"Hacked!\")</script>)\n",
    "\n",
    "oppure\n",
    "\n",
    "[`http://127.0.0.1:5000/path_no_escape/%3Cscript%3Ealert(%22Hacked!%22)%3C/script%3E`](http://127.0.0.1:5000/path_no_escape/%3Cscript%3Ealert(%22Hacked!%22)%3C/script%3E)"
   ]
  },
  {
   "cell_type": "markdown",
   "metadata": {},
   "source": [
    "### Come fa l'escape a proteggerci?\n",
    "\n",
    "In pratica converte i caratteri considerati \"pericolosi\" nei corrispettivi caratteri scritti usando la codifica HTML.\n",
    "\n",
    "Per esempio, facendo l'escape, il codice HTML e Javascript presente nell'URL precedente:\n",
    "\n",
    "```html\n",
    "<script>alert(\"Hacked!\")</script>\n",
    "```\n",
    "\n",
    "verrebbe convertito in:\n",
    "\n",
    "```html\n",
    "&lt;script&gt;alert(&#34;Hacked!&#34;)&lt;/script&gt;\n",
    "```\n",
    "\n",
    "Rendendolo così inoffensivo.\n"
   ]
  },
  {
   "cell_type": "markdown",
   "metadata": {},
   "source": [
    "## Scrivere caratteri speciali usando le codifiche web standard\n",
    "\n",
    "Il sito [amp-what.com](https://www.amp-what.com/) è molto utile per ottenere la codifica di tutti i caratteri di cui potremmo avere necessità."
   ]
  },
  {
   "cell_type": "markdown",
   "metadata": {},
   "source": [
    "Il carattere `<` può essere codificato in vari modi:\n",
    "\n",
    "- `%3C` usando la codifica per gli URL (%N)\n",
    "\n",
    "- `&#60;` usando la codifica delle entità HTML in decimale (base 10)\n",
    "\n",
    "- `&#x3c;` usando la codifica delle entità HTML in esadecimale (base 16)\n",
    "\n",
    "- `&lt;` usando la codifica delle entità HTML \"nominate\" (*named*)"
   ]
  },
  {
   "cell_type": "markdown",
   "metadata": {},
   "source": [
    "La codifica che usa i nomi anziché i codici numerici è più facile da ricordare.\n",
    "\n",
    "Ecco alcuni dei più comuni simboli che possiamo incontrare e di cui possiamo avere bisogno:\n",
    "\n",
    "- `&lt;` rappresenta il simbolo `<` (lower-than)\n",
    "\n",
    "- `&gt;` rappresenta il simbolo `>` (greater-than)\n",
    "\n",
    "- `&amp;` rappresenta il simbolo `&` (ampersand)\n",
    "\n",
    "- `&quot;` rappresenta il simbolo di virgolette `\"` (quote)\n",
    "\n",
    "- `&apos;` rappresenta il simbolo di apice singolo `'` (apostrophe)\n",
    "\n",
    "- `&nbsp;` rappresenta uno spazio speciale \"indivisibile\" (non-breaking space)"
   ]
  },
  {
   "cell_type": "markdown",
   "metadata": {},
   "source": [
    "## Utilizzo degli strumenti per sviluppatori del browser\n",
    "\n",
    " Gli strumenti per sviluppatori che ci serviranno maggiormente sono (con riferimento al browser Google Chrome):\n",
    "\n",
    " - **Elements** (analizziamo la struttura della pagina)\n",
    "\n",
    " - **Console** (controlliamo se ci sono errori Javascritp)\n",
    "\n",
    " - **Sources** (vediamo tutte le risorse caricate dalla pagina)\n",
    "\n",
    " - **Network** (vediamo tutte le richieste avvenute per scaricare le risorse richieste dalla pagina). In particolare questa sezione è molto utile per leggere gli *header* della richiesta e della risposta e inoltre il contenuto effettivo della risposta."
   ]
  }
 ],
 "metadata": {
  "language_info": {
   "name": "python"
  }
 },
 "nbformat": 4,
 "nbformat_minor": 2
}
