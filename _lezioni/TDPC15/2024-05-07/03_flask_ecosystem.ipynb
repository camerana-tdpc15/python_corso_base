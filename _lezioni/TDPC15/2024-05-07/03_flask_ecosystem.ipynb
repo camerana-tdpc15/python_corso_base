{
 "cells": [
  {
   "cell_type": "markdown",
   "metadata": {},
   "source": [
    "## Flask\n",
    "Flask è un framework leggero per applicazioni web [WSGI](https://wsgi.readthedocs.io/en/latest/). È stato progettato per iniziare in modo semplice e veloce, con la possibilità di scalare verso applicazioni complesse. Nato come semplice [wrapper](https://it.wikipedia.org/wiki/Wrapper) per Werkzeug e Jinja, è diventato uno dei framework per applicazioni web in Python più popolari.\n",
    "- [Docs](https://flask.palletsprojects.com/)\n",
    "- [Repo](https://github.com/pallets/flask/)\n",
    "- [PyPI](https://pypi.org/project/Flask/) &rarr;`pip install Flask`"
   ]
  },
  {
   "cell_type": "markdown",
   "metadata": {},
   "source": [
    "## SQLite\n",
    "SQLite è una libreria in linguaggio C che implementa un piccolo motore di database SQL, veloce, autonomo, affidabile e completo.\n",
    "\n",
    "https://sqlite.org/"
   ]
  },
  {
   "cell_type": "markdown",
   "metadata": {},
   "source": [
    "### Flask-SQLAlchemy\n",
    "Flask-SQLAlchemy è un'estensione per Flask che aggiunge il supporto per SQLAlchemy alle vostre applicazioni.\n",
    "- [Docs](https://flask-sqlalchemy.palletsprojects.com/)\n",
    "- [Repo](https://github.com/pallets-eco/flask-sqlalchemy/)\n",
    "- [PyPI](https://pypi.org/project/Flask-SQLAlchemy/) &rarr;`pip install Flask-SQLAlchemy`"
   ]
  },
  {
   "cell_type": "markdown",
   "metadata": {},
   "source": [
    "### Flask-Admin\n",
    "Flask-Admin risolve il noioso problema di costruire un'interfaccia di amministrazione su un modello di dati esistente. Con poco sforzo, consente di gestire i dati del proprio servizio web attraverso un'interfaccia facile da implementare e usare.\n",
    "- [Docs](https://flask-admin.readthedocs.io/en/latest/)\n",
    "- [Repo](https://github.com/flask-admin/flask-admin)\n",
    "- [PyPI](https://pypi.org/project/Flask-Admin/) &rarr;`pip install Flask-Admin`"
   ]
  },
  {
   "cell_type": "markdown",
   "metadata": {},
   "source": [
    "### Bootstrap-Flask\n",
    "Bootstrap-Flask è una raccolta di macro Jinja per Bootstrap e Flask. Aiuta a renderizzare più facilmente i dati e gli oggetti di Flask usando il markup di Bootstrap.\n",
    "- [Docs](https://bootstrap-flask.readthedocs.io/en/stable/)\n",
    "- [Repo](https://github.com/helloflask/bootstrap-flask/)\n",
    "- [PyPI](https://pypi.org/project/Bootstrap-Flask/) &rarr;`pip install Bootstrap-Flask`\n",
    "\n",
    "**NOTA:** [Flask-Bootstrap](https://pypi.org/project/Flask-Bootstrap/) è una versione più vecchia e non più mantenuta."
   ]
  },
  {
   "cell_type": "markdown",
   "metadata": {},
   "source": [
    "### Flask-WTF\n",
    "Semplice integrazione tra Flask e WTForms. Comprende CSRF, caricamento di file e reCAPTCHA.\n",
    "- [Docs](https://flask-wtf.readthedocs.io/)\n",
    "- [Repo](https://github.com/wtforms/flask-wtf/)\n",
    "- [PyPI](https://pypi.org/project/Flask-WTF/) &rarr;`pip install Flask-WTF`"
   ]
  },
  {
   "cell_type": "markdown",
   "metadata": {},
   "source": [
    "### Flask-Login\n",
    "Flask-Login fornisce la gestione delle sessioni utente per Flask. Gestisce le attività comuni di login e logout e memorizza le sessioni degli utenti per lunghi periodi di tempo.\n",
    "- [Docs](https://flask-login.readthedocs.io/en/latest/)\n",
    "- [Repo](https://github.com/maxcountryman/flask-login)\n",
    "- [PyPI](https://pypi.org/project/Flask-Login/) &rarr;`pip install Flask-Login`\n"
   ]
  },
  {
   "cell_type": "markdown",
   "metadata": {},
   "source": [
    "### Flask-Migrate\n",
    "Flask-Migrate è un'estensione che gestisce le migrazioni di database SQLAlchemy per le applicazioni Flask, utilizzando [Alembic](https://alembic.sqlalchemy.org/en/latest/). Le operazioni sul database sono rese disponibili attraverso l'interfaccia a riga di comando di Flask.\n",
    "- [Docs](https://flask-migrate.readthedocs.io/en/latest/)\n",
    "- [Repo](https://github.com/miguelgrinberg/Flask-Migrate)\n",
    "- [PyPI](https://pypi.org/project/Flask-Migrate/) &rarr;`pip install Flask-Migrate`"
   ]
  },
  {
   "cell_type": "markdown",
   "metadata": {},
   "source": [
    "### python-dotenv\n",
    "Python-dotenv legge coppie chiave-valore da un file `.env` e può impostarle come variabili d'ambiente. Aiuta a sviluppare applicazioni secondo i principi del [12-factor](http://12factor.net/).\n",
    "- [Docs](https://saurabh-kumar.com/python-dotenv/)\n",
    "- [Repo](https://github.com/theskumar/python-dotenv)\n",
    "- [PyPI](https://pypi.org/project/python-dotenv/) &rarr;`pip install python-dotenv`\n"
   ]
  },
  {
   "cell_type": "markdown",
   "metadata": {},
   "source": [
    "### python-decouple\n",
    "Decouple vi aiuta a organizzare le impostazioni della vostra app usando le variabili d'ambiente (come python-dotenv) in modo da poterne cambiare i parametri senza dover alterare il codice dell'applicazione.\n",
    "- [Repo](https://github.com/HBNetwork/python-decouple)\n",
    "- [PyPI](https://pypi.org/project/python-decouple/) &rarr;`pip install python-decouple`\n"
   ]
  },
  {
   "cell_type": "markdown",
   "metadata": {},
   "source": [
    "### pytest\n",
    "Il framework pytest semplifica la scrittura di test piccoli e leggibili e può essere scalato per supportare test funzionali complessi per applicazioni e librerie.\n",
    "- [Docs](https://docs.pytest.org/)\n",
    "- [Repo](https://github.com/pytest-dev/pytest/)\n",
    "- [PyPI](https://pypi.org/project/pytest/) &rarr;`pip install pytest`"
   ]
  }
 ],
 "metadata": {
  "language_info": {
   "name": "python"
  }
 },
 "nbformat": 4,
 "nbformat_minor": 2
}
