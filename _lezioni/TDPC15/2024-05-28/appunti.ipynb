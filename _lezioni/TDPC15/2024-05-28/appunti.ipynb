{
 "cells": [
  {
   "cell_type": "markdown",
   "metadata": {},
   "source": [
    "## Lista di date alternate\n",
    "\n",
    "Nell'esercizio 3 dell'esercitazione viene richiesto di produrre una lista di 6 date alternate (un giorno ogni due) a partire dalla data di oggi.\n",
    "\n",
    "Nello svolgimento, abbiamo fatto così:"
   ]
  },
  {
   "cell_type": "code",
   "execution_count": 1,
   "metadata": {},
   "outputs": [
    {
     "name": "stdout",
     "output_type": "stream",
     "text": [
      "['Wednesday 29/05/2024', 'Friday 31/05/2024', 'Sunday 02/06/2024', 'Tuesday 04/06/2024', 'Thursday 06/06/2024', 'Saturday 08/06/2024']\n"
     ]
    }
   ],
   "source": [
    "from datetime import date, timedelta\n",
    "\n",
    "lista_date = []\n",
    "oggi = date.today()\n",
    "for num in range(6):\n",
    "    data = oggi + timedelta(days=2*num)\n",
    "    lista_date.append(data.strftime('%A %d/%m/%Y').capitalize())\n",
    "\n",
    "print(lista_date)"
   ]
  },
  {
   "cell_type": "markdown",
   "metadata": {},
   "source": [
    "L'espressione `timedelta(days=2*num)` crea un intervallo di tempo in giorni.\n",
    "\n",
    "Se non è chiaro quali valori assumerà l'espressione `2*num`, prova a guardare il seguente codice:"
   ]
  },
  {
   "cell_type": "code",
   "execution_count": 1,
   "metadata": {},
   "outputs": [
    {
     "name": "stdout",
     "output_type": "stream",
     "text": [
      "0\n",
      "2\n",
      "4\n",
      "6\n",
      "8\n",
      "10\n"
     ]
    }
   ],
   "source": [
    "for num in [0, 1, 2, 3, 4, 5]:\n",
    "    print(2*num)"
   ]
  },
  {
   "cell_type": "markdown",
   "metadata": {},
   "source": [
    "## Conversione di un'oggetto data in stringa"
   ]
  },
  {
   "cell_type": "code",
   "execution_count": 2,
   "metadata": {},
   "outputs": [
    {
     "name": "stdout",
     "output_type": "stream",
     "text": [
      "2024-12-01\n",
      "2024-12-01\n"
     ]
    }
   ],
   "source": [
    "from datetime import date\n",
    "\n",
    "# Creo una data usando la classe date\n",
    "mia_data = date(2024, 12, 1)\n",
    "\n",
    "# Se converto la data direttamente in una stringa, ottego la data\n",
    "# in formato ISO, ovvero AAAA-MM-GG\n",
    "print(str(mia_data))\n",
    "\n",
    "# Esattamente come se eseguissi il metodo date.isoformat()\n",
    "print(mia_data.isoformat())"
   ]
  },
  {
   "cell_type": "markdown",
   "metadata": {},
   "source": [
    "## Trasformare in maiuscolo le iniziali in una stringa"
   ]
  },
  {
   "cell_type": "markdown",
   "metadata": {},
   "source": [
    "`str.capitalize()` trasforma in maiuscolo solo il primo carattere della prima parola di una stringa."
   ]
  },
  {
   "cell_type": "code",
   "execution_count": 6,
   "metadata": {},
   "outputs": [
    {
     "data": {
      "text/plain": [
       "'Pippo pluto'"
      ]
     },
     "execution_count": 6,
     "metadata": {},
     "output_type": "execute_result"
    }
   ],
   "source": [
    "'pippo pluto'.capitalize()"
   ]
  },
  {
   "cell_type": "markdown",
   "metadata": {},
   "source": [
    "`str.title()` invece trasforma in maiuscolo tutti i primi caratteri di ciascuna parola contenuta in una stringa."
   ]
  },
  {
   "cell_type": "code",
   "execution_count": 7,
   "metadata": {},
   "outputs": [
    {
     "data": {
      "text/plain": [
       "'Pippo Pluto'"
      ]
     },
     "execution_count": 7,
     "metadata": {},
     "output_type": "execute_result"
    }
   ],
   "source": [
    "'pippo pluto'.title()"
   ]
  },
  {
   "cell_type": "markdown",
   "metadata": {},
   "source": [
    "## Ottenere il primo elemento di una sequenza"
   ]
  },
  {
   "cell_type": "markdown",
   "metadata": {},
   "source": [
    "Dato che le liste e le stringhe sono delle sequenze, ovvero un contenitore di dati ORDINATI, possiamo accedere ai loro elementi usando semplicemente la notazione a subscription.\n",
    "\n",
    "Se vogliamo ottenere il primo elemento di una lista, possiamo scrivere così:"
   ]
  },
  {
   "cell_type": "code",
   "execution_count": 5,
   "metadata": {},
   "outputs": [
    {
     "data": {
      "text/plain": [
       "1"
      ]
     },
     "execution_count": 5,
     "metadata": {},
     "output_type": "execute_result"
    }
   ],
   "source": [
    "mia_lista = [1, 2, 3, 4, 5]\n",
    "\n",
    "mia_lista[0]"
   ]
  },
  {
   "cell_type": "markdown",
   "metadata": {},
   "source": [
    "Esattamente nello stesso modo possiamo ottenere il primo carattere di una stringa:"
   ]
  },
  {
   "cell_type": "code",
   "execution_count": 3,
   "metadata": {},
   "outputs": [
    {
     "data": {
      "text/plain": [
       "'p'"
      ]
     },
     "execution_count": 3,
     "metadata": {},
     "output_type": "execute_result"
    }
   ],
   "source": [
    "mia_stringa = 'pippo'\n",
    "\n",
    "mia_stringa[0]"
   ]
  },
  {
   "cell_type": "markdown",
   "metadata": {},
   "source": [
    "## Composizione di stringhe inserendo variabili al loro interno\n",
    "\n",
    "Per combinare assieme più stringhe, modo più semplice è usare la concatenazione:"
   ]
  },
  {
   "cell_type": "code",
   "execution_count": 8,
   "metadata": {},
   "outputs": [
    {
     "data": {
      "text/plain": [
       "'... 123 ... ciao ...'"
      ]
     },
     "execution_count": 8,
     "metadata": {},
     "output_type": "execute_result"
    }
   ],
   "source": [
    "pippo = 123\n",
    "pluto = 'ciao'\n",
    "\n",
    "'... ' + str(pippo) + ' ... ' + pluto + ' ...'"
   ]
  },
  {
   "cell_type": "markdown",
   "metadata": {},
   "source": [
    "Tuttavia l'uso delle *f-string* è consigliato e più intuitivo:"
   ]
  },
  {
   "cell_type": "code",
   "execution_count": 9,
   "metadata": {},
   "outputs": [
    {
     "data": {
      "text/plain": [
       "'... 123 ... ciao ...'"
      ]
     },
     "execution_count": 9,
     "metadata": {},
     "output_type": "execute_result"
    }
   ],
   "source": [
    "pippo = 123\n",
    "pluto = 'ciao'\n",
    "\n",
    "f'... {pippo} ... {pluto} ...'"
   ]
  },
  {
   "cell_type": "markdown",
   "metadata": {},
   "source": [
    "## Concatenare tutti gli elementi di una sequenza in una stringa usando un separatore"
   ]
  },
  {
   "cell_type": "markdown",
   "metadata": {},
   "source": [
    "Il metodo `.join()` delle stringhe è molto utile quando dobbiamo trasformare una lista in una stringa usando un carattere che separi i vari elementi della lista:"
   ]
  },
  {
   "cell_type": "code",
   "execution_count": 11,
   "metadata": {},
   "outputs": [
    {
     "data": {
      "text/plain": [
       "'a-b-c-d'"
      ]
     },
     "execution_count": 11,
     "metadata": {},
     "output_type": "execute_result"
    }
   ],
   "source": [
    "'-'.join(['a', 'b', 'c', 'd'])"
   ]
  },
  {
   "cell_type": "markdown",
   "metadata": {},
   "source": [
    "Nell'espressione `sep_str.join(list)`, `sep_str` è la stringa che deve esssere usata come separatore e `list` è la lista che contiene gli elementi da concatenare.\n",
    "\n",
    "Questo medoto è molto comodo quando vogliamo stampare a monitor una lista come un elenco di valori separati da virgola:"
   ]
  },
  {
   "cell_type": "code",
   "execution_count": 16,
   "metadata": {},
   "outputs": [
    {
     "name": "stdout",
     "output_type": "stream",
     "text": [
      "a, b, c, d\n"
     ]
    }
   ],
   "source": [
    "mia_stringa = ', '.join(['a', 'b', 'c', 'd'])\n",
    "\n",
    "print(mia_stringa)"
   ]
  },
  {
   "cell_type": "markdown",
   "metadata": {},
   "source": [
    "Oppure se vogliamo produrre un elenco puntato:"
   ]
  },
  {
   "cell_type": "code",
   "execution_count": 17,
   "metadata": {},
   "outputs": [
    {
     "name": "stdout",
     "output_type": "stream",
     "text": [
      "- a\n",
      "- b\n",
      "- c\n",
      "- d\n"
     ]
    }
   ],
   "source": [
    "mia_stringa = '\\n- '.join(['a', 'b', 'c', 'd'])\n",
    "\n",
    "print('-', mia_stringa)"
   ]
  }
 ],
 "metadata": {
  "kernelspec": {
   "display_name": "Python 3",
   "language": "python",
   "name": "python3"
  },
  "language_info": {
   "codemirror_mode": {
    "name": "ipython",
    "version": 3
   },
   "file_extension": ".py",
   "mimetype": "text/x-python",
   "name": "python",
   "nbconvert_exporter": "python",
   "pygments_lexer": "ipython3",
   "version": "3.11.2"
  }
 },
 "nbformat": 4,
 "nbformat_minor": 2
}
