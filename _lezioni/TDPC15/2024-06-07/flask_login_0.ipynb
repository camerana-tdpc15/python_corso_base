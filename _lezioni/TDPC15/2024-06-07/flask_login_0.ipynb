{
 "cells": [
  {
   "cell_type": "markdown",
   "id": "a5a3f29f",
   "metadata": {
    "is_toc": true
   },
   "source": [
    "**Sommario**\n",
    "\n",
    "- [`flask_login_0` - Bozza di applicazione](#flask_login_0---bozza-di-applicazione)\n",
    "  - [Struttura del progetto Flask](#struttura-del-progetto-flask)\n",
    "  - [Inizializzare l'applicazione](#inizializzare-lapplicazione)\n",
    "    - [1. Installazione di Flask](#1-installazione-di-flask)\n",
    "    - [2. Creazione di una applicazione Flask](#2-creazione-di-una-applicazione-flask)\n",
    "  - [Richieste HTTP](#richieste-http)\n",
    "    - [3. Definizione delle *route*](#3-definizione-delle-route)\n",
    "    - [4. Gestione delle richieste HTTP (GET e POST)](#4-gestione-delle-richieste-http-get-e-post)\n",
    "  - [Primi dati](#primi-dati)\n",
    "    - [5. Mock-data per la simulazione dati Utenti e Film](#5-mock-data-per-la-simulazione-dati-utenti-e-film)\n",
    "  - [Risposta alle richieste HTTP con template Jinja](#risposta-alle-richieste-http-con-template-jinja)\n",
    "    - [6. Render dei template con `render_template`](#6-render-dei-template-con-render_template)\n",
    "    - [7. Creazione di template HTML con Jinja](#7-creazione-di-template-html-con-jinja)\n",
    "    - [8. Funzione di reindirizzamento con `redirect()` e `url_for()`](#8-funzione-di-reindirizzamento-con-redirect-e-url_for)\n",
    "  - [Sessione utente](#sessione-utente)\n",
    "    - [9. Gestione del login degli Utenti](#9-gestione-del-login-degli-utenti)\n",
    "      - [Login lato CLIENT](#login-lato-client)\n",
    "      - [Login lato SERVER](#login-lato-server)\n",
    "    - [10. Utilizzo delle sessioni in Flask](#10-utilizzo-delle-sessioni-in-flask)\n",
    "    - [11. Configurazione della chiave segreta per le sessioni](#11-configurazione-della-chiave-segreta-per-le-sessioni)\n",
    "    - [12. Protezione delle pagine con controllo della sessione](#12-protezione-delle-pagine-con-controllo-della-sessione)\n",
    "    - [13. Logout degli utenti](#13-logout-degli-utenti)\n",
    "  - [Includere template parziali con Jinja](#includere-template-parziali-con-jinja)\n",
    "    - [14. Creazione e utilizzo del template parziale per la *navbar*](#14-creazione-e-utilizzo-del-template-parziale-per-la-navbar)\n",
    "    - [15. Inclusione di template parziali con `{% include %}`](#15-inclusione-di-template-parziali-con--include)"
   ]
  },
  {
   "cell_type": "markdown",
   "metadata": {},
   "source": [
    "# `flask_login_0` - Bozza di applicazione"
   ]
  },
  {
   "cell_type": "markdown",
   "metadata": {},
   "source": [
    "Esercitazione INF_PR_PY_WB_E06."
   ]
  },
  {
   "cell_type": "markdown",
   "metadata": {},
   "source": [
    "## Struttura del progetto Flask\n",
    "\n",
    "In questa prima fase, iniziamo strutturando il nostro progetto in questo modo:\n",
    "\n",
    "```text\n",
    "flask_login_0/\n",
    "│\n",
    "├── app.py\n",
    "└── templates/\n",
    "    ├── films.html\n",
    "    ├── home.html\n",
    "    ├── include_navbar.html\n",
    "    └── login.html\n",
    "```"
   ]
  },
  {
   "cell_type": "markdown",
   "metadata": {},
   "source": [
    "## Inizializzare l'applicazione"
   ]
  },
  {
   "cell_type": "markdown",
   "metadata": {},
   "source": [
    "### 1. Installazione di Flask\n",
    "\n",
    "Prima di iniziare a sviluppare un'applicazione Flask, è necessario installare il framework. Questo può essere fatto utilizzando `pip`, il gestore di pacchetti per Python. Apri il terminale e digita il seguente comando:\n",
    "\n",
    "```sh\n",
    "pip install Flask\n",
    "```\n",
    "Oppure:\n",
    "\n",
    "```sh\n",
    "py -m pip install Flask\n",
    "```\n"
   ]
  },
  {
   "cell_type": "markdown",
   "metadata": {},
   "source": [
    "### 2. Creazione di una applicazione Flask\n",
    "\n",
    "Dopo aver installato Flask, possiamo creare una semplice applicazione. La prima cosa da fare è importare Flask e creare un'istanza dell'applicazione. Questo può essere fatto nel file `app.py`:\n",
    "\n",
    "```python\n",
    "from flask import Flask\n",
    "\n",
    "app = Flask(__name__)\n",
    "\n",
    "if __name__ == '__main__':\n",
    "    app.run(debug=True)\n",
    "```\n"
   ]
  },
  {
   "cell_type": "markdown",
   "metadata": {},
   "source": [
    "## Richieste HTTP"
   ]
  },
  {
   "cell_type": "markdown",
   "metadata": {},
   "source": [
    "### 3. Definizione delle *route*\n",
    "\n",
    "In Flask, le *route* definiscono come gestire le diverse URL. Questo si fa utilizzando il desoratore `@app.route()`. Ecco un esempio di definizione delle route nel file `app.py`:\n",
    "\n",
    "```python\n",
    "from flask import Flask, render_template, redirect, url_for\n",
    "\n",
    "app = Flask(__name__)\n",
    "\n",
    "@app.route('/')\n",
    "def home():\n",
    "    return render_template('home.html')\n",
    "\n",
    "@app.route('/login', methods=['GET', 'POST'])\n",
    "def login():\n",
    "    # logica di login\n",
    "    return render_template('login.html')\n",
    "\n",
    "@app.route('/logout')\n",
    "def logout():\n",
    "    # logica di logout\n",
    "    return redirect(url_for('home'))\n",
    "\n",
    "@app.route('/films')\n",
    "def films():\n",
    "    # logica per visualizzare la pagina dei film\n",
    "    return render_template('films.html')\n",
    "\n",
    "...\n",
    "```"
   ]
  },
  {
   "cell_type": "markdown",
   "metadata": {},
   "source": [
    "### 4. Gestione delle richieste HTTP (GET e POST)\n",
    "\n",
    "Flask consente di gestire diversi tipi di richieste HTTP come GET e POST.\n",
    "\n",
    "Se nel decoratore `@app.route()` l'argomento `methods` viene omesso, allora l'endpoint reagirà solo alle richieste GET:\n",
    "\n",
    "```python\n",
    "@app.route('/films')  # Solo metodo GET\n",
    "def films():\n",
    "    # logica per la gestione della richiesta GET\n",
    "    return render_template('films.html')\n",
    "```\n",
    "\n",
    "Invece nel login, con l'argomento `methods=['GET', 'POST']` impostiamo l'endpoint ad ascoltare sia le richieste GET sia quelle POST:\n",
    "\n",
    "```python\n",
    "@app.route('/login', methods=['GET', 'POST'])\n",
    "def login():\n",
    "    if request.method == 'POST':\n",
    "        # gestione della richiesta login vera e propria, che avviene con POST\n",
    "        return ...\n",
    "    else:\n",
    "        # logica per la gestione della richiesta GET\n",
    "        return ...\n",
    "```\n",
    "\n",
    "L'oggetto `request.method` ci consente di sapere con quale metodo è stata effettuata la richiesta che abbiamo ricevuto."
   ]
  },
  {
   "cell_type": "markdown",
   "metadata": {},
   "source": [
    "## Primi dati"
   ]
  },
  {
   "cell_type": "markdown",
   "metadata": {},
   "source": [
    "### 5. Mock-data per la simulazione dati Utenti e Film\n",
    "\n",
    "In questa prima fase, non abbiamo ancora un database. Dunque per simulare i dati degli utenti e dei film, possiamo utilizzare dei dizionari o liste di dizionari. Ecco un esempio di come fare:\n",
    "\n",
    "```python\n",
    "from flask import Flask, render_template, redirect, url_for\n",
    "...\n",
    "\n",
    "USERS = {\n",
    "    'mrossi': 'osoejfj3',\n",
    "    'ggangi': 'odoeooeee'\n",
    "}\n",
    "...\n",
    "\n",
    "films = [\n",
    "    {'title': 'Akira', 'img': 'akira.jpg'},\n",
    "    {'title': 'Blade Runner', 'img': url_for('static', filename='blade-runner.jpg')},\n",
    "    # altri film\n",
    "]\n",
    "...\n",
    "```\n",
    "\n",
    "> **NOTA**: L'uso di `url_for()` come nell'esempio è consigliato rispetto a scrivere direttamente il path al file di immagine."
   ]
  },
  {
   "cell_type": "markdown",
   "metadata": {},
   "source": [
    "## Risposta alle richieste HTTP con template Jinja"
   ]
  },
  {
   "cell_type": "markdown",
   "metadata": {},
   "source": [
    "### 6. Render dei template con `render_template`\n",
    "\n",
    "Per rendere i template HTML e passare i dati dal backend al frontend, usiamo `render_template`, che consente di effettuare il cosiddetto Server-Side Rendering (SSR):\n",
    "\n",
    "```python\n",
    "from flask import Flask, render_template\n",
    "\n",
    "@app.route('/films')\n",
    "def films():\n",
    "    # logica per visualizzare la pagina dei film\n",
    "\n",
    "    # Dati da passare alla pagina per poter essere renderizzata\n",
    "    films = [\n",
    "        {'title': 'Akira', 'img': 'akira.jpg'},\n",
    "        {'title': 'Blade Runner', 'img': url_for('static', filename='blade-runner.jpg')},\n",
    "        # altri film\n",
    "    ]\n",
    "\n",
    "    return render_template('films.html', films=films)\n",
    "```\n",
    "\n",
    "Dall'altra parte, nel file `films.html`, possiamo utilizzare l'oggetto `film`. Vediamo come."
   ]
  },
  {
   "cell_type": "markdown",
   "metadata": {},
   "source": [
    "### 7. Creazione di template HTML con Jinja\n",
    "\n",
    "I template HTML utilizzano Jinja per inserire dinamicamente i dati che sono stati passati alla funzione `render_template`. Ecco il file `films.html` a cui è previsto che venga passato un oggetto `films`, contenente i dati dei film da visualizzare:\n",
    "\n",
    "```html\n",
    "<!DOCTYPE html>\n",
    "<html>\n",
    "<head>\n",
    "    <title>Login</title>\n",
    "</head>\n",
    "<body>\n",
    "\n",
    "    <h2>PAGINA FILMS</h2>\n",
    "\n",
    "    {% for film in films %}\n",
    "        <p>Titolo: {{ film.title }} - Immagine: {{ film.image }}</p>\n",
    "    {% endfor %}\n",
    "\n",
    "</body>\n",
    "</html>\n",
    "```"
   ]
  },
  {
   "cell_type": "markdown",
   "metadata": {},
   "source": [
    "### 8. Funzione di reindirizzamento con `redirect()` e `url_for()`\n",
    "\n",
    "Per reindirizzare l'utente a una pagina diversa, modificando l'URL, utilizziamo la combinazione di `redirect()` e `url_for()`:\n",
    "\n",
    "```python\n",
    "from flask import Flask, redirect, url_for\n",
    "\n",
    "@app.route('/logout')\n",
    "def logout():\n",
    "    # logica di logout\n",
    "    ...\n",
    "    return redirect(url_for('home'))  # Reindirizza alla route /\n",
    "```\n"
   ]
  },
  {
   "cell_type": "markdown",
   "metadata": {},
   "source": [
    "## Sessione utente"
   ]
  },
  {
   "cell_type": "markdown",
   "metadata": {},
   "source": [
    "### 9. Gestione del login degli Utenti"
   ]
  },
  {
   "cell_type": "markdown",
   "metadata": {},
   "source": [
    "#### Login lato CLIENT\n",
    "\n",
    "Lato client, la pagina di autenticazione dovrebbe essere implementata in un modo simile a questo:\n",
    "\n",
    "```html\n",
    "<form method=\"post\">\n",
    "    <label for=\"username_input\">Username:</label>\n",
    "    <input type=\"text\" id=\"username_input\" name=\"tx_user\" required>\n",
    "    <br>\n",
    "    <label for=\"password_input\">Password:</label>\n",
    "    <input type=\"password\" id=\"password_input\" name=\"tx_password\" required>\n",
    "    <br>\n",
    "    <button type=\"submit\" name=\"bt_login\">Invia</button>\n",
    "</form>\n",
    "```\n",
    "In questo modo, quando l'utente preme il pulsante \"Invia\", verrà eseguita una richiesta POST usando il formato FormData."
   ]
  },
  {
   "cell_type": "markdown",
   "metadata": {},
   "source": [
    "#### Login lato SERVER\n",
    "\n",
    "Lato server, la logica per la verifica le credenziali ricevute dall'utente, consiste nei seguenti passaggi:\n",
    "\n",
    "- Se è stata ricevuta una richiesta POST\n",
    "    - Prova a leggere nome utente e password inviati dall'utente\n",
    "    - Se il nome utente ricevuto esiste:\n",
    "        - Se la password ricevuta è quella prevista:\n",
    "            - Fai il redirect alla pagina dei film\n",
    "        - Altrimenti, la password è errata:\n",
    "            - Renderizza e restituisci la pagina di login\n",
    "    - Altrimenti (se il nome utente non esiste):\n",
    "        - Renderizza e restituisci la pagina di login\n",
    "- Altrimenti (se è stata ricevuta una richiesta POST):\n",
    "    - Renderizza e restituisci la pagina di login\n",
    "\n",
    "Notate che tutti gli `else` possono essere omessi in quanto `return`, oltre che restituire la risposta, blocca l'esecuzione della funzione. Sfruttando questo comportamento, possiamo scrivere il tutto in un modo più leggibile e manutenibile:\n",
    "\n",
    "```python\n",
    "USERS = {\n",
    "    'mrossi': 'osoejfj3',\n",
    "    'ggangi': 'odoeooeee'\n",
    "}\n",
    "...\n",
    "\n",
    "@app.route('/login', methods=['GET', 'POST'])\n",
    "def login():\n",
    "    if request.method == 'POST':\n",
    "        # Leggiamo il nome utente (rx_username)\n",
    "        rx_username = request.form.get('tx_user')\n",
    "        # Leggiamo la password (rx_password)\n",
    "        rx_password = request.form.get('tx_password')\n",
    "\n",
    "        # Controllo se l'utente è presente\n",
    "        if rx_username in USERS:\n",
    "            # Controllo se la password è corretta\n",
    "            if USERS[rx_username] == rx_password:\n",
    "                # Reindirizza alla pagina dei film\n",
    "                return redirect(url_for('films'))\n",
    "\n",
    "    # NOTA: Questo return viene eseguito se una qualunque delle condizioni\n",
    "    #       precedenti non si verifica\n",
    "    return render_template('login.html')\n",
    "```"
   ]
  },
  {
   "cell_type": "markdown",
   "metadata": {},
   "source": [
    "### 10. Utilizzo delle sessioni in Flask\n",
    "\n",
    "Flask permette di mantenere le informazioni della sessione tra le richieste HTTP provenienti da uno stesso utente. Questo lo si fa utilizzando l'oggetto `session`:\n",
    "\n",
    "```python\n",
    "from flask import session\n",
    "\n",
    "@app.route('/login', methods=['GET', 'POST'])\n",
    "def login():\n",
    "    if request.method == 'POST':\n",
    "        rx_username = request.form.get('tx_user')\n",
    "        rx_password = request.form.get('tx_password')\n",
    "        if rx_username in USERS and USERS[rx_username] == rx_password:\n",
    "\n",
    "            # Annota il nome utente nella sessione, d'ora in avanti, se la chiave\n",
    "            # 'username' è presente in session, vuol dire che l'utente è autenticato\n",
    "            session['username'] = username\n",
    "            \n",
    "            return redirect(url_for('films'))\n",
    "    \n",
    "    return render_template('login.html')\n",
    "```\n"
   ]
  },
  {
   "cell_type": "markdown",
   "metadata": {},
   "source": [
    "### 11. Configurazione della chiave segreta per le sessioni\n",
    "\n",
    "Per utilizzare `session`, Flask richiede una chiave segreta che verrà utilizzata per crittografare e firmare il cookie di sessione inviato all'utente.\n",
    "\n",
    "```python\n",
    "from flask import Flask, ...\n",
    "\n",
    "app = Flask(__name__)\n",
    "\n",
    "app.secret_key = 'xR3$w#d@3G2_5pfgWz5paE3&b4so#E72lHeZGgX!o'\n",
    "```"
   ]
  },
  {
   "cell_type": "markdown",
   "metadata": {},
   "source": [
    "### 12. Protezione delle pagine con controllo della sessione\n",
    "\n",
    "Per proteggere le pagine e richiedere l'autenticazione, possiamo verificare la presenza della chiave `'username'` nella sessione usando l'espressione `'username' in session`:\n",
    "\n",
    "```python\n",
    "from flask import session\n",
    "...\n",
    "\n",
    "@app.route('/films')\n",
    "def films():\n",
    "    films = [\n",
    "        {'title': 'Akira', 'img': 'akira.jpg'},\n",
    "        {'title': 'Blade Runner', 'img': url_for('static', filename='blade-runner.jpg')},\n",
    "        # ... altri film\n",
    "    ]\n",
    "\n",
    "    # Se la chiave 'username' è presente nella sessione\n",
    "    if 'username' in session:\n",
    "        # Mostro la pagina con i film\n",
    "        return render_template('films.html', films=films)\n",
    "    \n",
    "    # Altrimenti non mostro la pagina e reindirizzo al login\n",
    "    else:\n",
    "        return redirect(url_for('login'))\n",
    "```"
   ]
  },
  {
   "cell_type": "markdown",
   "metadata": {},
   "source": [
    "### 13. Logout degli utenti\n",
    "\n",
    "Per gestire il logout, è sufficiente rimuovere la chiave `'username'` da `session`:\n",
    "\n",
    "```python\n",
    "@app.route('/logout')\n",
    "def logout():\n",
    "    # Elimina la chiave 'username'\n",
    "    session.pop('username', None)\n",
    "\n",
    "    # Reindirizza alla pagina home\n",
    "    return redirect(url_for('home'))\n",
    "```\n",
    "\n",
    "> **ATTENZIONE**: Il metodo `dict.pop()` elimina una chiave e ne restituisce il valore. Se viene omesso il valore di default (es. `None`) e la chiave non esiste, sarà sollevato un errore di tipo `KeyError`!"
   ]
  },
  {
   "cell_type": "markdown",
   "metadata": {},
   "source": [
    "## Includere template parziali con Jinja"
   ]
  },
  {
   "cell_type": "markdown",
   "metadata": {},
   "source": [
    "### 14. Creazione e utilizzo del template parziale per la *navbar*\n",
    "\n",
    "Se abbiamo delle parti di pagina ripetuti uguali su molte pagine, per riutilizzare il codice, possiamo creare dei cosiddetti \"template parziali\".\n",
    "\n",
    "Per esempio se vogliamo inserire una *navbar* in tutte le pagine, possiamo iniziare a scrivere un template `include_navbar.html`, che potrebbe essere strutturato così:\n",
    "\n",
    "```html\n",
    "<nav>\n",
    "  <a href=\"/\">Home</a>\n",
    "  {% if 'username' in session %}\n",
    "    <a href=\"/films\">Films</a>\n",
    "    <a href=\"/logout\">Logout</a>\n",
    "  {% else %}\n",
    "    <a href=\"/login\">Login</a>\n",
    "  {% endif %}\n",
    "</nav>\n",
    "```\n",
    "\n",
    "Ora procediamo a vedere come includerlo nelle pagine vere e proprie."
   ]
  },
  {
   "cell_type": "markdown",
   "metadata": {},
   "source": [
    "### 15. Inclusione di template parziali con `{% include %}`\n",
    "\n",
    "Per inserire un template all'interno di un altro template, possiamo usare l'istruzione Jinja  `{% include 'nome_template.html' %}`.\n",
    "\n",
    "Per esempio, ecco come possiamo includere la *navbar* che abbiamo creato in una qualunque pagina:\n",
    "\n",
    "```html\n",
    "<!DOCTYPE html>\n",
    "<html>\n",
    "<head>\n",
    "    <title>Login</title>\n",
    "</head>\n",
    "<body>\n",
    "    {% include 'include_navbar.html' %} <!-- La navbar verrà inserita qua -->\n",
    "\n",
    "    <h2>TITOLO PAGINA</h2>\n",
    "\n",
    "    <p>Contenuto della pagina.</p>\n",
    "    ...\n",
    "\n",
    "</body>\n",
    "</html>\n",
    "```"
   ]
  }
 ],
 "metadata": {
  "language_info": {
   "name": "python"
  }
 },
 "nbformat": 4,
 "nbformat_minor": 2
}
