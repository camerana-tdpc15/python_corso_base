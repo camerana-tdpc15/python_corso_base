{
 "cells": [
  {
   "cell_type": "markdown",
   "metadata": {},
   "source": [
    "# Checklist e panoramica degli argomenti trattati"
   ]
  },
  {
   "cell_type": "markdown",
   "metadata": {},
   "source": [
    "## Esercitazione INF_PR_PY_WB_E06 - Autenticazione senza base dati\n",
    "\n",
    "[Scarica il testo dell'esercitazione da Moodle](https://elearning.scuolacamerana.it/moodle/mod/assign/view.php?id=11294).\n",
    "\n",
    "Nella cartella di questa lezione, trovate 4 progetti:\n",
    "\n",
    "- `flask_login_0/` è l'applicazione come l'abbiamo lasciata in classe (senza bootstrap, solo con la navbar). Ho aggiunto solo una bozza della pagina \"Films\"\n",
    "\n",
    "- `flask_login_1/` è l'applicazione perfezionata con bootstrap e la pagina \"Films\". Aggiunto un nuovo template \"parziale\" per la sezione *head* che, assieme a quello preesistente per la *navbar*, è stato spostato nella cartella `templates/includes/` per una migliore organizzazione. Un file css è stato inserito nella cartella `static/` mentre le immagini dei film e la favicon sono in `static/imgs/`.\n",
    "\n",
    "- `flask_login_2/` è l'applicazione con l'aggiunta dei [*flash*](https://flask.palletsprojects.com/en/3.0.x/patterns/flashing/) per i messaggi e del *footer* usando il sistema di [ereditarietà dei template tramite `include`](https://jinja.palletsprojects.com/en/3.0.x/templates/#include).\n",
    "\n",
    "- `flask_login_3/` è l'applicazione con l'uso del sistema di [ereditarietà dei template tramite `block` e `extends`](https://flask.palletsprojects.com/en/3.0.x/patterns/templateinheritance/). Sono stati migliorati i *flash* con l'uso dell'elemento [*toast*](https://getbootstrap.com/docs/5.3/components/toasts/) di Bootstrap. "
   ]
  },
  {
   "cell_type": "markdown",
   "metadata": {},
   "source": [
    "### `flask_login_0` - Bozza di applicazione\n",
    "\n",
    "#### Inizializzare l'applicazione\n",
    "1. Installazione di Flask\n",
    "2. Creazione di una applicazione Flask\n",
    "#### Richieste HTTP\n",
    "3. Definizione delle *route*\n",
    "4. Gestione delle richieste HTTP (GET e POST)\n",
    "#### Primi dati\n",
    "5. Mock-data per la simulazione dati Utenti e Film\n",
    "#### Risposta alle richieste HTTP con template Jinja\n",
    "6. Render dei template con `render_template`\n",
    "7. Creazione di template HTML con Jinja\n",
    "8. Funzione di reindirizzamento con `redirect()` e `url_for()`\n",
    "#### Sessione utente\n",
    "9. Gestione del login degli Utenti\n",
    "    - Login lato CLIENT\n",
    "    - Login lato SERVER\n",
    "10. Utilizzo delle sessioni in Flask\n",
    "11. Configurazione della chiave segreta per le sessioni\n",
    "12. Protezione delle pagine con controllo della sessione\n",
    "13. Logout degli utenti\n",
    "#### Includere template parziali con Jinja\n",
    "14. Creazione e utilizzo del template parziale per la *navbar*\n",
    "15. Inclusione di template parziali con `{% include %}`"
   ]
  },
  {
   "cell_type": "markdown",
   "metadata": {},
   "source": [
    "### `flask_login_1` - Miglioramenti grafici\n",
    "\n",
    "#### Miglioramenti alla UI e all'organizzazione dei file\n",
    "16. Utilizzo di Bootstrap per il design delle pagine\n",
    "    - Container principale\n",
    "    - Template `login.html`\n",
    "    - Template `films.html`\n",
    "17. File CSS e immagini dalla cartella `static/`\n",
    "18. Template parziale per la sezione `<head>`\n",
    "19. Organizzazione dei template parziali nella sottocartella `templates/includes/`\n",
    "20. Uso di `url_for()` per gli URL delle route"
   ]
  },
  {
   "cell_type": "markdown",
   "metadata": {},
   "source": [
    "### `flask_login_2` - *Flash messages* e *footer*\n",
    "\n",
    "#### Flash messages\n",
    "21. Implementazione e visualizzazione dei messaggi `flash`\n",
    "    - Aggiunta dei messaggi flash nel codice Python\n",
    "    - Visualizzazione dei messaggi flash nel template\n",
    "#### Footer\n",
    "22. Aggiunta di un *footer* nelle pagine\n",
    "    - Aggiunta di classi BootStrap per ottenere uno \"*sticky footer*\"\n",
    "23. Revisione template parziali inseriti con `{% include %}`"
   ]
  },
  {
   "cell_type": "markdown",
   "metadata": {},
   "source": [
    "### `flask_login_3` - *Template inheritance* e *Toast*\n",
    "\n",
    "#### Ereditarietà dei template\n",
    "24. Utilizzo della *template inheritance* con `{% block %}` e `{% extends %}`\n",
    "    - Creazione del template base\n",
    "    - Estensione del template base nei template figli\n",
    "#### Flash message con il Toast\n",
    "25. Utilizzo dei *Toast* di Bootstrap per i messaggi `flash`\n",
    "26. Script JavaScript per i toast, dalla cartella `static/`\n",
    "#### Code refactoring\n",
    "27. Ri-organizzazione del codice secondo paradigma MVC"
   ]
  },
  {
   "cell_type": "markdown",
   "metadata": {},
   "source": [
    "# ---------------------------------"
   ]
  },
  {
   "cell_type": "markdown",
   "metadata": {},
   "source": [
    "## Prossimi step - anteprima\n",
    "\n",
    "Se andate sulla cartella della prossima lezione, quella del [2024-06-20](../2024-06-20) troverete questa stessa applicazione implementata utilizzando un database.\n",
    "\n",
    "Il database che inizialmente useremo è [SQLite](https://sqlite.org/), che presente su qualunque sistema operativo moderno e dunque non richiede installazioni particolari.\n",
    "\n",
    "Nella cartella troverete due implementazioni:\n",
    "\n",
    "1. In una prima esercitazione proveremo a creare il database usando direttamente SQLite e scrivendo le query di crezione delle tabelle e di inserimento dati (esercitazione INF_PR_PY_WB_E07).\n",
    "\n",
    "2. In una seconda esercitazione useremo [SQLAlchemy](https://www.sqlalchemy.org/), un [ORM](https://it.wikipedia.org/wiki/Object-relational_mapping) che ci consentirà di effettuare le medesime operazioni sul database, ma senza necessità di scrivere direttamente le query SQL (esercitazione INF_PR_PY_WB_E08)."
   ]
  }
 ],
 "metadata": {
  "language_info": {
   "name": "python"
  }
 },
 "nbformat": 4,
 "nbformat_minor": 2
}
