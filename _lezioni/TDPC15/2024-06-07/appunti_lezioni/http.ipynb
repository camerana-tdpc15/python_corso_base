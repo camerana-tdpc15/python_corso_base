{
 "cells": [
  {
   "cell_type": "markdown",
   "id": "8dc14f87",
   "metadata": {
    "is_toc": true
   },
   "source": [
    "**Sommario**\n",
    "\n",
    "  - [localhost: 127.0.0.1](#localhost-127001)\n",
    "  - [Porte TCP e UDP](#porte-tcp-e-udp)\n",
    "    - [Protocolli di comunicazione `http` e `https`](#protocolli-di-comunicazione-http-e-https)\n",
    "    - [Flask Development Webserver Port](#flask-development-webserver-port)\n",
    "  - [HTTP Request Methods](#http-request-methods)\n",
    "    - [GET e POST: vantaggi e svantaggi](#get-e-post-vantaggi-e-svantaggi)\n",
    "  - [HTTP Headers](#http-headers)\n",
    "  - [HTTP Status Codes](#http-status-codes)"
   ]
  },
  {
   "cell_type": "markdown",
   "metadata": {},
   "source": [
    "##  localhost: 127.0.0.1\n",
    "\n",
    "Il nome `localhost` o l'indirizzo IP `127.0.0.1` indicano il computer stesso su cui stiamo operando, che nel nostro caso è la stessa macchina su cui sta girando il server Flask."
   ]
  },
  {
   "cell_type": "markdown",
   "metadata": {},
   "source": [
    "- HOSTNAME (come il nome di dominio):\n",
    "    - http://localhost\n",
    "\n",
    "- IP ADDRESS:\n",
    "    - http://127.0.0.1\n",
    "\n"
   ]
  },
  {
   "cell_type": "markdown",
   "metadata": {},
   "source": [
    "## Porte TCP e UDP\n",
    "\n",
    "Vedi [Porta (reti)](https://it.wikipedia.org/wiki/Porta_(reti))\n",
    "\n",
    "Nell'ambito delle reti di computer le porte (port) consentono ad un computer di effettuare più connessioni contemporanee verso altri computer, facendo in modo che i dati contenuti nei pacchetti in arrivo vengano indirizzati al processo che li sta aspettando.\n",
    "\n",
    "Vedi [Porte TCP e UDP standard](https://it.wikipedia.org/wiki/Porte_TCP_e_UDP_standard)\n",
    "\n",
    "Apprfondisci [List of TCP and UDP port numbers](https://en.wikipedia.org/wiki/List_of_TCP_and_UDP_port_numbers)\n",
    "\n",
    "- 0-1023 (tot. 1024) \"well-known ports or system ports\" assegnate a specifici servizi dallo IANA. Vengono storicamente utilizzati servizi di sistema e/o rete ampiamente utilizzati e riconosciuti unanimemente.\n",
    "\n",
    "- 1024-49151 (tot. 48.128) \"registered ports\", assegnato da IANA per un servizio specifico su richiesta di soggetti terzi.\n",
    "\n",
    "- 49152-65535 (tot. 16.384) \"dynamic or private ports\" non sono utilizzate da applicazioni in particolare."
   ]
  },
  {
   "cell_type": "markdown",
   "metadata": {},
   "source": [
    "### Protocolli di comunicazione `http` e `https`\n",
    "\n",
    "VEDI: [Protocollo di comunicazione](https://it.wikipedia.org/wiki/Protocollo_di_comunicazione)\n",
    "\n",
    "- `http` è lo storico protocollo di comunicazione dei servizi web standard, ma non sicuro.\n",
    "- `https` è il moderno protocollo di comunicazione dei servizi web standard, più sicuro, che usa la crittografia.\n",
    "\n",
    "Per convenzione, ciascun protocollo usa una porta standard in modo automatico:\n",
    "\n",
    "- `http` usa la porta `80`\n",
    "- `https` usa la porta `443`\n",
    "\n",
    "> **ATTENZIONE:** *protocollo* e *porta* sono due cose diverse! Queste sono solo convenzioni, nulla vieta che un protocollo venga trasmesso su una porta diversa da quella predefinita.\n",
    "\n",
    "Il nostro server Flask dice:\n",
    "```log\n",
    " * Running on http://127.0.0.1:5000\n",
    "```\n",
    "\n",
    "Infatti il nostro server Flask sta usando il protocollo `http` ma è in ascolto sulla porta `5000` anziché la `80`."
   ]
  },
  {
   "cell_type": "markdown",
   "metadata": {},
   "source": [
    "### Flask Development Webserver Port\n",
    "\n",
    "Gli sviluppatori e la comuntità di Flask hanno deciso che, in fase di sviluppo, si usi convenzionalmente la porta `5000`.\n",
    "\n",
    "Quindi mentre stiamo sviluppando la nostra applicazione, essa sarà accessibile all'indirizzo `http://127.0.0.1:5000`."
   ]
  },
  {
   "cell_type": "markdown",
   "metadata": {},
   "source": [
    "\n",
    "- http://127.0.0.1 &rarr; sottinteso porta 80\n",
    "- https://127.0.0.1 &rarr; sottinteso porta 443 (uso crittografia)\n",
    "\n",
    "- http://127.0.0.1:5000 &rarr; forza la porta 5000\n"
   ]
  },
  {
   "cell_type": "markdown",
   "metadata": {},
   "source": [
    "- http://localhost &rarr; sottinteso porta 80\n",
    "- https://localhost &rarr; sottinteso porta 443 (uso crittografia)\n",
    "\n",
    "- http://localhost:5000 &rarr; forza la porta 5000"
   ]
  },
  {
   "cell_type": "markdown",
   "metadata": {},
   "source": [
    "- http://palletsprojects.com &rarr; sottinteso porta 80\n",
    "- https://palletsprojects.com &rarr; sottinteso porta 443 (uso crittografia)\n",
    "\n",
    "- http://palletsprojects.com:5000 &rarr; forza la porta 5000"
   ]
  },
  {
   "cell_type": "markdown",
   "metadata": {},
   "source": [
    "Ricorda che per modificare il valore predefinito della porta di ascolto del tuo server Flask, puoi usare l'argomento `port` quando avvi il server con `app.run()`.\n",
    "\n",
    "  ```python\n",
    "  app.run(port=8080)\n",
    "  ```\n",
    "\n",
    "  Questo mette il server in ascolto sulla porta `8080`."
   ]
  },
  {
   "cell_type": "markdown",
   "metadata": {},
   "source": [
    "## HTTP Request Methods\n",
    "\n",
    "Come detto, il protocollo HTTP prevede una serie di [messaggi di richiesta](https://it.wikipedia.org/wiki/Hypertext_Transfer_Protocol#Messaggio_di_richiesta) che il client può inviare al server. In particolare i più noti sono:\n",
    "\n",
    "- **GET**\n",
    "- **POST**\n",
    "- PUT\n",
    "- DELETE\n",
    "- ...\n",
    "\n",
    "**PER APPROFINDIRE:** https://developer.mozilla.org/en-US/docs/Web/HTTP/Methods\n",
    "\n",
    "Inizialmente vedremo prima il metodo GET e poi il metodo POST."
   ]
  },
  {
   "cell_type": "markdown",
   "metadata": {},
   "source": [
    "### GET e POST: vantaggi e svantaggi\n",
    "\n",
    "| **Caratteristica**          | **GET**                                         | **POST**                                        |\n",
    "|-----------------------------|-------------------------------------------------|-------------------------------------------------|\n",
    "| **Visibilità dei dati**     | I dati sono visibili nell'URL                  | I dati non sono visibili nell'URL               |\n",
    "| **Sicurezza**               | Meno sicuro, i dati possono essere salvati nei log del server e nella cronologia del browser | Più sicuro, i dati non vengono salvati nei log del server o nella cronologia del browser |\n",
    "| **Lunghezza dei dati**      | Limitato dalla lunghezza massima dell'URL (*)       | Non ha limiti specifici sulla lunghezza dei dati |\n",
    "| **Velocità**                | Generalmente più veloce                        | Generalmente più lento a causa dell'elaborazione aggiuntiva |\n"
   ]
  },
  {
   "cell_type": "markdown",
   "metadata": {},
   "source": [
    "In pratica possiamo ricordare:\n",
    "\n",
    "- **GET**: è comodo, perché possimo salvare richiesta stessa assieme all'URL in modo che, riaprendo quell'URL, anche la richiesta venga inoltrata nuovamente. Ad esempio è molto utile per i motori di ricerca.\n",
    "\n",
    "- **POST**: è sicuro, perché i dati della richiesta non sono direttamente visibili e possono essere protetti. A esempio è molto utile per l'invio delle credenziali di login a un sito.\n",
    "\n",
    "(*) NOTA: La lunghezza massima degli URL può variare a seconda del browser e del server utilizzato. Tuttavia, una pratica comune è considerare sicuro un URL che non superi i 2.048 caratteri."
   ]
  },
  {
   "cell_type": "markdown",
   "metadata": {},
   "source": [
    "## HTTP Headers\n",
    "\n",
    "Sia la richiesta sia la risposta oltre che a un \"contenuto\" vengono accompagnati anche da un cosiddetto _**header**_, ovvero una \"intestazione\".\n",
    "\n",
    "In parole povere un [header HTTP](https://en.wikipedia.org/wiki/List_of_HTTP_header_fields) è una sorta di bolla di accompagnamento del messaggio, che contiene dei dati utili ai fini della corretta comunicazione tra client e server sotto forma di coppie *campo* (chiave) e *valore*.\n",
    "\n",
    "Più precisamente, *campi* dell'header HTTP sono un elenco di parole chiave e valori sotto forma di stringhe, le quali sono inviate e ricevute dal client e dal server ad ogni richiesta e risposta HTTP. Queste intestazioni sono solitamente invisibili all'utente e vengono elaborate e loggate solo dalle rispettive applicazioni del server e del client. Definiscono il modo in cui la connessione e le informazioni inviate/ricevute attraverso essa devono essere interpretate e gestite."
   ]
  },
  {
   "cell_type": "markdown",
   "metadata": {},
   "source": [
    "## HTTP Status Codes\n",
    "\n",
    "Quando viene effettuata una richiesta HTTP dal browser, il server può rispondere in diversi modi, ma ciascuna risposta è sempre associata a un relativo corice.\n",
    "\n",
    "Questi codici li potete vedere nell log di Flask, visibile nel terminale di VS Code, oppure nella sezione \"Network\" o \"Rete\" degli strumenti per sviluppatori all'interno del browser.\n",
    "\n",
    "Il significato primario dei codici di risposta è determinato dalla prima cifra, secondo questo schema:\n",
    "\n",
    "- `1xx`: *information* - La richiesta è stata ricevuta, proceda chi deve procedere, attenda chi deve attendere.\n",
    "- `2xx`: *success* - La richiesta è stata ricevuta con successo, compresa ed accettata.\n",
    "- `3xx`: *redirect* - Il client deve eseguire ulteriori azioni per completare la richiesta.\n",
    "- `4xx`: *client error* - La richiesta contiene una sintassi errata o non può essere soddisfatta.\n",
    "- `5xx`: *server error* - Il server non è riuscito a soddisfare una richiesta apparentemente valida.\n",
    "\n",
    "In generale vale questa regola:\n",
    "\n",
    "- `1xx`, `2xx`, `3xx` &rarr; NESSUN PROBLEMA\n",
    "- `4xx`, `5xx` &rarr; C'È QUALCHE PROBLEMA\n",
    "\n",
    "Per avere un'idea dei loro significati, ecco una lista dei più comuni codici che potrete riscontrare:\n",
    "\n",
    "- `200` OK\n",
    "- `301` Moved Permanently\n",
    "- `302` Found (Moved temporarily)\n",
    "- `304` Not Modified\n",
    "- `400` Bad Request\n",
    "- `401` Unauthorized\n",
    "- `403` Forbidden\n",
    "- `404` Not Found\n",
    "- `500` Internal Server Error\n",
    "- `503` Service Unavailable\n",
    "- `501` Not Implemented\n",
    "\n",
    "Per approfondire il significato di questi codici, potete leggere la pagina di Wikipedia sui [Codici di stato HTTP](https://it.wikipedia.org/wiki/Codici_di_stato_HTTP)."
   ]
  },
  {
   "cell_type": "markdown",
   "metadata": {},
   "source": [
    "## 'Tx' e 'Rx' in Telecomunicazioni\n",
    "\n",
    "In telecomunicazioni, le abbreviazioni \"Tx\" e \"Rx\" indicano rispettivamente \"transmission\" e \"reception\".\n",
    "\n",
    "- \"Tx\" si riferisce ai dati trasmessi dall'emittente;\n",
    "- \"Rx\" si riferisce ai dati che ha ricevuto il destinatario.\n",
    "\n",
    "Questi termini sono comunemente utilizzati per descrivere le operazioni di invio e ricezione nei sistemi di comunicazione, come radio, reti di computer e dispositivi di telecomunicazione.\n",
    "\n",
    "Usando questa nomenclatura, nelle comunicazioni tramite il protocollo HTTP...\n",
    "\n",
    "Dal punto di vista del CLIENT:\n",
    "\n",
    "- Tx: è la *richiesta* inviata al server (es. GET o POST);\n",
    "- Rx: è la *risposta* ricevuta dal server.\n",
    "\n",
    "Dal punto di vista del SERVER:\n",
    "\n",
    "- Tx: è la *risposta* inviata al client;\n",
    "- Rx: è la *richiesta* ricevuta dal client (es. GET o POST).\n"
   ]
  }
 ],
 "metadata": {
  "language_info": {
   "name": "python"
  }
 },
 "nbformat": 4,
 "nbformat_minor": 2
}
