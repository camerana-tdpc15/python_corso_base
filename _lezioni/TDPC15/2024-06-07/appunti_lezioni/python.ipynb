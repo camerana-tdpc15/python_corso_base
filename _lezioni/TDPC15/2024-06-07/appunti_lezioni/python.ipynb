{
 "cells": [
  {
   "cell_type": "markdown",
   "id": "880f0024",
   "metadata": {
    "is_toc": true
   },
   "source": [
    "**Sommario**\n",
    "\n",
    "  - [Caratteristiche importanti dei diversi tipi di dato](#caratteristiche-importanti-dei-diversi-tipi-di-dato)\n",
    "  - [Data structures](#data-structures)\n",
    "  - [Iterazione, fltraggio e mappatura](#iterazione-fltraggio-e-mappatura)\n",
    "    - [Iterazione](#iterazione)\n",
    "    - [Filtraggio](#filtraggio)\n",
    "    - [Mappatura](#mappatura)\n",
    "  - [Ottenere il primo e l'ultimo elemento di una sequenza](#ottenere-il-primo-e-lultimo-elemento-di-una-sequenza)\n",
    "  - [Slice sulle sequenze](#slice-sulle-sequenze)\n",
    "  - [Dizionari](#dizionari)\n",
    "    - [Accedere al valore tramite la chiave](#accedere-al-valore-tramite-la-chiave)\n",
    "    - [Accedere ai valori con `dict.get()`](#accedere-ai-valori-con-dictget)\n",
    "    - [Uso del valore di default per inizializzare una chiave](#uso-del-valore-di-default-per-inizializzare-una-chiave)\n",
    "  - [Classe `defaultdict`](#classe-defaultdict)\n",
    "      - [Default factory](#default-factory)\n",
    "  - [Ciclo `for` sui dizionari](#ciclo-for-sui-dizionari)\n",
    "    - [Iterare sulle chiavi](#iterare-sulle-chiavi)\n",
    "    - [Iterare sui valori con `dict.values()`](#iterare-sui-valori-con-dictvalues)\n",
    "    - [Iterare su chiavi e valori con `dict.items()`](#iterare-su-chiavi-e-valori-con-dictitems)\n",
    "  - [Ciclo `for` sui una lista di tuple](#ciclo-for-sui-una-lista-di-tuple)\n",
    "  - [`range()`](#range)\n",
    "    - [Uso di range con ciclo `for`](#uso-di-range-con-ciclo-for)\n",
    "    - [`range()` al contrario](#range-al-contrario)\n",
    "  - [`zip()`](#zip)\n",
    "  - [`enumerate()`](#enumerate)\n",
    "  - [List comprehension](#list-comprehension)\n",
    "      - [List comprehension con condizione](#list-comprehension-con-condizione)\n",
    "  - [Dict comprehension](#dict-comprehension)\n",
    "    - [Inizializzazione di dizionari](#inizializzazione-di-dizionari)\n",
    "  - [Concatenzaione di sequenze](#concatenzaione-di-sequenze)\n",
    "      - [Differenza tra concatenazione e `list.append()`](#differenza-tra-concatenazione-e-listappend)\n",
    "  - [Composizione di stringhe inserendo variabili al loro interno](#composizione-di-stringhe-inserendo-variabili-al-loro-interno)\n",
    "    - [Riassunto sui metodi di interpolazione](#riassunto-sui-metodi-di-interpolazione)\n",
    "  - [Concatenare tutti gli elementi di una sequenza in una stringa usando un separatore](#concatenare-tutti-gli-elementi-di-una-sequenza-in-una-stringa-usando-un-separatore)\n",
    "  - [Trasformare in maiuscolo le iniziali in una stringa](#trasformare-in-maiuscolo-le-iniziali-in-una-stringa)\n",
    "  - [Format codes per trasformare valori numerici in stringhe](#format-codes-per-trasformare-valori-numerici-in-stringhe)\n",
    "  - [Codifica dei caratteri](#codifica-dei-caratteri)\n",
    "      - [Stampare il carattere a partire dal suo codice: `chr()`](#stampare-il-carattere-a-partire-dal-suo-codice-chr)\n",
    "      - [Stampare il codice a partire dal carattere: `ord()`](#stampare-il-codice-a-partire-dal-carattere-ord)\n",
    "      - [Conversione tra valore decimale (base 10) e esadecimale (base 16)](#conversione-tra-valore-decimale-base-10-e-esadecimale-base-16)\n",
    "      - [Stampa del carattere corrispondente a un codice](#stampa-del-carattere-corrispondente-a-un-codice)\n",
    "  - [Modulo `datetime`](#modulo-datetime)\n",
    "    - [`datetime.date`](#datetimedate)\n",
    "    - [`datetime.datetime`](#datetimedatetime)\n",
    "    - [Creare un oggetto `date`](#creare-un-oggetto-date)\n",
    "    - [Oggetti `timedelta`](#oggetti-timedelta)\n",
    "    - [Lista di date alternate](#lista-di-date-alternate)\n",
    "    - [Conversione di un'oggetto data in stringa](#conversione-di-unoggetto-data-in-stringa)\n",
    "  - [Localizzazione per la lingua italiana](#localizzazione-per-la-lingua-italiana)\n",
    "  - [`if __name__ == '__main__':`](#if-__name__--__main__)"
   ]
  },
  {
   "cell_type": "markdown",
   "metadata": {},
   "source": [
    "## Caratteristiche importanti dei diversi tipi di dato\n",
    "\n",
    "Vedi [Notebook G_type_commons.ipynb - Sezione \"Iterabili: sequenze e \"contenitori\" in genere\"](../../../G_type_commons.ipynb)\n"
   ]
  },
  {
   "cell_type": "markdown",
   "metadata": {},
   "source": [
    "| Tipo        | Valore vuoto     | Esempio                             | Mutabile? | Indexed?  | Ordinato?| Duplicati? |\n",
    "|-------------|------------------|-------------------------------------|:---------:|:---------:|:--------:|:----------:|\n",
    "| `str`       | `''` o `\"\"`      | `'come stai?'`                      | ❌        | ✅        | ✅        | ✅         |\n",
    "| `bytes`     | `b''`            | `b\"Buongiorno\"`                     | ❌        | ✅        | ✅        | ✅         |\n",
    "| `tuple`     | `()`             | `(5, 'x', 10, 'x')`                 | ❌        | ✅        | ✅        | ✅         |\n",
    "| `list`      | `[]`             | `[5, 'x', 10, 'x']`                 | ✅        | ✅        | ✅        | ✅         |\n",
    "| `bytearray` | `bytearray(b'')` | `bytearray(b'Buongiorno')`          | ✅        | ✅        | ✅        | ✅         |\n",
    "| `dict`      | `{}`             | `{'colore': 'rosso', 'anno': 1994}` | ✅        | ✅        | ❌        | ❌         |\n",
    "| `set`       | `set()`          | `{5, 'x', 10}`                      | ✅        | ❌        | ❌        | ❌         |"
   ]
  },
  {
   "cell_type": "markdown",
   "metadata": {},
   "source": [
    "## Data structures\n",
    "\n",
    "Sul [Notebook G_type_commons.ipynb - Sezione \"Accedere ai valori dentro una *data structure*\"](../../../G_type_commons.ipynb) trovi una struttura dati complessa.\n",
    "\n",
    "\n",
    "**ESERCITATI:**\n",
    "\n",
    "1. Scegli un valore nella struttura dati presente nel notebook e prova a raggiungerlo scrivendo un'espressione.\n",
    "\n",
    "2. Scegli una delle seguenti espressioni e prova a capire a quale valore accede, osservando la struttura dati presente nel notebook."
   ]
  },
  {
   "cell_type": "markdown",
   "metadata": {},
   "source": [
    "```python\n",
    "data[0]['reality'][0][0]\n",
    "data[1][234]['Pupa']['1']\n",
    "data[2]['TEAM2'][0]['nome']\n",
    "data[0]['fiction'][1][2][0]['chimera']\n",
    "data[2]['TEAM2'][0]['nome'][1]\n",
    "data[1][234]['Terry'][2]\n",
    "```"
   ]
  },
  {
   "cell_type": "markdown",
   "metadata": {},
   "source": [
    "## Iterazione, fltraggio e mappatura\n",
    "Vedi: [Notebook G_type_commons.ipynb - Sezione \"Accedere ai valori dentro una *data structure*\"](../../../G_type_commons.ipynb)"
   ]
  },
  {
   "cell_type": "markdown",
   "metadata": {},
   "source": [
    "Su una struttura come questa possiamo edeguire dei cicli per leggere, filtrare e mappare i dati in essa contenuti.\n",
    "\n",
    "Una tipica struttura dati potrebbe essere la seguente:"
   ]
  },
  {
   "cell_type": "code",
   "execution_count": null,
   "metadata": {},
   "outputs": [],
   "source": [
    "library = [\n",
    "    {\n",
    "        'title': 'Nineteen Eighty-Four',\n",
    "        'author': 'George Orwell',\n",
    "        'genre': ['fiction', 'british'],\n",
    "        'isbn': 9780155658110,\n",
    "        'publicationDate': 1949,\n",
    "        'borrowed': True,\n",
    "        'borrowedStart': '2023-05-01',\n",
    "        'borrowedEnd': '2023-05-15'\n",
    "    },\n",
    "    {\n",
    "        'title': 'To Kill a Mockingbird',\n",
    "        'author': 'Harper Lee',\n",
    "        'genre': ['fiction', 'american'],\n",
    "        'isbn': 9789023493617,\n",
    "        'publicationDate': 1960,\n",
    "        'borrowed': False,\n",
    "        'borrowedStart': None,\n",
    "        'borrowedEnd': None\n",
    "    },\n",
    "    {\n",
    "        'title': 'Gödel, Escher, Bach',\n",
    "        'author': 'Douglas Hofstadter',\n",
    "        'genre': ['pop science', 'american', 'pulitzer'],\n",
    "        'isbn': 9780394745022,\n",
    "        'publicationDate': 1979,\n",
    "        'borrowed': True,\n",
    "        'borrowedStart': '2023-04-01',\n",
    "        'borrowedEnd': '2023-04-15'\n",
    "    }\n",
    "]"
   ]
  },
  {
   "cell_type": "markdown",
   "metadata": {},
   "source": [
    "### Iterazione"
   ]
  },
  {
   "cell_type": "code",
   "execution_count": null,
   "metadata": {},
   "outputs": [
    {
     "name": "stdout",
     "output_type": "stream",
     "text": [
      "Libri presi in prestito:\n",
      "  * Nineteen Eighty-Four\n",
      "  * Gödel, Escher, Bach\n"
     ]
    }
   ],
   "source": [
    "print('Libri presi in prestito:')\n",
    "for book in library:\n",
    "    if book['borrowed']:  # <- filtro\n",
    "\n",
    "        # PRESENTAZIONE DEI DATI ALL'UTENTE\n",
    "        print('  *', book['title'])"
   ]
  },
  {
   "cell_type": "markdown",
   "metadata": {},
   "source": [
    "### Filtraggio"
   ]
  },
  {
   "cell_type": "code",
   "execution_count": null,
   "metadata": {},
   "outputs": [
    {
     "name": "stdout",
     "output_type": "stream",
     "text": [
      "Libri in prestito scaduto (SOLLECITARE LA RESTITUZIONE!):\n",
      "  * Gödel, Escher, Bach\n"
     ]
    }
   ],
   "source": [
    "from datetime import date\n",
    "\n",
    "today = date(2023, 5, 10)  # <- data fittizia per testare il filtro\n",
    "# today = date.today()\n",
    "\n",
    "# PRESENTAZIONE DEI DATI ALL'UTENTE\n",
    "print(\"Libri in prestito scaduto (SOLLECITARE LA RESTITUZIONE!):\")\n",
    "for book in library:\n",
    "    if book['borrowed']:  # <- filtro 1\n",
    "        if date.fromisoformat(book['borrowedEnd']) < today:  # <- filtro 2\n",
    "            print('  *', book['title'])"
   ]
  },
  {
   "cell_type": "markdown",
   "metadata": {},
   "source": [
    "### Mappatura"
   ]
  },
  {
   "cell_type": "markdown",
   "metadata": {},
   "source": [
    "Immaginiamo che la nostra bibblioteca debba inviare le notifiche di sollecito per la restituzione dei libri ogni sabato. \n",
    "\n",
    "Ogni volta vi seve un elenco dello stato dei libri, rispettivamente al loro stato di prestito."
   ]
  },
  {
   "cell_type": "code",
   "execution_count": null,
   "metadata": {},
   "outputs": [
    {
     "name": "stdout",
     "output_type": "stream",
     "text": [
      "Libri in prestito - Regolari:\n",
      "  * Nineteen Eighty-Four\n",
      "Libri in prestito - Inviare sollecito restituzione:\n",
      "  * Gödel, Escher, Bach\n"
     ]
    }
   ],
   "source": [
    "from datetime import date\n",
    "\n",
    "today = date(2023, 5, 10)  # <- data fittizia per testare il filtro\n",
    "# today = date.today()\n",
    "\n",
    "report_prestiti = {\n",
    "    'regolari': [],\n",
    "    'scaduti': []\n",
    "}\n",
    "\n",
    "for book in library:\n",
    "    if book['borrowed']:\n",
    "        if date.fromisoformat(book['borrowedEnd']) < today:\n",
    "            report_prestiti['scaduti'].append(book)\n",
    "        else:\n",
    "            report_prestiti['regolari'].append(book)\n",
    "\n",
    "\n",
    "# PRESENTAZIONE DEI DATI ALL'UTENTE\n",
    "print('Libri in prestito - Regolari:')\n",
    "for book in report_prestiti['regolari']:\n",
    "    print('  *', book['title'])\n",
    "\n",
    "print(\"Libri in prestito - Inviare sollecito restituzione:\")\n",
    "for book in report_prestiti['scaduti']:\n",
    "    print('  *', book['title'])\n"
   ]
  },
  {
   "cell_type": "markdown",
   "metadata": {},
   "source": [
    "## Ottenere il primo e l'ultimo elemento di una sequenza"
   ]
  },
  {
   "cell_type": "markdown",
   "metadata": {},
   "source": [
    "Dato che le liste e le stringhe sono delle sequenze, ovvero un contenitore di dati ORDINATI, possiamo accedere ai loro elementi usando semplicemente la notazione a subscription.\n",
    "\n",
    "Se vogliamo ottenere il primo elemento di una lista, possiamo scrivere così:"
   ]
  },
  {
   "cell_type": "code",
   "execution_count": null,
   "metadata": {},
   "outputs": [
    {
     "data": {
      "text/plain": [
       "1"
      ]
     },
     "metadata": {},
     "output_type": "display_data"
    }
   ],
   "source": [
    "mia_lista = [1, 2, 3, 4, 5]\n",
    "\n",
    "mia_lista[0]"
   ]
  },
  {
   "cell_type": "markdown",
   "metadata": {},
   "source": [
    "Esattamente nello stesso modo possiamo ottenere il primo carattere di una stringa:"
   ]
  },
  {
   "cell_type": "code",
   "execution_count": null,
   "metadata": {},
   "outputs": [
    {
     "data": {
      "text/plain": [
       "'p'"
      ]
     },
     "metadata": {},
     "output_type": "display_data"
    }
   ],
   "source": [
    "mia_stringa = 'pippo'\n",
    "\n",
    "mia_stringa[0]"
   ]
  },
  {
   "cell_type": "markdown",
   "metadata": {},
   "source": [
    "Se vogliamo ottenere l'ultimo elemento di una lista, possiamo scrivere così:"
   ]
  },
  {
   "cell_type": "code",
   "execution_count": 17,
   "metadata": {},
   "outputs": [
    {
     "data": {
      "text/plain": [
       "5"
      ]
     },
     "execution_count": 17,
     "metadata": {},
     "output_type": "execute_result"
    }
   ],
   "source": [
    "mia_lista = [1, 2, 3, 4, 5]\n",
    "\n",
    "mia_lista[-1]"
   ]
  },
  {
   "cell_type": "markdown",
   "metadata": {},
   "source": [
    "Esattamente nello stesso modo possiamo ottenere l'ultimo carattere di una stringa:"
   ]
  },
  {
   "cell_type": "code",
   "execution_count": 16,
   "metadata": {},
   "outputs": [
    {
     "data": {
      "text/plain": [
       "'o'"
      ]
     },
     "execution_count": 16,
     "metadata": {},
     "output_type": "execute_result"
    }
   ],
   "source": [
    "mia_stringa = 'pippo'\n",
    "\n",
    "mia_stringa[-1]"
   ]
  },
  {
   "cell_type": "markdown",
   "metadata": {},
   "source": [
    "## Slice sulle sequenze"
   ]
  },
  {
   "cell_type": "markdown",
   "metadata": {},
   "source": [
    "Vedi: [Notebook Index: accesso agli elementi - Sezione: Slice, estrazione di sotto-sequenze](../../../G_type_commons.ipynb)"
   ]
  },
  {
   "cell_type": "markdown",
   "metadata": {},
   "source": [
    "`[start:stop]`"
   ]
  },
  {
   "cell_type": "code",
   "execution_count": null,
   "metadata": {},
   "outputs": [
    {
     "data": {
      "text/plain": [
       "'de'"
      ]
     },
     "metadata": {},
     "output_type": "display_data"
    }
   ],
   "source": [
    "'abcdef'[3:5]"
   ]
  },
  {
   "cell_type": "code",
   "execution_count": null,
   "metadata": {},
   "outputs": [
    {
     "data": {
      "text/plain": [
       "'abcd'"
      ]
     },
     "metadata": {},
     "output_type": "display_data"
    }
   ],
   "source": [
    "'abcdef'[:4]"
   ]
  },
  {
   "cell_type": "code",
   "execution_count": null,
   "metadata": {},
   "outputs": [
    {
     "data": {
      "text/plain": [
       "'cdef'"
      ]
     },
     "metadata": {},
     "output_type": "display_data"
    }
   ],
   "source": [
    "'abcdef'[2:]"
   ]
  },
  {
   "cell_type": "code",
   "execution_count": null,
   "metadata": {},
   "outputs": [
    {
     "data": {
      "text/plain": [
       "'def'"
      ]
     },
     "metadata": {},
     "output_type": "display_data"
    }
   ],
   "source": [
    "'abcdef'[-3:]"
   ]
  },
  {
   "cell_type": "markdown",
   "metadata": {},
   "source": [
    "`[start:stop:step]`"
   ]
  },
  {
   "cell_type": "code",
   "execution_count": null,
   "metadata": {},
   "outputs": [
    {
     "data": {
      "text/plain": [
       "'bdf'"
      ]
     },
     "metadata": {},
     "output_type": "display_data"
    }
   ],
   "source": [
    "'abcdef'[1:7:2]"
   ]
  },
  {
   "cell_type": "code",
   "execution_count": null,
   "metadata": {},
   "outputs": [
    {
     "data": {
      "text/plain": [
       "'bdf'"
      ]
     },
     "metadata": {},
     "output_type": "display_data"
    }
   ],
   "source": [
    "'abcdef'[1::2]"
   ]
  },
  {
   "cell_type": "markdown",
   "metadata": {},
   "source": [
    "ATTENZIONE:\n",
    "\n",
    "Lo start e lo stop possono anche essere degli indici non presenti nella sequenza e questo non solleverà alcun errore."
   ]
  },
  {
   "cell_type": "code",
   "execution_count": 3,
   "metadata": {},
   "outputs": [
    {
     "data": {
      "text/plain": [
       "'bcdef'"
      ]
     },
     "execution_count": 3,
     "metadata": {},
     "output_type": "execute_result"
    }
   ],
   "source": [
    "'abcdef'[1:100]"
   ]
  },
  {
   "cell_type": "code",
   "execution_count": 4,
   "metadata": {},
   "outputs": [
    {
     "data": {
      "text/plain": [
       "''"
      ]
     },
     "execution_count": 4,
     "metadata": {},
     "output_type": "execute_result"
    }
   ],
   "source": [
    "'abcdef'[:-100]"
   ]
  },
  {
   "cell_type": "code",
   "execution_count": 5,
   "metadata": {},
   "outputs": [
    {
     "data": {
      "text/plain": [
       "'abcde'"
      ]
     },
     "execution_count": 5,
     "metadata": {},
     "output_type": "execute_result"
    }
   ],
   "source": [
    "'abcdef'[0:-1]"
   ]
  },
  {
   "cell_type": "markdown",
   "metadata": {},
   "source": [
    "Possiamo anche invertire una sequenza in questo modo:"
   ]
  },
  {
   "cell_type": "code",
   "execution_count": 6,
   "metadata": {},
   "outputs": [
    {
     "data": {
      "text/plain": [
       "'fedcba'"
      ]
     },
     "execution_count": 6,
     "metadata": {},
     "output_type": "execute_result"
    }
   ],
   "source": [
    "'abcdef'[::-1]"
   ]
  },
  {
   "cell_type": "markdown",
   "metadata": {},
   "source": [
    "## Dizionari"
   ]
  },
  {
   "cell_type": "markdown",
   "metadata": {},
   "source": [
    "### Accedere al valore tramite la chiave"
   ]
  },
  {
   "cell_type": "code",
   "execution_count": null,
   "metadata": {},
   "outputs": [
    {
     "data": {
      "text/plain": [
       "['Ada:', 'Geronima:', 'Roberto:']"
      ]
     },
     "metadata": {},
     "output_type": "display_data"
    }
   ],
   "source": [
    "report = {\n",
    "    25: [\"Ada:\", \"Geronima:\", \"Roberto:\"],\n",
    "    44: [\"Pippo:\", \"Ciccio:\"],\n",
    "    48: [\"Felice:\", \"Mimmo:\"],\n",
    "    52: [\"Luca:\", \"Pluto:\"],\n",
    "    101: [\"Totò:\"],\n",
    "}\n",
    "\n",
    "report[25]"
   ]
  },
  {
   "cell_type": "markdown",
   "metadata": {},
   "source": [
    "Purtroppo, se la chiave non è presente, otterremo un errore `KeyError`:"
   ]
  },
  {
   "cell_type": "code",
   "execution_count": 8,
   "metadata": {},
   "outputs": [
    {
     "ename": "NameError",
     "evalue": "name 'report' is not defined",
     "output_type": "error",
     "traceback": [
      "\u001b[0;31m---------------------------------------------------------------------------\u001b[0m",
      "\u001b[0;31mNameError\u001b[0m                                 Traceback (most recent call last)",
      "Cell \u001b[0;32mIn[8], line 1\u001b[0m\n\u001b[0;32m----> 1\u001b[0m \u001b[43mreport\u001b[49m[\u001b[38;5;241m999\u001b[39m]\n",
      "\u001b[0;31mNameError\u001b[0m: name 'report' is not defined"
     ]
    }
   ],
   "source": [
    "report[999]"
   ]
  },
  {
   "cell_type": "markdown",
   "metadata": {},
   "source": [
    "### Accedere ai valori con `dict.get()`\n",
    "\n",
    "Un'altra modalità per accedere ai valori in un dizionario è l'uso del metodo `.get()`. Questo metodo accetta come primo argomento la chiave e come secondo argomento opzionale un valore di default che viene restituito nel caso in cui la chiave non sia presente nel dizionario.\n",
    "\n",
    "L'uso di `.get()` può prevenire l'eccezione `KeyError` in caso di chiavi mancanti.\n",
    "\n",
    "Esempio:"
   ]
  },
  {
   "cell_type": "code",
   "execution_count": null,
   "metadata": {},
   "outputs": [
    {
     "name": "stdout",
     "output_type": "stream",
     "text": [
      "Ingegnere\n",
      "Sconosciuto\n"
     ]
    }
   ],
   "source": [
    "dizionario = {\n",
    "    'nome': 'Alice',\n",
    "    'età': 30,\n",
    "    'professione': 'Ingegnere'\n",
    "}\n",
    "\n",
    "professione = dizionario.get('professione', 'Sconosciuto')\n",
    "città = dizionario.get('città', 'Sconosciuto')\n",
    "\n",
    "print(professione)\n",
    "print(città)"
   ]
  },
  {
   "cell_type": "markdown",
   "metadata": {},
   "source": [
    "Facciamo un altro esempio. Ecco un altro dizionario:"
   ]
  },
  {
   "cell_type": "code",
   "execution_count": null,
   "metadata": {},
   "outputs": [],
   "source": [
    "report = {\n",
    "    25: [\"Ada:\", \"Geronima:\", \"Roberto:\"],\n",
    "    44: [\"Pippo:\", \"Ciccio:\"],\n",
    "    48: [\"Felice:\", \"Mimmo:\"],\n",
    "    52: [\"Luca:\", \"Pluto:\"],\n",
    "    101: [\"Totò:\"],\n",
    "}"
   ]
  },
  {
   "cell_type": "markdown",
   "metadata": {},
   "source": [
    "La sintassi è la seguente: `dict.get(key, default_value)`"
   ]
  },
  {
   "cell_type": "markdown",
   "metadata": {},
   "source": [
    "Con `dict.get()`, se cercate di accedere a una chiave che non esiste, potete ottenere un valore di default, senza che venga sollevato un errore"
   ]
  },
  {
   "cell_type": "code",
   "execution_count": null,
   "metadata": {},
   "outputs": [
    {
     "name": "stdout",
     "output_type": "stream",
     "text": [
      "LA CHIAVE NON ESISTE!\n"
     ]
    }
   ],
   "source": [
    "mio_valore = report.get(999, 'LA CHIAVE NON ESISTE!')\n",
    "\n",
    "print(mio_valore)"
   ]
  },
  {
   "cell_type": "markdown",
   "metadata": {},
   "source": [
    "Possiamo indicare un qualunque valore di default, anche una lista, che può farci comodo per l'esercizio [esercizio_15_file.ipynb](esercizio_15_file.ipynb)."
   ]
  },
  {
   "cell_type": "code",
   "execution_count": null,
   "metadata": {},
   "outputs": [
    {
     "name": "stdout",
     "output_type": "stream",
     "text": [
      "[]\n"
     ]
    }
   ],
   "source": [
    "mio_valore = report.get(999, [])\n",
    "\n",
    "print(mio_valore)"
   ]
  },
  {
   "cell_type": "markdown",
   "metadata": {},
   "source": [
    "### Uso del valore di default per inizializzare una chiave\n",
    "\n",
    "Possiamo passare l'argomento `default` al metodo `dict.get()` per ottenere un valore di default utile per inizializzare le chiavi, se queste non esisitono!"
   ]
  },
  {
   "cell_type": "markdown",
   "metadata": {},
   "source": [
    "In questo modo possiamo creare anche una chiave \"al volo\" se questa non esiste, senza causare un errore e assegnangole un valore di default:"
   ]
  },
  {
   "cell_type": "code",
   "execution_count": null,
   "metadata": {},
   "outputs": [
    {
     "name": "stdout",
     "output_type": "stream",
     "text": [
      "{25: ['Ada:', 'Geronima'], 44: ['Pippo:'], 48: ['Felice']}\n"
     ]
    }
   ],
   "source": [
    "report = {\n",
    "    25: [\"Ada:\"],\n",
    "    44: [\"Pippo:\"],\n",
    "}\n",
    "\n",
    "report[25] = report.get(25, []) + [\"Geronima\"]\n",
    "\n",
    "report[48] = report.get(48, []) + [\"Felice\"]\n",
    "\n",
    "print(report)\n"
   ]
  },
  {
   "cell_type": "markdown",
   "metadata": {},
   "source": [
    "> **ATTENZIONE**: Il seguente codice, che fa uso del metodo `list.append()` (anziché la concatenazione), non funziona:"
   ]
  },
  {
   "cell_type": "code",
   "execution_count": null,
   "metadata": {},
   "outputs": [
    {
     "name": "stdout",
     "output_type": "stream",
     "text": [
      "{25: None, 44: ['Pippo:'], 48: None}\n"
     ]
    }
   ],
   "source": [
    "report = {\n",
    "    25: [\"Ada:\"],\n",
    "    44: [\"Pippo:\"],\n",
    "}\n",
    "\n",
    "report[25] = report.get(25, []).append(\"Geronima\")\n",
    "report[48] = report.get(48, []).append(\"Felice\")\n",
    "\n",
    "print(report)"
   ]
  },
  {
   "cell_type": "markdown",
   "metadata": {},
   "source": [
    "Perché mi ritrovo `None`?\n",
    "\n",
    "> Perché `dict.append()` restituisce `None`!\n"
   ]
  },
  {
   "cell_type": "code",
   "execution_count": null,
   "metadata": {},
   "outputs": [
    {
     "name": "stdout",
     "output_type": "stream",
     "text": [
      "None\n",
      "[1, 9]\n"
     ]
    }
   ],
   "source": [
    "pippo = [1]\n",
    "print(pippo.append(9))  # Questo stampa None !\n",
    "print(pippo)"
   ]
  },
  {
   "cell_type": "markdown",
   "metadata": {},
   "source": [
    "\n",
    "```python\n",
    "(method) def append(\n",
    "    object: Any,\n",
    "    /\n",
    ") -> None   # Restituisce None !!!\n",
    "```\n"
   ]
  },
  {
   "cell_type": "markdown",
   "metadata": {},
   "source": [
    "In questo caso, dovremmo fare l'append in una istruzione successiva... Ma è un po' scomodo:"
   ]
  },
  {
   "cell_type": "code",
   "execution_count": null,
   "metadata": {},
   "outputs": [
    {
     "name": "stdout",
     "output_type": "stream",
     "text": [
      "{25: ['Ada:', 'Geronima'], 44: ['Pippo:'], 48: ['Felice']}\n"
     ]
    }
   ],
   "source": [
    "report = {\n",
    "    25: [\"Ada:\"],\n",
    "    44: [\"Pippo:\"],\n",
    "}\n",
    "\n",
    "report[25] = report.get(25, [])  # Se la chiave esiste, il valore viene sovrascritto da sé\n",
    "                                 # stesso, altrimenti viene creata la chiave e inizializzata a [].\n",
    "report[25].append(\"Geronima\")    # Ora possiamo accedere alla chiave e appendere in sicurezza.\n",
    "\n",
    "report[48] = report.get(48, [])\n",
    "report[48].append(\"Felice\")\n",
    "\n",
    "print(report)"
   ]
  },
  {
   "cell_type": "markdown",
   "metadata": {},
   "source": [
    "## Classe `defaultdict`"
   ]
  },
  {
   "cell_type": "markdown",
   "metadata": {},
   "source": [
    "La classe `defaultdict` dal modulo `collections` consente di creare le chiavi al volo al momento dell'accesso, se queste non esistono.\n",
    "\n",
    "Quando creiamo il `defaultdict` dobbiamo passare come argomento un `default_factory`, ovvero una funzione che deve restituire il valore di default."
   ]
  },
  {
   "cell_type": "code",
   "execution_count": null,
   "metadata": {},
   "outputs": [
    {
     "data": {
      "text/plain": [
       "defaultdict(<function __main__.<lambda>()>,\n",
       "            {25: ['Ada', 'Geronima'], 44: ['Pippo'], 48: ['Felice']})"
      ]
     },
     "metadata": {},
     "output_type": "display_data"
    }
   ],
   "source": [
    "from collections import defaultdict\n",
    "\n",
    "report = defaultdict(lambda: [])  # lambda indica una funzione anonima\n",
    "# report = defaultdict(list)      # dato che vogliamo una lista vuota, possiamo usare list\n",
    "\n",
    "report[25].append(\"Ada\")\n",
    "report[44].append(\"Pippo\")\n",
    "report[25].append(\"Geronima\")\n",
    "report[48].append(\"Felice\")\n",
    "\n",
    "report\n"
   ]
  },
  {
   "cell_type": "markdown",
   "metadata": {},
   "source": [
    "#### Default factory\n",
    "\n",
    "Cosa fa il `default_factory` del `defaultdict` quando viene invocato?"
   ]
  },
  {
   "cell_type": "code",
   "execution_count": null,
   "metadata": {},
   "outputs": [
    {
     "data": {
      "text/plain": [
       "[]"
      ]
     },
     "metadata": {},
     "output_type": "display_data"
    }
   ],
   "source": [
    "(lambda: [])()"
   ]
  },
  {
   "cell_type": "code",
   "execution_count": null,
   "metadata": {},
   "outputs": [
    {
     "data": {
      "text/plain": [
       "[]"
      ]
     },
     "metadata": {},
     "output_type": "display_data"
    }
   ],
   "source": [
    "list()"
   ]
  },
  {
   "cell_type": "markdown",
   "metadata": {},
   "source": [
    "Un altro esempio:"
   ]
  },
  {
   "cell_type": "code",
   "execution_count": null,
   "metadata": {},
   "outputs": [
    {
     "data": {
      "text/plain": [
       "defaultdict(<function __main__.<lambda>()>,\n",
       "            {0: [''],\n",
       "             1: ['x'],\n",
       "             2: ['xx'],\n",
       "             3: ['xxx'],\n",
       "             4: ['xxxx'],\n",
       "             5: ['xxxxx'],\n",
       "             6: ['xxxxxx'],\n",
       "             7: ['xxxxxxx'],\n",
       "             8: ['xxxxxxxx'],\n",
       "             9: ['xxxxxxxxx']})"
      ]
     },
     "metadata": {},
     "output_type": "display_data"
    }
   ],
   "source": [
    "from collections import defaultdict\n",
    "\n",
    "report = defaultdict(lambda: [])\n",
    "\n",
    "for num in range(10):\n",
    "    report[num].append(num * 'x')\n",
    "\n",
    "report"
   ]
  },
  {
   "cell_type": "markdown",
   "metadata": {},
   "source": [
    "## Ciclo `for` sui dizionari\n",
    "\n",
    "Il ciclo `for` è uno strumento versatile in Python, specialmente quando lavori con dizionari. Ecco come utilizzarlo per iterare attraverso le chiavi, i valori o entrambi in un dizionario.\n",
    "\n",
    "### Iterare sulle chiavi\n",
    "\n",
    "Per default, iterare su un dizionario cicla attraverso le sue chiavi."
   ]
  },
  {
   "cell_type": "code",
   "execution_count": null,
   "metadata": {},
   "outputs": [
    {
     "name": "stdout",
     "output_type": "stream",
     "text": [
      "nome\n",
      "età\n",
      "città\n"
     ]
    }
   ],
   "source": [
    "dizionario = {\n",
    "    'nome': 'Mario',\n",
    "    'età': 30,\n",
    "    'città': 'Roma'\n",
    "}\n",
    "\n",
    "for chiave in dizionario:\n",
    "    print(chiave)"
   ]
  },
  {
   "cell_type": "markdown",
   "metadata": {},
   "source": [
    "### Iterare sui valori con `dict.values()`\n",
    "\n",
    "Per iterare sui valori, usa il metodo `.values()`."
   ]
  },
  {
   "cell_type": "code",
   "execution_count": null,
   "metadata": {},
   "outputs": [
    {
     "name": "stdout",
     "output_type": "stream",
     "text": [
      "Mario\n",
      "30\n",
      "Roma\n"
     ]
    }
   ],
   "source": [
    "dizionario = {\n",
    "    'nome': 'Mario',\n",
    "    'età': 30,\n",
    "    'città': 'Roma'\n",
    "}\n",
    "\n",
    "for valore in dizionario.values():\n",
    "    print(valore)"
   ]
  },
  {
   "cell_type": "markdown",
   "metadata": {},
   "source": [
    "### Iterare su chiavi e valori con `dict.items()`\n",
    "\n",
    "Avendo la chiave, a ogni ciclo possiamo accedere al valore corrispondente:"
   ]
  },
  {
   "cell_type": "code",
   "execution_count": null,
   "metadata": {},
   "outputs": [
    {
     "name": "stdout",
     "output_type": "stream",
     "text": [
      "nome Mario\n",
      "età 30\n",
      "città Roma\n"
     ]
    }
   ],
   "source": [
    "dizionario = {\n",
    "    'nome': 'Mario',\n",
    "    'età': 30,\n",
    "    'città': 'Roma'\n",
    "}\n",
    "for chiave in dizionario:\n",
    "    valore = dizionario[chiave]\n",
    "    print(chiave, valore)"
   ]
  },
  {
   "cell_type": "markdown",
   "metadata": {},
   "source": [
    "Tuttavia, se vuoi ottenere in un colpo solo sia la chiave che il valore durante l'iterazione, puoi usare il metodo `.items()`."
   ]
  },
  {
   "cell_type": "code",
   "execution_count": null,
   "metadata": {},
   "outputs": [
    {
     "name": "stdout",
     "output_type": "stream",
     "text": [
      "nome Mario\n",
      "età 30\n",
      "città Roma\n"
     ]
    }
   ],
   "source": [
    "dizionario = {\n",
    "    'nome': 'Mario',\n",
    "    'età': 30,\n",
    "    'città': 'Roma'\n",
    "}\n",
    "for chiave, valore in dizionario.items():\n",
    "    print(chiave, valore)"
   ]
  },
  {
   "cell_type": "markdown",
   "metadata": {},
   "source": [
    "## Ciclo `for` sui una lista di tuple"
   ]
  },
  {
   "cell_type": "markdown",
   "metadata": {},
   "source": [
    "Purtroppo i dizionari non sono ordinati!\n",
    "\n",
    "> NOTA: Se dobbiamo mostrare delle informazioni all'utente, molto spesso è utile avere il controllo sull'ordine in cui vengono mostrate.\n",
    "\n",
    "Le liste invece sono delle sequenze, dunque sono ordinate.\n",
    "\n",
    "Se quindi dobbiamo ciclare un dizionario mantenendo il controllo sull'ordine in cui viene ciclato, una lista di tuple è un ottimo sostituto di un dizionario.\n",
    "\n",
    "Per esempio, se avessimo bisogno di ciclare delle coppie (o triplette ecc.) con un ciclo `for` mantenendo l'ordine, potremmo fare così:"
   ]
  },
  {
   "cell_type": "code",
   "execution_count": null,
   "metadata": {},
   "outputs": [
    {
     "name": "stdout",
     "output_type": "stream",
     "text": [
      "nome Mario\n",
      "età 30\n",
      "città Roma\n"
     ]
    }
   ],
   "source": [
    "lista_tuple = [\n",
    "    ('nome', 'Mario'),\n",
    "    ('età', 30),\n",
    "    ('città', 'Roma')\n",
    "]\n",
    "for elem0, elem1 in lista_tuple:\n",
    "    print(elem0, elem1)"
   ]
  },
  {
   "cell_type": "markdown",
   "metadata": {},
   "source": [
    "## `range()`"
   ]
  },
  {
   "cell_type": "markdown",
   "metadata": {},
   "source": [
    "[Notebook 05.02_python_flow_control_cycles.ipynb - Sezione: Funzione `range()` ](../../../05.02_python_flow_control_cycles.ipynb)"
   ]
  },
  {
   "cell_type": "markdown",
   "metadata": {},
   "source": [
    "`range()` crea un oggetto speciale, un iterabile, di tipo `range`:"
   ]
  },
  {
   "cell_type": "code",
   "execution_count": null,
   "metadata": {},
   "outputs": [
    {
     "name": "stdout",
     "output_type": "stream",
     "text": [
      "<class 'range'>\n"
     ]
    }
   ],
   "source": [
    "print(type(range(3, 10)))"
   ]
  },
  {
   "cell_type": "markdown",
   "metadata": {},
   "source": [
    "Ricorda che per vederne il contenuto, lo puoi convertire in una lista:"
   ]
  },
  {
   "cell_type": "code",
   "execution_count": null,
   "metadata": {},
   "outputs": [
    {
     "data": {
      "text/plain": [
       "[3, 4, 5, 6, 7, 8, 9]"
      ]
     },
     "metadata": {},
     "output_type": "display_data"
    }
   ],
   "source": [
    "list( range(3, 10) )"
   ]
  },
  {
   "cell_type": "code",
   "execution_count": null,
   "metadata": {},
   "outputs": [
    {
     "data": {
      "text/plain": [
       "[2, 4, 6, 8, 10]"
      ]
     },
     "metadata": {},
     "output_type": "display_data"
    }
   ],
   "source": [
    "list( range(2, 11, 2) )"
   ]
  },
  {
   "cell_type": "markdown",
   "metadata": {},
   "source": [
    "### Uso di range con ciclo `for`"
   ]
  },
  {
   "cell_type": "markdown",
   "metadata": {},
   "source": [
    "Il `range` è uno strumento che si presta molto bene ad essere utilizzato in un ciclo `for`:"
   ]
  },
  {
   "cell_type": "code",
   "execution_count": null,
   "metadata": {},
   "outputs": [
    {
     "name": "stdout",
     "output_type": "stream",
     "text": [
      "0\n",
      "1\n",
      "2\n"
     ]
    }
   ],
   "source": [
    "for idx in range(3):\n",
    "    print(idx)"
   ]
  },
  {
   "cell_type": "markdown",
   "metadata": {},
   "source": [
    "### `range()` al contrario\n",
    "\n",
    "In un `range`, se lo `start` è maggiore sello `stop`, allora è necessario indicare uno `step` negativo:"
   ]
  },
  {
   "cell_type": "code",
   "execution_count": null,
   "metadata": {},
   "outputs": [
    {
     "data": {
      "text/plain": [
       "[10, 9, 8, 7, 6, 5, 4]"
      ]
     },
     "metadata": {},
     "output_type": "display_data"
    }
   ],
   "source": [
    "list(range(10, 3, -1))"
   ]
  },
  {
   "cell_type": "markdown",
   "metadata": {},
   "source": [
    "## `zip()`"
   ]
  },
  {
   "cell_type": "code",
   "execution_count": null,
   "metadata": {},
   "outputs": [
    {
     "data": {
      "text/plain": [
       "[('pippo', 1), ('pluto', 2), ('foo', 3), ('bar', 4)]"
      ]
     },
     "metadata": {},
     "output_type": "display_data"
    }
   ],
   "source": [
    "list1 = ['pippo', 'pluto', 'foo', 'bar']\n",
    "list2 = [1, 2, 3, 4]\n",
    "\n",
    "list(zip(list1, list2))"
   ]
  },
  {
   "cell_type": "markdown",
   "metadata": {},
   "source": [
    "## `enumerate()`"
   ]
  },
  {
   "cell_type": "code",
   "execution_count": null,
   "metadata": {},
   "outputs": [
    {
     "data": {
      "text/plain": [
       "[(0, 'pippo'), (1, 'pluto'), (2, 'foo'), (3, 'bar')]"
      ]
     },
     "metadata": {},
     "output_type": "display_data"
    }
   ],
   "source": [
    "list(enumerate(['pippo', 'pluto', 'foo', 'bar']))"
   ]
  },
  {
   "cell_type": "code",
   "execution_count": null,
   "metadata": {},
   "outputs": [
    {
     "name": "stdout",
     "output_type": "stream",
     "text": [
      "2\n",
      "4\n"
     ]
    }
   ],
   "source": [
    "foo, bar = (2, 4)\n",
    "\n",
    "print(foo)\n",
    "print(bar)"
   ]
  },
  {
   "cell_type": "code",
   "execution_count": null,
   "metadata": {},
   "outputs": [
    {
     "name": "stdout",
     "output_type": "stream",
     "text": [
      "Indice: 0\n",
      "Elemento: pippo\n",
      "-----------------\n",
      "Indice: 1\n",
      "Elemento: pluto\n",
      "-----------------\n",
      "Indice: 2\n",
      "Elemento: foo\n",
      "-----------------\n",
      "Indice: 3\n",
      "Elemento: bar\n",
      "-----------------\n"
     ]
    }
   ],
   "source": [
    "for idx, elem in enumerate(['pippo', 'pluto', 'foo', 'bar']):\n",
    "    print('Indice:', idx)\n",
    "    print('Elemento:', elem)\n",
    "    print('-----------------')"
   ]
  },
  {
   "cell_type": "code",
   "execution_count": null,
   "metadata": {},
   "outputs": [
    {
     "name": "stdout",
     "output_type": "stream",
     "text": [
      "Indice: 0\n",
      "Elemento: pippo\n",
      "-----------------\n",
      "Indice: 1\n",
      "Elemento: pluto\n",
      "-----------------\n",
      "Indice: 2\n",
      "Elemento: foo\n",
      "-----------------\n",
      "Indice: 3\n",
      "Elemento: bar\n",
      "-----------------\n"
     ]
    }
   ],
   "source": [
    "idx = 0\n",
    "for elem in ['pippo', 'pluto', 'foo', 'bar']:\n",
    "    print('Indice:', idx)\n",
    "    print('Elemento:', elem)\n",
    "    print('-----------------')\n",
    "    idx += 1"
   ]
  },
  {
   "cell_type": "markdown",
   "metadata": {},
   "source": [
    "Notiamo come la decomposizione della tupla nel ciclo `for` è identica a quella usata con il metodo `dict.items()`."
   ]
  },
  {
   "cell_type": "markdown",
   "metadata": {},
   "source": [
    "## List comprehension"
   ]
  },
  {
   "cell_type": "markdown",
   "metadata": {},
   "source": [
    "```python\n",
    "[ ESPRESSIONE for VARIABILE in ITERABILE ] \n",
    "```\n",
    "\n",
    "- sintassi che imita le liste;\n",
    "- esegue la stessa operazione su tutti gli elementi di un iterabile."
   ]
  },
  {
   "cell_type": "code",
   "execution_count": null,
   "metadata": {},
   "outputs": [
    {
     "data": {
      "text/plain": [
       "[0, 1, 2, 3, 4, 5, 6, 7, 8, 9]"
      ]
     },
     "metadata": {},
     "output_type": "display_data"
    }
   ],
   "source": [
    "[num for num in range(10)]"
   ]
  },
  {
   "cell_type": "code",
   "execution_count": null,
   "metadata": {},
   "outputs": [
    {
     "data": {
      "text/plain": [
       "[0, 2, 4, 6, 8, 10, 12, 14, 16, 18]"
      ]
     },
     "metadata": {},
     "output_type": "display_data"
    }
   ],
   "source": [
    "[num * 2 for num in range(10)]"
   ]
  },
  {
   "cell_type": "markdown",
   "metadata": {},
   "source": [
    "La comprehension precedente è in tutto è per tutto equivalente alla seguente scrittura:"
   ]
  },
  {
   "cell_type": "code",
   "execution_count": null,
   "metadata": {},
   "outputs": [
    {
     "data": {
      "text/plain": [
       "[0, 2, 4, 6, 8, 10, 12, 14, 16, 18]"
      ]
     },
     "metadata": {},
     "output_type": "display_data"
    }
   ],
   "source": [
    "lista_numeri = []\n",
    "for num in range(10):\n",
    "    lista_numeri.append(num * 2)\n",
    "\n",
    "lista_numeri"
   ]
  },
  {
   "cell_type": "code",
   "execution_count": null,
   "metadata": {},
   "outputs": [
    {
     "data": {
      "text/plain": [
       "[(0, 'pippo'),\n",
       " (1, 'pippo'),\n",
       " (2, 'pippo'),\n",
       " (3, 'pippo'),\n",
       " (4, 'pippo'),\n",
       " (5, 'pippo'),\n",
       " (6, 'pippo'),\n",
       " (7, 'pippo'),\n",
       " (8, 'pippo'),\n",
       " (9, 'pippo')]"
      ]
     },
     "metadata": {},
     "output_type": "display_data"
    }
   ],
   "source": [
    "[(num, 'pippo') for num in range(10)]"
   ]
  },
  {
   "cell_type": "markdown",
   "metadata": {},
   "source": [
    "#### List comprehension con condizione"
   ]
  },
  {
   "cell_type": "markdown",
   "metadata": {},
   "source": [
    "- aggiungere un `if ESPRESSIONE_BOOLEANA` speciale alla fine\n",
    "\n",
    "```python\n",
    "[ ESPRESSIONE for VARIABILE in ITERABILE if ESPRESSIONE_BOOLEANA] \n",
    "```"
   ]
  },
  {
   "cell_type": "markdown",
   "metadata": {},
   "source": [
    "![list_comprehension.gif](../../../imgs/list_comprehension.gif)"
   ]
  },
  {
   "cell_type": "code",
   "execution_count": null,
   "metadata": {},
   "outputs": [
    {
     "data": {
      "text/plain": [
       "['CANI', 'ALCI']"
      ]
     },
     "metadata": {},
     "output_type": "display_data"
    }
   ],
   "source": [
    "animali = ['cani', 'gatti', 'scoiattoli', 'alci']\n",
    "\n",
    "[animale.upper() for animale in animali if len(animale) == 4]"
   ]
  },
  {
   "cell_type": "code",
   "execution_count": null,
   "metadata": {},
   "outputs": [
    {
     "data": {
      "text/plain": [
       "['CANI', 'ALCI']"
      ]
     },
     "metadata": {},
     "output_type": "display_data"
    }
   ],
   "source": [
    "animali = ['cani', 'gatti', 'scoiattoli', 'alci']\n",
    "\n",
    "animali_upper = []\n",
    "for animale in animali:\n",
    "    if len(animale) == 4:  # FILTRO\n",
    "        animali_upper.append(animale.upper())\n",
    "\n",
    "animali_upper"
   ]
  },
  {
   "cell_type": "markdown",
   "metadata": {},
   "source": [
    "## Dict comprehension\n",
    "\n",
    "Il *dict comprehension* in Python è un modo conciso e elegante per creare dizionari. Simile alla list comprehension, ma invece di liste, genera dizionari. Ecco come puoi usarlo:\n",
    "\n",
    "**Sintassi di base**:\n",
    "```python\n",
    "{chiave: valore for elemento in iterabile}\n",
    "```\n",
    "\n",
    "**Esempio pratico**:\n",
    "\n",
    "Supponiamo di voler creare un dizionario dove le chiavi sono numeri interi e i valori sono i quadrati di questi numeri.\n",
    "\n",
    "Potremmo fare così:"
   ]
  },
  {
   "cell_type": "code",
   "execution_count": null,
   "metadata": {},
   "outputs": [
    {
     "name": "stdout",
     "output_type": "stream",
     "text": [
      "{0: 0, 1: 1, 2: 4, 3: 9, 4: 16, 5: 25}\n"
     ]
    }
   ],
   "source": [
    "quadrati = {}\n",
    "for n in range(6):\n",
    "    quadrati[n] = n**2\n",
    "\n",
    "print(quadrati)"
   ]
  },
  {
   "cell_type": "markdown",
   "metadata": {},
   "source": [
    "Ma possiamo usando il dict comprehension, possimo ottenere lo stesso effetto in modo più conciso."
   ]
  },
  {
   "cell_type": "code",
   "execution_count": null,
   "metadata": {},
   "outputs": [
    {
     "name": "stdout",
     "output_type": "stream",
     "text": [
      "{0: 0, 1: 1, 2: 4, 3: 9, 4: 16, 5: 25}\n"
     ]
    }
   ],
   "source": [
    "quadrati = {n: n**2 for n in range(6)}\n",
    "\n",
    "print(quadrati)"
   ]
  },
  {
   "cell_type": "markdown",
   "metadata": {},
   "source": [
    "### Inizializzazione di dizionari\n",
    "\n",
    "Il dict comprehension può anche essere utile per inizializzare un dizionario:"
   ]
  },
  {
   "cell_type": "code",
   "execution_count": null,
   "metadata": {},
   "outputs": [
    {
     "data": {
      "text/plain": [
       "{'matematica': [], 'inglese': [], 'italiano': [], 'storia': []}"
      ]
     },
     "metadata": {},
     "output_type": "display_data"
    }
   ],
   "source": [
    "materie = ['matematica','inglese','italiano','storia']\n",
    "voti_per_materia = {materia: [] for materia in materie}\n",
    "\n",
    "voti_per_materia"
   ]
  },
  {
   "cell_type": "code",
   "execution_count": null,
   "metadata": {},
   "outputs": [
    {
     "name": "stdout",
     "output_type": "stream",
     "text": [
      "matematica\n",
      "inglese\n",
      "italiano\n",
      "storia\n"
     ]
    }
   ],
   "source": [
    "for materia in materie:\n",
    "    print(materia)"
   ]
  },
  {
   "cell_type": "code",
   "execution_count": null,
   "metadata": {},
   "outputs": [
    {
     "name": "stdout",
     "output_type": "stream",
     "text": [
      "matematica\n",
      "inglese\n",
      "italiano\n",
      "storia\n"
     ]
    }
   ],
   "source": [
    "for materia in voti_per_materia:\n",
    "    print(materia)"
   ]
  },
  {
   "cell_type": "markdown",
   "metadata": {},
   "source": [
    "## Concatenzaione di sequenze"
   ]
  },
  {
   "cell_type": "code",
   "execution_count": null,
   "metadata": {},
   "outputs": [
    {
     "data": {
      "text/plain": [
       "'pippopluto'"
      ]
     },
     "metadata": {},
     "output_type": "display_data"
    }
   ],
   "source": [
    "'pippo' + 'pluto'"
   ]
  },
  {
   "cell_type": "code",
   "execution_count": null,
   "metadata": {},
   "outputs": [
    {
     "data": {
      "text/plain": [
       "[3, 4, 5, 6, 7, 8]"
      ]
     },
     "metadata": {},
     "output_type": "display_data"
    }
   ],
   "source": [
    "[3, 4, 5] + [6, 7, 8]"
   ]
  },
  {
   "cell_type": "markdown",
   "metadata": {},
   "source": [
    "#### Differenza tra concatenazione e `list.append()`"
   ]
  },
  {
   "cell_type": "markdown",
   "metadata": {},
   "source": [
    "La concatenazione, crea una nuova lista:"
   ]
  },
  {
   "cell_type": "code",
   "execution_count": 10,
   "metadata": {},
   "outputs": [
    {
     "data": {
      "text/plain": [
       "[3, 4, 5, 6]"
      ]
     },
     "execution_count": 10,
     "metadata": {},
     "output_type": "execute_result"
    }
   ],
   "source": [
    "nuova_lista = [3, 4, 5] + [6]\n",
    "\n",
    "nuova_lista"
   ]
  },
  {
   "cell_type": "markdown",
   "metadata": {},
   "source": [
    "Mentre il metodo `list.append()` modifica la lista stessa:"
   ]
  },
  {
   "cell_type": "code",
   "execution_count": 11,
   "metadata": {},
   "outputs": [
    {
     "data": {
      "text/plain": [
       "[3, 4, 5, 6]"
      ]
     },
     "execution_count": 11,
     "metadata": {},
     "output_type": "execute_result"
    }
   ],
   "source": [
    "mia_lista = [3, 4, 5]\n",
    "mia_lista.append(6)\n",
    "\n",
    "mia_lista"
   ]
  },
  {
   "cell_type": "markdown",
   "metadata": {},
   "source": [
    "**ATTENZIONE**: Questo che segue non funziona, perché possono solo essere concatenate delle sequenze."
   ]
  },
  {
   "cell_type": "code",
   "execution_count": 15,
   "metadata": {},
   "outputs": [
    {
     "ename": "TypeError",
     "evalue": "can only concatenate list (not \"int\") to list",
     "output_type": "error",
     "traceback": [
      "\u001b[0;31m---------------------------------------------------------------------------\u001b[0m",
      "\u001b[0;31mTypeError\u001b[0m                                 Traceback (most recent call last)",
      "Cell \u001b[0;32mIn[15], line 1\u001b[0m\n\u001b[0;32m----> 1\u001b[0m \u001b[43m[\u001b[49m\u001b[38;5;241;43m3\u001b[39;49m\u001b[43m,\u001b[49m\u001b[43m \u001b[49m\u001b[38;5;241;43m4\u001b[39;49m\u001b[43m,\u001b[49m\u001b[43m \u001b[49m\u001b[38;5;241;43m5\u001b[39;49m\u001b[43m]\u001b[49m\u001b[43m \u001b[49m\u001b[38;5;241;43m+\u001b[39;49m\u001b[43m \u001b[49m\u001b[38;5;241;43m6\u001b[39;49m\n",
      "\u001b[0;31mTypeError\u001b[0m: can only concatenate list (not \"int\") to list"
     ]
    }
   ],
   "source": [
    "[3, 4, 5] + 6"
   ]
  },
  {
   "cell_type": "markdown",
   "metadata": {},
   "source": [
    "E nemmeno questo, perché `.append()` modifica la lista e restituisce `None`:"
   ]
  },
  {
   "cell_type": "code",
   "execution_count": 13,
   "metadata": {},
   "outputs": [
    {
     "name": "stdout",
     "output_type": "stream",
     "text": [
      "None\n"
     ]
    }
   ],
   "source": [
    "mia_lista = [3, 4, 5].append(6)\n",
    "\n",
    "print(mia_lista)"
   ]
  },
  {
   "cell_type": "markdown",
   "metadata": {},
   "source": [
    "> **NOTA**: Ricordiamoci che facendo il casting di una stringa in una lista, otteniamo questo:"
   ]
  },
  {
   "cell_type": "code",
   "execution_count": null,
   "metadata": {},
   "outputs": [
    {
     "data": {
      "text/plain": [
       "['p', 'i', 'p', 'p', 'o']"
      ]
     },
     "metadata": {},
     "output_type": "display_data"
    }
   ],
   "source": [
    "list('pippo')"
   ]
  },
  {
   "cell_type": "markdown",
   "metadata": {},
   "source": [
    "## Composizione di stringhe inserendo variabili al loro interno\n",
    "\n",
    "Per combinare assieme più stringhe, modo più semplice è usare la concatenazione:"
   ]
  },
  {
   "cell_type": "code",
   "execution_count": null,
   "metadata": {},
   "outputs": [
    {
     "data": {
      "text/plain": [
       "'... 123 ... ciao ...'"
      ]
     },
     "metadata": {},
     "output_type": "display_data"
    }
   ],
   "source": [
    "pippo = 123\n",
    "pluto = 'ciao'\n",
    "\n",
    "'... ' + str(pippo) + ' ... ' + pluto + ' ...'"
   ]
  },
  {
   "cell_type": "markdown",
   "metadata": {},
   "source": [
    "Tuttavia l'uso delle *f-string* è consigliato e più intuitivo:"
   ]
  },
  {
   "cell_type": "code",
   "execution_count": null,
   "metadata": {},
   "outputs": [
    {
     "data": {
      "text/plain": [
       "'... 123 ... ciao ...'"
      ]
     },
     "metadata": {},
     "output_type": "display_data"
    }
   ],
   "source": [
    "pippo = 123\n",
    "pluto = 'ciao'\n",
    "\n",
    "f'... {pippo} ... {pluto} ...'"
   ]
  },
  {
   "cell_type": "markdown",
   "metadata": {},
   "source": [
    "### Riassunto sui metodi di interpolazione\n",
    "\n",
    "In Python ci sono molti modi per inserire le variabili nelle stringhe.\n",
    "\n",
    "Per un approdontimento, vedi [Notebook A_string_reference.ipynb - Sezione Inserire le variabili nelle stringhe](../../../A_string_reference.ipynb)"
   ]
  },
  {
   "cell_type": "code",
   "execution_count": null,
   "metadata": {},
   "outputs": [
    {
     "name": "stdout",
     "output_type": "stream",
     "text": [
      "Ciao, Marco Rossi!\n",
      "Ciao, Marco Rossi!\n",
      "Ciao, Marco Rossi!\n",
      "Ciao, Marco Rossi!\n",
      "Ciao, Marco Rossi!\n",
      "Ciao, Marco Rossi!\n",
      "Ciao, Marco Rossi!\n"
     ]
    }
   ],
   "source": [
    "nome = 'Marco'\n",
    "cognome = 'Rossi'\n",
    "\n",
    "stringhe_test = [\n",
    "    # Concatenazione\n",
    "    'Ciao, ' + nome + ' ' + cognome + '!',\n",
    "\n",
    "    # old-style string interpolation\n",
    "    'Ciao, %s %s!' % (nome, cognome),\n",
    "    'Ciao, %(n)s %(c)s!' % {'n': nome, 'c': cognome},\n",
    "\n",
    "    # str.format()\n",
    "    'Ciao, {} {}!'.format(nome, cognome),\n",
    "    'Ciao, {0} {1}!'.format(nome, cognome),\n",
    "    'Ciao, {n} {c}!'.format(n=nome, c=cognome),\n",
    "\n",
    "    # f-strings\n",
    "    f'Ciao, {nome} {cognome}!'\n",
    "]\n",
    "\n",
    "for stringa in stringhe_test:\n",
    "    print(stringa)\n"
   ]
  },
  {
   "cell_type": "markdown",
   "metadata": {},
   "source": [
    "## Concatenare tutti gli elementi di una sequenza in una stringa usando un separatore"
   ]
  },
  {
   "cell_type": "markdown",
   "metadata": {},
   "source": [
    "Il metodo `.join()` delle stringhe è molto utile quando dobbiamo trasformare una lista in una stringa usando un carattere che separi i vari elementi della lista:"
   ]
  },
  {
   "cell_type": "code",
   "execution_count": null,
   "metadata": {},
   "outputs": [
    {
     "data": {
      "text/plain": [
       "'a-b-c-d'"
      ]
     },
     "metadata": {},
     "output_type": "display_data"
    }
   ],
   "source": [
    "'-'.join(['a', 'b', 'c', 'd'])"
   ]
  },
  {
   "cell_type": "markdown",
   "metadata": {},
   "source": [
    "Nell'espressione `sep_str.join(list)`, `sep_str` è la stringa che deve esssere usata come separatore e `list` è la lista che contiene gli elementi da concatenare.\n",
    "\n",
    "Questo medoto è molto comodo quando vogliamo stampare a monitor una lista come un elenco di valori separati da virgola:"
   ]
  },
  {
   "cell_type": "code",
   "execution_count": null,
   "metadata": {},
   "outputs": [
    {
     "name": "stdout",
     "output_type": "stream",
     "text": [
      "a, b, c, d\n"
     ]
    }
   ],
   "source": [
    "mia_stringa = ', '.join(['a', 'b', 'c', 'd'])\n",
    "\n",
    "print(mia_stringa)"
   ]
  },
  {
   "cell_type": "markdown",
   "metadata": {},
   "source": [
    "Oppure se vogliamo produrre un elenco puntato:"
   ]
  },
  {
   "cell_type": "code",
   "execution_count": null,
   "metadata": {},
   "outputs": [
    {
     "name": "stdout",
     "output_type": "stream",
     "text": [
      "- a\n",
      "- b\n",
      "- c\n",
      "- d\n"
     ]
    }
   ],
   "source": [
    "mia_stringa = '\\n- '.join(['a', 'b', 'c', 'd'])\n",
    "\n",
    "print('-', mia_stringa)"
   ]
  },
  {
   "cell_type": "markdown",
   "metadata": {},
   "source": [
    "## Trasformare in maiuscolo le iniziali in una stringa"
   ]
  },
  {
   "cell_type": "markdown",
   "metadata": {},
   "source": [
    "`str.capitalize()` trasforma in maiuscolo solo il primo carattere della prima parola di una stringa."
   ]
  },
  {
   "cell_type": "code",
   "execution_count": null,
   "metadata": {},
   "outputs": [
    {
     "data": {
      "text/plain": [
       "'Pippo pluto'"
      ]
     },
     "metadata": {},
     "output_type": "display_data"
    }
   ],
   "source": [
    "'pippo pluto'.capitalize()"
   ]
  },
  {
   "cell_type": "markdown",
   "metadata": {},
   "source": [
    "`str.title()` invece trasforma in maiuscolo tutti i primi caratteri di ciascuna parola contenuta in una stringa."
   ]
  },
  {
   "cell_type": "code",
   "execution_count": null,
   "metadata": {},
   "outputs": [
    {
     "data": {
      "text/plain": [
       "'Pippo Pluto'"
      ]
     },
     "metadata": {},
     "output_type": "display_data"
    }
   ],
   "source": [
    "'pippo pluto'.title()"
   ]
  },
  {
   "cell_type": "markdown",
   "metadata": {},
   "source": [
    "## Format codes per trasformare valori numerici in stringhe\n",
    "\n",
    "> PER APPROFONDIRE: [\"Format String Syntax\" sulla documentazione ufficiale](https://docs.python.org/3/library/string.html#format-string-syntax).\n"
   ]
  },
  {
   "cell_type": "markdown",
   "metadata": {},
   "source": [
    "Vedi: [Notebook A_string_reference.ipynb - Sezione \"Altre sintassi interessanti\"](../../../A_string_reference.ipynb)"
   ]
  },
  {
   "cell_type": "code",
   "execution_count": null,
   "metadata": {},
   "outputs": [
    {
     "name": "stdout",
     "output_type": "stream",
     "text": [
      "56789213.46\n",
      "56,789,213.46\n",
      "        56789213.456\n"
     ]
    }
   ],
   "source": [
    "my_number = 56789213.456\n",
    "\n",
    "print(f'{my_number:.2f}')\n",
    "print(f'{my_number:,.2f}')\n",
    "print(f'{my_number:20.3f}')\n"
   ]
  },
  {
   "cell_type": "markdown",
   "metadata": {},
   "source": [
    "Uso pratico del codice per aggiungere spazi iniziali che consentono l'allineamoento a destra."
   ]
  },
  {
   "cell_type": "code",
   "execution_count": null,
   "metadata": {},
   "outputs": [
    {
     "name": "stdout",
     "output_type": "stream",
     "text": [
      " 1   1          1\n",
      " 2   4          8\n",
      " 3   9         27\n",
      " 4  16         64\n",
      " 5  25        125\n",
      " 6  36        216\n",
      " 7  49        343\n",
      " 8  64        512\n",
      " 9  81        729\n",
      "10 100       1000\n"
     ]
    }
   ],
   "source": [
    "for x in range(1, 11):\n",
    "    print(f'{x:2d} {x*x:3d} { x*x*x:10d}')"
   ]
  },
  {
   "cell_type": "markdown",
   "metadata": {},
   "source": [
    "## Codifica dei caratteri"
   ]
  },
  {
   "cell_type": "markdown",
   "metadata": {},
   "source": [
    "Sito di riferimento per la codifica dei caratteri:\n",
    "\n",
    "https://www.amp-what.com/"
   ]
  },
  {
   "cell_type": "markdown",
   "metadata": {},
   "source": [
    "#### Stampare il carattere a partire dal suo codice: `chr()`"
   ]
  },
  {
   "cell_type": "code",
   "execution_count": null,
   "metadata": {},
   "outputs": [
    {
     "data": {
      "text/plain": [
       "'😀'"
      ]
     },
     "metadata": {},
     "output_type": "display_data"
    }
   ],
   "source": [
    "pippo = 0x1f600\n",
    "chr(pippo)"
   ]
  },
  {
   "cell_type": "markdown",
   "metadata": {},
   "source": [
    "#### Stampare il codice a partire dal carattere: `ord()`"
   ]
  },
  {
   "cell_type": "code",
   "execution_count": null,
   "metadata": {},
   "outputs": [
    {
     "data": {
      "text/plain": [
       "128512"
      ]
     },
     "metadata": {},
     "output_type": "display_data"
    }
   ],
   "source": [
    "pluto = '😀'\n",
    "ord(pluto)"
   ]
  },
  {
   "cell_type": "markdown",
   "metadata": {},
   "source": [
    "#### Conversione tra valore decimale (base 10) e esadecimale (base 16)"
   ]
  },
  {
   "cell_type": "code",
   "execution_count": null,
   "metadata": {},
   "outputs": [
    {
     "data": {
      "text/plain": [
       "128512"
      ]
     },
     "metadata": {},
     "output_type": "display_data"
    }
   ],
   "source": [
    "# 😀\n",
    "\n",
    "# Ottenere valore decimale da uno esadecimale\n",
    "int(0x1f600)\n"
   ]
  },
  {
   "cell_type": "code",
   "execution_count": null,
   "metadata": {},
   "outputs": [
    {
     "data": {
      "text/plain": [
       "'0x1f600'"
      ]
     },
     "metadata": {},
     "output_type": "display_data"
    }
   ],
   "source": [
    "# 😀\n",
    "\n",
    "# Ottenere valore esadecimale da uno decimale\n",
    "hex(128512)"
   ]
  },
  {
   "cell_type": "markdown",
   "metadata": {},
   "source": [
    "#### Stampa del carattere corrispondente a un codice"
   ]
  },
  {
   "cell_type": "code",
   "execution_count": null,
   "metadata": {},
   "outputs": [
    {
     "name": "stdout",
     "output_type": "stream",
     "text": [
      "😀\n",
      "😀\n"
     ]
    }
   ],
   "source": [
    "print(chr(0x1f600))  # in esadecimale\n",
    "print(chr(128512))   # in decimale (HTML)"
   ]
  },
  {
   "cell_type": "markdown",
   "metadata": {},
   "source": [
    "## Modulo `datetime`"
   ]
  },
  {
   "cell_type": "markdown",
   "metadata": {},
   "source": [
    "### `datetime.date`\n",
    "\n",
    "Il modulo `datetime` in Python fornisce classi per manipolare date e ore. In particolare, l'oggetto `date` rappresenta una data (anno, mese, giorno) senza informazioni sull'orario.\n",
    "\n",
    "`date` è una classe che rappresenta una data e fornisce metodi per creare oggetti di tipo `date` e manipolare date.\n",
    "\n",
    "`date` deve essere importato:\n",
    "\n",
    "```python\n",
    "from datetime import date\n",
    "```\n",
    "\n",
    "- `date.today()` restitisce la data di oggi.\n",
    "\n",
    "- `date.strftime()`: metodo degli oggetti `date` che formatta la data in una stringa secondo un formato specificato. Nel codice, `.strftime(\"%A %d/%m/%Y\")` viene usato per ottenere la rappresentazione della data nel formato \"Nome-Giorno GG/MM/AAA\"."
   ]
  },
  {
   "cell_type": "code",
   "execution_count": null,
   "metadata": {},
   "outputs": [
    {
     "data": {
      "text/plain": [
       "'Saturday 08/06/2024'"
      ]
     },
     "metadata": {},
     "output_type": "display_data"
    }
   ],
   "source": [
    "from datetime import date\n",
    "\n",
    "oggi = date.today()\n",
    "\n",
    "oggi.strftime(\"%A %d/%m/%Y\")"
   ]
  },
  {
   "cell_type": "code",
   "execution_count": null,
   "metadata": {},
   "outputs": [
    {
     "name": "stdout",
     "output_type": "stream",
     "text": [
      "2024-04-19 19:42:45.934632\n",
      "2024-04-19\n"
     ]
    }
   ],
   "source": [
    "from datetime import datetime\n",
    "\n",
    "from datetime import date\n",
    "\n",
    "print(datetime.now())\n",
    "print(date.today())\n",
    "\n",
    "# Considerazioni sui formati di data\n",
    "# 2024-04-19  # ISO\n",
    "# 19/04/2024  # Noi\n",
    "# 04/19/2024  # GB / US"
   ]
  },
  {
   "cell_type": "markdown",
   "metadata": {},
   "source": [
    "Dentro il modulo `datetime` ci sono 2 oggetti:\n",
    "\n",
    "- `datetime` &rarr; data + ora\n",
    "- `date` &rarr; data\n",
    "\n",
    "```text\n",
    "datetime.\n",
    "         .datetime\n",
    "         .date\n",
    "```"
   ]
  },
  {
   "cell_type": "code",
   "execution_count": null,
   "metadata": {},
   "outputs": [
    {
     "name": "stdout",
     "output_type": "stream",
     "text": [
      "Data odierna: 2024-04-17\n",
      "Giorno: 17\n",
      "Mese: 4\n",
      "Anno: 2024\n"
     ]
    }
   ],
   "source": [
    "import datetime\n",
    "\n",
    "# Ottiene la data corrente\n",
    "oggi = datetime.date.today()\n",
    "\n",
    "# Estrae giorno, mese e anno\n",
    "giorno = oggi.day\n",
    "mese = oggi.month\n",
    "anno = oggi.year\n",
    "\n",
    "# Stampa i risultati\n",
    "print(\"Data odierna:\", oggi)\n",
    "print(\"Giorno:\", giorno)\n",
    "print(\"Mese:\", mese)\n",
    "print(\"Anno:\", anno)\n"
   ]
  },
  {
   "cell_type": "markdown",
   "metadata": {},
   "source": [
    "### `datetime.datetime`"
   ]
  },
  {
   "cell_type": "code",
   "execution_count": null,
   "metadata": {},
   "outputs": [
    {
     "name": "stdout",
     "output_type": "stream",
     "text": [
      "Data e ora odierna: 2024-04-17 21:15:57.491402\n",
      "Giorno: 17\n",
      "Mese: 4\n",
      "Anno: 2024\n"
     ]
    }
   ],
   "source": [
    "import datetime\n",
    "\n",
    "# Ottiene la data e l'ora correnti\n",
    "adesso = datetime.datetime.now()\n",
    "\n",
    "# Estrae giorno, mese e anno\n",
    "giorno = adesso.day\n",
    "mese = adesso.month\n",
    "anno = adesso.year\n",
    "\n",
    "# Stampa i risultati\n",
    "print(\"Data e ora odierna:\", adesso)\n",
    "print(\"Giorno:\", giorno)\n",
    "print(\"Mese:\", mese)\n",
    "print(\"Anno:\", anno)\n"
   ]
  },
  {
   "cell_type": "markdown",
   "metadata": {},
   "source": [
    "### Creare un oggetto `date`"
   ]
  },
  {
   "cell_type": "code",
   "execution_count": null,
   "metadata": {},
   "outputs": [
    {
     "name": "stdout",
     "output_type": "stream",
     "text": [
      "10\n",
      "4\n",
      "2024\n"
     ]
    }
   ],
   "source": [
    "from datetime import date\n",
    "\n",
    "my_date = date(2024, 4, 10)\n",
    "# my_date = date.fromisoformat('2024-04-10')\n",
    "# my_date = date.today()\n",
    "\n",
    "\n",
    "print(my_date.day)\n",
    "print(my_date.month)\n",
    "print(my_date.year)\n"
   ]
  },
  {
   "cell_type": "markdown",
   "metadata": {},
   "source": [
    "> **NOTA**: Il formato ISO per la data è il seguente:\n",
    "\n",
    "AAAA-MM-GG ovvero ANNO-MESE-GIORNO."
   ]
  },
  {
   "cell_type": "markdown",
   "metadata": {},
   "source": [
    "### Oggetti `timedelta`\n",
    "\n",
    "`timedelta` è una classe che rappresenta una durata, la differenza tra due date o orari. Nelle esercitazioni abbiamo usato `days=...`, argomento il quale consente di creare un intervallo della durata uguale al numero di giorni (*days*) specificati."
   ]
  },
  {
   "cell_type": "markdown",
   "metadata": {},
   "source": [
    "### Lista di date alternate\n",
    "\n",
    "In una sercitazione ci veniva richiesto di produrre una lista di 6 date alternate (un giorno ogni due) a partire dalla data di oggi.\n",
    "\n",
    "Nello svolgimento, abbiamo fatto così:"
   ]
  },
  {
   "cell_type": "code",
   "execution_count": null,
   "metadata": {},
   "outputs": [
    {
     "name": "stdout",
     "output_type": "stream",
     "text": [
      "['Wednesday 29/05/2024', 'Friday 31/05/2024', 'Sunday 02/06/2024', 'Tuesday 04/06/2024', 'Thursday 06/06/2024', 'Saturday 08/06/2024']\n"
     ]
    }
   ],
   "source": [
    "from datetime import date, timedelta\n",
    "\n",
    "lista_date = []\n",
    "oggi = date.today()\n",
    "for num in range(6):\n",
    "    data = oggi + timedelta(days=2*num)\n",
    "    lista_date.append(data.strftime('%A %d/%m/%Y').capitalize())\n",
    "\n",
    "print(lista_date)"
   ]
  },
  {
   "cell_type": "markdown",
   "metadata": {},
   "source": [
    "L'espressione `timedelta(days=2*num)` crea un intervallo di tempo in giorni.\n",
    "\n",
    "Se non è chiaro quali valori assumerà l'espressione `2*num`, prova a guardare il seguente codice:"
   ]
  },
  {
   "cell_type": "code",
   "execution_count": null,
   "metadata": {},
   "outputs": [
    {
     "name": "stdout",
     "output_type": "stream",
     "text": [
      "0\n",
      "2\n",
      "4\n",
      "6\n",
      "8\n",
      "10\n"
     ]
    }
   ],
   "source": [
    "for num in [0, 1, 2, 3, 4, 5]:\n",
    "    print(2*num)"
   ]
  },
  {
   "cell_type": "markdown",
   "metadata": {},
   "source": [
    "### Conversione di un'oggetto data in stringa"
   ]
  },
  {
   "cell_type": "code",
   "execution_count": null,
   "metadata": {},
   "outputs": [
    {
     "name": "stdout",
     "output_type": "stream",
     "text": [
      "2024-12-01\n",
      "2024-12-01\n"
     ]
    }
   ],
   "source": [
    "from datetime import date\n",
    "\n",
    "# Creo una data usando la classe date\n",
    "mia_data = date(2024, 12, 1)\n",
    "\n",
    "# Se converto la data direttamente in una stringa, ottego la data\n",
    "# in formato ISO, ovvero AAAA-MM-GG\n",
    "print(str(mia_data))\n",
    "\n",
    "# Esattamente come se eseguissi il metodo date.isoformat()\n",
    "print(mia_data.isoformat())"
   ]
  },
  {
   "cell_type": "markdown",
   "metadata": {},
   "source": [
    "## Localizzazione per la lingua italiana\n",
    "\n",
    "Per ottenere i nomi dei giorni in italiano (come eventualmente anche i nomi dei mesi), è necessario modificare le impostazioni del `locale` prima di effettuare la conversione in stringa:\n",
    "\n",
    "```python\n",
    "import locale\n",
    "\n",
    "locale.setlocale(locale.LC_TIME, 'it_IT.utf8')\n",
    "```"
   ]
  },
  {
   "cell_type": "markdown",
   "metadata": {},
   "source": [
    "## `if __name__ == '__main__':`\n",
    "\n",
    "Il pattern `if __name__ == '__main__':` in Python viene utilizzato per verificare se il file di script è stato eseguito come script e dunque è in esecuzione come programma principale.\n",
    "\n",
    "Se la condizione è vera, significa che il file è stato eseguito direttamente e non importato come modulo in un altro script.\n",
    "\n",
    "Questo consente di eseguire un blocco di codice solo quando il file è eseguito autonomamente, ad esempio per testare funzionalità o eseguire script specifici, evitando che lo stesso codice venga eseguito quando il modulo è importato altrove.\n",
    "\n",
    "> **RICORDA**: Quando si importa un modulo o anche solo un singolo oggetto in esso contenuto, il codice in esso contenuto viene eseguito completamente. Dunque `if __name__ == '__main__':` è l'unico modo per evitare che delle istruzioni vengano eseguite se il modulo è stato importato."
   ]
  }
 ],
 "metadata": {
  "kernelspec": {
   "display_name": ".venv",
   "language": "python",
   "name": "python3"
  },
  "language_info": {
   "codemirror_mode": {
    "name": "ipython",
    "version": 3
   },
   "file_extension": ".py",
   "mimetype": "text/x-python",
   "name": "python",
   "nbconvert_exporter": "python",
   "pygments_lexer": "ipython3",
   "version": "3.11.2"
  }
 },
 "nbformat": 4,
 "nbformat_minor": 2
}
