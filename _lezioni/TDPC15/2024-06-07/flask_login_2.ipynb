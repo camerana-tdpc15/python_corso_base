{
 "cells": [
  {
   "cell_type": "markdown",
   "id": "e6f022b5",
   "metadata": {
    "is_toc": true
   },
   "source": [
    "**Sommario**\n",
    "\n",
    "- [`flask_login_2` - *Flash messages* e *footer*](#flask_login_2---flash-messages-e-footer)\n",
    "  - [Struttura del progetto aggiornata](#struttura-del-progetto-aggiornata)\n",
    "  - [Flash messages](#flash-messages)\n",
    "    - [21. Implementazione e visualizzazione dei messaggi `flash`](#21-implementazione-e-visualizzazione-dei-messaggi-flash)\n",
    "      - [Aggiunta dei messaggi flash nel codice Python](#aggiunta-dei-messaggi-flash-nel-codice-python)\n",
    "      - [Visualizzazione dei messaggi flash nel template](#visualizzazione-dei-messaggi-flash-nel-template)\n",
    "  - [Footer](#footer)\n",
    "    - [22. Aggiunta di un *footer* nelle pagine](#22-aggiunta-di-un-footer-nelle-pagine)\n",
    "      - [Aggiunta di classi BootStrap per ottenere uno \"*sticky footer*\"](#aggiunta-di-classi-bootstrap-per-ottenere-uno-sticky-footer)\n",
    "    - [23. Revisione template parziali inseriti con `{% include %}`](#23-revisione-template-parziali-inseriti-con--include)"
   ]
  },
  {
   "cell_type": "markdown",
   "metadata": {},
   "source": [
    "# `flask_login_2` - *Flash messages* e *footer*"
   ]
  },
  {
   "cell_type": "markdown",
   "metadata": {},
   "source": [
    "## Struttura del progetto aggiornata\n",
    "\n",
    "In questa terza fase modifichiamo ulteriormente la struttura del progetto in questo modo:\n",
    "\n",
    "```text\n",
    "flask_login_2/\n",
    "│\n",
    "├── app.py\n",
    "├── static/\n",
    "│   ├── style.css\n",
    "│   └── imgs/\n",
    "│       ├── akira.jpg\n",
    "│       ├── blade-runner.jpg\n",
    "│       ├── gits.jpg\n",
    "│       ├── hackers.jpg\n",
    "│       ├── nirvana.jpg\n",
    "│       └── shortcut-icon.png\n",
    "└── templates/\n",
    "    ├── films.html\n",
    "    ├── home.html\n",
    "    ├── login.html\n",
    "    └── includes/\n",
    "        ├── flash.html       << NUOVO\n",
    "        ├── footer.html      << NUOVO\n",
    "        ├── head.html\n",
    "        └── navbar.html\n",
    "```\n"
   ]
  },
  {
   "cell_type": "markdown",
   "metadata": {},
   "source": [
    "## Flash messages"
   ]
  },
  {
   "cell_type": "markdown",
   "metadata": {},
   "source": [
    "### 21. Implementazione e visualizzazione dei messaggi `flash`\n",
    "\n",
    "I messaggi flash in Flask vengono utilizzati per fornire feedback agli utenti. Ad esempio, possiamo utilizzarli per informare l'utente del successo di un'operazione come il login o la registrazione. I messaggi flash sono temporanei e vengono visualizzati solo una volta.\n",
    "\n"
   ]
  },
  {
   "cell_type": "markdown",
   "metadata": {},
   "source": [
    "#### Aggiunta dei messaggi flash nel codice Python\n",
    "\n",
    "In `app.py`, utilizziamo la funzione `flash` per inviare i messaggi. Ecco come possiamo aggiungere messaggi flash per diverse situazioni:\n",
    "\n",
    "```python\n",
    "from flask import Flask, render_template, redirect, url_for, flash\n",
    "...\n",
    "\n",
    "@app.route('/login', methods=['GET', 'POST'])\n",
    "def login():\n",
    "    if request.method == 'POST':\n",
    "        username = request.form['username']\n",
    "        password = request.form['password']\n",
    "        if username in users and users[username] == password:\n",
    "            \n",
    "            # FLASH MESSAGE\n",
    "            flash('Login avvenuto correttamente!', 'success')\n",
    "\n",
    "            session['username'] = username\n",
    "            return redirect(url_for('films'))\n",
    "        else:\n",
    "            # FLASH MESSAGE\n",
    "            flash('Username o password non validi.', 'danger')\n",
    "    \n",
    "    return render_template('login.html')\n",
    "\n",
    "@app.route('/logout')\n",
    "def logout():\n",
    "    session.pop('username', None)\n",
    "    \n",
    "    # FLASH MESSAGE\n",
    "    flash('Logout effettuato correttamente.', 'warning')\n",
    "    \n",
    "    return redirect(url_for('home'))\n",
    "```"
   ]
  },
  {
   "cell_type": "markdown",
   "metadata": {},
   "source": [
    "#### Visualizzazione dei messaggi flash nel template\n",
    "\n",
    "Per visualizzare i messaggi flash, è sufficiente aggiungere un blocco di codice Jinja nei nostri template. Questo blocco itera attraverso i messaggi flash e li visualizza:\n",
    "\n",
    "Dato che questo codice è sempre uguale e lo vogliamo includere in tutte le pagine, è una buona idea metterlo in un template parziale `flash.html` che metteremo in `templates/includes/`:\n",
    "\n",
    "```html\n",
    "{% with messages = get_flashed_messages(with_categories=true) %}\n",
    "  {% if messages %}\n",
    "    <div class=\"container mt-4\">\n",
    "      {% for category, message in messages %}\n",
    "        <div class=\"alert alert-{{ category }} alert-dismissible fade show\" role=\"alert\">\n",
    "          {{ message }}\n",
    "          <button type=\"button\" class=\"close\" data-dismiss=\"alert\" aria-label=\"Close\">\n",
    "            <span aria-hidden=\"true\">&times;</span>\n",
    "          </button>\n",
    "        </div>\n",
    "      {% endfor %}\n",
    "    </div>\n",
    "  {% endif %}\n",
    "{% endwith %}\n",
    "```\n",
    "Per includere il template dei messaggi flash nei template principali come `home.html`, `login.html`, e `films.html`, posizioniamo la seguente istruzione dove vogliamo che vengano visualizzati i messaggi flash:\n",
    "\n",
    "> ```html\n",
    "> {% include 'includes/flash.html' %}\n",
    "> ```"
   ]
  },
  {
   "cell_type": "markdown",
   "metadata": {},
   "source": [
    "## Footer"
   ]
  },
  {
   "cell_type": "markdown",
   "metadata": {},
   "source": [
    "### 22. Aggiunta di un *footer* nelle pagine\n",
    "\n",
    "Per aggiungere un footer in tutte le pagine del nostro sito, possiamo creare un template parziale per il footer e includerlo nei nostri template principali.\n",
    "\n",
    "Dato che anche questo codice è sempre uguale e lo vogliamo includere in tutte le pagine, mettiamo anch'esso in un template parziale `footer.html` che metteremo in `templates/includes/`:\n",
    "\n",
    "```html\n",
    "<footer class=\"bg-dark text-white text-center py-3 mt-auto\">\n",
    "    <div class=\"container\">\n",
    "        <p>&copy; 2024 Sito Film. Some rights reserved.</p>\n",
    "        <p>\n",
    "          Blah blah blah...\n",
    "        </p>\n",
    "    </div>\n",
    "</footer>\n",
    "<script src=\"https://cdn.jsdelivr.net/npm/bootstrap@5.3.3/dist/js/bootstrap.bundle.min.js\"></script>\n",
    "```\n",
    "\n",
    "Ora possiamo includere il template parziale del footer nei file `home.html`, `login.html`, e `films.html` subito prima della chisura del tag `<body>`:\n",
    "\n",
    "> ```html\n",
    "> {% include 'includes/footer.html' %}\n",
    "> ```"
   ]
  },
  {
   "cell_type": "markdown",
   "metadata": {},
   "source": [
    "#### Aggiunta di classi BootStrap per ottenere uno \"*sticky footer*\"\n",
    "\n",
    "Per far sì che il footer rimanga sempre al fondo della pagina dobbiamo aggiungere delle classi BootStrap ad  alcuni elementi della pagina:\n",
    "\n",
    "\n",
    "```html\n",
    "<html class=\"h-100\">...\n",
    "\n",
    "<body class=\"d-flex flex-column h-100\">...\n",
    "\n",
    "<main class=\"flex-shrink-0\">...\n",
    "\n",
    "<footer class=\"py-3 mt-auto\">...\n",
    "\n",
    "```\n",
    "\n",
    "Tutto questo è come nell'esempio ufficiale di uno [*sticky footer* sul sito di Bootstrap](https://getbootstrap.com/docs/5.3/examples/sticky-footer-navbar/)."
   ]
  },
  {
   "cell_type": "markdown",
   "metadata": {},
   "source": [
    "### 23. Revisione template parziali inseriti con `{% include %}`\n",
    "\n",
    "Ecco la situazione di come vengono inclusi i template parziali all'interno delle pagine.\n",
    "\n",
    "Aggiungiamo anche i tag `<header>` e `<main>` in modo da seguire gli standard.\n",
    "\n",
    "Il tag `<footer>` è già presente in `footer.html`, che viene incluso.\n",
    "\n",
    "```html\n",
    "<!DOCTYPE html>\n",
    "<html class=\"h-100\">\n",
    "<head>\n",
    "    <title>Titolo pagina</title>\n",
    "    {% include 'includes/head.html' %}  <!-- HEAD IMPORTS -->\n",
    "</head>\n",
    "<body class=\"d-flex flex-column h-100\">\n",
    "    <header>\n",
    "        {% include 'includes/navbar.html' %}  <!-- NAVBAR -->\n",
    "    </header>\n",
    "    \n",
    "    <main class=\"flex-shrink-0\">\n",
    "        <div class=\"container mt-4\">\n",
    "\n",
    "            {% include 'includes/flash.html' %}  <!-- FLASH MESSAGES -->\n",
    "\n",
    "            ... ...\n",
    "        </div>\n",
    "    </main>\n",
    "\n",
    "    {% include 'includes/footer.html' %}  <!-- FOOTER -->\n",
    "</body>\n",
    "</html>\n",
    "```"
   ]
  }
 ],
 "metadata": {
  "kernelspec": {
   "display_name": ".venv",
   "language": "python",
   "name": "python3"
  },
  "language_info": {
   "name": "python",
   "version": "3.10.1"
  }
 },
 "nbformat": 4,
 "nbformat_minor": 2
}
