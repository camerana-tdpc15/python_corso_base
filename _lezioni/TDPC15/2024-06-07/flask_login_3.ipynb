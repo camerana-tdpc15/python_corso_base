{
 "cells": [
  {
   "cell_type": "markdown",
   "id": "53f9858a",
   "metadata": {
    "is_toc": true
   },
   "source": [
    "**Sommario**\n",
    "\n",
    "- [`flask_login_3` - *Template inheritance* e *Toast*](#flask_login_3---template-inheritance-e-toast)\n",
    "  - [Struttura del progetto aggiornata](#struttura-del-progetto-aggiornata)\n",
    "  - [Ereditarietà dei template](#ereditariet%C3%A0-dei-template)\n",
    "    - [24. Utilizzo della *template inheritance* con `{% block %}` e `{% extends %}`](#24-utilizzo-della-template-inheritance-con--block--e--extends)\n",
    "      - [Creazione del template base](#creazione-del-template-base)\n",
    "      - [Estensione del template base nei template figli](#estensione-del-template-base-nei-template-figli)\n",
    "  - [Flash message con il Toast](#flash-message-con-il-toast)\n",
    "    - [25. Utilizzo dei *Toast* di Bootstrap per i messaggi `flash`](#25-utilizzo-dei-toast-di-bootstrap-per-i-messaggi-flash)\n",
    "    - [26. Script JavaScript per i toast, dalla cartella `static/`](#26-script-javascript-per-i-toast-dalla-cartella-static)\n",
    "  - [Code refactoring](#code-refactoring)\n",
    "    - [27. Ri-organizzazione del codice secondo paradigma MVC](#27-ri-organizzazione-del-codice-secondo-paradigma-mvc)"
   ]
  },
  {
   "cell_type": "markdown",
   "metadata": {},
   "source": [
    "# `flask_login_3` - *Template inheritance* e *Toast*"
   ]
  },
  {
   "cell_type": "markdown",
   "metadata": {},
   "source": [
    "## Struttura del progetto aggiornata\n",
    "\n",
    "In questa quarta fase modifichiamo ancora una volta la struttura del progetto in questo modo:\n",
    "\n",
    "```text\n",
    "flask_login_3/\n",
    "│\n",
    "├── app.py\n",
    "├── db.py                      << NUOVO\n",
    "├── static/\n",
    "│   ├── script.js\n",
    "│   ├── style.css\n",
    "│   └── imgs/\n",
    "│       ├── akira.jpg\n",
    "│       ├── blade-runner.jpg\n",
    "│       ├── gits.jpg\n",
    "│       ├── hackers.jpg\n",
    "│       ├── nirvana.jpg\n",
    "│       └── shortcut-icon.png  \n",
    "└── templates/\n",
    "    ├── base.html              << NUOVO\n",
    "    ├── films.html\n",
    "    ├── home.html\n",
    "    ├── login.html\n",
    "    └── includes/\n",
    "        ├── flash.html\n",
    "        ├── footer.html\n",
    "        ├── head.html\n",
    "        └── navbar.html\n",
    "```\n"
   ]
  },
  {
   "cell_type": "markdown",
   "metadata": {},
   "source": [
    "## Ereditarietà dei template"
   ]
  },
  {
   "cell_type": "markdown",
   "metadata": {},
   "source": [
    "### 24. Utilizzo della *template inheritance* con `{% block %}` e `{% extends %}`\n",
    "\n",
    "L'ereditarietà dei template in Jinja2 permette di definire un template base che altri template possono estendere. Questo aiuta a mantenere il codice [DRY (Don't Repeat Yourself)](https://it.wikipedia.org/wiki/Don%27t_repeat_yourself) e facilita la manutenzione."
   ]
  },
  {
   "cell_type": "markdown",
   "metadata": {},
   "source": [
    "#### Creazione del template base\n",
    "\n",
    "Creiamo un file `templates/base.html` in cui andremo ad inserire:\n",
    "\n",
    "- `{% block title %}- Sito Film{% endblock %}` nel tag `<title>`;\n",
    "\n",
    "- `{% block content %}{% endblock %}` nel tag `<main>`\n",
    "\n",
    "```html\n",
    "<!doctype html>\n",
    "<html>\n",
    "<head>\n",
    "    <!-- BLOCCO DEL TITOLO -->\n",
    "    <title>{% block title %}- Sito Film{% endblock %}</title>\n",
    "\n",
    "    {% include 'includes/head.html' %}\n",
    "</head>\n",
    "<body>\n",
    "\n",
    "    <header>\n",
    "        {% include 'includes/navbar.html' %}\n",
    "    </header>\n",
    "    \n",
    "    <main>\n",
    "        <div class=\"container mt-4\">\n",
    "        {% include 'includes/flash.html' %}\n",
    "\n",
    "        <!-- BLOCCO DEL CONTENUTO -->\n",
    "        {% block content %}{% endblock %}\n",
    "    \n",
    "        </div>\n",
    "    </main>\n",
    "    {% include 'includes/footer.html' %}\n",
    "\n",
    "</body>\n",
    "</html>\n",
    "```"
   ]
  },
  {
   "cell_type": "markdown",
   "metadata": {},
   "source": [
    "#### Estensione del template base nei template figli\n",
    "\n",
    "I template figli utilizzano la sintassi `{% extends 'template_base.html'%}` per ereditare il template base e `{% block nome_blocco %}...{% endblock %}` per definire il contenuto specifico che andrà inserito nel template base.\n",
    "\n",
    "Riscriviamo ciascun file:\n",
    "\n",
    "- `templates/home.html`\n",
    "- `templates/login.html`\n",
    "- `templates/films.html`\n",
    "\n",
    "E vi inseriamo:\n",
    "\n",
    "- `{% extends 'base.html' %}` all'inizio del file per indicare che si sta estendendo il template `base.html`;\n",
    "\n",
    "- `{% block title %} ... {% endblock %}` con all'interno il TITOLO vero e proprio della pagina;\n",
    "\n",
    "- `{% block content %} ... {% endblock %}` con all'interno il CONTENUTO vero e proprio della pagina.\n",
    "\n",
    "Ad esempio:\n",
    "\n",
    "```html\n",
    "{% extends 'base.html' %}\n",
    "\n",
    "{% block title %}Home - Sito Films{% endblock %}\n",
    "\n",
    "{% block content %}\n",
    "  <h1 class=\"display-4\">Benventuti su Sito Film!</h1>\n",
    "  <p class=\"lead\">Questa è la home page del sito.</p>\n",
    "  <!-- ... altro contenuto -->\n",
    "{% endblock %}\n",
    "```"
   ]
  },
  {
   "cell_type": "markdown",
   "metadata": {},
   "source": [
    "## Flash message con il Toast"
   ]
  },
  {
   "cell_type": "markdown",
   "metadata": {},
   "source": [
    "### 25. Utilizzo dei *Toast* di Bootstrap per i messaggi `flash`\n",
    "\n",
    "I *toast* di Bootstrap offrono un modo elegante e user-friendly per mostrare messaggi temporanei agli utenti.\n",
    "\n",
    "Modifichiamo il file `templates/includes/flash.html` in questo modo:\n",
    "\n",
    "```html\n",
    "{% with messages = get_flashed_messages(with_categories=true) %}\n",
    "    {% if messages %}\n",
    "    <div class=\"position-relative\" aria-live=\"polite\" aria-atomic=\"true\">\n",
    "        <!-- Container per il posizionamento del Toast Bootstrap -->\n",
    "        <div class=\"toast-container position-fixed top-1 end-0 p-4\">\n",
    "            {% for category, message in messages %}\n",
    "            <div class=\"toast align-items-center text-bg-{{ category }} border-0 fade hide\" role=\"alert\" aria-live=\"assertive\" aria-atomic=\"true\">\n",
    "                <div class=\"d-flex\">\n",
    "                    <div class=\"toast-body\">\n",
    "                        {{ message }}\n",
    "                    </div>\n",
    "                    <button type=\"button\" class=\"btn-close btn-close-white me-2 m-auto\" data-bs-dismiss=\"toast\" aria-label=\"Close\"></button>\n",
    "                </div>\n",
    "            </div>\n",
    "            {% endfor %}\n",
    "        </div>\n",
    "    </div>\n",
    "    {% endif %}\n",
    "{% endwith %}\n",
    "```\n",
    "\n",
    "Ora ci serve un po' di JavaScript."
   ]
  },
  {
   "cell_type": "markdown",
   "metadata": {},
   "source": [
    "### 26. Script JavaScript per i toast, dalla cartella `static/`\n",
    "\n",
    "Per far funzionare correttamente i toast, dobbiamo aggiungere del codice JavaScript.\n",
    "\n",
    "Creiamo uno script `script.js` nella cartella `static/`:\n",
    "\n",
    "```javascript\n",
    "// Per precauzione, attivo il toast solo dopo che la pagina è stata caricata completamente\n",
    "document.addEventListener('DOMContentLoaded', () => {\n",
    "    const toastElList = document.querySelectorAll('.toast')\n",
    "    const toastList = [...toastElList].map(toastEl => new bootstrap.Toast(toastEl, {\n",
    "        autohide: true,  // Si nasconde automaticamente dopo 'delay' tempo\n",
    "        delay: 5000      // in millisecondi ( == 5 secondi )\n",
    "    }).show());\n",
    "});\n",
    "```\n",
    "\n",
    "> **NOTA**: Questo codice codice l'ho preso [dal sito ufficiale di Bootstrap](https://getbootstrap.com/docs/5.3/components/toasts/#usage).\n",
    "\n",
    "Ora nel template parziale `includes/footer.html` bisogna aggiungere l'importazione dello script:\n",
    "\n",
    "```html\n",
    "<script src=\"{{ url_for('static', filename='script.js') }}\"></script>\n",
    "```"
   ]
  },
  {
   "cell_type": "markdown",
   "metadata": {},
   "source": [
    "## Code refactoring"
   ]
  },
  {
   "cell_type": "markdown",
   "metadata": {},
   "source": [
    "### 27. Ri-organizzazione del codice secondo paradigma MVC\n",
    "\n",
    "La modularità del codice è importante per mantenere il progetto organizzato e facile da mantenere. \n",
    "\n",
    "Iniziamo ad apportare un'importante separazione, utile nel paradigma [MVC (Model-View-Controller)](https://it.wikipedia.org/wiki/Model-view-controller): quella tra il CONTROLLER (la logica che controlla le route, i comportamenti del sito) e il MODEL (i dati). La VIEW (i file HTML), è già separata.\n",
    "\n",
    "Creiamo dunque un file separato per la gestione del nostro \"finto database\", ad esempio `db.py`, e ci mettiamo le strutture dati che abbiamo creato per contenere gli utenti e i film. Nel prossimo step leggeremo questi dati direttamente da un database.\n",
    "\n",
    "File `db.py`:\n",
    "\n",
    "```python\n",
    "USERS = {\n",
    "    'mrossi': 'osoejfj3',\n",
    "    'ggangi': 'odoeooeee'\n",
    "}\n",
    "\n",
    "FILMS = [\n",
    "    {'title': 'Akira', 'image': 'akira.jpg'},\n",
    "    {'title': 'Ghost in the Shell', 'image': 'gits.jpg'},\n",
    "    {'title': 'Blade Runner', 'image': 'blade-runner.jpg'},\n",
    "    {'title': 'Hackers', 'image': 'hackers.jpg'},\n",
    "    {'title': 'Nirvana', 'image': 'nirvana.jpg'},\n",
    "]\n",
    "```\n",
    "\n",
    "Ora dobbiamo aggiornare `app.py` per utilizzare il nuovo modulo `db`:\n",
    "\n",
    "```python\n",
    "from flask import Flask, ...\n",
    "from db import USERS, FILMS  # Importiamo i \"modelli\" con i dati\n",
    "...\n",
    "\n",
    "# Ora possiamo usare USERS\n",
    "if rx_username in USERS and rx_password == USERS[rx_username]:\n",
    "    ...\n",
    "\n",
    "...\n",
    "# E possiamo usare anche FILMS\n",
    "return render_template('films.html', films=FILMS)\n",
    "...\n",
    "```"
   ]
  }
 ],
 "metadata": {
  "kernelspec": {
   "display_name": ".venv",
   "language": "python",
   "name": "python3"
  },
  "language_info": {
   "name": "python",
   "version": "3.10.1"
  }
 },
 "nbformat": 4,
 "nbformat_minor": 2
}
