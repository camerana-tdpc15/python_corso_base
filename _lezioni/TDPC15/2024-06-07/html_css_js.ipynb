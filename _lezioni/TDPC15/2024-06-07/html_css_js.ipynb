{
 "cells": [
  {
   "cell_type": "markdown",
   "id": "11d7210a",
   "metadata": {
    "is_toc": true
   },
   "source": [
    "**Sommario**\n",
    "\n",
    "  - [Utilizzo degli strumenti per sviluppatori del browser](#utilizzo-degli-strumenti-per-sviluppatori-del-browser)\n",
    "  - [Scrivere caratteri speciali usando le codifiche web standard](#scrivere-caratteri-speciali-usando-le-codifiche-web-standard)\n",
    "  - [Bookmarklet](#bookmarklet)\n",
    "  - [Tag `<link>` in HTML](#tag-link-in-html)\n",
    "  - [CDN](#cdn)\n",
    "  - [Tag `<meta>`](#tag-meta)\n",
    "  - [Invio di FormData senza JavaScript](#invio-di-formdata-senza-javascript)\n",
    "  - [JavaScript - Fetch POST con `FormData` o JSON](#javascript---fetch-post-con-formdata-o-json)\n",
    "    - [Uso di `FormData`](#uso-di-formdata)\n",
    "    - [Uso di JSON](#uso-di-json)"
   ]
  },
  {
   "cell_type": "markdown",
   "metadata": {},
   "source": [
    "## Utilizzo degli strumenti per sviluppatori del browser\n",
    "\n",
    " Gli strumenti per sviluppatori che ci serviranno maggiormente sono (con riferimento al browser Google Chrome):\n",
    "\n",
    " - **Elements** (analizziamo la struttura della pagina)\n",
    "\n",
    " - **Console** (controlliamo se ci sono errori Javascritp)\n",
    "\n",
    " - **Sources** (vediamo tutte le risorse caricate dalla pagina)\n",
    "\n",
    " - **Network** (vediamo tutte le richieste avvenute per scaricare le risorse richieste dalla pagina). In particolare questa sezione è molto utile per leggere gli *header* della richiesta e della risposta e inoltre il contenuto effettivo della risposta."
   ]
  },
  {
   "cell_type": "markdown",
   "metadata": {},
   "source": [
    "## Scrivere caratteri speciali usando le codifiche web standard\n",
    "\n",
    "Il sito [amp-what.com](https://www.amp-what.com/) è molto utile per ottenere la codifica di tutti i caratteri di cui potremmo avere necessità."
   ]
  },
  {
   "cell_type": "markdown",
   "metadata": {},
   "source": [
    "Il carattere `<` può essere codificato in vari modi:\n",
    "\n",
    "- `%3C` usando la codifica per gli URL (%N)\n",
    "\n",
    "- `&#60;` usando la codifica delle entità HTML in decimale (base 10)\n",
    "\n",
    "- `&#x3c;` usando la codifica delle entità HTML in esadecimale (base 16)\n",
    "\n",
    "- `&lt;` usando la codifica delle entità HTML \"nominate\" (*named*)"
   ]
  },
  {
   "cell_type": "markdown",
   "metadata": {},
   "source": [
    "La codifica che usa i nomi anziché i codici numerici è più facile da ricordare.\n",
    "\n",
    "Ecco alcuni dei più comuni simboli che possiamo incontrare e di cui possiamo avere bisogno:\n",
    "\n",
    "- `&lt;` rappresenta il simbolo `<` (lower-than)\n",
    "\n",
    "- `&gt;` rappresenta il simbolo `>` (greater-than)\n",
    "\n",
    "- `&amp;` rappresenta il simbolo `&` (ampersand)\n",
    "\n",
    "- `&quot;` rappresenta il simbolo di virgolette `\"` (quote)\n",
    "\n",
    "- `&apos;` rappresenta il simbolo di apice singolo `'` (apostrophe)\n",
    "\n",
    "- `&nbsp;` rappresenta uno spazio speciale \"indivisibile\" (non-breaking space)"
   ]
  },
  {
   "cell_type": "markdown",
   "metadata": {},
   "source": [
    "## Bookmarklet\n",
    "\n",
    "(note di cultura generale)\n",
    "\n",
    "Un *bookmarklet* è un piccolo programma JavaScript che può essere memorizzato come un normale URL all'interno dei segnalibri (bookmark in inglese).\n",
    "\n",
    "Per esempio, create un nuovo segnalibro nel vostro browser e incollate il seguente codice Jacascript al posto dell'URL:\n",
    "\n",
    "```javascript\n",
    "javascript:(function(){\n",
    "  q=document.getSelection();\n",
    "  if(!q) q=prompt('Wikipedia:');\n",
    "  if(q) location.href='http://it.wikipedia.org/w/wiki.phtml?search=' + escape(q);\n",
    "})()\n",
    "```\n",
    "\n",
    "Ora, dopo aver selezionato una parola in una qualunque pagina web, potrete successivamente cliccare sul questo bookmark per avviare automaticamente una ricerca su Wikipedia per la parola selezionata."
   ]
  },
  {
   "cell_type": "markdown",
   "metadata": {},
   "source": [
    "## Tag `<link>` in HTML\n",
    "\n",
    "Il tag `<link>` in HTML viene utilizzato per collegare risorse esterne alle pagine web, come per esempio i fogli di stile CSS. I suoi attributi più comuni sono:\n",
    "\n",
    "- **`href`**: Definisce l'URL della risorsa esterna. È l'attributo obbligatorio che indica dove si trova il file da collegare. Può essere un percorso relativo, se la risorsa si trova sullo stesso dominio della pagina (es.  `href=\"styles.css\"`), o un URL assoluto, se la risorsa è ospitata su un dominio differente (es. `href=\"https://cdn.example.com/styles.css\"`).\n",
    "\n",
    "- **`rel`**: Specifica il tipo di relazione tra il documento corrente e la risorsa collegata. Ad esempio, `rel=\"stylesheet\"` indica che il file collegato è un foglio di stile CSS. L'elenco completo dei possibili valori e i loro significati [li puoi trovare qua](https://developer.mozilla.org/en-US/docs/Web/HTML/Attributes/rel).\n",
    "\n",
    "- **`integrity`**: Fornisce un [hash crittografico](https://it.wikipedia.org/wiki/Funzione_crittografica_di_hash) che consente al browser di verificare che il file caricato non sia stato modificato. Questo migliora la sicurezza delle risorse esterne.\n",
    "\n",
    "- **`crossorigin`**: Indica se la richiesta di una risorsa esterna deve essere fatta con o senza credenziali (come cookie). I valori comuni sono `anonymous` (senza credenziali) e `use-credentials` (con credenziali). Se l'attributo `crossorigin` è omesso, il comportamento predefinito è equivalente a `crossorigin=\"anonymous\"`. Eplicitare il valore di default può essere utile per migliorare la leggibilità e la chiarezza del codice, e può essere un promemoria a rivalutare questo aspetto durante eventuali modifiche future.\n",
    "\n",
    "Esempio di utilizzo del tag `<link>`:\n",
    "```html\n",
    "<link \n",
    "    href=\"https://cdn.jsdelivr.net/npm/bootstrap@5.3.3/dist/css/bootstrap.min.css\" \n",
    "    rel=\"stylesheet\" \n",
    "    integrity=\"sha384-QWTKZyjpPEjISv5WaRU9OFeRpok6YctnYmDr5pNlyT2bRjXh0JMhjY6hW+ALEwIH\" \n",
    "    crossorigin=\"anonymous\"\n",
    ">\n",
    "\n",
    "```\n",
    "\n"
   ]
  },
  {
   "cell_type": "markdown",
   "metadata": {},
   "source": [
    "## CDN\n",
    "\n",
    "Una CDN (Content Delivery Network) è una rete di server distribuiti geograficamente che migliorano la velocità, affidabilità, scalabilità e sicurezza del caricamento di contenuti web, servendo le risorse dall'ubicazione più vicina all'utente. Utilizzando una CDN, come mostrato nell'esempio del tag `<link>`, si può ridurre la latenza e garantire che il sito web rimanga veloce e accessibile anche durante picchi di traffico o malfunzionamenti dei server.\n",
    "\n",
    "Tuttavia utilizzare risorse servite da una CDN può presentare alcune controindicazioni rispetto a utilizzare risorse locali:\n",
    "\n",
    "1. **Dipendenza esterna**: Affidarsi a una CDN significa dipendere da un servizio esterno. Se la CDN ha problemi o subisce un'interruzione, le risorse potrebbero diventare temporaneamente inaccessibili, causando problemi di funzionamento per il sito web.\n",
    "\n",
    "2. **Sicurezza**: Le risorse caricate da una CDN potrebbero essere vulnerabili ad attacchi se non vengono implementate misure di sicurezza come il controllo di integrità (`integrity`) e il `crossorigin` policy. Ad esempio, un [attacco man-in-the-middle](https://it.wikipedia.org/wiki/Attacco_man_in_the_middle) potrebbe alterare le risorse servite dalla CDN.\n",
    "\n",
    "3. **Privacy**: Utilizzare una CDN può comportare la condivisione di alcuni dati degli utenti con terze parti, poiché le richieste per le risorse vengono registrate dai server della CDN. Questo potrebbe essere una preoccupazione in termini di privacy degli utenti.\n",
    "\n",
    "4. **Prestazioni variabili**: Sebbene le CDN siano progettate per migliorare le prestazioni, la velocità di accesso alle risorse può variare in base alla posizione geografica dell'utente e alla qualità del servizio della CDN in quella regione.\n",
    "\n",
    "5. **Versioni delle risorse**: Quando si utilizza una CDN per caricare librerie o framework, c'è il rischio che queste vengano dismesse o aggiornate a nuove versioni non compatibili senza preavviso. Questo potrebbe rompere la funzionalità del sito se non viene gestito correttamente.\n",
    "\n",
    "In sintesi, sebbene le CDN offrano numerosi vantaggi in termini di velocità e distribuzione delle risorse, è importante essere consapevoli dei potenziali rischi e adottare misure per mitigarli, come l'uso di attributi di sicurezza (es. `integrity`) e il monitoraggio delle prestazioni."
   ]
  },
  {
   "cell_type": "markdown",
   "metadata": {},
   "source": [
    "## Tag `<meta>`\n",
    "\n",
    "I tag HTML `<meta>` servono a fornire metadati che aiutano i browser e i motori di ricerca a comprendere e gestire il contenuto di una pagina web.\n",
    "\n",
    "Analizziamo i due tag specifici che abbiamo visto a lezione:\n",
    "\n",
    "```html\n",
    "<meta charset=\"UTF-8\">\n",
    "```\n",
    "Specifica la codifica dei caratteri usata nella pagina web. Assicura che i caratteri speciali e le lingue diverse siano visualizzati correttamente sul browser, prevenendo problemi di rendering come caratteri strani o simboli illeggibili. `UTF-8` è la codifica di caratteri ad oggi più utilizzata sul web perché compatibile con molte lingue e simboli diversi.\n",
    "\n",
    "```html\n",
    "<meta name=\"viewport\" content=\"width=device-width, initial-scale=1.0\">\n",
    "```\n",
    "Controlla il layout della pagina su dispositivi mobili. Migliora la visualizzazione e l'usabilità della pagina su dispositivi mobili e tablet, rendendo il sito responsive e adattabile a diverse dimensioni di schermo.\n",
    "\n",
    "> ATTENZIONE: È interpretato solo dai browser di dispositivi mobili!\n",
    "\n",
    "- `width=device-width`: Imposta la larghezza del viewport per corrispondere alla larghezza dello schermo del dispositivo.\n",
    "- `initial-scale=1.0`: Imposta il livello di zoom iniziale della pagina quando viene caricata per la prima volta. Un valore di `1.0` significa che lo zoom è impostato al 100%, ovvero che la pagina non è ingrandita o rimpicciolita."
   ]
  },
  {
   "cell_type": "markdown",
   "metadata": {},
   "source": [
    "## Invio di FormData senza JavaScript\n",
    "\n",
    "Usando un `<form>` con un pulsante \"submit\", possiamo inviare i dati presenti nel form direttamente, in formato FormData.\n",
    "\n",
    "> ATTENZIONE: specificare l'attributo del form `method=\"post\"` per inviare i dati tramite il metodo POST.\n",
    "\n",
    "```html\n",
    "<form method=\"post\">\n",
    "    <!-- Qua i campi di input da inviare -->\n",
    "    <input type=\"text\" name=\"etichetta1\">\n",
    "    <input type=\"text\" name=\"etichetta2\">\n",
    "\n",
    "    <button type=\"submit\">Invia</button>\n",
    "</form>\n",
    "```"
   ]
  },
  {
   "cell_type": "markdown",
   "metadata": {},
   "source": [
    "> NOTA: In questo modo non abbiamo bisogno di JavaScript per inviare il form!!"
   ]
  },
  {
   "cell_type": "markdown",
   "metadata": {},
   "source": [
    "## JavaScript - Fetch POST con `FormData` o JSON\n",
    "\n",
    "Se usiamo la funzione JavaScript `fetch()` con il metodo POST, possiamo procedere in due modi.\n",
    "\n",
    "Se i dati che vogliamo inviare al server arrivano da un `<form>` della pagina, possiamo usare il comodo formato `FormData`.\n",
    "\n",
    "Se vogliamo inviare invece dei dati contenuti in un oggetto JavaScript, possiamo invece convertirli (serrizlizzarli) in formato JSON."
   ]
  },
  {
   "cell_type": "markdown",
   "metadata": {},
   "source": [
    "### Uso di `FormData`\n",
    "\n",
    "HTML:\n",
    "\n",
    "```html\n",
    "<form id=\"myForm\">\n",
    "    <label for=\"username_input\">Nome:</label>\n",
    "    <input type=\"text\" id=\"username_input\" name=\"username\" required>\n",
    "    <br>\n",
    "    <label for=\"email_input\">Email:</label>\n",
    "    <input type=\"email\" id=\"email_input\" name=\"email\" required>\n",
    "    <br>\n",
    "    <button type=\"button\" onclick=\"submitForm()\">Invia</button>\n",
    "</form>\n",
    "```\n",
    "\n",
    "JAVASCRIPT:\n",
    "\n",
    "```javascript\n",
    "function submitForm() {\n",
    "    // Ottengo l'elemento <form> i cui dati voglio inviare\n",
    "    const formElement = document.getElementById('myForm');\n",
    "    // Creo un oggetto FormData passando l'elemento <form> alla classe FormData\n",
    "    const data = new FormData(formElement);\n",
    "\n",
    "    // Se voglio, posso anche aggiungere altri dati all'oggetto FormData\n",
    "    data.append('chiave_custom', 'valore_custom');\n",
    "\n",
    "    // https://api.example.com\n",
    "    fetch('/submit', {\n",
    "        method: 'POST',\n",
    "        body: data\n",
    "    })\n",
    "    .then(response => response.json())\n",
    "    .then(response_data => {\n",
    "        console.log('Risposta dal server:', response_data);\n",
    "    })\n",
    "    .catch(error => {\n",
    "        console.error('Errore durante l\\'invio dei dati:', error);\n",
    "    });\n",
    "}\n",
    "```"
   ]
  },
  {
   "cell_type": "markdown",
   "metadata": {},
   "source": [
    "### Uso di JSON\n",
    "\n",
    "JAVASCRIPT:\n",
    "\n",
    "```javascript\n",
    "// Creazione dell'oggetto contenente i dati da inviare\n",
    "const data = {\n",
    "    username: 'john_doe',\n",
    "    email: 'john@example.com'\n",
    "};\n",
    "\n",
    "let json_data = JSON.stringify(data)\n",
    "\n",
    "fetch('https://api.example.com/submit', {\n",
    "    method: 'POST',\n",
    "    headers: { \n",
    "        // Indico il MIME Type\n",
    "        'Content-Type': 'application/json'\n",
    "    },\n",
    "    // Conversione dell'oggetto in JSON\n",
    "    body: json_data\n",
    "})\n",
    ".then(response => response.json())\n",
    ".then(response_data => console.log(daresponse_datata));\n",
    "```"
   ]
  }
 ],
 "metadata": {
  "language_info": {
   "name": "python"
  }
 },
 "nbformat": 4,
 "nbformat_minor": 2
}
