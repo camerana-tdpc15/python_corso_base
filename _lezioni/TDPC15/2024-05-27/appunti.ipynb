{
 "cells": [
  {
   "cell_type": "markdown",
   "metadata": {},
   "source": [
    "# Ciclo `for` sui dizionari\n",
    "\n",
    "Il ciclo `for` è uno strumento versatile in Python, specialmente quando lavori con dizionari. Ecco come utilizzarlo per iterare attraverso le chiavi, i valori o entrambi in un dizionario.\n",
    "\n",
    "## Iterare sulle chiavi\n",
    "\n",
    "Per default, iterare su un dizionario cicla attraverso le sue chiavi."
   ]
  },
  {
   "cell_type": "code",
   "execution_count": null,
   "metadata": {},
   "outputs": [
    {
     "name": "stdout",
     "output_type": "stream",
     "text": [
      "nome\n",
      "età\n",
      "città\n"
     ]
    }
   ],
   "source": [
    "dizionario = {\n",
    "    'nome': 'Mario',\n",
    "    'età': 30,\n",
    "    'città': 'Roma'\n",
    "}\n",
    "\n",
    "for chiave in dizionario:\n",
    "    print(chiave)"
   ]
  },
  {
   "cell_type": "markdown",
   "metadata": {},
   "source": [
    "## Iterare sui valori\n",
    "\n",
    "Per iterare sui valori, usa il metodo `.values()`."
   ]
  },
  {
   "cell_type": "code",
   "execution_count": null,
   "metadata": {},
   "outputs": [
    {
     "name": "stdout",
     "output_type": "stream",
     "text": [
      "Mario\n",
      "30\n",
      "Roma\n"
     ]
    }
   ],
   "source": [
    "dizionario = {\n",
    "    'nome': 'Mario',\n",
    "    'età': 30,\n",
    "    'città': 'Roma'\n",
    "}\n",
    "\n",
    "for valore in dizionario.values():\n",
    "    print(valore)"
   ]
  },
  {
   "cell_type": "markdown",
   "metadata": {},
   "source": [
    "## Iterare su chiavi e valori\n",
    "\n",
    "Avendo la chiave, a ogni ciclo possiamo accedere al valore corrispondente:"
   ]
  },
  {
   "cell_type": "code",
   "execution_count": 2,
   "metadata": {},
   "outputs": [
    {
     "name": "stdout",
     "output_type": "stream",
     "text": [
      "nome Mario\n",
      "età 30\n",
      "città Roma\n"
     ]
    }
   ],
   "source": [
    "dizionario = {\n",
    "    'nome': 'Mario',\n",
    "    'età': 30,\n",
    "    'città': 'Roma'\n",
    "}\n",
    "for chiave in dizionario:\n",
    "    valore = dizionario[chiave]\n",
    "    print(chiave, valore)"
   ]
  },
  {
   "cell_type": "markdown",
   "metadata": {},
   "source": [
    "Tuttavia, se vuoi ottenere in un colpo solo sia la chiave che il valore durante l'iterazione, puoi usare il metodo `.items()`."
   ]
  },
  {
   "cell_type": "code",
   "execution_count": null,
   "metadata": {},
   "outputs": [
    {
     "name": "stdout",
     "output_type": "stream",
     "text": [
      "nome Mario\n",
      "età 30\n",
      "città Roma\n"
     ]
    }
   ],
   "source": [
    "dizionario = {\n",
    "    'nome': 'Mario',\n",
    "    'età': 30,\n",
    "    'città': 'Roma'\n",
    "}\n",
    "for chiave, valore in dizionario.items():\n",
    "    print(chiave, valore)"
   ]
  },
  {
   "cell_type": "markdown",
   "metadata": {},
   "source": [
    "# Ciclo `for` sui una lista di tuple"
   ]
  },
  {
   "cell_type": "markdown",
   "metadata": {},
   "source": [
    "Purtroppo i dizionari non sono ordinati!\n",
    "\n",
    "> NOTA: Se dobbiamo mostrare delle informazioni all'utente, molto spesso è utile avere il controllo sull'ordine in cui vengono mostrate.\n",
    "\n",
    "Le liste invece sono delle sequenze, dunque sono ordinate.\n",
    "\n",
    "Se quindi dobbiamo ciclare un dizionario mantenendo il controllo sull'ordine in cui viene ciclato, una lista di tuple è un ottimo sostituto di un dizionario.\n",
    "\n",
    "Per esempio, se avessimo bisogno di ciclare delle coppie (o triplette ecc.) con un ciclo `for` mantenendo l'ordine, potremmo fare così:"
   ]
  },
  {
   "cell_type": "code",
   "execution_count": 3,
   "metadata": {},
   "outputs": [
    {
     "name": "stdout",
     "output_type": "stream",
     "text": [
      "nome Mario\n",
      "età 30\n",
      "città Roma\n"
     ]
    }
   ],
   "source": [
    "lista_tuple = [\n",
    "    ('nome', 'Mario'),\n",
    "    ('età', 30),\n",
    "    ('città', 'Roma')\n",
    "]\n",
    "for elem0, elem1 in lista_tuple:\n",
    "    print(elem0, elem1)"
   ]
  },
  {
   "cell_type": "markdown",
   "metadata": {},
   "source": [
    "Notiamo come la decomposizione della tupla nel ciclo `for` è identica a quella usata con il metodo `dict.items()`."
   ]
  },
  {
   "cell_type": "markdown",
   "metadata": {},
   "source": [
    "# Dict comprehension\n",
    "\n",
    "Il *dict comprehension* in Python è un modo conciso e elegante per creare dizionari. Simile alla list comprehension, ma invece di liste, genera dizionari. Ecco come puoi usarlo:\n",
    "\n",
    "**Sintassi di base**:\n",
    "```python\n",
    "{chiave: valore for elemento in iterabile}\n",
    "```\n",
    "\n",
    "**Esempio pratico**:\n",
    "\n",
    "Supponiamo di voler creare un dizionario dove le chiavi sono numeri interi e i valori sono i quadrati di questi numeri.\n",
    "\n",
    "Potremmo fare così:"
   ]
  },
  {
   "cell_type": "code",
   "execution_count": null,
   "metadata": {},
   "outputs": [
    {
     "name": "stdout",
     "output_type": "stream",
     "text": [
      "{0: 0, 1: 1, 2: 4, 3: 9, 4: 16, 5: 25}\n"
     ]
    }
   ],
   "source": [
    "quadrati = {}\n",
    "for n in range(6):\n",
    "    quadrati[n] = n**2\n",
    "\n",
    "print(quadrati)"
   ]
  },
  {
   "cell_type": "markdown",
   "metadata": {},
   "source": [
    "Ma possiamo usando il dict comprehension, possimo ottenere lo stesso effetto in modo più conciso."
   ]
  },
  {
   "cell_type": "code",
   "execution_count": null,
   "metadata": {},
   "outputs": [
    {
     "name": "stdout",
     "output_type": "stream",
     "text": [
      "{0: 0, 1: 1, 2: 4, 3: 9, 4: 16, 5: 25}\n"
     ]
    }
   ],
   "source": [
    "quadrati = {n: n**2 for n in range(6)}\n",
    "\n",
    "print(quadrati)"
   ]
  },
  {
   "cell_type": "markdown",
   "metadata": {},
   "source": [
    "# Modulo `datetime` e classe `date`\n",
    "\n",
    "Il modulo `datetime` in Python fornisce classi per manipolare date e ore. In particolare, l'oggetto `date` rappresenta una data (anno, mese, giorno) senza informazioni sull'orario.\n",
    "\n",
    "## Informazioni utili per l'esercitazione, esercizio 3:\n",
    "\n",
    "- `date` è una classe che rappresenta una data e fornisce metodi per creare oggetti di tipo `date` e manipolare date.\n",
    "\n",
    "- `date` deve essere importato:\n",
    "\n",
    "```python\n",
    "from datetime import date\n",
    "```\n",
    "\n",
    "- `date.today()` restitisce la data di oggi.\n",
    "\n",
    "- `timedelta` è una classe che rappresenta una durata, la differenza tra due date o orari. Nel codice abbiamo usato `days=...`, argomento il quale consente di creare un intervallo della durata uguale al numero di giorni (*days*) specificati.\n",
    "\n",
    "- `date.strftime()`: metodo degli oggetti `date` che formatta la data in una stringa secondo un formato specificato. Nel codice, `.strftime(\"%A %d/%m/%Y\")` viene usato per ottenere la rappresentazione della data nel formato \"Nome-Giorno GG/MM/AAA\".\n",
    "\n",
    "## Localizzazione per la lingua italiana\n",
    "\n",
    "Per ottenere i nomi dei giorni in italiano (come eventualmente anche i nomi dei mesi), è necessario modificare le impostazioni del `locale` prima di effettuare la conversione in stringa:\n",
    "\n",
    "```python\n",
    "import locale\n",
    "\n",
    "locale.setlocale(locale.LC_TIME, 'it_IT')\n",
    "```"
   ]
  }
 ],
 "metadata": {
  "kernelspec": {
   "display_name": ".venv",
   "language": "python",
   "name": "python3"
  },
  "language_info": {
   "codemirror_mode": {
    "name": "ipython",
    "version": 3
   },
   "file_extension": ".py",
   "mimetype": "text/x-python",
   "name": "python",
   "nbconvert_exporter": "python",
   "pygments_lexer": "ipython3",
   "version": "3.10.0"
  }
 },
 "nbformat": 4,
 "nbformat_minor": 2
}
