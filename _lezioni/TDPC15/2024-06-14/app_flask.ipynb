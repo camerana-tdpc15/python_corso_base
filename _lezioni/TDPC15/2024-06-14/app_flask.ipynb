{
 "cells": [
  {
   "cell_type": "markdown",
   "metadata": {},
   "source": [
    "## Esercitazione INF_PR_PY_WB_E07 - Autenticazione con base dati\n",
    "\n",
    "[Scarica il testo dell'esercitazione da Moodle](https://elearning.scuolacamerana.it/moodle/mod/assign/view.php?id=11295).\n",
    "\n",
    "Per procedere in modo più spedito, inizio a fornirvi già anche una versione dell'applicazione che fa uso del database, in modo che abbiate una base di partenza durante le ore di SQL:\n",
    "\n",
    "- `flask_login_4_db-vanilla/` è l'applicazione con l'uso del database, usando SQL direttamente con il motore [SQLite](https://sqlite.org/).\n"
   ]
  },
  {
   "cell_type": "markdown",
   "metadata": {},
   "source": [
    "# ---------------------------------"
   ]
  },
  {
   "cell_type": "markdown",
   "metadata": {},
   "source": [
    "## Fare pratica con SQL\n",
    "\n",
    "Ecco alcuni *playground* con esercizi graduati per fare pratica:\n",
    "\n",
    "- https://sqlbolt.com/\n",
    "\n",
    "- https://programiz.pro/course/sql-basics (richiede registrazione gratutita)\n",
    "\n",
    "- https://www.w3schools.com/sql/exercise.asp\n",
    "\n",
    "- https://sqlzoo.net/wiki/SQL_Tutorial\n",
    "\n",
    "\n",
    "Solo *playground* con base dati demo:\n",
    "\n",
    "- https://www.w3schools.com/sql/trysql.asp?filename=trysql_asc\n",
    "\n",
    "- https://sqliteonline.com/\n"
   ]
  }
 ],
 "metadata": {
  "language_info": {
   "name": "python"
  }
 },
 "nbformat": 4,
 "nbformat_minor": 2
}
