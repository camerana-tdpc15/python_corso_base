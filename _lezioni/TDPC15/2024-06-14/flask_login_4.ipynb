{
 "cells": [
  {
   "cell_type": "markdown",
   "id": "10ae6be9",
   "metadata": {
    "is_toc": true
   },
   "source": [
    "**Sommario**\n",
    "\n",
    "- [`flask_login_4` - Database con SQLite](#flask_login_4---database-con-sqlite)\n",
    "  - [Struttura del progetto aggiornata](#struttura-del-progetto-aggiornata)\n",
    "  - [Configurazione del database in `settings.py`](#configurazione-del-database-in-settingspy)\n",
    "  - [Gestione del database in `db.py`](#gestione-del-database-in-dbpy)\n",
    "    - [1. **Importazioni**](#1-importazioni)\n",
    "    - [2. **Mock data per i Film**](#2-mock-data-per-i-film)\n",
    "    - [3. **Recupero della password dell'Utente**](#3-recupero-della-password-dellutente)\n",
    "      - [Descrizione generale della funzione `get_user_password()`](#descrizione-generale-della-funzione-get_user_password)\n",
    "      - [Blocco `try ... except`](#blocco-try--except)\n",
    "      - [Connessione al database](#connessione-al-database)\n",
    "      - [Creazione di un cursore](#creazione-di-un-cursore)\n",
    "      - [Preparazione della query SQL per la ricerca dell'Utente](#preparazione-della-query-sql-per-la-ricerca-dellutente)\n",
    "      - [Esecuzione della query](#esecuzione-della-query)\n",
    "      - [Recupero del risultato](#recupero-del-risultato)\n",
    "      - [Chiusura esplicita del cursore](#chiusura-esplicita-del-cursore)\n",
    "      - [Controllo del risultato e restituzione della password](#controllo-del-risultato-e-restituzione-della-password)\n",
    "    - [4. **Verifica dell'esistenza di una tabella**](#4-verifica-dellesistenza-di-una-tabella)\n",
    "      - [Descrizione generale della funzione `table_exists()`](#descrizione-generale-della-funzione-table_exists)\n",
    "      - [Parametri della funzione](#parametri-della-funzione)\n",
    "      - [Esecuzione della query SQL](#esecuzione-della-query-sql)\n",
    "      - [Recupero del risultato](#recupero-del-risultato)\n",
    "    - [5. **Creazione della tabella Utente**](#5-creazione-della-tabella-utente)\n",
    "    - [6. **Inizializzazione della tabella Utente**](#6-inizializzazione-della-tabella-utente)\n",
    "      - [Descrizione generale della funzione `_init_user_table()`](#descrizione-generale-della-funzione-_init_user_table)\n",
    "      - [Verifica dell'esistenza del file CSV](#verifica-dellesistenza-del-file-csv)\n",
    "      - [Blocco `try ... except`](#blocco-try--except)\n",
    "      - [Connessione al database](#connessione-al-database)\n",
    "      - [Creazione di un cursore](#creazione-di-un-cursore)\n",
    "      - [Verifica dell'esistenza della tabella Utente](#verifica-dellesistenza-della-tabella-utente)\n",
    "      - [Creazione della tabella Utente](#creazione-della-tabella-utente)\n",
    "      - [Apertura del file CSV](#apertura-del-file-csv)\n",
    "      - [Lettura del file CSV](#lettura-del-file-csv)\n",
    "      - [Preparazione della query SQL per l'inserimento dei dati](#preparazione-della-query-sql-per-linserimento-dei-dati)\n",
    "      - [Popolamento della tabella Utente](#popolamento-della-tabella-utente)\n",
    "  - [Usare il DB in `app.py`](#usare-il-db-in-apppy)\n",
    "    - [7. **Importazioni**](#7-importazioni)\n",
    "    - [8. **Inizializzazione del database**](#8-inizializzazione-del-database)\n",
    "    - [9. **Route per il login e controllo credenziali**](#9-route-per-il-login-e-controllo-credenziali)"
   ]
  },
  {
   "cell_type": "markdown",
   "metadata": {},
   "source": [
    "# `flask_login_4` - Database con SQLite"
   ]
  },
  {
   "cell_type": "markdown",
   "metadata": {},
   "source": [
    "Esercitazione INF_PR_PY_WB_E07.\n",
    "\n",
    "In questo esempio implementiamo la gestione degli Utenti con un database SQLite. In particolare vedremo come:\n",
    "\n",
    "- predisporre la nostra app Flask all'uso di un database SQLite;\n",
    "\n",
    "- impostare i parametri di configurazione del database nel file `settings.py`;\n",
    "\n",
    "- scrivere funzioni nel file `db.py` per gestire le connessioni al DB e l'inizializzazione delle tabelle;\n",
    "\n",
    "- utilizzare queste funzioni nel file `app.py` per gestire le rotte e l'autenticazione degli utenti.\n",
    "\n",
    "SQLite è il più semplice motore di database che abbiamo a disposizione e viene installato automaticamente quando installiamo Python. `sqlite3` è un modulo della Libreria standard.\n",
    "\n",
    "Per usare SQLite direttamente con il modulo `sqlite3` dobbiamo scrivere noi tutte le query SQL per gestire le nostre tabelle e i nostri dati."
   ]
  },
  {
   "cell_type": "markdown",
   "metadata": {},
   "source": [
    "## Struttura del progetto aggiornata\n",
    "\n",
    "In questa quinta fase modifichiamo ancora una volta la struttura del progetto in questo modo:\n",
    "\n",
    "```text\n",
    "flask_login_4/\n",
    "│\n",
    "├── app.py                     << ADATTATO AL DB\n",
    "├── db.py                      << NUOVA IMPLEMENTAZIONE\n",
    "├── settings.py                << NUOVO\n",
    "├── database/                  << NUOVO\n",
    "│   ├── db.sqlite3             << NUOVO\n",
    "│   └── users.csv              << NUOVO\n",
    "├── static/\n",
    "│   ├── script.js\n",
    "│   ├── style.css\n",
    "│   └── imgs/\n",
    "│       ├── akira.jpg\n",
    "│       ├── blade-runner.jpg\n",
    "│       ├── gits.jpg\n",
    "│       ├── hackers.jpg\n",
    "│       ├── nirvana.jpg\n",
    "│       └── shortcut-icon.png  \n",
    "└── templates/\n",
    "    ├── base.html\n",
    "    ├── films.html\n",
    "    ├── home.html\n",
    "    ├── login.html\n",
    "    └── includes/\n",
    "        ├── flash.html\n",
    "        ├── footer.html\n",
    "        ├── head.html\n",
    "        └── navbar.html\n",
    "```\n"
   ]
  },
  {
   "cell_type": "markdown",
   "metadata": {},
   "source": [
    "## Configurazione del database in `settings.py`\n",
    "\n",
    "Il file `settings.py` contiene configurazioni cruciali come il percorso al database e al file CSV per l'inizializzazione della tabella Utenti.\n",
    "\n",
    "Il file `settings.py` appare così:\n",
    "\n",
    "```python\n",
    "import os\n",
    "\n",
    "# Ottiene il percorso assoluto alla cartella che contiene questo file\n",
    "BASE_DIR = os.path.abspath(os.path.dirname(__file__))\n",
    "\n",
    "# Percorso assoluto al file del database SQLite\n",
    "DATABASE = os.path.join(BASE_DIR, 'database', 'db.sqlite3')\n",
    "\n",
    "# Percorso assoluto al file CSV per la tabelle utenti\n",
    "USER_TABLE_CSV = os.path.join(BASE_DIR, 'database', 'users.csv')\n",
    "\n",
    "# Nome della tabella\n",
    "USER_TABLE_NAME = 'user'\n",
    "```\n",
    "\n",
    "In questo script:\n",
    "\n",
    "- `os.path` è un modulo per la manipolazione dei percorsi di file e cartelle.\n",
    "\n",
    "- `os.path.dirname(__file__)` restituisce il percorso assoluto alla cartella contenente il file `settings.py`.\n",
    "\n",
    "- `os.path.abspath()` assicura di ottenere un percorso assoluto.\n",
    "\n",
    "- `os.path.join()` crea un percorso combinando più percorsi parziali; in questo caso crea i percorsi per il file CSV con i dati (`users.csv`) da importare e per il file del database vero e proprio (`db.sqlite3`)."
   ]
  },
  {
   "cell_type": "markdown",
   "metadata": {},
   "source": [
    "## Gestione del database in `db.py`\n",
    "\n",
    "Il file `db.py` contiene le funzioni per gestire il database SQLite. Include funzioni per la creazione di tabelle, l'inizializzazione del database e il recupero delle password degli utenti.\n",
    "\n",
    "Vediamo il file `db.py`."
   ]
  },
  {
   "cell_type": "markdown",
   "metadata": {},
   "source": [
    "### 1. **Importazioni**\n",
    "\n",
    "Importiamo i moduli necessari e configuriamo il database:\n",
    "\n",
    "```python\n",
    "import sys\n",
    "import os\n",
    "import csv\n",
    "import sqlite3\n",
    "from settings import DATABASE, USER_TABLE_NAME, USER_TABLE_CSV\n",
    "...\n",
    "```"
   ]
  },
  {
   "cell_type": "markdown",
   "metadata": {},
   "source": [
    "### 2. **Mock data per i Film**\n",
    "\n",
    "Per ora, utilizziamo ancora una lista di dizionari per simulare il database di film:\n",
    "\n",
    "```python\n",
    "FILMS = [\n",
    "    {'title': 'Akira', 'image': 'akira.jpg'},\n",
    "    {'title': 'Ghost in the Shell', 'image': 'gits.jpg'},\n",
    "    {'title': 'Blade Runner', 'image': 'blade-runner.jpg'},\n",
    "    {'title': 'Hackers', 'image': 'hackers.jpg'},\n",
    "    {'title': 'Nirvana', 'image': 'nirvana.jpg'},\n",
    "]\n",
    "```"
   ]
  },
  {
   "cell_type": "markdown",
   "metadata": {},
   "source": [
    "### 3. **Recupero della password dell'Utente**\n",
    "\n",
    "Funzione per recuperare la password di un utente dal database:\n",
    "\n",
    "```python\n",
    "def get_user_password(username):\n",
    "    \"\"\"\n",
    "    Cerca un utente nel database sulla base del suo username e restituisce\n",
    "    la sua password se l'utente è presente, altrimenti `None`.\n",
    "    \n",
    "    :param username: Lo username dell'utente da cercare.\n",
    "    :return: La password dell'utente se trovato, altrimenti None.\n",
    "    \"\"\"\n",
    "    try:\n",
    "        with sqlite3.connect(DATABASE) as conn:\n",
    "            cursor = conn.cursor()\n",
    "            query = f\"SELECT PASSWORD FROM {USER_TABLE_NAME} WHERE LOGIN = ?\"\n",
    "            cursor.execute(query, (username,))\n",
    "            result = cursor.fetchone()\n",
    "            cursor.close()\n",
    "            if result:\n",
    "                return result[0]\n",
    "            else:\n",
    "                return None\n",
    "    except sqlite3.Error as err:\n",
    "        print(f\"Si è verificato un errore durante l'accesso al database: {err}\")\n",
    "        return None\n",
    "```\n"
   ]
  },
  {
   "cell_type": "markdown",
   "metadata": {},
   "source": [
    "#### Descrizione generale della funzione `get_user_password()`\n",
    "\n",
    "Come riporta la docstring all'inizio della funzione, la quale spiega cosa fa la funzione, quali sono i parametri di input e cosa restituisce, la funzione `get_user_password()` fa quanto segue:\n",
    "\n",
    "```python\n",
    "\"\"\"\n",
    "Cerca un utente nel database sulla base del suo username e restituisce\n",
    "la sua password se l'utente è presente, altrimenti `None`.\n",
    "\n",
    ":param username: Lo username dell'utente da cercare.\n",
    ":return: La password dell'utente se trovato, altrimenti None.\n",
    "\"\"\"\n",
    "```\n",
    "In altre parole:\n",
    "- Accetta un parametro, `username`, che è il nome dell'Utente.\n",
    "- Restituisce la password dell'Utente se questo esiste altrimenti `None`."
   ]
  },
  {
   "cell_type": "markdown",
   "metadata": {},
   "source": [
    "#### Blocco `try ... except`\n",
    "\n",
    "Il blocco `try ... except` è utilizzato per gestire eventuali errori che possono verificarsi durante l'accesso al database. \n",
    "\n",
    "```python\n",
    "try:\n",
    "    ...  # Esegue la query di ricerca\n",
    "except sqlite3.Error as err:\n",
    "    print(f\"Si è verificato un errore durante l'accesso al database: {err}\")\n",
    "    return None\n",
    "```\n",
    "\n",
    "Se si verifica un errore durante l'accesso al database, il blocco `except` cattura l'eccezione e stampa un messaggio di errore.\n",
    "\n",
    "La funzione restituisce `None` in caso di errore."
   ]
  },
  {
   "cell_type": "markdown",
   "metadata": {},
   "source": [
    "#### Connessione al database\n",
    "\n",
    "Si utilizza il metodo `sqlite3.connect()` per connettersi al database specificato nella variabile `DATABASE`. La connessione viene gestita utilizzando un contesto `with`, il che assicura che la connessione venga chiusa automaticamente quando il blocco `with` termina.\n",
    "\n",
    "```python\n",
    "with sqlite3.connect(DATABASE) as conn:\n",
    "    ...\n",
    "```"
   ]
  },
  {
   "cell_type": "markdown",
   "metadata": {},
   "source": [
    "#### Creazione di un cursore\n",
    "\n",
    "Viene creato un cursore per eseguire le operazioni SQL.\n",
    "\n",
    "> **NOTA**: Un _**cursore**_ è un oggetto che permette di interagire con il database ed eseguire query SQL.\n",
    "\n",
    "```python\n",
    "cursor = conn.cursor()\n",
    "```"
   ]
  },
  {
   "cell_type": "markdown",
   "metadata": {},
   "source": [
    "#### Preparazione della query SQL per la ricerca dell'Utente\n",
    "\n",
    "Viene preparata una query SQL per selezionare la password dell'utente basata sullo username fornito.\n",
    "\n",
    "> **NOTA**: La query utilizza un placeholder `?` per prevenire attacchi di SQL injection.\n",
    "\n",
    "```python\n",
    "query = f\"SELECT PASSWORD FROM {USER_TABLE_NAME} WHERE LOGIN = ?\"\n",
    "```"
   ]
  },
  {
   "cell_type": "markdown",
   "metadata": {},
   "source": [
    "#### Esecuzione della query\n",
    "\n",
    "La query viene eseguita utilizzando il metodo `query.execute` del cursore.\n",
    "\n",
    "> **NOTA**: Viene passata un tupla contenente lo username, il quale sarà usato come parametro per il placeholder `?`.\n",
    "\n",
    "```python\n",
    "cursor.execute(query, (username,))\n",
    "#                     ^^^tupla^^^\n",
    "```"
   ]
  },
  {
   "cell_type": "markdown",
   "metadata": {},
   "source": [
    "#### Recupero del risultato\n",
    "\n",
    "Viene utilizzato il metodo `cursor.fetchone()` per recuperare la prima riga del risultato della query. Se non ci sono risultati, `.fetchone()` restituisce `None`.\n",
    "\n",
    "```python\n",
    "result = cursor.fetchone()\n",
    "```"
   ]
  },
  {
   "cell_type": "markdown",
   "metadata": {},
   "source": [
    "#### Chiusura esplicita del cursore\n",
    "\n",
    "Il cursore viene chiuso esplicitamente per liberare le risorse. Anche se il cursore verrà chiuso automaticamente alla fine del blocco `with`, chiuderlo esplicitamente è una buona pratica.\n",
    "\n",
    "```python\n",
    "cursor.close()\n",
    "```"
   ]
  },
  {
   "cell_type": "markdown",
   "metadata": {},
   "source": [
    "#### Controllo del risultato e restituzione della password\n",
    "\n",
    "Se `result` contiene un valore (ovvero, l'utente è stato trovato), la funzione restituisce la password (il primo elemento di `result`). Altrimenti, restituisce `None`.\n",
    "\n",
    "```python\n",
    "if result:\n",
    "    return result[0]\n",
    "else:\n",
    "    return None\n",
    "```"
   ]
  },
  {
   "cell_type": "markdown",
   "metadata": {},
   "source": [
    "### 4. **Verifica dell'esistenza di una tabella**\n",
    "\n",
    "Dato che sapere se una tabella esiste all'interno del database è una cosa utile che potremmo dover fare più volte, è una buona idea creare una funziona apposita che si occupi di questo.\n",
    "\n",
    "Ecco come potrebbe essere una funzione che verifica se una tabella esiste nel database:\n",
    "\n",
    "```python\n",
    "def table_exists(cursor, table_name):\n",
    "    \"\"\"\n",
    "    Controlla se una tabella esiste nel database.\n",
    "    :param cursor: Il cursore per eseguire le query.\n",
    "    :param table_name: Il nome della tabella da cercare.\n",
    "    :return: True se la tabella esiste, False altrimenti.\n",
    "    \"\"\"\n",
    "    cursor.execute('''\n",
    "        SELECT name FROM sqlite_master\n",
    "        WHERE type='table' AND name=?;\n",
    "    ''', (table_name,))\n",
    "    return cursor.fetchone() is not None\n",
    "```"
   ]
  },
  {
   "cell_type": "markdown",
   "metadata": {},
   "source": [
    "#### Descrizione generale della funzione `table_exists()`\n",
    "\n",
    "Come leggiamo nella docstring, la funzione `table_exists()` verifica se una specifica tabella esiste nel database SQLite.\n",
    "\n",
    "In altre parole:\n",
    "- Accetta due parametri, `cursor` e `table_name`.\n",
    "- Restituisce `True` se la tabella esiste altrimenti `False`."
   ]
  },
  {
   "cell_type": "markdown",
   "metadata": {},
   "source": [
    "#### Parametri della funzione\n",
    "\n",
    "La funzione prende due parametri:\n",
    "- `cursor`: un cursore del database per eseguire le query.\n",
    "- `table_name`: il nome della tabella da verificare."
   ]
  },
  {
   "cell_type": "markdown",
   "metadata": {},
   "source": [
    "#### Esecuzione della query SQL\n",
    "\n",
    "Utilizziamo il metodo `.execute()` del cursore per eseguire una query SQL che verifica l'esistenza della tabella nel database SQLite. La query verifica la presenza di una tabella con il nome specificato nella tabella `sqlite_master`, che contiene le informazioni su tutte le tabelle del database.\n",
    "\n",
    "```python\n",
    "cursor.execute('''\n",
    "    SELECT name FROM sqlite_master\n",
    "    WHERE type='table' AND name=?;\n",
    "''', (table_name,))\n",
    "```\n",
    "\n",
    "- **`SELECT name FROM sqlite_master WHERE type='table' AND name=?`**: Questa query seleziona il `name` della tabella dalla tabella di sistema `sqlite_master` dove il tipo è `'table'` e il nome della tabella corrisponde al parametro passato.\n",
    "- **`(table_name,)`**: Una tupla contenente il nome della tabella viene passata come parametro in modo che questo valore venga inserito al posto del placeholder `?` (questo per prevenire attacchi di SQL injection.)."
   ]
  },
  {
   "cell_type": "markdown",
   "metadata": {},
   "source": [
    "#### Recupero del risultato\n",
    "\n",
    "Utilizziamo di nuovo il metodo `.fetchone()` del cursore per recuperare una riga dal risultato della query.\n",
    "\n",
    "```python\n",
    "return cursor.fetchone() is not None\n",
    "```\n",
    "\n",
    "L'espressione `cursor.fetchone() is not None` viene valutata `True` se `cursor.fetchone()` restituisce un record, altrimenti viene valutato `False`."
   ]
  },
  {
   "cell_type": "markdown",
   "metadata": {},
   "source": [
    "### 5. **Creazione della tabella Utente**\n",
    "\n",
    "Anche in questo caso, per maggiore modularità, scriviamo una funzione per creare la tabella Utente nel database:\n",
    "\n",
    "```python\n",
    "def _create_user_table(cursor):\n",
    "    \"\"\"\n",
    "    Crea la tabella utente nel database.\n",
    "    :param cursor: Il cursore per eseguire le query.\n",
    "    \"\"\"\n",
    "    cursor.execute(f'''\n",
    "        CREATE TABLE {USER_TABLE_NAME}\n",
    "        (ID INTEGER PRIMARY KEY AUTOINCREMENT,\n",
    "        LOGIN TEXT NOT NULL UNIQUE,\n",
    "        PASSWORD TEXT NOT NULL,\n",
    "        NOME TEXT,\n",
    "        COGNOME TEXT,\n",
    "        INDIRIZZO TEXT,\n",
    "        CITTA TEXT,\n",
    "        TEL1 TEXT,\n",
    "        TEL2 TEXT,\n",
    "        EMAIL TEXT,\n",
    "        DATANASCITA DATE,\n",
    "        DATAREG DATE);\n",
    "    ''')\n",
    "\n",
    "```\n",
    "\n",
    "La funzione accetta un solo parametro `cursor` e non restituisce nulla. Esegue semplicemente la query di creazione.\n",
    "\n",
    "In questo caso non usiamo il segnaposto `?` perché il nome della tabella da creare è una costante e arriva dalla configurazione interna della nostra app.\n",
    "\n",
    "I vari campi vengono creati seguendo le specifiche indicate sul testo dell'esercitazione INF_PR_PY_WB_E07."
   ]
  },
  {
   "cell_type": "markdown",
   "metadata": {},
   "source": [
    "### 6. **Inizializzazione della tabella Utente**\n",
    "\n",
    "Infine creiamo una funzione per inizializzare la tabella Utente nel database.\n",
    "\n",
    "L'inizializzazione consiste di due fasi:\n",
    "\n",
    "1. Creazione della tabella.\n",
    "\n",
    "2. Popolamento con i primi dati provenienti da un file CSV.\n",
    "\n",
    "Ecco come potrebbe essere una funzione di inizializzazione.\n",
    "\n",
    "```python\n",
    "def _init_user_table():\n",
    "    \"\"\"\n",
    "    Inizializza la tabella degli utenti nel database e la popola con i dati\n",
    "    contenuti nel file CSV `users.csv`.\n",
    "    \"\"\"\n",
    "    if os.path.exists(USER_TABLE_CSV):\n",
    "        try:\n",
    "            with sqlite3.connect(DATABASE) as conn:\n",
    "                cursor = conn.cursor()\n",
    "                if not table_exists(cursor, USER_TABLE_NAME):\n",
    "                    _create_user_table(cursor)\n",
    "                    with open(USER_TABLE_CSV, 'r') as file:\n",
    "                        csv_dict_reader = csv.DictReader(file)\n",
    "                        user_query = f'''\n",
    "                            INSERT INTO {USER_TABLE_NAME}\n",
    "                            (LOGIN, PASSWORD, NOME, COGNOME,\n",
    "                            INDIRIZZO, CITTA, TEL1, TEL2,\n",
    "                            EMAIL, DATANASCITA, DATAREG)\n",
    "                            VALUES (:LOGIN, :PASSWORD, :NOME, :COGNOME,\n",
    "                            :INDIRIZZO, :CITTA, :TEL1, :TEL2,\n",
    "                            :EMAIL, :DATANASCITA, :DATAREG);\n",
    "                        '''\n",
    "                        cursor.executemany(user_query, csv_dict_reader)\n",
    "                    print(\n",
    "                        'La tabella utente è stata inizializzata e popolata '\n",
    "                        'con successo.'\n",
    "                    )\n",
    "                else:\n",
    "                    print(\n",
    "                        'La tabella utente esiste già. Non è necessario '\n",
    "                        'inizializzarla.'\n",
    "                    )\n",
    "        except sqlite3.Error as err:\n",
    "            print(f'Si è verificato un errore del database: {err}')\n",
    "            sys.exit(1)\n",
    "        except Exception as err:\n",
    "            print(f'Si è verificato un errore generico: {err}')\n",
    "            sys.exit(1)\n",
    "    else:\n",
    "        print(\n",
    "            f'Il file \"{USER_TABLE_CSV}\" non esiste. '\n",
    "            'Verifica il percorso e riprova.'\n",
    "        )\n",
    "        sys.exit(1)\n",
    "```"
   ]
  },
  {
   "cell_type": "markdown",
   "metadata": {},
   "source": [
    "#### Descrizione generale della funzione `_init_user_table()`\n",
    "\n",
    "Come leggiamo nella docstring, la funzione `_init_user_table()` inizializza la tabella degli utenti nel database SQLite e la popola con i dati contenuti in un file CSV `users.csv`.\n",
    "\n",
    "Inoltre, in caso di errore, questo viene intercettato e nel terminale vengono mostrate informazioni aggiuntive; dopodiché il programma viene terminato."
   ]
  },
  {
   "cell_type": "markdown",
   "metadata": {},
   "source": [
    "#### Verifica dell'esistenza del file CSV\n",
    "\n",
    "La funzione inizia verificando se il file CSV esiste utilizzando `os.path.exists`.\n",
    "\n",
    "```python\n",
    "if os.path.exists(USER_TABLE_CSV):\n",
    "    ...\n",
    "else:\n",
    "    print(f'Il file \"{USER_TABLE_CSV}\" non esiste. Verifica il percorso e riprova.')\n",
    "    sys.exit(1)\n",
    "```\n",
    "\n",
    "Se il file non esiste, il programma termina con `sys.exit(1)` dopo aver mostrato un messaggio utile ai fini di debug."
   ]
  },
  {
   "cell_type": "markdown",
   "metadata": {},
   "source": [
    "#### Blocco `try ... except`\n",
    "\n",
    "Il blocco `try ... except` è utilizzato per gestire eventuali errori durante l'accesso al database e la lettura del file CSV.\n",
    "\n",
    "```python\n",
    "try:\n",
    "    ...\n",
    "except sqlite3.Error as err:\n",
    "    print(f'Si è verificato un errore del database: {err}')\n",
    "    sys.exit(1)\n",
    "except Exception as err:\n",
    "    print(f'Si è verificato un errore generico: {err}')\n",
    "    sys.exit(1)\n",
    "\n",
    "```\n",
    "\n",
    "Vengono intercettati due tipi di errori:\n",
    "\n",
    "- `sqlite3.Error`, in caso si verifichi un errore dal database.\n",
    "- `Exception`, in caso si verifichi un qualunque altro tipo di errore.\n",
    "\n",
    "In entrambi i casi il programma viene terminato con `sys.exit(1)` dopo aver mostrato un messaggio con ulteriori informazioni nel terminale."
   ]
  },
  {
   "cell_type": "markdown",
   "metadata": {},
   "source": [
    "#### Connessione al database\n",
    "\n",
    "Si utilizza il metodo `sqlite3.connect()` per connettersi al database specificato nella costante `DATABASE`. La connessione viene gestita utilizzando un contesto `with`, il che assicura che la connessione venga chiusa automaticamente quando il blocco `with` termina.\n",
    "\n",
    "```python\n",
    "with sqlite3.connect(DATABASE) as conn:\n",
    "    ...\n",
    "```"
   ]
  },
  {
   "cell_type": "markdown",
   "metadata": {},
   "source": [
    "#### Creazione di un cursore\n",
    "\n",
    "Viene creato un cursore con il quale poter eseguire le query SQL.\n",
    "\n",
    "```python\n",
    "cursor = conn.cursor()\n",
    "```"
   ]
  },
  {
   "cell_type": "markdown",
   "metadata": {},
   "source": [
    "#### Verifica dell'esistenza della tabella Utente\n",
    "\n",
    "Si utilizza la funzione `table_exists()` che abbiamo definito precedentemente per verificare se la tabella utente esiste già nel database in quanto non vogliamo eseguire la query di creazione se la tabella esiste già.\n",
    "\n",
    "```python\n",
    "if not table_exists(cursor, USER_TABLE_NAME):\n",
    "    ... # Inizializzazione tabella\n",
    "    print('La tabella utente è stata inizializzata e popolata con successo.')\n",
    "else:\n",
    "    print('La tabella utente esiste già. Non è necessario inizializzarla.')\n",
    "```\n",
    "\n",
    "Al termine di ciascuna condizione, viene visualizzato un messaggio che indica cosa è avvenuto."
   ]
  },
  {
   "cell_type": "markdown",
   "metadata": {},
   "source": [
    "#### Creazione della tabella Utente\n",
    "\n",
    "Se la tabella utente non esiste, viene creata utilizzando la funzione `_create_user_table()` che abbiamo definito precedentemente.\n",
    "\n",
    "```python\n",
    "_create_user_table(cursor)\n",
    "```"
   ]
  },
  {
   "cell_type": "markdown",
   "metadata": {},
   "source": [
    "#### Apertura del file CSV\n",
    "\n",
    "L'esercizio fornisce una tabella in formato CSV contenente i dati degli Utenti. Il file si trova in `database/users.csv`.\n",
    "\n",
    "Il file CSV viene aperto in modalità lettura utilizzando un contesto `with`, il che assicura la chiusura del file al termine del blocco di codice.\n",
    "\n",
    "```python\n",
    "with open(USER_TABLE_CSV, 'r') as file:\n",
    "    ...\n",
    "```"
   ]
  },
  {
   "cell_type": "markdown",
   "metadata": {},
   "source": [
    "#### Lettura del file CSV\n",
    "\n",
    "Si utilizza la classe `csv.DictReader` per leggere il file CSV contenente i dati degli Utenti.\n",
    "\n",
    "`DictReader` ci restituisce direttamente un comodo dizionario le cui chiavi chiavi corrispondono ai nomi dei campi/colonne della tabella.\n",
    "\n",
    "```python\n",
    "csv_dict_reader = csv.DictReader(file)\n",
    "```"
   ]
  },
  {
   "cell_type": "markdown",
   "metadata": {},
   "source": [
    "#### Preparazione della query SQL per l'inserimento dei dati\n",
    "\n",
    "Viene preparata una query SQL per l'inserimento dei dati nella tabella utente.\n",
    "\n",
    "La query utilizza parametri nominati per prevenire attacchi di SQL injection.\n",
    "\n",
    "```python\n",
    "user_query = f'''\n",
    "    INSERT INTO {USER_TABLE_NAME}\n",
    "    (LOGIN, PASSWORD, NOME, COGNOME,\n",
    "    INDIRIZZO, CITTA, TEL1, TEL2,\n",
    "    EMAIL, DATANASCITA, DATAREG)\n",
    "    VALUES (:LOGIN, :PASSWORD, :NOME, :COGNOME,\n",
    "    :INDIRIZZO, :CITTA, :TEL1, :TEL2,\n",
    "    :EMAIL, :DATANASCITA, :DATAREG);\n",
    "'''\n",
    "```\n",
    "\n",
    "> **NOTA**: Dovendo usare un dizionario come struttura dati che contiene i valori (`VALUES`), la sintassi dei placeholder (segnaposto) è `:NOME_CAMPO` anziché `?`, che viene usato se la struttura dati è una sequenza come una tupla o una lista."
   ]
  },
  {
   "cell_type": "markdown",
   "metadata": {},
   "source": [
    "#### Popolamento della tabella Utente\n",
    "\n",
    "La tabella viene popolata eseguendo la query per ogni riga del file CSV utilizzando il metodo `cursor.executemany()`.\n",
    "\n",
    "```python\n",
    "cursor.executemany(user_query, csv_dict_reader)\n",
    "```"
   ]
  },
  {
   "cell_type": "markdown",
   "metadata": {},
   "source": [
    "## Usare il DB in `app.py`\n",
    "\n",
    "Questo file contiene la logica dell'applicazione Flask, compresa la gestione delle rotte, l'autenticazione degli utenti e la visualizzazione dei film."
   ]
  },
  {
   "cell_type": "markdown",
   "metadata": {},
   "source": [
    "### 7. **Importazioni**\n",
    "\n",
    "Importiamo gli oggetti necessari dal modulo `db` (che è il file `db.py`):\n",
    "\n",
    "```python\n",
    "from flask import Flask, ...\n",
    "from db import _init_user_table, get_user_password, FILMS\n",
    "...\n",
    "```"
   ]
  },
  {
   "cell_type": "markdown",
   "metadata": {},
   "source": [
    "### 8. **Inizializzazione del database**\n",
    "\n",
    "Inizializziamo la tabella Utente subito prima dell'avvio dell'applicazione:\n",
    "\n",
    "```python\n",
    "if __name__ == '__main__':\n",
    "\n",
    "    # Utilizziamo la funzione creata in db.py per inizializzare la tabella utenti\n",
    "    _init_user_table()\n",
    "\n",
    "    app.run(debug=True)\n",
    "```"
   ]
  },
  {
   "cell_type": "markdown",
   "metadata": {},
   "source": [
    "### 9. **Route per il login e controllo credenziali**\n",
    "\n",
    "Definiamo la route per il login, che utilizza la funzione `get_user_password()` per verificare le credenziali dell'Utente:\n",
    "\n",
    "```python\n",
    "@app.route('/login', methods=['GET', 'POST'])\n",
    "def login():\n",
    "    if request.method == 'POST':\n",
    "        rx_username = request.form.get('tx_user')\n",
    "        rx_password = request.form.get('tx_password')\n",
    "\n",
    "        # Utilizziamo la funzione creata in db.py per ottenere la password\n",
    "        db_password = get_user_password(rx_username)\n",
    "\n",
    "        if rx_password == db_password:\n",
    "            ...\n",
    "        else:\n",
    "            ...\n",
    "    return render_template('login.html')\n",
    "```"
   ]
  }
 ],
 "metadata": {
  "language_info": {
   "name": "python"
  }
 },
 "nbformat": 4,
 "nbformat_minor": 2
}
