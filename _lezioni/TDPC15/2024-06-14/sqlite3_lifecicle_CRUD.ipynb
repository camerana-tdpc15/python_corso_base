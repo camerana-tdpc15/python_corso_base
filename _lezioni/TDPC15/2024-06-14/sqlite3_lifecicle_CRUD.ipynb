{
 "cells": [
  {
   "cell_type": "markdown",
   "id": "9406b447",
   "metadata": {
    "is_toc": true
   },
   "source": [
    "**Sommario**\n",
    "\n",
    "- [Schema e ciclo di vita del database](#schema-e-ciclo-di-vita-del-database)\n",
    "  - [Creazione delle tabelle nel DB con `CREATE TABLE`](#creazione-delle-tabelle-nel-db-con-create-table)\n",
    "    - [Constraints (vincoli)](#constraints-vincoli)\n",
    "    - [Tipi di dato](#tipi-di-dato)\n",
    "    - [Nomi delle tabelle](#nomi-delle-tabelle)\n",
    "- [Operazioni CRUD con SQLite3](#operazioni-crud-con-sqlite3)\n",
    "  - [`db.py`](#dbpy)\n",
    "  - [`app.py`](#apppy)\n",
    "  - [C.R.U.D.](#crud)\n",
    "    - [CREATE con `INSERT INTO`](#create-con-insert-into)\n",
    "    - [READ con `SELECT ... FROM`](#read-con-select--from)\n",
    "    - [UPDATE con `UPDATE ... SET`](#update-con-update--set)\n",
    "    - [DELETE con `DELETE FROM`](#delete-con-delete-from)\n",
    "  - [Connessione e gestione delle transazioni](#connessione-e-gestione-delle-transazioni)\n",
    "    - [Connessione con `sqlite3.connect()`](#connessione-con-sqlite3connect)\n",
    "    - [Transazione](#transazione)\n",
    "    - [Commit con `Connection.commit()`](#commit-con-connectioncommit)\n",
    "    - [Rollback con `Connection.rollback()`](#rollback-con-connectionrollback)\n",
    "    - [Chiusura con `Connection.close()`](#chiusura-con-connectionclose)\n",
    "    - [`Connection` *context manager* con `with`](#connection-context-manager-con-with)\n",
    "    - [`with conn:` ACID](#with-conn-acid)\n",
    "    - [Gestione errori e rollback con `try ... except`](#gestione-errori-e-rollback-con-try--except)"
   ]
  },
  {
   "cell_type": "markdown",
   "metadata": {},
   "source": [
    "# Schema e ciclo di vita del database\n",
    "\n",
    "Prima di iniziare ad eseguire le query sui dati, dobbiamo prima creare il database. Per fare questo dobbiamo innanzitutto definire lo *schema del database*.\n",
    "\n",
    "Agire sullo schema del database significa creare, modificare o eliminare gli oggetti che compongono il database nel suo complesso. Le prime e più importanti cose che possiamo definire sono le *tabelle* e le loro *colonne* (o *campi*).\n",
    "\n",
    "Le istruzioni per compiere queste azioni sono un sotto-insieme delle istruzioni SQL, dette *Data Definition Language* (DDL). Le principali sono `CREATE`, `ALTER` e `DROP`.\n",
    "\n",
    "Inizialmente ci limiteremo a creare le tabelle. Per fare ciò abbiamo `CREATE TABLE`."
   ]
  },
  {
   "cell_type": "markdown",
   "metadata": {},
   "source": [
    "## Creazione delle tabelle nel DB con `CREATE TABLE`\n",
    "\n",
    "L'istruzione `CREATE TABLE` in SQL viene utilizzata per creare una nuova tabella in un database. Di seguito, esploriamo la sintassi generale e i vari componenti dell'istruzione `CREATE TABLE` in SQLite.\n",
    "\n",
    "Per appropondire: [\"CREATE TABLE\" sulla documentazione ufficiale](https://www.sqlite.org/lang_createtable.html)\n",
    "\n",
    "Sintassi generale:\n",
    "\n",
    "```sql\n",
    "CREATE TABLE [IF NOT EXISTS] nome_tabella (\n",
    "    nome_colonna1 tipo_dato [CONSTRAINTS],\n",
    "    nome_colonna2 tipo_dato [CONSTRAINTS],\n",
    "    ...\n",
    ");\n",
    "```\n",
    "\n",
    "- **`CREATE TABLE`**: Questa è la parola chiave utilizzata per indicare che si desidera creare una nuova tabella.\n",
    "\n",
    "- **`IF NOT EXISTS`**: (Opzionale) Questa clausola è utilizzata per evitare errori nel caso in cui la tabella esista già. Se la tabella esiste, l'istruzione non creerà una nuova tabella né genererà un errore.\n",
    "\n",
    "- **nome_tabella**: Il nome della tabella che si desidera creare.\n",
    "\n",
    "- **nome_colonna**: Il nome di ciascuna colonna all'interno della tabella.\n",
    "\n",
    "- **tipo_dato**: Specifica il tipo di dati che la colonna può contenere, come `INTEGER`, `TEXT`, `REAL`, `BLOB`, ecc.\n",
    "\n",
    "- **CONSTRAINTS**: (Opzionale) Vincoli che definiscono le regole per i dati in quella colonna, come `PRIMARY KEY`, `NOT NULL`, `UNIQUE`, `CHECK`, `DEFAULT`, ecc."
   ]
  },
  {
   "cell_type": "markdown",
   "metadata": {},
   "source": [
    "### Constraints (vincoli)\n",
    "\n",
    "I vincoli sono regole applicate alle colonne per limitare il tipo di dati che possono essere memorizzati in esse. Ecco alcuni vincoli comuni:\n",
    "\n",
    "- **`PRIMARY KEY`**: Identifica in modo univoco ogni record nella tabella.\n",
    "\n",
    "- **`UNIQUE`**: Assicura che tutti i valori in una colonna siano unici.\n",
    "\n",
    "- **`NOT NULL`**: Assicura che una colonna non possa avere valori `NULL`.\n",
    "\n",
    "- **`CHECK`**: Assicura che tutti i valori in una colonna soddisfino una condizione specifica.\n",
    "\n",
    "- **`DEFAULT`**: Assegna un valore predefinito a una colonna se nessun valore viene specificato. Se omesso viene usato `NULL`.\n",
    "\n",
    "Ad esempio:\n",
    "\n",
    "```sql\n",
    "CREATE TABLE IF NOT EXISTS corsi (\n",
    "    id INTEGER PRIMARY KEY,\n",
    "    nome_corso TEXT NOT NULL UNIQUE,\n",
    "    descrizione TEXT DEFAULT 'N/D',\n",
    "    durata INTEGER CHECK(durata > 0)\n",
    ");\n",
    "```"
   ]
  },
  {
   "cell_type": "markdown",
   "metadata": {},
   "source": [
    "### Tipi di dato\n",
    "\n",
    "Per appropondire: [\"Datatypes In SQLite\" sulla documentazione ufficiale](https://www.sqlite.org/lang_createtable.html)\n",
    "\n",
    "\n",
    "Quando si crea una tabella in SQLite, ci sono quattro principali tipi di dati che puoi usare per definire le colonne della tabella:\n",
    "\n",
    "- **`INTEGER`**: Usato per memorizzare numeri interi (positivi o negativi). Es.  `42`, `-3`, `0`\n",
    "\n",
    "- **`REAL`**: Usato per memorizzare numeri in virgola mobile (numeri decimali). Es. `3.14`, `-2.718`, `0.0`\n",
    "\n",
    "- **`TEXT`**: Usato per memorizzare stringhe di testo. Es. `'ciao'`, `'SQLite è fantastico!'`, `'123abc'`\n",
    "\n",
    "- **`BLOB`**: Usato per memorizzare dati binari, come immagini e file in generale.\n",
    "\n",
    "Inoltre qualunque colonne possono contenere valori `NULL` a meno che non sia specificato diversamente con il vincolo `NOT NULL` o `PRIMARY KEY`.\n",
    "\n",
    "Ad esempio:\n",
    "\n",
    "```sql\n",
    "CREATE TABLE studenti (\n",
    "    id INTEGER PRIMARY KEY,\n",
    "    nome TEXT NOT NULL,\n",
    "    eta INTEGER,\n",
    "    peso REAL,\n",
    "    foto BLOB\n",
    ");\n",
    "```\n",
    "Ecco la corrispondenza dei valori tra Python e SQLite:\n",
    "\n",
    "| Python type | SQLite type |\n",
    "|-------------|-------------|\n",
    "| `None  `    | `NULL`      |\n",
    "| `int`       | `INTEGER`   |\n",
    "| `float`     | `REAL`      |\n",
    "| `str`       | `TEXT`      |\n",
    "| `bytes`     | `BLOB`      |\n"
   ]
  },
  {
   "cell_type": "markdown",
   "metadata": {},
   "source": [
    "### Nomi delle tabelle\n",
    "\n",
    "In SQLite, i nomi di tabella che sono considerati validi (senza l'uso di parentesi o virgolette) dovrebbero essere qualsiasi combinazione alfanumerica che non inizi con una cifra:\n",
    "\n",
    "- `abc123` - valido\n",
    "- `123abc` - non valido\n",
    "- `abc_123` - valido\n",
    "- `_123abc` - valido\n",
    "- `abc-abc` - non valido (sembra un'espressione)\n",
    "- `abc.abc` - non valido (sembra una notazione *database.tabella*)\n",
    "\n",
    "Racchiudendo i nomi con le virgolette dovresti essere in grado di usare praticamente qualsiasi cosa come nome di una tabella:\n",
    "\n",
    "- virgolette: `\"Questo dovrebbe-essere un_nome.di/tabella+valido!?\"`\n",
    "\n",
    "SQLite supporta anche la delimitazione in stile SQL Server e MySQL:\n",
    "\n",
    "- parentesi quadre: `[Questo dovrebbe-essere un_nome.di/tabella+valido!?]`\n",
    "\n",
    "- backtick: \\``Questo dovrebbe-essere un_nome.di/tabella+valido!?`\\`"
   ]
  },
  {
   "cell_type": "markdown",
   "metadata": {},
   "source": [
    "# Operazioni CRUD con SQLite3"
   ]
  },
  {
   "cell_type": "markdown",
   "metadata": {},
   "source": [
    "Come avete appreso nelle lezioni di SQL, l'acronimo [**CRUD**](https://it.wikipedia.org/wiki/CRUD) sta per CREATE, READ, UPDATE e DELETE, ovvero le quattro operazioni fondamentali che possiamo eseguire sui database.\n",
    "\n",
    "Vediamo come effettuare queste operazioni con l'utilizzo del modulo standard `sqlite3` di Python."
   ]
  },
  {
   "cell_type": "markdown",
   "metadata": {},
   "source": [
    "## `db.py`\n",
    "\n",
    "Immaginiamo di avere una tabella una tabella `'user'`, creata nel file `db.py`:\n",
    "\n",
    "```python\n",
    "import sqlite3\n",
    "\n",
    "def init_db_tables()\n",
    "\n",
    "    conn = sqlite3.connect('db.sqlite3')  # Apre una connessione al DB\n",
    "\n",
    "    with conn:  # Apre un contesto sulla connessione\n",
    "        cursor = conn.cursor() # Crea un cursore per poter eseguire le query\n",
    "\n",
    "        # Crea la tabella User se non esiste già\n",
    "        cursor.execute('''CREATE TABLE IF NOT EXISTS user\n",
    "                    (id INTEGER PRIMARY KEY AUTOINCREMENT,\n",
    "                    name TEXT NOT NULL,\n",
    "                    email TEXT UNIQUE NOT NULL,\n",
    "                    age INTEGER);''')\n",
    "\n",
    "        conn.commit()  # Salva le modifiche sul DB.\n",
    "\n",
    "    conn.close()  # Chiude la connessione\n",
    "```"
   ]
  },
  {
   "cell_type": "markdown",
   "metadata": {},
   "source": [
    "## `app.py`\n",
    "\n",
    "Per poter svolgere le operazioni CRUD nel file del \"controller\" `app.py`, dobbiamo prima creare le tabelle nel database.\n",
    "\n",
    "Dopodiché abbiamo due scelte:\n",
    "\n",
    "- Effettuare le operazioni CRUD prima dell'avvio dell'applicazione Flask. Questo può essere utile per effettuare delle operazioni come l'inizializzazione e il popolamento delle tabelle, azioni di migrazione ecc.\n",
    "\n",
    "- Effettuare le operazioni CRUD all'interno delle funzioni \"endpoint\" che gestiscono le route, dunque dopo che l'applicazione e il server Flask sono stati avviati.\n",
    "\n",
    "```python\n",
    "# app.py\n",
    "\n",
    "from flask import Flask\n",
    "from db import init_db_tables\n",
    "\n",
    "app = Flask(__name__)  # Crea l'istanza di Flask\n",
    "\n",
    "...  # <--- QUA PUOI SVOLGERE LE OPERAZIONI CRUD\n",
    "...  # <--- ALL'INTERNO DELLE FUNZIONI DI ENDPOINT\n",
    "...  # <--- CHE GESTISCONO LE ROUTE.\n",
    "\n",
    "if __name__ == '__main__':\n",
    "    with app.app_context():\n",
    "        init_db_tables()  # Crea le tabelle nel database, se necessario\n",
    "\n",
    "        ...  # <--- QUA PUOI SVOLGERE LE OPERAZIONI CRUD PRIMA\n",
    "        ...  # <--- DELL'AVVIO DELL'APP FLASK. PUO' ESSERE UTILE \n",
    "        ...  # <--- PER INIZIALIZZARE E POPOLARE IL DB.\n",
    "\n",
    "    app.run()\n",
    "\n",
    "```"
   ]
  },
  {
   "cell_type": "markdown",
   "metadata": {},
   "source": [
    "## C.R.U.D.\n",
    "\n",
    "Vediamo ora come eseguire le quattro classiche operazioni CRUD con SQLite."
   ]
  },
  {
   "cell_type": "markdown",
   "metadata": {},
   "source": [
    "### CREATE con `INSERT INTO`\n",
    "\n",
    "Per creare un nuovo record nel database:\n",
    "\n",
    "```python\n",
    "import sqlite3\n",
    "\n",
    "name = 'Alice'\n",
    "email = 'alice.smith@example.com'\n",
    "\n",
    "conn = sqlite3.connect('db.sqlite3')\n",
    "\n",
    "with conn:\n",
    "    cursor = conn.cursor()\n",
    "    cursor.execute('INSERT INTO User (name, email) VALUES (?, ?);', (name, email))\n",
    "    new_record_id = cursor.lastrowid  # es. 10 (ID del record creato)\n",
    "\n",
    "# Terminato il blocco `with` viene fatto commit ma la connessione va chiusa\n",
    "conn.close()\n",
    "```"
   ]
  },
  {
   "cell_type": "markdown",
   "metadata": {},
   "source": [
    "### READ con `SELECT ... FROM`\n",
    "\n",
    "Per leggere i record dal database:\n",
    "\n",
    "```python\n",
    "import sqlite3\n",
    "\n",
    "conn = sqlite3.connect('db.sqlite3')\n",
    "\n",
    "with conn:\n",
    "    cursor = conn.cursor()\n",
    "    cursor.execute('''\n",
    "        SELECT * FROM User\n",
    "        WHERE name = ?;\n",
    "    ''')\n",
    "    results = cursor.fetchall()  # Ottiene tutti i record trovati con la query\n",
    "\n",
    "conn.close()\n",
    "```\n",
    "\n",
    "> PER APPROFONDIRE: Vedi il notebook [sqlite3_READ.ipynb](sqlite3_READ.ipynb)\n"
   ]
  },
  {
   "cell_type": "markdown",
   "metadata": {},
   "source": [
    "### UPDATE con `UPDATE ... SET`\n",
    "\n",
    "Per aggiornare un record esistente:\n",
    "\n",
    "```python\n",
    "import sqlite3\n",
    "\n",
    "user_id = 10\n",
    "name = 'Bob'\n",
    "email = 'bob.doe@example.com'\n",
    "\n",
    "conn = sqlite3.connect('db.sqlite3')\n",
    "\n",
    "with conn:\n",
    "    cursor = conn.cursor()\n",
    "    cursor.execute('''\n",
    "        UPDATE User\n",
    "        SET name = ?, email = ?\n",
    "        WHERE id = ?;\n",
    "    ''', (name, email, user_id))\n",
    "    conn.commit()\n",
    "    upd_row_count = cursor.rowcount  # Ottiene il numero di righe aggiornate\n",
    "\n",
    "conn.close()\n",
    "```"
   ]
  },
  {
   "cell_type": "markdown",
   "metadata": {},
   "source": [
    "### DELETE con `DELETE FROM`\n",
    "\n",
    "Per eliminare un record esistente:\n",
    "\n",
    "```python\n",
    "import sqlite3\n",
    "\n",
    "conn = sqlite3.connect('db.sqlite3')\n",
    "\n",
    "with conn:\n",
    "    cursor = conn.cursor()\n",
    "    cursor.execute('''\n",
    "        DELETE FROM User\n",
    "        WHERE id = ?;\n",
    "    ''', (user_id,))\n",
    "    conn.commit()\n",
    "    del_row_count = cursor.rowcount  # Ottiene il numero di righe eliminate\n",
    "\n",
    "conn.close()\n",
    "```"
   ]
  },
  {
   "cell_type": "markdown",
   "metadata": {},
   "source": [
    "## Connessione e gestione delle transazioni"
   ]
  },
  {
   "cell_type": "markdown",
   "metadata": {},
   "source": [
    "### Connessione con `sqlite3.connect()`\n",
    "\n",
    "In `sqlite3`, una connessione rappresenta una singola connessione al database. La connessione è il punto di ingresso per eseguire operazioni SQL, dette *transazioni*:\n",
    "\n",
    "```python\n",
    "conn = sqlite3.connect('test.db')\n",
    "```"
   ]
  },
  {
   "cell_type": "markdown",
   "metadata": {},
   "source": [
    "### Transazione\n",
    "\n",
    "Fintanto che una connessione è aperta, possono avvenire più transazioni. Per esempio, quanto invochiamo `Cursor.execute()` o `Cursor.executemany()` vengono effettuate delle transazioni.\n",
    "\n",
    "Tuttavia bisogna ricordare che le transazioni non provocano modifiche permanenti sul database finché non viene eseguito un _**commit**_ sulla connessione.\n",
    "\n",
    "Per annullare invece le modifiche non ancora committate, si può fare un _**rollback**_.\n",
    "\n",
    "Al termine di tutte le transazioni che facciamo, bisogna chiudere la connessione per liberare risorse di sistema. "
   ]
  },
  {
   "cell_type": "markdown",
   "metadata": {},
   "source": [
    "### Commit con `Connection.commit()`\n",
    "\n",
    "Conferma tutte le modifiche fatte nel database durante la transazione. Una volta eseguito il commit, le modifiche diventano permanenti.\n",
    "\n",
    "```python\n",
    "conn.commit()\n",
    "```"
   ]
  },
  {
   "cell_type": "markdown",
   "metadata": {},
   "source": [
    "### Rollback con `Connection.rollback()`\n",
    "\n",
    "Annulla tutte le modifiche fatte nella transazione corrente, ripristinando lo stato del database al momento dell'ultimo commit.\n",
    "\n",
    "```python\n",
    "conn.rollback()\n",
    "```"
   ]
  },
  {
   "cell_type": "markdown",
   "metadata": {},
   "source": [
    "### Chiusura con `Connection.close()`\n",
    "\n",
    "Chiude la connessione corrente e libera tutte le risorse associate alla connessione vengono. Questo include qualsiasi memoria, file, o altre risorse di sistema che sono state allocate per gestire la connessione.\n",
    "\n",
    "> **ATTENZIONE**: Aprire molte connessioni senza chiuderle, può portare a un esaurimento delle risorse di sistema! Ricordati dunque di chiudere sempre le connessioni quando non servono più."
   ]
  },
  {
   "cell_type": "markdown",
   "metadata": {},
   "source": [
    "### `Connection` *context manager* con `with`\n",
    "\n",
    "Un oggetto `Connection` può essere utilizzato come *context manager* in un blocco `with`, il quale esegue automaticamente il *commit* o il *rollback* delle transazioni aperte quando si esce dal suo corpo.\n",
    "\n",
    "Se il corpo dell'istruzione `with` termina senza errori (*exceptions*), la transazione viene committata automaticamente.\n",
    "\n",
    "Se il commit fallisce o se il corpo dell'istruzione `with` solleva un'eccezione (non intercettata), viene eseguito il rollback della transazione e dunque viene annullata.\n",
    "\n",
    "Il gestore del contesto non chiude implicitamente la connessione. \n",
    "\n",
    "Ricapitolando, quando il blocco `with` termina, viene eseguito automaticamente il commit il ma non la chiusura della connessione. Ricordati dunque di chiudere sempre la connessione!\n",
    "\n",
    "Fare commit manualmente invece non è obbligatorio, ma è considerato una buona pratica e in alcune circostanze può essere utile se dopo vengono svolte altre operazioni."
   ]
  },
  {
   "cell_type": "markdown",
   "metadata": {},
   "source": [
    "### `with conn:` ACID\n",
    "\n",
    "Quando eseguiamo delle transazioni con il database, dobbiamo possibilmente rispettare il paradigma [**ACID**](https://it.wikipedia.org/wiki/ACID) (Atomicità, Consistenza, Isolamento, Durabilità).\n",
    "\n",
    "Eseguire le transazioni dentro un blocco `with` ci aiuta e semplifica ottenere le proprietà **ACID**.\n",
    "\n",
    "Infatti `with` garantisce che le operazioni all'interno del blocco `with` siano atomiche. Se una qualsiasi operazione fallisce, un rollback annullerà tutte le operazioni precedenti nella transazione (ATOMICITÀ). Questo fa sì che il database sia sempre in uno stato consistente (CONSISTENZA) e usando blocchi `with` diversi si isolano le modifiche non committate dalle altre transazioni (ISOLAMENTO). Infine, una volta che una transazione è stata committata, le modifiche sono permanenti e sopravvivono a eventuali crash dell'applicazione o del sistema (DURABILITÀ).\n"
   ]
  },
  {
   "cell_type": "markdown",
   "metadata": {},
   "source": [
    "### Gestione errori e rollback con `try ... except`\n",
    "\n",
    "In pratica `with` ci evita di dover gestire le eccezioni manualmente con blocchi `try ... except`.\n",
    "\n",
    "Tuttavia quanto segue è sempre possibile e utile:\n",
    "\n",
    "```python\n",
    "import sqlite3\n",
    "\n",
    "try:\n",
    "    conn = sqlite3.connect('test.db')\n",
    "    cursor = conn.cursor()\n",
    "    # La seguente istruzione potrebbe provocare un errore sul DB\n",
    "    cursor.execute('UPDATE User SET email = ? WHERE id = ?', (email, user_id))\n",
    "    ... # Dopo la transazione, potrebbero verificarsi errori Python\n",
    "except sqlite3.Error as err:\n",
    "    conn.rollback()\n",
    "    print(f'Si è verificato un errore con il DB: {err}')\n",
    "except Exception as err:\n",
    "    conn.rollback()\n",
    "    print(f'Si è verificato un errore Python generico: {err}')\n",
    "else:\n",
    "    conn.commit()\n",
    "```\n",
    "\n",
    "Chiaramente, se abbiamo bisogno di un controllo sugli errori, sui messaggi e sui comportamenti da intraprendere in base al tipo di eccezione, il costrutto `try ... except` è necessario."
   ]
  }
 ],
 "metadata": {
  "kernelspec": {
   "display_name": ".venv",
   "language": "python",
   "name": "python3"
  },
  "language_info": {
   "codemirror_mode": {
    "name": "ipython",
    "version": 3
   },
   "file_extension": ".py",
   "mimetype": "text/x-python",
   "name": "python",
   "nbconvert_exporter": "python",
   "pygments_lexer": "ipython3",
   "version": "3.11.2"
  }
 },
 "nbformat": 4,
 "nbformat_minor": 2
}
