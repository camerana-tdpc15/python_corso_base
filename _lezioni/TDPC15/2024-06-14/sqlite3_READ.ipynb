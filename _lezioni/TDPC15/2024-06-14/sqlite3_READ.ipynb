{
 "cells": [
  {
   "cell_type": "markdown",
   "id": "95705059",
   "metadata": {
    "is_toc": true
   },
   "source": [
    "**Sommario**\n",
    "\n",
    "- [Query di selezione con SQLite3](#query-di-selezione-con-sqlite3)\n",
    "    - [`SELECT ... WHERE id = ?`: una riga della tabella in base alla chiave primaria](#select--where-id---una-riga-della-tabella-in-base-alla-chiave-primaria)\n",
    "    - [`SELECT * FROM <tab>`: tutti i risultati](#select--from-tab-tutti-i-risultati)\n",
    "    - [`cursor.fetchone()`: solo un risultato](#cursorfetchone-solo-un-risultato)\n",
    "    - [`SELECT ... LIMIT <n>`: numero di risultati limitato a una quantità specificata](#select--limit-n-numero-di-risultati-limitato-a-una-quantit%C3%A0-specificata)\n",
    "    - [`SELECT ... WHERE <col> = ?`: risultati filtrati basandosi su parametri chiave-valore](#select--where-col---risultati-filtrati-basandosi-su-parametri-chiave-valore)\n",
    "    - [`SELECT ... WHERE <col> <op> <val>`: risultati filtrati basandosi su una condizione specificata](#select--where-col-op-val-risultati-filtrati-basandosi-su-una-condizione-specificata)\n",
    "    - [`SELECT ... ORDER BY <col>`: risultati ordinati in base a uno o più criteri](#select--order-by-col-risultati-ordinati-in-base-a-uno-o-pi%C3%B9-criteri)\n",
    "    - [`SELECT COUNT(*)`: numero di risultati](#select-count-numero-di-risultati)\n",
    "    - [`SELECT DISTINCT`: risultati distinti senza duplicati](#select-distinct-risultati-distinti-senza-duplicati)\n",
    "    - [`SELECT ... JOIN <tab> ON <col> = <tab>.<col>`: INNER JOIN tra tabelle](#select--join-tab-on-col--tabcol-inner-join-tra-tabelle)\n",
    "    - [`SELECT ... LEFT JOIN <tab> ON <col> = <tab>.<col>`: OUTER JOIN tra tabelle](#select--left-join-tab-on-col--tabcol-outer-join-tra-tabelle)"
   ]
  },
  {
   "cell_type": "markdown",
   "metadata": {},
   "source": [
    "# Query di selezione con SQLite3\n",
    "\n",
    "Dato che l'operazione di READ (R di CRUD) prevede molte possibili query di selezione, vediamo le principali operazioni di lettura dal database in questo notebook, come argomento a parte.\n",
    "\n",
    "Le restanti operazioni del pattern CRUD, CREATE, UPDATE e DELETE le trovate nell'altro notebook, [sqlite3_CRUD.ipynb](sqlite3_CRUD.ipynb)"
   ]
  },
  {
   "cell_type": "markdown",
   "metadata": {},
   "source": [
    "### `SELECT ... WHERE id = ?`: una riga della tabella in base alla chiave primaria\n",
    "\n",
    "```python\n",
    "import sqlite3\n",
    "\n",
    "conn = sqlite3.connect('db.sqlite3')\n",
    "cursor = conn.cursor()\n",
    "\n",
    "cursor.execute(\"SELECT * FROM users WHERE id = ?\", (1,))\n",
    "user = cursor.fetchone()\n",
    "\n",
    "conn.close()\n",
    "```\n",
    "\n",
    "OUTPUT: Restituisce la tupla che ha la chiave primaria uguale a 1. Se non esiste, restituisce `None`."
   ]
  },
  {
   "cell_type": "markdown",
   "metadata": {},
   "source": [
    "### `SELECT * FROM <tab>`: tutti i risultati\n",
    "\n",
    "```python\n",
    "import sqlite3\n",
    "\n",
    "conn = sqlite3.connect('db.sqlite3')\n",
    "cursor = conn.cursor()\n",
    "\n",
    "cursor.execute(\"SELECT * FROM users\")\n",
    "users = cursor.fetchall()\n",
    "\n",
    "conn.close()\n",
    "```\n",
    "\n",
    "OUTPUT: Restituisce una lista di tuple contenenti tutte le righe della tabella `users`."
   ]
  },
  {
   "cell_type": "markdown",
   "metadata": {},
   "source": [
    "### `cursor.fetchone()`: solo un risultato\n",
    "\n",
    "```python\n",
    "import sqlite3\n",
    "\n",
    "conn = sqlite3.connect('db.sqlite3')\n",
    "cursor = conn.cursor()\n",
    "\n",
    "cursor.execute(\"SELECT * FROM users\")\n",
    "first_user = cursor.fetchone()\n",
    "\n",
    "conn.close()\n",
    "```\n",
    "\n",
    "OUTPUT: Restituisce la prima tupla della tabella `users`. Se la tabella è vuota, restituisce `None`."
   ]
  },
  {
   "cell_type": "markdown",
   "metadata": {},
   "source": [
    "### `SELECT ... LIMIT <n>`: numero di risultati limitato a una quantità specificata\n",
    "\n",
    "```python\n",
    "import sqlite3\n",
    "\n",
    "conn = sqlite3.connect('db.sqlite3')\n",
    "cursor = conn.cursor()\n",
    "\n",
    "cursor.execute(\"SELECT * FROM users LIMIT 10\")\n",
    "limited_users = cursor.fetchall()\n",
    "\n",
    "conn.close()\n",
    "```\n",
    "\n",
    "OUTPUT: Restituisce una lista di al massimo 10 tuple della tabella `users`."
   ]
  },
  {
   "cell_type": "markdown",
   "metadata": {},
   "source": [
    "### `SELECT ... WHERE <col> = ?`: risultati filtrati basandosi su parametri chiave-valore\n",
    "\n",
    "```python\n",
    "import sqlite3\n",
    "\n",
    "conn = sqlite3.connect('db.sqlite3')\n",
    "cursor = conn.cursor()\n",
    "\n",
    "cursor.execute(\"SELECT * FROM users WHERE name = ?\", ('Alice',))\n",
    "filtered_users = cursor.fetchall()\n",
    "\n",
    "conn.close()\n",
    "```\n",
    "\n",
    "OUTPUT: Restituisce una lista di tuple contenenti le righe che hanno il nome 'Alice'."
   ]
  },
  {
   "cell_type": "markdown",
   "metadata": {},
   "source": [
    "### `SELECT ... WHERE <col> <op> <val>`: risultati filtrati basandosi su una condizione specificata\n",
    "\n",
    "```python\n",
    "import sqlite3\n",
    "\n",
    "conn = sqlite3.connect('db.sqlite3')\n",
    "cursor = conn.cursor()\n",
    "\n",
    "cursor.execute(\"SELECT * FROM users WHERE age > 18\")\n",
    "filtered_users = cursor.fetchall()\n",
    "\n",
    "conn.close()\n",
    "```\n",
    "\n",
    "OUTPUT: Restituisce una lista di tuple contenenti le righe che soddisfano la condizione specificata (in questo caso, utenti con età superiore a 18)."
   ]
  },
  {
   "cell_type": "markdown",
   "metadata": {},
   "source": [
    "### `SELECT ... ORDER BY <col>`: risultati ordinati in base a uno o più criteri\n",
    "\n",
    "```python\n",
    "import sqlite3\n",
    "\n",
    "conn = sqlite3.connect('db.sqlite3')\n",
    "cursor = conn.cursor()\n",
    "\n",
    "cursor.execute(\"SELECT * FROM users ORDER BY name\")\n",
    "ordered_users = cursor.fetchall()\n",
    "\n",
    "conn.close()\n",
    "```\n",
    "\n",
    "OUTPUT: Restituisce una lista di tuple contenenti le righe della tabella `users` ordinate per nome in ordine crescente."
   ]
  },
  {
   "cell_type": "markdown",
   "metadata": {},
   "source": [
    "### `SELECT COUNT(*)`: numero di risultati\n",
    "\n",
    "Restituisce il numero di righe che soddisfano la query.\n",
    "\n",
    "```python\n",
    "import sqlite3\n",
    "\n",
    "conn = sqlite3.connect('db.sqlite3')\n",
    "cursor = conn.cursor()\n",
    "\n",
    "cursor.execute(\"SELECT COUNT(*) FROM users WHERE age > 18\")\n",
    "user_count = cursor.fetchone()[0]\n",
    "\n",
    "conn.close()\n",
    "```\n",
    "\n",
    "OUTPUT: Restituisce un numero intero rappresentante il conteggio degli utenti con età superiore a 18."
   ]
  },
  {
   "cell_type": "markdown",
   "metadata": {},
   "source": [
    "### `SELECT DISTINCT`: risultati distinti senza duplicati\n",
    "\n",
    "```python\n",
    "import sqlite3\n",
    "\n",
    "conn = sqlite3.connect('db.sqlite3')\n",
    "cursor = conn.cursor()\n",
    "\n",
    "cursor.execute(\"SELECT DISTINCT name FROM users\")\n",
    "distinct_names = cursor.fetchall()\n",
    "\n",
    "conn.close()\n",
    "```\n",
    "\n",
    "OUTPUT: Restituisce una lista di tuple con i nomi distinti degli utenti."
   ]
  },
  {
   "cell_type": "markdown",
   "metadata": {},
   "source": [
    "### `SELECT ... JOIN <tab> ON <col> = <tab>.<col>`: INNER JOIN tra tabelle\n",
    "\n",
    "Esegue un join tra tabelle.\n",
    "\n",
    "```python\n",
    "import sqlite3\n",
    "\n",
    "conn = sqlite3.connect('db.sqlite3')\n",
    "cursor = conn.cursor()\n",
    "\n",
    "cursor.execute(\"\"\"\n",
    "    SELECT users.*, posts.* \n",
    "    FROM users \n",
    "    JOIN posts ON users.id = posts.user_id\n",
    "\"\"\")\n",
    "user_posts = cursor.fetchall()\n",
    "\n",
    "conn.close()\n",
    "```\n",
    "\n",
    "OUTPUT: Restituisce una lista di tuple contenenti righe di `users` e `posts` unite tramite una `INNER JOIN`, secondo la condizione specificata.\n",
    "\n",
    "> **NOTA**: La `INNER JOIN` mostra solo le righe che hanno una reciproca corrispondenza in entrambe le tabelle."
   ]
  },
  {
   "cell_type": "markdown",
   "metadata": {},
   "source": [
    "### `SELECT ... LEFT JOIN <tab> ON <col> = <tab>.<col>`: OUTER JOIN tra tabelle\n",
    "\n",
    "```python\n",
    "import sqlite3\n",
    "\n",
    "conn = sqlite3.connect('db.sqlite3')\n",
    "cursor = conn.cursor()\n",
    "\n",
    "# Eseguire un LEFT OUTER JOIN tra users e posts\n",
    "cursor.execute(\"\"\"\n",
    "    SELECT users.*, posts.*\n",
    "    FROM users\n",
    "    LEFT JOIN posts ON users.id = posts.user_id\n",
    "\"\"\")\n",
    "user_posts = cursor.fetchall()\n",
    "\n",
    "conn.close()\n",
    "```\n",
    "\n",
    "OUTPUT: Restituisce una lista di tuple contenenti righe di `users` e `posts` unite tramite una `LEFT OUTER JOIN`, secondo la condizione specificata. Se un utente non ha post corrispondenti, le colonne della tabella `posts` saranno `NULL`.\n",
    "\n",
    "> **NOTA BENE**: La `LEFT OUTER JOIN` mostra tutte le righe della tabella di sinistra (`User`), e le righe corrispondenti della tabella di destra (`Post`). Se non ci sono corrispondenze, le colonne della tabella di destra saranno `NULL`."
   ]
  }
 ],
 "metadata": {
  "language_info": {
   "name": "python"
  }
 },
 "nbformat": 4,
 "nbformat_minor": 2
}
