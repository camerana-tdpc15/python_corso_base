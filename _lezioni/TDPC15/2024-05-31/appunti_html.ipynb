{
 "cells": [
  {
   "cell_type": "markdown",
   "id": "6b8e55b0",
   "metadata": {
    "is_toc": true
   },
   "source": [
    "**Sommario**\n",
    "\n",
    "  - [Tag `<link>` in HTML](#tag-link-in-html)\n",
    "  - [CDN](#cdn)\n",
    "  - [Tag `<meta>`](#tag-meta)"
   ]
  },
  {
   "cell_type": "markdown",
   "metadata": {},
   "source": [
    "## Tag `<link>` in HTML\n",
    "\n",
    "Il tag `<link>` in HTML viene utilizzato per collegare risorse esterne alle pagine web, come per esempio i fogli di stile CSS. I suoi attributi più comuni sono:\n",
    "\n",
    "- **`href`**: Definisce l'URL della risorsa esterna. È l'attributo obbligatorio che indica dove si trova il file da collegare. Può essere un percorso relativo, se la risorsa si trova sullo stesso dominio della pagina (es.  `href=\"styles.css\"`), o un URL assoluto, se la risorsa è ospitata su un dominio differente (es. `href=\"https://cdn.example.com/styles.css\"`).\n",
    "\n",
    "- **`rel`**: Specifica il tipo di relazione tra il documento corrente e la risorsa collegata. Ad esempio, `rel=\"stylesheet\"` indica che il file collegato è un foglio di stile CSS. L'elenco completo dei possibili valori e i loro significati [li puoi trovare qua](https://developer.mozilla.org/en-US/docs/Web/HTML/Attributes/rel).\n",
    "\n",
    "- **`integrity`**: Fornisce un [hash crittografico](https://it.wikipedia.org/wiki/Funzione_crittografica_di_hash) che consente al browser di verificare che il file caricato non sia stato modificato. Questo migliora la sicurezza delle risorse esterne.\n",
    "\n",
    "- **`crossorigin`**: Indica se la richiesta di una risorsa esterna deve essere fatta con o senza credenziali (come cookie). I valori comuni sono `anonymous` (senza credenziali) e `use-credentials` (con credenziali). Se l'attributo `crossorigin` è omesso, il comportamento predefinito è equivalente a `crossorigin=\"anonymous\"`. Eplicitare il valore di default può essere utile per migliorare la leggibilità e la chiarezza del codice, e può essere un promemoria a rivalutare questo aspetto durante eventuali modifiche future.\n",
    "\n",
    "Esempio di utilizzo del tag `<link>`:\n",
    "```html\n",
    "<link \n",
    "    href=\"https://cdn.jsdelivr.net/npm/bootstrap@5.3.3/dist/css/bootstrap.min.css\" \n",
    "    rel=\"stylesheet\" \n",
    "    integrity=\"sha384-QWTKZyjpPEjISv5WaRU9OFeRpok6YctnYmDr5pNlyT2bRjXh0JMhjY6hW+ALEwIH\" \n",
    "    crossorigin=\"anonymous\"\n",
    ">\n",
    "\n",
    "```\n",
    "\n"
   ]
  },
  {
   "cell_type": "markdown",
   "metadata": {},
   "source": [
    "## CDN\n",
    "\n",
    "Una CDN (Content Delivery Network) è una rete di server distribuiti geograficamente che migliorano la velocità, affidabilità, scalabilità e sicurezza del caricamento di contenuti web, servendo le risorse dall'ubicazione più vicina all'utente. Utilizzando una CDN, come mostrato nell'esempio del tag `<link>`, si può ridurre la latenza e garantire che il sito web rimanga veloce e accessibile anche durante picchi di traffico o malfunzionamenti dei server.\n",
    "\n",
    "Tuttavia utilizzare risorse servite da una CDN può presentare alcune controindicazioni rispetto a utilizzare risorse locali:\n",
    "\n",
    "1. **Dipendenza esterna**: Affidarsi a una CDN significa dipendere da un servizio esterno. Se la CDN ha problemi o subisce un'interruzione, le risorse potrebbero diventare temporaneamente inaccessibili, causando problemi di funzionamento per il sito web.\n",
    "\n",
    "2. **Sicurezza**: Le risorse caricate da una CDN potrebbero essere vulnerabili ad attacchi se non vengono implementate misure di sicurezza come il controllo di integrità (`integrity`) e il `crossorigin` policy. Ad esempio, un [attacco man-in-the-middle](https://it.wikipedia.org/wiki/Attacco_man_in_the_middle) potrebbe alterare le risorse servite dalla CDN.\n",
    "\n",
    "3. **Privacy**: Utilizzare una CDN può comportare la condivisione di alcuni dati degli utenti con terze parti, poiché le richieste per le risorse vengono registrate dai server della CDN. Questo potrebbe essere una preoccupazione in termini di privacy degli utenti.\n",
    "\n",
    "4. **Prestazioni variabili**: Sebbene le CDN siano progettate per migliorare le prestazioni, la velocità di accesso alle risorse può variare in base alla posizione geografica dell'utente e alla qualità del servizio della CDN in quella regione.\n",
    "\n",
    "5. **Versioni delle risorse**: Quando si utilizza una CDN per caricare librerie o framework, c'è il rischio che queste vengano dismesse o aggiornate a nuove versioni non compatibili senza preavviso. Questo potrebbe rompere la funzionalità del sito se non viene gestito correttamente.\n",
    "\n",
    "In sintesi, sebbene le CDN offrano numerosi vantaggi in termini di velocità e distribuzione delle risorse, è importante essere consapevoli dei potenziali rischi e adottare misure per mitigarli, come l'uso di attributi di sicurezza (es. `integrity`) e il monitoraggio delle prestazioni."
   ]
  },
  {
   "cell_type": "markdown",
   "metadata": {},
   "source": [
    "## Tag `<meta>`\n",
    "\n",
    "I tag HTML `<meta>` servono a fornire metadati che aiutano i browser e i motori di ricerca a comprendere e gestire il contenuto di una pagina web.\n",
    "\n",
    "Analizziamo i due tag specifici che abbiamo visto a lezione:\n",
    "\n",
    "```html\n",
    "<meta charset=\"UTF-8\">\n",
    "<meta charset=\"utf-8\">\n",
    "```\n",
    "Specifica la codifica dei caratteri usata nella pagina web. Assicura che i caratteri speciali e le lingue diverse siano visualizzati correttamente sul browser, prevenendo problemi di rendering come caratteri strani o simboli illeggibili. `UTF-8` è la codifica di caratteri ad oggi più utilizzata sul web perché compatibile con molte lingue e simboli diversi.\n",
    "\n",
    "```html\n",
    "<meta name=\"viewport\" content=\"width=device-width, initial-scale=1.0\">\n",
    "```\n",
    "Controlla il layout della pagina su dispositivi mobili. Migliora la visualizzazione e l'usabilità della pagina su dispositivi mobili e tablet, rendendo il sito responsive e adattabile a diverse dimensioni di schermo.\n",
    "\n",
    "> ATTENZIONE: È interpretato solo dai browser di dispositivi mobili!\n",
    "\n",
    "- `width=device-width`: Imposta la larghezza del viewport per corrispondere alla larghezza dello schermo del dispositivo.\n",
    "- `initial-scale=1.0`: Imposta il livello di zoom iniziale della pagina quando viene caricata per la prima volta. Un valore di `1.0` significa che lo zoom è impostato al 100%, ovvero che la pagina non è ingrandita o rimpicciolita."
   ]
  }
 ],
 "metadata": {
  "kernelspec": {
   "display_name": ".venv",
   "language": "python",
   "name": "python3"
  },
  "language_info": {
   "codemirror_mode": {
    "name": "ipython",
    "version": 3
   },
   "file_extension": ".py",
   "mimetype": "text/x-python",
   "name": "python",
   "nbconvert_exporter": "python",
   "pygments_lexer": "ipython3",
   "version": "3.11.2"
  }
 },
 "nbformat": 4,
 "nbformat_minor": 2
}
