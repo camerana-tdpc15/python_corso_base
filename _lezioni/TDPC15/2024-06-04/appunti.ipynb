{
 "cells": [
  {
   "cell_type": "markdown",
   "metadata": {},
   "source": [
    "## Installazione di un modulo con `pip` su Windows\n",
    "\n",
    "Prendiamo come esempio il modulo `Flask`.\n",
    "\n",
    "Apri il prompt dei comandi o la power shell.\n",
    "\n",
    "Se sei in un virtual environment o se la cartella con gli eseguibili di Python è presente variabile di sistema PATH:\n",
    "\n",
    "> ```cmd\n",
    "> > pip install Flask\n",
    "> ```\n",
    "\n",
    "Se vuoi usare il Python launcher:\n",
    "\n",
    "> ```cmd\n",
    "> > py -m pip install Flask\n",
    "> ```\n",
    "\n",
    "Se vuoi indicare il percorso assoluto all'eseguibile `pip.exe` (se per esempio la versione installata è la 3.10):\n",
    "\n",
    "> ```cmd\n",
    "> > C:\\\"Program Files\"\\Python310\\Scripts\\pip.exe install Flask\n",
    "> ```"
   ]
  },
  {
   "cell_type": "markdown",
   "metadata": {},
   "source": [
    "## Es. INF_PR_PY_WB_E06\n",
    "\n",
    "- Home (benvenuto)\n",
    "- Login (invio del form con credenziali di autenticazione)\n",
    "    - Form (POST - FormData)\n",
    "        - Campo user\n",
    "        - Campo pwd\n",
    "        - Bottone submit\n",
    "- Film"
   ]
  },
  {
   "cell_type": "markdown",
   "metadata": {},
   "source": [
    "## `<form method=\"post\"> ... </form>`\n",
    "\n",
    "Usando un `<form>` con un pulsante \"submit\", possiamo inviare i dati presenti nel form direttamente, in formato FormData.\n",
    "\n",
    "> ATTENZIONE: specificare l'attributo del form `method=\"post\"` per inviare i dati tramite il metodo POST.\n",
    "\n",
    "```html\n",
    "<form method=\"post\">\n",
    "    <!-- Qua i campi di input da inviare -->\n",
    "    <input type=\"text\" name=\"etichetta1\">\n",
    "    <input type=\"text\" name=\"etichetta2\">\n",
    "\n",
    "    <button type=\"submit\">Invia</button>\n",
    "</form>\n",
    "```"
   ]
  },
  {
   "cell_type": "markdown",
   "metadata": {},
   "source": [
    "> NOTA: In questo modo non abbiamo bisogno di JavaScript per inviare il form!!"
   ]
  },
  {
   "cell_type": "markdown",
   "metadata": {},
   "source": [
    "<form method=\"post\">"
   ]
  },
  {
   "cell_type": "markdown",
   "metadata": {},
   "source": [
    "## JavaScript - Fetch POST con `FormData` o JSON\n",
    "\n",
    "Se usiamo la funzione JavaScript `fetch()` con il metodo POST, possiamo procedere in due modi.\n",
    "\n",
    "Se i dati che vogliamo inviare al server arrivano da un `<form>` della pagina, possiamo usare il comodo formato `FormData`.\n",
    "\n",
    "Se vogliamo inviare invece dei dati contenuti in un oggetto JavaScript, possiamo invece convertirli (serrizlizzarli) in formato JSON."
   ]
  },
  {
   "cell_type": "markdown",
   "metadata": {},
   "source": [
    "### Uso di `FormData`\n",
    "\n",
    "HTML:\n",
    "\n",
    "```html\n",
    "<form id=\"myForm\">\n",
    "    <label for=\"username_input\">Nome:</label>\n",
    "    <input type=\"text\" id=\"username_input\" name=\"username\" required>\n",
    "    <br>\n",
    "    <label for=\"email_input\">Email:</label>\n",
    "    <input type=\"email\" id=\"email_input\" name=\"email\" required>\n",
    "    <br>\n",
    "    <button type=\"button\" onclick=\"submitForm()\">Invia</button>\n",
    "</form>\n",
    "```\n",
    "\n",
    "JAVASCRIPT:\n",
    "\n",
    "```javascript\n",
    "function submitForm() {\n",
    "    // Ottengo l'elemento <form> i cui dati voglio inviare\n",
    "    const formElement = document.getElementById('myForm');\n",
    "    // Creo un oggetto FormData passando l'elemento <form> alla classe FormData\n",
    "    const data = new FormData(formElement);\n",
    "\n",
    "    // Se voglio, posso anche aggiungere altri dati all'oggetto FormData\n",
    "    data.append('chiave_custom', 'valore_custom');\n",
    "\n",
    "    // https://api.example.com\n",
    "    fetch('/submit', {\n",
    "        method: 'POST',\n",
    "        body: data\n",
    "    })\n",
    "    .then(response => response.json())\n",
    "    .then(response_data => {\n",
    "        console.log('Risposta dal server:', response_data);\n",
    "    })\n",
    "    .catch(error => {\n",
    "        console.error('Errore durante l\\'invio dei dati:', error);\n",
    "    });\n",
    "}\n",
    "```"
   ]
  },
  {
   "cell_type": "markdown",
   "metadata": {},
   "source": [
    "### Uso di JSON\n",
    "\n",
    "JAVASCRIPT:\n",
    "\n",
    "```javascript\n",
    "// Creazione dell'oggetto contenente i dati da inviare\n",
    "const data = {\n",
    "    username: 'john_doe',\n",
    "    email: 'john@example.com'\n",
    "};\n",
    "\n",
    "let json_data = JSON.stringify(data)\n",
    "\n",
    "fetch('https://api.example.com/submit', {\n",
    "    method: 'POST',\n",
    "    headers: { \n",
    "        // Indico il MIME Type\n",
    "        'Content-Type': 'application/json'\n",
    "    },\n",
    "    // Conversione dell'oggetto in JSON\n",
    "    body: json_data\n",
    "})\n",
    ".then(response => response.json())\n",
    ".then(response_data => console.log(daresponse_datata));\n",
    "```"
   ]
  }
 ],
 "metadata": {
  "language_info": {
   "name": "python"
  }
 },
 "nbformat": 4,
 "nbformat_minor": 2
}
