{
 "cells": [
  {
   "cell_type": "markdown",
   "metadata": {},
   "source": [
    "## Es. INF_PR_PY_WB_E06\n",
    "\n",
    "- Home (benvenuto)\n",
    "- Login (invio del form con credenziali di autenticazione)\n",
    "    - Form (POST - FormData)\n",
    "        - Campo user\n",
    "        - Campo pwd\n",
    "        - Bottone submit\n",
    "- Film"
   ]
  },
  {
   "cell_type": "markdown",
   "metadata": {},
   "source": [
    "## JavaScript - Fetch POST con `FormData` o JSON\n",
    "\n",
    "Se usiamo la funzione JavaScript `fetch()` con il metodo POST, possiamo procedere in due modi.\n",
    "\n",
    "Se i dati che vogliamo inviare al server arrivano da un `<form>` della pagina, possiamo usare il comodo formato `FormData`.\n",
    "\n",
    "Se vogliamo inviare invece dei dati contenuti in un oggetto JavaScript, possiamo invece convertirli (serrizlizzarli) in formato JSON."
   ]
  },
  {
   "cell_type": "markdown",
   "metadata": {},
   "source": [
    "### Uso di `FormData`\n",
    "\n",
    "HTML:\n",
    "\n",
    "```html\n",
    "<form id=\"myForm\">\n",
    "    <label for=\"username_input\">Nome:</label>\n",
    "    <input type=\"text\" id=\"username_input\" name=\"username\" required>\n",
    "    <br>\n",
    "    <label for=\"email_input\">Email:</label>\n",
    "    <input type=\"email\" id=\"email_input\" name=\"email\" required>\n",
    "    <br>\n",
    "    <button type=\"button\" onclick=\"submitForm()\">Invia</button>\n",
    "</form>\n",
    "```\n",
    "\n",
    "JAVASCRIPT:\n",
    "\n",
    "```javascript\n",
    "function submitForm() {\n",
    "    // Ottengo l'elemento <form> i cui dati voglio inviare\n",
    "    const formElement = document.getElementById('myForm');\n",
    "    // Creo un oggetto FormData passando l'elemento <form> alla classe FormData\n",
    "    const data = new FormData(formElement);\n",
    "\n",
    "    // Se voglio, posso anche aggiungere altri dati all'oggetto FormData\n",
    "    formData.append('chiave_custom', 'valore_custom');\n",
    "\n",
    "    fetch('https://api.example.com/submit', {\n",
    "        method: 'POST',\n",
    "        body: data\n",
    "    })\n",
    "    .then(response => response.json())\n",
    "    .then(response_data => {\n",
    "        console.log('Risposta dal server:', response_data);\n",
    "    })\n",
    "    .catch(error => {\n",
    "        console.error('Errore durante l\\'invio dei dati:', error);\n",
    "    });\n",
    "}\n",
    "```"
   ]
  },
  {
   "cell_type": "markdown",
   "metadata": {},
   "source": [
    "### Uso di JSON\n",
    "\n",
    "JAVASCRIPT:\n",
    "\n",
    "```javascript\n",
    "// Creazione dell'oggetto contenente i dati da inviare\n",
    "const data = {\n",
    "    username: 'john_doe',\n",
    "    email: 'john@example.com'\n",
    "};\n",
    "\n",
    "fetch('https://api.example.com/submit', {\n",
    "    method: 'POST',\n",
    "    headers: {\n",
    "        'Content-Type': 'application/json'\n",
    "    },\n",
    "    // Conversione dell'oggetto in JSON\n",
    "    body: JSON.stringify(data)\n",
    "})\n",
    ".then(response => response.json())\n",
    ".then(response_data => console.log(daresponse_datata));\n",
    "```"
   ]
  }
 ],
 "metadata": {
  "language_info": {
   "name": "python"
  }
 },
 "nbformat": 4,
 "nbformat_minor": 2
}
