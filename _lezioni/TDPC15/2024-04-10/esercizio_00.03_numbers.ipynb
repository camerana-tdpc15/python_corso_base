{
 "cells": [
  {
   "cell_type": "markdown",
   "metadata": {},
   "source": [
    "# Esercizi introduttivi"
   ]
  },
  {
   "cell_type": "markdown",
   "metadata": {},
   "source": [
    "TEMI TRATTATI:\n",
    "\n",
    "- I tipi di variabile.\n",
    "- Gli operatori aritmetici di base.\n",
    "- La manipolazione di stringhe."
   ]
  },
  {
   "cell_type": "markdown",
   "metadata": {},
   "source": [
    "NOTE SULLO SVOLGIMENTO:\n",
    "- Puoi svolgere ed eseguire gli esercizi direttamente qua su questo notebook oppure su un normale file di script Python con estensione `.py`, eseguendolo nel terminale del sistema operativo con il comando `py mio_esercizio.py` (Windows) oppure `python3 mio_esercizio.py` (Linux o macOS)."
   ]
  },
  {
   "cell_type": "markdown",
   "metadata": {},
   "source": [
    "## Esercizio 1: Due numeri\n",
    "\n",
    "Scrivere un programma che memorizzi due numeri interi in due costanti definite nel codice, e poi ne visualizzi:\n",
    "\n",
    "- La somma.\n",
    "- La differenza.\n",
    "- Il prodotto.\n",
    "- Il valore medio.\n",
    "- La distanza (cioè il valore assoluto della differenza).\n",
    "- Il valore massimo (cioè il maggiore tra i due).\n",
    "- Il valore minimo (cioè il minore tra i due).\n",
    "\n",
    "**SUGGERIMENTO:** utilizzare le funzioni built-in `max()` e `min()`. Esse accettano una sequenza di valori separati da virgola in input e restituiscono rispettivamente il valore massimo e minimo della sequenza (ad esempio, `max(10, 5)` restituisce `10`)."
   ]
  },
  {
   "cell_type": "code",
   "execution_count": null,
   "metadata": {},
   "outputs": [],
   "source": [
    "# Scrivi qua il tuo codice\n"
   ]
  },
  {
   "cell_type": "markdown",
   "metadata": {},
   "source": [
    "## Esercizio 2: Cifre\n",
    "\n",
    "Scrivere un programma che memorizzi in una costante un numero intero positivo di cinque cifre (quindi compreso tra `10000` e `99999`), e visualizzi le singole cifre di cui è composto. Ad esempio, avendo il numero `16384`, il programma deve visualizzare, su righe separate:\n",
    "\n",
    "```text\n",
    "1\n",
    "6\n",
    "3\n",
    "8\n",
    "4\n",
    "```"
   ]
  },
  {
   "cell_type": "code",
   "execution_count": null,
   "metadata": {},
   "outputs": [],
   "source": [
    "# Scrivi qua il tuo codice\n"
   ]
  },
  {
   "cell_type": "markdown",
   "metadata": {},
   "source": [
    "## Esercizio 3: Caratteri\n",
    "\n",
    "Scrivere un programma che memorizzi una stringa in una variabile e, a partire da quella variabile, visualizzi i primi tre caratteri della stringa, seguiti da tre punti, ancora seguiti dagli ultimi tre caratteri.\n",
    "\n",
    "Ad esempio, se la stringa viene inizializzata al valore `'Mississippi'`, il programma deve visualizzare `'Mis...ppi'`."
   ]
  },
  {
   "cell_type": "code",
   "execution_count": 2,
   "metadata": {},
   "outputs": [
    {
     "name": "stdout",
     "output_type": "stream",
     "text": [
      "Mi...Mi\n",
      "Mi...Mi\n"
     ]
    }
   ],
   "source": [
    "# Scrivi qua il tuo codice\n",
    "parola = 'Mississippi'\n",
    "parte1 = parola[:3]\n",
    "parte2 = parola[-3:]\n",
    "\n",
    "parola_censurata1 = parte1 + '...' + parte2\n",
    "parola_censurata2 = f'{parte1}...{parte2}'\n",
    "\n",
    "print(parola_censurata1)\n",
    "print(parola_censurata2)"
   ]
  },
  {
   "cell_type": "markdown",
   "metadata": {},
   "source": [
    "NOTA: Lo start e lo stop possono anche essere degli indici non presenti nella sequenza:"
   ]
  },
  {
   "cell_type": "code",
   "execution_count": 15,
   "metadata": {},
   "outputs": [
    {
     "data": {
      "text/plain": [
       "'ippo'"
      ]
     },
     "execution_count": 15,
     "metadata": {},
     "output_type": "execute_result"
    }
   ],
   "source": [
    "'pippo'[1:100]"
   ]
  },
  {
   "cell_type": "code",
   "execution_count": 54,
   "metadata": {},
   "outputs": [
    {
     "data": {
      "text/plain": [
       "''"
      ]
     },
     "execution_count": 54,
     "metadata": {},
     "output_type": "execute_result"
    }
   ],
   "source": [
    "'pippo'[100:-100]"
   ]
  },
  {
   "cell_type": "markdown",
   "metadata": {},
   "source": [
    "Invece di usare un indice negativo come \"start\", avremmo potuto calcolare la lunghezza della parola per calcolare in che posizione è il terzultimo carattere...\n",
    "\n",
    "Ma sarebbe stato molto più scomodo! Per esempio per ottenere la `parte2` avremmo dovuto fare:"
   ]
  },
  {
   "cell_type": "code",
   "execution_count": 1,
   "metadata": {},
   "outputs": [
    {
     "name": "stdout",
     "output_type": "stream",
     "text": [
      "ppi\n"
     ]
    }
   ],
   "source": [
    "parola = 'Mississippi'\n",
    "\n",
    "parte2 = parola[len(parola) - 3:]\n",
    "print(parte2)"
   ]
  },
  {
   "cell_type": "markdown",
   "metadata": {},
   "source": [
    "Prova a rispondere alle seguenti domande:\n",
    "- Cosa succede se la stringa è lunga meno di 6 caratteri?\n",
    "- Cosa succede se la stringa è lunga meno di 3 caratteri?"
   ]
  },
  {
   "cell_type": "code",
   "execution_count": 50,
   "metadata": {},
   "outputs": [
    {
     "name": "stdout",
     "output_type": "stream",
     "text": [
      "Mip...ipi\n"
     ]
    }
   ],
   "source": [
    "parola = 'Mipi'\n",
    "parte1 = parola[:3]\n",
    "parte2 = parola[-3:]\n",
    "\n",
    "parola_censurata2 = f'{parte1}...{parte2}'\n",
    "print(parola_censurata2)"
   ]
  },
  {
   "cell_type": "code",
   "execution_count": 51,
   "metadata": {},
   "outputs": [
    {
     "name": "stdout",
     "output_type": "stream",
     "text": [
      "Mi...Mi\n",
      "Mi...Mi\n"
     ]
    }
   ],
   "source": [
    "# Scrivi qua il tuo codice\n",
    "parola = 'Mi'\n",
    "parte1 = parola[:3]\n",
    "parte2 = parola[-3:]\n",
    "\n",
    "parola_censurata1 = parte1 + '...' + parte2\n",
    "parola_censurata2 = f'{parte1}...{parte2}'\n",
    "\n",
    "print(parola_censurata1)\n",
    "print(parola_censurata2)"
   ]
  },
  {
   "cell_type": "markdown",
   "metadata": {},
   "source": [
    "## Esercizio 4: Numero telefonico\n",
    "\n",
    "Lo pseudocodice seguente descrive come trasformare una stringa contenente un numero telefonico a dieci cifre (come `'4155551212'`) in una stringa più facilmente leggibile, formattata secondo lo stile statunitense, come `'(415) 555–1212'`:\n",
    "\n",
    "1. Prendere la stringa costituita dai primi tre caratteri e circondarla con parentesi tonde (questo è il prefisso, detto \"area code\").\n",
    "2. Concatenare il prefisso ad uno spazio, poi alla stringa contenente i tre caratteri successivi, poi un trattino e infine alla stringa costituita dagli ultimi quattro caratteri.\n",
    "\n",
    "Tradurre questo pseudocodice in un programma Python che memorizzi un numero telefonico di 10 cifre in una stringa, per poi visualizzarlo nel formato appena descritto."
   ]
  },
  {
   "cell_type": "code",
   "execution_count": null,
   "metadata": {},
   "outputs": [],
   "source": [
    "num = '4628469093'\n",
    "\n",
    "# Oppure legge l'input dall'utente\n",
    "# num = input('Inserire un numero di telefono a 10 cifre: ')\n",
    "\n",
    "# Estrae il prefisso lo inserisce tra le parentesi\n",
    "prefisso = '(' + num[0:3] + ')'\n",
    "\n",
    "# Compone il numero seconodo il formato stabilito\n",
    "numero_formattato = prefisso + ' ' + num[3:6] + '-' + num[6:10]\n",
    "\n",
    "# Mostra il risultato\n",
    "print('Il numero formattato è:', numero_formattato)\n"
   ]
  },
  {
   "cell_type": "markdown",
   "metadata": {},
   "source": [
    "## Esercizio 5: Allineamento\n",
    "\n",
    "Formattare l’output dell’**Esercizio 1** in modo che descrizioni e numeri siano allineati verticalmente, come nel seguente esempio:\n",
    "\n",
    "```text\n",
    "Somma:           45\n",
    "Differenza:      -5\n",
    "Prodotto:       500\n",
    "Distanza:         5\n",
    "Valore massimo:  25\n",
    "Valore minimo:   20\n",
    "```"
   ]
  },
  {
   "cell_type": "markdown",
   "metadata": {},
   "source": [
    "#### Allineato a destra (sbandierato a sinistra)"
   ]
  },
  {
   "cell_type": "code",
   "execution_count": 12,
   "metadata": {},
   "outputs": [
    {
     "name": "stdout",
     "output_type": "stream",
     "text": [
      "Somma:              3075\n",
      "Differenza:         3129\n",
      "Prodotto:         -83754\n",
      "Media:           1537.50\n",
      "Distanza:           3129\n",
      "Massimo:            3102\n",
      "Minimo:              -27\n"
     ]
    }
   ],
   "source": [
    "# Scrivi qua il tuo codice\n",
    "\n",
    "a = 3102\n",
    "b = -27\n",
    "\n",
    "somma = a + b\n",
    "differenza = a - b\n",
    "prodotto = a * b\n",
    "media = somma / 2\n",
    "distanza = abs(differenza)\n",
    "massimo = max(a, b)\n",
    "minimo = min(a, b)\n",
    "\n",
    "\n",
    "print(f'Somma:      {somma:12d}')\n",
    "print(f'Differenza: {differenza:12d}')\n",
    "print(f'Prodotto:   {prodotto:12d}')\n",
    "print(f'Media:      {media:12.2f}')\n",
    "print(f'Distanza:   {distanza:12d}')\n",
    "print(f'Massimo:    {massimo:12d}')\n",
    "print(f'Minimo:     {minimo:12d}')\n"
   ]
  },
  {
   "cell_type": "markdown",
   "metadata": {},
   "source": [
    "#### Allineato a sinistra (sbandierato a destra)\n",
    "\n",
    "Senza il \"formtat code\" per gli spazi iniziali, si nota l'allineamento a sinistra e lo sbandieramento a destra:"
   ]
  },
  {
   "cell_type": "code",
   "execution_count": 52,
   "metadata": {},
   "outputs": [
    {
     "name": "stdout",
     "output_type": "stream",
     "text": [
      "Somma:      3075\n",
      "Differenza: 3129\n",
      "Prodotto:   -83754\n",
      "Distanza:   3129\n",
      "Massimo:    3102\n",
      "Minimo:     -27\n"
     ]
    }
   ],
   "source": [
    "print('Somma:     ', somma)\n",
    "print('Differenza:', differenza)\n",
    "print('Prodotto:  ', prodotto)\n",
    "print('Distanza:  ', distanza)\n",
    "print('Massimo:   ', massimo)\n",
    "print('Minimo:    ', minimo)\n"
   ]
  },
  {
   "cell_type": "markdown",
   "metadata": {},
   "source": [
    "## Esercizio 6: Emoji\n",
    "\n",
    "Secondo i dati raccolti dall'[Unicode Consortium](https://home.unicode.org/emoji/emoji-frequency/), l'organizzazione no-profit responsabile della digitalizzazione delle lingue scritte del mondo, le \"lacrime di gioia\" (😂) rappresentano oltre il 5% di tutte le emoji utilizzate (l’unico altro carattere che ci si avvicina è il ❤️). Nel 2021, le prime dieci emoji più utilizzate in tutto il mondo sono state: 😂 ❤️ 🤣 👍 😭 🙏 😘 🥰 😍 😊.\n",
    "\n",
    "Quando scrivi i messaggi, quali sono le tre emoji che tu usi più di frequente?\n",
    "\n",
    "Scrivere un programma che, per ciascuna delle tre emoji che usi più di frequente, mostri a schermo le seguenti informazioni:\n",
    "\n",
    "- la posizione in classifica (rank);\n",
    "- il codice Unicode;\n",
    "- il nome tecnico Unicode;\n",
    "- l’emoji stessa.\n",
    "\n",
    "Per trovare i codici Unicode corrispondenti a ciascuna emoji, puoi usare uno di questi siti:\n",
    "\n",
    "- [symbl.cc](https://symbl.cc/)\n",
    "- [amp-what.com](https://www.amp-what.com/)\n",
    "\n",
    "\n",
    "Formattare l’output in modo che le informazioni relative a ciascuna delle tre emoji siano raccolte su una riga, e i diversi campi siano allineati verticalmente."
   ]
  },
  {
   "cell_type": "code",
   "execution_count": null,
   "metadata": {},
   "outputs": [
    {
     "name": "stdout",
     "output_type": "stream",
     "text": [
      "Posizione: 4 - Numero: 1F44D - Nome: Thumbs Up Sign - Emoji: 👍\n",
      "Posizione: 28 - Numero: 1F642 - Nome: Slightly Smiling Face - Emoji: 🙂\n",
      "Posizione: 111 - Numero: 1F632 - Nome: Astonished Face - Emoji: 😲\n"
     ]
    }
   ],
   "source": [
    "# Ipotizziamo che le mie Emoji più frequenti siano le seguenti:\n",
    "# 👍 🙂 😲\n",
    "\n",
    "# Per conoscere il codice Unicode si può usare la funzione ord()\n",
    "# ord('👍') --> 128077\n",
    "\n",
    "# Nelle tabelle Unicode solitamente si usa il valore espresso in base 16\n",
    "# che si può ottenere dalla funzione hex()\n",
    "# hex(128077) --> '0x1f44d'\n",
    "# o direttamente: hex(ord('👍')) --> '0x1f44d'\n",
    "\n",
    "emoji1 = '👍'\n",
    "rank1 = 4 # from https://home.unicode.org/emoji/emoji-frequency/\n",
    "unicode1 = '1F44D' # from https://unicode-table.com/en/1F44D/\n",
    "name1 = 'Thumbs Up Sign'\n",
    "\n",
    "emoji2 = '🙂'\n",
    "rank2 = 28 # from https://home.unicode.org/emoji/emoji-frequency/\n",
    "unicode2 = '1F642' # from https://unicode-table.com/en/1F642/\n",
    "name2 = 'Slightly Smiling Face'\n",
    "\n",
    "emoji3 = chr(0x1F632)\n",
    "rank3 = 111 # from https://home.unicode.org/emoji/emoji-frequency/\n",
    "unicode3 = '1F632' # from https://unicode-table.com/en/1F632/\n",
    "name3 = 'Astonished Face'\n",
    "\n",
    "print(f'Posizione: {rank1} - Numero: {unicode1} - Nome: {name1} - Emoji: {emoji1}')\n",
    "\n",
    "print(f'Posizione: {rank2} - Numero: {unicode2} - Nome: {name2} - Emoji: {emoji2}')\n",
    "\n",
    "print(f'Posizione: {rank3} - Numero: {unicode3} - Nome: {name3} - Emoji: {emoji3}')\n",
    "\n",
    "# Nota: se leggete bene l'articolo citato nel testo, verso il fondo fa\n",
    "# riferimento a questo documento:\n",
    "# https://docs.google.com/spreadsheets/d/1Zs13WJYdZL1pNZP0dCIXkWau_tZOjK3mmJz0KNq4I30/edit#gid=196891844\n",
    "# Questo foglio di calcolo contiene tutte le informazioni che ci servono!\n",
    "# Leggere fino in fondo conviene sempre!"
   ]
  },
  {
   "cell_type": "code",
   "execution_count": 42,
   "metadata": {},
   "outputs": [
    {
     "name": "stdout",
     "output_type": "stream",
     "text": [
      "Posizione: 4 - Unicode: 1f600 - Nome: grinning face - Emoji: 😀\n",
      "Posizione: 5 - Unicode: 1f61c - Nome: face stuck-out tongue and winking eye - Emoji: 😜\n"
     ]
    }
   ],
   "source": [
    "# Scrivi qua il tuo codice\n",
    "\n",
    "report = {\n",
    "    1: {\n",
    "        'emoji': '😀',\n",
    "        'rank': 4,\n",
    "        'unicode': '1f600',\n",
    "        'name': 'grinning face'\n",
    "    },\n",
    "    2: {\n",
    "        'emoji': '😜',\n",
    "        'rank': 5,\n",
    "        'unicode': '1f61c',\n",
    "        'name': 'face stuck-out tongue and winking eye'\n",
    "    },\n",
    "}\n",
    "\n",
    "for key in report: \n",
    "    emo_dict = report[key] \n",
    "    print(f'Posizione: {emo_dict[\"rank\"]} - '\n",
    "          f'Unicode: {emo_dict[\"unicode\"]} - '\n",
    "          f'Nome: {emo_dict[\"name\"]} - '\n",
    "          f'Emoji: {emo_dict[\"emoji\"]}'\n",
    "    )\n"
   ]
  },
  {
   "cell_type": "code",
   "execution_count": 37,
   "metadata": {},
   "outputs": [
    {
     "data": {
      "text/plain": [
       "'😀'"
      ]
     },
     "execution_count": 37,
     "metadata": {},
     "output_type": "execute_result"
    }
   ],
   "source": [
    "pippo = 0x1f600\n",
    "chr(pippo)"
   ]
  },
  {
   "cell_type": "code",
   "execution_count": 32,
   "metadata": {},
   "outputs": [
    {
     "data": {
      "text/plain": [
       "128512"
      ]
     },
     "execution_count": 32,
     "metadata": {},
     "output_type": "execute_result"
    }
   ],
   "source": [
    "pluto = '😀'\n",
    "ord(pluto)"
   ]
  },
  {
   "cell_type": "code",
   "execution_count": 36,
   "metadata": {},
   "outputs": [
    {
     "data": {
      "text/plain": [
       "128512"
      ]
     },
     "execution_count": 36,
     "metadata": {},
     "output_type": "execute_result"
    }
   ],
   "source": [
    "# 😀\n",
    "\n",
    "int(0x1f600)\n"
   ]
  },
  {
   "cell_type": "code",
   "execution_count": 35,
   "metadata": {},
   "outputs": [
    {
     "data": {
      "text/plain": [
       "'0x1f600'"
      ]
     },
     "execution_count": 35,
     "metadata": {},
     "output_type": "execute_result"
    }
   ],
   "source": [
    "# 😀\n",
    "\n",
    "hex(128512)"
   ]
  },
  {
   "cell_type": "code",
   "execution_count": 41,
   "metadata": {},
   "outputs": [
    {
     "name": "stdout",
     "output_type": "stream",
     "text": [
      "😀\n",
      "😀\n"
     ]
    }
   ],
   "source": [
    "print(chr(0x1f600))  # in esadecimale\n",
    "print(chr(128512))   # in decimale (HTML)"
   ]
  },
  {
   "cell_type": "markdown",
   "metadata": {},
   "source": [
    "## Esercizio 7: Come matricole\n",
    "\n",
    "La matricola degli studenti di una scuola è composta da due parti: una lettera e una sequenza di numeri separati tra loro da un trattino (`-`). Le lettera indica la sede della scuola mentre la parte numerica è un ID progressivo univoco, indipendente dalla sede. Ad esempio:\n",
    "\n",
    "```text\n",
    "M-600456\n",
    "P-403848\n",
    "```\n",
    "\n",
    "Scrivere un programma che, a partire da due codici di matricola, li mostri a schermo in ordine crescente in base alla sola parte numerica.\n",
    "\n",
    "Suggerimento: utilizzare le funzioni predefinite del linguaggio Python."
   ]
  },
  {
   "cell_type": "code",
   "execution_count": 2,
   "metadata": {},
   "outputs": [
    {
     "name": "stdout",
     "output_type": "stream",
     "text": [
      "S301888\n",
      "S800123\n"
     ]
    }
   ],
   "source": [
    "matricola2 = 'M-600456'\n",
    "matricola1 = 'P-403848'\n",
    "\n",
    "# Scrivi qua il tuo codice\n"
   ]
  }
 ],
 "metadata": {
  "kernelspec": {
   "display_name": ".venv",
   "language": "python",
   "name": "python3"
  },
  "language_info": {
   "codemirror_mode": {
    "name": "ipython",
    "version": 3
   },
   "file_extension": ".py",
   "mimetype": "text/x-python",
   "name": "python",
   "nbconvert_exporter": "python",
   "pygments_lexer": "ipython3",
   "version": "3.11.2"
  }
 },
 "nbformat": 4,
 "nbformat_minor": 2
}
