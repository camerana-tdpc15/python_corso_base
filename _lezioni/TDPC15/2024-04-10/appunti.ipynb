{
 "cells": [
  {
   "cell_type": "markdown",
   "metadata": {},
   "source": [
    "## Slice"
   ]
  },
  {
   "cell_type": "markdown",
   "metadata": {},
   "source": [
    "ATTENZIONE:\n",
    "\n",
    "Lo start e lo stop possono anche essere degli indici non presenti nella sequenza e questo non solleverà alcun errore."
   ]
  },
  {
   "cell_type": "code",
   "execution_count": 4,
   "metadata": {},
   "outputs": [
    {
     "data": {
      "text/plain": [
       "'ippo'"
      ]
     },
     "execution_count": 4,
     "metadata": {},
     "output_type": "execute_result"
    }
   ],
   "source": [
    "'pippo'[1:100]"
   ]
  },
  {
   "cell_type": "code",
   "execution_count": 8,
   "metadata": {},
   "outputs": [
    {
     "data": {
      "text/plain": [
       "''"
      ]
     },
     "execution_count": 8,
     "metadata": {},
     "output_type": "execute_result"
    }
   ],
   "source": [
    "'pippo'[:-100]"
   ]
  },
  {
   "cell_type": "code",
   "execution_count": 5,
   "metadata": {},
   "outputs": [
    {
     "data": {
      "text/plain": [
       "''"
      ]
     },
     "execution_count": 5,
     "metadata": {},
     "output_type": "execute_result"
    }
   ],
   "source": [
    "'pippo'[100:]"
   ]
  },
  {
   "cell_type": "markdown",
   "metadata": {},
   "source": [
    "## Format codes\n",
    "\n",
    "> PER APPROFONDIRE: [\"Format String Syntax\" sulla documentazione ufficiale](https://docs.python.org/3/library/string.html#format-string-syntax).\n"
   ]
  },
  {
   "cell_type": "markdown",
   "metadata": {},
   "source": [
    "Vedi: [Notebook A_string_reference.ipynb - Sezione \"Altre sintassi interessanti\"](../../../A_string_reference.ipynb)"
   ]
  },
  {
   "cell_type": "code",
   "execution_count": 20,
   "metadata": {},
   "outputs": [
    {
     "name": "stdout",
     "output_type": "stream",
     "text": [
      "56789213.46\n",
      "56,789,213.46\n",
      "        56789213.456\n"
     ]
    }
   ],
   "source": [
    "my_number = 56789213.456\n",
    "\n",
    "print(f'{my_number:.2f}')\n",
    "print(f'{my_number:,.2f}')\n",
    "print(f'{my_number:20.3f}')\n"
   ]
  },
  {
   "cell_type": "markdown",
   "metadata": {},
   "source": [
    "Uso pratico del codice per aggiungere spazi iniziali che consentono l'allineamoento a destra."
   ]
  },
  {
   "cell_type": "code",
   "execution_count": 12,
   "metadata": {},
   "outputs": [
    {
     "name": "stdout",
     "output_type": "stream",
     "text": [
      " 1   1    1\n",
      " 2   4    8\n",
      " 3   9   27\n",
      " 4  16   64\n",
      " 5  25  125\n",
      " 6  36  216\n",
      " 7  49  343\n",
      " 8  64  512\n",
      " 9  81  729\n",
      "10 100 1000\n"
     ]
    }
   ],
   "source": [
    "for x in range(1, 11):\n",
    "    print(f'{x:2d} {x*x:3d} { x*x*x:4d}')"
   ]
  },
  {
   "cell_type": "markdown",
   "metadata": {},
   "source": [
    "## Codifica dei caratteri"
   ]
  },
  {
   "cell_type": "markdown",
   "metadata": {},
   "source": [
    "Sito di riferimento per la codifica dei caratteri:\n",
    "\n",
    "https://www.amp-what.com/"
   ]
  },
  {
   "cell_type": "markdown",
   "metadata": {},
   "source": [
    "#### Stampare il carattere a partire dal suo codice"
   ]
  },
  {
   "cell_type": "code",
   "execution_count": null,
   "metadata": {},
   "outputs": [
    {
     "data": {
      "text/plain": [
       "'😀'"
      ]
     },
     "metadata": {},
     "output_type": "display_data"
    }
   ],
   "source": [
    "pippo = 0x1f600\n",
    "chr(pippo)"
   ]
  },
  {
   "cell_type": "markdown",
   "metadata": {},
   "source": [
    "#### Stampare il codice a partire dal carattere"
   ]
  },
  {
   "cell_type": "code",
   "execution_count": null,
   "metadata": {},
   "outputs": [
    {
     "data": {
      "text/plain": [
       "128512"
      ]
     },
     "metadata": {},
     "output_type": "display_data"
    }
   ],
   "source": [
    "pluto = '😀'\n",
    "ord(pluto)"
   ]
  },
  {
   "cell_type": "markdown",
   "metadata": {},
   "source": [
    "#### Conversione tra valore decimale (base 10) e esadecimale (base 16)"
   ]
  },
  {
   "cell_type": "code",
   "execution_count": null,
   "metadata": {},
   "outputs": [
    {
     "data": {
      "text/plain": [
       "128512"
      ]
     },
     "metadata": {},
     "output_type": "display_data"
    }
   ],
   "source": [
    "# 😀\n",
    "\n",
    "# Ottenere valore decimale da uno esadecimale\n",
    "int(0x1f600)\n"
   ]
  },
  {
   "cell_type": "code",
   "execution_count": null,
   "metadata": {},
   "outputs": [
    {
     "data": {
      "text/plain": [
       "'0x1f600'"
      ]
     },
     "metadata": {},
     "output_type": "display_data"
    }
   ],
   "source": [
    "# 😀\n",
    "\n",
    "# Ottenere valore esadecimale da uno decimale\n",
    "hex(128512)"
   ]
  },
  {
   "cell_type": "markdown",
   "metadata": {},
   "source": [
    "#### Stampa del carattere corrispondente a un codice"
   ]
  },
  {
   "cell_type": "code",
   "execution_count": null,
   "metadata": {},
   "outputs": [
    {
     "name": "stdout",
     "output_type": "stream",
     "text": [
      "😀\n",
      "😀\n"
     ]
    }
   ],
   "source": [
    "print(chr(0x1f600))  # in esadecimale\n",
    "print(chr(128512))   # in decimale (HTML)"
   ]
  },
  {
   "cell_type": "markdown",
   "metadata": {},
   "source": [
    "## Caratteristiche importanti dei diversi tipi di dato\n",
    "\n",
    "Vedi [Notebook G_type_commons.ipynb - Sezione \"Iterabili: sequenze e \"contenitori\" in genere\"](../../../G_type_commons.ipynb)\n"
   ]
  },
  {
   "cell_type": "markdown",
   "metadata": {},
   "source": [
    "| Tipo        | Valore vuoto     | Esempio                             | Mutabile? | Indexed?  | Ordinato?| Duplicati? |\n",
    "|-------------|------------------|-------------------------------------|:---------:|:---------:|:--------:|:----------:|\n",
    "| `str`       | `''` o `\"\"`      | `'come stai?'`                      | ❌        | ✅        | ✅        | ✅         |\n",
    "| `bytes`     | `b''`            | `b\"Buongiorno\"`                     | ❌        | ✅        | ✅        | ✅         |\n",
    "| `tuple`     | `()`             | `(5, 'x', 10, 'x')`                 | ❌        | ✅        | ✅        | ✅         |\n",
    "| `list`      | `[]`             | `[5, 'x', 10, 'x']`                 | ✅        | ✅        | ✅        | ✅         |\n",
    "| `bytearray` | `bytearray(b'')` | `bytearray(b'Buongiorno')`          | ✅        | ✅        | ✅        | ✅         |\n",
    "| `dict`      | `{}`             | `{'colore': 'rosso', 'anno': 1994}` | ✅        | ✅        | ❌        | ❌         |\n",
    "| `set`       | `set()`          | `{5, 'x', 10}`                      | ✅        | ❌        | ❌        | ❌         |"
   ]
  },
  {
   "cell_type": "markdown",
   "metadata": {},
   "source": [
    "### Metodo `dict.get()`\n",
    "\n",
    "Un'altra modalità per accedere ai valori in un dizionario è l'uso del metodo `.get()`. Questo metodo accetta come primo argomento la chiave e come secondo argomento opzionale un valore di default che viene restituito nel caso in cui la chiave non sia presente nel dizionario.\n",
    "\n",
    "L'uso di `.get()` può prevenire l'eccezione `KeyError` in caso di chiavi mancanti.\n",
    "\n",
    "Esempio:"
   ]
  },
  {
   "cell_type": "code",
   "execution_count": null,
   "metadata": {},
   "outputs": [
    {
     "name": "stdout",
     "output_type": "stream",
     "text": [
      "Ingegnere\n",
      "Sconosciuto\n"
     ]
    }
   ],
   "source": [
    "dizionario = {\n",
    "    'nome': 'Alice',\n",
    "    'età': 30,\n",
    "    'professione': 'Ingegnere'\n",
    "}\n",
    "\n",
    "professione = dizionario.get('professione', 'Sconosciuto')\n",
    "città = dizionario.get('città', 'Sconosciuto')\n",
    "\n",
    "print(professione)\n",
    "print(città)"
   ]
  },
  {
   "cell_type": "markdown",
   "metadata": {},
   "source": [
    "## Oggetto `date`"
   ]
  },
  {
   "cell_type": "code",
   "execution_count": null,
   "metadata": {},
   "outputs": [
    {
     "name": "stdout",
     "output_type": "stream",
     "text": [
      "10\n",
      "4\n",
      "2024\n"
     ]
    }
   ],
   "source": [
    "from datetime import date\n",
    "\n",
    "my_date = date(2024, 4, 10)\n",
    "# my_date = date.fromisoformat('2024-04-10')\n",
    "# my_date = date.today()\n",
    "\n",
    "\n",
    "print(my_date.day)\n",
    "print(my_date.month)\n",
    "print(my_date.year)\n"
   ]
  },
  {
   "cell_type": "markdown",
   "metadata": {},
   "source": [
    "#### Formato ISO per la data\n",
    "\n",
    "`YYYY-MM-DD` ovvero ANNO-MESE-GIORNO."
   ]
  },
  {
   "cell_type": "markdown",
   "metadata": {},
   "source": [
    "## Data structures\n",
    "\n",
    "Sul [Notebook G_type_commons.ipynb - Sezione \"Accedere ai valori dentro una *data structure*\"](../../../G_type_commons.ipynb) trovi una struttura dati complessa.\n",
    "\n",
    "\n",
    "**ESERCITATI:**\n",
    "\n",
    "1. Scegli un valore nella struttura dati presente nel notebook e prova a raggiungerlo scrivendo un'espressione.\n",
    "\n",
    "2. Scegli una delle seguenti espressioni e prova a capire a quale valore accede, osservando la struttura dati presente nel notebook."
   ]
  },
  {
   "cell_type": "markdown",
   "metadata": {},
   "source": [
    "```python\n",
    "data[0]['reality'][0][0]\n",
    "data[1][234]['Pupa']['1']\n",
    "data[2]['TEAM2'][0]['nome']\n",
    "data[0]['fiction'][1][2][0]['chimera']\n",
    "data[2]['TEAM2'][0]['nome'][1]\n",
    "data[1][234]['Terry'][2]\n",
    "```"
   ]
  },
  {
   "cell_type": "markdown",
   "metadata": {},
   "source": [
    "## Iterazione, fltraggio e mappatura\n",
    "Vedi: [Notebook G_type_commons.ipynb - Sezione \"Accedere ai valori dentro una *data structure*\"](../../../G_type_commons.ipynb)"
   ]
  },
  {
   "cell_type": "markdown",
   "metadata": {},
   "source": [
    "Su una struttura come questa possiamo edeguire dei cicli per leggere, filtrare e mappare i dati in essa contenuti.\n",
    "\n",
    "Una tipica struttura dati potrebbe essere la seguente:"
   ]
  },
  {
   "cell_type": "code",
   "execution_count": null,
   "metadata": {},
   "outputs": [],
   "source": [
    "library = [\n",
    "    {\n",
    "        'title': 'Nineteen Eighty-Four',\n",
    "        'author': 'George Orwell',\n",
    "        'genre': ['fiction', 'british'],\n",
    "        'isbn': 9780155658110,\n",
    "        'publicationDate': 1949,\n",
    "        'borrowed': True,\n",
    "        'borrowedStart': '2023-05-01',\n",
    "        'borrowedEnd': '2023-05-15'\n",
    "    },\n",
    "    {\n",
    "        'title': 'To Kill a Mockingbird',\n",
    "        'author': 'Harper Lee',\n",
    "        'genre': ['fiction', 'american'],\n",
    "        'isbn': 9789023493617,\n",
    "        'publicationDate': 1960,\n",
    "        'borrowed': False,\n",
    "        'borrowedStart': None,\n",
    "        'borrowedEnd': None\n",
    "    },\n",
    "    {\n",
    "        'title': 'Gödel, Escher, Bach',\n",
    "        'author': 'Douglas Hofstadter',\n",
    "        'genre': ['pop science', 'american', 'pulitzer'],\n",
    "        'isbn': 9780394745022,\n",
    "        'publicationDate': 1979,\n",
    "        'borrowed': True,\n",
    "        'borrowedStart': '2023-04-01',\n",
    "        'borrowedEnd': '2023-04-15'\n",
    "    }\n",
    "]"
   ]
  },
  {
   "cell_type": "markdown",
   "metadata": {},
   "source": [
    "### Iterazione"
   ]
  },
  {
   "cell_type": "code",
   "execution_count": null,
   "metadata": {},
   "outputs": [
    {
     "name": "stdout",
     "output_type": "stream",
     "text": [
      "Libri presi in prestito:\n",
      "  * Nineteen Eighty-Four\n",
      "  * Gödel, Escher, Bach\n"
     ]
    }
   ],
   "source": [
    "print('Libri presi in prestito:')\n",
    "for book in library:\n",
    "    if book['borrowed']:  # <- filtro\n",
    "\n",
    "        # PRESENTAZIONE DEI DATI ALL'UTENTE\n",
    "        print('  *', book['title'])"
   ]
  },
  {
   "cell_type": "markdown",
   "metadata": {},
   "source": [
    "### Filtraggio"
   ]
  },
  {
   "cell_type": "code",
   "execution_count": null,
   "metadata": {},
   "outputs": [
    {
     "name": "stdout",
     "output_type": "stream",
     "text": [
      "Libri in prestito scaduto (SOLLECITARE LA RESTITUZIONE!):\n",
      "  * Gödel, Escher, Bach\n"
     ]
    }
   ],
   "source": [
    "from datetime import date\n",
    "\n",
    "today = date(2023, 5, 10)  # <- data fittizia per testare il filtro\n",
    "# today = date.today()\n",
    "\n",
    "# PRESENTAZIONE DEI DATI ALL'UTENTE\n",
    "print(\"Libri in prestito scaduto (SOLLECITARE LA RESTITUZIONE!):\")\n",
    "for book in library:\n",
    "    if book['borrowed']:  # <- filtro 1\n",
    "        if date.fromisoformat(book['borrowedEnd']) < today:  # <- filtro 2\n",
    "            print('  *', book['title'])"
   ]
  },
  {
   "cell_type": "markdown",
   "metadata": {},
   "source": [
    "### Mappatura"
   ]
  },
  {
   "cell_type": "markdown",
   "metadata": {},
   "source": [
    "Immaginiamo che la nostra bibblioteca debba inviare le notifiche di sollecito per la restituzione dei libri ogni sabato. \n",
    "\n",
    "Ogni volta vi seve un elenco dello stato dei libri, rispettivamente al loro stato di prestito."
   ]
  },
  {
   "cell_type": "code",
   "execution_count": null,
   "metadata": {},
   "outputs": [
    {
     "name": "stdout",
     "output_type": "stream",
     "text": [
      "Libri in prestito - Regolari:\n",
      "  * Nineteen Eighty-Four\n",
      "Libri in prestito - Inviare sollecito restituzione:\n",
      "  * Gödel, Escher, Bach\n"
     ]
    }
   ],
   "source": [
    "from datetime import date\n",
    "\n",
    "today = date(2023, 5, 10)  # <- data fittizia per testare il filtro\n",
    "# today = date.today()\n",
    "\n",
    "report_prestiti = {\n",
    "    'regolari': [],\n",
    "    'scaduti': []\n",
    "}\n",
    "\n",
    "for book in library:\n",
    "    if book['borrowed']:\n",
    "        if date.fromisoformat(book['borrowedEnd']) < today:\n",
    "            report_prestiti['scaduti'].append(book)\n",
    "        else:\n",
    "            report_prestiti['regolari'].append(book)\n",
    "\n",
    "\n",
    "# PRESENTAZIONE DEI DATI ALL'UTENTE\n",
    "print('Libri in prestito - Regolari:')\n",
    "for book in report_prestiti['regolari']:\n",
    "    print('  *', book['title'])\n",
    "\n",
    "print(\"Libri in prestito - Inviare sollecito restituzione:\")\n",
    "for book in report_prestiti['scaduti']:\n",
    "    print('  *', book['title'])\n"
   ]
  }
 ],
 "metadata": {
  "kernelspec": {
   "display_name": ".venv",
   "language": "python",
   "name": "python3"
  },
  "language_info": {
   "codemirror_mode": {
    "name": "ipython",
    "version": 3
   },
   "file_extension": ".py",
   "mimetype": "text/x-python",
   "name": "python",
   "nbconvert_exporter": "python",
   "pygments_lexer": "ipython3",
   "version": "3.10.1"
  }
 },
 "nbformat": 4,
 "nbformat_minor": 2
}
