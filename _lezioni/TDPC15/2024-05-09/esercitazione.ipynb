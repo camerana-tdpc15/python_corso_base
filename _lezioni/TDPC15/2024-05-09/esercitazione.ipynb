{
 "cells": [
  {
   "cell_type": "markdown",
   "metadata": {},
   "source": [
    "# Esercizio INF_PR_PY_WB_E03"
   ]
  },
  {
   "cell_type": "markdown",
   "metadata": {},
   "source": [
    "Creiamo una struttura con i seguenti file e cartelle:\n",
    "\n",
    "```text\n",
    "..\n",
    "│\n",
    "└── esercitazione/\n",
    "    │\n",
    "    ├── app.py\n",
    "    │\n",
    "    └── templates/\n",
    "        │\n",
    "        └── index.html\n",
    "        │\n",
    "        └── esercizio1.html\n",
    "```"
   ]
  },
  {
   "cell_type": "markdown",
   "metadata": {},
   "source": [
    "## Importazioni\n",
    "\n",
    "`/app.py`:\n",
    "\n",
    "```python\n",
    "from flask import Flask, request, render_template\n",
    "\n",
    "```"
   ]
  },
  {
   "cell_type": "markdown",
   "metadata": {},
   "source": [
    "## Pagina Home (index)\n",
    "\n",
    "`/app.py`:\n",
    "\n",
    "```python\n",
    "@app.route('/')\n",
    "def index():\n",
    "    esercizi_list = [\n",
    "        ('Esercizio 1', '/range_numeri'),\n",
    "        ('Esercizio 2', '/...'),\n",
    "        ...\n",
    "    ]\n",
    "    return render_template('index.html', esercizi=esercizi_list)\n",
    "```\n",
    "\n",
    "1. Creiamo una struttura dati per contenere i vari esercizi.\n",
    "    - Usiamo una lista di tuple per creare un elenco di link: `(testo_link, url_link)`.\n",
    "2. Con la funzione `render_template` renderizziamo il template `index.html` passando una variabile `esercizi`."
   ]
  },
  {
   "cell_type": "markdown",
   "metadata": {},
   "source": [
    "Ora scriviamo una bozza del file `/templates/index.html`.\n",
    "\n",
    "Per adesso scriviamo una struttura HTML minimale per concentrarci solo sulla sintassi Jinja:\n",
    "\n",
    "```html\n",
    "<ul>\n",
    "    {% for descrizione, path in esercizi %}\n",
    "    <li><a href=\"{{ path }}\">{{ descrizione }}</a></li>\n",
    "    {% endfor %}\n",
    "</ul>\n",
    "```\n",
    "\n",
    "Uso la combinazione di tag `<ul>` e `<li>` per creare l'elenco puntato.\n",
    "1. Uso un ciclo `for` in cui assegno per decomposizione i valori delle tuple contenute nella lista `esercizi`. \n",
    "2. All'interno del ciclo `for`, creo un tag `<li>` che contiene a sua volta un link dinamico usando il tag `<a>`:\n",
    "    - Per l'attributo `href`, useremo il `path`.\n",
    "    - Per il testo del link, useremo la `descrizione`\n",
    "\n",
    "> *ATTENZIONE:* I file di template, per impostazione predefinita, devono essere salvati nella cartella `/templates`."
   ]
  },
  {
   "cell_type": "markdown",
   "metadata": {},
   "source": [
    "## Pagina Esercizio 1\n",
    "\n",
    "```python\n",
    "@app.route('/range_numeri')\n",
    "def esercizio_range():\n",
    "\n",
    "    start = int(request.args.get('start', default=0))\n",
    "    stop = int(request.args.get('stop', default=10))\n",
    "\n",
    "    numeri = range(start, stop)\n",
    " \n",
    "    return render_template('esercizio1.html', inizio=start, fine=stop, numeri=numeri)\n",
    "```\n",
    "\n",
    "1. Cerchiamo di ottenere eventuali valori di `start` e `stop` presenti nell'URL della richiesta GET.\n",
    "    - Impostiamo un valore di default perché altrimenti, se la chiave non è presente verrebbe restituito `None`.\n",
    "    - Convertiamo in integer il valore letto.\n",
    "        > ATTENZIONE - DA FARE: Bisognerebbe controllare se il valore è convertibile in `int` prima di convertirlo.\n",
    "2. Creo un `range` usando i valori di `start` e `stop` precedentemente ottenuti.\n",
    "3. Con la funzione `render_template` renderizziamo il template `esercizio1.html` passando le variabili `inizio`, `fine` e `numeri`."
   ]
  },
  {
   "cell_type": "markdown",
   "metadata": {},
   "source": [
    "Ora scriviamo una bozza del file `/templates/esercizio1.html`.\n",
    "\n",
    "Per adesso scriviamo una struttura HTML minimale per concentrarci solo sulla sintassi Jinja:\n",
    "\n",
    "```html\n",
    "<p>Da: {{ inizio }}</p>\n",
    "<p>A: {{ fine }}</p>\n",
    "<ul>\n",
    "    {% for numero in numeri %}\n",
    "    <li>{{ numero }}</li>\n",
    "    {% endfor %}\n",
    "</ul>\n",
    "```\n",
    "\n",
    "1. Uso dei tag `p` e vi inserisco i valori `inizio` e `fine` per mostrare all'utente quali numeri sono stati usati per generare l'elenco puntato.\n",
    "Uso la combinazione di tag `<ul>` e `<li>` per creare l'elenco puntato.\n",
    "2. Uso un ciclo `for` sui valori restituiti dal range `numeri`.\n",
    "3. All'interno del ciclo `for`, creo un tag `<li>` il cui testo è il `numero`. "
   ]
  }
 ],
 "metadata": {
  "language_info": {
   "name": "python"
  }
 },
 "nbformat": 4,
 "nbformat_minor": 2
}
