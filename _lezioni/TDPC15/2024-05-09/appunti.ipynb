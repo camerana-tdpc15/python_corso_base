{
 "cells": [
  {
   "cell_type": "markdown",
   "metadata": {},
   "source": [
    "## HTTP request methods\n",
    "\n",
    "Come detto, il protocollo HTTP prevede una serie di [messaggi di richiesta](https://it.wikipedia.org/wiki/Hypertext_Transfer_Protocol#Messaggio_di_richiesta) che il client può inviare al server. In particolare i più noti sono\n",
    "\n",
    "- GET\n",
    "- POST\n",
    "- PUT\n",
    "- DELETE\n",
    "\n",
    "\n",
    "**PER APPROFINDIRE:** https://developer.mozilla.org/en-US/docs/Web/HTTP/Methods"
   ]
  },
  {
   "cell_type": "markdown",
   "metadata": {},
   "source": [
    "## Request codes\n",
    "\n",
    "Il significato primario dei codici di risposta è determinato dalla prima cifra, secondo questo schema:\n",
    "\n",
    "- `1xx`: *information* - La richiesta è stata ricevuta, proceda chi deve procedere, attenda chi deve attendere.\n",
    "- `2xx`: *success* - La richiesta è stata ricevuta con successo, compresa ed accettata.\n",
    "- `3xx`: *redirect* - Il client deve eseguire ulteriori azioni per completare la richiesta.\n",
    "- `4xx`: *client error* - La richiesta contiene una sintassi errata o non può essere soddisfatta.\n",
    "- `5xx`: *server error* - Il server non è riuscito a soddisfare una richiesta apparentemente valida.\n",
    "\n",
    "\n",
    "In generale vale questa regola:\n",
    "\n",
    "- `1xx`, `2xx`, `3xx` &rarr; NESSUN PROBLEMA\n",
    "- `4xx`, `5xx` &rarr; C'È QUALCHE PROBLEMA"
   ]
  },
  {
   "cell_type": "markdown",
   "metadata": {},
   "source": [
    "## Headers\n",
    "\n",
    "Sia la richiesta sia la risposta oltre che a un \"contenuto\" vengono accompagnati anche da un cosiddetto _**header**_, ovvero una \"intestazione\".\n",
    "\n",
    "In parole povere un [header HTTP](https://en.wikipedia.org/wiki/List_of_HTTP_header_fields) è una sorta di bolla di accompagnamento del messaggio, che contiene dei dati utili ai fini della corretta comunicazione tra client e server sotto forma di coppie *campo* (chiave) e *valore*.\n",
    "\n",
    "Più precisamente, *campi* dell'header HTTP sono un elenco di parole chiave e valori sotto forma di stringhe, le quali sono inviate e ricevute dal client e dal server ad ogni richiesta e risposta HTTP. Queste intestazioni sono solitamente invisibili all'utente e vengono elaborate e loggate solo dalle rispettive applicazioni del server e del client. Definiscono il modo in cui la connessione e le informazioni inviate/ricevute attraverso essa devono essere interpretate e gestite."
   ]
  }
 ],
 "metadata": {
  "language_info": {
   "name": "python"
  }
 },
 "nbformat": 4,
 "nbformat_minor": 2
}
