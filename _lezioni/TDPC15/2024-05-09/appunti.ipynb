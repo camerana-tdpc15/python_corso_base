{
 "cells": [
  {
   "cell_type": "markdown",
   "metadata": {},
   "source": [
    "# HTTP request methods\n",
    "\n",
    "Come detto, il protocollo HTTP prevede una serie di [messaggi di richiesta](https://it.wikipedia.org/wiki/Hypertext_Transfer_Protocol#Messaggio_di_richiesta) che il client può inviare al server. In particolare i più noti sono\n",
    "\n",
    "- GET\n",
    "- POST\n",
    "- PUT\n",
    "- DELETE\n",
    "- ...\n",
    "\n",
    "**PER APPROFINDIRE:** https://developer.mozilla.org/en-US/docs/Web/HTTP/Methods\n",
    "\n",
    "Inizialmente vedre o prima il metodo GET e poi il metodo POST."
   ]
  },
  {
   "cell_type": "markdown",
   "metadata": {},
   "source": [
    "## Esempi di richiesta GET\n",
    "\n",
    "Se nel decoratore `@app.route()` l'argomento `methods` è omesso, allora di default è GET.\n",
    "\n",
    "Se viene richiesta una pagina web, questo avviene di solito tramite una richiesta GET.\n",
    "\n",
    "> GET significa \"ottenere\", dunque quando vogliamo *ottenere* una risorsa, come un file o una pagina web, la richiesta appropriata è proprio GET!"
   ]
  },
  {
   "cell_type": "markdown",
   "metadata": {},
   "source": [
    "### GET Standatd\n",
    "\n",
    "- `https://mio-sito.org/hello`\n",
    "\n",
    "```python\n",
    "@app.route('/hello')  # Sottinteso GET (e solo GET)\n",
    "def hello():\n",
    "    return 'Hello, World!'\n",
    "```"
   ]
  },
  {
   "cell_type": "markdown",
   "metadata": {},
   "source": [
    "### GET con variabili nell'URL\n",
    "\n",
    "- `https://mio-sito.org/wiki/Albert_Einstein`\n",
    "- `https://mio-sito.org/wiki/Python`\n",
    "\n",
    "\n",
    "```python\n",
    "@app.route('/wiki/<name>')  # Sottinteso GET (e solo GET)\n",
    "def wiki(name):\n",
    "    dati_pagina = ottieni_pagina_wiki(escape(name))  # (ipotetica funzione)\n",
    "    return render_template('wiki_voce.html', data=dati_pagina)\n",
    "```"
   ]
  },
  {
   "cell_type": "markdown",
   "metadata": {},
   "source": [
    "### GET con variabili \"tipizzate\" nell'URL\n",
    "\n",
    "- `https://mio-sito.org/post/872`\n",
    "- `https://mio-sito.org/post/23457`\n",
    "\n",
    "\n",
    "```python\n",
    "@app.route('/post/<int:post_id>')\n",
    "def show_post(post_id):\n",
    "    dati_post = ottieni_pagina_wiki(post_id)  # (ipotetica funzione)\n",
    "    return render_template('post.html', data=data)\n",
    "\n",
    "```"
   ]
  },
  {
   "cell_type": "markdown",
   "metadata": {},
   "source": [
    "### GET con parametri\n",
    "\n",
    "Se nell'URL della richiesta vengono inseriti dei parametri con la sintassi `?key=value`, possiamo accedere ad essi tramite `request.args`, il quale si comporta come un dizionario.\n",
    "\n",
    "- `https://mio-sito.org/ricerca?livello=intermedio`\n",
    "- `https://mio-sito.org/ricerca?categoria=informatica`\n",
    "\n",
    "```python\n",
    "@app.route('/ricerca')  # Sottinteso GET (e solo GET)\n",
    "def ricerca():\n",
    "    categoria = request.args.get('categoria')  # in questo caso il default è None\n",
    "    livello = request.args.get('livello', default='tutti')  # con default personalizzato\n",
    "    return esegui_ricerca(category=categoria, level=livello)  # (ipotetica funzione)\n",
    "```\n",
    "\n",
    "> NOTA: Usiamo `.get()` perché è più \"sicuro\" in quanto non genera errori se la chiave non è presente sun `request.args`."
   ]
  },
  {
   "cell_type": "markdown",
   "metadata": {},
   "source": [
    "## Esempi di richiesta POST\n",
    "\n",
    "Nel metodo POST, i parametri non vengono inclusi nell'URL come avviene con il metodo GET. \n",
    "\n",
    "Dati e parametri di una richiesta POST sono inclusi nel corpo della richiesta stessa. Questo permette di inviare quantità di dati molto più grandi rispetto al GET, poiché non sono limitati dalla lunghezza massima dell'URL. \n",
    "\n",
    "> **IMPORTANTE:** Poiché i dati non appaiono nell'URL (come avviene per il GET), il metodo POST è più sicuro per il trasferimento di informazioni sensibili, come password o dati personali.\n",
    "\n",
    "Nel decoratore `@app.route()` possiamo passare un argomento `methods` per esplicitare a quali metodi la funzione deve rispondere.\n",
    "\n",
    "\n",
    "```python\n",
    "@app.route('/login', methods=['GET', 'POST'])\n",
    "def login():\n",
    "    if request.method == 'POST':  # Se la richiesta è di tipo POST\n",
    "        ...  # Gestione della richiesta POST\n",
    "    else:  # Se non è po POST, allora è sicuramente GET\n",
    "        ...  # Gestione della richiesta GET\n",
    "```\n",
    "\n",
    "**NOTA:** Il metodo  POST lo vedremo la prossima lezione."
   ]
  },
  {
   "cell_type": "markdown",
   "metadata": {},
   "source": [
    "# Template Jinja\n",
    "\n",
    "Flask ci mette a disposizione il motore di templating Jinja2.\n",
    "\n",
    "In pratica un motore di templating serve per interpolare (inserire) dati all'interno di un documento in modo dinamico.\n",
    "\n",
    "Per usare Jinja dovremo imparare un nuovo \"mini linguaggio\", ma che per nostra fortuna è molto simile a Python.\n",
    "\n",
    "La documentazione ufficiale di Jinja la trovate qua:\n",
    "\n",
    "- [Jinja2 Template Designer Documentation](https://jinja.palletsprojects.com/en/3.1.x/templates/)"
   ]
  },
  {
   "cell_type": "markdown",
   "metadata": {},
   "source": [
    "## Creazione di un template Jinja\n",
    "\n",
    "Quello che segue è un semplice template che mostra un heading `<h1>` diverso a seconda che una condizione si verifichi o no.\n",
    "\n",
    "In particolare, si chiede se la variabile `name` ha un qualche valore *truthy* (valore non vuoto):\n",
    "\n",
    "- se `name` è *truthy*, mostra la stringa `<h1>Hello {{ name }}!</h1>`, sostituendo `{{ name }}` con il valore contenuto in `name`;\n",
    "- se `name` è *falsy*, mostra la stringa generica `<h1>Hello, World!</h1>`.\n",
    "\n",
    "L'istruzione `endif` è necessaria per comunicare che la struttura di controllo `if..else` è terminata.\n",
    "\n",
    "ESEMPIO: `templates/hello.html`\n",
    "\n",
    "```html\n",
    "<!doctype html>\n",
    "<title>Hello from Flask</title>\n",
    "{% if name %}\n",
    "  <h1>Hello {{ name }}!</h1>\n",
    "{% else %}\n",
    "  <h1>Hello, World!</h1>\n",
    "{% endif %}\n",
    "```\n",
    "\n",
    "Per ora ricordiamo che:\n",
    "\n",
    "- Usiamo `{% ... %}` per includere delle istruzioni o dichiarazioni.\n",
    "\n",
    "- Usiamo `{{ ... }}` per includere espressioni da stampare nel template renderizzato"
   ]
  },
  {
   "cell_type": "markdown",
   "metadata": {},
   "source": [
    "## Rispondere con un template Jinja renderizzato\n",
    "\n",
    "Per rispondere ad una richiesta usando un template, dobbiamo prima renderizzarlo.\n",
    "\n",
    "Per fare questo usiamo la funzione `render_template`, a cui passiamo il nome del file HTML che vogliamo renderizzare, contenuto nella cartella `/templates` e i nomi, ovvero le variabili che sono richieste all'interno del template.\n",
    "\n",
    "Nel caso del nostro `hello.html`, l'unica variabile richiesta è `name`, dunque passeremo anche un argomento `name=...`.\n",
    "\n",
    "```python\n",
    "@app.route('/hello/')\n",
    "@app.route('/hello/<name>')\n",
    "def hello(name=None):\n",
    "    return render_template('hello.html', name=name)\n",
    "```"
   ]
  },
  {
   "cell_type": "markdown",
   "metadata": {},
   "source": [
    "# HTTP status codes\n",
    "\n",
    "Quando viene effettuata una richiesta dal browser, il server può rispondere in diversi modi, ma ciascuna risposta è sempre associata a un relativo corice.\n",
    "\n",
    "Questi codici li potete vedere nell log di Flask, visibile nel terminale di VS Code, oppure nella sezione \"Network\" o \"Rete\" degli strumenti per sviluppatori all'interno del browser.\n",
    "\n",
    "Il significato primario dei codici di risposta è determinato dalla prima cifra, secondo questo schema:\n",
    "\n",
    "- `1xx`: *information* - La richiesta è stata ricevuta, proceda chi deve procedere, attenda chi deve attendere.\n",
    "- `2xx`: *success* - La richiesta è stata ricevuta con successo, compresa ed accettata.\n",
    "- `3xx`: *redirect* - Il client deve eseguire ulteriori azioni per completare la richiesta.\n",
    "- `4xx`: *client error* - La richiesta contiene una sintassi errata o non può essere soddisfatta.\n",
    "- `5xx`: *server error* - Il server non è riuscito a soddisfare una richiesta apparentemente valida.\n",
    "\n",
    "In generale vale questa regola:\n",
    "\n",
    "- `1xx`, `2xx`, `3xx` &rarr; NESSUN PROBLEMA\n",
    "- `4xx`, `5xx` &rarr; C'È QUALCHE PROBLEMA\n",
    "\n",
    "Per avere un'idea dei loro significati, ecco una lista dei più comuni codici che potrete riscontrare:\n",
    "\n",
    "- `200` OK\n",
    "- `301` Moved Permanently\n",
    "- `302` Found (Moved temporarily)\n",
    "- `304` Not Modified\n",
    "- `400` Bad Request\n",
    "- `401` Unauthorized\n",
    "- `403` Forbidden\n",
    "- `404` Not Found\n",
    "- `500` Internal Server Error\n",
    "- `503` Service Unavailable\n",
    "- `501` Not Implemented\n",
    "\n",
    "Per approfondire il significato di questi codici, potete leggere la pagina di Wikipedia sui [Codici di stato HTTP](https://it.wikipedia.org/wiki/Codici_di_stato_HTTP)."
   ]
  },
  {
   "cell_type": "markdown",
   "metadata": {},
   "source": [
    "# Headers\n",
    "\n",
    "Sia la richiesta sia la risposta oltre che a un \"contenuto\" vengono accompagnati anche da un cosiddetto _**header**_, ovvero una \"intestazione\".\n",
    "\n",
    "In parole povere un [header HTTP](https://en.wikipedia.org/wiki/List_of_HTTP_header_fields) è una sorta di bolla di accompagnamento del messaggio, che contiene dei dati utili ai fini della corretta comunicazione tra client e server sotto forma di coppie *campo* (chiave) e *valore*.\n",
    "\n",
    "Più precisamente, *campi* dell'header HTTP sono un elenco di parole chiave e valori sotto forma di stringhe, le quali sono inviate e ricevute dal client e dal server ad ogni richiesta e risposta HTTP. Queste intestazioni sono solitamente invisibili all'utente e vengono elaborate e loggate solo dalle rispettive applicazioni del server e del client. Definiscono il modo in cui la connessione e le informazioni inviate/ricevute attraverso essa devono essere interpretate e gestite."
   ]
  },
  {
   "cell_type": "markdown",
   "metadata": {},
   "source": [
    "# Bookmarklet\n",
    "\n",
    "(note di cultura generale)\n",
    "\n",
    "Un *bookmarklet* è un piccolo programma JavaScript che può essere memorizzato come un normale URL all'interno dei segnalibri (bookmark in inglese).\n",
    "\n",
    "Per esempio, create un nuovo segnalibro nel vostro browser e incollate il seguente codice Jacascript al posto dell'URL:\n",
    "\n",
    "```javascript\n",
    "javascript:(function(){\n",
    "  q=document.getSelection();\n",
    "  if(!q) q=prompt('Wikipedia:');\n",
    "  if(q) location.href='http://it.wikipedia.org/w/wiki.phtml?search=' + escape(q);\n",
    "})()\n",
    "```\n",
    "\n",
    "Ora, dopo aver selezionato una parola in una qualunque pagina web, potrete successivamente cliccare sul questo bookmark per avviare automaticamente una ricerca su Wikipedia per la parola selezionata."
   ]
  }
 ],
 "metadata": {
  "language_info": {
   "name": "python"
  }
 },
 "nbformat": 4,
 "nbformat_minor": 2
}
