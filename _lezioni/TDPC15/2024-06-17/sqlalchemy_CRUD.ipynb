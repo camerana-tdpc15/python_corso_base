{
 "cells": [
  {
   "cell_type": "markdown",
   "id": "9e26b183",
   "metadata": {
    "is_toc": true
   },
   "source": [
    "**Sommario**\n",
    "\n",
    "- [Operazioni CRUD con Flask-SQLAlchemy](#operazioni-crud-con-flask-sqlalchemy)\n",
    "  - [`models.py`](#modelspy)\n",
    "  - [`app.py`](#apppy)\n",
    "  - [C.R.U.D.](#crud)\n",
    "    - [CREATE con `db.session.add()`](#create-con-dbsessionadd)\n",
    "    - [READ con `Model.query`](#read-con-modelquery)\n",
    "    - [UPDATE con attributi](#update-con-attributi)\n",
    "    - [DELETE con `db.session.delete()`](#delete-con-dbsessiondelete)\n",
    "  - [Gestione delle transazioni](#gestione-delle-transazioni)\n",
    "    - [`db.session.commit()` per salvare definitivamente](#dbsessioncommit-per-salvare-definitivamente)\n",
    "    - [`db.session.flush()` per salvare ogni tanto durante la sessione](#dbsessionflush-per-salvare-ogni-tanto-durante-la-sessione)\n",
    "    - [`db.session.rollback()` per annullare manualmente le operazioni](#dbsessionrollback-per-annullare-manualmente-le-operazioni)\n",
    "    - [Esempio di flush, rollback e commit](#esempio-di-flush-rollback-e-commit)"
   ]
  },
  {
   "cell_type": "markdown",
   "metadata": {},
   "source": [
    "# Operazioni CRUD con Flask-SQLAlchemy"
   ]
  },
  {
   "cell_type": "markdown",
   "metadata": {},
   "source": [
    "Come avete appreso nelle lezioni di SQL, l'acronimo [**CRUD**](https://it.wikipedia.org/wiki/CRUD) sta per CREATE, READ, UPDATE e DELETE, ovvero le quattro operazioni fondamentali che possiamo eseguire sui database.\n",
    "\n",
    "Vediamo come effettuare queste operazioni con l'ORM di SQLAlchemy."
   ]
  },
  {
   "cell_type": "markdown",
   "metadata": {},
   "source": [
    "## `models.py`\n",
    "\n",
    "Immaginiamo di avere una tabella rappresentata da una classe-modello come questo, nel `models.py`:\n",
    "\n",
    "```python\n",
    "# models.py\n",
    "\n",
    "from flask_sqlalchemy import SQLAlchemy\n",
    "\n",
    "db = SQLAlchemy()  # Crea l'istanza di SQLAlchemy\n",
    "\n",
    "class User(db.Model):\n",
    "    id = db.Column(db.Integer, primary_key=True)\n",
    "    name = db.Column(db.String(80), nullable=False)\n",
    "    email = db.Column(db.String(120), unique=True, nullable=False)\n",
    "    age = db.Column(db.Integer)\n",
    "```"
   ]
  },
  {
   "cell_type": "markdown",
   "metadata": {},
   "source": [
    "## `app.py`\n",
    "\n",
    "Per poter svolgere le operazioni CRUD nel file del \"controller\" `app.py`, dobbiamo prima creare e inizializzare correttamente le istanze di Flask e SQLAlchemy e infine creare le tabelle nel database.\n",
    "\n",
    "Dopodiché abbiamo due scelte:\n",
    "\n",
    "- Effettuare le operazioni CRUD prima dell'avvio dell'applicazione Flask. Questo può essere utile per effettuare delle operazioni come l'inizializzazione e il popolamento delle tabelle, azioni di migrazione ecc.\n",
    "\n",
    "- Effettuare le operazioni CRUD all'interno delle funzioni \"endpoint\" che gestiscono le route, dunque dopo che l'applicazione e il server Flask sono stati avviati.\n",
    "\n",
    "```python\n",
    "# app.py\n",
    "\n",
    "from flask import Flask\n",
    "from models import db, User\n",
    "\n",
    "app = Flask(__name__)  # Crea l'istanza di Flask\n",
    "\n",
    "app.config.update(\n",
    "    SQLALCHEMY_DATABASE_URI='sqlite:///db.sqlite3',  # Path al file del DB\n",
    ")\n",
    "\n",
    "db.init_app(app)  # Inizializza l'istanza di SQLAlchemy con l'app Flask\n",
    "\n",
    "...  # <--- QUA PUOI SVOLGERE LE OPERAZIONI CRUD\n",
    "...  # <--- ALL'INTERNO DELLE FUNZIONI DI ENDPOINT\n",
    "...  # <--- CHE GESTISCONO LE ROUTE.\n",
    "\n",
    "if __name__ == '__main__':\n",
    "    with app.app_context():\n",
    "        db.create_all()  # Crea le tabelle nel database, se necessario\n",
    "\n",
    "        ...  # <--- QUA PUOI SVOLGERE LE OPERAZIONI CRUD PRIMA\n",
    "        ...  # <--- DELL'AVVIO DELL'APP FLASK. PUO' ESSERE UTILE \n",
    "        ...  # <--- PER INIZIALIZZARE E POPOLARE IL DB.\n",
    "\n",
    "    app.run()\n",
    "\n",
    "```\n",
    "\n",
    "Vediamo come eseguire le quattro classiche operazioni CRUD con Flask-SQLAlchemy."
   ]
  },
  {
   "cell_type": "markdown",
   "metadata": {},
   "source": [
    "## C.R.U.D."
   ]
  },
  {
   "cell_type": "markdown",
   "metadata": {},
   "source": [
    "### CREATE con `db.session.add()`\n",
    "\n",
    "Creare un nuovo record nel database:\n",
    "\n",
    "```python\n",
    "new_user = User(name='Alice', email='alice@flask.sql')\n",
    "db.session.add(new_user)\n",
    "db.session.commit()\n",
    "\n",
    "new_user_id = new_user.id  # es. 10\n",
    "```"
   ]
  },
  {
   "cell_type": "markdown",
   "metadata": {},
   "source": [
    "### READ con `Model.query`\n",
    "\n",
    "Per leggere i record dal database:\n",
    "\n",
    "```python\n",
    "the_user = User.query.get(10)\n",
    "all_users = User.query.all()\n",
    "some_users = User.query.filter(User.age > 18).order_by(User.name).all()\n",
    "...\n",
    "```\n",
    "\n",
    "> PER APPROFONDIRE: Vedi il notebook [sqlalchemy_READ_legacy.ipynb](sqlalchemy_READ_legacy.ipynb)"
   ]
  },
  {
   "cell_type": "markdown",
   "metadata": {},
   "source": [
    "### UPDATE con attributi\n",
    "\n",
    "Per aggiornare un record esistente:\n",
    "\n",
    "```python\n",
    "user = User.query.get(10)\n",
    "user.name = 'Bob'\n",
    "user.email = 'bob@flask.sql'\n",
    "db.session.commit()\n",
    "```"
   ]
  },
  {
   "cell_type": "markdown",
   "metadata": {},
   "source": [
    "### DELETE con `db.session.delete()`\n",
    "\n",
    "Per eliminare un record esistente:\n",
    "\n",
    "```python\n",
    "user = User.query.get(10)\n",
    "db.session.delete(user)\n",
    "db.session.commit()\n",
    "```"
   ]
  },
  {
   "cell_type": "markdown",
   "metadata": {},
   "source": [
    "## Gestione delle transazioni\n",
    "\n",
    "Una transazione è una sequenza di operazioni CRUD che vengono eseguite come un'unità logica di lavoro. Una transazione ha quattro proprietà fondamentali, note come [**ACID**](https://it.wikipedia.org/wiki/ACID):\n",
    "\n",
    "1. **Atomicità**: Ogni transazione è \"tutto o niente\". O tutte le operazioni nella transazione vengono completate con successo, oppure nessuna di esse viene applicata.\n",
    "2. **Consistenza**: Una transazione porta il database da uno stato consistente a un altro stato consistente.\n",
    "3. **Isolamento**: Le transazioni parallele non interferiscono tra loro.\n",
    "4. **Durabilità**: Una volta che una transazione è stata committata, i cambiamenti sono permanenti nel database, anche in caso di guasti.\n",
    "\n",
    "Per approfondire, vedi le sezioni [**Transactions and Connection Management**](https://docs.sqlalchemy.org/en/20/orm/session_transaction.html) e [**Session API**](https://docs.sqlalchemy.org/en/20/orm/session_api.html) nella documentazione ufficiale.\n"
   ]
  },
  {
   "cell_type": "markdown",
   "metadata": {},
   "source": [
    "### `db.session.commit()` per salvare definitivamente\n",
    "\n",
    "Il _**commit**_ dice al database di eseguire e finalizzare tutte le operazioni che sono state accodate nella sessione corrente.\n",
    "\n",
    "Ecco come funziona nel contesto delle transazioni:\n",
    "\n",
    "- **Inizio della transazione**: Quando inizi a fare operazioni con `db.session` (ad esempio, `db.session.add()`) per aggiungere un nuovo record, queste operazioni sono accumulate nella sessione ma non vengono ancora applicate al database.\n",
    "\n",
    "- **Commit della transazione**: Quando chiami `db.session.commit()`, SQLAlchemy invia tutte le operazioni accumulate al database come una singola transazione. Se tutte le operazioni vanno a buon fine, la transazione viene committata e le modifiche diventano permanenti.\n",
    "\n",
    "- **Rollback in caso di errore durante il commit**: Se durante il commit della transazione si verifica un errore proveniente dal DB, SQLAlchemy esegue automaticamente un rollback, annullando tutte le operazioni fatte nella transazione. Questo mantiene il database in uno stato consistente.\n",
    "\n",
    "> **ATTENZIONE:** Se si verifica un errore prima del commit, l'utente può decidere se eseguire un rollback manualmente. Solitamente questa è una buona prassi per assicurare un comportamento ACID."
   ]
  },
  {
   "cell_type": "markdown",
   "metadata": {},
   "source": [
    "### `db.session.flush()` per salvare ogni tanto durante la sessione\n",
    "\n",
    "Il _**flush**_ invia tutte le operazioni in sospeso nella sessione al database, ma senza committarle. Serve per sincronizzare la sessione con il database, assicurandosi che le modifiche siano visibili alle successive query nella stessa transazione.\n"
   ]
  },
  {
   "cell_type": "markdown",
   "metadata": {},
   "source": [
    "### `db.session.rollback()` per annullare manualmente le operazioni\n",
    "\n",
    "Il _**rollback**_ annulla tutte le operazioni fatte nella sessione corrente, riportando il database allo stato prima dell'inizio della transazione. Anche le operazioni di flush vengono annullate."
   ]
  },
  {
   "cell_type": "markdown",
   "metadata": {},
   "source": [
    "### Esempio di flush, rollback e commit\n",
    "\n",
    "Ecco un esempio che mostra come utilizzare `flush`, `rollback` e `commit` secondo le buone pratiche:\n",
    "\n",
    "```python\n",
    "def create_user(name, email):\n",
    "    # Prova:\n",
    "    try:\n",
    "        new_user = User(name=, email=email)\n",
    "        db.session.add(new_user)\n",
    "        db.session.flush()  # Sincronizza la sessione con il database\n",
    "        # Ora new_user.id è disponibile nell'ORM\n",
    "        print(f'Nuovo User ID: {new_user.id}')\n",
    "\n",
    "        # Esegui altre operazioni che potrebbero fallire\n",
    "        another_user = User.query.get(1)\n",
    "        another_user.email = 'new_email@example.com'\n",
    "    # Ma in caso di errore:\n",
    "    except Exception as err:\n",
    "        db.session.rollback()  # Annulla tutte le operazioni, anche quelle flushate\n",
    "        print(f'Si è verificato un errore: {err}')\n",
    "    # Se non si sono verificati errori:   \n",
    "    else:\n",
    "        db.session.commit()  # Salva e conferma tutte le operazioni\n",
    "\n",
    "# Uso della funzione\n",
    "create_user('John Doe', 'john.doe@example.com')\n",
    "```"
   ]
  }
 ],
 "metadata": {
  "language_info": {
   "name": "python"
  }
 },
 "nbformat": 4,
 "nbformat_minor": 2
}
