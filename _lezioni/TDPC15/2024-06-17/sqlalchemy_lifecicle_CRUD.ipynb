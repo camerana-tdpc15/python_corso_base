{
 "cells": [
  {
   "cell_type": "markdown",
   "id": "e69f0eb3",
   "metadata": {
    "is_toc": true
   },
   "source": [
    "**Sommario**\n",
    "\n",
    "- [Schema e ciclo di vita del database](#schema-e-ciclo-di-vita-del-database)\n",
    "  - [Definizione dei modelli](#definizione-dei-modelli)\n",
    "    - [Constraints (vincoli)](#constraints-vincoli)\n",
    "    - [Tipi di Dato](#tipi-di-dato)\n",
    "    - [Nomi consentiti per le tabelle](#nomi-consentiti-per-le-tabelle)\n",
    "  - [Creazione delle tabelle nel DB con `db.create_all()`](#creazione-delle-tabelle-nel-db-con-dbcreate_all)\n",
    "    - [Migrazioni](#migrazioni)\n",
    "- [Operazioni CRUD con Flask-SQLAlchemy](#operazioni-crud-con-flask-sqlalchemy)\n",
    "  - [`models.py`](#modelspy)\n",
    "  - [`app.py`](#apppy)\n",
    "  - [C.R.U.D.](#crud)\n",
    "    - [CREATE con `db.session.add()`](#create-con-dbsessionadd)\n",
    "    - [READ con `Model.query`](#read-con-modelquery)\n",
    "    - [UPDATE con attributi](#update-con-attributi)\n",
    "    - [DELETE con `db.session.delete()`](#delete-con-dbsessiondelete)\n",
    "  - [Gestione delle transazioni](#gestione-delle-transazioni)\n",
    "    - [`db.session.commit()` per salvare definitivamente](#dbsessioncommit-per-salvare-definitivamente)\n",
    "    - [`db.session.flush()` per salvare ogni tanto durante la sessione](#dbsessionflush-per-salvare-ogni-tanto-durante-la-sessione)\n",
    "    - [`db.session.rollback()` per annullare manualmente le operazioni](#dbsessionrollback-per-annullare-manualmente-le-operazioni)\n",
    "    - [Esempio di flush, rollback e commit](#esempio-di-flush-rollback-e-commit)"
   ]
  },
  {
   "cell_type": "markdown",
   "metadata": {},
   "source": [
    "# Schema e ciclo di vita del database\n",
    "\n",
    "Prima di iniziare ad eseguire le query sui dati, dobbiamo prima creare il database. Per fare questo dobbiamo innanzitutto definire lo *schema del database*.\n",
    "\n",
    "Abbiamo già detto che agire sullo schema del database significa creare, modificare o eliminare gli oggetti che compongono il database nel suo complesso. Le prime e più importanti cose che possiamo definire sono le *tabelle* (o *modelli*) e le loro *colonne* (o *campi*).\n",
    "\n",
    "Queste azioni vanno compiute sia in fase di installazione (inizializzazione) dell'applicazione, sia durante futuri aggiornamenti (migrazioni), che potrebbero richiedere modifiche allo schema del DB, come ad esempio l'aggiunta, la modifica o eliminazione di tabelle e/o colonne.\n",
    "\n",
    "Come con il *Data Definition Language* (DDL) in SQL abbiamo `CREATE`, `ALTER` e `DROP`, anche l'ORM di SQLAlchemy consente queste operazioni attraverso oggetti e metodi Python.\n",
    "\n",
    "Inizialmente ci limiteremo a creare le tabelle. Per fare ciò abbiamo `SQLAlchemy.create_all()`."
   ]
  },
  {
   "cell_type": "markdown",
   "metadata": {},
   "source": [
    "## Definizione dei modelli\n",
    "\n",
    "In Flask-SQLAlchemy, i modelli vengono definiti come classi Python che ereditano da `SQLAlchemy.Model`. Ogni classe rappresenta una tabella nel database e ogni attributo della classe rappresenta una colonna nella tabella.\n",
    "\n",
    "Il termine \"modello\" deriva dal paradigma [MVC (Model-View-Controller)](https://it.wikipedia.org/wiki/Model-view-controller) nel quale con \"modello\" si intende una struttura dati in cui vengono immagazzinati i dati e che fornisce delle interfacce ([API](https://it.wikipedia.org/wiki/Application_programming_interface)) per poter interagire con essa.\n",
    "\n",
    "Esempio di definizione di un modello:\n",
    "\n",
    "```python\n",
    "from flask import Flask\n",
    "from flask_sqlalchemy import SQLAlchemy\n",
    "\n",
    "app = Flask(__name__)\n",
    "app.config['SQLALCHEMY_DATABASE_URI'] = 'sqlite:///db.sqlite3'\n",
    "db = SQLAlchemy(app)\n",
    "# Se crei app e db in due moduli diversi, puoi fare così:\n",
    "# db = SQLAlchemy()  # questo in model.py\n",
    "# db.init_app(app)   # questo in app.py\n",
    "\n",
    "class User(db.Model):\n",
    "    __tablename__ = 'user'\n",
    "    id = db.Column(db.Integer, primary_key=True)\n",
    "    name = db.Column(db.String(80), nullable=False)\n",
    "    email = db.Column(db.String(120), unique=True, nullable=False)\n",
    "```\n"
   ]
  },
  {
   "cell_type": "markdown",
   "metadata": {},
   "source": [
    "### Constraints (vincoli)\n",
    "\n",
    "I vincoli sono regole che limitano i dati che possono essere inseriti nelle colonne delle tabelle. I vincoli comuni includono:\n",
    "\n",
    "- **`primary_key=True`**: Identifica in modo univoco ogni record nella tabella.\n",
    "\n",
    "- **`unique=True`**: Assicura che tutti i valori in una colonna siano unici.\n",
    "\n",
    "- **`nullable=False`**: Assicura che una colonna non possa avere valori `Null`.\n",
    "\n",
    "- **`default='...'`**: Assegna un valore predefinito a una colonna se nessun valore viene specificato. Se omesso, il default è il medesimo del motore usato, SQLite, e quindi `Null`.\n",
    "\n",
    "- **`CheckConstraint('...', name='...')`**: Assicura che tutti i valori in una colonna soddisfino una condizione specifica.\n",
    "\n",
    "- **`db.ForeignKey('other_table.id')`**: Un vincolo che crea una relazione tra due tabelle. Il valore deve essere dunque un id dell'altra tabella.\n",
    "\n",
    "Esempio di utilizzo dei vincoli:\n",
    "\n",
    "```python\n",
    "class Corsi(db.Model):\n",
    "    id = db.Column(\n",
    "        db.Integer,\n",
    "        primary_key=True\n",
    "    )\n",
    "    nome_corso = db.Column(\n",
    "        db.String(100),\n",
    "        nullable=False,\n",
    "        unique=True)\n",
    "    descrizione = db.Column(\n",
    "        db.Text,\n",
    "        default='N/D'\n",
    "    )\n",
    "    durata = db.Column(\n",
    "        db.Integer,\n",
    "        CheckConstraint('durata > 0', name='check_durata'),\n",
    "        nullable=False\n",
    "    )\n",
    "```"
   ]
  },
  {
   "cell_type": "markdown",
   "metadata": {},
   "source": [
    "### Tipi di Dato\n",
    "\n",
    "Flask-SQLAlchemy supporta diversi tipi di dato, che corrispondono ai tipi di dato del database sottostante, nel nostro caso SQLite. Alcuni tipi di dato comuni includono:\n",
    "\n",
    "- `db.Integer`: Un numero intero (`INTEGER`).\n",
    "- `db.Float`: Un numero in virgola mobile (`REAL`).\n",
    "- `db.String(size)`: Una stringa di lunghezza massima specificata (`VARCHAR` &rarr; `TEXT`).\n",
    "- `db.Text`: Una stringa di lunghezza variabile (`TEXT`).\n",
    "- `db.Boolean`: Un valore booleano (True/False) (`BOOLEAN` &rarr; `INTEGER` 0, 1). \n",
    "- `db.DateTime`: Una data e ora (`TEXT` timestamp).\n",
    "\n",
    "Esempio di utilizzo dei tipi di dato:\n",
    "\n",
    "```python\n",
    "class Product(db.Model):\n",
    "    id = db.Column(db.Integer)\n",
    "    name = db.Column(db.String(100))\n",
    "    price = db.Column(db.Float)\n",
    "    in_stock = db.Column(db.Boolean)\n",
    "```"
   ]
  },
  {
   "cell_type": "markdown",
   "metadata": {},
   "source": [
    "### Nomi consentiti per le tabelle\n",
    "\n",
    "I nomi delle tabelle in SQLAlchemy sono derivati automaticamente dai nomi delle classi (es. `Miomodello` diventa `'miomodello'` e `MioModello` diventa `'mio_modello'`), ma possono essere specificati manualmente usando l'attributo `__tablename__`.\n",
    "\n",
    "I nomi delle tabelle devono seguire le convenzioni del database sottostante, che nel nostro caso è SQLite. In ogni caso, per semplificare, ricordiamo che un nome:\n",
    "\n",
    "- Deve iniziare con una lettera.\n",
    "- Può solo contenere lettere, numeri e underscore (_).\n",
    "\n",
    "Esempio di definizione del nome della tabella:\n",
    "\n",
    "```python\n",
    "class Order(db.Model):\n",
    "    __tablename__ = 'xyz_order'\n",
    "    ...\n",
    "```"
   ]
  },
  {
   "cell_type": "markdown",
   "metadata": {},
   "source": [
    "## Creazione delle tabelle nel DB con `db.create_all()`\n",
    "\n",
    "Dato che stiamo usando un ORM, non dobbiamo scrivere una query con `CREATE TABLE` come quando abbiamo usato `sqlite3` direttamente.\n",
    "\n",
    "Dopo aver definito tutti i modelli che rappresentano le tabelle, puoi chiamare `db.create_all()` per creare lo schema delle tabelle nel database. È come eseguire un `CREATE TABLE IF NOT EXISTS` in quanto non aggiorna le tabelle se sono già presenti nel database.\n",
    "\n",
    "La creazione delle tabelle richiede un contesto dell'applicazione. Poiché solitamente vuoi inizializzare il DB prima di avviare il server, a questo punto non hai ancora un contesto, quindi puoi creane uno manualmente con `with app.app_context():`.\n",
    "\n",
    "```python\n",
    "from flask import Flask\n",
    "from flask_sqlalchemy import SQLAlchemy\n",
    "\n",
    "# 1) COLLEGA SQLALCHEMY A FLASK\n",
    "app = Flask(__name__)\n",
    "app.config['SQLALCHEMY_DATABASE_URI'] = 'sqlite:///db.sqlite3'\n",
    "db = SQLAlchemy(app)\n",
    "\n",
    "# 2) DEFINISCI I MODELLI (TABELLE)\n",
    "class User(db.Model):\n",
    "    ...\n",
    "class Film(db.Model):\n",
    "    ...\n",
    "\n",
    "with app.app_context():\n",
    "    # 3) CREA LE TABELLE (se non esistono)\n",
    "    db.create_all()\n",
    "```\n",
    "\n",
    "> **ATTENZIONE**: Se definisci i modelli in altri moduli, devi importarli prima di chiamare `.create_all()`, altrimenti SQLAlchemy non li riconoscerà."
   ]
  },
  {
   "cell_type": "markdown",
   "metadata": {},
   "source": [
    "### Migrazioni\n",
    "\n",
    " Se modifichi le colonne di un modello, utilizza una libreria di migrazione come [Alembic](https://alembic.sqlalchemy.org/en/latest/) con [Flask-Migrate](https://flask-migrate.readthedocs.io/en/latest/) o [Flask-Alembic](https://flask-alembic.readthedocs.io/en/latest/) per generare degli script che automatizzano le modifiche allo lo schema del database."
   ]
  },
  {
   "cell_type": "markdown",
   "metadata": {},
   "source": [
    "# Operazioni CRUD con Flask-SQLAlchemy"
   ]
  },
  {
   "cell_type": "markdown",
   "metadata": {},
   "source": [
    "Come avete appreso nelle lezioni di SQL, l'acronimo [**CRUD**](https://it.wikipedia.org/wiki/CRUD) sta per CREATE, READ, UPDATE e DELETE, ovvero le quattro operazioni fondamentali che possiamo eseguire sui database.\n",
    "\n",
    "Vediamo come effettuare queste operazioni con l'ORM di SQLAlchemy."
   ]
  },
  {
   "cell_type": "markdown",
   "metadata": {},
   "source": [
    "## `models.py`\n",
    "\n",
    "Immaginiamo di avere una tabella rappresentata da una classe-modello come questo, nel `models.py`:\n",
    "\n",
    "```python\n",
    "# models.py\n",
    "\n",
    "from flask_sqlalchemy import SQLAlchemy\n",
    "\n",
    "db = SQLAlchemy()  # Crea l'istanza di SQLAlchemy\n",
    "\n",
    "class User(db.Model):\n",
    "    id = db.Column(db.Integer, primary_key=True)\n",
    "    name = db.Column(db.String(80), nullable=False)\n",
    "    email = db.Column(db.String(120), unique=True, nullable=False)\n",
    "    age = db.Column(db.Integer)\n",
    "```"
   ]
  },
  {
   "cell_type": "markdown",
   "metadata": {},
   "source": [
    "## `app.py`\n",
    "\n",
    "Per poter svolgere le operazioni CRUD nel file del \"controller\" `app.py`, dobbiamo prima creare e inizializzare correttamente le istanze di Flask e SQLAlchemy e infine creare le tabelle nel database.\n",
    "\n",
    "Dopodiché abbiamo due scelte:\n",
    "\n",
    "- Effettuare le operazioni CRUD prima dell'avvio dell'applicazione Flask. Questo può essere utile per effettuare delle operazioni come l'inizializzazione e il popolamento delle tabelle, azioni di migrazione ecc.\n",
    "\n",
    "- Effettuare le operazioni CRUD all'interno delle funzioni \"endpoint\" che gestiscono le route, dunque dopo che l'applicazione e il server Flask sono stati avviati.\n",
    "\n",
    "```python\n",
    "# app.py\n",
    "\n",
    "from flask import Flask\n",
    "from models import db, User\n",
    "\n",
    "app = Flask(__name__)  # Crea l'istanza di Flask\n",
    "\n",
    "app.config.update(\n",
    "    SQLALCHEMY_DATABASE_URI='sqlite:///db.sqlite3',  # Path al file del DB\n",
    ")\n",
    "\n",
    "db.init_app(app)  # Inizializza l'istanza di SQLAlchemy con l'app Flask\n",
    "\n",
    "...  # <--- QUA PUOI SVOLGERE LE OPERAZIONI CRUD\n",
    "...  # <--- ALL'INTERNO DELLE FUNZIONI DI ENDPOINT\n",
    "...  # <--- CHE GESTISCONO LE ROUTE.\n",
    "\n",
    "if __name__ == '__main__':\n",
    "    with app.app_context():\n",
    "        db.create_all()  # Crea le tabelle nel database, se necessario\n",
    "\n",
    "        ...  # <--- QUA PUOI SVOLGERE LE OPERAZIONI CRUD PRIMA\n",
    "        ...  # <--- DELL'AVVIO DELL'APP FLASK. PUO' ESSERE UTILE \n",
    "        ...  # <--- PER INIZIALIZZARE E POPOLARE IL DB.\n",
    "\n",
    "    app.run()\n",
    "```"
   ]
  },
  {
   "cell_type": "markdown",
   "metadata": {},
   "source": [
    "## C.R.U.D.\n",
    "\n",
    "Vediamo come eseguire le quattro classiche operazioni CRUD con Flask-SQLAlchemy."
   ]
  },
  {
   "cell_type": "markdown",
   "metadata": {},
   "source": [
    "### CREATE con `db.session.add()`\n",
    "\n",
    "Creare un nuovo record nel database:\n",
    "\n",
    "```python\n",
    "new_user = User(name='Alice', email='alice@flask.sql')\n",
    "db.session.add(new_user)\n",
    "db.session.commit()\n",
    "\n",
    "new_user_id = new_user.id  # es. 10 (ID del record creato)\n",
    "```"
   ]
  },
  {
   "cell_type": "markdown",
   "metadata": {},
   "source": [
    "### READ con `Model.query`\n",
    "\n",
    "Per leggere i record dal database:\n",
    "\n",
    "```python\n",
    "the_user = User.query.get(10)\n",
    "all_users = User.query.all()\n",
    "some_users = User.query.filter(User.age > 18).order_by(User.name).all()\n",
    "...\n",
    "```\n",
    "\n",
    "> PER APPROFONDIRE: Vedi il notebook [sqlalchemy_READ_legacy.ipynb](sqlalchemy_READ_legacy.ipynb)"
   ]
  },
  {
   "cell_type": "markdown",
   "metadata": {},
   "source": [
    "### UPDATE con attributi\n",
    "\n",
    "Per aggiornare un record esistente:\n",
    "\n",
    "```python\n",
    "user = User.query.get(10)\n",
    "user.name = 'Bob'\n",
    "user.email = 'bob@flask.sql'\n",
    "db.session.commit()\n",
    "```"
   ]
  },
  {
   "cell_type": "markdown",
   "metadata": {},
   "source": [
    "### DELETE con `db.session.delete()`\n",
    "\n",
    "Per eliminare un record esistente:\n",
    "\n",
    "```python\n",
    "user = User.query.get(10)\n",
    "db.session.delete(user)\n",
    "db.session.commit()\n",
    "```"
   ]
  },
  {
   "cell_type": "markdown",
   "metadata": {},
   "source": [
    "## Gestione delle transazioni\n",
    "\n",
    "Una transazione è una sequenza di operazioni CRUD che vengono eseguite come un'unità logica di lavoro. Una transazione ha quattro proprietà fondamentali, note come [**ACID**](https://it.wikipedia.org/wiki/ACID):\n",
    "\n",
    "1. **Atomicità**: Ogni transazione è \"tutto o niente\". O tutte le operazioni nella transazione vengono completate con successo, oppure nessuna di esse viene applicata.\n",
    "2. **Consistenza**: Una transazione porta il database da uno stato consistente a un altro stato consistente.\n",
    "3. **Isolamento**: Le transazioni parallele non interferiscono tra loro.\n",
    "4. **Durabilità**: Una volta che una transazione è stata committata, i cambiamenti sono permanenti nel database, anche in caso di guasti.\n",
    "\n",
    "Per approfondire, vedi le sezioni [**Transactions and Connection Management**](https://docs.sqlalchemy.org/en/20/orm/session_transaction.html) e [**Session API**](https://docs.sqlalchemy.org/en/20/orm/session_api.html) nella documentazione ufficiale.\n"
   ]
  },
  {
   "cell_type": "markdown",
   "metadata": {},
   "source": [
    "### `db.session.commit()` per salvare definitivamente\n",
    "\n",
    "Il _**commit**_ dice al database di eseguire e finalizzare tutte le operazioni che sono state accodate nella sessione corrente.\n",
    "\n",
    "Ecco come funziona nel contesto delle transazioni:\n",
    "\n",
    "- **Inizio della transazione**: Quando inizi a fare operazioni con `db.session` (ad esempio, `db.session.add()`) per aggiungere un nuovo record, queste operazioni sono accumulate nella sessione ma non vengono ancora applicate al database.\n",
    "\n",
    "- **Commit della transazione**: Quando chiami `db.session.commit()`, SQLAlchemy invia tutte le operazioni accumulate al database come una singola transazione. Se tutte le operazioni vanno a buon fine, la transazione viene committata e le modifiche diventano permanenti.\n",
    "\n",
    "- **Rollback in caso di errore durante il commit**: Se durante il commit della transazione si verifica un errore proveniente dal DB, SQLAlchemy esegue automaticamente un rollback, annullando tutte le operazioni fatte nella transazione. Questo mantiene il database in uno stato consistente.\n",
    "\n",
    "> **ATTENZIONE:** Se si verifica un errore prima del commit, l'utente può decidere se eseguire un rollback manualmente. Solitamente questa è una buona prassi per assicurare un comportamento ACID."
   ]
  },
  {
   "cell_type": "markdown",
   "metadata": {},
   "source": [
    "### `db.session.flush()` per salvare ogni tanto durante la sessione\n",
    "\n",
    "Il _**flush**_ invia tutte le operazioni in sospeso nella sessione al database, ma senza committarle. Serve per sincronizzare la sessione con il database, assicurandosi che le modifiche siano visibili alle successive query nella stessa transazione.\n"
   ]
  },
  {
   "cell_type": "markdown",
   "metadata": {},
   "source": [
    "### `db.session.rollback()` per annullare manualmente le operazioni\n",
    "\n",
    "Il _**rollback**_ annulla tutte le operazioni fatte nella sessione corrente, riportando il database allo stato prima dell'inizio della transazione. Anche le operazioni di flush vengono annullate."
   ]
  },
  {
   "cell_type": "markdown",
   "metadata": {},
   "source": [
    "### Esempio di flush, rollback e commit\n",
    "\n",
    "Ecco un esempio che mostra come utilizzare `flush`, `rollback` e `commit` secondo le buone pratiche:\n",
    "\n",
    "```python\n",
    "def create_user(name, email):\n",
    "    # Prova:\n",
    "    try:\n",
    "        new_user = User(name=, email=email)\n",
    "        db.session.add(new_user)\n",
    "        db.session.flush()  # Sincronizza la sessione con il database\n",
    "        # Ora new_user.id è disponibile nell'ORM\n",
    "        print(f'Nuovo User ID: {new_user.id}')\n",
    "\n",
    "        # Esegui altre operazioni che potrebbero fallire\n",
    "        another_user = User.query.get(1)\n",
    "        another_user.email = 'new_email@example.com'\n",
    "    # Ma in caso di errore:\n",
    "    except Exception as err:\n",
    "        db.session.rollback()  # Annulla tutte le operazioni, anche quelle flushate\n",
    "        print(f'Si è verificato un errore: {err}')\n",
    "    # Se non si sono verificati errori:   \n",
    "    else:\n",
    "        db.session.commit()  # Salva e conferma tutte le operazioni\n",
    "\n",
    "# Uso della funzione\n",
    "create_user('John Doe', 'john.doe@example.com')\n",
    "```"
   ]
  }
 ],
 "metadata": {
  "kernelspec": {
   "display_name": ".venv",
   "language": "python",
   "name": "python3"
  },
  "language_info": {
   "name": "python",
   "version": "3.10.1"
  }
 },
 "nbformat": 4,
 "nbformat_minor": 2
}
