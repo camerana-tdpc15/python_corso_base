{
 "cells": [
  {
   "cell_type": "markdown",
   "id": "83abe89a",
   "metadata": {
    "is_toc": true
   },
   "source": [
    "**Sommario**\n",
    "\n",
    "- [Query di selezione con Flask-SQLAlchemy](#query-di-selezione-con-flask-sqlalchemy)\n",
    "  - [Legacy API con `Model.query`](#legacy-api-con-modelquery)\n",
    "    - [`Model.query.get()`: una riga della tabella in base alla chiave primaria](#modelqueryget-una-riga-della-tabella-in-base-alla-chiave-primaria)\n",
    "    - [`Model.query.all()`: tutti i risultati](#modelqueryall-tutti-i-risultati)\n",
    "    - [`Model.query.first()`: solo il primo risultato](#modelqueryfirst-solo-il-primo-risultato)\n",
    "    - [`Model.query.one()`: solo un risultato](#modelqueryone-solo-un-risultato)\n",
    "    - [`Model.query.limit()`: numero di risultati limitato a una quantità specificata](#modelquerylimit-numero-di-risultati-limitato-a-una-quantit%C3%A0-specificata)\n",
    "    - [`Model.query.filter_by()`: risultati filtrati basandosi su parametri chiave-valore](#modelqueryfilter_by-risultati-filtrati-basandosi-su-parametri-chiave-valore)\n",
    "    - [`Model.query.filter()`: risultati filtrati basandosi su una condizione specificata](#modelqueryfilter-risultati-filtrati-basandosi-su-una-condizione-specificata)\n",
    "    - [`Model.query.order_by()`: risultati ordinati in base a uno o più criteri](#modelqueryorder_by-risultati-ordinati-in-base-a-uno-o-pi%C3%B9-criteri)\n",
    "    - [`Model.query.count()`: numero di risultati](#modelquerycount-numero-di-risultati)\n",
    "    - [`db.session.query().distinct()`: risultati distinti senza duplicati](#dbsessionquerydistinct-risultati-distinti-senza-duplicati)\n",
    "    - [`db.session.query().join()`: INNER JOIN tra tabelle](#dbsessionqueryjoin-inner-join-tra-tabelle)\n",
    "    - [`db.session.query().outerjoin()`: OUTER JOIN tra tabelle](#dbsessionqueryouterjoin-outer-join-tra-tabelle)"
   ]
  },
  {
   "cell_type": "markdown",
   "metadata": {},
   "source": [
    "# Query di selezione con Flask-SQLAlchemy\n",
    "\n",
    "Dato che l'operazione di READ (R di CRUD) prevede molte possibili query di selezione, vediamo le principali operazioni di lettura dal database in questo notebook, come argomento a parte.\n",
    "\n",
    "Le restanti operazioni del pattern CRUD, CREATE, UPDATE e DELETE le trovate nell'altro notebook, [sqlalchemy_CRUD.ipynb](sqlalchemy_CRUD.ipynb)."
   ]
  },
  {
   "cell_type": "markdown",
   "metadata": {},
   "source": [
    "## Legacy API con `Model.query`"
   ]
  },
  {
   "cell_type": "markdown",
   "metadata": {},
   "source": [
    "La vecchia sintassi di SQLAlchemy è un po' più facile all'inizio, quando si devono effettuare operazioni semplici.\n",
    "\n",
    "Per approfondire: [**Legacy Query API** nella documentazione ufficiale](https://docs.sqlalchemy.org/en/20/orm/queryguide/query.html)."
   ]
  },
  {
   "cell_type": "markdown",
   "metadata": {},
   "source": [
    "### `Model.query.get()`: una riga della tabella in base alla chiave primaria\n",
    "\n",
    "```python\n",
    "from models import User\n",
    "\n",
    "user = User.query.get(1)\n",
    "```\n",
    "OUTPUT: Restituisce l'oggetto `User` con la chiave primaria uguale a 1. Se non esiste, restituisce `None`."
   ]
  },
  {
   "cell_type": "markdown",
   "metadata": {},
   "source": [
    "### `Model.query.all()`: tutti i risultati\n",
    "\n",
    "```python\n",
    "from models import User\n",
    "\n",
    "users = User.query.all()\n",
    "```\n",
    "\n",
    "OUTPUT: Restituisce una lista di oggetti `User` contenenti tutte le righe della tabella `User`."
   ]
  },
  {
   "cell_type": "markdown",
   "metadata": {},
   "source": [
    "### `Model.query.first()`: solo il primo risultato\n",
    "\n",
    "```python\n",
    "from models import User\n",
    "\n",
    "first_user = User.query.first()\n",
    "```\n",
    "\n",
    "OUTPUT: Restituisce il primo oggetto `User` della tabella `User`. Se la tabella è vuota, restituisce `None`."
   ]
  },
  {
   "cell_type": "markdown",
   "metadata": {},
   "source": [
    "### `Model.query.one()`: solo un risultato\n",
    "\n",
    "```python\n",
    "from models import User\n",
    "\n",
    "first_user = User.query.one()\n",
    "```\n",
    "\n",
    "OUTPUT: Se la tabella `User` contiene una sola riga la restituisce, altrimenti solleva un errore sia se ci sono più ricghe sia se non ce ne sono."
   ]
  },
  {
   "cell_type": "markdown",
   "metadata": {},
   "source": [
    "### `Model.query.limit()`: numero di risultati limitato a una quantità specificata\n",
    "\n",
    "```python\n",
    "from models import User\n",
    "\n",
    "limited_users = User.query.limit(10).all()\n",
    "```\n",
    "\n",
    "OUTPUT: Restituisce una lista con al massimo 10 oggetti `User`."
   ]
  },
  {
   "cell_type": "markdown",
   "metadata": {},
   "source": [
    "### `Model.query.filter_by()`: risultati filtrati basandosi su parametri chiave-valore\n",
    "\n",
    "```python\n",
    "from models import User\n",
    "\n",
    "filtered_users = User.query.filter_by(name='Alice').all()\n",
    "```\n",
    "\n",
    "OUTPUT: Restituisce una lista di oggetti `User` che hanno il nome 'Alice'."
   ]
  },
  {
   "cell_type": "markdown",
   "metadata": {},
   "source": [
    "### `Model.query.filter()`: risultati filtrati basandosi su una condizione specificata\n",
    "\n",
    "```python\n",
    "from models import User\n",
    "\n",
    "filtered_users = User.query.filter(User.age > 18).all()\n",
    "```\n",
    "\n",
    "OUTPUT: Restituisce una lista di oggetti `User` che soddisfano la condizione specificata (in questo caso, utenti con età superiore a 18)."
   ]
  },
  {
   "cell_type": "markdown",
   "metadata": {},
   "source": [
    "### `Model.query.order_by()`: risultati ordinati in base a uno o più criteri\n",
    "\n",
    "```python\n",
    "from models import User\n",
    "\n",
    "asc_sorted_users = User.query.order_by(User.name).all()\n",
    "desc_sorted_users = User.query.order_by(User.name.desc()).all()\n",
    "\n",
    "```\n",
    "\n",
    "OUTPUT: Restituisce una lista di oggetti `User` ordinati per nome in ordine crescente oppure decrescente se viene appplicato `.desc()` alla colonna.\n",
    "\n",
    "Per aggiungere più criteri, puoi fare così:\n",
    "\n",
    "```python\n",
    "from models import User\n",
    "\n",
    "asc_sorted_users = User.query.order_by(User.signup_date.desc(), User.name).all()\n",
    "```\n",
    "\n",
    "OUTPUT: Restituisce una lista di oggetti `User` ordinati prima per data di iscrizione dalla più recente alla più vecchia e poi per nome in modo crescente.\n"
   ]
  },
  {
   "cell_type": "markdown",
   "metadata": {},
   "source": [
    "### `Model.query.count()`: numero di risultati\n",
    "```python\n",
    "from myapp.models import User\n",
    "\n",
    "user_count = User.query.filter(User.age > 18).count()\n",
    "```\n",
    "\n",
    "OUTPUT: Restituisce un numero intero rappresentante il conteggio degli utenti con età superiore a 18."
   ]
  },
  {
   "cell_type": "markdown",
   "metadata": {},
   "source": [
    "### `db.session.query().distinct()`: risultati distinti senza duplicati\n",
    "```python\n",
    "import db\n",
    "from models import User\n",
    "\n",
    "distinct_names = db.session.query(User.name).distinct().all()\n",
    "```\n",
    "\n",
    "OUTPUT: Restituisce una lista di tuple con i nomi distinti degli utenti."
   ]
  },
  {
   "cell_type": "markdown",
   "metadata": {},
   "source": [
    "### `db.session.query().join()`: INNER JOIN tra tabelle\n",
    "\n",
    "```python\n",
    "from myapp import db\n",
    "from myapp.models import User, Post\n",
    "\n",
    "user_posts = db.session.query(User, Post).join(Post, User.id == Post.user_id).all()\n",
    "```\n",
    "\n",
    "OUTPUT: Restituisce una lista di tuple contenenti oggetti `User` e `Post` uniti tramite una `INNER JOIN`, secondo la condizione specificata.\n",
    "\n",
    "> **NOTA**: La `INNER JOIN` mostra solo le righe che hanno una reciproca corrispondenza in entrambe le tabelle."
   ]
  },
  {
   "cell_type": "markdown",
   "metadata": {},
   "source": [
    "### `db.session.query().outerjoin()`: OUTER JOIN tra tabelle\n",
    "\n",
    "```python\n",
    "from myapp import db\n",
    "from myapp.models import User, Post\n",
    "\n",
    "user_posts = db.session.query(User, Post).outerjoin(Post, User.id == Post.user_id).all()\n",
    "```\n",
    "\n",
    "OUTPUT: Restituisce una lista di tuple contenenti oggetti `User` e `Post` uniti tramite una `LEFT OUTER JOIN`, secondo la condizione specificata. Se un utente non ha post corrispondenti, le colonne della tabella `Post` saranno `NULL`.\n",
    "\n",
    "> **NOTA BENE**: La `LEFT OUTER JOIN` mostra tutte le righe della tabella di sinistra (`User`), e le righe corrispondenti della tabella di destra (`Post`). Se non ci sono corrispondenze, le colonne della tabella di destra saranno `NULL`."
   ]
  },
  {
   "cell_type": "markdown",
   "metadata": {},
   "source": []
  }
 ],
 "metadata": {
  "language_info": {
   "name": "python"
  }
 },
 "nbformat": 4,
 "nbformat_minor": 2
}
