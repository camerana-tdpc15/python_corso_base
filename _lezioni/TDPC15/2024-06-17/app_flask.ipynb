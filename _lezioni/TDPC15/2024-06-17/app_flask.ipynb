{
 "cells": [
  {
   "cell_type": "markdown",
   "metadata": {},
   "source": [
    "## Esercitazione INF_PR_PY_WB_E08 - Autenticazione con base dati (object oriented)\n",
    "\n",
    "[Scarica il testo dell'esercitazione da Moodle](https://elearning.scuolacamerana.it/moodle/mod/assign/view.php?id=11295).\n",
    "\n",
    "Il passo successivo è quello di usare un [ORM](https://it.wikipedia.org/wiki/Object-relational_mapping) per interagire con un database.\n",
    "\n",
    "- `flask_login_5_db-orm/` è l'applicazione con l'uso del database, usando [SQLAlchemy](https://www.sqlalchemy.org/) come ORM.\n",
    "\n",
    "Per rendere più semplice l'uso di SQLAlchemy con Flask, gli stessi sviluppatori di Flask hanno creato [Flask-SQLAlchemy](https://flask-sqlalchemy.palletsprojects.com/en/3.1.x/), un modulo che semplifica la configurazione e l'integrazione tra i due moduli.\n"
   ]
  }
 ],
 "metadata": {
  "language_info": {
   "name": "python"
  }
 },
 "nbformat": 4,
 "nbformat_minor": 2
}
