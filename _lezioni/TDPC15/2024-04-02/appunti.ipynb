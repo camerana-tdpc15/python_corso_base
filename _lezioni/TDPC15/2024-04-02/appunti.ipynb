{
 "cells": [
  {
   "cell_type": "markdown",
   "metadata": {},
   "source": [
    "| Simbolo | Esempio    | Operazione                          |\n",
    "|:-------:|:----------:|-------------------------------------|\n",
    "| `+`     | `2 + 4`    | Addizione/Concatenazione            |\n",
    "| `-`     | `2 - 2`    | Sottrazione                         |\n",
    "| `*`     | `5 * 3`    | Moltiplicazione/Ripetizione         |\n",
    "| `/`     | `10 / 3`   | Divisione                           |\n",
    "| `**`    | `2 ** 3`   | Elevamento a potenza                |\n",
    "| `//`    | `10 // 3`  | Divisione intera (*floor division*) |\n",
    "| `%`     | `10 % 3`   | Modulo (resto della divisione)      |"
   ]
  },
  {
   "cell_type": "markdown",
   "metadata": {},
   "source": [
    "### Trick: verifica numeri pari e dispari \n",
    "\n",
    "L'operatore modulo (resto della divisione) può essere utile quando si vuole verificare se un numero è pari o dispari. Applicato a `2`, restituisce `1` per i numeri dispari e `0` per quelli pari."
   ]
  },
  {
   "cell_type": "code",
   "execution_count": null,
   "metadata": {},
   "outputs": [
    {
     "name": "stdout",
     "output_type": "stream",
     "text": [
      "1\n",
      "0\n"
     ]
    }
   ],
   "source": [
    "print(7 % 2)  # 1 -> 7 è un numero dispari\n",
    "print(8 % 2)  # 0 -> 8 è un numero pari"
   ]
  }
 ],
 "metadata": {
  "language_info": {
   "name": "python"
  }
 },
 "nbformat": 4,
 "nbformat_minor": 2
}
