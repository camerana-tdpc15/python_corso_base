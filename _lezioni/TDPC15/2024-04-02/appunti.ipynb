{
 "cells": [
  {
   "cell_type": "markdown",
   "metadata": {},
   "source": [
    "## Editor di codice e funzionalità multi-cursore:\n",
    "\n",
    "[03.01_ide_setup.ipynb - sezione: Funzionalità multi-cursore e selezioni multiple](../../../03.01_ide_setup.ipynb)"
   ]
  },
  {
   "cell_type": "markdown",
   "metadata": {},
   "source": [
    "## Teoria di ripasso su variabili, oggetti e operatori aritmetici:\n",
    "\n",
    "[04_python_base.ipynb - sezione: Variabili e oggetti](../../../04_python_base.ipynb)\n",
    "\n",
    "[04_python_base.ipynb - sezione: Espressioni e operatori aritmetici](../../../04_python_base.ipynb)\n",
    "\n"
   ]
  },
  {
   "cell_type": "markdown",
   "metadata": {},
   "source": [
    "| Simbolo | Esempio    | Operazione                          |\n",
    "|:-------:|:----------:|-------------------------------------|\n",
    "| `+`     | `2 + 4`    | Addizione/Concatenazione            |\n",
    "| `-`     | `2 - 2`    | Sottrazione                         |\n",
    "| `*`     | `5 * 3`    | Moltiplicazione/Ripetizione         |\n",
    "| `/`     | `10 / 3`   | Divisione                           |\n",
    "| `**`    | `2 ** 3`   | Elevamento a potenza                |\n",
    "| `//`    | `10 // 3`  | Divisione intera (*floor division*) |\n",
    "| `%`     | `10 % 3`   | Modulo (resto della divisione)      |"
   ]
  },
  {
   "cell_type": "markdown",
   "metadata": {},
   "source": [
    "### Trick: verifica numeri pari e dispari \n",
    "\n",
    "L'operatore modulo (resto della divisione) può essere utile quando si vuole verificare se un numero è pari o dispari. Applicato a `2`, restituisce `1` per i numeri dispari e `0` per quelli pari."
   ]
  },
  {
   "cell_type": "code",
   "execution_count": null,
   "metadata": {},
   "outputs": [
    {
     "name": "stdout",
     "output_type": "stream",
     "text": [
      "1\n",
      "0\n"
     ]
    }
   ],
   "source": [
    "print(7 % 2)  # 1 -> 7 è un numero dispari\n",
    "print(8 % 2)  # 0 -> 8 è un numero pari"
   ]
  },
  {
   "cell_type": "markdown",
   "metadata": {},
   "source": [
    "## Precedenza e associatività operatori\n",
    "\n",
    "[I_expressions.ipynb - sezione: Precedenza e associatività degli operatori](../../../I_expressions.ipynb)"
   ]
  }
 ],
 "metadata": {
  "language_info": {
   "name": "python"
  }
 },
 "nbformat": 4,
 "nbformat_minor": 2
}
