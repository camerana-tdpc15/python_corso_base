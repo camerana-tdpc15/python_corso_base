{
 "cells": [
  {
   "cell_type": "markdown",
   "metadata": {},
   "source": [
    "## VEDI REPOSITORY BACKEND\n",
    "\n",
    "Tutte le lezioni sul backend con Flask le abbiamo riaportate e ordinate nel repository ad hoc:\n",
    "\n",
    "https://github.com/camerana-tdpc15/backend"
   ]
  },
  {
   "cell_type": "markdown",
   "metadata": {},
   "source": [
    "## Correzione quiz su Moodle\n",
    "\n",
    "Abbiamo corretto assieme il quiz \"[Moduli e script](https://elearning.scuolacamerana.it/moodle/mod/quiz/view.php?id=10798)\" su Moodle."
   ]
  },
  {
   "cell_type": "markdown",
   "metadata": {},
   "source": [
    "## App `flask_login` con SQLite \"vanilla\" con l'ORM di SQLALchemy\n",
    "\n",
    "\n",
    "Abbiamo confrontato l'app `flask_login` implementata con SQLite direttamente e poi con l'ORM di SQLALchemy.\n"
   ]
  },
  {
   "cell_type": "markdown",
   "metadata": {},
   "source": [
    "## Flask-SQLAlchemy e \"Legacy Query API\"\n",
    "\n",
    "Ricorda che per le operazioni di lettura (READ), Flask-SQLAlchemy consente l'utilizzo delle cosiddette \"Legacy Query API\" di SQLAlchemy che si contrappongono alle nuove API.\n",
    "\n",
    "Noi useremo quelle \"vecchie\", ma tieni presente che quando cerchi sul web o chiedi all'AI, potresti trovare codice che usa le nuove API.\n",
    "\n",
    "Per approfondire:\n",
    "\n",
    "- [Legacy Query API](https://docs.sqlalchemy.org/en/20/orm/queryguide/query.html)\n",
    "\n",
    "- [Nuove API (2.0)](https://docs.sqlalchemy.org/en/20/orm/queryguide/index.html)"
   ]
  },
  {
   "cell_type": "markdown",
   "metadata": {},
   "source": [
    "## Relazioni tra le tabelle con SQLAlchemy\n",
    "\n",
    "Abbiamo visto come definire delle relazioni tra due tabelle in modo da accedere direttamente ai record collegati senza dover eseguire delle query con il join."
   ]
  },
  {
   "cell_type": "markdown",
   "metadata": {},
   "source": [
    "## Ripasso metodi particolari di SQLAlchemy\n",
    "\n",
    "```python\n",
    "# JOIN\n",
    "db.session.query(User.nome, Order.title).join(Order, Order.user_id=User.id).filter_by(altro=\"ciao\").all()\n",
    "\n",
    "# GROUP BY HAVING\n",
    "db.session.query(User.citta, func(count(*))).group_by(User.citta).having(func(count(*))>10).all()\n",
    "\n",
    "# SUBQUERY\n",
    "torino_subquery = User.query(User.id).filter_by(citta=\"Torino\").subquery()\n",
    "milano_subquery = User.query(User.id).filter_by(citta=\"Milano\").subquery()\n",
    "Order.query.filter_by(user_id.in_(torino_subquery))\n",
    "```"
   ]
  }
 ],
 "metadata": {
  "language_info": {
   "name": "python"
  }
 },
 "nbformat": 4,
 "nbformat_minor": 2
}
