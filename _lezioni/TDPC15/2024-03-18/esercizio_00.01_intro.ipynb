{
 "cells": [
  {
   "cell_type": "markdown",
   "metadata": {},
   "source": [
    "# Esercizi introduttivi"
   ]
  },
  {
   "cell_type": "markdown",
   "metadata": {},
   "source": [
    "TEMI TRATTATI:\n",
    "\n",
    "- Set-up dell’ambiente di sviluppo.\n",
    "- Stampare a monitor."
   ]
  },
  {
   "cell_type": "markdown",
   "metadata": {},
   "source": [
    "NOTE SULLO SVOLGIMENTO:\n",
    "- Puoi svolgere ed eseguire gli esercizi direttamente qua su questo notebook oppure su un normale file di script Python con estensione `.py`, eseguendolo nel terminale del sistema operativo con il comando `py mio_esercizio.py` (Windows) oppure `python3 mio_esercizio.py` (Linux o macOS).\n",
    "- Data la semplicità delle azioni richieste dai seguenti esercizi, potresti anche provare ad usare IDLE oppure direttamente l'interprete interattivo di Python, eseguibile dal terminale del sistema operativo con il comando `py` (Windows) oppure `python3` (Linux o macOS)."
   ]
  },
  {
   "cell_type": "markdown",
   "metadata": {},
   "source": [
    "## Esercizio 1: `print` base\n",
    "\n",
    "Obiettivo: Scrivere un programma che stampa vari tipi di dati, tra cui stringhe, numeri interi, numeri in virgola mobile e booleani. Ogni tipo di dato deve essere stampato su una nuova riga.\n",
    "\n",
    "Dati da stampare:\n",
    "\n",
    "```python\n",
    "\"Hello, World!\"\n",
    "'Ciao a tutti!'\n",
    "2024\n",
    "3.14159\n",
    "True\n",
    "[3, 5.4, 2, 'pippo']\n",
    "```\n",
    "\n",
    "Per ciascuno di questi dati, scrivi l'istruzione necessaria per stamparlo a monitor.\n",
    "\n",
    "Per esempio, queste due linee di codice:\n",
    "\n",
    "```python\n",
    "print('Questo dato è una stringa.')\n",
    "print(False)\n",
    "```\n",
    "\n",
    "Produrranno il seguente output:\n",
    "\n",
    "```log\n",
    "Questo dato è una stringa.\n",
    "False\n",
    "```"
   ]
  },
  {
   "cell_type": "markdown",
   "metadata": {},
   "source": [
    "### Esercizio:"
   ]
  },
  {
   "cell_type": "code",
   "execution_count": 5,
   "metadata": {},
   "outputs": [
    {
     "name": "stdout",
     "output_type": "stream",
     "text": [
      "[3, 5.4, 2, '45645']\n",
      "'23423'\n"
     ]
    }
   ],
   "source": [
    "# 1) I dati da stampare sono:\n",
    "\n",
    "# \"Hello, World!\"\n",
    "# 'Ciao a tutti!'\n",
    "# 2024\n",
    "# 3.14159\n",
    "# True\n",
    "# [3, 5.4, 2, 'pippo']\n",
    "\n",
    "# 2) Scrivi di seguito il tuo codice:\n",
    "\n",
    "# print(\"23423\")\n",
    "# print('Ciao a tutti!')\n",
    "\n",
    "print([3, 5.4, 2, '45645'])\n",
    "\n",
    "print(repr(\"23423\"))\n",
    "\n",
    "# 3) Ora esegui questa cella di codice per verificare che il tuo codice sia corretto."
   ]
  },
  {
   "cell_type": "markdown",
   "metadata": {},
   "source": [
    "## Esercizio 2: Concatenazione di stringhe in `print`\n",
    "\n",
    "Obiettivo: Utilizzare la funzione print per concatenare e stampare più stringhe. Scrivi un programma che prende diverse stringhe e le stampa in una riga unica, separandole con uno spazio.\n",
    "\n",
    "Per esempio, queste due linee di codice:\n",
    "\n",
    "```python\n",
    "person1 = 'Andrea' \n",
    "person2 = 'Marco' \n",
    "print(person1, person2)\n",
    "```\n",
    "\n",
    "Produrranno il seguente output:\n",
    "\n",
    "```log\n",
    "Andrea Marco\n",
    "```"
   ]
  },
  {
   "cell_type": "markdown",
   "metadata": {},
   "source": [
    "### Esercizio:"
   ]
  },
  {
   "cell_type": "markdown",
   "metadata": {},
   "source": [
    "Output richiesto:\n",
    "\n",
    "```\n",
    "Mario Rossi ha 30 anni\n",
    "```"
   ]
  },
  {
   "cell_type": "code",
   "execution_count": 11,
   "metadata": {},
   "outputs": [
    {
     "name": "stdout",
     "output_type": "stream",
     "text": [
      "Mario Rossi ha 30 anni\n",
      "Mario Rossi ha 30 anni XXX\n",
      "Mario Rossi ha 30 anni\n"
     ]
    }
   ],
   "source": [
    "# 1) I dati da stampare sono:\n",
    "\n",
    "first_name = \"Mario\"\n",
    "last_name = \"Rossi\"\n",
    "age = 30\n",
    "\n",
    "# Dovrebbe stampare: \"Mario Rossi ha 30 anni\"\n",
    "\n",
    "# 2) Scrivi di seguito il tuo codice:\n",
    "\n",
    "my_str = first_name + ' ' + last_name + ' ha ' + str(age) + ' anni'\n",
    "\n",
    "print(my_str)\n",
    "\n",
    "my_fstr = f'{first_name} {last_name} ha {age} anni'\n",
    "\n",
    "print(my_fstr)\n",
    "\n",
    "print(first_name, last_name, 'ha', age, 'anni')\n",
    "\n",
    "\n",
    "# 3) Ora esegui questa cella di codice per verificare che il tuo codice sia corretto."
   ]
  },
  {
   "cell_type": "code",
   "execution_count": 12,
   "metadata": {},
   "outputs": [
    {
     "name": "stdout",
     "output_type": "stream",
     "text": [
      "ciao\n",
      "\n",
      "\n",
      "ADDIO\n"
     ]
    }
   ],
   "source": [
    "print('ciao')\n",
    "print()\n",
    "print('')\n",
    "print('ADDIO')"
   ]
  },
  {
   "cell_type": "markdown",
   "metadata": {},
   "source": [
    "## Esercizio 3: Uso di `sep` e `end` in `print`\n",
    "\n",
    "Obiettivo: Sperimentare con gli argomenti `sep` e `end` della funzione `print`. Scrivi un programma che stampa diversi valori separandoli con un simbolo a scelta (ad esempio, una virgola) e termina la stampa con una frase conclusiva anziché andare a capo.\n",
    "\n",
    "Per esempio, il seguente codice:\n",
    "\n",
    "```python\n",
    "print('1', '2', '3', sep='-', end='!')\n",
    "```\n",
    "\n",
    "Produrrà il seguente output:\n",
    "\n",
    "```\n",
    "1-2-3!\n",
    "```"
   ]
  },
  {
   "cell_type": "markdown",
   "metadata": {},
   "source": [
    "### Esercizio:"
   ]
  },
  {
   "cell_type": "markdown",
   "metadata": {},
   "source": [
    "Output richiesto:\n",
    "\n",
    "```\n",
    "Mela, Banana, Fragola. Questi sono solo alcuni frutti!\n",
    "```"
   ]
  },
  {
   "cell_type": "code",
   "execution_count": 32,
   "metadata": {},
   "outputs": [
    {
     "name": "stdout",
     "output_type": "stream",
     "text": [
      ", , . Questi sono solo alcuni frutti!\n",
      ", , . Questi sono solo alcuni frutti!\n",
      ", , . Questi sono solo alcuni frutti!\n"
     ]
    }
   ],
   "source": [
    "# 1) I dati da stampare sono:\n",
    "\n",
    "# fruit1 = 'Avocado'\n",
    "# fruit2 = 'Banana'\n",
    "# fruit3 = 'Fragola'\n",
    "\n",
    "fruit1 = input('Inserire il nome di un frutto (1/3):')\n",
    "fruit2 = input('Inserire il nome di un frutto (2/3):')\n",
    "fruit3 = input('Inserire il nome di un frutto (3/3):')\n",
    "\n",
    "# Dovrebbe stampare: \"Mela, Banana, Fragola. Questi sono solo alcuni frutti!\"\n",
    "\n",
    "# 2) Scrivi di seguito il tuo codice:\n",
    "\n",
    "print(fruit1, fruit2, fruit3, sep=', ', end='. Questi sono solo alcuni frutti!')\n",
    "\n",
    "print()\n",
    "\n",
    "print(fruit1, fruit2, fruit3 + '. Questi sono solo alcuni frutti', sep=', ', end='!')\n",
    "\n",
    "print()\n",
    "\n",
    "print(fruit1, fruit2, fruit3, sep=', ', end='. ')\n",
    "print('Questi sono solo alcuni frutti!')\n",
    "\n",
    "\n",
    "# 3) Ora esegui questa cella di codice per verificare che il tuo codice sia corretto."
   ]
  },
  {
   "cell_type": "code",
   "execution_count": 26,
   "metadata": {},
   "outputs": [
    {
     "name": "stdout",
     "output_type": "stream",
     "text": [
      "ciao\n",
      "ciao\n",
      "ciao\n",
      "ciao\n"
     ]
    }
   ],
   "source": [
    "print('ciao')\n",
    "print('ciao')\n",
    "print('ciao')\n",
    "print('ciao')"
   ]
  },
  {
   "cell_type": "code",
   "execution_count": 28,
   "metadata": {},
   "outputs": [
    {
     "name": "stdout",
     "output_type": "stream",
     "text": [
      "ciao ciao ciao ciao "
     ]
    }
   ],
   "source": [
    "print('ciao', end=' ')\n",
    "print('ciao', end=' ')\n",
    "print('ciao', end=' ')\n",
    "print('ciao', end=' ')"
   ]
  },
  {
   "cell_type": "code",
   "execution_count": 30,
   "metadata": {},
   "outputs": [
    {
     "name": "stdout",
     "output_type": "stream",
     "text": [
      "Avocado\n"
     ]
    }
   ],
   "source": [
    "print(fruit3)"
   ]
  }
 ],
 "metadata": {
  "kernelspec": {
   "display_name": ".venv",
   "language": "python",
   "name": "python3"
  },
  "language_info": {
   "codemirror_mode": {
    "name": "ipython",
    "version": 3
   },
   "file_extension": ".py",
   "mimetype": "text/x-python",
   "name": "python",
   "nbconvert_exporter": "python",
   "pygments_lexer": "ipython3",
   "version": "3.10.0"
  }
 },
 "nbformat": 4,
 "nbformat_minor": 2
}
