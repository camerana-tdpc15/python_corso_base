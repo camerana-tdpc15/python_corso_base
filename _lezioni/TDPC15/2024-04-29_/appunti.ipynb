{
 "cells": [
  {
   "cell_type": "markdown",
   "metadata": {},
   "source": [
    "## Flask\n",
    "\n",
    "- https://flask.palletsprojects.com/en/3.0.x/"
   ]
  },
  {
   "cell_type": "markdown",
   "metadata": {},
   "source": [
    "## Virtual environment\n",
    "\n",
    "### Python Environment Manager\n",
    "\n",
    "Installare questa estensione di VS Code.\n",
    "\n",
    "- https://marketplace.visualstudio.com/items?itemName=donjayamanne.python-environment-manager"
   ]
  },
  {
   "cell_type": "markdown",
   "metadata": {},
   "source": [
    "Dato che la Power Shell dà problemi con i Virtual Environment:\n",
    "\n",
    "- Modificare il terminale di default con \n",
    "   1. Ctrl + Maiusc + P\n",
    "   2. Cercare / Selezionare \"Terminal: Select default profile\"\n",
    "   3. Selezionare \"Command Prompt\" (cmd.exe)"
   ]
  },
  {
   "cell_type": "markdown",
   "metadata": {},
   "source": [
    "http://localhost  # NOME DI DOMINIO\n",
    "\n",
    "http://127.0.0.1  # IP ADDRESS\n",
    "\n"
   ]
  },
  {
   "cell_type": "markdown",
   "metadata": {},
   "source": [
    "## Porte TCP/IP\n",
    "\n",
    "- http://127.0.0.1 &rarr; porta 80\n",
    "- https://127.0.0.1 &rarr; porta 443\n",
    "\n",
    "- http://127.0.0.1:5000 &rarr; porta 5000\n"
   ]
  },
  {
   "cell_type": "markdown",
   "metadata": {},
   "source": [
    "Chiusura del server Flask\n",
    "\n",
    "- Ctrl + C"
   ]
  }
 ],
 "metadata": {
  "kernelspec": {
   "display_name": "Python 3",
   "language": "python",
   "name": "python3"
  },
  "language_info": {
   "codemirror_mode": {
    "name": "ipython",
    "version": 3
   },
   "file_extension": ".py",
   "mimetype": "text/x-python",
   "name": "python",
   "nbconvert_exporter": "python",
   "pygments_lexer": "ipython3",
   "version": "3.10.0"
  }
 },
 "nbformat": 4,
 "nbformat_minor": 2
}
