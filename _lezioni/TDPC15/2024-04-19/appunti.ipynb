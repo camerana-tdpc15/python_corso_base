{
 "cells": [
  {
   "cell_type": "markdown",
   "metadata": {},
   "source": [
    "## `zip()`"
   ]
  },
  {
   "cell_type": "code",
   "execution_count": 2,
   "metadata": {},
   "outputs": [
    {
     "data": {
      "text/plain": [
       "[('pippo', 1), ('pluto', 2), ('foo', 3), ('bar', 4)]"
      ]
     },
     "execution_count": 2,
     "metadata": {},
     "output_type": "execute_result"
    }
   ],
   "source": [
    "list1 = ['pippo', 'pluto', 'foo', 'bar']\n",
    "list2 = [1, 2, 3, 4]\n",
    "\n",
    "list(zip(list1, list2))"
   ]
  },
  {
   "cell_type": "markdown",
   "metadata": {},
   "source": [
    "## `enumerate()`"
   ]
  },
  {
   "cell_type": "code",
   "execution_count": 2,
   "metadata": {},
   "outputs": [
    {
     "data": {
      "text/plain": [
       "[(0, 'pippo'), (1, 'pluto'), (2, 'foo'), (3, 'bar')]"
      ]
     },
     "execution_count": 2,
     "metadata": {},
     "output_type": "execute_result"
    }
   ],
   "source": [
    "list(enumerate(['pippo', 'pluto', 'foo', 'bar']))"
   ]
  },
  {
   "cell_type": "code",
   "execution_count": null,
   "metadata": {},
   "outputs": [
    {
     "name": "stdout",
     "output_type": "stream",
     "text": [
      "2\n",
      "4\n"
     ]
    }
   ],
   "source": [
    "foo, bar = (2, 4)\n",
    "\n",
    "print(foo)\n",
    "print(bar)"
   ]
  },
  {
   "cell_type": "code",
   "execution_count": 5,
   "metadata": {},
   "outputs": [
    {
     "name": "stdout",
     "output_type": "stream",
     "text": [
      "Indice: 0\n",
      "Elemento: pippo\n",
      "-----------------\n",
      "Indice: 1\n",
      "Elemento: pluto\n",
      "-----------------\n",
      "Indice: 2\n",
      "Elemento: foo\n",
      "-----------------\n",
      "Indice: 3\n",
      "Elemento: bar\n",
      "-----------------\n"
     ]
    }
   ],
   "source": [
    "for idx, elem in enumerate(['pippo', 'pluto', 'foo', 'bar']):\n",
    "    print('Indice:', idx)\n",
    "    print('Elemento:', elem)\n",
    "    print('-----------------')"
   ]
  },
  {
   "cell_type": "code",
   "execution_count": 6,
   "metadata": {},
   "outputs": [
    {
     "name": "stdout",
     "output_type": "stream",
     "text": [
      "Indice: 0\n",
      "Elemento: pippo\n",
      "-----------------\n",
      "Indice: 1\n",
      "Elemento: pluto\n",
      "-----------------\n",
      "Indice: 2\n",
      "Elemento: foo\n",
      "-----------------\n",
      "Indice: 3\n",
      "Elemento: bar\n",
      "-----------------\n"
     ]
    }
   ],
   "source": [
    "idx = 0\n",
    "for elem in ['pippo', 'pluto', 'foo', 'bar']:\n",
    "    print('Indice:', idx)\n",
    "    print('Elemento:', elem)\n",
    "    print('-----------------')\n",
    "    idx += 1"
   ]
  }
 ],
 "metadata": {
  "kernelspec": {
   "display_name": ".venv",
   "language": "python",
   "name": "python3"
  },
  "language_info": {
   "codemirror_mode": {
    "name": "ipython",
    "version": 3
   },
   "file_extension": ".py",
   "mimetype": "text/x-python",
   "name": "python",
   "nbconvert_exporter": "python",
   "pygments_lexer": "ipython3",
   "version": "3.11.2"
  }
 },
 "nbformat": 4,
 "nbformat_minor": 2
}
