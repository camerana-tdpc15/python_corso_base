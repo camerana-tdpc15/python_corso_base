{
 "cells": [
  {
   "cell_type": "markdown",
   "metadata": {},
   "source": [
    "# Esercizi introduttivi"
   ]
  },
  {
   "cell_type": "markdown",
   "metadata": {},
   "source": [
    "TEMI TRATTATI:\n",
    "\n",
    "- Cicli con `while` e `for`\n",
    "- Elaborazione di input e output complessi"
   ]
  },
  {
   "cell_type": "markdown",
   "metadata": {},
   "source": [
    "NOTE SULLO SVOLGIMENTO:\n",
    "- Puoi svolgere ed eseguire gli esercizi direttamente qua su questo notebook oppure su un normale file di script Python con estensione `.py`, eseguendolo nel terminale del sistema operativo con il comando `py mio_esercizio.py` (Windows) oppure `python3 mio_esercizio.py` (Linux o macOS)."
   ]
  },
  {
   "cell_type": "markdown",
   "metadata": {},
   "source": [
    "## Esercizio 1: Tutti i gli interi che vuoi\n",
    "\n",
    "Scrivere un programma che legga una sequenza di numeri interi (la sequenza termina quando viene inserita una stringa vuota) e che, dopo ogni nuova acquisizione, calcoli e visualizzi:\n",
    "\n",
    "1. le somme parziali di tutti i numeri acquisiti. Il programma deve visualizzare il risultato dei calcoli dopo ogni nuova acquisizione. Se, ad esempio, i valori in ingresso sono `1 7 2 9`, il programma visualizzerà la somma parziale dei numeri acquisiti dopo ogni acquisizione:\n",
    "    1. alla prima acquisizione (`1`), il primo valore acquisito:\n",
    "        - `Somma parziale: 1`\n",
    "    2. alla seconda acquisizione (`7`), la somma tra la prima e la seconda acquisizione:\n",
    "        - (1 + 7)\n",
    "        - `Somma parziale: 8`\n",
    "    3. alla terza acquisizione (`2`), la somma tra la prima, la seconda e la terza acquisizione:\n",
    "        - (1 + 7 + 2)\n",
    "        - `Somma parziale: 10`\n",
    "    4. alla quarta acquisizione (`9`), la somma tra la prima, la seconda, la terza e la quarta acquisizione:\n",
    "        - (1 + 7 + 2 + 9)\n",
    "        - `Somma parziale: 19`\n",
    "\n",
    "2. Il valore minimo e il valore massimo tra quelli acquisiti. Ad esempio, con `1 7 2 9`:\n",
    "    - `Valore massimo: 9`\n",
    "    - `Valore minimo: 1`\n",
    "\n",
    "3. Il numero di valori pari e il numero di valori dispari tra quelli acquisiti. Ad esempio, con `1 7 2 9`:\n",
    "    - `N. valori pari: 1`\n",
    "    - `N. valori dispari: 3`"
   ]
  },
  {
   "cell_type": "markdown",
   "metadata": {},
   "source": [
    "### Dividere un'espressione o un'istruizione su più righe"
   ]
  },
  {
   "cell_type": "code",
   "execution_count": 10,
   "metadata": {},
   "outputs": [
    {
     "data": {
      "text/plain": [
       "'dfgdfgdfgdfgsdfsfsdfsdfsdfsdfsdfsdfsdsdfsdfsdf'"
      ]
     },
     "execution_count": 10,
     "metadata": {},
     "output_type": "execute_result"
    }
   ],
   "source": [
    "# Con il back-slash al termine della riga, prima dell'invio\n",
    "pippo = 'dfgdfgdfgdfg' +  'sdfsfsdfsdf' + 'sdfsdfsdfsdfsd' \\\n",
    "    + 'sdfsdfsdf'\n",
    "\n",
    "# Usando un \"gruppo\" (...)\n",
    "# ATTENZIONE: questo non è una tupla, ma è un gruppo!\n",
    "pluto = ('dfgdfgdfgdfg' +  'sdfsfsdfsdf' + 'sdfsdfsdfsdfsd'\n",
    "    + 'sdfsdfsdf')\n",
    "\n",
    "# Andare a capo in un if\n",
    "if pippo == 3 or pluto in \\\n",
    "        [4,56] and 'pippo' or ...:  # Nota che questa riga è \"più indentata\" (come in poesia)\n",
    "    print('blah!')\n"
   ]
  },
  {
   "cell_type": "code",
   "execution_count": 17,
   "metadata": {},
   "outputs": [
    {
     "name": "stdout",
     "output_type": "stream",
     "text": [
      "La somma parziale è: 4\n",
      "La somma parziale è: 71\n",
      "La somma parziale è: 74\n",
      "[4, 67, 3]\n",
      "Il numero minimo è: 3\n",
      "Il numero massimo è: 67\n",
      "I numeri pari sono: 1\n",
      "I numeri dispari sono: 2\n"
     ]
    }
   ],
   "source": [
    "# Scrivi qua il tuo codice\n",
    "numeri = []\n",
    "somma = 0\n",
    "\n",
    "while True:\n",
    "    # Chiedo all'utente di inserire un numero\n",
    "    user_input = input(\n",
    "        'Inserisci un numero e premi Invio, '\n",
    "        'oppure premi solo Invio per terminare'\n",
    "    )\n",
    "\n",
    "\n",
    "    # Se l'input è una stringa vuota\n",
    "    if not user_input:\n",
    "        # Mi fermo\n",
    "        break\n",
    "    # Se l'input non è una stringa vuota.\n",
    "    else:\n",
    "        # Implementazione eventuali controlli prima della convesione in intero\n",
    "        ...\n",
    "        # Converto in intero l'input\n",
    "        user_input = int(user_input)\n",
    "        # Calcolo la somma parziale e la stampo\n",
    "        somma += user_input\n",
    "        print('La somma parziale è:', somma)\n",
    "        # Continuo e chiedo un altro numero\n",
    "\n",
    "    numeri.append(user_input)\n",
    "\n",
    "# Ora ho la mia lista di numeri\n",
    "print(numeri)\n",
    "\n",
    "# Calolo il min\n",
    "minimo = min(numeri)\n",
    "print('Il numero minimo è:', minimo)\n",
    "# Calcolo il max\n",
    "massimo = max(numeri)\n",
    "print('Il numero massimo è:', massimo)\n",
    "\n",
    "num_pari = 0\n",
    "num_dispari = 0\n",
    "\n",
    "for num in numeri:\n",
    "    # Conto i numeri pari\n",
    "    # Conto i numeri dispari\n",
    "    if num % 2:\n",
    "        num_dispari += 1\n",
    "    else:\n",
    "        num_pari += 1\n",
    "\n",
    "print('I numeri pari sono:', num_pari)\n",
    "print('I numeri dispari sono:', num_dispari)\n"
   ]
  },
  {
   "cell_type": "markdown",
   "metadata": {},
   "source": [
    "## Esercizio 2: Analisi di una stringa\n",
    "\n",
    "Scrivere un programma che legga una riga di testo in ingresso sotto forma di stringa e visualizzi quanto segue:\n",
    "\n",
    "- le sole lettere maiuscole della stringa;\n",
    "- le lettere in posizioni pari nella stringa;\n",
    "- la stessa stringa in cui, al posto delle vocali (maiuscole o minuscole), vi sia un underscore (_);\n",
    "- il numero di cifre numeriche presenti nella stringa;\n",
    "- le posizioni di tutte le vocali presenti nella stringa. "
   ]
  },
  {
   "cell_type": "code",
   "execution_count": 36,
   "metadata": {},
   "outputs": [
    {
     "name": "stdout",
     "output_type": "stream",
     "text": [
      "['P', 'L', 'T']\n",
      "['i', 'p', ' ', '2', ' ', 'L', 'T']\n",
      "P_pp_ 123 pL_T_\n",
      "3\n",
      "[(2, 'i'), (5, 'o'), (13, 'u'), (15, 'o')]\n"
     ]
    }
   ],
   "source": [
    "# Scrivi qua il tuo codice\n",
    "\n",
    "import re\n",
    "\n",
    "input_str = 'Pippo 123 pLuTo'\n",
    "maiuscole = []\n",
    "char_pari = []\n",
    "str_censurata = ''\n",
    "count_numeri = 0\n",
    "posizione_vocali = []\n",
    "\n",
    "for idx, char in enumerate(input_str):  # [(0, 'P'), (1, 'i'), (2, 'p'), ...]\n",
    "    if char.isupper():  # Controlla se il carattere è minuscolo\n",
    "        maiuscole.append(char)\n",
    "\n",
    "    if (idx + 1) % 2 == 0:  # Controlla se il carattere è in posizione pari\n",
    "        char_pari.append(char)\n",
    "\n",
    "    # CENSURA METODO 1\n",
    "    # Ricostruiamo una nuova stringa con la censura delle vocali\n",
    "    if char.lower() in 'aeiou':  # Controlla se il carattere è una vocale\n",
    "        str_censurata += '_'  # Censura il carattere\n",
    "        posizione_vocali.append((idx + 1, char))  # Annota la posizione della vocale\n",
    "    else:\n",
    "        str_censurata += char  # Riporta il carattere così com'è\n",
    "\n",
    "\n",
    "    if char.isdigit():  # Controlla se il carattere è numerico\n",
    "        count_numeri += 1\n",
    "\n",
    "# CENSURA METODO 2\n",
    "# str_censurata = input_str\n",
    "# for vocale in 'aeiouAEIOU':\n",
    "#     str_censurata = str_censurata.replace(vocale, '_')\n",
    "\n",
    "# CENSURA METODO 3\n",
    "# str_censurata = re.sub('[aeiouAEIOU]', '_', input_str)\n",
    "\n",
    "print(maiuscole)\n",
    "print(char_pari)\n",
    "print(str_censurata)\n",
    "print(count_numeri)\n",
    "print(posizione_vocali)"
   ]
  },
  {
   "cell_type": "markdown",
   "metadata": {},
   "source": [
    "### `str.find(substr, start)`"
   ]
  },
  {
   "cell_type": "code",
   "execution_count": 23,
   "metadata": {},
   "outputs": [
    {
     "name": "stdout",
     "output_type": "stream",
     "text": [
      "0\n",
      "4\n",
      "8\n"
     ]
    }
   ],
   "source": [
    "print('a123a567a'.find('a'))\n",
    "print('a123a567a'.find('a', 2))\n",
    "print('a123a567a'.find('a', 6))"
   ]
  },
  {
   "cell_type": "markdown",
   "metadata": {},
   "source": [
    "### `enumerate(iterabile)`"
   ]
  },
  {
   "cell_type": "code",
   "execution_count": 2,
   "metadata": {},
   "outputs": [
    {
     "data": {
      "text/plain": [
       "[(0, 'P'),\n",
       " (1, 'i'),\n",
       " (2, 'p'),\n",
       " (3, 'p'),\n",
       " (4, 'o'),\n",
       " (5, ' '),\n",
       " (6, '1'),\n",
       " (7, '2'),\n",
       " (8, '3'),\n",
       " (9, ' '),\n",
       " (10, 'p'),\n",
       " (11, 'L'),\n",
       " (12, 'u'),\n",
       " (13, 'T'),\n",
       " (14, 'o')]"
      ]
     },
     "execution_count": 2,
     "metadata": {},
     "output_type": "execute_result"
    }
   ],
   "source": [
    "input_str = 'Pippo 123 pLuTo'\n",
    "list(enumerate(input_str))"
   ]
  },
  {
   "cell_type": "code",
   "execution_count": 3,
   "metadata": {},
   "outputs": [
    {
     "data": {
      "text/plain": [
       "<enumerate at 0x1b5c6de6b80>"
      ]
     },
     "execution_count": 3,
     "metadata": {},
     "output_type": "execute_result"
    }
   ],
   "source": [
    "enumerate(input_str)"
   ]
  },
  {
   "cell_type": "markdown",
   "metadata": {},
   "source": [
    "### Unpacking e assegnazione multipla"
   ]
  },
  {
   "cell_type": "code",
   "execution_count": 28,
   "metadata": {},
   "outputs": [
    {
     "name": "stdout",
     "output_type": "stream",
     "text": [
      "0\n",
      "P\n"
     ]
    }
   ],
   "source": [
    "idx, char = (0, 'P')\n",
    "\n",
    "print(idx)\n",
    "print(char)"
   ]
  },
  {
   "cell_type": "markdown",
   "metadata": {},
   "source": [
    "### Prova `str.replace()` con ciclo `for`"
   ]
  },
  {
   "cell_type": "code",
   "execution_count": 32,
   "metadata": {},
   "outputs": [
    {
     "data": {
      "text/plain": [
       "'dg j_skdhDB__'"
      ]
     },
     "execution_count": 32,
     "metadata": {},
     "output_type": "execute_result"
    }
   ],
   "source": [
    "str_init = 'dg jeskdhDBAA'\n",
    "str_censurata = str_init\n",
    "# for vocale in ['a', 'e', 'i', 'o', 'u', 'A', 'E', 'I', 'O', 'U']:\n",
    "for vocale in 'aeiouAEIOU':\n",
    "    str_censurata = str_censurata.replace(vocale, '_')\n",
    "\n",
    "str_censurata"
   ]
  },
  {
   "cell_type": "markdown",
   "metadata": {},
   "source": [
    "## Esercizio 3: Quadrato e rombo\n",
    "\n",
    "Scrivere un programma che legga un numero intero `n` e visualizzi, usando asterischi `'*'`, un quadrato e un rombo pieni, il cui lato abbia lunghezza n.\n",
    "\n",
    "Se, ad esempio, l’utente fornisce il numero `4`, il programma deve visualizzare:\n",
    "\n",
    "```text\n",
    "****\n",
    "****\n",
    "****\n",
    "****\n",
    "\n",
    "   *\n",
    "  ***\n",
    " *****\n",
    "*******\n",
    " *****\n",
    "  ***\n",
    "   *\n",
    "```"
   ]
  },
  {
   "cell_type": "markdown",
   "metadata": {},
   "source": [
    "### Quadrati"
   ]
  },
  {
   "cell_type": "code",
   "execution_count": 4,
   "metadata": {},
   "outputs": [
    {
     "name": "stdout",
     "output_type": "stream",
     "text": [
      "Io sono un \"quadrato\" di lato 5 :(\n",
      "\n",
      "*****\n",
      "*****\n",
      "*****\n",
      "*****\n",
      "*****\n",
      "\n"
     ]
    }
   ],
   "source": [
    "lato = input('Inserire un numero intero per il lato: ')\n",
    "n = int(lato)\n",
    "simbolo_1 = '*'\n",
    "simbolo_2 = ' '\n",
    "\n",
    "# Cursori\n",
    "riga_quadrato = 0\n",
    "\n",
    "# Disegno di un \"quadrato\"\n",
    "\n",
    "print(f'Io sono un \"quadrato\" di lato {n} :(\\n')\n",
    "\n",
    "while riga_quadrato < n:\n",
    "    print(n*simbolo_1)\n",
    "    riga_quadrato += 1\n",
    "\n",
    "print()\n"
   ]
  },
  {
   "cell_type": "code",
   "execution_count": 3,
   "metadata": {},
   "outputs": [
    {
     "ename": "NameError",
     "evalue": "name 'input_lato' is not defined",
     "output_type": "error",
     "traceback": [
      "\u001b[0;31m---------------------------------------------------------------------------\u001b[0m",
      "\u001b[0;31mNameError\u001b[0m                                 Traceback (most recent call last)",
      "Cell \u001b[0;32mIn[3], line 10\u001b[0m\n\u001b[1;32m      7\u001b[0m             \u001b[38;5;28mprint\u001b[39m(\u001b[38;5;124mf\u001b[39m\u001b[38;5;124m'\u001b[39m\u001b[38;5;124mIl valore inserito non è una cifra numerica! \u001b[39m\u001b[38;5;132;01m{\u001b[39;00mquestion\u001b[38;5;132;01m}\u001b[39;00m\u001b[38;5;124m'\u001b[39m)\n\u001b[1;32m      8\u001b[0m \u001b[38;5;66;03m#- Main()\u001b[39;00m\n\u001b[0;32m---> 10\u001b[0m input_lato \u001b[38;5;241m=\u001b[39m \u001b[38;5;28mint\u001b[39m(\u001b[43mask_input\u001b[49m\u001b[43m(\u001b[49m\u001b[43m)\u001b[49m)\n\u001b[1;32m     11\u001b[0m counter_char1 \u001b[38;5;241m=\u001b[39m \u001b[38;5;241m0\u001b[39m\n\u001b[1;32m     13\u001b[0m \u001b[38;5;28;01mwhile\u001b[39;00m counter_char1 \u001b[38;5;241m<\u001b[39m input_lato: \u001b[38;5;66;03m# quadrato\u001b[39;00m\n",
      "Cell \u001b[0;32mIn[3], line 2\u001b[0m, in \u001b[0;36mask_input\u001b[0;34m()\u001b[0m\n\u001b[1;32m      1\u001b[0m \u001b[38;5;28;01mdef\u001b[39;00m \u001b[38;5;21mask_input\u001b[39m():\n\u001b[0;32m----> 2\u001b[0m     question \u001b[38;5;241m=\u001b[39m \u001b[43minput_lato\u001b[49m(\u001b[38;5;124m\"\u001b[39m\u001b[38;5;124minserisci un numero intero: \u001b[39m\u001b[38;5;124m\"\u001b[39m)\n\u001b[1;32m      3\u001b[0m     \u001b[38;5;28;01mwhile\u001b[39;00m \u001b[38;5;28;01mTrue\u001b[39;00m:\n\u001b[1;32m      4\u001b[0m         \u001b[38;5;28;01mif\u001b[39;00m question\u001b[38;5;241m.\u001b[39misdigit():\n",
      "\u001b[0;31mNameError\u001b[0m: name 'input_lato' is not defined"
     ]
    }
   ],
   "source": [
    "def ask_input():\n",
    "    question = input_lato(\"inserisci un numero intero: \")\n",
    "    while True:\n",
    "        if question.isdigit():\n",
    "            return question\n",
    "        else:\n",
    "            print(f'Il valore inserito non è una cifra numerica! {question}')\n",
    "#- Main()\n",
    "\n",
    "input_lato = int(ask_input())\n",
    "counter_char1 = 0\n",
    "\n",
    "while counter_char1 < input_lato: # quadrato\n",
    "    print('*' * input_lato)\n",
    "    counter_char1 += 1"
   ]
  },
  {
   "cell_type": "code",
   "execution_count": 5,
   "metadata": {},
   "outputs": [
    {
     "name": "stdout",
     "output_type": "stream",
     "text": [
      "*****\n",
      "*****\n",
      "*****\n",
      "*****\n",
      "*****\n"
     ]
    }
   ],
   "source": [
    "lato = input('Inserire un numero intero per il lato: ')\n",
    "n = int(lato)\n",
    "\n",
    "for _ in range(n):\n",
    "    print('*' * n)\n"
   ]
  },
  {
   "cell_type": "markdown",
   "metadata": {},
   "source": [
    "### Rombi"
   ]
  },
  {
   "cell_type": "code",
   "execution_count": 7,
   "metadata": {},
   "outputs": [
    {
     "name": "stdout",
     "output_type": "stream",
     "text": [
      "Invece io sono un rombo di lato 5 :)\n",
      "\n",
      "....*....\n",
      "...***...\n",
      "..*****..\n",
      ".*******.\n",
      "*********\n",
      ".*******.\n",
      "..*****..\n",
      "...***...\n",
      "....*....\n"
     ]
    }
   ],
   "source": [
    "lato = input('Inserire un numero intero per il lato: ')\n",
    "n = int(lato)\n",
    "simbolo_1 = '*'\n",
    "simbolo_2 = '.'\n",
    "\n",
    "riga_rombo = 1\n",
    "\n",
    "# Disegno di un rombo\n",
    "\n",
    "print(f'Invece io sono un rombo di lato {n} :)\\n')\n",
    "\n",
    "while riga_rombo < 2*n:\n",
    "    if riga_rombo < n + 1:\n",
    "        print((n-riga_rombo)*simbolo_2 + (riga_rombo*2-1)*simbolo_1 +\n",
    "              (n-riga_rombo)*simbolo_2)\n",
    "    \n",
    "    riga_rombo += 1\n",
    "\n",
    "while riga_rombo > 0:\n",
    "        if riga_rombo < n:\n",
    "             print(f'{(n-riga_rombo)*simbolo_2}{(riga_rombo*2-1)*simbolo_1}'\n",
    "                   f'{(n-riga_rombo)*simbolo_2}')\n",
    "    \n",
    "        riga_rombo -= 1"
   ]
  },
  {
   "cell_type": "code",
   "execution_count": 8,
   "metadata": {},
   "outputs": [
    {
     "name": "stdout",
     "output_type": "stream",
     "text": [
      "....*\n",
      "...***\n",
      "..*****\n",
      ".*******\n",
      "*********\n",
      ".*******\n",
      "..*****\n",
      "...***\n",
      "....*\n"
     ]
    }
   ],
   "source": [
    "def ask_input():\n",
    "    question = input(\"inserisci un numero intero: \")\n",
    "    while True:\n",
    "        if question.isdigit():\n",
    "            return question\n",
    "        else:\n",
    "            print(f'Il valore inserito non è una cifra numerica! {question}')\n",
    "#- Main()\n",
    "\n",
    "input_lato = int(ask_input())\n",
    "counter_char1 = 0\n",
    "counter_char2 = 0\n",
    "\n",
    "while counter_char1 < (input_lato-1): # 0++ < input\n",
    "    if not(counter_char2 % 2):   # Se pari\n",
    "        counter_char2 += 1\n",
    "    print('.' * ((input_lato - counter_char1) - 1) + '*' * counter_char2)\n",
    "    counter_char1 += 1\n",
    "    counter_char2 += 1 \n",
    "\n",
    "counter_char1 = 0\n",
    "counter_char2 += 1\n",
    "\n",
    "while counter_char1 < input_lato:\n",
    "    if not(counter_char2 % 2):\n",
    "        counter_char2 -= 1\n",
    "    print('.' * (counter_char1) + '*' * counter_char2)\n",
    "    counter_char1 += 1\n",
    "    counter_char2 -= 1"
   ]
  },
  {
   "cell_type": "code",
   "execution_count": 9,
   "metadata": {},
   "outputs": [
    {
     "name": "stdout",
     "output_type": "stream",
     "text": [
      "....*\n",
      "...***\n",
      "..*****\n",
      ".*******\n",
      "*********\n",
      ".*******\n",
      "..*****\n",
      "...***\n",
      "....*\n"
     ]
    }
   ],
   "source": [
    "# Legge la lunghezza del lato dall'utente\n",
    "lunghezza_lato = int(input('Inserire la lunghezza del lato (intero): '))\n",
    "\n",
    "# DISEGNA IL ROMBO\n",
    "\n",
    "# Disegna la parte superiore del rombo\n",
    "for y in range(1, lunghezza_lato):\n",
    "    print('.' * (lunghezza_lato - y) + '*' * (y * 2 - 1))\n",
    "\n",
    "# Disegna la parte inferiore del rombo, inclusa la linea centrale\n",
    "for y in range(lunghezza_lato, 0, -1):\n",
    "    print('.' * (lunghezza_lato - y) + '*' * (y * 2 - 1))"
   ]
  },
  {
   "cell_type": "code",
   "execution_count": 4,
   "metadata": {},
   "outputs": [
    {
     "data": {
      "text/plain": [
       "[6, 5, 4, 3, 2, 1]"
      ]
     },
     "execution_count": 4,
     "metadata": {},
     "output_type": "execute_result"
    }
   ],
   "source": [
    "list(range(6, 0, -1))"
   ]
  },
  {
   "cell_type": "markdown",
   "metadata": {},
   "source": [
    "## Esercizio 4: Parole al contrario\n",
    "\n",
    "Scrivere un programma che legga una parola e visualizzi:\n",
    "\n",
    "- La parola al contrario. Se, ad esempio, l’utente fornisce la stringa `'Ciao'`, il programma deve visualizzare `'oaiC'`.\n",
    "\n",
    "- Le lettere maiuscole partendo dal fondo. Se, ad esempio, l’utente fornisce la stringa `'CiAo'`, il programma deve visualizzare `'AC'`."
   ]
  },
  {
   "cell_type": "code",
   "execution_count": null,
   "metadata": {},
   "outputs": [],
   "source": [
    "# Scrivi qua il tuo codice\n"
   ]
  },
  {
   "cell_type": "markdown",
   "metadata": {},
   "source": [
    "## Esercizio 5: Spezzatino di parola\n",
    "\n",
    "Scrivere un programma che legga una parola e visualizzi tutte le sue sottostringhe, ordinate per lunghezza crescente.\n",
    "\n",
    "Se, ad esempio, l’utente fornisce la stringa `'rum'`, il programma deve visualizzare:\n",
    "\n",
    "```text\n",
    "r\n",
    "u\n",
    "m\n",
    "ru\n",
    "um\n",
    "rum\n",
    "```"
   ]
  },
  {
   "cell_type": "code",
   "execution_count": null,
   "metadata": {},
   "outputs": [],
   "source": [
    "# Scrivi qua il tuo codice\n"
   ]
  },
  {
   "cell_type": "markdown",
   "metadata": {},
   "source": [
    "## Esercizio 6: PIN\n",
    "\n",
    "Quando utilizzate uno sportello bancario automatico (ATM, Automatic Teller Machine) con la vostra carta, dovete usare un numero identificativo personale (PIN, Personal Identification Number) per poter accedere al vostro conto.\n",
    "\n",
    "Se un utente sbaglia tre volte l’inserimento del PIN, la macchina trattiene la carta e la blocca.\n",
    "\n",
    "Nell’ipotesi che il PIN dell’utente sia `1234`, scrivere un programma che chieda all’utente di digitare il PIN, consentendo al massimo tre tentativi e funzioni in questo modo:\n",
    "\n",
    "- Quando l’utente inserisce il numero corretto, visualizza il messaggio`'Your PIN is correct'` e termina.\n",
    "- Quando l’utente inserisce un numero sbagliato, visualizza il messaggio `'Your PIN is incorrect'` e, se ha chiesto il PIN meno di tre volte, lo chiede di nuovo.\n",
    "- Quando l’utente inserisce un numero sbagliato per la terza volta, visualizza il messaggio `'Your bank card is blocked'` e termina il programma."
   ]
  },
  {
   "cell_type": "code",
   "execution_count": null,
   "metadata": {},
   "outputs": [],
   "source": [
    "# Scrivi qua il tuo codice\n"
   ]
  }
 ],
 "metadata": {
  "kernelspec": {
   "display_name": ".venv",
   "language": "python",
   "name": "python3"
  },
  "language_info": {
   "codemirror_mode": {
    "name": "ipython",
    "version": 3
   },
   "file_extension": ".py",
   "mimetype": "text/x-python",
   "name": "python",
   "nbconvert_exporter": "python",
   "pygments_lexer": "ipython3",
   "version": "3.11.2"
  }
 },
 "nbformat": 4,
 "nbformat_minor": 2
}
