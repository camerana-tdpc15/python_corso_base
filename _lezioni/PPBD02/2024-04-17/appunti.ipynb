{
 "cells": [
  {
   "cell_type": "markdown",
   "metadata": {},
   "source": [
    "## Operatori logici"
   ]
  },
  {
   "cell_type": "code",
   "execution_count": 3,
   "metadata": {},
   "outputs": [
    {
     "data": {
      "text/plain": [
       "False"
      ]
     },
     "execution_count": 3,
     "metadata": {},
     "output_type": "execute_result"
    }
   ],
   "source": [
    "True and False"
   ]
  },
  {
   "cell_type": "markdown",
   "metadata": {},
   "source": [
    "Gli operatori logici restituiscono l'ultimo elemento valutato"
   ]
  },
  {
   "cell_type": "code",
   "execution_count": 6,
   "metadata": {},
   "outputs": [
    {
     "data": {
      "text/plain": [
       "''"
      ]
     },
     "execution_count": 6,
     "metadata": {},
     "output_type": "execute_result"
    }
   ],
   "source": [
    "'' and 'pluto'"
   ]
  },
  {
   "cell_type": "code",
   "execution_count": 7,
   "metadata": {},
   "outputs": [
    {
     "data": {
      "text/plain": [
       "False"
      ]
     },
     "execution_count": 7,
     "metadata": {},
     "output_type": "execute_result"
    }
   ],
   "source": [
    "not True"
   ]
  },
  {
   "cell_type": "code",
   "execution_count": 8,
   "metadata": {},
   "outputs": [
    {
     "data": {
      "text/plain": [
       "True"
      ]
     },
     "execution_count": 8,
     "metadata": {},
     "output_type": "execute_result"
    }
   ],
   "source": [
    "not False"
   ]
  },
  {
   "cell_type": "code",
   "execution_count": 11,
   "metadata": {},
   "outputs": [
    {
     "data": {
      "text/plain": [
       "False"
      ]
     },
     "execution_count": 11,
     "metadata": {},
     "output_type": "execute_result"
    }
   ],
   "source": [
    "not 'pippo'"
   ]
  },
  {
   "cell_type": "markdown",
   "metadata": {},
   "source": [
    "## Help\n",
    "\n",
    "Accesso alla guida integrata nell'interprete Python."
   ]
  },
  {
   "cell_type": "code",
   "execution_count": null,
   "metadata": {},
   "outputs": [
    {
     "name": "stdout",
     "output_type": "stream",
     "text": [
      "Help on built-in function asctime in module time:\n",
      "\n",
      "asctime(...)\n",
      "    asctime([tuple]) -> string\n",
      "    \n",
      "    Convert a time tuple to a string, e.g. 'Sat Jun 06 16:26:11 1998'.\n",
      "    When the time tuple is not present, current time as returned by localtime()\n",
      "    is used.\n",
      "\n"
     ]
    }
   ],
   "source": [
    "from time import asctime\n",
    "\n",
    "help(asctime)"
   ]
  },
  {
   "cell_type": "code",
   "execution_count": null,
   "metadata": {},
   "outputs": [
    {
     "name": "stdout",
     "output_type": "stream",
     "text": [
      "Help on built-in function asctime in time:\n",
      "\n",
      "time.asctime = asctime(...)\n",
      "    asctime([tuple]) -> string\n",
      "    \n",
      "    Convert a time tuple to a string, e.g. 'Sat Jun 06 16:26:11 1998'.\n",
      "    When the time tuple is not present, current time as returned by localtime()\n",
      "    is used.\n",
      "\n"
     ]
    }
   ],
   "source": [
    "help(\"time.asctime\")"
   ]
  },
  {
   "cell_type": "markdown",
   "metadata": {},
   "source": [
    "## `enumerate()`"
   ]
  },
  {
   "cell_type": "code",
   "execution_count": 12,
   "metadata": {},
   "outputs": [
    {
     "data": {
      "text/plain": [
       "<enumerate at 0x1b25bc1d980>"
      ]
     },
     "execution_count": 12,
     "metadata": {},
     "output_type": "execute_result"
    }
   ],
   "source": [
    "enumerate(['pippo', 'pluto', 'minni'])"
   ]
  },
  {
   "cell_type": "code",
   "execution_count": 13,
   "metadata": {},
   "outputs": [
    {
     "data": {
      "text/plain": [
       "[(0, 'pippo'), (1, 'pluto'), (2, 'minni')]"
      ]
     },
     "execution_count": 13,
     "metadata": {},
     "output_type": "execute_result"
    }
   ],
   "source": [
    "list(enumerate(['pippo', 'pluto', 'minni']))"
   ]
  },
  {
   "cell_type": "markdown",
   "metadata": {},
   "source": [
    "## `zip()`"
   ]
  },
  {
   "cell_type": "code",
   "execution_count": 14,
   "metadata": {},
   "outputs": [
    {
     "data": {
      "text/plain": [
       "<zip at 0x1b25bc1f780>"
      ]
     },
     "execution_count": 14,
     "metadata": {},
     "output_type": "execute_result"
    }
   ],
   "source": [
    "zip(['pippo', 'pluto', 'minni'], [456, 777, 444])"
   ]
  },
  {
   "cell_type": "code",
   "execution_count": 15,
   "metadata": {},
   "outputs": [
    {
     "data": {
      "text/plain": [
       "[('pippo', 456), ('pluto', 777), ('minni', 444)]"
      ]
     },
     "execution_count": 15,
     "metadata": {},
     "output_type": "execute_result"
    }
   ],
   "source": [
    "list(zip(['pippo', 'pluto', 'minni'], [456, 777, 444]))"
   ]
  },
  {
   "cell_type": "markdown",
   "metadata": {},
   "source": [
    "## Ciclare sulle chiavi di un dizionario\n",
    "\n",
    "... e poi accedo al valore corrispondente."
   ]
  },
  {
   "cell_type": "code",
   "execution_count": 2,
   "metadata": {},
   "outputs": [
    {
     "name": "stdout",
     "output_type": "stream",
     "text": [
      "Matematica\n",
      "[1, 2]\n",
      "Italiano\n",
      "[3, 4]\n",
      "Inglese\n",
      "[5, 6]\n",
      "Storia\n",
      "[7, 8]\n"
     ]
    }
   ],
   "source": [
    "voti_per_materia = {\n",
    "    'Matematica': [1, 2],\n",
    "    'Italiano': [3, 4],\n",
    "    'Inglese': [5, 6],\n",
    "    'Storia': [7, 8],\n",
    "}\n",
    "\n",
    "for key in voti_per_materia:\n",
    "    print(key)\n",
    "    print(voti_per_materia[key])"
   ]
  },
  {
   "cell_type": "markdown",
   "metadata": {},
   "source": [
    "## `dict.items()` Ciclare direttamente su chiave e valore di un dizionario"
   ]
  },
  {
   "cell_type": "code",
   "execution_count": 17,
   "metadata": {},
   "outputs": [
    {
     "name": "stdout",
     "output_type": "stream",
     "text": [
      "Matematica\n",
      "[]\n",
      "Italiano\n",
      "[]\n",
      "Inglese\n",
      "[]\n",
      "Storia\n",
      "[]\n"
     ]
    }
   ],
   "source": [
    "voti_per_materia = {\n",
    "    'Matematica': [],\n",
    "    'Italiano': [],\n",
    "    'Inglese': [],\n",
    "    'Storia': [],\n",
    "    # 'Scienze': []\n",
    "}\n",
    "\n",
    "for key, value in voti_per_materia.items():\n",
    "    print(key)\n",
    "    print(value)"
   ]
  },
  {
   "cell_type": "markdown",
   "metadata": {},
   "source": [
    "### Da dizionario a lista di tuple (chiave, valore)"
   ]
  },
  {
   "cell_type": "code",
   "execution_count": 18,
   "metadata": {},
   "outputs": [
    {
     "data": {
      "text/plain": [
       "dict_items([('Matematica', []), ('Italiano', []), ('Inglese', []), ('Storia', [])])"
      ]
     },
     "execution_count": 18,
     "metadata": {},
     "output_type": "execute_result"
    }
   ],
   "source": [
    "voti_per_materia.items()"
   ]
  },
  {
   "cell_type": "markdown",
   "metadata": {},
   "source": [
    "### Da lista di tuple (chiave, valore) a dizionario"
   ]
  },
  {
   "cell_type": "code",
   "execution_count": 19,
   "metadata": {},
   "outputs": [
    {
     "data": {
      "text/plain": [
       "{'pippo': 456, 'pluto': 777, 'minni': 444}"
      ]
     },
     "execution_count": 19,
     "metadata": {},
     "output_type": "execute_result"
    }
   ],
   "source": [
    "dict([('pippo', 456), ('pluto', 777), ('minni', 444)])"
   ]
  },
  {
   "cell_type": "markdown",
   "metadata": {},
   "source": [
    "## Lettura file di testo"
   ]
  },
  {
   "cell_type": "code",
   "execution_count": 20,
   "metadata": {},
   "outputs": [
    {
     "name": "stdout",
     "output_type": "stream",
     "text": [
      "Ada: 1999\n",
      "\n",
      "Pippo: 1980\n",
      "\n",
      "Felice: 1976\n",
      "\n",
      "Geronima: 1999\n",
      "\n",
      "Ciccio: 1980\n",
      "\n",
      "Luca: 1972\n",
      "\n",
      "Roberto: 1999\n",
      "\n",
      "Pluto: 1972\n",
      "\n",
      "Mimmo: 1976\n",
      "\n",
      "TotÃ²: 1923\n"
     ]
    }
   ],
   "source": [
    "# METODO 1: ciclare direttamente il file di testo (SOLO SE TESTO!!!)\n",
    "with open('../../../files_esercizi/nomi_data_nascita.txt', mode='r') as file_testo:\n",
    "    for line in file_testo:\n",
    "        print(line)"
   ]
  },
  {
   "cell_type": "code",
   "execution_count": 21,
   "metadata": {},
   "outputs": [
    {
     "name": "stdout",
     "output_type": "stream",
     "text": [
      "Ada: 1999\n",
      "Pippo: 1980\n",
      "Felice: 1976\n",
      "Geronima: 1999\n",
      "Ciccio: 1980\n",
      "Luca: 1972\n",
      "Roberto: 1999\n",
      "Pluto: 1972\n",
      "Mimmo: 1976\n",
      "TotÃ²: 1923\n"
     ]
    }
   ],
   "source": [
    "# METODO 2: Uso di read() per avere una stringa con il testo completo\n",
    "with open('../../../files_esercizi/nomi_data_nascita.txt', mode='r') as file_testo:\n",
    "    testo = file_testo.read()\n",
    "\n",
    "list_lines = testo.split('\\n')  # Creiamo noi una lista di righe dividendo su \\n\n",
    "for line in list_lines:\n",
    "    print(line)"
   ]
  },
  {
   "cell_type": "code",
   "execution_count": 3,
   "metadata": {},
   "outputs": [
    {
     "name": "stdout",
     "output_type": "stream",
     "text": [
      "Ada: 1999\n",
      "\n",
      "Pippo: 1980\n",
      "\n",
      "Felice: 1976\n",
      "\n",
      "Geronima: 1999\n",
      "\n",
      "Ciccio: 1980\n",
      "\n",
      "Luca: 1972\n",
      "\n",
      "Roberto: 1999\n",
      "\n",
      "Pluto: 1972\n",
      "\n",
      "Mimmo: 1976\n",
      "\n",
      "Totò: 1923\n",
      "Dentro alle righe c'è questo:\n",
      "'Ada: 1999\\n'\n",
      "'Pippo: 1980\\n'\n",
      "'Felice: 1976\\n'\n",
      "'Geronima: 1999\\n'\n",
      "'Ciccio: 1980\\n'\n",
      "'Luca: 1972\\n'\n",
      "'Roberto: 1999\\n'\n",
      "'Pluto: 1972\\n'\n",
      "'Mimmo: 1976\\n'\n",
      "'Totò: 1923'\n"
     ]
    }
   ],
   "source": [
    "# METODO 3: Uso di readlines() per avere una lista di righe\n",
    "with open('../../../files_esercizi/nomi_data_nascita.txt', mode='r') as file_testo:\n",
    "    list_lines = file_testo.readlines()\n",
    "\n",
    "for line in list_lines:\n",
    "    print(line)\n",
    "\n",
    "print(\"Dentro alle righe c'è questo:\")\n",
    "\n",
    "for line in list_lines:\n",
    "    print(repr(line))  # Uso repr() per vedere il reale contenuto delle stringhe"
   ]
  },
  {
   "cell_type": "markdown",
   "metadata": {},
   "source": [
    "## Dividere e pulire delle stringhe"
   ]
  },
  {
   "cell_type": "code",
   "execution_count": null,
   "metadata": {},
   "outputs": [
    {
     "name": "stdout",
     "output_type": "stream",
     "text": [
      "['  Ada   ', '   1999\\n']\n"
     ]
    },
    {
     "data": {
      "text/plain": [
       "('Ada', '1999')"
      ]
     },
     "metadata": {},
     "output_type": "display_data"
    }
   ],
   "source": [
    "pippo = '  Ada   :   1999\\n'.split(':')\n",
    "\n",
    "print(pippo)\n",
    "\n",
    "# ' ' \\n  \\t\n",
    "\n",
    "pippo[0].strip(), pippo[1].strip()"
   ]
  },
  {
   "cell_type": "markdown",
   "metadata": {},
   "source": [
    "### Controllo se stringa sarebbe un nome di variabile valido"
   ]
  },
  {
   "cell_type": "code",
   "execution_count": null,
   "metadata": {},
   "outputs": [
    {
     "data": {
      "text/plain": [
       "True"
      ]
     },
     "metadata": {},
     "output_type": "display_data"
    }
   ],
   "source": [
    "'pipfgfgpo'.isidentifier()"
   ]
  },
  {
   "cell_type": "markdown",
   "metadata": {},
   "source": [
    "## Slices"
   ]
  },
  {
   "cell_type": "code",
   "execution_count": null,
   "metadata": {},
   "outputs": [
    {
     "data": {
      "text/plain": [
       "'Adsdfsdfsdfa'"
      ]
     },
     "metadata": {},
     "output_type": "display_data"
    }
   ],
   "source": [
    "'Adsdfsdfsdfa: 1999\\n'[:-6]"
   ]
  },
  {
   "cell_type": "code",
   "execution_count": null,
   "metadata": {},
   "outputs": [
    {
     "data": {
      "text/plain": [
       "'1999'"
      ]
     },
     "metadata": {},
     "output_type": "display_data"
    }
   ],
   "source": [
    "'Ada: 1999\\n'[-5:-1]"
   ]
  },
  {
   "cell_type": "markdown",
   "metadata": {},
   "source": [
    "## Markdown headers"
   ]
  },
  {
   "cell_type": "markdown",
   "metadata": {},
   "source": [
    "```html\n",
    "<h1> #\n",
    "<h2> ##\n",
    "...\n",
    "<h6> ######\n",
    "```\n"
   ]
  }
 ],
 "metadata": {
  "kernelspec": {
   "display_name": "Python 3",
   "language": "python",
   "name": "python3"
  },
  "language_info": {
   "codemirror_mode": {
    "name": "ipython",
    "version": 3
   },
   "file_extension": ".py",
   "mimetype": "text/x-python",
   "name": "python",
   "nbconvert_exporter": "python",
   "pygments_lexer": "ipython3",
   "version": "3.11.2"
  }
 },
 "nbformat": 4,
 "nbformat_minor": 2
}
