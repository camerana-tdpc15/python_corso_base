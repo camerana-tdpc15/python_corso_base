{
 "cells": [
  {
   "attachments": {},
   "cell_type": "markdown",
   "metadata": {},
   "source": [
    "# Esercizio - Le età dei nostri amici"
   ]
  },
  {
   "attachments": {},
   "cell_type": "markdown",
   "metadata": {},
   "source": [
    "Requisiti: `import`, `with ... as`, `open`, `dict`"
   ]
  },
  {
   "attachments": {},
   "cell_type": "markdown",
   "metadata": {},
   "source": [
    "E’ dato un file `nomi_data_nascita.txt` nella cartella `/files_esercizi` del nostro repository. Il file è caratterizzato dal seguente formato rappresentante delle coppie nome/età. Per esempio:\n",
    "\n",
    "```python\n",
    "Ada: 1999\n",
    "Pippo: 1980\n",
    "Felice: 1976\n",
    "Geronima: 1999\n",
    "...\n",
    "```\n",
    "\n",
    "Leggi tutto il file creando un dizionario (`dict`) le cui chiavi sono corrispondono all’età della persona alla data attuale. A ciascuna età deve essere associata una lista con i nomi di persone che hanno quell’età.\n",
    "\n",
    "Output atteso:\n",
    "\n",
    "```python\n",
    "{24: ['Ada:', 'Geronima:', 'Roberto:'], 43: ['Pippo:', 'Ciccio:'], 47: ['Felice:', 'Mimmo:'], 51: ['Luca:', 'Pluto:'], 100: ['Totò:']}\n",
    "```"
   ]
  },
  {
   "cell_type": "code",
   "execution_count": 2,
   "metadata": {},
   "outputs": [
    {
     "data": {
      "text/plain": [
       "{25: ['Ada', 'Geronima', 'Roberto'],\n",
       " 44: ['Pippo', 'Ciccio'],\n",
       " 48: ['Felice', 'Mimmo'],\n",
       " 52: ['Luca', 'Pluto'],\n",
       " 101: ['Totò']}"
      ]
     },
     "execution_count": 2,
     "metadata": {},
     "output_type": "execute_result"
    }
   ],
   "source": [
    "from datetime import date\n",
    "\n",
    "# Creazione variabile per Anno corrente\n",
    "anno_corrente = date.today().year\n",
    "\n",
    "# Creazione variabile per report (vuoto)\n",
    "report = {}  # dizionario vuoto\n",
    "\n",
    "file_path = '../../../files_esercizi/nomi_data_nascita.txt'\n",
    "\n",
    "# Accedere e aprire il file\n",
    "\n",
    "# METODO 3: Uso di readlines() per avere una lista di righe\n",
    "with open(file_path, mode='r', encoding='utf-8') as file_testo:\n",
    "    list_lines = file_testo.readlines()\n",
    "\n",
    "# Per ciascuna riga del testo\n",
    "for line in list_lines:\n",
    "    # print(line)\n",
    "\n",
    "    # Procedo con l'elaporazione della stringa\n",
    "    # Estraggo nome e anno di nascita\n",
    "\n",
    "    # METODO X: Uso dello slice\n",
    "    # nome = line[:-7]\n",
    "    # anno = line[-5:-1]\n",
    "\n",
    "    # Divido la stringa in parti sulla base del carattere ':'\n",
    "    lista_oggetti = line.split(':')\n",
    "\n",
    "    # Rimuovo i whitespace da entrambi i lati delle stringhe\n",
    "    nome = lista_oggetti[0].strip()\n",
    "    anno = int(lista_oggetti[1].strip())\n",
    "    eta = anno_corrente - anno\n",
    "\n",
    "    if eta not in report:  # se chiave non è presente\n",
    "        report[eta] = [nome]\n",
    "    else:  # se chiave è presente\n",
    "        report[eta].append(nome)\n",
    "\n",
    "    # if eta in report:  # se chiave è presente\n",
    "    #     report[eta].append(nome)\n",
    "    # else:  # se chiave non è presente\n",
    "    #     report[eta] = [ nome ]\n",
    "\n",
    "report\n"
   ]
  },
  {
   "attachments": {},
   "cell_type": "markdown",
   "metadata": {},
   "source": [
    "Ora, riesci a scriverle in un file nuovo, mantenendo il seguente formato?\n",
    "\n",
    "```python\n",
    "Nome,Età\n",
    "Ada,24\n",
    "Geronima,24\n",
    "Roberto,24\n",
    "Pippo,43\n",
    "Ciccio,43\n",
    "...\n",
    "```"
   ]
  },
  {
   "attachments": {},
   "cell_type": "markdown",
   "metadata": {},
   "source": [
    "Prova a scrivere un nuovo file `nomi_eta.csv` nella cartella `/personale/outputs` del nostro repository.\n",
    "\n",
    "Normalmente i file `.csv` hanno la prima linea dedicata alle \"intestazioni di colonna\". In questo caso nella prima riga del file dovremmo avere `Nome,Età`."
   ]
  },
  {
   "cell_type": "markdown",
   "metadata": {},
   "source": [
    "## Metodi per scrivere\n",
    "\n",
    "| Metodo         | Descrizione     |\n",
    "|----------------|-----------------|\n",
    "| `.write(string)`  | Scrive l'oggetto `string` (*byte-like*) e ritorna il numero di byte scritti (sempre uguale alla lunghezza di `string` in byte, poiché se la scrittura fallisce verrà sollevato un `OSError`). A seconda dell'implementazione effettiva, questi byte possono essere immediatamente scritti sul flusso sottostante o mantenuti in un buffer per motivi di prestazione e latenza. |\n",
    "| `.writelines(lines)` | Scrive sullo *stream* un iterabile `lines` contenente linee. I separatori di linea non vengono aggiunti, quindi è usuale che ciascuna delle linee fornite abbia un separatore di linea `\\n` alla fine. |"
   ]
  },
  {
   "cell_type": "code",
   "execution_count": 5,
   "metadata": {},
   "outputs": [
    {
     "data": {
      "text/plain": [
       "Ellipsis"
      ]
     },
     "execution_count": 5,
     "metadata": {},
     "output_type": "execute_result"
    }
   ],
   "source": [
    "# scrivi qui\n",
    "\n",
    "# Apro il file (che non esiste ancora) nella giuta modalità\n",
    "\n",
    "with open('./outputs/nomi_eta.csv', 'w', encoding='utf-8') as outupt_file:\n",
    "\n",
    "    # MODO 1: Recupero l'età e il nome di ciascuna persona dal dizionario di report e\n",
    "    #         stampo direttamente la riga\n",
    "    # Scivo l'intestazione (nome,età)\n",
    "    intestazione = 'nome;eta\\n'\n",
    "    outupt_file.write(intestazione)\n",
    "    # Per ciascuna età\n",
    "    for eta in report:\n",
    "        # Per ciascun nome\n",
    "        for nome in report[eta]:\n",
    "            # Scrivo la riga (es Ada,25)\n",
    "            # riga = nome + ',' + str(eta) + '\\n'\n",
    "            riga = f'{nome};{eta}\\n'\n",
    "            outupt_file.write(riga)\n",
    "\n",
    "# MODO 2: creo una lista contenente le linee da scrivere\n",
    "# Creo la lista\n",
    "...\n",
    "# Scrivo la lista con .writelines(lista)\n",
    "...\n",
    "\n",
    "# MODO 3: creo una stringa unica (contenente anche \\n al termine di ogni riga)\n",
    "# Creo la stringa\n",
    "...\n",
    "# Scrivo la stringa con .write(stringa)\n",
    "..."
   ]
  },
  {
   "attachments": {},
   "cell_type": "markdown",
   "metadata": {},
   "source": [
    "Per finire, riusciresti a creare uno script che prende in ingresso due parametri, il file di origine `nomi_data_nascita.txt` e il file di output `nomi_eta.csv` e che esegue le conversione creando il file di output?\n",
    "\n",
    "Per lanciare il nostro script, immaginando di trovarci nella cartella `/files_esercizi`, dovremmo poter lanciare un comando come il seguente:\n",
    "\n",
    "```shell\n",
    "$ py converti_nomi_nascita.py nomi_data_nascita.txt nomi_eta.csv\n",
    "```"
   ]
  },
  {
   "attachments": {},
   "cell_type": "markdown",
   "metadata": {},
   "source": [
    "Crea un nuovo file e chiamalo `converti_nomi_nascita.py` e salvalo dove preferisci, per esempio nella tua cartella `/personale` che dovresti avrere sul tuo branch del nostro repository.\n",
    "\n",
    "Ricorda che poi i percorsi ai file devono essere compatibili con la posizione in cui eseguirai lo script, dove tu ti trovi e dove si trova il file da convertire. Prova varie combinazioni, e vedi cosa succede e dove viene generato il file di output."
   ]
  }
 ],
 "metadata": {
  "kernelspec": {
   "display_name": ".venv",
   "language": "python",
   "name": "python3"
  },
  "language_info": {
   "codemirror_mode": {
    "name": "ipython",
    "version": 3
   },
   "file_extension": ".py",
   "mimetype": "text/x-python",
   "name": "python",
   "nbconvert_exporter": "python",
   "pygments_lexer": "ipython3",
   "version": "3.10.0"
  },
  "orig_nbformat": 4
 },
 "nbformat": 4,
 "nbformat_minor": 2
}
