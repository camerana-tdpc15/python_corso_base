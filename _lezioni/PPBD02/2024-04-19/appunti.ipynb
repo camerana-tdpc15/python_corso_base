{
 "cells": [
  {
   "cell_type": "code",
   "execution_count": 3,
   "metadata": {},
   "outputs": [
    {
     "data": {
      "text/plain": [
       "True"
      ]
     },
     "execution_count": 3,
     "metadata": {},
     "output_type": "execute_result"
    }
   ],
   "source": [
    "import os\n",
    "\n",
    "dir_string = os.path.dirname('../../../files_esercizi/nomi_data_nascita.txt')\n",
    "os.path.exists(dir_string)"
   ]
  },
  {
   "cell_type": "code",
   "execution_count": 5,
   "metadata": {},
   "outputs": [
    {
     "name": "stdout",
     "output_type": "stream",
     "text": [
      "c:\\PPBD02\\PPBD02\\files_esercizi\\nomi_data_nascita.txt\n"
     ]
    }
   ],
   "source": [
    "import os\n",
    "\n",
    "print(os.path.abspath('../../../files_esercizi/nomi_data_nascita.txt'))"
   ]
  },
  {
   "cell_type": "markdown",
   "metadata": {},
   "source": [
    "### Path relativo al path dello script\n",
    "\n",
    "```python\n",
    "..\n",
    "│\n",
    "└── qualunque_cartella/\n",
    "    │\n",
    "    ├── mio_script.py  # Questo è il nostro script.\n",
    "    │\n",
    "    └── data/\n",
    "        │\n",
    "        └── records.txt  # Questo è il file che voglio raggiungere.\n",
    "```"
   ]
  },
  {
   "cell_type": "markdown",
   "metadata": {},
   "source": [
    "#### Modulo `os`\n",
    "\n",
    "File `mio_script.py`:\n",
    "\n",
    "```python\n",
    "import os\n",
    "\n",
    "# Ottiene il percorso assoluto dello script corrente\n",
    "script_path = os.path.abspath(__file__)\n",
    "\n",
    "# Ottiene la directory in cui risiede lo script\n",
    "script_dir = os.path.dirname(script_path)\n",
    "\n",
    "# Costruisce un percorso relativo alla directory dello script\n",
    "script_relative_path = os.path.join(script_dir, 'data/records.txt')\n",
    "```"
   ]
  },
  {
   "cell_type": "markdown",
   "metadata": {},
   "source": [
    "## List comprehension"
   ]
  },
  {
   "cell_type": "markdown",
   "metadata": {},
   "source": [
    "```python\n",
    "[ ESPRESSIONE for VARIABILE in ITERABILE ] \n",
    "```\n",
    "\n",
    "- sintassi che imita le liste;\n",
    "- esegue la stessa operazione su tutti gli elementi di una sequenza."
   ]
  },
  {
   "cell_type": "markdown",
   "metadata": {},
   "source": [
    "![list_comprehension.gif](../../../imgs/list_comprehension.gif)"
   ]
  },
  {
   "cell_type": "code",
   "execution_count": 11,
   "metadata": {},
   "outputs": [
    {
     "data": {
      "text/plain": [
       "[0, 2, 4, 6, 8, 10, 12, 14, 16, 18]"
      ]
     },
     "execution_count": 11,
     "metadata": {},
     "output_type": "execute_result"
    }
   ],
   "source": [
    "[num*2 for num in range(10)]"
   ]
  },
  {
   "cell_type": "code",
   "execution_count": 12,
   "metadata": {},
   "outputs": [
    {
     "data": {
      "text/plain": [
       "['PIPPO', 'PLUTO', 'FOO', 'BAR']"
      ]
     },
     "execution_count": 12,
     "metadata": {},
     "output_type": "execute_result"
    }
   ],
   "source": [
    "lista_nomi = ['pippo', 'pluto', 'foo', 'bar']\n",
    "\n",
    "[nome.upper() for nome in lista_nomi]\n"
   ]
  },
  {
   "cell_type": "code",
   "execution_count": 14,
   "metadata": {},
   "outputs": [
    {
     "data": {
      "text/plain": [
       "['PIPPO', 'PLUTO', 'FOO', 'BAR']"
      ]
     },
     "execution_count": 14,
     "metadata": {},
     "output_type": "execute_result"
    }
   ],
   "source": [
    "lista_nomi = ['pippo', 'pluto', 'foo', 'bar']\n",
    "\n",
    "lista_maiusc = []\n",
    "for nome in lista_nomi:\n",
    "    lista_maiusc.append(nome.upper())\n",
    "\n",
    "lista_maiusc"
   ]
  }
 ],
 "metadata": {
  "kernelspec": {
   "display_name": "Python 3",
   "language": "python",
   "name": "python3"
  },
  "language_info": {
   "codemirror_mode": {
    "name": "ipython",
    "version": 3
   },
   "file_extension": ".py",
   "mimetype": "text/x-python",
   "name": "python",
   "nbconvert_exporter": "python",
   "pygments_lexer": "ipython3",
   "version": "3.10.0"
  }
 },
 "nbformat": 4,
 "nbformat_minor": 2
}
