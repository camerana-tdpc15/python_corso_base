{
 "cells": [
  {
   "cell_type": "markdown",
   "metadata": {},
   "source": [
    "### Pattern utile quando dobbiamo confrontare la stessa variabile su più valori"
   ]
  },
  {
   "cell_type": "code",
   "execution_count": null,
   "metadata": {},
   "outputs": [],
   "source": [
    "risp = input()\n",
    "\n",
    "print(risp == 's' or risp == 'n' or risp == 'x' or  risp == 'f')\n",
    "\n",
    "print(risp in ('s', 'n', 'x', 'f'))"
   ]
  },
  {
   "cell_type": "code",
   "execution_count": null,
   "metadata": {},
   "outputs": [
    {
     "name": "stdout",
     "output_type": "stream",
     "text": [
      "FALSO!\n"
     ]
    }
   ],
   "source": [
    "mese = 4\n",
    "\n",
    "if mese == 1 or mese == 2 or mese == 3:\n",
    "    print('VERO!')\n",
    "else:\n",
    "    print('FALSO!')"
   ]
  },
  {
   "cell_type": "code",
   "execution_count": null,
   "metadata": {},
   "outputs": [
    {
     "name": "stdout",
     "output_type": "stream",
     "text": [
      "VERO!\n"
     ]
    }
   ],
   "source": [
    "mese = 2\n",
    "\n",
    "if mese in (1, 2, 3):\n",
    "    print('VERO!')\n",
    "else:\n",
    "    print('FALSO!')"
   ]
  },
  {
   "cell_type": "markdown",
   "metadata": {},
   "source": [
    "### `range()` per generarci dei valori per il confronto:"
   ]
  },
  {
   "cell_type": "code",
   "execution_count": null,
   "metadata": {},
   "outputs": [
    {
     "data": {
      "text/plain": [
       "False"
      ]
     },
     "metadata": {},
     "output_type": "display_data"
    }
   ],
   "source": [
    "11 in range(1, 10)"
   ]
  },
  {
   "cell_type": "markdown",
   "metadata": {},
   "source": [
    "### Controllare se un numero è divisibile per un altro numero:"
   ]
  },
  {
   "cell_type": "code",
   "execution_count": null,
   "metadata": {},
   "outputs": [
    {
     "name": "stdout",
     "output_type": "stream",
     "text": [
      "True\n",
      "True\n"
     ]
    }
   ],
   "source": [
    "mese = 12\n",
    "\n",
    "# Modi per controllare se un numero è divisibile per 3\n",
    "# Se restituisce True, è divisibile\n",
    "print(not (mese % 3))\n",
    "print(mese % 3 == 0)"
   ]
  },
  {
   "cell_type": "markdown",
   "metadata": {},
   "source": [
    "### Dividere un'espressione o un'istruizione su più righe"
   ]
  },
  {
   "cell_type": "code",
   "execution_count": 2,
   "metadata": {},
   "outputs": [
    {
     "name": "stdout",
     "output_type": "stream",
     "text": [
      "blah!\n",
      "dfgdfgdfgdfgsdfsfsdfsdfsdfsdfsdfsdfsdsdfsdfsdf\n",
      "dfgdfgdfgdfgsdfsfsdfsdfsdfsdfsdfsdfsdsdfsdfsdf\n"
     ]
    }
   ],
   "source": [
    "# Con il back-slash al termine della riga, prima dell'invio\n",
    "pippo = 'dfgdfgdfgdfg' +  'sdfsfsdfsdf' + 'sdfsdfsdfsdfsd' \\\n",
    "    + 'sdfsdfsdf'\n",
    "\n",
    "# Usando un \"gruppo\" (...)\n",
    "# ATTENZIONE: questo non è una tupla, ma è un gruppo!\n",
    "pluto = ('dfgdfgdfgdfg' +  'sdfsfsdfsdf' + 'sdfsdfsdfsdfsd'\n",
    "    'sdfsdfsdf')\n",
    "\n",
    "\n",
    "# Andare a capo in un if\n",
    "if pippo == 3 or pluto in \\\n",
    "        [4, 56] and 'pippo' or ...:  # Nota che questa riga è \"più indentata\" (come in poesia)\n",
    "    print('blah!')\n",
    "\n",
    "\n",
    "print(pippo)\n",
    "print(pluto)"
   ]
  },
  {
   "cell_type": "code",
   "execution_count": 3,
   "metadata": {},
   "outputs": [
    {
     "name": "stdout",
     "output_type": "stream",
     "text": [
      "asdfsdfasd asdfasdfas gsdsdfg sdfgsdfg sdfgsdfgsdf sdfg sdfsd sdf dsdfgs sfdgklsjfdglk sdfgksdfjg ldsfg jlkjdsfg lksdfjlkdsf glskfglkj sdfgdldsk sfdgklsjfdglk sdfgksdfjg ldsfg jlkjdsfg lksdfdjlkdsf glsglkj sdfgldsk sfdgklsjfdglk sdfgksdfjg ldsfg jlkjdsfg lksdfdjlkdsf glsdkfglkj sdfgldsk \n"
     ]
    }
   ],
   "source": [
    "# Uso un gruppo per concatenare automaticamente le stringhe sulle diverse linee\n",
    "stringa_lunga = (\n",
    "    'asdfsdfasd asdfasdfas gsdsdfg sdfgsdfg sdfgsdfgsdf sdfg sdfsd sdf dsdfgs '\n",
    "    'sfdgklsjfdglk sdfgksdfjg ldsfg jlkjdsfg lksdfjlkdsf glskfglkj sdfgdldsk '\n",
    "    'sfdgklsjfdglk sdfgksdfjg ldsfg jlkjdsfg lksdfdjlkdsf glsglkj sdfgldsk '\n",
    "    'sfdgklsjfdglk sdfgksdfjg ldsfg jlkjdsfg lksdfdjlkdsf glsdkfglkj sdfgldsk '\n",
    ")\n",
    "print(stringa_lunga)"
   ]
  }
 ],
 "metadata": {
  "kernelspec": {
   "display_name": ".venv",
   "language": "python",
   "name": "python3"
  },
  "language_info": {
   "codemirror_mode": {
    "name": "ipython",
    "version": 3
   },
   "file_extension": ".py",
   "mimetype": "text/x-python",
   "name": "python",
   "nbconvert_exporter": "python",
   "pygments_lexer": "ipython3",
   "version": "3.11.2"
  }
 },
 "nbformat": 4,
 "nbformat_minor": 2
}
