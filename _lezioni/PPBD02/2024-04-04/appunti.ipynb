{
 "cells": [
  {
   "cell_type": "markdown",
   "metadata": {},
   "source": [
    "### Esempio per fare domande a ChatGPT o Bing Copilot riguardo a codice."
   ]
  },
  {
   "cell_type": "markdown",
   "metadata": {},
   "source": [
    "- Nota l'uso dei 3 backtick (\\`) per un blocco di codice.\n",
    "- Nota l'uso del singolo backtick (\\`) per indicare un nome (`moltiplica`).\n",
    "- Maiusc + Invio per andare a capo senza inviare la domanda."
   ]
  },
  {
   "cell_type": "code",
   "execution_count": null,
   "metadata": {
    "vscode": {
     "languageId": "plaintext"
    }
   },
   "outputs": [],
   "source": [
    "Cosa ne pensi del seguente cdice: (Maiusc+Invio)\n",
    "\n",
    "```\n",
    "# Definendo la funzione in modo tradizionale con la keyword def\n",
    "def moltiplica(a, b):\n",
    "    return a * b\n",
    "\n",
    "# Oppure definendo la funzione come una funzione anonima\n",
    "# (sconsigliato, se non in casi particolari)\n",
    "# moltiplica_lambda = lambda a, b: a * b\n",
    "\n",
    "# Poi possiamo chiamare la funzione passandogli due numeri\n",
    "# e assegnare il valore che restituisce a una variabile\n",
    "mio_risultato1 = moltiplica(2, 5)\n",
    "mio_risultato2 = moltiplica(3, 4)\n",
    "\n",
    "# E infine chiamare la funzione print che già conosciamo\n",
    "print(mio_risultato1)\n",
    "print(mio_risultato2)\n",
    "```\n",
    "\n",
    "La funzione `moltiplica`, non ti sembra ... blah blah?"
   ]
  },
  {
   "cell_type": "markdown",
   "metadata": {},
   "source": [
    "### Funzione `re.sub()`"
   ]
  },
  {
   "cell_type": "markdown",
   "metadata": {},
   "source": [
    "Puoi utilizzare il modulo `re` (espressioni regolari) per sostituire tutte le vocali in una stringa con un altro carattere in un'unica istruzione. Ecco un esempio di come farlo:\n",
    "\n",
    "```python\n",
    "import re\n",
    "\n",
    "stringa = \"Questo è un esempio di sostituzione delle vocali\"\n",
    "\n",
    "nuova_stringa = re.sub('[aeiouAEIOU]', '*', stringa)\n",
    "\n",
    "print(nuova_stringa)\n",
    "```\n",
    "\n",
    "In questo esempio, `[aeiouAEIOU]` è un'espressione regolare che corrisponde a qualsiasi vocale (sia minuscole che maiuscole), mentre `'*'` è il carattere con cui vengono sostituite le vocali. Puoi modificare il carattere di sostituzione secondo le tue esigenze."
   ]
  },
  {
   "cell_type": "markdown",
   "metadata": {},
   "source": [
    "### `enumerate(iterabile)`"
   ]
  },
  {
   "cell_type": "code",
   "execution_count": null,
   "metadata": {},
   "outputs": [
    {
     "data": {
      "text/plain": [
       "[(0, 'P'),\n",
       " (1, 'i'),\n",
       " (2, 'p'),\n",
       " (3, 'p'),\n",
       " (4, 'o'),\n",
       " (5, ' '),\n",
       " (6, '1'),\n",
       " (7, '2'),\n",
       " (8, '3'),\n",
       " (9, ' '),\n",
       " (10, 'p'),\n",
       " (11, 'L'),\n",
       " (12, 'u'),\n",
       " (13, 'T'),\n",
       " (14, 'o')]"
      ]
     },
     "metadata": {},
     "output_type": "display_data"
    }
   ],
   "source": [
    "input_str = 'Pippo 123 pLuTo'\n",
    "list(enumerate(input_str))"
   ]
  },
  {
   "cell_type": "markdown",
   "metadata": {},
   "source": [
    "### Unpacking e assegnazione multipla"
   ]
  },
  {
   "cell_type": "code",
   "execution_count": null,
   "metadata": {},
   "outputs": [
    {
     "name": "stdout",
     "output_type": "stream",
     "text": [
      "0\n",
      "P\n"
     ]
    }
   ],
   "source": [
    "idx, char = (0, 'P')\n",
    "\n",
    "print(idx)\n",
    "print(char)"
   ]
  }
 ],
 "metadata": {
  "kernelspec": {
   "display_name": "Python 3",
   "language": "python",
   "name": "python3"
  },
  "language_info": {
   "name": "python",
   "version": "3.10.13"
  }
 },
 "nbformat": 4,
 "nbformat_minor": 2
}
