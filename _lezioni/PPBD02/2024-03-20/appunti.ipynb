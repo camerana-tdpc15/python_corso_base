{
 "cells": [
  {
   "cell_type": "markdown",
   "metadata": {},
   "source": [
    "## Inserire variabili nelle stringhe\n",
    "\n",
    "[Notebook sulle stringhe, sezione \"Inserire le variabili nelle stringhe\"](../../../A_string_reference.ipynb)"
   ]
  },
  {
   "cell_type": "code",
   "execution_count": 2,
   "metadata": {},
   "outputs": [
    {
     "name": "stdout",
     "output_type": "stream",
     "text": [
      "Ciao Marco!\n",
      "Ciao Marco!\n"
     ]
    }
   ],
   "source": [
    "nome = 'Marco'\n",
    "# concatenazione\n",
    "str_concatenata = 'Ciao ' + nome + '!'\n",
    "\n",
    "# f-strings\n",
    "fsring = f'Ciao {nome}!'\n",
    "\n",
    "print(str_concatenata)\n",
    "print(fsring)"
   ]
  },
  {
   "cell_type": "markdown",
   "metadata": {},
   "source": [
    "## Operatori e operazioni con le stringhe\n",
    "\n",
    "Python offre diversi operatori per lavorare con le stringhe:\n",
    "\n",
    "|Operatore|Uso|Risultato|Significato|\n",
    "|---|---|----|-----|\n",
    "|len|`len`(str)|int| Ritorna la lunghezza della stringa|\n",
    "|concatenazione|str `+` str|str| Concatena due stringhe|\n",
    "|inclusione|str `in` str|bool| Controlla se la stringa è presente in un'altra stringa|\n",
    "|indice|str`[`int`]`|str|Accede  al carattere all'indice specificato|\n",
    "|slice|str`[`int`:`int`]`|str|Estrae una sotto-stringa|\n",
    "|uguaglianza|`==`,`!=`|bool| Controlla se due stringhe sono uguali o differenti|\n",
    "|replicazione|str `*` int|str| Replica la stringa|"
   ]
  },
  {
   "cell_type": "code",
   "execution_count": 3,
   "metadata": {},
   "outputs": [
    {
     "data": {
      "text/plain": [
       "4"
      ]
     },
     "execution_count": 3,
     "metadata": {},
     "output_type": "execute_result"
    }
   ],
   "source": [
    "len('ciao')"
   ]
  },
  {
   "cell_type": "code",
   "execution_count": 4,
   "metadata": {},
   "outputs": [
    {
     "data": {
      "text/plain": [
       "'c'"
      ]
     },
     "execution_count": 4,
     "metadata": {},
     "output_type": "execute_result"
    }
   ],
   "source": [
    "'ciao'[0]"
   ]
  },
  {
   "cell_type": "code",
   "execution_count": 5,
   "metadata": {},
   "outputs": [
    {
     "data": {
      "text/plain": [
       "'o'"
      ]
     },
     "execution_count": 5,
     "metadata": {},
     "output_type": "execute_result"
    }
   ],
   "source": [
    "'ciao'[-1]"
   ]
  },
  {
   "cell_type": "code",
   "execution_count": 7,
   "metadata": {},
   "outputs": [
    {
     "data": {
      "text/plain": [
       "'ia'"
      ]
     },
     "execution_count": 7,
     "metadata": {},
     "output_type": "execute_result"
    }
   ],
   "source": [
    "'ciao'[1:3]"
   ]
  },
  {
   "cell_type": "markdown",
   "metadata": {},
   "source": [
    "## Variabili e nomi delle variabili\n",
    "\n",
    "[Notebook Pyton base, sezione \"Variabili e oggetti\"](../../../04_python_base.ipynb)"
   ]
  },
  {
   "cell_type": "markdown",
   "metadata": {},
   "source": [
    "## If...elif...else"
   ]
  },
  {
   "cell_type": "markdown",
   "metadata": {},
   "source": [
    "Gestire il flusso di esecuzione del codice ponendo delle condizioni."
   ]
  },
  {
   "cell_type": "markdown",
   "metadata": {},
   "source": [
    "[Notebook su `if...else`](../../../05.01_python_flow_control_if_else.ipynb)"
   ]
  },
  {
   "cell_type": "code",
   "execution_count": 1,
   "metadata": {},
   "outputs": [
    {
     "name": "stdout",
     "output_type": "stream",
     "text": [
      "Pippo e Pluto.\n"
     ]
    }
   ],
   "source": [
    "var1 = 'Pippo'\n",
    "# var1 = 'Paperino'\n",
    "# var1 = 'Topolino'\n",
    "# var1 = 'Eta Beta'\n",
    "\n",
    "if var1 == 'Pippo':        # Prima condizione da verificare\n",
    "    var1 += ' e Pluto.'    # Questo viene eseguito se la prima condizione è True\n",
    "elif var1 == 'Paperino':   # Altra condizione, verificata se la precedente condizione è False\n",
    "    var1 += ' e Paperina.' # Questo viene eseguito se la condizione di questo elif si verifica\n",
    "elif var1 == 'Topolino':   # Altra condizione, verificata se la precedente condizione è False\n",
    "    var1 += ' e Minni.'    # Questo viene eseguito se la condizione di questo elif si verifica\n",
    "else:                      # Se tutte le precedenti condizioni non sono True\n",
    "    var1 += ' da solo.'    # Questo viene eseguito se nessuna delle precedenti condizioni si sono verificate\n",
    "\n",
    "# continua da qua...\n",
    "print(var1)                # Questo viene eseguito in ogni caso, perché fuori dall'if"
   ]
  }
 ],
 "metadata": {
  "kernelspec": {
   "display_name": "Python 3",
   "language": "python",
   "name": "python3"
  },
  "language_info": {
   "codemirror_mode": {
    "name": "ipython",
    "version": 3
   },
   "file_extension": ".py",
   "mimetype": "text/x-python",
   "name": "python",
   "nbconvert_exporter": "python",
   "pygments_lexer": "ipython3",
   "version": "3.11.2"
  }
 },
 "nbformat": 4,
 "nbformat_minor": 2
}
