{
 "cells": [
  {
   "cell_type": "markdown",
   "metadata": {},
   "source": [
    "\n",
    "## Divisione intera e resto della divisione\n",
    "Uso del modulo (resto della divisione) per stabilire se un numero è pari o dispari."
   ]
  },
  {
   "cell_type": "code",
   "execution_count": null,
   "metadata": {},
   "outputs": [],
   "source": [
    "mia_var = 0\n",
    "\n",
    "if mia_var % 2:  #  se dispari\n",
    "    print('è dispari')\n",
    "else:       # se pari\n",
    "    print('è pari')"
   ]
  },
  {
   "cell_type": "markdown",
   "metadata": {},
   "source": [
    "## Precedenza tra gli operatori\n",
    "\n",
    "![operators_prcedence.png](../../../imgs/operators_prcedence.jpg)"
   ]
  },
  {
   "cell_type": "markdown",
   "metadata": {},
   "source": [
    "## Importazione di oggetti da moduli"
   ]
  },
  {
   "cell_type": "code",
   "execution_count": null,
   "metadata": {},
   "outputs": [],
   "source": [
    "from math import sqrt\n",
    "\n",
    "# In alternativa:\n",
    "import math\n",
    "math.sqrt"
   ]
  },
  {
   "cell_type": "markdown",
   "metadata": {},
   "source": [
    "## Notazione a punti per accedere a metodi e attributi."
   ]
  },
  {
   "cell_type": "markdown",
   "metadata": {},
   "source": [
    "| Fuori da un oggetto | Dentro un oggetto (*)                                |\n",
    "| ------------------- | ---------------------------------------------------- |\n",
    "| funzione/procedura  | metodo                                               |\n",
    "| variabile           | attributo<br/>proprietà (con getter, setter, ecc...) |"
   ]
  }
 ],
 "metadata": {
  "language_info": {
   "name": "python"
  }
 },
 "nbformat": 4,
 "nbformat_minor": 2
}
