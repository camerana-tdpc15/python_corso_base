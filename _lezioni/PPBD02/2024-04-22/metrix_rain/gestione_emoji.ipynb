{
 "cells": [
  {
   "cell_type": "code",
   "execution_count": 44,
   "metadata": {},
   "outputs": [
    {
     "name": "stdout",
     "output_type": "stream",
     "text": [
      "Emoticons: 😁 😯 😮\n",
      "Miscellaneous Symbols and Pictographs: 📕 🔘 👤\n",
      "Supplemental Symbols and Pictographs: 🥇 🤡 🧪\n",
      "Symbols and Pictographs Extended-A: 🫚 🩲 🫰\n",
      "Transport and Map Symbols: 🚬 🛴 🚥\n",
      "Transport and Map Symbols 2: 🝪 🜻 🝂\n",
      "Dingbats: ❩ ✀ ✘\n",
      "Ornamental Dingbats: 🙳 🙰 🙬\n"
     ]
    }
   ],
   "source": [
    "import random\n",
    "\n",
    "# Definizione dei blocchi emoji con i loro intervalli Unicode\n",
    "emoji_blocks = {\n",
    "    \"Emoticons\": (0x1F600, 0x1F64F),\n",
    "    \"Miscellaneous Symbols and Pictographs\": (0x1F300, 0x1F5FF),\n",
    "    \"Supplemental Symbols and Pictographs\": (0x1F900, 0x1F9FF),\n",
    "    \"Symbols and Pictographs Extended-A\": (0x1FA70, 0x1FAFF),\n",
    "    \"Transport and Map Symbols\": (0x1F680, 0x1F6FF),\n",
    "    \"Transport and Map Symbols 2\": (0x1F700, 0x1F77F),\n",
    "    \"Dingbats\": (0x2700, 0x27BF),\n",
    "    \"Ornamental Dingbats\": (0x1F650, 0x1F67F)\n",
    "}\n",
    "\n",
    "def print_random_emojis(block_name, range_start, range_end):\n",
    "    # Generazione di tre codici emoji casuali nell'intervallo specificato\n",
    "    emojis = [chr(random.randint(range_start, range_end)) for _ in range(3)]\n",
    "    print(f\"{block_name}: {' '.join(emojis)}\")\n",
    "\n",
    "# Esecuzione della funzione per ogni blocco di emoji\n",
    "for block, (start, end) in emoji_blocks.items():\n",
    "    print_random_emojis(block, start, end)\n"
   ]
  },
  {
   "cell_type": "code",
   "execution_count": 6,
   "metadata": {},
   "outputs": [
    {
     "name": "stdout",
     "output_type": "stream",
     "text": [
      "True\n",
      "True\n"
     ]
    }
   ],
   "source": [
    "EMOJI = [\n",
    "    range(0x1F600, 0x1F64F + 1),  # Emoticons\n",
    "    range(0x1F300, 0x1F5FF + 1),  # Miscellaneous Symbols and Pictographs\n",
    "    range(0x1F900, 0x1F9FF + 1),  # Supplemental Symbols and Pictographs\n",
    "    range(0x1FA70, 0x1FAFF + 1),  # Symbols and Pictographs Extended-A\n",
    "    range(0x1F680, 0x1F6FF + 1),  # Transport and Map Symbols\n",
    "]\n",
    "\n",
    "def is_not_emoji(character_code):\n",
    "    \"\"\"Controlla se il codice carattere non è in nessun intervallo emoji definito.\"\"\"\n",
    "    return not any(character_code in emoji_range for emoji_range in EMOJI)\n",
    "\n",
    "# Esempio di utilizzo\n",
    "test_code = 128512  # Questo è un emoji (sorridente)\n",
    "print(is_not_emoji(test_code))  # Output: False\n",
    "\n",
    "test_code = 0x1234  # Questo non è un emoji\n",
    "print(is_not_emoji(test_code))  # Output: True\n"
   ]
  }
 ],
 "metadata": {
  "kernelspec": {
   "display_name": ".venv",
   "language": "python",
   "name": "python3"
  },
  "language_info": {
   "codemirror_mode": {
    "name": "ipython",
    "version": 3
   },
   "file_extension": ".py",
   "mimetype": "text/x-python",
   "name": "python",
   "nbconvert_exporter": "python",
   "pygments_lexer": "ipython3",
   "version": "3.11.2"
  }
 },
 "nbformat": 4,
 "nbformat_minor": 2
}
