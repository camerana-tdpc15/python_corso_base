{
 "cells": [
  {
   "cell_type": "markdown",
   "metadata": {},
   "source": [
    "### Slice per invertire una sequenza"
   ]
  },
  {
   "cell_type": "code",
   "execution_count": 1,
   "metadata": {},
   "outputs": [
    {
     "data": {
      "text/plain": [
       "'èrtatnerT'"
      ]
     },
     "execution_count": 1,
     "metadata": {},
     "output_type": "execute_result"
    }
   ],
   "source": [
    "parola = 'Trentatrè'\n",
    "\n",
    "parola[::-1]"
   ]
  },
  {
   "cell_type": "code",
   "execution_count": 2,
   "metadata": {},
   "outputs": [
    {
     "data": {
      "text/plain": [
       "[6, 5, 4, 3, 2, 1]"
      ]
     },
     "execution_count": 2,
     "metadata": {},
     "output_type": "execute_result"
    }
   ],
   "source": [
    "mia_lista = [1, 2, 3, 4, 5, 6]\n",
    "\n",
    "mia_lista[::-1]"
   ]
  },
  {
   "cell_type": "markdown",
   "metadata": {},
   "source": [
    "### Unpacking in chiamata di funzione"
   ]
  },
  {
   "cell_type": "code",
   "execution_count": null,
   "metadata": {},
   "outputs": [
    {
     "data": {
      "text/plain": [
       "30"
      ]
     },
     "metadata": {},
     "output_type": "display_data"
    }
   ],
   "source": [
    "from math import lcm\n",
    "\n",
    "numeri = [3, 5, 6, 30]\n",
    "\n",
    "lcm(*numeri)"
   ]
  },
  {
   "cell_type": "markdown",
   "metadata": {},
   "source": [
    "- https://www.programiz.com/python-programming/examples/lcm\n",
    "\n",
    "- https://stackoverflow.com/questions/147515/least-common-multiple-for-3-or-more-numbers"
   ]
  },
  {
   "cell_type": "markdown",
   "metadata": {},
   "source": [
    "### Alias per abbreviare i nomi importati"
   ]
  },
  {
   "cell_type": "code",
   "execution_count": 4,
   "metadata": {},
   "outputs": [
    {
     "data": {
      "text/plain": [
       "0"
      ]
     },
     "execution_count": 4,
     "metadata": {},
     "output_type": "execute_result"
    }
   ],
   "source": [
    "from collections import defaultdict as dd\n",
    "\n",
    "mio_dict = dd(int)\n",
    "\n",
    "mio_dict['pippo']"
   ]
  },
  {
   "cell_type": "code",
   "execution_count": 6,
   "metadata": {},
   "outputs": [
    {
     "data": {
      "text/plain": [
       "defaultdict(int, {'pippo': 0})"
      ]
     },
     "execution_count": 6,
     "metadata": {},
     "output_type": "execute_result"
    }
   ],
   "source": [
    "mio_dict"
   ]
  },
  {
   "cell_type": "markdown",
   "metadata": {},
   "source": [
    "### `*kwargs`"
   ]
  },
  {
   "cell_type": "code",
   "execution_count": null,
   "metadata": {},
   "outputs": [
    {
     "name": "stdout",
     "output_type": "stream",
     "text": [
      "{'sdf': 345, 'pippo': 'pluto', 'mm': None}\n"
     ]
    }
   ],
   "source": [
    "def saluta(**kwargs):\n",
    "    print(kwargs)\n",
    "\n",
    "\n",
    "saluta(sdf=345, pippo='pluto', mm=None)"
   ]
  },
  {
   "cell_type": "code",
   "execution_count": null,
   "metadata": {},
   "outputs": [
    {
     "name": "stdout",
     "output_type": "stream",
     "text": [
      "(345, 'pluto', None)\n"
     ]
    }
   ],
   "source": [
    "def saluta(*args):\n",
    "    print(args)\n",
    "\n",
    "\n",
    "saluta(345, 'pluto', None)"
   ]
  },
  {
   "cell_type": "markdown",
   "metadata": {},
   "source": [
    "### Attenzione: variabili e ciclo `for`"
   ]
  },
  {
   "cell_type": "code",
   "execution_count": null,
   "metadata": {},
   "outputs": [],
   "source": [
    "\n",
    "n = 3\n",
    "\n",
    "for n in range(10):\n",
    "    ...\n",
    "\n",
    "print(n)"
   ]
  },
  {
   "cell_type": "markdown",
   "metadata": {},
   "source": [
    "### Alcune riflessioni su classi e oggetti"
   ]
  },
  {
   "cell_type": "code",
   "execution_count": 1,
   "metadata": {},
   "outputs": [
    {
     "name": "stdout",
     "output_type": "stream",
     "text": [
      "Prima del deposito: 1000\n",
      "Dopo il deposito: 1500\n"
     ]
    }
   ],
   "source": [
    "# Definizione di una classe con un attributo privato dei metodi\n",
    "# per accedervi\n",
    "\n",
    "class ContoBancario:\n",
    "    def __init__(self, saldo):\n",
    "        self.__saldo = saldo  # __saldo è un attributo \"privato\"\n",
    "\n",
    "    # Definisco un metodo __eq__ per consentire il confronto tra due\n",
    "    # istanze tramite l'operatore ==\n",
    "    def __eq__(self, x):\n",
    "        if self.__saldo == x.__saldo:\n",
    "            return True\n",
    "        else:\n",
    "            return False\n",
    "\n",
    "    # Metodo per sommare un importo a __saldo\n",
    "    def deposita(self, importo):\n",
    "        self.__saldo += importo\n",
    "\n",
    "    # Metodo per leggere il valore di __saldo\n",
    "    def saldo(self):\n",
    "        return self.__saldo\n",
    "\n",
    "mioConto = ContoBancario(1000)\n",
    "print('Prima del deposito:', mioConto.saldo())\n",
    "\n",
    "mioConto.deposita(500)\n",
    "print('Dopo il deposito:', mioConto.saldo())\n",
    "\n",
    "# Prova anche queste istruzioni:\n",
    "# print('Prima del deposito:', mioConto.__saldo)  # errore: __saldo non è accessibile dall'esterno\n",
    "# print('Prima del deposito:', mioConto._ContoBancario__saldo)  # accesso \"forzato\" a __saldo"
   ]
  },
  {
   "cell_type": "code",
   "execution_count": 2,
   "metadata": {},
   "outputs": [],
   "source": [
    "mioConto1 = ContoBancario(1000)\n",
    "mioConto2 = ContoBancario(1001)"
   ]
  },
  {
   "cell_type": "code",
   "execution_count": 3,
   "metadata": {},
   "outputs": [
    {
     "data": {
      "text/plain": [
       "False"
      ]
     },
     "execution_count": 3,
     "metadata": {},
     "output_type": "execute_result"
    }
   ],
   "source": [
    "mioConto1 == mioConto2"
   ]
  },
  {
   "cell_type": "code",
   "execution_count": 5,
   "metadata": {},
   "outputs": [
    {
     "data": {
      "text/plain": [
       "['_ContoBancario__saldo',\n",
       " '__class__',\n",
       " '__delattr__',\n",
       " '__dict__',\n",
       " '__dir__',\n",
       " '__doc__',\n",
       " '__eq__',\n",
       " '__format__',\n",
       " '__ge__',\n",
       " '__getattribute__',\n",
       " '__getstate__',\n",
       " '__gt__',\n",
       " '__hash__',\n",
       " '__init__',\n",
       " '__init_subclass__',\n",
       " '__le__',\n",
       " '__lt__',\n",
       " '__module__',\n",
       " '__ne__',\n",
       " '__new__',\n",
       " '__reduce__',\n",
       " '__reduce_ex__',\n",
       " '__repr__',\n",
       " '__setattr__',\n",
       " '__sizeof__',\n",
       " '__str__',\n",
       " '__subclasshook__',\n",
       " '__weakref__',\n",
       " 'deposita',\n",
       " 'saldo']"
      ]
     },
     "execution_count": 5,
     "metadata": {},
     "output_type": "execute_result"
    }
   ],
   "source": [
    "dir(mioConto2)"
   ]
  }
 ],
 "metadata": {
  "kernelspec": {
   "display_name": "Python 3",
   "language": "python",
   "name": "python3"
  },
  "language_info": {
   "codemirror_mode": {
    "name": "ipython",
    "version": 3
   },
   "file_extension": ".py",
   "mimetype": "text/x-python",
   "name": "python",
   "nbconvert_exporter": "python",
   "pygments_lexer": "ipython3",
   "version": "3.11.2"
  }
 },
 "nbformat": 4,
 "nbformat_minor": 2
}
