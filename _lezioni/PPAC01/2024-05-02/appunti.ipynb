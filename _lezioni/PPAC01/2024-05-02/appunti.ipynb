{
 "cells": [
  {
   "cell_type": "markdown",
   "id": "bf306de5",
   "metadata": {
    "is_toc": true
   },
   "source": [
    "**Sommario**\n",
    "\n",
    "  - [Percorsi assoluti e relativi](#percorsi-assoluti-e-relativi)\n",
    "    - [Raggiungere un file relativamente a dove si trova lo script](#raggiungere-un-file-relativamente-a-dove-si-trova-lo-script)\n",
    "  - [Confronto tra una \"tabella\" in CSV, JSON e XML](#confronto-tra-una-tabella-in-csv-json-e-xml)\n",
    "      - [CSV](#csv)\n",
    "      - [JSON](#json)\n",
    "      - [XML](#xml)\n",
    "  - [XML](#xml)\n",
    "  - [Installazione di `lxml`](#installazione-di-lxml)\n",
    "  - [Da testo a oggetto XML](#da-testo-a-oggetto-xml)\n",
    "      - [Da stringa: `etree.fromstring(text, parser=None, base_url=None)`](#da-stringa-etreefromstringtext-parsernone-base_urlnone)\n",
    "      - [Da file: `etree.parse(source, parser=None, base_url=None)`](#da-file-etreeparsesource-parsernone-base_urlnone)\n",
    "      - [Print: `etree.dump(elem, pretty_print=True, with_tail=True)`](#print-etreedumpelem-pretty_printtrue-with_tailtrue)\n",
    "    - [Accedere agli elementi figli di una root](#accedere-agli-elementi-figli-di-una-root)\n",
    "    - [Accedere al testo di un elemento](#accedere-al-testo-di-un-elemento)\n",
    "  - [Esercizi da provare a fare a casa:](#esercizi-da-provare-a-fare-a-casa)"
   ]
  },
  {
   "attachments": {},
   "cell_type": "markdown",
   "metadata": {},
   "source": [
    "## Percorsi assoluti e relativi\n",
    "\n",
    "- Notebook [02.02_python_intro_shell.ipynb](../../../02.02_python_intro_shell.ipynb) alla sezione \"Operare con percorsi, file e cartelle\"\n",
    "\n",
    "- Notebook [07_python_files.ipynb](../../../07_python_files.ipynb) alla sezione \"Interagire con il file system\"\n",
    "\n",
    "- Notebook [L_files.ipynb](../../../L_files.ipynb) alla sezione \"Percorsi relativi e Current Working Directory\"\n",
    "\n",
    "\n",
    "\n"
   ]
  },
  {
   "cell_type": "markdown",
   "metadata": {},
   "source": [
    "> **NOTA:** Anche in Markdown i path relativi funzionano nello stesso modo.\n",
    "\n",
    "Ad esempio, dato che questo notebook, relativamente alla root del repository, si trova in `_lezioni/PPAC01/2024-05-02/appunti.ipynb`, per raggiungere la cartella `imgs/` che si trova nella root del repository, devo scriviere questo:\n",
    "\n",
    "`![immagine](../../../imgs/python_logo.png)`\n",
    "\n",
    "che viene renderizzato così:\n",
    "\n",
    "![immagine](../../../imgs/python_logo.png)"
   ]
  },
  {
   "cell_type": "markdown",
   "metadata": {},
   "source": [
    "### Raggiungere un file relativamente a dove si trova lo script\n",
    "\n",
    "In breve:"
   ]
  },
  {
   "attachments": {},
   "cell_type": "markdown",
   "metadata": {},
   "source": [
    "```python\n",
    "import csv\n",
    "import os\n",
    "\n",
    "# Ottiene il percorso assoluto dello script corrente\n",
    "script_path = os.path.abspath(__file__)\n",
    "\n",
    "# Ottiene la directory in cui risiede lo script\n",
    "script_dir = os.path.dirname(script_path)\n",
    "\n",
    "# Costruisce un percorso assoluto al file che voglio raggiungere, combinando\n",
    "# la directory dello script con il percorso relativo al file.\n",
    "file_absolute_path = os.path.join(script_dir, 'botteghe-storiche.csv')\n",
    "\n",
    "with open(file_absolute_path, 'r', encoding='utf-8') as file_in:\n",
    "    ...\n",
    "    ...\n",
    "```"
   ]
  },
  {
   "cell_type": "markdown",
   "metadata": {},
   "source": [
    "## Confronto tra una \"tabella\" in CSV, JSON e XML"
   ]
  },
  {
   "cell_type": "markdown",
   "metadata": {},
   "source": [
    "In questo esempio, abbiamo una tabella con due record, ovvero le \"entità\" che vogliamo rappresentare. I record sono le righe. Ciascuna colonna invece rappresenta una proprietà o attributo del record.\n",
    "\n",
    "La prima riga contiene le intestazioni di colonna, che sono fondamentali per capire cosa i dati rappresentano.\n",
    "\n",
    "| `blog title`       | `date`       | `author`               | `file size` |\n",
    "|--------------------|--------------|------------------------|-------------|\n",
    "| `Data Formats 101` | `08-01-2017` | `Ben`                  | `17kb`      |\n",
    "| `Hello, Python!`   | `23-04-2015` | `John \"Big Boy\" McCoy` | `49kb`      |"
   ]
  },
  {
   "cell_type": "markdown",
   "metadata": {},
   "source": [
    "#### CSV\n",
    "```csv\n",
    "blog title,date,author,file size\n",
    "Data Formats 101,08-01-2017,Ben,17kb\n",
    "\"Hello, Python!\",23-04-2015,John \"\"Big Boy\"\" McCoy,49kb\n",
    "```"
   ]
  },
  {
   "cell_type": "markdown",
   "metadata": {},
   "source": [
    "#### JSON\n",
    "```json\n",
    "[\n",
    "    {\n",
    "        \"blog title\": \"Data Formats 101\",\n",
    "        \"date\": \"08-01-2017\",\n",
    "        \"author\": \"ben\",\n",
    "        \"file size\": \"17kb\",\n",
    "    },\n",
    "    {\n",
    "        \"blog title\": \"Hello, Python!\",\n",
    "        \"date\": \"23-04-2015\",\n",
    "        \"author\": \"John \\\"Big Boy\\\" McCoy\",\n",
    "        \"file size\": \"49kb\",\n",
    "    }\n",
    "]\n",
    "```"
   ]
  },
  {
   "cell_type": "markdown",
   "metadata": {},
   "source": [
    "#### XML\n",
    "```xml\n",
    "<data>\n",
    "    <entry>\n",
    "        <blog_title>Data Formats 101</blog_title>\n",
    "        <date>08-01-2017</date>\n",
    "        <author>Ben</author>\n",
    "        <file_size>17kb</file_size>\n",
    "    </entry>\n",
    "    <entry>\n",
    "        <blog_title>Hello, Python!</blog_title>\n",
    "        <date>23-04-2015</date>\n",
    "        <author>John \"Big Boy\" McCoy</author>\n",
    "        <file_size>49kb</file_size>\n",
    "    </entry>\n",
    "</data>\n",
    "```"
   ]
  },
  {
   "cell_type": "markdown",
   "metadata": {},
   "source": [
    "## XML"
   ]
  },
  {
   "cell_type": "markdown",
   "metadata": {},
   "source": [
    "XML è un formato che memorizza i dati in una struttura gerarchica.\n",
    "\n",
    "Un _**elemento**_ è un \"mattone\" di base di XML e (solitamente) consiste in:\n",
    "\n",
    "- un _**tag di apertura**_;\n",
    "- un _**tag di chiusura**_ corrispondente;\n",
    "- un _**contenuto**_;\n",
    "- uno o più _**attributi**_ facoltativi contenuti nel tag di apertura.\n",
    "\n",
    "Esiste un sottomodulo integrato in Python chiamato `xml.etree` che può analizzare gli XML.\n",
    "\n",
    "Tuttavia, useremo una libreria di terze parti, `lxml`, e il suo sottomodulo omonimo `etree`. Il motivo è che quest'ultimo elabora i documenti XML in modo più veloce e il core di questa libreria è scritto in linguaggio C.\n",
    "\n",
    "- [Sito ufficiale](https://lxml.de/) e documentazione.\n",
    "- [Pagina su PyPi](https://pypi.org/project/lxml/) (Python Package Index).\n",
    "- [Repo su GitHub](https://github.com/lxml/lxml)."
   ]
  },
  {
   "cell_type": "markdown",
   "metadata": {},
   "source": [
    "## Installazione di `lxml`\n",
    "\n",
    "Poiché si tratta di una libreria esterna, bisogna per prima cosa installarla (meglio in un virtual enviroment):"
   ]
  },
  {
   "cell_type": "markdown",
   "metadata": {},
   "source": [
    "```bash\n",
    "# MAC/LINUX:\n",
    "(my_venv) $ pip install lxml\n",
    "\n",
    "# WINDOWS:\n",
    "(my_venv) C:\\my_proj> pip install lxml\n",
    "```"
   ]
  },
  {
   "cell_type": "markdown",
   "metadata": {},
   "source": [
    "Se siete su Windows, non avete creato un virtual environment e dovete usare il `py` launcher:\n",
    "\n",
    "```powershell\n",
    "C:\\my_proj> py -m pip install lxml\n",
    "```"
   ]
  },
  {
   "cell_type": "markdown",
   "metadata": {},
   "source": [
    "Quindi, importate il modulo `etree` nel vostro codice. \n",
    "\n",
    "```python\n",
    "from lxml import etree\n",
    "```\n",
    "\n",
    "Lavoreremo con due classi di questo modulo: `Element` ed `ElementTree`.\n",
    "\n",
    "Un'istanza della classe `Element` può rappresentare un qualunque elemento del documento XML. Memorizza informazioni sul nome del tag, sugli attributi del tag e sui riferimenti agli elementi figli. È noto anche come *node*.\n",
    "\n",
    "`ElementTree` rappresenta l'intero documento XML. Contiene alcune informazioni generali sul documento XML, come la sua codifica e la versione di XML, oltre a un riferimento all'`Element` _**root**_ principale del documento.\n",
    "\n",
    "> NOTA: \n",
    "> - chiamiamo *tree* l'`ElementTree` perché la struttura di un intero file XML è effettivamente una \"struttura ad albero\" organizzata in modo gerarchico.\n",
    ">\n",
    "> - chiamiamo *root* (in gergo HTML *node*) un qualunque `Element` perché è effettivamente la root per tutti i suoi elementi figli. Anche esso ha \"struttura ad albero\" organizzata in modo gerarchico."
   ]
  },
  {
   "cell_type": "markdown",
   "metadata": {},
   "source": [
    "## Da testo a oggetto XML\n",
    "\n",
    "L'azione di leggere, processare e analizzare uno stream di dati (un file) viene detta [*parsing*](https://it.wikipedia.org/wiki/Parsing).\n",
    "\n",
    "Possiamo eseguire parsing di documenti XML a partire da una stringa o da un file.\n",
    "\n",
    "- **STRINGHE XML**: Per fare il parsing di stringa, basta richiamare la funzione `etree.fromstring()` che restituisce l'`Element`, ovvero la root (radice) del documento.\n",
    "\n",
    "- **FILE XML**: Per fare il parsing di un file, si usa la funzione `etree.parse()`. Essa restituisce un'istanza della classe `ElementTree`, quindi si deve usare il metodo `ElementTree.getroot()` per ottenere la root del documento."
   ]
  },
  {
   "cell_type": "markdown",
   "metadata": {},
   "source": [
    "#### Da stringa: `etree.fromstring(text, parser=None, base_url=None)`\n",
    "\n",
    "- [Tutorial](https://lxml.de/tutorial.html#the-fromstring-function)\n",
    "- [Documentazione API](https://lxml.de/apidoc/lxml.etree.html#lxml.etree.fromstring)"
   ]
  },
  {
   "cell_type": "code",
   "execution_count": null,
   "metadata": {},
   "outputs": [
    {
     "name": "stdout",
     "output_type": "stream",
     "text": [
      "<country>\n",
      "  <name>United Stated of America</name>\n",
      "  <capital>Washington</capital>\n",
      "  <states>\n",
      "    <state>California</state>\n",
      "    <state>Texas</state>\n",
      "    <state>Florida</state>\n",
      "    <state>Hawaii</state>\n",
      "  </states>\n",
      "</country>\n"
     ]
    }
   ],
   "source": [
    "from lxml import etree\n",
    "\n",
    "xml_string = '''\n",
    "<country>\n",
    "  <name>United Stated of America</name>\n",
    "  <capital>Washington</capital>\n",
    "  <states>\n",
    "    <state>California</state>\n",
    "    <state>Texas</state>\n",
    "    <state>Florida</state>\n",
    "    <state>Hawaii</state>\n",
    "  </states>\n",
    "</country>\n",
    "'''\n",
    "root = etree.fromstring(xml_string)\n",
    "\n",
    "etree.dump(root)"
   ]
  },
  {
   "cell_type": "markdown",
   "metadata": {},
   "source": [
    "#### Da file: `etree.parse(source, parser=None, base_url=None)`\n",
    "\n",
    "- [Tutorial](https://lxml.de/tutorial.html#the-parse-function)\n",
    "- [Documentazione API](https://lxml.de/apidoc/lxml.etree.html#lxml.etree.parse)"
   ]
  },
  {
   "cell_type": "code",
   "execution_count": null,
   "metadata": {},
   "outputs": [
    {
     "name": "stdout",
     "output_type": "stream",
     "text": [
      "<country>\n",
      "  <name>United Stated of America</name>\n",
      "  <capital>Washington</capital>\n",
      "  <states>\n",
      "    <state>California</state>\n",
      "    <state>Texas</state>\n",
      "    <state>Florida</state>\n",
      "    <state>Hawaii</state>\n",
      "  </states>\n",
      "</country>\n"
     ]
    }
   ],
   "source": [
    "from lxml import etree\n",
    "\n",
    "xml_file = \"../../../files_esercizi/country_data.xml\"\n",
    "root = etree.parse(xml_file).getroot()\n",
    "\n",
    "etree.dump(root)"
   ]
  },
  {
   "cell_type": "markdown",
   "metadata": {},
   "source": [
    "#### Print: `etree.dump(elem, pretty_print=True, with_tail=True)`\n",
    "\n",
    "Durante la scrittura e il debug dei vostri algoritmi potrebbe essere utile stampare a monitor i contenuti XML. Per non dover sempre ricorrere a `print()` e preoccuparsi che le strutture XML siano mostrate con la giusta indentazione, esiste la funzione `etree.dump()`. Accetta un `Element` del documento XML e lo mostra a monitor con tutto il suo contenuto in modo \"prettified\"."
   ]
  },
  {
   "cell_type": "markdown",
   "metadata": {},
   "source": [
    "### Accedere agli elementi figli di una root\n",
    "\n",
    "Si può accedere a un elemento figlio specificando il suo indice con la classica notazione a subscription (parentesi quadre).\n",
    "\n",
    "Il nostro elemento radice, `<country>`, ha tre elementi figli che in ordine sono rispettivamente: `<name>`, `<capital>` e `<states>`.\n",
    "\n",
    "Il tag che `<name>` ha quindi l'indice `0`, mentre `<capital>` l'indice `1` (ricordiamo che gli indici partono da `0`), quindi è possibile accedervi in questo modo:"
   ]
  },
  {
   "cell_type": "code",
   "execution_count": 17,
   "metadata": {},
   "outputs": [
    {
     "name": "stdout",
     "output_type": "stream",
     "text": [
      "<name>United Stated of America</name>\n",
      "  \n",
      "<capital>Washington</capital>\n",
      "  \n",
      "<states>\n",
      "    <state>California</state>\n",
      "    <state>Texas</state>\n",
      "    <state>Florida</state>\n",
      "    <state>Hawaii</state>\n",
      "  </states>\n",
      "\n",
      "<state>California</state>\n",
      "    \n"
     ]
    }
   ],
   "source": [
    "from lxml import etree\n",
    "\n",
    "xml_file = \"../../../files_esercizi/country_data.xml\"\n",
    "root = etree.parse(xml_file).getroot()\n",
    "\n",
    "etree.dump(root[0])\n",
    "etree.dump(root[1])\n",
    "etree.dump(root[2])\n",
    "etree.dump(root[2][0])"
   ]
  },
  {
   "cell_type": "markdown",
   "metadata": {},
   "source": [
    "### Accedere al testo di un elemento\n",
    "\n",
    "Quando un elemento contiene del testo, questo viene memorizzato nel suo attributo `.text`."
   ]
  },
  {
   "cell_type": "code",
   "execution_count": 16,
   "metadata": {},
   "outputs": [
    {
     "name": "stdout",
     "output_type": "stream",
     "text": [
      "California\n"
     ]
    }
   ],
   "source": [
    "print(root[2][0].text)"
   ]
  },
  {
   "cell_type": "code",
   "execution_count": 18,
   "metadata": {},
   "outputs": [
    {
     "name": "stdout",
     "output_type": "stream",
     "text": [
      "California\n",
      "Texas\n",
      "Florida\n",
      "Hawaii\n"
     ]
    }
   ],
   "source": [
    "from lxml import etree\n",
    "\n",
    "xml_file = \"../../../files_esercizi/country_data.xml\"\n",
    "root = etree.parse(xml_file).getroot()\n",
    "\n",
    "states = root[2]\n",
    "for state in states:\n",
    "    print(state.text)"
   ]
  },
  {
   "cell_type": "markdown",
   "metadata": {},
   "source": [
    "## Esercizi da provare a fare a casa:\n",
    "\n",
    "Esercizio su lettura file generico e scrittura manuale di file CSV:\n",
    "- [esercizio_15_file.ipynb](../../../esercizi/esercizio_15_file.ipynb)\n",
    "\n",
    "Esercizio su lettura testo contenuto in tag XML (da stringa):\n",
    "> Da fare usando un ciclo!\n",
    "- [esercizio_19_xml.ipynb](../../../esercizi/esercizio_19_xml.ipynb)"
   ]
  }
 ],
 "metadata": {
  "kernelspec": {
   "display_name": ".venv",
   "language": "python",
   "name": "python3"
  },
  "language_info": {
   "codemirror_mode": {
    "name": "ipython",
    "version": 3
   },
   "file_extension": ".py",
   "mimetype": "text/x-python",
   "name": "python",
   "nbconvert_exporter": "python",
   "pygments_lexer": "ipython3",
   "version": "3.11.2"
  }
 },
 "nbformat": 4,
 "nbformat_minor": 2
}
