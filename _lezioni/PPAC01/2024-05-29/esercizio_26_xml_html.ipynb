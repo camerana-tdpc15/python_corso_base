{
 "cells": [
  {
   "cell_type": "markdown",
   "metadata": {},
   "source": [
    "# Esercitazione: Modulo `lxml` con file XML e HTML\n",
    "\n",
    "Utilizza il modulo Python `lxml` per leggere ed estrarre dati da file XML e HTML.\n",
    "\n",
    "L'obiettivo è estrarre informazioni dai tag, dagli attributi e dai testi all'interno dei tag."
   ]
  },
  {
   "cell_type": "markdown",
   "metadata": {},
   "source": [
    "## File da analizzare\n",
    "\n",
    "#### File XML: [`libri.xml`](../../../files_esercizi/libri.xml)\n",
    "\n",
    "```xml\n",
    "<library>\n",
    "    <book id=\"1\">\n",
    "        <title>Python Programming</title>\n",
    "        <author>John Doe</author>\n",
    "        <year>2020</year>\n",
    "    </book>\n",
    "    <book id=\"2\">\n",
    "        <title>Learning XML</title>\n",
    "        <author>Jane Smith</author>\n",
    "        <year>2018</year>\n",
    "    </book>\n",
    "</library>\n",
    "```\n",
    "\n",
    "#### File HTML: [`libri.html`](../../../files_esercizi/libri.html)\n",
    "\n",
    "```html\n",
    "<!DOCTYPE html>\n",
    "<html>\n",
    "<head>\n",
    "    <title>Library</title>\n",
    "</head>\n",
    "<body>\n",
    "    <div class=\"book\" id=\"1\">\n",
    "        <h2>Python Programming</h2>\n",
    "        <p>Author: John Doe</p>\n",
    "        <p>Year: 2020</p>\n",
    "    </div>\n",
    "    <div class=\"book\" id=\"2\">\n",
    "        <h2>Learning XML</h2>\n",
    "        <p>Author: Jane Smith</p>\n",
    "        <p>Year: 2018</p>\n",
    "    </div>\n",
    "</body>\n",
    "</html>\n",
    "```"
   ]
  },
  {
   "cell_type": "markdown",
   "metadata": {},
   "source": [
    "### Prerequisiti\n",
    "\n",
    "**Installazione del modulo `lxml`**:\n",
    "   - Utilizza `pip` per installare il modulo `lxml` se non è già presente nell'ambiente."
   ]
  },
  {
   "cell_type": "markdown",
   "metadata": {},
   "source": [
    "### Consegna - Parte 1: XML\n",
    "\n",
    "Scrivi un programma Python che utilizza `lxml` per leggere il file [`libri.xml`](../files_esercizi/libri.xml) contenuto nella cartella `files_esercizi/`.\n",
    "\n",
    "**Accesso ai tag e agli attributi nel file XML**:\n",
    "   1. Trova tutti gli elementi `<book>` all'interno del file XML.\n",
    "   2. Per ogni elemento `<book>`, estrai:\n",
    "      - l'attributo `id`;\n",
    "      - il contenuto (testo) dei tag `<title>`, `<author>` e `<year>`.\n",
    "   3. Stampa le informazioni estratte in un formato leggibile."
   ]
  },
  {
   "cell_type": "code",
   "execution_count": 5,
   "metadata": {},
   "outputs": [
    {
     "name": "stdout",
     "output_type": "stream",
     "text": [
      "Book ID: 1\n",
      "Title: Python Programming\n",
      "Author: John Doe\n",
      "Year: 2020\n",
      "----------\n",
      "Book ID: 2\n",
      "Title: Learning XML\n",
      "Author: Jane Smith\n",
      "Year: 2018\n",
      "----------\n",
      "Book ID: N/A\n",
      "Title: Pippo in vacanza\n",
      "Year: 2012\n",
      "----------\n"
     ]
    }
   ],
   "source": [
    "# Scrivi qua il tuo codice\n",
    "\n",
    "# Importo il modulo lxml\n",
    "from lxml import etree\n",
    "\n",
    "# Faccio il parsing del file e ottengo l'Element (root)\n",
    "xml_file = '../../../files_esercizi/libri.xml'\n",
    "root = etree.parse(xml_file).getroot()\n",
    "\n",
    "\n",
    "# Ciclo ciascun elemento della root\n",
    "# Per ciascun elemento della root\n",
    "for book in root:\n",
    "    # Leggo l'id\n",
    "    book_id = book.get('id', default=\"N/A\")\n",
    "    # Leggo il titolo, autore e anno\n",
    "    title = book.find('title')\n",
    "    author = book.find('author')\n",
    "    year = book.find('year')\n",
    "\n",
    "    # Stampo i risultati\n",
    "    print('Book ID:', book_id)\n",
    "    if title is not None:\n",
    "        print('Title:', title.text)\n",
    "    if author is not None:\n",
    "        print('Author:', author.text)\n",
    "    if year is not None:\n",
    "        print('Year:', year.text)\n",
    "    print('-' * 10)"
   ]
  },
  {
   "cell_type": "markdown",
   "metadata": {},
   "source": [
    "### Consegna - Parte 2: HTML\n",
    "\n",
    "Scrivi un programma Python che utilizza `lxml` per caricare il file [`libri.html`](../../../files_esercizi/libri.html) contenuto nella cartella `files_esercizi/`.\n",
    "\n",
    "**Accesso ai tag e agli attributi nel file HTML**:\n",
    "   1. Trova tutti i tag `<div>` con classe `book` all'interno del file HTML.\n",
    "   2. Per ogni tag `<div>`, estrai:\n",
    "      - l'attributo `id`;\n",
    "      - il contenuto dei tag `<h2>`;\n",
    "      - `<p>` che contengono \"Author\";\n",
    "      - `<p>` che contengono \"Year\".\n",
    "   3. Stampa le informazioni estratte in un formato leggibile."
   ]
  },
  {
   "cell_type": "code",
   "execution_count": 18,
   "metadata": {},
   "outputs": [
    {
     "name": "stdout",
     "output_type": "stream",
     "text": [
      "Book ID: 1\n",
      "Title: Python Programming\n",
      "Author: John Doe\n",
      "Year: 2020\n",
      "----------\n",
      "Book ID: 2\n",
      "Title: Learning XML\n",
      "Author: Jane Smith\n",
      "Year: 2018\n",
      "----------\n"
     ]
    }
   ],
   "source": [
    "from lxml import html\n",
    "\n",
    "tree = html.parse('../../../files_esercizi/libri.html')\n",
    "root = tree.getroot()\n",
    "\n",
    "books = root.findall('.//div[@class=\"book\"]')\n",
    "\n",
    "for book in books:\n",
    "    book_id = book.get('id', default='N/A')\n",
    "\n",
    "    title = book.find('h2').text\n",
    "\n",
    "    author_elem = book.xpath('.//p[contains(text(), \"Author\")]')[0]\n",
    "    year_elem = book.xpath('.//p[contains(text(), \"Year\")]')[0]\n",
    "\n",
    "    author = author_elem.text\n",
    "    year = year_elem.text\n",
    "\n",
    "    print('Book ID:', book_id)\n",
    "    print('Title:', title)\n",
    "    print('Author:', author.split(': ')[1])\n",
    "    print('Year:', year.split(': ')[1])\n",
    "    print('-' * 10)\n"
   ]
  },
  {
   "cell_type": "markdown",
   "metadata": {},
   "source": [
    "Per dividere l'etichetta dal dato, possiamo procedere in questo modo:"
   ]
  },
  {
   "cell_type": "code",
   "execution_count": 19,
   "metadata": {},
   "outputs": [
    {
     "name": "stdout",
     "output_type": "stream",
     "text": [
      "['Author', ' John Doe']\n"
     ]
    },
    {
     "data": {
      "text/plain": [
       "'John Doe'"
      ]
     },
     "execution_count": 19,
     "metadata": {},
     "output_type": "execute_result"
    }
   ],
   "source": [
    "dati = 'Author: John Doe'.split(':')\n",
    "\n",
    "print(dati)\n",
    "\n",
    "dati[1].strip()"
   ]
  },
  {
   "cell_type": "code",
   "execution_count": 17,
   "metadata": {},
   "outputs": [
    {
     "data": {
      "text/plain": [
       "'John Doe'"
      ]
     },
     "execution_count": 17,
     "metadata": {},
     "output_type": "execute_result"
    }
   ],
   "source": [
    "dati = 'Author: John Doe'.split(': ')\n",
    "\n",
    "dati[1]"
   ]
  },
  {
   "cell_type": "markdown",
   "metadata": {},
   "source": [
    "Se non vigliamo usare XPath:"
   ]
  },
  {
   "cell_type": "code",
   "execution_count": null,
   "metadata": {},
   "outputs": [],
   "source": [
    "from lxml import html\n",
    "\n",
    "tree = html.parse('../../../files_esercizi/libri.html')\n",
    "root = tree.getroot()\n",
    "\n",
    "books = root.findall('.//div[@class=\"book\"]')\n",
    "\n",
    "for book in books:\n",
    "    book_id = book.get('id')\n",
    "\n",
    "    title = book.find('h2').text\n",
    "\n",
    "    paragraphs = book.findall('p')\n",
    "\n",
    "    for p in paragraphs:\n",
    "        if p.text.startswith('Author'):\n",
    "            author = p.text.split(': ')[1]\n",
    "        elif p.text.startswith('Year'):\n",
    "            year = p.text.split(': ')[1]\n",
    "\n",
    "    print(f\"Book ID: {book_id}\")\n",
    "    print(f\"Title: {title}\")\n",
    "    print(f\"Author: {author}\")\n",
    "    print(f\"Year: {year}\")\n",
    "    print(\"-------------------\")"
   ]
  }
 ],
 "metadata": {
  "kernelspec": {
   "display_name": "Python 3",
   "language": "python",
   "name": "python3"
  },
  "language_info": {
   "codemirror_mode": {
    "name": "ipython",
    "version": 3
   },
   "file_extension": ".py",
   "mimetype": "text/x-python",
   "name": "python",
   "nbconvert_exporter": "python",
   "pygments_lexer": "ipython3",
   "version": "3.11.2"
  }
 },
 "nbformat": 4,
 "nbformat_minor": 2
}
