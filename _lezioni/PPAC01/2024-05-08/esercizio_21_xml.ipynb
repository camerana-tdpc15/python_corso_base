{
 "cells": [
  {
   "attachments": {},
   "cell_type": "markdown",
   "metadata": {},
   "source": [
    "# Esercizio: Trova la password"
   ]
  },
  {
   "attachments": {},
   "cell_type": "markdown",
   "metadata": {},
   "source": [
    "Immagina di essere un sistemista maldestro che non ricorda più la password per accedere a un sistema, ma sei sicuro di averla salvata in chiaro in un file `.xml`, da qualche parte nella cartella `/files_esercizi/esempi/` del nostro repository. \n",
    "\n",
    "Si tratta di un documento XML che contiene varie informazioni sull'utente, forse il login o l'e-mail, non ricordi, ma sicuramente contiene la password.\n",
    "\n",
    "Purtroppo non sai qual è il file. Hai molti file, e alcuni di essi sono anche molto lunghi, quindi aprirli uno per uno per fare una ricerca a tutto testo con un editor di testo è impensabile. Soprattutto, hai cose più urgenti da fare e il tempo è denaro! Quindi decidi di scrivere un breve script in Python che cerchi la password al posto tuo.\n",
    "\n",
    "Ricordi che tutte le informazioni sull'utente erano memorizzate in attributi XML e sei certo che la password sia memorizzata in un attributo chiamato proprio... `password`. Che fantasia!\n",
    "\n",
    "Hai appena letto che il modulo `lxml` è perfetto per processare molti file XML, anche di grandi dimensioni, quindi decidi di installarlo con `pip` (nel tuo virtual environment, ovviamente!;).\n",
    "\n",
    "Decidi di procedere per gradi di difficoltà dato che non hai mai usato la libreria `lxml`."
   ]
  },
  {
   "attachments": {},
   "cell_type": "markdown",
   "metadata": {},
   "source": [
    "### Per cominciare...\n",
    "\n",
    "Crei due file di prova `prova_pwd_facile.xml` e `prova_pwd_difficile.xml` e li metti nella cartella `/files_esercizi/esempi/` del nostro repo. I file a questo punto esistono già e hanno seguente aspetto:\n"
   ]
  },
  {
   "attachments": {},
   "cell_type": "markdown",
   "metadata": {},
   "source": [
    "Esempio file `prova_pwd_facile.xml`:\n",
    "\n",
    "```xml\n",
    "<profile><account login=\"login\" password=\"secret\"/></profile>\n",
    "```\n",
    "\n",
    "Output attesto:\n",
    "\n",
    "<pre>\n",
    "secret\n",
    "</pre>"
   ]
  },
  {
   "attachments": {},
   "cell_type": "markdown",
   "metadata": {},
   "source": [
    "Esempio file `prova_pwd_difficile.xml`:\n",
    "\n",
    "```xml\n",
    "<result>\n",
    "  <webpage link=\"lxml.de\"></webpage>\n",
    "  <users>\n",
    "    <!-- Commento a tradimento: la password=\"è questa\" -->\n",
    "    <user id=\"239\" password=\"qwerty\"><info email=\"a@a.a\"/></user>\n",
    "  </users>\n",
    "</result>\n",
    "```\n",
    "\n",
    "Output atteso:\n",
    "\n",
    "<pre>\n",
    "qwerty\n",
    "</pre>\n"
   ]
  },
  {
   "attachments": {},
   "cell_type": "markdown",
   "metadata": {},
   "source": [
    "### Cosa devo fare?\n",
    "\n",
    "In pratica devi navigare attraverso l'albero del documento XML utilizzando la libreria `lxml`, trovare un attributo chiamato `password`, leggerne il valore (la password vera e propria) e restituirlo in qualche modo."
   ]
  },
  {
   "attachments": {},
   "cell_type": "markdown",
   "metadata": {},
   "source": [
    "### STEP 1.1: Versione semplificata con `prova_pwd_facile.xml`\n",
    "\n",
    "Dato che a un'attenta analisi il problema si rivela essere un po' più complesso di quanto potrebbe apparire a prima vista, decidi intanto di partire con un algoritmo che trova la password tra gli attributi di uno dei \"figli diretti\" della root. Se la password non viene trovata, restituisci `None`.\n",
    "\n",
    "Guardiamo il file:\n",
    "\n",
    "```xml\n",
    "<profile><account login=\"login\" password=\"secret\"/></profile>\n",
    "```\n",
    "\n",
    "In questo caso il tag `<account>`, che contiene la password, è un \"figlio diretto\" della root `<profile>`.\n",
    "\n",
    "> NOTA: Quindi, per intendersi, processando invece il file `prova_pwd_difficile.xml`, in questa prima fase, anche `None` è una risposta valida."
   ]
  },
  {
   "attachments": {},
   "cell_type": "markdown",
   "metadata": {},
   "source": [
    "Inizia provando a scrivere del codice che estrae la password dal file [`prova_pwd_facile.xml`](../files_esercizi/esempi/prova_pwd_facile.xml)."
   ]
  },
  {
   "cell_type": "code",
   "execution_count": 6,
   "metadata": {},
   "outputs": [
    {
     "name": "stdout",
     "output_type": "stream",
     "text": [
      "secret\n"
     ]
    }
   ],
   "source": [
    "from lxml import etree\n",
    "\n",
    "xml_file = '../files_esercizi/esempi/prova_pwd_facile.xml'\n",
    "\n",
    "root = etree.parse(xml_file).getroot()\n",
    "\n",
    "# for child_elem in root:\n",
    "#     password = child_elem.get('password')\n",
    "#     if password is None:  # Se non hai trovato la password\n",
    "#         continue\n",
    "#     else:  # Se hai trovato la password\n",
    "#         break\n",
    "\n",
    "for child_elem in root:\n",
    "    password = child_elem.get('password')\n",
    "    if password is not None:  # Se hai trovato la password\n",
    "        break\n",
    "\n",
    "print(password)"
   ]
  },
  {
   "attachments": {},
   "cell_type": "markdown",
   "metadata": {},
   "source": [
    "### STEP 1.2: Versione semplificata con `prova_pwd_difficile.xml`\n",
    "\n",
    "Prova a fare anche la prova con [`prova_pwd_difficile.xml`](../../../files_esercizi/esempi/prova_pwd_difficile.xml), dovresti ottenere `None`."
   ]
  },
  {
   "cell_type": "code",
   "execution_count": 5,
   "metadata": {},
   "outputs": [
    {
     "name": "stdout",
     "output_type": "stream",
     "text": [
      "None\n"
     ]
    }
   ],
   "source": [
    "from lxml import etree\n",
    "\n",
    "xml_file = '../../../files_esercizi/esempi/prova_pwd_difficile.xml'\n",
    "\n",
    "root = etree.parse(xml_file).getroot()\n",
    "\n",
    "for child_elem in root:  # Itera solo tra i \"figli diretti\" non negli elementi annidati\n",
    "    password = child_elem.get('password')\n",
    "    if password is not None:  # Se hai trovato la password\n",
    "        break\n",
    "\n",
    "print(password)"
   ]
  },
  {
   "attachments": {},
   "cell_type": "markdown",
   "metadata": {},
   "source": [
    "### STEP 2: Metti l'algoritmo in una funzione"
   ]
  },
  {
   "attachments": {},
   "cell_type": "markdown",
   "metadata": {},
   "source": [
    "Dato che dovrai eseguire questo codice per ciascun file XML presente nella cartella in cui vuoi effettuare la ricerca, hai pensato che è il momento di  implementare una funzione `find_password(root)`. \n",
    "\n",
    "Questa funzione dovrebbe avere un solo parametro, che accetta un oggetto `etree.Element` in questo caso lo chiami `root` perché intendi passare l'elemento root alla funzione."
   ]
  },
  {
   "cell_type": "code",
   "execution_count": 12,
   "metadata": {},
   "outputs": [
    {
     "name": "stdout",
     "output_type": "stream",
     "text": [
      "None\n"
     ]
    }
   ],
   "source": [
    "from lxml import etree\n",
    "\n",
    "# scrivi qui\n",
    "\n",
    "def find_password(root):\n",
    "    password = None\n",
    "    # Per ogni elemento figlio della root attuale\n",
    "    for child_elem in root:\n",
    "        # Controlliamo se l'elemento corrente contiene la password\n",
    "        password = child_elem.get('password')\n",
    "         # Se hai trovato la password\n",
    "        if password is not None:\n",
    "            # Intterrompi il ciclo\n",
    "            break\n",
    "    return password\n",
    "\n",
    "\n",
    "# xml_file = '../files_esercizi/esempi/prova_pwd_facile.xml'\n",
    "xml_file = '../files_esercizi/esempi/prova_pwd_difficile.xml'\n",
    "\n",
    "root = etree.parse(xml_file).getroot()\n",
    "\n",
    "print(find_password(root))"
   ]
  },
  {
   "attachments": {},
   "cell_type": "markdown",
   "metadata": {},
   "source": [
    "### STEP 3: Navigare in tutti i rami, ricorsivamente\n",
    "\n",
    "Ora sei pronto per migliorare l'algoritmo e provare a cercare in qualunque elemento della struttura XML."
   ]
  },
  {
   "cell_type": "code",
   "execution_count": 7,
   "metadata": {},
   "outputs": [
    {
     "name": "stdout",
     "output_type": "stream",
     "text": [
      "qwerty\n"
     ]
    }
   ],
   "source": [
    "from lxml import etree\n",
    "\n",
    "def find_password(root):\n",
    "    password = None\n",
    "    # Per ogni elemento figlio della root attuale\n",
    "    for child_elem in root:\n",
    "        # Controlliamo se l'elemento corrente contiene la password\n",
    "        password = child_elem.get('password')\n",
    "        # Se hai trovato la password\n",
    "        if password is not None:\n",
    "            # Intterrompi il ciclo e restituisci la password trovata\n",
    "            return password\n",
    "        # Se non hai trovato la password\n",
    "        else:\n",
    "            # Se l'elemento corrente ha dei figli\n",
    "            if len(child_elem) != 0:\n",
    "                # Ti faccio rifare tutto da capo usando l'elemento\n",
    "                # corrente come root\n",
    "                return find_password(child_elem)\n",
    "                \n",
    "    return password\n",
    "\n",
    "# xml_file = '../files_esercizi/esempi/prova_pwd_facile.xml'\n",
    "xml_file = '../../../files_esercizi/esempi/prova_pwd_difficile.xml'\n",
    "\n",
    "root = etree.parse(xml_file).getroot()\n",
    "\n",
    "print(find_password(root))"
   ]
  },
  {
   "cell_type": "markdown",
   "metadata": {},
   "source": [
    "> **ATTENZIONE!**: Così com'è scritto, il codice interrompe la ricerca dell'attributo alla prima occorrenza. Questo vuol dire che se ci sono altri attributi `password` nella struttura, questi non saranno trovati... ma per ora, va bene così!"
   ]
  },
  {
   "cell_type": "markdown",
   "metadata": {},
   "source": [
    "## Prossima lezione: `xpath` e HTML\n",
    "\n",
    "La prossima lezione, dato che dovremo iniziare a leggere l'HTML (cugino dell'XML) vedremo la sintassi `xpath`, che è un potente strumento per effettuare delle vere e proprie query (interrogazioni) su una struttura dati della famiglia XML. "
   ]
  },
  {
   "cell_type": "markdown",
   "metadata": {},
   "source": [
    "Per esempio, sfruttando il metodo `.xpath()`, possiamo evitare di creare una funzione ricorsiva.\n",
    "\n",
    "Sarà xpath a preoccuparsi di navigare all'interno dell'intera struttura XML e di trovare quello che abbiamo richiesto."
   ]
  },
  {
   "cell_type": "code",
   "execution_count": 10,
   "metadata": {},
   "outputs": [
    {
     "name": "stdout",
     "output_type": "stream",
     "text": [
      "qwerty\n"
     ]
    }
   ],
   "source": [
    "from lxml import etree\n",
    "\n",
    "def find_password(root):\n",
    "    # Usa xpath per trovare il primo elemento con l'attributo specificato\n",
    "    result = root.xpath(\"//*[@password]\")\n",
    "    if result:\n",
    "        return result[0].get('password')\n",
    "\n",
    "# xml_file = '../files_esercizi/esempi/prova_pwd_facile.xml'\n",
    "xml_file = '../../../files_esercizi/esempi/prova_pwd_difficile.xml'\n",
    "\n",
    "root = etree.parse(xml_file).getroot()\n",
    "\n",
    "print(find_password(root))"
   ]
  }
 ],
 "metadata": {
  "kernelspec": {
   "display_name": ".venv",
   "language": "python",
   "name": "python3"
  },
  "language_info": {
   "codemirror_mode": {
    "name": "ipython",
    "version": 3
   },
   "file_extension": ".py",
   "mimetype": "text/x-python",
   "name": "python",
   "nbconvert_exporter": "python",
   "pygments_lexer": "ipython3",
   "version": "3.11.2"
  },
  "orig_nbformat": 4
 },
 "nbformat": 4,
 "nbformat_minor": 2
}
