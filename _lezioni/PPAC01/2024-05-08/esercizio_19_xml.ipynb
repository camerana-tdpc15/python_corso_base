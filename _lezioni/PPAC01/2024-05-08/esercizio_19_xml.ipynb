{
 "cells": [
  {
   "attachments": {},
   "cell_type": "markdown",
   "metadata": {},
   "source": [
    "# Io sono elem!\n",
    "\n",
    "Ricevi un documento XML composto da un elemento root e da diversi elementi figli. Ciascuno di questi elementi figli contiene del testo. Scrivete un programma che iteri sugli elementi figli e stampi il testo che contengono.\n",
    "\n",
    "Il documento XML appare come segue:\n",
    "\n",
    "```xml\n",
    "<root>\n",
    "    <elem1>Io sono elem1</elem1>\n",
    "    <elem2>Io sono elem2</elem2>\n",
    "    <elem3>Io sono elem3</elem3>\n",
    "</root>\n",
    "```\n",
    "\n",
    "Ci aspettiamo che l'output prodotto sia il seguente:\n",
    "\n",
    "<pre>\n",
    "Io sono elem1\n",
    "Io sono elem2\n",
    "Io sono elem3\n",
    "</pre>"
   ]
  },
  {
   "cell_type": "code",
   "execution_count": 6,
   "metadata": {},
   "outputs": [
    {
     "name": "stdout",
     "output_type": "stream",
     "text": [
      "Io sono elem1\n",
      "Io sono elem2\n",
      "Io sono elem3\n"
     ]
    }
   ],
   "source": [
    "from lxml import etree\n",
    "\n",
    "xml_str = '<root><elem1>Io sono elem1</elem1><elem2>Io sono elem2</elem2><elem3>Io sono elem3</elem3></root>'\n",
    "\n",
    "# scrivi qui\n",
    "root = etree.fromstring(xml_str)\n",
    "\n",
    "print(root[0].text)\n",
    "print(root[1].text)\n",
    "print(root[2].text)\n"
   ]
  },
  {
   "cell_type": "code",
   "execution_count": 7,
   "metadata": {},
   "outputs": [
    {
     "name": "stdout",
     "output_type": "stream",
     "text": [
      "Io sono elem1\n",
      "Io sono elem2\n",
      "Io sono elem3\n"
     ]
    }
   ],
   "source": [
    "root = etree.fromstring(xml_str)\n",
    "for elem in root:\n",
    "    print(elem.text)"
   ]
  }
 ],
 "metadata": {
  "kernelspec": {
   "display_name": ".venv",
   "language": "python",
   "name": "python3"
  },
  "language_info": {
   "codemirror_mode": {
    "name": "ipython",
    "version": 3
   },
   "file_extension": ".py",
   "mimetype": "text/x-python",
   "name": "python",
   "nbconvert_exporter": "python",
   "pygments_lexer": "ipython3",
   "version": "3.11.2"
  },
  "orig_nbformat": 4
 },
 "nbformat": 4,
 "nbformat_minor": 2
}
