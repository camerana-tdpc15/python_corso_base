{
 "cells": [
  {
   "cell_type": "markdown",
   "metadata": {},
   "source": [
    "# Tipi di tag XML"
   ]
  },
  {
   "attachments": {},
   "cell_type": "markdown",
   "metadata": {},
   "source": [
    "<book title=\"I tre moschettieri\"/>"
   ]
  },
  {
   "attachments": {},
   "cell_type": "markdown",
   "metadata": {},
   "source": [
    "## Elementi\n",
    "\n",
    "I tag (elementi) possono essere scritti usando:\n",
    "\n",
    "- una coppia di *Start-tag / End-tag* (`<tag> </tag>`) \n",
    "\n",
    "- un singolo *Empty-element-tag* (`<tag/>`)\n",
    "\n",
    "## Valori\n",
    "\n",
    "I dati possono essere inseriti...\n",
    "\n",
    "- come testo tra una coppia di tag<br>\n",
    "  `<state>California</state>`\n",
    "\n",
    "- come valore di un attributo<br>\n",
    "  `<state name=\"California\"/>`\n",
    "\n",
    "- combinando le due possibilità precedenti:\n",
    "  - come testo tra una coppia di tag,\n",
    "  - come valore di un attributo<br>\n",
    "  `<state abbreviation=\"CA\">California</state>`\n",
    "  `<state timezone=\"UTC\">24/4/2024</state>`"
   ]
  },
  {
   "cell_type": "markdown",
   "metadata": {},
   "source": [
    "Esempio di struttura con valori codificati come testo tra una coppia di *start-tag/end-tag*:\n",
    "\n",
    "```xml\n",
    "<country>\n",
    "  <name>United Stated of America</name>\n",
    "  <capital>Washington</capital>\n",
    "  <states>\n",
    "    <state>California</state>\n",
    "    <state>Texas</state>\n",
    "    <state>Florida</state>\n",
    "    <state>Hawaii</state>\n",
    "  </states>\n",
    "</country>\n",
    "```"
   ]
  },
  {
   "cell_type": "markdown",
   "metadata": {},
   "source": [
    "Esempio di struttura con valori codificati negli attributi di *empty-element-tag*:\n",
    "\n",
    "```xml\n",
    "<country name=\"United Stated of America\" capital=\"Washington\">\n",
    "  <states>\n",
    "    <state name=\"Hawaii\"/>\n",
    "    <state name=\"Florida\"/>\n",
    "    <state name=\"Texas\"/>\n",
    "    <state name=\"California\"/>\n",
    "  </states>\n",
    "</country>\n",
    "```"
   ]
  },
  {
   "cell_type": "markdown",
   "metadata": {},
   "source": [
    "## `ElementTree` e `Element`\n",
    "\n",
    "- `ElementTree` : `etree.parse(xml_file)`\n",
    "- `Element` : `etree.parse(xml_file).getroot()`\n",
    "\n",
    "Noi dobbiamo sempre lavorare sugli `Element`."
   ]
  },
  {
   "cell_type": "markdown",
   "metadata": {},
   "source": [
    "# XML con `lxml`"
   ]
  },
  {
   "cell_type": "markdown",
   "metadata": {},
   "source": [
    "[`country_data.xml`](../../../files_esercizi/country_data.xml):\n",
    "```xml\n",
    "<country>\n",
    "  <name>United Stated of America</name>\n",
    "  <capital>Washington</capital>\n",
    "  <states>\n",
    "    <state>California</state>\n",
    "    <state>Texas</state>\n",
    "    <state>Florida</state>\n",
    "    <state>Hawaii</state>\n",
    "  </states>\n",
    "</country>\n",
    "```"
   ]
  },
  {
   "cell_type": "markdown",
   "metadata": {},
   "source": [
    "## Accedere agli elementi figli di una \"root\"\n",
    "\n",
    "`root[index]`"
   ]
  },
  {
   "cell_type": "code",
   "execution_count": 3,
   "metadata": {},
   "outputs": [
    {
     "name": "stdout",
     "output_type": "stream",
     "text": [
      "<name>United Stated of America</name>\n",
      "  \n",
      "<capital>Washington</capital>\n",
      "  \n",
      "<states>\n",
      "    <state>California</state>\n",
      "    <state>Texas</state>\n",
      "    <state>Florida</state>\n",
      "    <state>Hawaii</state>\n",
      "  </states>\n",
      "\n"
     ]
    }
   ],
   "source": [
    "from lxml import etree\n",
    "\n",
    "xml_file = \"../../../files_esercizi/country_data.xml\"\n",
    "root = etree.parse(xml_file).getroot()\n",
    "\n",
    "for elem in root:  # root : <country>\n",
    "    etree.dump(elem)"
   ]
  },
  {
   "cell_type": "code",
   "execution_count": 6,
   "metadata": {},
   "outputs": [
    {
     "name": "stdout",
     "output_type": "stream",
     "text": [
      "<state>California</state>\n",
      "    \n",
      "<state>Texas</state>\n",
      "    \n",
      "<state>Florida</state>\n",
      "    \n",
      "<state>Hawaii</state>\n",
      "  \n"
     ]
    }
   ],
   "source": [
    "for state in root[2]:  # root[2] : <states>\n",
    "    etree.dump(state)"
   ]
  },
  {
   "cell_type": "markdown",
   "metadata": {},
   "source": [
    "## Accedere al testo di un elemento con `.text`"
   ]
  },
  {
   "cell_type": "markdown",
   "metadata": {},
   "source": [
    "`Element.text`"
   ]
  },
  {
   "cell_type": "code",
   "execution_count": 7,
   "metadata": {},
   "outputs": [
    {
     "name": "stdout",
     "output_type": "stream",
     "text": [
      "California\n",
      "Texas\n",
      "Florida\n",
      "Hawaii\n"
     ]
    }
   ],
   "source": [
    "from lxml import etree\n",
    "\n",
    "xml_file = \"../../../files_esercizi/country_data.xml\"\n",
    "root = etree.parse(xml_file).getroot()\n",
    "\n",
    "for state in root[2]:  # root[2] = <states>\n",
    "    print(state.text)"
   ]
  },
  {
   "cell_type": "markdown",
   "metadata": {},
   "source": [
    "## Accedere agli attributi di un elemento con `.get()`\n",
    "\n",
    "`Element.get(attribute_name)`"
   ]
  },
  {
   "cell_type": "markdown",
   "metadata": {},
   "source": [
    "Come il `dict.get()`, anche questo metodo `.get()` consente di specificare un valore di default:\n",
    "\n",
    "`Element.get(attribute_name, default='Attributo non trovato!')`"
   ]
  },
  {
   "cell_type": "markdown",
   "metadata": {},
   "source": [
    "Ora usiamo un'altro file.\n",
    "\n",
    "[`country_data_attrs.xml`](../../../files_esercizi/country_data_attrs.xml):\n",
    "```xml\n",
    "<country name=\"United Stated of America\" capital=\"Washington\">\n",
    "  <states>\n",
    "    <state name=\"Hawaii\"/>\n",
    "    <state name=\"Florida\"/>\n",
    "    <state name=\"Texas\"/>\n",
    "    <state name=\"California\"/>\n",
    "  </states>\n",
    "</country>\n",
    "```"
   ]
  },
  {
   "cell_type": "code",
   "execution_count": 9,
   "metadata": {},
   "outputs": [
    {
     "name": "stdout",
     "output_type": "stream",
     "text": [
      "Hawaii\n",
      "Florida\n",
      "Texas\n",
      "California\n"
     ]
    }
   ],
   "source": [
    "from lxml import etree\n",
    "\n",
    "xml_file = \"../../../files_esercizi/country_data_attrs.xml\"\n",
    "root = etree.parse(xml_file).getroot()\n",
    "\n",
    "states = root[0]\n",
    "for state in states:\n",
    "    print(state.get('name'))"
   ]
  },
  {
   "cell_type": "markdown",
   "metadata": {},
   "source": [
    "# XML Prolog\n",
    "\n",
    "Lo standard XML prevede la presenza del cosiddetto _**prolog**_ (prologo) nella prima riga di un file XML:\n",
    "\n",
    "```xml\n",
    "<?xml version=\"1.0\" encoding=\"UTF-8\"?>\n",
    "```\n",
    "Specifica la versione dello standard XML (di solito 1.0) e definisce la codifica (qui è UTF-8).\n",
    "\n",
    "Il prologo è facoltativo, ma se c'è, deve essere il primo elemento del documento.\n",
    "\n",
    "> NOTE: Un prologo non ha un tag di chiusura e ha una notazione speciale `<? ?>`."
   ]
  },
  {
   "cell_type": "markdown",
   "metadata": {},
   "source": [
    "# Funzioni ricorsive\n",
    "\n",
    "Per avere un'idea di come funziona un'algoritmo ricorsivo, immaginiamo questo problema:\n",
    "\n",
    "Abbiamo una serie di scatole cinesi una dentro l'altra e vogliamo aprirle tutte per trovare un premio nascosto dentro l'ultima. Purtroppo non sappiamo in anticipo quante scatole dovremo aprire, quindi decidiamo di scrivere un algoritmo che apra una scatola alla volta e continui finché non ci sono più scatole."
   ]
  },
  {
   "cell_type": "code",
   "execution_count": 4,
   "metadata": {},
   "outputs": [
    {
     "name": "stdout",
     "output_type": "stream",
     "text": [
      "Apertura scatola contenente: [[[[\"orologio d'oro\"]]]]\n",
      "Apertura scatola contenente: [[[\"orologio d'oro\"]]]\n",
      "Apertura scatola contenente: [[\"orologio d'oro\"]]\n",
      "Apertura scatola contenente: [\"orologio d'oro\"]\n",
      "Apertura scatola contenente: orologio d'oro\n",
      "Hai trovato il premio: orologio d'oro!\n"
     ]
    }
   ],
   "source": [
    "def apri_scatole(scatola):\n",
    "    # Stampa quale scatola stiamo aprendo\n",
    "    print(f'Apertura scatola contenente: {scatola}')\n",
    "    \n",
    "    # Controlla se l'elemento corrente non è più una lista (premio trovato)\n",
    "    if type(scatola) is not list:\n",
    "        print(f'Hai trovato il premio: {scatola}!')\n",
    "    else:\n",
    "        # Continua, aprendo la prossima scatola\n",
    "        apri_scatole(scatola[0])\n",
    "\n",
    "# Esempio di scatole annidate con un premio nella scatola più interna\n",
    "scatole = [\n",
    "    [\n",
    "        [\n",
    "            [\n",
    "                \"orologio d'oro\"\n",
    "            ]\n",
    "        ]\n",
    "    ]\n",
    "]\n",
    "\n",
    "apri_scatole(scatole)\n"
   ]
  }
 ],
 "metadata": {
  "kernelspec": {
   "display_name": ".venv",
   "language": "python",
   "name": "python3"
  },
  "language_info": {
   "codemirror_mode": {
    "name": "ipython",
    "version": 3
   },
   "file_extension": ".py",
   "mimetype": "text/x-python",
   "name": "python",
   "nbconvert_exporter": "python",
   "pygments_lexer": "ipython3",
   "version": "3.11.2"
  }
 },
 "nbformat": 4,
 "nbformat_minor": 2
}
