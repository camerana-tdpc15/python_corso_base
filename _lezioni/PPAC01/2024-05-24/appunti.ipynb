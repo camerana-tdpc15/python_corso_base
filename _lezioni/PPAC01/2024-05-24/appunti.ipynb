{
 "cells": [
  {
   "cell_type": "markdown",
   "metadata": {},
   "source": [
    "## Uso di XPath con il modulo `lxml`\n",
    "\n",
    "L'uso di XPath con il modulo `lxml` in Python è molto utile per navigare e manipolare documenti XML e HTML. "
   ]
  },
  {
   "cell_type": "markdown",
   "metadata": {},
   "source": [
    "### Documenti XML\n",
    "\n",
    "Prima di poter utilizzare XPath, devi caricare il documento XML. Ecco un esempio di parsing di un documento XML da una stringa:"
   ]
  },
  {
   "cell_type": "code",
   "execution_count": 2,
   "metadata": {},
   "outputs": [],
   "source": [
    "from lxml import etree\n",
    "\n",
    "xml_string = '''\n",
    "<library>\n",
    "    <book>\n",
    "        <title lang=\"en\">Python Programming</title>\n",
    "        <author>John Doe</author>\n",
    "        <year>2020</year>\n",
    "    </book>\n",
    "    <book>\n",
    "        <title lang=\"fr\">Programmation Python</title>\n",
    "        <author>Jean Dupont</author>\n",
    "        <year>2019</year>\n",
    "    </book>\n",
    "</library>\n",
    "'''\n",
    "\n",
    "root = etree.fromstring(xml_string)"
   ]
  },
  {
   "cell_type": "markdown",
   "metadata": {},
   "source": [
    "\n",
    "\n",
    "Ora che hai caricato il documento XML, puoi utilizzare XPath per navigare e selezionare parti del documento.\n"
   ]
  },
  {
   "cell_type": "markdown",
   "metadata": {},
   "source": [
    "#### Esempio 1: Selezionare tutti i titoli dei libri\n",
    "\n",
    "Per selezionare tutti i titoli dei libri:"
   ]
  },
  {
   "cell_type": "code",
   "execution_count": 6,
   "metadata": {},
   "outputs": [
    {
     "name": "stdout",
     "output_type": "stream",
     "text": [
      "['Python Programming', 'Programmation Python']\n"
     ]
    }
   ],
   "source": [
    "titles = root.xpath('//book/title/text()')\n",
    "print(titles)"
   ]
  },
  {
   "cell_type": "markdown",
   "metadata": {},
   "source": [
    "#### Esempio 2: Selezionare Titoli con Attributo Specifico\n",
    "\n",
    "Per selezionare tutti i titoli dei libri con un attributo `lang` specifico:"
   ]
  },
  {
   "cell_type": "code",
   "execution_count": 3,
   "metadata": {},
   "outputs": [
    {
     "name": "stdout",
     "output_type": "stream",
     "text": [
      "['Python Programming']\n"
     ]
    }
   ],
   "source": [
    "english_titles = root.xpath('//book/title[@lang=\"en\"]/text()')\n",
    "print(english_titles)"
   ]
  },
  {
   "cell_type": "markdown",
   "metadata": {},
   "source": [
    "#### Esempio 3: Selezionare Autori di Libri Pubblicati in un Anno Specifico\n",
    "\n",
    "Per selezionare tutti gli autori dei libri pubblicati in un anno specifico:"
   ]
  },
  {
   "cell_type": "code",
   "execution_count": 4,
   "metadata": {},
   "outputs": [
    {
     "name": "stdout",
     "output_type": "stream",
     "text": [
      "['John Doe']\n"
     ]
    }
   ],
   "source": [
    "authors_2020 = root.xpath('//book[year=\"2020\"]/author/text()')\n",
    "print(authors_2020)"
   ]
  },
  {
   "cell_type": "markdown",
   "metadata": {},
   "source": [
    "#### Esempio 4: Selezionare Libri con un Certo Autore\n",
    "\n",
    "Per selezionare tutti i libri di un certo autore:"
   ]
  },
  {
   "cell_type": "code",
   "execution_count": 5,
   "metadata": {},
   "outputs": [
    {
     "name": "stdout",
     "output_type": "stream",
     "text": [
      "['Python Programming']\n"
     ]
    }
   ],
   "source": [
    "john_books = root.xpath('//book[author=\"John Doe\"]/title/text()')\n",
    "print(john_books)"
   ]
  },
  {
   "cell_type": "markdown",
   "metadata": {},
   "source": [
    "### Documenti HTML\n",
    "\n",
    "L'uso di `lxml` e XPath non è limitato solo ai documenti XML. Puoi anche analizzare e navigare documenti HTML. Ecco un esempio di come fare:"
   ]
  },
  {
   "cell_type": "code",
   "execution_count": 7,
   "metadata": {},
   "outputs": [],
   "source": [
    "from lxml import etree\n",
    "\n",
    "html_string = '''\n",
    "<html>\n",
    "  <body>\n",
    "    <div class=\"content\">\n",
    "      <h1>Welcome to the Website</h1>\n",
    "      <p>This is a paragraph.</p>\n",
    "    </div>\n",
    "    <div class=\"content\">\n",
    "      <h1>Another Section</h1>\n",
    "      <p>Another paragraph.</p>\n",
    "    </div>\n",
    "  </body>\n",
    "</html>\n",
    "'''\n",
    "\n",
    "html_root = etree.HTML(html_string)"
   ]
  },
  {
   "cell_type": "markdown",
   "metadata": {},
   "source": [
    "#### Esempio 5: Selezionare tutti i titoli H1\n",
    "\n",
    "Per selezionare tutti i titoli `<h1>`:"
   ]
  },
  {
   "cell_type": "code",
   "execution_count": 8,
   "metadata": {},
   "outputs": [
    {
     "name": "stdout",
     "output_type": "stream",
     "text": [
      "['Welcome to the Website', 'Another Section']\n"
     ]
    }
   ],
   "source": [
    "headers = html_root.xpath('//h1/text()')\n",
    "print(headers)"
   ]
  },
  {
   "cell_type": "markdown",
   "metadata": {},
   "source": [
    "#### Esempio 6: Selezionare paragrafi in un `<div>` con classe specifica\n",
    "\n",
    "Per selezionare tutti i paragrafi (`<p>`) all'interno di una `div` con classe `content`:"
   ]
  },
  {
   "cell_type": "code",
   "execution_count": 9,
   "metadata": {},
   "outputs": [
    {
     "name": "stdout",
     "output_type": "stream",
     "text": [
      "['This is a paragraph.', 'Another paragraph.']\n"
     ]
    }
   ],
   "source": [
    "paragraphs = html_root.xpath('//div[@class=\"content\"]/p/text()')\n",
    "print(paragraphs)"
   ]
  },
  {
   "cell_type": "markdown",
   "metadata": {},
   "source": [
    "### Significato di `.`, `/` e `//` nei pattern Xpath\n",
    "\n",
    "In XPath, i simboli `.`, `/` e `//` sono utilizzati per navigare e selezionare nodi all'interno di un documento XML. Ecco una breve spiegazione del loro significato:\n",
    "\n",
    "1. **`.` (punto)**\n",
    "   - Rappresenta il contesto corrente, ossia il nodo attuale.\n",
    "   - Ad esempio, `./child` seleziona i figli diretti del nodo corrente.\n",
    "\n",
    "2. **`/` (singolo slash)**\n",
    "   - Rappresenta il livello gerarchico immediato successivo, selezionando i figli diretti di un nodo.\n",
    "   - Ad esempio, `/root/element` seleziona l'elemento `element` che è un figlio diretto del nodo `root`.\n",
    "\n",
    "3. **`//` (doppio slash)**\n",
    "   - Seleziona nodi a qualsiasi livello di profondità nell'albero XML, a partire dal contesto corrente.\n",
    "   - Ad esempio, `//element` seleziona tutti gli elementi `element` presenti nel documento XML, indipendentemente dalla loro posizione.\n",
    "\n",
    "Questi simboli sono fondamentali per costruire espressioni XPath che permettono di navigare in modo preciso e flessibile attraverso la struttura di un documento XML."
   ]
  },
  {
   "cell_type": "markdown",
   "metadata": {},
   "source": [
    "### Xpath cheatsheet\n",
    "\n",
    "- https://devhints.io/xpath\n",
    "- https://quickref.me/xpath.html"
   ]
  },
  {
   "cell_type": "markdown",
   "metadata": {},
   "source": [
    "## Xpath con BeautifulSoup\n",
    "\n",
    "- https://www.geeksforgeeks.org/how-to-use-xpath-with-beautifulsoup/"
   ]
  }
 ],
 "metadata": {
  "kernelspec": {
   "display_name": ".venv",
   "language": "python",
   "name": "python3"
  },
  "language_info": {
   "codemirror_mode": {
    "name": "ipython",
    "version": 3
   },
   "file_extension": ".py",
   "mimetype": "text/x-python",
   "name": "python",
   "nbconvert_exporter": "python",
   "pygments_lexer": "ipython3",
   "version": "3.11.2"
  }
 },
 "nbformat": 4,
 "nbformat_minor": 2
}
