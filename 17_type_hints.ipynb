{
 "cells": [
  {
   "cell_type": "markdown",
   "id": "8a4e9c6d",
   "metadata": {
    "is_toc": true
   },
   "source": [
    "**Sommario**\n",
    "- [Controllo dei tipi di dato in Python](#controllo-dei-tipi-di-dato-in-python)\n",
    "  - [Tipizzazione Statica vs Dinamica](#tipizzazione-statica-vs-dinamica)\n",
    "  - [Strumenti per la tipizzazione statica](#strumenti-per-la-tipizzazione-statica)\n",
    "  - [Rafforzare e controllare esplicitamente i tipi a runtime](#rafforzare-e-controllare-esplicitamente-i-tipi-a-runtime)\n",
    "  - [Conclusioni](#conclusioni)\n",
    "- [*Annotations* e *Type Hints*](#*annotations*-e-*type-hints*)\n",
    "  - [Codice di esempio](#codice-di-esempio)\n",
    "  - [Annotations](#annotations)\n",
    "  - [Type Hints](#type-hints)\n",
    "  - [In sintesi](#in-sintesi)\n",
    "- [Esempi di uso dei type hint](#esempi-di-uso-dei-type-hint)"
   ]
  },
  {
   "cell_type": "markdown",
   "metadata": {},
   "source": [
    "# Controllo dei tipi di dato in Python\n",
    "\n",
    "In Python, un linguaggio di programmazione a tipizzazione dinamica, il tipo di una variabile è determinato in tempo reale durante l'esecuzione del programma. Questa flessibilità permette una grande libertà di sviluppo, ma introduce anche la possibilità di errori di tipo che possono emergere solo durante l'esecuzione del codice, ovvero \"a runtime\". Per mitigare questi rischi e migliorare la leggibilità e la manutenibilità del codice, Python supporta i concetti di tipizzazione statica attraverso l'uso dei cosidddetti \"annotations\" e \"type hints\"."
   ]
  },
  {
   "cell_type": "markdown",
   "metadata": {},
   "source": [
    "## Tipizzazione Statica vs Dinamica\n",
    "\n",
    "   - **Tipizzazione Statica**: Si riferisce all'identificazione dei tipi delle variabili, parametri e valori di ritorno durante la fase di scrittura e compilazione del codice, PRIMA che esso venga eseguito. In Python, questo è ottenuto principalmente attraverso i _**type hint**_, che sono annotazioni specifiche introdotte dalla [PEP 484](https://peps.python.org/pep-0484/). Questi \"hint\" (suggerimenti), unitamente a strumenti detti _**type checkers**_, consentono di analizzare staticamente il codice per identificare errori di tipo prima che il codice venga eseguito. Questo processo è detto \"statico\" perché avviene senza eseguire il codice.\n",
    "   \n",
    "   - **Tipizzazione Dinamica**: Si riferisce al controllo dei tipi variabili, parametri e valori di ritorno DURANTE l'esecuzione del codice, ovvero \"a runtime\". Python è un linguaggio a tipizzazione dinamica, il che significa che i tipi delle variabili sono determinati a runtime e possono cambiare nel corso dell'esecuzione del programma. In Python, gli errori di tipo (come tentare di sommare una stringa e un intero) vengono rilevati e segnalati a runtime. In questo caso, per evitare l'insorgenza di errori, lo sviluppatore può effettuare dei controlli sul tipo, dove più ritiene opportuno."
   ]
  },
  {
   "cell_type": "markdown",
   "metadata": {},
   "source": [
    "## Strumenti per la tipizzazione statica\n",
    "\n",
    " L'estensione [Pylance](https://marketplace.visualstudio.com/items?itemName=ms-python.vscode-pylance) di VS Code ci fornisce strumenti come il linter e le funzioni di auto-completamento del codice (IntelliSense). Questi strumenti possono essere accompagnati da un cosiddetto *type checker* che analizza staticamente il codice, segnalando al linter eventuali errori e rendendo più \"intelligente\" l'auto-completamento.\n",
    "\n",
    " In pratica un type checker identifica potenziali errori di tipo basandosi sui type hints forniti, migliorando così la stabilità del codice e aiutando gli sviluppatori a identificare problemi PRIMA dell'esecuzione."
   ]
  },
  {
   "cell_type": "markdown",
   "metadata": {},
   "source": [
    "## Rafforzare e controllare esplicitamente i tipi a runtime\n",
    "\n",
    "Nonostante l'utilità della tipizzazione statica, è anche importante gestire la tipizzazione dinamica durante l'esecuzione. Ciò può essere fatto attraverso asserzioni e controlli di tipo manuali utilizzando funzioni come `assert()`, `isinstance()` e `type()`. Esistono inoltre librerie per il controllo e validazione dei tipi di dato come `typeguard`, `Pydantic` o `Marshmallow`.\n",
    "\n",
    "Questi strumenti e tecniche possono essere usati in modo a sé stante oppure combinati con la tipizzazione statica per creare un ambiente di sviluppo più sicuro e robusto."
   ]
  },
  {
   "cell_type": "markdown",
   "metadata": {},
   "source": [
    "## Conclusioni\n",
    "\n",
    "Questa comprensione della tipizzazione in Python è fondamentale per approfondire argomenti come le annotation e i type hints, che giocano un ruolo cruciale nel bilanciare la flessibilità del linguaggio con la necessità di scrivere codice chiaro e affidabile."
   ]
  },
  {
   "cell_type": "markdown",
   "metadata": {},
   "source": [
    "# *Annotations* e *Type Hints*"
   ]
  },
  {
   "cell_type": "markdown",
   "metadata": {},
   "source": [
    "In Python, i termini \"annotations\" e \"type hints\" sono spesso usati in modo intercambiabile, ma tecnicamente hanno significati leggermente diversi.\n",
    "\n",
    "Potremmo tradurli rispettivamente come \"annotazioni\" e \"suggerimenti sul tipo\"."
   ]
  },
  {
   "cell_type": "markdown",
   "metadata": {},
   "source": [
    "## Codice di esempio\n",
    "\n",
    "Prendiamo del codice senza annotation o type hint."
   ]
  },
  {
   "cell_type": "code",
   "execution_count": 5,
   "metadata": {},
   "outputs": [
    {
     "name": "stdout",
     "output_type": "stream",
     "text": [
      "Ciao, Mario!\n"
     ]
    }
   ],
   "source": [
    "# Esempio senza uso di annotations o type hints\n",
    "\n",
    "def saluta(nome):\n",
    "    return 'Ciao, ' + nome + '!'\n",
    "\n",
    "persona = 'Mario'\n",
    "frase_saluto = saluta(persona)\n",
    "\n",
    "print(frase_saluto)"
   ]
  },
  {
   "cell_type": "markdown",
   "metadata": {},
   "source": [
    "## Annotations\n",
    "\n",
    "Introdotte in Python 3.0 tramite il [PEP 3107](https://peps.python.org/pep-3107/) (dicembre 2006), sono un concetto più ampio e precedente rispetto ai type hint. Un'annotazione è qualsiasi informazione associata ai parametri di una funzione o al suo valore di ritorno. Inizialmente, le annotation erano concepite come un modo per associare informazioni arbitrarie ai parametri e ai valori di ritorno delle funzioni, non necessariamente limitate ai tipi. Con l'introduzione dei type hint, le annotation sono diventate il mezzo primario per esprimere i type hint, ma tecnicamente possono essere utilizzate per qualsiasi scopo. Ad esempio, si potrebbe annotare una funzione non solo con i tipi, ma anche con altre informazioni, come descrizioni o restrizioni specifiche:"
   ]
  },
  {
   "cell_type": "code",
   "execution_count": 6,
   "metadata": {},
   "outputs": [
    {
     "name": "stdout",
     "output_type": "stream",
     "text": [
      "Ciao, Mario!\n"
     ]
    }
   ],
   "source": [
    "# type: ignore  # Disabilita il controllo del tipo di questo blocco di codice\n",
    "                # perché quello che segue non è più considerata una pratica\n",
    "                # standard in quanto la pratica delle annotations proposta nella\n",
    "                # PEP 3107 è stata aggiornata dai type hints introdotti a partire\n",
    "                # dalla PEP 484.\n",
    "\n",
    "# Esempi di \"annotation\" generiche\n",
    "# vedi: https://peps.python.org/pep-3107/\n",
    "\n",
    "def saluta(nome: 'stringa del nome della persona da salutare') -> 'stringa con il saluto alla persona':\n",
    "    return 'Ciao, ' + nome + '!'\n",
    "\n",
    "persona: 'stringa con il nome di una persona' = 'Mario'\n",
    "frase_saluto: 'stringa con il saluto alla persona' = saluta(persona)\n",
    "\n",
    "print(frase_saluto)\n"
   ]
  },
  {
   "cell_type": "markdown",
   "metadata": {},
   "source": [
    "In questo caso, le annotazioni (`'stringa del nome della persona da salutare'`, `'stringa con il saluto alla persona'` e `'stringa con il nome di una persona'`) vanno oltre la semplice specifica dei tipi e forniscono ulteriori dettagli sul funzionamento della funzione. Queste annotazioni non sono riconosciute dai sistemi di type checking standard di Python, ma possono essere utili per la documentazione o per altri scopi personalizzati."
   ]
  },
  {
   "cell_type": "markdown",
   "metadata": {},
   "source": [
    "## Type Hints\n",
    "\n",
    "I \"type hint\" sono una forma specifica di annotazioni introdotte in Python 3.5 attraverso il [PEP 484](https://peps.python.org/pep-0484/) (settembre 2014) e altri successivi. L'obiettivo principale dei type hints è quello di aiutare gli sviluppatori a specificare i tipi di variabili, parametri di funzioni e valori di ritorno delle funzioni. Questo è utile per la leggibilità del codice, per il debugging e per gli strumenti di sviluppo come i _**linter**_ e i _**type checker**_ che possono sfruttare queste informazioni per identificare errori di tipo prima l'esecuzione del programma. Per esempio:"
   ]
  },
  {
   "cell_type": "code",
   "execution_count": 7,
   "metadata": {},
   "outputs": [
    {
     "name": "stdout",
     "output_type": "stream",
     "text": [
      "Ciao, Mario!\n"
     ]
    }
   ],
   "source": [
    "# Esempi di \"type hint\"\n",
    "# vedi: https://peps.python.org/pep-0484/\n",
    "#       https://peps.python.org/pep-0526/\n",
    "\n",
    "def saluta(nome: str) -> str:\n",
    "    return 'Ciao, ' + nome + '!'\n",
    "\n",
    "persona: str = 'Mario'\n",
    "frase_saluto: str = saluta(persona)\n",
    "\n",
    "print(frase_saluto)"
   ]
  },
  {
   "cell_type": "markdown",
   "metadata": {},
   "source": [
    "Qui, `nome: str` e `b: int` sono type hints che indicano che sia `a` che `b` dovrebbero essere interi, e `-> int` indica che la funzione restituirà un intero."
   ]
  },
  {
   "cell_type": "markdown",
   "metadata": {},
   "source": [
    "## In sintesi\n",
    "\n",
    "- **Type Hints**: Principalmente usati per la specificazione dei tipi.\n",
    "- **Annotations**: Un concetto più generale che può includere type hint ma anche altre forme di metadati.\n",
    "\n",
    "ATTENZIONE! Ricorda che i type hint, e più in generale le annotation, non influenzano l'esecuzione del codice ma sono estremamente utili per il *type checking* durante lo sviluppo e per migliorare la leggibilità e la manutenibilità del codice."
   ]
  },
  {
   "cell_type": "markdown",
   "metadata": {},
   "source": [
    "# Esempi di uso dei type hint"
   ]
  },
  {
   "cell_type": "code",
   "execution_count": 8,
   "metadata": {},
   "outputs": [],
   "source": [
    "# Prima di tutto, importiamo i moduli necessari per i type hint di base\n",
    "from typing import List, Set, Dict, Tuple, Optional, Any, Union, Callable, Generator"
   ]
  },
  {
   "cell_type": "code",
   "execution_count": 9,
   "metadata": {},
   "outputs": [],
   "source": [
    "# 1. Annotazioni di base per variabili\n",
    "\n",
    "# Questo è utile per specificare il tipo di una variabile\n",
    "x: int = 1\n",
    "y: str = \"Hello\"\n"
   ]
  },
  {
   "cell_type": "code",
   "execution_count": 10,
   "metadata": {},
   "outputs": [],
   "source": [
    "# 2. Funzioni con type hints\n",
    "\n",
    "# Qui, specifichiamo i tipi degli argomenti e del valore di ritorno\n",
    "def add_numbers(a: int, b: int) -> int:\n",
    "    return a + b"
   ]
  },
  {
   "cell_type": "code",
   "execution_count": 11,
   "metadata": {},
   "outputs": [],
   "source": [
    "# 3. Annotazioni per strutture dati complesse\n",
    "\n",
    "# Specificare i tipi all'interno di liste, set, dizionari, etc.\n",
    "numbers: List[int] = [1, 2, 3]\n",
    "name_set: Set[str] = {\"Alice\", \"Bob\", \"Charlie\"}\n",
    "age_mapping: Dict[str, int] = {\"Alice\": 30, \"Bob\": 25}"
   ]
  },
  {
   "cell_type": "code",
   "execution_count": 12,
   "metadata": {},
   "outputs": [],
   "source": [
    "# 4. Tipi opzionali e valori None\n",
    "\n",
    "# Optional[type] è utilizzato per variabili che possono essere di un tipo specificato o None\n",
    "address: Optional[str] = None"
   ]
  },
  {
   "cell_type": "code",
   "execution_count": 13,
   "metadata": {},
   "outputs": [],
   "source": [
    "# 5. Annotazioni per tuple\n",
    "\n",
    "# Utile per specificare i tipi dei vari elementi di una tupla\n",
    "coordinate: Tuple[int, int, int] = (10, 20, 30)"
   ]
  },
  {
   "cell_type": "code",
   "execution_count": 14,
   "metadata": {},
   "outputs": [],
   "source": [
    "# 6. Type hints con funzioni che ritornano più tipi\n",
    "\n",
    "# Quando una funzione può ritornare più di un tipo, possiamo usare Union\n",
    "def get_id() -> Union[int, str]:\n",
    "    return \"1234\"  # Oppure potrebbe ritornare un int"
   ]
  },
  {
   "cell_type": "code",
   "execution_count": 15,
   "metadata": {},
   "outputs": [],
   "source": [
    "# 7. Type hints per i generatori\n",
    "\n",
    "# Specificare il tipo degli elementi generati\n",
    "def countdown(n: int) -> Generator[int, None, None]:\n",
    "    while n > 0:\n",
    "        yield n\n",
    "        n -= 1"
   ]
  },
  {
   "cell_type": "code",
   "execution_count": 16,
   "metadata": {},
   "outputs": [],
   "source": [
    "# 8. Annotazioni per i class types\n",
    "\n",
    "# Specificare il tipo di una variabile come una classe\n",
    "class Person:\n",
    "    def __init__(self, name: str):\n",
    "        self.name = name\n",
    "\n",
    "def greet(person: Person) -> str:\n",
    "    return f\"Hello, {person.name}!\""
   ]
  },
  {
   "cell_type": "code",
   "execution_count": 17,
   "metadata": {},
   "outputs": [],
   "source": [
    "# 9. Annotazioni per i metodi di classe\n",
    "\n",
    "# Come per le funzioni, ma all'interno di una classe\n",
    "class Calculator:\n",
    "    def add(self, a: int, b: int) -> int:\n",
    "        return a + b\n"
   ]
  },
  {
   "cell_type": "code",
   "execution_count": 18,
   "metadata": {},
   "outputs": [],
   "source": [
    "# 10. Type hints con Callable\n",
    "\n",
    "# Per specificare che una variabile è una funzione e descrivere la sua firma\n",
    "def run_function(func: Callable[[int, int], int], a: str, b: str) -> int:\n",
    "    return func(int(a), int(b))"
   ]
  },
  {
   "cell_type": "code",
   "execution_count": 19,
   "metadata": {},
   "outputs": [],
   "source": [
    "# 11. Annotazioni per i type aliases\n",
    "\n",
    "# Utili per creare abbreviazioni di tipi complessi\n",
    "Vector = List[float]\n",
    "def scale(vector: Vector, factor: float) -> Vector:\n",
    "    return [x * factor for x in vector]\n"
   ]
  },
  {
   "cell_type": "code",
   "execution_count": null,
   "metadata": {},
   "outputs": [],
   "source": [
    "# 12. Annotazioni per i tipi generici\n",
    "\n",
    "# Utile quando una funzione accetta e/o ritorna un tipo qualunque\n",
    "def process_data(data: Any) -> Any:\n",
    "    if isinstance(data, int):\n",
    "        return data + 1\n",
    "    if isinstance(data, str):\n",
    "        return data + '!'\n",
    "    else:\n",
    "        return data"
   ]
  }
 ],
 "metadata": {
  "kernelspec": {
   "display_name": "Python 3",
   "language": "python",
   "name": "python3"
  },
  "language_info": {
   "codemirror_mode": {
    "name": "ipython",
    "version": 3
   },
   "file_extension": ".py",
   "mimetype": "text/x-python",
   "name": "python",
   "nbconvert_exporter": "python",
   "pygments_lexer": "ipython3",
   "version": "3.11.2"
  }
 },
 "nbformat": 4,
 "nbformat_minor": 2
}
