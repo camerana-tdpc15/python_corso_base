{
 "cells": [
  {
   "cell_type": "markdown",
   "id": "b88e4305",
   "metadata": {
    "is_toc": true
   },
   "source": [
    "**Sommario**\n",
    "  - [Come Python interpreta i valori](#come-python-interpreta-i-valori)\n",
    "  - [Precedenza e associatività degli operatori](#precedenza-e-associatività-degli-operatori)\n",
    "    - [Tabella di precedenza e associatività](#tabella-di-precedenza-e-associatività)\n",
    "    - [Precedenza](#precedenza)\n",
    "    - [Associatività](#associatività)\n",
    "    - [Esempi](#esempi)\n",
    "    - [Consigli](#consigli)\n",
    "    - [Concatenamento tra operatori di comparazione](#concatenamento-tra-operatori-di-comparazione)"
   ]
  },
  {
   "attachments": {},
   "cell_type": "markdown",
   "metadata": {},
   "source": [
    "## Come Python interpreta i valori\n",
    "\n",
    "| Concetto             | Valutazione   | Python                                             | &nbsp;    | &nbsp;  | &nbsp;  | &nbsp;                                             |\n",
    "|----------------------|---------------|----------------------------------------------------|-----------|---------|---------|----------------------------------------------------|\n",
    "| un oggetto non vuoto | *truthy*      | `True`<br>`1`                                      | non-empty |         |         | ![true.jpg](./imgs/programming/true.jpg)           |\n",
    "| un oggetto vuoto     | *falsy*       | `False`<br>`0`                                     | empty     | blank   |         | ![false.jpg](./imgs/programming/false.jpg)         |\n",
    "| il Nulla             | *falsy*       | `None`                                             | null      | void    | nothing | ![none.jpg](./imgs/programming/none.jpg)           |\n",
    "| un oggetto mancante  | *error*       | `NameError`<br>`IndexError`<br>`KeyError`<br>`...` | undefined | missing | #N/A    | ![undefined.jpg](./imgs/programming/undefined.jpg) |\n",
    "\n",
    "LEGENDA:\n",
    "\n",
    "- *thruty*, *falsy*: valutazione della *thruthfulness* (veridicità) in Python;\n",
    "- *error*: generazione di errori in Python;\n",
    "- `font monospace`: oggetto / significato in Python;\n",
    "- font normale: concetti di senso comune e/o di uso in altri linguaggi di programmazione."
   ]
  },
  {
   "cell_type": "markdown",
   "metadata": {},
   "source": [
    "## Precedenza e associatività degli operatori"
   ]
  },
  {
   "cell_type": "markdown",
   "metadata": {},
   "source": [
    "La comprensione della precedenza e dell'associatività degli operatori è fondamentale per chi inizia a programmare in Python, poiché determina come le espressioni vengono valutate. In Python, ogni operatore ha una precedenza specifica, e gli operatori con precedenza più alta vengono valutati per primi. Se due operatori condividono la stessa precedenza, l'associatività decide l'ordine di valutazione: da sinistra a destra (sx-dx) o da destra a sinistra (dx-sx).\n"
   ]
  },
  {
   "cell_type": "markdown",
   "metadata": {},
   "source": [
    "### Tabella di precedenza e associatività\n",
    "\n",
    "La tabella completa di tutti gli operatori [la puoi trovare qua](https://docs.python.org/3/reference/expressions.html#operator-precedence).\n",
    "\n",
    "| Precedenza | Operatore                                                              | Associatività | Descrizione                                              |\n",
    "| ---------- | ---------------------------------------------------------------------- | ------------- | -------------------------------------------------------- |\n",
    "| 1          | `( )`                                                                  | Sx-Dx         | Parentesi tonde                                          |\n",
    "| 2          | `**`                                                                   | Dx-Sx         | Elevamento a potenza                                     |\n",
    "| 3          | `+x, -x`                                                               | (Dx-Sx)       | Positivo e negativo unari                                |\n",
    "| 4          | `*`, `/`, `//`, `%`                                                    | Sx-Dx         | Multiplicazione, divisione, divisione intera e suo resto |\n",
    "| 5          | `+`, `-`                                                               | Sx-Dx         | Addizione e sottrazione                                  |                                              |\n",
    "| 6          | `<`, `<=`, `>`, `>=`, `!=`, `==`<br/>`in`, `not in`<br/>`is`, `is not` | Sx-Dx         | Comparazione<br/>(appartenenza)<br/>(identità)           |\n",
    "| 7          | `not x`                                                                | (Dx-Sx)       | Negazione booleana                                       |\n",
    "| 8          | `and`                                                                  | Sx-Dx         | E booleano                                               |\n",
    "| 9          | `or`                                                                   | Sx-Dx         | O booleano                                               |\n",
    "| 10         | `x if y else z`                                                        | Dx-Sx         | Operatore condizionale ternario                          |\n"
   ]
  },
  {
   "cell_type": "markdown",
   "metadata": {},
   "source": [
    "\n",
    "### Precedenza\n",
    "Indica l'ordine in cui gli operatori vengono valutati in un'espressione. Operatori con precedenza più alta vengono eseguiti prima di quelli con precedenza più bassa.\n",
    "\n",
    "ESEMPIO: L'operatore di moltiplicazione (`*`) ha una precedenza maggiore rispetto all'operatore di addizione (`+`), quindi in un'espressione come `2 + 3 * 4`, prima viene calcolata la moltiplicazione e poi l'addizione, risultando in `14` e non in `20`.\n",
    "\n",
    "### Associatività\n",
    "Quando due operatori hanno la stessa precedenza, l'associatività determina l'ordine di valutazione. La maggior parte degli operatori in Python ha associatività **da sinistra a destra**, il che significa che se due operatori condividono la stessa precedenza, l'espressione viene valutata dall'operatore più a sinistra a quello più a destra.\n",
    "\n",
    "ESEMPIO: In `100 / 10 * 4`, sia la divisione sia la moltiplicazione hanno la stessa precedenza, quindi l'espressione viene valutata da sinistra a destra, risultando in `40`. Tuttavia, l'operatore di esponente (`**`) ha associatività da destra a sinistra, quindi in un'espressione come `2 ** 3 ** 2`, prima viene valutata l'espressione `3 ** 2` e poi `2 ** 9`, risultando in `512`.\n"
   ]
  },
  {
   "cell_type": "markdown",
   "metadata": {},
   "source": [
    "\n",
    "### Esempi\n",
    "- **5 + 2 * 3**  \n",
    "  **Spiegazione:** L'operatore di moltiplicazione `*` ha una precedenza maggiore rispetto all'operatore di addizione `+`. Quindi, l'espressione `2 * 3` viene valutata per prima, risultando in `6`. Dopo, l'addizione `5 + 6` viene calcolata.  \n",
    "  **Risultato:** `11`\n",
    "\n",
    "- **(5 + 2) * 3**  \n",
    "  **Spiegazione:** Le parentesi `()` alterano la precedenza normale degli operatori, facendo sì che l'operazione all'interno di esse, `5 + 2`, venga eseguita per prima. Questo dà come risultato `7`. In seguito, viene effettuata la moltiplicazione `7 * 3`.  \n",
    "  **Risultato:** `21`\n",
    "\n",
    "- **12 / 3 * 2**  \n",
    "  **Spiegazione:** Moltiplicazione e divisione hanno la stessa precedenza e sono valutate da sinistra a destra. Pertanto, prima viene calcolata la divisione `12 / 3`, risultando in `4`, e poi viene eseguita la moltiplicazione `4 * 2`.  \n",
    "  **Risultato:** `8`\n",
    "\n",
    "- **12 / (3 * 2)**  \n",
    "  **Spiegazione:** Le parentesi `()` hanno la precedenza più alta, quindi `3 * 2` viene valutato per primo, risultando in `6`. Successivamente, viene eseguita la divisione `12 / 6`.  \n",
    "  **Risultato:** `2`\n",
    "\n",
    "- **4 ** 3 ** 2**  \n",
    "  **Spiegazione:** L'operatore di esponente `**` ha associatività da destra a sinistra, quindi prima viene valutato `3 ** 2`, risultando in `9`, e poi viene calcolato `4 ** 9`.  \n",
    "  **Risultato:** `262144`\n",
    "\n",
    "- **4 * 3 ** 2**  \n",
    "  **Spiegazione:** L'operatore `**` ha una precedenza più alta rispetto a `*`, quindi `3 ** 2` viene valutato per primo, risultando in `9`. Successivamente, viene eseguita la moltiplicazione `4 * 9`.  \n",
    "  **Risultato:** `36`"
   ]
  },
  {
   "cell_type": "markdown",
   "metadata": {},
   "source": [
    "### Consigli\n",
    "- Quando non siete sicuri dell'ordine delle operazioni, utilizzate le parentesi per rendere l'espressione più chiara. Questo non solo aiuta a evitare errori, ma rende anche il vostro codice più leggibile per altri programmatori.\n",
    "- Familiarizzate con la tabella di precedenza degli operatori di Python. Non è necessario memorizzarla completamente, ma avere un'idea generale vi aiuterà a scrivere espressioni corrette.\n",
    "- Praticate scrivendo espressioni complesse e verificando il loro risultato. Questo vi aiuterà a interiorizzare come Python valuta le espressioni.\n",
    "\n",
    "Capire la precedenza e l'associatività degli operatori vi permetterà di scrivere codice più preciso e di debuggare più facilmente il codice quando i risultati non sono quelli attesi."
   ]
  },
  {
   "cell_type": "markdown",
   "metadata": {},
   "source": [
    "### Concatenamento tra operatori di comparazione\n",
    "\n",
    "Gli operatori di comparazione in Python possono essere combinati in una singola espressione complessa.\n",
    "\n",
    "Quando ciò avviene, l'associatività da sinistra a destra significa che l'espressione viene valutata nell'ordine in cui appare, da sinistra verso destra. Tuttavia, è importante notare che, anche se questi operatori possono essere combinati, ciascuna comparazione viene valutata individualmente per produrre un valore booleano.\n",
    "\n",
    "Python non supporta le cosiddette \"catene di comparazione\" nel modo in cui alcuni altri linguaggi potrebbero fare.\n",
    "\n",
    "Ad esempio, `x < y <= z` è equivalente a `x < y and y <= z`, eccetto che `y` viene valutato solo una volta (ma in entrambi i casi `z` non viene valutato affatto quando si scopre che `x < y` è `False`).\n",
    "\n",
    "Formalmente, se _**a, b, c, ..., y, z**_ sono espressioni e _**op1, op2, ..., opN**_ sono operatori di confronto, allora a _**op1 b op2 c ... y opN z**_ è equivalente a _**a op1 b and b op2 c and ... y opN z**_, eccetto che ogni operando è valutato al massimo una volta.\n",
    "\n",
    "ATTENZIONE: _**a op1 b op2 c**_ non implica alcun tipo di confronto tra _**a**_ e _**c**_, così che, ad esempio, `x < y > z` è perfettamente legale (anche se molto brutto).\n",
    "\n",
    "Questo gran numero di operatori aventi la medesima precedenza, può consentire strani modi di scrivere. Vediamone alcuni:"
   ]
  },
  {
   "cell_type": "markdown",
   "metadata": {},
   "source": [
    "`1 < 2 <= 3 == 3`\n",
    "- `1 < 2 and 2 <= 3 and 3 == 3`\n",
    "- `True and True and True`\n",
    "- `True`"
   ]
  },
  {
   "cell_type": "code",
   "execution_count": null,
   "metadata": {},
   "outputs": [
    {
     "data": {
      "text/plain": [
       "True"
      ]
     },
     "metadata": {},
     "output_type": "display_data"
    }
   ],
   "source": [
    "1 < 2 <= 3 == 3"
   ]
  },
  {
   "cell_type": "markdown",
   "metadata": {},
   "source": [
    "`'a' in 'abc' == 'b' not in 'cde'`\n",
    "- `'a' in 'abc' and 'abc' == 'b' and 'b' not in 'cde'`\n",
    "- `True and False and True`\n",
    "- `False`"
   ]
  },
  {
   "cell_type": "code",
   "execution_count": null,
   "metadata": {},
   "outputs": [],
   "source": [
    "'a' in 'abc' == 'b' not in 'cde'"
   ]
  },
  {
   "cell_type": "markdown",
   "metadata": {},
   "source": [
    "`('a' in 'abc') == ('b' not in 'cde')`\n",
    "- `True == True`\n",
    "- `True`"
   ]
  },
  {
   "cell_type": "code",
   "execution_count": null,
   "metadata": {},
   "outputs": [
    {
     "data": {
      "text/plain": [
       "True"
      ]
     },
     "metadata": {},
     "output_type": "display_data"
    }
   ],
   "source": [
    "('a' in 'abc') == ('b' not in 'cde')"
   ]
  },
  {
   "cell_type": "markdown",
   "metadata": {},
   "source": [
    "`1 < 3 > 2 == 2 in [1, 2, 3] is not False`\n",
    "- `1 < 3 and 3 > 2 and 2 == 2 and 2 in [1, 2, 3] and [1, 2, 3] is not False`\n",
    "- `True and True and True and True and True`\n",
    "- `True`"
   ]
  },
  {
   "cell_type": "code",
   "execution_count": null,
   "metadata": {},
   "outputs": [
    {
     "data": {
      "text/plain": [
       "True"
      ]
     },
     "metadata": {},
     "output_type": "display_data"
    }
   ],
   "source": [
    "1 < 3 > 2 == 2 in [1, 2, 3] is not False"
   ]
  },
  {
   "cell_type": "markdown",
   "metadata": {},
   "source": [
    "`'p' in 'pippo' in 'don pippo'`\n",
    "- `'p' in 'pippo' and 'pippo' in 'don pippo'`\n",
    "- `True and True`"
   ]
  },
  {
   "cell_type": "code",
   "execution_count": 2,
   "metadata": {},
   "outputs": [
    {
     "data": {
      "text/plain": [
       "True"
      ]
     },
     "execution_count": 2,
     "metadata": {},
     "output_type": "execute_result"
    }
   ],
   "source": [
    "'p' in 'pippo' in 'don pippo'"
   ]
  }
 ],
 "metadata": {
  "kernelspec": {
   "display_name": ".venv",
   "language": "python",
   "name": "python3"
  },
  "language_info": {
   "codemirror_mode": {
    "name": "ipython",
    "version": 3
   },
   "file_extension": ".py",
   "mimetype": "text/x-python",
   "name": "python",
   "nbconvert_exporter": "python",
   "pygments_lexer": "ipython3",
   "version": "3.11.2"
  }
 },
 "nbformat": 4,
 "nbformat_minor": 2
}
