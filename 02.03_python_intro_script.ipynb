{
 "cells": [
  {
   "cell_type": "markdown",
   "id": "8d1cc4a9",
   "metadata": {
    "is_toc": true
   },
   "source": [
    "**Sommario**\n",
    "  - [Creazione di un file di script Python](#creazione-di-un-file-di-script-python)\n",
    "    - [File di script](#file-di-script)\n",
    "    - [Esecuzione di script dalla riga di comando](#esecuzione-di-script-dalla-riga-di-comando)\n",
    "      - [Esecuzione come argomento del comando `python`](#esecuzione-come-argomento-del-comando-python)\n",
    "      - [Esecuzione \"diretta\"](#esecuzione-diretta)\n",
    "    - [Il modulo `sys`](#il-modulo-sys)\n",
    "      - [Controllo dell'input](#controllo-dell'input)\n",
    "    - [Riassumendo (script)](#riassumendo-script)\n",
    "    - [Esecuzione di script dall'IDE (VS Code)](#esecuzione-di-script-dall'ide-vs-code)\n",
    "    - [Approfondimenti](#approfondimenti)\n",
    "    - [Riassumendo (esecuzione script)](#riassumendo-esecuzione-script)"
   ]
  },
  {
   "cell_type": "markdown",
   "metadata": {},
   "source": [
    "## Creazione di un file di script Python "
   ]
  },
  {
   "cell_type": "markdown",
   "metadata": {
    "slideshow": {
     "slide_type": "fragment"
    },
    "tags": []
   },
   "source": [
    "Gli script Python possono essere eseguiti dalla command-line del sistema operativo proprio come dei normali comandi (ad esempio `cd` o `mkdir`). Questo significa che possiamo scrivere uno script in grado di prendere in input dei dati, fare qualcosa con essi e restituire il risultato."
   ]
  },
  {
   "cell_type": "markdown",
   "metadata": {
    "slideshow": {
     "slide_type": "notes"
    },
    "tags": []
   },
   "source": [
    "Questa sezione ci introduce al mondo dello scripting."
   ]
  },
  {
   "cell_type": "markdown",
   "metadata": {},
   "source": [
    "### File di script "
   ]
  },
  {
   "cell_type": "markdown",
   "metadata": {
    "slideshow": {
     "slide_type": "fragment"
    },
    "tags": []
   },
   "source": [
    "Un file sorgente Python è un file di testo, generalmente con estensione `.py`. Viene anche chiamato \"script\"."
   ]
  },
  {
   "cell_type": "markdown",
   "metadata": {
    "slideshow": {
     "slide_type": "fragment"
    },
    "tags": []
   },
   "source": [
    "Un file con estensione `.pyw` è invece uno script Python che viene eseguito allo scopo di visualizzare l’interfaccia utente grafica (GUI) di un’applicazione Python."
   ]
  },
  {
   "cell_type": "markdown",
   "metadata": {
    "slideshow": {
     "slide_type": "notes"
    },
    "tags": []
   },
   "source": [
    "È possibile eseguire gli script in diversi modi. Tramite il prompt/shell del vostro sistema operativo, tramite l'IDE che usate (es. Visual Studio Code) oppure facendo doppio click sull'incona del file. Quest'ultimo caso, solo se l'estensione è stata associata in modo corretto all'interprete Python (per ora non ve lo consiglio)."
   ]
  },
  {
   "cell_type": "markdown",
   "metadata": {},
   "source": [
    "### Esecuzione di script dalla riga di comando "
   ]
  },
  {
   "cell_type": "markdown",
   "metadata": {
    "slideshow": {
     "slide_type": "fragment"
    },
    "tags": []
   },
   "source": [
    "A titolo di esempio, prendiamo uno script `moltiplica_due_numeri.py` che moltiplica due numeri e stampa il risultato, e proviamo a lanciamolo dalla shell."
   ]
  },
  {
   "cell_type": "markdown",
   "metadata": {},
   "source": [
    "#### Esecuzione come argomento del comando `python` "
   ]
  },
  {
   "cell_type": "markdown",
   "metadata": {
    "slideshow": {
     "slide_type": "notes"
    },
    "tags": []
   },
   "source": [
    "Anche se abbiamo detto che possibile indicare al sistema operativo come eseguire i file `.py` automaticamente con l'interprete Python, in questo esempio utilizzeremo solo il comando `python`, come segue:"
   ]
  },
  {
   "cell_type": "markdown",
   "metadata": {
    "slideshow": {
     "slide_type": "fragment"
    },
    "tags": []
   },
   "source": [
    "```powershell\n",
    "python moltiplica_due_numeri.py 5 9\n",
    "```"
   ]
  },
  {
   "cell_type": "markdown",
   "metadata": {
    "slideshow": {
     "slide_type": "notes"
    },
    "tags": []
   },
   "source": [
    "Nella riga precedente, `python` è il comando che indica che l'interprete Python deve essere usato per lo script passato come argomento. Infatti, separato da uno spazio, segue il nome dello script. "
   ]
  },
  {
   "cell_type": "markdown",
   "metadata": {
    "slideshow": {
     "slide_type": "fragment"
    },
    "tags": []
   },
   "source": [
    "Se lo script si trova in un'altra directory rispetto a quella in cui ci troviamo, è necessario specificare il percorso del file. Può essere un percorso assoluto:\n",
    "\n",
    "```powershell\n",
    "python C:\\python_scripts\\moltiplica_due_numeri.py 11 44\n",
    "```"
   ]
  },
  {
   "cell_type": "markdown",
   "metadata": {
    "slideshow": {
     "slide_type": "subslide"
    },
    "tags": []
   },
   "source": [
    "Oppure può essere un percorso relativo, ad esempio per eseguire uno script contenuto nella cartella genitore:\n",
    "\n",
    "```powershell\n",
    "python ..\\moltiplica_due_numeri.py 11 44\n",
    "```"
   ]
  },
  {
   "cell_type": "markdown",
   "metadata": {
    "slideshow": {
     "slide_type": "fragment"
    },
    "tags": []
   },
   "source": [
    "Infine, se lo script accetta degli argomenti, questi vengono scritti separati da spazi bianchi dopo il nome dello script."
   ]
  },
  {
   "cell_type": "markdown",
   "metadata": {},
   "source": [
    "#### Esecuzione \"diretta\" "
   ]
  },
  {
   "cell_type": "markdown",
   "metadata": {
    "slideshow": {
     "slide_type": "fragment"
    },
    "tags": []
   },
   "source": [
    "Su sistemi Linux o macOS, inserendo la stringa `#! /usr/bin/env python3` (detta [shebang](https://it.wikipedia.org/wiki/Shabang)) come prima riga dello script, il file viene eseguito senza dover manualmente invocare l’interprete, scrivendo solo il nome del file."
   ]
  },
  {
   "cell_type": "markdown",
   "metadata": {
    "slideshow": {
     "slide_type": "fragment"
    },
    "tags": []
   },
   "source": [
    "> Naturalmente vanno prima impostati i permessi di esecuzione sullo script\n",
    "> ```bash\n",
    "> $ chmod +x moltiplica_due_numeri.py\n",
    "> ```"
   ]
  },
  {
   "cell_type": "markdown",
   "metadata": {
    "slideshow": {
     "slide_type": "fragment"
    },
    "tags": []
   },
   "source": [
    "```bash\n",
    "$ ./moltiplica_due_numeri.py 11 44\n",
    "```"
   ]
  },
  {
   "cell_type": "markdown",
   "metadata": {
    "slideshow": {
     "slide_type": "notes"
    },
    "tags": []
   },
   "source": [
    "Comodo, no?"
   ]
  },
  {
   "cell_type": "markdown",
   "metadata": {
    "slideshow": {
     "slide_type": "fragment"
    },
    "tags": []
   },
   "source": [
    "Sotto Windows abbiamo più modi per eseguire direttamente gli script, ma vi consiglio di cercare sul web... fateci pure l'abitudine ;)\n",
    "\n",
    "Il *Python launcher* `py` è in grado di interpretare i *shebang* citati qua sopra. Se ti interessa l'argomento [la documentazione è questa](https://docs.python.org/3/using/windows.html#shebang-lines)."
   ]
  },
  {
   "cell_type": "markdown",
   "metadata": {
    "slideshow": {
     "slide_type": "subslide"
    },
    "tags": []
   },
   "source": [
    "E questo è tutto! La questione ora è: come possiamo accedere agli argomenti specificati dal nostro script Python?"
   ]
  },
  {
   "cell_type": "markdown",
   "metadata": {},
   "source": [
    "### Il modulo `sys` "
   ]
  },
  {
   "cell_type": "markdown",
   "metadata": {
    "slideshow": {
     "slide_type": "fragment"
    },
    "tags": []
   },
   "source": [
    "Ci sono diversi modi per accedere agli argomenti passati allo script innanzitutto vediamo, come farlo tramite il modulo `sys`."
   ]
  },
  {
   "cell_type": "markdown",
   "metadata": {
    "slideshow": {
     "slide_type": "fragment"
    },
    "tags": []
   },
   "source": [
    "Esso fornisce l'accesso a funzioni e variabili che possono interagire con l'interprete Python sottostante, indipendentemente dal sistema operativo in uso."
   ]
  },
  {
   "cell_type": "markdown",
   "metadata": {
    "slideshow": {
     "slide_type": "fragment"
    },
    "tags": []
   },
   "source": [
    "Non entreremo nel dettaglio delle sue caratteristiche, ma ci concentreremo su quella più importante in questo momento, ovvero `sys.argv`. Esegue proprio l'operazione di cui abbiamo bisogno: raccoglie gli argomenti passati allo script python."
   ]
  },
  {
   "cell_type": "markdown",
   "metadata": {
    "slideshow": {
     "slide_type": "subslide"
    },
    "tags": []
   },
   "source": [
    "Chiamando `sys.argv`, otteniamo gli argomenti specificati dall'utente come elenco (*list*) di stringhe."
   ]
  },
  {
   "cell_type": "markdown",
   "metadata": {
    "slideshow": {
     "slide_type": "fragment"
    },
    "tags": []
   },
   "source": [
    "L'indicizzazione, come sempre in Python, parte da `0`, e il primo argomento, `sys.argv[0]`, è il nome del nostro script Python così come è stato invocato (o solo il nome o il percorso al file)."
   ]
  },
  {
   "cell_type": "markdown",
   "metadata": {
    "slideshow": {
     "slide_type": "fragment"
    },
    "tags": []
   },
   "source": [
    "```python\n",
    "    ['moltiplica_due_numeri.py', '11', '44']\n",
    "```"
   ]
  },
  {
   "cell_type": "markdown",
   "metadata": {
    "slideshow": {
     "slide_type": "fragment"
    },
    "tags": []
   },
   "source": [
    "Anche gli argomenti che seguono sono elementi di una *list* a cui si può accedere tramite il loro indice."
   ]
  },
  {
   "cell_type": "markdown",
   "metadata": {
    "slideshow": {
     "slide_type": "fragment"
    },
    "tags": []
   },
   "source": [
    "> Si noti che si tratta di stringhe e quindi, se abbiamo bisogno di un valore numerico, dobbiamo eseguire una conversione in un tipo di dato numerico."
   ]
  },
  {
   "cell_type": "markdown",
   "metadata": {
    "slideshow": {
     "slide_type": "subslide"
    },
    "tags": []
   },
   "source": [
    "Scriviamo quindi un semplice programma `moltiplica_due_numeri.py`:\n",
    "\n",
    "```python\n",
    "import sys  # per prima cosa, importiamo il modulo\n",
    "\n",
    "args = sys.argv  # otteniamo l'elenco degli argomenti\n",
    "first_num = float(args[1])  # convertiamo gli argomenti nel tipo float\n",
    "second_num = float(args[2])\n",
    "\n",
    "product = first_num * second_num\n",
    "\n",
    "print(\"Il prodotto di \" + args[1] + \" per \" + args[2] + \" è uguale a \" + str(product))\n",
    "```"
   ]
  },
  {
   "cell_type": "markdown",
   "metadata": {
    "slideshow": {
     "slide_type": "subslide"
    },
    "tags": []
   },
   "source": [
    "#### Controllo dell'input"
   ]
  },
  {
   "cell_type": "markdown",
   "metadata": {
    "slideshow": {
     "slide_type": "fragment"
    },
    "tags": []
   },
   "source": [
    "Vale la pena notare che se ci si aspetta di ottenere un numero specifico di argomenti (cioè quasi sempre), è una buona idea controllare la lunghezza di sys.argv nel nostro script."
   ]
  },
  {
   "cell_type": "markdown",
   "metadata": {
    "slideshow": {
     "slide_type": "fragment"
    },
    "tags": []
   },
   "source": [
    "Verifichiamo questo aspetto nel nostro codice:\n",
    "\n",
    "```python\n",
    "import sys  \n",
    "\n",
    "args = sys.argv  \n",
    "\n",
    "if len(args) != 3:\n",
    "    print(\"Lo script deve essere eseguito passando due argomenti, \"\n",
    "          \"il primo e il secondo numero da moltiplicare.\")\n",
    "else:\n",
    "    first_num = float(args[1])  \n",
    "    second_num = float(args[2])\n",
    "\n",
    "    product = first_num * second_num\n",
    "\n",
    "    print(\"Il prodotto di \" + args[1] + \" per \" + args[2] + \" è uguale a \" + str(product))\n",
    "```"
   ]
  },
  {
   "cell_type": "markdown",
   "metadata": {
    "slideshow": {
     "slide_type": "subslide"
    },
    "tags": []
   },
   "source": [
    "### Riassumendo (script)"
   ]
  },
  {
   "cell_type": "markdown",
   "metadata": {
    "slideshow": {
     "slide_type": "fragment"
    },
    "tags": []
   },
   "source": [
    "In questa sezione abbiamo scritto per la prima volta codice Python."
   ]
  },
  {
   "cell_type": "markdown",
   "metadata": {
    "slideshow": {
     "slide_type": "fragment"
    },
    "tags": []
   },
   "source": [
    "Ecco le cose viste:\n",
    "\n",
    "- Inserire commenti nel codice tramite carattere `#`.\n",
    "- Importare un modulo tramite l'istruzione `import`.\n",
    "- Creare una variabile e assegnarle un \"contenuto\".\n",
    "- Costrutto `if...else` per eseguire codice in base a una condizione posta.\n",
    "- Accedere al contenuto di una lista (`list`), in particolare a uno specifico elemento tramite il suo indice tramite la notazione di \"subscription\".\n",
    "- Convertire una stringa in `float`.\n",
    "- Eseguire l'operazione aritmetica di moltiplicazione (`*`).\n",
    "- Creare una stringa (`string`) concatenando più più stringhe.\n",
    "- Stampare a monitor una stringa tramite la funzione built-in `print()`.\n",
    "- Esecuzione di uno script dalla shell del sistema operativo passando anche degli argomenti allo script."
   ]
  },
  {
   "cell_type": "markdown",
   "metadata": {
    "slideshow": {
     "slide_type": "slide"
    },
    "tags": []
   },
   "source": [
    "### Esecuzione di script dall'IDE (VS Code)"
   ]
  },
  {
   "cell_type": "markdown",
   "metadata": {
    "slideshow": {
     "slide_type": "notes"
    },
    "tags": []
   },
   "source": [
    "Diamo un'occhiata alle funzionalità di Visual Studio Code rispetto alla riga di comando."
   ]
  },
  {
   "cell_type": "markdown",
   "metadata": {
    "slideshow": {
     "slide_type": "fragment"
    },
    "tags": []
   },
   "source": [
    "Invece di scrivere manualmente il nome dello script e gli argomenti ogni volta, è possibile impostarli in un file di configurazione."
   ]
  },
  {
   "cell_type": "markdown",
   "metadata": {
    "slideshow": {
     "slide_type": "fragment"
    },
    "tags": []
   },
   "source": [
    "Per fare ciò, andiamo su \"**Run &rarr; Add configurations...**\". Si aprirà un file e ci verrà chiesto quale linguaggio vogliamo usare. Il primo proposto è Python e lo selezioniamo."
   ]
  },
  {
   "cell_type": "markdown",
   "metadata": {
    "slideshow": {
     "slide_type": "fragment"
    },
    "tags": []
   },
   "source": [
    "A questo punto dalla *command palette* dobbiamo indicare il tipo di configurazione che vogliamo creare e selezioniamo \"Python file\"."
   ]
  },
  {
   "cell_type": "markdown",
   "metadata": {
    "slideshow": {
     "slide_type": "subslide"
    },
    "tags": []
   },
   "source": [
    "Ci apparirà questo:\n",
    "\n",
    "```json\n",
    "{\n",
    "    // Use IntelliSense to learn about possible attributes.\n",
    "    // Hover to view descriptions of existing attributes.\n",
    "    // For more information, visit: https://go.microsoft.com/fwlink/?linkid=830387\n",
    "    \"version\": \"0.2.0\",\n",
    "    \"configurations\": [\n",
    "       {\n",
    "           \"name\": \"Python: Current File\",\n",
    "           \"type\": \"python\",\n",
    "           \"request\": \"launch\",\n",
    "           \"program\": \"${file}\",\n",
    "           \"console\": \"integratedTerminal\",\n",
    "           \"justMyCode\": true\n",
    "       },\n",
    "    ]\n",
    "}\n",
    "```\n",
    "\n",
    "È un file chiamato `launch.json`. Se non esisteva sarà creato automaticamente all'interno della root del progetto a cui appartiene il file che stiamo editando, nella cartella nascosta `.vscode`."
   ]
  },
  {
   "cell_type": "markdown",
   "metadata": {
    "slideshow": {
     "slide_type": "fragment"
    },
    "tags": []
   },
   "source": [
    "Questo è uno scheletro di configurazione per l'esecuzione di uno script."
   ]
  },
  {
   "cell_type": "markdown",
   "metadata": {
    "slideshow": {
     "slide_type": "subslide"
    },
    "tags": []
   },
   "source": [
    "Ora dobbiamo personalizzarlo dandogli un nome per riconoscerlo e indicando gli argomenti che vogliamo passare al nostro script. Modifichiamo il file come segue:\n",
    "\n",
    "```json\n",
    "{\n",
    "    // Use IntelliSense to learn about possible attributes.\n",
    "    // Hover to view descriptions of existing attributes.\n",
    "    // For more information, visit: https://go.microsoft.com/fwlink/?linkid=830387\n",
    "    \"version\": \"0.2.0\",\n",
    "    \"configurations\": [\n",
    "        {\n",
    "            \"name\": \"TEST: Moltiplica due numeri\",  // Qua diamo alla configurazione\n",
    "                                                    // un nome riconoscibile.\n",
    "            \"type\": \"python\",\n",
    "            \"request\": \"launch\",\n",
    "            \"program\": \"${file}\",\n",
    "            \"console\": \"integratedTerminal\",\n",
    "            \"args\": [     // Qua aggiungiamo una chiave \"args\"\n",
    "                \"20\",     // con i due argomenti che vogliamo passare\n",
    "                \"5\"       // sotto forma di un array di stringhe.\n",
    "            ],\n",
    "            \"justMyCode\": true\n",
    "        }\n",
    "    ]\n",
    "}\n",
    "```"
   ]
  },
  {
   "cell_type": "markdown",
   "metadata": {
    "slideshow": {
     "slide_type": "subslide"
    },
    "tags": []
   },
   "source": [
    "Salviamo le modifiche ed eseguiamo lo script tramite il menù \"**Run &rarr; Start debugging**\". L'output sarà quello atteso:\n",
    "\n",
    "```powershell    \n",
    "    Il prodotto di 20 per 5 è uguale a 100.0\n",
    "```"
   ]
  },
  {
   "cell_type": "markdown",
   "metadata": {
    "slideshow": {
     "slide_type": "fragment"
    },
    "tags": []
   },
   "source": [
    "Ora, invece di eseguire il modulo dalla shell come ad esempio `python multiply_two_numbers.py 5 20` e passare gli argomenti ogni volta che lo script viene chiamato, è possibile impostarli nel file `launch.json` ed eseguire il programma in modalità debug."
   ]
  },
  {
   "cell_type": "markdown",
   "metadata": {
    "slideshow": {
     "slide_type": "notes"
    },
    "tags": []
   },
   "source": [
    "Se create più configurazioni, ciascuna magari con argomenti diversi, andando su \"**View &rarr; Run**\" è possibile selezionare una specifica configurazione tramite la prima tendina in alto di fianco al simbolo di \"Play\". Una volta scelta la configurazione, cliccare sul simbolo \"Play\" o andare su \"**Run &rarr; Start debugging**\" per eseguire lo script con la configurazione selezionata."
   ]
  },
  {
   "cell_type": "markdown",
   "metadata": {
    "slideshow": {
     "slide_type": "subslide"
    },
    "tags": []
   },
   "source": [
    "### Approfondimenti\n",
    "\n",
    "[Command line and environment](https://docs.python.org/3/using/cmdline.html)\n",
    "\n",
    "[Using the Python Interpreter](https://docs.python.org/3/tutorial/interpreter.html)"
   ]
  },
  {
   "cell_type": "markdown",
   "metadata": {
    "slideshow": {
     "slide_type": "subslide"
    },
    "tags": []
   },
   "source": [
    "### Riassumendo (esecuzione script)\n",
    "\n",
    "Abbiamo imparato come eseguire gli script Python dalla riga di comando, come ottenere l'accesso agli argomenti passati con il moodulo `sys` e che è importante verificare che gli argomenti siano quelli che ci aspettiamo."
   ]
  },
  {
   "cell_type": "markdown",
   "metadata": {
    "slideshow": {
     "slide_type": "fragment"
    },
    "tags": []
   },
   "source": [
    "Abbiamo anche visto come specificare gli argomenti degli script tramite le configurazioni di progetto di Visual Studio Code."
   ]
  }
 ],
 "metadata": {
  "kernelspec": {
   "display_name": "Python 3 (ipykernel)",
   "language": "python",
   "name": "python3"
  },
  "language_info": {
   "codemirror_mode": {
    "name": "ipython",
    "version": 3
   },
   "file_extension": ".py",
   "mimetype": "text/x-python",
   "name": "python",
   "nbconvert_exporter": "python",
   "pygments_lexer": "ipython3",
   "version": "3.11.2"
  },
  "vscode": {
   "interpreter": {
    "hash": "20e40d8fc09a6690434ad602c7eb2d8de15d36ec466bfbfb0de97c7c540d7363"
   }
  }
 },
 "nbformat": 4,
 "nbformat_minor": 4
}
