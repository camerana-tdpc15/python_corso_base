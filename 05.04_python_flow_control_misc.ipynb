{
 "cells": [
  {
   "cell_type": "markdown",
   "metadata": {},
   "source": [
    "**Sommario**<a id='toc0_'></a>    \n",
    "- [Gestione errori con `try ... except`](#toc1_)    \n",
    "  - [Uso del `try ... except`](#toc1_1_)    \n",
    "    - [Esempio pratico](#toc1_1_1_)    \n",
    "    - [Conclusione](#toc1_1_2_)    \n",
    "  - [`else` e `finally`](#toc1_2_)    \n",
    "    - [Il costrutto `else`](#toc1_2_1_)    \n",
    "    - [Il Costrutto `finally`](#toc1_2_2_)    \n",
    "    - [Conclusioni](#toc1_2_3_)    \n",
    "- [Terminare l'esecuzione esplicitamente con `sys.exit()`](#toc2_)    \n",
    "  - [Differenze rispetto a `exit()`](#toc2_1_)    \n",
    "\n",
    "<!-- vscode-jupyter-toc-config\n",
    "\tnumbering=false\n",
    "\tanchor=true\n",
    "\tflat=false\n",
    "\tminLevel=1\n",
    "\tmaxLevel=6\n",
    "\t/vscode-jupyter-toc-config -->\n",
    "<!-- THIS CELL WILL BE REPLACED ON TOC UPDATE. DO NOT WRITE YOUR TEXT IN THIS CELL -->"
   ]
  },
  {
   "cell_type": "markdown",
   "metadata": {},
   "source": [
    "# <a id='toc1_'></a>Gestione errori con [`try ... except`](https://docs.python.org/3/tutorial/errors.html#handling-exceptions) [&#8593;](#toc0_)\n",
    "\n",
    "Passiamo ora ad un potente strumento nel mondo della programmazione Python: il costrutto `try ... except`. Questo meccanismo ci permette di gestire in modo controllato le situazioni anomale, o eccezioni, che possono verificarsi durante l'esecuzione del nostro codice.\n",
    "\n",
    "Prima di affrontare questo argomento, voglio ricordare un principio fondamentale \"prevenire è meglio che curare\". Questo significa che, dove possibile, dovremmo cercare di evitare che si verifichino errori, attraverso una programmazione attenta e l'adozione di buone pratiche.\n",
    "\n",
    "Tuttavia, ci sono situazioni in cui gli errori possono essere difficili o impossibili da prevedere o prevenire completamente. Pensiamo, ad esempio, al networking o alla lettura di file: in questi contesti, problemi come la perdita di connessione o un file danneggiato possono sorgere inaspettatamente. È qui che entra in gioco `try ... except`.\n",
    "\n",
    "## <a id='toc1_1_'></a>Uso del `try ... except` [&#8593;](#toc0_)\n",
    "\n",
    "Quando usiamo `try ... except`, inseriamo il codice che potrebbe sollevare un'eccezione all'interno del blocco `try`. Successivamente, specificiamo come gestire l'eccezione nel blocco `except`.\n",
    "\n",
    "**ATTENZIONE:** È importante \"catturare\" solo le eccezioni specifiche che dobbiamo gestire e che sappiamo che possono verificarsi, per evitare di mascherare altri errori o problemi nel nostro codice. In caso fossimo costretti ad intercettare un errore generico, è bene riportare all'utente anche il testo originale dell'errore.\n",
    "\n",
    "### <a id='toc1_1_1_'></a>Esempio pratico [&#8593;](#toc0_)\n",
    "\n",
    "Immaginiamo di voler leggere il contenuto di un file, processarlo e gestire situazioni in cui il file potrebbe non esistere, non essere accessibile per motivi di permessi, o altri potenziali errori di I/O.\n",
    "\n",
    "```python\n",
    "mio_file = 'pippo.txt'\n",
    "try:\n",
    "    with open(mio_file, 'r') as file:\n",
    "        contenuto = file.read()\n",
    "        print(\"Contenuto del file:\")\n",
    "        print(contenuto)\n",
    "except FileNotFoundError:\n",
    "    print(f\"Il file {mio_file} non è stato trovato.\")\n",
    "except PermissionError:\n",
    "    print(f\"Permesso negato: non è possibile accedere a {mio_file}.\")\n",
    "except Exception as e:  # Intercetta qualunque altro tipo di errore\n",
    "    print(f\"Si è verificato un errore durante l'apertura del file {mio_file}: {e}\")\n",
    "\n",
    "```\n",
    "\n",
    "In questo esempio, il blocco `try` tenta di aprire e leggere il contenuto del file specificato. Il costrutto `with open` è utilizzato per aprire il file; questo costrutto garantisce che il file sia correttamente chiuso dopo il suo utilizzo, anche se si verificano eccezioni durante la lettura.\n",
    "\n",
    "- `FileNotFoundError` viene intercettato se Python non riesce a trovare il file specificato. Questo è un errore comune quando il percorso del file è errato o il file non esiste.\n",
    "- `PermissionError` viene gestito se il programma non ha i permessi necessari per accedere al file. Questo può accadere se il file ha restrizioni di accesso impostate a livello di sistema operativo.\n",
    "- Infine, un generico `Exception` viene utilizzato come rete di sicurezza per intercettare qualsiasi altro tipo di errore non specificato precedentemente. Questo garantisce che il programma possa fornire un feedback utile anche in presenza di eccezioni inaspettate.\n",
    "\n",
    "### <a id='toc1_1_2_'></a>Conclusione [&#8593;](#toc0_)\n",
    "\n",
    "L'uso di `try ... except` non sostituisce la necessità di scrivere codice sicuro e di anticipare i problemi dove possibile. Tuttavia, ci fornisce un meccanismo prezioso per gestire le situazioni impreviste in modo controllato. Imparare a utilizzarlo correttamente vi renderà sviluppatori più resilienti e i vostri programmi più robusti, specialmente quando lavorerete in contesti complessi come lo sviluppo web con Django.\n",
    "\n",
    "Ricordate: l'obiettivo è utilizzare `try ... except` con saggezza, come parte di una strategia complessiva che include la prevenzione degli errori e l'adozione di buone pratiche di programmazione.\n"
   ]
  },
  {
   "cell_type": "markdown",
   "metadata": {},
   "source": [
    "## <a id='toc1_2_'></a>`else` e `finally` [&#8593;](#toc0_)\n",
    "\n",
    "I costrutti `else` e `finally` nel contesto del trattamento delle eccezioni in Python aggiungono ulteriori strati di controllo e flessibilità alla gestione delle eccezioni con il blocco `try ... except`. Ecco come funzionano e come possono essere utilizzati efficacemente:\n",
    "\n",
    "### <a id='toc1_2_1_'></a>Il costrutto `else` [&#8593;](#toc0_)\n",
    "\n",
    "Il blocco `else` in un costrutto `try ... except` viene eseguito se il codice all'interno del blocco `try` non solleva un'eccezione. È il posto giusto per inserire il codice che vuoi che venga eseguito solo se il blocco `try` ha avuto successo, senza errori. Ciò consente di separare chiaramente la logica di gestione delle eccezioni dalla logica normale del programma che non dovrebbe essere eseguita in caso di errore.\n",
    "\n",
    "Per esempio:\n",
    "\n",
    "```python\n",
    "def dividi(a, b):\n",
    "    try:\n",
    "        risultato = a / b\n",
    "    except ZeroDivisionError:\n",
    "        print(\"Errore: tentativo di divisione per zero.\")\n",
    "    else:\n",
    "        print(f\"Il risultato della divisione è {risultato}\")\n",
    "```\n",
    "\n",
    "In questo esempio, se `b` è zero, viene sollevata un'eccezione `ZeroDivisionError` e il blocco `except` gestisce questa situazione stampando un messaggio di errore. Se non si verificano eccezioni, cioè la divisione è possibile, il blocco `else` viene eseguito, stampando il risultato della divisione.\n",
    "\n",
    "### <a id='toc1_2_2_'></a>Il Costrutto `finally` [&#8593;](#toc0_)\n",
    "\n",
    "Il blocco `finally` viene eseguito dopo che i blocchi `try`, `except` (e opzionalmente `else`) hanno terminato la loro esecuzione, indipendentemente dal fatto che un'eccezione sia stata sollevata o meno. È utilizzato per eseguire operazioni di pulizia che devono essere eseguite sotto ogni circostanza, come chiudere file o rilasciare risorse esterne.\n",
    "\n",
    "Per esempio:\n",
    "\n",
    "```python\n",
    "def apri_file(nome_file):\n",
    "    try:\n",
    "        file = open(nome_file, 'r')\n",
    "        contenuto = file.read()\n",
    "        print(contenuto)\n",
    "    except FileNotFoundError:\n",
    "        print(f\"Il file {nome_file} non è stato trovato.\")\n",
    "    else:\n",
    "        print(\"Il file è stato letto con successo.\")\n",
    "    finally:\n",
    "        try:\n",
    "            file.close()\n",
    "            print(\"Il file è stato chiuso.\")\n",
    "        except NameError:\n",
    "            # Gestisce il caso in cui 'file' non è definito perché l'apertura è fallita\n",
    "            pass\n",
    "```\n",
    "\n",
    "In questo esempio, il blocco `finally` si assicura che il file sia chiuso dopo che è stato aperto, indipendentemente dal fatto che la lettura sia stata un successo, che sia stato sollevato un errore di `FileNotFoundError`, o che il file non sia stato aperto affatto (prevenendo un `NameError` nel blocco `finally`).\n",
    "\n",
    "### <a id='toc1_2_3_'></a>Conclusioni [&#8593;](#toc0_)\n",
    "\n",
    "I costrutti `else` e `finally` offrono maggiore precisione e sicurezza nella gestione delle eccezioni, permettendoti di organizzare il tuo codice in modo più chiaro e di assicurarti che determinate operazioni vengano sempre eseguite. L'uso appropriato di questi strumenti può rendere il tuo codice più robusto, leggibile e manutenibile."
   ]
  },
  {
   "cell_type": "markdown",
   "metadata": {},
   "source": [
    "# <a id='toc2_'></a>Terminare l'esecuzione esplicitamente con `sys.exit()` [&#8593;](#toc0_)\n",
    "\n",
    "In genere uno script Python esce automaticamente quando raggiunge la fine del file. Tuttavia, vi sono vari motivi per cui gli sviluppatori possono voler esplicitare la fine dell'esecuzione.\n",
    "\n",
    "In Python, esistono principalmente due modi: `exit()` e `sys.exit()`. Essi sono entrambi utilizzati per terminare un programma, ma ci sono alcune differenze chiave tra i due.\n",
    "\n",
    "\n",
    "1. **Controllo esplicito dello stato di uscita**: `sys.exit()` termina il programma Python in esecuzione. Puoi specificare un codice di stato al momento dell'uscita, che è utile per i programmi che vengono eseguiti all'interno di altri programmi o script. Un codice di uscita `0` di solito indica che il programma è terminato con successo, mentre qualsiasi altro valore (di solito `1`) indica che si è verificato un errore. Questo è particolarmente importante in ambienti di scripting e automazione, come gli script di shell, dove il codice di uscita può essere utilizzato per determinare il flusso di controllo.\n",
    "\n",
    "2. **Terminazione ordinata in caso di errori**: `sys.exit()` può essere usato per terminare il programma in caso di condizioni di errore. Ad esempio, potresti voler uscire dal programma se non vengono soddisfatte determinate condizioni iniziali. L'uso di `sys.exit()` consente di chiudere il programma in modo pulito, inviando un messaggio di errore e un codice di stato di uscita non-zero.\n",
    "\n",
    "3. **Leggibilità e intenzione chiara**: L'uso di `sys.exit()` rende l'intenzione dello sviluppatore esplicita. Quando qualcuno legge lo script e vede `sys.exit()`, è chiaro che il punto in cui è invocato è destinato a essere un punto di uscita del programma.\n",
    "\n",
    "4. **Uscita da uno script eseguito in un ambiente più grande**: In alcuni casi, specialmente quando uno script Python è incorporato in un'applicazione più grande o in un ambiente interattivo (come una sessione di Jupyter Notebook), `sys.exit()` può essere utilizzato per assicurarsi che lo script esca dall'interprete Python corrente anziché procedere all'esecuzione delle righe successive.\n",
    "\n",
    "In sintesi, sebbene `sys.exit()` non è sempre necessario, può essere utilizzato per controllare il comportamento di uscita dello script in modo più preciso, gestire gli errori e chiarire l'intenzione dello script."
   ]
  },
  {
   "cell_type": "code",
   "execution_count": 2,
   "metadata": {},
   "outputs": [
    {
     "ename": "SystemExit",
     "evalue": "0",
     "output_type": "error",
     "traceback": [
      "An exception has occurred, use %tb to see the full traceback.\n",
      "\u001b[0;31mSystemExit\u001b[0m\u001b[0;31m:\u001b[0m 0\n"
     ]
    },
    {
     "name": "stderr",
     "output_type": "stream",
     "text": [
      "/Users/knox/Repositories/python_training/python_corso_base/.venv/lib/python3.11/site-packages/IPython/core/interactiveshell.py:3468: UserWarning: To exit: use 'exit', 'quit', or Ctrl-D.\n",
      "  warn(\"To exit: use 'exit', 'quit', or Ctrl-D.\", stacklevel=1)\n"
     ]
    }
   ],
   "source": [
    "import sys\n",
    "\n",
    "sys.exit(0)"
   ]
  },
  {
   "cell_type": "markdown",
   "metadata": {},
   "source": [
    "## <a id='toc2_1_'></a>Differenze rispetto a `exit()` [&#8593;](#toc0_)\n",
    "In precedenza abbiamo già usato la funzione built-in `exit()`. Essa è intesa principalmente per l'uso in un interprete interattivo (un REPL, come la shell Python o i notebook Jupyter). `exit()` è destinato agli utenti dell'interprete interattivo e non dovrebbe essere utilizzata in programmi di produzione. Inolte `exit()` potrebbe non essere disponibile in tutti gli ambienti di esecuzione.\n",
    "\n",
    "\n",
    "`sys.exit()` invece è una funzione inclusa nel modulo `sys`. È intesa per essere utilizzata in programmi e script. Quando `sys.exit()` viene chiamata, lancia un'eccezione `SystemExit`, che può essere intercettata per decidere quali operazioni eseguire all'uscita effettiva dello script (ad es. operazioni di pulizia). Questo è particolarmente importante in ambienti di scripting e automazione, come gli script di shell, dove il codice di uscita può essere utilizzato per determinare il flusso di controllo.\n",
    "\n",
    "Quando si utilizza `sys.exit()`, si può dunque specificare un codice di uscita. Il codice di uscita può indicare se il programma è terminato con successo o se sono stati rilevati errori.\n",
    " \n",
    "Inoltre `sys.exit()` funziona in qualsiasi ambiente, che sia l'interprete interattivo o uno script in esecuzione.\n",
    "\n",
    "\n",
    "\n",
    "In sintesi, mentre `exit()` può essere conveniente per uscire dall'interprete Python durante il testing o l'esplorazione interattiva, `sys.exit()` è la scelta appropriata per uscire da uno script Python in modo pulito e controllato, consentendo di fornire un codice di uscita al sistema operativo o all'applicazione chiamante."
   ]
  },
  {
   "cell_type": "code",
   "execution_count": 5,
   "metadata": {},
   "outputs": [
    {
     "ename": "",
     "evalue": "",
     "output_type": "error",
     "traceback": [
      "\u001b[1;31mThe Kernel crashed while executing code in the the current cell or a previous cell. Please review the code in the cell(s) to identify a possible cause of the failure. Click <a href='https://aka.ms/vscodeJupyterKernelCrash'>here</a> for more info. View Jupyter <a href='command:jupyter.viewOutput'>log</a> for further details."
     ]
    }
   ],
   "source": [
    "exit(0)"
   ]
  }
 ],
 "metadata": {
  "kernelspec": {
   "display_name": "Python 3 (ipykernel)",
   "language": "python",
   "name": "python3"
  },
  "language_info": {
   "codemirror_mode": {
    "name": "ipython",
    "version": 3
   },
   "file_extension": ".py",
   "mimetype": "text/x-python",
   "name": "python",
   "nbconvert_exporter": "python",
   "pygments_lexer": "ipython3",
   "version": "3.11.2"
  }
 },
 "nbformat": 4,
 "nbformat_minor": 4
}
