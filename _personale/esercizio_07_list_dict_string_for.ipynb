{
 "cells": [
  {
   "attachments": {},
   "cell_type": "markdown",
   "metadata": {},
   "source": [
    "### Esercizio - dondolo\n",
    "\n",
    "Requisiti: stringhe, dizionari, if, cicli\n",
    "\n",
    "Scrivi del codice che data una lista di parole costituite solo dalla stessa lettera, crea un dizionario `freq` che associa a ciascuna lettera il numero di occorrenze di quella lettera trovate **in tutta la lista**\n",
    "\n",
    "Esempio - data:\n",
    "\n",
    "```python\n",
    "parole = ['dddd', 'oooo', 'nnn', 'dddd', 'o', 'lllllll', 'oo']\n",
    "```\n",
    "\n",
    "\n",
    "deve risultare:\n",
    "\n",
    "```python\n",
    ">>> print(freq)\n",
    "{'d': 8, 'o': 7, 'n': 3, 'l': 7}\n",
    "```"
   ]
  },
  {
   "cell_type": "code",
   "execution_count": 4,
   "metadata": {},
   "outputs": [
    {
     "name": "stdout",
     "output_type": "stream",
     "text": [
      "ddddoooonnnddddollllllloo\n",
      "8\n",
      "7\n",
      "3\n",
      "7\n",
      "{'d': 8, 'o': 7, 'n': 3, 'l': 7}\n"
     ]
    }
   ],
   "source": [
    "parole = ['dddd', 'oooo', 'nnn', 'dddd', 'o', 'lllllll', 'oo']  # {'d': 8, 'o': 7, 'n': 3, 'l': 7}\n",
    "# parole = ['d','ii','nnn','dd','ooo','n']                       # {'d': 3, 'i': 2, 'n': 4, 'o': 3}\n",
    "\n",
    "\n",
    "freq = {}\n",
    "\n",
    "num =  0\n",
    "\n",
    "lunghezza = len(parole) - 1\n",
    "\n",
    "stringa = ''.join(parole)\n",
    "\n",
    "print(stringa)\n",
    "\n",
    "for parola in parole:\n",
    "    # if num <= lunghezza:\n",
    "    if parola[0] not in freq:\n",
    "        print(stringa.count(parola[0]))\n",
    "        freq[parola[0]] = stringa.count(parola[0])\n",
    "        num = num + 1\n",
    "    # else:\n",
    "    #     break\n",
    "\n",
    "print(freq)\n",
    "\n"
   ]
  },
  {
   "cell_type": "code",
   "execution_count": 23,
   "metadata": {},
   "outputs": [
    {
     "name": "stdout",
     "output_type": "stream",
     "text": [
      "{'d': 8, 'o': 7, 'n': 3, 'l': 7}\n"
     ]
    }
   ],
   "source": [
    "parole = ['dddd', 'oooo', 'nnn', 'dddd', 'o', 'lllllll', 'oo']  # {'d': 8, 'o': 7, 'n': 3, 'l': 7}\n",
    "# parole = ['d','ii','nnn','dd','ooo','n']                       # {'d': 3, 'i': 2, 'n': 4, 'o': 3}\n",
    "\n",
    "\n",
    "freq = {}\n",
    "\n",
    "stringa = ''.join(parole)\n",
    "\n",
    "for carattere in stringa:\n",
    "    if carattere not in freq:\n",
    "        freq[carattere] = stringa.count(carattere)\n",
    "        \n",
    "print(freq)\n"
   ]
  },
  {
   "cell_type": "code",
   "execution_count": 29,
   "metadata": {},
   "outputs": [
    {
     "name": "stdout",
     "output_type": "stream",
     "text": [
      "{'d': 8, 'o': 7, 'n': 3, 'l': 7}\n"
     ]
    }
   ],
   "source": [
    "# altro metodo con ciclo for innestato\n",
    "\n",
    "# creo un dizionario vuoto\n",
    "\n",
    "# per ciascuna parola della lista delle parole\n",
    "    # per ciascun carattere della parola attuale \n",
    "    # se il carattere e' gia' presente come chiave del dizionario freq\n",
    "        # incrementa di 1 il valore della chiave corrispondente\n",
    "    # altrimenti se la chiave non e' presente nel dizionario\n",
    "        # creo la chiave per il carattere attuale e imposto il suo valore a 1\n",
    "\n",
    "\n",
    "\n",
    "parole = ['dddd', 'oooo', 'nnn', 'dddd', 'o', 'lllllll', 'oo']  # {'d': 8, 'o': 7, 'n': 3, 'l': 7}\n",
    "# parole = ['d','ii','nnn','dd','ooo','n']                       # {'d': 3, 'i': 2, 'n': 4, 'o': 3}\n",
    "\n",
    "\n",
    "freq = {}\n",
    "\n",
    "for parola in parole:\n",
    "    for char in parola:\n",
    "        if char in freq:\n",
    "            freq[char] += 1\n",
    "        else:\n",
    "            freq[char] = 1\n",
    "print(freq)\n",
    "\n",
    "\n"
   ]
  },
  {
   "cell_type": "code",
   "execution_count": 32,
   "metadata": {},
   "outputs": [
    {
     "name": "stdout",
     "output_type": "stream",
     "text": [
      "123\n"
     ]
    }
   ],
   "source": [
    "my_dict = {\n",
    "    'd': 8,\n",
    "    'o': 7,\n",
    "    'n': 3,\n",
    "    'l': 7,\n",
    "    'x': 123\n",
    "}\n",
    "\n",
    "my_dict['d']\n",
    "\n",
    "if 'x' in my_dict:\n",
    "    print(my_dict['x'])\n",
    "\n",
    "    (my_dict.get('x'))\n",
    "    "
   ]
  }
 ],
 "metadata": {
  "kernelspec": {
   "display_name": ".venv",
   "language": "python",
   "name": "python3"
  },
  "language_info": {
   "codemirror_mode": {
    "name": "ipython",
    "version": 3
   },
   "file_extension": ".py",
   "mimetype": "text/x-python",
   "name": "python",
   "nbconvert_exporter": "python",
   "pygments_lexer": "ipython3",
   "version": "3.10.0"
  },
  "orig_nbformat": 4
 },
 "nbformat": 4,
 "nbformat_minor": 2
}
