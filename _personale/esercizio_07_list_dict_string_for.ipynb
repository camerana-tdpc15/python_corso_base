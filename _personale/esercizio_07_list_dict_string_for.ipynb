{
 "cells": [
  {
   "attachments": {},
   "cell_type": "markdown",
   "metadata": {},
   "source": [
    "### Esercizio - dondolo\n",
    "\n",
    "Requisiti: stringhe, dizionari, if, cicli\n",
    "\n",
    "Scrivi del codice che data una lista di parole costituite solo dalla stessa lettera, crea un dizionario `freq` che associa a ciascuna lettera il numero di occorrenze di quella lettera trovate **in tutta la lista**\n",
    "\n",
    "Esempio - data:\n",
    "\n",
    "```python\n",
    "parole = ['dddd', 'oooo', 'nnn', 'dddd', 'o', 'lllllll', 'oo']\n",
    "```\n",
    "\n",
    "\n",
    "deve risultare:\n",
    "\n",
    "```python\n",
    ">>> print(freq)\n",
    "{'d': 8, 'o': 7, 'n': 3, 'l': 7}\n",
    "```"
   ]
  },
  {
   "cell_type": "code",
   "execution_count": 6,
   "metadata": {},
   "outputs": [
    {
     "ename": "SyntaxError",
     "evalue": "invalid syntax (453189318.py, line 9)",
     "output_type": "error",
     "traceback": [
      "\u001b[1;36m  Cell \u001b[1;32mIn[6], line 9\u001b[1;36m\u001b[0m\n\u001b[1;33m    dict = parole[] +=1\u001b[0m\n\u001b[1;37m                  ^\u001b[0m\n\u001b[1;31mSyntaxError\u001b[0m\u001b[1;31m:\u001b[0m invalid syntax\n"
     ]
    }
   ],
   "source": [
    "parole = ['dddd', 'oooo', 'nnn', 'dddd', 'o', 'lllllll', 'oo']  # {'d': 8, 'o': 7, 'n': 3, 'l': 7}\n",
    "# parole = ['d','ii','nnn','dd','ooo','n']                       # {'d': 3, 'i': 2, 'n': 4, 'o': 3}\n",
    "             \n",
    "# scrivi qui\n",
    "\n",
    "dict = {}\n",
    "\n",
    "for word in parole:\n",
    "    dict = parole[] +=1\n",
    "#    for letter in word:\n",
    "#        dict \n",
    "print(dict)        "
   ]
  }
 ],
 "metadata": {
  "kernelspec": {
   "display_name": ".venv",
   "language": "python",
   "name": "python3"
  },
  "language_info": {
   "codemirror_mode": {
    "name": "ipython",
    "version": 3
   },
   "file_extension": ".py",
   "mimetype": "text/x-python",
   "name": "python",
   "nbconvert_exporter": "python",
   "pygments_lexer": "ipython3",
   "version": "3.11.8"
  },
  "orig_nbformat": 4
 },
 "nbformat": 4,
 "nbformat_minor": 2
}
