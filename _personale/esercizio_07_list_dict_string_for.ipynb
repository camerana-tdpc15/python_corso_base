{
 "cells": [
  {
   "attachments": {},
   "cell_type": "markdown",
   "metadata": {},
   "source": [
    "### Esercizio - dondolo\n",
    "\n",
    "Requisiti: stringhe, dizionari, if, cicli\n",
    "\n",
    "Scrivi del codice che data una lista di parole costituite solo dalla stessa lettera, crea un dizionario `freq` che associa a ciascuna lettera il numero di occorrenze di quella lettera trovate **in tutta la lista**\n",
    "\n",
    "Esempio - data:\n",
    "\n",
    "```python\n",
    "parole = ['dddd', 'oooo', 'nnn', 'dddd', 'o', 'lllllll', 'oo']\n",
    "```\n",
    "\n",
    "\n",
    "deve risultare:\n",
    "\n",
    "```python\n",
    ">>> print(freq)\n",
    "{'d': 8, 'o': 7, 'n': 3, 'l': 7}\n",
    "```"
   ]
  },
  {
   "cell_type": "code",
   "execution_count": 20,
   "metadata": {},
   "outputs": [
    {
     "name": "stdout",
     "output_type": "stream",
     "text": [
      "{'d': 8, 'o': 7, 'n': 3, 'l': 7}\n"
     ]
    }
   ],
   "source": [
    "parole = ['dddd', 'oooo', 'nnn', 'dddd', 'o', 'lllllll', 'oo']  # {'d': 8, 'o': 7, 'n': 3, 'l': 7}\n",
    "# parole = ['d','ii','nnn','dd','ooo','n']                       # {'d': 3, 'i': 2, 'n': 4, 'o': 3}\n",
    "             \n",
    "# scrivi qui\n",
    "# creo un  diczionario vuoto\n",
    "freq= {}\n",
    "# per ciascun parola della lista parole\n",
    "for parola in parole:\n",
    "    # per ciascun carattere della parolla attuale\n",
    "    for char in parola:\n",
    "    # se il carattere e gia presente come chiave del dizionario freq\n",
    "        if char in freq:\n",
    "        # incrementa di 1 il valore corispondente a quella chiave\n",
    "            freq[char] +=1\n",
    "    # altrimenti , se la chiave non e presente nel dizionario\n",
    "        else:\n",
    "                    #creo la chiave per il carattere attuale e imposto il suo valore a uno\n",
    "            freq[char] =1\n",
    "print(freq)            \n",
    "\n",
    "\n",
    "    \n",
    "   \n",
    "            \n",
    "\n"
   ]
  }
 ],
 "metadata": {
  "kernelspec": {
   "display_name": ".venv",
   "language": "python",
   "name": "python3"
  },
  "language_info": {
   "codemirror_mode": {
    "name": "ipython",
    "version": 3
   },
   "file_extension": ".py",
   "mimetype": "text/x-python",
   "name": "python",
   "nbconvert_exporter": "python",
   "pygments_lexer": "ipython3",
   "version": "3.11.2"
  },
  "orig_nbformat": 4
 },
 "nbformat": 4,
 "nbformat_minor": 2
}
