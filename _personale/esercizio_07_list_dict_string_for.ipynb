{
 "cells": [
  {
   "attachments": {},
   "cell_type": "markdown",
   "metadata": {},
   "source": [
    "### Esercizio - dondolo\n",
    "\n",
    "Requisiti: stringhe, dizionari, if, cicli\n",
    "\n",
    "Scrivi del codice che data una lista di parole costituite solo dalla stessa lettera, crea un dizionario `freq` che associa a ciascuna lettera il numero di occorrenze di quella lettera trovate **in tutta la lista**\n",
    "\n",
    "Esempio - data:\n",
    "\n",
    "```python\n",
    "parole = ['dddd', 'oooo', 'nnn', 'dddd', 'o', 'lllllll', 'oo']\n",
    "```\n",
    "\n",
    "\n",
    "deve risultare:\n",
    "\n",
    "```python\n",
    ">>> print(freq)\n",
    "{'d': 8, 'o': 7, 'n': 3, 'l': 7}\n",
    "```"
   ]
  },
  {
   "cell_type": "code",
   "execution_count": 8,
   "metadata": {},
   "outputs": [
    {
     "name": "stdout",
     "output_type": "stream",
     "text": [
      "{'d': 4}\n",
      "{'d': 4, 'o': 4}\n",
      "{'d': 4, 'o': 4, 'n': 3}\n",
      "{'d': 8, 'o': 4, 'n': 3}\n",
      "{'d': 8, 'o': 5, 'n': 3}\n",
      "{'d': 8, 'o': 5, 'n': 3, 'l': 7}\n",
      "{'d': 8, 'o': 7, 'n': 3, 'l': 7}\n"
     ]
    }
   ],
   "source": [
    "parole = ['dddd', 'oooo', 'nnn', 'dddd', 'o', 'lllllll', 'oo']  # {'d': 8, 'o': 7, 'n': 3, 'l': 7}\n",
    "#parole = ['d','ii','nnn','dd','ooo','n']                       # {'d': 3, 'i': 2, 'n': 4, 'o': 3}\n",
    "\n",
    "#creo un dizionario vuoto\n",
    "freq_dict = {}\n",
    "\n",
    "#per ciascuna parola della lista parole:\n",
    "for parola in parole:\n",
    "\n",
    "    #per ciascun carattere della parola attuale:\n",
    "    for lettera in parola:\n",
    "\n",
    "        #se il carattere è già presente come chiave del dizionario freq\n",
    "        if lettera in freq_dict:\n",
    "\n",
    "            #incrementa di 1  il valore corrispondente a quella chiave\n",
    "            freq_dict[lettera] += 1\n",
    "\n",
    "        \n",
    "        #altrimenti, se la chiave non è presente nel dizionario \n",
    "        else :\n",
    "\n",
    "            #creo la chiave per il carattere attuale e imposto il suo valore a 1\n",
    "            freq_dict[lettera] = 1\n",
    "\n",
    "     \n",
    "        \n",
    "    print(freq_dict)"
   ]
  }
 ],
 "metadata": {
  "kernelspec": {
   "display_name": ".venv",
   "language": "python",
   "name": "python3"
  },
  "language_info": {
   "codemirror_mode": {
    "name": "ipython",
    "version": 3
   },
   "file_extension": ".py",
   "mimetype": "text/x-python",
   "name": "python",
   "nbconvert_exporter": "python",
   "pygments_lexer": "ipython3",
   "version": "3.10.0"
  },
  "orig_nbformat": 4
 },
 "nbformat": 4,
 "nbformat_minor": 2
}
