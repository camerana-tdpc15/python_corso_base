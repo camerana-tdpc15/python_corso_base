{
 "cells": [
  {
   "attachments": {},
   "cell_type": "markdown",
   "metadata": {},
   "source": [
    "## Esercizio - cannocchiale\n",
    "\n",
    "Requisiti: tuple, stringhe, liste\n",
    "\n",
    "Data una stringa `s`, scrivi del codice che mette in una variabile tupla `ordinata` tutti i caratteri di `s` ordinati\n",
    "\n",
    "Esempio - data:\n",
    "\n",
    "```python\n",
    "s = \"cannocchiale\"\n",
    "```\n",
    "\n",
    "Dopo il tuo codice deve risultare:\n",
    " \n",
    "```python\n",
    ">>> print(ordinata)\n",
    "('a', 'a', 'c', 'c', 'c', 'e', 'h', 'i', 'l', 'n', 'n', 'o')\n",
    "```"
   ]
  },
  {
   "cell_type": "code",
   "execution_count": 3,
   "metadata": {},
   "outputs": [
    {
     "name": "stdout",
     "output_type": "stream",
     "text": [
      "('a', 'a', 'c', 'l', 'o')\n"
     ]
    }
   ],
   "source": [
    "s = \"coala\"\n",
    "\n",
    "#creo lista\n",
    "lst_char_s=[]\n",
    "\n",
    "#per ciascun carattere della stringa\n",
    "    #aggiungo il carattere al contenitore con il metodo append()\n",
    "# for lettera in s :\n",
    "#     lst_char_s.append(lettera)\n",
    "\n",
    "lst_char_s = list(s)\n",
    "\n",
    "#ordino la lista in modo crescente(asc)\n",
    "lst_ordinata = sorted(lst_char_s)\n",
    "\n",
    "#convertiamo la lista ordinata in una tupla\n",
    "tuple_ordinata = tuple(lst_ordinata)\n",
    "\n",
    "#stampo\n",
    "print(tuple_ordinata)\n",
    "\n"
   ]
  }
 ],
 "metadata": {
  "kernelspec": {
   "display_name": "Python 3",
   "language": "python",
   "name": "python3"
  },
  "language_info": {
   "codemirror_mode": {
    "name": "ipython",
    "version": 3
   },
   "file_extension": ".py",
   "mimetype": "text/x-python",
   "name": "python",
   "nbconvert_exporter": "python",
   "pygments_lexer": "ipython3",
   "version": "3.10.0"
  },
  "orig_nbformat": 4
 },
 "nbformat": 4,
 "nbformat_minor": 2
}
