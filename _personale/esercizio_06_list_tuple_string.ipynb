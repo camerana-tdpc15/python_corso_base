{
 "cells": [
  {
   "attachments": {},
   "cell_type": "markdown",
   "metadata": {},
   "source": [
    "## Esercizio - cannocchiale\n",
    "\n",
    "Requisiti: tuple, stringhe, liste\n",
    "\n",
    "Data una stringa `s`, scrivi del codice che mette in una variabile tupla `ordinata` tutti i caratteri di `s` ordinati\n",
    "\n",
    "Esempio - data:\n",
    "\n",
    "```python\n",
    "s = \"cannocchiale\"\n",
    "```\n",
    "\n",
    "Dopo il tuo codice deve risultare:\n",
    " \n",
    "```python\n",
    ">>> print(ordinata)\n",
    "('a', 'a', 'c', 'c', 'c', 'e', 'h', 'i', 'l', 'n', 'n', 'o')\n",
    "```"
   ]
  },
  {
   "cell_type": "code",
   "execution_count": 19,
   "metadata": {},
   "outputs": [
    {
     "name": "stdout",
     "output_type": "stream",
     "text": [
      "['a', 'a', 'c', 'c', 'c', 'e', 'h', 'i', 'l', 'n', 'n', 'o']\n",
      "['a', 'a', 'c', 'c', 'c', 'e', 'h', 'i', 'l', 'n', 'n', 'o']\n",
      "<class 'tuple'>\n"
     ]
    }
   ],
   "source": [
    "s = \"cannocchiale\"\n",
    "\n",
    "lista = []\n",
    "\n",
    "for char in s:\n",
    "    lista.append(char)\n",
    "\n",
    "lista.sort()\n",
    "print(lista)\n",
    "lista_tupla = tuple(lista)\n",
    "print(lista)\n",
    "print(type(lista_tupla))\n"
   ]
  },
  {
   "cell_type": "code",
   "execution_count": 21,
   "metadata": {},
   "outputs": [
    {
     "name": "stdout",
     "output_type": "stream",
     "text": [
      "('a', 'a', 'c', 'c', 'c', 'e', 'h', 'i', 'l', 'n', 'n', 'o')\n",
      "<class 'tuple'>\n"
     ]
    }
   ],
   "source": [
    "# creare un contenitore\n",
    "\n",
    "# per ciascun carattere della stringa\n",
    "    # aggiungo il carattere al contenitore\n",
    "\n",
    "# ordino la lista in modo crescente (asc)\n",
    "\n",
    "# convertiamo la lista ordinata in un tupla\n",
    "\n",
    "s = \"cannocchiale\"\n",
    "\n",
    "\n",
    "lista = []\n",
    "\n",
    "for carattere in s:\n",
    "    lista.append(carattere)\n",
    "\n",
    "\n",
    "lista.sort()\n",
    "\n",
    "\n",
    "\n",
    "lista_tupla = tuple(lista)\n",
    "\n",
    "print(lista_tupla)\n",
    "\n",
    "print(type(lista_tupla))\n",
    "\n",
    "\n",
    "\n",
    "\n"
   ]
  },
  {
   "cell_type": "code",
   "execution_count": 22,
   "metadata": {},
   "outputs": [
    {
     "name": "stdout",
     "output_type": "stream",
     "text": [
      "('a', 'a', 'c', 'c', 'c', 'e', 'h', 'i', 'l', 'n', 'n', 'o')\n",
      "<class 'tuple'>\n"
     ]
    }
   ],
   "source": [
    "# metodo compatto\n",
    "\n",
    "\n",
    "\n",
    "s = \"cannocchiale\"\n",
    "\n",
    "\n",
    "lista = list(s)\n",
    "\n",
    "\n",
    "lista.sort()\n",
    "\n",
    "\n",
    "\n",
    "lista_tupla = tuple(lista)\n",
    "\n",
    "print(lista_tupla)\n",
    "\n",
    "print(type(lista_tupla))"
   ]
  }
 ],
 "metadata": {
  "kernelspec": {
   "display_name": "Python 3",
   "language": "python",
   "name": "python3"
  },
  "language_info": {
   "codemirror_mode": {
    "name": "ipython",
    "version": 3
   },
   "file_extension": ".py",
   "mimetype": "text/x-python",
   "name": "python",
   "nbconvert_exporter": "python",
   "pygments_lexer": "ipython3",
   "version": "3.10.1"
  },
  "orig_nbformat": 4
 },
 "nbformat": 4,
 "nbformat_minor": 2
}
