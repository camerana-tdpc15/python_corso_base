{
 "cells": [
  {
   "attachments": {},
   "cell_type": "markdown",
   "metadata": {},
   "source": [
    "## Esercizio - cannocchiale\n",
    "\n",
    "Requisiti: tuple, stringhe, liste\n",
    "\n",
    "Data una stringa `s`, scrivi del codice che mette in una variabile tupla `ordinata` tutti i caratteri di `s` ordinati\n",
    "\n",
    "Esempio - data:\n",
    "\n",
    "```python\n",
    "s = \"cannocchiale\"\n",
    "```\n",
    "\n",
    "Dopo il tuo codice deve risultare:\n",
    " \n",
    "```python\n",
    ">>> print(ordinata)\n",
    "('a', 'a', 'c', 'c', 'c', 'e', 'h', 'i', 'l', 'n', 'n', 'o')\n",
    "```"
   ]
  },
  {
   "cell_type": "code",
   "execution_count": 2,
   "metadata": {},
   "outputs": [
    {
     "name": "stdout",
     "output_type": "stream",
     "text": [
      "('a', 'a', 'c', 'c', 'c', 'e', 'h', 'i', 'l', 'n', 'n', 'o')\n"
     ]
    }
   ],
   "source": [
    "s = \"cannocchiale\"\n",
    "\n",
    "# scrivi qui\n",
    "def crea_tupla_ordinata(s):\n",
    "  \"\"\"\n",
    "  Crea una tupla ordinata dai caratteri di una stringa.\n",
    "\n",
    "  Args:\n",
    "    stringa: La stringa da cui creare la tupla.\n",
    "\n",
    "  Returns:\n",
    "    Una tupla ordinata contenente i caratteri della stringa.\n",
    "  \"\"\"\n",
    "  caratteri_ordinati = []\n",
    "  for carattere in s:\n",
    "    #if carattere not in caratteri_ordinati:\n",
    "      caratteri_ordinati.append(carattere)\n",
    "  caratteri_ordinati.sort()\n",
    "  tupla_ordinata = tuple(caratteri_ordinati)\n",
    "  return tupla_ordinata\n",
    "\n",
    "tupla_ordinata = crea_tupla_ordinata(s)\n",
    "print(tupla_ordinata)"
   ]
  }
 ],
 "metadata": {
  "kernelspec": {
   "display_name": "Python 3",
   "language": "python",
   "name": "python3"
  },
  "language_info": {
   "codemirror_mode": {
    "name": "ipython",
    "version": 3
   },
   "file_extension": ".py",
   "mimetype": "text/x-python",
   "name": "python",
   "nbconvert_exporter": "python",
   "pygments_lexer": "ipython3",
   "version": "3.12.1"
  },
  "orig_nbformat": 4
 },
 "nbformat": 4,
 "nbformat_minor": 2
}
