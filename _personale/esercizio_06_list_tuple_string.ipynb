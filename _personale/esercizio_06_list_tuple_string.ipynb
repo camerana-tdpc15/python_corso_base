{
 "cells": [
  {
   "attachments": {},
   "cell_type": "markdown",
   "metadata": {},
   "source": [
    "## Esercizio - cannocchiale\n",
    "\n",
    "Requisiti: tuple, stringhe, liste\n",
    "\n",
    "Data una stringa `s`, scrivi del codice che mette in una variabile tupla `ordinata` tutti i caratteri di `s` ordinati\n",
    "\n",
    "Esempio - data:\n",
    "\n",
    "```python\n",
    "s = \"cannocchiale\"\n",
    "```\n",
    "\n",
    "Dopo il tuo codice deve risultare:\n",
    " \n",
    "```python\n",
    ">>> print(ordinata)\n",
    "('a', 'a', 'c', 'c', 'c', 'e', 'h', 'i', 'l', 'n', 'n', 'o')\n",
    "```"
   ]
  },
  {
   "cell_type": "code",
   "execution_count": 13,
   "metadata": {},
   "outputs": [
    {
     "name": "stdout",
     "output_type": "stream",
     "text": [
      "('a', 'a', 'c', 'c', 'c', 'e', 'h', 'i', 'l', 'n', 'n', 'o')\n"
     ]
    }
   ],
   "source": [
    "\n",
    "# Creare un contenitore\n",
    "# Per ciascun carattere della stringa\n",
    "# Aggiungo il carattere al contenitore\n",
    "# Ordino la lista in modo crescente (asc)\n",
    "# Convertiamo la lista ordinata in una tupla\n",
    "\n",
    "s = \"cannocchiale\"\n",
    "caratteri = []\n",
    "for carattere in s:\n",
    "    caratteri.append(carattere)\n",
    "caretteri_ordinati = sorted(caratteri)\n",
    "ordinata = tuple (caratteri_ordinati)\n",
    "print(ordinata)\n",
    "                   \n",
    "\n",
    "\n",
    "\n",
    "\n",
    "\n",
    "\n",
    "\n",
    "\n",
    "\n",
    "\n",
    "\n",
    "\n",
    "\n",
    "\n",
    "\n",
    "\n",
    "\n",
    "\n",
    "\n",
    "\n",
    "\n",
    "\n",
    "# scrivi qui\n",
    "# my_tuole = (1, 3, 'pippo')\n",
    "# my_list = [1, 3, {'pippo': 1123}]\n",
    "# my_dict = {\n",
    "#      'key' : 'value',\n",
    "#      1: 'pippo',\n",
    "#      False: None,\n",
    "#      'lista': [1, 3, 4, 5, {3, 45}]\n",
    "\n",
    "\n",
    "# }\n",
    "\n",
    "# my_list[2]['pippo']\n"
   ]
  }
 ],
 "metadata": {
  "kernelspec": {
   "display_name": "Python 3",
   "language": "python",
   "name": "python3"
  },
  "language_info": {
   "codemirror_mode": {
    "name": "ipython",
    "version": 3
   },
   "file_extension": ".py",
   "mimetype": "text/x-python",
   "name": "python",
   "nbconvert_exporter": "python",
   "pygments_lexer": "ipython3",
   "version": "3.10.0"
  },
  "orig_nbformat": 4
 },
 "nbformat": 4,
 "nbformat_minor": 2
}
