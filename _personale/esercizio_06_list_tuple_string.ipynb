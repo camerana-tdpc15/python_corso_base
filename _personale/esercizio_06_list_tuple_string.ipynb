{
 "cells": [
  {
   "attachments": {},
   "cell_type": "markdown",
   "metadata": {},
   "source": [
    "## Esercizio - cannocchiale\n",
    "\n",
    "Requisiti: tuple, stringhe, liste\n",
    "\n",
    "Data una stringa `s`, scrivi del codice che mette in una variabile tupla `ordinata` tutti i caratteri di `s` ordinati\n",
    "\n",
    "Esempio - data:\n",
    "\n",
    "```python\n",
    "s = \"cannocchiale\"\n",
    "```\n",
    "\n",
    "Dopo il tuo codice deve risultare:\n",
    " \n",
    "```python\n",
    ">>> print(ordinata)\n",
    "('a', 'a', 'c', 'c', 'c', 'e', 'h', 'i', 'l', 'n', 'n', 'o')\n",
    "```"
   ]
  },
  {
   "cell_type": "code",
   "execution_count": 10,
   "metadata": {},
   "outputs": [
    {
     "data": {
      "text/plain": [
       "('a', 'a', 'c', 'c', 'c', 'e', 'h', 'i', 'l', 'n', 'n', 'o')"
      ]
     },
     "execution_count": 10,
     "metadata": {},
     "output_type": "execute_result"
    }
   ],
   "source": [
    "s = \"cannocchiale\"\n",
    "\n",
    "my_tuple = (1,3,'pippo')\n",
    "my_list = [1,3,{'pippo' : 1123}]\n",
    "my_dict = {\n",
    "    'key' : 'value',\n",
    "    1: 'pippo',\n",
    "    False: None,\n",
    "    'lista' : {1,3,4,5,(3,45)}\n",
    "\n",
    "}\n",
    "\n",
    "my_list[2]['pippo']\n",
    "\n",
    "\n",
    "#PRIMA SOLUZIONE\n",
    "\n",
    "# creare un contenitore vuoto\n",
    "\n",
    "lista_char = []\n",
    "\n",
    "# per ciascun carattere della stringa \n",
    "\n",
    "for char in s:\n",
    "\n",
    "    #aggiungo il carattere al contenitore\n",
    "\n",
    "    lista_char.append(char)\n",
    "\n",
    "# ordino la lista in modo alfabetico crescente \n",
    "    \n",
    "    lista_char.sort()\n",
    "\n",
    "# converto la lista ordinata in una tupla\n",
    "\n",
    "tuple(lista_char)\n",
    "\n",
    "\n"
   ]
  }
 ],
 "metadata": {
  "kernelspec": {
   "display_name": "Python 3",
   "language": "python",
   "name": "python3"
  },
  "language_info": {
   "codemirror_mode": {
    "name": "ipython",
    "version": 3
   },
   "file_extension": ".py",
   "mimetype": "text/x-python",
   "name": "python",
   "nbconvert_exporter": "python",
   "pygments_lexer": "ipython3",
   "version": "3.10.0"
  },
  "orig_nbformat": 4
 },
 "nbformat": 4,
 "nbformat_minor": 2
}
