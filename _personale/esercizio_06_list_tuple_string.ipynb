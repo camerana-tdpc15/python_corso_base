{
 "cells": [
  {
   "attachments": {},
   "cell_type": "markdown",
   "metadata": {},
   "source": [
    "## Esercizio - cannocchiale\n",
    "\n",
    "Requisiti: tuple, stringhe, liste\n",
    "\n",
    "Data una stringa `s`, scrivi del codice che mette in una variabile tupla `ordinata` tutti i caratteri di `s` ordinati\n",
    "\n",
    "Esempio - data:\n",
    "\n",
    "```python\n",
    "s = \"cannocchiale\"\n",
    "```\n",
    "\n",
    "Dopo il tuo codice deve risultare:\n",
    " \n",
    "```python\n",
    ">>> print(ordinata)\n",
    "('a', 'a', 'c', 'c', 'c', 'e', 'h', 'i', 'l', 'n', 'n', 'o')\n",
    "```"
   ]
  },
  {
   "cell_type": "code",
   "execution_count": 1,
   "metadata": {},
   "outputs": [
    {
     "name": "stdout",
     "output_type": "stream",
     "text": [
      "('a', 'a', 'c', 'c', 'c', 'e', 'h', 'i', 'l', 'n', 'n', 'o')\n"
     ]
    }
   ],
   "source": [
    "s = \"cannocchiale\"\n",
    "tupla_ordinata=tuple(sorted(s))\n",
    "print(tupla_ordinata)\n",
    "\n",
    "# scrivi qui\n"
   ]
  },
  {
   "cell_type": "code",
   "execution_count": 20,
   "metadata": {},
   "outputs": [
    {
     "name": "stdout",
     "output_type": "stream",
     "text": [
      "['e', 'e', 'e', 'e', 'e', 'e', 'e', 'e', 'e', 'e', 'e', 'e']\n"
     ]
    }
   ],
   "source": [
    "# crea un contenitore\n",
    "# per ciascun  carattere della str \n",
    "    # aggiungo il carattere al contenitore\n",
    "# ordino la lista in modo crescente (asc) ;o decrescente(des)\n",
    "# convertiamo la lista ordinata in una tupla\n",
    "\n",
    "s = \"cannocchiale\"\n",
    "lista_char = []\n",
    "# caratteri_unici = set()\n",
    "for char in s:\n",
    "    # caratteri_unici.add(carattere)\n",
    "    lista_char.append(carattere)\n",
    "list_ordinata =list(sorted(lista_char))\n",
    "print(list_ordinata)\n",
    "\n",
    "\n"
   ]
  },
  {
   "cell_type": "code",
   "execution_count": 26,
   "metadata": {},
   "outputs": [
    {
     "name": "stdout",
     "output_type": "stream",
     "text": [
      "('a', 'a', 'c', 'c', 'c', 'e', 'h', 'i', 'l', 'n', 'n', 'o')\n"
     ]
    }
   ],
   "source": [
    "# crea un contenitore\n",
    "# per ciascun  carattere della str \n",
    "    # aggiungo il carattere al contenitore\n",
    "# ordino la lista in modo crescente (asc) ;o decrescente(des)\n",
    "# convertiamo la lista ordinata in una tupla\n",
    "\n",
    "s = \"cannocchiale\"\n",
    "lista_char = []\n",
    "# caratteri_unici = set()\n",
    "for char in s:\n",
    "    # caratteri_unici.add(carattere)\n",
    "    lista_char.append(char)\n",
    "lista_char.sort()\n",
    "\n",
    "risultato = tuple(lista_char)\n",
    "print(risultato)"
   ]
  }
 ],
 "metadata": {
  "kernelspec": {
   "display_name": "Python 3",
   "language": "python",
   "name": "python3"
  },
  "language_info": {
   "codemirror_mode": {
    "name": "ipython",
    "version": 3
   },
   "file_extension": ".py",
   "mimetype": "text/x-python",
   "name": "python",
   "nbconvert_exporter": "python",
   "pygments_lexer": "ipython3",
   "version": "3.10.0"
  },
  "orig_nbformat": 4
 },
 "nbformat": 4,
 "nbformat_minor": 2
}
