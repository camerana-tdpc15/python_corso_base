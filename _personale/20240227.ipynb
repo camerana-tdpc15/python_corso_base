{
 "cells": [
  {
   "cell_type": "code",
   "execution_count": 1,
   "metadata": {},
   "outputs": [
    {
     "data": {
      "text/plain": [
       "1123"
      ]
     },
     "execution_count": 1,
     "metadata": {},
     "output_type": "execute_result"
    }
   ],
   "source": [
    "my_tuple = (1, 3, 'pippo')\n",
    "\n",
    "my_list = [1, 3, {'pippo':1123}]\n",
    "\n",
    "my_dict = {\n",
    "    'key': 'value',\n",
    "    1: 'pippo',\n",
    "    False: None,\n",
    "    'lista': [1, 3, 4, 5,(3, 45)]\n",
    "}\n",
    "\n",
    "my_list[2]['pippo']"
   ]
  }
 ],
 "metadata": {
  "kernelspec": {
   "display_name": "Python 3",
   "language": "python",
   "name": "python3"
  },
  "language_info": {
   "codemirror_mode": {
    "name": "ipython",
    "version": 3
   },
   "file_extension": ".py",
   "mimetype": "text/x-python",
   "name": "python",
   "nbconvert_exporter": "python",
   "pygments_lexer": "ipython3",
   "version": "3.10.0"
  }
 },
 "nbformat": 4,
 "nbformat_minor": 2
}
