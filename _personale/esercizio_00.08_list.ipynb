{
 "cells": [
  {
   "cell_type": "markdown",
   "metadata": {},
   "source": [
    "# Esercizi introduttivi"
   ]
  },
  {
   "cell_type": "markdown",
   "metadata": {},
   "source": [
    "TEMI TRATTATI:\n",
    "\n",
    "- Liste di elementi\n",
    "- Usare il ciclo for per scorrere una lista\n",
    "- Uso di funzioni e metodi per manipolare liste"
   ]
  },
  {
   "cell_type": "markdown",
   "metadata": {},
   "source": [
    "NOTE SULLO SVOLGIMENTO:\n",
    "- Puoi svolgere ed eseguire gli esercizi direttamente qua su questo notebook oppure su un normale file di script Python con estensione `.py`, eseguendolo nel terminale del sistema operativo con il comando `py mio_esercizio.py` (Windows) oppure `python3 mio_esercizio.py` (Linux o macOS)."
   ]
  },
  {
   "cell_type": "markdown",
   "metadata": {},
   "source": [
    "## Esercizio 1: Somma a segni alterni\n",
    "\n",
    "Scrivere un programma che riceva in input una sequenza di numeri interi, e che calcoli la somma alternata dei suoi elementi.\n",
    "\n",
    "Ad esempio, se il programma legge i dati `1 4 9 16 9 7 4 9 11`, deve calcolare\n",
    "\n",
    "1 – 4 + 9 – 16 + 9 – 7 + 4 – 9 + 11 = -2\n",
    "\n",
    "e visualizzare:\n",
    "\n",
    "`La somma alternata è: –2`"
   ]
  },
  {
   "cell_type": "code",
   "execution_count": 3,
   "metadata": {},
   "outputs": [
    {
     "name": "stdout",
     "output_type": "stream",
     "text": [
      "65 7 67 65 89 65 45 34 43 5 4 6 76\n",
      "La somma alternata è: 207\n"
     ]
    }
   ],
   "source": [
    "# Scrivi qua il tuo codice\n",
    "def somma_alternata(sequenza):\n",
    "    somma = 0\n",
    "    segno = 1  # Segno positivo\n",
    "    \n",
    "    # Cicla attraverso gli elementi della sequenza\n",
    "    for numero in sequenza:\n",
    "        # Aggiungi o sottrai il numero alla somma alternata in base al segno attuale\n",
    "        somma += segno * numero\n",
    "        # Cambia il segno per il prossimo numero\n",
    "        segno *= -1\n",
    "    \n",
    "    return somma\n",
    "\n",
    "# Input della sequenza di numeri interi dall'utente\n",
    "sequenza_input = input(\"Inserisci una sequenza di numeri interi separati da spazi: \")\n",
    "\n",
    "# Dividi la stringa di input in una lista di numeri interi\n",
    "sequenza_numeri = [int(numero) for numero in sequenza_input.split()]\n",
    "\n",
    "# Calcola la somma alternata della sequenza di numeri interi\n",
    "risultato = somma_alternata(sequenza_numeri)\n",
    "\n",
    "print(sequenza_input)\n",
    "# Visualizza il risultato\n",
    "print(\"La somma alternata è:\", risultato)\n"
   ]
  },
  {
   "cell_type": "code",
   "execution_count": 2,
   "metadata": {},
   "outputs": [
    {
     "name": "stdout",
     "output_type": "stream",
     "text": [
      "La somma alternata è: -85\n"
     ]
    }
   ],
   "source": [
    "def somma_alternata(sequenza):\n",
    "    # Inizializza la somma alternata\n",
    "    somma = 0\n",
    "    # Cicla attraverso gli elementi della sequenza\n",
    "    for i in range(len(sequenza)):\n",
    "        # Se l'indice è pari, aggiungi l'elemento alla somma\n",
    "        if i % 2 == 0:\n",
    "            somma += sequenza[i]\n",
    "        # Se l'indice è dispari, sottrai l'elemento alla somma\n",
    "        else:\n",
    "            somma -= sequenza[i]\n",
    "    return somma\n",
    "\n",
    "# Input della sequenza di numeri interi dall'utente\n",
    "input_string = input(\"Inserisci una sequenza di numeri interi separati da spazi: \")\n",
    "\n",
    "# Divide la stringa di input in una lista di numeri interi\n",
    "sequenza = [int(x) for x in input_string.split()]\n",
    "\n",
    "# Chiamata alla funzione somma_alternata per calcolare la somma alternata\n",
    "risultato = somma_alternata(sequenza)\n",
    "\n",
    "print(input_string)\n",
    "# Visualizza la somma alternata\n",
    "print(\"La somma alternata è:\", risultato)\n"
   ]
  },
  {
   "cell_type": "markdown",
   "metadata": {},
   "source": [
    "## Esercizio 2: Lista di numeri casuali\n",
    "\n",
    "Scrivere un programma che inizializzi una lista con dieci numeri interi casuali tra `1` e `100` e poi visualizzi, su quattro righe successive:\n",
    "\n",
    "- Tutti gli elementi di indice pari;\n",
    "- Tutti gli elementi di valore pari;\n",
    "- Tutti gli elementi in ordine inverso;\n",
    "- Il primo e l’ultimo elemento."
   ]
  },
  {
   "cell_type": "markdown",
   "metadata": {},
   "source": [
    "ESEMPIO DI OUTPUT ATTESO:\n",
    "\n",
    "```text\n",
    "Elementi in posizione pari: 49 45 32 10 62 \n",
    "Gli elementi pari sono: 70 36 32 98 10 62 56 \n",
    "In ordine inverso: 56 62 85 10 98 32 36 45 70 49 \n",
    "Primo e ultimo: 49 56\n",
    "```"
   ]
  },
  {
   "cell_type": "code",
   "execution_count": 16,
   "metadata": {},
   "outputs": [
    {
     "name": "stdout",
     "output_type": "stream",
     "text": [
      "Elementi di indice pari: [72, 2, 47, 14, 87]\n",
      "Elementi di valore pari: [72, 2, 14]\n",
      "Elementi in ordine inverso: [7, 87, 5, 14, 81, 47, 91, 2, 55, 72]\n",
      "Primo elemento: 72\n",
      "Ultimo elemento: 7\n"
     ]
    }
   ],
   "source": [
    "# Scrivi qua il tuo codice\n",
    "import random\n",
    "\n",
    "# Inizializzazione della lista con dieci numeri interi casuali tra 1 e 100\n",
    "lista_numeri = [random.randint(1, 100) for _ in range(10)]\n",
    "\n",
    "# Visualizzazione degli elementi di indice pari\n",
    "print(\"Elementi di indice pari:\", lista_numeri[::2])\n",
    "\n",
    "# Visualizzazione degli elementi di valore pari\n",
    "print(\"Elementi di valore pari:\", [x for x in lista_numeri if x % 2 == 0])\n",
    "\n",
    "# Visualizzazione degli elementi in ordine inverso\n",
    "print(\"Elementi in ordine inverso:\", lista_numeri[::-1])\n",
    "\n",
    "# Visualizzazione del primo e dell'ultimo elemento\n",
    "print(\"Primo elemento:\", lista_numeri[0])\n",
    "print(\"Ultimo elemento:\", lista_numeri[-1])\n"
   ]
  },
  {
   "cell_type": "markdown",
   "metadata": {},
   "source": [
    "## Esercizio 3: Rimuovere il valore minimo\n",
    "\n",
    "Scrivere una funzione `rimuovi_minimo(v)` che rimuova la prima occorrenza del valore minimo da una lista `v` senza usare la funzione `min()` né il metodo `remove()`.\n",
    "\n",
    "La funzione deve restituire una nuova lista, lasciando inalterata quella originale."
   ]
  },
  {
   "cell_type": "code",
   "execution_count": null,
   "metadata": {},
   "outputs": [],
   "source": [
    "# Scrivi qua il tuo codice\n"
   ]
  },
  {
   "cell_type": "markdown",
   "metadata": {},
   "source": [
    "## Esercizio 4: Gli stessi elementi\n",
    "\n",
    "Scrivere la funzione `same_set(list_a, list_b)` che verifichi se due liste contengono gli stessi elementi, indipendentemente dall’ordine e ignorando la presenza di duplicati. Ad esempio, le due liste `1 4 9 16 9 7 4 9 11` e `11 11 7 9 16 4 1` devono essere considerate uguali.\n",
    "\n",
    "La funzione non deve modificare le liste che sono state passate come parametri.\n"
   ]
  },
  {
   "cell_type": "code",
   "execution_count": 17,
   "metadata": {},
   "outputs": [
    {
     "name": "stdout",
     "output_type": "stream",
     "text": [
      "Lista originale: [3, 7, 2, 1, 9, 4, 5]\n",
      "Nuova lista senza il valore minimo: [3, 7, 2, 9, 4, 5]\n"
     ]
    }
   ],
   "source": [
    "# Scrivi qua il tuo codice\n",
    "def rimuovi_minimo(v):\n",
    "    # Se la lista è vuota, restituisci la stessa lista\n",
    "    if not v:\n",
    "        return v\n",
    "    \n",
    "    # Trova il valore minimo e il suo indice\n",
    "    min_val = v[0]\n",
    "    min_index = 0\n",
    "    for i in range(1, len(v)):\n",
    "        if v[i] < min_val:\n",
    "            min_val = v[i]\n",
    "            min_index = i\n",
    "    \n",
    "    # Crea una nuova lista escludendo il valore minimo\n",
    "    nuova_lista = v[:min_index] + v[min_index+1:]\n",
    "    \n",
    "    return nuova_lista\n",
    "\n",
    "# Esempio di utilizzo della funzione\n",
    "lista_originale = [3, 7, 2, 1, 9, 4, 5]\n",
    "nuova_lista = rimuovi_minimo(lista_originale)\n",
    "print(\"Lista originale:\", lista_originale)\n",
    "print(\"Nuova lista senza il valore minimo:\", nuova_lista)\n"
   ]
  },
  {
   "cell_type": "code",
   "execution_count": 18,
   "metadata": {},
   "outputs": [
    {
     "name": "stdout",
     "output_type": "stream",
     "text": [
      "Lista originale: [5, 2, 1, 4, 3]\n",
      "Nuova lista: [5, 2, 4, 3]\n"
     ]
    }
   ],
   "source": [
    "def rimuovi_minimo(v):\n",
    "  \"\"\"\n",
    "  Rimuove la prima occorrenza del valore minimo da una lista.\n",
    "\n",
    "  Args:\n",
    "      v: La lista da cui rimuovere il valore minimo.\n",
    "\n",
    "  Returns:\n",
    "      Una nuova lista con il valore minimo rimosso.\n",
    "  \"\"\"\n",
    "  minimo = v[0]\n",
    "  indice_minimo = 0\n",
    "  for i in range(1, len(v)):\n",
    "    if v[i] < minimo:\n",
    "      minimo = v[i]\n",
    "      indice_minimo = i\n",
    "  \n",
    "  # Crea una nuova lista con l'elemento minimo rimosso\n",
    "  nuova_lista = v[:]\n",
    "  nuova_lista.pop(indice_minimo)\n",
    "  return nuova_lista\n",
    "\n",
    "# Esempio di utilizzo\n",
    "lista = [5, 2, 1, 4, 3]\n",
    "nuova_lista = rimuovi_minimo(lista)\n",
    "print(f\"Lista originale: {lista}\")\n",
    "print(f\"Nuova lista: {nuova_lista}\")\n"
   ]
  },
  {
   "cell_type": "markdown",
   "metadata": {},
   "source": [
    "## Esercizio 5: Lista ordinata\n",
    "\n",
    "Scrivere un programma che generi una sequenza di 20 valori interi casuali compresi tra `0` e `99`, poi visualizzi la sequenza generata, la ordini e la visualizzi di nuovo, ordinata.\n",
    "\n",
    "Usate la funzione built-in `sort()`."
   ]
  },
  {
   "cell_type": "code",
   "execution_count": 7,
   "metadata": {},
   "outputs": [
    {
     "name": "stdout",
     "output_type": "stream",
     "text": [
      "Lista sequenza: [22, 27, 23, 18, 41, 82, 83, 80, 57, 67, 48, 83, 85, 42, 78, 53, 27, 55, 50, 73]\n",
      "None\n"
     ]
    }
   ],
   "source": [
    "# Scrivi qua il tuo codice\n",
    "import random\n",
    "\n",
    "# Inizializzazione della lista con venti numeri interi casuali tra 1 e 99\n",
    "lista_numeri = [random.randint(1, 99) for _ in range(20)]\n",
    "\n",
    "# Visualizzazione degli elementi di indice pari\n",
    "print(\"Lista sequenza:\", lista_numeri)\n",
    "\n",
    "lista_numeri.sort()\n",
    "print(lista_numeri)\n",
    "\n",
    "#print(lista_numeri.sort())    # così non funziona, perché?\n"
   ]
  },
  {
   "cell_type": "markdown",
   "metadata": {},
   "source": [
    "## Esercizio 6: Levigare gli errori\n",
    "\n",
    "Spesso i dati raccolti durante un esperimento vanno elaborati per rimuovere parte del rumore di misura.\n",
    "\n",
    "Uno tra gli approcci più semplici a questo problema prevede di sostituire, in una lista di valori, ciascun valore con la media tra il valore stesso e i due valori adiacenti. Se il valore in esame si trova a una delle due estremità della lista, la media sarà con l’unico valore adiacente.\n",
    "\n",
    "Per comprendere meglio a cosa possa servire tale operazione, ecco un esempio:\n",
    "\n",
    "![es_00.07_smooth.png](../imgs/es_00.07_smooth.png)\n",
    "\n",
    "Scrivere un programma che svolga tale operazione, creando una nuova lista.\n",
    "\n",
    "Poi prova senza creare una seconda lista, il che è un po' più compolicato perché bisogna evitare di calcolare la media usando i valore già precedentemente modificati."
   ]
  },
  {
   "cell_type": "code",
   "execution_count": null,
   "metadata": {},
   "outputs": [],
   "source": [
    "# Scrivi qua il tuo codice\n"
   ]
  },
  {
   "cell_type": "markdown",
   "metadata": {},
   "source": [
    "## Esercizio 7: Rotazione di una lista\n",
    "\n",
    "Scrivere lo pseudocodice per un algoritmo che, data una lista di lunghezza definita, sposta gli elementi \"in avanti\" di una posizione (incrementando quindi il loro indice di una unità), e sposta l’elemento all’ultima posizione nella prima posizione.\n",
    "\n",
    "Ad esempio, la lista `1 7 9 3 0 4`, dopo questa operazione, diventa la lista `4 1 7 9 3 0`.\n",
    "\n",
    "Scrivere poi un programma che implementi l’algoritmo così definito."
   ]
  },
  {
   "cell_type": "code",
   "execution_count": null,
   "metadata": {},
   "outputs": [],
   "source": [
    "# Scrivi qua il tuo codice\n",
    "\n"
   ]
  }
 ],
 "metadata": {
  "kernelspec": {
   "display_name": ".venv",
   "language": "python",
   "name": "python3"
  },
  "language_info": {
   "codemirror_mode": {
    "name": "ipython",
    "version": 3
   },
   "file_extension": ".py",
   "mimetype": "text/x-python",
   "name": "python",
   "nbconvert_exporter": "python",
   "pygments_lexer": "ipython3",
   "version": "3.12.1"
  }
 },
 "nbformat": 4,
 "nbformat_minor": 2
}
