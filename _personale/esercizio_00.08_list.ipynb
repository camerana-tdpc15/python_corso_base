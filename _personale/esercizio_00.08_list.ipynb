{
 "cells": [
  {
   "cell_type": "markdown",
   "metadata": {},
   "source": [
    "# Esercizi introduttivi"
   ]
  },
  {
   "cell_type": "markdown",
   "metadata": {},
   "source": [
    "TEMI TRATTATI:\n",
    "\n",
    "- Liste di elementi\n",
    "- Usare il ciclo for per scorrere una lista\n",
    "- Uso di funzioni e metodi per manipolare liste"
   ]
  },
  {
   "cell_type": "markdown",
   "metadata": {},
   "source": [
    "NOTE SULLO SVOLGIMENTO:\n",
    "- Puoi svolgere ed eseguire gli esercizi direttamente qua su questo notebook oppure su un normale file di script Python con estensione `.py`, eseguendolo nel terminale del sistema operativo con il comando `py mio_esercizio.py` (Windows) oppure `python3 mio_esercizio.py` (Linux o macOS)."
   ]
  },
  {
   "cell_type": "markdown",
   "metadata": {},
   "source": [
    "## Esercizio 1: Somma a segni alterni\n",
    "\n",
    "Scrivere un programma che riceva in input una sequenza di numeri interi, e che calcoli la somma alternata dei suoi elementi.\n",
    "\n",
    "Ad esempio, se il programma legge i dati `1 4 9 16 9 7 4 9 11`, deve calcolare\n",
    "\n",
    "1 – 4 + 9 – 16 + 9 – 7 + 4 – 9 + 11 = -2\n",
    "\n",
    "e visualizzare:\n",
    "\n",
    "`La somma alternata è: –2`"
   ]
  },
  {
   "cell_type": "code",
   "execution_count": 5,
   "metadata": {},
   "outputs": [
    {
     "name": "stdout",
     "output_type": "stream",
     "text": [
      "-2\n"
     ]
    }
   ],
   "source": [
    "# Scrivi qua il tuo codice\n",
    "\n",
    "dati = [1, 4, 9, 16, 9, 7, 4, 9, 11]\n",
    "\n",
    "cont = 1\n",
    "totale = 0\n",
    "\n",
    "for num in dati:\n",
    "    cont += 1\n",
    "    if cont % 2 != 0:\n",
    "        totale = totale - num\n",
    "    else:\n",
    "        totale = totale + num\n",
    "print(totale)\n",
    "\n",
    "\n",
    "\n"
   ]
  },
  {
   "cell_type": "markdown",
   "metadata": {},
   "source": [
    "## Esercizio 2: Lista di numeri casuali\n",
    "\n",
    "Scrivere un programma che inizializzi una lista con dieci numeri interi casuali tra `1` e `100` e poi visualizzi, su quattro righe successive:\n",
    "\n",
    "- Tutti gli elementi di indice pari;\n",
    "- Tutti gli elementi di valore pari;\n",
    "- Tutti gli elementi in ordine inverso;\n",
    "- Il primo e l’ultimo elemento."
   ]
  },
  {
   "cell_type": "markdown",
   "metadata": {},
   "source": [
    "ESEMPIO DI OUTPUT ATTESO:\n",
    "\n",
    "```text\n",
    "Elementi in posizione pari: 49 45 32 10 62 \n",
    "Gli elementi pari sono: 70 36 32 98 10 62 56 \n",
    "In ordine inverso: 56 62 85 10 98 32 36 45 70 49 \n",
    "Primo e ultimo: 49 56\n",
    "```"
   ]
  },
  {
   "cell_type": "code",
   "execution_count": 25,
   "metadata": {},
   "outputs": [
    {
     "name": "stdout",
     "output_type": "stream",
     "text": [
      "Lista di 10 numeri casuali da 1 a 100: 86 82 53 59 92 55 47 57 91 72 \n",
      "Elementi in posizione pari :86 53 92 47 91 \n",
      "Elementi pari :86 82 92 72 \n",
      "Elementi lista in ordine inverso :72 91 57 47 55 92 59 53 82 86 \n",
      "Primo e ultimo: 86 72\n"
     ]
    }
   ],
   "source": [
    "# Scrivi qua il tuo codice\n",
    "\n",
    "import random\n",
    "\n",
    "lista = []\n",
    "\n",
    "for num in range(10):\n",
    "    lista.append(random.randint(1,100))\n",
    "\n",
    "print(\"Lista di 10 numeri casuali da 1 a 100: \", end='')\n",
    "\n",
    "for num in lista:\n",
    "    print(num, end=' ' )\n",
    "\n",
    "print()\n",
    "\n",
    "print(\"Elementi in posizione pari :\", end='')\n",
    "elementi_lista = len(lista)\n",
    "pos = 0\n",
    "for num in range(elementi_lista):\n",
    "    if pos < elementi_lista:\n",
    "        print(lista[pos], end=' ' )\n",
    "        pos += 2\n",
    "\n",
    "print()\n",
    "\n",
    "print(\"Elementi pari :\", end='')\n",
    "for num in lista:\n",
    "    if num % 2 == 0:\n",
    "        print(num, end=' ' )\n",
    "\n",
    "print()\n",
    "\n",
    "print(\"Elementi lista in ordine inverso :\", end='')\n",
    "elementi_lista = len(lista)\n",
    "pos = elementi_lista -1\n",
    "for num in range(elementi_lista):\n",
    "    print(lista[pos], end=' ' )\n",
    "    pos -= 1\n",
    "\n",
    "\n",
    "print()\n",
    "\n",
    "print(f\"Primo e ultimo: {lista[0]} {lista[len(lista)-1]}\")\n",
    "\n",
    "\n",
    "\n",
    "\n",
    "\n"
   ]
  },
  {
   "cell_type": "markdown",
   "metadata": {},
   "source": [
    "## Esercizio 3: Rimuovere il valore minimo\n",
    "\n",
    "Scrivere una funzione `rimuovi_minimo(v)` che rimuova la prima occorrenza del valore minimo da una lista `v` senza usare la funzione `min()` né il metodo `remove()`.\n",
    "\n",
    "La funzione deve restituire una nuova lista, lasciando inalterata quella originale."
   ]
  },
  {
   "cell_type": "code",
   "execution_count": null,
   "metadata": {},
   "outputs": [],
   "source": [
    "# Scrivi qua il tuo codice\n"
   ]
  },
  {
   "cell_type": "markdown",
   "metadata": {},
   "source": [
    "## Esercizio 4: Gli stessi elementi\n",
    "\n",
    "Scrivere la funzione `same_set(list_a, list_b)` che verifichi se due liste contengono gli stessi elementi, indipendentemente dall’ordine e ignorando la presenza di duplicati. Ad esempio, le due liste `1 4 9 16 9 7 4 9 11` e `11 11 7 9 16 4 1` devono essere considerate uguali.\n",
    "\n",
    "La funzione non deve modificare le liste che sono state passate come parametri.\n"
   ]
  },
  {
   "cell_type": "code",
   "execution_count": null,
   "metadata": {},
   "outputs": [],
   "source": [
    "# Scrivi qua il tuo codice\n"
   ]
  },
  {
   "cell_type": "markdown",
   "metadata": {},
   "source": [
    "## Esercizio 5: Lista ordinata\n",
    "\n",
    "Scrivere un programma che generi una sequenza di 20 valori interi casuali compresi tra `0` e `99`, poi visualizzi la sequenza generata, la ordini e la visualizzi di nuovo, ordinata.\n",
    "\n",
    "Usate la funzione built-in `sort()`."
   ]
  },
  {
   "cell_type": "code",
   "execution_count": null,
   "metadata": {},
   "outputs": [],
   "source": [
    "# Scrivi qua il tuo codice\n"
   ]
  },
  {
   "cell_type": "markdown",
   "metadata": {},
   "source": [
    "## Esercizio 6: Levigare gli errori\n",
    "\n",
    "Spesso i dati raccolti durante un esperimento vanno elaborati per rimuovere parte del rumore di misura.\n",
    "\n",
    "Uno tra gli approcci più semplici a questo problema prevede di sostituire, in una lista di valori, ciascun valore con la media tra il valore stesso e i due valori adiacenti. Se il valore in esame si trova a una delle due estremità della lista, la media sarà con l’unico valore adiacente.\n",
    "\n",
    "Per comprendere meglio a cosa possa servire tale operazione, ecco un esempio:\n",
    "\n",
    "![es_00.07_smooth.png](../imgs/es_00.07_smooth.png)\n",
    "\n",
    "Scrivere un programma che svolga tale operazione, creando una nuova lista.\n",
    "\n",
    "Poi prova senza creare una seconda lista, il che è un po' più compolicato perché bisogna evitare di calcolare la media usando i valore già precedentemente modificati."
   ]
  },
  {
   "cell_type": "code",
   "execution_count": null,
   "metadata": {},
   "outputs": [],
   "source": [
    "# Scrivi qua il tuo codice\n"
   ]
  },
  {
   "cell_type": "markdown",
   "metadata": {},
   "source": [
    "## Esercizio 7: Rotazione di una lista\n",
    "\n",
    "Scrivere lo pseudocodice per un algoritmo che, data una lista di lunghezza definita, sposta gli elementi \"in avanti\" di una posizione (incrementando quindi il loro indice di una unità), e sposta l’elemento all’ultima posizione nella prima posizione.\n",
    "\n",
    "Ad esempio, la lista `1 7 9 3 0 4`, dopo questa operazione, diventa la lista `4 1 7 9 3 0`.\n",
    "\n",
    "Scrivere poi un programma che implementi l’algoritmo così definito."
   ]
  },
  {
   "cell_type": "code",
   "execution_count": null,
   "metadata": {},
   "outputs": [],
   "source": [
    "# Scrivi qua il tuo codice\n",
    "\n"
   ]
  }
 ],
 "metadata": {
  "kernelspec": {
   "display_name": ".venv",
   "language": "python",
   "name": "python3"
  },
  "language_info": {
   "codemirror_mode": {
    "name": "ipython",
    "version": 3
   },
   "file_extension": ".py",
   "mimetype": "text/x-python",
   "name": "python",
   "nbconvert_exporter": "python",
   "pygments_lexer": "ipython3",
   "version": "3.10.1"
  }
 },
 "nbformat": 4,
 "nbformat_minor": 2
}
