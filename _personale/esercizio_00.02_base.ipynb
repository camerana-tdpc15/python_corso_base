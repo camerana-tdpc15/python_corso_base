{
 "cells": [
  {
   "cell_type": "markdown",
   "metadata": {},
   "source": [
    "# Esercizi introduttivi"
   ]
  },
  {
   "cell_type": "markdown",
   "metadata": {},
   "source": [
    "TEMI TRATTATI:\n",
    "\n",
    "- Creazione ed esecuzione di semplici programmi (script).\n",
    "- Stampare a monitor."
   ]
  },
  {
   "cell_type": "markdown",
   "metadata": {},
   "source": [
    "NOTE SULLO SVOLGIMENTO:\n",
    "- Puoi svolgere ed eseguire gli esercizi direttamente qua su questo notebook oppure su un normale file di script Python con estensione `.py`, eseguendolo nel terminale del sistema operativo con il comando `py mio_esercizio.py` (Windows) oppure `python3 mio_esercizio.py` (Linux o macOS)."
   ]
  },
  {
   "cell_type": "markdown",
   "metadata": {},
   "source": [
    "## Esercizio 1: Stampare una somma\n",
    "\n",
    "Obiettivo: Scrivere un programma che stampi la somma dei primi 10 numeri interi positivi.\n",
    "\n",
    "```\n",
    "1 + 2 + ... + 10\n",
    "```\n",
    "\n",
    "Output atteso:\n",
    "\n",
    "```\n",
    "La somma dei primi 10 interi è pari a: ...\n",
    "```"
   ]
  },
  {
   "cell_type": "code",
   "execution_count": 88,
   "metadata": {},
   "outputs": [
    {
     "name": "stdout",
     "output_type": "stream",
     "text": [
      "[1, 3, 5, 7, 9]\n"
     ]
    }
   ],
   "source": [
    "# Scrivi qua il tuo codice\n",
    "\n",
    "# somma = 1+2+3+4+5+6+7+8+9+10\n",
    "\n",
    "# print(somma)\n",
    "\n",
    "# somma = sum(range(1,11))\n",
    "\n",
    "# print(somma)\n",
    "\n",
    "# somma = 0\n",
    "    \n",
    "# for i in range(11):\n",
    "#     somma += i \n",
    "\n",
    "# print(somma)\n",
    "\n",
    "# numeri = [1,2,3,4,5,6,7,8,9,10]\n",
    "# numeri = (1,2,3,4,5,6,7,8,9,10)\n",
    "\n",
    "# print(sum(numeri))\n",
    "\n",
    "print(list(tuple(range(1,11,2))))\n"
   ]
  },
  {
   "cell_type": "markdown",
   "metadata": {},
   "source": [
    "## Esercizio 2: Stampare un prodotto\n",
    "\n",
    "Obiettivo: Scrivere un programma che stampi il prodotto dei primi 10 numeri interi positivi.\n",
    "\n",
    "```\n",
    "1 * 2 * ... * 10\n",
    "```\n",
    "\n",
    "Output atteso:\n",
    "\n",
    "```\n",
    "Il prodotto dei primi 10 interi è pari a: ...\n",
    "```"
   ]
  },
  {
   "cell_type": "code",
   "execution_count": 89,
   "metadata": {},
   "outputs": [
    {
     "name": "stdout",
     "output_type": "stream",
     "text": [
      "3628800\n"
     ]
    }
   ],
   "source": [
    "# Scrivi qua il tuo codice\n",
    "prod = 1\n",
    "\n",
    "for n in range(1,11):\n",
    "    prod *= n\n",
    "print(prod)\n",
    "\n",
    "# n = 1*2*3*4*5*6*7*8*9*10\n",
    "\n",
    "# print(n)\n"
   ]
  },
  {
   "cell_type": "markdown",
   "metadata": {},
   "source": [
    "## Esercizio 3: Stampare una scritta con lettere grandi\n",
    "\n",
    "Obiettivo: Scrivere un programma che stampi una parola a propria scelta, con \"lettere grandi\". Questo genere di effetto può essere ottenuto tramite delle techiche che rientrano in quella che viene chiamata in gergo _**ASCII art**_ o _**computer text art**_.\n",
    "\n",
    "Puoi provare tu stesso a \"comporre\" una parola manualmente, oppure puoi usare un'applicazione apposita. Sul web ne potete trovare molte. Per esempio questa:\n",
    "\n",
    "[patorjk.com/software/taag](https://patorjk.com/software/taag/)\n",
    "\n",
    "> NOTA: Esistono anche implementazioni direttamente scritte in Python. Per esempio uno dei moduli più popolari è `art`:\n",
    "> \n",
    "> [pypi.org/project/art](https://pypi.org/project/art/)"
   ]
  },
  {
   "cell_type": "markdown",
   "metadata": {},
   "source": [
    "Usa la funzione `print` per stampare a monitor una parola a tua scelta.\n",
    "\n",
    "Ecco due esempi dell'output atteso:\n",
    "\n",
    "```text\n",
    " PPPPPP   Y     Y  TTTTTTT  H     H  OOOOOOO  N     N \n",
    " P     P    Y Y       T     H     H  O     O  N N   N \n",
    " PPPPPP      Y        T     HHHHHHH  O     O  N  N  N \n",
    " P           Y        T     H     H  O     O  N   N N \n",
    " P           Y        T     H     H  OOOOOOO  N     N \n",
    "\n",
    "\n",
    "########  ##    ## ######## ##     ##  #######  ##    ## \n",
    "##     ##  ##  ##     ##    ##     ## ##     ## ###   ## \n",
    "##     ##   ####      ##    ##     ## ##     ## ####  ## \n",
    "########     ##       ##    ######### ##     ## ## ## ## \n",
    "##           ##       ##    ##     ## ##     ## ##  #### \n",
    "##           ##       ##    ##     ## ##     ## ##   ### \n",
    "##           ##       ##    ##     ##  #######  ##    ## \n",
    "\n",
    "```"
   ]
  },
  {
   "cell_type": "code",
   "execution_count": 90,
   "metadata": {},
   "outputs": [
    {
     "name": "stdout",
     "output_type": "stream",
     "text": [
      "PPPPPP   Y     Y  TTTTTTT  H     H  OOOOOOO  N     N \n",
      "P     P    Y Y       T     H     H  O     O  N N   N \n",
      "PPPPPP      Y        T     HHHHHHH  O     O  N  N  N \n",
      "P           Y        T     H     H  O     O  N   N N \n",
      "P           Y        T     H     H  OOOOOOO  N     N \n",
      "########  ##    ## ######## ##     ##  #######  ##    ## \n",
      "##     ##  ##  ##     ##    ##     ## ##     ## ###   ## \n",
      "##     ##   ####      ##    ##     ## ##     ## ####  ## \n",
      "########     ##       ##    ######### ##     ## ## ## ## \n",
      "##           ##       ##    ##     ## ##     ## ##  #### \n",
      "##           ##       ##    ##     ## ##     ## ##   ### \n",
      "##           ##       ##    ##     ##  #######  ##    ## \n"
     ]
    }
   ],
   "source": [
    "# Scrivi qua il tuo codice\n",
    "print('PPPPPP   Y     Y  TTTTTTT  H     H  OOOOOOO  N     N ')\n",
    "print('P     P    Y Y       T     H     H  O     O  N N   N ')\n",
    "print('PPPPPP      Y        T     HHHHHHH  O     O  N  N  N ')\n",
    "print('P           Y        T     H     H  O     O  N   N N ')\n",
    "print('P           Y        T     H     H  OOOOOOO  N     N ')\n",
    "\n",
    "\n",
    "print('########  ##    ## ######## ##     ##  #######  ##    ## ')\n",
    "print('##     ##  ##  ##     ##    ##     ## ##     ## ###   ## ')\n",
    "print('##     ##   ####      ##    ##     ## ##     ## ####  ## ')\n",
    "print('########     ##       ##    ######### ##     ## ## ## ## ')\n",
    "print('##           ##       ##    ##     ## ##     ## ##  #### ')\n",
    "print('##           ##       ##    ##     ## ##     ## ##   ### ') \n",
    "print('##           ##       ##    ##     ##  #######  ##    ## ')"
   ]
  },
  {
   "cell_type": "markdown",
   "metadata": {},
   "source": [
    "## Esercizio 4: Fare lo *spelling*\n",
    "\n",
    "Obiettivo: Scrivere un programma che stampi il vostro nome, in colonna.\n",
    "\n",
    "Esempio di output atteso:\n",
    "\n",
    "```text\n",
    "G\n",
    "U\n",
    "I\n",
    "D\n",
    "O\n",
    "```"
   ]
  },
  {
   "cell_type": "code",
   "execution_count": 91,
   "metadata": {},
   "outputs": [
    {
     "name": "stdout",
     "output_type": "stream",
     "text": [
      "G\n",
      "U\n",
      "I\n",
      "D\n",
      "O\n"
     ]
    }
   ],
   "source": [
    "# Scrivi qua il tuo codice\n",
    "\n",
    "frase = 'GUIDO'\n",
    "\n",
    "for i in frase:\n",
    "    print(i)"
   ]
  },
  {
   "cell_type": "markdown",
   "metadata": {},
   "source": [
    "## Esercizio 5: Conto bancario\n",
    "\n",
    "Obiettivo: Scrivere un programma che calcoli il saldo di un conto bancario dopo il primo, secondo e terzo anno. Il conto ha un saldo iniziale di 1000 euro e vi vengono accreditati interessi annuali al 5%.\n",
    "\n",
    "Il programma deve stampare il saldo iniziale, e poi il saldo al termine di ciascun anno, fino al terzo.\n",
    "\n",
    "Output atteso:\n",
    "\n",
    "```text\n",
    "Il saldo iniziale è: ...\n",
    "Dopo l'anno 1 il saldo è: ...\n",
    "Dopo l'anno 2 il saldo è: ...\n",
    "Dopo l'anno 3 il saldo è: ...\n",
    "```"
   ]
  },
  {
   "cell_type": "code",
   "execution_count": 122,
   "metadata": {},
   "outputs": [
    {
     "name": "stdout",
     "output_type": "stream",
     "text": [
      "Il saldo iniziale è: 1000\n",
      "Dopo l'anno 1 il saldo è:  1050.0000000\n",
      "Dopo l'anno 2 il saldo è:  1102.5000000\n",
      "Dopo l'anno 3 il saldo è:  1157.6250000\n",
      "Dopo l'anno 4 il saldo è:  1215.5062500\n",
      "Dopo l'anno 5 il saldo è:  1276.2815625\n",
      "Dopo l'anno 6 il saldo è:  1340.0956406\n",
      "Dopo l'anno 7 il saldo è:  1407.1004227\n",
      "Dopo l'anno 8 il saldo è:  1477.4554438\n",
      "Dopo l'anno 9 il saldo è:  1551.3282160\n",
      "Dopo l'anno 10 il saldo è:  1628.8946268\n",
      "Dopo l'anno 11 il saldo è:  1710.3393581\n",
      "Dopo l'anno 12 il saldo è:  1795.8563260\n",
      "Dopo l'anno 13 il saldo è:  1885.6491423\n",
      "Dopo l'anno 14 il saldo è:  1979.9315994\n",
      "Dopo l'anno 15 il saldo è:  2078.9281794\n",
      "Dopo l'anno 16 il saldo è:  2182.8745884\n",
      "Dopo l'anno 17 il saldo è:  2292.0183178\n",
      "Dopo l'anno 18 il saldo è:  2406.6192337\n",
      "Dopo l'anno 19 il saldo è:  2526.9501954\n",
      "Dopo l'anno 20 il saldo è:  2653.2977051\n",
      "Dopo l'anno 21 il saldo è:  2785.9625904\n",
      "Dopo l'anno 22 il saldo è:  2925.2607199\n",
      "Dopo l'anno 23 il saldo è:  3071.5237559\n",
      "Dopo l'anno 24 il saldo è:  3225.0999437\n",
      "Dopo l'anno 25 il saldo è:  3386.3549409\n",
      "Dopo l'anno 26 il saldo è:  3555.6726879\n",
      "Dopo l'anno 27 il saldo è:  3733.4563223\n",
      "Dopo l'anno 28 il saldo è:  3920.1291385\n",
      "Dopo l'anno 29 il saldo è:  4116.1355954\n",
      "Dopo l'anno 30 il saldo è:  4321.9423752\n",
      "Dopo l'anno 31 il saldo è:  4538.0394939\n",
      "Dopo l'anno 32 il saldo è:  4764.9414686\n",
      "Dopo l'anno 33 il saldo è:  5003.1885420\n"
     ]
    }
   ],
   "source": [
    "# Scrivi qua il tuo codice\n",
    "\n",
    "# s_iniz = 1000\n",
    "\n",
    "# print('Il saldo iniziale è:', s_iniz)\n",
    "\n",
    "# print('L\\'interesse maturato è:', (s_iniz * 5) / 100)\n",
    "\n",
    "# s_iniz1 = ((s_iniz * 5) / 100) + s_iniz\n",
    "# print('Dopo l\\'anno 1 il saldo è:', float(s_iniz1))\n",
    "# print('L\\'interesse maturato è:', (s_iniz1 * 5) / 100)\n",
    "\n",
    "# s_iniz2 = ((s_iniz1 * 5) / 100) + s_iniz1\n",
    "# print('Dopo l\\'anno 2 il saldo è:', float(s_iniz2))\n",
    "# print('L\\'interesse maturato è:', (s_iniz2 * 5) / 100) \n",
    "\n",
    "# s_iniz3 = ((s_iniz2 * 5) / 100) + s_iniz2\n",
    "# print('Dopo l\\'anno 3 il saldo è:', float(s_iniz3))\n",
    "# print('L\\'interesse maturato è:', (s_iniz3 * 5) / 100)\n",
    "\n",
    "\n",
    "\n",
    "saldo_iniz = 1000\n",
    "\n",
    "interesse = 1.05\n",
    "\n",
    "saldi= []\n",
    "\n",
    "saldo_corr = saldo_iniz\n",
    "\n",
    "print(f'Il saldo iniziale è: {saldo_iniz}') \n",
    "\n",
    "anni = int(input('Inserire numero di anni'))\n",
    "\n",
    "appross = int(input('Inserire cifre desiderate dopo la virgola'))\n",
    "\n",
    "for idx in range(anni):\n",
    "    saldo_corr = interesse * saldo_corr\n",
    "    saldi.append(saldo_corr)\n",
    "    #print(f'Dopo l\\'anno {idx + 1} il saldo è:', saldi[idx])    \n",
    "    print(f'Dopo l\\'anno {idx + 1} il saldo è: {saldo_corr: .{appross}f}')    "
   ]
  },
  {
   "cell_type": "markdown",
   "metadata": {},
   "source": [
    "## Esercizio 6: Testo incorniciato\n",
    "\n",
    "Obiettivo: Scrivere un programma che stampi il vostro nome all’interno di un rettangolo, utilizzando i caratteri: `|`, `-` e `+`.\n",
    "\n",
    "Esempio di output atteso:\n",
    "\n",
    "```text\n",
    " +--------+\n",
    " | Graham |\n",
    " +--------+\n",
    "```"
   ]
  },
  {
   "cell_type": "code",
   "execution_count": null,
   "metadata": {},
   "outputs": [
    {
     "name": "stdout",
     "output_type": "stream",
     "text": [
      "\n",
      " +--------+\n",
      " |  Fabio |\n",
      " +--------+\n",
      "\n"
     ]
    }
   ],
   "source": [
    "# Scrivi qua il tuo codice\n",
    "\n",
    "print('''\n",
    " +--------+\n",
    " |  Fabio |\n",
    " +--------+\n",
    "''')"
   ]
  },
  {
   "cell_type": "markdown",
   "metadata": {},
   "source": [
    "## Esercizio 7: Scacchiera 5x5\n",
    "\n",
    "Obiettivo: Scrivere un programma che stampi una \"scacchiera\" di dimensioni 5x5 in cui le caselle bianche sono rappresentate da `0`, e le caselle nere da `1`.\n",
    "\n",
    "Output atteso:\n",
    "\n",
    "```text\n",
    "0 1 0 1 0\n",
    "1 0 1 0 1\n",
    "0 1 0 1 0\n",
    "1 0 1 0 1\n",
    "0 1 0 1 0\n",
    "```"
   ]
  },
  {
   "cell_type": "code",
   "execution_count": 15,
   "metadata": {},
   "outputs": [
    {
     "name": "stdout",
     "output_type": "stream",
     "text": [
      "0 1 0 1 0\n",
      "1 0 1 0 1\n",
      "0 1 0 1 0\n",
      "1 0 1 0 1\n",
      "0 1 0 1 0\n"
     ]
    }
   ],
   "source": [
    "# Scrivi qua il tuo codice\n",
    "\n",
    "# print('''0 1 0 1 0\n",
    "# 1 0 1 0 1\n",
    "# 0 1 0 1 0\n",
    "# 1 0 1 0 1\n",
    "# 0 1 0 1 0''')\n",
    "\n",
    "riga_pari = '1 0 1 0 1'\n",
    "riga_dispari = '0 1 0 1 0'\n",
    "\n",
    "toggle = False\n",
    "\n",
    "for i in range(5):\n",
    "    if toggle:\n",
    "        print(riga_pari)\n",
    "        toggle = False\n",
    "    else:\n",
    "        print(riga_dispari)\n",
    "        toggle = True    \n"
   ]
  },
  {
   "cell_type": "markdown",
   "metadata": {},
   "source": [
    "## Esercizio 8: Una lunga linea\n",
    "\n",
    "Obiettivo: Scrivere un programma che stampi una linea composta da 100 trattini `-`.\n",
    "\n",
    "Output atteso:\n",
    "\n",
    "```text\n",
    "--------------------------------... tot. 100 trattini\n",
    "```"
   ]
  },
  {
   "cell_type": "code",
   "execution_count": null,
   "metadata": {},
   "outputs": [
    {
     "name": "stdout",
     "output_type": "stream",
     "text": [
      "----------------------------------------------------------------------------------------------------\n"
     ]
    }
   ],
   "source": [
    "# Scrivi qua il tuo codice\n",
    "print('-' * 100)"
   ]
  },
  {
   "cell_type": "markdown",
   "metadata": {},
   "source": [
    "## Esercizio 9: Tanti zeri\n",
    "\n",
    "Obiettivo: Scrivere un programma che stampi una sequenza di cifre composta da 100 zeri (`0`).\n",
    "\n",
    "Output atteso:\n",
    "\n",
    "```text\n",
    "00000000000000000000000000000000... tot. 100 zeri\n",
    "```"
   ]
  },
  {
   "cell_type": "code",
   "execution_count": 130,
   "metadata": {},
   "outputs": [
    {
     "name": "stdout",
     "output_type": "stream",
     "text": [
      "0000000000000000000000000000000000000000000000000000000000000000000000000000000000000000000000000000\n"
     ]
    }
   ],
   "source": [
    "# Scrivi qua il tuo codice\n",
    "print('0' * 100)"
   ]
  }
 ],
 "metadata": {
  "kernelspec": {
   "display_name": ".venv",
   "language": "python",
   "name": "python3"
  },
  "language_info": {
   "codemirror_mode": {
    "name": "ipython",
    "version": 3
   },
   "file_extension": ".py",
   "mimetype": "text/x-python",
   "name": "python",
   "nbconvert_exporter": "python",
   "pygments_lexer": "ipython3",
   "version": "3.12.2"
  }
 },
 "nbformat": 4,
 "nbformat_minor": 2
}
