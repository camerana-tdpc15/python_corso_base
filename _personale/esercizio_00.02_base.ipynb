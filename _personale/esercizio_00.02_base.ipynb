{
 "cells": [
  {
   "cell_type": "markdown",
   "metadata": {},
   "source": [
    "# Esercizi introduttivi"
   ]
  },
  {
   "cell_type": "markdown",
   "metadata": {},
   "source": [
    "TEMI TRATTATI:\n",
    "\n",
    "- Creazione ed esecuzione di semplici programmi (script).\n",
    "- Stampare a monitor."
   ]
  },
  {
   "cell_type": "markdown",
   "metadata": {},
   "source": [
    "NOTE SULLO SVOLGIMENTO:\n",
    "- Puoi svolgere ed eseguire gli esercizi direttamente qua su questo notebook oppure su un normale file di script Python con estensione `.py`, eseguendolo nel terminale del sistema operativo con il comando `py mio_esercizio.py` (Windows) oppure `python3 mio_esercizio.py` (Linux o macOS)."
   ]
  },
  {
   "cell_type": "markdown",
   "metadata": {},
   "source": [
    "## Esercizio 1: Stampare una somma\n",
    "\n",
    "Obiettivo: Scrivere un programma che stampi la somma dei primi 10 numeri interi positivi.\n",
    "\n",
    "```\n",
    "1 + 2 + ... + 10\n",
    "```\n",
    "\n",
    "Output atteso:\n",
    "\n",
    "```\n",
    "La somma dei primi 10 interi è pari a: ...\n",
    "```"
   ]
  },
  {
   "cell_type": "code",
   "execution_count": 5,
   "metadata": {},
   "outputs": [
    {
     "name": "stdout",
     "output_type": "stream",
     "text": [
      "[1, 2, 3, 4, 5, 6, 7, 8, 9, 10]\n",
      "La somma dei primi 10 interi è pari a:  55\n"
     ]
    }
   ],
   "source": [
    "# Scrivi qua il tuo codice\n",
    "somma = 0       # variabile contatore deve essere creata fuori dal ciclo per poterla incrementare\n",
    "for n in range(1, 11):      # lo stop del range avviene sempre un numero prima\n",
    "    # somma = somma + n equivalente alla riga sottostante\n",
    "    somma += n\n",
    "print(list(range(1, 11)))               # il range è un oggetto, posso usarla per creare liste di numeri\n",
    "print('La somma dei primi 10 interi è pari a: ', somma)\n"
   ]
  },
  {
   "cell_type": "code",
   "execution_count": 3,
   "metadata": {},
   "outputs": [
    {
     "name": "stdout",
     "output_type": "stream",
     "text": [
      "La somma dei primi 10 interi è pari a:  55\n"
     ]
    }
   ],
   "source": [
    "# altro modo\n",
    "numeri = [1, 2, 3, 4, 5, 6, 7, 8, 9, 10]\n",
    "# numeri = (1, 2, 3, 4, 5, 6, 7, 8, 9, 10)  posso anche usare una tupla, che tendenzialmente è più veloce all'accesso\n",
    "\n",
    "somma = sum(numeri)\n",
    "\n",
    "print('La somma dei primi 10 interi è pari a: ', somma)\n"
   ]
  },
  {
   "cell_type": "code",
   "execution_count": null,
   "metadata": {},
   "outputs": [],
   "source": []
  },
  {
   "cell_type": "markdown",
   "metadata": {},
   "source": [
    "## Esercizio 2: Stampare un prodotto\n",
    "\n",
    "Obiettivo: Scrivere un programma che stampi il prodotto dei primi 10 numeri interi positivi.\n",
    "\n",
    "```\n",
    "1 * 2 * ... * 10\n",
    "```\n",
    "\n",
    "Output atteso:\n",
    "\n",
    "```\n",
    "Il prodotto dei primi 10 interi è pari a: ...\n",
    "```"
   ]
  },
  {
   "cell_type": "code",
   "execution_count": 6,
   "metadata": {},
   "outputs": [
    {
     "name": "stdout",
     "output_type": "stream",
     "text": [
      "Il prodotto dei primi 10 interi è pari a:  3628800\n"
     ]
    }
   ],
   "source": [
    "# Scrivi qua il tuo codice\n",
    "prodotto = 1\n",
    "\n",
    "for n in range(1, 11):\n",
    "    prodotto *= n\n",
    "\n",
    "print('Il prodotto dei primi 10 interi è pari a: ', prodotto)\n"
   ]
  },
  {
   "cell_type": "markdown",
   "metadata": {},
   "source": [
    "## Esercizio 3: Stampare una scritta con lettere grandi\n",
    "\n",
    "Obiettivo: Scrivere un programma che stampi una parola a propria scelta, con \"lettere grandi\". Questo genere di effetto può essere ottenuto tramite delle techiche che rientrano in quella che viene chiamata in gergo _**ASCII art**_ o _**computer text art**_.\n",
    "\n",
    "Puoi provare tu stesso a \"comporre\" una parola manualmente, oppure puoi usare un'applicazione apposita. Sul web ne potete trovare molte. Per esempio questa:\n",
    "\n",
    "[patorjk.com/software/taag](https://patorjk.com/software/taag/)\n",
    "\n",
    "> NOTA: Esistono anche implementazioni direttamente scritte in Python. Per esempio uno dei moduli più popolari è `art`:\n",
    "> \n",
    "> [pypi.org/project/art](https://pypi.org/project/art/)"
   ]
  },
  {
   "cell_type": "markdown",
   "metadata": {},
   "source": [
    "Usa la funzione `print` per stampare a monitor una parola a tua scelta.\n",
    "\n",
    "Ecco due esempi dell'output atteso:\n",
    "\n",
    "```text\n",
    " PPPPPP   Y     Y  TTTTTTT  H     H  OOOOOOO  N     N \n",
    " P     P    Y Y       T     H     H  O     O  N N   N \n",
    " PPPPPP      Y        T     HHHHHHH  O     O  N  N  N \n",
    " P           Y        T     H     H  O     O  N   N N \n",
    " P           Y        T     H     H  OOOOOOO  N     N \n",
    "\n",
    "\n",
    "########  ##    ## ######## ##     ##  #######  ##    ## \n",
    "##     ##  ##  ##     ##    ##     ## ##     ## ###   ## \n",
    "##     ##   ####      ##    ##     ## ##     ## ####  ## \n",
    "########     ##       ##    ######### ##     ## ## ## ## \n",
    "##           ##       ##    ##     ## ##     ## ##  #### \n",
    "##           ##       ##    ##     ## ##     ## ##   ### \n",
    "##           ##       ##    ##     ##  #######  ##    ## \n",
    "\n",
    "```"
   ]
  },
  {
   "cell_type": "code",
   "execution_count": 4,
   "metadata": {},
   "outputs": [
    {
     "name": "stdout",
     "output_type": "stream",
     "text": [
      "\n",
      "    _    ____   ____ ___ ___      _         _        _             _     _           \n",
      "   / \\  / ___| / ___|_ _|_ _|    / \\   _ __| |_     / \\   _ __ ___| |__ (_)_   _____ \n",
      "  / _ \\ \\___ \\| |    | | | |    / _ \\ | '__| __|   / _ \\ | '__/ __| '_ \\| \\ \\ / / _ \\\n",
      " / ___ \\ ___) | |___ | | | |   / ___ \\| |  | |_   / ___ \\| | | (__| | | | |\\ V /  __/\n",
      "/_/   \\_\\____/ \\____|___|___| /_/   \\_\\_|   \\__| /_/   \\_\\_|  \\___|_| |_|_| \\_/ \\___|\n",
      "\n"
     ]
    }
   ],
   "source": [
    "# Scrivi qua il tuo codice\n",
    "print(\n",
    "'''\n",
    "    _    ____   ____ ___ ___      _         _        _             _     _           \n",
    "   / \\  / ___| / ___|_ _|_ _|    / \\   _ __| |_     / \\   _ __ ___| |__ (_)_   _____ \n",
    "  / _ \\ \\___ \\| |    | | | |    / _ \\ | '__| __|   / _ \\ | '__/ __| '_ \\| \\ \\ / / _ \\\\\n",
    " / ___ \\ ___) | |___ | | | |   / ___ \\| |  | |_   / ___ \\| | | (__| | | | |\\ V /  __/\n",
    "/_/   \\_\\____/ \\____|___|___| /_/   \\_\\_|   \\__| /_/   \\_\\_|  \\___|_| |_|_| \\_/ \\___|\n",
    "''')"
   ]
  },
  {
   "cell_type": "markdown",
   "metadata": {},
   "source": [
    "## Esercizio 4: Fare lo *spelling*\n",
    "\n",
    "Obiettivo: Scrivere un programma che stampi il vostro nome, in colonna.\n",
    "\n",
    "Esempio di output atteso:\n",
    "\n",
    "```text\n",
    "G\n",
    "U\n",
    "I\n",
    "D\n",
    "O\n",
    "```"
   ]
  },
  {
   "cell_type": "code",
   "execution_count": 8,
   "metadata": {},
   "outputs": [
    {
     "name": "stdout",
     "output_type": "stream",
     "text": [
      "M\n",
      "a\n",
      "s\n",
      "s\n",
      "i\n",
      "m\n",
      "o\n"
     ]
    }
   ],
   "source": [
    "# Scrivi qua il tuo codice\n",
    "nome= input('Inserisci il nome; ')\n",
    "\n",
    "for lettera in nome:\n",
    "    print(lettera)"
   ]
  },
  {
   "cell_type": "code",
   "execution_count": 10,
   "metadata": {},
   "outputs": [
    {
     "name": "stdout",
     "output_type": "stream",
     "text": [
      "M\n",
      "a\n",
      "s\n",
      "s\n",
      "i\n",
      "m\n",
      "o\n"
     ]
    }
   ],
   "source": [
    "nome= input('Inserisci il nome; ')      # qualunque sequenza\n",
    "print(*nome, sep='\\n')                  # decompongo la stringa e passo ciascuna lettera come un argomento separato UNPACKING\n"
   ]
  },
  {
   "cell_type": "code",
   "execution_count": 24,
   "metadata": {},
   "outputs": [
    {
     "data": {
      "text/plain": [
       "'ss'"
      ]
     },
     "execution_count": 24,
     "metadata": {},
     "output_type": "execute_result"
    }
   ],
   "source": [
    "'massimo'[2:4] # slicedal terzo al quarto carattere"
   ]
  },
  {
   "cell_type": "code",
   "execution_count": 25,
   "metadata": {},
   "outputs": [
    {
     "data": {
      "text/plain": [
       "'civiiv'"
      ]
     },
     "execution_count": 25,
     "metadata": {},
     "output_type": "execute_result"
    }
   ],
   "source": [
    "'precipitevolissimevolmente'[3:20:3] # slice dal quarto al 20 carattere saltando ogni 3"
   ]
  },
  {
   "cell_type": "markdown",
   "metadata": {},
   "source": [
    "## Esercizio 5: Conto bancario\n",
    "\n",
    "Obiettivo: Scrivere un programma che calcoli il saldo di un conto bancario dopo il primo, secondo e terzo anno. Il conto ha un saldo iniziale di 1000 euro e vi vengono accreditati interessi annuali al 5%.\n",
    "\n",
    "Il programma deve stampare il saldo iniziale, e poi il saldo al termine di ciascun anno, fino al terzo.\n",
    "\n",
    "Output atteso:\n",
    "\n",
    "```text\n",
    "Il saldo iniziale è: ...\n",
    "Dopo l'anno 1 il saldo è: ...\n",
    "Dopo l'anno 2 il saldo è: ...\n",
    "Dopo l'anno 3 il saldo è: ...\n",
    "```"
   ]
  },
  {
   "cell_type": "code",
   "execution_count": 16,
   "metadata": {},
   "outputs": [
    {
     "name": "stdout",
     "output_type": "stream",
     "text": [
      "Il saldo iniziale è:  5000 €\n",
      "Il saldo il primo anno è:  5250.0 €\n",
      "Il saldo il secondo anno è:  5512.5 €\n",
      "Il saldo il terzo anno è:  5788.125 €\n"
     ]
    }
   ],
   "source": [
    "# Scrivi qua il tuo codice\n",
    "\n",
    "saldo_iniz = int(input('Inserisci il saldo iniziale del conto: '))\n",
    "INTERESSE = 1.05\n",
    "saldo_anno1 = saldo_iniz * INTERESSE\n",
    "saldo_anno2 = saldo_anno1 * INTERESSE\n",
    "saldo_anno3 = saldo_anno2 * INTERESSE\n",
    "\n",
    "print('Il saldo iniziale è:', saldo_iniz,'€')\n",
    "print('Il saldo il primo anno è:',saldo_anno1,'€')\n",
    "print('Il saldo il secondo anno è:',saldo_anno2,'€')\n",
    "print('Il saldo il terzo anno è:',saldo_anno3,'€')\n"
   ]
  },
  {
   "cell_type": "code",
   "execution_count": 30,
   "metadata": {},
   "outputs": [
    {
     "name": "stdout",
     "output_type": "stream",
     "text": [
      "Il saldo iniziale è:  1000 €\n",
      "Il saldo il primo anno è:  1050.0 €\n",
      "Il saldo il secondo anno è:  1102.5 €\n",
      "Il saldo il terzo anno è:  1157.625 €\n"
     ]
    }
   ],
   "source": [
    "INTERESSE = 1.05\n",
    "saldo_init = 1000\n",
    "saldi = []\n",
    "saldo_corrente = saldo_init\n",
    "\n",
    "for idx in range(3):\n",
    "    saldo_corrente = saldo_corrente * INTERESSE\n",
    "    saldi.append(saldo_corrente)\n",
    "\n",
    "print('Il saldo iniziale è:', saldo_init,'€')\n",
    "print('Il saldo il primo anno è:',saldi[0],'€')\n",
    "print('Il saldo il secondo anno è:',saldi[1],'€')\n",
    "print('Il saldo il terzo anno è:',saldi[2],'€')\n"
   ]
  },
  {
   "cell_type": "code",
   "execution_count": 36,
   "metadata": {},
   "outputs": [
    {
     "name": "stdout",
     "output_type": "stream",
     "text": [
      "Il saldo iniziale è: 1000 €\n",
      "Dopo l'anno 1 il saldo è: 1050.00 €\n",
      "Dopo l'anno 2 il saldo è: 1102.50 €\n",
      "Dopo l'anno 3 il saldo è: 1157.62 €\n",
      "Dopo l'anno 4 il saldo è: 1215.51 €\n",
      "Dopo l'anno 5 il saldo è: 1276.28 €\n",
      "Dopo l'anno 6 il saldo è: 1340.10 €\n",
      "Dopo l'anno 7 il saldo è: 1407.10 €\n",
      "Dopo l'anno 8 il saldo è: 1477.46 €\n",
      "Dopo l'anno 9 il saldo è: 1551.33 €\n",
      "Dopo l'anno 10 il saldo è: 1628.89 €\n",
      "Dopo l'anno 11 il saldo è: 1710.34 €\n",
      "Dopo l'anno 12 il saldo è: 1795.86 €\n",
      "Dopo l'anno 13 il saldo è: 1885.65 €\n",
      "Dopo l'anno 14 il saldo è: 1979.93 €\n",
      "Dopo l'anno 15 il saldo è: 2078.93 €\n",
      "Dopo l'anno 16 il saldo è: 2182.87 €\n",
      "Dopo l'anno 17 il saldo è: 2292.02 €\n",
      "Dopo l'anno 18 il saldo è: 2406.62 €\n",
      "Dopo l'anno 19 il saldo è: 2526.95 €\n",
      "Dopo l'anno 20 il saldo è: 2653.30 €\n",
      "Dopo l'anno 21 il saldo è: 2785.96 €\n",
      "Dopo l'anno 22 il saldo è: 2925.26 €\n",
      "Dopo l'anno 23 il saldo è: 3071.52 €\n",
      "Dopo l'anno 24 il saldo è: 3225.10 €\n",
      "Dopo l'anno 25 il saldo è: 3386.35 €\n"
     ]
    }
   ],
   "source": [
    "INTERESSE = 1.05\n",
    "anni = int(input('Inserire il numero di anni:'))\n",
    "dec_pos = int(input('Inserisci il numero di cifre decimali'))\n",
    "saldo_init = 1000\n",
    "saldo_corrente = saldo_init\n",
    "print('Il saldo iniziale è:', saldo_init,'€')\n",
    "\n",
    "for idx in range(anni):\n",
    "    saldo_corrente = saldo_corrente * INTERESSE\n",
    "    print(f\"Dopo l'anno {idx+1} il saldo è: {saldo_corrente:.{dec_pos}f} €\")    # F string\n"
   ]
  },
  {
   "cell_type": "code",
   "execution_count": 26,
   "metadata": {},
   "outputs": [
    {
     "name": "stdout",
     "output_type": "stream",
     "text": [
      "Capitale iniziale: 1000 €\n",
      "Durata prestito: 10 anni\n",
      "Importo da restituire:  1628.89 €\n"
     ]
    }
   ],
   "source": [
    "capitale = int(input('Inserisci la somma iniziale:'))\n",
    "print('Capitale iniziale:', capitale, '€')\n",
    "INTERESSE = 0.05\n",
    "durata = int(input('Inserisci la durata in anni:'))\n",
    "print('Durata prestito:', durata, 'anni')\n",
    "\n",
    "\n",
    "Montante = capitale * (1 + INTERESSE)**durata \n",
    "print('Importo da restituire: ', round(Montante, 2),'€')\n",
    "\n"
   ]
  },
  {
   "cell_type": "markdown",
   "metadata": {},
   "source": [
    "## Esercizio 6: Testo incorniciato\n",
    "\n",
    "Obiettivo: Scrivere un programma che stampi il vostro nome all’interno di un rettangolo, utilizzando i caratteri: `|`, `-` e `+`.\n",
    "\n",
    "Esempio di output atteso:\n",
    "\n",
    "```text\n",
    " +--------+\n",
    " | Graham |\n",
    " +--------+\n",
    "```"
   ]
  },
  {
   "cell_type": "code",
   "execution_count": 3,
   "metadata": {},
   "outputs": [
    {
     "name": "stdout",
     "output_type": "stream",
     "text": [
      "+--------+\n",
      "| Graham |\n",
      "+--------+\n"
     ]
    }
   ],
   "source": [
    "# Scrivi qua il tuo codice\n",
    "\n",
    "print('+--------+')\n",
    "print('| Graham |')\n",
    "print('+--------+')"
   ]
  },
  {
   "cell_type": "markdown",
   "metadata": {},
   "source": [
    "## Esercizio 7: Scacchiera 5x5\n",
    "\n",
    "Obiettivo: Scrivere un programma che stampi una \"scacchiera\" di dimensioni 5x5 in cui le caselle bianche sono rappresentate da `0`, e le caselle nere da `1`.\n",
    "\n",
    "Output atteso:\n",
    "\n",
    "```text\n",
    "0 1 0 1 0\n",
    "1 0 1 0 1\n",
    "0 1 0 1 0\n",
    "1 0 1 0 1\n",
    "0 1 0 1 0\n",
    "```"
   ]
  },
  {
   "cell_type": "code",
   "execution_count": 6,
   "metadata": {},
   "outputs": [],
   "source": [
    "# Scrivi qua il tuo codice\n",
    "\n",
    "riga1 ='0 1 0 1 0'\n",
    "riga2 = '1 0 1 0 1'\n",
    "\n",
    "print(riga1)\n",
    "print(riga2)\n",
    "print(riga1)\n",
    "print(riga2)\n",
    "print(riga1)\n"
   ]
  },
  {
   "cell_type": "code",
   "execution_count": 1,
   "metadata": {},
   "outputs": [
    {
     "name": "stdout",
     "output_type": "stream",
     "text": [
      "0 1 0 1 0\n",
      "1 0 1 0 1\n",
      "0 1 0 1 0\n",
      "1 0 1 0 1\n",
      "0 1 0 1 0\n"
     ]
    }
   ],
   "source": [
    "riga_pari ='0 1 0 1 0'\n",
    "riga_dispari = '1 0 1 0 1'\n",
    "# per ogni riga\n",
    "for row in range(5):\n",
    "    # Se l'indice riga è pari\n",
    "    if row % 2 == 0:\n",
    "        print(riga_pari)\n",
    "    # Se la riga è dispari\n",
    "    else:\n",
    "        print(riga_dispari)"
   ]
  },
  {
   "cell_type": "code",
   "execution_count": 7,
   "metadata": {},
   "outputs": [
    {
     "name": "stdout",
     "output_type": "stream",
     "text": [
      "0 1 0 1 0\n",
      "1 0 1 0 1\n",
      "0 1 0 1 0\n",
      "1 0 1 0 1\n",
      "0 1 0 1 0\n"
     ]
    }
   ],
   "source": [
    "riga_pari ='0 1 0 1 0'\n",
    "riga_dispari = '1 0 1 0 1'\n",
    "\n",
    "toggle = True\n",
    "\n",
    "for row in range(5):\n",
    "    if toggle:\n",
    "        print(riga_pari)\n",
    "        toggle = False\n",
    "    else:\n",
    "        print(riga_dispari)\n",
    "        toggle = True\n",
    "# ogni giro inverte il valore"
   ]
  },
  {
   "cell_type": "markdown",
   "metadata": {},
   "source": [
    "### Usando il toggle"
   ]
  },
  {
   "cell_type": "code",
   "execution_count": 9,
   "metadata": {},
   "outputs": [
    {
     "name": "stdout",
     "output_type": "stream",
     "text": [
      "0 1 0 1 0\n",
      "0 1 0 1 0\n",
      "0 1 0 1 0\n",
      "0 1 0 1 0\n",
      "0 1 0 1 0\n"
     ]
    }
   ],
   "source": [
    "riga_pari ='0 1 0 1 0'\n",
    "riga_dispari = '1 0 1 0 1'\n",
    "\n",
    "toggle = True\n",
    "\n",
    "for row in range(5):\n",
    "    if toggle:\n",
    "        print(riga_pari)\n",
    "        toggle = False\n",
    "    else:\n",
    "        print(riga_dispari)\n",
    "# inverto il valore\n",
    "toggle = not toggle     # modo per invertire un valore. not restituisce sempre vero o falso"
   ]
  },
  {
   "cell_type": "markdown",
   "metadata": {},
   "source": [
    "### Usando l'operatore ternario"
   ]
  },
  {
   "cell_type": "code",
   "execution_count": 12,
   "metadata": {},
   "outputs": [
    {
     "name": "stdout",
     "output_type": "stream",
     "text": [
      "0 1 0 1 0\n",
      "1 0 1 0 1\n",
      "0 1 0 1 0\n",
      "1 0 1 0 1\n",
      "0 1 0 1 0\n"
     ]
    }
   ],
   "source": [
    "riga_pari ='0 1 0 1 0'\n",
    "riga_dispari = '1 0 1 0 1'\n",
    "\n",
    "# per ogni riga\n",
    "\n",
    "for row in range(5):\n",
    "        riga =(riga_pari if row % 2==0 else riga_dispari)    # operatore ternario\n",
    "        print(riga)\n",
    "\n",
    "        #print(riga_pari if row % 2==0 else riga_dispari)    più condensato"
   ]
  },
  {
   "cell_type": "markdown",
   "metadata": {},
   "source": [
    "## Esercizio 8: Una lunga linea\n",
    "\n",
    "Obiettivo: Scrivere un programma che stampi una linea composta da 100 trattini `-`.\n",
    "\n",
    "Output atteso:\n",
    "\n",
    "```text\n",
    "--------------------------------... tot. 100 trattini\n",
    "```"
   ]
  },
  {
   "cell_type": "code",
   "execution_count": 37,
   "metadata": {},
   "outputs": [
    {
     "data": {
      "text/plain": [
       "'____________________________________________________________________________________________________'"
      ]
     },
     "execution_count": 37,
     "metadata": {},
     "output_type": "execute_result"
    }
   ],
   "source": [
    "# Scrivi qua il tuo codice\n",
    "'_' * 100"
   ]
  },
  {
   "cell_type": "code",
   "execution_count": 38,
   "metadata": {},
   "outputs": [
    {
     "data": {
      "text/plain": [
       "'aaaaaaaaaa'"
      ]
     },
     "execution_count": 38,
     "metadata": {},
     "output_type": "execute_result"
    }
   ],
   "source": [
    "'a' * 10"
   ]
  },
  {
   "cell_type": "markdown",
   "metadata": {},
   "source": [
    "## Esercizio 9: Tanti zeri\n",
    "\n",
    "Obiettivo: Scrivere un programma che stampi una sequenza di cifre composta da 100 zeri (`0`).\n",
    "\n",
    "Output atteso:\n",
    "\n",
    "```text\n",
    "00000000000000000000000000000000... tot. 100 zeri\n",
    "```"
   ]
  },
  {
   "cell_type": "code",
   "execution_count": 39,
   "metadata": {},
   "outputs": [
    {
     "data": {
      "text/plain": [
       "'0000000000000000000000000000000000000000000000000000000000000000000000000000000000000000000000000000'"
      ]
     },
     "execution_count": 39,
     "metadata": {},
     "output_type": "execute_result"
    }
   ],
   "source": [
    "# Scrivi qua il tuo codice\n",
    "'0' * 100"
   ]
  }
 ],
 "metadata": {
  "kernelspec": {
   "display_name": ".venv",
   "language": "python",
   "name": "python3"
  },
  "language_info": {
   "codemirror_mode": {
    "name": "ipython",
    "version": 3
   },
   "file_extension": ".py",
   "mimetype": "text/x-python",
   "name": "python",
   "nbconvert_exporter": "python",
   "pygments_lexer": "ipython3",
   "version": "3.10.0"
  }
 },
 "nbformat": 4,
 "nbformat_minor": 2
}
