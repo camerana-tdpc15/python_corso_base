{
 "cells": [
  {
   "cell_type": "markdown",
   "id": "4c620e61",
   "metadata": {
    "is_toc": true
   },
   "source": [
    "**Sommario**\n",
    "  - [Tipo booleano e tipi numerici](#tipo-booleano-e-tipi-numerici)\n",
    "  - [Iterabili: sequenze e \"contenitori\" in genere](#iterabili-sequenze-e-contenitori-in-genere)\n",
    "    - [Sequenze](#sequenze)\n",
    "    - [Mappature](#mappature)\n",
    "  - [`str`,`list`, `tuple`, `bytes`: Sequenze](#strlist-tuple-bytes-sequenze)\n",
    "    - [Index: accesso agli elementi](#index-accesso-agli-elementi)\n",
    "    - [Slice: estrazione di sotto-sequenze](#slice-estrazione-di-sotto-sequenze)\n",
    "      - [Funzione built-in `slice()`](#funzione-built-in-slice)\n",
    "      - [`[start:step:stop]` o `slice(start, step, stop)`?](#startstepstop-o-slicestart-step-stop)\n",
    "  - [`dict`: Mappature](#dict-mappature)\n",
    "    - [Subscription con parentesi quadre](#subscription-con-parentesi-quadre)\n",
    "    - [Metodo `dict.get()`](#metodo-dictget)\n",
    "  - [Accedere ai valori dentro una *data structure*](#accedere-ai-valori-dentro-una-*data-structure*)\n",
    "    - [Iterazione](#iterazione)\n",
    "    - [Filtraggio](#filtraggio)\n",
    "    - [Mappatura](#mappatura)\n",
    "  - [Nota storica sull'origine del termine \"subscript\" nella programmazione](#nota-storica-sull'origine-del-termine-subscript-nella-programmazione)"
   ]
  },
  {
   "attachments": {},
   "cell_type": "markdown",
   "metadata": {},
   "source": [
    "## Tipo booleano e tipi numerici"
   ]
  },
  {
   "attachments": {},
   "cell_type": "markdown",
   "metadata": {},
   "source": [
    "| Tipo      | Valore vuoto | Esempio    | Altro esempio | Mutabile? |\n",
    "|-----------|--------------|------------|---------------|:---------:|\n",
    "| `bool`    | `False`      | `True`     |               | ❌        |\n",
    "| `int`     | `0`          | `3`        | `5`           | ❌        |\n",
    "| `float`   | `0.0`        | `3.7`      | `-2.3`        | ❌        |\n",
    "| `complex` | `0j`         | `(3 + 2j)` | `(3 + 2j)`    | ❌        |\n"
   ]
  },
  {
   "attachments": {},
   "cell_type": "markdown",
   "metadata": {},
   "source": [
    "## Iterabili: sequenze e \"contenitori\" in genere\n",
    "\n",
    "- **MUTABILE ?**: se possiamo modificare gli elementi dell'oggetto dopo che questo è stato \"costruito\", o meglio, istanziato. Se proviamo a modificare un oggetto \"NON MUTABILE\" verrà semplicemente creato un nuovo oggetto (con la modifica appòlicata) e il nostro identificatore (es. variabile) semplicemente punterà al nuovo oggetto.\n",
    "\n",
    "- **INDEXED (INDICIZZATO) ?**: se possiamo accedere agli elementi di un oggetto in modo arbitrario, direttamente tramite il *numero di indice* o una codiddetta *chiave*.\n",
    "\n",
    "- **ORDINATO ?**: se la posizione di tutti gli elementi contenuti nell'oggetto è stabilita, memorizzata e può essere rappresentata come una sequenza di oggetti. Serializzando e de-serializzando un oggetto ordinato, l'informazione sull'ordine degli elementi viene mantenuta.\n",
    "\n",
    "- **DUPLICATI ?**: se l'oggetto consente di avere elementi duplicati al suo interno. Solitamente, per verificare se due oggetti sono da considerarsi una \"copia\" l'uno dell'altro, Python usa il metodo `hash()`, da qui il termine \"hashable\". Per approfondire [*Funzione di hash*](https://it.wikipedia.org/wiki/Funzione_di_hash)."
   ]
  },
  {
   "attachments": {},
   "cell_type": "markdown",
   "metadata": {},
   "source": [
    "\n",
    "| Tipo        | Valore vuoto     | Esempio                             | Mutabile? | Indexed?  | Ordinato?| Duplicati? |\n",
    "|-------------|------------------|-------------------------------------|:---------:|:---------:|:--------:|:----------:|\n",
    "| `str`       | `''` o `\"\"`      | `'come stai?'`                      | ❌        | ✅        | ✅        | ✅         |\n",
    "| `bytes`     | `b''`            | `b\"Buongiorno\"`                     | ❌        | ✅        | ✅        | ✅         |\n",
    "| `tuple`     | `()`             | `(5, 'x', 10, 'x')`                 | ❌        | ✅        | ✅        | ✅         |\n",
    "| `list`      | `[]`             | `[5, 'x', 10, 'x']`                 | ✅        | ✅        | ✅        | ✅         |\n",
    "| `bytearray` | `bytearray(b'')` | `bytearray(b'Buongiorno')`          | ✅        | ✅        | ✅        | ✅         |\n",
    "| `dict`      | `{}`             | `{'colore': 'rosso', 'anno': 1994}` | ✅        | ✅        | ❌        | ❌         |\n",
    "| `set`       | `set()`          | `{5, 'x', 10}`                      | ✅        | ❌        | ❌        | ❌         |\n",
    "            \n",
    "- Le tuple possono contenere tipi mutabili.\n",
    "- I `set` non consentono elementi duplicati e accettano solo elementi hashable.\n",
    "- I `dict` accettano solo chiavi uniche e hashable (ma elementi di qualsiasi tipo).\n",
    "- I tipi immutabili sono sempre hashable (ma non tutti i tipi hashable sono immutabili &rarr; vedi [`__hash__()`](https://docs.python.org/3/reference/datamodel.html#object.__hash__)).\n",
    "- Due oggetti possono avere lo stesso `hash()`, ma un `id()` diverso."
   ]
  },
  {
   "attachments": {},
   "cell_type": "markdown",
   "metadata": {},
   "source": [
    "### Sequenze\n",
    "\n",
    "Una _**sequenza**_ è un'iterabile che supporta un accesso efficiente agli elementi utilizzando come indici dei numeri interi tramite il metodo speciale `__getitem__()` (che implementa la valutazione di `self[key]`) e definisce un metodo `__len__()` (che implementa la funzione built-in `len()`) il quale restituisce la lunghezza della sequenza. Alcuni tipi di sequenza built-in sono `list`, `str`, `tuple` e `bytes`."
   ]
  },
  {
   "cell_type": "markdown",
   "metadata": {},
   "source": [
    "### Mappature\n",
    "\n",
    "Anche `dict` supporta `__getitem__()`  e  `__len__()`, ma è considerato una <u>mappatura (*mapping*)</u> piuttosto che una sequenza, perché non è ordinata e le ricerche/interrogazioni utilizzano chiavi immutabili arbitrarie piuttosto che numeri interi."
   ]
  },
  {
   "cell_type": "markdown",
   "metadata": {},
   "source": [
    "## `str`,`list`, `tuple`, `bytes`: Sequenze\n",
    "\n",
    "L'accesso agli elementi di una sequenza e alle sotto-sequenze può essere eseguito tramite operazioni di **indexing** e **slicing**, utilizzando una notazione basata sulle parentesi quadre `[ ]`, nota come **subscription**."
   ]
  },
  {
   "cell_type": "markdown",
   "metadata": {},
   "source": [
    "### Index: accesso agli elementi\n",
    "\n",
    "L'**index** (indice) consente di accedere a un singolo elemento di una sequenza. Gli indici in Python iniziano da `0`, quindi per ottenere il primo elemento di una lista, useremmo l'indice `0`.\n",
    "\n",
    "Python supporta anche indici negativi, dove `-1` si riferisce all'ultimo elemento, `-2` al penultimo, e così via.\n",
    "\n",
    "Esempio:"
   ]
  },
  {
   "cell_type": "code",
   "execution_count": 10,
   "metadata": {},
   "outputs": [
    {
     "name": "stdout",
     "output_type": "stream",
     "text": [
      "Il primo elemento è:     10\n",
      "Il secondo elemento è:   20\n",
      "L'ultimo elemento è:     90\n",
      "Il penultimo elemento è: 80\n"
     ]
    }
   ],
   "source": [
    "numeri = [10, 20, 30, 40, 50, 60, 70, 80, 90]\n",
    "\n",
    "print('Il primo elemento è:    ', numeri[0])\n",
    "print('Il secondo elemento è:  ', numeri[1])\n",
    "print(\"L'ultimo elemento è:    \", numeri[-1])\n",
    "print('Il penultimo elemento è:', numeri[-2])"
   ]
  },
  {
   "cell_type": "markdown",
   "metadata": {},
   "source": [
    "### Slice: estrazione di sotto-sequenze\n",
    "\n",
    "L'operazione di **slice** (affettatura) permette di ottenere una sotto-sequenza all'interno di una sequenza principale, specificando un **intervallo di indici** attraverso la notazione `[start:stop:step]`.\n",
    "\n",
    "- `start` è l'indice dell'elemento iniziale da cui iniziare lo slice (incluso).\n",
    "- `stop` è l'indice dell'elemento al quale fermarsi (escluso).\n",
    "- `step`, ovvero \"passo\", specifica l'incremento di posizione tra gli elementi selezionati (di default è `1`, ovvero nessun salto).\n",
    "\n",
    "Ad esempio, il seguente slice ottiene una lista con gli elementi dal secondo (indice `1`) al settimo (indice `6`, escluso) con un passo di `2`, ovvero saltando un elemento ogni due:"
   ]
  },
  {
   "cell_type": "code",
   "execution_count": null,
   "metadata": {},
   "outputs": [
    {
     "data": {
      "text/plain": [
       "[20, 40, 60]"
      ]
     },
     "metadata": {},
     "output_type": "display_data"
    }
   ],
   "source": [
    "numeri = [10, 20, 30, 40, 50, 60, 70, 80, 90]\n",
    "\n",
    "numeri[1:6:2]"
   ]
  },
  {
   "cell_type": "markdown",
   "metadata": {},
   "source": [
    "> **ATTENZIONE:** È importante notare che\n",
    "> - lo slice crea una nuova sequenza dello stesso tipo della sequenza originale\n",
    ">\n",
    "> - che l'elemento all'indice `stop` non è incluso nel risultato dello slice."
   ]
  },
  {
   "cell_type": "markdown",
   "metadata": {},
   "source": [
    "\n",
    "Se omettiamo `start`, lo slice inizierà dall'inizio della sequenza."
   ]
  },
  {
   "cell_type": "code",
   "execution_count": 2,
   "metadata": {},
   "outputs": [
    {
     "data": {
      "text/plain": [
       "[10, 20, 30, 40, 50]"
      ]
     },
     "execution_count": 2,
     "metadata": {},
     "output_type": "execute_result"
    }
   ],
   "source": [
    "numeri = [10, 20, 30, 40, 50, 60, 70, 80, 90]\n",
    "\n",
    "numeri[:5]"
   ]
  },
  {
   "cell_type": "markdown",
   "metadata": {},
   "source": [
    "Se omettiamo `stop`, lo slice continuerà fino alla fine della sequenza."
   ]
  },
  {
   "cell_type": "code",
   "execution_count": 3,
   "metadata": {},
   "outputs": [
    {
     "data": {
      "text/plain": [
       "[60, 70, 80, 90]"
      ]
     },
     "execution_count": 3,
     "metadata": {},
     "output_type": "execute_result"
    }
   ],
   "source": [
    "numeri = [10, 20, 30, 40, 50, 60, 70, 80, 90]\n",
    "\n",
    "numeri[5:]"
   ]
  },
  {
   "cell_type": "markdown",
   "metadata": {},
   "source": [
    "Se `start` o `stop` sono omessi, lo slicing inizia dall'inizio o prosegue fino alla fine della sequenza, rispettivamente."
   ]
  },
  {
   "cell_type": "markdown",
   "metadata": {},
   "source": [
    "Come avete notato, negli esempi precedenti abbiamo omesso `step` perché, se non viene indicato, esso sarà considerato `1`, includendo quindi tutti gli elementi nell'intervallo."
   ]
  },
  {
   "cell_type": "markdown",
   "metadata": {},
   "source": [
    "\n",
    "Altrimenti, se per esempio indichiamo lo `step` come `2` sarà incluso un elemento ogni 2:"
   ]
  },
  {
   "cell_type": "code",
   "execution_count": 4,
   "metadata": {},
   "outputs": [
    {
     "data": {
      "text/plain": [
       "[10, 30, 50, 70, 90]"
      ]
     },
     "execution_count": 4,
     "metadata": {},
     "output_type": "execute_result"
    }
   ],
   "source": [
    "numeri = [10, 20, 30, 40, 50, 60, 70, 80, 90]\n",
    "\n",
    "numeri[::2]"
   ]
  },
  {
   "cell_type": "markdown",
   "metadata": {},
   "source": [
    "#### Funzione built-in `slice()`\n",
    "\n",
    "Python offre anche una funzione built-in chiamata `slice()`, che fornisce un modo alternativo per specificare gli indici per lo slicing.\n",
    "\n",
    "La sintassi per `slice` è `slice(start, stop, step)`, dove `start`, `stop`, e `step` hanno lo stesso significato che nella notazione con le parentesi quadre.\n",
    "\n",
    "Questa funzione restituisce un oggetto slice che può poi essere utilizzato per selezionare parti di una sequenza.\n",
    "\n",
    "Il seguente esempio è un'alternativa alla notazione `[1:6:2]`.\n"
   ]
  },
  {
   "cell_type": "code",
   "execution_count": 3,
   "metadata": {},
   "outputs": [
    {
     "data": {
      "text/plain": [
       "[20, 40, 60]"
      ]
     },
     "execution_count": 3,
     "metadata": {},
     "output_type": "execute_result"
    }
   ],
   "source": [
    "numeri = [10, 20, 30, 40, 50, 60, 70, 80, 90]\n",
    "\n",
    "my_slice = slice(1, 6, 2)\n",
    "\n",
    "numeri[my_slice]"
   ]
  },
  {
   "cell_type": "markdown",
   "metadata": {},
   "source": [
    "#### `[start:stop:step]` o `slice(start, stop, step)`?\n",
    "\n",
    "La scelta tra l'uso diretto della notazione con le parentesi quadre o della funzione `slice()` dipende dalle specifiche esigenze del codice e dalle preferenze del programmatore.\n",
    "\n",
    "In generale, per operazioni di slicing semplici e dirette, la notazione con parentesi quadre è più comune e concisa, mentre `slice()` può essere utile per casi in cui i parametri di slicing necessitano di essere riutilizzati in parti diverse del programma; poiché la funzione consente di definire lo slice in un'unica posizione, migliorando così la leggibilità e facilitando la manutenzione del codice."
   ]
  },
  {
   "cell_type": "markdown",
   "metadata": {},
   "source": [
    "## `dict`: Mappature\n",
    "\n",
    "L'accesso ai valori in un dizionario Python può essere effettuato utilizzando la notazione a **subscription** con parentesi quadre `[ ]`, in cui la chiave del valore desiderato viene specificata all'interno delle parentesi. Questo metodo è uno dei più diretti e comuni per recuperare valori da un dizionario."
   ]
  },
  {
   "cell_type": "markdown",
   "metadata": {},
   "source": [
    "### Key: accesso agli elementi\n",
    "\n",
    "Per utilizzare questa notazione, si inserisce la chiave desiderata all'interno delle parentesi quadre `[ ]` subito dopo il nome del dizionario. Se la chiave esiste nel dizionario, l'operazione restituisce il valore associato a quella chiave.\n",
    "\n",
    "Esempio:"
   ]
  },
  {
   "cell_type": "code",
   "execution_count": 1,
   "metadata": {},
   "outputs": [
    {
     "name": "stdout",
     "output_type": "stream",
     "text": [
      "Alice\n",
      "30\n"
     ]
    }
   ],
   "source": [
    "dizionario = {\n",
    "    'nome': 'Alice',\n",
    "    'età': 30,\n",
    "    'professione': 'Ingegnere'\n",
    "}\n",
    "\n",
    "print( dizionario['nome'] )\n",
    "print( dizionario['età'] )"
   ]
  },
  {
   "cell_type": "markdown",
   "metadata": {},
   "source": [
    "Se si tenta di accedere a una chiave che non esiste nel dizionario, Python solleverà un `KeyError`.\n",
    "\n",
    "Per ovviare a questo problema, il modo più sicuro per accedere ai valori di un dizionario è tramite il metodo `dict.get()`."
   ]
  },
  {
   "cell_type": "markdown",
   "metadata": {},
   "source": [
    "### Metodo `dict.get()`\n",
    "\n",
    "Un'altra modalità per accedere ai valori in un dizionario è l'uso del metodo `.get()`. Questo metodo accetta come primo argomento la chiave e come secondo argomento opzionale un valore di default che viene restituito nel caso in cui la chiave non sia presente nel dizionario.\n",
    "\n",
    "L'uso di `.get()` può prevenire l'eccezione `KeyError` in caso di chiavi mancanti.\n",
    "\n",
    "Esempio:"
   ]
  },
  {
   "cell_type": "code",
   "execution_count": 2,
   "metadata": {},
   "outputs": [
    {
     "name": "stdout",
     "output_type": "stream",
     "text": [
      "Ingegnere\n",
      "Sconosciuto\n"
     ]
    }
   ],
   "source": [
    "dizionario = {\n",
    "    'nome': 'Alice',\n",
    "    'età': 30,\n",
    "    'professione': 'Ingegnere'\n",
    "}\n",
    "\n",
    "professione = dizionario.get('professione', 'Sconosciuto')\n",
    "città = dizionario.get('città', 'Sconosciuto')\n",
    "\n",
    "print(professione)\n",
    "print(città)"
   ]
  },
  {
   "attachments": {},
   "cell_type": "markdown",
   "metadata": {},
   "source": [
    "## Accedere ai valori dentro una *data structure*"
   ]
  },
  {
   "attachments": {},
   "cell_type": "markdown",
   "metadata": {},
   "source": [
    "Le [*data structures*](https://en.wikipedia.org/wiki/List_of_data_structures) (strutture di dati) come le liste, dizionari, set, tuple, array ecc... possono assumere forme molto complesse, in quanto quasi ogni struttura può contenerne una qualsiasi altra al suo interno.\n",
    "\n",
    "Non ci sono molti limiti al modo in cui possiamo creare le strutture di dati: potremmo immaginare di avere una lista di dizionari, i cui valori sono delle liste di tuple contenenti dei set di stringhe."
   ]
  },
  {
   "cell_type": "code",
   "execution_count": 6,
   "metadata": {},
   "outputs": [
    {
     "data": {
      "text/plain": [
       "'mimmo'"
      ]
     },
     "execution_count": 6,
     "metadata": {},
     "output_type": "execute_result"
    }
   ],
   "source": [
    "data = [                              # lista\n",
    "    {                                 # dizionario\n",
    "        'reality': [                  # lista\n",
    "            (                         # tupla\n",
    "                {'acqua', 'terra'},   # set di stringhe\n",
    "                {'fuoco', 'aria'}\n",
    "            ),\n",
    "            (\n",
    "                {'mela', 'caco'}, \n",
    "                {'pera', 'noce'}\n",
    "            ),\n",
    "        ],\n",
    "        'fiction': [\n",
    "            (\n",
    "                {'vibranio', 'kryptonite', 'beskar'},\n",
    "                {'adamantio', 'dilitio', 'mithril'}\n",
    "            ),\n",
    "            (\n",
    "                {'drago', 'grifone'},\n",
    "                {'idra'},\n",
    "                ([{'chimera': 'fenice'}])       # () interpretato come \"gruppo\"\n",
    "                # ([{'chimera': 'fenice'}],)    # () interpretato come \"tupla\"\n",
    "            )\n",
    "        ]\n",
    "    },\n",
    "    {\n",
    "        234: {\n",
    "                'Korvo': {5.94, 3},\n",
    "                'Terry': [3, 4, 'mimmo'], \n",
    "                'Yumyulack': 3 + 4j,\n",
    "                'Jesse': (3, 5, 3),\n",
    "                'Pupa': {\n",
    "                    '1': 'a',\n",
    "                    1: 'b',\n",
    "                    0.1: 'c'\n",
    "                }\n",
    "        },\n",
    "        '234': [],\n",
    "        (2, 3, 4): 'guarda che tupla di chiave!',\n",
    "        False: 'una chiave di cui non ci si può fidare!',\n",
    "        3 + 4j: 'una chiave veramente complessa!'\n",
    "    },\n",
    "    {\n",
    "        'TEAM1': [\n",
    "            {\n",
    "                'nome': 'Rick',\n",
    "                'cognome': 'Sanchez'\n",
    "            },\n",
    "            {\n",
    "                'nome': 'Morty',\n",
    "                'cognome': 'Smith'\n",
    "            }\n",
    "        ],\n",
    "        'TEAM2': [\n",
    "            {\n",
    "                'nome': 'Pippo', \n",
    "                'cognome': 'Disney'\n",
    "            },\n",
    "            {\n",
    "                'nome': 'Pluto',\n",
    "                'cognome': 'Disney'\n",
    "            }\n",
    "        ]\n",
    "    }\n",
    "]\n",
    "\n",
    "#data[0]['fiction'][1][2][0]['chimera']      # per raggiungere fenice\n",
    "\n",
    "data[1][234]['Terry'][2]                       # per raggiungere mimmo"
   ]
  },
  {
   "attachments": {},
   "cell_type": "markdown",
   "metadata": {},
   "source": [
    "Per accedere a questi dati, tutto quello che ci serve è la notazione a subscription `[...]`."
   ]
  },
  {
   "attachments": {},
   "cell_type": "markdown",
   "metadata": {},
   "source": [
    "Le particolarità da osservare sono:\n",
    "\n",
    "- Non è possibile accedere direttamente ai singoli elementi di un `set`, se non per mezzo di un ciclo `for` oppure convertendo il `set` in una `lista` (casting). Tuttavia non possiamo prevedere in anticipo come gli elementi saranno messi in sequenza.\n",
    "\n",
    "- Le chiavi di un `dict` e gli elementi di una `tuple` possono essere solo tipi \"[hashable](https://docs.python.org/3/glossary.html#term-hashable)\", come `str`, `integer`, `float`, `bool`, `complex` o `tuple` (nota che questi sono tutti tipi \"immutabili\")."
   ]
  },
  {
   "attachments": {},
   "cell_type": "markdown",
   "metadata": {},
   "source": [
    "**ESERCITATI:**\n",
    "\n",
    "1. Scegli un valore nella struttura dati qua sopra e prova a raggiungerlo scrivendo un'espressione.\n",
    "\n",
    "2. Scegli una delle seguenti espressioni e prova a capire a quale valore accede, osservando la struttura dati qua sopra."
   ]
  },
  {
   "attachments": {},
   "cell_type": "markdown",
   "metadata": {},
   "source": [
    "```python\n",
    "data[0]['reality'][0][0]\n",
    "data[1][234]['Pupa']['1']\n",
    "data[2]['TEAM2'][0]['nome']\n",
    "data[0]['fiction'][1][2][0]['chimera']\n",
    "data[2]['TEAM2'][0]['nome'][1]\n",
    "data[1][234]['Terry'][2]\n",
    "```"
   ]
  },
  {
   "attachments": {},
   "cell_type": "markdown",
   "metadata": {},
   "source": [
    "Di solito, per essere accessibili tramite delle procedure automatiche, le strutture dati sono omogenee e auto-similari, tuttavia, nulla vieta di creare una struttura complessa come quella precedente."
   ]
  },
  {
   "attachments": {},
   "cell_type": "markdown",
   "metadata": {},
   "source": [
    "Nella vita di tutti i giorni è però molto più probabile ritrovarsi davanti strutture più \"classiche\", simili alla seguente:"
   ]
  },
  {
   "cell_type": "code",
   "execution_count": 2,
   "metadata": {},
   "outputs": [],
   "source": [
    "library = [\n",
    "    {\n",
    "        'title': 'Nineteen Eighty-Four',\n",
    "        'author': 'George Orwell',\n",
    "        'genre': ['fiction', 'british'],\n",
    "        'isbn': 9780155658110,\n",
    "        'publicationDate': 1949,\n",
    "        'borrowed': True,\n",
    "        'borrowedStart': '2023-05-01',\n",
    "        'borrowedEnd': '2023-05-15'\n",
    "    },\n",
    "    {\n",
    "        'title': 'To Kill a Mockingbird',\n",
    "        'author': 'Harper Lee',\n",
    "        'genre': ['fiction', 'american'],\n",
    "        'isbn': 9789023493617,\n",
    "        'publicationDate': 1960,\n",
    "        'borrowed': False,\n",
    "        'borrowedStart': None,\n",
    "        'borrowedEnd': None\n",
    "    },\n",
    "    {\n",
    "        'title': 'Gödel, Escher, Bach',\n",
    "        'author': 'Douglas Hofstadter',\n",
    "        'genre': ['pop science', 'american', 'pulitzer'],\n",
    "        'isbn': 9780394745022,\n",
    "        'publicationDate': 1979,\n",
    "        'borrowed': True,\n",
    "        'borrowedStart': '2023-04-01',\n",
    "        'borrowedEnd': '2023-04-15'\n",
    "    }\n",
    "]"
   ]
  },
  {
   "attachments": {},
   "cell_type": "markdown",
   "metadata": {},
   "source": [
    "Se siete riusciti a districarvi con i \"percorsi\" per \"navigare\" attraverso la prima struttura (`data`), questa seconda (`library`) dovrebbe apparirvi un gioco da ragazzi!"
   ]
  },
  {
   "attachments": {},
   "cell_type": "markdown",
   "metadata": {},
   "source": [
    "Su una struttura come questa possiamo edeguire dei cicli per leggere, filtrare e mappare i dati in essa contenuti.\n",
    "\n",
    "Ecco un esempio:"
   ]
  },
  {
   "cell_type": "code",
   "execution_count": 3,
   "metadata": {},
   "outputs": [
    {
     "name": "stdout",
     "output_type": "stream",
     "text": [
      "Nineteen Eighty-Four : 1949\n",
      "To Kill a Mockingbird : 1960\n",
      "Gödel, Escher, Bach : 1979\n"
     ]
    }
   ],
   "source": [
    "for book in library:\n",
    "    print(book['title'], ':', book['publicationDate'])\n"
   ]
  },
  {
   "attachments": {},
   "cell_type": "markdown",
   "metadata": {},
   "source": [
    "### Iterazione"
   ]
  },
  {
   "cell_type": "code",
   "execution_count": 7,
   "metadata": {},
   "outputs": [
    {
     "name": "stdout",
     "output_type": "stream",
     "text": [
      "Libri presi in prestito:\n",
      "  * Nineteen Eighty-Four\n",
      "  * Gödel, Escher, Bach\n"
     ]
    }
   ],
   "source": [
    "print('Libri presi in prestito:')\n",
    "for book in library:\n",
    "    if book['borrowed']:  # <- filtro\n",
    "        print('  *', book['title'])"
   ]
  },
  {
   "attachments": {},
   "cell_type": "markdown",
   "metadata": {},
   "source": [
    "### Filtraggio"
   ]
  },
  {
   "cell_type": "code",
   "execution_count": 10,
   "metadata": {},
   "outputs": [
    {
     "name": "stdout",
     "output_type": "stream",
     "text": [
      "Libri in prestito scaduto (SOLLECITARE LA RESTITUZIONE!):\n",
      "  * Gödel, Escher, Bach\n"
     ]
    }
   ],
   "source": [
    "from datetime import date\n",
    "\n",
    "today = date(2023, 5, 10)  # <- data fittizia per testare il filtro\n",
    "# today = date.today()\n",
    "\n",
    "print(\"Libri in prestito scaduto (SOLLECITARE LA RESTITUZIONE!):\")\n",
    "for book in library:\n",
    "    if book['borrowed']:  # <- filtro 1\n",
    "        if date.fromisoformat(book['borrowedEnd']) < today:  # <- filtro 2\n",
    "            print('  *', book['title'])"
   ]
  },
  {
   "attachments": {},
   "cell_type": "markdown",
   "metadata": {},
   "source": [
    "### Mappatura"
   ]
  },
  {
   "attachments": {},
   "cell_type": "markdown",
   "metadata": {},
   "source": [
    "Immaginiamo che la nostra bibblioteca debba inviare le notifiche di sollecito per la restituzione dei libri ogni sabato. \n",
    "\n",
    "Ogni volta vi seve un elenco dello stato dei libri, rispettivamente al loro stato di prestito."
   ]
  },
  {
   "cell_type": "code",
   "execution_count": 12,
   "metadata": {},
   "outputs": [
    {
     "name": "stdout",
     "output_type": "stream",
     "text": [
      "Libri in prestito - Regolari:\n",
      "  * Nineteen Eighty-Four\n",
      "Libri in prestito - Inviare sollecito restituzione:\n",
      "  * Gödel, Escher, Bach\n"
     ]
    }
   ],
   "source": [
    "from datetime import date\n",
    "\n",
    "today = date(2023, 5, 10)  # <- data fittizia per testare il filtro\n",
    "# today = date.today()\n",
    "\n",
    "report_prestiti = {\n",
    "    'regolari': [],\n",
    "    'scaduti': []\n",
    "}\n",
    "\n",
    "for book in library:\n",
    "    if book['borrowed']:\n",
    "        if date.fromisoformat(book['borrowedEnd']) < today:\n",
    "            report_prestiti['scaduti'].append(book)\n",
    "        else:\n",
    "            report_prestiti['regolari'].append(book)\n",
    "\n",
    "print('Libri in prestito - Regolari:')\n",
    "for book in report_prestiti['regolari']:\n",
    "    print('  *', book['title'])\n",
    "\n",
    "print(\"Libri in prestito - Inviare sollecito restituzione:\")\n",
    "for book in report_prestiti['scaduti']:\n",
    "    print('  *', book['title'])\n"
   ]
  },
  {
   "cell_type": "markdown",
   "metadata": {},
   "source": [
    "## Nota storica sull'origine del termine \"subscript\" nella programmazione\n",
    "\n",
    "Nel mondo della programmazione, quando accediamo a elementi di array o dizionari utilizzando indici o chiavi, ricorriamo spesso al termine _**subscript**_ o _**subscription**_ per descrivere questa operazione. La genesi di questo termine affonda le radici nella matematica, riflettendo una pratica notazionale secolare che va oltre i confini della pura informatica.\n",
    "\n",
    "In questo contesto \"[subscript](https://en.wikipedia.org/wiki/Subscript_and_superscript)\", significa \"a pedice\". \n",
    "\n",
    "Il concetto di \"subscript\", o indice inferiore, trae origine dall'usanza matematica di denotare variabili o elementi di sequenze e matrici posizionando un numero o un simbolo a pedice (leggermente <u>al di sotto</u> e a destra) del simbolo principale (es. $ x_2 $).\n",
    "\n",
    "> sub-script &rarr; sottoscritto &rarr; scritto sotto\n",
    "\n",
    " Questa convenzione visiva serve a indicare la posizione di un elemento specifico all'interno di un insieme più grande, come una sequenza o una matrice. Per esempio, nell'espressione matematica $ a_3 $, il \"3\" posizionato come subscript indica che si sta facendo riferimento al terzo elemento della sequenza denominata $ a $.\n",
    "\n",
    " In informatica il primo elemento è solitamente zero (`0`), tuttavia il senso rimane invariato."
   ]
  }
 ],
 "metadata": {
  "kernelspec": {
   "display_name": ".venv",
   "language": "python",
   "name": "python3"
  },
  "language_info": {
   "codemirror_mode": {
    "name": "ipython",
    "version": 3
   },
   "file_extension": ".py",
   "mimetype": "text/x-python",
   "name": "python",
   "nbconvert_exporter": "python",
   "pygments_lexer": "ipython3",
   "version": "3.12.1"
  }
 },
 "nbformat": 4,
 "nbformat_minor": 2
}
