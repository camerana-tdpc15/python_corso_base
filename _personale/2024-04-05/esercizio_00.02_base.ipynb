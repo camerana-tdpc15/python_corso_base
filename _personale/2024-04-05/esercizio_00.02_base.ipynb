{
 "cells": [
  {
   "cell_type": "markdown",
   "metadata": {},
   "source": [
    "# Esercizi introduttivi"
   ]
  },
  {
   "cell_type": "markdown",
   "metadata": {},
   "source": [
    "TEMI TRATTATI:\n",
    "\n",
    "- Creazione ed esecuzione di semplici programmi (script).\n",
    "- Stampare a monitor."
   ]
  },
  {
   "cell_type": "markdown",
   "metadata": {},
   "source": [
    "NOTE SULLO SVOLGIMENTO:\n",
    "- Puoi svolgere ed eseguire gli esercizi direttamente qua su questo notebook oppure su un normale file di script Python con estensione `.py`, eseguendolo nel terminale del sistema operativo con il comando `py mio_esercizio.py` (Windows) oppure `python3 mio_esercizio.py` (Linux o macOS)."
   ]
  },
  {
   "cell_type": "markdown",
   "metadata": {},
   "source": [
    "## Esercizio 1: Stampare una somma\n",
    "\n",
    "Obiettivo: Scrivere un programma che stampi la somma dei primi 10 numeri interi positivi.\n",
    "\n",
    "```\n",
    "1 + 2 + ... + 10\n",
    "```\n",
    "\n",
    "Output atteso:\n",
    "\n",
    "```\n",
    "La somma dei primi 10 interi è pari a: ...\n",
    "```"
   ]
  },
  {
   "cell_type": "code",
   "execution_count": 1,
   "metadata": {},
   "outputs": [
    {
     "name": "stdout",
     "output_type": "stream",
     "text": [
      "La somma dei primi 10 interi è pari a: 55\n"
     ]
    }
   ],
   "source": [
    "# Scrivi qua il tuo codice\n",
    "\n",
    "somma = 1 + 2 + 3 + 4 + 5 + 6 + 7 + 8 + 9 + 10\n",
    "\n",
    "print('La somma dei primi 10 interi è pari a:', somma)"
   ]
  },
  {
   "cell_type": "code",
   "execution_count": 4,
   "metadata": {},
   "outputs": [
    {
     "name": "stdout",
     "output_type": "stream",
     "text": [
      "La somma dei primi 10 interi è pari a: 55\n"
     ]
    }
   ],
   "source": [
    "somma = 0\n",
    "\n",
    "for n in range(1, 11):\n",
    "    # somma = somma + n\n",
    "    somma += n\n",
    "\n",
    "print('La somma dei primi 10 interi è pari a:', somma)"
   ]
  },
  {
   "cell_type": "code",
   "execution_count": 5,
   "metadata": {},
   "outputs": [
    {
     "name": "stdout",
     "output_type": "stream",
     "text": [
      "La somma dei primi 10 interi è pari a: 55\n"
     ]
    }
   ],
   "source": [
    "numeri = [1, 2, 3, 4, 5, 6, 7, 8, 9, 10]\n",
    "# numeri = (1, 2, 3, 4, 5, 6, 7, 8, 9, 10)\n",
    "\n",
    "somma = sum(numeri)\n",
    "\n",
    "print('La somma dei primi 10 interi è pari a:', somma)"
   ]
  },
  {
   "cell_type": "code",
   "execution_count": 9,
   "metadata": {},
   "outputs": [
    {
     "name": "stdout",
     "output_type": "stream",
     "text": [
      "[0, 2, 4, 6, 8, 10]\n"
     ]
    }
   ],
   "source": [
    "print( list(range(0, 11, 2)) )"
   ]
  },
  {
   "cell_type": "code",
   "execution_count": 15,
   "metadata": {},
   "outputs": [
    {
     "name": "stdout",
     "output_type": "stream",
     "text": [
      "Il numero 33 è dispari.\n"
     ]
    }
   ],
   "source": [
    "mio_num = 33\n",
    "if mio_num % 2 == 0:\n",
    "    print(f'Il numero {mio_num} è pari.')\n",
    "else:\n",
    "    print(f'Il numero {mio_num} è dispari.')\n"
   ]
  },
  {
   "cell_type": "markdown",
   "metadata": {},
   "source": [
    "## Esercizio 2: Stampare un prodotto\n",
    "\n",
    "Obiettivo: Scrivere un programma che stampi il prodotto dei primi 10 numeri interi positivi.\n",
    "\n",
    "```\n",
    "1 * 2 * ... * 10\n",
    "```\n",
    "\n",
    "Output atteso:\n",
    "\n",
    "```\n",
    "Il prodotto dei primi 10 interi è pari a: ...\n",
    "```"
   ]
  },
  {
   "cell_type": "code",
   "execution_count": 16,
   "metadata": {},
   "outputs": [
    {
     "name": "stdout",
     "output_type": "stream",
     "text": [
      "Il prodotto dei primi 10 interi è pari a: 3628800\n"
     ]
    }
   ],
   "source": [
    "# Scrivi qua il tuo codice\n",
    "prodotto = 1\n",
    "\n",
    "for n in range(1, 11):\n",
    "    # prodotto = prodotto * n\n",
    "    prodotto *= n\n",
    "\n",
    "print('Il prodotto dei primi 10 interi è pari a:', prodotto)"
   ]
  },
  {
   "cell_type": "markdown",
   "metadata": {},
   "source": [
    "## Esercizio 3: Stampare una scritta con lettere grandi\n",
    "\n",
    "Obiettivo: Scrivere un programma che stampi una parola a propria scelta, con \"lettere grandi\". Questo genere di effetto può essere ottenuto tramite delle techiche che rientrano in quella che viene chiamata in gergo _**ASCII art**_ o _**computer text art**_.\n",
    "\n",
    "Puoi provare tu stesso a \"comporre\" una parola manualmente, oppure puoi usare un'applicazione apposita. Sul web ne potete trovare molte. Per esempio questa:\n",
    "\n",
    "[patorjk.com/software/taag](https://patorjk.com/software/taag/)\n",
    "\n",
    "> NOTA: Esistono anche implementazioni direttamente scritte in Python. Per esempio uno dei moduli più popolari è `art`:\n",
    "> \n",
    "> [pypi.org/project/art](https://pypi.org/project/art/)"
   ]
  },
  {
   "cell_type": "markdown",
   "metadata": {},
   "source": [
    "Usa la funzione `print` per stampare a monitor una parola a tua scelta.\n",
    "\n",
    "Ecco due esempi dell'output atteso:\n",
    "\n",
    "```text\n",
    " PPPPPP   Y     Y  TTTTTTT  H     H  OOOOOOO  N     N \n",
    " P     P    Y Y       T     H     H  O     O  N N   N \n",
    " PPPPPP      Y        T     HHHHHHH  O     O  N  N  N \n",
    " P           Y        T     H     H  O     O  N   N N \n",
    " P           Y        T     H     H  OOOOOOO  N     N \n",
    "\n",
    "\n",
    "########  ##    ## ######## ##     ##  #######  ##    ## \n",
    "##     ##  ##  ##     ##    ##     ## ##     ## ###   ## \n",
    "##     ##   ####      ##    ##     ## ##     ## ####  ## \n",
    "########     ##       ##    ######### ##     ## ## ## ## \n",
    "##           ##       ##    ##     ## ##     ## ##  #### \n",
    "##           ##       ##    ##     ## ##     ## ##   ### \n",
    "##           ##       ##    ##     ##  #######  ##    ## \n",
    "\n",
    "```"
   ]
  },
  {
   "cell_type": "code",
   "execution_count": 2,
   "metadata": {},
   "outputs": [
    {
     "name": "stdout",
     "output_type": "stream",
     "text": [
      "\n",
      " _   _      _ _        __        __         _     _ _ \n",
      "| | | | ___| | | ___   \\ \\      / /__  _ __| | __| | |\n",
      "| |_| |/ _ \\ | |/ _ \\   \\ \\ /\\ / / _ \\| '__| |/ _` | |\n",
      "|  _  |  __/ | | (_) |   \\ V  V / (_) | |  | | (_| |_|\n",
      "|_| |_|\\___|_|_|\\___/     \\_/\\_/ \\___/|_|  |_|\\__,_(_)\n",
      "\n",
      "\n",
      " _   _      _ _        __        __         _     _ _ \n",
      "| | | | ___| | | ___   \\ \\      / /__  _ __| | __| | |\n",
      "| |_| |/ _ \\ | |/ _ \\   \\ \\ /\\ / / _ \\| '__| |/ _` | |\n",
      "|  _  |  __/ | | (_) |   \\ V  V / (_) | |  | | (_| |_|\n",
      "|_| |_|\\___|_|_|\\___/     \\_/\\_/ \\___/|_|  |_|\\__,_(_)\n"
     ]
    }
   ],
   "source": [
    "# Scrivi qua il tuo codice\n",
    "print('''\n",
    " _   _      _ _        __        __         _     _ _ \n",
    "| | | | ___| | | ___   \\ \\      / /__  _ __| | __| | |\n",
    "| |_| |/ _ \\ | |/ _ \\   \\ \\ /\\ / / _ \\| '__| |/ _` | |\n",
    "|  _  |  __/ | | (_) |   \\ V  V / (_) | |  | | (_| |_|\n",
    "|_| |_|\\___|_|_|\\___/     \\_/\\_/ \\___/|_|  |_|\\__,_(_)\n",
    "\n",
    "''')\n",
    "\n",
    "print(\" _   _      _ _        __        __         _     _ _ \")\n",
    "print(\"| | | | ___| | | ___   \\ \\      / /__  _ __| | __| | |\")\n",
    "print(\"| |_| |/ _ \\ | |/ _ \\   \\ \\ /\\ / / _ \\| '__| |/ _` | |\")\n",
    "print(\"|  _  |  __/ | | (_) |   \\ V  V / (_) | |  | | (_| |_|\")\n",
    "print(\"|_| |_|\\___|_|_|\\___/     \\_/\\_/ \\___/|_|  |_|\\__,_(_)\")\n",
    "\n",
    "\n"
   ]
  },
  {
   "cell_type": "markdown",
   "metadata": {},
   "source": [
    "## Esercizio 4: Fare lo *spelling*\n",
    "\n",
    "Obiettivo: Scrivere un programma che stampi il vostro nome, in colonna.\n",
    "\n",
    "Esempio di output atteso:\n",
    "\n",
    "```text\n",
    "G\n",
    "U\n",
    "I\n",
    "D\n",
    "O\n",
    "```"
   ]
  },
  {
   "cell_type": "code",
   "execution_count": 10,
   "metadata": {},
   "outputs": [
    {
     "name": "stdout",
     "output_type": "stream",
     "text": [
      "A\n",
      "L\n",
      "E\n",
      "S\n",
      "S\n",
      "A\n",
      "N\n",
      "D\n",
      "R\n",
      "O\n",
      "a\n",
      "l\n",
      "e\n",
      "s\n",
      "s\n",
      "a\n",
      "n\n",
      "d\n",
      "r\n",
      "o\n"
     ]
    }
   ],
   "source": [
    "# Scrivi qua il tuo codice\n",
    "\n",
    "pippo = 'alessandro' # qualunque sequenza\n",
    "\n",
    "for num in pippo:\n",
    "    print(num.upper())\n",
    "\n",
    "print(*pippo , sep='\\n') # fa UNPACKING\n",
    "\n"
   ]
  },
  {
   "cell_type": "markdown",
   "metadata": {},
   "source": [
    "## Esercizio 5: Conto bancario\n",
    "\n",
    "Obiettivo: Scrivere un programma che calcoli il saldo di un conto bancario dopo il primo, secondo e terzo anno. Il conto ha un saldo iniziale di 1000 euro e vi vengono accreditati interessi annuali al 5%.\n",
    "\n",
    "Il programma deve stampare il saldo iniziale, e poi il saldo al termine di ciascun anno, fino al terzo.\n",
    "\n",
    "Output atteso:\n",
    "\n",
    "```text\n",
    "Il saldo iniziale è: ...\n",
    "Dopo l'anno 1 il saldo è: ...\n",
    "Dopo l'anno 2 il saldo è: ...\n",
    "Dopo l'anno 3 il saldo è: ...\n",
    "```"
   ]
  },
  {
   "cell_type": "code",
   "execution_count": 1,
   "metadata": {},
   "outputs": [
    {
     "name": "stdout",
     "output_type": "stream",
     "text": [
      "Il saldo iniziale è: 1000\n",
      "Dopo l'anno 1 il saldo è: 1050.0\n",
      "Dopo l'anno 2 il saldo è: 1102.5\n",
      "Dopo l'anno 3 il saldo è: 1157.625\n"
     ]
    }
   ],
   "source": [
    "# Scrivi qua il tuo codice\n",
    "\n",
    "\n",
    "INTERESSE = 1.05  # interesse 5%\n",
    "\n",
    "saldo = 1000\n",
    "\n",
    "anno1 = saldo * INTERESSE\n",
    "\n",
    "anno2 = anno1 * INTERESSE\n",
    "\n",
    "anno3 = anno2 * INTERESSE\n",
    "\n",
    "print(\"Il saldo iniziale è:\", saldo)\n",
    "print(\"Dopo l'anno 1 il saldo è:\", anno1)\n",
    "print(\"Dopo l'anno 2 il saldo è:\", anno2)\n",
    "print(\"Dopo l'anno 3 il saldo è:\", anno3)\n"
   ]
  },
  {
   "cell_type": "code",
   "execution_count": 14,
   "metadata": {},
   "outputs": [
    {
     "data": {
      "text/plain": [
       "[2, 4, 6, 8, 10]"
      ]
     },
     "execution_count": 14,
     "metadata": {},
     "output_type": "execute_result"
    }
   ],
   "source": [
    "list(range(3, 10))  # crea una lista da 3 a 9 (7 elementi)\n",
    "\n",
    "list(range(2, 11, 2))  # crea una lista da 3 a 9 (7 elementi)\n",
    "\n"
   ]
  },
  {
   "cell_type": "code",
   "execution_count": 13,
   "metadata": {},
   "outputs": [
    {
     "data": {
      "text/plain": [
       "'de'"
      ]
     },
     "execution_count": 13,
     "metadata": {},
     "output_type": "execute_result"
    }
   ],
   "source": [
    "'abcdef'[3:5] # slice"
   ]
  },
  {
   "cell_type": "code",
   "execution_count": 16,
   "metadata": {},
   "outputs": [
    {
     "name": "stdout",
     "output_type": "stream",
     "text": [
      "Il saldo iniziale è: 1000\n",
      "Dopo l'anno 1 il saldo è: 1050.0\n",
      "Dopo l'anno 2 il saldo è: 1102.5\n",
      "Dopo l'anno 3 il saldo è: 1157.625\n"
     ]
    }
   ],
   "source": [
    "INTERESSE = 1.05  # interesse 5%\n",
    "\n",
    "saldo_init = 1000\n",
    "saldi = []\n",
    "saldo_corrente = saldo_init\n",
    "\n",
    "\n",
    "\n",
    "for idx in range(3):\n",
    "    saldo_corrente = saldo_corrente * INTERESSE\n",
    "    saldi.append(saldo_corrente)\n",
    "\n",
    "print(\"Il saldo iniziale è:\", saldo_init)\n",
    "print(\"Dopo l'anno 1 il saldo è:\", saldi[0])\n",
    "print(\"Dopo l'anno 2 il saldo è:\", saldi[1])\n",
    "print(\"Dopo l'anno 3 il saldo è:\", saldi[2])\n",
    "\n",
    "\n",
    "\n"
   ]
  },
  {
   "cell_type": "code",
   "execution_count": 20,
   "metadata": {},
   "outputs": [
    {
     "name": "stdout",
     "output_type": "stream",
     "text": [
      "Il saldo iniziale è: 1000\n",
      "Dopo l'anno 1 il saldo è: 1050.0\n",
      "Dopo l'anno 2 il saldo è: 1102.5\n",
      "Dopo l'anno 3 il saldo è: 1157.625\n"
     ]
    }
   ],
   "source": [
    "# altro metodo ottimizzato\n",
    "\n",
    "INTERESSE = 1.05  # interesse 5%\n",
    "\n",
    "saldo_init = 1000\n",
    "# saldi = []\n",
    "saldo_corrente = saldo_init\n",
    "\n",
    "print(\"Il saldo iniziale è:\", saldo_init)\n",
    "\n",
    "for idx in range(3):\n",
    "    saldo_corrente = saldo_corrente * INTERESSE\n",
    "    print(f\"Dopo l'anno {idx + 1} il saldo è:\", saldo_corrente)\n",
    "    # saldi.append(saldo_corrente)\n",
    "\n"
   ]
  },
  {
   "cell_type": "code",
   "execution_count": 27,
   "metadata": {},
   "outputs": [
    {
     "name": "stdout",
     "output_type": "stream",
     "text": [
      "Il saldo iniziale è: 1000\n",
      "Dopo l'anno 1 il saldo è: 1050.00\n",
      "Dopo l'anno 2 il saldo è: 1102.50\n",
      "Dopo l'anno 3 il saldo è: 1157.62\n",
      "Dopo l'anno 4 il saldo è: 1215.51\n",
      "Dopo l'anno 5 il saldo è: 1276.28\n"
     ]
    }
   ],
   "source": [
    "# altro metodo ottimizzato con input\n",
    "\n",
    "INTERESSE = 1.05  # interesse 5%\n",
    "\n",
    "\n",
    "num_anni = int(input('inserire numero di anni: '))\n",
    "\n",
    "saldo_init = 1000\n",
    "# saldi = []\n",
    "saldo_corrente = saldo_init\n",
    "\n",
    "print(\"Il saldo iniziale è:\", saldo_init)\n",
    "\n",
    "for idx in range(num_anni):\n",
    "    saldo_corrente = saldo_corrente * INTERESSE\n",
    "    print(f\"Dopo l'anno {idx + 1} il saldo è: {saldo_corrente:.2f}\") # arrotonda due cifre dopo la virgola\n",
    "    # saldi.append(saldo_corrente)\n",
    "\n"
   ]
  },
  {
   "cell_type": "markdown",
   "metadata": {},
   "source": [
    "## Esercizio 6: Testo incorniciato\n",
    "\n",
    "Obiettivo: Scrivere un programma che stampi il vostro nome all’interno di un rettangolo, utilizzando i caratteri: `|`, `-` e `+`.\n",
    "\n",
    "Esempio di output atteso:\n",
    "\n",
    "```text\n",
    " +--------+\n",
    " | Graham |\n",
    " +--------+\n",
    "```"
   ]
  },
  {
   "cell_type": "code",
   "execution_count": 31,
   "metadata": {},
   "outputs": [
    {
     "data": {
      "text/plain": [
       "'----------'"
      ]
     },
     "execution_count": 31,
     "metadata": {},
     "output_type": "execute_result"
    }
   ],
   "source": [
    "# Scrivi qua il tuo codice\n",
    "\n",
    "\n",
    "'-' * 10\n"
   ]
  },
  {
   "cell_type": "code",
   "execution_count": 30,
   "metadata": {},
   "outputs": [
    {
     "data": {
      "text/plain": [
       "'aaaaaaaaaa'"
      ]
     },
     "execution_count": 30,
     "metadata": {},
     "output_type": "execute_result"
    }
   ],
   "source": [
    "\n",
    "'a' * 10"
   ]
  },
  {
   "cell_type": "markdown",
   "metadata": {},
   "source": [
    "## Esercizio 7: Scacchiera 5x5\n",
    "\n",
    "Obiettivo: Scrivere un programma che stampi una \"scacchiera\" di dimensioni 5x5 in cui le caselle bianche sono rappresentate da `0`, e le caselle nere da `1`.\n",
    "\n",
    "Output atteso:\n",
    "\n",
    "```text\n",
    "0 1 0 1 0\n",
    "1 0 1 0 1\n",
    "0 1 0 1 0\n",
    "1 0 1 0 1\n",
    "0 1 0 1 0\n",
    "```"
   ]
  },
  {
   "cell_type": "code",
   "execution_count": 6,
   "metadata": {},
   "outputs": [],
   "source": [
    "# Scrivi qua il tuo codice\n"
   ]
  },
  {
   "cell_type": "markdown",
   "metadata": {},
   "source": [
    "## Esercizio 8: Una lunga linea\n",
    "\n",
    "Obiettivo: Scrivere un programma che stampi una linea composta da 100 trattini `-`.\n",
    "\n",
    "Output atteso:\n",
    "\n",
    "```text\n",
    "--------------------------------... tot. 100 trattini\n",
    "```"
   ]
  },
  {
   "cell_type": "code",
   "execution_count": 2,
   "metadata": {},
   "outputs": [
    {
     "data": {
      "text/plain": [
       "''"
      ]
     },
     "execution_count": 2,
     "metadata": {},
     "output_type": "execute_result"
    }
   ],
   "source": [
    "# Scrivi qua il tuo codice\n",
    "\n",
    "input()"
   ]
  },
  {
   "cell_type": "markdown",
   "metadata": {},
   "source": [
    "## Esercizio 9: Tanti zeri\n",
    "\n",
    "Obiettivo: Scrivere un programma che stampi una sequenza di cifre composta da 100 zeri (`0`).\n",
    "\n",
    "Output atteso:\n",
    "\n",
    "```text\n",
    "00000000000000000000000000000000... tot. 100 zeri\n",
    "```"
   ]
  },
  {
   "cell_type": "code",
   "execution_count": 32,
   "metadata": {},
   "outputs": [
    {
     "data": {
      "text/plain": [
       "'0000000000000000000000000000000000000000000000000000000000000000000000000000000000000000000000000000'"
      ]
     },
     "execution_count": 32,
     "metadata": {},
     "output_type": "execute_result"
    }
   ],
   "source": [
    "# Scrivi qua il tuo codice\n",
    "\n",
    "'0' * 100"
   ]
  }
 ],
 "metadata": {
  "kernelspec": {
   "display_name": ".venv",
   "language": "python",
   "name": "python3"
  },
  "language_info": {
   "codemirror_mode": {
    "name": "ipython",
    "version": 3
   },
   "file_extension": ".py",
   "mimetype": "text/x-python",
   "name": "python",
   "nbconvert_exporter": "python",
   "pygments_lexer": "ipython3",
   "version": "3.10.0"
  }
 },
 "nbformat": 4,
 "nbformat_minor": 2
}
