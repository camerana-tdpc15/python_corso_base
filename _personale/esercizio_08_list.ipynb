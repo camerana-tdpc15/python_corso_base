{
 "cells": [
  {
   "cell_type": "markdown",
   "metadata": {},
   "source": [
    "### Esercizio - Monte ordinato\n",
    "\n",
    "Requisiti: liste, sort, for\n",
    "\n",
    "Data una lista `monte` con $n$ numeri (supponi che $n$ sia pari), scrivi del codice \n",
    "che MODIFICA `monte`, ordinando solo i numeri nella prima metà in ordine crescente\n",
    "e poi ordinando solo i numeri nella seconda metà in ordine inverso\n",
    "\n",
    "- **NON** riassegnare `monte`, perchè perderesti la zona di memoria originale (quindi niente `monte =`)\n",
    "- **SUGGERIMENTO:** ``sort()`` funziona solo su tutta la lista, per ordinarne solo metà dovrai creare altre liste dove mettere i valori da ordinare, e poi copiarli nella lista originale\n",
    "\n",
    "Esempio - data:\n",
    "\n",
    "```python\n",
    "   monte = [90,40,50,20,60, 7, 3, 4, 9, 8]\n",
    "```\n",
    "\n",
    "Dopo il tuo codice deve risultare:\n",
    "\n",
    "```python\n",
    ">>> print(monte)\n",
    "[20, 40, 50, 60, 90, 9, 8, 7, 4, 3]\n",
    "```\n"
   ]
  },
  {
   "cell_type": "code",
   "execution_count": 2,
   "metadata": {},
   "outputs": [
    {
     "name": "stdout",
     "output_type": "stream",
     "text": [
      "il numero degli elementi della lista è dispari, non posso dividere in due parti uguali la lista\n"
     ]
    }
   ],
   "source": [
    "monte = [90,40,50,60,20, 7, 3, 4, 9, 8]   # [20, 40, 50, 60, 90, 9, 8, 7, 4, 3]\n",
    "#monte = [5,0,3,4,3,8]                    # [0, 3, 5, 8, 4, 3]\n",
    "#monte = []                               # []\n",
    "#monte = [7,3]                            # [7,3]\n",
    "\n",
    "#conto quanti numeri ha la lista con il metodo len()\n",
    "n = monte.__len__()\n",
    "\n",
    "#stabilisco se n è pari\n",
    "if n % 2 == 1 :\n",
    "     print('il numero degli elementi della lista è dispari, non posso dividere in due parti uguali la lista')\n",
    "else:\n",
    "     #divido n in due parti\n",
    "     meta_elementi= n // 2\n",
    "     \n",
    "     #trovo la lista 1    \n",
    "     list_monte_1 = monte[:meta_elementi]\n",
    "\n",
    "     #trovo la lista 2\n",
    "     list_monte_2 = monte[meta_elementi:]\n",
    "\n",
    "     #ordino in maniera crescente la lista 1     \n",
    "     list_monte_1_cres = sorted(list_monte_1)\n",
    "\n",
    "     #ordino in maniera decrescente la lista 2\n",
    "     list_monte_2_decr = sorted(list_monte_2, reverse=True)\n",
    "          \n",
    "\n",
    "     #stampo la lista aggiornata\n",
    "     print(list_monte_1_cres + list_monte_2_decr)\n",
    "     \n",
    "\n"
   ]
  }
 ],
 "metadata": {
  "kernelspec": {
   "display_name": ".venv",
   "language": "python",
   "name": "python3"
  },
  "language_info": {
   "codemirror_mode": {
    "name": "ipython",
    "version": 3
   },
   "file_extension": ".py",
   "mimetype": "text/x-python",
   "name": "python",
   "nbconvert_exporter": "python",
   "pygments_lexer": "ipython3",
   "version": "3.10.0"
  },
  "orig_nbformat": 4
 },
 "nbformat": 4,
 "nbformat_minor": 2
}
