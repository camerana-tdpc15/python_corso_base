{
 "cells": [
  {
   "cell_type": "markdown",
   "metadata": {},
   "source": [
    "### Esercizio - Monte ordinato\n",
    "\n",
    "Requisiti: liste, sort, for\n",
    "\n",
    "Data una lista `monte` con $n$ numeri (supponi che $n$ sia pari), scrivi del codice \n",
    "che MODIFICA `monte`, ordinando solo i numeri nella prima metà in ordine crescente\n",
    "e poi ordinando solo i numeri nella seconda metà in ordine inverso\n",
    "\n",
    "- **NON** riassegnare `monte`, perchè perderesti la zona di memoria originale (quindi niente `monte =`)\n",
    "- **SUGGERIMENTO:** ``sort()`` funziona solo su tutta la lista, per ordinarne solo metà dovrai creare altre liste dove mettere i valori da ordinare, e poi copiarli nella lista originale\n",
    "\n",
    "Esempio - data:\n",
    "\n",
    "```python\n",
    "   monte = [90,40,50,20,60, 7, 3, 4, 9, 8]\n",
    "```\n",
    "\n",
    "Dopo il tuo codice deve risultare:\n",
    "\n",
    "```python\n",
    ">>> print(monte)\n",
    "[20, 40, 50, 60, 90, 9, 8, 7, 4, 3]\n",
    "```\n"
   ]
  },
  {
   "cell_type": "code",
   "execution_count": 1,
   "metadata": {},
   "outputs": [
    {
     "name": "stdout",
     "output_type": "stream",
     "text": [
      "Il numero è pari\n",
      "[90]\n",
      "[90, 40]\n",
      "[90, 40, 50]\n",
      "[90, 40, 50, 20]\n",
      "[90, 40, 50, 20, 60]\n",
      "[7]\n",
      "[7, 3]\n",
      "[7, 3, 4]\n",
      "[7, 3, 4, 9]\n",
      "[7, 3, 4, 9, 8]\n",
      "Prima metà: [90, 40, 50, 20, 60]\n",
      "Seconda metà: [7, 3, 4, 9, 8]\n",
      "Prima metà crescente: [20, 40, 50, 60, 90]\n",
      "Seconda metà decrescente: [9, 8, 7, 4, 3]\n",
      "Soluzione: [20, 40, 50, 60, 90, 9, 8, 7, 4, 3]\n"
     ]
    }
   ],
   "source": [
    "monte = [90,40,50,20,60, 7, 3, 4, 9, 8]   # [20, 40, 50, 60, 90, 9, 8, 7, 4, 3]\n",
    "#monte = [5,0,3,4,3,8]                    # [0, 3, 5, 8, 4, 3]\n",
    "#monte = []                               # []\n",
    "#monte = [7,3]                            # [7,3]\n",
    "\n",
    "# scrivi qui\n",
    "\n",
    "# verifico se la stringa ha un numero di elementi pari o dispari\n",
    "if len(monte) % 2 == 0:  # un numero pari diviso due ha un resto = 0\n",
    "    print('Gli elementi della stringa sono pari')\n",
    "else:\n",
    "    print('Gli elementi sono dispari, non posso dividere in due metà uguali la stringa')\n",
    "# calcolo la metà della lista\n",
    "metà = len(monte) // 2\n",
    "# creo due liste vuote\n",
    "prima_metà = []\n",
    "seconda_metà = []\n",
    "# divido gli elementi della lista tra la prima e la seconda metà e riempio le due liste create\n",
    "for i in range(len(monte)):\n",
    "  if i < metà:\n",
    "    prima_metà.append(monte[i])\n",
    "    print(prima_metà)\n",
    "  else:\n",
    "    seconda_metà.append(monte[i])\n",
    "    print(seconda_metà)\n",
    "\n",
    "print(\"Prima metà:\", prima_metà)\n",
    "print(\"Seconda metà:\", seconda_metà)\n",
    "\n",
    "# ordine crescente\n",
    "prima_metà.sort()\n",
    "# ordine decrescente\n",
    "seconda_metà.sort(reverse=True)\n",
    "\n",
    "print(\"Prima metà crescente:\", prima_metà)\n",
    "print(\"Seconda metà decrescente:\", seconda_metà)\n",
    "\n",
    "# unisco le due liste in una\n",
    "lista_ordinata = prima_metà + seconda_metà\n",
    "\n",
    "print('Soluzione:',lista_ordinata)\n",
    "\n",
    "\n"
   ]
  }
 ],
 "metadata": {
  "kernelspec": {
   "display_name": ".venv",
   "language": "python",
   "name": "python3"
  },
  "language_info": {
   "codemirror_mode": {
    "name": "ipython",
    "version": 3
   },
   "file_extension": ".py",
   "mimetype": "text/x-python",
   "name": "python",
   "nbconvert_exporter": "python",
   "pygments_lexer": "ipython3",
   "version": "3.12.1"
  },
  "orig_nbformat": 4
 },
 "nbformat": 4,
 "nbformat_minor": 2
}
