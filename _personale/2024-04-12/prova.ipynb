{
 "cells": [
  {
   "cell_type": "code",
   "execution_count": 1,
   "metadata": {},
   "outputs": [
    {
     "name": "stdout",
     "output_type": "stream",
     "text": [
      "Inserisci 5 voti per la materia \"Matematica\"\n"
     ]
    },
    {
     "ename": "UnboundLocalError",
     "evalue": "local variable 'voto' referenced before assignment",
     "output_type": "error",
     "traceback": [
      "\u001b[1;31m---------------------------------------------------------------------------\u001b[0m",
      "\u001b[1;31mUnboundLocalError\u001b[0m                         Traceback (most recent call last)",
      "Cell \u001b[1;32mIn[1], line 23\u001b[0m\n\u001b[0;32m     18\u001b[0m classe_alunno \u001b[38;5;241m=\u001b[39m \u001b[38;5;28minput\u001b[39m(\u001b[38;5;124m\"\u001b[39m\u001b[38;5;124mInserisci la classe dell\u001b[39m\u001b[38;5;124m'\u001b[39m\u001b[38;5;124malunno: \u001b[39m\u001b[38;5;124m\"\u001b[39m)\n\u001b[0;32m     21\u001b[0m \u001b[38;5;28mprint\u001b[39m(\u001b[38;5;124m'\u001b[39m\u001b[38;5;124mInserisci 5 voti per la materia \u001b[39m\u001b[38;5;124m\"\u001b[39m\u001b[38;5;124mMatematica\u001b[39m\u001b[38;5;124m\"\u001b[39m\u001b[38;5;124m'\u001b[39m)\n\u001b[1;32m---> 23\u001b[0m voti_matematica \u001b[38;5;241m=\u001b[39m \u001b[43minputVoti\u001b[49m\u001b[43m(\u001b[49m\u001b[43m)\u001b[49m\n",
      "Cell \u001b[1;32mIn[1], line 9\u001b[0m, in \u001b[0;36minputVoti\u001b[1;34m()\u001b[0m\n\u001b[0;32m      7\u001b[0m \u001b[38;5;28;01mif\u001b[39;00m info\u001b[38;5;241m.\u001b[39misdigit():\n\u001b[0;32m      8\u001b[0m     \u001b[38;5;28;01mfor\u001b[39;00m num \u001b[38;5;129;01min\u001b[39;00m \u001b[38;5;28mrange\u001b[39m(\u001b[38;5;241m5\u001b[39m):\n\u001b[1;32m----> 9\u001b[0m         lista_generica\u001b[38;5;241m.\u001b[39mappend(\u001b[43mvoto\u001b[49m)\n\u001b[0;32m     10\u001b[0m         voto \u001b[38;5;241m=\u001b[39m \u001b[38;5;28mint\u001b[39m(\u001b[38;5;28minput\u001b[39m(\u001b[38;5;124mf\u001b[39m\u001b[38;5;124m\"\u001b[39m\u001b[38;5;124minserisci voto \u001b[39m\u001b[38;5;132;01m{\u001b[39;00mnum\u001b[38;5;250m \u001b[39m\u001b[38;5;241m+\u001b[39m\u001b[38;5;250m \u001b[39m\u001b[38;5;241m1\u001b[39m\u001b[38;5;132;01m}\u001b[39;00m\u001b[38;5;124m: \u001b[39m\u001b[38;5;124m\"\u001b[39m))\n\u001b[0;32m     11\u001b[0m     \u001b[38;5;28;01mreturn\u001b[39;00m lista_generica\n",
      "\u001b[1;31mUnboundLocalError\u001b[0m: local variable 'voto' referenced before assignment"
     ]
    }
   ],
   "source": [
    "num_voti = 5\n",
    "\n",
    "def inputVoti():\n",
    "    lista_generica = []\n",
    "    num = 1\n",
    "    info = input(f\"inserisci voto {num}: \")\n",
    "    if info.isdigit():\n",
    "        for num in range(5):\n",
    "            lista_generica.append(voto)\n",
    "            voto = int(input(f\"inserisci voto {num + 1}: \"))\n",
    "        return lista_generica\n",
    "    else:\n",
    "        print('ERRORE: Inserire solo valori numerici.')\n",
    "    \n",
    "\n",
    "nome_alunno = input(\"Inserisci nome e cognome dell'alunno: \")\n",
    "\n",
    "classe_alunno = input(\"Inserisci la classe dell'alunno: \")\n",
    "\n",
    "\n",
    "print('Inserisci 5 voti per la materia \"Matematica\"')\n",
    "\n",
    "voti_matematica = inputVoti()\n"
   ]
  }
 ],
 "metadata": {
  "kernelspec": {
   "display_name": "Python 3",
   "language": "python",
   "name": "python3"
  },
  "language_info": {
   "codemirror_mode": {
    "name": "ipython",
    "version": 3
   },
   "file_extension": ".py",
   "mimetype": "text/x-python",
   "name": "python",
   "nbconvert_exporter": "python",
   "pygments_lexer": "ipython3",
   "version": "3.10.7"
  }
 },
 "nbformat": 4,
 "nbformat_minor": 2
}
