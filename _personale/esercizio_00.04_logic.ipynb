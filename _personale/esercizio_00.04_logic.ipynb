{
 "cells": [
  {
   "cell_type": "markdown",
   "metadata": {},
   "source": [
    "# Esercizi introduttivi"
   ]
  },
  {
   "cell_type": "markdown",
   "metadata": {},
   "source": [
    "TEMI TRATTATI:\n",
    "\n",
    "- Elaborazioni e confronti tra variabili con valori di tipo `int`, `float` e `str`.\n",
    "- Espressioni booleane.\n",
    "- Scelte logiche."
   ]
  },
  {
   "cell_type": "markdown",
   "metadata": {},
   "source": [
    "NOTE SULLO SVOLGIMENTO:\n",
    "- Puoi svolgere ed eseguire gli esercizi direttamente qua su questo notebook oppure su un normale file di script Python con estensione `.py`, eseguendolo nel terminale del sistema operativo con il comando `py mio_esercizio.py` (Windows) oppure `python3 mio_esercizio.py` (Linux o macOS)."
   ]
  },
  {
   "cell_type": "markdown",
   "metadata": {},
   "source": [
    "## Esercizio 1: Vero o Falso\n",
    "\n",
    "Per ciascuna delle seguenti coppie di valori, eseguire un test di uguaglianza, assegnare il risultato ad una variabile, e visualizzarlo. Provare a prevedere quale sarà il risultato di ciascuna verifica.\n",
    "\n",
    "```text\n",
    "1, 1\n",
    "\n",
    "1, 1.0\n",
    "\n",
    "2.0, sqrt(4)\n",
    "\n",
    "'1', 1\n",
    "\n",
    "'ciao', 'Ciao'.\n",
    "```"
   ]
  },
  {
   "cell_type": "markdown",
   "metadata": {},
   "source": [
    "ESEMPIO:\n",
    "\n",
    "```python\n",
    "esempio = 'pippo' == 'pippo'\n",
    "print(esempio)\n",
    "# True\n",
    "```"
   ]
  },
  {
   "cell_type": "code",
   "execution_count": null,
   "metadata": {},
   "outputs": [],
   "source": [
    "# Scrivi qua il tuo codice\n"
   ]
  },
  {
   "cell_type": "markdown",
   "metadata": {},
   "source": [
    "## Esercizio 2: Identikit della stringa\n",
    "\n",
    "Scrivere un programma che legga una stringa e visualizzi dei messaggi appropriati, dopo aver verificato se:\n",
    "\n",
    "- contiene soltanto lettere;\n",
    "- contiene soltanto lettere maiuscole;\n",
    "- contiene soltanto lettere minuscole;\n",
    "- contiene soltanto cifre numeriche decimali;\n",
    "- contiene soltanto lettere e cifre;\n",
    "- inizia con una lettera maiuscola;\n",
    "- termina con un punto."
   ]
  },
  {
   "cell_type": "code",
   "execution_count": null,
   "metadata": {},
   "outputs": [],
   "source": [
    "# Scrivi qua il tuo codice\n"
   ]
  },
  {
   "cell_type": "markdown",
   "metadata": {},
   "source": [
    "## Esercizio 3: Tracce genetiche\n",
    "\n",
    "Le sequenze di DNA sono come lunghe stringhe composte da solo quattro lettere: `'A'`, `'C'`, `'T'` e `'G'`. Scrivere un programma che prenda in input una \"sequenza lunga\" di DNA di venti caratteri e una \"sequenza breve\" di tre caratteri e visualizzi le seguenti informazioni:\n",
    "\n",
    "1. Se la \"sequenza breve\" è presente all'interno della \"sequenza lunga\".\n",
    "2. Se presente, a partire da quale posizione (indice) della \"sequenza lunga\" è presente la \"sequenza breve\".\n",
    "3. Se presente, quante volte la \"sequenza breve\" è contenuta nella \"sequenza lunga\"."
   ]
  },
  {
   "cell_type": "code",
   "execution_count": 3,
   "metadata": {},
   "outputs": [
    {
     "name": "stdout",
     "output_type": "stream",
     "text": [
      "La sequenza breve è presente nella sequenza lunga.\n",
      "Indice di inizio: 15\n",
      "Numero di occorrenze: 4\n"
     ]
    }
   ],
   "source": [
    "# Scrivi qua il tuo codice\n",
    "def trova_sequenza(sequenza_lunga, sequenza_breve):\n",
    "  \"\"\"\n",
    "  Funzione che trova la sequenza breve all'interno della sequenza lunga e fornisce informazioni sulla sua presenza.\n",
    "\n",
    "  Parametri:\n",
    "    sequenza_lunga (str): La sequenza di DNA lunga 20 caratteri.\n",
    "    sequenza_breve (str): La sequenza di DNA breve di 3 caratteri.\n",
    "\n",
    "  Restituisce:\n",
    "    tuple: Una tupla contenente tre valori:\n",
    "      - bool: True se la sequenza breve è presente nella sequenza lunga, False altrimenti.\n",
    "      - int: L'indice di inizio della sequenza breve nella sequenza lunga, se presente, -1 altrimenti.\n",
    "      - int: Il numero di occorrenze della sequenza breve nella sequenza lunga.\n",
    "  \"\"\"\n",
    "  if len(sequenza_lunga) != 20 or len(sequenza_breve) != 3:\n",
    "    raise ValueError(\"Le lunghezze delle sequenze non sono corrette.\")\n",
    "\n",
    "  trovato = False\n",
    "  indice_inizio = -1\n",
    "  numero_occorrenze = 0\n",
    "\n",
    "  for i in range(len(sequenza_lunga) - len(sequenza_breve) + 1):\n",
    "    if sequenza_lunga[i:i+len(sequenza_breve)] == sequenza_breve:\n",
    "      trovato = True\n",
    "      indice_inizio = i\n",
    "      numero_occorrenze += 1\n",
    "\n",
    "  return trovato, indice_inizio, numero_occorrenze\n",
    "\n",
    "# Esempio di utilizzo\n",
    "sequenza_lunga = \"ACGTACGTACGTACGTACGT\"\n",
    "sequenza_breve = \"TAC\"\n",
    "\n",
    "trovato, indice_inizio, numero_occorrenze = trova_sequenza(sequenza_lunga, sequenza_breve)\n",
    "\n",
    "if trovato:\n",
    "  print(f\"La sequenza breve è presente nella sequenza lunga.\")\n",
    "  print(f\"Indice di inizio: {indice_inizio}\")\n",
    "  print(f\"Numero di occorrenze: {numero_occorrenze}\")\n",
    "else:\n",
    "  print(\"La sequenza breve non è presente nella sequenza lunga.\")\n"
   ]
  },
  {
   "cell_type": "code",
   "execution_count": 3,
   "metadata": {},
   "outputs": [
    {
     "name": "stdout",
     "output_type": "stream",
     "text": [
      "La sequenza breve è presente nella sequenza lunga.\n",
      "Posizione/i della sequenza breve nella sequenza lunga: 3\n",
      "La sequenza breve è contenuta nella sequenza lunga 4 volte.\n"
     ]
    }
   ],
   "source": [
    "def ricerca_sequenza_lunga(sequenza_lunga, sequenza_breve):\n",
    "    count = 0\n",
    "    posizioni = []\n",
    "    index = -1\n",
    "    \n",
    "    while True:\n",
    "        index = sequenza_lunga.find(sequenza_breve, index + 1)\n",
    "        if index == -1:\n",
    "            break\n",
    "        count += 1\n",
    "        posizioni.append(index)\n",
    "    \n",
    "    if count > 0:\n",
    "        print(\"La sequenza breve è presente nella sequenza lunga.\")\n",
    "        print(\"Prima posizione della sequenza breve nella sequenza lunga:\", posizioni[0])\n",
    "        print(\"La sequenza breve è contenuta nella sequenza lunga\", count, \"volte.\")\n",
    "    else:\n",
    "        print(\"La sequenza breve non è presente nella sequenza lunga.\")\n",
    "\n",
    "def main():\n",
    "    sequenza_lunga = input(\"Inserisci la sequenza lunga di DNA di 20 caratteri: \")\n",
    "    sequenza_breve = input(\"Inserisci la sequenza breve di DNA di 3 caratteri: \")\n",
    "\n",
    "    if len(sequenza_lunga) != 20 or len(sequenza_breve) != 3:\n",
    "        print(\"Errore: La lunghezza della sequenza lunga deve essere 20 e quella della sequenza breve deve essere 3.\")\n",
    "        return\n",
    "\n",
    "    ricerca_sequenza_lunga(sequenza_lunga, sequenza_breve)\n",
    "\n",
    "if __name__ == \"__main__\":\n",
    "    main()\n"
   ]
  },
  {
   "cell_type": "code",
   "execution_count": 4,
   "metadata": {},
   "outputs": [
    {
     "name": "stdout",
     "output_type": "stream",
     "text": [
      "La sequenza breve è presente nella sequenza lunga.\n",
      "Posizione (indice) della prima occorrenza: 3\n",
      "La sequenza breve è contenuta nella sequenza lunga 4 volte.\n"
     ]
    }
   ],
   "source": [
    "def cerca_sequenza(sequence_lunga, sequence_breve):\n",
    "    # Inizializza una lista vuota per memorizzare gli indici in cui la sequenza breve compare nella sequenza lunga\n",
    "    indici = []\n",
    "    # Inizializza un contatore per contare quante volte la sequenza breve compare nella sequenza lunga\n",
    "    conteggio = 0\n",
    "    \n",
    "    # Cicla attraverso la sequenza lunga\n",
    "    for i in range(len(sequence_lunga)):\n",
    "        # Controlla se la sottostringa di lunghezza uguale alla sequenza breve è uguale alla sequenza breve\n",
    "        if sequence_lunga[i:i+len(sequence_breve)] == sequence_breve:\n",
    "            # Se sì, aggiungi l'indice alla lista degli indici\n",
    "            indici.append(i)\n",
    "            # Incrementa il contatore\n",
    "            conteggio += 1\n",
    "    \n",
    "    # Stampa se la sequenza breve è presente nella sequenza lunga\n",
    "    if conteggio > 0:\n",
    "        print(\"La sequenza breve è presente nella sequenza lunga.\")\n",
    "        print(\"Posizione (indice) della prima occorrenza:\", indici[0])\n",
    "        print(\"La sequenza breve è contenuta nella sequenza lunga\", conteggio, \"volte.\")\n",
    "    else:\n",
    "        print(\"La sequenza breve non è presente nella sequenza lunga.\")\n",
    "\n",
    "# Input della sequenza lunga e della sequenza breve dall'utente\n",
    "sequence_lunga = input(\"Inserisci la sequenza lunga di DNA di venti caratteri: \")\n",
    "sequence_breve = input(\"Inserisci la sequenza breve di DNA di tre caratteri: \")\n",
    "\n",
    "# Assicurati che le sequenze siano lunghe 20 e 3 caratteri rispettivamente\n",
    "if len(sequence_lunga) != 20 or len(sequence_breve) != 3:\n",
    "    print(\"Assicurati che la sequenza lunga abbia 20 caratteri e che la sequenza breve abbia 3 caratteri.\")\n",
    "else:\n",
    "    # Chiamata alla funzione cerca_sequenza per trovare la sequenza breve nella sequenza lunga\n",
    "    cerca_sequenza(sequence_lunga, sequence_breve)\n"
   ]
  },
  {
   "cell_type": "markdown",
   "metadata": {},
   "source": [
    "## Esercizio 4: Questione di logica\n",
    "\n",
    "Scrivere un programma che prenda in input un numero intero `x` e visualizzi a schermo le seguenti espressioni, accompagnate dai valori di verità risultanti dalla loro valutazione.\n",
    "\n",
    "- `x > 0 and x < 100`\n",
    "- `x > 0 or x < 100`\n",
    "- `x > 0 or 100 < x`\n",
    "- `x > 0 and x < 100 or x == -1`\n",
    "\n",
    "Testare il programma con numerosi valori di x."
   ]
  },
  {
   "cell_type": "markdown",
   "metadata": {},
   "source": [
    "ESEMPIO:\n",
    "\n",
    "Se `x = 200`\n",
    "\n",
    "Output atteso:\n",
    "\n",
    "```text\n",
    "200 > 0 and 200 < 100 : False\n",
    "200 > 0 or 200 < 100 : True\n",
    "200 > 0 or 100 < 200 : True\n",
    "200 > 0 and 200 < 100 or 200 == -1 : False\n",
    "\n",
    "```"
   ]
  },
  {
   "cell_type": "code",
   "execution_count": null,
   "metadata": {},
   "outputs": [],
   "source": [
    "# Scrivi qua il tuo codice\n"
   ]
  },
  {
   "cell_type": "markdown",
   "metadata": {},
   "source": [
    "## Esercizio 5: De Morgan (+)\n",
    "\n",
    "La legge di De Morgan permette di semplificare l'applicazione dell'operatore `not` ad espressioni che contengono operatori `and` e/o `or`. In particolare, questa legge ha due forme, una per la negazione di espressioni in `and`, e una per la negazione di espressioni in `or`:\n",
    "\n",
    "|               | equivale a\n",
    "--------------- | ------------------|\n",
    "`not (A and B)` | `not A or not B`  |\n",
    "`not (A or B)`  | `not A and not B` |\n",
    "\n",
    "Considerare le espressioni seguenti, e per ciascuna di esse applicare la legge di De Morgan. Provare a descrivere \"a parole\" il significato algebrico intuitivo di ciascuna espressione.\n",
    "\n",
    "Scrivere poi un programma che prenda in input un numero intero `x` e, per ciascuna delle seguenti espressioni (che corrispondono alla negazione delle espressioni dell'Esercizio 4), stampi:\n",
    "\n",
    "1. L'espressione di partenza.\n",
    "2. L'espressione una volta applicata la legge di De Morgan e il valore di verità risultante dalla sua valutazione.\n",
    "\n",
    "- `not(x > 0 and x < 100)`\n",
    "- `not(x > 0 or x < 100)`\n",
    "- `not(x > 0 or 100 < x)`\n",
    "- `not(x > 0 and x< 100 or x == -1)`"
   ]
  },
  {
   "cell_type": "markdown",
   "metadata": {},
   "source": [
    "ESEMPIO:\n",
    "\n",
    "Se `x = 200`\n",
    "\n",
    "Output atteso:\n",
    "\n",
    "```text\n",
    "Originale:\n",
    "200 > 0 and 200 < 100 : False\n",
    "\n",
    "Negato:\n",
    "# not (200 > 0 and 200 < 100) : False\n",
    "# not (200 > 0) or not (200 < 100) : True\n",
    "200 <= 0 or 200 >= 100 : True\n",
    "...\n",
    "```"
   ]
  },
  {
   "cell_type": "code",
   "execution_count": 5,
   "metadata": {},
   "outputs": [
    {
     "data": {
      "text/plain": [
       "True"
      ]
     },
     "execution_count": 5,
     "metadata": {},
     "output_type": "execute_result"
    }
   ],
   "source": [
    "# Scrivi qua il tuo codice\n"
   ]
  }
 ],
 "metadata": {
  "kernelspec": {
   "display_name": ".venv",
   "language": "python",
   "name": "python3"
  },
  "language_info": {
   "codemirror_mode": {
    "name": "ipython",
    "version": 3
   },
   "file_extension": ".py",
   "mimetype": "text/x-python",
   "name": "python",
   "nbconvert_exporter": "python",
   "pygments_lexer": "ipython3",
   "version": "3.12.1"
  }
 },
 "nbformat": 4,
 "nbformat_minor": 2
}
