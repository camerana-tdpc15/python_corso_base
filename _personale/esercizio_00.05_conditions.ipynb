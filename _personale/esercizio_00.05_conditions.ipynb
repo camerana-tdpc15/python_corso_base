{
 "cells": [
  {
   "cell_type": "markdown",
   "metadata": {},
   "source": [
    "# Esercizi introduttivi"
   ]
  },
  {
   "cell_type": "markdown",
   "metadata": {},
   "source": [
    "TEMI TRATTATI:\n",
    "\n",
    "- Scelte logiche.\n",
    "- Costrutti condizionali (`if`, `else` e `elif`).\n",
    "- Blocchi e istruzioni annidate.\n",
    "- Elaborazioni e confronti tra variabili con valori di tipo `int`, `float` e `str`.\n",
    "- Espressioni booleane."
   ]
  },
  {
   "cell_type": "markdown",
   "metadata": {},
   "source": [
    "NOTE SULLO SVOLGIMENTO:\n",
    "- Puoi svolgere ed eseguire gli esercizi direttamente qua su questo notebook oppure su un normale file di script Python con estensione `.py`, eseguendolo nel terminale del sistema operativo con il comando `py mio_esercizio.py` (Windows) oppure `python3 mio_esercizio.py` (Linux o macOS)."
   ]
  },
  {
   "cell_type": "markdown",
   "metadata": {},
   "source": [
    "## Esercizio 1: Andamenti\n",
    "\n",
    " Scrivere un programma che legga tre numeri e visualizzi il messaggio `'increasing'` se sono in ordine strettamente crescente, `'decreasing'` se sono in ordine strettamente decrescente e `'neither'` se non sono né in ordine crescente né in ordine decrescente.\n",
    " \n",
    " NOTA BENE: \"strettamente crescente\" significa che ciascun valore deve essere maggiore del precedente (analogo significato ha il termine decrescente). Per esempio la sequenza `3 4 4` non va considerata crescente."
   ]
  },
  {
   "cell_type": "code",
   "execution_count": null,
   "metadata": {},
   "outputs": [],
   "source": [
    "# Scrivi qua il tuo codice\n"
   ]
  },
  {
   "cell_type": "markdown",
   "metadata": {},
   "source": [
    "## Esercizio 2: Voti\n",
    "\n",
    "Scrivere un programma che riceva in input un voto in lettere inserito dall’utente, lo traduca nel corrispondente voto numerico e infine lo stampi\n",
    "\n",
    "- I voti in lettere sono `'A'`, `'B'`, `'C'`, `'D'` e `'F'`, eventualmente seguiti da un segno `+` o `–`.\n",
    "\n",
    "- I loro valori numerici sono, nell’ordine, `4.0`, `3.0`, `2.0`, `1.0` e `0.0`.\n",
    "\n",
    "- I voti `'F+'` e `'F–'` non esistono.\n",
    "\n",
    "- Un segno `+` aumenta il voto numerico di `0.3`, mentre un segno `–` lo diminuisce della stessa quantità.\n",
    "\n",
    "- Il voto `'A+'` è comunque uguale a `4.0`."
   ]
  },
  {
   "cell_type": "code",
   "execution_count": null,
   "metadata": {},
   "outputs": [],
   "source": [
    "# Scrivi qua il tuo codice\n"
   ]
  },
  {
   "cell_type": "markdown",
   "metadata": {},
   "source": [
    "## Esercizio 3: Cicli stagionali\n",
    "\n",
    "Il seguente pseudocodice descrive un algoritmo che individua la stagione (Primavera, Estate, Autunno o Inverno) a cui appartiene una data, fornita tramite due input numerici: mese e giorno.\n",
    "\n",
    "```text\n",
    "- Ottieni il numero del mese\n",
    "- Ottieni il numero del giorno\n",
    "\n",
    "- Se il mese è 1, 2 o 3:\n",
    "    - stagione = \"Inverno\"\n",
    "- Altrimenti se il mese è 4, 5 o 6:\n",
    "    - stagione = \"Primavera\"\n",
    "- Altrimenti se il mese è 7, 8 o 9:\n",
    "    - stagione = \"Estate\"\n",
    "- Altrimenti se il mese è 10, 11 o 12:\n",
    "    - stagione = \"Autunno\"\n",
    "\n",
    "- Se il mese è divisibile per 3 e il giorno >= 21:\n",
    "    - Se la stagione è \"Inverno\":\n",
    "        - stagione = \"Primavera\"\n",
    "    - Altrimenti se la stagione è \"Primavera\":\n",
    "        - stagione = \"Estate\"\n",
    "    - Altrimenti se la stagione è \"Estate\":\n",
    "        - stagione = \"Autunno\"\n",
    "    - Altrimenti:\n",
    "        - stagione = \"Inverno\"\n",
    "```"
   ]
  },
  {
   "cell_type": "markdown",
   "metadata": {},
   "source": [
    "Implementa in Python questo algoritmo.\n",
    "\n",
    "Scrivere un programma che chieda all’utente un mese e un giorno in forma numerica e poi visualizzi la stagione determinata da questo algoritmo.\n",
    "\n",
    "Verifica la correttezza dell'output tramite dei test manuali con date fittizie."
   ]
  },
  {
   "cell_type": "code",
   "execution_count": 6,
   "metadata": {},
   "outputs": [
    {
     "name": "stdout",
     "output_type": "stream",
     "text": [
      "Estate\n"
     ]
    }
   ],
   "source": [
    "# 1. Ottieni il numero del mese\n",
    "mese = input('inserisci il numero del mese con numero compreso tra 1 e 12')\n",
    "mese_int = int(mese)\n",
    "stagione = ''\n",
    "# verifico che il valore non sia letterale\n",
    "if mese.isalpha() is True:\n",
    "    print(f'{mese} non è un numero compreso tra 1 e 12')\n",
    "# verifico che il mese inserito sia compreso tra 1 e 12\n",
    "elif int(mese) < 1 or int(mese) > 12 :\n",
    "    print(f'{mese} non è un numero compreso tra 1 e 12')\n",
    "\n",
    "# 2. Ottieni il numero del giorno\n",
    "giorno = input('inserisci il numero del giorno con numero compreso tra 1 e 31')\n",
    "giorno_int = int(giorno)\n",
    "# verifico che il valore non sia letterale\n",
    "if giorno.isalpha() is True:\n",
    "    print(f'{mese} non è un numero compreso tra 1 e 31')\n",
    "# verifico che il giorno inserito sia compreso tra 1 e 31    \n",
    "elif int(giorno) < 1 or int(giorno) > 31 :\n",
    "    print(f'{giorno} non è un numero compreso tra 1 e 31')\n",
    "\n",
    "# 1.1 Se il mese è 1, 2 o 3:\n",
    "    #- stagione = \"Inverno\"\n",
    "if mese_int >= 1 and mese_int <= 3 :\n",
    "    stagione = \"Inverno\"\n",
    "\n",
    "# 1.2  Altrimenti se il mese è 4, 5 o 6:\n",
    "    #- stagione = \"Primavera\"\n",
    "if mese_int >= 4 and mese_int <= 6 :\n",
    "    stagione = \"Primavera\"\n",
    "    \n",
    "# 1.3 Altrimenti se il mese è 7, 8 o 9:\n",
    "    #- stagione = \"Estate\"\n",
    "if mese_int >= 7 and mese_int <= 9 :\n",
    "    stagione = \"Estate\"\n",
    "    \n",
    "# 1.4 Altrimenti se il mese è 10, 11 o 12:\n",
    "    #- stagione = \"Autunno\"\n",
    "if mese_int >= 10 and mese_int <= 12 :\n",
    "    stagione = \"Autunno\"\n",
    "    \n",
    "# 3. Se il mese è divisibile per 3 e il giorno >= 21:\n",
    "if mese_int % 3 == 0 and giorno_int >= 21 :\n",
    "     # 3.1 e la stagione è \"Inverno\":\n",
    "    if stagione == \"Inverno\":\n",
    "         #- stagione = \"Primavera\"\n",
    "         stagione = \"Primavera\"\n",
    "    # 3.2 Altrimenti se la stagione è \"Primavera\":\n",
    "        #- stagione = \"Estate\"\n",
    "    elif stagione == \"Primavera\":\n",
    "        stagione = \"Estate\"\n",
    "    # 3.3 Altrimenti se la stagione è \"Estate\":\n",
    "       # - stagione = \"Autunno\"\n",
    "    elif stagione == \"Estate\":\n",
    "        stagione = \"Autunno\"\n",
    "    # 3.4 Altrimenti:\n",
    "       # - stagione = \"Inverno\"\n",
    "    else:\n",
    "        stagione = \"Inverno\"\n",
    "print(stagione)"
   ]
  }
 ],
 "metadata": {
  "kernelspec": {
   "display_name": ".venv",
   "language": "python",
   "name": "python3"
  },
  "language_info": {
   "codemirror_mode": {
    "name": "ipython",
    "version": 3
   },
   "file_extension": ".py",
   "mimetype": "text/x-python",
   "name": "python",
   "nbconvert_exporter": "python",
   "pygments_lexer": "ipython3",
   "version": "3.12.1"
  }
 },
 "nbformat": 4,
 "nbformat_minor": 2
}
