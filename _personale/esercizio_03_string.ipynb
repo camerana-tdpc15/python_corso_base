{
 "cells": [
  {
   "attachments": {},
   "cell_type": "markdown",
   "metadata": {},
   "source": [
    "## Esercizio - Censura al tiramisù\n",
    " \n",
    "Ci è stato inviato un testo illegale, immorale e che fa pure ingrassare. \n",
    "Per tutelare la pubblica salute abbiamo l'arduo compito di censurarlo e \n",
    "renderlo consono al buon costume.\n",
    " \n",
    "1) E' necessario sostituire OGNI occorrenza delle due parole malefiche con una  più salubre censura, trasformando il testo in modo che la print  di testo_censurato non contenga nessuna parola incriminata.\n",
    "\n",
    "Esempio:\n",
    "\n",
    "```python\n",
    "testo= \"Grazie all'uso di Cera Splendent tutto brilla!\"\n",
    "parola_malefica = \"splendent\"\n",
    "censura = \"******\"\n",
    "testo_censurato: \"Grazie all'uso di Cera ****** tutto brilla!\"\n",
    "```\n",
    "\n",
    "2) Per scrivere il nostro rapporto di censori dobbiamo rendere conto di quante parole abbiamo censurato. Stampare alla fine il numero (ovviamente in maniera automatica ), per esempio:\n",
    "\n",
    "```\n",
    "\"Censurata 1 parola\"\n",
    "```"
   ]
  },
  {
   "cell_type": "code",
   "execution_count": 36,
   "metadata": {},
   "outputs": [
    {
     "name": "stdout",
     "output_type": "stream",
     "text": [
      "Ed è proprio da questa portentosa crema che nasce la crema al mascarpone\n",
      "base del ******, prima classificata al premio Crema dell'Anno insieme\n",
      "alla ******. Il dolce italiano per eccellenza, quello più famoso e amato,\n",
      "ma soprattutto che ha dato vita a tantissime altre versioni, anche ****** senza uova!\n",
      "Poi il ****** alle fragole o quello alla ******, giusto per citarne un paio!\n",
      "Senza contare le rivisitazioni più raffinate come la ****** morbida o la torta al ******.\n",
      "\n",
      "Censurate 7 parole.\n"
     ]
    }
   ],
   "source": [
    "testo = \"\"\"Ed è proprio da questa portentosa crema che nasce la crema al mascarpone\n",
    "base del tiramisù, prima classificata al premio Crema dell'Anno insieme\n",
    "alla nutella. Il dolce italiano per eccellenza, quello più famoso e amato,\n",
    "ma soprattutto che ha dato vita a tantissime altre versioni, anche tiramisù senza uova!\n",
    "Poi il Tiramisù alle fragole o quello alla Nutella, giusto per citarne un paio!\n",
    "Senza contare le rivisitazioni più raffinate come la crostata morbida o la torta al tiramisù.\n",
    "\"\"\"\n",
    "\n",
    "parola_malefica1 = \"Tiramisù\"\n",
    "parola_malefica2 = \"nutella\"\n",
    "# parola_malefica3 = \"tiramisù\"\n",
    "# parola_malefica4 = \"Nutella\"\n",
    "\n",
    "censura = \"******\"\n",
    "\n",
    "#testo_complet_censurato = ''\n",
    "\n",
    "testo_censurato = testo\n",
    "\n",
    "parole_malefiche = [\"nutella\", \"Tiramisù\", \"crostata\"]\n",
    "\n",
    "# scrivi qui\n",
    "\n",
    "\n",
    "#prima_censura = testo.replace(parola_malefica1, censura)\n",
    "#seconda_censura = prima_censura.replace(parola_malefica2, censura)\n",
    "#terza_censura = seconda_censura.replace(parola_malefica3, censura)\n",
    "#testo_complet_censurato = terza_censura.replace(parola_malefica4, censura)\n",
    "#print(testo_complet_censurato,'->', len(testo_complet_censurato),end='!') \n",
    "\n",
    "for parola_malefica in parole_malefiche:\n",
    "    testo_censurato = testo_censurato.replace(parola_malefica.lower(), censura)\n",
    "    testo_censurato = testo_censurato.replace(parola_malefica.title(), censura)\n",
    "\n",
    "count_censure = testo_censurato.count(censura)\n",
    "\n",
    "print(testo_censurato)\n",
    "    \n",
    "# if count_censure == 1:\n",
    "#     print(\"1 parola censurata\")\n",
    "# else: \n",
    "#     print(count_censure, \"parole censurate\")\n",
    "\n",
    "# if count_censure > 1:\n",
    "#     print(count_censure, \"censure\")\n",
    "# else:\n",
    "#     print(\"1 censura\")\n",
    "\n",
    "parola_iniziale = \"Censurata\" if count_censure == 1 else \"Censurate\"\n",
    "parola_finale = \"parola.\" if count_censure == 1 else \"parole.\"\n",
    "\n",
    "print(parola_iniziale, count_censure, parola_finale)\n"
   ]
  }
 ],
 "metadata": {
  "language_info": {
   "name": "python"
  },
  "orig_nbformat": 4
 },
 "nbformat": 4,
 "nbformat_minor": 2
}
