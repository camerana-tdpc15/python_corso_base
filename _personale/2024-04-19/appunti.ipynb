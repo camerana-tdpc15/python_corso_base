{
 "cells": [
  {
   "cell_type": "code",
   "execution_count": 1,
   "metadata": {},
   "outputs": [
    {
     "name": "stdout",
     "output_type": "stream",
     "text": [
      "{25: ['Ada', 'Geronima', 'Roberto'], 44: ['Pippo', 'Ciccio'], 48: ['Felice', 'Mimmo'], 52: ['Luca', 'Pluto'], 101: ['Totò']}\n"
     ]
    }
   ],
   "source": [
    "# scrivi qui\n",
    "\n",
    "from datetime import date\n",
    "\n",
    "# my_date = date(2024, 4, 10)\n",
    "# my_date = date.fromisoformat('2024-04-10')\n",
    "# my_date = date.today()\n",
    "\n",
    "\n",
    "# print(my_date.day)\n",
    "# print(my_date.month)\n",
    "# print(my_date.year)\n",
    "\n",
    "oggi = date.today()\n",
    "anno_corrente = oggi.year\n",
    "\n",
    "\n",
    "# print(anno_corrente)\n",
    "\n",
    "report = {}\n",
    "\n",
    "\n",
    "file = open('../../files_esercizi/nomi_data_nascita.txt', encoding='utf-8')\n",
    "\n",
    "lista_report = []\n",
    "\n",
    "\n",
    "for linee in file:\n",
    "    linee = linee.rstrip('\\n')\n",
    "    linee = linee.strip()\n",
    "    linee = linee.split(': ')\n",
    "    #lista_linee.append(linee)\n",
    "    #print(linee)\n",
    "    #print(repr(linee))\n",
    "    nome = linee[0]\n",
    "    anno = int(linee[1])\n",
    "    eta = anno_corrente - anno\n",
    "    #print(\"Nome: \", nome)\n",
    "    #print(\"Anno: \", anno)\n",
    "    #print(\"Età: \", eta)\n",
    "\n",
    "\n",
    "    if eta in report:\n",
    "        lista_report = report[eta]\n",
    "        lista_report.append(nome)\n",
    "        report[eta] = lista_report\n",
    "    else:\n",
    "        lista_report = []\n",
    "        lista_report.append(nome)\n",
    "        report[eta] = lista_report\n",
    "\n",
    "print(report)\n",
    "\n",
    "\n",
    "\n",
    "file.close()\n",
    "\n",
    "\n"
   ]
  },
  {
   "cell_type": "markdown",
   "metadata": {},
   "source": [
    "{24: ['Ada:', 'Geronima:', 'Roberto:'], 43: ['Pippo:', 'Ciccio:'], 47: ['Felice:', 'Mimmo:'], 51: ['Luca:', 'Pluto:'], 100: ['Totò:']}"
   ]
  },
  {
   "cell_type": "markdown",
   "metadata": {},
   "source": [
    "Ora, riesci a scriverle in un file nuovo, mantenendo il seguente formato?\n",
    "\n",
    "```python\n",
    "Nome,Età\n",
    "Ada,24\n",
    "Geronima,24\n",
    "Roberto,24\n",
    "Pippo,43\n",
    "Ciccio,43\n",
    "...\n",
    "```"
   ]
  },
  {
   "cell_type": "markdown",
   "metadata": {},
   "source": [
    "Prova a scrivere un nuovo file `nomi_eta.csv` nella cartella `/files_esercizi` del nostro repository.\n",
    "\n",
    "Normalmente i file `.csv` hanno la prima linea dedicata alle \"intestazioni di colonna\". In questo caso nella prima riga del file dovremmo avere `Nome,Età`."
   ]
  },
  {
   "cell_type": "code",
   "execution_count": null,
   "metadata": {},
   "outputs": [],
   "source": [
    "# scrivi qui"
   ]
  },
  {
   "cell_type": "markdown",
   "metadata": {},
   "source": [
    "Per finire, riusciresti a creare uno script che prende in ingresso due parametri, il file di origine `nomi_data_nascita.txt` e il file di output `nomi_eta.csv` e che esegue le conversione creando il file di output?\n",
    "\n",
    "Per lanciare il nostro script, immaginando di trovarci nella cartella `/files_esercizi`, dovremmo poter lanciare un comando come il seguente:\n",
    "\n",
    "```shell\n",
    "$ py converti_nomi_nascita.py nomi_data_nascita.txt nomi_eta.csv\n",
    "```"
   ]
  },
  {
   "cell_type": "markdown",
   "metadata": {},
   "source": [
    "Crea un nuovo file e chiamalo `converti_nomi_nascita.py` e salvalo dove preferisci, per esempio nella tua cartella `/personale` che dovresti avrere sul tuo branch del nostro repository.\n",
    "\n",
    "Ricorda che poi i percorsi ai file devono essere compatibili con la posizione in cui eseguirai lo script, dove tu ti trovi e dove si trova il file da convertire. Prova varie combinazioni, e vedi cosa succede e dove viene generato il file di output."
   ]
  }
 ],
 "metadata": {
  "kernelspec": {
   "display_name": "Python 3",
   "language": "python",
   "name": "python3"
  },
  "language_info": {
   "codemirror_mode": {
    "name": "ipython",
    "version": 3
   },
   "file_extension": ".py",
   "mimetype": "text/x-python",
   "name": "python",
   "nbconvert_exporter": "python",
   "pygments_lexer": "ipython3",
   "version": "3.10.7"
  }
 },
 "nbformat": 4,
 "nbformat_minor": 2
}
