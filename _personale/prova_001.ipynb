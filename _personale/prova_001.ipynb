{
 "cells": [
  {
   "cell_type": "code",
   "execution_count": 2,
   "metadata": {},
   "outputs": [
    {
     "name": "stdout",
     "output_type": "stream",
     "text": [
      "<class 'list'>\n",
      "<class 'tuple'>\n"
     ]
    }
   ],
   "source": [
    "lista = []\n",
    "\n",
    "print(type(lista))\n",
    "\n",
    "tupla = tuple()\n",
    "\n",
    "print(type(tupla))"
   ]
  },
  {
   "cell_type": "code",
   "execution_count": 2,
   "metadata": {},
   "outputs": [
    {
     "name": "stdout",
     "output_type": "stream",
     "text": [
      "[6, 7, 8, 9, 10]\n"
     ]
    }
   ],
   "source": [
    "num_voti = 5\n",
    "\n",
    "def inputVoti():\n",
    "    lista_generica = []\n",
    "    for num in range(5):\n",
    "        voto = int(input(f\"inserisci voto {num + 1}: \"))\n",
    "        lista_generica.append(voto)\n",
    "    return lista_generica\n",
    "\n",
    "def calcoloMedia(voti):\n",
    "     media = sum(voti) / len(voti)\n",
    "     return media\n",
    "\n",
    "\n",
    "dizionario = {\n",
    "    'matematica': [],\n",
    "    'italiano': [],\n",
    "    'storia': [],\n",
    "    'inglese': [],\n",
    "}\n",
    "\n",
    "\n",
    "nome_alunno = input(\"Inserisci nome e cognome dell'alunno: \")\n",
    "\n",
    "classe_alunno = input(\"Inserisci la classe dell'alunno: \")\n",
    "\n",
    "dizionario['matematica'] = inputVoti()\n",
    "\n",
    "dizionario['italiano'] = inputVoti()\n",
    "\n",
    "dizionario['storia'] = inputVoti()\n",
    "\n",
    "dizionario['inglese'] = inputVoti()\n",
    "\n",
    "media_matematica = calcoloMedia(dizionario['matematica'])\n",
    "\n",
    "media_italiano = calcoloMedia(dizionario['italiano'])\n",
    "\n",
    "media_storia = calcoloMedia(dizionario['storia'])\n",
    "\n",
    "media_inglese = calcoloMedia(dizionario['inglese'])\n",
    "\n",
    "media_globale = (media_matematica + media_italiano + media_storia + media_inglese) / 4\n",
    "\n",
    "for num in dizionario:\n",
    "    print(dizionario)\n",
    "\n",
    "print(f'Media per \"Matematica\": {media_matematica:.2f}')\n",
    "print(f'Media per \"Italiano\": {media_italiano:.2f}')\n",
    "print(f'Media per \"Storia\": {media_storia:.2f}')\n",
    "print(f'Media per \"Inglese\": {media_inglese:.2f}')\n",
    "\n",
    "print(f\"Media globale dell'alunno: {media_globale:.0f}\")\n",
    "\n",
    "print(f\"Il voto più alto dell'alunno: {max(dizionario['matematica']):.0f}\")\n",
    "\n",
    "print(f\"Il voto più basso dell'alunno: {minimo_generico:.0f}\")\n",
    "\n",
    "\n"
   ]
  },
  {
   "cell_type": "code",
   "execution_count": 11,
   "metadata": {},
   "outputs": [
    {
     "name": "stdout",
     "output_type": "stream",
     "text": [
      "[6, 7, 9, 9, 10]\n"
     ]
    }
   ],
   "source": [
    "dizionario = {\n",
    "    'matematica': [1,2,3,4,5],\n",
    "    'italiano': [6,7,8,9,10],\n",
    "    'storia': [6,7,9,9,10],\n",
    "    'inglese': [1,2,3,4,5],\n",
    "}\n",
    "\n",
    "\n",
    "\n",
    "print(max(dizionario.values()))"
   ]
  }
 ],
 "metadata": {
  "kernelspec": {
   "display_name": "Python 3",
   "language": "python",
   "name": "python3"
  },
  "language_info": {
   "codemirror_mode": {
    "name": "ipython",
    "version": 3
   },
   "file_extension": ".py",
   "mimetype": "text/x-python",
   "name": "python",
   "nbconvert_exporter": "python",
   "pygments_lexer": "ipython3",
   "version": "3.10.1"
  }
 },
 "nbformat": 4,
 "nbformat_minor": 2
}
