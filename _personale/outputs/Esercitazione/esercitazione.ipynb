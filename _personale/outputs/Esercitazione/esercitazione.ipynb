{
 "cells": [
  {
   "cell_type": "code",
   "execution_count": 40,
   "metadata": {},
   "outputs": [
    {
     "ename": "ValueError",
     "evalue": "invalid literal for int() with base 10: 'dfgh'",
     "output_type": "error",
     "traceback": [
      "\u001b[1;31m---------------------------------------------------------------------------\u001b[0m",
      "\u001b[1;31mValueError\u001b[0m                                Traceback (most recent call last)",
      "Cell \u001b[1;32mIn[40], line 12\u001b[0m\n\u001b[0;32m      1\u001b[0m Nome \u001b[38;5;241m=\u001b[39m \u001b[38;5;28minput\u001b[39m (\u001b[38;5;124m\"\u001b[39m\u001b[38;5;124mInserisci Nome e cognome dell\u001b[39m\u001b[38;5;124m'\u001b[39m\u001b[38;5;124mallunno: \u001b[39m\u001b[38;5;124m\"\u001b[39m)\n\u001b[0;32m      3\u001b[0m Classe \u001b[38;5;241m=\u001b[39m \u001b[38;5;28minput\u001b[39m (\u001b[38;5;124m\"\u001b[39m\u001b[38;5;124mInserisci la classe dell\u001b[39m\u001b[38;5;124m'\u001b[39m\u001b[38;5;124m alunno: \u001b[39m\u001b[38;5;124m\"\u001b[39m)\n\u001b[0;32m      8\u001b[0m Materie \u001b[38;5;241m=\u001b[39m {\n\u001b[0;32m      9\u001b[0m \n\u001b[0;32m     10\u001b[0m \u001b[38;5;124m'\u001b[39m\u001b[38;5;124mMatematica\u001b[39m\u001b[38;5;124m'\u001b[39m :  [\u001b[38;5;28mint\u001b[39m(\u001b[38;5;28minput\u001b[39m(\u001b[38;5;124m'\u001b[39m\u001b[38;5;124mInserisci 5 voti per la materia MATEMATICA:  Voto 1\u001b[39m\u001b[38;5;124m'\u001b[39m)),\n\u001b[0;32m     11\u001b[0m                     \u001b[38;5;28mint\u001b[39m(\u001b[38;5;28minput\u001b[39m (\u001b[38;5;124m'\u001b[39m\u001b[38;5;124mInserisci 5 voti per la materia MATEMATICA:  Voto 2\u001b[39m\u001b[38;5;124m'\u001b[39m)),\n\u001b[1;32m---> 12\u001b[0m                     \u001b[38;5;28;43mint\u001b[39;49m\u001b[43m(\u001b[49m\u001b[38;5;28;43minput\u001b[39;49m\u001b[43m \u001b[49m\u001b[43m(\u001b[49m\u001b[38;5;124;43m'\u001b[39;49m\u001b[38;5;124;43mInserisci 5 voti per la materia MATEMATICA:  Voto 3\u001b[39;49m\u001b[38;5;124;43m'\u001b[39;49m\u001b[43m)\u001b[49m\u001b[43m)\u001b[49m,\n\u001b[0;32m     13\u001b[0m                     \u001b[38;5;28mint\u001b[39m(\u001b[38;5;28minput\u001b[39m (\u001b[38;5;124m'\u001b[39m\u001b[38;5;124mInserisci 5 voti per la materia MATEMATICA:  Voto 4\u001b[39m\u001b[38;5;124m'\u001b[39m)),\n\u001b[0;32m     14\u001b[0m                     \u001b[38;5;28mint\u001b[39m(\u001b[38;5;28minput\u001b[39m (\u001b[38;5;124m'\u001b[39m\u001b[38;5;124mInserisci 5 voti per la materia MATEMATICA:  Voto 5\u001b[39m\u001b[38;5;124m'\u001b[39m))],\n\u001b[0;32m     15\u001b[0m \n\u001b[0;32m     16\u001b[0m \u001b[38;5;124m'\u001b[39m\u001b[38;5;124mItaliano\u001b[39m\u001b[38;5;124m'\u001b[39m :  [\u001b[38;5;28mint\u001b[39m(\u001b[38;5;28minput\u001b[39m(\u001b[38;5;124m'\u001b[39m\u001b[38;5;124mInserisci 5 voti per la materia ITALIANO:  Voto 1\u001b[39m\u001b[38;5;124m'\u001b[39m)),\n\u001b[0;32m     17\u001b[0m                     \u001b[38;5;28mint\u001b[39m(\u001b[38;5;28minput\u001b[39m (\u001b[38;5;124m'\u001b[39m\u001b[38;5;124mInserisci 5 voti per la materia ITALIANO:  Voto 2\u001b[39m\u001b[38;5;124m'\u001b[39m)),\n\u001b[0;32m     18\u001b[0m                     \u001b[38;5;28mint\u001b[39m(\u001b[38;5;28minput\u001b[39m (\u001b[38;5;124m'\u001b[39m\u001b[38;5;124mInserisci 5 voti per la materia ITALIANO:  Voto 3\u001b[39m\u001b[38;5;124m'\u001b[39m)),\n\u001b[0;32m     19\u001b[0m                     \u001b[38;5;28mint\u001b[39m(\u001b[38;5;28minput\u001b[39m (\u001b[38;5;124m'\u001b[39m\u001b[38;5;124mInserisci 5 voti per la materia ITALIANO:  Voto 4\u001b[39m\u001b[38;5;124m'\u001b[39m)),\n\u001b[0;32m     20\u001b[0m                     \u001b[38;5;28mint\u001b[39m(\u001b[38;5;28minput\u001b[39m (\u001b[38;5;124m'\u001b[39m\u001b[38;5;124mInserisci 5 voti per la materia ITALIANO:  Voto 5\u001b[39m\u001b[38;5;124m'\u001b[39m))],\n\u001b[0;32m     21\u001b[0m \n\u001b[0;32m     22\u001b[0m \u001b[38;5;124m'\u001b[39m\u001b[38;5;124mInglese\u001b[39m\u001b[38;5;124m'\u001b[39m :  [\u001b[38;5;28mint\u001b[39m(\u001b[38;5;28minput\u001b[39m(\u001b[38;5;124m'\u001b[39m\u001b[38;5;124mInserisci 5 voti per la materia INGLESE:  Voto 1\u001b[39m\u001b[38;5;124m'\u001b[39m)),\n\u001b[0;32m     23\u001b[0m                     \u001b[38;5;28mint\u001b[39m(\u001b[38;5;28minput\u001b[39m (\u001b[38;5;124m'\u001b[39m\u001b[38;5;124mInserisci 5 voti per la materia INGLESE:  Voto 2\u001b[39m\u001b[38;5;124m'\u001b[39m)),\n\u001b[0;32m     24\u001b[0m                     \u001b[38;5;28mint\u001b[39m(\u001b[38;5;28minput\u001b[39m (\u001b[38;5;124m'\u001b[39m\u001b[38;5;124mInserisci 5 voti per la materia INGLESE:  Voto 3\u001b[39m\u001b[38;5;124m'\u001b[39m)),\n\u001b[0;32m     25\u001b[0m                     \u001b[38;5;28mint\u001b[39m(\u001b[38;5;28minput\u001b[39m (\u001b[38;5;124m'\u001b[39m\u001b[38;5;124mInserisci 5 voti per la materia INGLESE:  Voto 4\u001b[39m\u001b[38;5;124m'\u001b[39m)),\n\u001b[0;32m     26\u001b[0m                     \u001b[38;5;28mint\u001b[39m(\u001b[38;5;28minput\u001b[39m (\u001b[38;5;124m'\u001b[39m\u001b[38;5;124mInserisci 5 voti per la materia INGLESE:  Voto 5\u001b[39m\u001b[38;5;124m'\u001b[39m))],\n\u001b[0;32m     27\u001b[0m \n\u001b[0;32m     28\u001b[0m \u001b[38;5;124m'\u001b[39m\u001b[38;5;124mStoria\u001b[39m\u001b[38;5;124m'\u001b[39m :  [\u001b[38;5;28mint\u001b[39m(\u001b[38;5;28minput\u001b[39m(\u001b[38;5;124m'\u001b[39m\u001b[38;5;124mInserisci 5 voti per la materia STORIA:  Voto 1\u001b[39m\u001b[38;5;124m'\u001b[39m)),\n\u001b[0;32m     29\u001b[0m                     \u001b[38;5;28mint\u001b[39m(\u001b[38;5;28minput\u001b[39m (\u001b[38;5;124m'\u001b[39m\u001b[38;5;124mInserisci 5 voti per la materia STORIA:  Voto 2\u001b[39m\u001b[38;5;124m'\u001b[39m)),\n\u001b[0;32m     30\u001b[0m                     \u001b[38;5;28mint\u001b[39m(\u001b[38;5;28minput\u001b[39m (\u001b[38;5;124m'\u001b[39m\u001b[38;5;124mInserisci 5 voti per la materia STORIA:  Voto 3\u001b[39m\u001b[38;5;124m'\u001b[39m)),\n\u001b[0;32m     31\u001b[0m                     \u001b[38;5;28mint\u001b[39m(\u001b[38;5;28minput\u001b[39m (\u001b[38;5;124m'\u001b[39m\u001b[38;5;124mInserisci 5 voti per la materia STORIA:  Voto 4\u001b[39m\u001b[38;5;124m'\u001b[39m)),\n\u001b[0;32m     32\u001b[0m                     \u001b[38;5;28mint\u001b[39m(\u001b[38;5;28minput\u001b[39m (\u001b[38;5;124m'\u001b[39m\u001b[38;5;124mInserisci 5 voti per la materia STORIA:  Voto 5\u001b[39m\u001b[38;5;124m'\u001b[39m))],\n\u001b[0;32m     33\u001b[0m \n\u001b[0;32m     34\u001b[0m }\n\u001b[0;32m     36\u001b[0m Media_Matematica \u001b[38;5;241m=\u001b[39m \u001b[38;5;28msum\u001b[39m(Materie[\u001b[38;5;124m'\u001b[39m\u001b[38;5;124mMatematica\u001b[39m\u001b[38;5;124m'\u001b[39m])\u001b[38;5;241m/\u001b[39m\u001b[38;5;28mlen\u001b[39m(Materie[\u001b[38;5;124m'\u001b[39m\u001b[38;5;124mMatematica\u001b[39m\u001b[38;5;124m'\u001b[39m])\n\u001b[0;32m     37\u001b[0m Media_Italiano \u001b[38;5;241m=\u001b[39m \u001b[38;5;28msum\u001b[39m(Materie[\u001b[38;5;124m'\u001b[39m\u001b[38;5;124mItaliano\u001b[39m\u001b[38;5;124m'\u001b[39m])\u001b[38;5;241m/\u001b[39m\u001b[38;5;28mlen\u001b[39m(Materie[\u001b[38;5;124m'\u001b[39m\u001b[38;5;124mItaliano\u001b[39m\u001b[38;5;124m'\u001b[39m])\n",
      "\u001b[1;31mValueError\u001b[0m: invalid literal for int() with base 10: 'dfgh'"
     ]
    }
   ],
   "source": [
    "Nome = input (\"Inserisci Nome e cognome dell'allunno: \")\n",
    "\n",
    "Classe = input (\"Inserisci la classe dell' alunno: \")\n",
    "\n",
    "\n",
    "\n",
    "\n",
    "Materie = {\n",
    "\n",
    "'Matematica' :  [int(input('Inserisci 5 voti per la materia MATEMATICA:  Voto 1')),\n",
    "                    int(input ('Inserisci 5 voti per la materia MATEMATICA:  Voto 2')),\n",
    "                    int(input ('Inserisci 5 voti per la materia MATEMATICA:  Voto 3')),\n",
    "                    int(input ('Inserisci 5 voti per la materia MATEMATICA:  Voto 4')),\n",
    "                    int(input ('Inserisci 5 voti per la materia MATEMATICA:  Voto 5'))],\n",
    "\n",
    "'Italiano' :  [int(input('Inserisci 5 voti per la materia ITALIANO:  Voto 1')),\n",
    "                    int(input ('Inserisci 5 voti per la materia ITALIANO:  Voto 2')),\n",
    "                    int(input ('Inserisci 5 voti per la materia ITALIANO:  Voto 3')),\n",
    "                    int(input ('Inserisci 5 voti per la materia ITALIANO:  Voto 4')),\n",
    "                    int(input ('Inserisci 5 voti per la materia ITALIANO:  Voto 5'))],\n",
    "\n",
    "'Inglese' :  [int(input('Inserisci 5 voti per la materia INGLESE:  Voto 1')),\n",
    "                    int(input ('Inserisci 5 voti per la materia INGLESE:  Voto 2')),\n",
    "                    int(input ('Inserisci 5 voti per la materia INGLESE:  Voto 3')),\n",
    "                    int(input ('Inserisci 5 voti per la materia INGLESE:  Voto 4')),\n",
    "                    int(input ('Inserisci 5 voti per la materia INGLESE:  Voto 5'))],\n",
    "\n",
    "'Storia' :  [int(input('Inserisci 5 voti per la materia STORIA:  Voto 1')),\n",
    "                    int(input ('Inserisci 5 voti per la materia STORIA:  Voto 2')),\n",
    "                    int(input ('Inserisci 5 voti per la materia STORIA:  Voto 3')),\n",
    "                    int(input ('Inserisci 5 voti per la materia STORIA:  Voto 4')),\n",
    "                    int(input ('Inserisci 5 voti per la materia STORIA:  Voto 5'))],\n",
    "\n",
    "}\n",
    "\n",
    "Media_Matematica = sum(Materie['Matematica'])/len(Materie['Matematica'])\n",
    "Media_Italiano = sum(Materie['Italiano'])/len(Materie['Italiano'])\n",
    "Media_Inglese = sum(Materie['Inglese'])/len(Materie['Inglese'])\n",
    "Media_Storia = sum(Materie['Storia'])/len(Materie['Storia'])\n",
    "\n",
    "Medie = [Media_Matematica, Media_Italiano, Media_Inglese, Media_Storia]\n",
    "Media_Globale = int(sum(Medie) / len(Medie))\n",
    "\n",
    "\n",
    "Voto_Alto =  max(Materie['Matematica'] + Materie['Italiano'] + Materie['Inglese'] + Materie['Storia'])\n",
    "\n",
    "Voto_Basso=  min(Materie['Matematica'] + Materie['Italiano'] + Materie['Inglese'] + Materie['Storia'])\n",
    "\n",
    "print(f\"Risultati per l' alunno {Nome} della classe {Classe}:\")\n",
    "\n",
    "for x in Materie :\n",
    "    print(f\"Media per {x} : {sum(Materie[x])/len(Materie[x])}\")\n",
    "\n",
    "    \n",
    "print(f\"Media Globale dell' alunno : {Media_Globale}\" )\n",
    "\n",
    "print(f\"Il voto più Alto dell' Alunno: {Voto_Alto}\")\n",
    "\n",
    "print(f\"Il voto più Basso dell' Alunno: {Voto_Basso}\")\n",
    "\n",
    "\n",
    "\n",
    "\n"
   ]
  }
 ],
 "metadata": {
  "kernelspec": {
   "display_name": "Python 3",
   "language": "python",
   "name": "python3"
  },
  "language_info": {
   "codemirror_mode": {
    "name": "ipython",
    "version": 3
   },
   "file_extension": ".py",
   "mimetype": "text/x-python",
   "name": "python",
   "nbconvert_exporter": "python",
   "pygments_lexer": "ipython3",
   "version": "3.10.0"
  }
 },
 "nbformat": 4,
 "nbformat_minor": 2
}
