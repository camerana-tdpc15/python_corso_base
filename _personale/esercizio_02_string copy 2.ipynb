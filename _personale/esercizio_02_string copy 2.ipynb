{
 "cells": [
  {
   "cell_type": "code",
   "execution_count": null,
   "metadata": {},
   "outputs": [],
   "source": [
    "ricetta_orig = \"oliva\\t, pepe,cappero ,\\n detersivo,\\t \\n cappero, peperone, acciuga ,oliva , pepe\\t,\\t cappero , \\noliva,pasta\\n\"\n",
    "# ricetta = \"oliva\\t, pepe,cappero ,\\n dete\\nrsivo,\\t \\n cappero, peperone, acciuga ,oliva , pepe\\t,\\t cappero , \\noliva,pasta\\n\"\n",
    "# ricetta = \"cappone , pepe,\\noliva\\n,\\n\\tpepe, acciuga \"   #  1 oliva 2 pepe 0 cappero\n",
    "\n",
    "# scrivi qui\n"
   ]
  }
 ],
 "metadata": {
  "kernelspec": {
   "display_name": "Python 3",
   "language": "python",
   "name": "python3"
  },
  "language_info": {
   "name": "python",
   "version": "3.10.0"
  },
  "orig_nbformat": 4
 },
 "nbformat": 4,
 "nbformat_minor": 2
}
