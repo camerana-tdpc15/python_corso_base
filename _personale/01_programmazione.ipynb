{
 "cells": [
  {
   "cell_type": "markdown",
   "metadata": {
    "slideshow": {
     "slide_type": "slide"
    },
    "tags": []
   },
   "source": [
    "# Introduzione alla programmazione"
   ]
  },
  {
   "cell_type": "markdown",
   "metadata": {},
   "source": [
    "![](./imgs/programming/python_gears.png)\n",
    "\n",
    "<small>*Il sofware sulla sinistra è l'IDE Spyder con una pagina di codice e i riquadri per il debug e output grafici*</small>\n",
    "\n",
    "<small>*Il meccanismo sulla destra è da una [foto di Guido Mocafico - Gérald Genta chronographe mono poussoir quantième perpétuel (W107B)](https://www.guidomocafico.com/work/movement/)*</small>\n"
   ]
  },
  {
   "cell_type": "markdown",
   "metadata": {
    "slideshow": {
     "slide_type": "slide"
    },
    "tags": []
   },
   "source": [
    "## Che cos'è la programmazione?"
   ]
  },
  {
   "cell_type": "markdown",
   "metadata": {
    "slideshow": {
     "slide_type": "fragment"
    },
    "tags": []
   },
   "source": [
    "In poche parole, la programmazione informatica è un modo per far svolgere ai computer compiti diversi. È un processo che consiste nello scrivere una serie di istruzioni (note anche come **codice**) che una macchina possa comprendere e far sì che le esegua."
   ]
  },
  {
   "cell_type": "markdown",
   "metadata": {
    "slideshow": {
     "slide_type": "fragment"
    },
    "tags": []
   },
   "source": [
    "L'obiettivo finale può essere quello di risolvere un'equazione matematica, automatizzare un compito noioso o creare una pagina web, un'app mobile o un intero gioco; insomma, creare quello che viene definito **_software_**."
   ]
  },
  {
   "cell_type": "markdown",
   "metadata": {
    "slideshow": {
     "slide_type": "fragment"
    },
    "tags": []
   },
   "source": [
    "La programmazione informatica richiede competenze tecniche e pensiero creativo. Alcuni la chiamano scienza, altri arte."
   ]
  },
  {
   "cell_type": "markdown",
   "metadata": {
    "slideshow": {
     "slide_type": "notes"
    },
    "tags": []
   },
   "source": [
    "Per avere un quadro completo di cosa sia la programmazione informatica, dobbiamo evidenziare due punti della definizione appena data: \"**far svolgere compiti al computer**\" e \"**scrivere una serie di istruzioni che una macchina possa comprendere**\". Parliamo innanzitutto delle *istruzioni*."
   ]
  },
  {
   "cell_type": "markdown",
   "metadata": {
    "slideshow": {
     "slide_type": "subslide"
    },
    "tags": []
   },
   "source": [
    "### Cosa sono i linguaggi di programmazione?"
   ]
  },
  {
   "cell_type": "markdown",
   "metadata": {
    "slideshow": {
     "slide_type": "notes"
    },
    "tags": []
   },
   "source": [
    "Come si fa dunque a scrivere questo insieme di istruzioni per il computer?"
   ]
  },
  {
   "cell_type": "markdown",
   "metadata": {
    "slideshow": {
     "slide_type": "fragment"
    },
    "tags": []
   },
   "source": [
    "Pensa a un computer come a un amico alieno. Non capisce nessuna lingua se non la sua lingua madre e ha bisogno di descrizioni molto semplici e chiare di ogni azione che volete fargli compiere perché, essendo alieno sulla Terra, non sa nulla della nostra cultura. Quindi non puoi dirgli semplicemente \"chiama Mario Rossi\". È necessario descrivere ogni singola azione che questo comando necessita per essere eseguito. In altre parole è necessario definire un _**[algoritmo](https://it.wikipedia.org/wiki/Algoritmo)**_:"
   ]
  },
  {
   "cell_type": "markdown",
   "metadata": {
    "slideshow": {
     "slide_type": "subslide"
    },
    "tags": []
   },
   "source": [
    "1. Prendi il telefono\n",
    "2. Premi il pulsante per accendere lo schermo\n",
    "3. Scorri il dito sul telefono per sbloccarlo\n",
    "4. Apri l'app Contatti\n",
    "5. Inserisci \"Mario Rossi\" nella ricerca\n",
    "6. Apri il contatto trovato\n",
    "7. Premi il pulsante verde per chiamare"
   ]
  },
  {
   "cell_type": "markdown",
   "metadata": {
    "slideshow": {
     "slide_type": "subslide"
    },
    "tags": []
   },
   "source": [
    "E cosa dire della sua lingua madre? Il nostro amico non capisce l'italiano o l'inglese, ma solo la sua lingua madre. Per comunicare con lui, il nostro amico ci ha dato un fantascientifico traduttore universale, che traduce qualunque lingua nella sua. Basta dunque parlare in italiano al traduttore perché questo lo traduca nella lingua aliena."
   ]
  },
  {
   "cell_type": "markdown",
   "metadata": {
    "slideshow": {
     "slide_type": "fragment"
    },
    "tags": []
   },
   "source": [
    "Analogamente, i computer non capiscono le lingue naturali ma solo quello che viene definito **[linguaggio macchina](https://it.wikipedia.org/wiki/Linguaggio_macchina)**. Per comunicare con i computer abbiamo a disposizione i linguaggi di programmazione, i quali si occcupano proprio di tradurre quello che abbiamo in mente nel codice delle macchine. Dobbiamo solo scegliere con quale lingua, o in in questo caso \"linguaggio\", inviare le istruzioni al \"traduttore\". Questo traduttore, detto **[compilatore](https://it.wikipedia.org/wiki/Compilatore)**, si occuperà poi di convertire quello che abbiamo scritto, detto **[codice sorgente](https://it.wikipedia.org/wiki/Codice_sorgente)**, in linguaggio macchina. Questo processo viene detto \"compilazione del codice sorgente\"."
   ]
  },
  {
   "cell_type": "markdown",
   "metadata": {
    "slideshow": {
     "slide_type": "notes"
    },
    "tags": []
   },
   "source": [
    "Ora, quale linguaggio usare per comunicare con il computer è tutto un'altro paio di maniche. Avrai sicuramente sentito parlare di comuni linguaggi come C, Python o Java; tuttavia esistono ad oggi più di mille linguaggi di programmazione. Quelli vecchi continuano a evolversi e ne compaiono di nuovi. Ogni linguaggio informatico ha i suoi obiettivi e i suoi meriti, e alcuni linguaggi sono più adatti per applicazioni e compiti specifici. Alcuni linguaggi sono più ostici, altri meno. Alcuni sono semplici e popolari, altri sono sofisticati e di nicchia. Una cosa importante da ricordare è che, proprio come l'italiano, l'inglese o qualsiasi altra lingua, i linguaggi di programmazione hanno parti, costruzioni e concetti comuni a tutti. Quindi, imparare un altro linguaggio informatico sarà difficile (o facile) come imparare una lingua straniera. Se capisci la frase \"la mela è sul tavolo\" in italiano non avrai molti problemi a concettualizzare il significato di \"the apple is on the table\" in inglese."
   ]
  },
  {
   "cell_type": "markdown",
   "metadata": {
    "slideshow": {
     "slide_type": "notes"
    },
    "tags": []
   },
   "source": [
    "Proprio come per le lingue naturali, il linguaggi di programmazione possono avere sintassi e morfologia simili, in quanto chi crea un linguaggio molto spesso tende ad utilizzare soluzioni già inventate precedentemente e dunque possiamo individuare \"famiglie\" di linguaggi, con relazioni di parentela anche molto strette. Quando si descrive un linguaggio di programmazione, è tipico elencare gli altri linguaggi da cui \"deriva\", o che hanno avuto influenza sulla sua creazione."
   ]
  },
  {
   "cell_type": "markdown",
   "metadata": {
    "slideshow": {
     "slide_type": "subslide"
    },
    "tags": []
   },
   "source": [
    "Di seguito sono riportati alcuni indici che classificano i linguaggi di programmazione per diffusione e popolarità. Questi elenchi sono in continua e rapida evoluzione, quindi ti consiglio di visitare direttamente i siti.\n",
    "\n",
    "- [Indice TIOBE](https://www.tiobe.com/tiobe-index/)\n",
    "- [Popolarità tra le ricerche Google](https://pypl.github.io/PYPL.html)\n",
    "- [Popolarità su Github](https://madnight.github.io/githut)\n",
    "- [Popolarità su Stack Overflow](https://insights.stackoverflow.com/trends)"
   ]
  },
  {
   "cell_type": "markdown",
   "metadata": {
    "slideshow": {
     "slide_type": "subslide"
    },
    "tags": []
   },
   "source": [
    "### Come scegliere un linguaggio?"
   ]
  },
  {
   "cell_type": "markdown",
   "metadata": {
    "slideshow": {
     "slide_type": "fragment"
    },
    "tags": []
   },
   "source": [
    "Quando si sceglie un linguaggio, bisogna innanzitutto chiedersi che cosa si vuole far fare al computer. E questo ci porta alla parte della domanda \"**far svolgere compiti al computer**\". Qual'è il motivo per cui vuoi imparare a programmare? Vuoi diventare uno sviluppatore di giochi? Vuoi creare applicazioni per iPhone? Vuoi creare siti web? O forse ti serve la programmazione per automatizzare il lavoro di tutti i giorni?"
   ]
  },
  {
   "cell_type": "markdown",
   "metadata": {
    "slideshow": {
     "slide_type": "fragment"
    },
    "tags": []
   },
   "source": [
    "Ogni linguaggio si presta bene solo a certi campi di applicazione e meno ad altri."
   ]
  },
  {
   "cell_type": "markdown",
   "metadata": {
    "slideshow": {
     "slide_type": "notes"
    },
    "tags": []
   },
   "source": [
    "Il settore dello sviluppo web per esempio viene distinto in due tipi principali di programmazione: quella *front-end* e quella *back-end*. Facendo il paragone con un negozio, il front-end è il design e l'aspetto estetico del negozio (vetrine, scaffali ecc.) e determina principalmente l'esperienza dei clienti. Il back-end è invece paragonabile al retrobottega (magazzino, uffici amministrativi ecc.) e determina principalmente l'eperienza del personale addetto al negozio. Dunque il front-end di un sito web è la parte che gli utenti possono vedere. Caratteri, colori, cursori, pannelli e menu sono creati con una combinazione di [HTML](https://it.wikipedia.org/wiki/HTML), [CSS](https://it.wikipedia.org/wiki/CSS) e [JavaScript](https://it.wikipedia.org/wiki/JavaScript). Il back-end comprende invece un server, software applicativi e database. In questo caso si possono usare molti linguaggi diversi, ad esempio [PHP](https://it.wikipedia.org/wiki/PHP), [Python](https://it.wikipedia.org/wiki/Python), [Java](https://it.wikipedia.org/wiki/Java_(linguaggio_di_programmazione)) ecc."
   ]
  },
  {
   "cell_type": "markdown",
   "metadata": {
    "slideshow": {
     "slide_type": "subslide"
    },
    "tags": []
   },
   "source": [
    "Quindi, non si tratta di scegliere un linguaggio. Si tratta piuttosto di scegliere un settore."
   ]
  },
  {
   "cell_type": "markdown",
   "metadata": {
    "slideshow": {
     "slide_type": "fragment"
    },
    "tags": []
   },
   "source": [
    "Se vuoi creare applicazioni Android, c'è [Kotlin](https://it.wikipedia.org/wiki/Kotlin_(linguaggio_di_programmazione)); per le applicazioni iOS c'è [Swift](https://it.wikipedia.org/wiki/Swift_(linguaggio_di_programmazione)) e se vuoi sviluppare giochi, puoi andare sul [C](https://it.wikipedia.org/wiki/C_(linguaggio)) o [C++](https://it.wikipedia.org/wiki/C%2B%2B)."
   ]
  },
  {
   "cell_type": "markdown",
   "metadata": {
    "slideshow": {
     "slide_type": "fragment"
    },
    "tags": []
   },
   "source": [
    "E se poi la tua risposta alla domanda \"perché\" è \"non so... per fare un sacco di soldi?\", ti consiglio di prendere in considerazione i linguaggi di programmazione più popolari e richiesti dal mercato del lavoro, e iniziare da lì. [Python](https://it.wikipedia.org/wiki/Python) è uno di questi."
   ]
  },
  {
   "cell_type": "markdown",
   "metadata": {
    "slideshow": {
     "slide_type": "notes"
    },
    "tags": []
   },
   "source": [
    "Infine considera che, come per le lingue naturali, quando parliamo due lingue molto simili tra loro (es. italiano e spagnolo), è più facile commettere errori quando passiamo da una all'altra per via dei cosiddetti \"[falsi amici](https://it.wikipedia.org/wiki/Falso_amico)\". Anche in programmazione ci sono! Linguaggi diversi potrebbero avere sintassi simili o oggetti con lo stesso nome ma funzionamenti diversi. Quindi potrebbe essere vantaggioso studiare due linguaggi di programmazione con sintassi anche molto diverse. Di sicuro vi apre la mente!"
   ]
  },
  {
   "cell_type": "markdown",
   "metadata": {
    "slideshow": {
     "slide_type": "subslide"
    },
    "tags": []
   },
   "source": [
    "### Cosa devo aspettarmi iniziando a programmare?"
   ]
  },
  {
   "cell_type": "markdown",
   "metadata": {
    "slideshow": {
     "slide_type": "fragment"
    },
    "tags": []
   },
   "source": [
    "Molte cose ti appariranno come noiose routine e, quando non lo sono, sarà come sbattere la testa contro un muro di mattoni in mezzo al deserto. Eppure molte persone trovano grande gioia e soddisfazione in questo lavoro. La programmazione non riguarda solo i linguaggi, la sintassi e i compilatori, ma è l'intero processo di pensiero logico e creativo che la rende così gratificante. Imparerete che non c'è mai la soluzione \"migliore\" al problema. Si potrà sempre rendere le cose più veloci, migliori e più grandi."
   ]
  },
  {
   "cell_type": "markdown",
   "metadata": {
    "slideshow": {
     "slide_type": "fragment"
    },
    "tags": []
   },
   "source": [
    "Inoltre dovreste abituarvi a considerare il vostro ambiente di sviluppo come un laboratorio. L'informatica, oltre che un'arte è anche una scienza e la scienza richiede un ambiente adatto per sperimentare e \"capire come funzionano le cose\"."
   ]
  },
  {
   "cell_type": "markdown",
   "metadata": {
    "slideshow": {
     "slide_type": "fragment"
    },
    "tags": []
   },
   "source": [
    "Programmare è anche fare filosofia: insegna a pensare in modo diverso. Ci insegna a ragionare sul come funzionano le cose e perché funzionano in questo o quel modo."
   ]
  },
  {
   "cell_type": "markdown",
   "metadata": {
    "slideshow": {
     "slide_type": "notes"
    },
    "tags": []
   },
   "source": [
    "La programmazione insegna inoltre la pazienza. Il processo di scrittura del codice è paragonabile all'arte di risolvere i puzzle. A volte però, quando i pezzi non combaciano, può diventare estremamente stressante e fastidioso. Molte persone si sentono frustrate e rinunciano a imparare quando il loro codice non funziona per la prima volta; ma la verità è che si tratta di un processo normale."
   ]
  },
  {
   "cell_type": "markdown",
   "metadata": {
    "slideshow": {
     "slide_type": "fragment"
    },
    "tags": []
   },
   "source": [
    "Anche programmatori con anni di esperienza hanno ancora momenti in cui il loro codice non funziona e non hanno idea del perché; ma la pazienza e la perseveranza sono le caratteristiche chiave che li hanno portati al punto in cui sono ora."
   ]
  },
  {
   "cell_type": "markdown",
   "metadata": {
    "slideshow": {
     "slide_type": "subslide"
    },
    "tags": []
   },
   "source": [
    "![novice_vs_experienced.jpg](./imgs/novice_vs_experienced.jpg)"
   ]
  },
  {
   "cell_type": "markdown",
   "metadata": {
    "slideshow": {
     "slide_type": "notes"
    },
    "tags": []
   },
   "source": [
    "Concludo sottolineando quindi che la programmazione è un'abilità come qualunque altra: è necessario dedicare tempo e impegno per vedere i risultati. Probabilmente non sarà facile, ma senza dubbio vale la pena provarci! Buona fortuna!"
   ]
  },
  {
   "cell_type": "markdown",
   "metadata": {
    "slideshow": {
     "slide_type": "subslide"
    },
    "tags": []
   },
   "source": [
    "### Riassumendo"
   ]
  },
  {
   "cell_type": "markdown",
   "metadata": {
    "slideshow": {
     "slide_type": "fragment"
    },
    "tags": []
   },
   "source": [
    "I linguaggi di programmazione sono come delle cassette degli attrezzi contenenti tutti gli strumenti che ci servono per lavorare."
   ]
  },
  {
   "cell_type": "markdown",
   "metadata": {
    "slideshow": {
     "slide_type": "fragment"
    },
    "tags": []
   },
   "source": [
    "Immaginiamo di essere un artigiano carpentiere che deve svolgere un lavoro presso un cliente. Alla mattina, prima di uscire dal laboratorio, in base al lavoro che dovremo eseguire sceglieremo di portarci dietro una cassetta che conterrà gli strumenti che ci servono per svolgere quel lavoro piuttosto che un'altra che contiene strumenti non adatti. Se poi è un grosso lavoro allora caricheremo sul furgone più cassette e attrezzatura, in modo da soddisfare tutte le necessità pratiche."
   ]
  },
  {
   "cell_type": "markdown",
   "metadata": {
    "slideshow": {
     "slide_type": "fragment"
    },
    "tags": []
   },
   "source": [
    "Il linguaggio che andremo ad imparare, Python, è già un bel furgone carico di molti attrezzi utili, quindi è un'ottima scelta per iniziare."
   ]
  },
  {
   "cell_type": "markdown",
   "metadata": {
    "slideshow": {
     "slide_type": "slide"
    },
    "tags": []
   },
   "source": [
    "## Perché programmare?"
   ]
  },
  {
   "cell_type": "markdown",
   "metadata": {
    "slideshow": {
     "slide_type": "notes"
    },
    "tags": []
   },
   "source": [
    "Se stai leggendo questo file e sei arrivato fino qua, probabilmente non c'é bisogno che te lo dica io; però ti posso consigliare la visione di questo illuminante talk di Dylan Beattie:"
   ]
  },
  {
   "cell_type": "markdown",
   "metadata": {
    "slideshow": {
     "slide_type": "fragment"
    },
    "tags": []
   },
   "source": [
    "[The Art of Code – NDC Conferences 2020, London](https://www.youtube.com/watch?v=6avJHaC3C2U)"
   ]
  },
  {
   "cell_type": "markdown",
   "metadata": {
    "slideshow": {
     "slide_type": "slide"
    },
    "tags": []
   },
   "source": [
    "## I paradigmi di programmazione"
   ]
  },
  {
   "cell_type": "markdown",
   "metadata": {
    "slideshow": {
     "slide_type": "fragment"
    },
    "tags": []
   },
   "source": [
    "Il concetto di paradigma è strettamente correlato al concetto di _**implementazione**_ delle soluzioni, ovvero il modo in cui, a partire dalla fase progettuale si arriva alla definizione e realizzazione degli algoritmi veri e propri."
   ]
  },
  {
   "cell_type": "markdown",
   "metadata": {
    "slideshow": {
     "slide_type": "fragment"
    },
    "tags": []
   },
   "source": [
    "Diversi problemi di programmazione possono essere risolti in molteplici modi: potresti aver bisogno di scrivere una semplice sequenza di istruzioni, una funzione specifica per poi usarla molte volte oppure una classe separata con i propri metodi, e così via. Tutte queste varianti si combinano in diversi approcci di programmazione, chiamati anche paradigmi."
   ]
  },
  {
   "cell_type": "markdown",
   "metadata": {
    "slideshow": {
     "slide_type": "notes"
    },
    "tags": []
   },
   "source": [
    "Attenzione però! I \"paradigmi\" non sono da considerarsi come famiglie di linguaggi, né tantomeno come caratteristiche intrinseche di un certo linguaggio. Essi sono piuttosto delle categorie analitiche che descrivono aspetti logici, sintattici o pragmatici degli **[algoritmi](https://it.wikipedia.org/wiki/Algoritmo)** che creiamo, del codice che scriviamo, delle soluzioni che implementiamo.\n",
    "\n",
    "È importante sottolineare che un linguaggio non è necessariamente \"disegnato\" sulla base di uno o più paradigmi, ma sono i paradigmi ad essere stati \"inventati\" per descrivere le implementazioni che i vari linguaggi esistenti consentono. In altre parle, i paradigmi di programmazione sono un modo per classificare i linguaggi di programmazione in base alla loro \"vocazione\". Ciascun linguaggio possiede caratteristiche e funzionalità che lo rendono più adatto a a certi utilizzi piuttosto che ad altri, ovvero più adatto ad implementtare una soluzione seguendo questi o quei paradigmmi.\n",
    "\n",
    "Quindi, più che dire che un certo linguaggio appartiene a una certo paradigma, bisognerebbe dire che un certo linguaggio permette di implementare le soluzioni ai nostri problemi in modi che appartengono a uno o più paradigmi. O ancora: non è il paradigma che fa il linguaggio, ma è il linguaggio che permette di esprimere (implementare) un certo paradigma.\n",
    "\n",
    "Infine è importante sottolineare e ribadire che:"
   ]
  },
  {
   "cell_type": "markdown",
   "metadata": {
    "slideshow": {
     "slide_type": "subslide"
    },
    "tags": []
   },
   "source": [
    "- I paradigmi di programmazione non si escludono a vicenda, nel senso che si possono usare contemporaneamente tecniche ispirate a paradigmi diversi senza alcun problema."
   ]
  },
  {
   "cell_type": "markdown",
   "metadata": {
    "slideshow": {
     "slide_type": "fragment"
    },
    "tags": []
   },
   "source": [
    "- Qualsiasi problema risolvibile con un certo paradigma potrebbe essere risolto con altri altri; tuttavia, alcuni tipi di problemi si prestano più naturalmente ad essere risolti con paradigmi specifici."
   ]
  },
  {
   "cell_type": "markdown",
   "metadata": {
    "slideshow": {
     "slide_type": "fragment"
    },
    "tags": []
   },
   "source": [
    "In pratica ci accorgeremo dunque che quasi tutti i linguaggi (almeno quelli più moderni) sono in realtà _**[multiparadigma](https://en.wikipedia.org/wiki/Comparison_of_multi-paradigm_programming_languages)**_. Ovvero permettono di ottenere le risposte ai nostri problemi in più modi, implementando strategie che possiamo ricondurre a un certo paradigma piuttosto che a un altro."
   ]
  },
  {
   "cell_type": "markdown",
   "metadata": {
    "slideshow": {
     "slide_type": "subslide"
    },
    "tags": []
   },
   "source": [
    "Vediamo dunque alcuni aspetti presi in considerazione quando si cerca di classificare il modo in cui le soluzioni ai nostri problemi possono essere implementate."
   ]
  },
  {
   "cell_type": "markdown",
   "metadata": {
    "slideshow": {
     "slide_type": "fragment"
    },
    "tags": []
   },
   "source": [
    "- modo in cui vengono strutturati i dati;\n",
    "- modo in cui vengono processati i dati;\n",
    "- modo in cui la macchina viene istruita;\n",
    "- modo in cui il codice è organizzato;\n",
    "- modo in cui vengono gestiti gli errori;\n",
    "- modo in cui lo stato e l'ambiente di esecuzione vengono modificati dal codice;\n",
    "- stile della sintassi e della grammatica;\n",
    "- ... ecc."
   ]
  },
  {
   "cell_type": "markdown",
   "metadata": {
    "slideshow": {
     "slide_type": "subslide"
    },
    "tags": []
   },
   "source": [
    "A seconda degli aspetti che vengono presi in considerazione, gli studiosi hanno classificato gli algoritmi – non i linguaggi! – in diverse categorie (di solito dicotomiche, ma non necessariamente):"
   ]
  },
  {
   "cell_type": "markdown",
   "metadata": {
    "slideshow": {
     "slide_type": "notes"
    },
    "tags": []
   },
   "source": [
    "> *NOTA: non intende esserci corrispondenza tra le voci del precedente elenco e quelle che seguono.*"
   ]
  },
  {
   "cell_type": "markdown",
   "metadata": {
    "slideshow": {
     "slide_type": "fragment"
    },
    "tags": []
   },
   "source": [
    "- dichiarativo Vs imperativo\n",
    "- strutturato Vs non strutturato\n",
    "- data-driven Vs event-driven\n",
    "- dinamico Vs statico\n",
    "- parallelo Vs concorrente\n",
    "- sincrono Vs asincrono\n",
    "- tipizzato staticamente Vs tipizzato dinamicamente\n",
    "- ... [ecc.](https://en.wikipedia.org/wiki/Programming_paradigm)"
   ]
  },
  {
   "cell_type": "markdown",
   "metadata": {
    "slideshow": {
     "slide_type": "fragment"
    },
    "tags": []
   },
   "source": [
    "È inoltre importante sottolineare che *a livelli di astrazione diversi è possibile ricondurre uno stesso algoritmo a paradigmi diversi*."
   ]
  },
  {
   "cell_type": "markdown",
   "metadata": {
    "slideshow": {
     "slide_type": "notes"
    },
    "tags": []
   },
   "source": [
    "Ripeto, tutto ciò è pura filosofia. E sappiamo bene che in filosofia non esiste mai un solo modo di vedere le cose, una sola teoria. Si iniziò a discutere con fervore sui paradigmi già all'indomani della creazione delle prime [macchine analitiche](https://it.wikipedia.org/wiki/Macchina_analitica): *dati* e *istruzioni* sono la stessa cosa? Certo che sì! Ovviamente no!"
   ]
  },
  {
   "cell_type": "markdown",
   "metadata": {
    "slideshow": {
     "slide_type": "subslide"
    },
    "tags": []
   },
   "source": [
    "Ci sono dunque molte teorie discordanti e modi diversi di analizzare e considerare gli aspetti sopra citati e non tutti gli studiosi concordano su queste classificazioni."
   ]
  },
  {
   "cell_type": "markdown",
   "metadata": {
    "slideshow": {
     "slide_type": "fragment"
    },
    "tags": []
   },
   "source": [
    "Tuttavia nel corso della storia si è consolidata una classificazione che analizza il *modo in cui la macchina viene istruita* e in particolare lo *scopo delle istruzioni* che diamo al computer. L'analisi di questi aspetti ha portato al binomio tra *paradigma* _**dichiarativo**_ e _**imperativo**_."
   ]
  },
  {
   "cell_type": "markdown",
   "metadata": {
    "slideshow": {
     "slide_type": "fragment"
    },
    "tags": []
   },
   "source": [
    "Di seguito analizzeremo questi due paradigmi e le loro sotto-tipologie."
   ]
  },
  {
   "cell_type": "markdown",
   "metadata": {
    "slideshow": {
     "slide_type": "slide"
    },
    "tags": []
   },
   "source": [
    "## Imperativo vs dichiarativo"
   ]
  },
  {
   "cell_type": "markdown",
   "metadata": {
    "slideshow": {
     "slide_type": "notes"
    },
    "tags": []
   },
   "source": [
    "È tutta questione di [astrazione](https://it.wikipedia.org/wiki/Astrazione_(informatica)), [teleologia](https://it.wikipedia.org/wiki/Teleologia) (il fine delle cose) ed [epistemologia](https://it.wikipedia.org/wiki/Epistemologia) (il modo di ottenere la conoscenza)."
   ]
  },
  {
   "cell_type": "markdown",
   "metadata": {
    "slideshow": {
     "slide_type": "fragment"
    },
    "tags": []
   },
   "source": [
    "A un basso livello di astrazione dobbiamo *istruire* la macchina e soluzione deve essere indotta:\n",
    "\n",
    "- Come si fa? &rarr; fornire istruzioni &rarr; ordinare &rarr; persorso da seguirre &rarr; paradigma imperativo."
   ]
  },
  {
   "cell_type": "markdown",
   "metadata": {
    "slideshow": {
     "slide_type": "fragment"
    },
    "tags": []
   },
   "source": [
    "A un più alto livello di astrazione possiamo *informare* la macchina e la soluzione può essere dedotta:\n",
    "\n",
    "- Cosa si fa? &rarr; fornire informazioni &rarr; descrivere &rarr; problema + risultato atteso &rarr; paradigma dichiarativo."
   ]
  },
  {
   "cell_type": "markdown",
   "metadata": {
    "slideshow": {
     "slide_type": "slide"
    },
    "tags": []
   },
   "source": [
    "### Paradigma imperativo"
   ]
  },
  {
   "cell_type": "markdown",
   "metadata": {
    "slideshow": {
     "slide_type": "fragment"
    },
    "tags": []
   },
   "source": [
    "Il paradigma imperativo è uno dei più antichi paradigmi di programmazione in quanto strettamente legato all'architettura elettronica delle macchine. Un programma imperativo è paragnabile agli ordini espressi al [modo imperativo nei linguaggi naturali](https://it.wikipedia.org/wiki/Imperativo)."
   ]
  },
  {
   "cell_type": "markdown",
   "metadata": {
    "slideshow": {
     "slide_type": "fragment"
    },
    "tags": []
   },
   "source": [
    "Si tratta di una sequenza di istruzioni che il processore deve eseguire passo dopo passo. Il fulcro di questo paradigma è il _**modo in cui raggiungere un obiettivo**_."
   ]
  },
  {
   "cell_type": "markdown",
   "metadata": {
    "slideshow": {
     "slide_type": "fragment"
    },
    "tags": []
   },
   "source": [
    "Un puro paradigma imperativo prevede che le istruzioni siano eseguite passo-passo, in sequenza, fino al raggiungimento del risultato, il quale sarà poi memorizzato e/o visualizzato."
   ]
  },
  {
   "cell_type": "markdown",
   "metadata": {
    "slideshow": {
     "slide_type": "notes"
    },
    "tags": []
   },
   "source": [
    "Ad esempio, volessimo visualizzare sullo schermo la frase \"`Ciao, <nome utente>!`\". ***Come*** dovrebbe fare il programma? Probabilmente attraverso i seguenti passaggi:\n",
    "\n",
    "1. chiedere il nome utente;\n",
    "2. leggere e ricordare il nome utente;\n",
    "3. combinare la stringa di testo \"`Ciao, `\" con il nome dell'utente, il tutto seguito da \"`!`\";\n",
    "4. visualizzare il risultato."
   ]
  },
  {
   "cell_type": "markdown",
   "metadata": {
    "slideshow": {
     "slide_type": "subslide"
    },
    "tags": []
   },
   "source": [
    "A un basso livello di astrazione, tutto è imperativo in programmazione. Se però aumentiamo l'astrazione, la programmazione imperativa potrebbe suddividersi in ulteriori categorie. Le tre più famose sono:\n",
    "\n",
    "- il paradigma di programmazione procedurale,\n",
    "- la programmazione orientata agli oggetti,\n",
    "- l'approccio all'elaborazione parallela."
   ]
  },
  {
   "cell_type": "markdown",
   "metadata": {
    "slideshow": {
     "slide_type": "notes"
    },
    "tags": []
   },
   "source": [
    "Vediamo di illustrarle più in dettaglio."
   ]
  },
  {
   "cell_type": "markdown",
   "metadata": {
    "slideshow": {
     "slide_type": "fragment"
    },
    "tags": []
   },
   "source": [
    "> APPROFONDIMENTO:\n",
    "> [Esempi d'uso di Python in modo imperativo, procedurale e ad oggetti](https://github.com/smythp/python-201)"
   ]
  },
  {
   "cell_type": "markdown",
   "metadata": {
    "slideshow": {
     "slide_type": "subslide"
    },
    "tags": []
   },
   "source": [
    "#### Paradigma di programmazione procedurale"
   ]
  },
  {
   "cell_type": "markdown",
   "metadata": {
    "slideshow": {
     "slide_type": "fragment"
    },
    "tags": []
   },
   "source": [
    "Come per qualuque algoritmo imperativo, in un codice procedurale abbiamo sempre degli elenchi di istruzioni che indicano al computer cosa fare, passo dopo passo. La differenza è che il codice, invece di essere scritto in modo lineare, viene raggruppato per aree funzionali. Ciascun \"gruppo\" deve avere poi un proprio identificativo e un proprio modo di essere \"chiamato\", ovvero eseguito."
   ]
  },
  {
   "cell_type": "markdown",
   "metadata": {
    "slideshow": {
     "slide_type": "fragment"
    },
    "tags": []
   },
   "source": [
    "Questi gruppi funzionali di codice sono dunque una sorta di sotto-programmi, chiamati \"subroutine\" o appunto \"procedure\", e possiamo farle corrispondere grosso modo alle funzioni. L'azione di eseguire una procedura viene definita come _**chiamata di procedura**_. Le procedure sono utili dunque quando è necessario eseguire più volte una porzione di codice che svolge sempre la medesima funzionalità. Da qui l'espressione *routine* o *subroutine*."
   ]
  },
  {
   "cell_type": "markdown",
   "metadata": {
    "slideshow": {
     "slide_type": "subslide"
    },
    "tags": []
   },
   "source": [
    "La differenza tra *procedura* e *funzione* è, ancora una volta, soprattutto filosofica. La procedura può modificare sia i dati che processa sia, di coseguenza, lo stato di esecuzione dell'intero programma. La funzione è (come vedremo nel paradigma funzionale) invece più \"neutrale\" e si limita a fornire un risultato sulla base dei dati forniti, ma senza alterarli."
   ]
  },
  {
   "cell_type": "markdown",
   "metadata": {
    "slideshow": {
     "slide_type": "subslide"
    },
    "tags": []
   },
   "source": [
    "Il vantaggio delle procedure è che facilitano l'organizzazione e consentono il riuso del codice:"
   ]
  },
  {
   "cell_type": "markdown",
   "metadata": {
    "slideshow": {
     "slide_type": "fragment"
    },
    "tags": []
   },
   "source": [
    "- \"Organizzazione\" perché esso viene suddiviso in diverse parti funzionali formalmente indipendenti tra loro, facilitando la comprensione della struttura e la manutenzione del codice."
   ]
  },
  {
   "cell_type": "markdown",
   "metadata": {
    "slideshow": {
     "slide_type": "fragment"
    },
    "tags": []
   },
   "source": [
    "- \"Riuso\" perché le istruzioni contenute in una procedura possono essere riutilizzate più volte senza necessità di duplicarle, riducendo così i tempi di scrittura, di manutenzione e risparmiando anche memoria nell'esecuzione."
   ]
  },
  {
   "cell_type": "markdown",
   "metadata": {
    "slideshow": {
     "slide_type": "notes"
    },
    "tags": []
   },
   "source": [
    "La programmazione procedurale è adatta alla programmazione di uso generale per completare compiti comuni. Può trattarsi di un piccolo problema di calcolo, come trasformare un numero nel suo fattoriale, la modifica a una serie di immagini, o la visualizzazione di alcune informazioni/frasi come \"Hello, world!\"."
   ]
  },
  {
   "cell_type": "markdown",
   "metadata": {
    "slideshow": {
     "slide_type": "notes"
    },
    "tags": []
   },
   "source": [
    "Un algoritmo scritto puramente in questo paradigma è generalmente molto semplice da implementare, ma è relatvamente più lento lento di altre soluzioni e non può risolvere un problema troppo complesso.\n",
    "\n",
    "I linguaggi di programmazione che facilitano le implementazioni con il paradigma della programmazione procedurale sono C, Java, C++, ColdFusion e Pascal."
   ]
  },
  {
   "cell_type": "markdown",
   "metadata": {
    "slideshow": {
     "slide_type": "subslide"
    },
    "tags": []
   },
   "source": [
    "#### Programmazione orientata agli oggetti"
   ]
  },
  {
   "cell_type": "markdown",
   "metadata": {
    "slideshow": {
     "slide_type": "fragment"
    },
    "tags": []
   },
   "source": [
    "La programmazione orientata agli oggetti o OOP (dall'inglese *Object-Oriented Programming*) è un paradigma in cui il programma è scritto come una collezione di classi. Ogni classe ha istanze chiamate oggetti."
   ]
  },
  {
   "cell_type": "markdown",
   "metadata": {
    "slideshow": {
     "slide_type": "fragment"
    },
    "tags": []
   },
   "source": [
    "Il termine \"oggetto\" deriva dal paragone con gli oggetti materiali del mondo reale, i quali possono venire progettati in astratto e poi realizzati in molteplici copie, forme e versioni. Inoltre gli oggetti hanno delle proprietà, delle funzioni e delle modalità specifiche con cui possiamo interagire con loro."
   ]
  },
  {
   "cell_type": "markdown",
   "metadata": {
    "slideshow": {
     "slide_type": "subslide"
    },
    "tags": []
   },
   "source": [
    "Analogamente, in programmazione, una classe è un modo per descrivere un'entità in generale, definendo lo stato abituale e il comportamento che dipende da tale stato, nonché le regole abituali per interagire con tale entità. Formalmente, una classe è vista come un insieme di dati come campi, attributi e funzioni, cioè metodi (modi) per lavorare con essa. Tutti questi elementi sono detti \"membri\" della classe."
   ]
  },
  {
   "cell_type": "markdown",
   "metadata": {
    "slideshow": {
     "slide_type": "notes"
    },
    "tags": []
   },
   "source": [
    "Ritornando all'esempio degli oggetti fisici, proviamo a descrivere l'entità \"bicchiere\" usando una classe. Un qualunque bicchiere sarà dunque un oggetto della classe Bicchiere. Possiamo ora individuare degli attributi a noi utili, per esempio il materiale con cui il bicchiere è costruito, la capienza totale, la quantità di liquido contenuta in un certo momento e soprattutto, se è utilizzabile o no. Alcuni attributi sono modificabili, altri invece sono determinati quando il bicchiere viene costruito. Alcuni attributi dipendono da altri attributi, mentre altri sono condizinati dalle condizioni dell'ambiente esterno all'oggetto. Poi abbiamo le azioni che possiamo compiere con il bicchiere. Ad esempio ci sarà utile poterlo riempire e poter bere da esso, magari lavarlo e poi riporlo, e perché no, anche romperlo. Avremo quindi riempi(), bevi(), lava(), riponi() e rompi(). Tutti questi sono i metodi del bicchiere."
   ]
  },
  {
   "cell_type": "markdown",
   "metadata": {
    "slideshow": {
     "slide_type": "fragment"
    },
    "tags": []
   },
   "source": [
    "Notate bene che, in fin dei conti, i metodi non sono altro che procedure o fuzioni; quindi l'OOP può essere vista da un certo punto di vista come coesistente al paradigma procedurale e funzionale."
   ]
  },
  {
   "cell_type": "markdown",
   "metadata": {
    "slideshow": {
     "slide_type": "notes"
    },
    "tags": []
   },
   "source": [
    "L'OOP consente di gestire moltissime tipologie di problemi comuni della vita di tutti i giorni, o per lo meno tutte quelle in cui è conveniente creare dei modelli astratti che rappresentino le entità che dobbiamo manipolare.\n",
    "\n",
    "I linguaggi di programmazione che facilitano le implementazioni con il paradigma OOP sono Ruby, Java, C++, Python, Simula (il primo linguaggio OOP), Smalltalk, Visual Basic .NET e Objective-C."
   ]
  },
  {
   "cell_type": "markdown",
   "metadata": {
    "slideshow": {
     "slide_type": "subslide"
    },
    "tags": []
   },
   "source": [
    "#### Approccio all'elaborazione parallela"
   ]
  },
  {
   "cell_type": "markdown",
   "metadata": {
    "slideshow": {
     "slide_type": "fragment"
    },
    "tags": []
   },
   "source": [
    "Si ricorre all'elaborazione parallela quando è necessario ridurre il tempo di esecuzione delle istruzioni per raggiungere il risultato più in fretta."
   ]
  },
  {
   "cell_type": "markdown",
   "metadata": {
    "slideshow": {
     "slide_type": "fragment"
    },
    "tags": []
   },
   "source": [
    "Lo si fa condividendo o parallelizzando le istruzioni su più processori o addirittura su più computer diversi. Il significato di questo approccio può essere riassunto in una frase: \"divide et impera\"."
   ]
  },
  {
   "cell_type": "markdown",
   "metadata": {
    "slideshow": {
     "slide_type": "notes"
    },
    "tags": []
   },
   "source": [
    "Esempi di linguaggi di programmazione che facilitano le implementazioni con questo paradigma sono: NESL (uno dei più vecchi) e C / C++ con il supporto di librerie ad-hoc, native o esterne come CUDA e OpenCL."
   ]
  },
  {
   "cell_type": "markdown",
   "metadata": {
    "slideshow": {
     "slide_type": "slide"
    },
    "tags": []
   },
   "source": [
    "### Paradigma dichiarativo"
   ]
  },
  {
   "cell_type": "markdown",
   "metadata": {
    "slideshow": {
     "slide_type": "fragment"
    },
    "tags": []
   },
   "source": [
    "La programmazione dichiarativa è un paradigma di programmazione in cui è importante specificare il problema e il risultato atteso dalla sua soluzione."
   ]
  },
  {
   "cell_type": "markdown",
   "metadata": {
    "slideshow": {
     "slide_type": "fragment"
    },
    "tags": []
   },
   "source": [
    "In altre parole, a differenza del paradigma imperativo, in cui è necessario rispondere alla domanda \"Come si fa?\", è necessario porsi le domande \"Cosa deve essere fatto?\" e \"Qual è il risultato atteso del lavoro?\"."
   ]
  },
  {
   "cell_type": "markdown",
   "metadata": {
    "slideshow": {
     "slide_type": "fragment"
    },
    "tags": []
   },
   "source": [
    "Quindi, piuttosto che fornire istruzioni passo-passo, si chiede al sistema ciò di cui si ha bisogno e si lascia che esso cerchi di trovare una soluzione."
   ]
  },
  {
   "cell_type": "markdown",
   "metadata": {
    "slideshow": {
     "slide_type": "fragment"
    },
    "tags": []
   },
   "source": [
    "Anche in questo caso, se aumentiamo l'astrazione, la programmazione dichiarativa si può suddividere in più paradigmi. I più celebri sono:\n",
    "\n",
    "- paradigmi logici,\n",
    "- paradigmi funzionali,\n",
    "- paradigmi quelli orientati ai database."
   ]
  },
  {
   "cell_type": "markdown",
   "metadata": {
    "slideshow": {
     "slide_type": "notes"
    },
    "tags": []
   },
   "source": [
    "Li descriviamo più in dettaglio di seguito."
   ]
  },
  {
   "cell_type": "markdown",
   "metadata": {
    "slideshow": {
     "slide_type": "subslide"
    },
    "tags": []
   },
   "source": [
    "#### Paradigma della programmazione logica"
   ]
  },
  {
   "cell_type": "markdown",
   "metadata": {
    "slideshow": {
     "slide_type": "fragment"
    },
    "tags": []
   },
   "source": [
    "La programmazione logica è un paradigma di programmazione fortemente basato sulla logica formale. Un algoritmo scritto seguendo il paradigma logico è un insieme di frasi in forma logica che esprimono fatti e regole su una certa area problematica."
   ]
  },
  {
   "cell_type": "markdown",
   "metadata": {
    "slideshow": {
     "slide_type": "fragment"
    },
    "tags": []
   },
   "source": [
    "Le affermazioni di base della programmazione logica sono quindi le seguenti:\n",
    "\n",
    "- I fatti sono asserzioni fondamentali sul dominio del problema. Es. \"Socrate è un uomo\".\n",
    "- Le regole sono inferenze sui fatti del dominio. Es. \"Tutti gli uomini sono mortali\".\n",
    "- Le domande sono domande sul dominio. Es. \"Socrate è mortale?\"."
   ]
  },
  {
   "cell_type": "markdown",
   "metadata": {
    "slideshow": {
     "slide_type": "fragment"
    },
    "tags": []
   },
   "source": [
    "In generale, il compito è quello di trovare la risposta alla domanda sulla base dei fatti e delle regole."
   ]
  },
  {
   "cell_type": "markdown",
   "metadata": {
    "slideshow": {
     "slide_type": "notes"
    },
    "tags": []
   },
   "source": [
    "Alcuni dei linguaggi che nascono con lo scopo di facilitare la programmazione logica sono: Prolog, Answer Set Programming (ASP) e Datalog."
   ]
  },
  {
   "cell_type": "markdown",
   "metadata": {
    "slideshow": {
     "slide_type": "subslide"
    },
    "tags": []
   },
   "source": [
    "#### Paradigma della programmazione funzionale"
   ]
  },
  {
   "cell_type": "markdown",
   "metadata": {
    "slideshow": {
     "slide_type": "fragment"
    },
    "tags": []
   },
   "source": [
    "La programmazione funzionale è un paradigma di programmazione in cui il flusso di esecuzione del programma è costruito applicando e componendo funzioni."
   ]
  },
  {
   "cell_type": "markdown",
   "metadata": {
    "slideshow": {
     "slide_type": "fragment"
    },
    "tags": []
   },
   "source": [
    "La funzione, in questo caso, è da intedersi simile a una funzione matematica. Si tratta di una funzione in cui l'input è una struttura di dati che non viene modificata e l'output è una nuova struttura con nuovi dati."
   ]
  },
  {
   "cell_type": "markdown",
   "metadata": {
    "slideshow": {
     "slide_type": "fragment"
    },
    "tags": []
   },
   "source": [
    "Ciò rende una funzione matematica diversa da una funzione della programmazione procedurale, dove una procedura/funzione è intesa come una sequenza di azioni che possono anche alterare i dati originali e lo stato di esecuzione."
   ]
  },
  {
   "cell_type": "markdown",
   "metadata": {
    "slideshow": {
     "slide_type": "notes"
    },
    "tags": []
   },
   "source": [
    "È un paradigma di programmazione dichiarativo in cui le definizioni delle funzioni sono semplici sequenze sequenze o alberi di espressioni che mappano valori ad altri valori, piuttosto che una sequenza di istruzioni imperative che aggiornano lo stato di esecuzione del programma."
   ]
  },
  {
   "cell_type": "markdown",
   "metadata": {
    "slideshow": {
     "slide_type": "notes"
    },
    "tags": []
   },
   "source": [
    "Per fate un semplice esempio, si potrebbe avere una funzione che prende in input un elenco di numeri e restituisce un nuovo elenco con i quadrati di quei numeri. Questo non modifica l'elenco originale di numeri. Un esempio più complesso potrebbe essere un'applicazione che prende in input delle coodinate cartesiame e il valore di zoom e restituisce un immagine dell'[insieme di Mandelbrot](https://it.wikipedia.org/wiki/Insieme_di_Mandelbrot)."
   ]
  },
  {
   "cell_type": "markdown",
   "metadata": {
    "slideshow": {
     "slide_type": "notes"
    },
    "tags": []
   },
   "source": [
    "I linguaggi di programmazione che facilitano il paradigma della programmazione funzionale sono Haskell, Scala, Julia, Erlang, Lisp, ML, Clojure, OCaml e F#."
   ]
  },
  {
   "cell_type": "markdown",
   "metadata": {
    "slideshow": {
     "slide_type": "subslide"
    },
    "tags": []
   },
   "source": [
    "#### Paradigma di programmazione orientata alle basi di dati"
   ]
  },
  {
   "cell_type": "markdown",
   "metadata": {
    "slideshow": {
     "slide_type": "notes"
    },
    "tags": []
   },
   "source": [
    "Le basi di dati, in inglese *database* (DB), sono il cuore di ogni sistema informativo aziendale e consentono la gestione di file, l'inserimento di dati, l'aggiornamento, l'interrogazione e le funzioni di reportistica."
   ]
  },
  {
   "cell_type": "markdown",
   "metadata": {
    "slideshow": {
     "slide_type": "fragment"
    },
    "tags": []
   },
   "source": [
    "Un database è una raccolta organizzata di informazioni strutturate, i dati, archiviati elettronicamente in un sistema informatico. Un database è poi solitamente controllato da un programma detto DBMS (*DataBase Management System*)."
   ]
  },
  {
   "cell_type": "markdown",
   "metadata": {
    "slideshow": {
     "slide_type": "notes"
    },
    "tags": []
   },
   "source": [
    "Per elaborare i dati e interrogarli, solitamente il DBMS mette a disposizione un linguaggio ad hoc avente una grammatica speciale detto *linguaggio di interrogazione*. Con questo linguaggio è possibile accedere ai dati per filtrarli, trasformarli, calcolare statistiche e così via."
   ]
  },
  {
   "cell_type": "markdown",
   "metadata": {
    "slideshow": {
     "slide_type": "fragment"
    },
    "tags": []
   },
   "source": [
    "Il DBMS è dunque una sorta di metaprogramma che esegue il nostro \"programma\" scritto con il linguaggio di interrogazione."
   ]
  },
  {
   "cell_type": "markdown",
   "metadata": {
    "slideshow": {
     "slide_type": "fragment"
    },
    "tags": []
   },
   "source": [
    "Il \"programma\" che viene scritto con il linguaggio di interrogazione è molto particolare. In realtà non è un programma vero e proprio, ma viene appunto definito \"interrogazione\" o in ingleese, _**query**_."
   ]
  },
  {
   "cell_type": "markdown",
   "metadata": {
    "slideshow": {
     "slide_type": "fragment"
    },
    "tags": []
   },
   "source": [
    "Le istruzioni che il DBMS deve eseguire sono definite quindi dalle query, dai dati in ingresso, con i quali definiamo ciò che vogliamo in uscita, piuttosto che da una serie di passaggi definiti dal programmatore."
   ]
  },
  {
   "cell_type": "markdown",
   "metadata": {
    "slideshow": {
     "slide_type": "notes"
    },
    "tags": []
   },
   "source": [
    "Ci sono molte tipologie di database e altrettanti linquaggi di interogazione. Le due più famose famiglie di DB sono quella dei database relazionali con linguaggi strutturati e quella dei database non relazionali con linguaggi non strutturati. Alla prima categoria possiamo far risalire il classico e intramontabile SQL (Structured Query Language) e tutti i suoi [dialetti/implementazioni](https://en.wikipedia.org/wiki/List_of_relational_database_management_systems), mentre alla seconda categoria appartengono numerosi proggetti che possiamo definire NoSQL (Non-Structured Query Language). Il più famoso database NoSQL è senza dubbio MongoDB.\n",
    "\n",
    "NOTA BENE: I linquaggi di interrogazione sono progettati per uno scopo specifico: interrogare i dati contenuti in un database. Questi linguaggi di solito sono puramente dichiarativi basati su operazioni logiche (insiemi, grafi, dizionari...), non linguaggi di programmazione imperativi come quelli che abbiamo visto precedentemente. Tuttavia, a volte i linquaggi di interrogazione offrono *estensioni* anche consentono di utilizzare funzionalità tipiche della programmazione procedurale, come i costrutti di controllo del flusso."
   ]
  },
  {
   "cell_type": "markdown",
   "metadata": {
    "slideshow": {
     "slide_type": "slide"
    },
    "tags": []
   },
   "source": [
    "### Riassumendo"
   ]
  },
  {
   "cell_type": "markdown",
   "metadata": {
    "slideshow": {
     "slide_type": "skip"
    },
    "tags": []
   },
   "source": [
    "Per riassumere:"
   ]
  },
  {
   "cell_type": "markdown",
   "metadata": {
    "slideshow": {
     "slide_type": "fragment"
    },
    "tags": []
   },
   "source": [
    "- I diversi approcci alla creazione di programmi sono chiamati paradigmi.\n",
    "- A seconda del livello di astrazione, lo stesso programma può essere classificato in paradigmi differenti.\n",
    "- A livello teleologico ed epistemologico abbiamo due paradigmi di programmazione principali: imperativo (bassa astrazione) e dichiarativo (alta astrazione).\n",
    "    - Il paradigma imperativo si concentra sul \"come\", sul raggiungimento di un risultato utilizzando istruzioni passo-passo che modificano i dati in modo sequenziale. Esso comprende:\n",
    "        - il paradigma di programmazione procedurale,\n",
    "        - la programmazione orientata agli oggetti,\n",
    "        - l'approccio all'elaborazione parallela.\n",
    "    - Il paradigma dichiarativo si concentra sul \"cosa\", sul compito da svolgere e cerca di ottenere un risultato atteso. Esso comprende:\n",
    "        - i paradigmi logici,\n",
    "        - i paradigmi funzionali,\n",
    "        - i paradigmi orientati alle basi di dati.\n",
    "- La maggior parte dei linguaggi è multiparadigma."
   ]
  },
  {
   "cell_type": "markdown",
   "metadata": {
    "slideshow": {
     "slide_type": "subslide"
    },
    "tags": []
   },
   "source": [
    "![declarative-imperative.jpg](./imgs/declarative-imperative.jpg)"
   ]
  },
  {
   "cell_type": "markdown",
   "metadata": {
    "slideshow": {
     "slide_type": "slide"
    },
    "tags": []
   },
   "source": [
    "## Fondamenti di Programmazione orientata agli oggetti"
   ]
  },
  {
   "cell_type": "markdown",
   "metadata": {
    "tags": []
   },
   "source": [
    "Detta anche più semplicemente \"programmazione ad oggetti\", in inglese Object-Oriented Programming (OOP), è il paradigma di programmazione adottato da Python e quindi quello più naturale quando programmiamo in questo linguaggio."
   ]
  },
  {
   "cell_type": "markdown",
   "metadata": {
    "slideshow": {
     "slide_type": "notes"
    },
    "tags": []
   },
   "source": [
    "Riassumento i concetti visti nel capitolo precedente, la programmazione orientata agli oggetti è un paradigma di programmazione basato sul concetto di oggetti che interagiscono tra loro per eseguire le funzioni del programma. Ogni oggetto può essere caratterizzato da uno stato e da un comportamento. Lo stato attuale di un oggetto è rappresentato dai suoi attributi, mentre il comportamento di un oggetto è rappresentato dai suoi metodi.\n",
    "\n",
    "Vediamo quali sono le peculiarità e la terminologia tipiche della programmazione ad oggetti ed in particolare di Python."
   ]
  },
  {
   "cell_type": "markdown",
   "metadata": {
    "slideshow": {
     "slide_type": "fragment"
    },
    "tags": []
   },
   "source": [
    "### Peculiarità dell'OOP"
   ]
  },
  {
   "cell_type": "markdown",
   "metadata": {
    "tags": []
   },
   "source": [
    "I princìpi o caratteristiche fondamentali dell'OOP sono quattro. Si tratta di **incapsulamento**, **astrazione**, **ereditarietà** e **polimorfismo**. Ogni linguaggio orientato agli oggetti implementa questi principi a modo suo, ma l'essenza rimane la stessa da un linguaggio all'altro."
   ]
  },
  {
   "cell_type": "markdown",
   "metadata": {
    "slideshow": {
     "slide_type": "subslide"
    },
    "tags": []
   },
   "source": [
    "- L'**incapsulamento** consente di raggruppare i dati e i metodi che operano su tali dati, *incapsulandoli* all'interno di un \"contenitore\". Si riferisce anche alla capacità di un oggetto di nascondere la struttura interna delle sue proprietà e dei suoi metodi e di esporre solo ciò che è necessario all'esterno. Ciò consente di proteggere certe parti interne dell'oggetto evitando che vengano usate in modo improprio."
   ]
  },
  {
   "cell_type": "code",
   "execution_count": 7,
   "metadata": {
    "slideshow": {
     "slide_type": "subslide"
    },
    "tags": []
   },
   "outputs": [
    {
     "name": "stdout",
     "output_type": "stream",
     "text": [
      "Prima del deposito: 1000\n",
      "Dopo il deposito: 1500\n"
     ]
    }
   ],
   "source": [
    "# Definizione di una classe con un attributo privato dei metodi\n",
    "# per accedervi\n",
    "\n",
    "class ContoBancario:\n",
    "    def __init__(self, saldo):\n",
    "        self.__saldo = saldo  # __saldo è un attributo \"privato\"\n",
    "\n",
    "    # Metodo per sommare un importo a __saldo\n",
    "    def deposita(self, importo):\n",
    "        self.__saldo += importo\n",
    "\n",
    "    # Metodo per leggere il valore di __saldo\n",
    "    def saldo(self):\n",
    "        return self.__saldo\n",
    "\n",
    "mioConto = ContoBancario(1000)\n",
    "print('Prima del deposito:', mioConto.saldo())\n",
    "\n",
    "mioConto.deposita(500)\n",
    "print('Dopo il deposito:', mioConto.saldo())\n",
    "\n",
    "# Prova anche queste istruzioni:\n",
    "# print('Prima del deposito:', mioConto.__saldo)  # errore: __saldo non è accessibile dall'esterno\n",
    "# print('Prima del deposito:', mioConto._ContoBancario__saldo)  # accesso \"forzato\" a __saldo"
   ]
  },
  {
   "cell_type": "markdown",
   "metadata": {
    "slideshow": {
     "slide_type": "subslide"
    },
    "tags": []
   },
   "source": [
    "- L'**astrazione** si riferisce alla pratica di isolare l'implementazione complessa di una classe, mostrando solo le funzionalità essenziali all'utente. L'astrazione nasconde la complessità e mostra solo l'interfaccia necessaria."
   ]
  },
  {
   "cell_type": "code",
   "execution_count": 5,
   "metadata": {
    "slideshow": {
     "slide_type": "fragment"
    }
   },
   "outputs": [
    {
     "name": "stdout",
     "output_type": "stream",
     "text": [
      "Controllo della batteria\n",
      "Avvio del motore\n",
      "Auto avviata\n"
     ]
    }
   ],
   "source": [
    "class Automobile:\n",
    "    def avvia(self):\n",
    "        self._controlla_batteria()\n",
    "        self._avvia_motore()\n",
    "        print(\"Auto avviata\")\n",
    "\n",
    "    def _controlla_batteria(self):\n",
    "        print(\"Controllo della batteria\")\n",
    "\n",
    "    def _avvia_motore(self):\n",
    "        print(\"Avvio del motore\")\n",
    "\n",
    "miaAuto = Automobile()\n",
    "miaAuto.avvia()"
   ]
  },
  {
   "cell_type": "markdown",
   "metadata": {
    "slideshow": {
     "slide_type": "subslide"
    },
    "tags": []
   },
   "source": [
    "- L'**ereditarietà** consente di definenire delle relazioni genitore-figlio tra le classi in modo che una nuova classe (figlia) possa ereditare proprietà e metodi da una classe esistente (genitore). Spesso gli oggetti sono molto simili, quindi l'ereditarietà consente ai programmatori di riutilizzare la logica comune e allo stesso tempo di introdurre concetti unici nelle classi."
   ]
  },
  {
   "cell_type": "code",
   "execution_count": 9,
   "metadata": {
    "slideshow": {
     "slide_type": "fragment"
    }
   },
   "outputs": [
    {
     "name": "stdout",
     "output_type": "stream",
     "text": [
      "L'animale sta mangiando\n",
      "Il cane sta abbaiando\n"
     ]
    }
   ],
   "source": [
    "# Classe genitore\n",
    "class Animale:\n",
    "    def mangia(self):\n",
    "        print(\"L'animale sta mangiando\")\n",
    "\n",
    "# Classe figlia\n",
    "class Cane(Animale):\n",
    "    def abbaia(self):\n",
    "        print(\"Il cane sta abbaiando\")\n",
    "\n",
    "# Creaione di un oggetto della classe figlia\n",
    "fido = Cane()\n",
    "\n",
    "# Invocazione dei metodi\n",
    "fido.mangia()  # Ereditato da Animale\n",
    "fido.abbaia()  # Proprio di Cane"
   ]
  },
  {
   "cell_type": "markdown",
   "metadata": {
    "slideshow": {
     "slide_type": "subslide"
    },
    "tags": []
   },
   "source": [
    "- Il **polimorfismo** significa letteralmente \"avere molte forme\" ed è un concetto correlato all'ereditarietà. Permette ai programmatori di definire diverse implementazioni per lo stesso oggetto o metodo. In questo modo, il nome (o interfaccia) rimane lo stesso, ma le azioni consentite e quelle eseguite possono variare in base a certe condizioni."
   ]
  },
  {
   "cell_type": "code",
   "execution_count": null,
   "metadata": {
    "slideshow": {
     "slide_type": "subslide"
    },
    "tags": []
   },
   "outputs": [],
   "source": [
    "# Classe genitore, con metodo \"astratto/virtuale\" (da implementare \n",
    "# nelle classi figlie)\n",
    "\n",
    "class Animale:\n",
    "    def emetti_suono(self):\n",
    "        pass\n",
    "\n",
    "# Classi figlie, che implementano il metodo \"astratto\"\n",
    "class Cane(Animale):\n",
    "    def emetti_suono(self):\n",
    "        print(\"Bau\")\n",
    "\n",
    "class Gatto(Animale):\n",
    "    def emetti_suono(self):\n",
    "        print(\"Miao\")\n",
    "\n",
    "# Funzione che accetta un oggetto di tipo Animale come parametro\n",
    "def fai_parlare(animale):\n",
    "    animale.emetti_suono()\n",
    "\n",
    "# Creazione di oggetti di tipo Cane e Gatto\n",
    "fido = Cane()\n",
    "felix = Gatto()\n",
    "\n",
    "# Invocazione della funzione fai_parlare() con oggetti di tipo Cane e Gatto\n",
    "fai_parlare(fido)\n",
    "fai_parlare(felix)"
   ]
  },
  {
   "cell_type": "markdown",
   "metadata": {
    "slideshow": {
     "slide_type": "subslide"
    },
    "tags": []
   },
   "source": [
    "Vediamo in Python come questi princìpi vengono implementati:"
   ]
  },
  {
   "cell_type": "markdown",
   "metadata": {
    "tags": []
   },
   "source": [
    "| Caratteristica OOP | Python Feature                                                                      |\n",
    "| ------------------ | ----------------------------------------------------------------------------------- |\n",
    "| astrazione         | &rarr; classe                                                                       |\n",
    "| incapsulamento     | &rarr; prefisso nomi con doppio underscore “`__`”<br/>&rarr; `property()`           |\n",
    "| ereditarietà       | &rarr; parametri della classe                                                       |\n",
    "| polimorfismo       | &rarr; *compile time*: overload (`*args, **kwargs`)<br/>&rarr; *run time*: override / classi, proprietà o metodi astratti|"
   ]
  },
  {
   "cell_type": "markdown",
   "metadata": {
    "slideshow": {
     "slide_type": "subslide"
    },
    "tags": []
   },
   "source": [
    "### Gli oggetti"
   ]
  },
  {
   "cell_type": "markdown",
   "metadata": {
    "slideshow": {
     "slide_type": "fragment"
    },
    "tags": []
   },
   "source": [
    "La nozione chiave dell'OOP è, naturalmente, quella di oggetto. Ci sono molti oggetti del mondo reale intorno a noi: animali domestici, edifici, automobili, computer, aerei, e chi più ne ha più ne metta. Anche un programma per computer può essere considerato un oggetto."
   ]
  },
  {
   "cell_type": "markdown",
   "metadata": {
    "slideshow": {
     "slide_type": "fragment"
    },
    "tags": []
   },
   "source": [
    "È possibile identificare alcune caratteristiche importanti degli oggetti del mondo reale. Per esempio, per un edificio possiamo considerare il numero di piani, l'anno di costruzione e la superficie totale. Un altro esempio è un aereo, che può ospitare un certo numero di passeggeri e trasferirvi da una città all'altra. Queste caratteristiche costituiscono gli attributi e i metodi dell'oggetto. Gli attributi caratterizzano gli stati o i dati di un oggetto, mentre i metodi ne caratterizzano il comportamento."
   ]
  },
  {
   "cell_type": "markdown",
   "metadata": {
    "slideshow": {
     "slide_type": "notes"
    },
    "tags": []
   },
   "source": [
    "Nell'OOP, tutto può essere visto come un oggetto; una classe, ad esempio, è anche un oggetto. I programmi sono costituiti da diversi oggetti che interagiscono tra loro. Lo stato e il comportamento degli oggetti sono solitamente combinati, ma non è sempre così. A volte vediamo oggetti senza stato o metodi. Questo, ovviamente, dipende dallo scopo del programma e dalla natura dell'oggetto."
   ]
  },
  {
   "cell_type": "markdown",
   "metadata": {
    "slideshow": {
     "slide_type": "subslide"
    },
    "tags": []
   },
   "source": [
    "### Le classi"
   ]
  },
  {
   "cell_type": "markdown",
   "metadata": {
    "slideshow": {
     "slide_type": "fragment"
    },
    "tags": []
   },
   "source": [
    "Spesso molti singoli oggetti hanno caratteristiche simili e quindi possiamo dire che quegli oggetti appartengono allo stesso tipo o classe."
   ]
  },
  {
   "cell_type": "markdown",
   "metadata": {
    "slideshow": {
     "slide_type": "fragment"
    },
    "tags": []
   },
   "source": [
    "La classe è un'altra nozione importante dell'OOP. Una classe descrive una struttura comune di oggetti simili: i loro campi/attributi e metodi. Può essere considerata un modello o un progetto per oggetti simili. Un oggetto è invece un'istanza individuale di una classe."
   ]
  },
  {
   "cell_type": "markdown",
   "metadata": {
    "slideshow": {
     "slide_type": "notes"
    },
    "tags": []
   },
   "source": [
    "In conformità con il principio dell'incapsulamento menzionato in precedenza, ogni classe dovrebbe essere considerata come una blackbox, cioè l'utente della classe dovrebbe vedere e utilizzare solo la parte dell'interfaccia della classe, cioè l'elenco delle proprietà e dei metodi dichiarati, e non dovrebbe addentrarsi nell'implementazione interna."
   ]
  },
  {
   "cell_type": "markdown",
   "metadata": {
    "slideshow": {
     "slide_type": "subslide"
    },
    "tags": []
   },
   "source": [
    "### Esempi"
   ]
  },
  {
   "cell_type": "markdown",
   "metadata": {
    "slideshow": {
     "slide_type": "fragment"
    },
    "tags": []
   },
   "source": [
    "#### Esempio 1. La classe Edificio"
   ]
  },
  {
   "cell_type": "markdown",
   "metadata": {
    "slideshow": {
     "slide_type": "notes"
    },
    "tags": []
   },
   "source": [
    "Un edificio astratto per descrivere gli edifici come un tipo di oggetto (classe).\n",
    "\n",
    "Ogni edificio ha gli stessi attributi:\n",
    "- Numero di piani (un numero intero);\n",
    "- Superficie (un numero a virgola mobile, metri quadrati);\n",
    "- Anno di costruzione (un numero intero).\n",
    "- Ogni oggetto del tipo di edificio ha gli stessi attributi ma valori diversi.\n",
    "\n",
    "Ad esempio:\n",
    "- Edificio 1: numero di piani = 4, area = 2400,16, anno di costruzione = 1966;\n",
    "- Edificio 2: numero di piani = 6, area = 3200,54, anno di costruzione = 2001.\n",
    "\n",
    "È piuttosto difficile determinare il comportamento di un edificio, ma questo esempio dimostra abbastanza bene gli attributi."
   ]
  },
  {
   "cell_type": "markdown",
   "metadata": {
    "slideshow": {
     "slide_type": "fragment"
    },
    "tags": []
   },
   "source": [
    "#### Esempio 2. La classe Aereo"
   ]
  },
  {
   "cell_type": "markdown",
   "metadata": {
    "slideshow": {
     "slide_type": "notes"
    },
    "tags": []
   },
   "source": [
    "A differenza di un edificio, è facile definire il comportamento di un aereo: può volare e trasferirsi tra due punti del pianeta.\n",
    "\n",
    "Un piano astratto per descrivere tutti gli aerei come un tipo di oggetto (classe).\n",
    "\n",
    "Ogni aereo ha i seguenti attributi:\n",
    "- Nome (una stringa, ad esempio \"Airbus A320\" o \"Boeing 777\");\n",
    "- Capacità passeggeri (un numero intero);\n",
    "- Velocità standard (un numero intero);\n",
    "- Coordinate attuali (necessarie per la navigazione).\n",
    "\n",
    "Inoltre, ha un comportamento (un metodo): trasferire i passeggeri da un punto geografico a un altro. Questo comportamento modifica lo stato di un aereo, ossia le sue coordinate correnti."
   ]
  },
  {
   "cell_type": "markdown",
   "metadata": {
    "slideshow": {
     "slide_type": "subslide"
    },
    "tags": []
   },
   "source": [
    "#### Esempio 3. La classe Animale: implementazione in Python"
   ]
  },
  {
   "cell_type": "code",
   "execution_count": 10,
   "metadata": {
    "slideshow": {
     "slide_type": "subslide"
    },
    "tags": []
   },
   "outputs": [
    {
     "name": "stdout",
     "output_type": "stream",
     "text": [
      "Animale Generico fa un suono.\n",
      "Fido, che è un Labrador, abbaia.\n",
      "Micio fa le fusa.\n"
     ]
    }
   ],
   "source": [
    "class Animale:\n",
    "    def __init__(self, nome):\n",
    "        self.nome = nome\n",
    "\n",
    "    def emetti_suono(self):\n",
    "        print(f\"{self.nome} fa un suono.\")\n",
    "\n",
    "class Cane(Animale):\n",
    "    def __init__(self, nome, razza):\n",
    "        super().__init__(nome)\n",
    "        self.razza = razza\n",
    "\n",
    "    def emetti_suono(self):\n",
    "        print(f\"{self.nome}, che è un {self.razza}, abbaia.\")\n",
    "\n",
    "class Gatto(Animale):\n",
    "    def emetti_suono(self):\n",
    "        print(f\"{self.nome} fa le fusa.\")\n",
    "\n",
    "# Creazione di istanze delle classi\n",
    "animale_generale = Animale(\"Animale Generico\")\n",
    "fido = Cane(\"Fido\", \"Labrador\")\n",
    "micio = Gatto(\"Micio\")\n",
    "\n",
    "# Uso dei metodi\n",
    "animale_generale.emetti_suono()\n",
    "fido.emetti_suono()\n",
    "micio.emetti_suono()"
   ]
  },
  {
   "cell_type": "markdown",
   "metadata": {
    "slideshow": {
     "slide_type": "subslide"
    },
    "tags": []
   },
   "source": [
    "### Nomenclatura generica e specifica"
   ]
  },
  {
   "cell_type": "markdown",
   "metadata": {
    "slideshow": {
     "slide_type": "fragment"
    },
    "tags": []
   },
   "source": [
    "Se conosci già altri linguaggi di programmazione, e non ti sei mai ancora approcciato alla programmazione ad oggetti, probabilmente sarai abituato ad una terminologia più \"classica\". Vediamo a grandi linee quali sono queste differenze."
   ]
  },
  {
   "cell_type": "markdown",
   "metadata": {
    "slideshow": {
     "slide_type": "notes"
    },
    "tags": []
   },
   "source": [
    "*NB: Se non hai mai programmato, questa terminologia ti potrebbe essere estranea al momento, quindi per ora dai una lettura veloce e poi ritorna qua se e quando avrai dei dubbi sulla nomenclatura.*"
   ]
  },
  {
   "cell_type": "markdown",
   "metadata": {
    "tags": []
   },
   "source": [
    "| Classico                  | OOP generico       | OOP Python                      |\n",
    "| ------------------------- | ------------------ | ------------------------------- |\n",
    "| funzione/procedura        | metodo             | metodo/funzione                 |\n",
    "| record/variabile          | oggetto/istanza    | oggetto (variabile o attributo) |\n",
    "| modulo                    | classe/interfaccia | tipo/classe/metaclasse          |\n",
    "| chiamata (alla procedura) | messaggio          | chiamata/invocazione            |"
   ]
  },
  {
   "cell_type": "markdown",
   "metadata": {
    "slideshow": {
     "slide_type": "subslide"
    },
    "tags": []
   },
   "source": [
    "Possiamo inoltre chiamare gli elementi in modo diverso, a seconda che questi siano contenuti in un oggetto o no."
   ]
  },
  {
   "cell_type": "markdown",
   "metadata": {
    "tags": []
   },
   "source": [
    "| Fuori da un oggetto | Dentro un oggetto (*)                                |\n",
    "| ------------------- | ---------------------------------------------------- |\n",
    "| funzione/procedura  | metodo                                               |\n",
    "| variabile           | attributo<br/>proprietà (con getter, setter, ecc...) |"
   ]
  },
  {
   "cell_type": "markdown",
   "metadata": {
    "slideshow": {
     "slide_type": "fragment"
    },
    "tags": []
   },
   "source": [
    "> _(\\*) Come vedremo, in Python alla fine tutto è un oggetto!_"
   ]
  },
  {
   "cell_type": "markdown",
   "metadata": {
    "slideshow": {
     "slide_type": "subslide"
    },
    "tags": []
   },
   "source": [
    "Nel caso di \"funzione\" e \"metodo\" è bene cercare di chiarire ulteriormente."
   ]
  },
  {
   "cell_type": "markdown",
   "metadata": {
    "slideshow": {
     "slide_type": "fragment"
    },
    "tags": []
   },
   "source": [
    "| Caratteristica | Funzione                                     | Metodo                                                                |\n",
    "| -------------- | -------------------------------------------- | --------------------------------------------------------------------- |\n",
    "| *esistenza*    | esiste per conto suo                         | appartiene ad una classe/oggetto                                      |\n",
    "| *definizione*  | non richiede `self`<br/>tra i suoi parametri | richiede `self` (l'oggetto a cui appartiene)<br/>come primo parametro |\n",
    "| *chiamata*     | `funzione()`                                 | `oggetto.metodo()`                                                    |"
   ]
  },
  {
   "cell_type": "markdown",
   "metadata": {
    "slideshow": {
     "slide_type": "subslide"
    },
    "tags": []
   },
   "source": [
    "### Riassumendo"
   ]
  },
  {
   "cell_type": "markdown",
   "metadata": {
    "slideshow": {
     "slide_type": "notes"
    },
    "tags": []
   },
   "source": [
    "Per farla breve, è bene ricordare quanto segue:"
   ]
  },
  {
   "cell_type": "markdown",
   "metadata": {
    "tags": []
   },
   "source": [
    "- Un programma orientato agli oggetti consiste in un insieme di oggetti interagenti.\n",
    "- Secondo il principio dell'incapsulamento, l'implementazione interna dell'oggetto non è accessibile all'utente.\n",
    "- Un oggetto può avere delle caratteristiche: attributi (campi) e metodi (funzioni).\n",
    "- Un oggetto è un'istanza di una classe (tipo);\n",
    "- Una classe è un concetto più astratto di un singolo oggetto; può essere considerata un modello o un *blueprint* che descrive la struttura comune di un insieme di oggetti simili."
   ]
  },
  {
   "cell_type": "markdown",
   "metadata": {
    "slideshow": {
     "slide_type": "slide"
    },
    "tags": []
   },
   "source": [
    "## Licenze software"
   ]
  },
  {
   "cell_type": "markdown",
   "metadata": {
    "slideshow": {
     "slide_type": "fragment"
    },
    "tags": []
   },
   "source": [
    "![software_license_categories.png](./imgs/licenses//software_license_categories.png)"
   ]
  },
  {
   "cell_type": "markdown",
   "metadata": {
    "slideshow": {
     "slide_type": "subslide"
    },
    "tags": []
   },
   "source": [
    "![foss_licenses.jpg](./imgs/licenses/foss_licenses.jpg)"
   ]
  },
  {
   "cell_type": "markdown",
   "metadata": {
    "slideshow": {
     "slide_type": "subslide"
    },
    "tags": []
   },
   "source": [
    "\n",
    "### Un po' di etica...\n",
    "\n",
    "Se credi che il software pagato dai contribuenti debba essere software libero e open, sappi che esiste una petizione al riguardo: [Public Code](https://publiccode.eu/it/)"
   ]
  }
 ],
 "metadata": {
  "kernelspec": {
   "display_name": "Python 3 (ipykernel)",
   "language": "python",
   "name": "python3"
  },
  "language_info": {
   "codemirror_mode": {
    "name": "ipython",
    "version": 3
   },
   "file_extension": ".py",
   "mimetype": "text/x-python",
   "name": "python",
   "nbconvert_exporter": "python",
   "pygments_lexer": "ipython3",
   "version": "3.10.0"
  },
  "vscode": {
   "interpreter": {
    "hash": "20e40d8fc09a6690434ad602c7eb2d8de15d36ec466bfbfb0de97c7c540d7363"
   }
  }
 },
 "nbformat": 4,
 "nbformat_minor": 4
}
