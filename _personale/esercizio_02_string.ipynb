{
 "cells": [
  {
   "attachments": {},
   "cell_type": "markdown",
   "metadata": {},
   "source": [
    "# Esercizio - La ricetta della nonna\n",
    "\n",
    "Requisiti: stringhe, liste, if, for, import, \n",
    "\n",
    "La nonna ci ha dato la sua miracolosa ricetta della pasta olive acciughe \n",
    "e capperi.\n",
    "\n",
    "<u>Variante 1:</u> Dobbiamo andare a comprare tutti gli ingredienti che appaiono nella lista più di una volta.\n",
    "\n",
    "<u>Variante 2:</u> Dobbiamo andare a comprare gli ingredienti e dobbiamo capire quanti \"**cappero**\", \"**oliva**\" e \"**pepe**\" comprare. Di pasta e altri ingredienti ne abbiamo già in quantità, quindi non ci interessano.\n",
    "\n",
    "- **ATTENZIONE:** la nonna ha la sua età ed è sempre stata pasticciona e quindi la ricetta è scritta in modo non consistente, e le parole vanno *normalizzate*    \n",
    "- **SUGGERIMENTO**: c'è un comodo metodo delle stringhe per separare le parole...\n",
    "  \n",
    "Esempio - dati:\n",
    "\n",
    "```python\n",
    "ricetta = \"oliva\\t, pepe,cappero ,\\n detersivo,\\t \\n cappero, peperone, acciuga ,oliva , pepe\\t,\\t cappero , \\noliva,pasta\\n\"\n",
    "```\n",
    "\n",
    "stampa:\n",
    "\n",
    "```\n",
    "  Servono:\n",
    "     3 oliva\n",
    "     2 pepe\n",
    "     3 cappero\n",
    "``` "
   ]
  },
  {
   "cell_type": "markdown",
   "metadata": {},
   "source": [
    "Pseudocodice\n",
    "\n",
    "- creazione di un dizionario contenitore\n",
    "- dividere la stringa in più sottostringhe, una per parola, mettendole in una lista\n",
    "- per ogni parola della lista di ingredienti:\n",
    "    - pulisco la parola str.strip()\n",
    "    - se la parola è già nel dizionario:\n",
    "        - incremento il suo numero;\n",
    "    - altrimenti:\n",
    "        - creo la chiave e imposto il valore a 1;\n",
    "- "
   ]
  },
  {
   "cell_type": "code",
   "execution_count": 4,
   "metadata": {},
   "outputs": [
    {
     "name": "stdout",
     "output_type": "stream",
     "text": [
      "Servono:\n",
      "    3 oliva\n",
      "    2 pepe\n",
      "    3 cappero\n"
     ]
    }
   ],
   "source": [
    "ricetta_orig = \"oliva\\t, pepe,cappero ,\\n detersivo,\\t \\n cappero, peperone, acciuga ,oliva , pepe\\t,\\t cappero , \\noliva,pasta\\n\"\n",
    "# ricetta = \"oliva\\t, pepe,cappero ,\\n dete\\nrsivo,\\t \\n cappero, peperone, acciuga ,oliva , pepe\\t,\\t cappero , \\noliva,pasta\\n\"\n",
    "# ricetta = \"cappone , pepe,\\noliva\\n,\\n\\tpepe, acciuga \"   #  1 oliva 2 pepe 0 cappero\n",
    "\n",
    "# scrivi qui\n",
    "\n",
    "#(ricetta_orig.split())\n",
    "#olive = ricetta_orig.count(\"oliva\")\n",
    "#pepe = ricetta_orig.count(\"pepe\")\n",
    "#capperi = ricetta_orig.count(\"cappero\")\n",
    "#print (\"Servono:\"\")\n",
    "#print (str(olive), \"Olive\")\n",
    "#print (str(pepe), \"Pepe\")\n",
    "#print (str(capperi), \"Capperi\")\n",
    "\n",
    "ricetta_dict = {}\n",
    "ricetta_orig_list = ricetta_orig.split(',')\n",
    "\n",
    "for parola_sporca in ricetta_orig_list:\n",
    "    parola_pulita = parola_sporca.strip()\n",
    "    if parola_pulita in ricetta_dict:      #controlla se la parola è gia nel dizionario\n",
    "        #ricetta_dict[parola_pulita] = ricetta_dict[parola_pulita] +1\n",
    "        ricetta_dict[parola_pulita] +=1\n",
    "    else:\n",
    "        ricetta_dict[parola_pulita] = 1\n",
    "\n",
    "print(\"Servono:\")\n",
    "\n",
    "for key in ricetta_dict:\n",
    "    if ricetta_dict[key] > 1: \n",
    "        print ('   ', ricetta_dict[key], key)\n",
    "    else:\n",
    "        pass     # in questo caso l'else non serve. uso pass o non lo metto proprio\n",
    "\n"
   ]
  }
 ],
 "metadata": {
  "kernelspec": {
   "display_name": "Python 3",
   "language": "python",
   "name": "python3"
  },
  "language_info": {
   "codemirror_mode": {
    "name": "ipython",
    "version": 3
   },
   "file_extension": ".py",
   "mimetype": "text/x-python",
   "name": "python",
   "nbconvert_exporter": "python",
   "pygments_lexer": "ipython3",
   "version": "3.10.0"
  },
  "orig_nbformat": 4
 },
 "nbformat": 4,
 "nbformat_minor": 2
}
