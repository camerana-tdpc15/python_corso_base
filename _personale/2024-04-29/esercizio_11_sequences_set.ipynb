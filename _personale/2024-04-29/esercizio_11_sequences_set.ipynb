{
 "cells": [
  {
   "cell_type": "markdown",
   "metadata": {},
   "source": [
    "## Esercizio - Festone di laurea\n",
    "\n",
    "Requisiti: insiemi\n",
    "\n",
    " \n",
    "Evviva! Ci siamo laureati! E per coincidenza ci siamo riusciti nella stessa sessione dei nostri \n",
    "grandi amici Gianni e Giulia. Ora naturalmente stiamo cercando di organizzare una festa e ci piacerebbe \n",
    "farla tutti insieme. \n",
    "\n",
    "Purtroppo però a causa delle norme Covid non possiamo fare assembramento e \n",
    "sono perciò vietate i raduni con più di **13** persone.\n",
    "\n",
    "Siccome ora siamo dottori, l'idea è quella di risolvere il problema con un bel programmino Python. Abbiamo tre liste di invitati e siccome noi festeggiati siamo tutti amici ci sono ovviamente persone che verrebbero invitate più volte.\n",
    "\n",
    "1. Trova il numero di invitati effettivi (le persone che verranno alla festa)\n",
    "2. Stampa la lista di nomi SENZA duplicati\n",
    "3. Trova il numero delle persone che hanno ricevuto **almeno** 2 inviti\n",
    "4. Trova l'elenco delle persone che hanno ricevuto **almeno** 2 inviti\n",
    "\n",
    "\n",
    "Esempio - dati:\n",
    "\n",
    "```python\n",
    "invitati_miei =   [\"VittorioG\", \"LucaB\", \"DavidL\", \"GiorgioC\", \"MichelaF\", \"GiuliaA\", \"VittorioG\", ]\n",
    "invitati_gianni = [\"SamanthaV\", \"LucaB\", \"GiorgioC\", \"MichelaF\", \"MartaB\", \"EmmaK\"]\n",
    "invitati_giulia = [\"DavidL\", \"GiorgioC\", \"MichelaF\", \"MassimilianoL\", \"VittorioG\", \"RobertoU\", \"EmmaK\"]\n",
    "```\n",
    "\n",
    "\n",
    "dopo il tuo codice, deve stampare:\n",
    "\n",
    "```\n",
    "Invitati miei:  6\n",
    "Invitati gianni:  6\n",
    "Invitati giulia:  7\n",
    "Numero invitati:  11\n",
    "Nomi invitati:  {'MassimilianoL', 'MartaB', 'MichelaF', 'EmmaK', 'GiorgioC', 'DavidL', 'VittorioG', 'SamanthaV', 'RobertoU', 'LucaB', 'GiuliaA'}\n",
    "Numero amici invitati almeno 2 volte: 6\n",
    "Amici invitati almeno due volte:  {'GiorgioC', 'DavidL', 'MichelaF', 'VittorioG', 'LucaB', 'EmmaK'}\n",
    "```\n"
   ]
  },
  {
   "cell_type": "code",
   "execution_count": 36,
   "metadata": {},
   "outputs": [
    {
     "name": "stdout",
     "output_type": "stream",
     "text": [
      "Invitati miei: 6\n",
      "Invitati gianni: 6\n",
      "Invitati giulia: 7\n",
      "Numero invitati: 11\n",
      "Nomi invitati: {'RobertoU', 'MartaB', 'SamanthaV', 'MassimilianoL', 'DavidL', 'MichelaF', 'GiuliaA', 'EmmaK', 'VittorioG', 'LucaB', 'GiorgioC'}\n",
      "Numero amici invitati almeno due volte: 2\n",
      "Amici invitati almeno due volte: {'MichelaF', 'GiorgioC'}\n"
     ]
    }
   ],
   "source": [
    "# Input (NON modificare)\n",
    "\n",
    "invitati_miei =   [\"VittorioG\", \"LucaB\", \"DavidL\", \"GiorgioC\", \"MichelaF\", \"GiuliaA\", \"VittorioG\", ]\n",
    "invitati_gianni = [\"SamanthaV\", \"LucaB\", \"GiorgioC\", \"MichelaF\", \"MartaB\", \"EmmaK\"]\n",
    "invitati_giulia = [\"DavidL\", \"GiorgioC\", \"MichelaF\", \"MassimilianoL\", \"VittorioG\", \"RobertoU\", \"EmmaK\"]\n",
    "\n",
    "# scrivi qui\n",
    "\n",
    "\n",
    "num_miei = set()\n",
    "num_gianni = set()\n",
    "num_giulia = set()\n",
    "\n",
    "elenco = [num_miei, num_giulia, num_gianni]\n",
    "lun_elenco = len(elenco) - 1\n",
    "\n",
    "lista_invitati = [invitati_miei, invitati_gianni, invitati_giulia]\n",
    "\n",
    "cont = 0\n",
    "for lista in lista_invitati:\n",
    "    for num in range(len(lista)):\n",
    "        nome = lista[num]\n",
    "        elenco[cont].add(nome)\n",
    "    cont += 1\n",
    "\n",
    "num_invitati = num_miei | num_gianni | num_giulia\n",
    "num_invitati_doppi = num_miei & num_gianni & num_giulia\n",
    "\n",
    "print(f\"Invitati miei: {len(elenco[0])}\")\n",
    "print(f\"Invitati gianni: {len(elenco[1])}\")\n",
    "print(f\"Invitati giulia: {len(elenco[2])}\")\n",
    "print(f\"Numero invitati: {len(num_invitati)}\")\n",
    "print(f\"Nomi invitati: {num_invitati}\")\n",
    "print(f\"Numero amici invitati almeno due volte: {len(num_invitati_doppi)}\")\n",
    "print(f\"Amici invitati almeno due volte: {num_invitati_doppi}\")\n",
    "\n",
    "    \n"
   ]
  },
  {
   "cell_type": "code",
   "execution_count": 43,
   "metadata": {},
   "outputs": [
    {
     "name": "stdout",
     "output_type": "stream",
     "text": [
      "Invitati miei: 6\n",
      "Invitati gianni: 6\n",
      "Invitati giulia: 7\n",
      "Numero invitati: 11\n",
      "Nomi invitati: {'RobertoU', 'MartaB', 'SamanthaV', 'MassimilianoL', 'DavidL', 'MichelaF', 'GiuliaA', 'EmmaK', 'VittorioG', 'LucaB', 'GiorgioC'}\n",
      "Numero amici invitati almeno due volte: 6\n",
      "Amici invitati almeno due volte: {'DavidL', 'MichelaF', 'VittorioG', 'EmmaK', 'LucaB', 'GiorgioC'}\n"
     ]
    }
   ],
   "source": [
    "# Input (NON modificare)\n",
    "\n",
    "invitati_miei =   [\"VittorioG\", \"LucaB\", \"DavidL\", \"GiorgioC\", \"MichelaF\", \"GiuliaA\", \"VittorioG\", ]\n",
    "invitati_gianni = [\"SamanthaV\", \"LucaB\", \"GiorgioC\", \"MichelaF\", \"MartaB\", \"EmmaK\"]\n",
    "invitati_giulia = [\"DavidL\", \"GiorgioC\", \"MichelaF\", \"MassimilianoL\", \"VittorioG\", \"RobertoU\", \"EmmaK\"]\n",
    "\n",
    "# scrivi qui\n",
    "\n",
    "invitati_miei_set = set(invitati_miei)\n",
    "invitati_gianni_set = set(invitati_gianni)\n",
    "invitati_giulia_set = set(invitati_giulia)\n",
    "\n",
    "invitati_totali = invitati_miei + invitati_gianni + invitati_giulia\n",
    "invitati_totali_set = set(invitati_totali)\n",
    "\n",
    "inviati_doppi = set()\n",
    "for num in invitati_totali_set:\n",
    "    if invitati_totali.count(num) > 1:\n",
    "        inviati_doppi.add(num)\n",
    "\n",
    "\n",
    "\n",
    "\n",
    "print(f\"Invitati miei: {len(invitati_miei_set)}\")\n",
    "print(f\"Invitati gianni: {len(invitati_gianni_set)}\")\n",
    "print(f\"Invitati giulia: {len(invitati_giulia_set)}\")\n",
    "print(f\"Numero invitati: {len(invitati_totali_set)}\")\n",
    "print(f\"Nomi invitati: {invitati_totali_set}\")\n",
    "print(f\"Numero amici invitati almeno due volte: {len(inviati_doppi)}\")\n",
    "print(f\"Amici invitati almeno due volte: {inviati_doppi}\")\n"
   ]
  }
 ],
 "metadata": {
  "kernelspec": {
   "display_name": "Python 3",
   "language": "python",
   "name": "python3"
  },
  "language_info": {
   "codemirror_mode": {
    "name": "ipython",
    "version": 3
   },
   "file_extension": ".py",
   "mimetype": "text/x-python",
   "name": "python",
   "nbconvert_exporter": "python",
   "pygments_lexer": "ipython3",
   "version": "3.10.7"
  },
  "orig_nbformat": 4
 },
 "nbformat": 4,
 "nbformat_minor": 2
}
