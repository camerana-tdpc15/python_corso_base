{
 "cells": [
  {
   "attachments": {},
   "cell_type": "markdown",
   "metadata": {},
   "source": [
    "# Esercizio - Le età dei nostri amici"
   ]
  },
  {
   "attachments": {},
   "cell_type": "markdown",
   "metadata": {},
   "source": [
    "Requisiti: `import`, `with ... as`, `open`, `dict`"
   ]
  },
  {
   "attachments": {},
   "cell_type": "markdown",
   "metadata": {},
   "source": [
    "E’ dato un file `nomi_data_nascita.txt` nella cartella `/files_esercizi` del nostro repository. Il file è caratterizzato dal seguente formato rappresentante delle coppie nome/età. Per esempio:\n",
    "\n",
    "```python\n",
    "Ada: 1999\n",
    "Pippo: 1980\n",
    "Felice: 1976\n",
    "Geronima: 1999\n",
    "...\n",
    "```\n",
    "\n",
    "Leggi tutto il file creando un dizionario (`dict`) le cui chiavi sono corrispondono all’età della persona alla data attuale. A ciascuna età deve essere associata una lista con i nomi di persone che hanno quell’età.\n",
    "\n",
    "Output atteso:\n",
    "\n",
    "```python\n",
    "{24: ['Ada:', 'Geronima:', 'Roberto:'], 43: ['Pippo:', 'Ciccio:'], 47: ['Felice:', 'Mimmo:'], 51: ['Luca:', 'Pluto:'], 100: ['Totò:']}\n",
    "```"
   ]
  },
  {
   "cell_type": "code",
   "execution_count": 4,
   "metadata": {},
   "outputs": [
    {
     "ename": "SyntaxError",
     "evalue": "expected ':' (3101246710.py, line 35)",
     "output_type": "error",
     "traceback": [
      "\u001b[1;36m  Cell \u001b[1;32mIn[4], line 35\u001b[1;36m\u001b[0m\n\u001b[1;33m    with open\u001b[0m\n\u001b[1;37m             ^\u001b[0m\n\u001b[1;31mSyntaxError\u001b[0m\u001b[1;31m:\u001b[0m expected ':'\n"
     ]
    }
   ],
   "source": [
    "# scrivi qui\n",
    "#import os\n",
    "\n",
    "# creo dizionario età-nome\n",
    "def crea_diz_eta_nome(file_path):\n",
    "  diz_eta_nome = {}\n",
    "  with open(file_path, 'r', encoding='utf8') as f:\n",
    "    for riga in f:\n",
    "      nome, anno_nascita = riga.strip().split(':')\n",
    "      eta = calcola_eta(anno_nascita)\n",
    "      if eta not in diz_eta_nome:\n",
    "        diz_eta_nome[eta] = []\n",
    "      diz_eta_nome[eta].append(nome)\n",
    "  return diz_eta_nome\n",
    "\n",
    "# funzione per calcolo età\n",
    "def calcola_eta(anno_nascita):\n",
    "  from datetime import datetime\n",
    "  anno_corrente = datetime.now().year\n",
    "  return anno_corrente - int(anno_nascita)\n",
    "\n",
    "# Esempio di utilizzo\n",
    "# cartella_esercizi = \"/Users/Massimo/Documents/GitHub/python_corso_base/_personale/\"  # funziona casa\n",
    "cartella_esercizi = \"/Users/TDPC15-17/Documents/Massimo_Taronna/python_corso_base/python_corso_base/_personale/\"    # funziona a scuola\n",
    "nome_file = \"nomi_data_nascita.txt\"\n",
    "percorso_file = os.path.join(cartella_esercizi, nome_file)\n",
    "\n",
    "diz_eta_nome = crea_diz_eta_nome(percorso_file)\n",
    "\n",
    "# Stampa il dizionario \n",
    "for eta, nomi in diz_eta_nome.items():\n",
    "  print(f\"{eta}: {nomi}\")\n",
    "\n",
    "\n",
    "with open\n"
   ]
  },
  {
   "cell_type": "code",
   "execution_count": 5,
   "metadata": {},
   "outputs": [
    {
     "name": "stdout",
     "output_type": "stream",
     "text": [
      "{25: ['Ada', 'Geronima', 'Roberto'], 44: ['Pippo', 'Ciccio'], 48: ['Felice', 'Mimmo'], 52: ['Luca', 'Pluto'], 101: ['Totò']}\n"
     ]
    }
   ],
   "source": [
    "\n",
    "from datetime import datetime\n",
    "anno_corrente = datetime.now().year\n",
    "\n",
    "# Apro il file in lettura\n",
    "with open('/Users/Massimo/Documents/GitHub/python_corso_base/_personale/nomi_data_nascita.txt', 'r', encoding='utf-8') as file:\n",
    "    # Inizializzo un dizionario vuoto per memorizzare i nomi delle persone per ogni età\n",
    "    dizionario_eta = {}\n",
    "\n",
    "    # Leggo ogni riga del file\n",
    "    for riga in file:\n",
    "        # Divido la riga in nome ed età usando il carattere ':'\n",
    "        nome, anno_nascita = riga.strip().split(': ')\n",
    "        \n",
    "        # Calcolo l'età sottraendo l'anno di nascita dall'anno attuale\n",
    "        eta = anno_corrente - int(anno_nascita)\n",
    "        \n",
    "        # Se l'età è già presente nel dizionario, aggiungo il nome alla lista corrispondente\n",
    "        if eta in dizionario_eta:\n",
    "            dizionario_eta[eta].append(nome)\n",
    "        # Altrimenti, creo una nuova chiave nel dizionario e vi associo una lista contenente il nome\n",
    "        else:\n",
    "            dizionario_eta[eta] = [nome]\n",
    "\n",
    "# Stampo il dizionario risultante\n",
    "print(dizionario_eta)\n"
   ]
  },
  {
   "cell_type": "code",
   "execution_count": 2,
   "metadata": {},
   "outputs": [
    {
     "ename": "FileNotFoundError",
     "evalue": "[Errno 2] No such file or directory: '/Users/TDPC15-17/Documents/Massimo_Taronna/python_corso_base/python_corso_base/_personale/nomi_data_nascita.txt'",
     "output_type": "error",
     "traceback": [
      "\u001b[1;31m---------------------------------------------------------------------------\u001b[0m",
      "\u001b[1;31mFileNotFoundError\u001b[0m                         Traceback (most recent call last)",
      "Cell \u001b[1;32mIn[2], line 12\u001b[0m\n\u001b[0;32m      9\u001b[0m nomi_per_eta \u001b[38;5;241m=\u001b[39m {}\n\u001b[0;32m     11\u001b[0m \u001b[38;5;66;03m# Apri il file e leggi le righe\u001b[39;00m\n\u001b[1;32m---> 12\u001b[0m \u001b[38;5;28;01mwith\u001b[39;00m \u001b[38;5;28;43mopen\u001b[39;49m\u001b[43m(\u001b[49m\u001b[38;5;124;43m'\u001b[39;49m\u001b[38;5;124;43m/Users/TDPC15-17/Documents/Massimo_Taronna/python_corso_base/python_corso_base/_personale/nomi_data_nascita.txt\u001b[39;49m\u001b[38;5;124;43m'\u001b[39;49m\u001b[43m,\u001b[49m\u001b[43m \u001b[49m\u001b[38;5;124;43m'\u001b[39;49m\u001b[38;5;124;43mr\u001b[39;49m\u001b[38;5;124;43m'\u001b[39;49m\u001b[43m,\u001b[49m\u001b[43m \u001b[49m\u001b[43mencoding\u001b[49m\u001b[38;5;241;43m=\u001b[39;49m\u001b[38;5;124;43m'\u001b[39;49m\u001b[38;5;124;43mutf-8\u001b[39;49m\u001b[38;5;124;43m'\u001b[39;49m\u001b[43m)\u001b[49m \u001b[38;5;28;01mas\u001b[39;00m file:\n\u001b[0;32m     13\u001b[0m     \u001b[38;5;28;01mfor\u001b[39;00m riga \u001b[38;5;129;01min\u001b[39;00m file:\n\u001b[0;32m     14\u001b[0m         \u001b[38;5;66;03m# Dividi la riga per il carattere \":\" e rimuovi spazi bianchi\u001b[39;00m\n\u001b[0;32m     15\u001b[0m         \u001b[38;5;66;03m# print(riga)\u001b[39;00m\n\u001b[0;32m     16\u001b[0m         \u001b[38;5;66;03m# print(repr(riga))\u001b[39;00m\n\u001b[0;32m     17\u001b[0m         nome, anno_nascita \u001b[38;5;241m=\u001b[39m riga\u001b[38;5;241m.\u001b[39mstrip()\u001b[38;5;241m.\u001b[39msplit(\u001b[38;5;124m'\u001b[39m\u001b[38;5;124m:\u001b[39m\u001b[38;5;124m'\u001b[39m)\n",
      "File \u001b[1;32m~\\AppData\\Roaming\\Python\\Python312\\site-packages\\IPython\\core\\interactiveshell.py:324\u001b[0m, in \u001b[0;36m_modified_open\u001b[1;34m(file, *args, **kwargs)\u001b[0m\n\u001b[0;32m    317\u001b[0m \u001b[38;5;28;01mif\u001b[39;00m file \u001b[38;5;129;01min\u001b[39;00m {\u001b[38;5;241m0\u001b[39m, \u001b[38;5;241m1\u001b[39m, \u001b[38;5;241m2\u001b[39m}:\n\u001b[0;32m    318\u001b[0m     \u001b[38;5;28;01mraise\u001b[39;00m \u001b[38;5;167;01mValueError\u001b[39;00m(\n\u001b[0;32m    319\u001b[0m         \u001b[38;5;124mf\u001b[39m\u001b[38;5;124m\"\u001b[39m\u001b[38;5;124mIPython won\u001b[39m\u001b[38;5;124m'\u001b[39m\u001b[38;5;124mt let you open fd=\u001b[39m\u001b[38;5;132;01m{\u001b[39;00mfile\u001b[38;5;132;01m}\u001b[39;00m\u001b[38;5;124m by default \u001b[39m\u001b[38;5;124m\"\u001b[39m\n\u001b[0;32m    320\u001b[0m         \u001b[38;5;124m\"\u001b[39m\u001b[38;5;124mas it is likely to crash IPython. If you know what you are doing, \u001b[39m\u001b[38;5;124m\"\u001b[39m\n\u001b[0;32m    321\u001b[0m         \u001b[38;5;124m\"\u001b[39m\u001b[38;5;124myou can use builtins\u001b[39m\u001b[38;5;124m'\u001b[39m\u001b[38;5;124m open.\u001b[39m\u001b[38;5;124m\"\u001b[39m\n\u001b[0;32m    322\u001b[0m     )\n\u001b[1;32m--> 324\u001b[0m \u001b[38;5;28;01mreturn\u001b[39;00m \u001b[43mio_open\u001b[49m\u001b[43m(\u001b[49m\u001b[43mfile\u001b[49m\u001b[43m,\u001b[49m\u001b[43m \u001b[49m\u001b[38;5;241;43m*\u001b[39;49m\u001b[43margs\u001b[49m\u001b[43m,\u001b[49m\u001b[43m \u001b[49m\u001b[38;5;241;43m*\u001b[39;49m\u001b[38;5;241;43m*\u001b[39;49m\u001b[43mkwargs\u001b[49m\u001b[43m)\u001b[49m\n",
      "\u001b[1;31mFileNotFoundError\u001b[0m: [Errno 2] No such file or directory: '/Users/TDPC15-17/Documents/Massimo_Taronna/python_corso_base/python_corso_base/_personale/nomi_data_nascita.txt'"
     ]
    }
   ],
   "source": [
    "import datetime\n",
    "\n",
    "# Funzione per calcolare l'età data l'anno di nascita\n",
    "def calcola_eta(anno_nascita):\n",
    "    anno_corrente = datetime.datetime.now().year\n",
    "    return anno_corrente - anno_nascita\n",
    "\n",
    "# Dizionario per memorizzare i nomi in base all'età\n",
    "nomi_per_eta = {}\n",
    "\n",
    "# Apri il file e leggi le righe\n",
    "with open('/Users/TDPC15-17/Documents/Massimo_Taronna/python_corso_base/python_corso_base/_personale/nomi_data_nascita.txt', 'r', encoding='utf-8') as file:\n",
    "    for riga in file:\n",
    "        # Dividi la riga per il carattere \":\" e rimuovi spazi bianchi\n",
    "        # print(riga)\n",
    "        # print(repr(riga))\n",
    "        nome, anno_nascita = riga.strip().split(':')\n",
    "        nome = nome.strip()\n",
    "        anno_nascita = int(anno_nascita.strip())\n",
    "\n",
    "        # Calcola l'età\n",
    "        eta = calcola_eta(anno_nascita)\n",
    "\n",
    "        # Aggiungi il nome alla lista corrispondente all'età nel dizionario\n",
    "        if eta not in nomi_per_eta:\n",
    "            nomi_per_eta[eta] = []\n",
    "        nomi_per_eta[eta].append(nome)\n",
    "\n",
    "# Stampare il dizionario risultante\n",
    "print(nomi_per_eta)"
   ]
  },
  {
   "cell_type": "code",
   "execution_count": 12,
   "metadata": {},
   "outputs": [
    {
     "name": "stdout",
     "output_type": "stream",
     "text": [
      "Ada 25\n",
      "Pippo 44\n",
      "Felice 48\n",
      "Geronima 25\n",
      "Ciccio 44\n",
      "Luca 52\n",
      "Roberto 25\n",
      "Pluto 52\n",
      "Mimmo 48\n",
      "Totò 101\n",
      "defaultdict(<function <lambda> at 0x000001E0EB00F880>, {25: ['Ada', 'Geronima', 'Roberto'], 44: ['Pippo', 'Ciccio'], 48: ['Felice', 'Mimmo'], 52: ['Luca', 'Pluto'], 101: ['Totò']})\n"
     ]
    }
   ],
   "source": [
    "from datetime import date\n",
    "from collections import defaultdict\n",
    "\n",
    "# 1. ottendo la \"data\" o la \"data e ora\"\n",
    "# 2 estraggo l'anno dalla data\n",
    "anno_corrente = date.today().year  # ok, è già integer!  # 2024\n",
    "\n",
    "# [1] Percorso relativo a un file che si trova in una cartella differente\n",
    "# percorso_file = '../files_esercizi/nomi_data_nascita.txt'\n",
    "\n",
    "# [2] Percorso relativo al file che si trova nella medesima cartella in cui mi trovo io\n",
    "percorso_file = 'nomi_data_nascita.txt'\n",
    "\n",
    "# [3] Percorso assoluto al file\n",
    "# percorso_file = '/Users/knox/Repositories/python_training/python_corso_base/files_esercizi/nomi_data_nascita.txt'\n",
    "\n",
    "# report = {} # dizionario contenitore dati\n",
    "\n",
    "report = defaultdict(lambda: [])\n",
    "\n",
    "# Accedo al file\n",
    "mio_file = open(percorso_file, 'r', encoding='utf-8')\n",
    "\n",
    "# print(mio_file.read())\n",
    "\n",
    "# mio_file.seek(0)  # \"riavvolgo\" il file\n",
    "\n",
    "# Leggere il contenuto del file di TESTO\n",
    "# Per ciascuna riga:\n",
    "for line in mio_file:  # ATTENZIONE: funziona solo se il file è testuale\n",
    "    # print(line)\n",
    "    # print(repr(line))\n",
    "    \n",
    "    lista_linea = line.split(':')\n",
    "    # print(lista_linea)\n",
    "    nome = lista_linea[0]   # Accedo al primo elemento della lista\n",
    "    anno_nascita = int(lista_linea[1].strip())   # Strip pulisce i bordi del dato - Attenzione al tipo di dato!!\n",
    "    eta = anno_corrente - anno_nascita\n",
    "    print(nome, eta)\n",
    "    # Controllo se la chiave è presente nel dizionario\n",
    "    # Se la chiave con l'età è presente\n",
    "\n",
    " #  if eta in report:\n",
    " #      report[eta].append(nome)        # se devo aggiungere solo un elemento faccio append\n",
    "        #report[eta] += [nome]       # oppure uso la concatenazione di liste\n",
    " #  else:\n",
    " #      report[eta] = [nome]    # se la chiave non è presente la creo\n",
    "\n",
    "#   report[eta] = report.get(eta, []) + [nome]   # prima si esegue la parte destra. Accedo al dizionario, gli chiedo una chiave e se non esiste mi crea una lista vuota. A questo punto aggiungo un elemento nuovo\n",
    "\n",
    "    \n",
    "\n",
    "    report[eta].append(nome)\n",
    "\n",
    "print(report)\n",
    "\n"
   ]
  },
  {
   "cell_type": "code",
   "execution_count": 16,
   "metadata": {},
   "outputs": [
    {
     "name": "stdout",
     "output_type": "stream",
     "text": [
      "{}\n",
      "File CSV creato con successo.\n"
     ]
    }
   ],
   "source": [
    "from datetime import date\n",
    "anno_corrente = date.today().year \n",
    "percorso_file = 'nomi_data_nascita.txt'\n",
    "report = {} \n",
    "mio_file = open(percorso_file, 'r', encoding='utf-8')\n",
    "\n",
    "for line in mio_file:      \n",
    "    lista_linea = line.split(':')\n",
    "    nome = lista_linea[0]   \n",
    "    anno_nascita = int(lista_linea[1].strip()) \n",
    "    eta = anno_corrente - anno_nascita\n",
    "    print(nome, eta)\n",
    "    if eta in report:\n",
    "        report[eta].append(nome)\n",
    "    else:\n",
    "        report[eta] = [nome]\n",
    "\n",
    "print(report)\n",
    "\n",
    "# Creare un nuovo file CSV per scrivere il report\n",
    "with open('report.csv', 'w', encoding='utf-8') as csv_file:\n",
    "    # Scrivere l'intestazione del file CSV\n",
    "    csv_file.write('Età, Nomi\\n')\n",
    "    \n",
    "    # Iterare attraverso il dizionario e scrivere i dati nel file CSV\n",
    "    for eta, nomi in report.items():\n",
    "        nomi_concatenati = ', '.join(nomi)\n",
    "        csv_file.write(f'{eta}, {nomi_concatenati}\\n')\n",
    "\n",
    "print(\"File CSV creato con successo.\")"
   ]
  },
  {
   "attachments": {},
   "cell_type": "markdown",
   "metadata": {},
   "source": [
    "Ora, riesci a scriverle in un file nuovo, mantenendo il seguente formato?\n",
    "\n",
    "```python\n",
    "Nome,Età\n",
    "Ada,24\n",
    "Geronima,24\n",
    "Roberto,24\n",
    "Pippo,43\n",
    "Ciccio,43\n",
    "...\n",
    "```"
   ]
  },
  {
   "attachments": {},
   "cell_type": "markdown",
   "metadata": {},
   "source": [
    "Prova a scrivere un nuovo file `nomi_eta.csv` nella cartella `/files_esercizi` del nostro repository.\n",
    "\n",
    "Normalmente i file `.csv` hanno la prima linea dedicata alle \"intestazioni di colonna\". In questo caso nella prima riga del file dovremmo avere `Nome,Età`."
   ]
  },
  {
   "cell_type": "code",
   "execution_count": 17,
   "metadata": {},
   "outputs": [
    {
     "name": "stdout",
     "output_type": "stream",
     "text": [
      "Ada 25\n",
      "Pippo 44\n",
      "Felice 48\n",
      "Geronima 25\n",
      "Ciccio 44\n",
      "Luca 52\n",
      "Roberto 25\n",
      "Pluto 52\n",
      "Mimmo 48\n",
      "Totò 101\n",
      "{25: ['Ada', 'Geronima', 'Roberto'], 44: ['Pippo', 'Ciccio'], 48: ['Felice', 'Mimmo'], 52: ['Luca', 'Pluto'], 101: ['Totò']}\n"
     ]
    }
   ],
   "source": [
    "from datetime import date\n",
    "anno_corrente = date.today().year \n",
    "percorso_file = 'nomi_data_nascita.txt'\n",
    "report = {} \n",
    "mio_file = open(percorso_file, 'r', encoding='utf-8')\n",
    "\n",
    "for line in mio_file:      \n",
    "    lista_linea = line.split(':')\n",
    "    nome = lista_linea[0]   \n",
    "    anno_nascita = int(lista_linea[1].strip()) \n",
    "    eta = anno_corrente - anno_nascita\n",
    "    print(nome, eta)\n",
    "    if eta in report:\n",
    "        report[eta].append(nome)\n",
    "    else:\n",
    "        report[eta] = [nome]\n",
    "\n",
    "print(report)\n",
    "\n",
    "\n",
    "with open('nomi_eta.csv', 'w', encoding='utf-8') as file_csv:\n",
    "    intestazione = 'Nome,Età\\n'\n",
    "    file_csv.write(intestazione)\n",
    "    for eta, lista_nomi in report.items():\n",
    "        for nome in lista_nomi:\n",
    "            #riga = nome + ',' + str(eta) + '\\n'\n",
    "            riga = f'{nome},{eta}\\n'\n",
    "            file_csv.write(riga)"
   ]
  },
  {
   "attachments": {},
   "cell_type": "markdown",
   "metadata": {},
   "source": [
    "Per finire, riusciresti a creare uno script che prende in ingresso due parametri, il file di origine `nomi_data_nascita.txt` e il file di output `nomi_eta.csv` e che esegue le conversione creando il file di output?\n",
    "\n",
    "Per lanciare il nostro script, immaginando di trovarci nella cartella `/files_esercizi`, dovremmo poter lanciare un comando come il seguente:\n",
    "\n",
    "```shell\n",
    "$ py converti_nomi_nascita.py nomi_data_nascita.txt nomi_eta.csv\n",
    "```"
   ]
  },
  {
   "attachments": {},
   "cell_type": "markdown",
   "metadata": {},
   "source": [
    "Crea un nuovo file e chiamalo `converti_nomi_nascita.py` e salvalo dove preferisci, per esempio nella tua cartella `/personale` che dovresti avrere sul tuo branch del nostro repository.\n",
    "\n",
    "Ricorda che poi i percorsi ai file devono essere compatibili con la posizione in cui eseguirai lo script, dove tu ti trovi e dove si trova il file da convertire. Prova varie combinazioni, e vedi cosa succede e dove viene generato il file di output."
   ]
  },
  {
   "cell_type": "code",
   "execution_count": 3,
   "metadata": {},
   "outputs": [
    {
     "name": "stdout",
     "output_type": "stream",
     "text": [
      "<_io.TextIOWrapper name='seasons.txt' mode='r' encoding='utf-8'>\n",
      "Autunno\n",
      "\n"
     ]
    }
   ],
   "source": [
    "seasons_file = open('seasons.txt', 'r', encoding='utf-8')\n",
    "print(seasons_file)\n",
    "seasons = seasons_file.readlines()\n",
    "favorite_season = seasons[2]\n",
    "print(favorite_season)\n",
    "seasons_file.close()"
   ]
  },
  {
   "cell_type": "code",
   "execution_count": 5,
   "metadata": {},
   "outputs": [],
   "source": [
    "file = open('numbers.txt', 'a')\n",
    "\n",
    "for i in range(2, 11):\n",
    "    file.write(str(i) + ' ')\n",
    "\n",
    "file.close()"
   ]
  }
 ],
 "metadata": {
  "kernelspec": {
   "display_name": ".venv",
   "language": "python",
   "name": "python3"
  },
  "language_info": {
   "codemirror_mode": {
    "name": "ipython",
    "version": 3
   },
   "file_extension": ".py",
   "mimetype": "text/x-python",
   "name": "python",
   "nbconvert_exporter": "python",
   "pygments_lexer": "ipython3",
   "version": "3.12.1"
  },
  "orig_nbformat": 4
 },
 "nbformat": 4,
 "nbformat_minor": 2
}
