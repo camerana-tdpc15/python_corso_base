{
 "cells": [
  {
   "attachments": {},
   "cell_type": "markdown",
   "metadata": {},
   "source": [
    "# Esercizio - Le età dei nostri amici"
   ]
  },
  {
   "attachments": {},
   "cell_type": "markdown",
   "metadata": {},
   "source": [
    "Requisiti: `import`, `with ... as`, `open`, `dict`"
   ]
  },
  {
   "attachments": {},
   "cell_type": "markdown",
   "metadata": {},
   "source": [
    "E’ dato un file `nomi_data_nascita.txt` nella cartella `/files_esercizi` del nostro repository. Il file è caratterizzato dal seguente formato rappresentante delle coppie nome/età. Per esempio:\n",
    "\n",
    "```python\n",
    "Ada: 1999\n",
    "Pippo: 1980\n",
    "Felice: 1976\n",
    "Geronima: 1999\n",
    "...\n",
    "```\n",
    "\n",
    "Leggi tutto il file creando un dizionario (`dict`) le cui chiavi sono corrispondono all’età della persona alla data attuale. A ciascuna età deve essere associata una lista con i nomi di persone che hanno quell’età.\n",
    "\n",
    "Output atteso:\n",
    "\n",
    "```python\n",
    "{24: ['Ada:', 'Geronima:', 'Roberto:'], 43: ['Pippo:', 'Ciccio:'], 47: ['Felice:', 'Mimmo:'], 51: ['Luca:', 'Pluto:'], 100: ['Totò:']}\n",
    "```"
   ]
  },
  {
   "cell_type": "code",
   "execution_count": 5,
   "metadata": {},
   "outputs": [
    {
     "name": "stdout",
     "output_type": "stream",
     "text": [
      "25: ['Ada', 'Geronima', 'Roberto']\n",
      "44: ['Pippo', 'Ciccio']\n",
      "48: ['Felice', 'Mimmo']\n",
      "52: ['Luca', 'Pluto']\n",
      "101: ['TotÃ²']\n"
     ]
    }
   ],
   "source": [
    "# scrivi qui\n",
    "import os\n",
    "\n",
    "# creo dizionario età-nome\n",
    "def crea_diz_eta_nome(file_path):\n",
    "  diz_eta_nome = {}\n",
    "  with open(file_path, 'r') as f:\n",
    "    for riga in f:\n",
    "      nome, anno_nascita = riga.strip().split(':')\n",
    "      eta = calcola_eta(anno_nascita)\n",
    "      if eta not in diz_eta_nome:\n",
    "        diz_eta_nome[eta] = []\n",
    "      diz_eta_nome[eta].append(nome)\n",
    "  return diz_eta_nome\n",
    "\n",
    "# funzione per calcolo età\n",
    "def calcola_eta(anno_nascita):\n",
    "  from datetime import datetime\n",
    "  anno_corrente = datetime.now().year\n",
    "  return anno_corrente - int(anno_nascita)\n",
    "\n",
    "# Esempio di utilizzo\n",
    "cartella_esercizi = \"/Users/Massimo/Documents/GitHub/python_corso_base/_personale/\"  # Modifica se necessario\n",
    "nome_file = \"nomi_data_nascita.txt\"\n",
    "percorso_file = os.path.join(cartella_esercizi, nome_file)\n",
    "\n",
    "diz_eta_nome = crea_diz_eta_nome(percorso_file)\n",
    "\n",
    "# Stampa il dizionario (facoltativo)\n",
    "for eta, nomi in diz_eta_nome.items():\n",
    "  print(f\"{eta}: {nomi}\")\n"
   ]
  },
  {
   "cell_type": "code",
   "execution_count": 5,
   "metadata": {},
   "outputs": [
    {
     "name": "stdout",
     "output_type": "stream",
     "text": [
      "{25: ['Ada', 'Geronima', 'Roberto'], 44: ['Pippo', 'Ciccio'], 48: ['Felice', 'Mimmo'], 52: ['Luca', 'Pluto'], 101: ['Totò']}\n"
     ]
    }
   ],
   "source": [
    "\n",
    "from datetime import datetime\n",
    "anno_corrente = datetime.now().year\n",
    "\n",
    "# Apro il file in lettura\n",
    "with open('/Users/Massimo/Documents/GitHub/python_corso_base/_personale/nomi_data_nascita.txt', 'r', encoding='utf-8') as file:\n",
    "    # Inizializzo un dizionario vuoto per memorizzare i nomi delle persone per ogni età\n",
    "    dizionario_eta = {}\n",
    "\n",
    "    # Leggo ogni riga del file\n",
    "    for riga in file:\n",
    "        # Divido la riga in nome ed età usando il carattere ':'\n",
    "        nome, anno_nascita = riga.strip().split(': ')\n",
    "        \n",
    "        # Calcolo l'età sottraendo l'anno di nascita dall'anno attuale\n",
    "        eta = anno_corrente - int(anno_nascita)\n",
    "        \n",
    "        # Se l'età è già presente nel dizionario, aggiungo il nome alla lista corrispondente\n",
    "        if eta in dizionario_eta:\n",
    "            dizionario_eta[eta].append(nome)\n",
    "        # Altrimenti, creo una nuova chiave nel dizionario e vi associo una lista contenente il nome\n",
    "        else:\n",
    "            dizionario_eta[eta] = [nome]\n",
    "\n",
    "# Stampo il dizionario risultante\n",
    "print(dizionario_eta)\n"
   ]
  },
  {
   "cell_type": "code",
   "execution_count": 7,
   "metadata": {},
   "outputs": [
    {
     "name": "stdout",
     "output_type": "stream",
     "text": [
      "Ada: 1999\n",
      "\n",
      "'Ada: 1999\\n'\n",
      "Pippo: 1980\n",
      "\n",
      "'Pippo: 1980\\n'\n",
      "Felice: 1976\n",
      "\n",
      "'Felice: 1976\\n'\n",
      "Geronima: 1999\n",
      "\n",
      "'Geronima: 1999\\n'\n",
      "Ciccio: 1980\n",
      "\n",
      "'Ciccio: 1980\\n'\n",
      "Luca: 1972\n",
      "\n",
      "'Luca: 1972\\n'\n",
      "Roberto: 1999\n",
      "\n",
      "'Roberto: 1999\\n'\n",
      "Pluto: 1972\n",
      "\n",
      "'Pluto: 1972\\n'\n",
      "Mimmo: 1976\n",
      "\n",
      "'Mimmo: 1976\\n'\n",
      "Totò: 1923\n",
      "'Totò: 1923'\n",
      "{25: ['Ada', 'Geronima', 'Roberto'], 44: ['Pippo', 'Ciccio'], 48: ['Felice', 'Mimmo'], 52: ['Luca', 'Pluto'], 101: ['Totò']}\n"
     ]
    }
   ],
   "source": [
    "import datetime\n",
    "\n",
    "# Funzione per calcolare l'età data l'anno di nascita\n",
    "def calcola_eta(anno_nascita):\n",
    "    anno_corrente = datetime.datetime.now().year\n",
    "    return anno_corrente - anno_nascita\n",
    "\n",
    "# Dizionario per memorizzare i nomi in base all'età\n",
    "nomi_per_eta = {}\n",
    "\n",
    "# Apri il file e leggi le righe\n",
    "with open('/Users/Massimo/Documents/GitHub/python_corso_base/_personale/nomi_data_nascita.txt', 'r', encoding='utf-8') as file:\n",
    "    for riga in file:\n",
    "        # Dividi la riga per il carattere \":\" e rimuovi spazi bianchi\n",
    "        print(riga)\n",
    "        print(repr(riga))\n",
    "        nome, anno_nascita = riga.strip().split(':')\n",
    "        nome = nome.strip()\n",
    "        anno_nascita = int(anno_nascita.strip())\n",
    "\n",
    "        # Calcola l'età\n",
    "        eta = calcola_eta(anno_nascita)\n",
    "\n",
    "        # Aggiungi il nome alla lista corrispondente all'età nel dizionario\n",
    "        if eta not in nomi_per_eta:\n",
    "            nomi_per_eta[eta] = []\n",
    "        nomi_per_eta[eta].append(nome)\n",
    "\n",
    "# Stampare il dizionario risultante\n",
    "print(nomi_per_eta)\n"
   ]
  },
  {
   "attachments": {},
   "cell_type": "markdown",
   "metadata": {},
   "source": [
    "Ora, riesci a scriverle in un file nuovo, mantenendo il seguente formato?\n",
    "\n",
    "```python\n",
    "Nome,Età\n",
    "Ada,24\n",
    "Geronima,24\n",
    "Roberto,24\n",
    "Pippo,43\n",
    "Ciccio,43\n",
    "...\n",
    "```"
   ]
  },
  {
   "attachments": {},
   "cell_type": "markdown",
   "metadata": {},
   "source": [
    "Prova a scrivere un nuovo file `nomi_eta.csv` nella cartella `/files_esercizi` del nostro repository.\n",
    "\n",
    "Normalmente i file `.csv` hanno la prima linea dedicata alle \"intestazioni di colonna\". In questo caso nella prima riga del file dovremmo avere `Nome,Età`."
   ]
  },
  {
   "cell_type": "code",
   "execution_count": null,
   "metadata": {},
   "outputs": [],
   "source": [
    "# scrivi qui"
   ]
  },
  {
   "attachments": {},
   "cell_type": "markdown",
   "metadata": {},
   "source": [
    "Per finire, riusciresti a creare uno script che prende in ingresso due parametri, il file di origine `nomi_data_nascita.txt` e il file di output `nomi_eta.csv` e che esegue le conversione creando il file di output?\n",
    "\n",
    "Per lanciare il nostro script, immaginando di trovarci nella cartella `/files_esercizi`, dovremmo poter lanciare un comando come il seguente:\n",
    "\n",
    "```shell\n",
    "$ py converti_nomi_nascita.py nomi_data_nascita.txt nomi_eta.csv\n",
    "```"
   ]
  },
  {
   "attachments": {},
   "cell_type": "markdown",
   "metadata": {},
   "source": [
    "Crea un nuovo file e chiamalo `converti_nomi_nascita.py` e salvalo dove preferisci, per esempio nella tua cartella `/personale` che dovresti avrere sul tuo branch del nostro repository.\n",
    "\n",
    "Ricorda che poi i percorsi ai file devono essere compatibili con la posizione in cui eseguirai lo script, dove tu ti trovi e dove si trova il file da convertire. Prova varie combinazioni, e vedi cosa succede e dove viene generato il file di output."
   ]
  }
 ],
 "metadata": {
  "kernelspec": {
   "display_name": ".venv",
   "language": "python",
   "name": "python3"
  },
  "language_info": {
   "codemirror_mode": {
    "name": "ipython",
    "version": 3
   },
   "file_extension": ".py",
   "mimetype": "text/x-python",
   "name": "python",
   "nbconvert_exporter": "python",
   "pygments_lexer": "ipython3",
   "version": "3.12.1"
  },
  "orig_nbformat": 4
 },
 "nbformat": 4,
 "nbformat_minor": 2
}
