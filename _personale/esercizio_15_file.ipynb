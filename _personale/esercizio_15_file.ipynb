{
 "cells": [
  {
   "attachments": {},
   "cell_type": "markdown",
   "metadata": {},
   "source": [
    "# Esercizio - Le età dei nostri amici"
   ]
  },
  {
   "attachments": {},
   "cell_type": "markdown",
   "metadata": {},
   "source": [
    "Requisiti: `import`, `with ... as`, `open`, `dict`"
   ]
  },
  {
   "attachments": {},
   "cell_type": "markdown",
   "metadata": {},
   "source": [
    "E’ dato un file `nomi_data_nascita.txt` nella cartella `/files_esercizi` del nostro repository. Il file è caratterizzato dal seguente formato rappresentante delle coppie nome/età. Per esempio:\n",
    "\n",
    "```python\n",
    "Ada: 1999\n",
    "Pippo: 1980\n",
    "Felice: 1976\n",
    "Geronima: 1999\n",
    "...\n",
    "```\n",
    "\n",
    "Leggi tutto il file creando un dizionario (`dict`) le cui chiavi sono corrispondono all’età della persona alla data attuale. A ciascuna età deve essere associata una lista con i nomi di persone che hanno quell’età.\n",
    "\n",
    "Output atteso:\n",
    "\n",
    "```python\n",
    "{24: ['Ada:', 'Geronima:', 'Roberto:'], 43: ['Pippo:', 'Ciccio:'], 47: ['Felice:', 'Mimmo:'], 51: ['Luca:', 'Pluto:'], 100: ['Totò:']}\n",
    "```"
   ]
  },
  {
   "cell_type": "code",
   "execution_count": 6,
   "metadata": {},
   "outputs": [
    {
     "name": "stdout",
     "output_type": "stream",
     "text": [
      "Ada\n",
      "25\n",
      "Pippo\n",
      "44\n",
      "Felice\n",
      "48\n",
      "Geronima\n",
      "25\n",
      "Ciccio\n",
      "44\n",
      "Luca\n",
      "52\n",
      "Roberto\n",
      "25\n",
      "Pluto\n",
      "52\n",
      "Mimmo\n",
      "48\n",
      "Totò\n",
      "101\n",
      "----------------------------------------------------------------------------------------------------\n",
      "{25: ['Ada', 'Geronima', 'Roberto'], 44: ['Pippo', 'Ciccio'], 48: ['Felice', 'Mimmo'], 52: ['Luca', 'Pluto'], 101: ['Totò']}\n"
     ]
    }
   ],
   "source": [
    "# 1. ottengo la data o la data e l'ora\n",
    "from datetime import date\n",
    "\n",
    "# 2. ottengo l'anno corrente\n",
    "anno_corrente = date.today().year\n",
    "\n",
    "# 3. dichiaro il percorso del file (in questo caso è presente nella stessa cartella quindi metto solo il nome del file)\n",
    "percorso_file = 'nomi_data_nascita.txt'\n",
    "\n",
    "# creo dizionario che sarà mio contenitore\n",
    "report = {}\n",
    "\n",
    "# 4. leggo il contenuto del file\n",
    "f = open(percorso_file, \"r\", encoding='utf-8') # encoding='utf-8' è una codifica che serve per visualizzare la ' ò '\n",
    "# print(f.read())\n",
    "# print(repr(f.read(10))) # uso la funzione repr() per verificare allo stato puro la visualizzazione della variabile\n",
    "\n",
    "# modo 1: creo un ciclo while\n",
    "#while True:\n",
    "#    linea = f.readline()\n",
    "#    if linea != '' :\n",
    "#        print(linea)\n",
    "#    else :\n",
    "#        break\n",
    "\n",
    "# MODO 2 : QUELLO GIUSTO DA USARE\n",
    "#SI USA UN CICLO FOR MA SAPPIAMO CHE FUNZIONA SOLO CON FILE DI TESTO\n",
    "for linea in f :    \n",
    "    \n",
    "    # uso i ':' per dividere il nome dall'anno di nascita\n",
    "    lista_linea = linea.split(':')\n",
    "    #print(lista_linea)\n",
    "    \n",
    "    # per ottenere il nome\n",
    "    nome = lista_linea[0]\n",
    "    print(nome)\n",
    "    # per ottenere l'anno \n",
    "    # trasformo subito in 'int' l'anno \n",
    "    anno_nascita = int( lista_linea[1].strip() )\n",
    "    \n",
    "    # ora che ho l'anno devo calcolare l'età\n",
    "    eta = anno_corrente - anno_nascita \n",
    "    print(eta)\n",
    "    \n",
    "    \n",
    "    #controllo se la chiave eta è presente nel dizionario\n",
    "    if eta in report:\n",
    "        #aggiungo il nome con il metodo append()\n",
    "        report[eta].append(nome)\n",
    "        \n",
    "        \n",
    "        \n",
    "        \n",
    "        \n",
    "    #se la chiave eta non è presente la creo e\n",
    "    else:\n",
    "        report[eta] = [nome]\n",
    "        \n",
    "        #appendo il nome\n",
    "print('-' * 100)\n",
    "print(report)\n",
    "    \n",
    "    \n",
    "    \n"
   ]
  },
  {
   "cell_type": "code",
   "execution_count": null,
   "metadata": {},
   "outputs": [],
   "source": [
    "#soluzione con metodo .get()\n",
    "report = {24: ['Ada:', 'Geronima:', 'Roberto:'], 43: ['Pippo:', 'Ciccio:'], 47: ['Felice:', 'Mimmo:'], 51: ['Luca:', 'Pluto:'], 100: ['Totò:']}\n",
    "report.get(eta, []).append(nome)"
   ]
  },
  {
   "attachments": {},
   "cell_type": "markdown",
   "metadata": {},
   "source": [
    "Ora, riesci a scriverle in un file nuovo, mantenendo il seguente formato?\n",
    "\n",
    "```python\n",
    "Nome,Età\n",
    "Ada,24\n",
    "Geronima,24\n",
    "Roberto,24\n",
    "Pippo,43\n",
    "Ciccio,43\n",
    "...\n",
    "```"
   ]
  },
  {
   "attachments": {},
   "cell_type": "markdown",
   "metadata": {},
   "source": [
    "Prova a scrivere un nuovo file `nomi_eta.csv` nella cartella `/files_esercizi` del nostro repository.\n",
    "\n",
    "Normalmente i file `.csv` hanno la prima linea dedicata alle \"intestazioni di colonna\". In questo caso nella prima riga del file dovremmo avere `Nome,Età`."
   ]
  },
  {
   "cell_type": "code",
   "execution_count": null,
   "metadata": {},
   "outputs": [],
   "source": [
    "# scrivi qui"
   ]
  },
  {
   "attachments": {},
   "cell_type": "markdown",
   "metadata": {},
   "source": [
    "Per finire, riusciresti a creare uno script che prende in ingresso due parametri, il file di origine `nomi_data_nascita.txt` e il file di output `nomi_eta.csv` e che esegue le conversione creando il file di output?\n",
    "\n",
    "Per lanciare il nostro script, immaginando di trovarci nella cartella `/files_esercizi`, dovremmo poter lanciare un comando come il seguente:\n",
    "\n",
    "```shell\n",
    "$ py converti_nomi_nascita.py nomi_data_nascita.txt nomi_eta.csv\n",
    "```"
   ]
  },
  {
   "attachments": {},
   "cell_type": "markdown",
   "metadata": {},
   "source": [
    "Crea un nuovo file e chiamalo `converti_nomi_nascita.py` e salvalo dove preferisci, per esempio nella tua cartella `/personale` che dovresti avrere sul tuo branch del nostro repository.\n",
    "\n",
    "Ricorda che poi i percorsi ai file devono essere compatibili con la posizione in cui eseguirai lo script, dove tu ti trovi e dove si trova il file da convertire. Prova varie combinazioni, e vedi cosa succede e dove viene generato il file di output."
   ]
  }
 ],
 "metadata": {
  "kernelspec": {
   "display_name": ".venv",
   "language": "python",
   "name": "python3"
  },
  "language_info": {
   "codemirror_mode": {
    "name": "ipython",
    "version": 3
   },
   "file_extension": ".py",
   "mimetype": "text/x-python",
   "name": "python",
   "nbconvert_exporter": "python",
   "pygments_lexer": "ipython3",
   "version": "3.12.2"
  },
  "orig_nbformat": 4
 },
 "nbformat": 4,
 "nbformat_minor": 2
}
