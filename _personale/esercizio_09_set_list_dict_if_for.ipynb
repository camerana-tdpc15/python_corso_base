{
 "cells": [
  {
   "attachments": {},
   "cell_type": "markdown",
   "metadata": {},
   "source": [
    "### Esercizio - Nuovi Mercati\n",
    "\n",
    "Requisiti: liste, insiemi, if, for\n",
    "\n",
    "Abbiamo qualche milione da investire nell'apertura di una nuova attività commerciale.\n",
    "Prima di tutto però ci serve sapere quali negozi non sono disponibili a Trento in maniera da evitare\n",
    "di aprire l'ennesimo negozio di abbigliamento casual (E rischiare di andare in perdita!)\n",
    " \n",
    "INPUT:\n",
    "\n",
    "- `categorie`: insieme di tutte le categorie possibile\n",
    "- `competitor`: lista di competitor con dati `(nome_competitor, insieme_categorie_merci)`\n",
    "\n",
    "Scrivi del codice che\n",
    "\n",
    "1. Stampa le categorie che non sono vendute da nessun competitor\n",
    "2. Calcola **per ogni categoria**, da quanti competitor è venduta\n",
    "\n",
    "Esempio - dati:\n",
    "    \n",
    "```python    \n",
    "categorie = {a, b, c, d, e, f}\n",
    "competitor = [(\"pippo\", {a, c, e}), (\"pluto\", {c, d, e})]\n",
    "```\n",
    "\n",
    "il tuo codice deve stampare:\n",
    "\n",
    "```\n",
    "\"Le categorie disponibili sono: {b, f}\"\n",
    "```   \n",
    "\n",
    "```\n",
    "Categorie vendute da competitor:\n",
    "\n",
    "[(a, 1), (b, 0), (c, 2), (d, 1), (e, 2), (f,0)]\n",
    "```"
   ]
  },
  {
   "cell_type": "code",
   "execution_count": null,
   "metadata": {},
   "outputs": [],
   "source": [
    "# INPUT (NON modificare)\n",
    "categorie = {\"Ferramenta\", \"Ortofrutta\", \"Abbigliamento sportivo\", \"Gioielleria\", \"Cosmetici\", \"Pesce\", \"Alcolici\", \"Forniture Elettriche\", \"Telefonia\"}\n",
    "competitor = [\n",
    "        (\"GenerStore\", {\"Ortofrutta\", \"Abbigliamento sportivo\", \"Gioielleria\", \"Pesce\", \"Alcolici\"}),\n",
    "        (\"MomentiElettrizzanti\", {\"Abbigliamento sportivo\", \"Videogames\", \"Gioielleria\", \"Alcolici\", \"Forniture Elettriche\"}),\n",
    "        (\"TuttoEDiPiù\", {\"Videogames\", \"Gioielleria\", \"Pesce\", \"Alcolici\", \"Forniture Elettriche\"}),\n",
    "        (\"ProfumoDiBuono\", {\"Pesce\", \"Alcolici\", \"Forniture Elettriche\"}),\n",
    "        (\"PessimeCombo\", {\"Alcolici\", \"Telefonia\"}),\n",
    "]\n",
    "\n",
    "categorie_non_trovate = []\n",
    "#per ogni categoria \n",
    "for categoria in categorie :\n",
    "    # se è presente nella lista dei competitor\n",
    "    if categoria in competitor:\n",
    "\n",
    "    \n"
   ]
  }
 ],
 "metadata": {
  "language_info": {
   "name": "python"
  },
  "orig_nbformat": 4
 },
 "nbformat": 4,
 "nbformat_minor": 2
}
