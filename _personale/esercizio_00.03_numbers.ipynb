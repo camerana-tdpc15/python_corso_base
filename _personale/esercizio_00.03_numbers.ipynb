{
 "cells": [
  {
   "cell_type": "markdown",
   "metadata": {},
   "source": [
    "# Esercizi introduttivi"
   ]
  },
  {
   "cell_type": "markdown",
   "metadata": {},
   "source": [
    "TEMI TRATTATI:\n",
    "\n",
    "- I tipi di variabile.\n",
    "- Gli operatori aritmetici di base.\n",
    "- La manipolazione di stringhe."
   ]
  },
  {
   "cell_type": "markdown",
   "metadata": {},
   "source": [
    "NOTE SULLO SVOLGIMENTO:\n",
    "- Puoi svolgere ed eseguire gli esercizi direttamente qua su questo notebook oppure su un normale file di script Python con estensione `.py`, eseguendolo nel terminale del sistema operativo con il comando `py mio_esercizio.py` (Windows) oppure `python3 mio_esercizio.py` (Linux o macOS)."
   ]
  },
  {
   "cell_type": "markdown",
   "metadata": {},
   "source": [
    "## Esercizio 1: Due numeri\n",
    "\n",
    "Scrivere un programma che memorizzi due numeri interi in due costanti definite nel codice, e poi ne visualizzi:\n",
    "\n",
    "- La somma.\n",
    "- La differenza.\n",
    "- Il prodotto.\n",
    "- Il valore medio.\n",
    "- La distanza (cioè il valore assoluto della differenza).\n",
    "- Il valore massimo (cioè il maggiore tra i due).\n",
    "- Il valore minimo (cioè il minore tra i due).\n",
    "\n",
    "**SUGGERIMENTO:** utilizzare le funzioni built-in `max()` e `min()`. Esse accettano una sequenza di valori separati da virgola in input e restituiscono rispettivamente il valore massimo e minimo della sequenza (ad esempio, `max(10, 5)` restituisce `10`)."
   ]
  },
  {
   "cell_type": "code",
   "execution_count": 9,
   "metadata": {},
   "outputs": [
    {
     "name": "stdout",
     "output_type": "stream",
     "text": [
      "65\n",
      "39\n",
      "676\n",
      "32.5\n",
      "39\n",
      "52\n",
      "13\n"
     ]
    }
   ],
   "source": [
    "# Scrivi qua il tuo codice\n",
    "a = int(input('inserisci il primo numero intero: '))\n",
    "b = int(input('inserisci il secondo numero intero: '))\n",
    "\n",
    "print(a+b)\n",
    "print(a-b)\n",
    "print(a*b)\n",
    "print((a+b)/2)\n",
    "print(abs(a-b))\n",
    "print(max(a, b))\n",
    "print(min(a, b))\n"
   ]
  },
  {
   "cell_type": "markdown",
   "metadata": {},
   "source": [
    "## Esercizio 2: Cifre\n",
    "\n",
    "Scrivere un programma che memorizzi in una costante un numero intero positivo di cinque cifre (quindi compreso tra `10000` e `99999`), e visualizzi le singole cifre di cui è composto. Ad esempio, avendo il numero `16384`, il programma deve visualizzare, su righe separate:\n",
    "\n",
    "```text\n",
    "1\n",
    "6\n",
    "3\n",
    "8\n",
    "4\n",
    "```"
   ]
  },
  {
   "cell_type": "code",
   "execution_count": 5,
   "metadata": {},
   "outputs": [
    {
     "name": "stdout",
     "output_type": "stream",
     "text": [
      "4\n",
      "8\n",
      "6\n",
      "2\n",
      "5\n"
     ]
    }
   ],
   "source": [
    "# Scrivi qua il tuo codice\n",
    "n =52684\n",
    "\n",
    "# Ciclo che estrae le singole cifre e le stampa\n",
    "while n > 0:\n",
    "  # Estrae la cifra delle unità\n",
    "  cifra = n % 10\n",
    "  \n",
    "  # Stampa la cifra\n",
    "  print(cifra)\n",
    "  \n",
    "  # Elimina la cifra delle unità dal numero\n",
    "  n //= 10"
   ]
  },
  {
   "cell_type": "markdown",
   "metadata": {},
   "source": [
    "## Esercizio 3: Caratteri\n",
    "\n",
    "Scrivere un programma che memorizzi una stringa in una variabile e, a partire da quella variabile, visualizzi i primi tre caratteri della stringa, seguiti da tre punti, ancora seguiti dagli ultimi tre caratteri.\n",
    "\n",
    "Ad esempio, se la stringa viene inizializzata al valore `'Mississippi'`, il programma deve visualizzare `'Mis...ppi'`."
   ]
  },
  {
   "cell_type": "code",
   "execution_count": 3,
   "metadata": {},
   "outputs": [
    {
     "name": "stdout",
     "output_type": "stream",
     "text": [
      "we...e\n"
     ]
    }
   ],
   "source": [
    "# Scrivi qua il tuo codice\n",
    "stringa = input('Inserisci una stringa: ')\n",
    "\n",
    "# Calcola la lunghezza della stringa\n",
    "lunghezza_stringa = len(stringa)\n",
    "\n",
    "# Visualizza i primi tre caratteri\n",
    "primi_tre_caratteri = stringa[:3]\n",
    "\n",
    "# Visualizza tre punti\n",
    "tre_punti = \"...\"\n",
    "\n",
    "# Visualizza gli ultimi tre caratteri\n",
    "ultimi_tre_caratteri = stringa[lunghezza_stringa-3:]\n",
    "\n",
    "# Stampa il risultato\n",
    "risultato = primi_tre_caratteri + tre_punti + ultimi_tre_caratteri\n",
    "print(risultato)\n"
   ]
  },
  {
   "cell_type": "code",
   "execution_count": 10,
   "metadata": {},
   "outputs": [
    {
     "name": "stdout",
     "output_type": "stream",
     "text": [
      "par___cia\n"
     ]
    }
   ],
   "source": [
    "stringa = input('Inserisci una stringa: ')\n",
    "\n",
    "parte1 = stringa[:3]\n",
    "parte2 = stringa[-3:]\n",
    "print(parte1 + '___' + parte2)"
   ]
  },
  {
   "cell_type": "markdown",
   "metadata": {},
   "source": [
    "Prova a rispondere alle seguenti domande:\n",
    "- Cosa succede se la stringa è lunga meno di 6 caratteri?\n",
    "- Cosa succede se la stringa è lunga meno di 3 caratteri?"
   ]
  },
  {
   "cell_type": "markdown",
   "metadata": {},
   "source": [
    "## Esercizio 4: Numero telefonico\n",
    "\n",
    "Lo pseudocodice seguente descrive come trasformare una stringa contenente un numero telefonico a dieci cifre (come `'4155551212'`) in una stringa più facilmente leggibile, formattata secondo lo stile statunitense, come `'(415) 555–1212'`:\n",
    "\n",
    "1. Prendere la stringa costituita dai primi tre caratteri e circondarla con parentesi tonde (questo è il prefisso, detto \"area code\").\n",
    "2. Concatenare il prefisso ad uno spazio, poi alla stringa contenente i tre caratteri successivi, poi un trattino e infine alla stringa costituita dagli ultimi quattro caratteri.\n",
    "\n",
    "Tradurre questo pseudocodice in un programma Python che memorizzi un numero telefonico di 10 cifre in una stringa, per poi visualizzarlo nel formato appena descritto."
   ]
  },
  {
   "cell_type": "code",
   "execution_count": null,
   "metadata": {},
   "outputs": [],
   "source": [
    "# Scrivi qua il tuo codice\n",
    "numero_telefono = input('inserisci numero di 10 cifre:')\n"
   ]
  },
  {
   "cell_type": "markdown",
   "metadata": {},
   "source": [
    "## Esercizio 5: Allineamento\n",
    "\n",
    "Formattare l’output dell’**Esercizio 1** in modo che descrizioni e numeri siano allineati verticalmente, come nel seguente esempio:\n",
    "\n",
    "```text\n",
    "Somma:           45\n",
    "Differenza:      -5\n",
    "Prodotto:       500\n",
    "Distanza:         5\n",
    "Valore massimo:  25\n",
    "Valore minimo:   20\n",
    "```"
   ]
  },
  {
   "cell_type": "code",
   "execution_count": 6,
   "metadata": {},
   "outputs": [
    {
     "name": "stdout",
     "output_type": "stream",
     "text": [
      "Somma:                 57\n",
      "Sottrazione:           33\n",
      "Prodotto:             540\n",
      "Media:              28.50\n",
      "Distanza:              33\n",
      "Massimo                45\n",
      "Minimo:                12\n"
     ]
    }
   ],
   "source": [
    "# Scrivi qua il tuo codice\n",
    "a = int(input('inserisci il primo numero intero: '))\n",
    "b = int(input('inserisci il secondo numero intero: '))\n",
    "\n",
    "print(f'Somma:       {a+b:12d}')\n",
    "print(f'Sottrazione: {a-b:12d}')\n",
    "print(f'Prodotto:    {a*b:12d}')\n",
    "print(f'Media:       {(a+b)/2:12.2f}')\n",
    "print(f'Distanza:    {abs(a-b):12d}')\n",
    "print(f'Massimo      {max(a, b):12d}')\n",
    "print(f'Minimo:      {min(a, b):12d}')"
   ]
  },
  {
   "cell_type": "markdown",
   "metadata": {},
   "source": [
    "## Esercizio 6: Emoji\n",
    "\n",
    "Secondo i dati raccolti dall'[Unicode Consortium](https://home.unicode.org/emoji/emoji-frequency/), l'organizzazione no-profit responsabile della digitalizzazione delle lingue scritte del mondo, le \"lacrime di gioia\" (😂) rappresentano oltre il 5% di tutte le emoji utilizzate (l’unico altro carattere che ci si avvicina è il ❤️). Nel 2021, le prime dieci emoji più utilizzate in tutto il mondo sono state: 😂 ❤️ 🤣 👍 😭 🙏 😘 🥰 😍 😊.\n",
    "\n",
    "Quando scrivi i messaggi, quali sono le tre emoji che tu usi più di frequente?\n",
    "\n",
    "Scrivere un programma che, per ciascuna delle tre emoji che usi più di frequente, mostri a schermo le seguenti informazioni:\n",
    "\n",
    "- la posizione in classifica (rank);\n",
    "- il codice Unicode;\n",
    "- il nome tecnico Unicode;\n",
    "- l’emoji stessa.\n",
    "\n",
    "Per trovare i codici Unicode corrispondenti a ciascuna emoji, puoi usare uno di questi siti:\n",
    "\n",
    "- [symbl.cc](https://symbl.cc/)\n",
    "- [amp-what.com](https://www.amp-what.com/)\n",
    "\n",
    "\n",
    "Formattare l’output in modo che le informazioni relative a ciascuna delle tre emoji siano raccolte su una riga, e i diversi campi siano allineati verticalmente."
   ]
  },
  {
   "cell_type": "code",
   "execution_count": 13,
   "metadata": {},
   "outputs": [
    {
     "name": "stdout",
     "output_type": "stream",
     "text": [
      "Posizione: 4 - Unicode: 1f600 - Nome: grinning face - emoji: 😀\n",
      "Posizione: 5 - Unicode: 1f61c - Nome: face stuck-out tongue and winking eye - emoji: 😜\n"
     ]
    }
   ],
   "source": [
    "# Scrivi qua il tuo codice\n",
    "# usiamo un dizionario perché abbiamo sempre gli stessi campi e possiamo ciclare \n",
    "\n",
    "report = {\n",
    "    1: {\n",
    "        'emoji': '😀',\n",
    "        'rank': 4,\n",
    "        'unicode': '1f600',\n",
    "        'name': 'grinning face'\n",
    "    },\n",
    "    2: {\n",
    "        'emoji': '😜',\n",
    "        'rank': 5,\n",
    "        'unicode': '1f61c',\n",
    "        'name': 'face stuck-out tongue and winking eye'\n",
    "    }\n",
    "}\n",
    "\n",
    "for key in report:\n",
    "    emo_dict = report[key]\n",
    "    print(f'Posizione: {emo_dict[\"rank\"]} - '\n",
    "          f'Unicode: {emo_dict[\"unicode\"]} - '\n",
    "          f'Nome: {emo_dict[\"name\"]} - '\n",
    "          f'emoji: {emo_dict[\"emoji\"]}'\n",
    "    )\n",
    "\n"
   ]
  },
  {
   "cell_type": "code",
   "execution_count": 14,
   "metadata": {},
   "outputs": [
    {
     "data": {
      "text/plain": [
       "'😀'"
      ]
     },
     "execution_count": 14,
     "metadata": {},
     "output_type": "execute_result"
    }
   ],
   "source": [
    "pippo = 0x1f600 \n",
    "chr(pippo)"
   ]
  },
  {
   "cell_type": "code",
   "execution_count": 15,
   "metadata": {},
   "outputs": [
    {
     "data": {
      "text/plain": [
       "250"
      ]
     },
     "execution_count": 15,
     "metadata": {},
     "output_type": "execute_result"
    }
   ],
   "source": [
    "int(0xfa)  # conversione in decimale di un numero esadecimale"
   ]
  },
  {
   "cell_type": "code",
   "execution_count": 16,
   "metadata": {},
   "outputs": [
    {
     "data": {
      "text/plain": [
       "'0x1f600'"
      ]
     },
     "execution_count": 16,
     "metadata": {},
     "output_type": "execute_result"
    }
   ],
   "source": [
    "hex(128512) # conversione in esadecimale di un numero decimale"
   ]
  },
  {
   "cell_type": "markdown",
   "metadata": {},
   "source": [
    "## Esercizio 7: Come matricole\n",
    "\n",
    "La matricola degli studenti di una scuola è composta da due parti: una lettera e una sequenza di numeri separati tra loro da un trattino (`-`). Le lettera indica la sede della scuola mentre la parte numerica è un ID progressivo univoco, indipendente dalla sede. Ad esempio:\n",
    "\n",
    "```text\n",
    "M-600456\n",
    "P-403848\n",
    "```\n",
    "\n",
    "Scrivere un programma che, a partire da due codici di matricola, li mostri a schermo in ordine crescente in base alla sola parte numerica.\n",
    "\n",
    "Suggerimento: utilizzare le funzioni predefinite del linguaggio Python."
   ]
  },
  {
   "cell_type": "code",
   "execution_count": 2,
   "metadata": {},
   "outputs": [
    {
     "name": "stdout",
     "output_type": "stream",
     "text": [
      "S301888\n",
      "S800123\n"
     ]
    }
   ],
   "source": [
    "matricola2 = 'M-600456'\n",
    "matricola1 = 'P-403848'\n",
    "\n",
    "# Scrivi qua il tuo codice\n"
   ]
  },
  {
   "cell_type": "code",
   "execution_count": 32,
   "metadata": {},
   "outputs": [
    {
     "data": {
      "text/plain": [
       "''"
      ]
     },
     "execution_count": 32,
     "metadata": {},
     "output_type": "execute_result"
    }
   ],
   "source": [
    "''"
   ]
  }
 ],
 "metadata": {
  "kernelspec": {
   "display_name": ".venv",
   "language": "python",
   "name": "python3"
  },
  "language_info": {
   "codemirror_mode": {
    "name": "ipython",
    "version": 3
   },
   "file_extension": ".py",
   "mimetype": "text/x-python",
   "name": "python",
   "nbconvert_exporter": "python",
   "pygments_lexer": "ipython3",
   "version": "3.12.1"
  }
 },
 "nbformat": 4,
 "nbformat_minor": 2
}
