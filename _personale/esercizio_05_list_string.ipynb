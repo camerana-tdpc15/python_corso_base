{
 "cells": [
  {
   "attachments": {},
   "cell_type": "markdown",
   "metadata": {},
   "source": [
    "## Esercizio - Psycho Circus\n",
    "\n",
    "Requisiti: slice\n",
    "\n",
    "Nella variabile `kiss_album` è contenuta la lista delle tracce dell'album _Psycho Circus_ pubblicato nel 1998 dai KISS, una band di gentlemen del glam rock. La variabile è una stringa multilinea (aperta come si vede tramite tre `\"\"\"` e chiusa nello stesso modo).\n",
    "\n",
    "In ogni riga della stringa è presente del testo, il titolo della canzone, e una serie di `_` in modo da rendere tutte le righe della stessa lunghezza.\n",
    "\n",
    "```python\n",
    "#La lunghezza di ogni riga\n",
    "lunghezza_etichetta = 48\n",
    "\n",
    "# Il database contenente le canzoni\n",
    "kiss_album = \"\"\"Psycho Circus _________________________________\n",
    "Within ________________________________________\n",
    "I Pledge Allegiance to the State of Rock & Roll\n",
    "Into the Void _________________________________\n",
    "We Are One ____________________________________\n",
    "You Wanted the Best ___________________________\n",
    "Raise Your Glasses ____________________________\n",
    "I Finally Found My Way_________________________\n",
    "Dreamin _______________________________________\n",
    "Journey of 1,000 Years ________________________\"\"\"\n",
    "```\n",
    "\n",
    "Stiamo programmando il controllore di uno stereo e dato il suo numero  `num_canzone` nell'album, vogliamo STAMPARE numero e titolo. \n",
    "\n",
    "Per esempio, se riceviamo `num_canzone = 3` dobbiamo stampare:\n",
    "\n",
    "```\n",
    "numero canzone: 3\n",
    "Into the Void _________________________________\n",
    "```\n",
    "\n",
    "**NOTA**: alla fine di ogni riga di `kiss_album`, c'è un carattere speciale, giusto? :) "
   ]
  },
  {
   "cell_type": "code",
   "execution_count": 7,
   "metadata": {},
   "outputs": [
    {
     "name": "stdout",
     "output_type": "stream",
     "text": [
      "Numero canzone:  5 \n",
      " We Are One ____________________________________\n"
     ]
    }
   ],
   "source": [
    "LUNGHEZZA_ETICHETTA = 48\n",
    "\n",
    "num_canzone = 4    #  Into the Void _________________________________\n",
    "# num_canzone = 10   #  Journey of 1,000 Years ________________________\n",
    "\n",
    "kiss_album = \"\"\"Psycho Circus _________________________________\n",
    "Within ________________________________________\n",
    "I Pledge Allegiance to the State of Rock & Roll\n",
    "Into the Void _________________________________\n",
    "We Are One ____________________________________\n",
    "You Wanted the Best ___________________________\n",
    "Raise Your Glasses ____________________________\n",
    "I Finally Found My Way_________________________\n",
    "Dreamin _______________________________________\n",
    "Journey of 1,000 Years ________________________\"\"\"\n",
    "\n",
    "\n",
    "album_list = []\n",
    "\n",
    "album_list = kiss_album.split('\\n')  \n",
    "\n",
    "qta_canzoni = len(album_list)\n",
    "\n",
    "qta_canzoni_str = str(qta_canzoni)\n",
    "\n",
    "# print(album_list)\n",
    "\n",
    "num_canzone = input('Prego, inserire un numero compreso tra 1 e. ' + qta_canzoni_str)\n",
    "\n",
    "\n",
    "# primo metodo\n",
    "\n",
    "'''\n",
    "\n",
    "if num_canzone.isdigit():\n",
    "    num_canzone = int(num_canzone)\n",
    "    if num_canzone > qta_canzoni:\n",
    "        print('ERRORE: Il numero inserito è maggiore di ' +  qta_canzoni_str)\n",
    "    elif num_canzone < 1:\n",
    "        print('ERRORE: Il numero inserito è minore di 1')\n",
    "    else:\n",
    "        print('Numero canzone: ', num_canzone, '\\n',  album_list[num_canzone-1])\n",
    "\n",
    "\n",
    "else:\n",
    "    print('ERRORE: Inserire solo valori numerici')\n",
    "\n",
    "'''\n",
    "\n",
    "# if unito\n",
    "\n",
    "if num_canzone.isdigit():\n",
    "    num_canzone = int(num_canzone)\n",
    "    # if num_canzone > qta_canzoni or num_canzone < 1:\n",
    "    #     print('ERRORE: hai inserito un numero non valido')\n",
    "    # else:\n",
    "    #     print('Numero canzone: ', num_canzone, '\\n',  album_list[num_canzone-1])\n",
    "\n",
    "    \n",
    "    if 1 <= num_canzone <= qta_canzoni:\n",
    "        print('Numero canzone: ', num_canzone, '\\n',  album_list[num_canzone-1])\n",
    "    \n",
    "    # if num_canzone >= 1 and num_canzone <= qta_canzoni:\n",
    "    #     print('Numero canzone: ', num_canzone, '\\n',  album_list[num_canzone-1])\n",
    "    \n",
    "    else:\n",
    "        print('ERRORE: hai inserito un numero non valido')\n",
    "\n",
    "\n",
    "\n",
    "else:\n",
    "   print('ERRORE: Inserire solo valori numerici')\n"
   ]
  },
  {
   "cell_type": "markdown",
   "metadata": {},
   "source": [
    "\n",
    "\n",
    "\n",
    "\n"
   ]
  },
  {
   "cell_type": "code",
   "execution_count": 2,
   "metadata": {},
   "outputs": [
    {
     "name": "stdout",
     "output_type": "stream",
     "text": [
      "Within ________________________________________\n",
      "Psycho Circus _________________________________\n"
     ]
    }
   ],
   "source": [
    "# con dizionario (piu' complesso)\n",
    "\n",
    "brani = {\n",
    "    1:'Psycho Circus _________________________________',\n",
    "    2:'Within ________________________________________' \n",
    "}\n",
    "\n",
    "print(brani[2])\n",
    "\n",
    "# con lista\n",
    "\n",
    "brani_list = [\n",
    "    'Psycho Circus _________________________________',\n",
    "    'Within ________________________________________'\n",
    "]\n",
    "\n",
    "print(brani_list[0])"
   ]
  }
 ],
 "metadata": {
  "kernelspec": {
   "display_name": ".venv",
   "language": "python",
   "name": "python3"
  },
  "language_info": {
   "codemirror_mode": {
    "name": "ipython",
    "version": 3
   },
   "file_extension": ".py",
   "mimetype": "text/x-python",
   "name": "python",
   "nbconvert_exporter": "python",
   "pygments_lexer": "ipython3",
   "version": "3.10.1"
  },
  "orig_nbformat": 4
 },
 "nbformat": 4,
 "nbformat_minor": 2
}
