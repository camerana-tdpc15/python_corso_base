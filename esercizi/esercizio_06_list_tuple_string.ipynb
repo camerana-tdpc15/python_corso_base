{
 "cells": [
  {
   "attachments": {},
   "cell_type": "markdown",
   "metadata": {},
   "source": [
    "## Esercizio - cannocchiale\n",
    "\n",
    "Requisiti: tuple, stringhe, liste\n",
    "\n",
    "Data una stringa `s`, scrivi del codice che mette in una variabile tupla `ordinata` tutti i caratteri di `s` ordinati\n",
    "\n",
    "Esempio - data:\n",
    "\n",
    "```python\n",
    "s = \"cannocchiale\"\n",
    "```\n",
    "\n",
    "Dopo il tuo codice deve risultare:\n",
    " \n",
    "```python\n",
    ">>> print(ordinata)\n",
    "('a', 'a', 'c', 'c', 'c', 'e', 'h', 'i', 'l', 'n', 'n', 'o')\n",
    "```"
   ]
  },
  {
   "cell_type": "code",
   "execution_count": 16,
   "metadata": {},
   "outputs": [
    {
     "name": "stdout",
     "output_type": "stream",
     "text": [
      "['c', 'a', 'n', 'n', 'o', 'c', 'c', 'h', 'i', 'a', 'l', 'e']\n"
     ]
    }
   ],
   "source": [
    "# lista_char = []\n",
    "s = \"cannocchiale\"\n",
    "# for char in s:\n",
    "#     lista_char.append(char)\n",
    "# print(lista_char)\n",
    "# lista_char.sort()\n",
    "# risultato = tuple(lista_char)\n",
    "# print(lista_char)\n",
    "# print(risultato)\n",
    "lista_char = list(s)\n",
    "print(lista_char)"
   ]
  }
 ],
 "metadata": {
  "kernelspec": {
   "display_name": "Python 3",
   "language": "python",
   "name": "python3"
  },
  "language_info": {
   "codemirror_mode": {
    "name": "ipython",
    "version": 3
   },
   "file_extension": ".py",
   "mimetype": "text/x-python",
   "name": "python",
   "nbconvert_exporter": "python",
   "pygments_lexer": "ipython3",
   "version": "3.10.0"
  },
  "orig_nbformat": 4
 },
 "nbformat": 4,
 "nbformat_minor": 2
}
