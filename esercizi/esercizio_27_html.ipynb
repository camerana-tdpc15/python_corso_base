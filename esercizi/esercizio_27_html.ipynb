{
 "cells": [
  {
   "attachments": {},
   "cell_type": "markdown",
   "metadata": {},
   "source": [
    "# Esercizio: Facciamo subito uno spider"
   ]
  },
  {
   "attachments": {},
   "cell_type": "markdown",
   "metadata": {},
   "source": [
    "Vuoi comprare un oggetto su un sito di annunci che non ti offre molti strumenti di ricerca e comparazione.\n",
    "\n",
    "Puoi semplicemente eseguire una ricerca e leggere i risultati di tale ricerca, una pagina alla volta.\n",
    "\n",
    "Decidi dunque di estrarre i dati che ti servono dai risultati della ricerca e scriverli su una tabella Excel per poter effettuare ulteriori analisi e comparazioni sui prezzi e le caratteristiche di ciascun annuncio."
   ]
  }
 ],
 "metadata": {
  "language_info": {
   "name": "python"
  },
  "orig_nbformat": 4
 },
 "nbformat": 4,
 "nbformat_minor": 2
}
