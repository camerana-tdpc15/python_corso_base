{
 "cells": [
  {
   "cell_type": "markdown",
   "metadata": {},
   "source": [
    "# Esercizi introduttivi"
   ]
  },
  {
   "cell_type": "markdown",
   "metadata": {},
   "source": [
    "TEMI TRATTATI:\n",
    "\n",
    "- Elaborazioni e confronti tra variabili con valori di tipo `int`, `float` e `str`.\n",
    "- Espressioni booleane.\n",
    "- Scelte logiche."
   ]
  },
  {
   "cell_type": "markdown",
   "metadata": {},
   "source": [
    "NOTE SULLO SVOLGIMENTO:\n",
    "- Puoi svolgere ed eseguire gli esercizi direttamente qua su questo notebook oppure su un normale file di script Python con estensione `.py`, eseguendolo nel terminale del sistema operativo con il comando `py mio_esercizio.py` (Windows) oppure `python3 mio_esercizio.py` (Linux o macOS)."
   ]
  },
  {
   "cell_type": "markdown",
   "metadata": {},
   "source": [
    "## Esercizio 1: Vero o Falso\n",
    "\n",
    "Per ciascuna delle seguenti coppie di valori, eseguire un test di uguaglianza, assegnare il risultato ad una variabile, e visualizzarlo. Provare a prevedere quale sarà il risultato di ciascuna verifica.\n",
    "\n",
    "```text\n",
    "1, 1\n",
    "\n",
    "1, 1.0\n",
    "\n",
    "2.0, sqrt(4)\n",
    "\n",
    "'1', 1\n",
    "\n",
    "'ciao', 'Ciao'.\n",
    "```"
   ]
  },
  {
   "cell_type": "markdown",
   "metadata": {},
   "source": [
    "ESEMPIO:\n",
    "\n",
    "```python\n",
    "esempio = 'pippo' == 'pippo'\n",
    "print(esempio)\n",
    "# True\n",
    "```"
   ]
  },
  {
   "cell_type": "code",
   "execution_count": 9,
   "metadata": {},
   "outputs": [
    {
     "name": "stdout",
     "output_type": "stream",
     "text": [
      "True\n",
      "True\n",
      "False\n",
      "False\n"
     ]
    }
   ],
   "source": [
    "#esercizio 1\n",
    "numero = 1 == 1\n",
    "print(numero)\n",
    "\n",
    "#esercizio 2\n",
    "numero2 = 1 == 1.0\n",
    "print(numero2)\n",
    "\n",
    "# #esercizio 3\n",
    "# numero3 = 2.0 == sqrt(4)\n",
    "# print(numero3)\n",
    "\n",
    "#esercizio 4\n",
    "numero4 = '1' == 1\n",
    "print(numero4)\n",
    "\n",
    "#esercizio 5\n",
    "numero5 = 'ciao' == 'Ciao'\n",
    "print(numero5)\n",
    "\n",
    "\n"
   ]
  },
  {
   "cell_type": "markdown",
   "metadata": {},
   "source": [
    "## Esercizio 2: Identikit della stringa\n",
    "\n",
    "Scrivere un programma che legga una stringa e visualizzi dei messaggi appropriati, dopo aver verificato se:\n",
    "\n",
    "- contiene soltanto lettere;\n",
    "- contiene soltanto lettere maiuscole;\n",
    "- contiene soltanto lettere minuscole;\n",
    "- contiene soltanto cifre numeriche decimali;\n",
    "- contiene soltanto lettere e cifre;\n",
    "- inizia con una lettera maiuscola;\n",
    "- termina con un punto."
   ]
  },
  {
   "cell_type": "code",
   "execution_count": 11,
   "metadata": {},
   "outputs": [
    {
     "name": "stdout",
     "output_type": "stream",
     "text": [
      "52.36 contiene dei valori numerici.\n",
      "52.36 NON è tutta maiuscola\n",
      "52.36 NON è tutta minuscola\n",
      "52.36 NON contiene cifre decimali\n",
      "52.36 NON contiene solo cifre alfanumeriche\n",
      "52.36 NON inizia con una lettera maiuscola\n",
      "52.36 NON termina con un punto '.' \n"
     ]
    }
   ],
   "source": [
    "stringa = input('Inserisci una stringa con i valori che desideri, sia lettere che numeri')\n",
    "\n",
    "# 1.verifica se contiene solo lettere con metodo isalphaa()\n",
    "verifica1 = stringa.isalpha()\n",
    "if verifica1 == True :\n",
    "    print(f\"{stringa} NON contiene dei valori numerici.\")\n",
    "else:\n",
    "    print(f\"{stringa} contiene dei valori numerici.\")\n",
    "\n",
    "# 2. verificare che contenga solo caratteri maiuscoli\n",
    "verifica2 = stringa.isupper()\n",
    "if verifica2 is True:\n",
    "    print(f\"{stringa} è tutta maiuscola\")\n",
    "else:\n",
    "     print(f\"{stringa} NON è tutta maiuscola\")\n",
    "\n",
    "# 3. verificare che contenga solo caratteri minuscoli\n",
    "verifica3 = stringa.islower()\n",
    "if verifica3 is True:\n",
    "    print(f\"{stringa} è tutta minuscola\")\n",
    "else:\n",
    "    print(f\"{stringa} NON è tutta minuscola\")\n",
    "\n",
    "# 4. verifica che contenga solo cifre numeriche decimali\n",
    "verifica4 = stringa.isdigit()\n",
    "\n",
    "if verifica4 is True :\n",
    "    print(f\"{stringa} contiene solo cifre decimali\")\n",
    "else: \n",
    "    print(f\"{stringa} NON contiene cifre decimali\")\n",
    "    \n",
    "# 5.verifica che contenga solo lettere e cifre\n",
    "verifica5 = stringa.isalnum()\n",
    "if verifica5 is True :\n",
    "    print(f\"{stringa} contiene solo cifre alfanumeriche\")\n",
    "else:\n",
    "    print(f\"{stringa} NON contiene solo cifre alfanumeriche\")\n",
    "\n",
    "# 6. Inizia con lettera maiuscola\n",
    "verifica6 = stringa[0].isupper()\n",
    "if verifica6 is True:\n",
    "    print(f\"{stringa} inizia con una lettera maiuscola\")\n",
    "else:\n",
    "    print(f\"{stringa} NON inizia con una lettera maiuscola\")\n",
    "\n",
    "# 7. termina con un punto\n",
    "verifica7 = stringa.endswith('.')\n",
    "if verifica7 is True:\n",
    "    print(f\"{stringa} termina con un punto '.' \")\n",
    "else:\n",
    "    print(f\"{stringa} NON termina con un punto '.' \")\n"
   ]
  },
  {
   "cell_type": "markdown",
   "metadata": {},
   "source": [
    "## Esercizio 3: Tracce genetiche\n",
    "\n",
    "Le sequenze di DNA sono come lunghe stringhe composte da solo quattro lettere: `'A'`, `'C'`, `'T'` e `'G'`. Scrivere un programma che prenda in input una \"sequenza lunga\" di DNA di venti caratteri e una \"sequenza breve\" di tre caratteri e visualizzi le seguenti informazioni:\n",
    "\n",
    "1. Se la \"sequenza breve\" è presente all'interno della \"sequenza lunga\".\n",
    "2. Se presente, a partire da quale posizione (indice) della \"sequenza lunga\" è presente la \"sequenza breve\".\n",
    "3. Se presente, quante volte la \"sequenza breve\" è contenuta nella \"sequenza lunga\"."
   ]
  },
  {
   "cell_type": "code",
   "execution_count": 6,
   "metadata": {},
   "outputs": [
    {
     "name": "stdout",
     "output_type": "stream",
     "text": [
      "TGC non è presente nella sequenza ATGCATGCATGCATGCGTGC\n"
     ]
    }
   ],
   "source": [
    "dna_lungo = input(\"inserisci una stringa di 20 caratteri scelgliendo tra 'A' 'C' 'T' 'G'\")\n",
    "dna_breve = input(\"inserisci una stringa di 3 caratteri scelgliendo tra 'A' 'C' 'T' 'G'\")\n",
    "\n",
    "#trasformo tutte le sequenze in maiuscolo\n",
    "dna_lungo = dna_lungo.upper()\n",
    "dna_breve = dna_breve.upper()\n",
    "\n",
    "#calcolo la lunghezza dei due dna\n",
    "lunghezza_dna_lungo =len(dna_lungo)\n",
    "lunghezza_dna_breve = len(dna_breve)\n",
    "\n",
    "#controllo lunghezza dna_lungo\n",
    "if lunghezza_dna_lungo < 20 :\n",
    "    print(f\"inserisci una sequenza di 20 caratteri scelgliendo tra 'A' 'C' 'T' 'G', questa volta ne hai inseriti {lunghezza_dna_lungo}\")\n",
    "else:\n",
    "\n",
    "    # controllo lunghezza dna_breve\n",
    "    if lunghezza_dna_breve > 3 :\n",
    "        print(f\"inserisci una sequenza di 3 caratteri scelgliendo tra 'A' 'C' 'T' 'G', questa volta ne hai inseriti {lunghezza_dna_breve}\")\n",
    "    \n",
    "    else:\n",
    "        \n",
    "        #controllo se dna_lungo contiene dna_breve\n",
    "        if dna_lungo.find ( dna_breve ):\n",
    "        #dichiaro la posizione in cui è situato il dna_breve nel dna_lungo\n",
    "            posizione = dna_lungo.find(dna_breve)\n",
    "\n",
    "            if -1 < posizione > 20 :\n",
    "                n_volte = dna_lungo.count(dna_breve)\n",
    "                print(f'{dna_breve} è presente nella sequenza {dna_lungo} per {n_volte} volte e si trrova alla {posizione} posizione')       \n",
    "                \n",
    "            else :\n",
    "                print(f'{dna_breve} non è presente nella sequenza {dna_lungo}')\n",
    "        else: \n",
    "            print('non cè')\n",
    "\n",
    "    \n",
    "        \n",
    "    \n",
    "\n"
   ]
  },
  {
   "cell_type": "markdown",
   "metadata": {},
   "source": [
    "## Esercizio 4: Questione di logica\n",
    "\n",
    "Scrivere un programma che prenda in input un numero intero `x` e visualizzi a schermo le seguenti espressioni, accompagnate dai valori di verità risultanti dalla loro valutazione.\n",
    "\n",
    "- `x > 0 and x < 100`\n",
    "- `x > 0 or x < 100`\n",
    "- `x > 0 or 100 < x`\n",
    "- `x > 0 and x < 100 or x == -1`\n",
    "\n",
    "Testare il programma con numerosi valori di x."
   ]
  },
  {
   "cell_type": "markdown",
   "metadata": {},
   "source": [
    "ESEMPIO:\n",
    "\n",
    "Se `x = 200`\n",
    "\n",
    "Output atteso:\n",
    "\n",
    "```text\n",
    "200 > 0 and 200 < 100 : False\n",
    "200 > 0 or 200 < 100 : True\n",
    "200 > 0 or 100 < 200 : True\n",
    "200 > 0 and 200 < 100 or 200 == -1 : False\n",
    "\n",
    "```"
   ]
  },
  {
   "cell_type": "code",
   "execution_count": 5,
   "metadata": {},
   "outputs": [
    {
     "name": "stdout",
     "output_type": "stream",
     "text": [
      "polo contiene delle lettere, inserire solo un numero intero\n"
     ]
    }
   ],
   "source": [
    "# 1.dato un numero\n",
    "x = input('digita un numero intero')\n",
    "\n",
    "# 2.verifico che sia un numero\n",
    "verifica = x.isalpha()\n",
    "if verifica is True:\n",
    "    print(f\"{x} contiene delle lettere, inserire solo un numero intero\")\n",
    "else:\n",
    "    x_int = int(x)\n",
    "    # 3. verifica1 x > 0 and x < 100\n",
    "    verifica1 = x_int > 0 and x_int < 100\n",
    "\n",
    "    # 4. verifica2 x > 0 or x < 100\n",
    "    verifica2 = x_int > 0 or x_int < 100\n",
    "\n",
    "    # 5. verifica3 x > 0 or 100 < x\n",
    "    verifica3 = x_int > 0 or 100 < x_int\n",
    "\n",
    "    # 6. verifica4 x > 0 and x < 100 or x == -1\n",
    "    verifica4 = x_int > 0 and x_int < 100 or x_int == -1\n",
    "\n",
    "    print(f\"\"\"se x = {x}\n",
    "        200 > 0 and 200 < 100 : {verifica1}\n",
    "        200 > 0 or 200 < 100 : {verifica2}\n",
    "        200 > 0 or 100 < 200 : {verifica3}\n",
    "        200 > 0 and 200 < 100 or 200 == -1 :{verifica4}\"\"\")\n",
    "\n",
    "\n"
   ]
  },
  {
   "cell_type": "markdown",
   "metadata": {},
   "source": [
    "## Esercizio 5: De Morgan (+)\n",
    "\n",
    "La legge di De Morgan permette di semplificare l'applicazione dell'operatore `not` ad espressioni che contengono operatori `and` e/o `or`. In particolare, questa legge ha due forme, una per la negazione di espressioni in `and`, e una per la negazione di espressioni in `or`:\n",
    "\n",
    "|               | equivale a\n",
    "--------------- | ------------------|\n",
    "`not (A and B)` | `not A or not B`  |\n",
    "`not (A or B)`  | `not A and not B` |\n",
    "\n",
    "Considerare le espressioni seguenti, e per ciascuna di esse applicare la legge di De Morgan. Provare a descrivere \"a parole\" il significato algebrico intuitivo di ciascuna espressione.\n",
    "\n",
    "Scrivere poi un programma che prenda in input un numero intero `x` e, per ciascuna delle seguenti espressioni (che corrispondono alla negazione delle espressioni dell'Esercizio 4), stampi:\n",
    "\n",
    "1. L'espressione di partenza.\n",
    "2. L'espressione una volta applicata la legge di De Morgan e il valore di verità risultante dalla sua valutazione.\n",
    "\n",
    "- `not(x > 0 and x < 100)`\n",
    "- `not(x > 0 or x < 100)`\n",
    "- `not(x > 0 or 100 < x)`\n",
    "- `not(x > 0 and x< 100 or x == -1)`"
   ]
  },
  {
   "cell_type": "markdown",
   "metadata": {},
   "source": [
    "ESEMPIO:\n",
    "\n",
    "Se `x = 200`\n",
    "\n",
    "Output atteso:\n",
    "\n",
    "```text\n",
    "Originale:\n",
    "200 > 0 and 200 < 100 : False\n",
    "\n",
    "Negato:\n",
    "# not (200 > 0 and 200 < 100) : False\n",
    "# not (200 > 0) or not (200 < 100) : True\n",
    "200 <= 0 or 200 >= 100 : True\n",
    "...\n",
    "```"
   ]
  },
  {
   "cell_type": "code",
   "execution_count": 5,
   "metadata": {},
   "outputs": [
    {
     "data": {
      "text/plain": [
       "True"
      ]
     },
     "execution_count": 5,
     "metadata": {},
     "output_type": "execute_result"
    }
   ],
   "source": [
    "# Scrivi qua il tuo codice\n"
   ]
  }
 ],
 "metadata": {
  "kernelspec": {
   "display_name": ".venv",
   "language": "python",
   "name": "python3"
  },
  "language_info": {
   "codemirror_mode": {
    "name": "ipython",
    "version": 3
   },
   "file_extension": ".py",
   "mimetype": "text/x-python",
   "name": "python",
   "nbconvert_exporter": "python",
   "pygments_lexer": "ipython3",
   "version": "3.12.1"
  }
 },
 "nbformat": 4,
 "nbformat_minor": 2
}
