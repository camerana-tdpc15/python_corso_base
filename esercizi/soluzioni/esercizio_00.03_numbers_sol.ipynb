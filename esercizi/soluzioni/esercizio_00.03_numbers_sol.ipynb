{
 "cells": [
  {
   "cell_type": "markdown",
   "metadata": {},
   "source": [
    "# Esercizi introduttivi"
   ]
  },
  {
   "cell_type": "markdown",
   "metadata": {},
   "source": [
    "TEMI TRATTATI:\n",
    "\n",
    "- I tipi di variabile.\n",
    "- Gli operatori aritmetici di base.\n",
    "- La manipolazione di stringhe."
   ]
  },
  {
   "cell_type": "markdown",
   "metadata": {},
   "source": [
    "NOTE SULLO SVOLGIMENTO:\n",
    "- Puoi svolgere ed eseguire gli esercizi direttamente qua su questo notebook oppure su un normale file di script Python con estensione `.py`, eseguendolo nel terminale del sistema operativo con il comando `py mio_esercizio.py` (Windows) oppure `python3 mio_esercizio.py` (Linux o macOS)."
   ]
  },
  {
   "cell_type": "markdown",
   "metadata": {},
   "source": [
    "## Esercizio 1: Due numeri\n",
    "\n",
    "Scrivere un programma che memorizzi due numeri interi in due costanti definite nel codice, e poi ne visualizzi:\n",
    "\n",
    "- La somma.\n",
    "- La differenza.\n",
    "- Il prodotto.\n",
    "- Il valore medio.\n",
    "- La distanza (cioè il valore assoluto della differenza).\n",
    "- Il valore massimo (cioè il maggiore tra i due).\n",
    "- Il valore minimo (cioè il minore tra i due).\n",
    "\n",
    "**SUGGERIMENTO:** utilizzare le funzioni built-in `max()` e `min()`. Esse accettano una sequenza di valori separati da virgola in input e restituiscono rispettivamente il valore massimo e minimo della sequenza (ad esempio, `max(10, 5)` restituisce `10`)."
   ]
  },
  {
   "cell_type": "code",
   "execution_count": 2,
   "metadata": {},
   "outputs": [
    {
     "name": "stdout",
     "output_type": "stream",
     "text": [
      "Somma: 285\n",
      "Differenza: 339\n",
      "Prodotto: -8424\n",
      "Media: 142.5\n",
      "Distanza: 339\n",
      "Massimo: 312\n",
      "Minimo: -27\n"
     ]
    }
   ],
   "source": [
    "# Scrivi qua il tuo codice\n",
    "\n",
    "a = 312\n",
    "b = -27\n",
    "\n",
    "somma = a + b\n",
    "print('Somma:', somma)\n",
    "\n",
    "differenza = a - b\n",
    "print('Differenza:', differenza)\n",
    "\n",
    "prodotto = a * b\n",
    "print('Prodotto:', prodotto)\n",
    "\n",
    "media = somma / 2\n",
    "print('Media:', media)\n",
    "\n",
    "distanza = abs(differenza)\n",
    "print('Distanza:', distanza)\n",
    "\n",
    "massimo = max(a, b)\n",
    "print('Massimo:', massimo)\n",
    "\n",
    "minimo = min(a, b)\n",
    "print('Minimo:', minimo)\n"
   ]
  },
  {
   "cell_type": "markdown",
   "metadata": {},
   "source": [
    "## Esercizio 2: Cifre\n",
    "\n",
    "Scrivere un programma che memorizzi in una costante un numero intero positivo di cinque cifre (quindi compreso tra `10000` e `99999`), e visualizzi le singole cifre di cui è composto. Ad esempio, avendo il numero `16384`, il programma deve visualizzare, su righe separate:\n",
    "\n",
    "```text\n",
    "1\n",
    "6\n",
    "3\n",
    "8\n",
    "4\n",
    "```"
   ]
  },
  {
   "cell_type": "code",
   "execution_count": 3,
   "metadata": {},
   "outputs": [
    {
     "name": "stdout",
     "output_type": "stream",
     "text": [
      "2\n",
      "3\n",
      "4\n",
      "5\n",
      "6\n"
     ]
    }
   ],
   "source": [
    "# OPZIONE 1: trattare il numero come una stringa composta da 5 caratteri\n",
    "\n",
    "# Ottiene l'input dall'utente\n",
    "num = input('Inserire un numero intero di 5 cifre: ')\n",
    "\n",
    "# Display the result.\n",
    "print(num[0])\n",
    "print(num[1])\n",
    "print(num[2])\n",
    "print(num[3])\n",
    "print(num[4])"
   ]
  },
  {
   "cell_type": "code",
   "execution_count": 4,
   "metadata": {},
   "outputs": [
    {
     "name": "stdout",
     "output_type": "stream",
     "text": [
      "3\n",
      "4\n",
      "5\n",
      "6\n",
      "7\n"
     ]
    }
   ],
   "source": [
    "# OPZIONE 2: usare la divisione intera e il modulo (resto) delle potenze di 10\n",
    "\n",
    "num = int(input('Inserire un numero intero di 5 cifre: '))\n",
    "\n",
    "print((num // 10000) % 10)\n",
    "print((num // 1000) % 10)\n",
    "print((num // 100) % 10)\n",
    "print((num // 10) % 10)\n",
    "print(num % 10)"
   ]
  },
  {
   "cell_type": "markdown",
   "metadata": {},
   "source": [
    "## Esercizio 3: Caratteri\n",
    "\n",
    "Scrivere un programma che memorizzi una stringa in una variabile e, a partire da quella variabile, visualizzi i primi tre caratteri della stringa, seguiti da tre punti, ancora seguiti dagli ultimi tre caratteri.\n",
    "\n",
    "Ad esempio, se la stringa viene inizializzata al valore `'Mississippi'`, il programma deve visualizzare `'Mis...ppi'`."
   ]
  },
  {
   "cell_type": "code",
   "execution_count": 15,
   "metadata": {},
   "outputs": [
    {
     "name": "stdout",
     "output_type": "stream",
     "text": [
      "Mis...ssi\n",
      "Mis...ssi\n"
     ]
    }
   ],
   "source": [
    "# Inizializza la stringa\n",
    "stringa = 'Mississippi'\n",
    "# stringa = 'Missi'  # Stringa più corta di 6 caratteri\n",
    "# stringa = 'Mi'     # Stringa più corta di 3 caratteri\n",
    "\n",
    "# Oppure legge l'input dall'utente\n",
    "# stringa = input('Inserisci una parola: ')\n",
    "\n",
    "inizio = stringa[0:3]\n",
    "fine = stringa[-3:]\n",
    "\n",
    "# Usando l'argomento sep='' per rimuovere lo spazio tra gli argomenti\n",
    "print(inizio, '...', fine, sep='')\n",
    "\n",
    "# Usando le f-strings:\n",
    "print(f'{inizio}...{fine}')"
   ]
  },
  {
   "cell_type": "markdown",
   "metadata": {},
   "source": [
    "Prova a rispondere alle seguenti domande:\n",
    "- Cosa succede se la stringa è lunga meno di 6 caratteri?\n",
    "- Cosa succede se la stringa è lunga meno di 3 caratteri?"
   ]
  },
  {
   "cell_type": "markdown",
   "metadata": {},
   "source": [
    "## Esercizio 4: Numero telefonico\n",
    "\n",
    "Lo pseudocodice seguente descrive come trasformare una stringa contenente un numero telefonico a dieci cifre (come `'4155551212'`) in una stringa più facilmente leggibile, formattata secondo lo stile statunitense, come `'(415) 555–1212'`:\n",
    "\n",
    "1. Prendere la stringa costituita dai primi tre caratteri e circondarla con parentesi tonde (questo è il prefisso, detto \"area code\").\n",
    "2. Concatenare il prefisso ad uno spazio, poi alla stringa contenente i tre caratteri successivi, poi un trattino e infine alla stringa costituita dagli ultimi quattro caratteri.\n",
    "\n",
    "Tradurre questo pseudocodice in un programma Python che memorizzi un numero telefonico di 10 cifre in una stringa, per poi visualizzarlo nel formato appena descritto."
   ]
  },
  {
   "cell_type": "code",
   "execution_count": 17,
   "metadata": {},
   "outputs": [
    {
     "name": "stdout",
     "output_type": "stream",
     "text": [
      "Il numero formattato è: (462) 846-9093\n"
     ]
    }
   ],
   "source": [
    "num = '4628469093'\n",
    "\n",
    "# Oppure legge l'input dall'utente\n",
    "# num = input('Inserire un numero di telefono a 10 cifre: ')\n",
    "\n",
    "# Estrae il prefisso lo inserisce tra le parentesi\n",
    "prefisso = '(' + num[0:3] + ')'\n",
    "\n",
    "# Compone il numero seconodo il formato stabilito\n",
    "numero_formattato = prefisso + ' ' + num[3:6] + '-' + num[6:10]\n",
    "\n",
    "# Mostra il risultato\n",
    "print('Il numero formattato è:', numero_formattato)"
   ]
  },
  {
   "cell_type": "markdown",
   "metadata": {},
   "source": [
    "## Esercizio 5: Allineamento\n",
    "\n",
    "Formattare l’output dell’**Esercizio 1** in modo che descrizioni e numeri siano allineati verticalmente, come nel seguente esempio:\n",
    "\n",
    "```text\n",
    "Somma:           45\n",
    "Differenza:      -5\n",
    "Prodotto:       500\n",
    "Distanza:         5\n",
    "Valore massimo:  25\n",
    "Valore minimo:   20\n",
    "```"
   ]
  },
  {
   "cell_type": "code",
   "execution_count": 47,
   "metadata": {},
   "outputs": [
    {
     "name": "stdout",
     "output_type": "stream",
     "text": [
      "Somma         285\n",
      "Differenza    339\n",
      "Prodotto    -8424\n",
      "Media       142.5\n",
      "Distanza      339\n",
      "Massimo       312\n",
      "Minimo        -27\n"
     ]
    }
   ],
   "source": [
    "a = 312\n",
    "b = -27\n",
    "\n",
    "somma = a + b\n",
    "differenza = a - b\n",
    "prodotto = a * b\n",
    "media = somma / 2\n",
    "distanza = abs(differenza)\n",
    "massimo = max(a, b)\n",
    "minimo = min(a, b)\n",
    "\n",
    "print('Somma      ', f'{somma:5d}')\n",
    "print('Differenza ', f'{differenza:5d}')\n",
    "print('Prodotto   ', f'{prodotto:5d}')\n",
    "print('Media      ', f'{media:5.1f}')\n",
    "print('Distanza   ', f'{distanza:5d}')\n",
    "print('Massimo    ', f'{massimo:5d}')\n",
    "print('Minimo     ', f'{minimo:5d}')"
   ]
  },
  {
   "cell_type": "code",
   "execution_count": 48,
   "metadata": {},
   "outputs": [
    {
     "name": "stdout",
     "output_type": "stream",
     "text": [
      "Somma\t\t 285\n",
      "Differenza\t 339\n",
      "Prodotto\t -8424\n",
      "Media\t\t 142.5\n",
      "Distanza\t 339\n",
      "Massimo\t\t 312\n",
      "Minimo\t\t -27\n"
     ]
    }
   ],
   "source": [
    "a = 312\n",
    "b = -27\n",
    "\n",
    "somma = a + b\n",
    "differenza = a - b\n",
    "prodotto = a * b\n",
    "media = somma / 2\n",
    "distanza = abs(differenza)\n",
    "massimo = max(a, b)\n",
    "minimo = min(a, b)\n",
    "\n",
    "print('Somma\\t\\t', somma)\n",
    "print('Differenza\\t', differenza)\n",
    "print('Prodotto\\t', prodotto)\n",
    "print('Media\\t\\t', f'{media:.1f}')\n",
    "print('Distanza\\t', distanza)\n",
    "print('Massimo\\t\\t', massimo)\n",
    "print('Minimo\\t\\t', minimo)"
   ]
  },
  {
   "cell_type": "code",
   "execution_count": 58,
   "metadata": {},
   "outputs": [
    {
     "name": "stdout",
     "output_type": "stream",
     "text": [
      "Somma          285\n",
      "Differenza     339\n",
      "Prodotto     -8424\n",
      "Media       142.50\n",
      "Distanza       339\n",
      "Massimo        312\n",
      "Minimo         -27\n"
     ]
    }
   ],
   "source": [
    "# Lunghezza massima per l'allineamento\n",
    "LUNGHEZZA_MAX = 6\n",
    "\n",
    "def stampa_con_spazi(oggetto):\n",
    "    # Converte l'oggetto in stringa\n",
    "    testo = str(oggetto)\n",
    "    # Calcola il numero di spazi necessari per l'allineamento\n",
    "    spazi_mancanti = LUNGHEZZA_MAX - len(testo)\n",
    "    # Aggiunge gli spazi necessari all'inizio della stringa\n",
    "    return ' ' * spazi_mancanti + testo\n",
    "\n",
    "# Valori di esempio\n",
    "a = 312\n",
    "b = -27\n",
    "\n",
    "# Calcoli\n",
    "somma = a + b\n",
    "differenza = a - b\n",
    "prodotto = a * b\n",
    "media = somma / 2\n",
    "distanza = abs(differenza)\n",
    "massimo = max(a, b)\n",
    "minimo = min(a, b)\n",
    "\n",
    "# Stampa con allineamento personalizzato\n",
    "print('Somma      ', stampa_con_spazi(somma))\n",
    "print('Differenza ', stampa_con_spazi(differenza))\n",
    "print('Prodotto   ', stampa_con_spazi(prodotto))\n",
    "print('Media      ', stampa_con_spazi(f'{media:.2f}'))\n",
    "print('Distanza   ', stampa_con_spazi(distanza))\n",
    "print('Massimo    ', stampa_con_spazi(massimo))\n",
    "print('Minimo     ', stampa_con_spazi(minimo))"
   ]
  },
  {
   "cell_type": "markdown",
   "metadata": {},
   "source": [
    "## Esercizio 6: Emoji\n",
    "\n",
    "Secondo i dati raccolti dall'[Unicode Consortium](https://home.unicode.org/emoji/emoji-frequency/), l'organizzazione no-profit responsabile della digitalizzazione delle lingue scritte del mondo, le \"lacrime di gioia\" (😂) rappresentano oltre il 5% di tutte le emoji utilizzate (l’unico altro carattere che ci si avvicina è il ❤️). Nel 2021, le prime dieci emoji più utilizzate in tutto il mondo sono state: 😂 ❤️ 🤣 👍 😭 🙏 😘 🥰 😍 😊.\n",
    "\n",
    "Quando scrivi i messaggi, quali sono le tre emoji che tu usi più di frequente?\n",
    "\n",
    "Scrivere un programma che, per ciascuna delle tre emoji che usi più di frequente, mostri a schermo le seguenti informazioni:\n",
    "\n",
    "- la posizione in classifica (rank);\n",
    "- il codice Unicode;\n",
    "- il nome tecnico Unicode;\n",
    "- l’emoji stessa.\n",
    "\n",
    "Per trovare i codici Unicode corrispondenti a ciascuna emoji, puoi usare uno di questi siti:\n",
    "\n",
    "- [symbl.cc](https://symbl.cc/)\n",
    "- [amp-what.com](https://www.amp-what.com/)\n",
    "\n",
    "\n",
    "Formattare l’output in modo che le informazioni relative a ciascuna delle tre emoji siano raccolte su una riga, e i diversi campi siano allineati verticalmente."
   ]
  },
  {
   "cell_type": "code",
   "execution_count": 71,
   "metadata": {},
   "outputs": [
    {
     "name": "stdout",
     "output_type": "stream",
     "text": [
      "Posizione: 4 - Numero: 1F44D - Nome: Thumbs Up Sign - Emoji: 👍\n",
      "Posizione: 28 - Numero: 1F642 - Nome: Slightly Smiling Face - Emoji: 🙂\n",
      "Posizione: 111 - Numero: 1F632 - Nome: Astonished Face - Emoji: 😲\n"
     ]
    }
   ],
   "source": [
    "# Ipotizziamo che le mie Emoji più frequenti siano le seguenti:\n",
    "# 👍 🙂 😲\n",
    "\n",
    "# Per conoscere il codice Unicode si può usare la funzione ord()\n",
    "# ord('👍') --> 128077\n",
    "\n",
    "# Nelle tabelle Unicode solitamente si usa il valore espresso in base 16\n",
    "# che si può ottenere dalla funzione hex()\n",
    "# hex(128077) --> '0x1f44d'\n",
    "# o direttamente: hex(ord('👍')) --> '0x1f44d'\n",
    "\n",
    "emoji1 = '👍'\n",
    "rank1 = 4 # from https://home.unicode.org/emoji/emoji-frequency/\n",
    "unicode1 = '1F44D' # from https://unicode-table.com/en/1F44D/\n",
    "name1 = 'Thumbs Up Sign'\n",
    "\n",
    "emoji2 = '🙂'\n",
    "rank2 = 28 # from https://home.unicode.org/emoji/emoji-frequency/\n",
    "unicode2 = '1F642' # from https://unicode-table.com/en/1F642/\n",
    "name2 = 'Slightly Smiling Face'\n",
    "\n",
    "emoji3 = chr(0x1F632)\n",
    "rank3 = 111 # from https://home.unicode.org/emoji/emoji-frequency/\n",
    "unicode3 = '1F632' # from https://unicode-table.com/en/1F632/\n",
    "name3 = 'Astonished Face'\n",
    "\n",
    "print(f'Posizione: {rank1} - Numero: {unicode1} - Nome: {name1} - Emoji: {emoji1}')\n",
    "\n",
    "print(f'Posizione: {rank2} - Numero: {unicode2} - Nome: {name2} - Emoji: {emoji2}')\n",
    "\n",
    "print(f'Posizione: {rank3} - Numero: {unicode3} - Nome: {name3} - Emoji: {emoji3}')\n",
    "\n",
    "# Nota: se leggete bene l'articolo citato nel testo, verso il fondo fa\n",
    "# riferimento a questo documento:\n",
    "# https://docs.google.com/spreadsheets/d/1Zs13WJYdZL1pNZP0dCIXkWau_tZOjK3mmJz0KNq4I30/edit#gid=196891844\n",
    "# Questo foglio di calcolo contiene tutte le informazioni che ci servono!\n",
    "# Leggere fino in fondo conviene sempre!"
   ]
  },
  {
   "cell_type": "code",
   "execution_count": 63,
   "metadata": {},
   "outputs": [
    {
     "name": "stdout",
     "output_type": "stream",
     "text": [
      "👍\n",
      "👍\n"
     ]
    }
   ],
   "source": [
    "# Utilizzando il codice decimale\n",
    "print(chr(128077))\n",
    "\n",
    "# Utilizzando il codice esadecimale\n",
    "print(chr(0x1f44d))"
   ]
  }
 ],
 "metadata": {
  "kernelspec": {
   "display_name": ".venv",
   "language": "python",
   "name": "python3"
  },
  "language_info": {
   "codemirror_mode": {
    "name": "ipython",
    "version": 3
   },
   "file_extension": ".py",
   "mimetype": "text/x-python",
   "name": "python",
   "nbconvert_exporter": "python",
   "pygments_lexer": "ipython3",
   "version": "3.11.2"
  }
 },
 "nbformat": 4,
 "nbformat_minor": 2
}
