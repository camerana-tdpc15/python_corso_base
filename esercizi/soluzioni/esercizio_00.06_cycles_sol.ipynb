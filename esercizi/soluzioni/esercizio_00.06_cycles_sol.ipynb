{
 "cells": [
  {
   "cell_type": "markdown",
   "metadata": {},
   "source": [
    "# Esercizi introduttivi"
   ]
  },
  {
   "cell_type": "markdown",
   "metadata": {},
   "source": [
    "TEMI TRATTATI:\n",
    "\n",
    "- Cicli con `while` e `for`\n",
    "- Elaborazione di input e output complessi"
   ]
  },
  {
   "cell_type": "markdown",
   "metadata": {},
   "source": [
    "NOTE SULLO SVOLGIMENTO:\n",
    "- Puoi svolgere ed eseguire gli esercizi direttamente qua su questo notebook oppure su un normale file di script Python con estensione `.py`, eseguendolo nel terminale del sistema operativo con il comando `py mio_esercizio.py` (Windows) oppure `python3 mio_esercizio.py` (Linux o macOS)."
   ]
  },
  {
   "cell_type": "markdown",
   "metadata": {},
   "source": [
    "## Esercizio 1: Tutti i gli interi che vuoi\n",
    "\n",
    "Scrivere un programma che legga una sequenza di numeri interi (la sequenza termina quando viene inserita una stringa vuota) e che, dopo ogni nuova acquisizione, calcoli e visualizzi:\n",
    "\n",
    "1. le somme parziali di tutti i numeri acquisiti. Il programma deve visualizzare il risultato dei calcoli dopo ogni nuova acquisizione. Se, ad esempio, i valori in ingresso sono `1 7 2 9`, il programma visualizzerà la somma parziale dei numeri acquisiti dopo ogni acquisizione:\n",
    "    1. alla prima acquisizione (`1`), il primo valore acquisito:\n",
    "        - `Somma parziale: 1`\n",
    "    2. alla seconda acquisizione (`7`), la somma tra la prima e la seconda acquisizione:\n",
    "        - (1 + 7)\n",
    "        - `Somma parziale: 8`\n",
    "    3. alla terza acquisizione (`2`), la somma tra la prima, la seconda e la terza acquisizione:\n",
    "        - (1 + 7 + 2)\n",
    "        - `Somma parziale: 10`\n",
    "    4. alla quarta acquisizione (`9`), la somma tra la prima, la seconda, la terza e la quarta acquisizione:\n",
    "        - (1 + 7 + 2 + 9)\n",
    "        - `Somma parziale: 19`\n",
    "\n",
    "2. Il valore minimo e il valore massimo tra quelli acquisiti. Ad esempio, con `1 7 2 9`:\n",
    "    - `Valore massimo: 9`\n",
    "    - `Valore minimo: 1`\n",
    "\n",
    "3. Il numero di valori pari e il numero di valori dispari tra quelli acquisiti. Ad esempio, con `1 7 2 9`:\n",
    "    - `N. valori pari: 1`\n",
    "    - `N. valori dispari: 3`"
   ]
  },
  {
   "cell_type": "code",
   "execution_count": null,
   "metadata": {},
   "outputs": [],
   "source": [
    "# Inizializza le variabili\n",
    "somma = 0\n",
    "\n",
    "num_min = float('inf')\n",
    "num_max = float('-inf')\n",
    "\n",
    "conta_pari = 0\n",
    "conta_dispari = 0\n",
    "\n",
    "messaggio = 'Inserisci un numero oppure premi Invio per terminare: '\n",
    "\n",
    "riga = input(messaggio)\n",
    "\n",
    "# L'esecuzione prosegue fino a che `riga` non è una stringa vuota\n",
    "# cioè fino a che l'utente non preme Invio senza aver inserito alcun valore\n",
    "while riga != '':\n",
    "    n = int(riga)\n",
    "\n",
    "    somma = somma + n\n",
    "\n",
    "    if n > num_max:\n",
    "        num_max = n\n",
    "\n",
    "    if n < num_min:\n",
    "        num_min = n\n",
    "\n",
    "    if n % 2 == 0:\n",
    "        conta_pari = conta_pari + 1\n",
    "    else:\n",
    "        conta_dispari = conta_dispari + 1\n",
    "\n",
    "    print(f'Somma parziale: {somma}')\n",
    "    print(f'Valore massimo: {num_max}')\n",
    "    print(f'Valore minimo: {num_min}')\n",
    "    print(f'N. valori pari: {conta_pari}')\n",
    "    print(f'N. valori dispari: {conta_dispari}')\n",
    "    print('-' * 40)\n",
    "\n",
    "    riga = input(messaggio)"
   ]
  },
  {
   "cell_type": "markdown",
   "metadata": {},
   "source": [
    "## Esercizio 2: Analisi di una stringa\n",
    "\n",
    "Scrivere un programma che legga una riga di testo in ingresso sotto forma di stringa e visualizzi quanto segue:\n",
    "\n",
    "- le sole lettere maiuscole della stringa;\n",
    "- le lettere in posizioni pari nella stringa;\n",
    "- la stessa stringa in cui, al posto delle vocali (maiuscole o minuscole), vi sia un underscore (_);\n",
    "- il numero di cifre numeriche presenti nella stringa;\n",
    "- le posizioni di tutte le vocali presenti nella stringa. "
   ]
  },
  {
   "cell_type": "code",
   "execution_count": null,
   "metadata": {},
   "outputs": [],
   "source": [
    "riga = input('Inserisci un testo: ')\n",
    "\n",
    "# Visualizza le lettere maiuscole\n",
    "stampa = ''\n",
    "for ch in riga:\n",
    "    if ch.isupper():    # oppure: if \"A\" <= ch <= \"Z\"\n",
    "        stampa = stampa + ch\n",
    "print(f'Solo lettere maiuscole: {stampa}')\n",
    "\n",
    "# Visualizza le lettere in posizione pari\n",
    "stampa = ''\n",
    "posizioni_pari = range(1, len(riga), 2)\n",
    "for pos in posizioni_pari:\n",
    "    stampa = stampa + riga[pos]\n",
    "print(f'Lettere in posizione pari: {stampa}')\n",
    "\n",
    "# Converti vocali in underscore\n",
    "stampa = ''\n",
    "for ch in riga:\n",
    "    if ch.upper() in 'AEIOU':\n",
    "        stampa = stampa + '_'\n",
    "    else:\n",
    "        stampa = stampa + ch\n",
    "print(f'Vocali cancellate: {stampa}')\n",
    "\n",
    "# Alternativa usando replace()\n",
    "# stampa = riga\n",
    "# for ch in \"aeiouAEIOU\":\n",
    "#   stampa = stampa.replace(ch,\"_\")\n",
    "# print(stampa)\n",
    "\n",
    "\n",
    "# Numero di cifre numeriche\n",
    "cifre = 0\n",
    "for ch in riga:\n",
    "    if ch.isnumeric():  # or: '0' <= ch <= '9'\n",
    "        cifre = cifre + 1\n",
    "print(f'Ci sono {cifre} cifre numeriche')\n",
    "\n",
    "# Posizione delle vocali (per esseri umani, cioè partendo da 1)\n",
    "# print('Le vocali sono in posizione:')\n",
    "# for pos in range(len(riga)):\n",
    "#     if riga[pos].upper() in 'AEIOU':\n",
    "#         print(pos + 1, end=', ')\n",
    "\n",
    "posizioni_vocali = []\n",
    "for pos in range(len(riga)):\n",
    "    if riga[pos].upper() in 'AEIOU':\n",
    "        posizioni_vocali.append(str(pos + 1))\n",
    "\n",
    "print(f\"Le vocali sono in posizione: {', '.join(posizioni_vocali)}\")\n"
   ]
  },
  {
   "cell_type": "markdown",
   "metadata": {},
   "source": [
    "## Esercizio 3: Quadrato e rombo\n",
    "\n",
    "Scrivere un programma che legga un numero intero `n` e visualizzi, usando asterischi `'*'`, un quadrato e un rombo pieni, il cui lato abbia lunghezza n.\n",
    "\n",
    "Se, ad esempio, l’utente fornisce il numero `4`, il programma deve visualizzare:\n",
    "\n",
    "```text\n",
    "****\n",
    "****\n",
    "****\n",
    "****\n",
    "\n",
    "   *\n",
    "  ***\n",
    " *****\n",
    "*******\n",
    " *****\n",
    "  ***\n",
    "   *\n",
    "```"
   ]
  },
  {
   "cell_type": "code",
   "execution_count": null,
   "metadata": {},
   "outputs": [],
   "source": [
    "# Legge la lunghezza del lato dall'utente\n",
    "lunghezza_lato = int(input('Inserire la lunghezza del lato (intero): '))\n",
    "\n",
    "# DISEGNA IL QUADRATO\n",
    "\n",
    "for y in range(0, lunghezza_lato):\n",
    "    print('*' * lunghezza_lato)\n",
    "\n",
    "\n",
    "print()  # Lascia uno spazio nell'output\n",
    "\n",
    "\n",
    "# DISEGNA IL ROMBO\n",
    "\n",
    "# Disegna la parte superiore del rombo\n",
    "for y in range(1, lunghezza_lato):\n",
    "    print(' ' * (lunghezza_lato - y) + '*' * (y * 2 - 1))\n",
    "\n",
    "# Disegna la parte inferiore del rombo, inclusa la linea centrale\n",
    "for y in range(lunghezza_lato, 0, -1):\n",
    "    print(' ' * (lunghezza_lato - y) + '*' * (y * 2 - 1))"
   ]
  },
  {
   "cell_type": "markdown",
   "metadata": {},
   "source": [
    "#### Soluzioni alternative"
   ]
  },
  {
   "cell_type": "code",
   "execution_count": null,
   "metadata": {},
   "outputs": [],
   "source": [
    "lunghezza_lato = int(input('Inserire la lunghezza del lato (intero): '))\n",
    "\n",
    "# DISEGNA IL QUADRATO\n",
    "\n",
    "for y in range(lunghezza_lato):\n",
    "    for x in range(lunghezza_lato):\n",
    "        print('*', end='')\n",
    "    print()  # Va a capo dopo ogni riga di asterischi\n",
    "\n",
    "\n",
    "print() \n",
    "\n",
    "\n",
    "# DISEGNA IL ROMBO\n",
    "\n",
    "# Disegna la parte superiore del rombo, inclusa la linea centrale\n",
    "for y in range(1, lunghezza_lato + 1):  \n",
    "    print(' ' * (lunghezza_lato - y) + '*' * (2 * y - 1))\n",
    "\n",
    "# Disegna la parte inferiore del rombo\n",
    "for y in range(lunghezza_lato - 1, 0, -1):\n",
    "    print(' ' * (lunghezza_lato - y) + '*' * (2 * y - 1))\n"
   ]
  },
  {
   "cell_type": "markdown",
   "metadata": {},
   "source": [
    "#### Non è chiaro come viene costruito il rombo?\n",
    "\n",
    "Se non è chiaro come viene costruito il rombo, prova a dividere i vari `print` in sotto-azioni e invece dello spazio vuoto prova ad usare un carattere visibile, ad esempio un punto `'.'`."
   ]
  },
  {
   "cell_type": "code",
   "execution_count": 32,
   "metadata": {},
   "outputs": [
    {
     "name": "stdout",
     "output_type": "stream",
     "text": [
      "...\n",
      "..\n",
      ".\n",
      "\n",
      "...*\n",
      "..***\n",
      ".*****\n",
      "\n",
      "...*\n",
      "..***\n",
      ".*****\n",
      "\n",
      "*******\n",
      ".*****\n",
      "..***\n",
      "...*\n"
     ]
    }
   ],
   "source": [
    "lunghezza_lato = 4\n",
    "\n",
    "for y in range(1, lunghezza_lato):\n",
    "    print('.' * (lunghezza_lato - y))\n",
    "\n",
    "print()  # Lascia uno spazio nell'output\n",
    "\n",
    "for y in range(1, lunghezza_lato):\n",
    "    print('.' * (lunghezza_lato - y) + '*' * (y * 2 - 1))\n",
    "\n",
    "print()  # Lascia uno spazio nell'output\n",
    "\n",
    "for y in range(1, lunghezza_lato):\n",
    "    print('.' * (lunghezza_lato - y) + '*' * (y * 2 - 1))\n",
    "\n",
    "print()  # Lascia uno spazio nell'output\n",
    "\n",
    "for y in range(lunghezza_lato, 0, -1):\n",
    "    print('.' * (lunghezza_lato - y) + '*' * (y * 2 - 1))"
   ]
  },
  {
   "cell_type": "markdown",
   "metadata": {},
   "source": [
    "## Esercizio 4: Parole al contrario\n",
    "\n",
    "Scrivere un programma che legga una parola e visualizzi:\n",
    "\n",
    "- La parola al contrario. Se, ad esempio, l’utente fornisce la stringa `'Ciao'`, il programma deve visualizzare `'oaiC'`.\n",
    "\n",
    "- Le lettere maiuscole partendo dal fondo. Se, ad esempio, l’utente fornisce la stringa `'CiAo'`, il programma deve visualizzare `'AC'`."
   ]
  },
  {
   "cell_type": "code",
   "execution_count": null,
   "metadata": {},
   "outputs": [],
   "source": [
    "# Legge l'input dall'utente\n",
    "parola = input('Inserisci una parola: ')\n",
    "\n",
    "# Inverte la parola (usando lo slicing con step -1)\n",
    "reversed_word = parola[::-1]\n",
    "print(f'\"{parola}\" al contrario diventa \"{reversed_word}\"')\n",
    "\n",
    "\n",
    "# Solo le maiuscole, partendo dalla fine\n",
    "print('Solo le maiuscole, in ordine inverso: ', end='')\n",
    "for char in reversed_word:\n",
    "    if char.isupper():\n",
    "        print(ch, end='')\n"
   ]
  },
  {
   "cell_type": "markdown",
   "metadata": {},
   "source": [
    "## Esercizio 5: Spezzatino di parola\n",
    "\n",
    "Scrivere un programma che legga una parola e visualizzi tutte le sue sottostringhe, ordinate per lunghezza crescente.\n",
    "\n",
    "Se, ad esempio, l’utente fornisce la stringa `'rum'`, il programma deve visualizzare:\n",
    "\n",
    "```text\n",
    "r\n",
    "u\n",
    "m\n",
    "ru\n",
    "um\n",
    "rum\n",
    "```"
   ]
  },
  {
   "cell_type": "code",
   "execution_count": null,
   "metadata": {},
   "outputs": [],
   "source": [
    "# Legge l'input dall'utente\n",
    "parola = input('Inserisci una parola: ')\n",
    "\n",
    "# Genera e visualizza tutte le sottostringhe ordinate per lunghezza crescente.ù\n",
    "\n",
    "# Per ciascuna possibile lunghezza di sottostringa\n",
    "for lunghezza in range(1, len(parola) + 1):  # 1, 2, 3, ..., len(parola)\n",
    "    # Per ciascuna posizione di partenza delle sottostringhe della lunghezza corrente\n",
    "    for pos in range(0, len(parola) - lunghezza + 1):  # 0, 1, 2, ..., len(parola) - lunghezza\n",
    "        substring = ''\n",
    "        # Per ciascun carattere della sottostringa di lunghezza 'lunghezza' a partire da 'pos'\n",
    "        for idx in range(pos, pos + lunghezza): # pos, pos+1, ..., pos+lunghezza-1\n",
    "            substring = substring + parola[idx]\n",
    "        \n",
    "        print(substring)"
   ]
  },
  {
   "cell_type": "markdown",
   "metadata": {},
   "source": [
    "#### Alternativa usando l'operatore di *slicing*"
   ]
  },
  {
   "cell_type": "code",
   "execution_count": null,
   "metadata": {},
   "outputs": [],
   "source": [
    "parola = input('Inserisci una parola: ')\n",
    "\n",
    "for lunghezza in range(1, len(parola) + 1):\n",
    "    for pos in range(0, len(parola) - lunghezza + 1):\n",
    "        # Taglia da 'pos' a 'pos + lunghezza' (escluso)\n",
    "        substring = parola[pos : pos + lunghezza]\n",
    "        print(substring)"
   ]
  },
  {
   "cell_type": "markdown",
   "metadata": {},
   "source": [
    "## Esercizio 6: PIN\n",
    "\n",
    "Quando utilizzate uno sportello bancario automatico (ATM, Automatic Teller Machine) con la vostra carta, dovete usare un numero identificativo personale (PIN, Personal Identification Number) per poter accedere al vostro conto.\n",
    "\n",
    "Se un utente sbaglia tre volte l’inserimento del PIN, la macchina trattiene la carta e la blocca.\n",
    "\n",
    "Nell’ipotesi che il PIN dell’utente sia `1234`, scrivere un programma che chieda all’utente di digitare il PIN, consentendo al massimo tre tentativi e funzioni in questo modo:\n",
    "\n",
    "- Quando l’utente inserisce il numero corretto, visualizza il messaggio`'Your PIN is correct'` e termina.\n",
    "- Quando l’utente inserisce un numero sbagliato, visualizza il messaggio `'Your PIN is incorrect'` e, se ha chiesto il PIN meno di tre volte, lo chiede di nuovo.\n",
    "- Quando l’utente inserisce un numero sbagliato per la terza volta, visualizza il messaggio `'Your bank card is blocked'` e termina il programma."
   ]
  },
  {
   "cell_type": "code",
   "execution_count": null,
   "metadata": {},
   "outputs": [],
   "source": [
    "PIN = '1234'\n",
    "tentativi = 3\n",
    "\n",
    "# Valore booleano per rappresentare se il PIN è corretto o no\n",
    "pin_valido = False\n",
    "\n",
    "while tentativi > 0 and not pin_valido:\n",
    "    input_pin = input('Enter your PIN: ')\n",
    "\n",
    "    if input_pin == PIN:\n",
    "        pin_valido = True\n",
    "        print('Your PIN is correct')\n",
    "\n",
    "    tentativi -= 1\n",
    "\n",
    "if not pin_valido:\n",
    "    print('Your bank card is blocked')"
   ]
  }
 ],
 "metadata": {
  "kernelspec": {
   "display_name": ".venv",
   "language": "python",
   "name": "python3"
  },
  "language_info": {
   "codemirror_mode": {
    "name": "ipython",
    "version": 3
   },
   "file_extension": ".py",
   "mimetype": "text/x-python",
   "name": "python",
   "nbconvert_exporter": "python",
   "pygments_lexer": "ipython3",
   "version": "3.11.2"
  }
 },
 "nbformat": 4,
 "nbformat_minor": 2
}
