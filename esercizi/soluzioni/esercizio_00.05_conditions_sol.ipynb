{
 "cells": [
  {
   "cell_type": "markdown",
   "metadata": {},
   "source": [
    "# Esercizi introduttivi"
   ]
  },
  {
   "cell_type": "markdown",
   "metadata": {},
   "source": [
    "TEMI TRATTATI:\n",
    "\n",
    "- Scelte logiche.\n",
    "- Costrutti condizionali (`if`, `else` e `elif`).\n",
    "- Blocchi e istruzioni annidate.\n",
    "- Elaborazioni e confronti tra variabili con valori di tipo `int`, `float` e `str`.\n",
    "- Espressioni booleane."
   ]
  },
  {
   "cell_type": "markdown",
   "metadata": {},
   "source": [
    "NOTE SULLO SVOLGIMENTO:\n",
    "- Puoi svolgere ed eseguire gli esercizi direttamente qua su questo notebook oppure su un normale file di script Python con estensione `.py`, eseguendolo nel terminale del sistema operativo con il comando `py mio_esercizio.py` (Windows) oppure `python3 mio_esercizio.py` (Linux o macOS)."
   ]
  },
  {
   "cell_type": "markdown",
   "metadata": {},
   "source": [
    "## Esercizio 1: Andamenti\n",
    "\n",
    " Scrivere un programma che legga tre numeri e visualizzi il messaggio `'increasing'` se sono in ordine strettamente crescente, `'decreasing'` se sono in ordine strettamente decrescente e `'neither'` se non sono né in ordine crescente né in ordine decrescente.\n",
    " \n",
    " NOTA BENE: \"strettamente crescente\" significa che ciascun valore deve essere maggiore del precedente (analogo significato ha il termine decrescente). Per esempio la sequenza `3 4 4` non va considerata crescente."
   ]
  },
  {
   "cell_type": "code",
   "execution_count": 2,
   "metadata": {},
   "outputs": [
    {
     "name": "stdout",
     "output_type": "stream",
     "text": [
      "increasing\n",
      "increasing\n"
     ]
    }
   ],
   "source": [
    "# Read three numbers from the user.\n",
    "num1 = float(input('Inserisci il primo numero: '))\n",
    "num2 = float(input('Inserisci il secondo numero: '))\n",
    "num3 = float(input('Inserisci il tezo numero: '))\n",
    "\n",
    "# Determine and display their status.\n",
    "if num1 < num2 and num2 < num3:\n",
    "    print('increasing')\n",
    "elif num1 > num2 and num2 > num3:\n",
    "    print('decreasing')\n",
    "else:\n",
    "    print('neither')\n",
    "\n",
    "# NOTA: si può anche scrivere\n",
    "# if num1 < num2 < num3:\n",
    "# poiché python consente il cosiddetto \"comparison chaining\"\n",
    "# vedi: https://docs.python.org/3/reference/expressions.html#comparisons\n",
    "\n",
    "if num1 < num2 < num3:\n",
    "    print('increasing')\n",
    "elif num1 > num2 > num3:\n",
    "    print('decreasing')\n",
    "else:\n",
    "    print('neither')"
   ]
  },
  {
   "cell_type": "markdown",
   "metadata": {},
   "source": [
    "## Esercizio 2: Voti\n",
    "\n",
    "Scrivere un programma che riceva in input un voto in lettere inserito dall’utente, lo traduca nel corrispondente voto numerico e infine lo stampi\n",
    "\n",
    "- I voti in lettere sono `'A'`, `'B'`, `'C'`, `'D'` e `'F'`, eventualmente seguiti da un segno `+` o `–`.\n",
    "\n",
    "- I loro valori numerici sono, nell’ordine, `4.0`, `3.0`, `2.0`, `1.0` e `0.0`.\n",
    "\n",
    "- I voti `'F+'` e `'F–'` non esistono.\n",
    "\n",
    "- Un segno `+` aumenta il voto numerico di `0.3`, mentre un segno `–` lo diminuisce della stessa quantità.\n",
    "\n",
    "- Il voto `'A+'` è comunque uguale a `4.0`."
   ]
  },
  {
   "cell_type": "code",
   "execution_count": 5,
   "metadata": {},
   "outputs": [
    {
     "name": "stdout",
     "output_type": "stream",
     "text": [
      "Il voto numerico è: 1.7\n"
     ]
    }
   ],
   "source": [
    "# Legge il voto in lettere dall'utente.\n",
    "voto_alpha = input('Inserisci il voto in lettere: ')\n",
    "\n",
    "# Converte in maiuscolo per facilitare i confronti.\n",
    "voto_alpha = voto_alpha.upper()\n",
    "\n",
    "# Converte in numero il primo carattere (che è la lettera del voto).\n",
    "if voto_alpha[0] == 'A':\n",
    "    num = 4.0\n",
    "elif voto_alpha[0] == 'B':\n",
    "    num = 3.0\n",
    "elif voto_alpha[0] == 'C':\n",
    "    num = 2.0\n",
    "elif voto_alpha[0] == 'D':\n",
    "    num = 1.0\n",
    "else:\n",
    "    num = 0.0\n",
    "\n",
    "# Gestisce il + o il - se è presente, solo in caso non sia una F\n",
    "if len(voto_alpha) > 1 and voto_alpha[0] != 'F':\n",
    "    # Se è un + e non è un A, aggiunge 0.3\n",
    "    if voto_alpha[1] == '+' and voto_alpha[0] != 'A':\n",
    "        num = num + 0.3\n",
    "    # Se è un -, sottrae 0.3\n",
    "    elif voto_alpha[1] == '-':\n",
    "        num = num - 0.3\n",
    "\n",
    "# Mostra il risultato della conversione.\n",
    "print(f'Il voto numerico è: {num}')\n"
   ]
  },
  {
   "cell_type": "markdown",
   "metadata": {},
   "source": [
    "## Esercizio 3: Cicli stagionali\n",
    "\n",
    "Il seguente pseudocodice descrive un algoritmo che individua la stagione (Primavera, Estate, Autunno o Inverno) a cui appartiene una data, fornita tramite due input numerici: mese e giorno.\n",
    "\n",
    "```text\n",
    "- Ottieni il numero del mese\n",
    "- Ottieni il numero del giorno\n",
    "\n",
    "- Se il mese è 1, 2 o 3:\n",
    "    - stagione = \"Inverno\"\n",
    "- Altrimenti se il mese è 4, 5 o 6:\n",
    "    - stagione = \"Primavera\"\n",
    "- Altrimenti se il mese è 7, 8 o 9:\n",
    "    - stagione = \"Estate\"\n",
    "- Altrimenti se il mese è 10, 11 o 12:\n",
    "    - stagione = \"Autunno\"\n",
    "\n",
    "- Se il mese è divisibile per 3 e il giorno >= 21:\n",
    "    - Se la stagione è \"Inverno\":\n",
    "        - stagione = \"Primavera\"\n",
    "    - Altrimenti se la stagione è \"Primavera\":\n",
    "        - stagione = \"Estate\"\n",
    "    - Altrimenti se la stagione è \"Estate\":\n",
    "        - stagione = \"Autunno\"\n",
    "    - Altrimenti:\n",
    "        - stagione = \"Inverno\"\n",
    "```"
   ]
  },
  {
   "cell_type": "markdown",
   "metadata": {},
   "source": [
    "Implementa in Python questo algoritmo.\n",
    "\n",
    "Scrivere un programma che chieda all’utente un mese e un giorno in forma numerica e poi visualizzi la stagione determinata da questo algoritmo.\n",
    "\n",
    "Verifica la correttezza dell'output tramite dei test manuali con date fittizie."
   ]
  },
  {
   "cell_type": "code",
   "execution_count": 8,
   "metadata": {},
   "outputs": [
    {
     "name": "stdout",
     "output_type": "stream",
     "text": [
      "Quel giorno è nella stagione Inverno\n"
     ]
    }
   ],
   "source": [
    "# Leggi l'input dall'utente.\n",
    "mese = int(input('Inserisci il mese come numero intero: '))\n",
    "giorno = int(input('Inserisci il giorno come numero intero: '))\n",
    "\n",
    "# Determina la stagione.\n",
    "if 1 <= mese <= 3:  # oppure: month >= 1 and month <= 3\n",
    "    stagione = 'Inverno'\n",
    "elif 4 <= mese <= 6:\n",
    "    stagione = 'Primavera'\n",
    "elif 7 <= mese <= 9:\n",
    "    stagione = 'Estate'\n",
    "elif 10 <= mese <= 12:\n",
    "    stagione = 'Autunno'\n",
    "\n",
    "if mese % 3 == 0 and giorno >= 21:\n",
    "    if stagione == 'Inverno':\n",
    "        stagione = 'Primavera'\n",
    "    elif stagione == 'Primavera':\n",
    "        stagione = 'Estate'\n",
    "    elif stagione == 'Estate':\n",
    "        stagione = 'Autunno'\n",
    "    else:\n",
    "        stagione = 'Inverno'\n",
    "\n",
    "# Mostra il risultato.\n",
    "print(\"Quel giorno è nella stagione\", stagione)\n"
   ]
  }
 ],
 "metadata": {
  "kernelspec": {
   "display_name": ".venv",
   "language": "python",
   "name": "python3"
  },
  "language_info": {
   "codemirror_mode": {
    "name": "ipython",
    "version": 3
   },
   "file_extension": ".py",
   "mimetype": "text/x-python",
   "name": "python",
   "nbconvert_exporter": "python",
   "pygments_lexer": "ipython3",
   "version": "3.11.2"
  }
 },
 "nbformat": 4,
 "nbformat_minor": 2
}
