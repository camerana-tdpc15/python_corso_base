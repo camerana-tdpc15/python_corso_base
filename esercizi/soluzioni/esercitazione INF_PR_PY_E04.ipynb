{
 "cells": [
  {
   "cell_type": "code",
   "execution_count": 17,
   "metadata": {},
   "outputs": [
    {
     "name": "stdout",
     "output_type": "stream",
     "text": [
      "Inserisci 5 voti per la materia \"Matematica\":\n",
      "Il valore inserito è maggiore di 100!\n"
     ]
    },
    {
     "ename": "ValueError",
     "evalue": "invalid literal for int() with base 10: ''",
     "output_type": "error",
     "traceback": [
      "\u001b[1;31m---------------------------------------------------------------------------\u001b[0m",
      "\u001b[1;31mValueError\u001b[0m                                Traceback (most recent call last)",
      "Cell \u001b[1;32mIn[17], line 11\u001b[0m\n\u001b[0;32m      9\u001b[0m \u001b[38;5;28mprint\u001b[39m(\u001b[38;5;124m'\u001b[39m\u001b[38;5;124mInserisci 5 voti per la materia \u001b[39m\u001b[38;5;124m\"\u001b[39m\u001b[38;5;124mMatematica\u001b[39m\u001b[38;5;124m\"\u001b[39m\u001b[38;5;124m:\u001b[39m\u001b[38;5;124m'\u001b[39m)\n\u001b[0;32m     10\u001b[0m \u001b[38;5;28;01mfor\u001b[39;00m i \u001b[38;5;129;01min\u001b[39;00m \u001b[38;5;28mrange\u001b[39m(\u001b[38;5;241m5\u001b[39m):\n\u001b[1;32m---> 11\u001b[0m     voto \u001b[38;5;241m=\u001b[39m \u001b[38;5;28;43mint\u001b[39;49m\u001b[43m(\u001b[49m\u001b[38;5;28;43minput\u001b[39;49m\u001b[43m(\u001b[49m\u001b[38;5;124;43mf\u001b[39;49m\u001b[38;5;124;43m\"\u001b[39;49m\u001b[38;5;124;43mVoto \u001b[39;49m\u001b[38;5;132;43;01m{\u001b[39;49;00m\u001b[43mi\u001b[49m\u001b[38;5;241;43m+\u001b[39;49m\u001b[38;5;241;43m1\u001b[39;49m\u001b[38;5;132;43;01m}\u001b[39;49;00m\u001b[38;5;124;43m: \u001b[39;49m\u001b[38;5;124;43m\"\u001b[39;49m\u001b[43m)\u001b[49m\u001b[43m)\u001b[49m\n\u001b[0;32m     12\u001b[0m     \u001b[38;5;28;01mif\u001b[39;00m voto \u001b[38;5;241m>\u001b[39m \u001b[38;5;241m100\u001b[39m:\n\u001b[0;32m     13\u001b[0m         \u001b[38;5;28mprint\u001b[39m(\u001b[38;5;124m\"\u001b[39m\u001b[38;5;124mIl valore inserito è maggiore di 100!\u001b[39m\u001b[38;5;124m\"\u001b[39m)\n",
      "\u001b[1;31mValueError\u001b[0m: invalid literal for int() with base 10: ''"
     ]
    }
   ],
   "source": [
    "name = input(\"Inserisci nome e cognome dell'alunno: \")\n",
    "classe = input(\"Inserisci la classe dell'alunno: \")\n",
    "\n",
    "# Inizializzo le liste dei voti\n",
    "voti_matematica = []\n",
    "voti_italiano = []\n",
    "voti_inglese = []\n",
    "voti_storia = []\n",
    "print('Inserisci 5 voti per la materia \"Matematica\":')\n",
    "for i in range(5):\n",
    "    while True:\n",
    "        voto = int(input(f\"Voto {i+1}: \"))\n",
    "        if voto < 0 or voto > 100:\n",
    "            print(\"Il valore inserito non è valido! Inserisci un voto compreso tra 0 e 100.\")\n",
    "        else:\n",
    "            voti_matematica.append(voto)\n",
    "            break\n",
    "\n",
    "print('Inserisci 5 voti per la materia \"Italiano\":')\n",
    "for i in range(5):\n",
    "    while True:\n",
    "        voto = int(input(f\"Voto {i+1}: \"))\n",
    "        if voto < 0 or voto > 100:\n",
    "            print(\"Il valore inserito non è valido! Inserisci un voto compreso tra 0 e 100.\")\n",
    "        else:\n",
    "            voti_italiano.append(voto)\n",
    "            break\n",
    "\n",
    "print('Inserisci 5 voti per la materia \"Inglese\":')\n",
    "for i in range(5):\n",
    "    while True:\n",
    "        voto = int(input(f\"Voto {i+1}: \"))\n",
    "        if voto < 0 or voto > 100:\n",
    "            print(\"Il valore inserito non è valido! Inserisci un voto compreso tra 0 e 100.\")\n",
    "        else:\n",
    "            voti_inglese.append(voto)\n",
    "            break\n",
    "\n",
    "print('Inserisci 5 voti per la materia \"Storia\":')\n",
    "for i in range(5):\n",
    "    while True:\n",
    "        voto = int(input(f\"Voto {i+1}: \"))\n",
    "        if voto < 0 or voto > 100:\n",
    "            print(\"Il valore inserito non è valido! Inserisci un voto compreso tra 0 e 100.\")\n",
    "        else:\n",
    "            voti_storia.append(voto)\n",
    "            break\n",
    "    \n",
    "elenco_voti = (voti_matematica + voti_italiano + voti_inglese + voti_storia)\n",
    "\n",
    "print(\"Risultati per l'alunno\",name,\"della classe\",classe,\":\")\n",
    "somma_voti_matematica = sum(voti_matematica)\n",
    "media_matematica = somma_voti_matematica / len(voti_matematica)\n",
    "print('Media per matematica:', format(media_matematica, '.2f'))\n",
    "\n",
    "somma_voti_italiano = sum(voti_italiano)\n",
    "media_italiano = somma_voti_italiano / len(voti_italiano)\n",
    "print('Media per italiano:', format(media_italiano, '.2f'))\n",
    "\n",
    "somma_voti_inglese = sum(voti_inglese)\n",
    "media_inglese = somma_voti_inglese / len(voti_inglese)\n",
    "print('Media per inglese:', format(media_inglese, '.2f'))\n",
    "\n",
    "somma_voti_storia = sum(voti_storia)\n",
    "media_storia = somma_voti_storia / len(voti_storia)\n",
    "print('Media per storia:', format(media_storia, '.2f'))\n",
    "\n",
    "media_globale = ((media_matematica+media_italiano+media_inglese+media_storia)/5)\n",
    "print(\"Media globale dell'alunno:\", round(media_globale))\n",
    "\n",
    "voto_alto = max(elenco_voti)\n",
    "print(\"Il voto più alto dell'alunno:\", voto_alto)\n",
    "\n",
    "voto_minimo = min(elenco_voti)\n",
    "print(\"Il voto più basso dell'alunno:\", voto_minimo)"
   ]
  },
  {
   "cell_type": "code",
   "execution_count": 22,
   "metadata": {},
   "outputs": [
    {
     "name": "stdout",
     "output_type": "stream",
     "text": [
      "Inserisci 5 voti per la materia \"Matematica\":\n"
     ]
    },
    {
     "ename": "ValueError",
     "evalue": "invalid literal for int() with base 10: ''",
     "output_type": "error",
     "traceback": [
      "\u001b[1;31m---------------------------------------------------------------------------\u001b[0m",
      "\u001b[1;31mValueError\u001b[0m                                Traceback (most recent call last)",
      "Cell \u001b[1;32mIn[22], line 6\u001b[0m\n\u001b[0;32m      4\u001b[0m \u001b[38;5;28;01mfor\u001b[39;00m i \u001b[38;5;129;01min\u001b[39;00m \u001b[38;5;28mrange\u001b[39m(\u001b[38;5;241m5\u001b[39m):\n\u001b[0;32m      5\u001b[0m     \u001b[38;5;28;01mwhile\u001b[39;00m \u001b[38;5;28;01mTrue\u001b[39;00m:\n\u001b[1;32m----> 6\u001b[0m         voto \u001b[38;5;241m=\u001b[39m \u001b[38;5;28;43mint\u001b[39;49m\u001b[43m(\u001b[49m\u001b[38;5;28;43minput\u001b[39;49m\u001b[43m(\u001b[49m\u001b[38;5;124;43mf\u001b[39;49m\u001b[38;5;124;43m\"\u001b[39;49m\u001b[38;5;124;43mVoto \u001b[39;49m\u001b[38;5;132;43;01m{\u001b[39;49;00m\u001b[43mi\u001b[49m\u001b[38;5;241;43m+\u001b[39;49m\u001b[38;5;241;43m1\u001b[39;49m\u001b[38;5;132;43;01m}\u001b[39;49;00m\u001b[38;5;124;43m: \u001b[39;49m\u001b[38;5;124;43m\"\u001b[39;49m\u001b[43m)\u001b[49m\u001b[43m)\u001b[49m\n\u001b[0;32m      7\u001b[0m         \u001b[38;5;28;01mif\u001b[39;00m voto \u001b[38;5;241m<\u001b[39m \u001b[38;5;241m0\u001b[39m \u001b[38;5;129;01mor\u001b[39;00m voto \u001b[38;5;241m>\u001b[39m \u001b[38;5;241m100\u001b[39m:\n\u001b[0;32m      8\u001b[0m             \u001b[38;5;28mprint\u001b[39m(\u001b[38;5;124m\"\u001b[39m\u001b[38;5;124mIl valore inserito non è valido! Inserisci un voto compreso tra 0 e 100.\u001b[39m\u001b[38;5;124m\"\u001b[39m)\n",
      "\u001b[1;31mValueError\u001b[0m: invalid literal for int() with base 10: ''"
     ]
    }
   ],
   "source": [
    "voti_matematica = []\n",
    "\n",
    "print('Inserisci 5 voti per la materia \"Matematica\":')\n",
    "for i in range(5):\n",
    "    while True:\n",
    "        voto = int(input(f\"Voto {i+1}: \"))\n",
    "        if voto < 0 or voto > 100:\n",
    "            print(\"Il valore inserito non è valido! Inserisci un voto compreso tra 0 e 100.\")\n",
    "        else:\n",
    "            voti_matematica.append(voto)\n",
    "            break\n"
   ]
  }
 ],
 "metadata": {
  "kernelspec": {
   "display_name": "Python 3",
   "language": "python",
   "name": "python3"
  },
  "language_info": {
   "codemirror_mode": {
    "name": "ipython",
    "version": 3
   },
   "file_extension": ".py",
   "mimetype": "text/x-python",
   "name": "python",
   "nbconvert_exporter": "python",
   "pygments_lexer": "ipython3",
   "version": "3.10.0"
  }
 },
 "nbformat": 4,
 "nbformat_minor": 2
}
