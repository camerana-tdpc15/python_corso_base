{
 "cells": [
  {
   "attachments": {},
   "cell_type": "markdown",
   "metadata": {},
   "source": [
    "### Esercizio - Convertitori di grandezze\n",
    "\n",
    "Convertire la temperatura da Fahrenheit a Celsius nella funzione sottostante. È possibile utilizzare questa formula:\n",
    "\n",
    "Arrotondare il risultato restituito a 3 cifre decimali.\n",
    "\n",
    "Non è necessario gestire l'input, basta implementare la funzione sottostante.\n",
    "\n",
    "Inoltre, assicurarsi che la funzione restituisca il valore. NON stampare nulla.\n",
    "\n",
    "$$ C° = (F° - 32)  \\times  \\frac{5}{9} $$"
   ]
  },
  {
   "cell_type": "code",
   "execution_count": 7,
   "metadata": {},
   "outputs": [],
   "source": [
    "def fahrenheit_to_celsius(f):\n",
    "    return round((f - 32) * (5 / 9), 3)"
   ]
  },
  {
   "attachments": {},
   "cell_type": "markdown",
   "metadata": {},
   "source": [
    "Passiamo al livello successivo della conversione di miglia in chilometri! Definite una funzione che accetti il numero di miglia e restituisca la distanza in chilometri.\n",
    "\n",
    "Supponiamo che un miglio sia approssimativamente uguale a 1,609 chilometri.\n",
    "\n",
    "Non è necessario gestire l'input, basta implementare la funzione."
   ]
  },
  {
   "cell_type": "code",
   "execution_count": 10,
   "metadata": {},
   "outputs": [],
   "source": [
    "KM_PER_MILE = 1.609\n",
    "\n",
    "def mi_to_km(mi):\n",
    "    return mi * KM_PER_MILE"
   ]
  },
  {
   "cell_type": "code",
   "execution_count": 1,
   "metadata": {},
   "outputs": [
    {
     "name": "stdout",
     "output_type": "stream",
     "text": [
      "Inserire un numero: \n"
     ]
    }
   ],
   "source": [
    "print(\"Inserire un numero: \")\n",
    "user_num = input()\n",
    "# l'utente inserisce 10\n",
    "print(user_num + user_num)"
   ]
  },
  {
   "cell_type": "code",
   "execution_count": 11,
   "metadata": {},
   "outputs": [
    {
     "name": "stdout",
     "output_type": "stream",
     "text": [
      "True\n"
     ]
    }
   ],
   "source": [
    "#print(type(print))\n",
    "x=0\n",
    "print(True) if x >= 0 else print(False)"
   ]
  },
  {
   "attachments": {},
   "cell_type": "markdown",
   "metadata": {},
   "source": [
    "Proviamo ad aggiungere anche i *type hints*"
   ]
  },
  {
   "cell_type": "code",
   "execution_count": null,
   "metadata": {},
   "outputs": [],
   "source": [
    "KM_PER_MILE = 1.609\n",
    "\n",
    "def mi_to_km(mi: int) -> float:\n",
    "    \"\"\"\n",
    "    Converts miles to kilometers\n",
    "    :param mi: number of miles\n",
    "    :type mi: int\n",
    "    :rtype: float\n",
    "    \"\"\"\n",
    "    return mi * KM_PER_MILE"
   ]
  }
 ],
 "metadata": {
  "kernelspec": {
   "display_name": ".venv",
   "language": "python",
   "name": "python3"
  },
  "language_info": {
   "codemirror_mode": {
    "name": "ipython",
    "version": 3
   },
   "file_extension": ".py",
   "mimetype": "text/x-python",
   "name": "python",
   "nbconvert_exporter": "python",
   "pygments_lexer": "ipython3",
   "version": "3.10.0"
  },
  "orig_nbformat": 4
 },
 "nbformat": 4,
 "nbformat_minor": 2
}
