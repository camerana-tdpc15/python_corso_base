{
 "cells": [
  {
   "cell_type": "markdown",
   "metadata": {},
   "source": [
    "# Esercizi introduttivi"
   ]
  },
  {
   "cell_type": "markdown",
   "metadata": {},
   "source": [
    "TEMI TRATTATI:\n",
    "\n",
    "- Elaborazioni e confronti tra variabili con valori di tipo `int`, `float` e `str`.\n",
    "- Espressioni booleane.\n",
    "- Scelte logiche."
   ]
  },
  {
   "cell_type": "markdown",
   "metadata": {},
   "source": [
    "NOTE SULLO SVOLGIMENTO:\n",
    "- Puoi svolgere ed eseguire gli esercizi direttamente qua su questo notebook oppure su un normale file di script Python con estensione `.py`, eseguendolo nel terminale del sistema operativo con il comando `py mio_esercizio.py` (Windows) oppure `python3 mio_esercizio.py` (Linux o macOS)."
   ]
  },
  {
   "cell_type": "markdown",
   "metadata": {},
   "source": [
    "## Esercizio 1: Vero o Falso\n",
    "\n",
    "Per ciascuna delle seguenti coppie di valori, eseguire un test di uguaglianza, assegnare il risultato ad una variabile, e visualizzarlo. Provare a prevedere quale sarà il risultato di ciascuna verifica.\n",
    "\n",
    "```text\n",
    "1, 1\n",
    "\n",
    "1, 1.0\n",
    "\n",
    "2.0, sqrt(4)\n",
    "\n",
    "'1', 1\n",
    "\n",
    "'ciao', 'Ciao'.\n",
    "```"
   ]
  },
  {
   "cell_type": "markdown",
   "metadata": {},
   "source": [
    "ESEMPIO:\n",
    "\n",
    "```python\n",
    "esempio = 'pippo' == 'pippo'\n",
    "print(esempio)\n",
    "# True\n",
    "```"
   ]
  },
  {
   "cell_type": "code",
   "execution_count": 1,
   "metadata": {},
   "outputs": [
    {
     "name": "stdout",
     "output_type": "stream",
     "text": [
      "1 == 1? True\n",
      "1 == 1.0? True\n",
      "2.0 == sqrt(4.0)? True\n",
      "'1' == 1? False\n",
      "'ciao' == 'Ciao'? False\n"
     ]
    }
   ],
   "source": [
    "from math import sqrt\n",
    "\n",
    "# Confronto I\n",
    "if 1 == 1:\n",
    "    print(\"1 == 1? True\")\n",
    "else:\n",
    "    print(\"1 == 1? False\")\n",
    "\n",
    "# Confronto II\n",
    "if 1 == 1.0:\n",
    "    print(\"1 == 1.0? True\")\n",
    "else:\n",
    "    print(\"1 == 1.0? False\")\n",
    "\n",
    "# Confronto III\n",
    "if 2.0 == sqrt(4.0):\n",
    "    print(\"2.0 == sqrt(4.0)? True\")\n",
    "else:\n",
    "    print(\"2.0 == sqrt(4.0)? False\")\n",
    "\n",
    "# Confronto IV\n",
    "if '1' == 1:\n",
    "    print(\"'1' == 1? True\")\n",
    "else:\n",
    "    print(\"'1' == 1? False\")\n",
    "\n",
    "# Confronto V\n",
    "if 'ciao' == 'Ciao':\n",
    "    print(\"'ciao' == 'Ciao'? True\")\n",
    "else:\n",
    "    print(\"'ciao' == 'Ciao'? False\")"
   ]
  },
  {
   "cell_type": "markdown",
   "metadata": {},
   "source": [
    "## Esercizio 2: Identikit della stringa\n",
    "\n",
    "Scrivere un programma che legga una stringa e visualizzi dei messaggi appropriati, dopo aver verificato se:\n",
    "\n",
    "- contiene soltanto lettere;\n",
    "- contiene soltanto lettere maiuscole;\n",
    "- contiene soltanto lettere minuscole;\n",
    "- contiene soltanto numeri;\n",
    "- contiene soltanto lettere e cifre;\n",
    "- inizia con una lettera maiuscola;\n",
    "- termina con un punto."
   ]
  },
  {
   "cell_type": "code",
   "execution_count": null,
   "metadata": {},
   "outputs": [],
   "source": [
    "# Legge l'input dall'utente\n",
    "message = input('Inserisci un messaggio: ')\n",
    "print('Hai inserito:', message)\n",
    "\n",
    "# Controlla ogni proprietà e mostra un messaggio se quella proprietà è presente.\n",
    "\n",
    "if message.isalpha():\n",
    "    print('La stringa contiene solo lettere.')\n",
    "\n",
    "elif message.isdigit():\n",
    "    print('La stringa contiene solo numeri.')\n",
    "\n",
    "if message.isalpha() and message.isupper():  # v. NOTA\n",
    "    print('Tutti i caratteri nella stringa sono lettere maiuscole.')\n",
    "\n",
    "elif message.isalpha() and message.islower():  # v. NOTA\n",
    "    print('Tutti i caratteri nella stringa sono lettere minuscole.')\n",
    "\n",
    "# Attenzione: quelle che seguono sono solo una serie di 'if' (e non 'elif')\n",
    "# perché non sono in esclusione tra loro o rispetto alle possibilità precedenti.\n",
    "\n",
    "if message.isalnum():\n",
    "    print ('La stringa contiene solo lettere e numeri.')\n",
    "\n",
    "if message[0].isupper():\n",
    "    print('La stringa inizia con una lettera maiuscola.')\n",
    "\n",
    "if message.endswith(\".\"):\n",
    "    print('La stringa termina con un punto.')"
   ]
  },
  {
   "cell_type": "markdown",
   "metadata": {},
   "source": [
    "**NOTA:** attenzione alle funzioni `isupper` / `islower`\n",
    "\n",
    "La documentazione dice:\n",
    "> Return `True` if all cased characters in the string are uppercase and there is at least one cased character, `False` otherwise\"\n",
    "\n",
    "Quindi verifica \"all CASED characters\", quindi restituisce `True` se tutte le lettere sono maiuscole. I caratteri che non sono lettere (es. punteggiatura e spazi) non vengono controllati. Per questo bisogna verificare anche `str.isalpha()`, per escludere dal nostro criterio dei caratteri che non siano alfabetici.\n",
    "\n",
    "La differenza è tra:\n",
    "  - tutte le lettere presenti sono maiuscole, ma ci possono essere altri caratteri non alfabetici &rarr; `str.isupper()`\n",
    "  - la stringa è composta solo da lettere maiuscole &rarr; `str.isalpha() and str.isupper()`"
   ]
  },
  {
   "cell_type": "markdown",
   "metadata": {},
   "source": [
    "## Esercizio 3: Tracce genetiche\n",
    "\n",
    "Le sequenze di DNA sono come lunghe stringhe composte da solo quattro lettere: `'A'`, `'C'`, `'T'` e `'G'`. Scrivere un programma che prenda in input una \"sequenza lunga\" di DNA di venti caratteri e una \"sequenza breve\" di tre caratteri e visualizzi le seguenti informazioni:\n",
    "\n",
    "1. Se la \"sequenza breve\" è presente all'interno della \"sequenza lunga\".\n",
    "2. Se presente, a partire da quale posizione (indice) della \"sequenza lunga\" è presente la \"sequenza breve\".\n",
    "3. Se presente, quante volte la \"sequenza breve\" è contenuta nella \"sequenza lunga\"."
   ]
  },
  {
   "cell_type": "code",
   "execution_count": 16,
   "metadata": {},
   "outputs": [
    {
     "name": "stdout",
     "output_type": "stream",
     "text": [
      "La sequenza lunga è ATCGTAGAAAAA\n",
      "La sequenza breve AAA è presente 1 volte a partire dalla posizione 7\n"
     ]
    }
   ],
   "source": [
    "seq_lunga = input('Inserisci una sequenza \"lunga\" di DNA usando i caratteri A C T G: ')\n",
    "# Converte in maiuscolo per ridurre la complessità che richiederebbero i confronti\n",
    "# tra lettere maiuscole e minuscole.\n",
    "seq_lunga = seq_lunga.upper()\n",
    "\n",
    "# Bisognerebbe verificare che la sequenza lunga contenga UNICAMENTE le 4 \n",
    "# lettere A C T G. Non lo sappiamo ancora fare perché servono i cicli;\n",
    "# quindi per ora ci limitiamo a verificare che la sequenza sia lunga 3 caratteri.\n",
    "\n",
    "seq_breve = input('Inserisci una sequenza \"breve\" di DNA di 3 lettere: ')\n",
    "seq_breve = seq_breve.upper()\n",
    "\n",
    "print('La sequenza lunga è', seq_lunga)\n",
    "\n",
    "# Ottiene la lunghezza della sequenza breve\n",
    "len_seq_breve = len(seq_breve)\n",
    "if len_seq_breve != 3:\n",
    "    print('Errore: la sequenza breve deve avere esattamente 3 lettere, tu hai '\n",
    "          'inserito ' + seq_breve + ' che ha ' + str(len_seq_breve) + ' lettere')\n",
    "    exit()\n",
    "\n",
    "# Verifica se la sequenza breve è compresa in quella lunga\n",
    "posizione = seq_lunga.find(seq_breve)\n",
    "\n",
    "if posizione == -1:\n",
    "    print('La sequenza breve non è presente')\n",
    "else:\n",
    "    # Conta quante volte è contenuta la sequenza (ovviamente ha senso farlo solo se è presente)\n",
    "    quante = seq_lunga.count(seq_breve)\n",
    "\n",
    "    print(f'La sequenza breve {seq_breve} è presente {quante} volte a partire '\n",
    "          f'dalla posizione {posizione}')\n"
   ]
  },
  {
   "cell_type": "markdown",
   "metadata": {},
   "source": [
    "## Esercizio 4: Questione di logica\n",
    "\n",
    "Scrivere un programma che prenda in input un numero intero `x` e visualizzi a schermo le seguenti espressioni, accompagnate dai valori di verità risultanti dalla loro valutazione.\n",
    "\n",
    "- `0 and x < 100`\n",
    "- `0 or x < 100`\n",
    "- `0 or 100 < x`\n",
    "- `0 and x < 100 or x == -1`\n",
    "\n",
    "Testare il programma con numerosi valori di x."
   ]
  },
  {
   "cell_type": "markdown",
   "metadata": {},
   "source": [
    "ESEMPIO:\n",
    "\n",
    "Se `x = 200`\n",
    "\n",
    "Output atteso:\n",
    "\n",
    "```text\n",
    "200 > 0 and 200 < 100 : False\n",
    "200 > 0 or 200 < 100 : True\n",
    "200 > 0 or 100 < 200 : True\n",
    "200 > 0 and 200 < 100 or 200 == -1 : False\n",
    "\n",
    "```"
   ]
  },
  {
   "cell_type": "code",
   "execution_count": 20,
   "metadata": {},
   "outputs": [
    {
     "name": "stdout",
     "output_type": "stream",
     "text": [
      "250 > 0 and 250 < 100 : False\n",
      "250 > 0 or 250 < 100 : True\n",
      "250 > 0 or 100 < 250 : True\n",
      "250 > 0 and 250 < 100 or 250 == -1 : False\n"
     ]
    }
   ],
   "source": [
    "x = int(input(\"Inserisci un numero intero: \"))\n",
    "\n",
    "print(f'{x} > 0 and {x} < 100 :',              x > 0 and x < 100            )\n",
    "print(f'{x} > 0 or {x} < 100 :',               x > 0 or x < 100             )\n",
    "print(f'{x} > 0 or 100 < {x} :',               x > 0 or 100 < x             )\n",
    "print(f'{x} > 0 and {x} < 100 or {x} == -1 :', x > 0 and x < 100 or x == -1 )"
   ]
  },
  {
   "cell_type": "markdown",
   "metadata": {},
   "source": [
    "## Esercizio 5: De Morgan (+)\n",
    "\n",
    "La legge di De Morgan permette di semplificare l'applicazione dell'operatore `not` ad espressioni che contengono operatori `and` e/o `or`. In particolare, questa legge ha due forme, una per la negazione di espressioni in `and`, e una per la negazione di espressioni in `or`:\n",
    "\n",
    "|               | equivale a\n",
    "--------------- | ------------------|\n",
    "`not (A and B)` | `not A or not B`  |\n",
    "`not (A or B)`  | `not A and not B` |\n",
    "\n",
    "Considerare le espressioni seguenti, e per ciascuna di esse applicare la legge di De Morgan. Provare a descrivere \"a parole\" il significato algebrico intuitivo di ciascuna espressione.\n",
    "\n",
    "Scrivere poi un programma che prenda in input un numero intero `x` e, per ciascuna delle seguenti espressioni (che corrispondono alla negazione delle espressioni dell'Esercizio 4), stampi:\n",
    "\n",
    "1. L'espressione di partenza.\n",
    "2. L'espressione una volta applicata la legge di De Morgan e il valore di verità risultante dalla sua valutazione.\n",
    "\n",
    "- `not(x > 0 and x < 100)`\n",
    "- `not(x > 0 or x < 100)`\n",
    "- `not(x > 0 or 100 < x)`\n",
    "- `not(x > 0 and x < 100 or x == -1)`"
   ]
  },
  {
   "cell_type": "markdown",
   "metadata": {},
   "source": [
    "ESEMPIO:\n",
    "\n",
    "Se `x = 200`\n",
    "\n",
    "Output atteso:\n",
    "\n",
    "```text\n",
    "Originale:\n",
    "200 > 0 and 200 < 100 : False\n",
    "\n",
    "Negato:\n",
    "# not (200 > 0) and not (200 < 100) : True\n",
    "200 <= 0 or 200 >= 100 : True\n",
    "...\n",
    "```"
   ]
  },
  {
   "cell_type": "code",
   "execution_count": null,
   "metadata": {},
   "outputs": [],
   "source": [
    "x = int(input('Inserisci un numero intero: '))\n",
    "print()\n",
    "\n",
    "# I\n",
    "expr1 = not (x > 0 and x < 100)\n",
    "expr2 = x <= 0 or x >= 100\n",
    "print(f'not ({x} > 0 and {x} < 100) :', expr1)\n",
    "print(f'{x} <= 0 or {x} >= 100 :', expr2)\n",
    "print()\n",
    "\n",
    "# II\n",
    "expr1 = not (x > 0 or x < 100)\n",
    "expr2 = x <= 0 and x >= 100\n",
    "print(f'not ({x} > 0 or {x} < 100) :', expr1)\n",
    "print(f'{x} <= 0 and {x} >= 100 :', expr2)\n",
    "print()\n",
    "\n",
    "# III\n",
    "expr1 = not (x > 0 or 100 < x)\n",
    "expr2 = x <= 0 and 100 >= x\n",
    "print(f'not ({x} > 0 or 100 < {x}) :', expr1)\n",
    "print(f'{x} <= 0 and 100 >= {x} :', expr2)\n",
    "print()\n",
    "\n",
    "# IV\n",
    "expr1 = not (x > 0 and x < 100 or x == -1)\n",
    "    # Applicando De Morgan mi servono 2 passaggi, prima lo applico al 'or'\n",
    "    # not(x > 0 and x < 100) and x != -1\n",
    "    # e adesso lo applico al 'and' nella parentesi\n",
    "    # (x <=0 or x >=100) and x != -1\n",
    "    # attenzione, non posso togliere la parentesi, perché 'and' ha precedenza maggiore di 'or'\n",
    "expr2 = (x <= 0 or x >= 100) and x != -1\n",
    "print(f'not ({x} > 0 and {x} < 100 or {x} == -1) :', expr1)\n",
    "print(f'({x} <= 0 or {x} >= 100) and {x} != -1 :', expr2)\n"
   ]
  }
 ],
 "metadata": {
  "kernelspec": {
   "display_name": ".venv",
   "language": "python",
   "name": "python3"
  },
  "language_info": {
   "codemirror_mode": {
    "name": "ipython",
    "version": 3
   },
   "file_extension": ".py",
   "mimetype": "text/x-python",
   "name": "python",
   "nbconvert_exporter": "python",
   "pygments_lexer": "ipython3",
   "version": "3.11.2"
  }
 },
 "nbformat": 4,
 "nbformat_minor": 2
}
