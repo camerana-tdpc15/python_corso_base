{
 "cells": [
  {
   "cell_type": "markdown",
   "metadata": {},
   "source": [
    "# Esercitazione: Modulo `lxml` con file XML e HTML\n",
    "\n",
    "Utilizza il modulo Python `lxml` per leggere ed estrarre dati da file XML e HTML.\n",
    "\n",
    "L'obiettivo è estrarre informazioni dai tag, dagli attributi e dai testi all'interno dei tag."
   ]
  },
  {
   "cell_type": "markdown",
   "metadata": {},
   "source": [
    "## File da analizzare\n",
    "\n",
    "#### File XML: `libri.xml`\n",
    "\n",
    "```xml\n",
    "<library>\n",
    "    <book id=\"1\">\n",
    "        <title>Python Programming</title>\n",
    "        <author>John Doe</author>\n",
    "        <year>2020</year>\n",
    "    </book>\n",
    "    <book id=\"2\">\n",
    "        <title>Learning XML</title>\n",
    "        <author>Jane Smith</author>\n",
    "        <year>2018</year>\n",
    "    </book>\n",
    "</library>\n",
    "```\n",
    "\n",
    "#### File HTML: `libri.html`\n",
    "\n",
    "```html\n",
    "<!DOCTYPE html>\n",
    "<html>\n",
    "<head>\n",
    "    <title>Library</title>\n",
    "</head>\n",
    "<body>\n",
    "    <div class=\"book\" id=\"1\">\n",
    "        <h2>Python Programming</h2>\n",
    "        <p>Author: John Doe</p>\n",
    "        <p>Year: 2020</p>\n",
    "    </div>\n",
    "    <div class=\"book\" id=\"2\">\n",
    "        <h2>Learning XML</h2>\n",
    "        <p>Author: Jane Smith</p>\n",
    "        <p>Year: 2018</p>\n",
    "    </div>\n",
    "</body>\n",
    "</html>\n",
    "```"
   ]
  },
  {
   "cell_type": "markdown",
   "metadata": {},
   "source": [
    "### Prerequisiti\n",
    "\n",
    "**Installazione del modulo `lxml`**:\n",
    "   - Utilizza `pip` per installare il modulo `lxml` se non è già presente nell'ambiente."
   ]
  },
  {
   "cell_type": "markdown",
   "metadata": {},
   "source": [
    "### Consegna - Parte 1: XML\n",
    "\n",
    "Scrivi un programma Python che utilizza `lxml` per leggere il file `libri.xml`.\n",
    "\n",
    "**Accesso ai tag e agli attributi nel file XML**:\n",
    "   1. Trova tutti gli elementi `<book>` all'interno del file XML.\n",
    "   2. Per ogni elemento `<book>`, estrai:\n",
    "      - l'attributo `id`;\n",
    "      - il contenuto (testo) dei tag `<title>`, `<author>` e `<year>`.\n",
    "   3. Stampa le informazioni estratte in un formato leggibile."
   ]
  },
  {
   "cell_type": "markdown",
   "metadata": {},
   "source": [
    "#### Con `.find()`"
   ]
  },
  {
   "cell_type": "code",
   "execution_count": 13,
   "metadata": {},
   "outputs": [
    {
     "name": "stdout",
     "output_type": "stream",
     "text": [
      "Book ID: 1\n",
      "Title: Python Programming\n",
      "Author: John Doe\n",
      "Year: 2020\n",
      "-------------------\n",
      "Book ID: 2\n",
      "Title: Learning XML\n",
      "Author: Jane Smith\n",
      "Year: 2018\n",
      "-------------------\n"
     ]
    }
   ],
   "source": [
    "from lxml import etree\n",
    "\n",
    "# Caricamento del file XML\n",
    "tree = etree.parse('../../files_esercizi/libri.xml')\n",
    "root = tree.getroot()\n",
    "\n",
    "for book in root:\n",
    "    book_id = book.get('id')\n",
    "\n",
    "    title = book.find('title').text\n",
    "    author = book.find('author').text\n",
    "    year = book.find('year').text\n",
    "\n",
    "    print(f\"Book ID: {book_id}\")\n",
    "    print(f\"Title: {title}\")\n",
    "    print(f\"Author: {author}\")\n",
    "    print(f\"Year: {year}\")\n",
    "    print(\"-------------------\")"
   ]
  },
  {
   "cell_type": "markdown",
   "metadata": {},
   "source": [
    "#### Con `.xpath()`"
   ]
  },
  {
   "cell_type": "code",
   "execution_count": 8,
   "metadata": {},
   "outputs": [
    {
     "name": "stdout",
     "output_type": "stream",
     "text": [
      "Book ID: 1\n",
      "Title: Python Programming\n",
      "Author: John Doe\n",
      "Year: 2020\n",
      "-------------------\n",
      "Book ID: 2\n",
      "Title: Learning XML\n",
      "Author: Jane Smith\n",
      "Year: 2018\n",
      "-------------------\n"
     ]
    }
   ],
   "source": [
    "from lxml import etree\n",
    "\n",
    "# Caricamento del file XML\n",
    "tree = etree.parse('../../files_esercizi/libri.xml')\n",
    "root = tree.getroot()\n",
    "\n",
    "# Ottenimento di tutti i tag book\n",
    "books = root.findall('book')\n",
    "\n",
    "for book in books:\n",
    "    book_id = book.get('id')\n",
    "\n",
    "    title = book.xpath('title/text()')[0]\n",
    "    author = book.xpath('author/text()')[0]\n",
    "    year = book.xpath('year/text()')[0]\n",
    "    \n",
    "    print(f\"Book ID: {book_id}\")\n",
    "    print(f\"Title: {title}\")\n",
    "    print(f\"Author: {author}\")\n",
    "    print(f\"Year: {year}\")\n",
    "    print(\"-------------------\")"
   ]
  },
  {
   "cell_type": "markdown",
   "metadata": {},
   "source": [
    "#### Con controllo del nome del tag"
   ]
  },
  {
   "cell_type": "code",
   "execution_count": 15,
   "metadata": {},
   "outputs": [
    {
     "name": "stdout",
     "output_type": "stream",
     "text": [
      "Book ID: 1\n",
      "Title: Python Programming\n",
      "Author: John Doe\n",
      "Year: 2020\n",
      "-------------------\n",
      "Book ID: 2\n",
      "Title: Learning XML\n",
      "Author: Jane Smith\n",
      "Year: 2018\n",
      "-------------------\n"
     ]
    }
   ],
   "source": [
    "from lxml import etree\n",
    "\n",
    "# Caricamento del file XML\n",
    "tree = etree.parse('../../files_esercizi/libri.xml')\n",
    "root = tree.getroot()\n",
    "\n",
    "for book in root:\n",
    "    book_id = book.get('id')\n",
    "\n",
    "    title = None\n",
    "    author = None\n",
    "    year = None\n",
    "    \n",
    "    # Iterazione sui figli del tag <book>\n",
    "    for element in book:\n",
    "        if element.tag == 'title':\n",
    "            title = element.text\n",
    "        elif element.tag == 'author':\n",
    "            author = element.text\n",
    "        elif element.tag == 'year':\n",
    "            year = element.text\n",
    "    \n",
    "    print(f\"Book ID: {book_id}\")\n",
    "    print(f\"Title: {title}\")\n",
    "    print(f\"Author: {author}\")\n",
    "    print(f\"Year: {year}\")\n",
    "    print(\"-------------------\")"
   ]
  },
  {
   "cell_type": "markdown",
   "metadata": {},
   "source": [
    "Dato che in questo caso l'etichetta stampata è uguale al nome del tag, possiamo anche scrivere in questo modo più compatto:"
   ]
  },
  {
   "cell_type": "code",
   "execution_count": 17,
   "metadata": {},
   "outputs": [
    {
     "name": "stdout",
     "output_type": "stream",
     "text": [
      "Book ID: 1\n",
      "Title: Python Programming\n",
      "Author: John Doe\n",
      "Year: 2020\n",
      "-------------------\n",
      "Book ID: 2\n",
      "Title: Learning XML\n",
      "Author: Jane Smith\n",
      "Year: 2018\n",
      "-------------------\n"
     ]
    }
   ],
   "source": [
    "from lxml import etree\n",
    "\n",
    "# Caricamento del file XML\n",
    "tree = etree.parse('../../files_esercizi/libri.xml')\n",
    "root = tree.getroot()\n",
    "\n",
    "for book in root:\n",
    "    book_id = book.get('id')\n",
    "    print(f\"Book ID: {book_id}\")\n",
    "\n",
    "    title = None\n",
    "    author = None\n",
    "    year = None\n",
    "    \n",
    "    # Iterazione sui figli del tag <book>\n",
    "    for element in book:    \n",
    "        print(f\"{element.tag.title()}: {element.text}\")\n",
    "    print(\"-------------------\")"
   ]
  },
  {
   "cell_type": "markdown",
   "metadata": {},
   "source": [
    "### Consegna - Parte 2: HTML\n",
    "\n",
    "Scrivi un programma Python che utilizza `lxml` per caricare il file `libri.html`.\n",
    "\n",
    "**Accesso ai tag e agli attributi nel file HTML**:\n",
    "   1. Trova tutti i tag `<div>` con classe `book` all'interno del file HTML.\n",
    "   2. Per ogni tag `<div>`, estrai:\n",
    "      - l'attributo `id`;\n",
    "      - il contenuto dei tag `<h2>`;\n",
    "      - `<p>` che contengono \"Author\";\n",
    "      - `<p>` che contengono \"Year\".\n",
    "   3. Stampa le informazioni estratte in un formato leggibile."
   ]
  },
  {
   "cell_type": "code",
   "execution_count": 1,
   "metadata": {},
   "outputs": [
    {
     "name": "stdout",
     "output_type": "stream",
     "text": [
      "Book ID: 1\n",
      "Title: Python Programming\n",
      "Author: John Doe\n",
      "Year: 2020\n",
      "-------------------\n",
      "Book ID: 2\n",
      "Title: Learning XML\n",
      "Author: Jane Smith\n",
      "Year: 2018\n",
      "-------------------\n"
     ]
    }
   ],
   "source": [
    "from lxml import html\n",
    "\n",
    "# Caricamento del file HTML\n",
    "tree = html.parse('../../files_esercizi/libri.html')\n",
    "root = tree.getroot()\n",
    "\n",
    "# Accesso ai div con classe \"book\"\n",
    "books = root.findall('.//div[@class=\"book\"]')\n",
    "\n",
    "for book in books:\n",
    "    book_id = book.get('id')\n",
    "    title = book.find('h2').text\n",
    "    \n",
    "    author_elem = book.xpath('.//p[contains(text(), \"Author\")]')[0]\n",
    "    year_elem = book.xpath('.//p[contains(text(), \"Year\")]')[0]\n",
    "    \n",
    "    author = author_elem.text.split(': ')[1]\n",
    "    year = year_elem.text.split(': ')[1]\n",
    "    \n",
    "    print(f\"Book ID: {book_id}\")\n",
    "    print(f\"Title: {title}\")\n",
    "    print(f\"Author: {author}\")\n",
    "    print(f\"Year: {year}\")\n",
    "    print(\"-------------------\")"
   ]
  },
  {
   "cell_type": "code",
   "execution_count": 23,
   "metadata": {},
   "outputs": [
    {
     "name": "stdout",
     "output_type": "stream",
     "text": [
      "Book ID: 1\n",
      "Title: Python Programming\n",
      "Author: John Doe\n",
      "Year: 2020\n",
      "-------------------\n",
      "Book ID: 2\n",
      "Title: Learning XML\n",
      "Author: Jane Smith\n",
      "Year: 2018\n",
      "-------------------\n"
     ]
    }
   ],
   "source": [
    "from lxml import html\n",
    "\n",
    "# Caricamento del file HTML\n",
    "tree = html.parse('../../files_esercizi/libri.html')\n",
    "root = tree.getroot()\n",
    "\n",
    "# Accesso ai div con classe \"book\"\n",
    "books = root.findall('.//div[@class=\"book\"]')\n",
    "\n",
    "for book in books:\n",
    "    book_id = book.get('id')\n",
    "    title = book.find('h2').text\n",
    "    \n",
    "    # Trova tutti i tag <p> nel div corrente\n",
    "    paragraphs = book.findall('p')\n",
    "    \n",
    "    # Inizializza le variabili per autore e anno\n",
    "    author = ''\n",
    "    year = ''\n",
    "    \n",
    "    # Cerca il paragrafo contenente \"Author\" e \"Year\"\n",
    "    for p in paragraphs:\n",
    "        if p.text.startswith('Author'):\n",
    "            author = p.text.split(': ')[1]\n",
    "        elif p.text.startswith('Year'):\n",
    "            year = p.text.split(': ')[1]\n",
    "    \n",
    "    print(f\"Book ID: {book_id}\")\n",
    "    print(f\"Title: {title}\")\n",
    "    print(f\"Author: {author}\")\n",
    "    print(f\"Year: {year}\")\n",
    "    print(\"-------------------\")\n"
   ]
  }
 ],
 "metadata": {
  "kernelspec": {
   "display_name": ".venv",
   "language": "python",
   "name": "python3"
  },
  "language_info": {
   "codemirror_mode": {
    "name": "ipython",
    "version": 3
   },
   "file_extension": ".py",
   "mimetype": "text/x-python",
   "name": "python",
   "nbconvert_exporter": "python",
   "pygments_lexer": "ipython3",
   "version": "3.11.2"
  }
 },
 "nbformat": 4,
 "nbformat_minor": 2
}
