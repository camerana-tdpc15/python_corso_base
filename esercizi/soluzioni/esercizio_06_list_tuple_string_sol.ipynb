{
 "cells": [
  {
   "attachments": {},
   "cell_type": "markdown",
   "metadata": {},
   "source": [
    "## Esercizio - cannocchiale\n",
    "\n",
    "Requisiti: tuple, stringhe, liste\n",
    "\n",
    "Data una stringa `s`, scrivi del codice che mette in una variabile tupla `ordinata` tutti i caratteri di `s` ordinati\n",
    "\n",
    "Esempio - data:\n",
    "\n",
    "```python\n",
    "s = \"cannocchiale\"\n",
    "```\n",
    "\n",
    "Dopo il tuo codice deve risultare:\n",
    " \n",
    "```python\n",
    ">>> print(ordinata)\n",
    "('a', 'a', 'c', 'c', 'c', 'e', 'h', 'i', 'l', 'n', 'n', 'o')\n",
    "```"
   ]
  },
  {
   "cell_type": "markdown",
   "metadata": {},
   "source": [
    "## Tuo svolgimento"
   ]
  },
  {
   "cell_type": "code",
   "execution_count": 53,
   "metadata": {},
   "outputs": [
    {
     "name": "stdout",
     "output_type": "stream",
     "text": [
      "['a', 'a', 'c', 'c', 'c', 'e', 'h', 'i', 'l', 'n', 'n', 'o']\n",
      "('a', 'a', 'c', 'c', 'c', 'e', 'h', 'i', 'l', 'n', 'n', 'o')\n"
     ]
    }
   ],
   "source": [
    "#Creare contenitore\n",
    "#Per ciascun carattere della stringa\n",
    "  #Aggiungo il carattere al contenitore\n",
    "#Ordino la lista in modo crescente (asc,fuori dal ciclo)\n",
    "#convertiamo la lista ordinata in una tupla\n",
    "lista_char = []\n",
    "s = \"cannocchiale\"\n",
    "\n",
    "for char in s:\n",
    "   lista_char.append(char)\n",
    "\n",
    "   lista_char.sort()\n",
    "   risultato = tuple(lista_char)\n",
    "    \n",
    "print(lista_char)\n",
    "print(risultato)\n",
    "   \n",
    "\n",
    "#scrivi qui\n"
   ]
  },
  {
   "cell_type": "code",
   "execution_count": 57,
   "metadata": {},
   "outputs": [
    {
     "ename": "IndentationError",
     "evalue": "unindent does not match any outer indentation level (<tokenize>, line 7)",
     "output_type": "error",
     "traceback": [
      "\u001b[1;36m  File \u001b[1;32m<tokenize>:7\u001b[1;36m\u001b[0m\n\u001b[1;33m    sorted()\u001b[0m\n\u001b[1;37m    ^\u001b[0m\n\u001b[1;31mIndentationError\u001b[0m\u001b[1;31m:\u001b[0m unindent does not match any outer indentation level\n"
     ]
    }
   ],
   "source": []
  },
  {
   "cell_type": "code",
   "execution_count": 4,
   "metadata": {},
   "outputs": [
    {
     "data": {
      "text/plain": [
       "123"
      ]
     },
     "execution_count": 4,
     "metadata": {},
     "output_type": "execute_result"
    }
   ],
   "source": [
    "s = \"cannocchiale\"\n",
    "\n",
    "# scrivi qui\n",
    "my_tuple = (1,3, 'pippo')\n",
    "my_list = [1,3, {'pippo': 123}]\n",
    "my_dict = {\n",
    "    'key': 'value',\n",
    "    1: 'pippo',\n",
    "    False: None,\n",
    "    'lista' : [1,3,4,5,(3,45)]\n",
    "}\n",
    "my_list[2]['pippo']"
   ]
  },
  {
   "cell_type": "markdown",
   "metadata": {},
   "source": [
    "# --------- Soluzioni ---------"
   ]
  },
  {
   "attachments": {},
   "cell_type": "markdown",
   "metadata": {},
   "source": [
    "## Modo \"classico\""
   ]
  },
  {
   "cell_type": "code",
   "execution_count": 5,
   "metadata": {},
   "outputs": [
    {
     "name": "stdout",
     "output_type": "stream",
     "text": [
      "('a', 'a', 'c', 'c', 'c', 'e', 'h', 'i', 'l', 'n', 'n', 'o')\n"
     ]
    }
   ],
   "source": [
    "s = \"cannocchiale\"\n",
    "\n",
    "out_list = []              # Creiamo un contenitore lista vutoto\n",
    "for char in s:             # Per ciascun carattere della nostra stringa\n",
    "    out_list.append(char)  # lo inserisco nella lista-contenitore\n",
    "\n",
    "out_list.sort()            # Ordino la lista \"sul posto\" con list.sort()\n",
    "\n",
    "print(tuple(out_list))     # Stampo la lista come una tupla \n",
    "\n",
    "# out_list_sorted = out_list.sort() # <-- ATTENZIONE !! è inutile assegnare il risultato di \n",
    "                                    #     list.sort() a una variabile...\n",
    "\n",
    "# print(out_list_sorted)  # <-- None !! ...perché il metodo list.sort() modifica la lista\n",
    "                          #     e non restituisce letteralmente nulla!\n"
   ]
  },
  {
   "attachments": {},
   "cell_type": "markdown",
   "metadata": {},
   "source": [
    "## Modo \"casting\"\n",
    "\n",
    "Invece di scomodare un ciclo `for` possiamo sfruttare le regole di *casting*, ovvero le modalità con cui un dato viene convertito in un'altro."
   ]
  },
  {
   "cell_type": "code",
   "execution_count": 6,
   "metadata": {},
   "outputs": [
    {
     "name": "stdout",
     "output_type": "stream",
     "text": [
      "('a', 'a', 'c', 'c', 'c', 'e', 'h', 'i', 'l', 'n', 'n', 'o')\n"
     ]
    }
   ],
   "source": [
    "s = \"cannocchiale\"\n",
    "\n",
    "ordinata = list(s)\n",
    "ordinata.sort()\n",
    "\n",
    "print(tuple(ordinata))\n",
    "\n"
   ]
  }
 ],
 "metadata": {
  "kernelspec": {
   "display_name": ".venv",
   "language": "python",
   "name": "python3"
  },
  "language_info": {
   "codemirror_mode": {
    "name": "ipython",
    "version": 3
   },
   "file_extension": ".py",
   "mimetype": "text/x-python",
   "name": "python",
   "nbconvert_exporter": "python",
   "pygments_lexer": "ipython3",
   "version": "3.10.0"
  },
  "orig_nbformat": 4
 },
 "nbformat": 4,
 "nbformat_minor": 2
}
