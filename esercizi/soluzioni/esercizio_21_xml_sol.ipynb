{
 "cells": [
  {
   "attachments": {},
   "cell_type": "markdown",
   "metadata": {},
   "source": [
    "# Esercizio: Trova la password"
   ]
  },
  {
   "attachments": {},
   "cell_type": "markdown",
   "metadata": {},
   "source": [
    "Immagina di essere un sistemista maldestro che non ricorda più la password per accedere a un sistema, ma sei sicuro di averla salvata in chiaro in un file `.xml`, da qualche parte nella cartella `/files_esercizi/esempi/` del nostro repository. \n",
    "\n",
    "Si tratta di un documento XML che contiene varie informazioni sull'utente, forse il login o l'e-mail, non ricordi, ma sicuramente contiene la password.\n",
    "\n",
    "Purtroppo non sai qual è il file. Hai molti file, e alcuni di essi sono anche molto lunghi, quindi aprirli uno per uno per fare una ricerca a tutto testo con un editor di testo è impensabile. Soprattutto, hai cose più urgenti da fare e il tempo è denaro! Quindi decidi di scrivere un breve script in Python che cerchi la password al posto tuo.\n",
    "\n",
    "Ricordi che tutte le informazioni sull'utente erano memorizzate in attributi XML e sei certo che la password sia memorizzata in un attributo chiamato proprio... `password`. Che fantasia!\n",
    "\n",
    "Hai appena letto che il modulo `lxml` è perfetto per processare molti file XML, anche di grandi dimensioni, quindi decidi di installarlo con `pip` (nel tuo virtual environment, ovviamente!;).\n",
    "\n",
    "Decidi di procedere per gradi di difficoltà dato che non hai mai usato la libreria `lxml`."
   ]
  },
  {
   "attachments": {},
   "cell_type": "markdown",
   "metadata": {},
   "source": [
    "### Per cominciare...\n",
    "\n",
    "Crei due file di prova `prova_pwd_facile.xml` e `prova_pwd_difficile.xml` e li metti nella cartella `/files_esercizi/esempi/` del nostro repo. I file a questo punto esistono già e hanno seguente aspetto:\n"
   ]
  },
  {
   "attachments": {},
   "cell_type": "markdown",
   "metadata": {},
   "source": [
    "Esempio file `prova_pwd_facile.xml`:\n",
    "\n",
    "```xml\n",
    "<profile><account login=\"login\" password=\"secret\"/></profile>\n",
    "```\n",
    "\n",
    "Output attesto:\n",
    "\n",
    "<pre>\n",
    "secret\n",
    "</pre>"
   ]
  },
  {
   "attachments": {},
   "cell_type": "markdown",
   "metadata": {},
   "source": [
    "Esempio file `prova_pwd_difficile.xml`:\n",
    "\n",
    "```xml\n",
    "<result>\n",
    "  <webpage link=\"lxml.de\"></webpage>\n",
    "  <users>\n",
    "    <!-- Commento a tradimento: la password=\"è questa\" -->\n",
    "    <user id=\"239\" password=\"qwerty\"><info email=\"a@a.a\"/></user>\n",
    "  </users>\n",
    "</result>\n",
    "```\n",
    "\n",
    "Output atteso:\n",
    "\n",
    "<pre>\n",
    "qwerty\n",
    "</pre>\n"
   ]
  },
  {
   "attachments": {},
   "cell_type": "markdown",
   "metadata": {},
   "source": [
    "### Cosa devo fare?\n",
    "\n",
    "In pratica devi navigare attraverso l'albero del documento XML utilizzando la libreria `lxml`, trovare un attributo chiamato `password`, leggerne il valore (la password vera e propria) e restituirlo in qualche modo."
   ]
  },
  {
   "attachments": {},
   "cell_type": "markdown",
   "metadata": {},
   "source": [
    "### STEP 1.1: Versione semplificata con `prova_pwd_facile.xml`\n",
    "\n",
    "Dato che a un'attenta analisi il problema si rivela essere un po' più complesso di quanto potrebbe apparire a prima vista, decidi intanto di partire con un algoritmo che trova la password tra gli attributi di uno dei \"figli diretti\" della root. Se la password non viene trovata, restituisci `None`.\n",
    "\n",
    "Guardiamo il file:\n",
    "\n",
    "```xml\n",
    "<profile><account login=\"login\" password=\"secret\"/></profile>\n",
    "```\n",
    "\n",
    "In questo caso il tag `<account>`, che contiene la password, è un \"figlio diretto\" della root `<profile>`.\n",
    "\n",
    "> NOTA: Quindi, per intendersi, processando invece il file `prova_pwd_difficile.xml`, in questa prima fase, anche `None` è una risposta valida."
   ]
  },
  {
   "cell_type": "markdown",
   "metadata": {},
   "source": [
    "Inizia provando a scrivere del codice che estrae la password dal file [`prova_pwd_facile.xml`](../../files_esercizi/esempi/prova_pwd_facile.xml)."
   ]
  },
  {
   "cell_type": "code",
   "execution_count": 7,
   "metadata": {},
   "outputs": [
    {
     "name": "stdout",
     "output_type": "stream",
     "text": [
      "secret\n"
     ]
    }
   ],
   "source": [
    "from lxml import etree\n",
    "\n",
    "xml_file = '../../files_esercizi/esempi/prova_pwd_facile.xml'\n",
    "\n",
    "# Fa direttamente il parsing del file XML e ottiene il nodo radice\n",
    "root = etree.parse(xml_file).getroot()\n",
    "\n",
    "# Per ogni elemento figlio della root\n",
    "for child_elem in root:\n",
    "    # Controlla se l'elemento corrente ha un attributo \"password\"\n",
    "    password = child_elem.get('password')\n",
    "    # Se l'attributo \"password\" è presente, esce dal ciclo\n",
    "    if password is not None:\n",
    "        break\n",
    "\n",
    "# Stampa la password\n",
    "print(password)"
   ]
  },
  {
   "cell_type": "code",
   "execution_count": 8,
   "metadata": {},
   "outputs": [
    {
     "name": "stdout",
     "output_type": "stream",
     "text": [
      "secret\n"
     ]
    }
   ],
   "source": [
    "from lxml import etree\n",
    "\n",
    "with open('../../files_esercizi/esempi/prova_pwd_facile.xml', 'rb') as file_in:\n",
    "\n",
    "    # Legge il contenuto del file come una stringa\n",
    "    xml_content = file_in.read()\n",
    "\n",
    "    # Fa il parsing del contenuto XML usando la funzione 'fromstring'\n",
    "    root = etree.fromstring(xml_content)\n",
    "\n",
    "    # Per ogni elemento figlio della root\n",
    "    for child_elem in root:\n",
    "        # Controlla se l'elemento corrente ha un attributo \"password\"\n",
    "        password = child_elem.get('password')\n",
    "        # Se l'attributo \"password\" è presente, esce dal ciclo\n",
    "        if password is not None:\n",
    "            break\n",
    "\n",
    "    # Stampa la password\n",
    "    print(password)"
   ]
  },
  {
   "cell_type": "markdown",
   "metadata": {},
   "source": [
    "### STEP 1.2: Versione semplificata con `prova_pwd_difficile.xml`\n",
    "\n",
    "Prova a fare anche la prova con [`prova_pwd_difficile.xml`](../../files_esercizi/esempi/prova_pwd_difficile.xml), dovresti ottenere `None`."
   ]
  },
  {
   "cell_type": "code",
   "execution_count": 9,
   "metadata": {},
   "outputs": [
    {
     "name": "stdout",
     "output_type": "stream",
     "text": [
      "None\n"
     ]
    }
   ],
   "source": [
    "from lxml import etree\n",
    "\n",
    "xml_file = '../../files_esercizi/esempi/prova_pwd_difficile.xml'\n",
    "\n",
    "# Fa direttamente il parsing del file XML e ottiene il nodo radice\n",
    "root = etree.parse(xml_file).getroot()\n",
    "\n",
    "# Per ogni elemento figlio della root\n",
    "for child_elem in root:\n",
    "    # Controlla se l'elemento corrente ha un attributo \"password\"\n",
    "    password = child_elem.get('password')\n",
    "    # Se l'attributo \"password\" è presente, esce dal ciclo\n",
    "    if password is not None:\n",
    "        break\n",
    "\n",
    "# Stampa la password\n",
    "print(password)"
   ]
  },
  {
   "cell_type": "code",
   "execution_count": 10,
   "metadata": {},
   "outputs": [
    {
     "name": "stdout",
     "output_type": "stream",
     "text": [
      "None\n"
     ]
    }
   ],
   "source": [
    "from lxml import etree\n",
    "\n",
    "with open('../../files_esercizi/esempi/prova_pwd_difficile.xml', 'rb') as file_in:\n",
    "\n",
    "    # Legge il contenuto del file come una stringa\n",
    "    xml_content = file_in.read()\n",
    "\n",
    "    # Fa il parsing del contenuto XML usando la funzione 'fromstring'\n",
    "    root = etree.fromstring(xml_content)\n",
    "\n",
    "    # Per ogni elemento figlio della root\n",
    "    for child_elem in root:\n",
    "        # Controlla se l'elemento corrente ha un attributo \"password\"\n",
    "        password = child_elem.get('password')\n",
    "        # Se l'attributo \"password\" è presente, esce dal ciclo\n",
    "        if password is not None:\n",
    "            break\n",
    "\n",
    "    # Stampa la password\n",
    "    print(password)"
   ]
  },
  {
   "attachments": {},
   "cell_type": "markdown",
   "metadata": {},
   "source": [
    "### STEP 2: Metti l'algoritmo in una funzione"
   ]
  },
  {
   "attachments": {},
   "cell_type": "markdown",
   "metadata": {},
   "source": [
    "Dato che dovrai eseguire questo codice per ciascun file XML presente nella cartella in cui vuoi effettuare la ricerca, hai pensato che è il momento di  implementare una funzione `find_password(root)`. \n",
    "\n",
    "Questa funzione dovrebbe avere un solo parametro che accetta un oggetto `etree.Element` in questo caso lo chiami `root` perché intendi passare l'elemento root alla funzione.\n",
    "\n"
   ]
  },
  {
   "cell_type": "code",
   "execution_count": 20,
   "metadata": {},
   "outputs": [
    {
     "name": "stdout",
     "output_type": "stream",
     "text": [
      "secret\n"
     ]
    }
   ],
   "source": [
    "from lxml import etree\n",
    "\n",
    "# Definisce una funzione che cerca la password negli elementi figli del nodo radice\n",
    "def find_password(root):\n",
    "    # Per ogni elemento figlio della root\n",
    "    for child_elem in root:\n",
    "        # Controlla se l'elemento corrente ha un attributo \"password\"\n",
    "        password = child_elem.get('password')\n",
    "        # Se l'attributo \"password\" è presente, esce dal ciclo\n",
    "        if password is not None:\n",
    "            break\n",
    "    return password\n",
    "\n",
    "\n",
    "xml_file = '../../files_esercizi/esempi/prova_pwd_facile.xml'\n",
    "# xml_file = '../../files_esercizi/esempi/prova_pwd_difficile.xml'\n",
    "\n",
    "# Fa direttamente il parsing del file XML e ottiene il nodo radice\n",
    "root = etree.parse(xml_file).getroot()\n",
    "\n",
    "# Chiama la funzione 'find_password' passando il nodo radice\n",
    "found_password = find_password(root)\n",
    "\n",
    "print(found_password)"
   ]
  },
  {
   "cell_type": "markdown",
   "metadata": {},
   "source": [
    "### STEP 3: Navigare in tutti i rami, ricorsivamente\n",
    "\n",
    "Ora sei pronto per migliorare l'algoritmo e provare a cercare in qualunque elemento della struttura XML."
   ]
  },
  {
   "cell_type": "code",
   "execution_count": 3,
   "metadata": {},
   "outputs": [
    {
     "name": "stdout",
     "output_type": "stream",
     "text": [
      "secret\n"
     ]
    }
   ],
   "source": [
    "from lxml import etree\n",
    "\n",
    "def find_password(root):\n",
    "    for elem in root:\n",
    "        if 'password' in elem.keys():\n",
    "            return elem.get('password')\n",
    "        if len(elem):  # Se l'elemento corrente ha figli\n",
    "            return find_password(elem)  # Richiama ricorsivamente la funzione 'find_password'\n",
    "    return None\n",
    "\n",
    "# xml_file = '../../files_esercizi/esempi/prova_pwd_facile.xml'\n",
    "xml_file = '../../files_esercizi/esempi/prova_pwd_difficile.xml'\n",
    "\n",
    "# Fa direttamente il parsing del file XML e ottiene il nodo radice\n",
    "root = etree.parse(xml_file).getroot()\n",
    "\n",
    "# Chiama la funzione 'find_password' passando il nodo radice\n",
    "found_password = find_password(root)\n",
    "\n",
    "print(found_password)"
   ]
  }
 ],
 "metadata": {
  "kernelspec": {
   "display_name": ".venv",
   "language": "python",
   "name": "python3"
  },
  "language_info": {
   "codemirror_mode": {
    "name": "ipython",
    "version": 3
   },
   "file_extension": ".py",
   "mimetype": "text/x-python",
   "name": "python",
   "nbconvert_exporter": "python",
   "pygments_lexer": "ipython3",
   "version": "3.11.2"
  },
  "orig_nbformat": 4
 },
 "nbformat": 4,
 "nbformat_minor": 2
}
