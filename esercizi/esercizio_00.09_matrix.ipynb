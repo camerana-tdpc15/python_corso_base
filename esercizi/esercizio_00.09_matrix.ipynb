{
 "cells": [
  {
   "cell_type": "markdown",
   "metadata": {},
   "source": [
    "# Esercizi introduttivi"
   ]
  },
  {
   "cell_type": "markdown",
   "metadata": {},
   "source": [
    "TEMI TRATTATI:\n",
    "\n",
    "- Liste\n",
    "- Tabelle (matrici)"
   ]
  },
  {
   "cell_type": "markdown",
   "metadata": {},
   "source": [
    "NOTE SULLO SVOLGIMENTO:\n",
    "- Puoi svolgere ed eseguire gli esercizi direttamente qua su questo notebook oppure su un normale file di script Python con estensione `.py`, eseguendolo nel terminale del sistema operativo con il comando `py mio_esercizio.py` (Windows) oppure `python3 mio_esercizio.py` (Linux o macOS)."
   ]
  },
  {
   "cell_type": "markdown",
   "metadata": {},
   "source": [
    "## Esercizio 1: IndexError\n",
    "\n",
    "Scrivere un programma che generi un `IndexError: list index out of range`.\n",
    "\n",
    "Cosa succede se si esegue il programma?"
   ]
  },
  {
   "cell_type": "code",
   "execution_count": null,
   "metadata": {},
   "outputs": [],
   "source": [
    "# Scrivi qua il tuo codice\n",
    "\n"
   ]
  },
  {
   "cell_type": "markdown",
   "metadata": {},
   "source": [
    "## Esercizio 2: Tabella (matrice)\n",
    "\n",
    "Scrivere le istruzioni Python per eseguire le seguenti operazioni:\n",
    "\n",
    "1. Chiedere all'utente di inserire il numero di righe (`max_row`) e il numero di colonne (`max_col`) per creare una matrice.\n",
    "\n",
    "2. **Inizializzazione a `0`:** Creare la matrice con dimensione `max_row` x `min_row`, impostando tutti gli elementi a zero (`0`).\n",
    "\n",
    "    <table>\n",
    "    <tr><td>0</td><td>0</td><td>0</td><td>0</td><td>0</td></tr>\n",
    "    <tr><td>0</td><td>0</td><td>0</td><td>0</td><td>0</td></tr>\n",
    "    <tr><td>0</td><td>0</td><td>0</td><td>0</td><td>0</td></tr>\n",
    "    <tr><td>0</td><td>0</td><td>0</td><td>0</td><td>0</td></tr>\n",
    "    <tr><td>0</td><td>0</td><td>0</td><td>0</td><td>0</td></tr>\n",
    "    </table>\n",
    "    <br/>\n",
    "3. **Sovrascittura a `1`:** Modificare tutti gli elementi della matrice, assegnando a ciascuno il valore uno (`1`).\n",
    "\n",
    "    <table>\n",
    "    <tr><td>1</td><td>1</td><td>1</td><td>1</td><td>1</td></tr>\n",
    "    <tr><td>1</td><td>1</td><td>1</td><td>1</td><td>1</td></tr>\n",
    "    <tr><td>1</td><td>1</td><td>1</td><td>1</td><td>1</td></tr>\n",
    "    <tr><td>1</td><td>1</td><td>1</td><td>1</td><td>1</td></tr>\n",
    "    <tr><td>1</td><td>1</td><td>1</td><td>1</td><td>1</td></tr>\n",
    "    </table>\n",
    "    <br/>\n",
    "\n",
    "4. **Schema a Scacchiera:** Alternare gli elementi della matrice tra zero (`0`) e uno (`1`), seguendo uno schema a scacchiera. Ciò significa che gli elementi adiacenti (sia in orizzontale che in verticale) devono avere valori alternati.\n",
    "\n",
    "    <table>\n",
    "    <tr><td>0</td><td>1</td><td>0</td><td>1</td><td>0</td></tr>\n",
    "    <tr><td>1</td><td>0</td><td>1</td><td>0</td><td>1</td></tr>\n",
    "    <tr><td>0</td><td>1</td><td>0</td><td>1</td><td>0</td></tr>\n",
    "    <tr><td>1</td><td>0</td><td>1</td><td>0</td><td>1</td></tr>\n",
    "    <tr><td>0</td><td>1</td><td>0</td><td>1</td><td>0</td></tr>\n",
    "    </table>\n",
    "    <br/>\n",
    "\n",
    "5. **Righe superiori e inferiori a `0`:** Impostare a zero (`0`) tutti gli elementi presenti nella prima e nell'ultima riga della matrice, mantenendo inalterati i valori nelle altre righe.\n",
    "\n",
    "    <table>\n",
    "    <tr><td><b>0</b></td><td><b>0</b></td><td><b>0</b></td><td><b>0</b></td><td><b>0</b></td></tr>\n",
    "    <tr><td>1</td><td>0</td><td>1</td><td>0</td><td>1</td></tr>\n",
    "    <tr><td>0</td><td>1</td><td>0</td><td>1</td><td>0</td></tr>\n",
    "    <tr><td>1</td><td>0</td><td>1</td><td>0</td><td>1</td></tr>\n",
    "    <tr><td><b>0</b></td><td><b>0</b></td><td><b>0</b></td><td><b>0</b></td><td><b>0</b></td></tr>\n",
    "    </table>\n",
    "    <br/>\n",
    "\n",
    "6. **Colonne destra e sinistra a `1`:** Impostare a uno (`1`) tutti gli elementi presenti nella prima e nell'ultima colonna della matrice, mantenendo inalterati i valori nelle altre colonne.\n",
    "\n",
    "    <table>\n",
    "    <tr><td><b>1</b></td><td>0</td><td>0</td><td>0</td><td><b>1</b></td></tr>\n",
    "    <tr><td><b>1</b></td><td>0</td><td>1</td><td>0</td><td><b>1</b></td></tr>\n",
    "    <tr><td><b>1</b></td><td>1</td><td>0</td><td>1</td><td><b>1</b></td></tr>\n",
    "    <tr><td><b>1</b></td><td>0</td><td>1</td><td>0</td><td><b>1</b></td></tr>\n",
    "    <tr><td><b>1</b></td><td>0</td><td>0</td><td>0</td><td><b>1</b></td></tr>\n",
    "    </table>\n",
    "    <br/>\n",
    "\n",
    "7. **Somma degli elementi:** Calcolare la somma di tutti gli elementi presenti attualmente nella matrice e visualizzarne il risultato.\n",
    "\n",
    "**IMPORTANTE:** Dopo ogni operazione elencata nei passaggi precedenti, stampare la matrice per mostrare l'effetto dell'operazione eseguita."
   ]
  },
  {
   "cell_type": "code",
   "execution_count": null,
   "metadata": {},
   "outputs": [],
   "source": [
    "# Scrivi qua il tuo codice\n",
    "\n"
   ]
  }
 ],
 "metadata": {
  "kernelspec": {
   "display_name": ".venv",
   "language": "python",
   "name": "python3"
  },
  "language_info": {
   "codemirror_mode": {
    "name": "ipython",
    "version": 3
   },
   "file_extension": ".py",
   "mimetype": "text/x-python",
   "name": "python",
   "nbconvert_exporter": "python",
   "pygments_lexer": "ipython3",
   "version": "3.11.2"
  }
 },
 "nbformat": 4,
 "nbformat_minor": 2
}
