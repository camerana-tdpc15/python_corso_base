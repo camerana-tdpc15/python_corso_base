{
 "cells": [
  {
   "cell_type": "markdown",
   "metadata": {},
   "source": [
    "### Introduzione Teorica\n",
    "XML (eXtensible Markup Language) è ampiamente usato per la memorizzazione e il trasferimento di dati strutturati. `lxml` è una libreria Python efficace per il parsing di XML, che offre supporto per le operazioni con XML e HTML, facilitando la manipolazione, la ricerca e la modifica di documenti XML.\n",
    "\n",
    "### Scopo dell'Esercitazione\n",
    "L'obiettivo è sviluppare competenze nella lettura e manipolazione di dati XML in Python utilizzando `lxml`, e nella conversione di questi dati verso il formato CSV che è utilizzabile in molti contesti applicativi per l'interscambio di informazioni.\n",
    "\n",
    "### Compito da Svolgere\n",
    "\n",
    "**Obiettivo:** Scrivere uno script Python che legga un file XML contenente dati tabellari e li converta in un file CSV.\n",
    "\n",
    "**Dati di Esempio:**\n",
    "Supponiamo di avere un file XML come segue ([`dati.xml`](../files_esercizi/users.xml)):\n",
    "\n",
    "```xml\n",
    "<?xml version=\"1.0\" encoding=\"UTF-8\"?>\n",
    "<dati>\n",
    "    <record>\n",
    "        <id>1</id>\n",
    "        <nome>Mario Rossi</nome>\n",
    "        <email>mario.rossi@example.com</email>\n",
    "    </record>\n",
    "    <record>\n",
    "        <id>2</id>\n",
    "        <nome>Giulia Bianchi</nome>\n",
    "        <email>giulia.bianchi@example.com</email>\n",
    "    </record>\n",
    "    \n",
    "    ... ...\n",
    "\n",
    "</dati>\n",
    "```\n",
    "\n",
    "**Specifica del Task:**\n",
    "1. Leggi il file XML usando `lxml`.\n",
    "2. Estrai i dati di ciascun `<record>`.\n",
    "3. Scrivi i dati in un nuovo file CSV con intestazioni di colonna corrispondenti agli elementi dentro `<record>`."
   ]
  },
  {
   "cell_type": "code",
   "execution_count": null,
   "metadata": {},
   "outputs": [],
   "source": [
    "# scrivi qua il tuo codice:\n"
   ]
  },
  {
   "cell_type": "code",
   "execution_count": null,
   "metadata": {},
   "outputs": [],
   "source": [
    "from lxml import etree\n",
    "import csv\n",
    "\n",
    "def convert_xml_to_csv(xml_file, csv_file):\n",
    "    # Parse the XML file\n",
    "    tree = etree.parse(xml_file)\n",
    "    root = tree.getroot()\n",
    "\n",
    "    # Open a CSV file for writing\n",
    "    with open(csv_file, mode='w', newline='') as file:\n",
    "        # Preparazione delle intestazioni dal primo record\n",
    "        headers = [element.tag for element in root.find('.//record').getchildren()]\n",
    "        \n",
    "        writer = csv.DictWriter(file, fieldnames=headers)\n",
    "        writer.writeheader()\n",
    "\n",
    "        # Write data rows\n",
    "        for record in root.findall('.//record'):\n",
    "            row_data = {element.tag: element.text for element in record.getchildren()}\n",
    "            writer.writerow(row_data)\n",
    "\n",
    "# Usage\n",
    "convert_xml_to_csv('dati.xml', 'dati.csv')\n"
   ]
  },
  {
   "cell_type": "code",
   "execution_count": 1,
   "metadata": {},
   "outputs": [],
   "source": [
    "from lxml import etree\n",
    "import csv\n",
    "\n",
    "def convert_xml_to_csv(xml_file, csv_file):\n",
    "    # Parse the XML file\n",
    "    tree = etree.parse(xml_file)\n",
    "    root = tree.getroot()\n",
    "\n",
    "    # Open a CSV file for writing\n",
    "    with open(csv_file, mode='w', newline='') as file:\n",
    "        writer = csv.writer(file)\n",
    "        \n",
    "        # Write CSV headers\n",
    "        headers = [element.tag for element in root.find('.//record').getchildren()]\n",
    "        writer.writerow(headers)\n",
    "\n",
    "        # Write data rows\n",
    "        for record in root.findall('.//record'):\n",
    "            row_data = [element.text for element in record.getchildren()]\n",
    "            writer.writerow(row_data)\n",
    "\n",
    "# Usage\n",
    "convert_xml_to_csv('../files_esercizi/users.xml', '../files_esercizi/outputs/dati.csv')"
   ]
  }
 ],
 "metadata": {
  "kernelspec": {
   "display_name": ".venv",
   "language": "python",
   "name": "python3"
  },
  "language_info": {
   "codemirror_mode": {
    "name": "ipython",
    "version": 3
   },
   "file_extension": ".py",
   "mimetype": "text/x-python",
   "name": "python",
   "nbconvert_exporter": "python",
   "pygments_lexer": "ipython3",
   "version": "3.11.2"
  }
 },
 "nbformat": 4,
 "nbformat_minor": 2
}
