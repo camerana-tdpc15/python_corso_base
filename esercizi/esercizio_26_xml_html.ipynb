{
 "cells": [
  {
   "cell_type": "markdown",
   "metadata": {},
   "source": [
    "# Esercitazione: Modulo `lxml` con file XML e HTML\n",
    "\n",
    "Utilizza il modulo Python `lxml` per leggere ed estrarre dati da file XML e HTML.\n",
    "\n",
    "L'obiettivo è estrarre informazioni dai tag, dagli attributi e dai testi all'interno dei tag."
   ]
  },
  {
   "cell_type": "markdown",
   "metadata": {},
   "source": [
    "## File da analizzare\n",
    "\n",
    "#### File XML: [`libri.xml`](../files_esercizi/libri.xml)\n",
    "\n",
    "```xml\n",
    "<library>\n",
    "    <book id=\"1\">\n",
    "        <title>Python Programming</title>\n",
    "        <author>John Doe</author>\n",
    "        <year>2020</year>\n",
    "    </book>\n",
    "    <book id=\"2\">\n",
    "        <title>Learning XML</title>\n",
    "        <author>Jane Smith</author>\n",
    "        <year>2018</year>\n",
    "    </book>\n",
    "</library>\n",
    "```\n",
    "\n",
    "#### File HTML: [`libri.html`](../files_esercizi/libri.html)\n",
    "\n",
    "```html\n",
    "<!DOCTYPE html>\n",
    "<html>\n",
    "<head>\n",
    "    <title>Library</title>\n",
    "</head>\n",
    "<body>\n",
    "    <div class=\"book\" id=\"1\">\n",
    "        <h2>Python Programming</h2>\n",
    "        <p>Author: John Doe</p>\n",
    "        <p>Year: 2020</p>\n",
    "    </div>\n",
    "    <div class=\"book\" id=\"2\">\n",
    "        <h2>Learning XML</h2>\n",
    "        <p>Author: Jane Smith</p>\n",
    "        <p>Year: 2018</p>\n",
    "    </div>\n",
    "</body>\n",
    "</html>\n",
    "```"
   ]
  },
  {
   "cell_type": "markdown",
   "metadata": {},
   "source": [
    "### Prerequisiti\n",
    "\n",
    "**Installazione del modulo `lxml`**:\n",
    "   - Utilizza `pip` per installare il modulo `lxml` se non è già presente nell'ambiente."
   ]
  },
  {
   "cell_type": "markdown",
   "metadata": {},
   "source": [
    "### Consegna - Parte 1: XML\n",
    "\n",
    "Scrivi un programma Python che utilizza `lxml` per leggere il file [`libri.xml`](../files_esercizi/libri.xml) contenuto nella cartella `files_esercizi/`.\n",
    "\n",
    "**Accesso ai tag e agli attributi nel file XML**:\n",
    "   1. Trova tutti gli elementi `<book>` all'interno del file XML.\n",
    "   2. Per ogni elemento `<book>`, estrai:\n",
    "      - l'attributo `id`;\n",
    "      - il contenuto (testo) dei tag `<title>`, `<author>` e `<year>`.\n",
    "   3. Stampa le informazioni estratte in un formato leggibile."
   ]
  },
  {
   "cell_type": "code",
   "execution_count": null,
   "metadata": {},
   "outputs": [],
   "source": [
    "# Scrivi qua il tuo codice"
   ]
  },
  {
   "cell_type": "markdown",
   "metadata": {},
   "source": [
    "### Consegna - Parte 2: HTML\n",
    "\n",
    "Scrivi un programma Python che utilizza `lxml` per caricare il file [`libri.html`](../files_esercizi/libri.html) contenuto nella cartella `files_esercizi/`.\n",
    "\n",
    "**Accesso ai tag e agli attributi nel file HTML**:\n",
    "   1. Trova tutti i tag `<div>` con classe `book` all'interno del file HTML.\n",
    "   2. Per ogni tag `<div>`, estrai:\n",
    "      - l'attributo `id`;\n",
    "      - il contenuto dei tag `<h2>`;\n",
    "      - `<p>` che contengono \"Author\";\n",
    "      - `<p>` che contengono \"Year\".\n",
    "   3. Stampa le informazioni estratte in un formato leggibile."
   ]
  },
  {
   "cell_type": "code",
   "execution_count": null,
   "metadata": {},
   "outputs": [],
   "source": [
    "# Scrivi qua il tuo codice"
   ]
  }
 ],
 "metadata": {
  "language_info": {
   "name": "python"
  }
 },
 "nbformat": 4,
 "nbformat_minor": 2
}
