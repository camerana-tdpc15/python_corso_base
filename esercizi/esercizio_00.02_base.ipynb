{
 "cells": [
  {
   "cell_type": "markdown",
   "metadata": {},
   "source": [
    "# Esercizi introduttivi"
   ]
  },
  {
   "cell_type": "markdown",
   "metadata": {},
   "source": [
    "TEMI TRATTATI:\n",
    "\n",
    "- Creazione ed esecuzione di semplici programmi (script).\n",
    "- Stampare a monitor."
   ]
  },
  {
   "cell_type": "markdown",
   "metadata": {},
   "source": [
    "NOTE SULLO SVOLGIMENTO:\n",
    "- Puoi svolgere ed eseguire gli esercizi direttamente qua su questo notebook oppure su un normale file di script Python con estensione `.py`, eseguendolo nel terminale del sistema operativo con il comando `py mio_esercizio.py` (Windows) oppure `python3 mio_esercizio.py` (Linux o macOS)."
   ]
  },
  {
   "cell_type": "markdown",
   "metadata": {},
   "source": [
    "## Esercizio 1: Stampare una somma\n",
    "\n",
    "Obiettivo: Scrivere un programma che stampi la somma dei primi 10 numeri interi positivi.\n",
    "\n",
    "```\n",
    "1 + 2 + ... + 10\n",
    "```\n",
    "\n",
    "Output atteso:\n",
    "\n",
    "```\n",
    "La somma dei primi 10 interi è pari a: ...\n",
    "```"
   ]
  },
  {
   "cell_type": "code",
   "execution_count": 43,
   "metadata": {},
   "outputs": [
    {
     "name": "stdout",
     "output_type": "stream",
     "text": [
      "55\n"
     ]
    }
   ],
   "source": [
    "# Scrivi qua il tuo codice\n",
    "\n",
    "somma = 1+2+3+4+5+6+7+8+9+10\n",
    "\n",
    "print(somma)\n",
    "\n",
    "\n"
   ]
  },
  {
   "cell_type": "markdown",
   "metadata": {},
   "source": [
    "## Esercizio 2: Stampare un prodotto\n",
    "\n",
    "Obiettivo: Scrivere un programma che stampi il prodotto dei primi 10 numeri interi positivi.\n",
    "\n",
    "```\n",
    "1 * 2 * ... * 10\n",
    "```\n",
    "\n",
    "Output atteso:\n",
    "\n",
    "```\n",
    "Il prodotto dei primi 10 interi è pari a: ...\n",
    "```"
   ]
  },
  {
   "cell_type": "code",
   "execution_count": null,
   "metadata": {},
   "outputs": [],
   "source": [
    "# Scrivi qua il tuo codice\n"
   ]
  },
  {
   "cell_type": "markdown",
   "metadata": {},
   "source": [
    "## Esercizio 3: Stampare una scritta con lettere grandi\n",
    "\n",
    "Obiettivo: Scrivere un programma che stampi una parola a propria scelta, con \"lettere grandi\". Questo genere di effetto può essere ottenuto tramite delle techiche che rientrano in quella che viene chiamata in gergo _**ASCII art**_ o _**computer text art**_.\n",
    "\n",
    "Puoi provare tu stesso a \"comporre\" una parola manualmente, oppure puoi usare un'applicazione apposita. Sul web ne potete trovare molte. Per esempio questa:\n",
    "\n",
    "[patorjk.com/software/taag](https://patorjk.com/software/taag/)\n",
    "\n",
    "> NOTA: Esistono anche implementazioni direttamente scritte in Python. Per esempio uno dei moduli più popolari è `art`:\n",
    "> \n",
    "> [pypi.org/project/art](https://pypi.org/project/art/)"
   ]
  },
  {
   "cell_type": "markdown",
   "metadata": {},
   "source": [
    "Usa la funzione `print` per stampare a monitor una parola a tua scelta.\n",
    "\n",
    "Ecco due esempi dell'output atteso:\n",
    "\n",
    "```text\n",
    " PPPPPP   Y     Y  TTTTTTT  H     H  OOOOOOO  N     N \n",
    " P     P    Y Y       T     H     H  O     O  N N   N \n",
    " PPPPPP      Y        T     HHHHHHH  O     O  N  N  N \n",
    " P           Y        T     H     H  O     O  N   N N \n",
    " P           Y        T     H     H  OOOOOOO  N     N \n",
    "\n",
    "\n",
    "########  ##    ## ######## ##     ##  #######  ##    ## \n",
    "##     ##  ##  ##     ##    ##     ## ##     ## ###   ## \n",
    "##     ##   ####      ##    ##     ## ##     ## ####  ## \n",
    "########     ##       ##    ######### ##     ## ## ## ## \n",
    "##           ##       ##    ##     ## ##     ## ##  #### \n",
    "##           ##       ##    ##     ## ##     ## ##   ### \n",
    "##           ##       ##    ##     ##  #######  ##    ## \n",
    "\n",
    "```"
   ]
  },
  {
   "cell_type": "code",
   "execution_count": null,
   "metadata": {},
   "outputs": [],
   "source": [
    "# Scrivi qua il tuo codice\n"
   ]
  },
  {
   "cell_type": "markdown",
   "metadata": {},
   "source": [
    "## Esercizio 4: Fare lo *spelling*\n",
    "\n",
    "Obiettivo: Scrivere un programma che stampi il vostro nome, in colonna.\n",
    "\n",
    "Esempio di output atteso:\n",
    "\n",
    "```text\n",
    "G\n",
    "U\n",
    "I\n",
    "D\n",
    "O\n",
    "```"
   ]
  },
  {
   "cell_type": "code",
   "execution_count": null,
   "metadata": {},
   "outputs": [],
   "source": [
    "# Scrivi qua il tuo codice\n"
   ]
  },
  {
   "cell_type": "markdown",
   "metadata": {},
   "source": [
    "## Esercizio 5: Conto bancario\n",
    "\n",
    "Obiettivo: Scrivere un programma che calcoli il saldo di un conto bancario dopo il primo, secondo e terzo anno. Il conto ha un saldo iniziale di 1000 euro e vi vengono accreditati interessi annuali al 5%.\n",
    "\n",
    "Il programma deve stampare il saldo iniziale, e poi il saldo al termine di ciascun anno, fino al terzo.\n",
    "\n",
    "Output atteso:\n",
    "\n",
    "```text\n",
    "Il saldo iniziale è: ...\n",
    "Dopo l'anno 1 il saldo è: ...\n",
    "Dopo l'anno 2 il saldo è: ...\n",
    "Dopo l'anno 3 il saldo è: ...\n",
    "```"
   ]
  },
  {
   "cell_type": "code",
   "execution_count": null,
   "metadata": {},
   "outputs": [],
   "source": [
    "# Scrivi qua il tuo codice\n"
   ]
  },
  {
   "cell_type": "markdown",
   "metadata": {},
   "source": [
    "## Esercizio 6: Testo incorniciato\n",
    "\n",
    "Obiettivo: Scrivere un programma che stampi il vostro nome all’interno di un rettangolo, utilizzando i caratteri: `|`, `-` e `+`.\n",
    "\n",
    "Esempio di output atteso:\n",
    "\n",
    "```text\n",
    " +--------+\n",
    " | Graham |\n",
    " +--------+\n",
    "```"
   ]
  },
  {
   "cell_type": "code",
   "execution_count": null,
   "metadata": {},
   "outputs": [],
   "source": [
    "# Scrivi qua il tuo codice\n"
   ]
  },
  {
   "cell_type": "markdown",
   "metadata": {},
   "source": [
    "## Esercizio 7: Scacchiera 5x5\n",
    "\n",
    "Obiettivo: Scrivere un programma che stampi una \"scacchiera\" di dimensioni 5x5 in cui le caselle bianche sono rappresentate da `0`, e le caselle nere da `1`.\n",
    "\n",
    "Output atteso:\n",
    "\n",
    "```text\n",
    "0 1 0 1 0\n",
    "1 0 1 0 1\n",
    "0 1 0 1 0\n",
    "1 0 1 0 1\n",
    "0 1 0 1 0\n",
    "```"
   ]
  },
  {
   "cell_type": "code",
   "execution_count": 6,
   "metadata": {},
   "outputs": [],
   "source": [
    "# Scrivi qua il tuo codice\n"
   ]
  },
  {
   "cell_type": "markdown",
   "metadata": {},
   "source": [
    "## Esercizio 8: Una lunga linea\n",
    "\n",
    "Obiettivo: Scrivere un programma che stampi una linea composta da 100 trattini `-`.\n",
    "\n",
    "Output atteso:\n",
    "\n",
    "```text\n",
    "--------------------------------... tot. 100 trattini\n",
    "```"
   ]
  },
  {
   "cell_type": "code",
   "execution_count": 7,
   "metadata": {},
   "outputs": [
    {
     "name": "stdout",
     "output_type": "stream",
     "text": [
      "----------------------------------------------------------------------------------------------------\n"
     ]
    }
   ],
   "source": [
    "# Scrivi qua il tuo codice\n",
    "print('-'* 100)"
   ]
  },
  {
   "cell_type": "markdown",
   "metadata": {},
   "source": [
    "## Esercizio 9: Tanti zeri\n",
    "\n",
    "Obiettivo: Scrivere un programma che stampi una sequenza di cifre composta da 100 zeri (`0`).\n",
    "\n",
    "Output atteso:\n",
    "\n",
    "```text\n",
    "00000000000000000000000000000000... tot. 100 zeri\n",
    "```"
   ]
  },
  {
   "cell_type": "code",
   "execution_count": 6,
   "metadata": {},
   "outputs": [
    {
     "name": "stdout",
     "output_type": "stream",
     "text": [
      "0000000000000000000000000000000000000000000000000000000000000000000000000000000000000000000000000000\n"
     ]
    }
   ],
   "source": [
    "# Scrivi qua il tuo codice\n",
    "print('0'*100) "
   ]
  }
 ],
 "metadata": {
  "kernelspec": {
   "display_name": ".venv",
   "language": "python",
   "name": "python3"
  },
  "language_info": {
   "codemirror_mode": {
    "name": "ipython",
    "version": 3
   },
   "file_extension": ".py",
   "mimetype": "text/x-python",
   "name": "python",
   "nbconvert_exporter": "python",
   "pygments_lexer": "ipython3",
   "version": "3.12.2"
  }
 },
 "nbformat": 4,
 "nbformat_minor": 2
}
