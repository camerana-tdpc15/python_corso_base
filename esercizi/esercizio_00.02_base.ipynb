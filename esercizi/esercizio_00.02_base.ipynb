{
 "cells": [
  {
   "cell_type": "markdown",
   "metadata": {},
   "source": [
    "# Esercizi introduttivi"
   ]
  },
  {
   "cell_type": "markdown",
   "metadata": {},
   "source": [
    "TEMI TRATTATI:\n",
    "\n",
    "- Creazione ed esecuzione di semplici programmi (script).\n",
    "- Stampare a monitor."
   ]
  },
  {
   "cell_type": "markdown",
   "metadata": {},
   "source": [
    "NOTE SULLO SVOLGIMENTO:\n",
    "- Puoi svolgere ed eseguire gli esercizi direttamente qua su questo notebook oppure su un normale file di script Python con estensione `.py`, eseguendolo nel terminale del sistema operativo con il comando `py mio_esercizio.py` (Windows) oppure `python3 mio_esercizio.py` (Linux o macOS)."
   ]
  },
  {
   "cell_type": "markdown",
   "metadata": {},
   "source": [
    "## Esercizio 1: Stampare una somma\n",
    "\n",
    "Obiettivo: Scrivere un programma che stampi la somma dei primi 10 numeri interi positivi.\n",
    "\n",
    "```\n",
    "1 + 2 + ... + 10\n",
    "```\n",
    "\n",
    "Output atteso:\n",
    "\n",
    "```\n",
    "La somma dei primi 10 interi è pari a: ...\n",
    "```"
   ]
  },
  {
   "cell_type": "code",
   "execution_count": 1,
   "metadata": {},
   "outputs": [
    {
     "name": "stdout",
     "output_type": "stream",
     "text": [
      "La somma dei primi 10 numeri interi positivi è :  55\n"
     ]
    }
   ],
   "source": [
    "# #dichiaro la variabile sum\n",
    "# somma = 0\n",
    "# #faccio ciclo for che per 10 cicli \n",
    "# for i in range(1, 11):\n",
    "#     # somma i primi 10 numeri\n",
    "#     sum = i + (i + 1)\n",
    "#     #li stampa ogni ciclo\n",
    "#     print(sum)\n",
    "# #stampa\n",
    "# print('La somma dei primi 10 numeri interi positivi è : ',sum)\n",
    "\n",
    "#*******************************secondo modo di soluzione*****************\n",
    "numeri = [1, 2, 3, 4, 5, 6, 7, 8, 9, 10]\n",
    "#in python c'è la funzione apposta 'sum'\n",
    "somma = sum(numeri)\n",
    "print('La somma dei primi 10 numeri interi positivi è : ', somma)\n",
    "\n",
    "    \n",
    "\n",
    "    \n"
   ]
  },
  {
   "cell_type": "markdown",
   "metadata": {},
   "source": [
    "## Esercizio 2: Stampare un prodotto\n",
    "\n",
    "Obiettivo: Scrivere un programma che stampi il prodotto dei primi 10 numeri interi positivi.\n",
    "\n",
    "```\n",
    "1 * 2 * ... * 10\n",
    "```\n",
    "\n",
    "Output atteso:\n",
    "\n",
    "```\n",
    "Il prodotto dei primi 10 interi è pari a: ...\n",
    "```"
   ]
  },
  {
   "cell_type": "code",
   "execution_count": 5,
   "metadata": {},
   "outputs": [
    {
     "name": "stdout",
     "output_type": "stream",
     "text": [
      "0\n",
      "2\n",
      "6\n",
      "12\n",
      "20\n",
      "30\n",
      "42\n",
      "56\n",
      "72\n",
      "90\n",
      "90\n"
     ]
    }
   ],
   "source": [
    "#dichiaro la variabile prodotto\n",
    "prodotto = 0\n",
    "#faccio ciclo for che per 10 cicli \n",
    "for i in range(10):\n",
    "    # moltiplica i primi 10 numeri\n",
    "    prodotto = i * (i + 1)\n",
    "    #li stampa ogni ciclo\n",
    "    print(prodotto)\n",
    "#stampa\n",
    "print(prodotto)\n",
    "\n"
   ]
  },
  {
   "cell_type": "markdown",
   "metadata": {},
   "source": [
    "## Esercizio 3: Stampare una scritta con lettere grandi\n",
    "\n",
    "Obiettivo: Scrivere un programma che stampi una parola a propria scelta, con \"lettere grandi\". Questo genere di effetto può essere ottenuto tramite delle techiche che rientrano in quella che viene chiamata in gergo _**ASCII art**_ o _**computer text art**_.\n",
    "\n",
    "Puoi provare tu stesso a \"comporre\" una parola manualmente, oppure puoi usare un'applicazione apposita. Sul web ne potete trovare molte. Per esempio questa:\n",
    "\n",
    "[patorjk.com/software/taag](https://patorjk.com/software/taag/)\n",
    "\n",
    "> NOTA: Esistono anche implementazioni direttamente scritte in Python. Per esempio uno dei moduli più popolari è `art`:\n",
    "> \n",
    "> [pypi.org/project/art](https://pypi.org/project/art/)"
   ]
  },
  {
   "cell_type": "markdown",
   "metadata": {},
   "source": [
    "Usa la funzione `print` per stampare a monitor una parola a tua scelta.\n",
    "\n",
    "Ecco due esempi dell'output atteso:\n",
    "\n",
    "```text\n",
    " PPPPPP   Y     Y  TTTTTTT  H     H  OOOOOOO  N     N \n",
    " P     P    Y Y       T     H     H  O     O  N N   N \n",
    " PPPPPP      Y        T     HHHHHHH  O     O  N  N  N \n",
    " P           Y        T     H     H  O     O  N   N N \n",
    " P           Y        T     H     H  OOOOOOO  N     N \n",
    "\n",
    "\n",
    "########  ##    ## ######## ##     ##  #######  ##    ## \n",
    "##     ##  ##  ##     ##    ##     ## ##     ## ###   ## \n",
    "##     ##   ####      ##    ##     ## ##     ## ####  ## \n",
    "########     ##       ##    ######### ##     ## ## ## ## \n",
    "##           ##       ##    ##     ## ##     ## ##  #### \n",
    "##           ##       ##    ##     ## ##     ## ##   ### \n",
    "##           ##       ##    ##     ##  #######  ##    ## \n",
    "\n",
    "```"
   ]
  },
  {
   "cell_type": "code",
   "execution_count": null,
   "metadata": {},
   "outputs": [],
   "source": [
    "# Scrivi qua il tuo codice\n"
   ]
  },
  {
   "cell_type": "markdown",
   "metadata": {},
   "source": [
    "## Esercizio 4: Fare lo *spelling*\n",
    "\n",
    "Obiettivo: Scrivere un programma che stampi il vostro nome, in colonna.\n",
    "\n",
    "Esempio di output atteso:\n",
    "\n",
    "```text\n",
    "G\n",
    "U\n",
    "I\n",
    "D\n",
    "O\n",
    "```"
   ]
  },
  {
   "cell_type": "code",
   "execution_count": null,
   "metadata": {},
   "outputs": [],
   "source": []
  },
  {
   "cell_type": "code",
   "execution_count": 2,
   "metadata": {},
   "outputs": [
    {
     "name": "stdout",
     "output_type": "stream",
     "text": [
      "g\n",
      "u\n",
      "i\n",
      "d\n",
      "o\n"
     ]
    }
   ],
   "source": [
    "parola = 'guido'\n",
    "# for lettera in parola:\n",
    "#     print(lettera)\n",
    "#UNPACKING\n",
    "print(*parola, sep='\\n') # = print('g', 'u','i', 'd', 'o',SEP = \\n)\n"
   ]
  },
  {
   "cell_type": "markdown",
   "metadata": {},
   "source": [
    "## Esercizio 5: Conto bancario\n",
    "\n",
    "Obiettivo: Scrivere un programma che calcoli il saldo di un conto bancario dopo il primo, secondo e terzo anno. Il conto ha un saldo iniziale di 1000 euro e vi vengono accreditati interessi annuali al 5%.\n",
    "\n",
    "Il programma deve stampare il saldo iniziale, e poi il saldo al termine di ciascun anno, fino al terzo.\n",
    "\n",
    "Output atteso:\n",
    "\n",
    "```text\n",
    "Il saldo iniziale è: ...\n",
    "Dopo l'anno 1 il saldo è: ...\n",
    "Dopo l'anno 2 il saldo è: ...\n",
    "Dopo l'anno 3 il saldo è: ...\n",
    "```"
   ]
  },
  {
   "cell_type": "code",
   "execution_count": 13,
   "metadata": {},
   "outputs": [
    {
     "name": "stdout",
     "output_type": "stream",
     "text": [
      "Il saldo iniziale è:  1000\n",
      "Dopo l'anno 1 il saldo è:  1050.0\n",
      "Dopo l'anno 2 il saldo è:  1102.5\n",
      "Dopo l'anno 3 il saldo è:  1157.625\n"
     ]
    }
   ],
   "source": [
    "saldo_iniziale = 1000\n",
    "INTERESSE =  1.05\n",
    "anno1 = saldo_iniziale * INTERESSE \n",
    "anno2 = anno1 * INTERESSE\n",
    "anno3 = anno2 * INTERESSE\n",
    "\n",
    "\n",
    "\n",
    "print(\"Il saldo iniziale è: \", saldo_iniziale)\n",
    "print(\"Dopo l'anno 1 il saldo è: \",anno1)\n",
    "print(\"Dopo l'anno 2 il saldo è: \",anno2)\n",
    "print(\"Dopo l'anno 3 il saldo è: \",anno3)\n",
    "\n"
   ]
  },
  {
   "cell_type": "code",
   "execution_count": 30,
   "metadata": {},
   "outputs": [
    {
     "name": "stdout",
     "output_type": "stream",
     "text": [
      "Il saldo iniziale è:  1000\n",
      "Dopo l'anno 1 il saldo è:  1050.00\n",
      "Dopo l'anno 2 il saldo è:  1102.50\n",
      "Dopo l'anno 3 il saldo è:  1157.62\n",
      "Dopo l'anno 4 il saldo è:  1215.51\n",
      "Dopo l'anno 5 il saldo è:  1276.28\n",
      "Dopo l'anno 6 il saldo è:  1340.10\n",
      "Dopo l'anno 7 il saldo è:  1407.10\n",
      "Dopo l'anno 8 il saldo è:  1477.46\n",
      "Dopo l'anno 9 il saldo è:  1551.33\n",
      "Dopo l'anno 10 il saldo è:  1628.89\n",
      "Dopo l'anno 11 il saldo è:  1710.34\n",
      "Dopo l'anno 12 il saldo è:  1795.86\n",
      "Dopo l'anno 13 il saldo è:  1885.65\n",
      "Dopo l'anno 14 il saldo è:  1979.93\n",
      "Dopo l'anno 15 il saldo è:  2078.93\n",
      "Dopo l'anno 16 il saldo è:  2182.87\n",
      "Dopo l'anno 17 il saldo è:  2292.02\n",
      "Dopo l'anno 18 il saldo è:  2406.62\n",
      "Dopo l'anno 19 il saldo è:  2526.95\n",
      "Dopo l'anno 20 il saldo è:  2653.30\n"
     ]
    }
   ],
   "source": [
    "#con ciclo FOR\n",
    "saldo_iniziale = 1000\n",
    "INTERESSE =  1.05\n",
    "anno1 = saldo_iniziale * INTERESSE \n",
    "num_anni = int(input('prego inserire numero di anni su cui calcolare gli interessi:'))\n",
    "\n",
    "\n",
    "saldo_corrente = saldo_iniziale\n",
    "\n",
    "print(\"Il saldo iniziale è: \", saldo_iniziale)\n",
    "\n",
    "\n",
    "for idx in range(num_anni) :\n",
    "    saldo_corrente = saldo_corrente * INTERESSE\n",
    "    \n",
    "    print(f\"Dopo l'anno {idx + 1} il saldo è: {saldo_corrente : .2f}\")\n"
   ]
  },
  {
   "cell_type": "markdown",
   "metadata": {},
   "source": [
    "## Esercizio 6: Testo incorniciato\n",
    "\n",
    "Obiettivo: Scrivere un programma che stampi il vostro nome all’interno di un rettangolo, utilizzando i caratteri: `|`, `-` e `+`.\n",
    "\n",
    "Esempio di output atteso:\n",
    "\n",
    "```text\n",
    " +--------+\n",
    " | Graham |\n",
    " +--------+\n",
    "```"
   ]
  },
  {
   "cell_type": "code",
   "execution_count": null,
   "metadata": {},
   "outputs": [],
   "source": [
    "# Scrivi qua il tuo codice\n"
   ]
  },
  {
   "cell_type": "markdown",
   "metadata": {},
   "source": [
    "## Esercizio 7: Scacchiera 5x5\n",
    "\n",
    "Obiettivo: Scrivere un programma che stampi una \"scacchiera\" di dimensioni 5x5 in cui le caselle bianche sono rappresentate da `0`, e le caselle nere da `1`.\n",
    "\n",
    "Output atteso:\n",
    "\n",
    "```text\n",
    "0 1 0 1 0\n",
    "1 0 1 0 1\n",
    "0 1 0 1 0\n",
    "1 0 1 0 1\n",
    "0 1 0 1 0\n",
    "```"
   ]
  },
  {
   "cell_type": "code",
   "execution_count": 1,
   "metadata": {},
   "outputs": [
    {
     "name": "stdout",
     "output_type": "stream",
     "text": [
      "0 1 0 1 0\n",
      "1 0 1 0 1\n",
      "0 1 0 1 0\n",
      "1 0 1 0 1\n",
      "0 1 0 1 0\n"
     ]
    }
   ],
   "source": [
    "riga_pari = '0 1 0 1 0'\n",
    "riga_dispari = '1 0 1 0 1'\n",
    "\n",
    "for row in range(5):\n",
    "    # se l'indice riga è pari\n",
    "    if row % 2 == 0:\n",
    "        print(riga_pari)\n",
    "    # se l'indice riga è dispari\n",
    "    else:\n",
    "        print(riga_dispari)\n"
   ]
  },
  {
   "cell_type": "markdown",
   "metadata": {},
   "source": [
    "## Esercizio 8: Una lunga linea\n",
    "\n",
    "Obiettivo: Scrivere un programma che stampi una linea composta da 100 trattini `-`.\n",
    "\n",
    "Output atteso:\n",
    "\n",
    "```text\n",
    "--------------------------------... tot. 100 trattini\n",
    "```"
   ]
  },
  {
   "cell_type": "code",
   "execution_count": null,
   "metadata": {},
   "outputs": [],
   "source": [
    "# Scrivi qua il tuo codice\n"
   ]
  },
  {
   "cell_type": "markdown",
   "metadata": {},
   "source": [
    "## Esercizio 9: Tanti zeri\n",
    "\n",
    "Obiettivo: Scrivere un programma che stampi una sequenza di cifre composta da 100 zeri (`0`).\n",
    "\n",
    "Output atteso:\n",
    "\n",
    "```text\n",
    "00000000000000000000000000000000... tot. 100 zeri\n",
    "```"
   ]
  },
  {
   "cell_type": "code",
   "execution_count": null,
   "metadata": {},
   "outputs": [],
   "source": [
    "# Scrivi qua il tuo codice\n"
   ]
  }
 ],
 "metadata": {
  "kernelspec": {
   "display_name": ".venv",
   "language": "python",
   "name": "python3"
  },
  "language_info": {
   "codemirror_mode": {
    "name": "ipython",
    "version": 3
   },
   "file_extension": ".py",
   "mimetype": "text/x-python",
   "name": "python",
   "nbconvert_exporter": "python",
   "pygments_lexer": "ipython3",
   "version": "3.10.0"
  }
 },
 "nbformat": 4,
 "nbformat_minor": 2
}
