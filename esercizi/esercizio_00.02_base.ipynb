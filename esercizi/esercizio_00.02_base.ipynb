{
 "cells": [
  {
   "cell_type": "markdown",
   "metadata": {},
   "source": [
    "# Esercizi introduttivi"
   ]
  },
  {
   "cell_type": "markdown",
   "metadata": {},
   "source": [
    "TEMI TRATTATI:\n",
    "\n",
    "- Creazione ed esecuzione di semplici programmi (script).\n",
    "- Stampare a monitor."
   ]
  },
  {
   "cell_type": "markdown",
   "metadata": {},
   "source": [
    "NOTE SULLO SVOLGIMENTO:\n",
    "- Puoi svolgere ed eseguire gli esercizi direttamente qua su questo notebook oppure su un normale file di script Python con estensione `.py`, eseguendolo nel terminale del sistema operativo con il comando `py mio_esercizio.py` (Windows) oppure `python3 mio_esercizio.py` (Linux o macOS)."
   ]
  },
  {
   "cell_type": "markdown",
   "metadata": {},
   "source": [
    "## Esercizio 1: Stampare una somma\n",
    "\n",
    "Obiettivo: Scrivere un programma che stampi la somma dei primi 10 numeri interi positivi.\n",
    "\n",
    "```\n",
    "1 + 2 + ... + 10\n",
    "```\n",
    "\n",
    "Output atteso:\n",
    "\n",
    "```\n",
    "La somma dei primi 10 interi è pari a: ...\n",
    "```"
   ]
  },
  {
   "cell_type": "code",
   "execution_count": 13,
   "metadata": {},
   "outputs": [
    {
     "name": "stdout",
     "output_type": "stream",
     "text": [
      "la somma dei primi 10 numeri inter e pari a : 55\n",
      "la somma dei primi 10 numeri ienteri e pari a : 55\n",
      "la somma dei primi 10 numeri ienteri e pari a : 55\n",
      "[1, 2, 3, 4, 5, 6, 7, 8, 9, 10]\n"
     ]
    }
   ],
   "source": [
    "# Scrivi qua il tuo codice\n",
    "\n",
    "x=(1+2+3+4+5+6+7+8+9+10)\n",
    "\n",
    "print('la somma dei primi 10 numeri inter e pari a :', x )\n",
    "\n",
    "\n",
    "# resuelto con ciclo for\n",
    "somma = 0\n",
    "for i in range(1,11): # usamos la funcion RANGE para  saber desde donde hasta donde, y entre parentesis va el star y el stop\n",
    "    somma += i  # e lo stesso di scrivere: somma = somma + i\n",
    "\n",
    "\n",
    "print('la somma dei primi 10 numeri ienteri e pari a :', somma)\n",
    "\n",
    "\n",
    "\n",
    "# SOMMA CON TUPPLE O LISTA\n",
    "\n",
    "numeri = [1,2,3,4,5,6,7,8,9,10]\n",
    "\n",
    "somma = sum(numeri)\n",
    "print('la somma dei primi 10 numeri ienteri e pari a :', somma)\n",
    "\n",
    "\n",
    "\n",
    "print(list(range(1,11)))\n",
    "\n",
    "\n",
    "# divmod() da la division y el resto en vez de hacerlo unop por uno 15//51 15%5"
   ]
  },
  {
   "cell_type": "markdown",
   "metadata": {},
   "source": [
    "## Esercizio 2: Stampare un prodotto\n",
    "\n",
    "Obiettivo: Scrivere un programma che stampi il prodotto dei primi 10 numeri interi positivi.\n",
    "\n",
    "```\n",
    "1 * 2 * ... * 10\n",
    "```\n",
    "\n",
    "Output atteso:\n",
    "\n",
    "```\n",
    "Il prodotto dei primi 10 interi è pari a: ...\n",
    "```"
   ]
  },
  {
   "cell_type": "code",
   "execution_count": 8,
   "metadata": {},
   "outputs": [
    {
     "name": "stdout",
     "output_type": "stream",
     "text": [
      "Il prodotto dei primi 10 interi è pari a  5411658792960\n",
      "Il prodotto dei primi 10 interi è pari a  3628800\n"
     ]
    }
   ],
   "source": [
    "# Scrivi qua il tuo codice\n",
    "\n",
    "x=(1*2*3*4*5*6*7*8**10)\n",
    "\n",
    "print('Il prodotto dei primi 10 interi è pari a ', x)\n",
    "\n",
    "\n",
    "\n"
   ]
  },
  {
   "cell_type": "markdown",
   "metadata": {},
   "source": [
    "## Esercizio 3: Stampare una scritta con lettere grandi\n",
    "\n",
    "Obiettivo: Scrivere un programma che stampi una parola a propria scelta, con \"lettere grandi\". Questo genere di effetto può essere ottenuto tramite delle techiche che rientrano in quella che viene chiamata in gergo _**ASCII art**_ o _**computer text art**_.\n",
    "\n",
    "Puoi provare tu stesso a \"comporre\" una parola manualmente, oppure puoi usare un'applicazione apposita. Sul web ne potete trovare molte. Per esempio questa:\n",
    "\n",
    "[patorjk.com/software/taag](https://patorjk.com/software/taag/)\n",
    "\n",
    "> NOTA: Esistono anche implementazioni direttamente scritte in Python. Per esempio uno dei moduli più popolari è `art`:\n",
    "> \n",
    "> [pypi.org/project/art](https://pypi.org/project/art/)"
   ]
  },
  {
   "cell_type": "markdown",
   "metadata": {},
   "source": [
    "Usa la funzione `print` per stampare a monitor una parola a tua scelta.\n",
    "\n",
    "Ecco due esempi dell'output atteso:\n",
    "\n",
    "```text\n",
    " PPPPPP   Y     Y  TTTTTTT  H     H  OOOOOOO  N     N \n",
    " P     P    Y Y       T     H     H  O     O  N N   N \n",
    " PPPPPP      Y        T     HHHHHHH  O     O  N  N  N \n",
    " P           Y        T     H     H  O     O  N   N N \n",
    " P           Y        T     H     H  OOOOOOO  N     N \n",
    "\n",
    "\n",
    "########  ##    ## ######## ##     ##  #######  ##    ## \n",
    "##     ##  ##  ##     ##    ##     ## ##     ## ###   ## \n",
    "##     ##   ####      ##    ##     ## ##     ## ####  ## \n",
    "########     ##       ##    ######### ##     ## ## ## ## \n",
    "##           ##       ##    ##     ## ##     ## ##  #### \n",
    "##           ##       ##    ##     ## ##     ## ##   ### \n",
    "##           ##       ##    ##     ##  #######  ##    ## \n",
    "\n",
    "```"
   ]
  },
  {
   "cell_type": "code",
   "execution_count": null,
   "metadata": {},
   "outputs": [],
   "source": [
    "# Scrivi qua il tuo codice\n",
    "                              \n",
    "                                                            \n",
    "                                                            \n",
    "                                                            \n",
    "                                                            \n",
    "                                                            \n",
    "                                                            \n",
    "                                                            \n"
   ]
  },
  {
   "cell_type": "markdown",
   "metadata": {},
   "source": [
    "## Esercizio 4: Fare lo *spelling*\n",
    "\n",
    "Obiettivo: Scrivere un programma che stampi il vostro nome, in colonna.\n",
    "\n",
    "Esempio di output atteso:\n",
    "\n",
    "```text\n",
    "G\n",
    "U\n",
    "I\n",
    "D\n",
    "O\n",
    "```"
   ]
  },
  {
   "cell_type": "code",
   "execution_count": 8,
   "metadata": {},
   "outputs": [
    {
     "name": "stdout",
     "output_type": "stream",
     "text": [
      "E\n",
      "D\n",
      "U\n",
      "A\n",
      "R\n",
      "D\n",
      "O\n",
      "E\n",
      "d\n",
      "u\n",
      "a\n",
      "r\n",
      "d\n",
      "o\n",
      "E\n",
      "d\n",
      "u\n",
      "a\n",
      "r\n",
      "d\n",
      "o\n"
     ]
    }
   ],
   "source": [
    "# resoluzione facile con print\n",
    "print('E')\n",
    "print('D')\n",
    "print('U')\n",
    "print('A')\n",
    "print('R')\n",
    "print('D')\n",
    "print('O')\n",
    "\n",
    "\n",
    "##  resoluzione con ciclo for\n",
    "\n",
    "nome = 'Eduardo'\n",
    "\n",
    "for char in nome:\n",
    "    print(char)\n",
    "\n",
    "\n",
    "\n",
    "\n",
    "# decompone la mia stringa e pasa quella como un ogetto separato\n",
    "# si puo usare qualunque secuenza (magari iterabile)\n",
    "    \n",
    "print(*nome, sep='\\n') #UNPACKING e con sep \\n si fa andare a capo dopo ogni lettera\n"
   ]
  },
  {
   "cell_type": "markdown",
   "metadata": {},
   "source": [
    "## Esercizio 5: Conto bancario\n",
    "\n",
    "Obiettivo: Scrivere un programma che calcoli il saldo di un conto bancario dopo il primo, secondo e terzo anno. Il conto ha un saldo iniziale di 1000 euro e vi vengono accreditati interessi annuali al 5%.\n",
    "\n",
    "Il programma deve stampare il saldo iniziale, e poi il saldo al termine di ciascun anno, fino al terzo.\n",
    "\n",
    "Output atteso:\n",
    "\n",
    "```text\n",
    "Il saldo iniziale è: ...\n",
    "Dopo l'anno 1 il saldo è: ...\n",
    "Dopo l'anno 2 il saldo è: ...\n",
    "Dopo l'anno 3 il saldo è: ...\n",
    "```"
   ]
  },
  {
   "cell_type": "code",
   "execution_count": 31,
   "metadata": {},
   "outputs": [
    {
     "name": "stdout",
     "output_type": "stream",
     "text": [
      "Dopo l'anno 1 il saldo è: 1050.0\n",
      "Dopo l'anno 3 il saldo è: 1102.5\n",
      "Dopo l'anno 3 il saldo è: 1157.625\n",
      "[1050.0, 1102.5, 1157.625]\n",
      "Saldo iniziale :  1000\n",
      "dopo il primo anno il saldo e  1050.0\n",
      "dopo il primo anno il saldo e  1102.5\n",
      "dopo il primo anno il saldo e  1157.625\n",
      "Saldo iniziale :  1000\n",
      "dopo l'anno 1 il saldo e  1050\n",
      "dopo l'anno 2 il saldo e  1102\n",
      "dopo l'anno 3 il saldo e  1158\n",
      "dopo l'anno 4 il saldo e  1216\n",
      "dopo l'anno 5 il saldo e  1276\n"
     ]
    }
   ],
   "source": [
    "# Scrivi qua il tuo codice\n",
    "\n",
    "saldo = 1000\n",
    "\n",
    "saldo = saldo + saldo * 0.05\n",
    "print(\"Dopo l'anno 1 il saldo è:\", saldo)\n",
    "\n",
    "\n",
    "saldo = saldo + saldo * 0.05\n",
    "print(\"Dopo l'anno 3 il saldo è:\", saldo)\n",
    "\n",
    "saldo = saldo + saldo * 0.05\n",
    "print(\"Dopo l'anno 3 il saldo è:\", saldo)\n",
    "\n",
    "\n",
    "\n",
    "\n",
    "\n",
    "#   con ciclo for\n",
    "\n",
    "\n",
    "INTERESSE = 1.05\n",
    "\n",
    "saldo_init = 1000\n",
    "saldi = list()\n",
    "saldo_corrente = saldo_init \n",
    "\n",
    "for idx in range(3):\n",
    "    saldo_corrente = saldo_corrente * INTERESSE\n",
    "    saldi.append(saldo_corrente)\n",
    "\n",
    "print(saldi)\n",
    "\n",
    "\n",
    "print(\"Saldo iniziale : \", saldo_init)\n",
    "print(\"dopo il primo anno il saldo e \", saldi[0])\n",
    "print(\"dopo il primo anno il saldo e \", saldi[1])\n",
    "print(\"dopo il primo anno il saldo e \", saldi[2])\n",
    "\n",
    "\n",
    "\n",
    "\n",
    "# ciclo for migliorato\n",
    "\n",
    "num_anni = int(input('prego inserire numero di anni su cui calcolare gli interesi: '))\n",
    "\n",
    "INTERESSE = 1.05\n",
    "\n",
    "saldo_init = 1000\n",
    "\n",
    "saldo_corrente = saldo_init \n",
    "\n",
    "print(\"Saldo iniziale : \", saldo_init)\n",
    "for idx in range(num_anni):\n",
    "    saldo_corrente = saldo_corrente * INTERESSE\n",
    "    print(f\"dopo l'anno {idx+1} il saldo e \", round(saldo_corrente))\n",
    "    # saldi.append(saldo_corrente)\n",
    "\n",
    "\n",
    "\n",
    "\n",
    "\n",
    "\n"
   ]
  },
  {
   "cell_type": "markdown",
   "metadata": {},
   "source": [
    "## Esercizio 6: Testo incorniciato\n",
    "\n",
    "Obiettivo: Scrivere un programma che stampi il vostro nome all’interno di un rettangolo, utilizzando i caratteri: `|`, `-` e `+`.\n",
    "\n",
    "Esempio di output atteso:\n",
    "\n",
    "```text\n",
    " +--------+\n",
    " | Graham |\n",
    " +--------+\n",
    "```"
   ]
  },
  {
   "cell_type": "code",
   "execution_count": null,
   "metadata": {},
   "outputs": [
    {
     "name": "stdout",
     "output_type": "stream",
     "text": [
      "+---------+\n",
      "| Eduardo |\n",
      "+---------+\n"
     ]
    }
   ],
   "source": [
    "# Scrivi qua il tuo codice\n",
    "\n",
    "print(\"+---------+\")\n",
    "print(\"| Eduardo |\")\n",
    "print(\"+---------+\")\n"
   ]
  },
  {
   "cell_type": "markdown",
   "metadata": {},
   "source": [
    "## Esercizio 7: Scacchiera 5x5\n",
    "\n",
    "Obiettivo: Scrivere un programma che stampi una \"scacchiera\" di dimensioni 5x5 in cui le caselle bianche sono rappresentate da `0`, e le caselle nere da `1`.\n",
    "\n",
    "Output atteso:\n",
    "\n",
    "```text\n",
    "0 1 0 1 0\n",
    "1 0 1 0 1\n",
    "0 1 0 1 0\n",
    "1 0 1 0 1\n",
    "0 1 0 1 0\n",
    "```"
   ]
  },
  {
   "cell_type": "code",
   "execution_count": 33,
   "metadata": {},
   "outputs": [
    {
     "name": "stdout",
     "output_type": "stream",
     "text": [
      "0 1 0 1 0\n",
      "1 0 1 0 1\n",
      "0 1 0 1 0\n",
      "1 0 1 0 1\n",
      "0 1 0 1 0\n",
      "0 1 0 1 0\n",
      "0 1 0 1 0\n",
      "0 1 0 1 0\n"
     ]
    }
   ],
   "source": [
    "# Scrivi qua il tuo codice\n",
    "\n",
    "rigaUno = \"0 1 0 1 0\"\n",
    "rigaDue = \"1 0 1 0 1\"\n",
    "\n",
    "print(rigaUno)\n",
    "print(rigaDue)\n",
    "print(rigaUno)\n",
    "print(rigaDue)\n",
    "print(rigaUno)\n",
    "\n",
    "riga1 = \"0 1 0 1 0\"\n",
    "riga2 = \"1 0 1 0 1\"\n",
    "\n",
    "for row in [riga1, riga2]:\n",
    "    print(riga1)"
   ]
  },
  {
   "cell_type": "markdown",
   "metadata": {},
   "source": [
    "## Esercizio 8: Una lunga linea\n",
    "\n",
    "Obiettivo: Scrivere un programma che stampi una linea composta da 100 trattini `-`.\n",
    "\n",
    "Output atteso:\n",
    "\n",
    "```text\n",
    "--------------------------------... tot. 100 trattini\n",
    "```"
   ]
  },
  {
   "cell_type": "code",
   "execution_count": null,
   "metadata": {},
   "outputs": [
    {
     "name": "stdout",
     "output_type": "stream",
     "text": [
      "----------------------------------------------------------------------------------------------------\n"
     ]
    }
   ],
   "source": [
    "# Scrivi qua il tuo codice\n",
    "print('-'*100)"
   ]
  },
  {
   "cell_type": "markdown",
   "metadata": {},
   "source": [
    "## Esercizio 9: Tanti zeri\n",
    "\n",
    "Obiettivo: Scrivere un programma che stampi una sequenza di cifre composta da 100 zeri (`0`).\n",
    "\n",
    "Output atteso:\n",
    "\n",
    "```text\n",
    "00000000000000000000000000000000... tot. 100 zeri\n",
    "```"
   ]
  },
  {
   "cell_type": "code",
   "execution_count": null,
   "metadata": {},
   "outputs": [
    {
     "name": "stdout",
     "output_type": "stream",
     "text": [
      "0000000000000000000000000000000000000000000000000000000000000000000000000000000000000000000000000000\n"
     ]
    }
   ],
   "source": [
    "# Scrivi qua il tuo codice\n",
    "\n",
    "print( '0' *100)"
   ]
  }
 ],
 "metadata": {
  "kernelspec": {
   "display_name": ".venv",
   "language": "python",
   "name": "python3"
  },
  "language_info": {
   "codemirror_mode": {
    "name": "ipython",
    "version": 3
   },
   "file_extension": ".py",
   "mimetype": "text/x-python",
   "name": "python",
   "nbconvert_exporter": "python",
   "pygments_lexer": "ipython3",
   "version": "3.10.0"
  }
 },
 "nbformat": 4,
 "nbformat_minor": 2
}
