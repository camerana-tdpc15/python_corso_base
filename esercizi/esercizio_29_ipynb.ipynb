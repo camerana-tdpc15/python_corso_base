{
 "cells": [
  {
   "cell_type": "markdown",
   "metadata": {},
   "source": [
    "# Aggiungere un sommario a un notebook Jupyter"
   ]
  },
  {
   "cell_type": "markdown",
   "metadata": {},
   "source": [
    "Versione base, cerca tutti le linee che iniziano con `#` nei blocchi di Markdown."
   ]
  },
  {
   "cell_type": "code",
   "execution_count": null,
   "metadata": {},
   "outputs": [],
   "source": [
    "import nbformat\n",
    "\n",
    "def create_toc(notebook_path):\n",
    "    # Carica il notebook\n",
    "    nb = nbformat.read(notebook_path, as_version=4)\n",
    "\n",
    "    # Crea un nuovo TOC\n",
    "    toc = ['# Sommario']\n",
    "    for cell in nb['cells']:\n",
    "        if cell['cell_type'] == 'markdown':\n",
    "            lines = cell['source'].split('\\n')\n",
    "            for line in lines:\n",
    "                if line.startswith('#'):\n",
    "                    # Conta il livello del heading\n",
    "                    level = len(line) - len(line.lstrip('#'))\n",
    "                    title = line.strip('#').strip()\n",
    "                    anchor = title.lower().replace(' ', '-').replace('.', '').replace('(', '').replace(')', '')\n",
    "                    toc.append(f\"{'  ' * (level-1)}- [{title}](#{anchor})\")\n",
    "\n",
    "    # Aggiungi il TOC come prima cella del notebook\n",
    "    toc_cell = nbformat.v4.new_markdown_cell('\\n'.join(toc))\n",
    "    nb['cells'].insert(0, toc_cell)\n",
    "\n",
    "    # Salva il notebook modificato\n",
    "    nbformat.write(nb, notebook_path)\n",
    "\n",
    "# Sostituisci 'percorso/al/tuo/notebook.ipynb' con il percorso effettivo del tuo notebook\n",
    "create_toc('./esercizio_00.02_base_copy.ipynb')\n"
   ]
  },
  {
   "cell_type": "markdown",
   "metadata": {},
   "source": [
    "Versione che ignora i blocchi di codice all'interno dei backtick tripli <code>```</code>, es:\n",
    "\n",
    "```python\n",
    "# Stampa una stringa\n",
    "print('Hello, World!')\n",
    "\n",
    "```"
   ]
  },
  {
   "cell_type": "code",
   "execution_count": null,
   "metadata": {},
   "outputs": [],
   "source": [
    "import nbformat\n",
    "\n",
    "def create_toc(notebook_path):\n",
    "    # Carica il notebook\n",
    "    nb = nbformat.read(notebook_path, as_version=4)\n",
    "\n",
    "    # Crea un nuovo TOC\n",
    "    toc = ['# Sommario']\n",
    "    in_code_block = False\n",
    "    for cell in nb['cells']:\n",
    "        if cell['cell_type'] == 'markdown':\n",
    "            lines = cell['source'].split('\\n')\n",
    "            for line in lines:\n",
    "                # Verifica se la linea è un blocco di codice (backticks tripli)\n",
    "                if line.strip().startswith('```'):\n",
    "                    in_code_block = not in_code_block\n",
    "                    continue  # Passa alla prossima linea\n",
    "                if in_code_block or not line.startswith('#'):\n",
    "                    continue  # Ignora le linee successive all'interno dei backticks\n",
    "                # Conta il livello del heading\n",
    "                level = len(line) - len(line.lstrip('#'))\n",
    "                title = line.strip('#').strip()\n",
    "                anchor = title.lower().replace(' ', '-').replace('.', '').replace('(', '').replace(')', '').replace('#', '')\n",
    "                toc.append(f\"{'  ' * (level-1)}- [{title}](#{anchor})\")\n",
    "\n",
    "    # Aggiungi il TOC come prima cella del notebook\n",
    "    toc_cell = nbformat.v4.new_markdown_cell('\\n'.join(toc))\n",
    "    nb['cells'].insert(0, toc_cell)\n",
    "\n",
    "    # Salva il notebook modificato\n",
    "    nbformat.write(nb, notebook_path)\n",
    "\n",
    "create_toc('./esercizio_00.02_base_copy.ipynb')"
   ]
  },
  {
   "cell_type": "markdown",
   "metadata": {},
   "source": [
    "Versione che tagga il blocco di Markdown che contiene il sommario in modo da poter sostituire il sommario con quello nuovo. Usa la chiave `\"metatati\"` del blocco Markdown."
   ]
  },
  {
   "cell_type": "code",
   "execution_count": null,
   "metadata": {},
   "outputs": [],
   "source": [
    "import nbformat\n",
    "\n",
    "def create_toc(notebook_path):\n",
    "    # Carica il notebook\n",
    "    nb = nbformat.read(notebook_path, as_version=4)\n",
    "\n",
    "    # Identifica e rimuovi il vecchio TOC se esiste\n",
    "    nb['cells'] = [cell for cell in nb['cells'] if not cell.get('metadata', {}).get('is_toc', False)]\n",
    "\n",
    "    # Crea un nuovo TOC\n",
    "    toc = ['# Sommario']\n",
    "    in_code_block = False\n",
    "    for cell in nb['cells']:\n",
    "        if cell['cell_type'] == 'markdown':\n",
    "            lines = cell['source'].split('\\n')\n",
    "            # Legge una linea alla volta\n",
    "            for line in lines:\n",
    "                # Salta i blocchi di codice e le linee che non sono heading\n",
    "                if line.strip().startswith('```'):\n",
    "                    in_code_block = not in_code_block  # La prima volta entra nel \n",
    "                                                       # blocco, la seconda ne esce\n",
    "                    continue\n",
    "                if in_code_block or not line.startswith('#'):\n",
    "                    continue\n",
    "                # Conta il livello del heading\n",
    "                level = len(line) - len(line.lstrip('#'))\n",
    "                title = line.strip('#').strip()\n",
    "                anchor = title.lower().replace(' ', '-').replace('.', '').replace('(', '').replace(')', '').replace('#', '')\n",
    "                toc.append(f\"{'  ' * (level-1)}- [{title}](#{anchor})\")\n",
    "\n",
    "    # Aggiungi il TOC come prima cella del notebook\n",
    "    toc_cell = nbformat.v4.new_markdown_cell('\\n'.join(toc))\n",
    "    # Usa il metadata per marcare la cella come TOC\n",
    "    toc_cell['metadata']['is_toc'] = True\n",
    "    nb['cells'].insert(0, toc_cell)\n",
    "\n",
    "    # Salva il notebook modificato\n",
    "    nbformat.write(nb, notebook_path)\n",
    "\n",
    "create_toc('./esercizio_00.02_base_copy.ipynb')"
   ]
  }
 ],
 "metadata": {
  "language_info": {
   "name": "python"
  }
 },
 "nbformat": 4,
 "nbformat_minor": 2
}
