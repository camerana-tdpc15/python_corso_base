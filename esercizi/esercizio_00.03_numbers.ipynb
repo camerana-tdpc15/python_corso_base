{
 "cells": [
  {
   "cell_type": "markdown",
   "metadata": {},
   "source": [
    "# Esercizi introduttivi"
   ]
  },
  {
   "cell_type": "markdown",
   "metadata": {},
   "source": [
    "TEMI TRATTATI:\n",
    "\n",
    "- I tipi di variabile.\n",
    "- Gli operatori aritmetici di base.\n",
    "- La manipolazione di stringhe."
   ]
  },
  {
   "cell_type": "markdown",
   "metadata": {},
   "source": [
    "NOTE SULLO SVOLGIMENTO:\n",
    "- Puoi svolgere ed eseguire gli esercizi direttamente qua su questo notebook oppure su un normale file di script Python con estensione `.py`, eseguendolo nel terminale del sistema operativo con il comando `py mio_esercizio.py` (Windows) oppure `python3 mio_esercizio.py` (Linux o macOS)."
   ]
  },
  {
   "cell_type": "markdown",
   "metadata": {},
   "source": [
    "## Esercizio 1: Due numeri\n",
    "\n",
    "Scrivere un programma che memorizzi due numeri interi in due costanti definite nel codice, e poi ne visualizzi:\n",
    "\n",
    "- La somma.\n",
    "- La differenza.\n",
    "- Il prodotto.\n",
    "- Il valore medio.\n",
    "- La distanza (cioè il valore assoluto della differenza).\n",
    "- Il valore massimo (cioè il maggiore tra i due).\n",
    "- Il valore minimo (cioè il minore tra i due).\n",
    "\n",
    "**SUGGERIMENTO:** utilizzare le funzioni built-in `max()` e `min()`. Esse accettano una sequenza di valori separati da virgola in input e restituiscono rispettivamente il valore massimo e minimo della sequenza (ad esempio, `max(10, 5)` restituisce `10`)."
   ]
  },
  {
   "cell_type": "code",
   "execution_count": 13,
   "metadata": {},
   "outputs": [
    {
     "name": "stdout",
     "output_type": "stream",
     "text": [
      "inserisci il valore di a: \n",
      "inserisci il valore di b: \n",
      "la somma è : 13\n",
      "la differenza è : 7\n",
      "il prodotto è : 30\n",
      "il valore medio è : 6.5\n",
      "il valore assoluto è:  7\n",
      "il valore massimo è: 10\n",
      "il valore minimo è  3\n"
     ]
    }
   ],
   "source": [
    "print('inserisci il valore di a: ')\n",
    "a = int(input())\n",
    "print('inserisci il valore di b: ')\n",
    "b = int(input())\n",
    "\n",
    "somma = (a + b)\n",
    "print('la somma è :', somma)\n",
    "\n",
    "differenza = a - b\n",
    "print('la differenza è :', differenza)\n",
    "\n",
    "prodotto = a * b\n",
    "print('il prodotto è :', prodotto)\n",
    "\n",
    "valore_medio = somma / 2\n",
    "print('il valore medio è :', valore_medio)\n",
    "\n",
    "valore_ass = abs(a - b)\n",
    "print('il valore assoluto è: ', valore_ass)\n",
    "\n",
    "valore_max = max(a, b)\n",
    "print('il valore massimo è:', valore_max)\n",
    "\n",
    "valore_min = min(a, b)\n",
    "print('il valore minimo è ', valore_min)"
   ]
  },
  {
   "cell_type": "markdown",
   "metadata": {},
   "source": [
    "## Esercizio 2: Cifre\n",
    "\n",
    "Scrivere un programma che memorizzi in una costante un numero intero positivo di cinque cifre (quindi compreso tra `10000` e `99999`), e visualizzi le singole cifre di cui è composto. Ad esempio, avendo il numero `16384`, il programma deve visualizzare, su righe separate:\n",
    "\n",
    "```text\n",
    "1\n",
    "6\n",
    "3\n",
    "8\n",
    "4\n",
    "```"
   ]
  },
  {
   "cell_type": "code",
   "execution_count": 14,
   "metadata": {},
   "outputs": [
    {
     "name": "stdout",
     "output_type": "stream",
     "text": [
      "inserisci un numero da 5 cifre compreso tra 10000 e 99999\n",
      "6\n",
      "9\n",
      "8\n",
      "5\n",
      "4\n"
     ]
    }
   ],
   "source": [
    "print('inserisci un numero da 5 cifre compreso tra 10000 e 99999')\n",
    "numero = input()\n",
    "for cifra in numero :\n",
    "    print(cifra)\n"
   ]
  },
  {
   "cell_type": "markdown",
   "metadata": {},
   "source": [
    "## Esercizio 3: Caratteri\n",
    "\n",
    "Scrivere un programma che memorizzi una stringa in una variabile e, a partire da quella variabile, visualizzi i primi tre caratteri della stringa, seguiti da tre punti, ancora seguiti dagli ultimi tre caratteri.\n",
    "\n",
    "Ad esempio, se la stringa viene inizializzata al valore `'Mississippi'`, il programma deve visualizzare `'Mis...ppi'`."
   ]
  },
  {
   "cell_type": "code",
   "execution_count": 7,
   "metadata": {},
   "outputs": [
    {
     "name": "stdout",
     "output_type": "stream",
     "text": [
      "Mis...ppi\n"
     ]
    }
   ],
   "source": [
    "parola = 'Mississippi'\n",
    "parola1 = parola [0 : 3]\n",
    "parola2 = parola [8 : 100]\n",
    "print(f'{parola1}...{parola2}')\n"
   ]
  },
  {
   "cell_type": "markdown",
   "metadata": {},
   "source": [
    "Prova a rispondere alle seguenti domande:\n",
    "- Cosa succede se la stringa è lunga meno di 6 caratteri?\n",
    "- Cosa succede se la stringa è lunga meno di 3 caratteri?"
   ]
  },
  {
   "cell_type": "markdown",
   "metadata": {},
   "source": [
    "## Esercizio 4: Numero telefonico\n",
    "\n",
    "Lo pseudocodice seguente descrive come trasformare una stringa contenente un numero telefonico a dieci cifre (come `'4155551212'`) in una stringa più facilmente leggibile, formattata secondo lo stile statunitense, come `'(415) 555–1212'`:\n",
    "\n",
    "1. Prendere la stringa costituita dai primi tre caratteri e circondarla con parentesi tonde (questo è il prefisso, detto \"area code\").\n",
    "2. Concatenare il prefisso ad uno spazio, poi alla stringa contenente i tre caratteri successivi, poi un trattino e infine alla stringa costituita dagli ultimi quattro caratteri.\n",
    "\n",
    "Tradurre questo pseudocodice in un programma Python che memorizzi un numero telefonico di 10 cifre in una stringa, per poi visualizzarlo nel formato appena descritto."
   ]
  },
  {
   "cell_type": "code",
   "execution_count": 9,
   "metadata": {},
   "outputs": [
    {
     "name": "stdout",
     "output_type": "stream",
     "text": [
      "(415) 555-1212\n"
     ]
    }
   ],
   "source": [
    "numero_telefono = '4155551212'\n",
    "area_code = numero_telefono[0 : 3]\n",
    "numero1 = numero_telefono[3 : 6]\n",
    "numero2 = numero_telefono[6 : 100]\n",
    "print(f\"({area_code}) {numero1}-{numero2}\")\n"
   ]
  },
  {
   "cell_type": "markdown",
   "metadata": {},
   "source": [
    "## Esercizio 5: Allineamento\n",
    "\n",
    "Formattare l’output dell’**Esercizio 1** in modo che descrizioni e numeri siano allineati verticalmente, come nel seguente esempio:\n",
    "\n",
    "```text\n",
    "Somma:           45\n",
    "Differenza:      -5\n",
    "Prodotto:       500\n",
    "Distanza:         5\n",
    "Valore massimo:  25\n",
    "Valore minimo:   20\n",
    "```"
   ]
  },
  {
   "cell_type": "code",
   "execution_count": 9,
   "metadata": {},
   "outputs": [
    {
     "name": "stdout",
     "output_type": "stream",
     "text": [
      "inserisci il valore di a: \n",
      "inserisci il valore di b: \n",
      "la somma è :                     63\n",
      "la differenza è :                57\n",
      "il prodotto è :                 180\n",
      "il valore medio è :           31.50\n",
      "il valore assoluto è:            57\n",
      "il valore massimo è:             60\n",
      "il valore minimo è                3\n"
     ]
    }
   ],
   "source": [
    "print('inserisci il valore di a: ')\n",
    "a = int(input())\n",
    "print('inserisci il valore di b: ')\n",
    "b = int(input())\n",
    "\n",
    "somma = (a + b)\n",
    "\n",
    "differenza = a - b\n",
    "\n",
    "prodotto = a * b\n",
    "\n",
    "valore_medio = somma / 2\n",
    "\n",
    "valore_ass = abs(a - b)\n",
    "\n",
    "valore_max = max(a, b)\n",
    "\n",
    "valore_min = min(a, b)\n",
    "\n",
    "\n",
    "print('la somma è :          ', f'{somma : 12d}')\n",
    "print('la differenza è :     ', f'{differenza : 12d}')\n",
    "print('il prodotto è :       ', f'{prodotto : 12d}')\n",
    "print('il valore medio è :   ', f'{valore_medio : 12.2f}')\n",
    "print('il valore assoluto è: ', f'{valore_ass : 12d}')\n",
    "print('il valore massimo è:  ', f'{valore_max : 12d}')\n",
    "print('il valore minimo è    ', f'{valore_min : 12d}')"
   ]
  },
  {
   "cell_type": "markdown",
   "metadata": {},
   "source": [
    "## Esercizio 6: Emoji\n",
    "\n",
    "Secondo i dati raccolti dall'[Unicode Consortium](https://home.unicode.org/emoji/emoji-frequency/), l'organizzazione no-profit responsabile della digitalizzazione delle lingue scritte del mondo, le \"lacrime di gioia\" (😂) rappresentano oltre il 5% di tutte le emoji utilizzate (l’unico altro carattere che ci si avvicina è il ❤️). Nel 2021, le prime dieci emoji più utilizzate in tutto il mondo sono state: 😂 ❤️ 🤣 👍 😭 🙏 😘 🥰 😍 😊.\n",
    "\n",
    "Quando scrivi i messaggi, quali sono le tre emoji che tu usi più di frequente?\n",
    "\n",
    "Scrivere un programma che, per ciascuna delle tre emoji che usi più di frequente, mostri a schermo le seguenti informazioni:\n",
    "\n",
    "- la posizione in classifica (rank);\n",
    "- il codice Unicode;\n",
    "- il nome tecnico Unicode;\n",
    "- l’emoji stessa.\n",
    "\n",
    "Per trovare i codici Unicode corrispondenti a ciascuna emoji, puoi usare uno di questi siti:\n",
    "\n",
    "- [symbl.cc](https://symbl.cc/)\n",
    "- [amp-what.com](https://www.amp-what.com/)\n",
    "\n",
    "\n",
    "Formattare l’output in modo che le informazioni relative a ciascuna delle tre emoji siano raccolte su una riga, e i diversi campi siano allineati verticalmente."
   ]
  },
  {
   "cell_type": "code",
   "execution_count": 17,
   "metadata": {},
   "outputs": [
    {
     "ename": "TypeError",
     "evalue": "'list' object cannot be interpreted as an integer",
     "output_type": "error",
     "traceback": [
      "\u001b[1;31m---------------------------------------------------------------------------\u001b[0m",
      "\u001b[1;31mTypeError\u001b[0m                                 Traceback (most recent call last)",
      "Cell \u001b[1;32mIn[17], line 10\u001b[0m\n\u001b[0;32m      7\u001b[0m codice_unicode \u001b[38;5;241m=\u001b[39m \u001b[38;5;124m'\u001b[39m\u001b[38;5;124m'\u001b[39m\n\u001b[0;32m      8\u001b[0m nome_unicode \u001b[38;5;241m=\u001b[39m \u001b[38;5;124m'\u001b[39m\u001b[38;5;124m'\u001b[39m\n\u001b[1;32m---> 10\u001b[0m \u001b[38;5;28;01mfor\u001b[39;00m idx \u001b[38;5;129;01min\u001b[39;00m \u001b[38;5;28;43mrange\u001b[39;49m\u001b[43m(\u001b[49m\u001b[43memoji\u001b[49m\u001b[43m)\u001b[49m:\n\u001b[0;32m     11\u001b[0m     \u001b[38;5;28mprint\u001b[39m(idx)\n",
      "\u001b[1;31mTypeError\u001b[0m: 'list' object cannot be interpreted as an integer"
     ]
    }
   ],
   "source": [
    "emoji = ['😂', '❤️', '🤣', '👍', '😭', '🙏', '😘', '🥰', '😍', '😊']\n",
    "cuore_rosso = '❤'\n",
    "ridere_storto = '🤣'\n",
    "kiss = '😘'\n",
    "\n",
    "rank = 0\n",
    "codice_unicode = ''\n",
    "nome_unicode = ''\n",
    "\n",
    "\n",
    "\n",
    "\n",
    "\n",
    "\n"
   ]
  },
  {
   "cell_type": "markdown",
   "metadata": {},
   "source": [
    "## Esercizio 7: Come matricole\n",
    "\n",
    "La matricola degli studenti di una scuola è composta da due parti: una lettera e una sequenza di numeri separati tra loro da un trattino (`-`). Le lettera indica la sede della scuola mentre la parte numerica è un ID progressivo univoco, indipendente dalla sede. Ad esempio:\n",
    "\n",
    "```text\n",
    "M-600456\n",
    "P-403848\n",
    "```\n",
    "\n",
    "Scrivere un programma che, a partire da due codici di matricola, li mostri a schermo in ordine crescente in base alla sola parte numerica.\n",
    "\n",
    "Suggerimento: utilizzare le funzioni predefinite del linguaggio Python."
   ]
  },
  {
   "cell_type": "code",
   "execution_count": 2,
   "metadata": {},
   "outputs": [
    {
     "name": "stdout",
     "output_type": "stream",
     "text": [
      "S301888\n",
      "S800123\n"
     ]
    }
   ],
   "source": [
    "matricola2 = 'M-600456'\n",
    "matricola1 = 'P-403848'\n",
    "\n",
    "# Scrivi qua il tuo codice\n"
   ]
  }
 ],
 "metadata": {
  "kernelspec": {
   "display_name": ".venv",
   "language": "python",
   "name": "python3"
  },
  "language_info": {
   "codemirror_mode": {
    "name": "ipython",
    "version": 3
   },
   "file_extension": ".py",
   "mimetype": "text/x-python",
   "name": "python",
   "nbconvert_exporter": "python",
   "pygments_lexer": "ipython3",
   "version": "3.12.1"
  }
 },
 "nbformat": 4,
 "nbformat_minor": 2
}
