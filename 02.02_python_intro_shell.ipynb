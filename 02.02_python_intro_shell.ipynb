{
 "cells": [
  {
   "cell_type": "markdown",
   "id": "6f834eb1",
   "metadata": {
    "is_toc": true
   },
   "source": [
    "**Sommario**\n",
    "  - [L'interfaccia a riga di comando di sistema](#l'interfaccia-a-riga-di-comando-di-sistema)\n",
    "    - [Che cos'è una *command-line*?](#che-cos'è-una-*command-line*?)\n",
    "    - [Aprire la CLI di sistema](#aprire-la-cli-di-sistema)\n",
    "    - [Comandi di sistema](#comandi-di-sistema)\n",
    "    - [Opzioni e parametri di un comando](#opzioni-e-parametri-di-un-comando)\n",
    "    - [Operare con percorsi, file e cartelle](#operare-con-percorsi-file-e-cartelle)\n",
    "    - [Percorso assoluto (*absolute path*)](#percorso-assoluto-*absolute-path*)\n",
    "    - [Percorso relativo (*relative path*)](#percorso-relativo-*relative-path*)\n",
    "    - [La Differenza tra `\\` e `/`](#la-differenza-tra--e-)\n",
    "      - [Il Significato di `.` e `..` nei percorsi relativi](#il-significato-di--e--nei-percorsi-relativi)\n",
    "      - [Esempi](#esempi)\n",
    "    - [Riassumendo (CLI)](#riassumendo-cli)\n",
    "  - [Interprete interattivo di Python](#interprete-interattivo-di-python)\n",
    "    - [Avvio da prompt/terminale](#avvio-da-promptterminale)\n",
    "    - [Avvio all'interno di un IDE](#avvio-all'interno-di-un-ide)\n",
    "    - [Posizione dell'interprete Python](#posizione-dell'interprete-python)\n",
    "    - [Uso dell'interprete Python](#uso-dell'interprete-python)\n",
    "    - [Esperimenti con IDLE Shell](#esperimenti-con-idle-shell)\n",
    "    - [Riassumendo (interprete)](#riassumendo-interprete)"
   ]
  },
  {
   "cell_type": "markdown",
   "metadata": {},
   "source": [
    "## L'interfaccia a riga di comando di sistema "
   ]
  },
  {
   "cell_type": "markdown",
   "metadata": {
    "slideshow": {
     "slide_type": "fragment"
    },
    "tags": []
   },
   "source": [
    "Esempio su Linux:\n",
    "\n",
    "![os_cli_bash.png](./imgs/os/os_cli_bash.png)"
   ]
  },
  {
   "cell_type": "markdown",
   "metadata": {
    "slideshow": {
     "slide_type": "subslide"
    },
    "tags": []
   },
   "source": [
    "Esempio su Windows:\n",
    "\n",
    "![os_cli_cmd.jpg](./imgs/os/os_cli_cmd.jpg)"
   ]
  },
  {
   "cell_type": "markdown",
   "metadata": {
    "slideshow": {
     "slide_type": "notes"
    },
    "tags": []
   },
   "source": [
    "Quando si lavora al computer, è necessario comunicare con il Sistema Operativo (OS) per ottenere il risultato desiderato. Ad esempio, se volete aprire un file, dovete comunicarlo al sistema operativo (Windows, Linux o macOS). Esistono due modi di interagire con il sistema operativo: uno è più testuale, l'altro è più grafico, ma entrambi meritano un certo apprezzamento. Questi due metodi sono l'**interfaccia a riga di comando** e l'**interfaccia grafica**."
   ]
  },
  {
   "cell_type": "markdown",
   "metadata": {},
   "source": [
    "### Che cos'è una *command-line*? "
   ]
  },
  {
   "cell_type": "markdown",
   "metadata": {
    "slideshow": {
     "slide_type": "fragment"
    },
    "tags": []
   },
   "source": [
    "La **Command-Line Interface** o **CLI** (interfaccia a riga di comando) è un modo per interagire con un sistema operativo tramite comandi testuali. La **Graphical User Interface**, o **GUI** (interfaccia grafica), invece, fornisce un'interfaccia con finestre, icone e menu con cui impartire comandi al sistema operativo facendo clic su gli elementi grafici."
   ]
  },
  {
   "cell_type": "markdown",
   "metadata": {
    "slideshow": {
     "slide_type": "notes"
    },
    "tags": []
   },
   "source": [
    "In passato, le interfacce a riga di comando erano l'unico mezzo per interagire con un computer. Ma perché usarle ora, quando si ha a disposizione un'interfaccia grafica semplice e familiare? In genere le interfacce a riga di comando sono molto più flessibili e offrono un maggior numero di opzioni. Ad esempio, è possibile combinare i comandi per crearne uno nuovo, mentre non è possibile farlo tramite un'interfaccia grafica. Anche alcuni software possono avere (solo) un'interfaccia a riga di comando, richiedendo quindi all'utente di conoscere le basi della riga di comando."
   ]
  },
  {
   "cell_type": "markdown",
   "metadata": {
    "slideshow": {
     "slide_type": "subslide"
    },
    "tags": []
   },
   "source": [
    "- In Windows abbiamo due CLI. La prima, più vecchia e sempre presente è chiamata \"_**Prompt dei comandi**_\" (*command prompt*). È poi di norma anche presente la \"_**PowerShell**_\" disponibile da Windows 7 in avanti."
   ]
  },
  {
   "cell_type": "markdown",
   "metadata": {
    "slideshow": {
     "slide_type": "fragment"
    },
    "tags": []
   },
   "source": [
    "- Sui sistemi Linux e macOS la CLI si è soliti chiamarla  \"_**terminale**_\" (*terminal*) o più genericamente \"_**shell**_\"."
   ]
  },
  {
   "cell_type": "markdown",
   "metadata": {
    "slideshow": {
     "slide_type": "fragment"
    },
    "tags": []
   },
   "source": [
    "Inoltre, è possibile scrivere dei \"programmi\" eseguibili dall'interfaccia a riga di comando usando uno specifico \"linguaggio di comando\". Sui sistemi Unix come GNU/Linux e macOS sono chiamati \"*shell script*\" (di solito con estensione `.sh`), mentre su Windows vengono chiamati \"*file di batch*\" (di solito con estensione `.bat` o `.cmd`)."
   ]
  },
  {
   "cell_type": "markdown",
   "metadata": {
    "slideshow": {
     "slide_type": "notes"
    },
    "tags": []
   },
   "source": [
    "Tutti i sistemi operativi dispongono di interfacce a riga di comando, come anche molte applicazioni e utility. I moderni linguaggi di programmazione non fanno eccezione e offrono solitamente una modalità interattiva a riga di comando con cui è possibile eseguire il codice riga per riga, inviandolo all'interprete del linguaggio. Vedremo più avanti che anche Python ne possiede uno: il Python Interpreter."
   ]
  },
  {
   "cell_type": "markdown",
   "metadata": {
    "slideshow": {
     "slide_type": "notes"
    },
    "tags": []
   },
   "source": [
    "Ma ora concentriamoci sulla CLI del nostro sistema operativo."
   ]
  },
  {
   "cell_type": "markdown",
   "metadata": {},
   "source": [
    "### Aprire la CLI di sistema "
   ]
  },
  {
   "cell_type": "markdown",
   "metadata": {
    "slideshow": {
     "slide_type": "fragment"
    },
    "tags": []
   },
   "source": [
    "Di solito, non è necessario accedere alla cartella in cui si trova l'interprete della riga di comando per aprirlo. È possibile aprirlo semplicemente cercando le parole chiave `cmd` in Windows e `terminal` sotto Linux o macOS, utilizzando i rispettivi strumenti di ricerca."
   ]
  },
  {
   "cell_type": "markdown",
   "metadata": {
    "slideshow": {
     "slide_type": "notes"
    },
    "tags": []
   },
   "source": [
    "Quando lo si apre, si vedrà una finestra nera (o bianca). Se tutto è a posto, apparirà il cursore che ci informa il computer è pronto ad accettare comandi. Per Windows, il prompt dei comandi termina con `>`, mentre per Linux e macOS con `$`. Per eseguire un comando, digitarlo e poi premere `Invio`."
   ]
  },
  {
   "cell_type": "markdown",
   "metadata": {},
   "source": [
    "### Comandi di sistema "
   ]
  },
  {
   "cell_type": "markdown",
   "metadata": {
    "slideshow": {
     "slide_type": "fragment"
    },
    "tags": []
   },
   "source": [
    "Se sei un informatico o usavi già i computer negli anni '80-'90 dovresti già conoscere i comandi principali. Per comodità, sul sito [SS64](https://ss64.com/) è possibile trovare un elenco completo dei comandi di Windows, Linux e macOS. Comunque, i comandi fondamentali che dovresti conoscere, sono:\n",
    "\n",
    "- `dir` (su Windows) o `ls` (su Linux/macOS): elenca gli elementi contenuti in una cartella.\n",
    "- `cd`: sta per *change directory* e consente di cambiare la cartella in cui ci troviamo e spostarsi in un'altra posizione. `cd ..` ci sposta nella cartella genitore.\n",
    "- `where` (su Windows) o `which` (su Linux/macOS): mostra il percorso originale al file eseguibile di un comando; utile per scoprire a quale file viene eseguito con un certo comando presente nelle variabili d'ambiente.\n",
    "- `whoami`: indica il nome dell'utente corrente.\n",
    "- `echo`: serve per far stampare delle stringhe di testo a monitor (come il comando print() di Pyton).\n",
    "- `mkdir`/`rmdir`: crea/rimuove una cartella.\n",
    "- `help` (su Windows) o `man` (su Linux/macOS): mostra la documentazione di un comando.\n",
    "- `exit`: chiude la CLI."
   ]
  },
  {
   "cell_type": "markdown",
   "metadata": {},
   "source": [
    "### Opzioni e parametri di un comando "
   ]
  },
  {
   "cell_type": "markdown",
   "metadata": {
    "slideshow": {
     "slide_type": "fragment"
    },
    "tags": []
   },
   "source": [
    "Cosa sono essenzialmente le *opzioni* e i *parametri* di un comando CLI? Entrambi sono due tipi particolari di *argomenti*."
   ]
  },
  {
   "cell_type": "markdown",
   "metadata": {
    "slideshow": {
     "slide_type": "fragment"
    },
    "tags": []
   },
   "source": [
    "- Un'_**opzione**_ (*option*) modifica il comportamento di un *comando*."
   ]
  },
  {
   "cell_type": "markdown",
   "metadata": {
    "slideshow": {
     "slide_type": "fragment"
    },
    "tags": []
   },
   "source": [
    "- Un _**parametro**_ (*parameter*) può essere usato per passare delle informazioni sia direttamente al *comando* sia a una delle sue *opzioni*."
   ]
  },
  {
   "cell_type": "markdown",
   "metadata": {
    "slideshow": {
     "slide_type": "fragment"
    },
    "tags": []
   },
   "source": [
    "Una delle differenze principali tra i due è che il numero di valori possibili delle opzioni è limitato e definito nel codice, mentre con i parametri l'utente ha più libertà, poiché non hanno tali limitazioni."
   ]
  },
  {
   "cell_type": "markdown",
   "metadata": {
    "slideshow": {
     "slide_type": "subslide"
    },
    "tags": []
   },
   "source": [
    "Esempi di opzioni\n",
    "\n",
    "```bash\n",
    "ls -la\n",
    "mkdir --help\n",
    "```"
   ]
  },
  {
   "cell_type": "markdown",
   "metadata": {
    "slideshow": {
     "slide_type": "subslide"
    },
    "tags": []
   },
   "source": [
    "Esempi di parameri\n",
    "\n",
    "```bash\n",
    "cd Desktop\n",
    "mkdir papers\n",
    "echo pippo\n",
    "man mkdir\n",
    "```"
   ]
  },
  {
   "cell_type": "markdown",
   "metadata": {
    "slideshow": {
     "slide_type": "subslide"
    },
    "tags": []
   },
   "source": [
    "Esempi di opzioni e parameri\n",
    "\n",
    "```bash\n",
    "cd /d F:\\Backup\n",
    "jupyter-nbconvert 02_python_intro.ipynb --to slides\n",
    "```"
   ]
  },
  {
   "cell_type": "markdown",
   "metadata": {},
   "source": [
    "### Operare con percorsi, file e cartelle\n",
    "\n",
    "Nella programmazione e nella gestione dei file, è fondamentale saper operare con i percorsi di file e cartelle.\n",
    "\n",
    "Per fare ciò è necessario comprendere i concetti di percorso assoluto e percorso relativo."
   ]
  },
  {
   "cell_type": "markdown",
   "metadata": {},
   "source": []
  },
  {
   "cell_type": "markdown",
   "metadata": {},
   "source": [
    "### Percorso assoluto (*absolute path*)\n",
    "Un **percorso assoluto** indica la posizione di un file o di una cartella partendo dalla radice del sistema di file. È un percorso completo che contiene tutti i dettagli necessari per localizzare un file o una cartella, indipendentemente dalla directory di lavoro corrente.\n",
    "\n",
    "- **Windows:** Inizia con una lettera di unità seguita da `:\\`, per esempio, `C:\\Users\\NomeUtente\\Documents\\file.txt`.\n",
    "\n",
    "- **Unix-like (Linux, macOS):** Inizia con `/`, per esempio, `/home/nomeutente/Documents/file.txt`.\n",
    "\n"
   ]
  },
  {
   "cell_type": "markdown",
   "metadata": {},
   "source": [
    "### Percorso relativo (*relative path*)\n",
    "Un **percorso relativo**, invece, fa riferimento alla posizione di un file o di una cartella in relazione alla directory di lavoro corrente. Non inizia con una radice di unità o una barra slash; inizia dal punto in cui ti trovi nel sistema di file.\n",
    "\n",
    "- Se un file chiamato `esempio.txt` si trova nella stessa directory in cui stai lavorando, il percorso relativo è semplicemente `esempio.txt` o `./esempio.txt`.\n",
    "\n",
    "- Se il file si trova in una sottodirectory chiamata `docs`, il percorso relativo è `docs/esempio.txt` o `./docs/esempio.txt`.\n",
    "\n"
   ]
  },
  {
   "cell_type": "markdown",
   "metadata": {},
   "source": [
    "### La Differenza tra `\\` e `/`\n",
    "\n",
    "- **Windows** tradizionalmente usa il *backslash* (`\\`) come separatore di percorso. Per esempio, `C:\\Users\\NomeUtente`.\n",
    "\n",
    "- **Unix-like (Linux, macOS)** usano lo *slash* (`/`) come separatore di percorso, ad esempio, `/home/nomeutente`. Esattamente come si fa sul web con gli URL.\n",
    "\n",
    "Python cerca di semplificare la gestione dei percorsi tra i diversi sistemi operativi. Quando si usa Python, si può usare lo *slash* `/` anche su Windows, e Python lo interpreterà correttamente."
   ]
  },
  {
   "cell_type": "markdown",
   "metadata": {},
   "source": [
    "#### Il Significato di `.` e `..` nei percorsi relativi\n",
    "\n",
    "Nella specificazione dei percorsi (solitamente relativi, ma non solo), `.` e `..` hanno significati speciali.\n",
    "\n",
    "- **`./`** Il singolo punto rappresenta la directory corrente. Ad esempio, se la tua directory di lavoro corrente è `/home/nomeutente`, il percorso `./documento.txt` si riferisce a `/home/nomeutente/documento.txt`.\n",
    "\n",
    "- **`../`** Il doppio punto rappresenta la directory genitore della directory corrente. Se ti trovi in `/home/nomeutente/documents` e vuoi riferirti alla directory `/home/nomeutente`, puoi usare il percorso `../`.\n",
    "\n"
   ]
  },
  {
   "cell_type": "markdown",
   "metadata": {},
   "source": [
    "#### Esempi\n",
    "\n",
    "- Da `/home/nomeutente/documents/` a `/home/nomeutente/documents/documento.txt` trovo il file nella medesima catella in cui mi trovo:\n",
    "  - Percorso relativo: `./documento.txt` o semplicemente `documento.txt`.\n",
    "\n",
    "- Da `/home/nomeutente/documents/` a `/home/nomeutente/documents/fatture/pippo.pdf` trovo il file nella medesima catella in cui mi trovo:\n",
    "  - Percorso relativo: `./documents/fatture/pippo.pdf` o semplicemente `documents/fatture/pippo.pdf`.\n",
    "\n",
    "- Da `/home/nomeutente/documents/` a `/home/nomeutente/pictures/` devo uscire dalla cartella corrente:\n",
    "  - Percorso relativo: `../pictures/`\n",
    "\n",
    "- Da `/home/nomeutente/documents/scripts/` a `/home/nomeutente/image.jpg` devo uscire di due livelli:\n",
    "  - Percorso relativo: `../../image.jpg`\n",
    "\n",
    "- Da `C:\\Users\\NomeUtente\\Documents` a `C:\\Users\\NomeUtente\\Music`, anche su Windows il discorso è lo stesso:\n",
    "  - Percorso relativo su Windows: `..\\Music`\n"
   ]
  },
  {
   "cell_type": "markdown",
   "metadata": {
    "slideshow": {
     "slide_type": "fragment"
    },
    "tags": []
   },
   "source": [
    "Dare i giusti nomi alle cose è una delle attività più importanti per un informatico. Nominare file e cartelle (*folder/directory*) in modo efficace e organizzarli in efficacemente sono buone pratiche per avere vita più facile in futuro."
   ]
  },
  {
   "cell_type": "markdown",
   "metadata": {
    "slideshow": {
     "slide_type": "subslide"
    },
    "tags": []
   },
   "source": [
    "![final-doc.jpeg](./imgs/fs/final-doc.jpeg)"
   ]
  },
  {
   "cell_type": "markdown",
   "metadata": {},
   "source": [
    "### Riassumendo (CLI)"
   ]
  },
  {
   "cell_type": "markdown",
   "metadata": {
    "slideshow": {
     "slide_type": "fragment"
    },
    "tags": []
   },
   "source": [
    "La cosa importante da sapere è che le moderne e attraenti interfacce grafiche non hanno reso obsolete le CLI. La *command-line* è ancora uno dei modi più rapidi per portare a termine il proprio lavoro."
   ]
  },
  {
   "cell_type": "markdown",
   "metadata": {
    "slideshow": {
     "slide_type": "fragment"
    },
    "tags": []
   },
   "source": [
    "In particolare, se intendi essere uno sviluppatore, è molto importante avere una buona conoscenza dei comandi del tuo sistema operativo."
   ]
  },
  {
   "cell_type": "markdown",
   "metadata": {
    "slideshow": {
     "slide_type": "fragment"
    },
    "tags": []
   },
   "source": [
    "In questa sezione abbiamo introdotto l'interfaccia a riga di comando: cos'è, dove si trova e come si può usare. Abbiamo anche provato alcuni comandi come `dir`/`ls`, `where`/`which`, `whoami` ed `exit`. Più avanti è probabile che ne impareremo altri. Infine abbiamo visto la differenza tra *opzioni* e *parametri* di un comando."
   ]
  },
  {
   "cell_type": "markdown",
   "metadata": {},
   "source": [
    "Infine abbiamo parlato di path assoluti e relativi, dell'uso dello slash `/` e del backslash `\\` nei percorsi e infine il significato di `.` e `..` nei percorsi relativi."
   ]
  },
  {
   "cell_type": "markdown",
   "metadata": {},
   "source": [
    "## Interprete interattivo di Python "
   ]
  },
  {
   "cell_type": "markdown",
   "metadata": {
    "tags": []
   },
   "source": [
    "Anche Python dispone di un interprete di comandi interattivo ed è molto comodo e potente.\n",
    "\n",
    "![!interpreter.png](./imgs/interpreter.png)"
   ]
  },
  {
   "cell_type": "markdown",
   "metadata": {
    "slideshow": {
     "slide_type": "notes"
    },
    "tags": []
   },
   "source": [
    "A volte potrebbe essere necessario calcolare urgentemente qualcosa, contare il numero di caratteri in una stringa o fare qualche altra operazione di routine una tantum. Probabilmente non vorrete scrivere l'intero programma solo per questo, che richiede tempo, ed è una richiesta perfettamente ragionevole. Fortunatamente, Python può aiutarvi in questo! Esiste uno strumento speciale che si può usare per compiti e controlli rapidi, chiamato \"[Python Interpreter](https://docs.python.org/3/tutorial/interpreter.html)\" o gergalmente \"*shell*\". Tuttavia, non è l'unico caso d'uso possibile e ne conosceremo altri più avanti; per ora, analizziamo da vicino cos'è l'inteprete interattivo di Python e come può essere utilizzato."
   ]
  },
  {
   "cell_type": "markdown",
   "metadata": {
    "slideshow": {
     "slide_type": "fragment"
    },
    "tags": []
   },
   "source": [
    "In pratica possiamo utilizzare l'interprete Python come una sorta di \"shell\" interattiva con cui interagire in tempo reale. \"Interattiva\" significa che potete digitare qualsiasi cosa nella sintassi di Python, premere \"Invio\" e l'interprete stamperà immediatamente il risultato."
   ]
  },
  {
   "cell_type": "markdown",
   "metadata": {
    "slideshow": {
     "slide_type": "fragment"
    },
    "tags": []
   },
   "source": [
    "Può essere molto utile se stai iniziando a imparare a programmare: digitando ed eseguendo il vostro codice riga per riga, è più facile osservarne il comportamento e trovarvi errori accidentali."
   ]
  },
  {
   "cell_type": "markdown",
   "metadata": {},
   "source": [
    "### Avvio da prompt/terminale "
   ]
  },
  {
   "cell_type": "markdown",
   "metadata": {
    "slideshow": {
     "slide_type": "fragment"
    },
    "tags": []
   },
   "source": [
    "Se hai installato Python tramite l'intaller ufficiale, dovrebbe essere già tutto pronto. In ogni caso, la cosa importante è che la posizione dell'interprete Python sia stata aggiunta alle *variabili d'ambiente* del tuo sistema operativo, altrimenti occorre digitare il percorso completo all'eseguibile di Python ogni volta."
   ]
  },
  {
   "cell_type": "markdown",
   "metadata": {
    "slideshow": {
     "slide_type": "fragment"
    },
    "tags": []
   },
   "source": [
    "Su Linux o macOS, è sufficiente avviare il terminale di sistema ed eseguire il comando `python3`."
   ]
  },
  {
   "cell_type": "markdown",
   "metadata": {
    "slideshow": {
     "slide_type": "notes"
    },
    "tags": []
   },
   "source": [
    "Su Windows potremmo digitare `python` dal prompt dei comandi, ma potrebbe essere necessario dover aggiungere il percorso del file eseguibile alla variabile di sistema PATH se non lo hai già fatto in fase di installazione. Se non sai come fare, cerca sul web, ci sono molte guide. Oppure, se ti ricordi, nel capitolo sull'intallazione di Python ho detto:"
   ]
  },
  {
   "cell_type": "markdown",
   "metadata": {
    "slideshow": {
     "slide_type": "notes"
    },
    "tags": []
   },
   "source": [
    "> *Tra le varie opzioni di installazione conviene spuntare quella che permette di aggiungere automaticamente i percorsi dove si trovano `python` e `pip` alle variabili d'ambiente, in modo che potremmo richiamare questi comandi da qualunqe posizione ci troviamo nel prompt dei comandi. **Se vi dimenticate di farlo alla prima installazione, potete sempre avviare di nuovo l'installer e aggiungere l'opzione**.*"
   ]
  },
  {
   "cell_type": "markdown",
   "metadata": {
    "slideshow": {
     "slide_type": "subslide"
    },
    "tags": []
   },
   "source": [
    "Su Windows è più conveniente digitare il comando `py` dal prompt dei comandi. `py` è chiamato \"Python launcher\" ed è un'utility che aiuta a individuare ed eseguire diverse versioni di Python.\n",
    "\n",
    "Viene installato in `C:\\Windows\\py.exe`, in modo da essere disponibile senza richiedere modifiche al PATH.\n",
    "\n",
    "Il launcher rileva quali versioni di Python sono installate sul computer ed è in grado di eseguire automaticamente la versione giusta. Per impostazione predefinita, utilizza l'ultima versione di Python presente sul computer. \n",
    "\n",
    "È anche possibile specificare una versione diversa, se installata, ad esempio `py -3.8` per lanciare la 3.8."
   ]
  },
  {
   "cell_type": "markdown",
   "metadata": {},
   "source": [
    "### Avvio all'interno di un IDE "
   ]
  },
  {
   "cell_type": "markdown",
   "metadata": {
    "slideshow": {
     "slide_type": "fragment"
    },
    "tags": []
   },
   "source": [
    "Inoltre, è probabile che di default abbiate installato anche _**IDLE**_, che offre anche una semplice interfaccia grafica per la shell di Python. Provate a cercarla nel vostro sistema. IDLE è ottimo per i principianti perché può essere usato anche per eseguire e modificare gli script. Ma di solito gli sviluppatori di software usano un IDE; noi useremo Visual Studio Code, anche se il comportamento è lo stesso in qualsiasi shell Python."
   ]
  },
  {
   "cell_type": "markdown",
   "metadata": {
    "slideshow": {
     "slide_type": "fragment"
    },
    "tags": []
   },
   "source": [
    "Se avete installato _**Visual Studio Code**_, fai clic su \"Terminale\" nella parte inferiore della sua finestra e digita il comando `python` o `python3` come in un qualunque prompt/terminale."
   ]
  },
  {
   "cell_type": "markdown",
   "metadata": {},
   "source": [
    "### Posizione dell'interprete Python \n",
    "\n",
    "È molto importante avere consapevolezza di come si chiama e dove si trova il nostro interprete Python."
   ]
  },
  {
   "cell_type": "markdown",
   "metadata": {
    "slideshow": {
     "slide_type": "fragment"
    },
    "tags": []
   },
   "source": [
    "L'interprete è un file eseguibile denominato:\n",
    "- `python.exe` su Windows. I file con estensione `.py` si aprono con questo programma.\n",
    "- `pythonw.exe` su Windows, ma non apre una console, serve per eseguire gli script che devono mostrare l’interfaccia utente grafica (GUI) di un’applicazione Python. Di solito i file con estensione `.pyw` si aprono con questo programma.\n",
    "- `python3` su Linux e macOS. Si possono aprire sia i file con estensione `.py` sia `.pyw`."
   ]
  },
  {
   "cell_type": "markdown",
   "metadata": {
    "slideshow": {
     "slide_type": "fragment"
    },
    "tags": []
   },
   "source": [
    "Nel capitolo sull'installazione di Python vengono discusse anche le posizioni di installazione nei vari sistemi operativi."
   ]
  },
  {
   "cell_type": "markdown",
   "metadata": {
    "slideshow": {
     "slide_type": "notes"
    },
    "tags": []
   },
   "source": [
    "Dunque, per farla breve, per aprire l'interprete possiamo digitare il comando `python` dal prompt dei comandi o dalla PowerShell se ci troviamo su Windows, e `python3` dal terminale se siamo su macOS o Linux."
   ]
  },
  {
   "cell_type": "markdown",
   "metadata": {},
   "source": [
    "### Uso dell'interprete Python "
   ]
  },
  {
   "cell_type": "markdown",
   "metadata": {
    "slideshow": {
     "slide_type": "fragment"
    },
    "tags": []
   },
   "source": [
    "Quando l'interprete viene eseguito senza argomenti, lo standard input (*`stdin`*) viene collegato direttamente al *terminale tty* e, similmente a una shell di Unix, legge ed esegue i comandi in modo interattivo."
   ]
  },
  {
   "cell_type": "markdown",
   "metadata": {
    "slideshow": {
     "slide_type": "fragment"
    },
    "tags": []
   },
   "source": [
    "Quando invece viene eseguito con un nome di file come argomento, Python legge ed esegue lo script di quel file; ma questo lo approfondiremo nel prossimo capitolo."
   ]
  },
  {
   "cell_type": "markdown",
   "metadata": {
    "slideshow": {
     "slide_type": "fragment"
    },
    "tags": []
   },
   "source": [
    "Vediamo ora come usare l'interprete in modo interattivo."
   ]
  },
  {
   "cell_type": "markdown",
   "metadata": {
    "slideshow": {
     "slide_type": "subslide"
    },
    "tags": []
   },
   "source": [
    "Apriamo il prompt di sistema e digitiamo `py` su Windows oppure `python3` su Linux o macOS.\n",
    "\n",
    "Se invochiamo l'interprete senza argomenti, esso presenta una interfaccia interattiva e apparirà un testo come il seguente:\n",
    "\n",
    "        Python 3.11.1 (tags/v3.11.1:a7a450f, Dec  6 2022, 19:58:39) [MSC v.1934 64 bit (AMD64)] on win32\n",
    "        Type \"help\", \"copyright\", \"credits\" or \"license\" for more information.\n",
    "        >>>"
   ]
  },
  {
   "cell_type": "markdown",
   "metadata": {
    "slideshow": {
     "slide_type": "fragment"
    },
    "tags": []
   },
   "source": [
    "Il simbolo `>>>` indica che l’interprete è pronto a ricevere comandi. Qui si può digitare qualsiasi pezzo di codice in sintassi Python e l'interprete lo eseguirà immediatamente."
   ]
  },
  {
   "cell_type": "markdown",
   "metadata": {
    "slideshow": {
     "slide_type": "subslide"
    },
    "tags": []
   },
   "source": [
    "- Il prompt è caratterizzato da `>>>`.\n",
    "- Una volta inserito il comando basta premere `Invio` per eseguirlo.\n",
    "- Se si è inserito un comando che può continuare sulla riga successiva, premendo `Invio` comparirà `...` a inizio della nuova riga."
   ]
  },
  {
   "cell_type": "markdown",
   "metadata": {
    "slideshow": {
     "slide_type": "fragment"
    },
    "tags": []
   },
   "source": [
    "Per uscire dalla shell interattiva e tornare al prompt/terminale di sistema, premere `Ctrl + Z` e poi `Invio` su Windows, oppure `Ctrl + D` su OS X o Linux. In alternativa, si possono eseguire i comandi Python `exit()` o `quit()`."
   ]
  },
  {
   "cell_type": "markdown",
   "metadata": {
    "slideshow": {
     "slide_type": "notes"
    },
    "tags": []
   },
   "source": [
    "Si potrebbe anche voler riavviare la shell Python (ad esempio, se il programma non dà più segni di vita). La shell aperta dalla riga di comando è sufficiente chiuderla e riaprirla. Tuttavia, se si lavora con un IDE, esistono dei comandi speciali per farlo:"
   ]
  },
  {
   "cell_type": "markdown",
   "metadata": {
    "slideshow": {
     "slide_type": "notes"
    },
    "tags": []
   },
   "source": [
    "- IDLE shell: pulsante Riavvia shell dalla barra degli strumenti in alto o Ctrl-F6.\n",
    "- Visual Studio Code: pulsante con l'incona del cestino (*kill terminal*) nella barra degli strumenti del terminale. Successivamente avviamo un nuovo terminale.\n",
    "- PyCharm: pulsante di ripristino (*Rerun*) in alto a sinistra nella barra degli strumenti della console\"."
   ]
  },
  {
   "cell_type": "markdown",
   "metadata": {},
   "source": [
    "### Esperimenti con IDLE Shell "
   ]
  },
  {
   "cell_type": "markdown",
   "metadata": {
    "slideshow": {
     "slide_type": "fragment"
    },
    "tags": []
   },
   "source": [
    "IDLE sta per _**Integrated Development and Learning Environment**_, ovvero \"ambiente di sviluppo e apprendimento integrato\" di Python. È un IDE per Python, fornito in bundle con la distribuzione predefinita del linguaggio dalla versione 1.5.2b1."
   ]
  },
  {
   "cell_type": "markdown",
   "metadata": {
    "slideshow": {
     "slide_type": "notes"
    },
    "tags": []
   },
   "source": [
    "IDLE vuole essere un IDE semplice e adatto ai principianti, soprattutto in un ambiente educativo. A tal fine, è multipiattaforma e cerca di rimanere minimale, limitando al minimo il numero di funzionalità."
   ]
  },
  {
   "cell_type": "markdown",
   "metadata": {
    "slideshow": {
     "slide_type": "fragment"
    },
    "tags": []
   },
   "source": [
    "È quindi un ottimo ambiente per fare pratica. Proviamo qualche comando e osserviamo l'output."
   ]
  },
  {
   "cell_type": "markdown",
   "metadata": {},
   "source": [
    "```python\n",
    "print('Hello world!')\n",
    "```"
   ]
  },
  {
   "cell_type": "markdown",
   "metadata": {
    "slideshow": {
     "slide_type": "fragment"
    },
    "tags": []
   },
   "source": [
    "> *CURIOSITÀ: uno dei membri fondatori dei Monty Python si chiama Eric Idle.*"
   ]
  },
  {
   "cell_type": "markdown",
   "metadata": {},
   "source": [
    "### Riassumendo (interprete)"
   ]
  },
  {
   "cell_type": "markdown",
   "metadata": {
    "slideshow": {
     "slide_type": "notes"
    },
    "tags": []
   },
   "source": [
    "Quando si studia Python, è importante soffermarsi su ogni riga di codice non chiara e che ci suscita dei dubbi. Anzi, all'inizio non dare mai nulla per scontato: le sorprese di nascondono anche dietro alle le cose banali. Vi aiuterà a capire meglio come funziona Python, quindi non esitate a provare gli esempi del corso e a modificarli a vostro piacimeto."
   ]
  },
  {
   "cell_type": "markdown",
   "metadata": {
    "slideshow": {
     "slide_type": "fragment"
    },
    "tags": []
   },
   "source": [
    "L'interprete interattivo, detto anche \"shell di Python\", è un ottima area di test, una sandbox. E poi non puoi rompere nulla dato che una volta che chiudi o riavvii la shell, tutto ciò che si è fatto scompare <u>(occhio solo solo quando usi i moduli os, subprocess o shutil)</u>."
   ]
  },
  {
   "cell_type": "markdown",
   "metadata": {
    "slideshow": {
     "slide_type": "notes"
    },
    "tags": []
   },
   "source": [
    "Come potete vedere, la shell di Python è uno strumento molto utile per un programmatore e torneremo a parlarne più avanti per illustrarvi altre opportunità che offre."
   ]
  }
 ],
 "metadata": {
  "kernelspec": {
   "display_name": "Python 3 (ipykernel)",
   "language": "python",
   "name": "python3"
  },
  "language_info": {
   "codemirror_mode": {
    "name": "ipython",
    "version": 3
   },
   "file_extension": ".py",
   "mimetype": "text/x-python",
   "name": "python",
   "nbconvert_exporter": "python",
   "pygments_lexer": "ipython3",
   "version": "3.11.2"
  },
  "vscode": {
   "interpreter": {
    "hash": "20e40d8fc09a6690434ad602c7eb2d8de15d36ec466bfbfb0de97c7c540d7363"
   }
  }
 },
 "nbformat": 4,
 "nbformat_minor": 4
}
