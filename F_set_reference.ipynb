{
 "cells": [
  {
   "cell_type": "markdown",
   "id": "cc3b8b2e",
   "metadata": {
    "is_toc": true
   },
   "source": [
    "**Sommario**\n",
    "  - [Operatori e operazioni con gli insiemi](#operatori-e-operazioni-con-gli-insiemi)\n",
    "  - [Metodi simili agli operatori](#metodi-simili-agli-operatori)\n",
    "  - [Altri metodi](#altri-metodi)"
   ]
  },
  {
   "attachments": {},
   "cell_type": "markdown",
   "metadata": {},
   "source": [
    "## Operatori e operazioni con gli insiemi"
   ]
  },
  {
   "cell_type": "markdown",
   "metadata": {},
   "source": [
    "|Operatore| Risultato | Descrizione | Esempio |\n",
    "|---------|-----------|-------------|---------|\n",
    "|`len`(set)|`int` | il numero di elementi nel set| `len({1, 2, 3})` &rarr; `3` |\n",
    "|obj `in` set|`bool`|verifica se l'elemento è contenuto nel set| `3 in {1, 2, 3}` &rarr; `True` |\n",
    "|set <code>&#124;</code>  set| `set` | unione, crea un NUOVO set| `{1, 2} &#124; {2, 3}` &rarr; `{1, 2, 3}` |\n",
    "|set `&` set| `set` | intersezione, crea un NUOVO set| `{1, 2} & {2, 3}` &rarr; `{2}` |\n",
    "|set `-` set| `set` | differenza, crea un NUOVO set| `{1, 2} - {2, 3}` &rarr; `{1}` |\n",
    "|set `^` set| `set` | differenza simmetrica, crea un NUOVO set| `{1, 2} ^ {2, 3}` &rarr; `{1, 3}` |\n",
    "|set `==` set<br/>set `!=` set|`bool`| Controlla se due insiemi sono uguali o differenti| `{1, 2} == {2, 1}` &rarr; `True`<br/>`{1, 2} != {2, 3}` &rarr; `True` |\n"
   ]
  },
  {
   "cell_type": "markdown",
   "metadata": {},
   "source": [
    "## Metodi simili agli operatori\n",
    "\n",
    "Vi sono metodi analoghi agli operatori `|`, `&`, `-`, `^` che creano un **NUOVO** set.\n",
    "\n",
    "**NOTA**: diversamente dagli operatori, questi metodi accettano come parametro una _qualsiasi_ sequenza, non solo insiemi:\n",
    "\n",
    "|Metodo| Risultato | Descrizione | Operatore analogo|\n",
    "|---------|-----------|-------------|------|\n",
    "|`set.union(seq)`|`set`|unione, crea un NUOVO set |<code>&#124;</code>|\n",
    "|`set.intersection(seq)`| `set`| intersezione, crea un NUOVO set|`&`|\n",
    "|`set.difference(seq)`| `set` | differenza, crea un NUOVO set|`-`|\n",
    "|`set.symmetric_difference(seq)`| `set` | differenza simmetrica, crea un NUOVO set|`^`|"
   ]
  },
  {
   "cell_type": "markdown",
   "metadata": {},
   "source": [
    "Metodi che **MODIFICANO** l'insieme su cui sono invocati (e ritornano `None`!):\n",
    "\n",
    "|Metodo| Risultato | Descrizione |\n",
    "|---------|-----------|-------------|\n",
    "|`setA.update(setB)`|`None`| unione, MODIFICA `setA`|\n",
    "|`setA.intersection_update(setB)` |`None` |intersezione, MODIFICA `setA`|\n",
    "|`setA.difference_update(setB)`| `None` | differenza, MODIFICA `setA`|\n",
    "|`setA.symmetric_difference_update(setB)`| `None` | differenza simmetrica, MODIFICA `setA`|"
   ]
  },
  {
   "cell_type": "markdown",
   "metadata": {},
   "source": [
    "## Altri metodi\n",
    "\n",
    "|Metodo| Risultato | Descrizione |\n",
    "|---------|-----------|-------------|\n",
    "|`set.add(el)`| `None`| aggiunge l'elemento specificato - se già presente non fa nulla)|\n",
    "|`set.remove(el)`|`None`|rimuove l'elemento specificato - se non presente solleva errore|\n",
    "|`set.discard(el)`|`None`|rimuove l'elemento specificato - se non presente non fa nulla|\n",
    "|`set.pop()`|obj|rimuove un elemento arbitrario dall'insieme e lo ritorna|\n",
    "|`set.clear()`|`None`|rimuove tutti gli elementi|\n",
    "|`setA.issubset(setB`)|`bool`|verifica  se `setA` è un sottoinsieme di `setB`|\n",
    "|`setA.issuperset(setB`)|`bool`|verifica se `setA` contiene tutti gli elementi di `setB`|\n",
    "|`setA.isdisjoint(setB`)|`bool`|verifica  se `setA` non ha elementi in comune con `setB`|"
   ]
  }
 ],
 "metadata": {
  "language_info": {
   "name": "python"
  }
 },
 "nbformat": 4,
 "nbformat_minor": 2
}
