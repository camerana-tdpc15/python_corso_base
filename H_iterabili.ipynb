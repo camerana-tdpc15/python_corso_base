{
 "cells": [
  {
   "cell_type": "markdown",
   "id": "befb29a5",
   "metadata": {
    "is_toc": true
   },
   "source": [
    "**Sommario**\n",
    "- [Iterabili, iteratori, generatori](#iterabili-iteratori-generatori-enumerate-range)\n",
    "  - [In sintesi](#in-sintesi)\n",
    "  - [Lazy evaluation](#lazy-evaluation)\n",
    "  - [`<class 'generator'>`](#<class-'generator'>)\n",
    "    - [Generator expression](#generator-expression)\n",
    "    - [Generator function](#generator-function)\n",
    "  - [`<class '*_iterator'>`](#<class-'*_iterator'>)\n",
    "  - [`<class 'enumerate'>`](#<class-'enumerate'>)\n",
    "  - [*Iterator protocol*: implementare un oggetto iteratore](#*iterator-protocol*-implementare-un-oggetto-iteratore)\n",
    "  - [Domanda: Ma li iteratori possono essere \"resettati\"?](#domanda-ma-li-iteratori-possono-essere-resettati?)\n",
    "  - [Comparazione tra iteratori e generatori](#comparazione-tra-iteratori-e-generatori)\n",
    "  - [Iteratore con \"retromarcia\"](#iteratore-con-retromarcia)"
   ]
  },
  {
   "cell_type": "markdown",
   "metadata": {},
   "source": [
    "# Iterabili, iteratori, generatori"
   ]
  },
  {
   "cell_type": "markdown",
   "metadata": {},
   "source": [
    "![iterables.png](./imgs/iterables.png)"
   ]
  },
  {
   "cell_type": "markdown",
   "metadata": {},
   "source": [
    "## In sintesi\n",
    "\n",
    "- un _**iterabile**_ è un termine generico che indica qualcosa su cui si può iterare;\n",
    "\n",
    "- un _**iteratore**_ è un termine generico che indica un oggetto che possiede dei metodi che consentono l'iterazione, definiti dal cosiddetto *iterator protocol*;\n",
    "\n",
    "- un _**generatore**_ è un modo comodo per creare iteratori senza dover implementare una classe ed esplicitare i metodi dell'*iterator protocol*."
   ]
  },
  {
   "attachments": {},
   "cell_type": "markdown",
   "metadata": {},
   "source": [
    "| Concetto         | Spiegazione                                                                                                                                                                                                            |\n",
    "|------------------|------------------------------------------------------------------------------------------------------------------------------------------------------------------------------------------------------------------------|\n",
    "| iterable         | Un oggetto in grado di restituire i suoi membri uno alla volta, e sul quale è possibile eseguire un ciclo e che può essere trasformato in un iteratore. Esempi di iterabili sono `list`, `set`, `tuple`, `dict`, `string`, ecc.                                                |\n",
    "| iterator         | Un oggetto che rappresenta uno *stream* (flusso) di dati e che può essere iterato e che implementa i metodi `__iter__` e `__next__`.                                                                                                                                                                                     |\n",
    "| generator        | Un tipo speciale di funzione che non restituisce un singolo valore, ma restituisce un oggetto iteratore che \"possiede\" una sequenza di valori.                                                                                       |\n",
    "| lazy evaluation  | Una strategia di valutazione per cui alcuni oggetti vengono prodotti solo quando necessario. Di conseguenza, alcuni circoli di sviluppatori si riferiscono alla valutazione pigra anche come \"call-by-need\".           |\n",
    "| iterator protocol | Un insieme di regole da seguire per implementare un iteratore in Python.                                                                                                                                               |\n",
    "| `next()`         | Una funzione built-in utilizzata per restituire l'elemento successivo in un iteratore. L'oggetto deve implementare il metodo `__next__`.                                                                               |\n",
    "| `iter()`         | Una funzione built-in usata per convertire un iterabile in un iteratore. L'oggetto deve implementare il metodo `__iter__`.                                                                                             |\n",
    "| `for`            | Il ciclo `for` utilizza il metodo `__iter__` per ottenere un iteratore correttamente inizializzato e `__next__` per esegiuire l'iterazione. Quando rileva un errore di `StopIteration`, termina automaticamente il ciclo senza effetti collaterali. |\n",
    "| `yield`          | Una keyword di Python simile alla parola chiave `return`, con la differenza che `yield` restituisce un oggetto generatore invece di un valore.                                                                         |"
   ]
  },
  {
   "cell_type": "markdown",
   "metadata": {},
   "source": [
    "![iterable_iterator_generator.png](./imgs/iterable_iterator_generator.png)"
   ]
  },
  {
   "attachments": {},
   "cell_type": "markdown",
   "metadata": {},
   "source": [
    "## Lazy evaluation\n",
    "\n",
    "Vedi [su Wikipedia](https://it.wikipedia.org/wiki/Valutazione_lazy)."
   ]
  },
  {
   "cell_type": "markdown",
   "metadata": {},
   "source": [
    "## `<class 'generator'>` "
   ]
  },
  {
   "attachments": {},
   "cell_type": "markdown",
   "metadata": {},
   "source": [
    "### Generator expression\n",
    "\n",
    "La forma più compatta per creare un generatore è detta [_**Generator expressions**_](https://docs.python.org/3/reference/expressions.html#generator-expressions) (*genexp*).\n",
    "\n",
    "Una *genex* ha la forma `(<exp> for <element> in <iterable>)`."
   ]
  },
  {
   "cell_type": "code",
   "execution_count": null,
   "metadata": {},
   "outputs": [
    {
     "name": "stdout",
     "output_type": "stream",
     "text": [
      "<class 'generator'>\n",
      "A\n",
      "B\n",
      "C\n"
     ]
    }
   ],
   "source": [
    "# gen = (x for x in range(3))\n",
    "gen = (x for x in ['A', 'B', 'C'])\n",
    "\n",
    "print(type(gen))\n",
    "\n",
    "# print(gen.__next__())\n",
    "# print(gen.__next__())\n",
    "# print(gen.__next__())\n",
    "# print(gen.__next__())  # StopIteration error\n",
    "\n",
    "print(next(gen))\n",
    "print(next(gen))\n",
    "print(next(gen))\n",
    "# print(next(gen))  # StopIteration error\n",
    "\n",
    "# for x in gen:\n",
    "#     print(x)"
   ]
  },
  {
   "attachments": {},
   "cell_type": "markdown",
   "metadata": {},
   "source": [
    "A prima vista potrebbe sembrare una \"tuple comprehension\", ma in questo caso le parentesi tonde non ci devono trarre in inganno. Questo è un **generatore** a tutti gli effetti.\n",
    "\n",
    "> CURIOSITÀ: La *tuple comprehension* la si ottiene così:<br/>\n",
    "  `tuple(x for x in ['A', 'B', 'C'])`<br/>\n",
    "  In pratica gli si passa un generatore come argomento."
   ]
  },
  {
   "cell_type": "markdown",
   "metadata": {},
   "source": [
    "### Generator function\n",
    "\n",
    "Un altro modo per implementare un generatore è utilizzando la parola chiave `yeld` all'interno di una funzione (al posto di `return`)."
   ]
  },
  {
   "cell_type": "code",
   "execution_count": 15,
   "metadata": {},
   "outputs": [
    {
     "name": "stdout",
     "output_type": "stream",
     "text": [
      "<class 'generator'>\n",
      "1\n",
      "2\n",
      "3\n"
     ]
    }
   ],
   "source": [
    "def generator():\n",
    "    yield 1\n",
    "    yield 2\n",
    "    yield 3\n",
    "\n",
    "gen = generator()\n",
    "\n",
    "print(type(gen))\n",
    "\n",
    "print(next(gen))\n",
    "print(next(gen))\n",
    "print(next(gen))\n",
    "# print(next(gen))  # StopIteration error"
   ]
  },
  {
   "cell_type": "markdown",
   "metadata": {},
   "source": [
    "Questo è un generatore perché `generator()` è una funzione che produce una sequenza di valori. Utilizzando `yield`, ogni chiamata a `next()` sul generatore restituirà il prossimo valore nella sequenza."
   ]
  },
  {
   "cell_type": "markdown",
   "metadata": {},
   "source": [
    "Possiamo generare una sequenza di numeri in modo dinamico e iterarci sopra:"
   ]
  },
  {
   "cell_type": "code",
   "execution_count": 12,
   "metadata": {},
   "outputs": [
    {
     "name": "stdout",
     "output_type": "stream",
     "text": [
      "<class 'generator'>\n",
      "1\n",
      "2\n",
      "2\n"
     ]
    }
   ],
   "source": [
    "def my_generator_range(len):\n",
    "    item = 0\n",
    "    yield 1\n",
    "    item += 1\n",
    "    while item < len:\n",
    "        yield 2\n",
    "        item += 1\n",
    "\n",
    "gen = my_generator_range(3)\n",
    "\n",
    "print(type(gen))\n",
    "\n",
    "print(next(gen))\n",
    "print(next(gen))\n",
    "print(next(gen))\n",
    "# print(next(gen))  # StopIteration error"
   ]
  },
  {
   "cell_type": "markdown",
   "metadata": {},
   "source": [
    "Oppure possiamo creare un generatore che itera sopra un iterabile e modifica i suoi elementi.\n",
    "\n",
    "Il vantaggio dei generatori ci consente di eseguire i calcoli solo solo quando è necessario e senza duplicare l'elemento originale. Questo fa risparmiare potenza di calcolo e memoria.\n",
    "\n",
    "Per esempio potremmo trasformare in minuscole le nostre lettere dell'esempio precedente:"
   ]
  },
  {
   "cell_type": "code",
   "execution_count": null,
   "metadata": {},
   "outputs": [
    {
     "name": "stdout",
     "output_type": "stream",
     "text": [
      "<class 'generator'>\n",
      "a\n",
      "b\n",
      "c\n"
     ]
    }
   ],
   "source": [
    "def my_generator_iterable(iterable):\n",
    "    lenght = len(iterable)\n",
    "    idx = 0\n",
    "    item = iterable[0].lower()\n",
    "    yield item\n",
    "    idx += 1\n",
    "    while idx < lenght:\n",
    "        yield iterable[idx].lower()\n",
    "        idx += 1\n",
    "\n",
    "\n",
    "gen = my_generator_iterable(['A', 'B', 'C'])\n",
    "\n",
    "print(type(gen))\n",
    "\n",
    "print(next(gen))\n",
    "print(next(gen))\n",
    "print(next(gen))\n",
    "# print(next(gen))  # StopIteration error"
   ]
  },
  {
   "cell_type": "markdown",
   "metadata": {},
   "source": [
    "Naturalmente, invece di \"iterare\" semplicemente passo-passo un iterabile o un range, potremmo eseguire eseguire dei calcoli aggiuntivi ad ogni iterazione e restituire il risultato di quel calcolo anziché l'elemento originale."
   ]
  },
  {
   "cell_type": "code",
   "execution_count": 1,
   "metadata": {},
   "outputs": [
    {
     "name": "stdout",
     "output_type": "stream",
     "text": [
      "<class 'generator'>\n",
      "1\n",
      "4\n",
      "9\n",
      "16\n"
     ]
    }
   ],
   "source": [
    "def squares(start, stop):\n",
    "    for i in range(start, stop):\n",
    "        yield i * i\n",
    "\n",
    "gen = squares(1, 5)\n",
    "print(type(gen))\n",
    "\n",
    "print(next(gen))\n",
    "print(next(gen))\n",
    "print(next(gen))\n",
    "print(next(gen))\n",
    "# print(next(gen))  # StopIteration error"
   ]
  },
  {
   "cell_type": "code",
   "execution_count": 2,
   "metadata": {},
   "outputs": [
    {
     "name": "stdout",
     "output_type": "stream",
     "text": [
      "<class 'generator'>\n",
      "1\n",
      "4\n",
      "9\n",
      "16\n"
     ]
    }
   ],
   "source": [
    "gen = (i*i for i in range(1, 5))\n",
    "print(type(gen))\n",
    "\n",
    "print(next(gen))\n",
    "print(next(gen))\n",
    "print(next(gen))\n",
    "print(next(gen))\n",
    "# print(next(gen))  # StopIteration error"
   ]
  },
  {
   "cell_type": "markdown",
   "metadata": {},
   "source": [
    "## `<class '*_iterator'>`"
   ]
  },
  {
   "cell_type": "markdown",
   "metadata": {},
   "source": [
    "Per creare un iteratore a partire da un iterabile, possiamo semplicemente usare la funzione built-in `iter()`."
   ]
  },
  {
   "cell_type": "code",
   "execution_count": 4,
   "metadata": {},
   "outputs": [
    {
     "name": "stdout",
     "output_type": "stream",
     "text": [
      "<class 'list_iterator'>\n",
      "A\n",
      "B\n",
      "C\n"
     ]
    }
   ],
   "source": [
    "# iterabile = range(3)\n",
    "iterabile = ['A', 'B', 'C']\n",
    "\n",
    "iteratore = iter(iterabile)\n",
    "\n",
    "print(type(iteratore))\n",
    "\n",
    "print(next(iteratore))\n",
    "print(next(iteratore))\n",
    "print(next(iteratore))\n",
    "# print(next(iteratore))  # StopIteration error"
   ]
  },
  {
   "cell_type": "markdown",
   "metadata": {},
   "source": [
    "## `<class 'enumerate'>`"
   ]
  },
  {
   "cell_type": "markdown",
   "metadata": {},
   "source": [
    "La funzione `enumerate()` è simile a `iter()` ma ci restituisce una tupla (indice, valore)."
   ]
  },
  {
   "cell_type": "code",
   "execution_count": 4,
   "metadata": {},
   "outputs": [
    {
     "name": "stdout",
     "output_type": "stream",
     "text": [
      "<class 'enumerate'>\n",
      "(0, 'A')\n",
      "(1, 'B')\n",
      "(2, 'C')\n"
     ]
    }
   ],
   "source": [
    "enum = enumerate(['A', 'B', 'C'])\n",
    "print(type(enum))\n",
    "\n",
    "print(next(enum))\n",
    "print(next(enum))\n",
    "print(next(enum))\n",
    "# print(next(enum))  # StopIteration error\n",
    "\n",
    "# for idx, elem in enum:\n",
    "#     print('index:', idx, 'element:', elem)"
   ]
  },
  {
   "attachments": {},
   "cell_type": "markdown",
   "metadata": {},
   "source": [
    "## *Iterator protocol*: implementare un oggetto iteratore"
   ]
  },
  {
   "attachments": {},
   "cell_type": "markdown",
   "metadata": {},
   "source": [
    "Un oggetto iteratore deve implementare il metodo speciale `__iter__` che deve restituire un iterabile e quello `__next__` che deve restituire un elemento alla volta fino all'esaurimento dell'iterabile."
   ]
  },
  {
   "attachments": {},
   "cell_type": "markdown",
   "metadata": {},
   "source": [
    "> APPROFONDIMENTO: Il metodo `__iter__` viene richiamato quando è necessario ottenere un iteratore a partire da un container. Questo metodo deve restituire un nuovo oggetto iteratore che può iterare su tutti gli oggetti del contenitore. Per le mappature, deve iterare sulle chiavi del contenitore.\n",
    "\n",
    "Per fare questo e creare un oggetto che si comporta a tutti gli effetti come un iteratore, possiamo fare così:"
   ]
  },
  {
   "cell_type": "code",
   "execution_count": 6,
   "metadata": {},
   "outputs": [
    {
     "name": "stdout",
     "output_type": "stream",
     "text": [
      "<class '__main__.MyFullIterator'>\n",
      "<class '__main__.MyFullIterator'>\n",
      "0\n",
      "1\n",
      "2\n"
     ]
    }
   ],
   "source": [
    "class MyFullIterator():\n",
    "    def __init__(self, stop):\n",
    "        self._stop = stop\n",
    "        self._cursore = 0  # inizializzo il contatore del \"cursore\"\n",
    "\n",
    "    def __iter__(self):\n",
    "        return self        # restituisce l'oggetto creato\n",
    "\n",
    "    def __next__(self):\n",
    "        if self._cursore < self._stop:\n",
    "            res = self._cursore\n",
    "            self._cursore += 1\n",
    "            return res\n",
    "        else:\n",
    "            raise StopIteration\n",
    "\n",
    "my_iterator = MyFullIterator(3)\n",
    "print(type(my_iterator))\n",
    "\n",
    "my_init_iterator = iter(my_iterator)\n",
    "print(type(my_init_iterator))\n",
    "\n",
    "print(next(my_init_iterator))\n",
    "print(next(my_init_iterator))\n",
    "print(next(my_init_iterator))\n",
    "# print(next(my_init_iterator))  # StopIteration error\n",
    "\n",
    "# for x in my_iterator:\n",
    "#     print(x)"
   ]
  },
  {
   "attachments": {},
   "cell_type": "markdown",
   "metadata": {},
   "source": [
    "## Domanda: Ma li iteratori possono essere \"resettati\"?\n",
    "\n",
    "Gli iteratori di Python normalmente non possono essere \"resettati\": una volta esauriti, dovrebbero sollevare una `StopIteration` ogni volta che viene chiamato `next()`. Per iterare nuovamente è necessario richiedere un nuovo oggetto iteratore con la funzione `iter()`."
   ]
  },
  {
   "cell_type": "markdown",
   "metadata": {},
   "source": [
    "## Comparazione tra iteratori e generatori\n",
    "\n",
    "1. **Implementazione**:\n",
    "   - Gli **iteratori** sono implementati tramite classi che definiscono i metodi `__iter__()` e `__next__()`.\n",
    "   - I **generatori** sono implementati tramite funzioni che utilizzano la parola chiave `yield`.\n",
    "\n",
    "2. **Stato e variabili locali**:\n",
    "   - Negli **iteratori**, lo stato deve essere esplicitamente mantenuto e gestito all'interno della classe.\n",
    "   - Nei **generatori**, lo stato e le variabili locali vengono automaticamente mantenuti tra le chiamate di `yield`.\n",
    "\n",
    "3. **Utilizzo**:\n",
    "   - Gli **iteratori** sono utili per creare oggetti che permettono l'iterazione su collezioni di dati o sequenze personalizzate.\n",
    "   - I **generatori** sono particolarmente efficienti per calcolare sequenze di dati \"on the fly\" senza la necessità di memorizzare l'intera sequenza in memoria.\n",
    "\n",
    "4. **Funzioni e parole chiave**:\n",
    "   - Gli **iteratori** utilizzano i metodi `__iter__()` per restituire l'iteratore stesso e `__next__()` per accedere al prossimo elemento.\n",
    "   - I **generatori** utilizzano la parola chiave `yield` per restituire il prossimo valore nella sequenza.\n",
    "\n",
    "5. **Relazione**:\n",
    "   - Tutti i **generatori** sono **iteratori**, poiché implementano i metodi `__iter__()` e `__next__()` implicitamente attraverso l'uso di `yield`.\n",
    "   - Non tutti gli **iteratori** sono **generatori**, dato che gli iteratori possono essere creati senza utilizzare `yield`, tramite l'implementazione manuale dei metodi richiesti.\n"
   ]
  },
  {
   "cell_type": "markdown",
   "metadata": {},
   "source": [
    "| Aspetto                | Iteratori                                      | Generatori                            |\n",
    "|------------------------|------------------------------------------------|---------------------------------------|\n",
    "| Implementazione        | Tramite classi con `__iter__()` e `__next__()` | Tramite funzioni con `yield`          |\n",
    "| Gestione dello *stato* | Esplicita, all'interno della classe            | Implicita, tra le chiamate di `yield` |\n",
    "| Utilizzo               | Iterazione su collezioni/sequenze              | Calcolo \"on the fly\" di sequenze      |\n",
    "| Funzioni/Parole chiave | `__iter__()`, `__next__()`                     | `yield`                               |\n",
    "| Relazione              | Possono essere generatori se usano `yield`     | Sono sempre iteratori                 |\n"
   ]
  },
  {
   "cell_type": "markdown",
   "metadata": {},
   "source": [
    "## Iteratore con \"retromarcia\"\n",
    "\n",
    "Qualcuno potrebbe chiedersi perché dover ricorrere a un iteratore se con l'uso della keyword `yield` possiamo creare generatori in modo più facile e veloce.\n",
    "\n",
    "I generatori vanno bene per la maggioranza dei casi ma, per esempio, se volessimo implementare un oggetto che possa iterare in modo bidirezionale, ovvero sia in avanti che indietro, saremmo costretti a implementare un iteratore ad hoc.\n",
    "\n",
    "Nell'esempio che segue si implementa un iteratore con un metodo per attivare una sorta di \"retromarcia\" che consente di invertire la direzione dell'iterazione."
   ]
  },
  {
   "cell_type": "code",
   "execution_count": 7,
   "metadata": {},
   "outputs": [
    {
     "name": "stdout",
     "output_type": "stream",
     "text": [
      "1\n",
      "2\n",
      "3\n",
      "2\n",
      "1\n"
     ]
    }
   ],
   "source": [
    "class BidirectionalIteratorWithReverse:\n",
    "    def __init__(self, data):\n",
    "        self.data = data\n",
    "        self.index = 0\n",
    "        self.forward = True  # Direzione di default: avanti\n",
    "\n",
    "    def __iter__(self):\n",
    "        return self\n",
    "\n",
    "    def __next__(self):\n",
    "        # Se si sta andando avanti\n",
    "        if self.forward:\n",
    "            # Se non si è arrivati alla fine della lista\n",
    "            if self.index < len(self.data):\n",
    "                # Si restituisce l'elemento corrente e si incrementa l'indice\n",
    "                result = self.data[self.index]\n",
    "                self.index += 1\n",
    "                return result\n",
    "            # Se si è arrivati alla fine della lista, ferma l'iterazione\n",
    "            else:\n",
    "                raise StopIteration\n",
    "        # Se si sta andando all'indietro\n",
    "        else:\n",
    "            # Se non si è arrivati all'inizio della lista\n",
    "            if self.index > 0:\n",
    "                # Si decrementa l'indice e si restituisce l'elemento corrente\n",
    "                self.index -= 1\n",
    "                return self.data[self.index]\n",
    "            # Se si è arrivati all'inizio della lista, ferma l'iterazione\n",
    "            else:\n",
    "                raise StopIteration\n",
    "\n",
    "    def reverse_direction(self):\n",
    "        # Inverte la direzione dell'iterazione\n",
    "        self.forward = not self.forward\n",
    "\n",
    "        # Si aggiusta l'indice in base alla nuova direzione in modo da non\n",
    "        # saltare elementi\n",
    "        if self.forward:\n",
    "            self.index -= 1\n",
    "        else:\n",
    "            self.index += 1\n",
    "\n",
    "\n",
    "# Esempio di utilizzo\n",
    "data = [1, 2, 3, 4, 5]\n",
    "iteratore = BidirectionalIteratorWithReverse(data)\n",
    "\n",
    "\n",
    "print(next(iteratore))\n",
    "print(next(iteratore))\n",
    "iteratore.reverse_direction()  # Attiva la retromarcia\n",
    "print(next(iteratore))\n",
    "print(next(iteratore))\n",
    "print(next(iteratore))"
   ]
  }
 ],
 "metadata": {
  "kernelspec": {
   "display_name": ".venv",
   "language": "python",
   "name": "python3"
  },
  "language_info": {
   "codemirror_mode": {
    "name": "ipython",
    "version": 3
   },
   "file_extension": ".py",
   "mimetype": "text/x-python",
   "name": "python",
   "nbconvert_exporter": "python",
   "pygments_lexer": "ipython3",
   "version": "3.11.2"
  }
 },
 "nbformat": 4,
 "nbformat_minor": 2
}
