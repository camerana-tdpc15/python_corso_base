{
 "cells": [
  {
   "cell_type": "markdown",
   "metadata": {},
   "source": [
    "## Evoluzione dell'AI\n",
    "\n",
    "![ai_evolution.jpg](./imgs/ai/ai_evolution.jpg)\n",
    "\n",
    "### Artificial Narrow Intelligence (ANI)\n",
    "L'ANI rappresenta il livello più basilare di intelligenza artificiale, dove i sistemi sono progettati e addestrati per eseguire compiti specifici senza la capacità di andare oltre quelli per cui sono stati programmatisulla base di una limitata predisposizione o apprendimento.\n",
    "\n",
    "### Artificial General Intelligence (AGI)\n",
    "L'AGI rappresenta un'evoluzione dell'AI dove i sistemi possono comprendere, apprendere e applicare le conoscenze in vari contesti, simili a come un essere umano può fare. Questo stadio dell'intelligenza non è ancora stato raggiunto.\n",
    "\n",
    "### Artificial Super Intelligence (ASI)\n",
    "L'ASI si riferisce a un potenziale futuro stadio dell'intelligenza artificiale in cui i sistemi sarebbero dotati di intelligenza che supera di gran lunga quella umana, con la capacità di auto-miglioramento e innovazione indipendente."
   ]
  },
  {
   "cell_type": "markdown",
   "metadata": {},
   "source": [
    "## Settori di ricerca, sviluppo e applicazione\n",
    "\n",
    "![ai_types.png](./imgs/ai/ai_types.png)\n",
    "\n",
    "### Data Science e Data Analysis\n",
    "Il cuore pulsante dell'AI, dove grandi dataset sono esaminati per rivelare pattern nascosti, correlazioni e tendenze.\n",
    "\n",
    "### Artificial Intelligence (AI)\n",
    "Il settore generico che si riferisce alla creazione di algoritmi per simulare l'intelligenza umana.\n",
    "\n",
    "### Machine Learning (ML)\n",
    "Si riferisce genericamente a metodi in cui le macchine apprendono dai dati. La tecnologia che sta alla base del machine learning è il \"neurone artificiale\".\n",
    "\n",
    "### Deep Learning (DL)\n",
    "Un sottocampo del ML basato su reti neurali artificiali con vari strati, che permette alle macchine di riconoscere pattern complessi dai dati.\n",
    "\n",
    "### Generative Intelligence (GI)\n",
    "UA sua volta un sottocampo del DL. Sta a indicare l'uso dell'AI per creare nuovi dati che assomiglino a dati reali, come immagini, testo e suoni, attraverso tecniche come GANs VAEs e architetture come i *transformer*."
   ]
  },
  {
   "cell_type": "markdown",
   "metadata": {},
   "source": [
    "## Tipi di AI e applicazioni\n",
    "\n",
    "![ai_generative-vs-predictive.jpg](./imgs/ai/ai_generative-vs-predictive.jpg)\n",
    "\n",
    "### Intelligenza Predittiva\n",
    "Usata in analisi predittive per prevedere trend futuri basandosi su dati storici e attuali. Si ottiene principalmente con le tecniche di *Machine Learning*.\n",
    "\n",
    "### Intelligenza Generativa\n",
    "Impiegata per generare nuovi contenuti, simulando la creatività umana attraverso l'apprendimento profondo. Si ottiene principalmente con le tecniche di *Deep Learning*."
   ]
  },
  {
   "cell_type": "markdown",
   "metadata": {},
   "source": [
    "## Tecnologie importanti – Parole chivave\n",
    "\n",
    "- **Machine Learning (ML)**: \n",
    "    - **Supervised Learning (SML)**: Impara da un insieme di dati etichettati.\n",
    "    - **Unsupervised Learning (UML)**: Trova pattern in dati non etichettati.\n",
    "    - **Reinforcement Learning (RML)**: Impara tramite la sperimentazione per tentativi ed errori e il rinforzo positivo o negativo.\n",
    "\n",
    "- **Deep Learning (DL)**:\n",
    "    - **Artificial Neural Networks (ANNs)**: Imitano il funzionamento del cervello umano per elaborare dati attraverso strati di nodi interconnessi.\n",
    "    - **Convolutional Neural Networks (CNNs)**: Specializzati nel riconoscimento di pattern visivi attraverso la convoluzione di immagini con filtri che permettono di catturare caratteristiche specifiche.\n",
    "    - **Recurrent Neural Networks (RNNs)**: Ideali per l'elaborazione di sequenze di dati (come il linguaggio naturale o serie temporali), grazie alla loro capacità di mantenere informazioni in una \"memoria\" temporanea.\n",
    "\n",
    "- **Generative Intelligence (GI)**:\n",
    "    - **Generative Adversarial Networks (GANs)**: Due reti neurali, il generatore e il discriminatore, si addestrano reciprocamente creando dati nuovi che imitano la distribuzione di un set di dati reale.\n",
    "    - **Variational Autoencoders (VAEs)**: Apprendono a comprimere i dati in una rappresentazione a bassa dimensionalità e a generare dati simili a quelli originali dalla rappresentazione compressa.\n",
    "    - **Transformers**: Modelli basati su meccanismi di attenzione che gestiscono efficacemente relazioni a lungo termine in dati sequenziali, spesso utilizzati per compiti di elaborazione del linguaggio naturale e oltre."
   ]
  },
  {
   "cell_type": "markdown",
   "metadata": {},
   "source": [
    "## Tecnologie importanti - Percorso storico\n",
    "\n",
    "- Neurone artificiale di Warren & Pitts (anni '40)\n",
    "- Percettrone di Rosenblatt (anni '50)\n",
    "- Neocognitrone di Fukishima (anni '70)\n",
    "- Dagli anni '70 in avanti le reti neurali si sono fatte via via sempre più \"profonde\" (molti strati, *layer*) e i componenti che costituiscono e controllano queste architetture si sono fatti sempre più sofisticati.\n",
    "\n",
    "![ai_timeline.jpg](./imgs/ai/ai_timeline.jpg)"
   ]
  },
  {
   "cell_type": "markdown",
   "metadata": {},
   "source": [
    "## Conclusione e prospettive future\n",
    "\n",
    "- Riepilogo dell'impatto dell'AI e delle sue potenzialità.\n",
    "- Riflessione sulle sfide tecniche, etiche e sul futuro dell'AI nella società."
   ]
  }
 ],
 "metadata": {
  "language_info": {
   "name": "python"
  }
 },
 "nbformat": 4,
 "nbformat_minor": 2
}
