{
 "cells": [
  {
   "cell_type": "markdown",
   "metadata": {},
   "source": [
    "**Sommario**<a id='toc0_'></a>    \n",
    "- [Ciclo `for`](#toc1_)    \n",
    "  - [Che cos'è l'iterazione?](#toc1_1_)    \n",
    "  - [Sintassi del ciclo `for`](#toc1_2_)    \n",
    "  - [Nomi delle variabili nei `for`](#toc1_3_)    \n",
    "  - [Funzione `range()`](#toc1_4_)    \n",
    "  - [Iterare per indici](#toc1_5_)    \n",
    "    - [`range(len(iterable))`](#toc1_5_1_)    \n",
    "    - [`enumerate(iterabile)`](#toc1_5_2_)    \n",
    "  - [Modificare durante l'iterazione (ATTENZIONE!)](#toc1_6_)    \n",
    "  - [Comandi `break` e `continue`](#toc1_7_)    \n",
    "    - [Terminare con un `break`](#toc1_7_1_)    \n",
    "    - [Proseguire con `continue`](#toc1_7_2_)    \n",
    "    - [Combinare `break` e `continue`](#toc1_7_3_)    \n",
    "  - [Cicli for annidati](#toc1_8_)    \n",
    "  - [Attenzione ai nomi di variabile](#toc1_9_)    \n",
    "  - [Riassumendo](#toc1_10_)    \n",
    "- [Ciclo `while`](#toc2_)    \n",
    "  - [Differenze rispetto al ciclo `for`](#toc2_1_)    \n",
    "  - [La condizione](#toc2_2_)    \n",
    "  - [Caso d'uso con un contatore](#toc2_3_)    \n",
    "  - [Loop infinito con `while True`](#toc2_4_)    \n",
    "  - [Istruzione `break`](#toc2_5_)    \n",
    "  - [Istruzione `continue`](#toc2_6_)    \n",
    "  - [Conclusione](#toc2_7_)    \n",
    "\n",
    "<!-- vscode-jupyter-toc-config\n",
    "\tnumbering=false\n",
    "\tanchor=true\n",
    "\tflat=false\n",
    "\tminLevel=1\n",
    "\tmaxLevel=6\n",
    "\t/vscode-jupyter-toc-config -->\n",
    "<!-- THIS CELL WILL BE REPLACED ON TOC UPDATE. DO NOT WRITE YOUR TEXT IN THIS CELL -->"
   ]
  },
  {
   "cell_type": "markdown",
   "metadata": {},
   "source": [
    "# <a id='toc1_'></a>Ciclo `for` [&#8593;](#toc0_)"
   ]
  },
  {
   "cell_type": "markdown",
   "metadata": {},
   "source": [
    "I computer sono noti per la loro capacità di fare cose che le persone considerano noiose e logoranti. Ad esempio, ripetere compiti identici senza errori è una di queste cose."
   ]
  },
  {
   "cell_type": "markdown",
   "metadata": {
    "slideshow": {
     "slide_type": "notes"
    },
    "tags": []
   },
   "source": [
    "In questa sezione vedremo quale strumento Python può aiutarci in questo senso, come implementarlo e quali funzioni si possono usare insieme ad esso."
   ]
  },
  {
   "cell_type": "markdown",
   "metadata": {},
   "source": [
    "## <a id='toc1_1_'></a>Che cos'è l'iterazione? [&#8593;](#toc0_)\n",
    "\n",
    "In Python, il processo di esecuzione ripetuta dello stesso blocco di codice si chiama iterazione."
   ]
  },
  {
   "cell_type": "markdown",
   "metadata": {
    "slideshow": {
     "slide_type": "fragment"
    },
    "tags": []
   },
   "source": [
    "Esistono due tipi di iterazione:\n",
    "\n",
    "- Iterazione definita, in cui il numero di ripetizioni è stabilito in anticipo (ciclo `for`).\n",
    "- Iterazione indefinita, in cui un blocco di codice viene eseguito finché la condizione dichiarata in anticipo è vera (ciclo `while`)."
   ]
  },
  {
   "cell_type": "markdown",
   "metadata": {
    "slideshow": {
     "slide_type": "fragment"
    },
    "tags": []
   },
   "source": [
    "Dopo la prima iterazione, il programma torna all'inizio del corpo del codice e lo ripete, creando un cosiddetto ciclo (*cycle* o *loop*)."
   ]
  },
  {
   "cell_type": "markdown",
   "metadata": {
    "slideshow": {
     "slide_type": "fragment"
    },
    "tags": []
   },
   "source": [
    "Il più diffuso è il **ciclo for**, che prende il nome dall'operatore `for`, che prevede l'esecuzione del codice."
   ]
  },
  {
   "cell_type": "markdown",
   "metadata": {
    "slideshow": {
     "slide_type": "fragment"
    },
    "tags": []
   },
   "source": [
    "Con la parola chiave `for` è possibile creare un ciclo (loop) che itera un oggetto di tipo iterabile, iteratore o generatore."
   ]
  },
  {
   "cell_type": "markdown",
   "metadata": {},
   "source": [
    "## <a id='toc1_2_'></a>Sintassi del ciclo `for` [&#8593;](#toc0_)"
   ]
  },
  {
   "cell_type": "markdown",
   "metadata": {},
   "source": [
    "Ecco lo schema del ciclo:\n",
    "\n",
    "```python\n",
    "for variabile in iterabile:\n",
    "    istruzioni\n",
    "```"
   ]
  },
  {
   "cell_type": "markdown",
   "metadata": {
    "slideshow": {
     "slide_type": "fragment"
    },
    "tags": []
   },
   "source": [
    "Dove `istruzioni` è un blocco di operazioni eseguite per ogni elemento dell'`iterabile` cioè l'oggetto che deve essere iterato (ad esempio, una stringa o una lista).\n",
    "\n",
    "La `variabile` assume il valore dell'elemento successivo dell'iterabile dopo ogni iterazione."
   ]
  },
  {
   "cell_type": "markdown",
   "metadata": {
    "slideshow": {
     "slide_type": "subslide"
    },
    "tags": []
   },
   "source": [
    "Osserviamo ora il risultato ottenuto eseguendo il seguente pezzo di codice:"
   ]
  },
  {
   "cell_type": "code",
   "execution_count": 24,
   "metadata": {
    "tags": []
   },
   "outputs": [
    {
     "name": "stdout",
     "output_type": "stream",
     "text": [
      "pippo\n",
      "pluto\n",
      "paperino\n"
     ]
    }
   ],
   "source": [
    "lista = ['pippo', 'pluto', 'paperino']\n",
    "\n",
    "for eroe in lista:\n",
    "    print(eroe)"
   ]
  },
  {
   "cell_type": "markdown",
   "metadata": {
    "slideshow": {
     "slide_type": "fragment"
    },
    "tags": []
   },
   "source": [
    "Durante ogni iterazione, il programma prenderà un elemento dalla lista il quale verrà assegnato alla variabile `eroe` ed eseguirà le istruzioni su di esso, quindi il risultato finale sarà la stampa di ciascun elemento della lista."
   ]
  },
  {
   "cell_type": "markdown",
   "metadata": {
    "slideshow": {
     "slide_type": "subslide"
    },
    "tags": []
   },
   "source": [
    "Anche le stringhe sono iterabili, quindi è possibile fare lo spelling di una parola, ad esempio:"
   ]
  },
  {
   "cell_type": "code",
   "execution_count": 1,
   "metadata": {},
   "outputs": [
    {
     "name": "stdout",
     "output_type": "stream",
     "text": [
      "P\n",
      "y\n",
      "t\n",
      "h\n",
      "o\n",
      "n\n"
     ]
    }
   ],
   "source": [
    "for char in 'Python':\n",
    "    print(char)"
   ]
  },
  {
   "cell_type": "markdown",
   "metadata": {},
   "source": [
    "## <a id='toc1_3_'></a>Nomi delle variabili nei `for` [&#8593;](#toc0_)\n",
    "\n",
    "Come nome per la variabile possiamo scegliere quello che ci pare, per esempio questo codice è totalmente equivalente al precedente: "
   ]
  },
  {
   "cell_type": "code",
   "execution_count": 25,
   "metadata": {
    "slideshow": {
     "slide_type": "fragment"
    },
    "tags": []
   },
   "outputs": [
    {
     "name": "stdout",
     "output_type": "stream",
     "text": [
      "pallavolo\n",
      "tennis\n",
      "calcio\n",
      "nuoto\n",
      "Finito!\n"
     ]
    }
   ],
   "source": [
    "lista = ['pallavolo', 'tennis', 'calcio', 'nuoto']\n",
    "for sport in lista:\n",
    "    print(sport)\n",
    "    \n",
    "print('Finito!')    "
   ]
  },
  {
   "cell_type": "markdown",
   "metadata": {
    "slideshow": {
     "slide_type": "subslide"
    },
    "tags": []
   },
   "source": [
    "È possibile anche utilizzzre più di una variabile tramite il cosiddetto *unpacking* (spacchettamento).\n",
    "\n",
    "Per esempio possiamo fare questo con una sequenza di `tuple`:"
   ]
  },
  {
   "cell_type": "code",
   "execution_count": 26,
   "metadata": {},
   "outputs": [
    {
     "name": "stdout",
     "output_type": "stream",
     "text": [
      "Roma = 4\n",
      "Milano = 7\n",
      "Napoli = 1\n"
     ]
    }
   ],
   "source": [
    "lista = [('Roma', 4), ('Milano', 7), ('Napoli', 1)]\n",
    "\n",
    "for citta, numero in lista:\n",
    "    print(citta, '=', numero)"
   ]
  },
  {
   "cell_type": "markdown",
   "metadata": {
    "slideshow": {
     "slide_type": "subslide"
    },
    "tags": []
   },
   "source": [
    "E con i `dict`:"
   ]
  },
  {
   "cell_type": "code",
   "execution_count": 27,
   "metadata": {},
   "outputs": [
    {
     "name": "stdout",
     "output_type": "stream",
     "text": [
      "Roma = 4\n",
      "Milano = 7\n",
      "Napoli = 1\n"
     ]
    }
   ],
   "source": [
    "diz = {\n",
    "    'Roma': 4,\n",
    "    'Milano': 7,\n",
    "    'Napoli': 1\n",
    "}\n",
    "\n",
    "for citta, numero in diz.items():\n",
    "    print(citta, '=', numero)"
   ]
  },
  {
   "cell_type": "markdown",
   "metadata": {
    "slideshow": {
     "slide_type": "subslide"
    },
    "tags": []
   },
   "source": [
    "> ATTENZIONE: Quando inserisci una variabile in un ciclo `for`, questa variabile deve essere nuova!"
   ]
  },
  {
   "cell_type": "markdown",
   "metadata": {
    "slideshow": {
     "slide_type": "fragment"
    },
    "tags": []
   },
   "source": [
    "Se hai definito la variabile prima, non la reintrodurrai in un `for`, perchè ciò portebbe gran confusione.\n",
    "\n",
    "Per esempio:"
   ]
  },
  {
   "cell_type": "code",
   "execution_count": 28,
   "metadata": {
    "slideshow": {
     "slide_type": "fragment"
    },
    "tags": []
   },
   "outputs": [
    {
     "name": "stdout",
     "output_type": "stream",
     "text": [
      "pallavolo\n",
      "tennis\n",
      "calcio\n",
      "nuoto\n",
      "nuoto\n"
     ]
    }
   ],
   "source": [
    "sport = ['pallavolo', 'tennis', 'calcio', 'nuoto']\n",
    "prova = 'ciao' \n",
    "\n",
    "for prova in sport:  # perdi la variabile prova originale\n",
    "    print(prova)\n",
    "\n",
    "print(prova) # stampa 'nuoto' invece di 'ciao'"
   ]
  },
  {
   "cell_type": "markdown",
   "metadata": {},
   "source": [
    "## <a id='toc1_4_'></a>Funzione `range()` [&#8593;](#toc0_)"
   ]
  },
  {
   "cell_type": "markdown",
   "metadata": {},
   "source": [
    "La funzione `range()` può essere utilizzata nei cilci `for` per specificare il numero di iterazioni."
   ]
  },
  {
   "cell_type": "markdown",
   "metadata": {
    "slideshow": {
     "slide_type": "notes"
    },
    "tags": []
   },
   "source": [
    "Restituisce una sequenza di numeri che parte da 0 (per impostazione predefinita) e termina con un numero di iterazioni specificato. Attenzione: l'ultimo numero non sarà presente nell'output, dato che si è partiti da 0."
   ]
  },
  {
   "cell_type": "markdown",
   "metadata": {
    "slideshow": {
     "slide_type": "fragment"
    },
    "tags": []
   },
   "source": [
    "Vediamo l'esempio seguente:"
   ]
  },
  {
   "cell_type": "code",
   "execution_count": 29,
   "metadata": {
    "tags": []
   },
   "outputs": [
    {
     "name": "stdout",
     "output_type": "stream",
     "text": [
      "0\n",
      "1\n",
      "2\n",
      "3\n",
      "4\n"
     ]
    }
   ],
   "source": [
    "for i in range(5):\n",
    "    print(i)"
   ]
  },
  {
   "cell_type": "markdown",
   "metadata": {
    "slideshow": {
     "slide_type": "fragment"
    },
    "tags": []
   },
   "source": [
    "È possibile modificare il valore iniziale se non si vuole partire da 0."
   ]
  },
  {
   "cell_type": "markdown",
   "metadata": {
    "slideshow": {
     "slide_type": "subslide"
    },
    "tags": []
   },
   "source": [
    "Inoltre, è possibile configurare il valore di incremento (passo) aggiungendo un terzo parametro:"
   ]
  },
  {
   "cell_type": "code",
   "execution_count": 2,
   "metadata": {},
   "outputs": [
    {
     "name": "stdout",
     "output_type": "stream",
     "text": [
      "5\n",
      "15\n",
      "25\n",
      "35\n"
     ]
    }
   ],
   "source": [
    "for i in range(5, 45, 10):\n",
    "    print(i)"
   ]
  },
  {
   "cell_type": "markdown",
   "metadata": {
    "slideshow": {
     "slide_type": "fragment"
    },
    "tags": []
   },
   "source": [
    "In base ai parametri passati, abbiamo chiesto di stampare i numeri da 5 a 45 con un valore di incremento pari a 10.\n",
    "\n",
    "Osserviamo come l'ultimo valore non viene incluso nell'output."
   ]
  },
  {
   "cell_type": "markdown",
   "metadata": {
    "slideshow": {
     "slide_type": "subslide"
    },
    "tags": []
   },
   "source": [
    "Se non si intende utilizzare la variabile contatore nel ciclo, è possibile usare un \"segnaposto\" standard, usando l'underscore:"
   ]
  },
  {
   "cell_type": "code",
   "execution_count": 3,
   "metadata": {},
   "outputs": [
    {
     "name": "stdout",
     "output_type": "stream",
     "text": [
      "Ciao!\n",
      "Ciao!\n",
      "Ciao!\n",
      "Ciao!\n",
      "Ciao!\n"
     ]
    }
   ],
   "source": [
    "for _ in range(5):\n",
    "    print('Ciao!')"
   ]
  },
  {
   "cell_type": "markdown",
   "metadata": {
    "slideshow": {
     "slide_type": "fragment"
    },
    "tags": []
   },
   "source": [
    "Nell'esempio precedente, non abbiamo bisogno della variabile contatore in alcun modo, ma utilizziamo semplicemente il ciclo per ripetere la funzione `print()` un determinato numero di volte."
   ]
  },
  {
   "cell_type": "markdown",
   "metadata": {},
   "source": [
    "## <a id='toc1_5_'></a>Iterare per indici [&#8593;](#toc0_)\n",
    "\n",
    "Se abbiamo una sequenza (es. un lista), a volte è necessario conoscere a quale posizione si è durante l'iterazione: per farlo serve tener traccia degli indici."
   ]
  },
  {
   "cell_type": "markdown",
   "metadata": {
    "slideshow": {
     "slide_type": "fragment"
    },
    "tags": []
   },
   "source": [
    "Possiamo generare gli indici da controllare con `range`, e usarli per accedere ad una lista:"
   ]
  },
  {
   "cell_type": "markdown",
   "metadata": {},
   "source": [
    "### <a id='toc1_5_1_'></a>`range(len(iterable))` [&#8593;](#toc0_)"
   ]
  },
  {
   "cell_type": "code",
   "execution_count": 30,
   "metadata": {
    "slideshow": {
     "slide_type": "fragment"
    },
    "tags": []
   },
   "outputs": [
    {
     "name": "stdout",
     "output_type": "stream",
     "text": [
      "index 0 pallavolo\n",
      "index 1 tennis\n",
      "index 2 calcio\n",
      "index 3 nuoto\n"
     ]
    }
   ],
   "source": [
    "sport = ['pallavolo', 'tennis', 'calcio', 'nuoto']\n",
    "\n",
    "for i in range(len(sport)):\n",
    "    print('index', i, sport[i])"
   ]
  },
  {
   "cell_type": "markdown",
   "metadata": {},
   "source": [
    "Tuttavia, è molto più conveniente e pythonico iterare direttamente indici e valori assieme usando la funzione built-in `enumerate()`.\n",
    "\n",
    "### <a id='toc1_5_2_'></a>`enumerate(iterabile)` [&#8593;](#toc0_)"
   ]
  },
  {
   "cell_type": "code",
   "execution_count": 31,
   "metadata": {},
   "outputs": [
    {
     "name": "stdout",
     "output_type": "stream",
     "text": [
      "index 0 pallavolo\n",
      "index 1 tennis\n",
      "index 2 calcio\n",
      "index 3 nuoto\n"
     ]
    }
   ],
   "source": [
    "sport = ['pallavolo', 'tennis', 'calcio', 'nuoto']\n",
    "\n",
    "for idx, sport in enumerate(sport):\n",
    "    print('index', idx, sport)"
   ]
  },
  {
   "cell_type": "markdown",
   "metadata": {},
   "source": [
    "## <a id='toc1_6_'></a>Modificare durante l'iterazione (ATTENZIONE!) [&#8593;](#toc0_)\n",
    "\n",
    "Supponi di avere una lista `mia_lista` contente caratteri, e ti viene chiesto di duplicare tutti gli elementi, per esempio:\n",
    "```python\n",
    "mia_lista = ['a','b','c'] \n",
    "```"
   ]
  },
  {
   "cell_type": "markdown",
   "metadata": {
    "slideshow": {
     "slide_type": "fragment"
    },
    "tags": []
   },
   "source": [
    "dopo il tuo codice, deve risultare\n",
    "\n",
    "```python\n",
    ">>> print(mia_lista)\n",
    "['a','b','c','a','b','c'] \n",
    "```"
   ]
  },
  {
   "cell_type": "markdown",
   "metadata": {
    "slideshow": {
     "slide_type": "subslide"
    },
    "tags": []
   },
   "source": [
    "Forte delle conoscenze acquisite per l'iterazione, potrebbe venirti l'idea di scrivere qualcosa del genere:\n",
    "\n",
    "```python\n",
    "for elemento in mia_lista:\n",
    "    mia_lista.append(elemento)    # ATTENZIONE !\n",
    "```"
   ]
  },
  {
   "cell_type": "markdown",
   "metadata": {
    "slideshow": {
     "slide_type": "fragment"
    },
    "tags": []
   },
   "source": [
    "**DOMANDA**: Vedi forse un problema?"
   ]
  },
  {
   "cell_type": "markdown",
   "metadata": {
    "slideshow": {
     "slide_type": "fragment"
    },
    "tags": []
   },
   "source": [
    "**RISPOSTA**: se _mentre_ scorriamo la lista, continuiamo al contempo ad aggiungere pezzi, c'è il rischio concreto che non termineremo mai di esaminare la lista!"
   ]
  },
  {
   "cell_type": "markdown",
   "metadata": {
    "slideshow": {
     "slide_type": "fragment"
    },
    "tags": []
   },
   "source": [
    "> ATTENZIONE: Non aggiungere o togliere mai elementi da una sequenza su cui stai iterando con un `for`!"
   ]
  },
  {
   "cell_type": "markdown",
   "metadata": {
    "slideshow": {
     "slide_type": "notes"
    },
    "tags": []
   },
   "source": [
    "Abbandonarti in simil tentazioni **produrrebbe comportamenti del tutto imprevedibili** (conosci forse l'espressione _tirare il tappeto da sotto i piedi_?)"
   ]
  },
  {
   "cell_type": "markdown",
   "metadata": {
    "slideshow": {
     "slide_type": "subslide"
    },
    "tags": []
   },
   "source": [
    "**E rimuovere?** Abbiamo visto che aggiungere è pericoloso, ma lo è anche togliere. Supponi di dover eliminare tutti gli elementi di una lista, potresti essere tentato di scrivere qualcosa del genere:"
   ]
  },
  {
   "cell_type": "code",
   "execution_count": 1,
   "metadata": {
    "slideshow": {
     "slide_type": "fragment"
    },
    "tags": []
   },
   "outputs": [],
   "source": [
    "mia_lista = ['a','b','c','d','e']\n",
    "\n",
    "for elemento in mia_lista:\n",
    "    mia_lista.remove(elemento)   # PESSIMA IDEA"
   ]
  },
  {
   "cell_type": "markdown",
   "metadata": {
    "slideshow": {
     "slide_type": "fragment"
    },
    "tags": []
   },
   "source": [
    "Guarda bene il codice. Credi che abbiamo rimosso tutto, eh?"
   ]
  },
  {
   "cell_type": "code",
   "execution_count": 3,
   "metadata": {
    "slideshow": {
     "slide_type": "fragment"
    },
    "tags": []
   },
   "outputs": [
    {
     "data": {
      "text/plain": [
       "['b', 'd']"
      ]
     },
     "execution_count": 3,
     "metadata": {},
     "output_type": "execute_result"
    }
   ],
   "source": [
    "mia_lista"
   ]
  },
  {
   "cell_type": "markdown",
   "metadata": {},
   "source": [
    "## <a id='toc1_7_'></a>Comandi `break` e `continue` [&#8593;](#toc0_)\n",
    "\n",
    "Per avere ancora più controllo sull'esecuzione di un ciclo possiamo usare i comandi `break` e `continue` . "
   ]
  },
  {
   "cell_type": "markdown",
   "metadata": {
    "slideshow": {
     "slide_type": "notes"
    },
    "tags": []
   },
   "source": [
    "> NOTA: Cerca di limitarne l'uso perché quando vi è molto codice nel ciclo è facile \"dimenticarsi\" della loro presenza trovandosi con bug difficili da scovare. Quindi vanno usati con giudizio."
   ]
  },
  {
   "cell_type": "markdown",
   "metadata": {},
   "source": [
    "### <a id='toc1_7_1_'></a>Terminare con un `break` [&#8593;](#toc0_)\n",
    "\n",
    "Per uscire immediatamente da un ciclo si può usare il comando `break`:"
   ]
  },
  {
   "cell_type": "code",
   "execution_count": 34,
   "metadata": {
    "slideshow": {
     "slide_type": "fragment"
    },
    "tags": []
   },
   "outputs": [
    {
     "name": "stdout",
     "output_type": "stream",
     "text": [
      "l\n",
      "a\n",
      "v\n",
      "a\n",
      "break, esce dal ciclo!\n",
      "Ciclo finito !\n"
     ]
    }
   ],
   "source": [
    "for x in 'lavato':\n",
    "            \n",
    "    if x == 't':\n",
    "        print('break, esce dal ciclo!')\n",
    "        break\n",
    "        print('Dopo il break')\n",
    "        \n",
    "    print(x)\n",
    "    \n",
    "print('Ciclo finito !')"
   ]
  },
  {
   "cell_type": "markdown",
   "metadata": {
    "slideshow": {
     "slide_type": "fragment"
    },
    "tags": []
   },
   "source": [
    "Nota come l'istruzione che stampa `'Dopo il break'` _non_ sia stata eseguita."
   ]
  },
  {
   "cell_type": "markdown",
   "metadata": {},
   "source": [
    "### <a id='toc1_7_2_'></a>Proseguire con `continue` [&#8593;](#toc0_)\n",
    "\n",
    "E' possibile portare l'esecuzione immediatamente all'iterazione successiva chiamando `continue`, che salta subito al successivo elemento della sequenza senza eseguire le istruzioni dopo il `continue`."
   ]
  },
  {
   "cell_type": "code",
   "execution_count": 35,
   "metadata": {
    "slideshow": {
     "slide_type": "fragment"
    },
    "tags": []
   },
   "outputs": [
    {
     "name": "stdout",
     "output_type": "stream",
     "text": [
      "l\n",
      "continue, salta all'elemento successivo\n",
      "v\n",
      "continue, salta all'elemento successivo\n",
      "t\n",
      "o\n",
      "Ciclo finito !\n"
     ]
    }
   ],
   "source": [
    "i = 1\n",
    "for x in 'lavato':\n",
    "        \n",
    "    if x == 'a':\n",
    "        print(\"continue, salta all'elemento successivo\")\n",
    "        continue            \n",
    "    print(x)\n",
    "print('Ciclo finito !')"
   ]
  },
  {
   "cell_type": "markdown",
   "metadata": {},
   "source": [
    "### <a id='toc1_7_3_'></a>Combinare `break` e `continue` [&#8593;](#toc0_)\n",
    "\n",
    "Proviamo a vedere entrambi in [Python Tutor](https://pythontutor.com/render.html#code=i%20%3D%201%0Afor%20x%20in%20'lavato'%3A%20%20%20%20%0A%20%20%20%20if%20x%20%3D%3D%20'a'%3A%0A%20%20%20%20%20%20%20%20print%28%22continue,%20salta%20all'elemento%20successivo%22%29%0A%20%20%20%20%20%20%20%20continue%20%20%20%20%0A%20%20%20%20elif%20x%20%3D%3D%20't'%3A%0A%20%20%20%20%20%20%20%20print%28'break,%20esce%20dal%20ciclo!'%29%0A%20%20%20%20%20%20%20%20break%0A%20%20%20%20else%3A%0A%20%20%20%20%20%20%20%20print%28x%29%20%20%20%20%0A%20%20%20%20%0Aprint%28'Ciclo%20finito%20!'%29&cumulative=false&curInstr=0&heapPrimitives=nevernest&mode=display&origin=opt-frontend.js&py=3&rawInputLstJSON=%5B%5D&textReferences=false):"
   ]
  },
  {
   "cell_type": "code",
   "execution_count": 1,
   "metadata": {
    "slideshow": {
     "slide_type": "fragment"
    },
    "tags": []
   },
   "outputs": [
    {
     "name": "stdout",
     "output_type": "stream",
     "text": [
      "l\n",
      "continue, salta all'elemento successivo\n",
      "v\n",
      "continue, salta all'elemento successivo\n",
      "break, esce dal ciclo!\n",
      "Ciclo finito !\n"
     ]
    }
   ],
   "source": [
    "i = 1\n",
    "for x in 'lavato':    \n",
    "    if x == 'a':\n",
    "        print(\"continue, salta all'elemento successivo\")\n",
    "        continue    \n",
    "    elif x == 't':\n",
    "        print('break, esce dal ciclo!')\n",
    "        break\n",
    "    else:\n",
    "        print(x)    \n",
    "    \n",
    "print('Ciclo finito !')"
   ]
  },
  {
   "cell_type": "markdown",
   "metadata": {},
   "source": [
    "## <a id='toc1_8_'></a>Cicli for annidati [&#8593;](#toc0_)\n",
    "\n",
    "È possibile includere un `for` dentro un altro, ovvero creare un ciclo annidato."
   ]
  },
  {
   "cell_type": "markdown",
   "metadata": {
    "slideshow": {
     "slide_type": "fragment"
    },
    "tags": []
   },
   "source": [
    "In questo caso il primo a essere eseguito è il loop esterno. Ad ogni ciclo del `for` esterno, il `for` interno viene iterato completamente:"
   ]
  },
  {
   "cell_type": "code",
   "execution_count": 4,
   "metadata": {},
   "outputs": [
    {
     "name": "stdout",
     "output_type": "stream",
     "text": [
      "Paolo Rossi\n",
      "Paolo Bianchi\n",
      "Maria Rossi\n",
      "Maria Bianchi\n"
     ]
    }
   ],
   "source": [
    "nomi = ['Paolo', 'Maria']\n",
    "cognomi = ['Rossi', 'Bianchi']\n",
    "for nome in nomi:\n",
    "    for cognome in cognomi:\n",
    "         print(nome, cognome)"
   ]
  },
  {
   "cell_type": "markdown",
   "metadata": {
    "slideshow": {
     "slide_type": "fragment"
    },
    "tags": []
   },
   "source": [
    "Per una migliore comprensione del funzionamento di questo codice, ti consiglio di visualizzzarlo con [Python Tutor](https://pythontutor.com/render.html#code=nomi%20%3D%20%5B'Paolo',%20'Maria'%5D%0Acognomi%20%3D%20%5B'Rossi',%20'Bianchi'%5D%0Afor%20nome%20in%20nomi%3A%0A%20%20%20%20for%20cognome%20in%20cognomi%3A%0A%20%20%20%20%20%20%20%20%20print%28nome,%20cognome%29&cumulative=false&curInstr=0&heapPrimitives=nevernest&mode=display&origin=opt-frontend.js&py=3&rawInputLstJSON=%5B%5D&textReferences=false). Fare clic su Next> e seguire le frecce."
   ]
  },
  {
   "cell_type": "markdown",
   "metadata": {
    "slideshow": {
     "slide_type": "subslide"
    },
    "tags": []
   },
   "source": [
    "Per fare un esempio con le stringhe, potremmo iterare tutte le parole di una lista di parole e per ogni parola stampare tutti i suoi caratteri:"
   ]
  },
  {
   "cell_type": "code",
   "execution_count": 37,
   "metadata": {
    "tags": []
   },
   "outputs": [
    {
     "name": "stdout",
     "output_type": "stream",
     "text": [
      "v\n",
      "e\n",
      "d\n",
      "o\n",
      "\n",
      "u\n",
      "n\n",
      "a\n",
      "\n",
      "l\n",
      "u\n",
      "c\n",
      "e\n",
      "\n"
     ]
    }
   ],
   "source": [
    "lista = [\"vedo\",\n",
    "         \"una\",\n",
    "         \"luce\"]\n",
    "\n",
    "for stringa in lista:    \n",
    "    for carattere in stringa:\n",
    "        print(carattere)\n",
    "    print()"
   ]
  },
  {
   "cell_type": "markdown",
   "metadata": {},
   "source": [
    "> NOTA: Quello che abbiamo appena fatto è stato iterare in una *matrice*, che può essere rappresentata come una sequenza di sequenze (in questo caso una lista si stringhe)."
   ]
  },
  {
   "cell_type": "markdown",
   "metadata": {},
   "source": [
    "## <a id='toc1_9_'></a>Attenzione ai nomi di variabile [&#8593;](#toc0_)\n",
    "\n",
    "Quanto già detto in precedenza sul nome delle variabile vale ancor di più per i `for` annidati:"
   ]
  },
  {
   "cell_type": "markdown",
   "metadata": {
    "slideshow": {
     "slide_type": "fragment"
    },
    "tags": []
   },
   "source": [
    "> ATTENZIONE! Quando inserisci una variabile in un ciclo `for`, questa variabile deve essere nuova!"
   ]
  },
  {
   "cell_type": "markdown",
   "metadata": {
    "slideshow": {
     "slide_type": "fragment"
    },
    "tags": []
   },
   "source": [
    "Se hai definito una variabile in un `for` esterno, evita di reintrodurla in un `for` interno, perchè ciò portebbe gran confusione. Per esempio qua `s` è introdotta sia in quello esterno che in quello interno:"
   ]
  },
  {
   "cell_type": "code",
   "execution_count": 38,
   "metadata": {
    "slideshow": {
     "slide_type": "fragment"
    },
    "tags": []
   },
   "outputs": [
    {
     "name": "stdout",
     "output_type": "stream",
     "text": [
      "0\n",
      "1\n",
      "2\n",
      "2\n",
      "0\n",
      "1\n",
      "2\n",
      "2\n",
      "0\n",
      "1\n",
      "2\n",
      "2\n",
      "0\n",
      "1\n",
      "2\n",
      "2\n"
     ]
    }
   ],
   "source": [
    "for s in ['pallavolo', 'tennis', 'calcio', 'nuoto']:\n",
    "    \n",
    "    for s in range(3):  # inferno da debuggare, perdi la s del ciclo for esterno\n",
    "        print(s)\n",
    "        \n",
    "    print(s)  # stampa un numero invece che uno sport!"
   ]
  },
  {
   "cell_type": "markdown",
   "metadata": {},
   "source": [
    "## <a id='toc1_10_'></a>Riassumendo [&#8593;](#toc0_)\n",
    "\n",
    "In definitiva, i cicli for sono un modo efficiente per automatizzare alcune azioni ripetitive:"
   ]
  },
  {
   "cell_type": "markdown",
   "metadata": {
    "slideshow": {
     "slide_type": "fragment"
    },
    "tags": []
   },
   "source": [
    "- È possibile creare un ciclo annidato.\n",
    "- Possiamo usare l'istruzione `break` per interrompere il ciclo.\n",
    "- Possiamo usare l'istruzione `continue` per passare direttamente all'iterazione successiva.\n",
    "- Inoltre, è possibile controllare il numero di iterazioni con l'aiuto della funzione/classe `range()`."
   ]
  },
  {
   "cell_type": "markdown",
   "metadata": {
    "slideshow": {
     "slide_type": "fragment"
    },
    "tags": []
   },
   "source": [
    "Ci sono anche alcune cose a cui prestare attenzione:\n",
    "\n",
    "- È sconsigliato modifirare l'oggetto iterabile durante l'iterazione in quanto può provocare effetti imprevisti.\n",
    "- Fate attenzione alla sintassi: un'indentazione non corretta o o la mancanza dei due punti possono causare un errore!\n",
    "- È consigliabile utilizzare nomi nuovi per le variabili inizializzate dal ciclo for."
   ]
  },
  {
   "cell_type": "markdown",
   "metadata": {},
   "source": [
    "# <a id='toc2_'></a>Ciclo [`while`](https://wiki.python.org/moin/WhileLoop) [&#8593;](#toc0_)"
   ]
  },
  {
   "cell_type": "markdown",
   "metadata": {},
   "source": [
    "Il ciclo `while` in Python è una struttura iterativa che consente di eseguire un blocco di codice finché una determinata condizione è vera. \n",
    "\n",
    "## <a id='toc2_1_'></a>Differenze rispetto al ciclo `for` [&#8593;](#toc0_)\n",
    "\n",
    "Abbiamo già visto il ciclo `for`, anch'esso una struttura iterativa. I due cicli, `while` e `for` si distinguono perché:\n",
    "\n",
    "- Il ciclo `while` è un ciclo **indeterminato**, il numero di iterazioni non è noto a priori. \n",
    "- Il ciclo `for` è un ciclo **determinato**, il numero di iterazioni è definito dalla sequenza su cui si itera.\n",
    "\n",
    "## <a id='toc2_2_'></a>La condizione [&#8593;](#toc0_)\n",
    "\n",
    "- La condizione del ciclo `while` è un'espressione booleana che viene valutata prima di ogni iterazione.\n",
    "- Se la condizione è vera, il blocco di codice viene eseguito.\n",
    "- Se la condizione è falsa, il ciclo termina.\n",
    "\n",
    "L'istruzione `if` è simile al ciclo `while` in quanto entrambi valutano una condizione booleana. Tuttavia, l'istruzione `if` esegue un blocco di codice solo se la condizione è vera, mentre il ciclo `while` esegue il blocco di codice finché la condizione è vera."
   ]
  },
  {
   "cell_type": "markdown",
   "metadata": {},
   "source": [
    "## <a id='toc2_3_'></a>Caso d'uso con un contatore [&#8593;](#toc0_)\n",
    "\n",
    "Un caso d'uso comune del ciclo `while` è con un contatore. Ad esempio, il seguente codice stampa i numeri da 1 a 10:\n"
   ]
  },
  {
   "cell_type": "code",
   "execution_count": 3,
   "metadata": {},
   "outputs": [
    {
     "name": "stdout",
     "output_type": "stream",
     "text": [
      "1\n",
      "2\n",
      "3\n",
      "4\n",
      "5\n"
     ]
    }
   ],
   "source": [
    "counter = 1\n",
    "while counter <= 5:  # fintanto che questa condizione è True,\n",
    "    print(counter)       # esegui questo blocco di codice...\n",
    "    counter += 1         # ...e quando arrivi alla fine ritorni al while."
   ]
  },
  {
   "cell_type": "markdown",
   "metadata": {},
   "source": [
    "\n",
    "\n",
    "Lo stesso risultato si può ottenere con un ciclo `for` con `range()`:\n"
   ]
  },
  {
   "cell_type": "code",
   "execution_count": 4,
   "metadata": {},
   "outputs": [
    {
     "name": "stdout",
     "output_type": "stream",
     "text": [
      "1\n",
      "2\n",
      "3\n",
      "4\n",
      "5\n"
     ]
    }
   ],
   "source": [
    "for i in range(1, 6):\n",
    "  print(i)"
   ]
  },
  {
   "cell_type": "markdown",
   "metadata": {},
   "source": [
    "In questo caso, il ciclo `for` è più conciso e più facile da leggere. Tuttavia, il ciclo `while` è più flessibile perché consente di utilizzare una qualsiasi condizione booleana, non solo una sequenza numerica.\n",
    "\n",
    "## <a id='toc2_4_'></a>Loop infinito con `while True` [&#8593;](#toc0_)\n",
    "\n",
    "È possibile creare un ciclo infinito semplicemente scrivendo `while True`. Ad esempio, il seguente codice stamperebbe \"Ciao\" all'infinito:\n",
    "\n",
    "```python\n",
    "while True:\n",
    "    print(\"Ciao\")\n",
    "```\n",
    "\n",
    "Un ciclo infinito può essere utile in alcuni casi, ad esempio quando si scrive un programma che deve essere in esecuzione in modo continuo. Tuttavia, è importante fare attenzione a non creare accidentalmente un ciclo infinito.\n",
    "\n",
    "Per evitare di creare un ciclo infinito, è bene prevedere sempre una o più condizioni che consentono di interrompere il ciclo. Per interrompere il ciclo abbiamo l'istruzione `break`, che funziona come per il ciclo `for`.\n",
    "\n",
    "## <a id='toc2_5_'></a>Istruzione `break` [&#8593;](#toc0_)\n",
    "\n",
    "L'istruzione `break` consente di uscire da un ciclo `while`. Ad esempio, il seguente codice stampa i numeri da 1 a 5, quindi esce dal ciclo:"
   ]
  },
  {
   "cell_type": "code",
   "execution_count": 6,
   "metadata": {},
   "outputs": [
    {
     "name": "stdout",
     "output_type": "stream",
     "text": [
      "1\n",
      "2\n",
      "3\n",
      "4\n",
      "5\n"
     ]
    }
   ],
   "source": [
    "counter = 1\n",
    "while True:\n",
    "    print(counter)\n",
    "    counter += 1\n",
    "    if counter == 6:\n",
    "        break"
   ]
  },
  {
   "cell_type": "markdown",
   "metadata": {},
   "source": [
    "## <a id='toc2_6_'></a>Istruzione `continue` [&#8593;](#toc0_)\n",
    "\n",
    "L'istruzione `continue` consente di passare alla successiva iterazione di un ciclo `while`. Ad esempio, il seguente codice stampa solo i numeri pari da 1 a 10:"
   ]
  },
  {
   "cell_type": "code",
   "execution_count": 10,
   "metadata": {},
   "outputs": [
    {
     "name": "stdout",
     "output_type": "stream",
     "text": [
      "2\n",
      "4\n",
      "6\n",
      "8\n",
      "10\n"
     ]
    }
   ],
   "source": [
    "counter = 0\n",
    "while counter <= 10:\n",
    "    counter += 1\n",
    "    if counter % 2 == 1:  # se è dispari\n",
    "        continue          # salta il resto del ciclo\n",
    "    print(counter)"
   ]
  },
  {
   "cell_type": "markdown",
   "metadata": {},
   "source": [
    "\n",
    "\n",
    "## <a id='toc2_7_'></a>Conclusione [&#8593;](#toc0_)\n",
    "\n",
    "Il ciclo `while` è una struttura iterativa potente e flessibile che consente di eseguire un blocco di codice finché una determinata condizione è vera. È importante comprendere le differenze tra il ciclo `while` e il ciclo `for`, nonché le istruzioni `break` e `continue`, per utilizzare il ciclo `while` in modo efficace.\n"
   ]
  }
 ],
 "metadata": {
  "kernelspec": {
   "display_name": "Python 3 (ipykernel)",
   "language": "python",
   "name": "python3"
  },
  "language_info": {
   "codemirror_mode": {
    "name": "ipython",
    "version": 3
   },
   "file_extension": ".py",
   "mimetype": "text/x-python",
   "name": "python",
   "nbconvert_exporter": "python",
   "pygments_lexer": "ipython3",
   "version": "3.11.2"
  }
 },
 "nbformat": 4,
 "nbformat_minor": 4
}
