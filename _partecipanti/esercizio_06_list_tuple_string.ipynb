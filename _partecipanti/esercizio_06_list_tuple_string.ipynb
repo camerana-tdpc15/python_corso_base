{
 "cells": [
  {
   "attachments": {},
   "cell_type": "markdown",
   "metadata": {},
   "source": [
    "## Esercizio - cannocchiale\n",
    "\n",
    "Requisiti: tuple, stringhe, liste\n",
    "\n",
    "Data una stringa `s`, scrivi del codice che mette in una variabile tupla `ordinata` tutti i caratteri di `s` ordinati\n",
    "\n",
    "Esempio - data:\n",
    "\n",
    "```python\n",
    "s = \"cannocchiale\"\n",
    "```\n",
    "\n",
    "Dopo il tuo codice deve risultare:\n",
    " \n",
    "```python\n",
    ">>> print(ordinata)\n",
    "('a', 'a', 'c', 'c', 'c', 'e', 'h', 'i', 'l', 'n', 'n', 'o')\n",
    "```"
   ]
  },
  {
   "cell_type": "code",
   "execution_count": 19,
   "metadata": {},
   "outputs": [
    {
     "name": "stdout",
     "output_type": "stream",
     "text": [
      "['a', 'a', 'c', 'c', 'c', 'e', 'h', 'i', 'l', 'n', 'n', 'o']\n",
      "('a', 'a', 'c', 'c', 'c', 'e', 'h', 'i', 'l', 'n', 'n', 'o')\n"
     ]
    }
   ],
   "source": [
    "# Creare un contenitore\n",
    "# Per ciascun carattere della stringa\n",
    "    # Aggiungo il carattere al contenitore\n",
    "\n",
    "# Ordino la lista in modo crescente (asc)\n",
    "# Convertiamo la lista ordinata in una tupla\n",
    "\n",
    "\n",
    "lista_char = []\n",
    "s = \"cannocchiale\"\n",
    "# scrivi qui\n",
    "for char in s:\n",
    "    lista_char.append(char)\n",
    "\n",
    "lista_char.sort()\n",
    "\n",
    "risultato = tuple(lista_char)\n",
    "\n",
    "print(lista_char)\n",
    "print(risultato)\n"
   ]
  },
  {
   "cell_type": "code",
   "execution_count": 18,
   "metadata": {},
   "outputs": [
    {
     "name": "stdout",
     "output_type": "stream",
     "text": [
      "['c', 'a', 'n', 'n', 'o', 'c', 'c', 'h', 'i', 'a', 'l', 'e']\n",
      "('a', 'a', 'c', 'c', 'c', 'e', 'h', 'i', 'l', 'n', 'n', 'o')\n"
     ]
    }
   ],
   "source": [
    "lista_char = []\n",
    "s = \"cannocchiale\"\n",
    "# scrivi qui\n",
    "for char in s:\n",
    "    lista_char.append(char)\n",
    "\n",
    "lista_ordinata = sorted(lista_char)\n",
    "\n",
    "risultato = tuple(lista_ordinata)\n",
    "\n",
    "print(lista_char)\n",
    "print(risultato)"
   ]
  },
  {
   "cell_type": "code",
   "execution_count": null,
   "metadata": {},
   "outputs": [],
   "source": [
    "lista_char = []\n",
    "s = \"cannocchiale\"\n",
    "# scrivi qui\n",
    "for char in s:\n",
    "    lista_char.append(char)\n",
    "\n",
    "\n",
    "risultato = tuple(sorted(lista_char))\n",
    "\n",
    "print(lista_char)\n",
    "print(risultato)"
   ]
  },
  {
   "cell_type": "code",
   "execution_count": 23,
   "metadata": {},
   "outputs": [
    {
     "data": {
      "text/plain": [
       "('a', 'a', 'c', 'c', 'c', 'e', 'h', 'i', 'l', 'n', 'n', 'o')"
      ]
     },
     "execution_count": 23,
     "metadata": {},
     "output_type": "execute_result"
    }
   ],
   "source": [
    "s = \"cannocchiale\"\n",
    "\n",
    "lista_char = list(s)\n",
    "lista_char.sort()\n",
    "tuple(lista_char)\n"
   ]
  },
  {
   "cell_type": "code",
   "execution_count": 20,
   "metadata": {},
   "outputs": [
    {
     "data": {
      "text/plain": [
       "['p', 'i', 'p', 'p', 'o']"
      ]
     },
     "execution_count": 20,
     "metadata": {},
     "output_type": "execute_result"
    }
   ],
   "source": [
    "my_tuple = (1, 3, 'pippo')\n",
    "my_list = [1, 3, {'pippo': 1123}]\n",
    "my_dict = {\n",
    "    'key': 'value',\n",
    "    1: 'pippo',\n",
    "    False: None,\n",
    "    'lista': [1, 3, 4, 5,(3, 45)]\n",
    "}\n",
    "\n",
    "my_list[2]['pippo']\n",
    "\n",
    "\n",
    "{'pippo': 1123}\n",
    "{'pippo', 1123}\n",
    "\n",
    "\n",
    "tuple([1, 2, 4])\n",
    "\n",
    "\n",
    "pippo = 'cannocchiale'\n",
    "pippo[7]\n",
    "\n",
    "\n",
    "list('pippo')\n"
   ]
  }
 ],
 "metadata": {
  "kernelspec": {
   "display_name": "Python 3",
   "language": "python",
   "name": "python3"
  },
  "language_info": {
   "codemirror_mode": {
    "name": "ipython",
    "version": 3
   },
   "file_extension": ".py",
   "mimetype": "text/x-python",
   "name": "python",
   "nbconvert_exporter": "python",
   "pygments_lexer": "ipython3",
   "version": "3.10.0"
  },
  "orig_nbformat": 4
 },
 "nbformat": 4,
 "nbformat_minor": 2
}
