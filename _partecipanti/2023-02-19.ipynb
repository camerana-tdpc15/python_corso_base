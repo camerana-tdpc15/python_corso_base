{
 "cells": [
  {
   "cell_type": "code",
   "execution_count": null,
   "metadata": {},
   "outputs": [
    {
     "data": {
      "text/plain": [
       "'Within ________________________________________'"
      ]
     },
     "metadata": {},
     "output_type": "display_data"
    }
   ],
   "source": [
    "# CASO CON DIZIONARIO (caso più complesso)\n",
    "brani = {\n",
    "    1: 'Psycho Circus _________________________________',\n",
    "    2: 'Within ________________________________________',\n",
    "}\n",
    "\n",
    "brani[2]\n",
    "\n",
    "# ------------------------\n",
    "\n",
    "brani_list = [\n",
    "    'Psycho Circus _________________________________',\n",
    "    'Within ________________________________________'\n",
    "]\n",
    "brani_list[1]"
   ]
  }
 ],
 "metadata": {
  "language_info": {
   "name": "python"
  }
 },
 "nbformat": 4,
 "nbformat_minor": 2
}
