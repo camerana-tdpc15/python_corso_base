{
 "cells": [
  {
   "cell_type": "markdown",
   "id": "368bb7fd",
   "metadata": {
    "is_toc": true
   },
   "source": [
    "**Sommario**\n",
    "- [Dizionari](#dizionari)\n",
    "  - [Operatori e operazioni con i dizionari](#operatori-e-operazioni-con-i-dizionari)\n",
    "  - [Metodi dei dizionari](#metodi-dei-dizionari)\n",
    "- [Classi speciali](#classi-speciali)\n",
    "- [Ciclo `for` sui dizionari](#ciclo-for-sui-dizionari)\n",
    "  - [Iterare sulle chiavi](#iterare-sulle-chiavi)\n",
    "  - [Iterare sui valori](#iterare-sui-valori)\n",
    "  - [Iterare su chiavi e valori](#iterare-su-chiavi-e-valori)\n",
    "  - [Da una lista di tuple a un dizionario](#da-una-lista-di-tuple-a-un-dizionario)\n",
    "  - [Creazione di un dizionario con `zip`](#creazione-di-un-dizionario-con-zip)\n",
    "- [Dict comprehension](#dict-comprehension)\n",
    "  - [Condizioni:](#condizioni)\n",
    "  - [Uso con `zip()` e due iterabili](#uso-con-zip-e-due-iterabili)\n",
    "  - [Dict comprehension per invertire un dizionario](#dict-comprehension-per-invertire-un-dizionario)"
   ]
  },
  {
   "attachments": {},
   "cell_type": "markdown",
   "metadata": {},
   "source": [
    "# Dizionari"
   ]
  },
  {
   "attachments": {},
   "cell_type": "markdown",
   "metadata": {},
   "source": [
    "## Operatori e operazioni con i dizionari\n",
    "\n",
    "Per manipolare i dizionari vi sono diversi operatori:\n",
    "\n",
    "|Operatore|Ritorna|Descrizione|\n",
    "|---------|-------|-----------|\n",
    "|`len`(dict)|`int`|Ritorna il numero di chiavi|\n",
    "|dict`[`chiave`]`|obj|Ritorna il valore associato alla chiave|\n",
    "|dict`[`chiave`]` `=` valore||Aggiunge una chiave assegnandole un valore o modifica il valore associato alla chiave|\n",
    "|`del` dict`[`chiave`]`||Rimuove la coppia chiave/valore|\n",
    "|chiave `in` dict|`bool`|Ritorna `True` se chiave è presente nel dizionario|\n",
    "|`==` , `!=`|`bool`|Controlla se due dizionari sono uguali o differenti|\n"
   ]
  },
  {
   "attachments": {},
   "cell_type": "markdown",
   "metadata": {},
   "source": [
    "## Metodi dei dizionari\n",
    "\n",
    "In questo foglio vedremo i metodi principali per estrarre dati e manipolare i dizionari.\n",
    "\n",
    "|Metodo|Ritorna|Descrizione|\n",
    "|---|---|---|\n",
    "|`dict.keys()`|`dict_keys`|Ritorna una _vista_ di chiavi che sono presenti nel dizionario|\n",
    "|`dict.values()`|`dict_values`|Ritorna una _vista_ di valori presenti nel dizionario|\n",
    "|`dict.items()`|`dict_items`|Ritorna una _vista_ di coppie (chiave, valore) presenti nel dizionario|\n",
    "|`dict.update(dict2)`|`None`|MODIFICA il dizionario `diz1` con le coppie chiave / valore trovate in `dict2`|"
   ]
  },
  {
   "attachments": {},
   "cell_type": "markdown",
   "metadata": {},
   "source": [
    "# Classi speciali\n",
    "\n",
    "Vi sono delle classi speciali di dizionari che possiamo usare:"
   ]
  },
  {
   "attachments": {},
   "cell_type": "markdown",
   "metadata": {},
   "source": [
    "|Classe|Descrizione|\n",
    "|------|-----------|\n",
    "|`collections.defaultdict`|Dizionario che permette di accedere a chiavi non esistenti, creandole al volo e fornendo un valore di default|\n",
    "|`collections.Counter`|Dizionario che permette di contare gli elementi uguali in un iterabile restituendo un dizionario di report|\n",
    "|`collections.OrderedDict`|Dizionario che permette di mantenere l'ordine di inserimento delle chiavi|\n"
   ]
  },
  {
   "cell_type": "markdown",
   "metadata": {},
   "source": [
    "# Ciclo `for` sui dizionari\n",
    "\n",
    "Il ciclo `for` è uno strumento versatile in Python, specialmente quando lavori con dizionari. Ecco come utilizzarlo per iterare attraverso le chiavi, i valori o entrambi in un dizionario.\n",
    "\n",
    "## Iterare sulle chiavi\n",
    "\n",
    "Per default, iterare su un dizionario cicla attraverso le sue chiavi."
   ]
  },
  {
   "cell_type": "code",
   "execution_count": 7,
   "metadata": {},
   "outputs": [
    {
     "name": "stdout",
     "output_type": "stream",
     "text": [
      "nome\n",
      "età\n",
      "città\n"
     ]
    }
   ],
   "source": [
    "dizionario = {\n",
    "    'nome': 'Mario',\n",
    "    'età': 30,\n",
    "    'città': 'Roma'\n",
    "}\n",
    "\n",
    "for chiave in dizionario:\n",
    "    print(chiave)"
   ]
  },
  {
   "cell_type": "markdown",
   "metadata": {},
   "source": [
    "## Iterare sui valori\n",
    "\n",
    "Per iterare sui valori, usa il metodo `.values()`."
   ]
  },
  {
   "cell_type": "code",
   "execution_count": 8,
   "metadata": {},
   "outputs": [
    {
     "name": "stdout",
     "output_type": "stream",
     "text": [
      "Mario\n",
      "30\n",
      "Roma\n"
     ]
    }
   ],
   "source": [
    "dizionario = {\n",
    "    'nome': 'Mario',\n",
    "    'età': 30,\n",
    "    'città': 'Roma'\n",
    "}\n",
    "\n",
    "for valore in dizionario.values():\n",
    "    print(valore)"
   ]
  },
  {
   "cell_type": "markdown",
   "metadata": {},
   "source": [
    "## Iterare su chiavi e valori\n",
    "\n",
    "Se vuoi ottenere sia la chiave che il valore durante l'iterazione, puoi usare il metodo `.items()`."
   ]
  },
  {
   "cell_type": "code",
   "execution_count": 10,
   "metadata": {},
   "outputs": [
    {
     "name": "stdout",
     "output_type": "stream",
     "text": [
      "nome Mario\n",
      "età 30\n",
      "città Roma\n"
     ]
    }
   ],
   "source": [
    "dizionario = {\n",
    "    'nome': 'Mario',\n",
    "    'età': 30,\n",
    "    'città': 'Roma'\n",
    "}\n",
    "for chiave, valore in dizionario.items():\n",
    "    print(chiave, valore)"
   ]
  },
  {
   "cell_type": "markdown",
   "metadata": {},
   "source": [
    "## Da una lista di tuple a un dizionario\n",
    "\n",
    "A volte, potresti avere una lista di tuple, dove ogni tupla rappresenta una coppia chiave-valore da inserire in un dizionario. Iterare su questa lista per costruire un dizionario è un'operazione diretta."
   ]
  },
  {
   "cell_type": "code",
   "execution_count": 11,
   "metadata": {},
   "outputs": [
    {
     "name": "stdout",
     "output_type": "stream",
     "text": [
      "{'nome': 'Mario', 'età': 30, 'città': 'Roma'}\n"
     ]
    }
   ],
   "source": [
    "lista_di_tuple = [\n",
    "    ('nome', 'Mario'),\n",
    "    ('età', 30),\n",
    "    ('città', 'Roma')\n",
    "]\n",
    "\n",
    "dizionario = dict(lista_di_tuple)\n",
    "\n",
    "print(dizionario)"
   ]
  },
  {
   "cell_type": "markdown",
   "metadata": {},
   "source": [
    "## Creazione di un dizionario con `zip`\n",
    "\n",
    "La funzione `zip()` può essere utilizzata per combinare due liste (o altri iterabili) in un singolo dizionario, dove un iterabile fornisce le chiavi e l'altro i valori. Questo metodo è particolarmente utile quando hai dati correlati in due liste separate."
   ]
  },
  {
   "cell_type": "code",
   "execution_count": 13,
   "metadata": {},
   "outputs": [
    {
     "name": "stdout",
     "output_type": "stream",
     "text": [
      "{'nome': 'Mario', 'età': 30, 'città': 'Roma'}\n"
     ]
    }
   ],
   "source": [
    "chiavi = ['nome', 'età', 'città']\n",
    "valori = ['Mario', 30, 'Roma']\n",
    "\n",
    "elenco_chiavi_valori = zip(chiavi, valori)\n",
    "\n",
    "dizionario = dict(elenco_chiavi_valori)\n",
    "\n",
    "print(dizionario)"
   ]
  },
  {
   "cell_type": "markdown",
   "metadata": {},
   "source": [
    "In questo caso, `zip` abbina ogni elemento della prima lista con l'elemento corrispondente nella seconda lista, creando un iteratore di coppie chiave-valore. Questo è molto simile a una lista di coppie chiave-valore. percui possiamo procedere come per il caso precedente, usando `dict()`."
   ]
  },
  {
   "cell_type": "markdown",
   "metadata": {},
   "source": [
    "# Dict comprehension\n",
    "\n",
    "Il *dict comprehension* in Python è un modo conciso e elegante per creare dizionari. Simile alla list comprehension, ma invece di liste, genera dizionari. Ecco come puoi usarlo:\n",
    "\n",
    "**Sintassi di base**:\n",
    "```python\n",
    "{chiave: valore for elemento in iterabile}\n",
    "```\n",
    "\n",
    "**Esempio pratico**:\n",
    "\n",
    "Supponiamo di voler creare un dizionario dove le chiavi sono numeri interi e i valori sono i quadrati di questi numeri.\n",
    "\n",
    "Potremmo fare così:"
   ]
  },
  {
   "cell_type": "code",
   "execution_count": 2,
   "metadata": {},
   "outputs": [
    {
     "name": "stdout",
     "output_type": "stream",
     "text": [
      "{0: 0, 1: 1, 2: 4, 3: 9, 4: 16, 5: 25}\n"
     ]
    }
   ],
   "source": [
    "quadrati = {}\n",
    "for n in range(6):\n",
    "    quadrati[n] = n**2\n",
    "\n",
    "print(quadrati)"
   ]
  },
  {
   "cell_type": "markdown",
   "metadata": {},
   "source": [
    "Ma possiamo usando il dict comprehension, possimo ottenere lo stesso effetto in modo più conciso."
   ]
  },
  {
   "cell_type": "code",
   "execution_count": 1,
   "metadata": {},
   "outputs": [
    {
     "name": "stdout",
     "output_type": "stream",
     "text": [
      "{0: 0, 1: 1, 2: 4, 3: 9, 4: 16, 5: 25}\n"
     ]
    }
   ],
   "source": [
    "quadrati = {n: n**2 for n in range(6)}\n",
    "\n",
    "print(quadrati)"
   ]
  },
  {
   "cell_type": "markdown",
   "metadata": {},
   "source": [
    "## Condizioni:\n",
    "\n",
    "Puoi anche aggiungere condizioni al dict comprehension per filtrare gli elementi.\n",
    "\n",
    "**Sintassi di base**:\n",
    "```python\n",
    "{chiave: valore for elemento in iterabile if condizione_è_vera }\n",
    "```\n",
    "\n",
    "Ad esempio, creiamo un dizionario dei quadrati solo per i numeri pari:"
   ]
  },
  {
   "cell_type": "code",
   "execution_count": 3,
   "metadata": {},
   "outputs": [
    {
     "name": "stdout",
     "output_type": "stream",
     "text": [
      "{0: 0, 2: 4, 4: 16}\n"
     ]
    }
   ],
   "source": [
    "quadrati_pari = {x: x**2 for x in range(6) if x % 2 == 0}\n",
    "\n",
    "print(quadrati_pari)"
   ]
  },
  {
   "cell_type": "markdown",
   "metadata": {},
   "source": [
    "## Uso con `zip()` e due iterabili\n",
    "\n",
    "È possibile combinare due liste (o altri iterabili) in un dizionario usando `zip`, che abbina gli elementi delle due liste:"
   ]
  },
  {
   "cell_type": "code",
   "execution_count": 4,
   "metadata": {},
   "outputs": [
    {
     "name": "stdout",
     "output_type": "stream",
     "text": [
      "{'a': 1, 'b': 2, 'c': 3}\n"
     ]
    }
   ],
   "source": [
    "chiavi = ['a', 'b', 'c']\n",
    "valori = [1, 2, 3]\n",
    "\n",
    "dizionario = {chiave: valore for chiave, valore in zip(chiavi, valori)}\n",
    "\n",
    "print(dizionario)"
   ]
  },
  {
   "cell_type": "markdown",
   "metadata": {},
   "source": [
    "## Dict comprehension per invertire un dizionario\n",
    "\n",
    "Se hai un dizionario e vuoi invertire chiavi e valori (assumendo che i valori siano univoci), puoi fare così:"
   ]
  },
  {
   "cell_type": "code",
   "execution_count": 6,
   "metadata": {},
   "outputs": [
    {
     "name": "stdout",
     "output_type": "stream",
     "text": [
      "Dizionario originale : {'a': 1, 'b': 2, 'c': 3}\n",
      "Dizionario inverso   : {1: 'a', 2: 'b', 3: 'c'}\n"
     ]
    }
   ],
   "source": [
    "dizionario = {'a': 1, 'b': 2, 'c': 3}\n",
    "\n",
    "inverso = {valore: chiave for chiave, valore in dizionario.items()}\n",
    "\n",
    "print('Dizionario originale :', dizionario)\n",
    "print('Dizionario inverso   :', inverso)"
   ]
  },
  {
   "cell_type": "markdown",
   "metadata": {},
   "source": [
    "\n",
    "\n",
    "Ricorda che il dict comprehension è potente e può rendere il tuo codice più compatto e leggibile, ma è importante usarlo quando realmente aggiunge valore in termini di chiarezza o efficienza."
   ]
  }
 ],
 "metadata": {
  "kernelspec": {
   "display_name": ".venv",
   "language": "python",
   "name": "python3"
  },
  "language_info": {
   "codemirror_mode": {
    "name": "ipython",
    "version": 3
   },
   "file_extension": ".py",
   "mimetype": "text/x-python",
   "name": "python",
   "nbconvert_exporter": "python",
   "pygments_lexer": "ipython3",
   "version": "3.11.2"
  }
 },
 "nbformat": 4,
 "nbformat_minor": 2
}
