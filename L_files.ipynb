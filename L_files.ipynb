{
 "cells": [
  {
   "cell_type": "markdown",
   "id": "2822489a",
   "metadata": {
    "is_toc": true
   },
   "source": [
    "**Sommario**\n",
    "- [Files in Python](#files-in-python)\n",
    "  - [Aprire e chiudere lo *stream*](#aprire-e-chiudere-lo-*stream*)\n",
    "  - [Metodi per leggere](#metodi-per-leggere)\n",
    "  - [Metodi per scrivere](#metodi-per-scrivere)\n",
    "  - [Metodi per spostarsi nello *stream*](#metodi-per-spostarsi-nello-*stream*)\n",
    "  - [Percorsi relativi e Current Working Directory](#percorsi-relativi-e-current-working-directory)\n",
    "    - [Path della Current Working Directory (CWD)](#path-della-current-working-directory-cwd)\n",
    "    - [Path relativo al path dello script](#path-relativo-al-path-dello-script)\n",
    "      - [Modulo `os`](#modulo-os)\n",
    "      - [Modulo `pathlib` (consigliato)](#modulo-pathlib-consigliato)"
   ]
  },
  {
   "attachments": {},
   "cell_type": "markdown",
   "metadata": {},
   "source": [
    "# Files in Python"
   ]
  },
  {
   "attachments": {},
   "cell_type": "markdown",
   "metadata": {},
   "source": [
    "## Aprire e chiudere lo *stream*\n",
    "\n",
    "| Metodo     | Descrizione     |\n",
    "|------------|-----------------|\n",
    "| `open(path, mode='rt', encoding=None, newline=None)` | Apre file e ritorna un corrispondente oggetto file-like. Se il file non può essere aperto, viene sollevato un `OSError`. |\n",
    "| `.close()` | Esegue il flush e chiude lo *stream*. Questo metodo non ha effetto se il file è già chiuso. Una volta che il file è chiuso, qualsiasi operazione sul file (es. leggere o scrivere) solleverà un `ValueError`. |"
   ]
  },
  {
   "attachments": {},
   "cell_type": "markdown",
   "metadata": {},
   "source": [
    "Possiamo aprire e chiudere i file manualmente:"
   ]
  },
  {
   "attachments": {},
   "cell_type": "markdown",
   "metadata": {},
   "source": [
    "```python\n",
    "my_file = open('my_file.txt', mode=<modalità>)\n",
    "...\n",
    "my_file.<metodo>()\n",
    "...\n",
    "my_file.close\n",
    "```"
   ]
  },
  {
   "attachments": {},
   "cell_type": "markdown",
   "metadata": {},
   "source": [
    "Oppure usare un context manager, che pensa lui alla chiusura e alla gestione degli errori:"
   ]
  },
  {
   "attachments": {},
   "cell_type": "markdown",
   "metadata": {},
   "source": [
    "```python\n",
    "with open('my_file.txt', mode=<modalità>) as my_file:\n",
    "    ...\n",
    "    my_file.<metodo>()\n",
    "    ...\n",
    "```"
   ]
  },
  {
   "attachments": {},
   "cell_type": "markdown",
   "metadata": {},
   "source": [
    "Ciascuna *modalità* (`mode`) ha le proprie peculiarità:\n",
    "\n",
    "| `mode` | R/W | Posizione iniziale lettura | Punto di inserimento | Se file non esiste | Se file esiste           |\n",
    "|:------:|:---:|:--------------------------:|:--------------------:|:------------------:|--------------------------|\n",
    "| `r`    | R   | inizio                     | -                    | errore             | legge                    |\n",
    "| `r+`   | RW  | inizio                     | inizio e `seek()`    | errore             | modifica                 |\n",
    "| `w`    | W   | -                          | (inizio e) `seek()`  | crea               | sovrascrive (*truncate*) |\n",
    "| `w+`   | RW  | (inizio)                   | (inizio e) `seek()`  | crea               | sovrascrive (*truncate*) |\n",
    "| `a`    | W   | -                          | fine                 | crea               | appende al fondo         |\n",
    "| `a+`   | RW  | fine                       | fine                 | crea               | appende al fondo         |"
   ]
  },
  {
   "cell_type": "markdown",
   "metadata": {},
   "source": [
    "## Metodi per leggere\n",
    "\n",
    "Metodi di un oggetto file-like\n",
    "\n",
    "| Metodo        | Descrizione     |\n",
    "|---------------|-----------------|\n",
    "| `.readable()` | Ritorna `True` se si può leggere dal flusso. Se restituisce `False`, `.read()` solleverà `OSError`. |\n",
    "| `.read(size)` | Legge e ritorna fino a `size` byte. Se l'argomento è omesso, `None`, o negativo, i dati vengono letti e ritornati fino al raggiungimento della EOF (End-Of-File). Un oggetto `bytes` vuoto viene ritornato se lo *stream* è già alla EOF. |\n",
    "| `.readline(size)` | Legge e ritorna una linea dallo *stream*. Se `size` è specificato, al massimo verranno letti `size` byte. |\n",
    "| `.readlines(hint)` | Legge e ritorna una lista di linee dal dallo *stream*. `hint` può essere specificato per controllare il numero di linee lette: non verranno lette più linee se la dimensione totale (in byte) di tutte le linee finora supera `hint`. |"
   ]
  },
  {
   "cell_type": "markdown",
   "metadata": {},
   "source": [
    "## Metodi per scrivere\n",
    "\n",
    "| Metodo         | Descrizione     |\n",
    "|----------------|-----------------|\n",
    "| `.writable()`  | Ritorna `True` se lo *stream* supporta la scrittura. Se `False`, `.write()` e `.truncate()` solleveranno `OSError`. |\n",
    "| `.write(string)`  | Scrive l'oggetto `string` (*byte-like*) e ritorna il numero di byte scritti (sempre uguale alla lunghezza di `string` in byte, poiché se la scrittura fallisce verrà sollevato un `OSError`). A seconda dell'implementazione effettiva, questi byte possono essere immediatamente scritti sul flusso sottostante o mantenuti in un buffer per motivi di prestazione e latenza. |\n",
    "| `.writelines(lines)` | Scrive sullo *stream* un iterabile `lines` contenente linee. I separatori di linea non vengono aggiunti, quindi è usuale che ciascuna delle linee fornite abbia un separatore di linea `\\n` alla fine. |\n",
    "| `.truncate(size=None)` | Ridimensiona lo *stream* alla dimensione `size` data in byte (o alla posizione corrente se `size` non è specificato). |\n",
    "| `.flush()`     | Svuota (*flush*) i buffer di scrittura dello *stream* se applicabile. Questo non fa nulla per gli *stream* in sola lettura e non bloccanti (asincroni). |"
   ]
  },
  {
   "cell_type": "markdown",
   "metadata": {},
   "source": [
    "## Metodi per spostarsi nello *stream*\n",
    "\n",
    "| Metodo     | Descrizione     |\n",
    "|------------|-----------------|\n",
    "| `.seekable()` | Return True if the stream supports random access. If False, seek(), tell() and truncate() will raise OSError. |\n",
    "| `.seek(offset, whence=0)` | Change the stream position to the given byte offset and return the new absolute position. `offset` is interpreted relative to the position indicated by `whence`. The default value for `whence` is 0. Values for whence are: `0` &rarr; start (default); offset 0 +. `1` &rarr; current position; offset + -. `2` &rarr; end; offset -. |\n",
    "| `.tell()` | Return the current stream position. |"
   ]
  },
  {
   "cell_type": "markdown",
   "metadata": {},
   "source": [
    "## Percorsi relativi e Current Working Directory\n",
    "\n",
    "Se eseguiamo uno script in questo modo:\n",
    "\n",
    "`C:\\Users> py C:\\Users\\Utente\\qualunque_cartella\\mio_script.py`\n",
    "\n",
    "Allora, in questo caso:\n",
    "\n",
    "- la working directory è `C:\\Users\\`\n",
    "- la cartella dove si trova lo script è `C:\\Users\\Utente\\qualunque_cartella\\`"
   ]
  },
  {
   "cell_type": "markdown",
   "metadata": {},
   "source": [
    "### Path della Current Working Directory (CWD)\n",
    "\n",
    "Per ottenere la CWD abbiamo due alternative:"
   ]
  },
  {
   "cell_type": "markdown",
   "metadata": {},
   "source": [
    "```python\n",
    "import os\n",
    "\n",
    "os.getcwd()\n",
    "```"
   ]
  },
  {
   "cell_type": "markdown",
   "metadata": {},
   "source": [
    "oppure, più consigliato:\n"
   ]
  },
  {
   "cell_type": "markdown",
   "metadata": {},
   "source": [
    "```python\n",
    "from pathlib import Path\n",
    "\n",
    "Path.cwd()\n",
    "```"
   ]
  },
  {
   "cell_type": "markdown",
   "metadata": {},
   "source": [
    "### Path relativo al path dello script\n",
    "\n",
    "```python\n",
    "..\n",
    "│\n",
    "└── qualunque_cartella/\n",
    "    │\n",
    "    ├── mio_script.py  # Questo è il nostro script.\n",
    "    │\n",
    "    └── data/\n",
    "        │\n",
    "        └── records.txt  # Questo è il file che voglio raggiungere.\n",
    "```"
   ]
  },
  {
   "cell_type": "markdown",
   "metadata": {},
   "source": [
    "#### Modulo `os`\n",
    "\n",
    "File `mio_script.py`:\n",
    "\n",
    "```python\n",
    "import os\n",
    "\n",
    "# Ottiene il percorso assoluto dello script corrente\n",
    "script_path = os.path.abspath(__file__)\n",
    "\n",
    "# Ottiene la directory in cui risiede lo script\n",
    "script_dir = os.path.dirname(script_path)\n",
    "\n",
    "# Costruisce un percorso relativo alla directory dello script\n",
    "script_relative_path = os.path.join(script_dir, 'data/records.txt')\n",
    "```"
   ]
  },
  {
   "cell_type": "markdown",
   "metadata": {},
   "source": [
    "#### Modulo `pathlib` (consigliato)\n",
    "\n",
    "File `mio_script.py`:\n",
    "\n",
    "```python\n",
    "from pathlib import Path\n",
    "\n",
    "# Ottiene il percorso assoluto dello script corrente come oggetto Path\n",
    "script_path = Path(__file__).resolve()\n",
    "\n",
    "# Ottiene la directory in cui risiede lo script\n",
    "script_dir = script_path.parent\n",
    "\n",
    "# Costruisce un percorso relativo alla directory dello script\n",
    "script_relative_path = script_dir / 'data' / 'records.txt'\n",
    "```"
   ]
  }
 ],
 "metadata": {
  "language_info": {
   "name": "python"
  }
 },
 "nbformat": 4,
 "nbformat_minor": 2
}
