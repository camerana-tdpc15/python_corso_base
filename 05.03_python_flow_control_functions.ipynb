{
 "cells": [
  {
   "cell_type": "markdown",
   "id": "83574228",
   "metadata": {
    "is_toc": true
   },
   "source": [
    "**Sommario**\n",
    "- [`<class 'function'>`](#<class-'function'>)\n",
    "  - [Dichiarare una funzione](#dichiarare-una-funzione)\n",
    "  - [Chiamata di funzione](#chiamata-di-funzione)\n",
    "  - [Funzione \"vuota\"](#funzione-vuota)\n",
    "  - [Parametri e argomenti](#parametri-e-argomenti)\n",
    "  - [Argomenti mancanti](#argomenti-mancanti)\n",
    "  - [Esecuzione e ritorno](#esecuzione-e-ritorno)\n",
    "  - [Ritorno multiplo](#ritorno-multiplo)\n",
    "  - [Riassumendo (funzioni)](#riassumendo-funzioni)\n",
    "  - [Visibilità e accessibilità delle variabili (*scope*) nelle funzioni](#visibilità-e-accessibilità-delle-variabili-*scope*-nelle-funzioni)\n",
    "    - [Scope](#scope)\n",
    "    - [Globale vs. Locale](#globale-vs-locale)\n",
    "    - [Regola LEGB](#regola-legb)\n",
    "    - [Le parole chiave `global` e `non local`](#le-parole-chiave-global-e-non-local)\n",
    "    - [Perché abbiamo bisogno degli scope?](#perché-abbiamo-bisogno-degli-scope?)\n",
    "  - [Saper distinguere le funzioni](#saper-distinguere-le-funzioni)\n",
    "    - [SIDE EFFECTS](#side-effects)\n",
    "    - [RESTITUISCE](#restituisce)\n",
    "    - [MODIFICA](#modifica)\n",
    "    - [Combinazioni: MODIFICA + RESTITUISCE](#combinazioni-modifica-+-restituisce)\n",
    "  - [Argomenti (+)](#argomenti-+)\n",
    "    - [Argomenti posizionali](#argomenti-posizionali)\n",
    "    - [Argomenti con *keyword*](#argomenti-con-*keyword*)\n",
    "    - [Firma della funzione](#firma-della-funzione)\n",
    "    - [Buone pratiche](#buone-pratiche)\n",
    "    - [Riassumendo (argomenti)](#riassumendo-argomenti)"
   ]
  },
  {
   "cell_type": "markdown",
   "metadata": {},
   "source": [
    "# `<class 'function'>`\n",
    "\n",
    "Le funzioni possono essere definite direttamente all'interno del nostro programma o separatamente, in moduli o librerie che possono essere utilizzate (in Python, `import`) dal nostro programma."
   ]
  },
  {
   "cell_type": "markdown",
   "metadata": {
    "slideshow": {
     "slide_type": "fragment"
    },
    "tags": []
   },
   "source": [
    "A seconda del linguaggio di programmazione e del contesto in cui ci troviamo, una *funzione* può essere chiamata *routine*, *sottoprogramma*, *subroutine*, *metodo* o *procedura*."
   ]
  },
  {
   "cell_type": "markdown",
   "metadata": {
    "slideshow": {
     "slide_type": "fragment"
    },
    "tags": []
   },
   "source": [
    "Il termine più generico potebbe essere *callable unit* (unità invocabile)."
   ]
  },
  {
   "cell_type": "markdown",
   "metadata": {},
   "source": [
    "## Dichiarare una funzione "
   ]
  },
  {
   "cell_type": "markdown",
   "metadata": {
    "slideshow": {
     "slide_type": "fragment"
    },
    "tags": []
   },
   "source": [
    "Spesso le funzioni built-in non sono sufficienti, nemmeno per un principiante.\n",
    "\n",
    "In questo caso, non c'è altra scelta se non quella di creare una propria funzione utilizzando la parola chiave `def` (che sta per *define*). Vediamo la sintassi:\n",
    "\n",
    "```python\n",
    "def function_name(parameter1, parameter2):\n",
    "    # function's body\n",
    "    ...\n",
    "    return \"return value\"\n",
    "```"
   ]
  },
  {
   "cell_type": "markdown",
   "metadata": {
    "slideshow": {
     "slide_type": "subslide"
    },
    "tags": []
   },
   "source": [
    "```python\n",
    "def function_name(parameter1, parameter2):\n",
    "```\n",
    "Dopo `def`, scriviamo il nome della nostra funzione, in modo da poterla invocare in seguito.\n",
    "\n",
    "A seguire i nomi dei *parametri* che la nostra funzione può accettare, racchiusi tra parentesi tonde."
   ]
  },
  {
   "cell_type": "markdown",
   "metadata": {
    "slideshow": {
     "slide_type": "fragment"
    },
    "tags": []
   },
   "source": [
    "ATTENZIONE: Non dimenticate i due punti `:` dopo le parentesi, alla fine della prima riga."
   ]
  },
  {
   "cell_type": "markdown",
   "metadata": {
    "slideshow": {
     "slide_type": "fragment"
    },
    "tags": []
   },
   "source": [
    "I nomi di una funzione e dei suoi parametri seguono la stessa convenzione dei nomi delle variabili, cioè vanno scritti in minuscolo con l'underscore `_` tra le parole."
   ]
  },
  {
   "cell_type": "markdown",
   "metadata": {
    "slideshow": {
     "slide_type": "subslide"
    },
    "tags": []
   },
   "source": [
    "```python\n",
    "def function_name(parameter1, parameter2):\n",
    "    # INIZO corpo della funzione\n",
    "    print(\"Questo è un print eseguito all'interno della funzione.\")\n",
    "    result = parameter1 / parameter2\n",
    "    result *= 3.1415\n",
    "    return \"return value\"\n",
    "    # FINE corpo della funzione\n",
    "print(\"Questo è un print eseguito all'esterno della funzione.\")\n",
    "```\n",
    "\n",
    "Il corpo della funzione (*function body*) deve avere una indentazione (rientro) di 4 spazi. Ciò indica all'interprete dove inizia e dove finisce il codice che la funzione deve eseguire."
   ]
  },
  {
   "cell_type": "markdown",
   "metadata": {
    "slideshow": {
     "slide_type": "fragment"
    },
    "tags": []
   },
   "source": [
    "È possibile eseguire calcoli all'interno della funzione."
   ]
  },
  {
   "cell_type": "markdown",
   "metadata": {
    "slideshow": {
     "slide_type": "fragment"
    },
    "tags": []
   },
   "source": [
    "Infine è possibile utilizzare la parola chiave `return` per restituire un qualche risultato."
   ]
  },
  {
   "cell_type": "markdown",
   "metadata": {
    "slideshow": {
     "slide_type": "fragment"
    },
    "tags": []
   },
   "source": [
    "Solo quando l'indentazione è assente, la definizione della funzione termina."
   ]
  },
  {
   "cell_type": "markdown",
   "metadata": {},
   "source": [
    "## Chiamata di funzione \n",
    "\n",
    "```python\n",
    "function_name(10, 40)\n",
    "```"
   ]
  },
  {
   "cell_type": "markdown",
   "metadata": {
    "slideshow": {
     "slide_type": "fragment"
    },
    "tags": []
   },
   "source": [
    "Successivamente, quando eseguiamo una *chiamata di funzione*, possiamo passare dei valori e i **parametri** della nostra funzione assumeranno quei valori.\n",
    "\n",
    "I valori che passiamo a una funzione sono noti come **argomenti**."
   ]
  },
  {
   "cell_type": "markdown",
   "metadata": {
    "slideshow": {
     "slide_type": "fragment"
    },
    "tags": []
   },
   "source": [
    "L'unica distinzione tra **parametri** e **argomenti** è che:\n",
    "- introduciamo i parametri (`params`) in una *definizione di funzione*;\n",
    "- forniamo gli argomenti (`args`), ovvero i valori specifici, in una *chiamata di funzione*."
   ]
  },
  {
   "cell_type": "markdown",
   "metadata": {
    "slideshow": {
     "slide_type": "subslide"
    },
    "tags": []
   },
   "source": [
    "Ecco un esempio meno astratto di funzione:"
   ]
  },
  {
   "cell_type": "markdown",
   "metadata": {
    "tags": []
   },
   "source": [
    "```python\n",
    "# Definizione della funzione\n",
    "def moltiplica(x, y):\n",
    "    return x * y\n",
    "\n",
    "# Chiamata di funzione\n",
    "a = moltiplica(3, 5)   # 15\n",
    "b = moltiplica(a, 10)  # 150\n",
    "```"
   ]
  },
  {
   "cell_type": "markdown",
   "metadata": {
    "slideshow": {
     "slide_type": "fragment"
    },
    "tags": []
   },
   "source": [
    "Nel caso in cui non siano necessari parametri, le parentesi tonde rimangono vuote:\n",
    "\n",
    "```python\n",
    "# Definizione della funzione\n",
    "def welcome():\n",
    "    print(\"Ciao, gente!\")\n",
    "\n",
    "# Chiamata di funzione\n",
    "welcome()\n",
    "```"
   ]
  },
  {
   "cell_type": "markdown",
   "metadata": {},
   "source": [
    "## Funzione \"vuota\" \n",
    "\n",
    "Python non consente blocchi di codice vuoti, sia all'interno di una funzione sia in qualsiasi altra struttura di controllo del flusso (`if`, `for`, `while` o `match`).\n",
    "\n",
    "È però possibile dichiarare una sorta di funzione vuota con l'istruzione `pass` o `...` (*Ellipsis*):"
   ]
  },
  {
   "cell_type": "markdown",
   "metadata": {
    "slideshow": {
     "slide_type": "fragment"
    },
    "tags": []
   },
   "source": [
    "```python\n",
    "# Questa funzione non fa nulla\n",
    "# (magari disponibile per eventuale override)\n",
    "def empty_func():\n",
    "    pass\n",
    "\n",
    "# Questa funzione non fa nulla, per ora\n",
    "# (in futuro è previsto che ci sarà qualcosa qua dentro)\n",
    "def future_func(param):\n",
    "    ...\n",
    "```"
   ]
  },
  {
   "cell_type": "markdown",
   "metadata": {
    "slideshow": {
     "slide_type": "notes"
    },
    "tags": []
   },
   "source": [
    "Quando si sceglie di chiamare una delle due precedenti funzioni con un valore arbitrario come argomento, non succederà nulla. Quindi `pass` e `...` sono solo dei segnaposto, ma almeno in questo modo il codice sarà valido."
   ]
  },
  {
   "cell_type": "code",
   "execution_count": 2,
   "metadata": {},
   "outputs": [
    {
     "name": "stdout",
     "output_type": "stream",
     "text": [
      "123\n"
     ]
    }
   ],
   "source": [
    "from xml.etree import ElementTree as ET\n",
    "\n",
    "s = input()\n",
    "attr = input()\n",
    "root = ET.fromstring(s)\n",
    "print(root.get(attr))"
   ]
  },
  {
   "cell_type": "markdown",
   "metadata": {},
   "source": [
    "## Parametri e argomenti "
   ]
  },
  {
   "cell_type": "markdown",
   "metadata": {
    "slideshow": {
     "slide_type": "fragment"
    },
    "tags": []
   },
   "source": [
    "In realtà, i parametri sono solo degli *alias* per i valori che possono essere passati a una funzione.\n",
    "\n",
    "Possiamo considerarli delle *variabili* disponibili nel corpo della funzione:"
   ]
  },
  {
   "cell_type": "code",
   "execution_count": 1,
   "metadata": {
    "slideshow": {
     "slide_type": "fragment"
    },
    "tags": []
   },
   "outputs": [
    {
     "name": "stdout",
     "output_type": "stream",
     "text": [
      "Invio di una cartolina a Hilton, 97\n",
      "Con il messaggio: Ciao zio!\n",
      "-------------------\n",
      "Invio di una cartolina a Piccadilly, London\n",
      "Con il messaggio: Saluti da Torino!\n",
      "-------------------\n"
     ]
    }
   ],
   "source": [
    "def invia_cartolina(indirizzo, messaggio):\n",
    "    print('Invio di una cartolina a', indirizzo)\n",
    "    print('Con il messaggio:', messaggio)\n",
    "    print('-------------------')\n",
    "\n",
    "\n",
    "invia_cartolina('Hilton, 97', 'Ciao zio!')\n",
    "\n",
    "invia_cartolina('Piccadilly, London', 'Saluti da Torino!')"
   ]
  },
  {
   "cell_type": "markdown",
   "metadata": {
    "slideshow": {
     "slide_type": "subslide"
    },
    "tags": []
   },
   "source": [
    "Come si può vedere, la funzione precedente è come un pezzo di codice riutilizzabile, che può essere eseguito con argomenti diversi, cioè con valori diversi passati alla funzione."
   ]
  },
  {
   "cell_type": "markdown",
   "metadata": {
    "slideshow": {
     "slide_type": "fragment"
    },
    "tags": []
   },
   "source": [
    "In questo caso, `indirizzo` e `messaggio` sono solo degli alias, con i quali la funzione riceve i valori e li elabora nel corpo."
   ]
  },
  {
   "cell_type": "markdown",
   "metadata": {
    "slideshow": {
     "slide_type": "fragment"
    },
    "tags": []
   },
   "source": [
    "> NOTA: I parametri vengono reinizializzati ogni volta che si chiama la funzione."
   ]
  },
  {
   "cell_type": "markdown",
   "metadata": {},
   "source": [
    "## Argomenti mancanti \n",
    "\n",
    "E che cosa succede se non forniamo tutti gli argomenti previsti?"
   ]
  },
  {
   "cell_type": "markdown",
   "metadata": {
    "slideshow": {
     "slide_type": "fragment"
    },
    "tags": []
   },
   "source": [
    "Nel nostro esempio, la funzione `invia_cartolina` accetta esattamente 2 argomenti, quindi non sarà possibile eseguirla con più o meno di 2 argomenti:"
   ]
  },
  {
   "cell_type": "markdown",
   "metadata": {},
   "source": [
    "```python\n",
    "invia_cartolina('Musée du Louvre de Paris')\n",
    "\n",
    "TypeError: invia_cartolina() missing 1 required positional argument: 'messaggio'\n",
    "```"
   ]
  },
  {
   "cell_type": "markdown",
   "metadata": {},
   "source": [
    "## Esecuzione e ritorno "
   ]
  },
  {
   "cell_type": "markdown",
   "metadata": {},
   "source": [
    "La nostra funzione precedente esegue solo alcune azioni, ma non ha alcun valore di ritorno."
   ]
  },
  {
   "cell_type": "markdown",
   "metadata": {
    "slideshow": {
     "slide_type": "fragment"
    },
    "tags": []
   },
   "source": [
    "Tuttavia, si potrebbe voler calcolare qualcosa in una funzione e restituire il risultato a un certo punto. Ad esempio:"
   ]
  },
  {
   "cell_type": "code",
   "execution_count": 2,
   "metadata": {},
   "outputs": [
    {
     "name": "stdout",
     "output_type": "stream",
     "text": [
      "212.0\n"
     ]
    }
   ],
   "source": [
    "def celsius_to_fahrenheit(temp_c):\n",
    "    temp_f = temp_c * 9 / 5 + 32\n",
    "    return round(temp_f, 2)\n",
    "\n",
    "\n",
    "# Convertire il punto di ebollizione dell'acqua\n",
    "water_bp = celsius_to_fahrenheit(100)\n",
    "print(water_bp)"
   ]
  },
  {
   "cell_type": "markdown",
   "metadata": {
    "slideshow": {
     "slide_type": "fragment"
    },
    "tags": []
   },
   "source": [
    "La parola chiave `return` viene utilizzata per indicare i valori in uscita dalla funzione. In pratica, è il risultato della chiamata alla funzione."
   ]
  },
  {
   "cell_type": "markdown",
   "metadata": {
    "slideshow": {
     "slide_type": "notes"
    },
    "tags": []
   },
   "source": [
    "Quindi, nell'esempio precedente, abbiamo memorizzato il valore restituito dalla nostra funzione nella variabile `water_bp`."
   ]
  },
  {
   "cell_type": "markdown",
   "metadata": {
    "slideshow": {
     "slide_type": "subslide"
    },
    "tags": []
   },
   "source": [
    "Un'altra cosa da dire è che le funzioni non hanno necessariamente dei valori di ritorno. La nota funzione `print()`, infatti, non restituisce nulla."
   ]
  },
  {
   "cell_type": "markdown",
   "metadata": {
    "slideshow": {
     "slide_type": "fragment"
    },
    "tags": []
   },
   "source": [
    "Esaminiamo il codice qui sotto e il suo risultato:"
   ]
  },
  {
   "cell_type": "code",
   "execution_count": 3,
   "metadata": {},
   "outputs": [
    {
     "name": "stdout",
     "output_type": "stream",
     "text": [
      "We Will Rock You\n",
      "None\n"
     ]
    }
   ],
   "source": [
    "canto = print('We are the World')\n",
    "print(canto)"
   ]
  },
  {
   "cell_type": "markdown",
   "metadata": {},
   "source": [
    "Abbiamo dichiarato la variabile `canto` e invocato `print()`."
   ]
  },
  {
   "cell_type": "markdown",
   "metadata": {
    "slideshow": {
     "slide_type": "fragment"
    },
    "tags": []
   },
   "source": [
    "Ovviamente la funzione è stata eseguita, ma alla variabile `canto` è stato assegnato l'oggetto `None`. Questo perché la funzione chiamata non ha restituito letteralmente nulla."
   ]
  },
  {
   "cell_type": "markdown",
   "metadata": {
    "slideshow": {
     "slide_type": "fragment"
    },
    "tags": []
   },
   "source": [
    "> IMPORTANTE: Se non viene espressamente restituito un valore tramite l'istruzione `return`, la funzione restituirà sempre il valore `None`."
   ]
  },
  {
   "cell_type": "markdown",
   "metadata": {
    "slideshow": {
     "slide_type": "subslide"
    },
    "tags": []
   },
   "source": [
    "> ATTENZIONE: L'interprete Python interrompe l'esecuzione della funzione non appena trova un `return`."
   ]
  },
  {
   "cell_type": "markdown",
   "metadata": {
    "slideshow": {
     "slide_type": "notes"
    },
    "tags": []
   },
   "source": [
    "Ma cosa succede se il corpo della funzione contiene più di una dichiarazione di `return`? In questo caso l'eventuale restante codice non sarà eseguito. Tenetelo presente!"
   ]
  },
  {
   "cell_type": "code",
   "execution_count": 4,
   "metadata": {
    "slideshow": {
     "slide_type": "fragment"
    },
    "tags": []
   },
   "outputs": [
    {
     "name": "stdout",
     "output_type": "stream",
     "text": [
      "0\n",
      "None\n"
     ]
    }
   ],
   "source": [
    "def multi_ritorno_inutile(param1, param2):\n",
    "    return param1 * param2\n",
    "    print('Questa stringa non verrà stampata')\n",
    "    return param1 / param2\n",
    "\n",
    "def multi_ritorno_esplicito(param1, param2):\n",
    "    if param2 == 0:\n",
    "        return\n",
    "    else:\n",
    "        return param1 / param2\n",
    "\n",
    "print(multi_ritorno_inutile(2, 0))\n",
    "print(multi_ritorno_esplicito(2, 0))"
   ]
  },
  {
   "cell_type": "markdown",
   "metadata": {},
   "source": [
    "## Ritorno multiplo \n",
    "\n",
    "È possibile restituire più valori in una sola volta, in questo modo:"
   ]
  },
  {
   "cell_type": "code",
   "execution_count": 6,
   "metadata": {},
   "outputs": [
    {
     "name": "stdout",
     "output_type": "stream",
     "text": [
      "20 40 80\n"
     ]
    }
   ],
   "source": [
    "def ritorno_massivo(param1):\n",
    "    a = param1 * 2\n",
    "    b = param1 * 4\n",
    "    c = param1 * 8\n",
    "    return a, b, c\n",
    "\n",
    "var1, var2, var3 = ritorno_massivo(10)\n",
    "\n",
    "print(var1, var2, var3)"
   ]
  },
  {
   "cell_type": "markdown",
   "metadata": {
    "slideshow": {
     "slide_type": "fragment"
    },
    "tags": []
   },
   "source": [
    "> **NOTA BENE**: Viene restituito un oggetto di tipo `tuple`."
   ]
  },
  {
   "cell_type": "code",
   "execution_count": 5,
   "metadata": {},
   "outputs": [
    {
     "name": "stdout",
     "output_type": "stream",
     "text": [
      "(20, 40, 80)\n",
      "<class 'tuple'>\n"
     ]
    }
   ],
   "source": [
    "risultato = ritorno_massivo(10)\n",
    "print(risultato)\n",
    "print(type(risultato))"
   ]
  },
  {
   "cell_type": "markdown",
   "metadata": {
    "slideshow": {
     "slide_type": "subslide"
    },
    "tags": []
   },
   "source": [
    "Se i valori da restituire sono molti, forse è meglio una struttura dati più comoda, per esempio un `dict`:"
   ]
  },
  {
   "cell_type": "code",
   "execution_count": 6,
   "metadata": {
    "slideshow": {
     "slide_type": "fragment"
    },
    "tags": []
   },
   "outputs": [
    {
     "name": "stdout",
     "output_type": "stream",
     "text": [
      "{'res1': 20, 'res2': 40, 'res3': 80, 'res4': 160, 'res5': 320}\n",
      "80\n"
     ]
    }
   ],
   "source": [
    "def ritorno_massivo(param1):\n",
    "    a = param1 * 2\n",
    "    b = param1 * 4\n",
    "    c = param1 * 8\n",
    "    d = param1 * 16\n",
    "    e = param1 * 32\n",
    "    return {\n",
    "        'res1': a,\n",
    "        'res2': b,\n",
    "        'res3': c,\n",
    "        'res4': d,\n",
    "        'res5': e,\n",
    "    }\n",
    "\n",
    "risulato = ritorno_massivo(10)\n",
    "\n",
    "print(risulato)\n",
    "print(risulato['res3'])"
   ]
  },
  {
   "cell_type": "markdown",
   "metadata": {},
   "source": [
    "## Riassumendo (funzioni)"
   ]
  },
  {
   "cell_type": "markdown",
   "metadata": {
    "tags": []
   },
   "source": [
    "Abbiamo imparato la sintassi per la dichiarazione delle funzioni. Ora sappiamo che:"
   ]
  },
  {
   "cell_type": "markdown",
   "metadata": {
    "slideshow": {
     "slide_type": "fragment"
    },
    "tags": []
   },
   "source": [
    "- I parametri di una funzione:\n",
    "    - sono semplicemente degli alias o dei segnaposto per i valori che gli verranno passati;\n",
    "    - vengono reinizializzati ogni volta che si chiama la funzione;\n",
    "    - sono disponibili nel corpo della funzione per eseguire i calcoli."
   ]
  },
  {
   "cell_type": "markdown",
   "metadata": {
    "slideshow": {
     "slide_type": "fragment"
    },
    "tags": []
   },
   "source": [
    "- Una funzione può eseguire il proprio codice e:\n",
    "    - non restituire un risultato specifico. Se la funzione non restituisce nulla, assegnando il risultato a una variabile o stampandolo si ottiene `None`.\n",
    "    - restituire uno o più valori sotto forma di tupla o qualsiasi altro contenitore utile."
   ]
  },
  {
   "cell_type": "markdown",
   "metadata": {
    "slideshow": {
     "slide_type": "fragment"
    },
    "tags": []
   },
   "source": [
    "Dichiarare le proprie funzioni rende il codice più strutturato e riutilizzabile. Ogni volta che utilizzate lo stesso pezzo di codice più di una volta, cercate di crearne una funzione!"
   ]
  },
  {
   "cell_type": "markdown",
   "metadata": {},
   "source": [
    "## Visibilità e accessibilità delle variabili (*scope*) nelle funzioni \n",
    "\n",
    "Nell'esempio che segue, se volessimo provare a modificare il valore di `a` all'interno delle funzioni, otterremo in un caso un errore e nell'altro un buco nell'acqua."
   ]
  },
  {
   "cell_type": "code",
   "execution_count": 2,
   "metadata": {
    "tags": []
   },
   "outputs": [
    {
     "name": "stdout",
     "output_type": "stream",
     "text": [
      "Fuori prima: 3\n",
      "Dentro dopo: 5\n",
      "Fuori dopo: 3\n"
     ]
    }
   ],
   "source": [
    "a = 3\n",
    "print('Fuori prima:', a)\n",
    "\n",
    "def pippo_errato():\n",
    "    print('Dentro prima:', a)\n",
    "    a = 5\n",
    "    print('Dentro dopo:', a) # qua non ci arriva, si rompe prima!\n",
    "\n",
    "def pippo_inutile():\n",
    "    # qua non possiamo leggere la variabile a altrimenti sarebbe come pippo_errato()\n",
    "    a = 5\n",
    "    print('Dentro dopo:', a)\n",
    "\n",
    "# Commenta e decommenta alternativamente le due chiamate di funzione per vedere\n",
    "# il diverso comportamento:\n",
    "\n",
    "# pippo_errato()\n",
    "pippo_inutile()\n",
    "\n",
    "print('Fuori dopo:', a)"
   ]
  },
  {
   "cell_type": "markdown",
   "metadata": {
    "slideshow": {
     "slide_type": "subslide"
    },
    "tags": []
   },
   "source": [
    "Potremmo fare così, ma è sconsigliato se non espressamente necessario:"
   ]
  },
  {
   "cell_type": "code",
   "execution_count": 8,
   "metadata": {},
   "outputs": [
    {
     "name": "stdout",
     "output_type": "stream",
     "text": [
      "Fuori prima: 3\n",
      "Dentro prima: 3\n",
      "Dentro dopo: 5\n",
      "Fuori dopo: 5\n"
     ]
    }
   ],
   "source": [
    "a = 3\n",
    "print('Fuori prima:', a)\n",
    "\n",
    "def pippo_globalizzato():\n",
    "    global a # è come se importassimo la variabile \"a\" dallo strato esterno\n",
    "    print('Dentro prima:', a)\n",
    "    a = 5\n",
    "    print('Dentro dopo:', a)\n",
    "\n",
    "pippo_globalizzato()\n",
    "\n",
    "print('Fuori dopo:', a)"
   ]
  },
  {
   "cell_type": "markdown",
   "metadata": {
    "slideshow": {
     "slide_type": "subslide"
    },
    "tags": []
   },
   "source": [
    "Fare questo è ancora più insidioso:"
   ]
  },
  {
   "cell_type": "code",
   "execution_count": 9,
   "metadata": {},
   "outputs": [
    {
     "name": "stdout",
     "output_type": "stream",
     "text": [
      "fantastico\n"
     ]
    }
   ],
   "source": [
    "def pippo_globalizzatore():\n",
    "    global new_var # è come se creassimo la variabile anche nello \"strato\" esterno\n",
    "    new_var = \"fantastico\"\n",
    "\n",
    "pippo_globalizzatore()\n",
    "print(new_var)"
   ]
  },
  {
   "cell_type": "markdown",
   "metadata": {
    "slideshow": {
     "slide_type": "subslide"
    },
    "tags": []
   },
   "source": [
    "Tutti i casi precedenti sono sconsigliati. Se dovete modificare la nostra variabile `a`, fatelo in modo semplice ed esplicito:"
   ]
  },
  {
   "cell_type": "code",
   "execution_count": 10,
   "metadata": {},
   "outputs": [
    {
     "name": "stdout",
     "output_type": "stream",
     "text": [
      "Fuori prima: 3\n",
      "Fuori dopo: 5\n"
     ]
    }
   ],
   "source": [
    "a = 3\n",
    "print('Fuori prima:', a)\n",
    "\n",
    "def pippo_normale():\n",
    "    return 5\n",
    "\n",
    "a = pippo_normale()\n",
    "\n",
    "print('Fuori dopo:', a)"
   ]
  },
  {
   "cell_type": "markdown",
   "metadata": {},
   "source": [
    "### Scope \n",
    "\n",
    "Uno _**scope**_ (ambito) è una parte del programma in cui una certa variabile può essere raggiunta tramite il suo nome. Pensalo come il confine entro cui una variabile può essere \"vista\" e usata: variabili definite in uno *scope* locale sono accessibili solo all'interno di quel contesto specifico, mentre quelle in uno *scope* globale sono accessibili ovunque nel programma. Questo aiuta a organizzare e proteggere le variabili evitando conflitti e sovrascritture involontarie.\n",
    "\n",
    "Lo *scope* è un concetto molto importante nella programmazione perché definisce la visibilità di un nome all'interno del nostro codice."
   ]
  },
  {
   "cell_type": "code",
   "execution_count": 12,
   "metadata": {},
   "outputs": [
    {
     "name": "stdout",
     "output_type": "stream",
     "text": [
      "Sono nella stanza Python e posso leggere:\n",
      "Enciclopedia Treccani\n",
      "Guida pratica di Python\n"
     ]
    }
   ],
   "source": [
    "# Scope Globale\n",
    "libro_globale = \"Enciclopedia Treccani\"\n",
    "\n",
    "def stanza_python():\n",
    "    # Scope Locale della funzione stanza_python\n",
    "    libro_locale = \"Guida pratica di Python\"\n",
    "    print('Sono nella stanza Python e posso leggere:')\n",
    "    print(libro_globale)  # Accessibile perché è globale\n",
    "    print(libro_locale)   # Accessibile perché siamo nello scope locale\n",
    "\n",
    "stanza_python()\n",
    "# print(libro_locale)  # Questo causerà un errore perché libro_locale è nello\n",
    "                       # scope locale della funzione stanza_python"
   ]
  },
  {
   "cell_type": "markdown",
   "metadata": {},
   "source": [
    "### Globale vs. Locale \n",
    "\n",
    "Quando si definisce una variabile, essa diventa **globale** o **locale**.\n",
    "\n",
    "Se una variabile è definita al livello superiore del modulo, è considerata *globale*. Ciò significa che è possibile fare riferimento a questa variabile da ogni blocco di codice del programma. Le variabili globali possono essere utilizzate, ad esempio, per condividere informazioni di stato o alcune configurazioni tra funzioni diverse."
   ]
  },
  {
   "cell_type": "code",
   "execution_count": 1,
   "metadata": {},
   "outputs": [
    {
     "name": "stdout",
     "output_type": "stream",
     "text": [
      "Caro utente, ti voglio bene!\n",
      "Caro Marco, ti voglio bene!\n"
     ]
    }
   ],
   "source": [
    "messaggio = 'Caro utente, '  # Questa variabile è globale\n",
    "\n",
    "def print_amore():\n",
    "    print(messaggio + 'ti voglio bene!')  # Accede alla variabile globale\n",
    "                                          # perché non trova una variabile\n",
    "                                          # locale che si chiama \"messaggio\"\n",
    "def print_odio():\n",
    "    print(messaggio + 'ti odio!')\n",
    "\n",
    "print_amore()\n",
    "messaggio = 'Caro Marco, '  # Sovrascrive la variabile globale\n",
    "print_amore()  # Viene stampato 'Caro Marco...' perché la variabile globale\n",
    "               # è stata sovrascritta"
   ]
  },
  {
   "cell_type": "markdown",
   "metadata": {},
   "source": [
    "Se una variabile è definita nel corpo di una funzione, è considerata *locale*. Pertanto, il suo nome può essere risolto solo all'interno dell'ambito della funzione corrente.\n",
    "\n",
    "Questa separazione consente di evitare gli effetti collaterali che possono verificarsi quando si usano le variabili globali."
   ]
  },
  {
   "cell_type": "markdown",
   "metadata": {},
   "source": [
    "Riassumendo, una variabile globale può essere accessibile sia dal livello superiore del modulo che dal corpo della funzione. Una variabile locale è invece visibile solo all'interno dello scope più vicino e non è accessibile dall'esterno."
   ]
  },
  {
   "cell_type": "code",
   "execution_count": 7,
   "metadata": {},
   "outputs": [
    {
     "name": "stdout",
     "output_type": "stream",
     "text": [
      "--Accesso alla variabile globale dall'interno: Globale\n",
      "--Accesso alla variabile enclosing dall'interno: Enclosing\n",
      "--Accesso alla variabile locale dall'interno: Locale\n",
      "-Accesso alla variabile globale dall'esterno: Globale\n",
      "-Accesso alla variabile enclosing dall'esterno: Enclosing\n",
      "Accesso alla variabile globale dall'esterno della funzione: Globale\n"
     ]
    }
   ],
   "source": [
    "variabile_globale = \"Globale\"\n",
    "\n",
    "def funzione_esterna():\n",
    "    variabile_enclosing = \"Enclosing\"\n",
    "    \n",
    "    def funzione_interna():\n",
    "        variabile_locale = \"Locale\"\n",
    "        print(\"--Accesso alla variabile globale dall'interno:\", variabile_globale)\n",
    "        print(\"--Accesso alla variabile enclosing dall'interno:\", variabile_enclosing)\n",
    "        print(\"--Accesso alla variabile locale dall'interno:\", variabile_locale)\n",
    "    \n",
    "    funzione_interna()  # Chiama la funzione interna\n",
    "    print(\"-Accesso alla variabile globale dall'esterno:\", variabile_globale)\n",
    "    print(\"-Accesso alla variabile enclosing dall'esterno:\", variabile_enclosing)\n",
    "    \n",
    "    # Provando ad accedere alla variabile locale, si causerà un NameError\n",
    "    # print(variabile_locale)\n",
    "\n",
    "\n",
    "funzione_esterna()  # Chiama la funzione esterna\n",
    "\n",
    "print(\"Accesso alla variabile globale dall'esterno della funzione:\", variabile_globale)\n",
    "\n",
    "# Provando ad accedere alla variabile enclosing o locale, si causerà un NameError\n",
    "# print(variabile_enclosing)\n",
    "# print(variabile_locale)\n"
   ]
  },
  {
   "cell_type": "markdown",
   "metadata": {},
   "source": [
    "### Regola LEGB \n",
    "\n",
    "La risoluzione di una variabile in Python segue la regola **LEGB**. Ciò significa che l'interprete cerca un nome nel seguente ordine:\n",
    "\n",
    "1. **Local**. Variabili definite all'interno del corpo della funzione e non dichiarate globali.\n",
    "2. **Enclosing**. Nomi dell'ambito locale in tutte le funzioni che lo racchiudono, dall'interno all'esterno.\n",
    "3. **Global**. Nomi definiti al livello superiore di un modulo o dichiarati globali con la parola chiave `global`.\n",
    "4. **Built-in**. Qualsiasi nome incorporato in Python.\n",
    "\n",
    "Consideriamo un esempio per illustrare la regola LEGB:"
   ]
  },
  {
   "cell_type": "code",
   "execution_count": 9,
   "metadata": {},
   "outputs": [
    {
     "name": "stdout",
     "output_type": "stream",
     "text": [
      "Local\n"
     ]
    }
   ],
   "source": [
    "x = 'Global'\n",
    "def outer():\n",
    "    x = 'Enclosing - Outer local (locale esterno)'\n",
    "    def inner():\n",
    "        x = 'Enclosing - Inner local (locale interno)'\n",
    "        def func():\n",
    "            x = 'Local'\n",
    "            print(x)  # <-- Noi siamo qua\n",
    "        func()\n",
    "    inner()\n",
    "\n",
    "outer() # 'Local'"
   ]
  },
  {
   "cell_type": "markdown",
   "metadata": {},
   "source": [
    "**PTHON TUTOR:** [Qui](https://pythontutor.com/render.html#code=def%20outer%28%29%3A%0A%20%20%20%20x%20%3D%20%22locale%20esterno%22%0A%20%20%20%20def%20inner%28%29%3A%0A%20%20%20%20%20%20%20%20x%20%3D%20%22locale%20interno%22%0A%20%20%20%20%20%20%20%20def%20func%28%29%3A%0A%20%20%20%20%20%20%20%20%20%20%20%20x%20%3D%20%22func%20local%22%0A%20%20%20%20%20%20%20%20%20%20%20%20print%28x%29%0A%20%20%20%20%20%20%20%20func%28%29%0A%20%20%20%20inner%28%29%0A%0Aouter%28%29%20%23%20%22func%20local%22&cumulative=false&curInstr=0&heapPrimitives=nevernest&mode=display&origin=opt-frontend.js&py=311&rawInputLstJSON=%5B%5D&textReferences=false) puoi visualizzare l'esecuzione di questo codice."
   ]
  },
  {
   "cell_type": "markdown",
   "metadata": {},
   "source": [
    "\n",
    "\n",
    "\n",
    "Questo meccanismo di \"compilazione\" o analisi statica è diverso da come funziona l'esecuzione del codice Python nel contesto globale, dove le assegnazioni creano o aggiornano semplicemente le variabili in quel contesto senza la complessità aggiuntiva degli ambiti locali e globali all'interno delle funzioni."
   ]
  },
  {
   "cell_type": "markdown",
   "metadata": {},
   "source": [
    "### Le parole chiave `global` e `non local` \n",
    "\n",
    "Abbiamo già menzionato un modo per assegnare una variabile globale: fare una definizione al livello più esterno di un modulo. Ma esiste anche la parola chiave speciale `global` che ci permette di dichiarare una variabile globale mentre ci troviamo all'interno del corpo di una funzione.\n",
    "\n",
    "Viceversa, se il nome di una variabile globale esiste già, non è possibile modificare il valore di quella variabile all'interno della funzione senza usare la parola chiave `global`.\n",
    "\n",
    "Guardiamo i seguenti esempi:"
   ]
  },
  {
   "cell_type": "code",
   "execution_count": 9,
   "metadata": {},
   "outputs": [
    {
     "name": "stdout",
     "output_type": "stream",
     "text": [
      "1\n"
     ]
    }
   ],
   "source": [
    "x = 1\n",
    "\n",
    "def print_global():\n",
    "    print(x)  # Accede a x globale\n",
    "\n",
    "print_global()  # 1"
   ]
  },
  {
   "cell_type": "markdown",
   "metadata": {},
   "source": [
    "Fino a qui, nulla di strano.\n",
    "\n",
    "Nell'esempio che segue invece creiamo una nuova variabile `x` locale, omonima della `x` globale:"
   ]
  },
  {
   "cell_type": "code",
   "execution_count": 6,
   "metadata": {},
   "outputs": [
    {
     "name": "stdout",
     "output_type": "stream",
     "text": [
      "2\n",
      "1\n"
     ]
    }
   ],
   "source": [
    "x = 1\n",
    "\n",
    "def create_local():\n",
    "    x = 2  # Crea una nuova x locale\n",
    "    print(x)  # Accede a x locale\n",
    "\n",
    "create_local()  # 2\n",
    "print(x)  # 1"
   ]
  },
  {
   "cell_type": "markdown",
   "metadata": {},
   "source": [
    "E se invece volessimo modificare il valore di `x` globale dal corpo di una funzione?\n",
    "\n",
    "Se lo facciamo come nel seguente esempio si genererà un errore perché si tenta di accedere alla variabile `x` prima di averle assegnato un valore, anche se esiste una `x` globale."
   ]
  },
  {
   "cell_type": "code",
   "execution_count": 8,
   "metadata": {},
   "outputs": [
    {
     "ename": "UnboundLocalError",
     "evalue": "cannot access local variable 'x' where it is not associated with a value",
     "output_type": "error",
     "traceback": [
      "\u001b[0;31m---------------------------------------------------------------------------\u001b[0m",
      "\u001b[0;31mUnboundLocalError\u001b[0m                         Traceback (most recent call last)",
      "Cell \u001b[0;32mIn[8], line 8\u001b[0m\n\u001b[1;32m      5\u001b[0m     x \u001b[38;5;241m=\u001b[39m \u001b[38;5;241m3\u001b[39m  \u001b[38;5;66;03m# Perché, in fase di compilazione della funzione, questa\u001b[39;00m\n\u001b[1;32m      6\u001b[0m            \u001b[38;5;66;03m# assegnazione dice a Python che x è locale.\u001b[39;00m\n\u001b[0;32m----> 8\u001b[0m \u001b[43mmodify_global_wrong\u001b[49m\u001b[43m(\u001b[49m\u001b[43m)\u001b[49m  \u001b[38;5;66;03m# UnboundLocalError\u001b[39;00m\n",
      "Cell \u001b[0;32mIn[8], line 4\u001b[0m, in \u001b[0;36mmodify_global_wrong\u001b[0;34m()\u001b[0m\n\u001b[1;32m      3\u001b[0m \u001b[38;5;28;01mdef\u001b[39;00m \u001b[38;5;21mmodify_global_wrong\u001b[39m():\n\u001b[0;32m----> 4\u001b[0m     \u001b[38;5;28mprint\u001b[39m(\u001b[43mx\u001b[49m)  \u001b[38;5;66;03m# Cerca di accedere a x locale.\u001b[39;00m\n\u001b[1;32m      5\u001b[0m     x \u001b[38;5;241m=\u001b[39m \u001b[38;5;241m3\u001b[39m\n",
      "\u001b[0;31mUnboundLocalError\u001b[0m: cannot access local variable 'x' where it is not associated with a value"
     ]
    }
   ],
   "source": [
    "x = 1\n",
    "\n",
    "def modify_global_wrong():\n",
    "    print(x)  # Cerca di accedere a x locale.\n",
    "    x = 3  # Perché, in fase di compilazione della funzione, questa\n",
    "           # assegnazione dice a Python che x è locale.\n",
    "\n",
    "modify_global_wrong()  # UnboundLocalError"
   ]
  },
  {
   "cell_type": "markdown",
   "metadata": {},
   "source": [
    "Ci si potrebbe aspettare che `print(x)` in `modify_global_wrong` acceda alla `x` globale, e che `x = 3` crei successivamente una `x` locale. Tuttavia, l'errore si verifica proprio in `print(x)`.\n",
    "\n",
    "Questo accade perché prima di eseguire il codice vero e proprio, Python effettua una sorta di \"compilazione\" preliminare del corpo di una funzione per determinare lo *scope* (ambito) dei nomi. Questo processo, noto come *name binding*, aiuta Python a identificare quali nomi sono locali alla funzione e quali sono globali, prima dell'esecuzione.\n",
    "\n",
    "Durante questa fase, Python analizza le assegnazioni di variabili all'interno della funzione. Se una variabile viene assegnata un valore in qualsiasi punto del corpo della funzione, Python la marca come una variabile locale per l'intera durata della funzione. Questo significa che qualsiasi riferimento a quella variabile prima della sua creazione (assegnazione) nella funzione viene interpretato come un accesso a una variabile locale non ancora assegnata, ciò porta a un `UnboundLocalError`.\n",
    "\n",
    "Se vogliamo stampare e poi modificare il valore di una variabile locale, possiamo risolvere il problema dichiarando `x` come globale:"
   ]
  },
  {
   "cell_type": "code",
   "execution_count": 4,
   "metadata": {},
   "outputs": [
    {
     "name": "stdout",
     "output_type": "stream",
     "text": [
      "1\n",
      "3\n"
     ]
    }
   ],
   "source": [
    "x = 1\n",
    "def modify_global():\n",
    "    global x  # Dichiara che x è globale\n",
    "    print(x)  # Accede a x globale\n",
    "    x = 3  # Modifica x globale\n",
    "\n",
    "modify_global()  # 1\n",
    "print(x)  # 3"
   ]
  },
  {
   "cell_type": "markdown",
   "metadata": {},
   "source": [
    "Quando `x` è globale, è possibile incrementare il suo valore **all'interno** della funzione.\n",
    "\n",
    "La parola chiave `nonlocal` ci permette invece di assegnare valori a variabili nell'ambito esterno (ma non globale):"
   ]
  },
  {
   "cell_type": "code",
   "execution_count": null,
   "metadata": {},
   "outputs": [],
   "source": [
    "def func():\n",
    "    x = 1\n",
    "    def inner():\n",
    "        nonlocal x\n",
    "        x = 2\n",
    "        print(\"interno:\", x)\n",
    "    inner()\n",
    "    print(\"esterno:\", x)\n",
    "\n",
    "func() # interno: 2\n",
    "        # esterno: 2"
   ]
  },
  {
   "cell_type": "markdown",
   "metadata": {},
   "source": [
    "**NOTA BENE:** Sebbene `global` e `nonlocal` siano presenti nel linguaggio, nella pratica non vengono usate spesso, perché queste parole chiave rendono i programmi meno prevedibili e più difficili da capire."
   ]
  },
  {
   "cell_type": "markdown",
   "metadata": {},
   "source": [
    "### Perché abbiamo bisogno degli scope? \n",
    "\n",
    "Python distingue tra scope globali e locali per migliorare l'organizzazione del codice. Lo scope globale permette di conservare le informazioni tra le chiamate di funzione, favorendo il trasferimento dei dati e la comunicazione in processi complessi come il multithreading. Tuttavia, se tutte le dichiarazioni fossero memorizzate in un ambito globale, lo spazio dei nomi sarebbe estremamente intasato e difficile da navigare, con il rischio di confusione e bug. Per questo motivo, Python vi risparmia la fatica, permettendovi di \"isolare\" alcune variabili dal resto del codice quando lo dividete in funzioni."
   ]
  },
  {
   "cell_type": "markdown",
   "metadata": {},
   "source": [
    "## Saper distinguere le funzioni "
   ]
  },
  {
   "cell_type": "markdown",
   "metadata": {
    "slideshow": {
     "slide_type": "fragment"
    },
    "tags": []
   },
   "source": [
    "Capire come possono comportarsi le funzioni, ci permette di:\n",
    "\n",
    "- usare al meglio le funzioni già disponibili;\n",
    "- scrivere le proprie funzioni in modo più consapevole."
   ]
  },
  {
   "cell_type": "markdown",
   "metadata": {
    "slideshow": {
     "slide_type": "subslide"
    },
    "tags": []
   },
   "source": [
    "Puoi trovare 3 categorie di funzioni/procedure e naturalmente tutte le loro possibili combinazioni:"
   ]
  },
  {
   "cell_type": "markdown",
   "metadata": {
    "slideshow": {
     "slide_type": "fragment"
    },
    "tags": []
   },
   "source": [
    "1. Produce dei *SIDE EFFECTS* ([effetti collaterali](https://it.wikipedia.org/wiki/Effetto_collaterale_(informatica))) che modificano l'ambiente di esecuzione in qualche modo. Ad esempio: \n",
    "    - stampare,\n",
    "    - richiedere input utente,\n",
    "    - modificare oggetti globali,\n",
    "    - leggere/scrivere sul filesystem (file e cartelle).\n"
   ]
  },
  {
   "cell_type": "markdown",
   "metadata": {
    "slideshow": {
     "slide_type": "fragment"
    },
    "tags": []
   },
   "source": [
    "2. RESTITUISCE un risultato"
   ]
  },
  {
   "cell_type": "markdown",
   "metadata": {
    "slideshow": {
     "slide_type": "fragment"
    },
    "tags": []
   },
   "source": [
    "3. MODIFICA gli argomenti ricevuti (l'input della funzione)"
   ]
  },
  {
   "cell_type": "markdown",
   "metadata": {
    "slideshow": {
     "slide_type": "fragment"
    },
    "tags": []
   },
   "source": [
    "E naturalmente anche tutti i comportamenti risultanti da combinazioni dei precedenti. Ad esempio:\n",
    "- MODIFICA gli argomenti ricevuti e ne RESTITUISCE almeno uno (permette la concatenazione di chiamate, detto _chaining_)"
   ]
  },
  {
   "cell_type": "markdown",
   "metadata": {
    "slideshow": {
     "slide_type": "notes"
    },
    "tags": []
   },
   "source": [
    "\n",
    "Proviamo ora a capire le differenze con diversi esempi."
   ]
  },
  {
   "cell_type": "markdown",
   "metadata": {},
   "source": [
    "### SIDE EFFECTS \n",
    "\n",
    "Stampa, richiede input utente, modifica oggetti globali, legge/scrive sul filesystem ecc.\n",
    "\n",
    "- NON modifica l'input.\n",
    "- NON restituisce niente! `-> None`\n",
    "\n",
    "Esempio: "
   ]
  },
  {
   "cell_type": "code",
   "execution_count": 13,
   "metadata": {
    "slideshow": {
     "slide_type": "fragment"
    },
    "tags": []
   },
   "outputs": [
    {
     "name": "stdout",
     "output_type": "stream",
     "text": [
      "Input [8, 5, 6, 2]\n",
      "Side effect: I primi due elementi sono 8 e 5\n",
      "Output: None\n",
      "Input originale: [8, 5, 6, 2]\n"
     ]
    }
   ],
   "source": [
    "def informa_utente(lista):\n",
    "    \"\"\"STAMPA i primi due elementi della lista data\n",
    "    \"\"\"    \n",
    "    print('Side effect: I primi due elementi sono', lista[0], 'e', lista[1])\n",
    "\n",
    "mia_lista = [8,5,6,2]\n",
    "print('Input', mia_lista)\n",
    "\n",
    "risultato = informa_utente(mia_lista)\n",
    "print('Output:', risultato)\n",
    "print('Input originale:', mia_lista)"
   ]
  },
  {
   "cell_type": "markdown",
   "metadata": {},
   "source": [
    "### RESTITUISCE \n",
    "\n",
    "RESTITUISCE qualche valore, come una NUOVA regione di memoria o un NUOVO puntatore a una regione di memoria esistente, a seconda di come è implementato il comportamento all'interno del corpo della funzione.\n",
    "\n",
    "- NON modifica l'input.\n",
    "\n",
    "Esempio:"
   ]
  },
  {
   "cell_type": "code",
   "execution_count": 16,
   "metadata": {
    "slideshow": {
     "slide_type": "subslide"
    },
    "tags": []
   },
   "outputs": [
    {
     "name": "stdout",
     "output_type": "stream",
     "text": [
      "Input: [5, 2, 6, 3]\n",
      "Output: [10, 4, 12, 6]\n",
      "Input originale: [5, 2, 6, 3]\n"
     ]
    }
   ],
   "source": [
    "def crea_nuova_lista_raddoppiata(lista):\n",
    "    \"\"\"Restituisce una nuova lista i cui elementi vengono raddoppiati\n",
    "    \"\"\"    \n",
    "    res = []\n",
    "    for elem in lista:\n",
    "        res.append(elem * 2)\n",
    "    return res   \n",
    "\n",
    "mia_lista = [5,2,6,3]\n",
    "print('Input:', mia_lista)\n",
    "\n",
    "risultato = crea_nuova_lista_raddoppiata(mia_lista)\n",
    "print(\"Output:\", risultato)\n",
    "print('Input originale:', mia_lista)\n",
    "\n",
    "# È possibile concatenare delle chiamate di metodo\n",
    "# index_12 = crea_nuova_lista_raddoppiata(mia_lista).index(12)\n",
    "# print('func(input).index(12):', index_12)\n",
    "# print('Input originale:', mia_lista)"
   ]
  },
  {
   "cell_type": "markdown",
   "metadata": {},
   "source": [
    "### MODIFICA \n",
    "\n",
    "MODIFICA l'input \"in-place\", ovvero cambia i dati dentro regioni di memoria esistenti (limitando il più possibile la creazione di regioni nuove).\n",
    "\n",
    "- NON restituisce niente! `-> None`\n",
    "- NON crea nuove regioni di memoria accessibili dall'esterno della funzione.\n",
    "\n",
    "Esempio:"
   ]
  },
  {
   "cell_type": "code",
   "execution_count": 14,
   "metadata": {
    "slideshow": {
     "slide_type": "fragment"
    },
    "tags": []
   },
   "outputs": [
    {
     "name": "stdout",
     "output_type": "stream",
     "text": [
      "Input: [5, 2, 6, 3]\n",
      "Output: None\n",
      "Input originale: [10, 4, 12, 6]\n"
     ]
    }
   ],
   "source": [
    "def raddoppia_lista(lista):\n",
    "    for i in range(len(lista)):\n",
    "        lista[i] = lista[i] * 2    \n",
    "    \n",
    "mia_lista = [5,2,6,3]\n",
    "print('Input:', mia_lista)\n",
    "\n",
    "risultato = raddoppia_lista(mia_lista)\n",
    "print(\"Output:\", risultato)\n",
    "print('Input originale:', mia_lista)"
   ]
  },
  {
   "cell_type": "markdown",
   "metadata": {},
   "source": [
    "### Combinazioni: MODIFICA + RESTITUISCE \n",
    "\n",
    "MODIFICA l'input \"in-place\" e RESTITUISCE un puntatore all'input stesso\n",
    "\n",
    "- NON crea nuove regioni di memoria accessibili dall'esterno della funzione."
   ]
  },
  {
   "cell_type": "code",
   "execution_count": 15,
   "metadata": {
    "slideshow": {
     "slide_type": "fragment"
    },
    "tags": []
   },
   "outputs": [
    {
     "name": "stdout",
     "output_type": "stream",
     "text": [
      "Input: [5, 2, 6, 3]\n",
      "Output: [10, 4, 12, 6]\n",
      "Input originale: [10, 4, 12, 6]\n"
     ]
    }
   ],
   "source": [
    "def raddoppia_lista_e_ritorna(lista):\n",
    "    for i in range(len(lista)):\n",
    "        lista[i] = lista[i] * 2  \n",
    "    return lista  # Se provi a commentare il return si genererà un errore!\n",
    "                  # perché si rientra nel caso precedente.\n",
    "    \n",
    "mia_lista = [5,2,6,3]\n",
    "print('Input:', mia_lista)\n",
    "\n",
    "risultato = raddoppia_lista_e_ritorna(mia_lista)\n",
    "print(\"Output:\", risultato)\n",
    "print('Input originale:', mia_lista)\n"
   ]
  },
  {
   "cell_type": "markdown",
   "metadata": {},
   "source": [
    "ATTENZIONE: Questo consente il concatenamento di chiamate \"in-place\" (detto *in-place chaining*), che non è considerata una buona pratica perché può causare comportamenti controintuivi. Normalmente questa soluzione viene evitata se non in casi particolari.\n",
    "\n",
    "Per esempio, nel caso che segue non è immediato capire cosa stia succendendo:"
   ]
  },
  {
   "cell_type": "code",
   "execution_count": 17,
   "metadata": {},
   "outputs": [
    {
     "name": "stdout",
     "output_type": "stream",
     "text": [
      "Input: [5, 2, 6, 3]\n",
      "func(input).reverse(): None\n",
      "Input originale: [6, 12, 4, 10]\n"
     ]
    }
   ],
   "source": [
    "mia_lista = [5,2,6,3]\n",
    "print('Input:', mia_lista)\n",
    "\n",
    "risultato = raddoppia_lista_e_ritorna(mia_lista).reverse()  # reverse() restituisce None\n",
    "print('func(input).reverse():', risultato)\n",
    "print('Input originale:', mia_lista)\n"
   ]
  },
  {
   "cell_type": "markdown",
   "metadata": {},
   "source": [
    "## Argomenti (+)\n",
    "\n",
    "Come abbiamo visto precedentemente, esiste una differenza tra i termini \"argomento\" e \"parametro\". I parametri rappresentano ciò che una funzione accetta, sono quei nomi che appaiono nella definizione della funzione. D'altra parte, gli argomenti sono i valori che passiamo a una funzione quando la chiamiamo.\n",
    "\n",
    "Ora vediamo come passare gli argomenti."
   ]
  },
  {
   "cell_type": "markdown",
   "metadata": {},
   "source": [
    "### Argomenti posizionali\n",
    "\n",
    "Ci sono diversi modi per passare gli argomenti a una funzione. Prima di tutto, puoi farlo semplicemente tramite la posizione. In questo caso, i valori saranno associati ai parametri nell'ordine in cui li hai passati alla funzione, da sinistra a destra.\n",
    "\n",
    "Questi \"argomenti posizionali\" vengono chiamati _**positional arguments**_.\n",
    "\n",
    "```python\n",
    "def sottrai(x, y):\n",
    "    return x - y\n",
    "\n",
    "sottrai(11, 4)  # 7\n",
    "sottrai(4, 11)  # -7\n",
    "```\n",
    "\n",
    "Nell'esempio qua sopra, scambiando i numeri nella seconda chiamata di funzione, abbiamo ottenuto un risultato diverso. Così, puoi vedere che l'ordine determina come gli argomenti vengono assegnati."
   ]
  },
  {
   "cell_type": "markdown",
   "metadata": {},
   "source": [
    "### Argomenti con *keyword*\n",
    "\n",
    "Un altro modo per passare gli argomenti è esplicitando il loro nome (*keyword*). Questo ti consente di non dover più seguire per forza l'ordine posizionale e quindi di modificare l'ordine dei valori passati.\n",
    "\n",
    "Questi 'argomenti nominati' vengono chiamati _**keyword arguments**_ o appunto *named arguments*.\n",
    "\n",
    "```python\n",
    "def saluta(nome, cognome):\n",
    "    print('Ciao,', nome, cognome)\n",
    "\n",
    "# Argomenti posizionali\n",
    "saluta('Mario', 'Rossi')               # Ciao, Willy Wonka\n",
    "\n",
    "# Argomenti con keyword\n",
    "saluta(cognome='Wonka', nome='Willy')  # Ciao, Willy Wonka\n",
    "```\n",
    "\n",
    "Nell'esempio qua sopra l'ordine degli argomenti non importa poiché saranno associati ai relativi parametri tramite il loro nome (*keyword*).\n",
    "\n",
    "> **IMPORTANTE 1**: Quando chiami una funzione, gli argomenti con keyword devono sempre essere scritti dopo gli argomenti posizionali (*non-keyword*).\n",
    "\n",
    "```python\n",
    "def saluta(nome, cognome):\n",
    "    print('Ciao,', nome, cognome)\n",
    "\n",
    "saluta('Frodo', surname='Baggins')  # Ciao, Frodo Baggins\n",
    "\n",
    "saluta(name='Frodo', 'Baggins')     # SyntaxError: positional argument follows keyword argument\n",
    "```\n",
    "\n",
    "> **IMPORTANTE 2**: Assicurati di passare ogni argomento una volta sola. In altre parole non puoi inizializzare un parametro due volte, quindi se un valore è già stato passato e associato a qualche parametro, i tentativi di assegnare un altro valore a questo nome solleveranno un errore.\n",
    "\n",
    "```python\n",
    "def saluta(nome, cognome):\n",
    "    print('Ciao,', nome, cognome)\n",
    "\n",
    "saluta('Margherita', 'Rossi', name='Giuseppina')\n",
    "# TypeError: saluta() got multiple values for argument 'name'\n",
    "```\n",
    "\n",
    "Come mostrato nell'esempio qua sopra, valori multipli assegnati allo stesso nome, causano un errore."
   ]
  },
  {
   "cell_type": "markdown",
   "metadata": {},
   "source": [
    "### Firma della funzione\n",
    "\n",
    "Dato che è importante conoscere l'ordine e/o il nome degli argomenti che possiamo passare a una funzione, leggere la sua documentazione è essenziale.\n",
    "\n",
    "Possiamo accedere alla documentazione di una funzione in molti modi:\n",
    "\n",
    "- Sito web della documentazione.\n",
    "- Attraverso il nostro IDE, ad es. su VS Code tramite la funzione \"code hinting\" di IntelliSense.\n",
    "- Usando la funzione built-in `help()`."
   ]
  },
  {
   "cell_type": "code",
   "execution_count": null,
   "metadata": {},
   "outputs": [
    {
     "name": "stdout",
     "output_type": "stream",
     "text": [
      "Help on function saluta in module __main__:\n",
      "\n",
      "saluta(nome, cognome)\n",
      "    Saluta l'utente\n",
      "    param nome: il nome dell'utente\n",
      "    param cognome: il cognome dell'utente\n",
      "\n"
     ]
    }
   ],
   "source": [
    "def saluta(nome, cognome):\n",
    "    \"\"\"\n",
    "    Saluta l'utente\n",
    "    param nome: il nome dell'utente\n",
    "    param cognome: il cognome dell'utente\n",
    "    \"\"\"\n",
    "    print('Ciao,', nome, cognome)\n",
    "\n",
    "help(saluta)"
   ]
  },
  {
   "cell_type": "markdown",
   "metadata": {},
   "source": [
    "### Buone pratiche\n",
    "\n",
    "Secondo la PEP 8, non dovresti mettere spazi intorno al simbolo di uguale `=` quando indichi un argomento keyword.\n",
    "\n",
    "```python\n",
    "# BENE:\n",
    "saluta(nome='Pippo', cognome='Disney')\n",
    "\n",
    "# MALE:\n",
    "saluta(nome = 'Pippo', cognome = 'Disney')\n",
    "```"
   ]
  },
  {
   "cell_type": "markdown",
   "metadata": {},
   "source": [
    "### Riassumendo (argomenti)\n",
    "\n",
    "- C'è una distinzione tra parametri e argomenti.\n",
    "- Puoi passare argomenti a una funzione sia per posizione sia per nome.\n",
    "- L'ordine dei parametri dichiarati è importante, così come l'ordine degli argomenti passati in una funzione."
   ]
  }
 ],
 "metadata": {
  "kernelspec": {
   "display_name": "Python 3 (ipykernel)",
   "language": "python",
   "name": "python3"
  },
  "language_info": {
   "codemirror_mode": {
    "name": "ipython",
    "version": 3
   },
   "file_extension": ".py",
   "mimetype": "text/x-python",
   "name": "python",
   "nbconvert_exporter": "python",
   "pygments_lexer": "ipython3",
   "version": "3.11.2"
  }
 },
 "nbformat": 4,
 "nbformat_minor": 4
}
