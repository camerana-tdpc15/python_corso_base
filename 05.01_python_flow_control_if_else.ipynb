{
 "cells": [
  {
   "cell_type": "markdown",
   "metadata": {},
   "source": [
    "**Sommario**<a id='toc0_'></a>    \n",
    "- [`if` ... (`elif` ... `else` ...)](#toc1_)    \n",
    "  - [Riassumendo](#toc1_1_)    \n",
    "  - [Operatore ternario](#toc1_2_)    \n",
    "  - [`if` annidati](#toc1_3_)    \n",
    "  - [`if` e definizione delle variabili](#toc1_4_)    \n",
    "\n",
    "<!-- vscode-jupyter-toc-config\n",
    "\tnumbering=false\n",
    "\tanchor=true\n",
    "\tflat=false\n",
    "\tminLevel=1\n",
    "\tmaxLevel=6\n",
    "\t/vscode-jupyter-toc-config -->\n",
    "<!-- THIS CELL WILL BE REPLACED ON TOC UPDATE. DO NOT WRITE YOUR TEXT IN THIS CELL -->"
   ]
  },
  {
   "cell_type": "markdown",
   "metadata": {},
   "source": [
    "# <a id='toc1_'></a>`if` ... (`elif` ... `else` ...) [&#8593;](#toc0_)"
   ]
  },
  {
   "cell_type": "markdown",
   "metadata": {
    "tags": []
   },
   "source": [
    "`if` è una struttura di controllo del flusso di esecuzione del nostro codice."
   ]
  },
  {
   "cell_type": "markdown",
   "metadata": {
    "slideshow": {
     "slide_type": "fragment"
    },
    "tags": []
   },
   "source": [
    "Se vogliamo eseguire un pezzo di codice solo in presenza di una determinata condizione, questo deve essere inserito nel corpo di un'istruzione `if`. "
   ]
  },
  {
   "cell_type": "markdown",
   "metadata": {
    "slideshow": {
     "slide_type": "fragment"
    },
    "tags": []
   },
   "source": [
    "Oltre a `if` possiamo indicare facoltativamente ulteriori blocchi \"condizionati\" tramite i costrutti `elif` ed `else`."
   ]
  },
  {
   "cell_type": "markdown",
   "metadata": {
    "slideshow": {
     "slide_type": "fragment"
    },
    "tags": []
   },
   "source": [
    "`if` ed `elif` prevedono di valutare delle condizioni scritte sotto forma di espressioni.\n",
    "```python\n",
    "if var1 == 'pippo':\n",
    "    ...\n",
    "```"
   ]
  },
  {
   "cell_type": "markdown",
   "metadata": {
    "slideshow": {
     "slide_type": "subslide"
    },
    "tags": []
   },
   "source": [
    "Le condizioni sono scritte sotto forma di espressioni e infine valutate come *truthy* e *falsy*.\n",
    "```python\n",
    "if -5 + 5:    # -> bool(-5 + 5) -> bool(0) -> False\n",
    "    ...\n",
    "elif 'ciao':  # -> bool('ciao') -> True\n",
    "    ...\n",
    "```"
   ]
  },
  {
   "cell_type": "markdown",
   "metadata": {
    "slideshow": {
     "slide_type": "fragment"
    },
    "tags": []
   },
   "source": [
    "> IMPORTANTE: In pratica, `if` ed `elif` è come se si aspettassero di valutare un valore `bool`, ovvero `True` o `False`. Qualunque altro valore, possiamo immaginare che venga automaticamente convertito in booleano tramite una specie di `bool()` implicito."
   ]
  },
  {
   "cell_type": "markdown",
   "metadata": {
    "slideshow": {
     "slide_type": "subslide"
    },
    "tags": []
   },
   "source": [
    "Se la condizione risulta `True`, allora il blocco di codice indentato subito sotto alla condizione sarà eseguito."
   ]
  },
  {
   "cell_type": "code",
   "execution_count": 15,
   "metadata": {
    "slideshow": {
     "slide_type": "fragment"
    },
    "tags": []
   },
   "outputs": [
    {
     "name": "stdout",
     "output_type": "stream",
     "text": [
      "questo verrà eseguito\n"
     ]
    }
   ],
   "source": [
    "if True:\n",
    "    var1 = 'questo'\n",
    "    var2 = 'verrà'\n",
    "    var3 = 'eseguito'\n",
    "    print(var1, var2, var3)"
   ]
  },
  {
   "cell_type": "markdown",
   "metadata": {
    "slideshow": {
     "slide_type": "notes"
    },
    "tags": []
   },
   "source": [
    "> IMPORTANTE: In Python si usa solo l'indentazione per separare i diversi blocchi di codice, quindi solo l'indentazione mostra quali righe di codice devono essere eseguite quando l'istruzione `if` è soddisfatta e quali devono essere eseguite indipendentemente dall'istruzione `if`."
   ]
  },
  {
   "cell_type": "markdown",
   "metadata": {
    "slideshow": {
     "slide_type": "subslide"
    },
    "tags": []
   },
   "source": [
    "`elif` e `else` sono opzionali."
   ]
  },
  {
   "cell_type": "code",
   "execution_count": 16,
   "metadata": {
    "slideshow": {
     "slide_type": "fragment"
    },
    "tags": []
   },
   "outputs": [
    {
     "name": "stdout",
     "output_type": "stream",
     "text": [
      "Pippo e Pluto.\n"
     ]
    }
   ],
   "source": [
    "var1 = 'Pippo'\n",
    "# var1 = 'Paperino'\n",
    "\n",
    "if var1 == 'Pippo':\n",
    "    var1 += ' e Pluto.'\n",
    "print(var1)"
   ]
  },
  {
   "cell_type": "markdown",
   "metadata": {
    "slideshow": {
     "slide_type": "fragment"
    },
    "tags": []
   },
   "source": [
    "oppure"
   ]
  },
  {
   "cell_type": "code",
   "execution_count": 17,
   "metadata": {},
   "outputs": [
    {
     "name": "stdout",
     "output_type": "stream",
     "text": [
      "Pippo e Pluto.\n"
     ]
    }
   ],
   "source": [
    "var1 = 'Pippo'\n",
    "# var1 = 'Paperino'\n",
    "# var1 = 'Topolino'\n",
    "\n",
    "if var1 == 'Pippo':\n",
    "    var1 += ' e Pluto.'\n",
    "elif var1 == 'Paperino': \n",
    "    var1 += ' e Paperina.'\n",
    "print(var1)"
   ]
  },
  {
   "cell_type": "markdown",
   "metadata": {
    "slideshow": {
     "slide_type": "fragment"
    },
    "tags": []
   },
   "source": [
    "`elif` richiede sempre una condizione, come per `if`."
   ]
  },
  {
   "cell_type": "markdown",
   "metadata": {
    "slideshow": {
     "slide_type": "subslide"
    },
    "tags": []
   },
   "source": [
    "`else` non può avere condizioni, è sempre e solo `else`."
   ]
  },
  {
   "cell_type": "code",
   "execution_count": 18,
   "metadata": {
    "slideshow": {
     "slide_type": "fragment"
    },
    "tags": []
   },
   "outputs": [
    {
     "name": "stdout",
     "output_type": "stream",
     "text": [
      "Pippo e Pluto.\n"
     ]
    }
   ],
   "source": [
    "var1 = 'Pippo'\n",
    "# var1 = 'Paperino'\n",
    "# var1 = 'Topolino'\n",
    "\n",
    "if var1 == 'Pippo':\n",
    "    var1 += ' e Pluto.'\n",
    "else:\n",
    "    var1 += ' da solo.'\n",
    "print(var1)"
   ]
  },
  {
   "cell_type": "markdown",
   "metadata": {
    "slideshow": {
     "slide_type": "subslide"
    },
    "tags": []
   },
   "source": [
    "`elif` e `else` non possono mai esistere senza un `if`."
   ]
  },
  {
   "cell_type": "markdown",
   "metadata": {
    "slideshow": {
     "slide_type": "fragment"
    },
    "tags": []
   },
   "source": [
    "> RICORDA: Se scriviamo la struttura di controllo `if` utilizzando l'indentazione dei blocchi di codice, sono obbligatori i due punti `:` dopo le condizioni e dopo l'`else`."
   ]
  },
  {
   "cell_type": "markdown",
   "metadata": {},
   "source": [
    "## <a id='toc1_1_'></a>Riassumendo [&#8593;](#toc0_)"
   ]
  },
  {
   "cell_type": "code",
   "execution_count": 19,
   "metadata": {},
   "outputs": [
    {
     "name": "stdout",
     "output_type": "stream",
     "text": [
      "Pippo e Pluto.\n"
     ]
    }
   ],
   "source": [
    "var1 = 'Pippo'\n",
    "# var1 = 'Paperino'\n",
    "# var1 = 'Topolino'\n",
    "# var1 = 'Eta Beta'\n",
    "\n",
    "if var1 == 'Pippo':        # Prima condizione da verificare\n",
    "    var1 += ' e Pluto.'    # Questo viene eseguito se la prima condizione è True\n",
    "elif var1 == 'Paperino':   # Altra condizione, verificata se la precedente condizione è False\n",
    "    var1 += ' e Paperina.' # Questo viene eseguito se la condizione di questo elif si verifica\n",
    "elif var1 == 'Topolino':   # Altra condizione, verificata se la precedente condizione è False\n",
    "    var1 += ' e Minni.'    # Questo viene eseguito se la condizione di questo elif si verifica\n",
    "else:                      # Se tutte le precedenti condizioni non sono True\n",
    "    var1 += ' da solo.'    # Questo viene eseguito se nessuna delle precedenti condizioni si sono verificate\n",
    "\n",
    "print(var1)                # Questo viene eseguito in ogni caso, perché fuori dall'if"
   ]
  },
  {
   "cell_type": "markdown",
   "metadata": {},
   "source": [
    "## <a id='toc1_2_'></a>Operatore ternario [&#8593;](#toc0_)\n",
    "\n",
    "Come scoprirete presto, i programmatori amano ogni tipo di scorciatoia. Anche per le espressioni condizionali esiste un trucco:"
   ]
  },
  {
   "cell_type": "markdown",
   "metadata": {
    "slideshow": {
     "slide_type": "fragment"
    },
    "tags": []
   },
   "source": [
    "È possibile scrivere un'istruzione if-else in una sola riga. Si tratta di un cosiddetto _**operatore ternario**_ e si presenta in questo modo:\n",
    "\n",
    "```python\n",
    "print(\"Ora è giorno!\" if sole else \"Ora è notte!\")\n",
    "````"
   ]
  },
  {
   "cell_type": "markdown",
   "metadata": {
    "slideshow": {
     "slide_type": "fragment"
    },
    "tags": []
   },
   "source": [
    "Oppure, più in generale:\n",
    "\n",
    "```python\n",
    "prima_alternativa if condizione else seconda_alternativa\n",
    "```"
   ]
  },
  {
   "cell_type": "markdown",
   "metadata": {
    "slideshow": {
     "slide_type": "fragment"
    },
    "tags": []
   },
   "source": [
    "È una questione di comodità, ma ricordate che il codice deve rimanere comunque leggibile!"
   ]
  },
  {
   "cell_type": "markdown",
   "metadata": {},
   "source": [
    "## <a id='toc1_3_'></a>`if` annidati [&#8593;](#toc0_)\n",
    "\n",
    "A volte una condizione è troppo complicata per una semplice istruzione `if`. In questo caso, si possono usare i cosiddetti \"`if` annidati\", ovvero un `if` dentro un'altro `if`."
   ]
  },
  {
   "cell_type": "markdown",
   "metadata": {
    "slideshow": {
     "slide_type": "notes"
    },
    "tags": []
   },
   "source": [
    "Più dichiarazioni `if` sono annidate, più il codice diventa complesso, il che di solito non è una buona cosa. Tuttavia, questo non significa che si debbano evitare a tutti i costi gli if annidati. Per esempio:"
   ]
  },
  {
   "cell_type": "code",
   "execution_count": 20,
   "metadata": {
    "slideshow": {
     "slide_type": "fragment"
    },
    "tags": []
   },
   "outputs": [
    {
     "name": "stdout",
     "output_type": "stream",
     "text": [
      "Wow, il tuo colore è nell'arcobaleno!\n",
      "Oh, a proposito, è un colore caldo.\n"
     ]
    }
   ],
   "source": [
    "arcobaleno = 'rosso, arancione, giallo, verde, blu, indaco, viola'\n",
    "colori_caldi = 'rosso, giallo, arancione'\n",
    "mio_colore = \"arancione\"\n",
    "\n",
    "if mio_colore in arcobaleno:\n",
    "    print(\"Wow, il tuo colore è nell'arcobaleno!\")\n",
    "    if mio_colore in colori_caldi:\n",
    "        print(\"Oh, a proposito, è un colore caldo.\")"
   ]
  },
  {
   "cell_type": "markdown",
   "metadata": {
    "slideshow": {
     "slide_type": "notes"
    },
    "tags": []
   },
   "source": [
    "L'esempio precedente illustra un'istruzione if annidata. Se la variabile `mio_colore` è una stringa che contiene il nome di un colore dell'arcobaleno, si entra nel corpo della prima istruzione `if`. Per prima cosa, stampiamo il messaggio e poi controlliamo se il nostro colore appartiene ai `colori_caldi`. L'operatore di appartenenza `in` controlla semplicemente se `mio_colore` è una sottostringa della rispettiva stringa, `arcobaleno` o `colori_caldi` e restituisce un valore booleano."
   ]
  },
  {
   "cell_type": "markdown",
   "metadata": {
    "slideshow": {
     "slide_type": "fragment"
    },
    "tags": []
   },
   "source": [
    "> ATTENZIONE: Quando si tratta di dichiarazioni `if` annidate, la corretta indentazione è fondamentale! Ciascun blocco deve avere un'indentazione sempre crescente."
   ]
  },
  {
   "cell_type": "markdown",
   "metadata": {
    "slideshow": {
     "slide_type": "notes"
    }
   },
   "source": [
    "Naturalmente possiamo annidare anche sotto un `else` o un `elif`:"
   ]
  },
  {
   "cell_type": "code",
   "execution_count": 18,
   "metadata": {
    "slideshow": {
     "slide_type": "skip"
    }
   },
   "outputs": [
    {
     "name": "stdout",
     "output_type": "stream",
     "text": [
      "x < 100\n"
     ]
    }
   ],
   "source": [
    "x = float(input('Inserire un numero x:'))\n",
    "\n",
    "if x < 100:\n",
    "    print('x < 100')\n",
    "else:\n",
    "    if x == 100:\n",
    "        print('x = 100')\n",
    "    else:\n",
    "        print('x > 100')\n",
    "    print('This will be printed only because x >= 100')"
   ]
  },
  {
   "cell_type": "markdown",
   "metadata": {},
   "source": [
    "## <a id='toc1_4_'></a>`if` e definizione delle variabili [&#8593;](#toc0_)\n",
    "\n",
    "Se una variabile, ad es. `nuova_var`, viene definita all'interno di un `if`, `elif` o `else`, e se la condizione non si verifica, la variabile non sarà creata."
   ]
  },
  {
   "cell_type": "code",
   "execution_count": 21,
   "metadata": {
    "slideshow": {
     "slide_type": "fragment"
    },
    "tags": [
     "raises-exception"
    ]
   },
   "outputs": [
    {
     "ename": "NameError",
     "evalue": "name 'nuova_var' is not defined",
     "output_type": "error",
     "traceback": [
      "\u001b[0;31m---------------------------------------------------------------------------\u001b[0m",
      "\u001b[0;31mNameError\u001b[0m                                 Traceback (most recent call last)",
      "Cell \u001b[0;32mIn[21], line 6\u001b[0m\n\u001b[1;32m      3\u001b[0m \u001b[38;5;28;01mif\u001b[39;00m var1:\n\u001b[1;32m      4\u001b[0m     nuova_var \u001b[38;5;241m=\u001b[39m \u001b[38;5;124m'\u001b[39m\u001b[38;5;124mAttenzione!\u001b[39m\u001b[38;5;124m'\u001b[39m\n\u001b[0;32m----> 6\u001b[0m \u001b[38;5;28mprint\u001b[39m(\u001b[43mnuova_var\u001b[49m)\n",
      "\u001b[0;31mNameError\u001b[0m: name 'nuova_var' is not defined"
     ]
    }
   ],
   "source": [
    "var1 = False\n",
    "\n",
    "if var1:\n",
    "    nuova_var = 'Attenzione!'\n",
    "\n",
    "print(nuova_var)"
   ]
  },
  {
   "cell_type": "markdown",
   "metadata": {
    "slideshow": {
     "slide_type": "subslide"
    },
    "tags": []
   },
   "source": [
    "È preferibile inizializzare la variabile prima dell'`if`:"
   ]
  },
  {
   "cell_type": "code",
   "execution_count": 22,
   "metadata": {
    "slideshow": {
     "slide_type": "fragment"
    },
    "tags": []
   },
   "outputs": [
    {
     "name": "stdout",
     "output_type": "stream",
     "text": [
      "Tutto ok!\n"
     ]
    }
   ],
   "source": [
    "var1 = False\n",
    "nuova_var = 'Tutto ok!'\n",
    "\n",
    "if var1:\n",
    "    nuova_var = 'Attenzione!'\n",
    "\n",
    "print(nuova_var)"
   ]
  },
  {
   "cell_type": "markdown",
   "metadata": {
    "slideshow": {
     "slide_type": "fragment"
    },
    "tags": []
   },
   "source": [
    "Altrimenti dovete inizializzarla in ogni blocco di codice, per essere sicuri che non si verifichi un errore."
   ]
  },
  {
   "cell_type": "code",
   "execution_count": 23,
   "metadata": {
    "slideshow": {
     "slide_type": "fragment"
    },
    "tags": []
   },
   "outputs": [
    {
     "name": "stdout",
     "output_type": "stream",
     "text": [
      "Tutto ok!\n"
     ]
    }
   ],
   "source": [
    "var1 = False\n",
    "\n",
    "if var1:\n",
    "    nuova_var = 'Attenzione!'\n",
    "else:\n",
    "    nuova_var = 'Tutto ok!'\n",
    "\n",
    "print(nuova_var)"
   ]
  }
 ],
 "metadata": {
  "kernelspec": {
   "display_name": "Python 3 (ipykernel)",
   "language": "python",
   "name": "python3"
  },
  "language_info": {
   "codemirror_mode": {
    "name": "ipython",
    "version": 3
   },
   "file_extension": ".py",
   "mimetype": "text/x-python",
   "name": "python",
   "nbconvert_exporter": "python",
   "pygments_lexer": "ipython3",
   "version": "3.11.2"
  }
 },
 "nbformat": 4,
 "nbformat_minor": 4
}
