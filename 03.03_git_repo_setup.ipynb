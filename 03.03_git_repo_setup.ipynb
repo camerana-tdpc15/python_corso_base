{
 "cells": [
  {
   "cell_type": "markdown",
   "id": "ca0dd687",
   "metadata": {
    "is_toc": true
   },
   "source": [
    "**Sommario**\n",
    "- [Configurazione repository del corso](#configurazione-repository-del-corso)\n",
    "  - [Installazione di Git](#installazione-di-git)\n",
    "      - [Windows](#windows)\n",
    "      - [macOS](#macos)\n",
    "      - [Linux](#linux)\n",
    "  - [Configurazione di Git](#configurazione-di-git)\n",
    "  - [Clonare il repository del fork (*origin*)](#clonare-il-repository-del-fork-*origin*)\n",
    "  - [Aggiungere il repository originale (*upstream*)](#aggiungere-il-repository-originale-*upstream*)\n",
    "  - [Mantenere allineato il tuo branch in *origin* con l'*upstream*](#mantenere-allineato-il-tuo-branch-in-*origin*-con-l'*upstream*)"
   ]
  },
  {
   "cell_type": "markdown",
   "metadata": {},
   "source": [
    "# Configurazione repository del corso \n",
    "\n",
    "La seguente guida riassume i principali passi per configurare il repository del nostro corso e gestire correttamente il proprio branch utilizzando Visual Studio Code.\n",
    "\n",
    "Si da per scontato che tu abbia già Visual Studio Code installato.\n",
    "\n",
    "Il repository del corso su cui lavoriamo (*origin*) è un fork del repositpry originale (*upstream*).\n",
    "\n",
    "In questa guida ci riferiremo ai due repository utilizzando questi URL:\n",
    "\n",
    "- repo _**fork**_, `origin`, che può essere in uno dei due seguenti formati, dove `XXXXXX` è il codice del tuo corso:\n",
    "    - https://github.com/camerana-XXXXXX/python_corso_base\n",
    "    - https://github.com/Assocam/XXXXXX\n",
    "- repo generale, `upstream`: https://github.com/AssocamScuolaCamerana/python_corso_base\n",
    "\n",
    "\n",
    "Tu dovrai sostituire l'URL del _**fork**_ con quello del tuo corso."
   ]
  },
  {
   "cell_type": "markdown",
   "metadata": {},
   "source": [
    "![lifecycle_local_remote.png](./imgs/git/lifecycle_local_remote.png)"
   ]
  },
  {
   "cell_type": "markdown",
   "metadata": {},
   "source": [
    "## Installazione di Git \n",
    "\n",
    "Dobbiamo assicurarci che i binari di Git siano installati sul nostro sistema.\n",
    "\n",
    "Apriamo il prompt dei comandi del sistema operativo e digitando il comando `git`; se Git è installato, ci verrà stampato a monitor una breve guida, altrimenti ci verrà comunicato che il comando `git` non è stato riconosciuto. Se si verifiva quest'ultimo caso, dobbiamo procedere prima installando Git:\n",
    "\n",
    "1. Andare sul [sito ufficiale di Git](http://git-scm.com/download/win) e selezionare il file per la propria architettuera, solitamente 64-bit.\n",
    "2. Installare Git lasciando le impostazioni predefinite."
   ]
  },
  {
   "cell_type": "markdown",
   "metadata": {},
   "source": [
    "#### Windows \n",
    "\n",
    "Ci sono diversi modi per installare Git su Windows; innanzitutto, lo possiamo fare le seguente modo:\n",
    "\n",
    "1. Andare sul [sito ufficiale di Git](http://git-scm.com/download/win) e selezionare il file per la propria architettuera, solitamente 64-bit.\n",
    "2. Installare Git lasciando le impostazioni predefinite.\n",
    "\n",
    "Un altro modo semplice per installare Git è installare **GitHub Desktop**. Il suo programma di installazione include i tool per la riga di comando e un'interfaccia grafica per Git. È possibile scaricare GitHub per Windows dal [sito web di GitHub](https://desktop.github.com/)."
   ]
  },
  {
   "cell_type": "markdown",
   "metadata": {},
   "source": [
    "#### macOS \n",
    "\n",
    "Ci sono diversi modi per installare Git su Mac.\n",
    "\n",
    "È possibile installare gli strumenti a riga di comando di Xcode digitando il seguente comando nel terminale:\n",
    "\n",
    "        $ xcode-select --install\n",
    "\n",
    "Poi si può semplicemente controllare se Git è già installato:\n",
    "\n",
    "        $ git --version\n",
    "\n",
    "Se Git non è installato, verrà richiesto di installarlo.\n",
    "\n",
    "Se poi di solito usate [Homebrew](https://brew.sh/) e lo avete installato, il comando è questo:\n",
    "\n",
    "        $ brew install git\n",
    "\n",
    "Infine, come per Windows un modo semplice per installare Git è installare GitHub Desktop che, oltre a un'interfaccia grafica per Git, ha un'opzione ad hoc per installare gli strumenti per la riga di comando. È possibile scaricare GitHub per Mac dal [sito web di GitHub](https://desktop.github.com/)."
   ]
  },
  {
   "cell_type": "markdown",
   "metadata": {},
   "source": [
    "#### Linux \n",
    "\n",
    "Potete semplicemente aprire un terminale e installare l'applicazione utilizzando il gestore di pacchetti della vostra distribuzione.\n",
    "\n",
    "Per esempio, se avete una distribuzione basata su Debian come Ubuntu, provate con `apt`:\n",
    "\n",
    "        $ sudo apt install git"
   ]
  },
  {
   "cell_type": "markdown",
   "metadata": {},
   "source": [
    "## Configurazione di Git \n",
    "\n",
    "1. Apriamo il prompt dei comandi del sistema operativo impostiamo il nome per l'uso di Git tramite il comando `git config --global user.name`. Sostituire il nome con il nome del proprio account GitHub.\n",
    "\n",
    "```bash\n",
    "$ git config --global user.name \"Leonardo da Vinci\"\n",
    "```\n",
    "\n",
    "2. Sempre dal prompt dei comandi del sistema operativo impostiamo l'email per l'uso di Git tramite il comando `git config --global user.email`. Sostituire l'email con quella utilizzata con il proprio account GitHub.\n",
    "\n",
    "```bash\n",
    "$ git config --global user.email leonardo@davinci.com\n",
    "```"
   ]
  },
  {
   "cell_type": "markdown",
   "metadata": {},
   "source": [
    "## Clonare il repository del fork (*origin*) \n",
    "\n",
    "1. Apriamo una nuova finestra di VS Code da \"File > Nuova Finestra\"\n",
    "\n",
    "2. Apriamo la palette dei comandi con la combinazione `Ctrl + Maiusc + P`.\n",
    "\n",
    "3. Cerchiamo il comando \"Clone\", e clicchiamo sul comando \"Git: Clone\".\n",
    "\n",
    "4. Incolliamo l'URL del _**fork**_ corrispondente al codice del nostro corso: https://github.com/camerana-XXXXXX/python_corso_base oppure https://github.com/Assocam/XXXXXX e premiamo `Invio`.\n",
    "\n",
    "5. Selezioniamo la cartella in cui vogliamo clonare il repository e diamo conferma. All'interno di questa cartella verrà creata una cartella `python_corso_base`, che conterrà il repository.\n",
    "\n",
    "6. Infine ci verrà chiesto se ci fidiamo del codice appena scaricato, se vogliamo aprire il repositpry appena clonato e aggiungere i suoi file al workspace corrente. Accettare tutte le richieste.\n",
    "\n",
    "7. Salvate il workspace con nome in modo da poterlo aprire in modo più agevole in futuro."
   ]
  },
  {
   "cell_type": "markdown",
   "metadata": {},
   "source": [
    "## Aggiungere il repository originale (*upstream*) \n",
    "\n",
    "1. Apriamo la palette dei comandi con la combinazione `Ctrl + Maiusc + P`.\n",
    "\n",
    "2. Cerchiamo il comando \"Add Remote\" (aggiungi remote) e clicchiamo sul comando \"*Git: Add Remote...\".*\n",
    "\n",
    "2. Incolliamo l'URL del repo originale https://github.com/AssocamScuolaCamerana/python_corso_base.git e premiamo Invio.\n",
    "\n",
    "3. Dopo aver confermato, ci verrà chiesto di inserire un nome per il remote appena aggiunto. Scriviamo `upstream` e premiamo Invio.\n",
    "\n",
    "Infine procediamo ad effettuare il *fetch* da tutti i remote, così da avere l'aggiornamento della situaizone attuale:\n",
    "\n",
    "1. Apriamo la palette dei comandi con la combinazione `Ctrl + Maiusc + P`.\n",
    "\n",
    "2. Cerchiamo il comando \"Fetch from all remotes\" (aggiungi remote) e clicchiamo sul comando \"*Git: Fetch from all remotes*\"."
   ]
  },
  {
   "cell_type": "markdown",
   "metadata": {},
   "source": [
    "## Mantenere allineato il tuo branch in *origin* con l'*upstream* \n",
    "\n",
    "D'ora in avanti, se avete configurato tutto correttamente, per mantenere aggiornato il proprio branch con l'*upstream*, sarà sufficiente essere dentro il proprio branch e poi, dalla palette dei comandi (`Ctrl + Maiusc + P`):\n",
    "\n",
    "1. Lanciare semplicemente il comando \"*Git: Fetch*\" e poi selezionare `upstream/main`.\n",
    "\n",
    "2. Lanciare il comando \"*Git: Merge*\", selezionare il remote `upstream/main` ed effettuare il merge sul proprio branch."
   ]
  }
 ],
 "metadata": {
  "language_info": {
   "name": "python"
  }
 },
 "nbformat": 4,
 "nbformat_minor": 2
}
