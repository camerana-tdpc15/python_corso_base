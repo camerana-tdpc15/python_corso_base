{
 "cells": [
  {
   "cell_type": "markdown",
   "metadata": {},
   "source": [
    "# Configurazione repository del corso\n",
    "\n",
    "La seguente guida riassume i principali passi per configurare il repository del nostro corso e gestire correttamente il proprio branch utilizzando Visual Studio Code.\n",
    "\n",
    "Si da per scontato che tu abbia già Visual Studio Code installato.\n",
    "\n",
    "Il repository del corso su cui lavoriamo (*origin*) è un fork del repositpry originale (*upstream*).\n",
    "\n",
    "In questa guida ci riferiremo ai due repository utilizzando questi URL:\n",
    "\n",
    "- repo fork, *origin*: https://github.com/camerana-xxxxxx/python_corso_base\n",
    "- repo originale, *upstream*: https://github.com/AssocamScuolaCamerana/python_corso_base\n",
    "\n",
    "Tu dovrai sostituire l'URL del fork con quello del tuo corso."
   ]
  },
  {
   "cell_type": "markdown",
   "metadata": {},
   "source": [
    "![lifecycle_local_remote.png](./imgs/git/lifecycle_local_remote.png)"
   ]
  },
  {
   "cell_type": "markdown",
   "metadata": {},
   "source": [
    "## 1. Installazione di Git\n",
    "\n",
    "Dobbiamo assicurarci che i binari di Git siano installati sul nostro sistema.\n",
    "\n",
    "Apriamo il prompt dei comandi del sistema operativo e digitando il comando `git`; se Git è installato, ci verrà stampato a monitor una breve guida, altrimenti ci verrà comunicato che il comando `git` non è stato riconosciuto. Se si verifiva quest'ultimo caso, dobbiamo procedere prima installando Git:\n",
    "\n",
    "1. Andare sul [sito ufficiale di Git](http://git-scm.com/download/win) e selezionare il file per la propria architettuera, solitamente 64-bit.\n",
    "2. Installare Git lasciando le impostazioni predefinite."
   ]
  },
  {
   "cell_type": "markdown",
   "metadata": {},
   "source": [
    "## 2. Configurazione di Git\n",
    "\n",
    "1. Apriamo il prompt dei comandi del sistema operativo impostiamo il nome per l'uso di Git tramite il comando `git config --global user.name`. Sostituire il nome con il nome del proprio account GitHub.\n",
    "\n",
    "```bash\n",
    "$ git config --global user.name \"Leonardo da Vinci\"\n",
    "```\n",
    "\n",
    "2. Apriamo il prompt dei comandi del sistema operativo impostiamo l'email per l'uso di Git tramite il comando `git config --global user.email`. Sostituire l'email con quella utilizzata con il proprio account GitHub.\n",
    "\n",
    "```bash\n",
    "$ git config --global user.email leonardo@davinci.com\n",
    "```"
   ]
  },
  {
   "cell_type": "markdown",
   "metadata": {},
   "source": [
    "## 3. Clonare il repository del fork (*origin*)\n",
    "\n",
    "1. Apriamo una nuova finestra di VS Code da \"File > Nuova Finestra\"\n",
    "2. Apriamo la palette dei comandi con la combinazione `Ctrl + Maiusc + P`.\n",
    "3. Cerchiamo il comando \"Clone\", e clicchiamo sul comando \"Git: Clone\".\n",
    "4. Incolliamo l'URL del fork: https://github.com/camerana-xxxxxx/python_corso_base e premiamo `Invio`.\n",
    "5. Selezioniamo la cartella in cui vogliamo clonare il repository e diamo conferma. All'interno di questa cartella verrà creata una cartella `python_corso_base`, che conterrà il repository.\n",
    "6. Infine ci verrà chiesto se ci fidiamo del codice appena scaricato, se vogliamo aprire il repositpry appena clonato e aggiungere i suoi file al workspace corrente. Accettare tutte le richieste.\n",
    "7. Salvate il workspace con nome in modo da poterlo aprire in modo più agevole in futuro."
   ]
  },
  {
   "cell_type": "markdown",
   "metadata": {},
   "source": [
    "## 4. Aggiungere il repository originale (*upstream*)\n",
    "1. Da VS Code, cercare il comando \"Add Remote\" (aggiungi remote) e clicchiamo sul comando \"Git: Add Remote...\".\n",
    "2. Incolliamo l'URL del repo originale https://github.com/AssocamScuolaCamerana/python_corso_base.git e premiamo Invio.\n",
    "3. Dopo aver confermato, ci verrà chiesto di inserire un nome per il remote appena aggiunto. Scriviamo `upstream` e premiamo Invio."
   ]
  },
  {
   "cell_type": "markdown",
   "metadata": {},
   "source": [
    "## 5. Mantenere allineato il tuo branch in *origin* con l'*upstream*\n",
    "\n",
    "Ora procediamo ad effettuare il fetch da tutti i remote, così da avere l'aggiornamento della situaizone attuale:\n",
    "\n",
    "- Lancia il comando \"Pull, Push\" > \"Fetch from all remotes\".\n",
    "\n",
    "D'ora in avanti, se avete configurato tutto correttamente, per mantenere aggiornato il proprio branch con l'*upstream*, sarà sufficiente essere dentro il proprio branch e poi:\n",
    "\n",
    "1. Lanciare semplicemente il comando \"Fetch\" e poi selezionare *upstream/main*.\n",
    "2. Lanciare il comando \"Branch\" > \"Merge...\", selezionare il remote *upstream/main* ed effettuare il merge sul proprio branch."
   ]
  }
 ],
 "metadata": {
  "language_info": {
   "name": "python"
  }
 },
 "nbformat": 4,
 "nbformat_minor": 2
}
