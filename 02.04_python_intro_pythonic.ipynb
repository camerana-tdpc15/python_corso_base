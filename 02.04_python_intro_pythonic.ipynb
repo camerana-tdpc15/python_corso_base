{
 "cells": [
  {
   "cell_type": "markdown",
   "id": "f6f6e894",
   "metadata": {
    "is_toc": true
   },
   "source": [
    "**Sommario**\n",
    "  - [Filosofia di Python: *The Zen of Python*](#filosofia-di-python-*the-zen-of-python*)\n",
    "    - [Pensa pitonico!](#pensa-pitonico!)\n",
    "    - [Altri *easter egg*](#altri-*easter-egg*)\n",
    "  - [Stile di scrittura del codice e buone pratiche: PEP 8](#stile-di-scrittura-del-codice-e-buone-pratiche-pep-8)\n",
    "    - [La lunghezza di una riga](#la-lunghezza-di-una-riga)\n",
    "    - [Evitare gli spazi extra](#evitare-gli-spazi-extra)\n",
    "    - [Virgolette o apici?](#virgolette-o-apici?)\n",
    "    - [Riassumendo (PEP 8)](#riassumendo-pep-8)"
   ]
  },
  {
   "cell_type": "markdown",
   "metadata": {
    "slideshow": {
     "slide_type": "slide"
    },
    "tags": []
   },
   "source": [
    "## Filosofia di Python: *The Zen of Python*"
   ]
  },
  {
   "cell_type": "markdown",
   "metadata": {
    "slideshow": {
     "slide_type": "fragment"
    },
    "tags": []
   },
   "source": [
    "Python è stato concepito con un design che segue una filosofia di programmazione ben definita e enunciata dallo stesso Guido Van Rossum in più occasioni."
   ]
  },
  {
   "cell_type": "markdown",
   "metadata": {
    "slideshow": {
     "slide_type": "fragment"
    },
    "tags": []
   },
   "source": [
    "Egli ricorda che 1999 presentò alla [DARPA](https://it.wikipedia.org/wiki/Defense_Advanced_Research_Projects_Agency) una proposta di finanziamento intitolata \"Computer Programming for Everybody\" (programmazione per tutti), in cui definì i suoi obiettivi per Python:"
   ]
  },
  {
   "cell_type": "markdown",
   "metadata": {
    "slideshow": {
     "slide_type": "fragment"
    },
    "tags": []
   },
   "source": [
    "- Un linguaggio semplice, intuitivo e potente quanto i principali concorrenti.\n",
    "- Open source, in modo che chiunque possa contribuire al suo sviluppo.\n",
    "- Un codice facilmente comprensibile, come un linguaggio naturale (plain English).\n",
    "- Adatto ai compiti di tutti i giorni e dunque in grado di consentire tempi di sviluppo brevi."
   ]
  },
  {
   "cell_type": "markdown",
   "metadata": {
    "slideshow": {
     "slide_type": "subslide"
    },
    "tags": []
   },
   "source": [
    "Questi quattro punti cardinali sono stati rielaborati da Tim Peters nei principi “filosofici” esplicitati nel documento “[PEP 20 - The Zen of Python](https://peps.python.org/pep-0020/)”, una sorta di Bibbia per gli amatori di questo linguaggio."
   ]
  },
  {
   "cell_type": "markdown",
   "metadata": {
    "slideshow": {
     "slide_type": "fragment"
    },
    "tags": []
   },
   "source": [
    "In questo documento, visualizzabile eseguendo il comando `import this`, sono elencati degli aforismi che spiegano cosa ci sia stato dietro la nascita di Python e come dovrà proseguire il suo sviluppo."
   ]
  },
  {
   "cell_type": "code",
   "execution_count": 1,
   "metadata": {
    "slideshow": {
     "slide_type": "subslide"
    },
    "tags": []
   },
   "outputs": [
    {
     "name": "stdout",
     "output_type": "stream",
     "text": [
      "The Zen of Python, by Tim Peters\n",
      "\n",
      "Beautiful is better than ugly.\n",
      "Explicit is better than implicit.\n",
      "Simple is better than complex.\n",
      "Complex is better than complicated.\n",
      "Flat is better than nested.\n",
      "Sparse is better than dense.\n",
      "Readability counts.\n",
      "Special cases aren't special enough to break the rules.\n",
      "Although practicality beats purity.\n",
      "Errors should never pass silently.\n",
      "Unless explicitly silenced.\n",
      "In the face of ambiguity, refuse the temptation to guess.\n",
      "There should be one-- and preferably only one --obvious way to do it.\n",
      "Although that way may not be obvious at first unless you're Dutch.\n",
      "Now is better than never.\n",
      "Although never is often better than *right* now.\n",
      "If the implementation is hard to explain, it's a bad idea.\n",
      "If the implementation is easy to explain, it may be a good idea.\n",
      "Namespaces are one honking great idea -- let's do more of those!\n"
     ]
    }
   ],
   "source": [
    "import this"
   ]
  },
  {
   "cell_type": "markdown",
   "metadata": {
    "slideshow": {
     "slide_type": "subslide"
    },
    "tags": []
   },
   "source": [
    "\"The Zen of Python\" è stato [*hard coded*](https://en.wikipedia.org/wiki/Hard_coding) nel core di Python nel 2004 come [*easter egg*](https://it.wikipedia.org/wiki/Easter_egg). In teoria dovrebbero essere 20 aforismi ma, ad oggi, solo 19 sono stati scritti, come enunciato dall'abstract del [PEP 20](https://peps.python.org/pep-0020/):"
   ]
  },
  {
   "cell_type": "markdown",
   "metadata": {
    "slideshow": {
     "slide_type": "fragment"
    },
    "tags": []
   },
   "source": [
    "> ABSTRACT: *Tim Peters, pitonista di lunga data, sintetizza i principi guida del [BDFL](https://it.wikipedia.org/wiki/Benevolo_Dittatore_a_Vita) per la progettazione di Python in 20 aforismi, di cui solo 19 sono stati scritti.*"
   ]
  },
  {
   "cell_type": "markdown",
   "metadata": {
    "slideshow": {
     "slide_type": "subslide"
    },
    "tags": []
   },
   "source": [
    "A scanso di equivoci, come suggerisce la regola n.2, proviamo a tradurre in italiano:\n",
    "\n",
    "```\n",
    "    1. Bello è meglio di brutto.\n",
    "    2. Esplicito è meglio di implicito.\n",
    "    3. Semplice è meglio di complesso.\n",
    "    4. Complesso è meglio di complicato.\n",
    "    5. Lineare è meglio di nidificato.\n",
    "    6. Sparso è meglio di denso.\n",
    "    7. La leggibilità è importante.\n",
    "    8. I casi speciali non sono abbastanza speciali per infrangere le regole.\n",
    "    9. Anche se la praticità batte la purezza.\n",
    "    10. Gli errori non devono mai passare in silenzio.\n",
    "    11. A meno che non siano stati esplicitamente silenziati.\n",
    "    12. Davanti all’ambiguità, rifiuta la tentazione di indovinare.\n",
    "    13. Ci dovrebbe essere un-- e preferibilmente solo un --modo ovvio per farlo.\n",
    "    14. Anche se all'inizio quel modo potrebbe non essere ovvio, a meno che tu non sia olandese.\n",
    "    15. Adesso è meglio che mai.\n",
    "    16. Anche se \"mai\" è sovente meglio di *proprio* adesso.\n",
    "    17. Se l’implementazione è difficile da spiegare, è una cattiva idea.\n",
    "    18. Se l’implementazione è facile da spiegare, potrebbe essere una buona idea.\n",
    "    19. I namespace sono un'idea grandiosa -- cerchiamo di farne di più!\n",
    "```"
   ]
  },
  {
   "cell_type": "markdown",
   "metadata": {
    "slideshow": {
     "slide_type": "subslide"
    },
    "tags": []
   },
   "source": [
    "### Pensa pitonico!"
   ]
  },
  {
   "cell_type": "markdown",
   "metadata": {
    "slideshow": {
     "slide_type": "fragment"
    },
    "tags": []
   },
   "source": [
    "A volte si sente descrivere del codice come particolarmente \"pitonico\" oppure dire che una scelta è più \"pitonica\" rispetto ad un'altra."
   ]
  },
  {
   "cell_type": "markdown",
   "metadata": {
    "slideshow": {
     "slide_type": "fragment"
    },
    "tags": []
   },
   "source": [
    "L'aggettivo \"pitonico\" o \"pythonico\" è generalmente usato per descrivere del codice facilmente leggibile, conciso e reso più efficiente dal fatto che si utilizzano le caratteristiche integrate di Python a proprio vantaggio."
   ]
  },
  {
   "cell_type": "markdown",
   "metadata": {
    "slideshow": {
     "slide_type": "fragment"
    },
    "tags": []
   },
   "source": [
    "\"Pitonico\" è dunque anche uno stile di codifica idiomatico che si concentra principalmente sulla leggibilità e manutenibilità del codice seguendo i principi del \"The Zen of Python\"."
   ]
  },
  {
   "cell_type": "markdown",
   "metadata": {
    "slideshow": {
     "slide_type": "notes"
    },
    "tags": []
   },
   "source": [
    "Ci accorgeremo in fretta che Python è così ben sviluppato e che ci sono troppe funzioni da imparare, da rendere impossibile o perlmeno poco saggio cercare di imparare tutto e subito. È invece molto meglio concentrarsi sulle abilità essenziali che molto probabilmente userete nei vostri progetti e imparare a scrivere codice in modo pitonico affrontando i compiti di programmazione più comuni."
   ]
  },
  {
   "cell_type": "markdown",
   "metadata": {
    "slideshow": {
     "slide_type": "fragment"
    },
    "tags": []
   },
   "source": [
    "Cercare di sviluppare buone abitudini di programmazione che incrementino la leggibilità e la manutenibilità del codice, sarà una cosa che i vostri amici, colleghi e soprattutto voi stessi a distanza di tempo, apprezzerete senza dubbio."
   ]
  },
  {
   "cell_type": "markdown",
   "metadata": {
    "slideshow": {
     "slide_type": "subslide"
    },
    "tags": []
   },
   "source": [
    "### Altri *easter egg*"
   ]
  },
  {
   "cell_type": "markdown",
   "metadata": {
    "slideshow": {
     "slide_type": "fragment"
    },
    "tags": []
   },
   "source": [
    "Prova a scrivere questi comandi nell'interprete interattivo di Python:\n",
    "```python\n",
    "import __hello__\n",
    "\n",
    "import antigravity\n",
    "\n",
    "from __future__ import braces\n",
    "\n",
    "from __future__ import barry_as_FLUFL\n",
    "```"
   ]
  },
  {
   "cell_type": "markdown",
   "metadata": {
    "slideshow": {
     "slide_type": "subslide"
    },
    "tags": []
   },
   "source": [
    "## Stile di scrittura del codice e buone pratiche: PEP 8"
   ]
  },
  {
   "cell_type": "markdown",
   "metadata": {
    "slideshow": {
     "slide_type": "fragment"
    },
    "tags": []
   },
   "source": [
    "Come scrivere codice pulito e facile da leggere?"
   ]
  },
  {
   "cell_type": "markdown",
   "metadata": {
    "slideshow": {
     "slide_type": "notes"
    },
    "tags": []
   },
   "source": [
    "Questa è la domanda che ci si pone quando si passa da semplici programmi a riga singola a programmi più complicati. All'inizio può sembrare poco importante, ma nella vita reale la programmazione è un processo che coinvolge molte persone che lavorano insieme, quindi si passa più tempo a leggere il codice che a scriverlo.\n",
    "\n",
    "Sebbene Python sia spesso più leggibile di altri linguaggi di programmazione grazie alla sua sintassi minimalista, la sintassi in sé non è sufficiente. È il modo in cui si scrive il codice che influisce sulla leggibilità generale."
   ]
  },
  {
   "cell_type": "markdown",
   "metadata": {
    "slideshow": {
     "slide_type": "fragment"
    },
    "tags": []
   },
   "source": [
    "È necessario seguire delle convenzioni comuni sullo stile di programmazione, in modo che gli altri programmatori siano in grado di leggere facilmente il vostro codice."
   ]
  },
  {
   "cell_type": "markdown",
   "metadata": {
    "slideshow": {
     "slide_type": "fragment"
    },
    "tags": []
   },
   "source": [
    "Ma dove possiamo trovare queste convenzioni?"
   ]
  },
  {
   "cell_type": "markdown",
   "metadata": {
    "slideshow": {
     "slide_type": "fragment"
    },
    "tags": []
   },
   "source": [
    "Esiste un documento che si chiama [**PEP 8**](https://peps.python.org/pep-0008/) dal titolo \"**Style Guide for Python Code**\". L'idea chiave è quella di utilizzare lo stesso stile di codice per tutti i progetti Python, come se fossero stati scritti dallo stesso programmatore. Questo documento garantisce che anche un principiante possa capire facilmente il codice scritto da un qualsiasi altro sviluppatore."
   ]
  },
  {
   "cell_type": "markdown",
   "metadata": {
    "slideshow": {
     "slide_type": "notes"
    },
    "tags": []
   },
   "source": [
    "Prima di andare avanti, parliamo un attimo dei PEP."
   ]
  },
  {
   "cell_type": "markdown",
   "metadata": {
    "slideshow": {
     "slide_type": "subslide"
    },
    "tags": []
   },
   "source": [
    "**PEP** è l'acronimo di _**Python Enhancement Proposal**_. Sono documenti che forniscono proposte di sviluppo, linee guida e convenzioni da condividere con la comunità di sviluppatori Python."
   ]
  },
  {
   "cell_type": "markdown",
   "metadata": {
    "slideshow": {
     "slide_type": "notes"
    },
    "tags": []
   },
   "source": [
    "Esistono diversi tipi di PEP e quello più utile per i principianti è il PEP di tipo informativo. I PEP di questo tipo descrivono in genere linee guida o convenzioni comunemente accettate sul linguaggio, quindi possono essere molto utili. Oltre alla PEP 8, che è una guida di stile ufficiale, abbiamo già visto l'altra grande PEP, la PEP 20, ovvero lo Zen di Python."
   ]
  },
  {
   "cell_type": "markdown",
   "metadata": {
    "slideshow": {
     "slide_type": "fragment"
    },
    "tags": []
   },
   "source": [
    "Ora che sappiamo cos'è la PEP 8, andiamo a elencare le cose più importanti da tenere presenti in questa fase dell'apprendimento. Man mano che vedremo e studieremo le varie parti di Python, faremo anche riferimento alla PEP 8 e vedremo che cosa essa ci suggerisce."
   ]
  },
  {
   "cell_type": "markdown",
   "metadata": {
    "slideshow": {
     "slide_type": "subslide"
    },
    "tags": []
   },
   "source": [
    "### La lunghezza di una riga\n",
    "Non utilizzare più di [79 caratteri in una riga](https://en.wikipedia.org/wiki/Characters_per_line) di codice. Le righe più corte vengono visualizzate meglio negli editor di codice. Più avanti impareremo diversi modi per rispettare questa regola."
   ]
  },
  {
   "cell_type": "markdown",
   "metadata": {
    "slideshow": {
     "slide_type": "subslide"
    },
    "tags": []
   },
   "source": [
    "### Evitare gli spazi extra\n",
    "\n",
    "A volte si possono aggiungere degli spazi anche se non sono necessari. Questo però, a volte, riduce la leggibilità del codice."
   ]
  },
  {
   "cell_type": "markdown",
   "metadata": {
    "slideshow": {
     "slide_type": "fragment"
    },
    "tags": []
   },
   "source": [
    "Evitate spazi extra all'interno delle parentesi.\n",
    "\n",
    "Bene:\n",
    "\n",
    "```python\n",
    "print('Hello!')\n",
    "```\n",
    "\n",
    "Male:\n",
    "\n",
    "```python\n",
    "print( 'Hello!' )\n",
    "```"
   ]
  },
  {
   "cell_type": "markdown",
   "metadata": {
    "slideshow": {
     "slide_type": "subslide"
    },
    "tags": []
   },
   "source": [
    "Evitate spazi extra prima di una parentesi di apertura di una chiamata.\n",
    "\n",
    "Bene:\n",
    "\n",
    "```python\n",
    "print('some text')\n",
    "```\n",
    "\n",
    "Male:\n",
    "\n",
    "```python\n",
    "print ('some text')\n",
    "```"
   ]
  },
  {
   "cell_type": "markdown",
   "metadata": {
    "slideshow": {
     "slide_type": "subslide"
    },
    "tags": []
   },
   "source": [
    "### Virgolette o apici?\n",
    "\n",
    "Come già detto, per definire le stringhe si possono usare sia gli apici singoli che quelli doppi. Scegliete quello che più vi piace e usatelo con coerenza nel vostro codice e, se state modificando codice scritto da altri, mantenete la coerenza attenedovi allo stile preesistente. "
   ]
  },
  {
   "cell_type": "markdown",
   "metadata": {
    "slideshow": {
     "slide_type": "subslide"
    },
    "tags": []
   },
   "source": [
    "L'unica raccomandazione della PEP 8 è che se una stringa contiene apici singoli, si dovrebbero usare quelli doppi e viceversa. Questo per evitare l'uso del backslash.\n",
    "\n",
    "Bene:\n",
    "\n",
    "```python\n",
    "print(\"It's a good string!\")\n",
    "print('What is a \"good string\"?')\n",
    "```"
   ]
  },
  {
   "cell_type": "markdown",
   "metadata": {
    "slideshow": {
     "slide_type": "fragment"
    },
    "tags": []
   },
   "source": [
    "Male e difficile da leggere:\n",
    "\n",
    "```python\n",
    "print('It\\'s a bad string!')\n",
    "print(\"What is a \\\"bad string\\\"?\")\n",
    "```"
   ]
  },
  {
   "cell_type": "markdown",
   "metadata": {
    "slideshow": {
     "slide_type": "fragment"
    },
    "tags": []
   },
   "source": [
    "Il backslash in questo caso è un [carattere di escape](https://en.wikipedia.org/wiki/Escape_character) usato per indicare che la virgoletta (doppia o singola) che segue non è la fine della stringa; lo si imparerà in dettaglio più avanti."
   ]
  },
  {
   "cell_type": "markdown",
   "metadata": {
    "slideshow": {
     "slide_type": "fragment"
    },
    "tags": []
   },
   "source": [
    "Secondo la PEP 8, evitare i backslash migliora la leggibilità del codice. Quindi, anche se l'esempio con i backslash funziona, notate quanto il primo esempio sia più facile da leggere."
   ]
  },
  {
   "cell_type": "markdown",
   "metadata": {
    "slideshow": {
     "slide_type": "subslide"
    },
    "tags": []
   },
   "source": [
    "### Riassumendo (PEP 8)"
   ]
  },
  {
   "cell_type": "markdown",
   "metadata": {
    "slideshow": {
     "slide_type": "fragment"
    },
    "tags": []
   },
   "source": [
    "In questo capitolo abbiamo scoperto cos'è la PEP 8, dove trovarla e come consultarla. Riassumiamo brevemente i punti principali che abbiamo discusso:"
   ]
  },
  {
   "cell_type": "markdown",
   "metadata": {
    "slideshow": {
     "slide_type": "fragment"
    },
    "tags": []
   },
   "source": [
    "- la lunghezza di una riga di codice non dovrebbe superare i 79 caratteri;\n",
    "- gli spazi extra devono essere evitati all'interno delle parentesi e prima di una parentesi di chiamata;\n",
    "- le virgolette devono essere usate in modo coerente e/o per evitare i backslash."
   ]
  },
  {
   "cell_type": "markdown",
   "metadata": {
    "slideshow": {
     "slide_type": "notes"
    },
    "tags": []
   },
   "source": [
    "In seguito, imparerete molte cose su Python e diventerete programmatori più abili, ma seguire lo stile del codice rimarrà sempre importante. Non preoccupatevi, però: non è necessario imparare tutte le convenzioni in una volta sola; basta aprirle di tanto in tanto dopo aver imparato qualcosa di nuovo. In questo corso forniremo anche i riferimenti a queste convenzioni."
   ]
  }
 ],
 "metadata": {
  "kernelspec": {
   "display_name": "Python 3 (ipykernel)",
   "language": "python",
   "name": "python3"
  },
  "language_info": {
   "codemirror_mode": {
    "name": "ipython",
    "version": 3
   },
   "file_extension": ".py",
   "mimetype": "text/x-python",
   "name": "python",
   "nbconvert_exporter": "python",
   "pygments_lexer": "ipython3",
   "version": "3.11.2"
  },
  "vscode": {
   "interpreter": {
    "hash": "20e40d8fc09a6690434ad602c7eb2d8de15d36ec466bfbfb0de97c7c540d7363"
   }
  }
 },
 "nbformat": 4,
 "nbformat_minor": 4
}
