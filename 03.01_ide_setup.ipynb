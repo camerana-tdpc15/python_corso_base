{
 "cells": [
  {
   "cell_type": "markdown",
   "metadata": {
    "slideshow": {
     "slide_type": "skip"
    },
    "tags": []
   },
   "source": [
    "**Sommario**<a id='toc0_'></a>    \n",
    "- [Prepararsi a programmare con Python](#toc1_)    \n",
    "  - [Ambiente di sviluppo](#toc1_1_)    \n",
    "    - [Principali IDE ed editor di codice usati con Python](#toc1_1_1_)    \n",
    "    - [Installazione e configurazione di Visual Studio Code](#toc1_1_2_)    \n",
    "      - [Linting](#toc1_1_2_1_)    \n",
    "      - [Workspace (area di lavoro)](#toc1_1_2_2_)    \n",
    "    - [Ricerca di testo nei file](#toc1_1_3_)    \n",
    "  - [Jupyter Notebook](#toc1_2_)    \n",
    "    - [Installazione in locale](#toc1_2_1_)    \n",
    "    - [Avvio del server](#toc1_2_2_)    \n",
    "    - [L'interfaccia](#toc1_2_3_)    \n",
    "    - [Esempio di programma](#toc1_2_4_)    \n",
    "    - [Riassumendo](#toc1_2_5_)    \n",
    "    - [Markdown](#toc1_2_6_)    \n",
    "      - [Un po' di storia](#toc1_2_6_1_)    \n",
    "      - [Un po' di cultura generale](#toc1_2_6_2_)    \n",
    "    - [Google Colab](#toc1_2_7_)    \n",
    "\n",
    "<!-- vscode-jupyter-toc-config\n",
    "\tnumbering=false\n",
    "\tanchor=true\n",
    "\tflat=false\n",
    "\tminLevel=1\n",
    "\tmaxLevel=6\n",
    "\t/vscode-jupyter-toc-config -->\n",
    "<!-- THIS CELL WILL BE REPLACED ON TOC UPDATE. DO NOT WRITE YOUR TEXT IN THIS CELL -->"
   ]
  },
  {
   "cell_type": "markdown",
   "metadata": {},
   "source": [
    "# <a id='toc1_'></a>Prepararsi a programmare con Python [&#8593;](#toc0_)"
   ]
  },
  {
   "cell_type": "markdown",
   "metadata": {},
   "source": [
    "## <a id='toc1_1_'></a>Ambiente di sviluppo [&#8593;](#toc0_)"
   ]
  },
  {
   "cell_type": "markdown",
   "metadata": {
    "slideshow": {
     "slide_type": "notes"
    },
    "tags": []
   },
   "source": [
    "Scrivere un programma comporta tutta una serie di compiti: scrivere il codice, trovare e correggere gli errori che inevitabilmente si presentano, poi il codice deve essere compilato, eseguito e documentato. E indovinate un po', tutto questo deve essere fatto più e più volte (e questo è semplicemente fantastico). Con semplici programmi come \"Hello World\", è possibile eseguire queste operazioni utilizzando un semplice editor di testo per scrivere il codice sorgente e una serie di strumenti per tradurre e avviare i programmi. Alcuni editor di testo possono anche evidenziare la sintassi, semplificando il processo di scrittura, ma questo potrebbe non essere sufficiente per lavorare su qualcosa di più grande e complesso."
   ]
  },
  {
   "cell_type": "markdown",
   "metadata": {
    "slideshow": {
     "slide_type": "fragment"
    },
    "tags": []
   },
   "source": [
    "Come sviluppatori professionisti, avete bisogno di uno strumento specializzato per navigare tra i file dei vostri programmi, modificarli, compilarli, eseguirli ed eseguirne il debug, visualizzare gli errori di sintassi e così via."
   ]
  },
  {
   "cell_type": "markdown",
   "metadata": {
    "slideshow": {
     "slide_type": "fragment"
    },
    "tags": []
   },
   "source": [
    "Un ambiente di sviluppo integrato (_**Integrated Development Environment**_ o _**IDE**_) è proprio questo: offre un unico programma con cui gli sviluppatori possono gestire tutti questi compiti comuni."
   ]
  },
  {
   "cell_type": "markdown",
   "metadata": {
    "slideshow": {
     "slide_type": "notes"
    },
    "tags": []
   },
   "source": [
    "Gli IDE sono stati creati per massimizzare la produttività del programmatore attraverso componenti ben integrati tra loro e con interfacce utente possibilmente intuitive. Ciò consente allo sviluppatore, rispetto ad usare programmi di sviluppo separati, di eseguire un minor numero di passaggi per passare da una modalità di lavoro all'altra. Tuttavia, i moderni IDE sono software abbastanza complessi. Ciò significa che si può ottenere un'accelerazione e un miglioramento del processo di lavoro solo dopo aver seguito una specifica formazione. Comunque, anche in questo caso non ci sono grosse difficoltà: molti IDE sono abbastanza intuitivi e le interfacce dei diversi produttori sono spesso molto simili, quindi non è troppo difficile passare da un IDE all'altro.\n",
    "\n",
    "Esistono molti IDE per diversi linguaggi di programmazione. Alcuni supportano un solo linguaggio, mentre altri ne supportano diversi o possono essere estesi con dei plugin. Ad esempio, alcuni IDE che supportano più linguaggi sono Eclipse, NetBeans, Android Studio, Visual Studio Code, IntelliJ IDEA. Degli IDE per un linguaggio di programmazione specifico sono invece Delphi, Dev-C++, IDLE per Python, PyCharm. Tutti gli ambienti qua citati possono essere eseguiti su Windows, Mac OS o GNU/Linux."
   ]
  },
  {
   "cell_type": "markdown",
   "metadata": {
    "slideshow": {
     "slide_type": "subslide"
    },
    "tags": []
   },
   "source": [
    "In generale, un ambiente di sviluppo comprende:\n",
    "\n",
    "- Un **editor di testo**, progettato per lavorare con i file di testo in modo interattivo. Permette di visualizzare il contenuto dei file di testo e di eseguire varie azioni come\n",
    "    - l'inserimento, l'eliminazione e la copia del testo,\n",
    "    - la ricerca a tutto testo (*full-text search*) all'interno di uno o opiù file,\n",
    "    - la sostituzione, l'ordinamento delle stringhe,\n",
    "    - la visualizzazione dei codici dei caratteri e la conversione delle codifiche,\n",
    "    - l'evidenziazione della sintassi (_**syntax highlighting**_),\n",
    "    - l'analisi del codice sorgente per evidenziare errori di programmazione, bug, errori stilistici e costrutti sospetti (_**lint**_).\n",
    "- Un **traduttore** (compilatore e/o interprete), che traduce un testo scritto in un linguaggio di programmazione in codice macchina e lo fa immediatamente prima di avviare il programma (compilazione) o riga per riga (interpretazione).\n",
    "- Strumenti di **automazione** dei test e della compilazione/pacchettizzazione, che preparano il codice e mettono tutto insieme.\n",
    "- Un **debugger**, che cerca gli errori nel codice e li segnala."
   ]
  },
  {
   "cell_type": "markdown",
   "metadata": {
    "slideshow": {
     "slide_type": "notes"
    },
    "tags": []
   },
   "source": [
    "In linea di massima, l'uso di un IDE rende lo sviluppatore più produttivo, perché un IDE fornisce componenti ben integrati fra loro e con un'interfaccia utente simile. Inoltre, automatizza alcune attività di routine e fornisce persino consigli e feedback. Tutto questo perché lo scopo dell'ambiente integrato è quello di combinare varie utility in un unico prodotto. Questo approccio consente agli sviluppatori di concentrarsi sulla risoluzione dei loro problemi principali, mentre le operazioni comuni e standard sono gestite dall'IDE."
   ]
  },
  {
   "cell_type": "markdown",
   "metadata": {
    "slideshow": {
     "slide_type": "subslide"
    },
    "tags": []
   },
   "source": [
    "Per riassumere:\n",
    "- un IDE è uno strumento specializzato che consente di navigare tra progetti con più file, modificarli, compilarli, eseguirli, eseguirne il debug e visualizzare anche gli errori di sintassi;\n",
    "- gli IDE più moderni hanno un'interfaccia grafica e sono interattivi;\n",
    "- alcuni IDE supportano un solo linguaggio, mentre altri supportano più linguaggi."
   ]
  },
  {
   "cell_type": "markdown",
   "metadata": {},
   "source": [
    "### <a id='toc1_1_1_'></a>Principali IDE ed editor di codice usati con Python [&#8593;](#toc0_)\n",
    "\n",
    "|Nome|Licenza|Note|\n",
    "|----|-------|----|\n",
    "|IDLE|Python Software Foundation License (PSFL)|In bundle con il pacchetto di installazione di Python|\n",
    "|Visual Studio Code|MIT License + proprietarie|Microsoft|\n",
    "|PyCharm  CE|Apache License 2.0|JetBrains (azienda ceca)|\n",
    "|Eclipse (PyDev)|Eclipse Public License (EPL)|Eclipse Foundation (consorzio interaziendale)|\n",
    "|Spyder|MIT License|Collettivo di sviluppatori|\n",
    "|JupyterNotebook/JupyterLab|BSD syle|Jupyter Development Team (collettivo di sviluppatori)|\n",
    "|GitHub Codespaces|basato su Visual Studio Code<br/>(proprietaria - servizio online)|GitHub-Microsoft|\n",
    "|Sublime Text|proprietaria|Jon Skinner (Sublime HQ)|\n",
    "|Vim|VIM License|Bram Moolenaar et al.|"
   ]
  },
  {
   "cell_type": "markdown",
   "metadata": {},
   "source": [
    "### <a id='toc1_1_2_'></a>Installazione e configurazione di Visual Studio Code [&#8593;](#toc0_)\n",
    "\n",
    "![vscode_logo.png](./imgs/vscode/vscode_logo.png)"
   ]
  },
  {
   "cell_type": "markdown",
   "metadata": {
    "slideshow": {
     "slide_type": "fragment"
    },
    "tags": []
   },
   "source": [
    "**[Visual Studio Code](https://code.visualstudio.com/)** (per gli amici **VS Code** o semplicemente `vscode`) è un IDE open source e un editor di codice sorgente realizzato da Microsoft con l'[Electron Framework](https://it.wikipedia.org/wiki/Electron_(framework)), per piattaforme Windows, Linux e macOS. È un software libero e gratuito, anche se la versione ufficiale distribuita da Microsoft contiene alcuni componenti sotto licenze proprietarie."
   ]
  },
  {
   "cell_type": "markdown",
   "metadata": {
    "slideshow": {
     "slide_type": "notes"
    },
    "tags": []
   },
   "source": [
    "Nel sondaggio Stack Overflow 2021 Developer Survey, Visual Studio Code è stato classificato come il più popolare tra gli ambienti di sviluppo tra gli 82.000 intervistati, con il 70% che ha dichiarato di utilizzarlo."
   ]
  },
  {
   "cell_type": "markdown",
   "metadata": {
    "slideshow": {
     "slide_type": "subslide"
    },
    "tags": []
   },
   "source": [
    "Tra le sue funzionalità principali vi sono:\n",
    "\n",
    "- supporto per il [debug](https://code.visualstudio.com/docs/editor/debugging),\n",
    "- syntax highlighting,\n",
    "- completamento intelligente del codice ([IntelliSense](https://code.visualstudio.com/docs/editor/intellisense)),\n",
    "- supporto per gli [snippet](https://code.visualstudio.com/docs/editor/userdefinedsnippets) e la sintassi [Emmet](https://code.visualstudio.com/docs/editor/emmet),\n",
    "- strumenti per il [refactoring del codice](https://code.visualstudio.com/docs/editor/refactoring),\n",
    "- [client Git](https://code.visualstudio.com/docs/sourcecontrol/overview) incorporato."
   ]
  },
  {
   "cell_type": "markdown",
   "metadata": {
    "slideshow": {
     "slide_type": "subslide"
    },
    "tags": []
   },
   "source": [
    "Gli utenti possono personalizzare il proprio ambiente di svilupppo modificado il [tema grafico](https://code.visualstudio.com/docs/getstarted/themes), le [scorciatoie da tastiera](https://code.visualstudio.com/docs/getstarted/keybindings) e le [preferenze](https://code.visualstudio.com/docs/getstarted/settings).\n",
    "Tramite l'[Extension Marketplace](https://marketplace.visualstudio.com/vscode) è inoltre possibile installare [estensioni ufficiali o di terze parti](https://code.visualstudio.com/docs/editor/extension-marketplace) che aggiungono ulteriori funzionalità. Naturalmente è possibile [creare le proprie estensioni](https://code.visualstudio.com/api) per personalizzare VS Code nei minimi dettagli."
   ]
  },
  {
   "cell_type": "markdown",
   "metadata": {
    "slideshow": {
     "slide_type": "subslide"
    },
    "tags": []
   },
   "source": [
    "L'editor di codice sorgente offre inoltre alcune fuzioni molto utili:\n",
    "\n",
    "- [selezioni del testo multiple](https://code.visualstudio.com/docs/editor/codebasics#_multiple-selections-multicursor) (multi-cursore),\n",
    "- [selezione del testo in colonna](https://code.visualstudio.com/docs/editor/codebasics#_column-box-selection),\n",
    "- [ricerca e sostituzione del testo](https://code.visualstudio.com/docs/editor/codebasics#_find-and-replace) con [opzioni avanzate](https://code.visualstudio.com/docs/editor/codebasics#_advanced-find-and-replace-options),\n",
    "- [hot exit](https://code.visualstudio.com/docs/editor/codebasics#_hot-exit)."
   ]
  },
  {
   "cell_type": "markdown",
   "metadata": {
    "slideshow": {
     "slide_type": "subslide"
    },
    "tags": []
   },
   "source": [
    "VS Code offre poi strumenti specifici per [sviluppare con Python](https://code.visualstudio.com/docs/python/python-tutorial):\n",
    "\n",
    "- [ambiente Python](https://code.visualstudio.com/docs/languages/python),\n",
    "- [linter](https://code.visualstudio.com/docs/python/linting) (analisi del codice),\n",
    "- strumenti di [debugging](https://code.visualstudio.com/docs/python/debugging),\n",
    "- gestione dei [virtual environment](https://code.visualstudio.com/docs/python/environments),\n",
    "- Jupiter Notebook e [IPython](https://code.visualstudio.com/docs/python/jupyter-support-py)."
   ]
  },
  {
   "cell_type": "markdown",
   "metadata": {
    "slideshow": {
     "slide_type": "subslide"
    },
    "tags": []
   },
   "source": [
    "Tra le estensioni che possono tornarci utili per il nostro corso abbiamo:\n",
    "\n",
    "- [Python](https://marketplace.visualstudio.com/items?itemName=ms-python.python),\n",
    "    - [Jupyter](https://marketplace.visualstudio.com/items?itemName=ms-toolsai.jupyter),\n",
    "    - [Pylance](https://marketplace.visualstudio.com/items?itemName=ms-python.vscode-pylance),\n",
    "    - [isort](https://marketplace.visualstudio.com/items?itemName=ms-python.isort),\n",
    "- [Python Environment Manager](https://marketplace.visualstudio.com/items?itemName=donjayamanne.python-environment-manager),\n",
    "- [GitHub Repositories](https://marketplace.visualstudio.com/items?itemName=GitHub.remotehub)."
   ]
  },
  {
   "cell_type": "markdown",
   "metadata": {
    "slideshow": {
     "slide_type": "subslide"
    },
    "tags": []
   },
   "source": [
    "Esiste anche la possibilità di eseguire VS Code tramite un browser web con \"[Visual Studio Code for the Web](https://code.visualstudio.com/docs/editor/vscode-web)\". Sul sito [vscode.dev](https://vscode.dev/) potete provare l'interfaccia."
   ]
  },
  {
   "cell_type": "markdown",
   "metadata": {
    "slideshow": {
     "slide_type": "subslide"
    },
    "tags": []
   },
   "source": [
    "Prima di procedere, scarichiamo dunque Visual Studio Code per il nostro sistema operativo dalla [pagina dei download](https://code.visualstudio.com/Download) e installiamolo."
   ]
  },
  {
   "cell_type": "markdown",
   "metadata": {},
   "source": [
    "#### <a id='toc1_1_2_1_'></a>Linting [&#8593;](#toc0_)\n",
    "\n",
    "Il plugin di VS Code \"Python\" ci offre già un linter di base. Se necessitiamo utilizzare altri linter, possiamo fare riferimento a [questa lista](https://code.visualstudio.com/docs/python/linting#_specific-linters)."
   ]
  },
  {
   "cell_type": "markdown",
   "metadata": {
    "slideshow": {
     "slide_type": "fragment"
    },
    "tags": []
   },
   "source": [
    "Questi linter devono essere installati manualmente tramite `pip`."
   ]
  },
  {
   "cell_type": "markdown",
   "metadata": {
    "slideshow": {
     "slide_type": "fragment"
    },
    "tags": []
   },
   "source": [
    "Ecco brevemente le loro funzionalità:\n",
    "\n",
    "| Pacchetto  | Include già…                                                                                    |\n",
    "| ---------- | ----------------------------------------------------------------------------------------------- |\n",
    "| flake8     | Pyflakes, pycodestyle, mccabe                                                                   |\n",
    "| autopep8   | pycodestyle                                                                                     |\n",
    "| Pylama     | pycodestyle, pydocstyle, Pyflakes, mccabe, Pylint, Radon, eradicate, Mypy, Vulture              |\n",
    "| Prospector | Pylint, flake8 (including Pyflakes, pycodestyle, mccabe), dodgy, isort, pydocstyle, pep8-naming |"
   ]
  },
  {
   "cell_type": "markdown",
   "metadata": {
    "slideshow": {
     "slide_type": "subslide"
    },
    "tags": []
   },
   "source": [
    "Segue una descrizione di ciascun pacchetto.\n",
    "\n",
    "Principali:\n",
    "- flake8: error & style linter, complexity analysis\n",
    "- autopep8: style linter and formatter\n",
    "- Pylama: \"kitchen sink\"\n",
    "- Prospector: \"kitchen sink\""
   ]
  },
  {
   "cell_type": "markdown",
   "metadata": {
    "slideshow": {
     "slide_type": "fragment"
    },
    "tags": []
   },
   "source": [
    "Altri (contenuti nei \"principali\")\n",
    "- Pyflakes: error linter\n",
    "- Pylint: error and style linter\n",
    "- pycodestyle: style linter\n",
    "- Black: code formatter\n",
    "- mccabe: complexity analysis\n",
    "- Radon: complexity analysis\n",
    "- isort: style linter for import statements\n",
    "- pydocstyle: docstring linter\n",
    "- eradicate: dead code linter/remove"
   ]
  },
  {
   "cell_type": "markdown",
   "metadata": {
    "slideshow": {
     "slide_type": "subslide"
    },
    "tags": []
   },
   "source": [
    "E poi, ancora qualcun'altro, giusto per conoscenza:\n",
    "- docformatter: docstring formatter\n",
    "- pydocstringformatter: docstring formatter\n",
    "- pyupgrade: style linter\n",
    "- Bandit: security linter\n",
    "- Dodgy: security linter\n",
    "- Pyroma: packaging linter\n",
    "- Vulture: dead code linter\n",
    "- autoflake: dead code linter"
   ]
  },
  {
   "cell_type": "markdown",
   "metadata": {},
   "source": [
    "#### <a id='toc1_1_2_2_'></a>Workspace (area di lavoro) [&#8593;](#toc0_)\n",
    "\n",
    "Le cartelle di lavoro vengono essere raccolte nel cosiddetto [Workspace](https://code.visualstudio.com/docs/editor/workspaces), una sorta di collezione di cartelle."
   ]
  },
  {
   "cell_type": "markdown",
   "metadata": {
    "slideshow": {
     "slide_type": "fragment"
    },
    "tags": []
   },
   "source": [
    "Salvando il workspace è possibile riaprire velocemente le cartelle del progetto e impostare delle preferenze ad-hoc per personalizzare l'ambiente di lavoro (es. indicare il virtual environment da usare).\n",
    "\n",
    "È inoltre possibile eseguire una [ricerca a tutto testo tra i file](https://code.visualstudio.com/docs/editor/codebasics#_search-across-files) all'interno del workspace."
   ]
  },
  {
   "cell_type": "markdown",
   "metadata": {},
   "source": [
    "### <a id='toc1_1_3_'></a>Ricerca di testo nei file [&#8593;](#toc0_)\n",
    "\n",
    "In programmazione è importante saper cercare del testo all'interno di uno o più file."
   ]
  },
  {
   "cell_type": "markdown",
   "metadata": {
    "slideshow": {
     "slide_type": "notes"
    },
    "tags": []
   },
   "source": [
    "Immagina di dover cercare una frase particolare all'interno di alcuni file di log o di dover individuare le linee esatte in cui una certa funzione viene invocata tra i molti file di un certo repository.\n",
    "\n",
    "Per uno sviluppatore è facile imbattersi in codice che non è accompagnato da una documentazione adeguata. In questi casi è necessario leggere il codice sorgente per capire come funzione e cosa fa quel determinato software.\n",
    "\n",
    "Naturalmente non si leggono tutti i sorgenti dall'inizio alla fine, ma bisogna orientarsi e navigare tra centinaia di file andando a cercare quello che ci interessa scoprire seguendo un proprio percorso di analisi.\n",
    "\n",
    "Esistono diversi strumenti che permettono di eseguire ricerche nel testo di più file."
   ]
  },
  {
   "cell_type": "markdown",
   "metadata": {
    "slideshow": {
     "slide_type": "fragment"
    },
    "tags": []
   },
   "source": [
    "Escludiamo inanzitutto lo struumento di ricerca che il nostro sistema operativo ci offre di default perché non è sufficientemente preciso."
   ]
  },
  {
   "cell_type": "markdown",
   "metadata": {
    "slideshow": {
     "slide_type": "fragment"
    },
    "tags": []
   },
   "source": [
    "Ci sono quindi strumenti sia per la command line (`grep` su Linux e macOS e `findstr` su Windows) sia per le interfacce grafiche."
   ]
  },
  {
   "cell_type": "markdown",
   "metadata": {
    "slideshow": {
     "slide_type": "fragment"
    },
    "tags": []
   },
   "source": [
    "VS Code, come tutti gli IDE moderni, ha uno [strumento per effettuare ricerche su file multipli](https://code.visualstudio.com/docs/editor/codebasics#_search-across-files) e aprire rapidamente un file che ci interessa tra i risultati, esattamente alla posizione in cui si trova il testo che abbiamo cercato."
   ]
  },
  {
   "cell_type": "markdown",
   "metadata": {
    "slideshow": {
     "slide_type": "fragment"
    },
    "tags": []
   },
   "source": [
    "Alcuni IDE offrono anche una [comoda vista](https://code.visualstudio.com/docs/editor/codebasics#_search-editor) che presenta i risultati con un estratto del testo che si trova attorno a quello che abbiamo cercato, in modo da avere un minimo di contesto."
   ]
  },
  {
   "cell_type": "markdown",
   "metadata": {
    "slideshow": {
     "slide_type": "subslide"
    },
    "tags": []
   },
   "source": [
    "![vscode_search.jpg](./imgs/vscode/vscode_search.jpg)"
   ]
  },
  {
   "cell_type": "markdown",
   "metadata": {},
   "source": [
    "### Comandi da tastiera\n",
    "\n",
    "**Apertura Command Palette**\n",
    "- `Ctrl + Shift + P`: Apri la Command Palette, che ti permette di accedere a tutti i comandi disponibili in VS Code.\n",
    "\n",
    "**Spostamento nel Testo**\n",
    "- `Home`: Muovi il cursore all'inizio della linea.\n",
    "- `End`: Muovi il cursore alla fine della linea.\n",
    "- `Ctrl + Freccia Su/Giù`: Scorrimento del testo su e giù senza spostare il cursore.\n",
    "\n",
    "**Selezione del Testo**\n",
    "- `Shift + Freccia Destra/Sinistra`: Estendi la selezione di un carattere alla volta.\n",
    "- `Ctrl + Shift + Freccia Destra/Sinistra`: Estendi la selezione alla parola successiva/precedente.\n",
    "- `Shift + Home/End`: Estendi la selezione all'inizio/alla fine della linea.\n",
    "\n",
    "**Selezione Multipla**\n",
    "- `Alt + Clic`: Inserisci un cursore.\n",
    "- `Ctrl + Alt + Su/Giù`: Inserisci cursori sopra o sotto la posizione corrente.\n",
    "- `Ctrl + D`: Seleziona la parola corrente e la prossima occorrenza della stessa parola.\n",
    "\n",
    "**Copia/Taglia/Incolla Testo**\n",
    "- `Ctrl + C`: Copia il testo selezionato oppure l'intera riga se non è selezionato nulla.\n",
    "- `Ctrl + X`: Taglia il testo selezionato oppure l'intera riga se non è selezionato nulla.\n",
    "- `Ctrl + V`: Incolla il testo dagli appunti.\n",
    "\n",
    "**Funzionalità Multi Cursore**\n",
    "- `Ctrl + Click`: Aggiungi un nuovo cursore.\n",
    "- `Shift + Alt + I`: Inserisci cursori alla fine di ciascuna linea selezionata.\n",
    "\n",
    "**Salvataggio/Chiusura Tab (File)**\n",
    "- `Ctrl + N`: Nuovo file.\n",
    "- `Ctrl + S`: Salva il file corrente.\n",
    "- `Ctrl + W`: Chiude il file corrente.\n",
    "- `Ctrl + Shift + S`: Salva il file con un nuovo nome.\n",
    "\n",
    "**Altre Funzionalità Utili**\n",
    "- `Ctrl + F`: Apri la ricerca nel file corrente.\n",
    "- `Ctrl + B`: Mostra o nasconde la barra laterale.\n",
    "- `Ctrl + P`: Apertura rapida / Vai al file."
   ]
  },
  {
   "cell_type": "markdown",
   "metadata": {},
   "source": [
    "## <a id='toc1_2_'></a>Jupyter Notebook [&#8593;](#toc0_)\n",
    "\n",
    "![jupyter_logo.png](./imgs/jupyter/jupyter_logo.png)"
   ]
  },
  {
   "cell_type": "markdown",
   "metadata": {
    "slideshow": {
     "slide_type": "notes"
    },
    "tags": []
   },
   "source": [
    "Possiamo interagire con Python attraverso la console, Visual Studio Code o altri IDE. Ma in questo momento tu puoi già interagire con Python. In realtà l'hai già fatto quando abbiamo visto \"The Zen of Python\" e gli altri easter egg."
   ]
  },
  {
   "cell_type": "markdown",
   "metadata": {
    "slideshow": {
     "slide_type": "fragment"
    },
    "tags": []
   },
   "source": [
    "Questo documento è fatto utilizzando **Jupyter Notebook**, che può essere visto come un ambiente di sviluppo vero e proprio."
   ]
  },
  {
   "cell_type": "markdown",
   "metadata": {
    "slideshow": {
     "slide_type": "fragment"
    },
    "tags": []
   },
   "source": [
    "Il nome Jupyter deriva dai principali linguaggi supportati: **Ju**lia, **Pyt**hon **e R**."
   ]
  },
  {
   "cell_type": "markdown",
   "metadata": {
    "slideshow": {
     "slide_type": "subslide"
    },
    "tags": []
   },
   "source": [
    "Si tratta di un potente strumento usato inizialmente e soprattutto per i progetti di data science."
   ]
  },
  {
   "cell_type": "markdown",
   "metadata": {},
   "source": [
    "È un'applicazione che consente di creare programmi nel browser. Jupyter può essere eseguito localmente sul computer (non è necessaria una connessione a Internet) o su un server remoto. Consente di eseguire il codice in piccole parti, il che è molto utile per il debug e per mostrare i risultati ad altri. Potete anche aggiungere del testo per spiegare cosa fa il vostro codice! Ecco perché molti data scientist e programmatori lo usano per condividere il loro lavoro con i colleghi."
   ]
  },
  {
   "cell_type": "markdown",
   "metadata": {
    "slideshow": {
     "slide_type": "fragment"
    },
    "tags": []
   },
   "source": [
    "Noi invece lo useremo come strumento didattico per:\n",
    "- condividere i testi con le nozioni teoriche in alternativa a libri e slide;\n",
    "- condividere le esercitazioni pratiche e le loro correzioni e soluzioni."
   ]
  },
  {
   "cell_type": "markdown",
   "metadata": {
    "slideshow": {
     "slide_type": "notes"
    },
    "tags": []
   },
   "source": [
    "In questo capitolo vedremo come configurare Jupyter Notebook sulla vostra macchina locale e come utilizzarlo per i vostri progetti."
   ]
  },
  {
   "cell_type": "markdown",
   "metadata": {},
   "source": [
    "### <a id='toc1_2_1_'></a>Installazione in locale [&#8593;](#toc0_)\n",
    "\n",
    "È possibile installare Jupyter Notebook sul tuo computer due modi:"
   ]
  },
  {
   "cell_type": "markdown",
   "metadata": {
    "slideshow": {
     "slide_type": "fragment"
    },
    "tags": []
   },
   "source": [
    "1) Il modo più semplice e veloce per aprire i Notebok di Jupyter è tramite Visual Studio Code, installando l'estensione Jupyter Notebook dall'elenco dei plugin. Si potranno così aprire i notebook (file con estensione `.ipynb`) direttamente dall'IDE e usare l'interprete Python installato per eseguire il codice in essi contenuto."
   ]
  },
  {
   "cell_type": "markdown",
   "metadata": {
    "slideshow": {
     "slide_type": "fragment"
    },
    "tags": []
   },
   "source": [
    "2) Se invece volete avere un vero e proprio server Jupiter per avere un'esperienza più \"nativa\" tramite il web browser, allora bisogna installare il modulo di Python `jupyterlab` con un package manager. Usate quello previsto dalla distribuzione di Python che avete installato."
   ]
  },
  {
   "cell_type": "markdown",
   "metadata": {
    "slideshow": {
     "slide_type": "subslide"
    },
    "tags": []
   },
   "source": [
    "Se avete installato Python tramite i metodi tradizionali (dal sito ufficiale o dalle sorgenti), dovete usare `pip`, dalla command line del tuo sistema operativo:\n",
    "\n",
    "```bash\n",
    "    pip install jupyterlab\n",
    "```"
   ]
  },
  {
   "cell_type": "markdown",
   "metadata": {
    "slideshow": {
     "slide_type": "notes"
    },
    "tags": []
   },
   "source": [
    "Se avete installato Python tramite Anaconda, potete installare Jupyter Lab o Notebook tramite il suo gestore di pacchetti grafico \"Anaconda Navigator\". \n",
    "\n",
    "![anaconda_navigator.png](./imgs/jupyter/anaconda_navigator.png)"
   ]
  },
  {
   "cell_type": "markdown",
   "metadata": {},
   "source": [
    "### <a id='toc1_2_2_'></a>Avvio del server [&#8593;](#toc0_)\n",
    "\n",
    "Se avete usato `pip`, digitate `jupyter-notebook` (o `jupyter-lab`) nel Terminale o nel prompt dei comandi."
   ]
  },
  {
   "cell_type": "markdown",
   "metadata": {
    "slideshow": {
     "slide_type": "notes"
    },
    "tags": []
   },
   "source": [
    "Se avete usato Anaconda, fate clic sul collegamento che è stato creato."
   ]
  },
  {
   "cell_type": "markdown",
   "metadata": {
    "slideshow": {
     "slide_type": "fragment"
    },
    "tags": []
   },
   "source": [
    "Jupyter Lab è un IDE più completo ma ancora sperimetale. Il package contiene anche il più semplice Notebook, che è quello che andremo ad illustrare."
   ]
  },
  {
   "cell_type": "markdown",
   "metadata": {
    "slideshow": {
     "slide_type": "subslide"
    },
    "tags": []
   },
   "source": [
    "Si aprirà una console che mostra i log di avvio del server e al fondo sarano elencati degli url.\n",
    "\n",
    "![starting_sever.png](./imgs/jupyter/starting_sever.png)"
   ]
  },
  {
   "cell_type": "markdown",
   "metadata": {
    "slideshow": {
     "slide_type": "fragment"
    },
    "tags": []
   },
   "source": [
    "Praticamente viene creato un server web locale e vengono generati degli URL in modo da poter accedere al server tramite il browser. È sufficiente copiare e incollare l'URL nel browser per accedere all'applicazione."
   ]
  },
  {
   "cell_type": "markdown",
   "metadata": {
    "slideshow": {
     "slide_type": "subslide"
    },
    "tags": []
   },
   "source": [
    "Verrà così visualizzata la pagina principale. Per impostazione predefinita, viene visualizzata la cartella in cui è installata l'applicazione Jupyter Notebook. Tuttavia, se prima di avviare il server tramite il comando `jupyter-notebook`, si modifica il percorso in cui ci troviamo con il comando `cd percorso/a/una/cartella`, è possibile avviare l'applicazione in modo che mostri qualsiasi altra cartella.\n",
    "\n",
    "![file_list.png](./imgs/jupyter/file_list.png)"
   ]
  },
  {
   "cell_type": "markdown",
   "metadata": {
    "slideshow": {
     "slide_type": "subslide"
    },
    "tags": []
   },
   "source": [
    "Per creare un nuovo notebook, selezionare *'Nuovo' > 'Python 3'*. Il pulsante \"Nuovo\" si trova nella parte superiore destra della pagina. Nella scheda \"Notebook\" si possono vedere i **kernel** disponibili."
   ]
  },
  {
   "cell_type": "markdown",
   "metadata": {
    "slideshow": {
     "slide_type": "notes"
    },
    "tags": []
   },
   "source": [
    "Ogni blocco note ha un kernel, ovvero un ambiente di esecuzione associato ad esso. Il kernel esegue il codice in un linguaggio di programmazione specifico (Julia, Python, R ecc.). Fornisce inoltre l'accesso a varie librerie, esegue i calcoli e restituisce i risultati."
   ]
  },
  {
   "cell_type": "markdown",
   "metadata": {
    "slideshow": {
     "slide_type": "fragment"
    },
    "tags": []
   },
   "source": [
    "Nel nostro caso, abbiamo bisogno di un solo kernel - Python 3 - poiché lavoriamo solo con questa versione del linguaggio."
   ]
  },
  {
   "cell_type": "markdown",
   "metadata": {
    "slideshow": {
     "slide_type": "fragment"
    },
    "tags": []
   },
   "source": [
    "Questo kernel fa parte del kernel globale **[IPython](https://en.wikipedia.org/wiki/IPython)**. IPython (Interactive Python) è una shell che fornisce una sintassi di comando aggiuntiva, l'evidenziazione del codice e il completamento automatico per Python."
   ]
  },
  {
   "cell_type": "markdown",
   "metadata": {
    "slideshow": {
     "slide_type": "notes"
    },
    "tags": []
   },
   "source": [
    "È inoltre possibile utilizzare i notebook con molti altri linguaggi installando kernel aggiuntivi, ad es. IRkernel, IJulia, ecc.\n",
    "\n",
    "Per l'utilizzo specifico di Jupyter Notebook, rimando alle attività che svolgeremo in classe."
   ]
  },
  {
   "cell_type": "markdown",
   "metadata": {
    "slideshow": {
     "slide_type": "fragment"
    },
    "tags": []
   },
   "source": [
    "![kernel.png](./imgs/jupyter/kernel.png)"
   ]
  },
  {
   "cell_type": "markdown",
   "metadata": {},
   "source": [
    "### <a id='toc1_2_3_'></a>L'interfaccia [&#8593;](#toc0_)"
   ]
  },
  {
   "cell_type": "markdown",
   "metadata": {
    "slideshow": {
     "slide_type": "fragment"
    },
    "tags": []
   },
   "source": [
    "In Jupyter, un **notebook** è un documento che contiene parti di codice e vari elementi di testo (paragrafi, collegamenti e così via)."
   ]
  },
  {
   "cell_type": "markdown",
   "metadata": {
    "slideshow": {
     "slide_type": "fragment"
    },
    "tags": []
   },
   "source": [
    "![ui_anatomy.jpg](./imgs/jupyter/ui_anatomy.jpg)"
   ]
  },
  {
   "cell_type": "markdown",
   "metadata": {
    "slideshow": {
     "slide_type": "notes"
    },
    "tags": []
   },
   "source": [
    "Abbiamo evidenziato le parti principali dell'interfaccia. Vediamole più da vicino.\n",
    "\n",
    "1. L'unità principale di un blocco note è la **cella**. È qui che si può scrivere il codice o aggiungere qualsiasi informazione testuale. Ogni cella può essere eseguita in modo indipendente.\n",
    "2. Per impostazione predefinita, un blocco note ha il nome \"*Senza titolo*\", ma è possibile cambiarlo facilmente facendo clic su di esso.\n",
    "3. Il pulsante \"*File*\" consente di copiare, salvare, rinominare o scaricare il file. Si tenga presente che ci sono molte estensioni che possono salvare il blocco note. Ci concentreremo su due di esse: `.py` e `.ipynb`. La prima è un'estensione standard dei file Python che possono essere eseguiti con la console Python. La seconda estensione, `.ipynb`, sta per **IPython Notebook** ed è l'estensione predefinita del blocco note.\n",
    "4. Il simbolo del *floppy disk* consente di salvare il blocco note.\n",
    "5. Il simbolo \"*Più*\" (+) aggiunge celle.\n",
    "6. I tre pulsanti successivi consentono di rimuovere, copiare o inserire una cella.\n",
    "7. Le frecce \"*Su*\" e \"*Giù*\" spostano una cella.\n",
    "8. Premendo i pulsanti successivi, è possibile eseguire una cella, interrompere il kernel o riavviare il kernel. Per eseguire una cella, si può anche usare `Maiusc+Invio` . Per ulteriori informazioni sulle scorciatoie, consultare la [documentazione](https://jupyter-notebook.readthedocs.io/en/latest/examples/Notebook/Notebook%20Basics.html?highlight=keyboard#Keyboard-Navigation). L'interruzione del kernel è utile nel caso in cui si verifichi un ciclo infinito. Il riavvio consente di cancellare tutte le variabili.\n",
    "9. È inoltre possibile cambiare il tipo di cella facendo clic sul pulsante \"*Codice*\". Esistono quattro tipi: *codice*, *markdown*, *raw NBConvert* e *intestazione* (*heading*). Se è necessario modificare il titolo del notebook, utilizzare l'**intestazione**. La cella **markdown** viene utilizzata per scrivere un testo e trasformarlo con la speciale sintassi markdown. Per saperne di più, consulta la [guida di Markdown](https://www.markdownguide.org/basic-syntax/). Il tipo **Raw NBConvert** è utilizzato per i contenuti non modificati.\n",
    "10. Una volta che il codice è pronto, premere il pulsante \"*Logout*\" nell'angolo superiore destro della pagina. La sessione verrà interrotta."
   ]
  },
  {
   "cell_type": "markdown",
   "metadata": {
    "slideshow": {
     "slide_type": "subslide"
    },
    "tags": []
   },
   "source": [
    "Le scorciatoie da tastiera più utili sono:\n",
    "\n",
    "* Per eseguire il codice Python dentro una cella di Jupyter o per uscire dalla modalità modifica Markdown, premi `Control+Invio`\n",
    "* Per eseguire il codice Python dentro una cella di Jupyter o per uscire dalla modalità modifica Markdown e selezionare la cella seguente, premi `Maiusct+Invio`\n",
    "* Per eseguire il codice Python dentro una cella di Jupyter o per uscire dalla modalità modifica Markdown e creare una nuova cella subito dopo, premi `Alt+Invio`\n",
    "* Se per caso il Notebook sembra inchiodato, prova a selezionare `Kernel -> Restart`"
   ]
  },
  {
   "cell_type": "markdown",
   "metadata": {
    "slideshow": {
     "slide_type": "notes"
    },
    "tags": []
   },
   "source": [
    "Naturalmente, queste sono solo le basi. È possibile anche formattare le stringhe (cambiare i colori, ad esempio), aggiungere temi per l'intero blocco note, visualizzare i risultati e così via. Ecco perché sempre più scienziati, docenti e studenti passano a Jupyter notebook."
   ]
  },
  {
   "cell_type": "markdown",
   "metadata": {},
   "source": [
    "### <a id='toc1_2_4_'></a>Esempio di programma [&#8593;](#toc0_)\n",
    "\n",
    "Discutiamo la pipeline di programmazione in modo più dettagliato. Supponiamo di dover scrivere una calcolatrice di base per sommare due numeri interi. Di seguito è riportato un esempio di questo programma (le schermate sono state ritagliate per motivi di leggibilità):"
   ]
  },
  {
   "cell_type": "code",
   "execution_count": 1,
   "metadata": {
    "slideshow": {
     "slide_type": "fragment"
    },
    "tags": []
   },
   "outputs": [],
   "source": [
    "a = 15\n",
    "b = 34"
   ]
  },
  {
   "cell_type": "code",
   "execution_count": 2,
   "metadata": {
    "tags": []
   },
   "outputs": [],
   "source": [
    "c = a + b"
   ]
  },
  {
   "cell_type": "code",
   "execution_count": 3,
   "metadata": {
    "tags": []
   },
   "outputs": [
    {
     "name": "stdout",
     "output_type": "stream",
     "text": [
      "49\n"
     ]
    }
   ],
   "source": [
    "print(c)"
   ]
  },
  {
   "cell_type": "markdown",
   "metadata": {
    "slideshow": {
     "slide_type": "fragment"
    },
    "tags": []
   },
   "source": [
    "I risultati vengono stampati subito dopo la cella. Naturalmente, è possibile scrivere tutto in una cella."
   ]
  },
  {
   "cell_type": "markdown",
   "metadata": {
    "slideshow": {
     "slide_type": "subslide"
    },
    "tags": []
   },
   "source": [
    "A proposito, avete notato i numeri nelle parentesi quadre a sinistra delle celle? Indicano l'ordine di esecuzione delle celle. Questo ordine è fondamentale in Jupyter Notebook. Supponiamo che si esegua prima la cella centrale. Cosa succederà in questo caso?"
   ]
  },
  {
   "cell_type": "markdown",
   "metadata": {
    "slideshow": {
     "slide_type": "fragment"
    },
    "tags": []
   },
   "source": [
    "![cell_error.png](./imgs/jupyter/cell_error.png)"
   ]
  },
  {
   "cell_type": "markdown",
   "metadata": {
    "slideshow": {
     "slide_type": "fragment"
    },
    "tags": []
   },
   "source": [
    "Verrà generato un errore poiché non sono state impostate le variabili! Fate attenzione all'ordine di esecuzione."
   ]
  },
  {
   "cell_type": "markdown",
   "metadata": {
    "slideshow": {
     "slide_type": "subslide"
    },
    "tags": []
   },
   "source": [
    "Possiamo anche installare le librerie con Jupyter Notebook. È possibile eseguire comandi da terminale direttamente in Jupyter Notebook. Per farlo, mettere un punto esclamativo `!` all'inizio del comando. Questo indicherà all'applicazione che non si tratta di un comando Python."
   ]
  },
  {
   "cell_type": "markdown",
   "metadata": {
    "slideshow": {
     "slide_type": "fragment"
    },
    "tags": []
   },
   "source": [
    "![import.png](./imgs/jupyter/import.png)"
   ]
  },
  {
   "cell_type": "markdown",
   "metadata": {
    "slideshow": {
     "slide_type": "fragment"
    },
    "tags": []
   },
   "source": [
    "Abbiamo quindi installato e importato una libreria e ora possiamo lavorare con essa come al solito."
   ]
  },
  {
   "cell_type": "markdown",
   "metadata": {},
   "source": [
    "### <a id='toc1_2_5_'></a>Riassumendo [&#8593;](#toc0_)\n",
    "Che cosa abbiamo imparato finora su Jupyter Notebook?"
   ]
  },
  {
   "cell_type": "markdown",
   "metadata": {
    "slideshow": {
     "slide_type": "fragment"
    },
    "tags": []
   },
   "source": [
    "- L'ambiente di lavoro Jupyter è noto come notebook; un notebook è costituito da celle di codice e di testo.\n",
    "- I notebook sono dei file con estensione `.ipynb` (**I**nteractive **Py**thon **N**ote**B**ook).\n",
    "- Può essere installato in diversi modi: con `pip` o con Anaconda."
   ]
  },
  {
   "cell_type": "markdown",
   "metadata": {
    "slideshow": {
     "slide_type": "notes"
    },
    "tags": []
   },
   "source": [
    "Ora avete una conoscenza di base dell'interfaccia e sapete come eseguire le celle e installare le librerie."
   ]
  },
  {
   "cell_type": "markdown",
   "metadata": {
    "slideshow": {
     "slide_type": "fragment"
    },
    "tags": []
   },
   "source": [
    "Se siete interessati a maggiori informazioni, potete sempre leggere la [documentazione ufficiale](https://jupyter-notebook.readthedocs.io/en/stable/)."
   ]
  },
  {
   "cell_type": "markdown",
   "metadata": {},
   "source": [
    "### <a id='toc1_2_6_'></a>Markdown [&#8593;](#toc0_)\n",
    "\n",
    "![markdown_logo.png](./imgs/jupyter/markdown_logo.png)"
   ]
  },
  {
   "cell_type": "markdown",
   "metadata": {
    "slideshow": {
     "slide_type": "fragment"
    },
    "tags": []
   },
   "source": [
    "Markdown è un [linguaggio di markup](https://it.wikipedia.org/wiki/Linguaggio_di_markup) leggero che consente di creare testo formattato utilizzando un editor di testo semplice (*plain text*). In particolare permette di generare HTML da un file di testo opportunamente \"formattato\"."
   ]
  },
  {
   "cell_type": "markdown",
   "metadata": {
    "slideshow": {
     "slide_type": "notes"
    },
    "tags": []
   },
   "source": [
    "Con esso è possibile aggiungere titoli agli articoli, rendere le parole in grassetto o in corsivo, inserire elenchi e molto altro. Allo stesso tempo, il testo rimarrà comprensibile e facilmente leggibile per le persone in quanto Markdown ha una sintassi intuitiva e poco invasiva. Markdown è spesso usato per scrivere testi e semplici descrizioni, come i post sui forum (es. Stack Overflow), gli articoli sui blog o la documentazione e le descrizioni dei progetti su Github e Gitlab (es. i file README)."
   ]
  },
  {
   "cell_type": "markdown",
   "metadata": {
    "slideshow": {
     "slide_type": "fragment"
    },
    "tags": []
   },
   "source": [
    "Anche Jupiter Notebook lo usa per le parti testuali e le guide di questo corso sono scritte proprio con questa sintassi: ciò che stai leggendo è un testo scritto Markdown!"
   ]
  },
  {
   "cell_type": "markdown",
   "metadata": {
    "slideshow": {
     "slide_type": "notes"
    },
    "tags": []
   },
   "source": [
    "Se stai leggendo dall'editor di testo, ti basta fare doppio click su questo *blocco* per vedere le \"sorgenti\" del testo."
   ]
  },
  {
   "cell_type": "markdown",
   "metadata": {
    "slideshow": {
     "slide_type": "notes"
    },
    "tags": []
   },
   "source": [
    "Saper interpretare ed usare questa sintassi sarà un requisito fondamentale come sviluppatori in quanto, come abbiamo detto, è molto usata per scrivere la documentazione dei software. È quindi importante imparare a famigliarizzare fin da subito con Markdown perché prima o poi sarete costretti ad usarlo. È possibile trovare tutte le informazioni sulla sintassi di Markdown sul web. Seguono alcune risorse utili."
   ]
  },
  {
   "cell_type": "markdown",
   "metadata": {
    "slideshow": {
     "slide_type": "subslide"
    },
    "tags": []
   },
   "source": [
    "Sintassi specifica utilizzabile in Jupiter Notebook:\n",
    "- [Guida completa di Markdown in Jupiter Notebook](https://jupyter.brynmawr.edu/services/public/dblank/Jupyter%20Notebook%20Users%20Manual.ipynb#4.-Using-Markdown-Cells-for-Writing)\n",
    "- [Cheatsheet di Markdown in Jupiter Notebook (PDF)](https://notebook.community/tschinz/iPython_Workspace/00_Admin/CheatSheet/Markdown%20CheatSheet)"
   ]
  },
  {
   "cell_type": "markdown",
   "metadata": {
    "slideshow": {
     "slide_type": "notes"
    },
    "tags": []
   },
   "source": [
    "Sintassi standard utilizzabile (non tutte le funzioni elencate in queste guide sono disponibili con Jupiter Notebook):\n",
    "- [Guida di Markdown standard](https://www.markdownguide.org/)\n",
    "- [Cheatsheet di Markdown standard (PDF)](https://sqlbak.com/blog/wp-content/uploads/2020/12/Jupyter-Notebook-Markdown-Cheatsheet2.pdf)"
   ]
  },
  {
   "cell_type": "markdown",
   "metadata": {
    "slideshow": {
     "slide_type": "fragment"
    },
    "tags": []
   },
   "source": [
    "Per fare un po di pratica, prova ad esercitarti con la sintassi aggiungendo un blocco \"Markdown\" nel presente documento o in un nuovo notebook creato apposta (crei un nuovo file in Visual Studio Code e lo salvi subito con estensione `.ipynb`)."
   ]
  },
  {
   "cell_type": "markdown",
   "metadata": {
    "slideshow": {
     "slide_type": "subslide"
    },
    "tags": []
   },
   "source": [
    "Per avere un'idea più interattiva di come funziona il Markdown, potete smanettare un po' sulla web app [StackEdit](https://stackedit.io/). Tenete presente però che Jupiter Notebook potrebbe non riconoscere alcune sintassi particolari implementate come estensioni di Markdown e disponinbili in altri software."
   ]
  },
  {
   "cell_type": "markdown",
   "metadata": {},
   "source": [
    "#### <a id='toc1_2_6_1_'></a>Un po' di storia [&#8593;](#toc0_)\n",
    "\n",
    "Markdown è stato pubblicato nel 2004 dallo sforzo congiunto di John Gruber e Aaron Swartz, che avevano l'obiettivo di creare un linguaggio di markup che fosse gradevole per un lettore umano anche nella sua forma di codice sorgente. Gruber e Swartz si sono ispirati da convenzioni preesistenti per la marcatura del testo semplice nelle e-mail e nei post di *usenet*, come i linguaggi di markup *setext*, *Textile* o *reStructuredText*."
   ]
  },
  {
   "cell_type": "markdown",
   "metadata": {
    "slideshow": {
     "slide_type": "notes"
    },
    "tags": []
   },
   "source": [
    "Tutto iniziò quando nel 2002 Aaron Swartz, amico di Gruber, creò *atx*, definendolo come \"il vero formato di testo strutturato\". Gruber, ha poi proseguito il lavoro (sempre con l'aiuto e i suggerimenti di Swartz) per arrivare alla [pubblicazione dell linguaggio Markdown nel 2004](https://daringfireball.net/projects/markdown/), con l'obiettivo di consentire alle persone \"*di scrivere utilizzando un formato di testo semplice e di facile lettura, che possa facoltativamente essere convertito in XHTML (o HTML) strutturalmente valido*\"."
   ]
  },
  {
   "cell_type": "markdown",
   "metadata": {},
   "source": [
    "#### <a id='toc1_2_6_2_'></a>Un po' di cultura generale [&#8593;](#toc0_)"
   ]
  },
  {
   "cell_type": "markdown",
   "metadata": {
    "slideshow": {
     "slide_type": "fragment"
    },
    "tags": []
   },
   "source": [
    "Se non conoscete la storia di [Aaron H. Swartz](https://it.wikipedia.org/wiki/Aaron_Swartz), vi suggerisco di porre rimedio. Ovviamente basta cercare sul web per scoprire di più sulla sua intensa e purtoppo breve vita, ma esiste un documentario molto ben fatto dal titolo \"[The Internet's Own Boy: The Story of Aaron Swartz](https://www.youtube.com/watch?v=gQLIodJVbz8)\", pubblicato ora sotto licenza libera Creative Commons, che vi consiglio caldamente di vedere."
   ]
  },
  {
   "cell_type": "markdown",
   "metadata": {},
   "source": [
    "### <a id='toc1_2_7_'></a>Google Colab [&#8593;](#toc0_)\n",
    "\n",
    "![colab_logo.png](./imgs/jupyter/colab_logo.png)"
   ]
  },
  {
   "cell_type": "markdown",
   "metadata": {
    "slideshow": {
     "slide_type": "fragment"
    },
    "tags": []
   },
   "source": [
    "Ora dovresti conoscere le basi di Jupyter Notebook. Immagina però che tu debba lavorare con dei *[big data](https://it.wikipedia.org/wiki/Big_data)* e che il tuo PC non abbia sufficiente potenza di calcolo."
   ]
  },
  {
   "cell_type": "markdown",
   "metadata": {
    "slideshow": {
     "slide_type": "fragment"
    },
    "tags": []
   },
   "source": [
    "È qui che [Google Colab](https://colab.research.google.com/) si rivela utile. Si tratta di un servizio online offerto da Google. Con **Colab** o \"*Colaboratory*\" è possibile scrivere ed eseguire notebook e programmi di Jupyter Notebook, salvare e condividere i risultati, il tutto avendo accesso alle potenti risorse di calcolo che possono offrire i datacenter di Google. Tutto nel proprio browser."
   ]
  },
  {
   "cell_type": "markdown",
   "metadata": {
    "slideshow": {
     "slide_type": "notes"
    },
    "tags": []
   },
   "source": [
    "In questo argomento mostreremo i principali vantaggi e svantaggi del servizio e descriveremo come lavorare con esso."
   ]
  },
  {
   "cell_type": "markdown",
   "metadata": {
    "slideshow": {
     "slide_type": "subslide"
    },
    "tags": []
   },
   "source": [
    "Confrontiamo le caratteristiche principali di Google Colab e Jupyter Notebook.\n",
    "\n",
    "|Google Colab | Jupyter Notebook|\n",
    "|------------ | --------------- |\n",
    "|Consente di avviare sessioni online per lavorare con il proprio team. | Non consente un lavoro di gruppo immediato. Un ricercatore deve aspettare che un altro finisca la sua parte di codice e la invii per poterla modificare a sua volta.|\n",
    "|Utilizza la potenza di calcolo di Google. | Utilizza solo la potenza del vostro computer.|\n",
    "|La maggior parte delle librerie ML (*machine learning*) sono integrate. | È necessario installare prima le librerie sul proprio computer.|\n",
    "|Ogni riga di codice può essere salvata su Google Drive. | A volte è difficile navigare tra i vari notebook presenti nelle varie cartelle locali.|"
   ]
  },
  {
   "cell_type": "markdown",
   "metadata": {
    "slideshow": {
     "slide_type": "fragment"
    },
    "tags": []
   },
   "source": [
    "Google Colab ha però anche qualche piccolo svantaggio: non può essere eseguito offline. È inoltre possibile perdere parte del lavoro se si chiude l'ambiente senza salvere/scaricare il codice e/o i risultati."
   ]
  },
  {
   "cell_type": "markdown",
   "metadata": {
    "slideshow": {
     "slide_type": "fragment"
    },
    "tags": []
   },
   "source": [
    "Inoltre senza un abbonamento \"pro\" a Google, i notebook possono essere eseguiti per un massimo di **12 ore**."
   ]
  },
  {
   "cell_type": "markdown",
   "metadata": {
    "slideshow": {
     "slide_type": "notes"
    },
    "tags": []
   },
   "source": [
    "Stando alle [FAQ ufficiali](https://research.google.com/colaboratory/intl/it/faq.html), nella versione gratuita di Colab i notebook possono essere eseguiti per un massimo di **12 ore**, a seconda della disponibilità delle risorte da parte di Google e delle modalità di utilizzo da parte dell'utente. Inoltre viene sottolineato che Colab dà priorità al calcolo interattivo e dunque il runtime viene interrotto se l'utente è inattivo."
   ]
  },
  {
   "cell_type": "markdown",
   "metadata": {
    "slideshow": {
     "slide_type": "subslide"
    },
    "tags": []
   },
   "source": [
    "Riassumendo, Google Colab:\n",
    "\n",
    "- È un'applicazione Google eseguita nel cloud.\n",
    "- Permette di modificare i file `.ipynb` di Jupiter Notebook.\n",
    "- Permette di lavorare online con i propri amici e colleghi.\n",
    "- Possiede la maggior parte delle librerie per il *machine learning* già pre-installate, quindi si possono usare fin da subito.\n",
    "- Permette di caricare i propri notebook e i file che devono essere processati nell'ambiente Colab e scaricarli di nuovo al termine del lavoro."
   ]
  },
  {
   "cell_type": "markdown",
   "metadata": {
    "slideshow": {
     "slide_type": "notes"
    },
    "tags": []
   },
   "source": [
    "Naturalmente, questo è solo un assaggio. La pagina [Welcome to Colaboratory](https://colab.research.google.com/notebooks/intro.ipynb) contiene ulteriori informazioni su questo ambiente.\n",
    "\n",
    "Se lo desideri, puoi usarlo per visualizzare i notebook delle nostre lezioni."
   ]
  }
 ],
 "metadata": {
  "kernelspec": {
   "display_name": "Python 3 (ipykernel)",
   "language": "python",
   "name": "python3"
  },
  "language_info": {
   "codemirror_mode": {
    "name": "ipython",
    "version": 3
   },
   "file_extension": ".py",
   "mimetype": "text/x-python",
   "name": "python",
   "nbconvert_exporter": "python",
   "pygments_lexer": "ipython3",
   "version": "3.11.2"
  },
  "vscode": {
   "interpreter": {
    "hash": "e6f25737dda967aa6ad8da4764c832ec57727c0329acf0be14f62a51d35ee438"
   }
  }
 },
 "nbformat": 4,
 "nbformat_minor": 4
}
