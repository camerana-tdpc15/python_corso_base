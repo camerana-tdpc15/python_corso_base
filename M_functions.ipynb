{
 "cells": [
  {
   "cell_type": "markdown",
   "metadata": {},
   "source": [
    "## Positional-Only Parameters (PEP 570)\n",
    "\n",
    "Da Python 3.8 (gennaio 2018)."
   ]
  },
  {
   "cell_type": "markdown",
   "metadata": {},
   "source": [
    "La PEP 570 introduce i parametri posizionali-only in Python, una funzionalità che permette di specificare che alcuni parametri di una funzione debbano essere passati esclusivamente come argomenti posizionali. Questo significa che non possono essere passati usando il loro nome come parole chiave. La sintassi per definire i parametri posizionali-only utilizza uno slash (`/`) nella definizione dei parametri della funzione. Vediamo alcuni esempi per chiarire:"
   ]
  },
  {
   "cell_type": "markdown",
   "metadata": {},
   "source": [
    "### Esempio Base"
   ]
  },
  {
   "cell_type": "code",
   "execution_count": 9,
   "metadata": {},
   "outputs": [
    {
     "name": "stdout",
     "output_type": "stream",
     "text": [
      "15\n"
     ]
    }
   ],
   "source": [
    "def somma(a, b, /):\n",
    "    return a + b\n",
    "\n",
    "# Questo è permesso\n",
    "risultato = somma(5, 10)\n",
    "\n",
    "# Questo causerà un errore\n",
    "# risultato = somma(a=5, b=10)\n",
    "# TypeError: somma() got some positional-only arguments passed as keyword arguments: 'a, b'\n",
    "\n",
    "print(risultato)\n"
   ]
  },
  {
   "cell_type": "markdown",
   "metadata": {},
   "source": [
    "Nell'esempio sopra, `a` e `b` sono parametri posizionali-only. Possono essere passati solo come argomenti posizionali e non come argomenti con parole chiave."
   ]
  },
  {
   "cell_type": "markdown",
   "metadata": {},
   "source": [
    "Dopo lo slash `/`, è possibile specificare altri argomenti. Ad esempio:"
   ]
  },
  {
   "cell_type": "code",
   "execution_count": 8,
   "metadata": {},
   "outputs": [
    {
     "name": "stdout",
     "output_type": "stream",
     "text": [
      "30\n"
     ]
    }
   ],
   "source": [
    "def somma(a, b, /, c, d=0):\n",
    "    return a + b + c + d\n",
    "\n",
    "risultato = somma(5, 10, c=15)\n",
    "\n",
    "print(risultato)"
   ]
  },
  {
   "cell_type": "markdown",
   "metadata": {},
   "source": [
    "\n",
    "### Confronto con il Passato\n",
    "\n",
    "Prima dell'introduzione dei parametri posizionali-only con la PEP 570, non era possibile specificare esplicitamente nella sintassi di Python che alcuni parametri dovessero essere passati esclusivamente in modo posizionale. Tutti i parametri potevano essere passati sia posizionalmente che come parole chiave, a meno che non si utilizzassero convenzioni o controlli manuali all'interno della funzione per imporre restrizioni sull'uso degli argomenti.\n",
    "\n",
    "### Contesti d'Uso\n",
    "\n",
    "1. **Compatibilità API e Chiarezza**: I parametri posizionali-only possono essere utilizzati per evitare confusione su come una funzione dovrebbe essere chiamata, specialmente quando i nomi dei parametri non sono descrittivi o il loro ordine è importante per la chiamata. Questo aiuta a mantenere le API pulite e a prevenire eventuali cambiamenti nei nomi dei parametri che potrebbero rompere il codice che dipende da quelle API.\n",
    "\n",
    "2. **Performance**: In alcuni casi, l'uso di argomenti posizionali può essere leggermente più efficiente dal punto di vista delle prestazioni rispetto all'uso di argomenti con parole chiave, poiché il matching degli argomenti posizionali è generalmente più semplice e veloce.\n",
    "\n",
    "3. **Interfacciamento con codice C/Estensioni**: Quando si scrivono wrapper o interfacce per librerie C o estensioni in Python, potrebbe essere necessario che alcuni argomenti siano strettamente posizionali per rispecchiare più fedelmente l'API originale o per motivi di efficienza.\n",
    "\n",
    "In sintesi, la PEP 570 e l'introduzione dei parametri posizionali-only offrono maggior flessibilità e controllo nella definizione delle funzioni, permettendo di specificare chiaramente come gli argomenti dovrebbero essere passati, migliorando la chiarezza del codice, la manutenibilità delle API e, in alcuni casi, le prestazioni."
   ]
  }
 ],
 "metadata": {
  "kernelspec": {
   "display_name": ".venv",
   "language": "python",
   "name": "python3"
  },
  "language_info": {
   "codemirror_mode": {
    "name": "ipython",
    "version": 3
   },
   "file_extension": ".py",
   "mimetype": "text/x-python",
   "name": "python",
   "nbconvert_exporter": "python",
   "pygments_lexer": "ipython3",
   "version": "3.11.2"
  }
 },
 "nbformat": 4,
 "nbformat_minor": 2
}
