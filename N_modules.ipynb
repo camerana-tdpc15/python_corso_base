{
 "cells": [
  {
   "cell_type": "markdown",
   "id": "82cda9a8",
   "metadata": {
    "is_toc": true
   },
   "source": [
    "**Sommario**\n",
    "  - [Importazione di moduli e oggetti](#importazione-di-moduli-e-oggetti)\n",
    "  - [Altri pattern più avanzati](#altri-pattern-più-avanzati)"
   ]
  },
  {
   "cell_type": "markdown",
   "metadata": {},
   "source": [
    "## Importazione di moduli e oggetti"
   ]
  },
  {
   "cell_type": "markdown",
   "metadata": {},
   "source": [
    "Python supporta diverse sintassi e pattern che possono essere utilizzati per importare moduli, funzioni, classi e altri oggetti."
   ]
  },
  {
   "cell_type": "markdown",
   "metadata": {},
   "source": [
    "Ogni uno dei seguenti metodi ha i suoi casi d'uso specifici e, se usati con consapevolezza e giudizio possono aiutare a migliorare la leggibilità, la manutenibilità e la flessibilità del codice. \n",
    "\n",
    "Ricorda sempre che quando importi qualcosa, i conflitti di nomi sono sempre dietro l'angolo!"
   ]
  },
  {
   "cell_type": "markdown",
   "metadata": {},
   "source": [
    "1. **Importazione diretta di un modulo**:\n",
    "   Questa è la forma più semplice e diretta di importazione. Importa il modulo nel tuo namespace, permettendoti di accedere ai suoi attributi (funzioni, classi, variabili) utilizzando la notazione a punti (dot.notation).\n",
    "   ```python\n",
    "   import my_module\n",
    "   \n",
    "   my_module.my_func()\n",
    "   ```"
   ]
  },
  {
   "cell_type": "markdown",
   "metadata": {},
   "source": [
    "\n",
    "2. **Importazione di un oggetto specifico da un modulo**:\n",
    "   Questo permette di importare specifici attributi di un modulo direttamente nello spazio dei nomi corrente, rendendoli accessibili senza il prefisso del nome del modulo.\n",
    "   ```python\n",
    "   from my_module import my_func\n",
    "   \n",
    "   my_func()\n",
    "   ```\n"
   ]
  },
  {
   "cell_type": "markdown",
   "metadata": {},
   "source": [
    "3. **Importazione di più oggetti da un modulo**:\n",
    "   Puoi importare più oggetti contemporaneamente utilizzando una singola istruzione e separando gli oggetti richiesti con una virgola `,`.\n",
    "   ```python\n",
    "   from my_module import my_func, MyClass\n",
    "   ```"
   ]
  },
  {
   "cell_type": "markdown",
   "metadata": {},
   "source": [
    "4. **Importazione con alias**:\n",
    "   Puoi importare un modulo o un oggetto specifico con un nome alternativo. Questo è utile quando il nome originale del modulo o della funzione è lungo o potrebbe entrare in conflitto con un altro nome già presente nello scope globale.\n",
    "   ```python\n",
    "   import my_very_long_module_name as short_name\n",
    "   from my_module import my_func as mf\n",
    "\n",
    "   short_name.my_func()\n",
    "   mf()\n",
    "   ```\n"
   ]
  },
  {
   "cell_type": "markdown",
   "metadata": {},
   "source": [
    "5. **Importazione da un sottomodulo**:\n",
    "    Usando la notazione a punti `.` (dot.notation) è possibile importare specifici oggetti da un sottomodulo contenuto all'interno di un modulo. È utile se il codice è organizzato in modo gerarchico e consente di accedere solo a ciò che è necessario dal sottomodulo specifico. Le cartelle e i nomi dei file dei moduli sono in pratica dei [namespace](https://it.wikipedia.org/wiki/Namespace).\n",
    "    ```python\n",
    "    from my_module.my_sub_module import my_obj\n",
    "    ```"
   ]
  },
  {
   "cell_type": "markdown",
   "metadata": {},
   "source": [
    "6. **Importazione di moduli o pacchetti relativi**:\n",
    "   All'interno di un pacchetto, puoi usare importazioni relative per importare altri moduli o pacchetti senza dover specificare il percorso completo. Le importazioni relative utilizzano il punto `.` per indicare il livello corrente o il doppio punto `..` per il livello superiore del pacchetto.\n",
    "   ```python\n",
    "   from . import my_sibling_module\n",
    "   from .my_sibling_module.my_sub_module import my_func\n",
    "   from .. import my_parent_module\n",
    "   ```"
   ]
  },
  {
   "cell_type": "markdown",
   "metadata": {},
   "source": [
    "7. **Importazione di tutti gli oggetti da un modulo**:\n",
    "   Questo pattern importa tutti i nomi pubblici definiti in un modulo direttamente nello spazio dei nomi corrente. Tuttavia, questo metodo è **ASSOLUTAMENTE SCONSIGLIATO** in quanto rendere il codice meno leggibile e può introdurre conflitti tra i nomi degli oggetti. Sicuramente da evitare con i moduli built-in e di terze parti, che possono/devono essere aggiornati, e il cui contenuto è destinato a cambiare nel tempo.\n",
    "\n",
    "   ```python\n",
    "   from my_module import *\n",
    "\n",
    "   ??? Ora cosa uso ???\n",
    "   ```\n"
   ]
  },
  {
   "cell_type": "markdown",
   "metadata": {},
   "source": [
    "## Altri pattern più avanzati"
   ]
  },
  {
   "cell_type": "markdown",
   "metadata": {},
   "source": [
    "8. **Importazione ritardata** (*lazy import*):\n",
    "   Anche se di norma è consigliabile, non è obbligatorio importare tutti gli oggetti all'inizio del tuo script. Sei libero di ritardare l'importazione di un modulo fino a quando non è effettivamente necessario. Questo può essere utile per ridurre i tempi di avvio di un'applicazione, specialmente se alcuni moduli sono usati raramente.\n",
    "   ```python\n",
    "   def my_function():\n",
    "       import my_heavy_module\n",
    "       my_heavy_module.do_something()\n",
    "   ```"
   ]
  },
  {
   "cell_type": "markdown",
   "metadata": {},
   "source": [
    "9. **Importazione condizionale**:\n",
    "    È importante mantenere un'alta la compatibilità e flessibilità del codice.\n",
    "\n",
    "   In alcuni casi, potresti voler importare moduli in modo condizionale. Ad esempio se vogliamo controllare che un modulo sia disponibile sul sistema, potremmo procedere nel seguente modo:\n",
    "   ```python\n",
    "    try:\n",
    "        import my_optional_module\n",
    "    except ImportError:\n",
    "        print('Il modulo \"my_optional_module\" non è installato.',\n",
    "              'La funzione relativa non sarà disponibile.')\n",
    "   ```\n",
    "\n",
    "    Altre volte, potrebbe essere necessario importare moduli diversi a seconda della versione di Python, di un modulo specifico o della piattaforma su cui il codice viene eseguito. Il pattern seguente è un tipico esempio:\n",
    "    ```python\n",
    "    import sys\n",
    "    if sys.version_info[0] < 3:\n",
    "        import old_module as module\n",
    "    else:\n",
    "        import new_module as module\n",
    "    ```\n"
   ]
  },
  {
   "cell_type": "markdown",
   "metadata": {},
   "source": [
    "10. **Importazione dinamica con `importlib`**:\n",
    "    Python fornisce il modulo `importlib` per controllare dinamicamente l'importazione di moduli. Questo è utile quando il nome del modulo da importare è noto solo a runtime.\n",
    "    ```python\n",
    "    import importlib\n",
    "    \n",
    "    my_module = importlib.import_module(\"my_module\")\n",
    "    \n",
    "    ```\n",
    "\n",
    "    Oltre a `importlib.import_module()`, puoi usare `importlib.reload()` per ricaricare dinamicamente un modulo. Questo è utile durante lo sviluppo e il testing quando il codice del modulo cambia frequentemente.\n",
    "    ```python\n",
    "    import my_module\n",
    "    from importlib import reload\n",
    "    \n",
    "    my_module.do_something()\n",
    "    ...\n",
    "    reload(my_module)\n",
    "    ```"
   ]
  }
 ],
 "metadata": {
  "kernelspec": {
   "display_name": ".venv",
   "language": "python",
   "name": "python3"
  },
  "language_info": {
   "codemirror_mode": {
    "name": "ipython",
    "version": 3
   },
   "file_extension": ".py",
   "mimetype": "text/x-python",
   "name": "python",
   "nbconvert_exporter": "python",
   "pygments_lexer": "ipython3",
   "version": "3.11.2"
  }
 },
 "nbformat": 4,
 "nbformat_minor": 2
}
