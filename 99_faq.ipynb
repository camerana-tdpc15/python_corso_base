{
 "cells": [
  {
   "cell_type": "markdown",
   "id": "053c2a41",
   "metadata": {
    "is_toc": true
   },
   "source": [
    "**Sommario**\n",
    "- [FAQ - Domande frequenti emerse durante i corsi](#faq---domande-frequenti-emerse-durante-i-corsi)\n",
    "  - [Qual è il significato delle icone di IntelliSense?](#qual-è-il-significato-delle-icone-di-intellisense?)\n",
    "  - [Confronto di uguaglianza su valori in virgola mobile](#confronto-di-uguaglianza-su-valori-in-virgola-mobile)\n",
    "    - [Uso di una soglia di tolleranza](#uso-di-una-soglia-di-tolleranza)\n",
    "    - [Uso di tipi decimali](#uso-di-tipi-decimali)\n",
    "    - [Uso della \"rappresentazione intera\"](#uso-della-rappresentazione-intera)\n",
    "  - [*Memory overhead*: grandi serie numeriche in Python e come NumPy può essere d'aiuto](#*memory-overhead*-grandi-serie-numeriche-in-python-e-come-numpy-può-essere-d'aiuto)\n",
    "  - [Operatore scelto dall'utente](#operatore-scelto-dall'utente)\n",
    "  - [Verificare l'esistenza di una variabile](#verificare-l'esistenza-di-una-variabile)\n",
    "  - [Come si può creare un binario *stand-alone* e ridistribuibile da uno script Python?](#come-si-può-creare-un-binario-*stand-alone*-e-ridistribuibile-da-uno-script-python?)\n",
    "  - [`print()` flush parameter](#print-flush-parameter)"
   ]
  },
  {
   "attachments": {},
   "cell_type": "markdown",
   "metadata": {},
   "source": [
    "# FAQ - Domande frequenti emerse durante i corsi"
   ]
  },
  {
   "attachments": {},
   "cell_type": "markdown",
   "metadata": {},
   "source": [
    "## Qual è il significato delle icone di IntelliSense?\n",
    "\n",
    "L'elenco lo trovi nella [documentazione ufficiale](https://code.visualstudio.com/docs/editor/intellisense#_types-of-completions)."
   ]
  },
  {
   "attachments": {},
   "cell_type": "markdown",
   "metadata": {},
   "source": [
    "## Confronto di uguaglianza su valori in virgola mobile\n",
    "\n",
    "Abbiamo visto che con i numeri in virgola mobile, il valore memorizzato internamente dall'oggetto `float` potrebbe non essere esattamente quello che si pensa che sia (es. `0.1 + 0.2`). Per questo motivo, non è una buona pratica confrontare direttamente i valori in virgola mobile per ottenere l'uguaglianza esatta. Si consideri questo esempio:\n",
    "```python\n",
    ">>> x = 1.1 + 2.2\n",
    ">>> x == 3.3\n",
    "False\n",
    "```\n",
    "Le rappresentazioni interne (binarie) degli operandi di questa addizione non sono esattamente uguali a `1.1` e `2.2`, quindi non si può fare affidamento su `x` per confrontarlo esattamente con `3.3.`"
   ]
  },
  {
   "cell_type": "markdown",
   "metadata": {},
   "source": [
    "### Uso di una soglia di tolleranza\n",
    "Il modo migliore per determinare se due valori in virgola mobile sono \"uguali\" è calcolare se sono vicini l'uno all'altro, con una certa tolleranza. Guardate questo esempio:\n",
    "\n",
    "```python\n",
    "TOLLERANZA = 0.00001\n",
    "x = 1.1 + 2.2\n",
    "abs(x - 3.3) < TOLLERANZA  # -> True\n",
    "```\n",
    "\n",
    "Che in pratica è come scrivere:\n",
    "```python\n",
    "abs((1.1 + 2.2) - 3.3) < 0.00001  # -> True\n",
    "```\n",
    "\n",
    "`abs()` restituisce il valore assoluto. Se il valore assoluto della differenza tra i due numeri è inferiore alla tolleranza specificata, i due numeri sono abbastanza vicini da essere considerati uguali.\n",
    "\n",
    "Può essere utili prepararsi una funzione ad hoc:\n",
    "\n",
    "```python\n",
    "TOLLERANZA = 0.00001\n",
    "\n",
    "def quasi_uguali(a, b):\n",
    "    return abs(a - b) < TOLLERANZA\n",
    "```"
   ]
  },
  {
   "cell_type": "markdown",
   "metadata": {},
   "source": [
    "### Uso di tipi decimali\n",
    "\n",
    "Quando la precisione è critica e non si possono tollerare errori nei confronti, si può optare per l'uso dei tipi di dato `Decimal` o `Fraction`. Possono essere utili in applicazioni finanziarie, matematiche o scientifiche dove la precisione è fondamentale.\n",
    "\n",
    "```python\n",
    "from decimal import Decimal\n",
    "\n",
    "a = Decimal('1.1')\n",
    "b = Decimal('2.2')\n",
    "c = Decimal('3.3')\n",
    "\n",
    "a + b == c  # -> True\n",
    "```\n"
   ]
  },
  {
   "cell_type": "markdown",
   "metadata": {},
   "source": [
    "### Uso della \"rappresentazione intera\"\n",
    "\n",
    "Per alcune applicazioni, è possibile convertire numeri in virgola mobile in interi, moltiplicandoli per un fattore di scala e arrotondandoli infine all'intero più vicino. Questo è un approccio pratico che funziona in molti ambiti quotidiani, quando non si hanno numeri molto grandi o molto piccoli ed è necessario un confronto esatto tra unità di misura discrete.\n",
    "\n",
    "Seguendo l'esempio precedente, per mantenere una \"tolleranza\" di `0.00001`, potremmo moltiplicare per `100_000` e poi arrotondare all'intero tutti i valori su cui dobbiamo fare i confronti.\n",
    "\n",
    "```python\n",
    "SCALA = 100_000\n",
    "\n",
    "a = 1.1\n",
    "b = 2.2\n",
    "r = 3.3\n",
    "\n",
    "round((a + b) * SCALA) == round(r * SCALA)  # -> True\n",
    "# 330000 == 330000\n",
    "```"
   ]
  },
  {
   "cell_type": "markdown",
   "metadata": {},
   "source": [
    "### Uso di `round`\n",
    "La funzione `round(numero, ndigits)` arrotonda `numero` alla `ndigits` cifra decimale. L'uso di `round` può essere utile per approssimare il risultato a un certo numero di cifre decimali, il che può essere sufficiente per alcune applicazioni dove la precisione non è critica o dove i numeri arrotondati sono sufficientemente vicini agli originali per gli scopi del problema.\n",
    "\n",
    "**Esempio:**\n",
    "```python\n",
    "round(0.1 + 0.2, 4) == 0.3  # True\n",
    "```\n",
    "Questo funziona bene in questo caso specifico, ma non garantisce che funzioni in tutti i casi, soprattutto con operazioni più complesse o con una catena più lunga di calcoli."
   ]
  },
  {
   "attachments": {},
   "cell_type": "markdown",
   "metadata": {},
   "source": [
    "## *Memory overhead*: grandi serie numeriche in Python e come NumPy può essere d'aiuto\n",
    "\n",
    "Supponiamo di voler memorizzare un elenco di numeri interi (ma lo stesso discorso vale per i float) in Python:\n",
    "\n",
    "```python\n",
    "lista_di_numeri = []\n",
    "per i in range(1000000):\n",
    "    lista_dei_numeri.append(i)\n",
    "```\n",
    "\n",
    "Questi numeri possono stare facilmente in un intero a 64 bit, quindi si potrebbe immaginare che Python memorizzi questi milioni di interi in non più di ~8MB: un milione di oggetti a 8 byte.\n",
    "\n",
    "In realtà, Python utilizza circa 35 MB di RAM per memorizzare questi numeri. Perché? Perché i numeri interi di Python sono oggetti e gli oggetti hanno un notevole [overhead](https://it.wikipedia.org/wiki/Overhead) di memoria. Discorso simile per i float:\n",
    "\n",
    "```\n",
    "32 bit\n",
    "int:   overhead = 10 bytes, value = 4 bytes\n",
    "float: overhead =  8 bytes, value = 8 bytes\n",
    "\n",
    "64 bit\n",
    "int:   overhead = 20 bytes, value = 8 bytes\n",
    "float: overhead = 16 bytes, value = 8 bytes\n",
    "```\n",
    "\n",
    "Se vogliamo bypassare questi problemi eliminando l'*overhead* (sovraccarico) e avere un controllo più a basso livello sui tipi di dato numerici ti consigli di utilizzare il modulo [NumPy](https://pypi.org/project/numpy/) o altri moduli simili studiati appositamente per la manipolazione di grandi serie numeriche."
   ]
  },
  {
   "attachments": {},
   "cell_type": "markdown",
   "metadata": {},
   "source": [
    "## Operatore scelto dall'utente"
   ]
  },
  {
   "cell_type": "code",
   "execution_count": null,
   "metadata": {},
   "outputs": [],
   "source": [
    "operatore_str = input()\n",
    "\n",
    "if   operatore_str == '>':\n",
    "    operatore = int.__gt__\n",
    "elif operatore_str == '<':\n",
    "    operatore = int.__lt__\n",
    "elif operatore_str == '<=':\n",
    "    operatore = int.__le__\n",
    "elif operatore_str == '>=':\n",
    "    operatore = int.__ge__\n",
    "elif operatore_str == '==':\n",
    "    operatore = int.__eq__\n",
    "elif operatore_str == '!=':\n",
    "    operatore = int.__ne__\n",
    "else:\n",
    "    raise TypeError('!!')\n",
    "    \n",
    "# operatore = int.__gt__ if condizione else int.__lt__\n",
    "\n",
    "operatore(3, 5)"
   ]
  },
  {
   "attachments": {},
   "cell_type": "markdown",
   "metadata": {},
   "source": [
    "## Verificare l'esistenza di una variabile"
   ]
  },
  {
   "cell_type": "code",
   "execution_count": 1,
   "metadata": {},
   "outputs": [],
   "source": [
    "myVar = object()"
   ]
  },
  {
   "attachments": {},
   "cell_type": "markdown",
   "metadata": {},
   "source": [
    "Per controllare l'esistenza di una variabile locale:"
   ]
  },
  {
   "cell_type": "code",
   "execution_count": 2,
   "metadata": {},
   "outputs": [
    {
     "data": {
      "text/plain": [
       "True"
      ]
     },
     "execution_count": 2,
     "metadata": {},
     "output_type": "execute_result"
    }
   ],
   "source": [
    "'myVar' in locals()"
   ]
  },
  {
   "attachments": {},
   "cell_type": "markdown",
   "metadata": {},
   "source": [
    "Per controllare l'esistenza di una variabile globale:"
   ]
  },
  {
   "cell_type": "code",
   "execution_count": 3,
   "metadata": {},
   "outputs": [
    {
     "data": {
      "text/plain": [
       "True"
      ]
     },
     "execution_count": 3,
     "metadata": {},
     "output_type": "execute_result"
    }
   ],
   "source": [
    "'myVar' in globals()"
   ]
  },
  {
   "attachments": {},
   "cell_type": "markdown",
   "metadata": {},
   "source": [
    "Per controllare se un oggetto ha un certo attrubuto o metodo:"
   ]
  },
  {
   "cell_type": "code",
   "execution_count": 5,
   "metadata": {},
   "outputs": [
    {
     "data": {
      "text/plain": [
       "True"
      ]
     },
     "execution_count": 5,
     "metadata": {},
     "output_type": "execute_result"
    }
   ],
   "source": [
    "hasattr(myVar, '__eq__')"
   ]
  },
  {
   "attachments": {},
   "cell_type": "markdown",
   "metadata": {},
   "source": [
    "Per ottenere una lista di tutti gli oggetti (attributi, metodi, funzioni, classi ecc.) contenuti in un namespace o in un oggetto:"
   ]
  },
  {
   "cell_type": "code",
   "execution_count": 6,
   "metadata": {},
   "outputs": [
    {
     "data": {
      "text/plain": [
       "['__class__',\n",
       " '__delattr__',\n",
       " '__dir__',\n",
       " '__doc__',\n",
       " '__eq__',\n",
       " '__format__',\n",
       " '__ge__',\n",
       " '__getattribute__',\n",
       " '__getstate__',\n",
       " '__gt__',\n",
       " '__hash__',\n",
       " '__init__',\n",
       " '__init_subclass__',\n",
       " '__le__',\n",
       " '__lt__',\n",
       " '__ne__',\n",
       " '__new__',\n",
       " '__reduce__',\n",
       " '__reduce_ex__',\n",
       " '__repr__',\n",
       " '__setattr__',\n",
       " '__sizeof__',\n",
       " '__str__',\n",
       " '__subclasshook__']"
      ]
     },
     "execution_count": 6,
     "metadata": {},
     "output_type": "execute_result"
    }
   ],
   "source": [
    "dir(myVar)"
   ]
  },
  {
   "attachments": {},
   "cell_type": "markdown",
   "metadata": {},
   "source": [
    "## Come si può creare un binario *stand-alone* e ridistribuibile da uno script Python?\n",
    "\n",
    "\n",
    "Non è necessario compilare Python in codice C se si vuole solo rendere *stand alone* un programma, in modo che gli utenti possano scaricarlo ed eseguirlo senza dover prima installare la distribuzione Python (ed eventualmente anche tutte le nostre dipendenze). Esistono diversi strumenti che determinano l'insieme dei moduli richiesti da un programma e li legano a un binario Python per produrre un singolo eseguibile.\n",
    "\n",
    "Uno di questi è lo strumento `freeze`, incluso nella cartella delle sorgenti di Python sotto \"Tools/freeze\". Converte il *bytecode* di Python in degli array C; con un compilatore C si possono incorporare tutti i moduli in un nuovo programma, che viene poi collegato ai moduli standard di Python.\n",
    "\n",
    "Per approfondire questo argomento puoi [partire da qua](https://docs.python.org/3/faq/programming.html#how-can-i-create-a-stand-alone-binary-from-a-python-script\n",
    ").\n",
    "\n",
    "I seguenti pacchetti possono aiutare nella creazione di eseguibili per console e GUI:\n",
    "\n",
    "- [Nuitka](https://nuitka.net/) (Cross-platform)\n",
    "- [PyInstaller](https://pyinstaller.org/) (Cross-platform)\n",
    "- [PyOxidizer](https://pyoxidizer.readthedocs.io/en/stable/) (Cross-platform)\n",
    "- [cx_Freeze](https://marcelotduarte.github.io/cx_Freeze/) (Cross-platform)\n",
    "- [py2app](https://github.com/ronaldoussoren/py2app) (macOS only)\n",
    "- [py2exe](https://www.py2exe.org/) (Windows only)\n",
    "\n"
   ]
  },
  {
   "attachments": {},
   "cell_type": "markdown",
   "metadata": {},
   "source": [
    "## `print()` flush parameter\n",
    "\n",
    "@see https://realpython.com/python-flush-print-output/\n",
    "\n",
    "```python\n",
    "# On unix xxecute as:\n",
    "# $ python3 print_flush_countdown.py | cat\n",
    "# On windows execute as:\n",
    "# $ py print_flush_countdown.py | echo\n",
    "\n",
    "from time import sleep\n",
    "\n",
    "for second in range(3, 0, -1):\n",
    "    print(second)\n",
    "    sleep(1)\n",
    "print(\"Go!\")\n",
    "\n",
    "for second in range(3, 0, -1):\n",
    "    print(second, flush=True)\n",
    "    sleep(1)\n",
    "print(\"Go!\")\n",
    "```"
   ]
  },
  {
   "attachments": {},
   "cell_type": "markdown",
   "metadata": {},
   "source": [
    "Gli esempi seguenti sono da provare nella shell Python standard. Ipython sembra fare sempre flush."
   ]
  },
  {
   "cell_type": "code",
   "execution_count": null,
   "metadata": {},
   "outputs": [
    {
     "name": "stdout",
     "output_type": "stream",
     "text": [
      "3\n",
      "2\n",
      "1\n"
     ]
    },
    {
     "data": {
      "text/plain": [
       "'Go!'"
      ]
     },
     "metadata": {},
     "output_type": "display_data"
    }
   ],
   "source": [
    "from time import sleep\n",
    "\n",
    "for second in range(3, 0, -1):\n",
    "    print(second)\n",
    "    sleep(1)\n",
    "print(\"Go!\")"
   ]
  },
  {
   "cell_type": "code",
   "execution_count": null,
   "metadata": {},
   "outputs": [
    {
     "name": "stdout",
     "output_type": "stream",
     "text": [
      "3 2 1 "
     ]
    },
    {
     "data": {
      "text/plain": [
       "'Go!'"
      ]
     },
     "metadata": {},
     "output_type": "display_data"
    }
   ],
   "source": [
    "for second in range(3, 0, -1):\n",
    "    print(second, end=\" \")\n",
    "    sleep(1)\n",
    "print(\"Go!\")"
   ]
  },
  {
   "cell_type": "code",
   "execution_count": null,
   "metadata": {},
   "outputs": [
    {
     "name": "stdout",
     "output_type": "stream",
     "text": [
      "3 2 1 "
     ]
    },
    {
     "data": {
      "text/plain": [
       "'Go!'"
      ]
     },
     "metadata": {},
     "output_type": "display_data"
    }
   ],
   "source": [
    "for second in range(3, 0, -1):\n",
    "    print(second, end=\" \", flush=True)\n",
    "    sleep(1)\n",
    "print(\"Go!\")"
   ]
  }
 ],
 "metadata": {
  "kernelspec": {
   "display_name": ".venv",
   "language": "python",
   "name": "python3"
  },
  "language_info": {
   "codemirror_mode": {
    "name": "ipython",
    "version": 3
   },
   "file_extension": ".py",
   "mimetype": "text/x-python",
   "name": "python",
   "nbconvert_exporter": "python",
   "pygments_lexer": "ipython3",
   "version": "3.11.2"
  },
  "vscode": {
   "interpreter": {
    "hash": "2ee8feb14874889d298f091c1c46af49a735548d706099f3c4c08b46fdc23e5c"
   }
  }
 },
 "nbformat": 4,
 "nbformat_minor": 2
}
